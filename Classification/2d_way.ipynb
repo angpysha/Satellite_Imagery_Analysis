{
 "cells": [
  {
   "cell_type": "code",
   "execution_count": 1,
   "metadata": {
    "collapsed": true
   },
   "outputs": [
    {
     "data": {
      "text/plain": "{'divide': 'warn', 'over': 'warn', 'under': 'ignore', 'invalid': 'warn'}"
     },
     "execution_count": 1,
     "metadata": {},
     "output_type": "execute_result"
    }
   ],
   "source": [
    "from glob import glob\n",
    "\n",
    "import earthpy as et\n",
    "import earthpy.spatial as es\n",
    "import earthpy.plot as ep\n",
    "\n",
    "import rasterio as rio\n",
    "from rasterio.plot import plotting_extent\n",
    "from rasterio.plot import show\n",
    "from rasterio.plot import reshape_as_raster, reshape_as_image\n",
    "\n",
    "import matplotlib.pyplot as plt\n",
    "import numpy as np\n",
    "from matplotlib.colors import ListedColormap\n",
    "\n",
    "from scipy.io import loadmat\n",
    "from sklearn.metrics import classification_report, accuracy_score\n",
    "\n",
    "import plotly.graph_objects as go\n",
    "\n",
    "np.seterr(divide='ignore', invalid='ignore')"
   ]
  },
  {
   "cell_type": "code",
   "execution_count": 2,
   "outputs": [],
   "source": [
    "def getFiles(basePath):\n",
    "    files =  glob(basePath);\n",
    "    files.sort();\n",
    "    return files;"
   ],
   "metadata": {
    "collapsed": false
   }
  },
  {
   "cell_type": "code",
   "execution_count": 3,
   "outputs": [],
   "source": [
    "def getFilesNew(basePath):\n",
    "    dirs = glob(basePath+\"/*/\")\n",
    "    #print(dirs)\n",
    "    for _dir in dirs:\n",
    "        files = glob(_dir+\"*B?*.tiff\")\n",
    "        #print(files)\n",
    "        yield files"
   ],
   "metadata": {
    "collapsed": false
   }
  },
  {
   "cell_type": "code",
   "execution_count": 4,
   "outputs": [
    {
     "data": {
      "text/plain": "[['/tmp/shared/sentianel2dataset3/forest/1/2022-08-24-00_00_2022-08-24-23_59_Sentinel-2_L2A_B02_(Raw).tiff',\n  '/tmp/shared/sentianel2dataset3/forest/1/2022-08-24-00_00_2022-08-24-23_59_Sentinel-2_L2A_B12_(Raw).tiff',\n  '/tmp/shared/sentianel2dataset3/forest/1/2022-08-24-00_00_2022-08-24-23_59_Sentinel-2_L2A_B8A_(Raw).tiff',\n  '/tmp/shared/sentianel2dataset3/forest/1/2022-08-24-00_00_2022-08-24-23_59_Sentinel-2_L2A_B07_(Raw).tiff',\n  '/tmp/shared/sentianel2dataset3/forest/1/2022-08-24-00_00_2022-08-24-23_59_Sentinel-2_L2A_B05_(Raw).tiff',\n  '/tmp/shared/sentianel2dataset3/forest/1/2022-08-24-00_00_2022-08-24-23_59_Sentinel-2_L2A_B08_(Raw).tiff',\n  '/tmp/shared/sentianel2dataset3/forest/1/2022-08-24-00_00_2022-08-24-23_59_Sentinel-2_L2A_B09_(Raw).tiff',\n  '/tmp/shared/sentianel2dataset3/forest/1/2022-08-24-00_00_2022-08-24-23_59_Sentinel-2_L2A_B11_(Raw).tiff',\n  '/tmp/shared/sentianel2dataset3/forest/1/2022-08-24-00_00_2022-08-24-23_59_Sentinel-2_L2A_B03_(Raw).tiff',\n  '/tmp/shared/sentianel2dataset3/forest/1/2022-08-24-00_00_2022-08-24-23_59_Sentinel-2_L2A_B01_(Raw).tiff',\n  '/tmp/shared/sentianel2dataset3/forest/1/2022-08-24-00_00_2022-08-24-23_59_Sentinel-2_L2A_B04_(Raw).tiff',\n  '/tmp/shared/sentianel2dataset3/forest/1/2022-08-24-00_00_2022-08-24-23_59_Sentinel-2_L2A_B06_(Raw).tiff'],\n ['/tmp/shared/sentianel2dataset3/forest/3/2022-08-25-00_00_2022-08-25-23_59_Sentinel-2_L2A_B05_(Raw).tiff',\n  '/tmp/shared/sentianel2dataset3/forest/3/2022-08-25-00_00_2022-08-25-23_59_Sentinel-2_L2A_B08_(Raw).tiff',\n  '/tmp/shared/sentianel2dataset3/forest/3/2022-08-25-00_00_2022-08-25-23_59_Sentinel-2_L2A_B03_(Raw).tiff',\n  '/tmp/shared/sentianel2dataset3/forest/3/2022-08-25-00_00_2022-08-25-23_59_Sentinel-2_L2A_B12_(Raw).tiff',\n  '/tmp/shared/sentianel2dataset3/forest/3/2022-08-25-00_00_2022-08-25-23_59_Sentinel-2_L2A_B06_(Raw).tiff',\n  '/tmp/shared/sentianel2dataset3/forest/3/2022-08-25-00_00_2022-08-25-23_59_Sentinel-2_L2A_B07_(Raw).tiff',\n  '/tmp/shared/sentianel2dataset3/forest/3/2022-08-25-00_00_2022-08-25-23_59_Sentinel-2_L2A_B11_(Raw).tiff',\n  '/tmp/shared/sentianel2dataset3/forest/3/2022-08-25-00_00_2022-08-25-23_59_Sentinel-2_L2A_B09_(Raw).tiff',\n  '/tmp/shared/sentianel2dataset3/forest/3/2022-08-25-00_00_2022-08-25-23_59_Sentinel-2_L2A_B01_(Raw).tiff',\n  '/tmp/shared/sentianel2dataset3/forest/3/2022-08-25-00_00_2022-08-25-23_59_Sentinel-2_L2A_B04_(Raw).tiff',\n  '/tmp/shared/sentianel2dataset3/forest/3/2022-08-25-00_00_2022-08-25-23_59_Sentinel-2_L2A_B02_(Raw).tiff',\n  '/tmp/shared/sentianel2dataset3/forest/3/2022-08-25-00_00_2022-08-25-23_59_Sentinel-2_L2A_B8A_(Raw).tiff'],\n ['/tmp/shared/sentianel2dataset3/forest/2/2022-08-25-00_00_2022-08-25-23_59_Sentinel-2_L2A_B05_(Raw).tiff',\n  '/tmp/shared/sentianel2dataset3/forest/2/2022-08-25-00_00_2022-08-25-23_59_Sentinel-2_L2A_B08_(Raw).tiff',\n  '/tmp/shared/sentianel2dataset3/forest/2/2022-08-25-00_00_2022-08-25-23_59_Sentinel-2_L2A_B03_(Raw).tiff',\n  '/tmp/shared/sentianel2dataset3/forest/2/2022-08-25-00_00_2022-08-25-23_59_Sentinel-2_L2A_B12_(Raw).tiff',\n  '/tmp/shared/sentianel2dataset3/forest/2/2022-08-25-00_00_2022-08-25-23_59_Sentinel-2_L2A_B06_(Raw).tiff',\n  '/tmp/shared/sentianel2dataset3/forest/2/2022-08-25-00_00_2022-08-25-23_59_Sentinel-2_L2A_B07_(Raw).tiff',\n  '/tmp/shared/sentianel2dataset3/forest/2/2022-08-25-00_00_2022-08-25-23_59_Sentinel-2_L2A_B11_(Raw).tiff',\n  '/tmp/shared/sentianel2dataset3/forest/2/2022-08-25-00_00_2022-08-25-23_59_Sentinel-2_L2A_B09_(Raw).tiff',\n  '/tmp/shared/sentianel2dataset3/forest/2/2022-08-25-00_00_2022-08-25-23_59_Sentinel-2_L2A_B01_(Raw).tiff',\n  '/tmp/shared/sentianel2dataset3/forest/2/2022-08-25-00_00_2022-08-25-23_59_Sentinel-2_L2A_B04_(Raw).tiff',\n  '/tmp/shared/sentianel2dataset3/forest/2/2022-08-25-00_00_2022-08-25-23_59_Sentinel-2_L2A_B02_(Raw).tiff',\n  '/tmp/shared/sentianel2dataset3/forest/2/2022-08-25-00_00_2022-08-25-23_59_Sentinel-2_L2A_B8A_(Raw).tiff']]"
     },
     "execution_count": 4,
     "metadata": {},
     "output_type": "execute_result"
    }
   ],
   "source": [
    "S_sentinel_bands_forest = list(getFilesNew(\"/tmp/shared/sentianel2dataset3/forest\"))\n",
    "S_sentinel_bands_forest"
   ],
   "metadata": {
    "collapsed": false
   }
  },
  {
   "cell_type": "code",
   "execution_count": 5,
   "outputs": [
    {
     "data": {
      "text/plain": "[['/tmp/shared/sentianel2dataset3/town/1/2022-08-10-00_00_2022-08-10-23_59_Sentinel-2_L2A_B02_(Raw).tiff',\n  '/tmp/shared/sentianel2dataset3/town/1/2022-08-10-00_00_2022-08-10-23_59_Sentinel-2_L2A_B06_(Raw).tiff',\n  '/tmp/shared/sentianel2dataset3/town/1/2022-08-10-00_00_2022-08-10-23_59_Sentinel-2_L2A_B08_(Raw).tiff',\n  '/tmp/shared/sentianel2dataset3/town/1/2022-08-10-00_00_2022-08-10-23_59_Sentinel-2_L2A_B11_(Raw).tiff',\n  '/tmp/shared/sentianel2dataset3/town/1/2022-08-10-00_00_2022-08-10-23_59_Sentinel-2_L2A_B01_(Raw).tiff',\n  '/tmp/shared/sentianel2dataset3/town/1/2022-08-10-00_00_2022-08-10-23_59_Sentinel-2_L2A_B07_(Raw).tiff',\n  '/tmp/shared/sentianel2dataset3/town/1/2022-08-10-00_00_2022-08-10-23_59_Sentinel-2_L2A_B04_(Raw).tiff',\n  '/tmp/shared/sentianel2dataset3/town/1/2022-08-10-00_00_2022-08-10-23_59_Sentinel-2_L2A_B12_(Raw).tiff',\n  '/tmp/shared/sentianel2dataset3/town/1/2022-08-10-00_00_2022-08-10-23_59_Sentinel-2_L2A_B8A_(Raw).tiff',\n  '/tmp/shared/sentianel2dataset3/town/1/2022-08-10-00_00_2022-08-10-23_59_Sentinel-2_L2A_B05_(Raw).tiff',\n  '/tmp/shared/sentianel2dataset3/town/1/2022-08-10-00_00_2022-08-10-23_59_Sentinel-2_L2A_B03_(Raw).tiff',\n  '/tmp/shared/sentianel2dataset3/town/1/2022-08-10-00_00_2022-08-10-23_59_Sentinel-2_L2A_B09_(Raw).tiff']]"
     },
     "execution_count": 5,
     "metadata": {},
     "output_type": "execute_result"
    }
   ],
   "source": [
    "S_sentinel_bands_town = list(getFilesNew(\"/tmp/shared/sentianel2dataset3/town\"))\n",
    "S_sentinel_bands_town"
   ],
   "metadata": {
    "collapsed": false
   }
  },
  {
   "cell_type": "code",
   "execution_count": 6,
   "outputs": [
    {
     "data": {
      "text/plain": "[['/tmp/shared/sentianel2dataset3/water/1/2022-08-30-00_00_2022-08-30-23_59_Sentinel-2_L2A_B06_(Raw).tiff',\n  '/tmp/shared/sentianel2dataset3/water/1/2022-08-30-00_00_2022-08-30-23_59_Sentinel-2_L2A_B05_(Raw).tiff',\n  '/tmp/shared/sentianel2dataset3/water/1/2022-08-30-00_00_2022-08-30-23_59_Sentinel-2_L2A_B03_(Raw).tiff',\n  '/tmp/shared/sentianel2dataset3/water/1/2022-08-30-00_00_2022-08-30-23_59_Sentinel-2_L2A_B8A_(Raw).tiff',\n  '/tmp/shared/sentianel2dataset3/water/1/2022-08-30-00_00_2022-08-30-23_59_Sentinel-2_L2A_B01_(Raw).tiff',\n  '/tmp/shared/sentianel2dataset3/water/1/2022-08-30-00_00_2022-08-30-23_59_Sentinel-2_L2A_B09_(Raw).tiff',\n  '/tmp/shared/sentianel2dataset3/water/1/2022-08-30-00_00_2022-08-30-23_59_Sentinel-2_L2A_B12_(Raw).tiff',\n  '/tmp/shared/sentianel2dataset3/water/1/2022-08-30-00_00_2022-08-30-23_59_Sentinel-2_L2A_B04_(Raw).tiff',\n  '/tmp/shared/sentianel2dataset3/water/1/2022-08-30-00_00_2022-08-30-23_59_Sentinel-2_L2A_B07_(Raw).tiff',\n  '/tmp/shared/sentianel2dataset3/water/1/2022-08-30-00_00_2022-08-30-23_59_Sentinel-2_L2A_B08_(Raw).tiff',\n  '/tmp/shared/sentianel2dataset3/water/1/2022-08-30-00_00_2022-08-30-23_59_Sentinel-2_L2A_B11_(Raw).tiff',\n  '/tmp/shared/sentianel2dataset3/water/1/2022-08-30-00_00_2022-08-30-23_59_Sentinel-2_L2A_B02_(Raw).tiff'],\n ['/tmp/shared/sentianel2dataset3/water/3/2022-08-28-00_00_2022-08-28-23_59_Sentinel-2_L2A_B04_(Raw).tiff',\n  '/tmp/shared/sentianel2dataset3/water/3/2022-08-28-00_00_2022-08-28-23_59_Sentinel-2_L2A_B08_(Raw).tiff',\n  '/tmp/shared/sentianel2dataset3/water/3/2022-08-28-00_00_2022-08-28-23_59_Sentinel-2_L2A_B09_(Raw).tiff',\n  '/tmp/shared/sentianel2dataset3/water/3/2022-08-28-00_00_2022-08-28-23_59_Sentinel-2_L2A_B05_(Raw).tiff',\n  '/tmp/shared/sentianel2dataset3/water/3/2022-08-28-00_00_2022-08-28-23_59_Sentinel-2_L2A_B01_(Raw).tiff',\n  '/tmp/shared/sentianel2dataset3/water/3/2022-08-28-00_00_2022-08-28-23_59_Sentinel-2_L2A_B12_(Raw).tiff',\n  '/tmp/shared/sentianel2dataset3/water/3/2022-08-28-00_00_2022-08-28-23_59_Sentinel-2_L2A_B11_(Raw).tiff',\n  '/tmp/shared/sentianel2dataset3/water/3/2022-08-28-00_00_2022-08-28-23_59_Sentinel-2_L2A_B8A_(Raw).tiff',\n  '/tmp/shared/sentianel2dataset3/water/3/2022-08-28-00_00_2022-08-28-23_59_Sentinel-2_L2A_B06_(Raw).tiff',\n  '/tmp/shared/sentianel2dataset3/water/3/2022-08-28-00_00_2022-08-28-23_59_Sentinel-2_L2A_B03_(Raw).tiff',\n  '/tmp/shared/sentianel2dataset3/water/3/2022-08-28-00_00_2022-08-28-23_59_Sentinel-2_L2A_B02_(Raw).tiff',\n  '/tmp/shared/sentianel2dataset3/water/3/2022-08-28-00_00_2022-08-28-23_59_Sentinel-2_L2A_B07_(Raw).tiff'],\n ['/tmp/shared/sentianel2dataset3/water/2/2022-08-24-00_00_2022-08-24-23_59_Sentinel-2_L2A_B02_(Raw).tiff',\n  '/tmp/shared/sentianel2dataset3/water/2/2022-08-24-00_00_2022-08-24-23_59_Sentinel-2_L2A_B12_(Raw).tiff',\n  '/tmp/shared/sentianel2dataset3/water/2/2022-08-24-00_00_2022-08-24-23_59_Sentinel-2_L2A_B8A_(Raw).tiff',\n  '/tmp/shared/sentianel2dataset3/water/2/2022-08-24-00_00_2022-08-24-23_59_Sentinel-2_L2A_B07_(Raw).tiff',\n  '/tmp/shared/sentianel2dataset3/water/2/2022-08-24-00_00_2022-08-24-23_59_Sentinel-2_L2A_B05_(Raw).tiff',\n  '/tmp/shared/sentianel2dataset3/water/2/2022-08-24-00_00_2022-08-24-23_59_Sentinel-2_L2A_B08_(Raw).tiff',\n  '/tmp/shared/sentianel2dataset3/water/2/2022-08-24-00_00_2022-08-24-23_59_Sentinel-2_L2A_B09_(Raw).tiff',\n  '/tmp/shared/sentianel2dataset3/water/2/2022-08-24-00_00_2022-08-24-23_59_Sentinel-2_L2A_B11_(Raw).tiff',\n  '/tmp/shared/sentianel2dataset3/water/2/2022-08-24-00_00_2022-08-24-23_59_Sentinel-2_L2A_B03_(Raw).tiff',\n  '/tmp/shared/sentianel2dataset3/water/2/2022-08-24-00_00_2022-08-24-23_59_Sentinel-2_L2A_B01_(Raw).tiff',\n  '/tmp/shared/sentianel2dataset3/water/2/2022-08-24-00_00_2022-08-24-23_59_Sentinel-2_L2A_B04_(Raw).tiff',\n  '/tmp/shared/sentianel2dataset3/water/2/2022-08-24-00_00_2022-08-24-23_59_Sentinel-2_L2A_B06_(Raw).tiff']]"
     },
     "execution_count": 6,
     "metadata": {},
     "output_type": "execute_result"
    }
   ],
   "source": [
    "S_sentinel_bands_water = list(getFilesNew(\"/tmp/shared/sentianel2dataset3/water\"))\n",
    "S_sentinel_bands_water"
   ],
   "metadata": {
    "collapsed": false
   }
  },
  {
   "cell_type": "code",
   "execution_count": 7,
   "outputs": [
    {
     "data": {
      "text/plain": "[['/tmp/shared/sentianel2dataset3/sands/1/2022-08-01-00_00_2022-08-01-23_59_Sentinel-2_L2A_B05_(Raw).tiff',\n  '/tmp/shared/sentianel2dataset3/sands/1/2022-08-01-00_00_2022-08-01-23_59_Sentinel-2_L2A_B09_(Raw).tiff',\n  '/tmp/shared/sentianel2dataset3/sands/1/2022-08-01-00_00_2022-08-01-23_59_Sentinel-2_L2A_B01_(Raw).tiff',\n  '/tmp/shared/sentianel2dataset3/sands/1/2022-08-01-00_00_2022-08-01-23_59_Sentinel-2_L2A_B04_(Raw).tiff',\n  '/tmp/shared/sentianel2dataset3/sands/1/2022-08-01-00_00_2022-08-01-23_59_Sentinel-2_L2A_B11_(Raw).tiff',\n  '/tmp/shared/sentianel2dataset3/sands/1/2022-08-01-00_00_2022-08-01-23_59_Sentinel-2_L2A_B12_(Raw).tiff',\n  '/tmp/shared/sentianel2dataset3/sands/1/2022-08-01-00_00_2022-08-01-23_59_Sentinel-2_L2A_B08_(Raw).tiff',\n  '/tmp/shared/sentianel2dataset3/sands/1/2022-08-01-00_00_2022-08-01-23_59_Sentinel-2_L2A_B8A_(Raw).tiff',\n  '/tmp/shared/sentianel2dataset3/sands/1/2022-08-01-00_00_2022-08-01-23_59_Sentinel-2_L2A_B07_(Raw).tiff',\n  '/tmp/shared/sentianel2dataset3/sands/1/2022-08-01-00_00_2022-08-01-23_59_Sentinel-2_L2A_B02_(Raw).tiff',\n  '/tmp/shared/sentianel2dataset3/sands/1/2022-08-01-00_00_2022-08-01-23_59_Sentinel-2_L2A_B06_(Raw).tiff',\n  '/tmp/shared/sentianel2dataset3/sands/1/2022-08-01-00_00_2022-08-01-23_59_Sentinel-2_L2A_B03_(Raw).tiff']]"
     },
     "execution_count": 7,
     "metadata": {},
     "output_type": "execute_result"
    }
   ],
   "source": [
    "S_sentinel_bands_sands = list(getFilesNew(\"/tmp/shared/sentianel2dataset3/sands\"))\n",
    "S_sentinel_bands_sands"
   ],
   "metadata": {
    "collapsed": false
   }
  },
  {
   "cell_type": "code",
   "execution_count": 8,
   "outputs": [
    {
     "data": {
      "text/plain": "[['/tmp/shared/sentianel2dataset3/field/1/2022-08-28-00_00_2022-08-28-23_59_Sentinel-2_L2A_B04_(Raw).tiff',\n  '/tmp/shared/sentianel2dataset3/field/1/2022-08-28-00_00_2022-08-28-23_59_Sentinel-2_L2A_B08_(Raw).tiff',\n  '/tmp/shared/sentianel2dataset3/field/1/2022-08-28-00_00_2022-08-28-23_59_Sentinel-2_L2A_B09_(Raw).tiff',\n  '/tmp/shared/sentianel2dataset3/field/1/2022-08-28-00_00_2022-08-28-23_59_Sentinel-2_L2A_B05_(Raw).tiff',\n  '/tmp/shared/sentianel2dataset3/field/1/2022-08-28-00_00_2022-08-28-23_59_Sentinel-2_L2A_B01_(Raw).tiff',\n  '/tmp/shared/sentianel2dataset3/field/1/2022-08-28-00_00_2022-08-28-23_59_Sentinel-2_L2A_B12_(Raw).tiff',\n  '/tmp/shared/sentianel2dataset3/field/1/2022-08-28-00_00_2022-08-28-23_59_Sentinel-2_L2A_B11_(Raw).tiff',\n  '/tmp/shared/sentianel2dataset3/field/1/2022-08-28-00_00_2022-08-28-23_59_Sentinel-2_L2A_B8A_(Raw).tiff',\n  '/tmp/shared/sentianel2dataset3/field/1/2022-08-28-00_00_2022-08-28-23_59_Sentinel-2_L2A_B06_(Raw).tiff',\n  '/tmp/shared/sentianel2dataset3/field/1/2022-08-28-00_00_2022-08-28-23_59_Sentinel-2_L2A_B03_(Raw).tiff',\n  '/tmp/shared/sentianel2dataset3/field/1/2022-08-28-00_00_2022-08-28-23_59_Sentinel-2_L2A_B02_(Raw).tiff',\n  '/tmp/shared/sentianel2dataset3/field/1/2022-08-28-00_00_2022-08-28-23_59_Sentinel-2_L2A_B07_(Raw).tiff']]"
     },
     "execution_count": 8,
     "metadata": {},
     "output_type": "execute_result"
    }
   ],
   "source": [
    "S_sentinel_bands_field = list(getFilesNew(\"/tmp/shared/sentianel2dataset3/field\"))\n",
    "S_sentinel_bands_field"
   ],
   "metadata": {
    "collapsed": false
   }
  },
  {
   "cell_type": "code",
   "execution_count": 9,
   "outputs": [],
   "source": [
    "def getFilesArrayNew(paths):\n",
    "    l = []\n",
    "    for i in paths:\n",
    "        s = []\n",
    "        for j in i:\n",
    "            with rio.open(j, 'r') as f:\n",
    "                s.append(f.read(1))\n",
    "        l.append(s)\n",
    "    arr_st_new = np.stack(l)\n",
    "    return  arr_st_new"
   ],
   "metadata": {
    "collapsed": false
   }
  },
  {
   "cell_type": "code",
   "execution_count": 74,
   "outputs": [],
   "source": [
    "forest_st = getFilesArrayNew(S_sentinel_bands_forest);"
   ],
   "metadata": {
    "collapsed": false
   }
  },
  {
   "cell_type": "code",
   "execution_count": 75,
   "outputs": [],
   "source": [
    "town_st = getFilesArrayNew(S_sentinel_bands_town);"
   ],
   "metadata": {
    "collapsed": false
   }
  },
  {
   "cell_type": "code",
   "execution_count": 76,
   "outputs": [],
   "source": [
    "sands_st = getFilesArrayNew(S_sentinel_bands_sands);"
   ],
   "metadata": {
    "collapsed": false
   }
  },
  {
   "cell_type": "code",
   "execution_count": 77,
   "outputs": [],
   "source": [
    "water_st = getFilesArrayNew(S_sentinel_bands_water);"
   ],
   "metadata": {
    "collapsed": false
   }
  },
  {
   "cell_type": "code",
   "execution_count": 78,
   "outputs": [],
   "source": [
    "field_st = getFilesArrayNew(S_sentinel_bands_field);"
   ],
   "metadata": {
    "collapsed": false
   }
  },
  {
   "cell_type": "code",
   "execution_count": 79,
   "outputs": [],
   "source": [
    "def cropImages(images):\n",
    "    return images[:,:,0:760,0:1200]"
   ],
   "metadata": {
    "collapsed": false
   }
  },
  {
   "cell_type": "code",
   "execution_count": 80,
   "outputs": [],
   "source": [
    "town_st = cropImages(town_st)\n",
    "water_st = cropImages(water_st)\n",
    "forest_st = cropImages(forest_st)\n",
    "sands_st = cropImages(sands_st)\n",
    "field_st = cropImages(field_st)"
   ],
   "metadata": {
    "collapsed": false
   }
  },
  {
   "cell_type": "code",
   "execution_count": 15,
   "outputs": [],
   "source": [
    "def reshapeImages(images):\n",
    "    shape = images.shape\n",
    "    return  np.reshape(images, (shape[1],shape[2],shape[3]*shape[0]))"
   ],
   "metadata": {
    "collapsed": false
   }
  },
  {
   "cell_type": "code",
   "execution_count": 81,
   "outputs": [],
   "source": [
    "town_st = reshapeImages(town_st)"
   ],
   "metadata": {
    "collapsed": false
   }
  },
  {
   "cell_type": "code",
   "execution_count": 82,
   "outputs": [],
   "source": [
    "water_st = reshapeImages(water_st)"
   ],
   "metadata": {
    "collapsed": false
   }
  },
  {
   "cell_type": "code",
   "execution_count": 83,
   "outputs": [],
   "source": [
    "forest_st = reshapeImages(forest_st)"
   ],
   "metadata": {
    "collapsed": false
   }
  },
  {
   "cell_type": "code",
   "execution_count": 84,
   "outputs": [],
   "source": [
    "sands_st = reshapeImages(sands_st)"
   ],
   "metadata": {
    "collapsed": false
   }
  },
  {
   "cell_type": "code",
   "execution_count": 85,
   "outputs": [],
   "source": [
    "field_st = reshapeImages(field_st)"
   ],
   "metadata": {
    "collapsed": false
   }
  },
  {
   "cell_type": "code",
   "execution_count": 86,
   "outputs": [
    {
     "data": {
      "text/plain": "(760, 3600, 12)"
     },
     "execution_count": 86,
     "metadata": {},
     "output_type": "execute_result"
    }
   ],
   "source": [
    "x_forest = np.moveaxis(forest_st, 0, -1);\n",
    "x_forest.shape"
   ],
   "metadata": {
    "collapsed": false
   }
  },
  {
   "cell_type": "code",
   "execution_count": 87,
   "outputs": [
    {
     "data": {
      "text/plain": "(760, 1200, 12)"
     },
     "execution_count": 87,
     "metadata": {},
     "output_type": "execute_result"
    }
   ],
   "source": [
    "x_sands = np.moveaxis(sands_st, 0, -1);\n",
    "x_sands.shape"
   ],
   "metadata": {
    "collapsed": false
   }
  },
  {
   "cell_type": "code",
   "execution_count": 88,
   "outputs": [
    {
     "data": {
      "text/plain": "(760, 1200, 12)"
     },
     "execution_count": 88,
     "metadata": {},
     "output_type": "execute_result"
    }
   ],
   "source": [
    "x_town = np.moveaxis(town_st, 0, -1);\n",
    "x_town.shape"
   ],
   "metadata": {
    "collapsed": false
   }
  },
  {
   "cell_type": "code",
   "execution_count": 89,
   "outputs": [
    {
     "data": {
      "text/plain": "(760, 3600, 12)"
     },
     "execution_count": 89,
     "metadata": {},
     "output_type": "execute_result"
    }
   ],
   "source": [
    "x_water = np.moveaxis(water_st, 0, -1);\n",
    "x_water.shape"
   ],
   "metadata": {
    "collapsed": false
   }
  },
  {
   "cell_type": "code",
   "execution_count": 90,
   "outputs": [
    {
     "data": {
      "text/plain": "(760, 1200, 12)"
     },
     "execution_count": 90,
     "metadata": {},
     "output_type": "execute_result"
    }
   ],
   "source": [
    "x_field = np.moveaxis(field_st, 0, -1);\n",
    "x_field.shape"
   ],
   "metadata": {
    "collapsed": false
   }
  },
  {
   "cell_type": "code",
   "execution_count": 123,
   "outputs": [],
   "source": [
    "def reshapeToTwoD(arr):\n",
    "    return arr.reshape(8,8,-1,12)"
   ],
   "metadata": {
    "collapsed": false
   }
  },
  {
   "cell_type": "code",
   "execution_count": 124,
   "outputs": [],
   "source": [
    "xx_field = reshapeToTwoD(x_field)"
   ],
   "metadata": {
    "collapsed": false
   }
  },
  {
   "cell_type": "code",
   "execution_count": 125,
   "outputs": [],
   "source": [
    "xx_sands = reshapeToTwoD(x_sands)"
   ],
   "metadata": {
    "collapsed": false
   }
  },
  {
   "cell_type": "code",
   "execution_count": 126,
   "outputs": [],
   "source": [
    "xx_town = reshapeToTwoD(x_town)"
   ],
   "metadata": {
    "collapsed": false
   }
  },
  {
   "cell_type": "code",
   "execution_count": 127,
   "outputs": [],
   "source": [
    "xx_water = reshapeToTwoD(x_water)"
   ],
   "metadata": {
    "collapsed": false
   }
  },
  {
   "cell_type": "code",
   "execution_count": 128,
   "outputs": [],
   "source": [
    "xx_forest = reshapeToTwoD(x_forest)"
   ],
   "metadata": {
    "collapsed": false
   }
  },
  {
   "cell_type": "code",
   "execution_count": 129,
   "outputs": [
    {
     "data": {
      "text/plain": "(8, 8, 128250, 12)"
     },
     "execution_count": 129,
     "metadata": {},
     "output_type": "execute_result"
    }
   ],
   "source": [
    "x_train = np.append(xx_field, xx_sands, axis=2)\n",
    "x_train = np.append(x_train, xx_town, axis=2)\n",
    "x_train = np.append(x_train, xx_water, axis=2)\n",
    "x_train = np.append(x_train, xx_forest, axis=2)\n",
    "x_train.shape"
   ],
   "metadata": {
    "collapsed": false
   }
  },
  {
   "cell_type": "code",
   "execution_count": 130,
   "outputs": [],
   "source": [
    "y_data_field = np.full((xx_field.shape[0],xx_field.shape[1],xx_field.shape[2]),1)\n",
    "y_data_sands = np.full((xx_sands.shape[0],xx_sands.shape[1],xx_sands.shape[2]),2)\n",
    "y_data_town = np.full((xx_town.shape[0],xx_town.shape[1],xx_town.shape[2]),3)\n",
    "y_data_water = np.full((xx_water.shape[0],xx_water.shape[1],xx_water.shape[2]),4)\n",
    "y_data_forest = np.full((xx_forest.shape[0],xx_forest.shape[1],xx_forest.shape[2]),5)\n"
   ],
   "metadata": {
    "collapsed": false
   }
  },
  {
   "cell_type": "code",
   "execution_count": 131,
   "outputs": [
    {
     "data": {
      "text/plain": "(8, 8, 128250)"
     },
     "execution_count": 131,
     "metadata": {},
     "output_type": "execute_result"
    }
   ],
   "source": [
    "y_data = np.append(y_data_field, y_data_sands, axis=2)\n",
    "y_data = np.append(y_data, y_data_town, axis=2)\n",
    "y_data = np.append(y_data, y_data_water, axis=2)\n",
    "y_data = np.append(y_data, y_data_forest, axis=2)\n",
    "y_data.shape\n"
   ],
   "metadata": {
    "collapsed": false
   }
  },
  {
   "cell_type": "code",
   "execution_count": 132,
   "outputs": [],
   "source": [
    "percentage = 10\n",
    "\n",
    "train_length = int(y_data.shape[2]*0.9)\n",
    "x_data_train = x_train[:,:,0:train_length,:]\n",
    "y_data_train = y_data[:,:,0:train_length]\n",
    "x_data_test = x_train[:,:,train_length+1:y_data.shape[2],:]\n",
    "y_data_test = y_data[:,:,train_length+1:y_data.shape[2]]"
   ],
   "metadata": {
    "collapsed": false
   }
  },
  {
   "cell_type": "code",
   "execution_count": 163,
   "outputs": [],
   "source": [
    "std = np.std(x_train)\n",
    "mean= np.mean(x_train)\n",
    "\n",
    "x_train-=mean\n",
    "#x_data-=mean\n",
    "x_train/=std\n",
    "# x_data_test/=std"
   ],
   "metadata": {
    "collapsed": false
   }
  },
  {
   "cell_type": "code",
   "execution_count": 164,
   "outputs": [],
   "source": [
    "y_data = np.moveaxis(y_data_train,-1,0)"
   ],
   "metadata": {
    "collapsed": false
   }
  },
  {
   "cell_type": "code",
   "execution_count": 165,
   "outputs": [],
   "source": [
    "y_data_train_cate = np_utils.to_categorical(y_data)"
   ],
   "metadata": {
    "collapsed": false
   }
  },
  {
   "cell_type": "code",
   "execution_count": 166,
   "outputs": [
    {
     "data": {
      "text/plain": "(115425, 8, 8, 6)"
     },
     "execution_count": 166,
     "metadata": {},
     "output_type": "execute_result"
    }
   ],
   "source": [
    "y_data_train_cate.shape"
   ],
   "metadata": {
    "collapsed": false
   }
  },
  {
   "cell_type": "code",
   "execution_count": 105,
   "outputs": [],
   "source": [
    "import numpy as np # linear algebra\n",
    "import pandas as pd # data processing, CSV file I/O (e.g. pd.read_csv)\n",
    "import matplotlib.pyplot as plt\n",
    "import pandas as pd"
   ],
   "metadata": {
    "collapsed": false
   }
  },
  {
   "cell_type": "code",
   "execution_count": 106,
   "outputs": [],
   "source": [
    "#Let's import some important Libraries\n",
    "import tensorflow as tf\n",
    "from keras.models import Sequential\n",
    "from keras.layers import Dense\n",
    "from keras.utils import np_utils"
   ],
   "metadata": {
    "collapsed": false
   }
  },
  {
   "cell_type": "code",
   "execution_count": 308,
   "outputs": [],
   "source": [
    "from keras.layers import *\n",
    "from keras.layers.convolutional import Conv2D\n",
    "from keras.layers.pooling import MaxPooling2D\n",
    "#Image Dimensions\n",
    "width=8\n",
    "height=8\n",
    "channels=12\n",
    "\n",
    "model=Sequential()\n",
    "model.add(Conv2D(32,(3,3),padding='same',input_shape=(8,8,12)))\n",
    "model.add(Dropout(0.2))\n",
    "model.add(Activation('relu'))\n",
    "model.add(MaxPooling2D(pool_size=(2,2)))\n",
    "model.add(Conv2D(64,(3,3), padding='same'))\n",
    "model.add(Activation('relu'))\n",
    "#We are naming this layer, as we will extract features from it in future, JUST WAIT !!!\n",
    "model.add(MaxPooling2D(pool_size=(2,2),name='feature_layer'))\n",
    "model.add(Conv2D(128,(3,3), padding='same'))\n",
    "# model.add(Activation('relu'))\n",
    "model.add(UpSampling2D((2,2)))\n",
    "model.add(Conv2D(256,(3,3), padding='same'))\n",
    "# model.add(Activation('relu'))\n",
    "model.add(UpSampling2D((2,2)))\n",
    "#model.add(Dropout(0.5))\n",
    "model.add(Conv2D(6,(1,1),padding='same'))\n",
    "model.add(Activation('relu'))\n",
    "# model.add(Flatten())\n",
    "# model.add(Dense(24))\n",
    "# model.add(Activation('relu'))\n",
    "# model.add(Dropout(0.5))\n",
    "# model.add(Dense(6))\n",
    "model.add(Dense(6))\n",
    "model.add(Reshape((-1,6)))\n",
    "model.add(Activation('softmax'))\n",
    "model.compile(loss='categorical_crossentropy',optimizer='rmsprop',metrics=['accuracy','MeanSquaredError'])\n",
    "#Let's prepare the data for 2D-CNN\n"
   ],
   "metadata": {
    "collapsed": false
   }
  },
  {
   "cell_type": "code",
   "execution_count": 309,
   "outputs": [
    {
     "name": "stdout",
     "output_type": "stream",
     "text": [
      "Model: \"sequential_25\"\n",
      "_________________________________________________________________\n",
      " Layer (type)                Output Shape              Param #   \n",
      "=================================================================\n",
      " conv2d_129 (Conv2D)         (None, 8, 8, 32)          3488      \n",
      "                                                                 \n",
      " dropout_35 (Dropout)        (None, 8, 8, 32)          0         \n",
      "                                                                 \n",
      " activation_85 (Activation)  (None, 8, 8, 32)          0         \n",
      "                                                                 \n",
      " max_pooling2d_34 (MaxPoolin  (None, 4, 4, 32)         0         \n",
      " g2D)                                                            \n",
      "                                                                 \n",
      " conv2d_130 (Conv2D)         (None, 4, 4, 64)          18496     \n",
      "                                                                 \n",
      " activation_86 (Activation)  (None, 4, 4, 64)          0         \n",
      "                                                                 \n",
      " feature_layer (MaxPooling2D  (None, 2, 2, 64)         0         \n",
      " )                                                               \n",
      "                                                                 \n",
      " conv2d_131 (Conv2D)         (None, 2, 2, 128)         73856     \n",
      "                                                                 \n",
      " up_sampling2d_38 (UpSamplin  (None, 4, 4, 128)        0         \n",
      " g2D)                                                            \n",
      "                                                                 \n",
      " conv2d_132 (Conv2D)         (None, 4, 4, 256)         295168    \n",
      "                                                                 \n",
      " up_sampling2d_39 (UpSamplin  (None, 8, 8, 256)        0         \n",
      " g2D)                                                            \n",
      "                                                                 \n",
      " conv2d_133 (Conv2D)         (None, 8, 8, 6)           1542      \n",
      "                                                                 \n",
      " activation_87 (Activation)  (None, 8, 8, 6)           0         \n",
      "                                                                 \n",
      " dense_20 (Dense)            (None, 8, 8, 6)           42        \n",
      "                                                                 \n",
      " reshape_18 (Reshape)        (None, 64, 6)             0         \n",
      "                                                                 \n",
      " activation_88 (Activation)  (None, 64, 6)             0         \n",
      "                                                                 \n",
      "=================================================================\n",
      "Total params: 392,592\n",
      "Trainable params: 392,592\n",
      "Non-trainable params: 0\n",
      "_________________________________________________________________\n"
     ]
    }
   ],
   "source": [
    "model.summary()"
   ],
   "metadata": {
    "collapsed": false
   }
  },
  {
   "cell_type": "code",
   "execution_count": 257,
   "outputs": [],
   "source": [
    "model_new = tf.keras.models.Sequential([\n",
    "    Conv2D(32,(3,3),padding='same',input_shape=(8,8,12)),\n",
    "    Dropout(0.2),\n",
    "    Activation('relu'),\n",
    "    MaxPooling2D(pool_size=(2,2)),\n",
    "    Conv2D(64,(3,3), padding='same'),\n",
    "    Activation('relu'),\n",
    "    #We are naming this layer, as we will extract features from it in future, JUST WAIT !!!\n",
    "    MaxPooling2D(pool_size=(2,2),name='feature_layer'),\n",
    "    UpSampling2D((4,4)),\n",
    "    Conv2D(6,(1,1),padding='same'),\n",
    "    Activation('relu'),\n",
    "    # model.add(Flatten())\n",
    "    # model.add(Dense(24))\n",
    "    # model.add(Activation('relu'))\n",
    "    # model.add(Dropout(0.5))\n",
    "    # model.add(Dense(6))\n",
    "    Dense(6),\n",
    "    Reshape((-1,6)),\n",
    "    Activation('softmax'),\n",
    "])"
   ],
   "metadata": {
    "collapsed": false
   }
  },
  {
   "cell_type": "code",
   "execution_count": 258,
   "outputs": [],
   "source": [
    "model_new.compile(loss='categorical_crossentropy',optimizer='rmsprop',metrics=['accuracy','MeanSquaredError'])"
   ],
   "metadata": {
    "collapsed": false
   }
  },
  {
   "cell_type": "code",
   "execution_count": 259,
   "outputs": [
    {
     "name": "stdout",
     "output_type": "stream",
     "text": [
      "Model: \"sequential_18\"\n",
      "_________________________________________________________________\n",
      " Layer (type)                Output Shape              Param #   \n",
      "=================================================================\n",
      " conv2d_99 (Conv2D)          (None, 8, 8, 32)          3488      \n",
      "                                                                 \n",
      " dropout_27 (Dropout)        (None, 8, 8, 32)          0         \n",
      "                                                                 \n",
      " activation_55 (Activation)  (None, 8, 8, 32)          0         \n",
      "                                                                 \n",
      " max_pooling2d_27 (MaxPoolin  (None, 4, 4, 32)         0         \n",
      " g2D)                                                            \n",
      "                                                                 \n",
      " conv2d_100 (Conv2D)         (None, 4, 4, 64)          18496     \n",
      "                                                                 \n",
      " activation_56 (Activation)  (None, 4, 4, 64)          0         \n",
      "                                                                 \n",
      " feature_layer (MaxPooling2D  (None, 2, 2, 64)         0         \n",
      " )                                                               \n",
      "                                                                 \n",
      " up_sampling2d_27 (UpSamplin  (None, 8, 8, 64)         0         \n",
      " g2D)                                                            \n",
      "                                                                 \n",
      " conv2d_101 (Conv2D)         (None, 8, 8, 6)           390       \n",
      "                                                                 \n",
      " activation_57 (Activation)  (None, 8, 8, 6)           0         \n",
      "                                                                 \n",
      " dense_12 (Dense)            (None, 8, 8, 6)           42        \n",
      "                                                                 \n",
      " reshape_11 (Reshape)        (None, 64, 6)             0         \n",
      "                                                                 \n",
      " activation_58 (Activation)  (None, 64, 6)             0         \n",
      "                                                                 \n",
      "=================================================================\n",
      "Total params: 22,416\n",
      "Trainable params: 22,416\n",
      "Non-trainable params: 0\n",
      "_________________________________________________________________\n"
     ]
    }
   ],
   "source": [
    "model_new.summary()"
   ],
   "metadata": {
    "collapsed": false
   }
  },
  {
   "cell_type": "code",
   "execution_count": 169,
   "outputs": [
    {
     "name": "stdout",
     "output_type": "stream",
     "text": [
      "(8, 8, 115425, 12)\n"
     ]
    }
   ],
   "source": [
    "print(x_data_train.shape)\n",
    "x_data = np.moveaxis(x_train,-1,2)\n",
    "#x_data_Test = np.moveaxis(x_data_test,-1,2)\n",
    "x_data = np.moveaxis(x_train,-1,0)\n",
    "#x_data_Test = np.moveaxis(x_data_Test, -1,0)\n",
    "#print(x_data_Test.shape)"
   ],
   "metadata": {
    "collapsed": false
   }
  },
  {
   "cell_type": "code",
   "execution_count": 138,
   "outputs": [
    {
     "name": "stdout",
     "output_type": "stream",
     "text": [
      "(8, 8, 115425)\n",
      "(115425, 8, 8)\n"
     ]
    }
   ],
   "source": [
    "print(y_data_train.shape)\n",
    "y_data = np.moveaxis(y_data_train, -1,0)\n",
    "print(y_data_Train.shape)"
   ],
   "metadata": {
    "collapsed": false
   }
  },
  {
   "cell_type": "code",
   "execution_count": 170,
   "outputs": [],
   "source": [
    "yy_train = y_data_train_cate.reshape(-1,64,6)"
   ],
   "metadata": {
    "collapsed": false
   }
  },
  {
   "cell_type": "code",
   "execution_count": 171,
   "outputs": [
    {
     "data": {
      "text/plain": "(115425, 64, 6)"
     },
     "execution_count": 171,
     "metadata": {},
     "output_type": "execute_result"
    }
   ],
   "source": [
    "yy_train.shape"
   ],
   "metadata": {
    "collapsed": false
   }
  },
  {
   "cell_type": "code",
   "execution_count": 172,
   "outputs": [],
   "source": [
    "tf.config.run_functions_eagerly(True)"
   ],
   "metadata": {
    "collapsed": false
   }
  },
  {
   "cell_type": "code",
   "execution_count": 263,
   "outputs": [],
   "source": [
    "import tensorflow as tf\n",
    "import datetime\n",
    "log_dir = \"logs/fit/\" + datetime.datetime.now().strftime(\"%Y%m%d-%H%M%S\")\n",
    "tensorboard_callback = tf.keras.callbacks.TensorBoard(log_dir=log_dir, histogram_freq=1)"
   ],
   "metadata": {
    "collapsed": false
   }
  },
  {
   "cell_type": "code",
   "execution_count": 323,
   "outputs": [
    {
     "name": "stderr",
     "output_type": "stream",
     "text": [
      "UsageError: Line magic function `%tensorboard` not found.\n"
     ]
    }
   ],
   "source": [
    "%tensorboard --logdir logs/fit"
   ],
   "metadata": {
    "collapsed": false
   }
  },
  {
   "cell_type": "code",
   "execution_count": 310,
   "outputs": [
    {
     "name": "stdout",
     "output_type": "stream",
     "text": [
      "Epoch 1/25\n"
     ]
    },
    {
     "name": "stderr",
     "output_type": "stream",
     "text": [
      "/usr/local/lib/python3.8/dist-packages/tensorflow/python/data/ops/structured_function.py:264: UserWarning: Even though the `tf.config.experimental_run_functions_eagerly` option is set, this option does not apply to tf.data functions. To force eager execution of tf.data functions, please use `tf.data.experimental.enable_debug_mode()`.\n",
      "  warnings.warn(\n"
     ]
    },
    {
     "name": "stdout",
     "output_type": "stream",
     "text": [
      "203/203 [==============================] - 31s 151ms/step - loss: 0.0809 - accuracy: 0.9676 - mean_squared_error: 0.0064 - val_loss: 2.7539e-07 - val_accuracy: 1.0000 - val_mean_squared_error: 1.4431e-13\n",
      "Epoch 2/25\n",
      "203/203 [==============================] - 33s 163ms/step - loss: 1.5926e-08 - accuracy: 1.0000 - mean_squared_error: 6.1670e-15 - val_loss: 7.0780e-08 - val_accuracy: 1.0000 - val_mean_squared_error: 8.9150e-15\n",
      "Epoch 3/25\n",
      "203/203 [==============================] - 33s 162ms/step - loss: 5.9664e-09 - accuracy: 1.0000 - mean_squared_error: 9.3314e-15 - val_loss: 7.2159e-08 - val_accuracy: 1.0000 - val_mean_squared_error: 8.7301e-15\n",
      "Epoch 4/25\n",
      "203/203 [==============================] - 33s 162ms/step - loss: 4.8746e-09 - accuracy: 1.0000 - mean_squared_error: 2.3361e-15 - val_loss: 6.2633e-08 - val_accuracy: 1.0000 - val_mean_squared_error: 6.8664e-15\n",
      "Epoch 5/25\n",
      "203/203 [==============================] - 33s 161ms/step - loss: 3.3789e-09 - accuracy: 1.0000 - mean_squared_error: 4.2545e-15 - val_loss: 6.3474e-08 - val_accuracy: 1.0000 - val_mean_squared_error: 7.2075e-15\n",
      "Epoch 6/25\n",
      "203/203 [==============================] - 34s 167ms/step - loss: 2.1810e-09 - accuracy: 1.0000 - mean_squared_error: 8.6755e-16 - val_loss: 5.6099e-08 - val_accuracy: 1.0000 - val_mean_squared_error: 5.4920e-15\n",
      "Epoch 7/25\n",
      "203/203 [==============================] - 34s 170ms/step - loss: 1.6012e-09 - accuracy: 1.0000 - mean_squared_error: 9.8262e-16 - val_loss: 5.0781e-08 - val_accuracy: 1.0000 - val_mean_squared_error: 4.7279e-15\n",
      "Epoch 8/25\n",
      "203/203 [==============================] - 35s 171ms/step - loss: 1.1513e-09 - accuracy: 1.0000 - mean_squared_error: 8.7048e-16 - val_loss: 4.6488e-08 - val_accuracy: 1.0000 - val_mean_squared_error: 4.1475e-15\n",
      "Epoch 9/25\n",
      "203/203 [==============================] - 35s 172ms/step - loss: 8.0615e-10 - accuracy: 1.0000 - mean_squared_error: 6.9125e-16 - val_loss: 4.0365e-08 - val_accuracy: 1.0000 - val_mean_squared_error: 3.3780e-15\n",
      "Epoch 10/25\n",
      "203/203 [==============================] - 35s 175ms/step - loss: 5.7062e-10 - accuracy: 1.0000 - mean_squared_error: 6.7217e-16 - val_loss: 3.1646e-08 - val_accuracy: 1.0000 - val_mean_squared_error: 2.4424e-15\n",
      "Epoch 11/25\n",
      "203/203 [==============================] - 36s 175ms/step - loss: 4.2093e-10 - accuracy: 1.0000 - mean_squared_error: 7.8892e-16 - val_loss: 2.6059e-08 - val_accuracy: 1.0000 - val_mean_squared_error: 1.9712e-15\n",
      "Epoch 12/25\n",
      "203/203 [==============================] - 33s 165ms/step - loss: 3.0302e-10 - accuracy: 1.0000 - mean_squared_error: 6.2470e-16 - val_loss: 2.1064e-08 - val_accuracy: 1.0000 - val_mean_squared_error: 1.6347e-15\n",
      "Epoch 13/25\n",
      "203/203 [==============================] - 33s 162ms/step - loss: 2.4773e-10 - accuracy: 1.0000 - mean_squared_error: 6.2084e-16 - val_loss: 1.7838e-08 - val_accuracy: 1.0000 - val_mean_squared_error: 1.4455e-15\n",
      "Epoch 14/25\n",
      "203/203 [==============================] - 32s 159ms/step - loss: 1.7055e-10 - accuracy: 1.0000 - mean_squared_error: 6.4635e-16 - val_loss: 1.5085e-08 - val_accuracy: 1.0000 - val_mean_squared_error: 1.3011e-15\n",
      "Epoch 15/25\n",
      "203/203 [==============================] - 33s 163ms/step - loss: 1.4301e-10 - accuracy: 1.0000 - mean_squared_error: 6.1844e-16 - val_loss: 1.2669e-08 - val_accuracy: 1.0000 - val_mean_squared_error: 1.1789e-15\n",
      "Epoch 16/25\n",
      "203/203 [==============================] - 33s 163ms/step - loss: 1.1454e-10 - accuracy: 1.0000 - mean_squared_error: 6.0828e-16 - val_loss: 1.0398e-08 - val_accuracy: 1.0000 - val_mean_squared_error: 1.0709e-15\n",
      "Epoch 17/25\n",
      "203/203 [==============================] - 33s 163ms/step - loss: 8.6855e-11 - accuracy: 1.0000 - mean_squared_error: 6.0310e-16 - val_loss: 7.7746e-09 - val_accuracy: 1.0000 - val_mean_squared_error: 9.4973e-16\n",
      "Epoch 18/25\n",
      "203/203 [==============================] - 33s 163ms/step - loss: 6.6988e-11 - accuracy: 1.0000 - mean_squared_error: 6.0275e-16 - val_loss: 6.5598e-09 - val_accuracy: 1.0000 - val_mean_squared_error: 8.9547e-16\n",
      "Epoch 19/25\n",
      "203/203 [==============================] - 34s 166ms/step - loss: 5.1998e-11 - accuracy: 1.0000 - mean_squared_error: 5.9879e-16 - val_loss: 5.0908e-09 - val_accuracy: 1.0000 - val_mean_squared_error: 8.2983e-16\n",
      "Epoch 20/25\n",
      "203/203 [==============================] - 33s 163ms/step - loss: 3.7008e-11 - accuracy: 1.0000 - mean_squared_error: 5.9762e-16 - val_loss: 3.5881e-09 - val_accuracy: 1.0000 - val_mean_squared_error: 7.6322e-16\n",
      "Epoch 21/25\n",
      "203/203 [==============================] - 34s 165ms/step - loss: 3.2203e-11 - accuracy: 1.0000 - mean_squared_error: 5.9572e-16 - val_loss: 2.7884e-09 - val_accuracy: 1.0000 - val_mean_squared_error: 7.2777e-16\n",
      "Epoch 22/25\n",
      "203/203 [==============================] - 32s 160ms/step - loss: 2.6752e-11 - accuracy: 1.0000 - mean_squared_error: 5.9531e-16 - val_loss: 2.1216e-09 - val_accuracy: 1.0000 - val_mean_squared_error: 6.9789e-16\n",
      "Epoch 23/25\n",
      "203/203 [==============================] - 33s 161ms/step - loss: 2.6322e-11 - accuracy: 1.0000 - mean_squared_error: 5.9684e-16 - val_loss: 1.3845e-09 - val_accuracy: 1.0000 - val_mean_squared_error: 6.6437e-16\n",
      "Epoch 24/25\n",
      "203/203 [==============================] - 34s 165ms/step - loss: 1.9437e-11 - accuracy: 1.0000 - mean_squared_error: 5.9519e-16 - val_loss: 1.0353e-09 - val_accuracy: 1.0000 - val_mean_squared_error: 6.4841e-16\n",
      "Epoch 25/25\n",
      "203/203 [==============================] - 33s 163ms/step - loss: 1.8648e-11 - accuracy: 1.0000 - mean_squared_error: 5.9503e-16 - val_loss: 7.3841e-10 - val_accuracy: 1.0000 - val_mean_squared_error: 6.3457e-16\n"
     ]
    }
   ],
   "source": [
    "history=model.fit(x_data_Train,yy_train,epochs=25,batch_size=512,validation_split=0.1,callbacks=[tensorboard_callback])"
   ],
   "metadata": {
    "collapsed": false
   }
  },
  {
   "cell_type": "code",
   "execution_count": 321,
   "outputs": [],
   "source": [
    "save_path = \"/tmp/shared/cnn_knn_plus2_70.h5\"\n",
    "model.save(save_path)"
   ],
   "metadata": {
    "collapsed": false
   }
  },
  {
   "cell_type": "code",
   "execution_count": 322,
   "outputs": [
    {
     "data": {
      "text/plain": "<Figure size 640x480 with 1 Axes>",
      "image/png": "[encoded data removed]"
     },
     "metadata": {},
     "output_type": "display_data"
    }
   ],
   "source": [
    "#history.history\n",
    "plt.plot(history.history['accuracy'])\n",
    "plt.plot(history.history['val_accuracy'])\n",
    "plt.title('Model Accuracy')\n",
    "plt.ylabel('Accuracy')\n",
    "plt.xlabel('#f Iterations')\n",
    "plt.legend(['Train', 'Test'], loc='upper left')\n",
    "plt.show()"
   ],
   "metadata": {
    "collapsed": false
   }
  },
  {
   "cell_type": "code",
   "execution_count": 175,
   "outputs": [
    {
     "data": {
      "text/plain": "<Figure size 640x480 with 1 Axes>",
      "image/png": "[encoded data removed]"
     },
     "metadata": {},
     "output_type": "display_data"
    }
   ],
   "source": [
    "plt.plot(history.history['loss'])\n",
    "plt.plot(history.history['val_loss'])\n",
    "plt.title('Model Loss')\n",
    "plt.ylabel('Loss')\n",
    "plt.xlabel('#f Iterations')\n",
    "plt.legend(['Train', 'Test'], loc='upper left')\n",
    "plt.show()"
   ],
   "metadata": {
    "collapsed": false
   }
  },
  {
   "cell_type": "code",
   "execution_count": 149,
   "outputs": [
    {
     "name": "stdout",
     "output_type": "stream",
     "text": [
      "401/401 [==============================] - 2s 5ms/step\n"
     ]
    }
   ],
   "source": [
    "pred1 = model.predict(x_data_Test)"
   ],
   "metadata": {
    "collapsed": false
   }
  },
  {
   "cell_type": "code",
   "execution_count": 160,
   "outputs": [
    {
     "name": "stdout",
     "output_type": "stream",
     "text": [
      "(12824, 8, 8, 12)\n",
      "(12824, 64, 6)\n",
      "(8, 8, 12824)\n",
      "(820736,)\n",
      "(4924416,)\n"
     ]
    }
   ],
   "source": [
    "print(x_data_Test.shape)\n",
    "print(pred1.shape)\n",
    "print(y_data_test.shape)\n",
    "pred1_max = np.argmax(pred1,axis=2)\n",
    "pred1_max = pred1.reshape(-1)\n",
    "y_data_test2 = y_data_test.reshape(-1)\n",
    "#y_data_test2.shape\n",
    "print(y_data_test2.shape)\n",
    "print(pred1_max.shape)"
   ],
   "metadata": {
    "collapsed": false
   }
  },
  {
   "cell_type": "code",
   "execution_count": 151,
   "outputs": [
    {
     "ename": "NameError",
     "evalue": "name 'y_data_test2' is not defined",
     "output_type": "error",
     "traceback": [
      "\u001B[0;31m---------------------------------------------------------------------------\u001B[0m",
      "\u001B[0;31mNameError\u001B[0m                                 Traceback (most recent call last)",
      "Input \u001B[0;32mIn [151]\u001B[0m, in \u001B[0;36m<cell line: 1>\u001B[0;34m()\u001B[0m\n\u001B[0;32m----> 1\u001B[0m \u001B[43my_data_test2\u001B[49m\u001B[38;5;241m.\u001B[39mshape\n",
      "\u001B[0;31mNameError\u001B[0m: name 'y_data_test2' is not defined"
     ]
    }
   ],
   "source": [],
   "metadata": {
    "collapsed": false
   }
  },
  {
   "cell_type": "code",
   "execution_count": 158,
   "outputs": [
    {
     "ename": "ValueError",
     "evalue": "Found input variables with inconsistent numbers of samples: [4924416, 820736]",
     "output_type": "error",
     "traceback": [
      "\u001B[0;31m---------------------------------------------------------------------------\u001B[0m",
      "\u001B[0;31mValueError\u001B[0m                                Traceback (most recent call last)",
      "Input \u001B[0;32mIn [158]\u001B[0m, in \u001B[0;36m<cell line: 1>\u001B[0;34m()\u001B[0m\n\u001B[0;32m----> 1\u001B[0m \u001B[43maccuracy_score\u001B[49m\u001B[43m(\u001B[49m\u001B[43mpred1_max\u001B[49m\u001B[43m,\u001B[49m\u001B[43m \u001B[49m\u001B[43my_data_test2\u001B[49m\u001B[43m)\u001B[49m\n",
      "File \u001B[0;32m/usr/local/lib/python3.8/dist-packages/sklearn/metrics/_classification.py:211\u001B[0m, in \u001B[0;36maccuracy_score\u001B[0;34m(y_true, y_pred, normalize, sample_weight)\u001B[0m\n\u001B[1;32m    145\u001B[0m \u001B[38;5;124;03m\"\"\"Accuracy classification score.\u001B[39;00m\n\u001B[1;32m    146\u001B[0m \n\u001B[1;32m    147\u001B[0m \u001B[38;5;124;03mIn multilabel classification, this function computes subset accuracy:\u001B[39;00m\n\u001B[0;32m   (...)\u001B[0m\n\u001B[1;32m    207\u001B[0m \u001B[38;5;124;03m0.5\u001B[39;00m\n\u001B[1;32m    208\u001B[0m \u001B[38;5;124;03m\"\"\"\u001B[39;00m\n\u001B[1;32m    210\u001B[0m \u001B[38;5;66;03m# Compute accuracy for each possible representation\u001B[39;00m\n\u001B[0;32m--> 211\u001B[0m y_type, y_true, y_pred \u001B[38;5;241m=\u001B[39m \u001B[43m_check_targets\u001B[49m\u001B[43m(\u001B[49m\u001B[43my_true\u001B[49m\u001B[43m,\u001B[49m\u001B[43m \u001B[49m\u001B[43my_pred\u001B[49m\u001B[43m)\u001B[49m\n\u001B[1;32m    212\u001B[0m check_consistent_length(y_true, y_pred, sample_weight)\n\u001B[1;32m    213\u001B[0m \u001B[38;5;28;01mif\u001B[39;00m y_type\u001B[38;5;241m.\u001B[39mstartswith(\u001B[38;5;124m\"\u001B[39m\u001B[38;5;124mmultilabel\u001B[39m\u001B[38;5;124m\"\u001B[39m):\n",
      "File \u001B[0;32m/usr/local/lib/python3.8/dist-packages/sklearn/metrics/_classification.py:84\u001B[0m, in \u001B[0;36m_check_targets\u001B[0;34m(y_true, y_pred)\u001B[0m\n\u001B[1;32m     57\u001B[0m \u001B[38;5;28;01mdef\u001B[39;00m \u001B[38;5;21m_check_targets\u001B[39m(y_true, y_pred):\n\u001B[1;32m     58\u001B[0m     \u001B[38;5;124;03m\"\"\"Check that y_true and y_pred belong to the same classification task.\u001B[39;00m\n\u001B[1;32m     59\u001B[0m \n\u001B[1;32m     60\u001B[0m \u001B[38;5;124;03m    This converts multiclass or binary types to a common shape, and raises a\u001B[39;00m\n\u001B[0;32m   (...)\u001B[0m\n\u001B[1;32m     82\u001B[0m \u001B[38;5;124;03m    y_pred : array or indicator matrix\u001B[39;00m\n\u001B[1;32m     83\u001B[0m \u001B[38;5;124;03m    \"\"\"\u001B[39;00m\n\u001B[0;32m---> 84\u001B[0m     \u001B[43mcheck_consistent_length\u001B[49m\u001B[43m(\u001B[49m\u001B[43my_true\u001B[49m\u001B[43m,\u001B[49m\u001B[43m \u001B[49m\u001B[43my_pred\u001B[49m\u001B[43m)\u001B[49m\n\u001B[1;32m     85\u001B[0m     type_true \u001B[38;5;241m=\u001B[39m type_of_target(y_true, input_name\u001B[38;5;241m=\u001B[39m\u001B[38;5;124m\"\u001B[39m\u001B[38;5;124my_true\u001B[39m\u001B[38;5;124m\"\u001B[39m)\n\u001B[1;32m     86\u001B[0m     type_pred \u001B[38;5;241m=\u001B[39m type_of_target(y_pred, input_name\u001B[38;5;241m=\u001B[39m\u001B[38;5;124m\"\u001B[39m\u001B[38;5;124my_pred\u001B[39m\u001B[38;5;124m\"\u001B[39m)\n",
      "File \u001B[0;32m/usr/local/lib/python3.8/dist-packages/sklearn/utils/validation.py:387\u001B[0m, in \u001B[0;36mcheck_consistent_length\u001B[0;34m(*arrays)\u001B[0m\n\u001B[1;32m    385\u001B[0m uniques \u001B[38;5;241m=\u001B[39m np\u001B[38;5;241m.\u001B[39munique(lengths)\n\u001B[1;32m    386\u001B[0m \u001B[38;5;28;01mif\u001B[39;00m \u001B[38;5;28mlen\u001B[39m(uniques) \u001B[38;5;241m>\u001B[39m \u001B[38;5;241m1\u001B[39m:\n\u001B[0;32m--> 387\u001B[0m     \u001B[38;5;28;01mraise\u001B[39;00m \u001B[38;5;167;01mValueError\u001B[39;00m(\n\u001B[1;32m    388\u001B[0m         \u001B[38;5;124m\"\u001B[39m\u001B[38;5;124mFound input variables with inconsistent numbers of samples: \u001B[39m\u001B[38;5;132;01m%r\u001B[39;00m\u001B[38;5;124m\"\u001B[39m\n\u001B[1;32m    389\u001B[0m         \u001B[38;5;241m%\u001B[39m [\u001B[38;5;28mint\u001B[39m(l) \u001B[38;5;28;01mfor\u001B[39;00m l \u001B[38;5;129;01min\u001B[39;00m lengths]\n\u001B[1;32m    390\u001B[0m     )\n",
      "\u001B[0;31mValueError\u001B[0m: Found input variables with inconsistent numbers of samples: [4924416, 820736]"
     ]
    }
   ],
   "source": [
    "accuracy_score(pred1_max, y_data_test2)"
   ],
   "metadata": {
    "collapsed": false
   }
  },
  {
   "cell_type": "code",
   "execution_count": 191,
   "outputs": [
    {
     "name": "stdout",
     "output_type": "stream",
     "text": [
      "  1/268 [..............................] - ETA: 16s"
     ]
    },
    {
     "name": "stderr",
     "output_type": "stream",
     "text": [
      "/usr/local/lib/python3.8/dist-packages/tensorflow/python/data/ops/structured_function.py:264: UserWarning: Even though the `tf.config.experimental_run_functions_eagerly` option is set, this option does not apply to tf.data functions. To force eager execution of tf.data functions, please use `tf.data.experimental.enable_debug_mode()`.\n",
      "  warnings.warn(\n"
     ]
    },
    {
     "name": "stdout",
     "output_type": "stream",
     "text": [
      "268/268 [==============================] - 1s 3ms/step\n"
     ]
    }
   ],
   "source": [
    "from keras.models import Model\n",
    "new_model=Model(inputs=model.input,outputs=model.get_layer('feature_layer').output)\n",
    "test_xx = new_model.predict(x_data_Test)"
   ],
   "metadata": {
    "collapsed": false
   }
  },
  {
   "cell_type": "code",
   "execution_count": 192,
   "outputs": [
    {
     "data": {
      "text/plain": "(8549, 1, 1, 64)"
     },
     "execution_count": 192,
     "metadata": {},
     "output_type": "execute_result"
    }
   ],
   "source": [
    "test_xx.shape"
   ],
   "metadata": {
    "collapsed": false
   }
  },
  {
   "cell_type": "code",
   "execution_count": 48,
   "outputs": [
    {
     "name": "stdout",
     "output_type": "stream",
     "text": [
      "Collecting keras-segmentation\r\n",
      "  Downloading keras_segmentation-0.3.0.tar.gz (23 kB)\r\n",
      "  Preparing metadata (setup.py) ... \u001B[?25ldone\r\n",
      "\u001B[?25hRequirement already satisfied: Keras>=2.0.0 in /usr/local/lib/python3.8/dist-packages (from keras-segmentation) (2.9.0)\r\n",
      "Collecting imageio==2.5.0\r\n",
      "  Downloading imageio-2.5.0-py3-none-any.whl (3.3 MB)\r\n",
      "\u001B[2K     \u001B[90m━━━━━━━━━━━━━━━━━━━━━━━━━━━━━━━━━━━━━━━━\u001B[0m \u001B[32m3.3/3.3 MB\u001B[0m \u001B[31m10.1 MB/s\u001B[0m eta \u001B[36m0:00:00\u001B[0m00:01\u001B[0m00:01\u001B[0m\r\n",
      "\u001B[?25hCollecting imgaug==0.2.9\r\n",
      "  Downloading imgaug-0.2.9-py2.py3-none-any.whl (753 kB)\r\n",
      "\u001B[2K     \u001B[90m━━━━━━━━━━━━━━━━━━━━━━━━━━━━━━━━━━━━━━\u001B[0m \u001B[32m753.3/753.3 kB\u001B[0m \u001B[31m23.2 MB/s\u001B[0m eta \u001B[36m0:00:00\u001B[0m\r\n",
      "\u001B[?25hCollecting opencv-python\r\n",
      "  Downloading opencv_python-4.6.0.66-cp36-abi3-manylinux_2_17_x86_64.manylinux2014_x86_64.whl (60.9 MB)\r\n",
      "\u001B[2K     \u001B[90m━━━━━━━━━━━━━━━━━━━━━━━━━━━━━━━━━━━━━━━━\u001B[0m \u001B[32m60.9/60.9 MB\u001B[0m \u001B[31m5.7 MB/s\u001B[0m eta \u001B[36m0:00:00\u001B[0m:00:01\u001B[0m00:01\u001B[0m\r\n",
      "\u001B[?25hRequirement already satisfied: tqdm in /usr/local/lib/python3.8/dist-packages (from keras-segmentation) (4.64.0)\r\n",
      "Requirement already satisfied: pillow in /usr/local/lib/python3.8/dist-packages (from imageio==2.5.0->keras-segmentation) (9.2.0)\r\n",
      "Requirement already satisfied: numpy in /usr/local/lib/python3.8/dist-packages (from imageio==2.5.0->keras-segmentation) (1.23.2)\r\n",
      "Requirement already satisfied: six in /usr/local/lib/python3.8/dist-packages (from imgaug==0.2.9->keras-segmentation) (1.16.0)\r\n",
      "Requirement already satisfied: Shapely in /usr/local/lib/python3.8/dist-packages (from imgaug==0.2.9->keras-segmentation) (1.8.4)\r\n",
      "Requirement already satisfied: matplotlib in /usr/local/lib/python3.8/dist-packages (from imgaug==0.2.9->keras-segmentation) (3.5.3)\r\n",
      "Requirement already satisfied: scipy in /usr/local/lib/python3.8/dist-packages (from imgaug==0.2.9->keras-segmentation) (1.9.1)\r\n",
      "Requirement already satisfied: scikit-image>=0.11.0 in /usr/local/lib/python3.8/dist-packages (from imgaug==0.2.9->keras-segmentation) (0.19.3)\r\n",
      "Requirement already satisfied: PyWavelets>=1.1.1 in /usr/local/lib/python3.8/dist-packages (from scikit-image>=0.11.0->imgaug==0.2.9->keras-segmentation) (1.3.0)\r\n",
      "Requirement already satisfied: tifffile>=2019.7.26 in /usr/local/lib/python3.8/dist-packages (from scikit-image>=0.11.0->imgaug==0.2.9->keras-segmentation) (2022.8.12)\r\n",
      "Requirement already satisfied: packaging>=20.0 in /usr/local/lib/python3.8/dist-packages (from scikit-image>=0.11.0->imgaug==0.2.9->keras-segmentation) (21.3)\r\n",
      "Requirement already satisfied: networkx>=2.2 in /usr/local/lib/python3.8/dist-packages (from scikit-image>=0.11.0->imgaug==0.2.9->keras-segmentation) (2.8.6)\r\n",
      "Requirement already satisfied: python-dateutil>=2.7 in /usr/local/lib/python3.8/dist-packages (from matplotlib->imgaug==0.2.9->keras-segmentation) (2.8.2)\r\n",
      "Requirement already satisfied: cycler>=0.10 in /usr/local/lib/python3.8/dist-packages (from matplotlib->imgaug==0.2.9->keras-segmentation) (0.11.0)\r\n",
      "Requirement already satisfied: kiwisolver>=1.0.1 in /usr/local/lib/python3.8/dist-packages (from matplotlib->imgaug==0.2.9->keras-segmentation) (1.4.4)\r\n",
      "Requirement already satisfied: fonttools>=4.22.0 in /usr/local/lib/python3.8/dist-packages (from matplotlib->imgaug==0.2.9->keras-segmentation) (4.37.1)\r\n",
      "Requirement already satisfied: pyparsing>=2.2.1 in /usr/local/lib/python3.8/dist-packages (from matplotlib->imgaug==0.2.9->keras-segmentation) (3.0.9)\r\n",
      "Building wheels for collected packages: keras-segmentation\r\n",
      "  Building wheel for keras-segmentation (setup.py) ... \u001B[?25ldone\r\n",
      "\u001B[?25h  Created wheel for keras-segmentation: filename=keras_segmentation-0.3.0-py3-none-any.whl size=29063 sha256=8624703be3d3aef8dd0d120edd735371e7e265b3c344017208ac848eedfb121e\r\n",
      "  Stored in directory: /root/.cache/pip/wheels/8f/86/73/3dc66376905add0f57142bdd6e2117db5d4aa6340e34d039c7\r\n",
      "Successfully built keras-segmentation\r\n",
      "Installing collected packages: opencv-python, imageio, imgaug, keras-segmentation\r\n",
      "  Attempting uninstall: imageio\r\n",
      "    Found existing installation: imageio 2.21.2\r\n",
      "    Uninstalling imageio-2.21.2:\r\n",
      "      Successfully uninstalled imageio-2.21.2\r\n",
      "Successfully installed imageio-2.5.0 imgaug-0.2.9 keras-segmentation-0.3.0 opencv-python-4.6.0.66\r\n",
      "\u001B[33mWARNING: Running pip as the 'root' user can result in broken permissions and conflicting behaviour with the system package manager. It is recommended to use a virtual environment instead: https://pip.pypa.io/warnings/venv\u001B[0m\u001B[33m\r\n",
      "\u001B[0m--- Logging error ---\r\n",
      "Traceback (most recent call last):\r\n",
      "  File \"/usr/local/lib/python3.8/dist-packages/pip/_internal/utils/logging.py\", line 177, in emit\r\n",
      "    self.console.print(renderable, overflow=\"ignore\", crop=False, style=style)\r\n",
      "  File \"/usr/local/lib/python3.8/dist-packages/pip/_vendor/rich/console.py\", line 1673, in print\r\n",
      "    extend(render(renderable, render_options))\r\n",
      "  File \"/usr/local/lib/python3.8/dist-packages/pip/_vendor/rich/console.py\", line 1305, in render\r\n",
      "    for render_output in iter_render:\r\n",
      "  File \"/usr/local/lib/python3.8/dist-packages/pip/_internal/utils/logging.py\", line 134, in __rich_console__\r\n",
      "    for line in lines:\r\n",
      "  File \"/usr/local/lib/python3.8/dist-packages/pip/_vendor/rich/segment.py\", line 249, in split_lines\r\n",
      "    for segment in segments:\r\n",
      "  File \"/usr/local/lib/python3.8/dist-packages/pip/_vendor/rich/console.py\", line 1283, in render\r\n",
      "    renderable = rich_cast(renderable)\r\n",
      "  File \"/usr/local/lib/python3.8/dist-packages/pip/_vendor/rich/protocol.py\", line 36, in rich_cast\r\n",
      "    renderable = cast_method()\r\n",
      "  File \"/usr/local/lib/python3.8/dist-packages/pip/_internal/self_outdated_check.py\", line 130, in __rich__\r\n",
      "    pip_cmd = get_best_invocation_for_this_pip()\r\n",
      "  File \"/usr/local/lib/python3.8/dist-packages/pip/_internal/utils/entrypoints.py\", line 58, in get_best_invocation_for_this_pip\r\n",
      "    if found_executable and os.path.samefile(\r\n",
      "  File \"/usr/lib/python3.8/genericpath.py\", line 101, in samefile\r\n",
      "    s2 = os.stat(f2)\r\n",
      "FileNotFoundError: [Errno 2] No such file or directory: '/usr/bin/pip'\r\n",
      "Call stack:\r\n",
      "  File \"/usr/local/bin/pip\", line 8, in <module>\r\n",
      "    sys.exit(main())\r\n",
      "  File \"/usr/local/lib/python3.8/dist-packages/pip/_internal/cli/main.py\", line 70, in main\r\n",
      "    return command.main(cmd_args)\r\n",
      "  File \"/usr/local/lib/python3.8/dist-packages/pip/_internal/cli/base_command.py\", line 101, in main\r\n",
      "    return self._main(args)\r\n",
      "  File \"/usr/local/lib/python3.8/dist-packages/pip/_internal/cli/base_command.py\", line 223, in _main\r\n",
      "    self.handle_pip_version_check(options)\r\n",
      "  File \"/usr/local/lib/python3.8/dist-packages/pip/_internal/cli/req_command.py\", line 190, in handle_pip_version_check\r\n",
      "    pip_self_version_check(session, options)\r\n",
      "  File \"/usr/local/lib/python3.8/dist-packages/pip/_internal/self_outdated_check.py\", line 236, in pip_self_version_check\r\n",
      "    logger.warning(\"[present-rich] %s\", upgrade_prompt)\r\n",
      "  File \"/usr/lib/python3.8/logging/__init__.py\", line 1458, in warning\r\n",
      "    self._log(WARNING, msg, args, **kwargs)\r\n",
      "  File \"/usr/lib/python3.8/logging/__init__.py\", line 1589, in _log\r\n",
      "    self.handle(record)\r\n",
      "  File \"/usr/lib/python3.8/logging/__init__.py\", line 1599, in handle\r\n",
      "    self.callHandlers(record)\r\n",
      "  File \"/usr/lib/python3.8/logging/__init__.py\", line 1661, in callHandlers\r\n",
      "    hdlr.handle(record)\r\n",
      "  File \"/usr/lib/python3.8/logging/__init__.py\", line 954, in handle\r\n",
      "    self.emit(record)\r\n",
      "  File \"/usr/local/lib/python3.8/dist-packages/pip/_internal/utils/logging.py\", line 179, in emit\r\n",
      "    self.handleError(record)\r\n",
      "Message: '[present-rich] %s'\r\n",
      "Arguments: (UpgradePrompt(old='22.2.2', new='22.3'),)\r\n"
     ]
    }
   ],
   "source": [
    "!pip install keras-segmentation"
   ],
   "metadata": {
    "collapsed": false
   }
  },
  {
   "cell_type": "code",
   "execution_count": 108,
   "outputs": [],
   "source": [
    "img_input = Input(shape=(8,8,12 ))\n",
    "\n",
    "conv1 = Conv2D(32, (3, 3), activation='relu', padding='same')(img_input)\n",
    "conv1 = Dropout(0.2)(conv1)\n",
    "conv1 = Conv2D(32, (3, 3), activation='relu', padding='same')(conv1)\n",
    "pool1 = MaxPooling2D((2, 2))(conv1)\n",
    "\n",
    "conv2 = Conv2D(64, (3, 3), activation='relu', padding='same')(pool1)\n",
    "conv2 = Dropout(0.2)(conv2)\n",
    "conv2 = Conv2D(64, (3, 3), activation='relu', padding='same')(conv2)\n",
    "pool2 = MaxPooling2D((2, 2))(conv2)"
   ],
   "metadata": {
    "collapsed": false
   }
  },
  {
   "cell_type": "code",
   "execution_count": 110,
   "outputs": [],
   "source": [
    "conv3 = Conv2D(128, (3, 3), activation='relu', padding='same')(pool2)\n",
    "conv3 = Dropout(0.2)(conv3)\n",
    "conv3 = Conv2D(128, (3, 3), activation='relu', padding='same')(conv3)\n",
    "\n",
    "up1 = concatenate([UpSampling2D((2, 2))(conv3), conv2], axis=-1)\n",
    "conv4 = Conv2D(64, (3, 3), activation='relu', padding='same')(up1)\n",
    "conv4 = Dropout(0.2)(conv4)\n",
    "conv4 = Conv2D(64, (3, 3), activation='relu', padding='same')(conv4)\n",
    "\n",
    "up2 = concatenate([UpSampling2D((2, 2))(conv4), conv1], axis=-1)\n",
    "conv5 = Conv2D(32, (3, 3), activation='relu', padding='same')(up2)\n",
    "conv5 = Dropout(0.2)(conv5)\n",
    "conv5 = Conv2D(32, (3, 3), activation='relu', padding='same')(conv5)"
   ],
   "metadata": {
    "collapsed": false
   }
  },
  {
   "cell_type": "code",
   "execution_count": 111,
   "outputs": [],
   "source": [
    "out = Conv2D(6, (1, 1) , padding='same')(conv5)\n",
    "\n",
    "from keras_segmentation.models.model_utils import get_segmentation_model\n",
    "\n",
    "model2 = get_segmentation_model(img_input ,  out ) # this would build the segmentation model"
   ],
   "metadata": {
    "collapsed": false
   }
  },
  {
   "cell_type": "code",
   "execution_count": 112,
   "outputs": [
    {
     "name": "stdout",
     "output_type": "stream",
     "text": [
      "Model: \"model_2\"\n",
      "__________________________________________________________________________________________________\n",
      " Layer (type)                   Output Shape         Param #     Connected to                     \n",
      "==================================================================================================\n",
      " input_5 (InputLayer)           [(None, 8, 8, 12)]   0           []                               \n",
      "                                                                                                  \n",
      " conv2d_46 (Conv2D)             (None, 8, 8, 32)     3488        ['input_5[0][0]']                \n",
      "                                                                                                  \n",
      " dropout_20 (Dropout)           (None, 8, 8, 32)     0           ['conv2d_46[0][0]']              \n",
      "                                                                                                  \n",
      " conv2d_47 (Conv2D)             (None, 8, 8, 32)     9248        ['dropout_20[0][0]']             \n",
      "                                                                                                  \n",
      " max_pooling2d_12 (MaxPooling2D  (None, 4, 4, 32)    0           ['conv2d_47[0][0]']              \n",
      " )                                                                                                \n",
      "                                                                                                  \n",
      " conv2d_48 (Conv2D)             (None, 4, 4, 64)     18496       ['max_pooling2d_12[0][0]']       \n",
      "                                                                                                  \n",
      " dropout_21 (Dropout)           (None, 4, 4, 64)     0           ['conv2d_48[0][0]']              \n",
      "                                                                                                  \n",
      " conv2d_49 (Conv2D)             (None, 4, 4, 64)     36928       ['dropout_21[0][0]']             \n",
      "                                                                                                  \n",
      " max_pooling2d_13 (MaxPooling2D  (None, 2, 2, 64)    0           ['conv2d_49[0][0]']              \n",
      " )                                                                                                \n",
      "                                                                                                  \n",
      " conv2d_52 (Conv2D)             (None, 2, 2, 128)    73856       ['max_pooling2d_13[0][0]']       \n",
      "                                                                                                  \n",
      " dropout_23 (Dropout)           (None, 2, 2, 128)    0           ['conv2d_52[0][0]']              \n",
      "                                                                                                  \n",
      " conv2d_53 (Conv2D)             (None, 2, 2, 128)    147584      ['dropout_23[0][0]']             \n",
      "                                                                                                  \n",
      " up_sampling2d_13 (UpSampling2D  (None, 4, 4, 128)   0           ['conv2d_53[0][0]']              \n",
      " )                                                                                                \n",
      "                                                                                                  \n",
      " concatenate_9 (Concatenate)    (None, 4, 4, 192)    0           ['up_sampling2d_13[0][0]',       \n",
      "                                                                  'conv2d_49[0][0]']              \n",
      "                                                                                                  \n",
      " conv2d_54 (Conv2D)             (None, 4, 4, 64)     110656      ['concatenate_9[0][0]']          \n",
      "                                                                                                  \n",
      " dropout_24 (Dropout)           (None, 4, 4, 64)     0           ['conv2d_54[0][0]']              \n",
      "                                                                                                  \n",
      " conv2d_55 (Conv2D)             (None, 4, 4, 64)     36928       ['dropout_24[0][0]']             \n",
      "                                                                                                  \n",
      " up_sampling2d_14 (UpSampling2D  (None, 8, 8, 64)    0           ['conv2d_55[0][0]']              \n",
      " )                                                                                                \n",
      "                                                                                                  \n",
      " concatenate_10 (Concatenate)   (None, 8, 8, 96)     0           ['up_sampling2d_14[0][0]',       \n",
      "                                                                  'conv2d_47[0][0]']              \n",
      "                                                                                                  \n",
      " conv2d_56 (Conv2D)             (None, 8, 8, 32)     27680       ['concatenate_10[0][0]']         \n",
      "                                                                                                  \n",
      " dropout_25 (Dropout)           (None, 8, 8, 32)     0           ['conv2d_56[0][0]']              \n",
      "                                                                                                  \n",
      " conv2d_57 (Conv2D)             (None, 8, 8, 32)     9248        ['dropout_25[0][0]']             \n",
      "                                                                                                  \n",
      " conv2d_58 (Conv2D)             (None, 8, 8, 6)      198         ['conv2d_57[0][0]']              \n",
      "                                                                                                  \n",
      " reshape (Reshape)              (None, 64, 6)        0           ['conv2d_58[0][0]']              \n",
      "                                                                                                  \n",
      " activation_12 (Activation)     (None, 64, 6)        0           ['reshape[0][0]']                \n",
      "                                                                                                  \n",
      "==================================================================================================\n",
      "Total params: 474,310\n",
      "Trainable params: 474,310\n",
      "Non-trainable params: 0\n",
      "__________________________________________________________________________________________________\n"
     ]
    }
   ],
   "source": [
    "model2.summary()"
   ],
   "metadata": {
    "collapsed": false
   }
  },
  {
   "cell_type": "code",
   "execution_count": 26,
   "outputs": [],
   "source": [
    "# def createVector(arr):\n",
    "#     arr1 = arr.reshape(-1, 12)\n",
    "#     #scaler = StandardScaler().fit(arr1)\n",
    "#     #\n",
    "#     #X_scaled = scaler.transform(arr1)\n",
    "#     return arr1"
   ],
   "metadata": {
    "collapsed": false
   }
  },
  {
   "cell_type": "code",
   "execution_count": 27,
   "outputs": [],
   "source": [
    "# forest_data = createVector(x_forest)\n",
    "# town_data = createVector(x_town)\n",
    "# sands_data = createVector(x_sands)\n",
    "# water_data = createVector(x_water)\n",
    "# field_data = createVector(x_field);"
   ],
   "metadata": {
    "collapsed": false
   }
  },
  {
   "cell_type": "code",
   "execution_count": 28,
   "outputs": [],
   "source": [
    "# p = np.append(forest_data, town_data, axis=0)\n",
    "# p = np.append(p, sands_data, axis=0)\n",
    "# p = np.append(p, water_data, axis=0)\n",
    "# p = np.append(p, field_data, axis=0)"
   ],
   "metadata": {
    "collapsed": false
   }
  },
  {
   "cell_type": "code",
   "execution_count": 106,
   "outputs": [],
   "source": [
    "# y_data_forest = np.full(forest_data.shape[0],1)\n",
    "# y_data_town = np.full(town_data.shape[0],2)\n",
    "# y_data_sands = np.full(sands_data.shape[0],3)\n",
    "# y_data_water = np.full(water_data.shape[0],4)\n",
    "# y_data_field = np.full(field_data.shape[0],5)"
   ],
   "metadata": {
    "collapsed": false
   }
  },
  {
   "cell_type": "code",
   "execution_count": 107,
   "outputs": [
    {
     "data": {
      "text/plain": "(8672500,)"
     },
     "execution_count": 107,
     "metadata": {},
     "output_type": "execute_result"
    }
   ],
   "source": [
    "# y_data = np.append(y_data_forest, y_data_town)\n",
    "# y_data = np.append(y_data, y_data_sands)\n",
    "# y_data = np.append(y_data, y_data_water)\n",
    "# y_data = np.append(y_data, y_data_field)\n",
    "# y_data.shape"
   ],
   "metadata": {
    "collapsed": false
   }
  },
  {
   "cell_type": "code",
   "execution_count": 108,
   "outputs": [
    {
     "data": {
      "text/plain": "(10, 10, 86725)"
     },
     "execution_count": 108,
     "metadata": {},
     "output_type": "execute_result"
    }
   ],
   "source": [
    "# y_data2 = y_data.reshape(10,10,-1)\n",
    "# y_data2.shape"
   ],
   "metadata": {
    "collapsed": false
   }
  },
  {
   "cell_type": "code",
   "execution_count": 176,
   "outputs": [
    {
     "data": {
      "text/plain": "['/tmp/shared/test_images2/2022-08-24-00_00_2022-08-24-23_59_Sentinel-2_L2A_B01_(Raw).tiff',\n '/tmp/shared/test_images2/2022-08-24-00_00_2022-08-24-23_59_Sentinel-2_L2A_B02_(Raw).tiff',\n '/tmp/shared/test_images2/2022-08-24-00_00_2022-08-24-23_59_Sentinel-2_L2A_B03_(Raw).tiff',\n '/tmp/shared/test_images2/2022-08-24-00_00_2022-08-24-23_59_Sentinel-2_L2A_B04_(Raw).tiff',\n '/tmp/shared/test_images2/2022-08-24-00_00_2022-08-24-23_59_Sentinel-2_L2A_B05_(Raw).tiff',\n '/tmp/shared/test_images2/2022-08-24-00_00_2022-08-24-23_59_Sentinel-2_L2A_B06_(Raw).tiff',\n '/tmp/shared/test_images2/2022-08-24-00_00_2022-08-24-23_59_Sentinel-2_L2A_B07_(Raw).tiff',\n '/tmp/shared/test_images2/2022-08-24-00_00_2022-08-24-23_59_Sentinel-2_L2A_B08_(Raw).tiff',\n '/tmp/shared/test_images2/2022-08-24-00_00_2022-08-24-23_59_Sentinel-2_L2A_B09_(Raw).tiff',\n '/tmp/shared/test_images2/2022-08-24-00_00_2022-08-24-23_59_Sentinel-2_L2A_B11_(Raw).tiff',\n '/tmp/shared/test_images2/2022-08-24-00_00_2022-08-24-23_59_Sentinel-2_L2A_B12_(Raw).tiff',\n '/tmp/shared/test_images2/2022-08-24-00_00_2022-08-24-23_59_Sentinel-2_L2A_B8A_(Raw).tiff']"
     },
     "execution_count": 176,
     "metadata": {},
     "output_type": "execute_result"
    }
   ],
   "source": [
    "from glob import glob\n",
    "S_sentinel_bands = glob(\"/tmp/shared/test_images2/*B?*.tiff\")\n",
    "S_sentinel_bands.sort()\n",
    "S_sentinel_bands"
   ],
   "metadata": {
    "collapsed": false
   }
  },
  {
   "cell_type": "code",
   "execution_count": 177,
   "outputs": [],
   "source": [
    "l = []\n",
    "for i in S_sentinel_bands:\n",
    "  with rio.open(i, 'r') as f:\n",
    "    l.append(f.read(1))"
   ],
   "metadata": {
    "collapsed": false
   }
  },
  {
   "cell_type": "code",
   "execution_count": 178,
   "outputs": [],
   "source": [
    "arr_st = np.stack(l)"
   ],
   "metadata": {
    "collapsed": false
   }
  },
  {
   "cell_type": "code",
   "execution_count": 179,
   "outputs": [
    {
     "data": {
      "text/plain": "(733, 1250, 12)"
     },
     "execution_count": 179,
     "metadata": {},
     "output_type": "execute_result"
    }
   ],
   "source": [
    "x = np.moveaxis(arr_st, 0, -1)\n",
    "x.shape"
   ],
   "metadata": {
    "collapsed": false
   }
  },
  {
   "cell_type": "code",
   "execution_count": 180,
   "outputs": [
    {
     "data": {
      "text/plain": "(720, 1200, 12)"
     },
     "execution_count": 180,
     "metadata": {},
     "output_type": "execute_result"
    }
   ],
   "source": [
    "x = x[0:720,0:1200,:]\n",
    "x.shape"
   ],
   "metadata": {
    "collapsed": false
   }
  },
  {
   "cell_type": "code",
   "execution_count": 181,
   "outputs": [],
   "source": [
    "x = x.reshape(-1,8,8,12)"
   ],
   "metadata": {
    "collapsed": false
   }
  },
  {
   "cell_type": "code",
   "execution_count": 195,
   "outputs": [
    {
     "data": {
      "text/plain": "(13500, 8, 8, 12)"
     },
     "execution_count": 195,
     "metadata": {},
     "output_type": "execute_result"
    }
   ],
   "source": [
    "x.shape"
   ],
   "metadata": {
    "collapsed": false
   }
  },
  {
   "cell_type": "code",
   "execution_count": 207,
   "outputs": [],
   "source": [
    "std1 = np.std(x)\n",
    "mean1= np.mean(x)\n",
    "\n",
    "x-=mean1\n",
    "#x_data-=mean\n",
    "x/=std1"
   ],
   "metadata": {
    "collapsed": false
   }
  },
  {
   "cell_type": "code",
   "execution_count": 311,
   "outputs": [
    {
     "name": "stdout",
     "output_type": "stream",
     "text": [
      "27/27 [==============================] - 1s 29ms/step\n"
     ]
    }
   ],
   "source": [
    "prediction = model.predict(x,batch_size=512)"
   ],
   "metadata": {
    "collapsed": false
   }
  },
  {
   "cell_type": "code",
   "execution_count": 184,
   "outputs": [
    {
     "data": {
      "text/plain": "(733, 1250)"
     },
     "execution_count": 184,
     "metadata": {},
     "output_type": "execute_result"
    }
   ],
   "source": [
    "y_data_test = loadmat('/tmp/shared/test_images2/labeling.mat')['data']\n",
    "y_data_test.shape"
   ],
   "metadata": {
    "collapsed": false
   }
  },
  {
   "cell_type": "code",
   "execution_count": 185,
   "outputs": [
    {
     "data": {
      "text/plain": "<Figure size 1200x1200 with 2 Axes>",
      "image/png": "[encoded data removed]"
     },
     "metadata": {},
     "output_type": "display_data"
    },
    {
     "data": {
      "text/plain": "<AxesSubplot:>"
     },
     "execution_count": 185,
     "metadata": {},
     "output_type": "execute_result"
    }
   ],
   "source": [
    "ep.plot_bands(y_data_test,\n",
    "              cmap=ListedColormap(['green', 'purple', 'orange', 'blue', 'yellow']))"
   ],
   "metadata": {
    "collapsed": false
   }
  },
  {
   "cell_type": "code",
   "execution_count": 312,
   "outputs": [
    {
     "data": {
      "text/plain": "(13500, 64, 6)"
     },
     "execution_count": 312,
     "metadata": {},
     "output_type": "execute_result"
    }
   ],
   "source": [
    "prediction.shape"
   ],
   "metadata": {
    "collapsed": false
   }
  },
  {
   "cell_type": "code",
   "execution_count": 313,
   "outputs": [
    {
     "data": {
      "text/plain": "(13500, 64)"
     },
     "execution_count": 313,
     "metadata": {},
     "output_type": "execute_result"
    }
   ],
   "source": [
    "pred_cat = np.argmax(prediction,axis=2)\n",
    "pred_cat.shape"
   ],
   "metadata": {
    "collapsed": false
   }
  },
  {
   "cell_type": "code",
   "execution_count": 314,
   "outputs": [],
   "source": [
    "pred_pxl = pred_cat.reshape(720,1200)"
   ],
   "metadata": {
    "collapsed": false
   }
  },
  {
   "cell_type": "code",
   "execution_count": 315,
   "outputs": [
    {
     "data": {
      "text/plain": "<Figure size 1200x1200 with 2 Axes>",
      "image/png": "[encoded data removed]"
     },
     "metadata": {},
     "output_type": "display_data"
    },
    {
     "data": {
      "text/plain": "<AxesSubplot:>"
     },
     "execution_count": 315,
     "metadata": {},
     "output_type": "execute_result"
    }
   ],
   "source": [
    "ep.plot_bands(pred_pxl,\n",
    "              cmap=ListedColormap(['green', 'purple', 'orange', 'blue', 'yellow']))"
   ],
   "metadata": {
    "collapsed": false
   }
  },
  {
   "cell_type": "code",
   "execution_count": 316,
   "outputs": [
    {
     "data": {
      "text/plain": "(864000,)"
     },
     "execution_count": 316,
     "metadata": {},
     "output_type": "execute_result"
    }
   ],
   "source": [
    "pred_vec = pred_cat.reshape(-1)\n",
    "pred_vec.shape"
   ],
   "metadata": {
    "collapsed": false
   }
  },
  {
   "cell_type": "code",
   "execution_count": 317,
   "outputs": [
    {
     "data": {
      "text/plain": "(864000,)"
     },
     "execution_count": 317,
     "metadata": {},
     "output_type": "execute_result"
    }
   ],
   "source": [
    "y_data_test2 = y_data_test[0:720,0:1200].reshape(-1)\n",
    "y_data_test2.shape"
   ],
   "metadata": {
    "collapsed": false
   }
  },
  {
   "cell_type": "code",
   "execution_count": 318,
   "outputs": [
    {
     "data": {
      "text/plain": "0.7082372685185185"
     },
     "execution_count": 318,
     "metadata": {},
     "output_type": "execute_result"
    }
   ],
   "source": [
    "accuracy_score(y_data_test2, pred_vec)"
   ],
   "metadata": {
    "collapsed": false
   }
  },
  {
   "cell_type": "code",
   "execution_count": null,
   "outputs": [],
   "source": [],
   "metadata": {
    "collapsed": false
   }
  }
 ],
 "metadata": {
  "kernelspec": {
   "display_name": "Python 3",
   "language": "python",
   "name": "python3"
  },
  "language_info": {
   "codemirror_mode": {
    "name": "ipython",
    "version": 2
   },
   "file_extension": ".py",
   "mimetype": "text/x-python",
   "name": "python",
   "nbconvert_exporter": "python",
   "pygments_lexer": "ipython2",
   "version": "2.7.6"
  }
 },
 "nbformat": 4,
 "nbformat_minor": 0
}
