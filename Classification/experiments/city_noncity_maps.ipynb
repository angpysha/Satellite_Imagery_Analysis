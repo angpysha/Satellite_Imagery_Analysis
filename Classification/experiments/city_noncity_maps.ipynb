{
 "cells": [
  {
   "cell_type": "code",
   "execution_count": 1,
   "metadata": {
    "collapsed": true,
    "ExecuteTime": {
     "end_time": "2023-06-24T12:10:20.285227900Z",
     "start_time": "2023-06-24T12:10:10.673047900Z"
    }
   },
   "outputs": [
    {
     "data": {
      "text/plain": "<module 'dataset_tool.dataset_loader' from '/tmp/pycharm_project_568/Classification/dataset_tool/dataset_loader.py'>"
     },
     "execution_count": 1,
     "metadata": {},
     "output_type": "execute_result"
    }
   ],
   "source": [
    "# import os\n",
    "import sys\n",
    "import importlib\n",
    "sys.path.append(\"/tmp/pycharm_project_568/Classification/\")\n",
    "# # from dataset_tool.dataset_loader import *\n",
    "# import importer\n",
    "# from dataset_tool.dataset_loader import *\n",
    "import dataset_tool.dataset_loader\n",
    "importlib.reload(dataset_tool.dataset_loader)"
   ]
  },
  {
   "cell_type": "code",
   "execution_count": 2,
   "outputs": [
    {
     "name": "stdout",
     "output_type": "stream",
     "text": [
      "test\n",
      "Shape of array is (6966,)\n",
      "COnfig path /tmp/pycharm_project_568/Classification/dataset_config\n",
      "<configparser.ConfigParser object at 0x7fa06f20e670>\n",
      "to_learch forest,field,water,city\n",
      "Processing forest\n",
      "Size of forest is 456100\n",
      "Processing field\n",
      "Size of field is 982700\n",
      "Processing water\n",
      "Size of water is 155000\n",
      "Processing city\n",
      "Size of city is 49600\n",
      "Train size: 1314720. Test size: 328680\n"
     ]
    }
   ],
   "source": [
    "dataset = dataset_tool.dataset_loader.load_dataset5()"
   ],
   "metadata": {
    "collapsed": false,
    "ExecuteTime": {
     "end_time": "2023-06-24T12:10:58.672425500Z",
     "start_time": "2023-06-24T12:10:32.614055200Z"
    }
   }
  },
  {
   "cell_type": "code",
   "execution_count": 3,
   "outputs": [
    {
     "ename": "ModuleNotFoundError",
     "evalue": "No module named 'Classification'",
     "output_type": "error",
     "traceback": [
      "\u001B[0;31m---------------------------------------------------------------------------\u001B[0m",
      "\u001B[0;31mModuleNotFoundError\u001B[0m                       Traceback (most recent call last)",
      "Input \u001B[0;32mIn [3]\u001B[0m, in \u001B[0;36m<cell line: 1>\u001B[0;34m()\u001B[0m\n\u001B[0;32m----> 1\u001B[0m \u001B[38;5;28;01mimport\u001B[39;00m \u001B[38;5;21;01mClassification\u001B[39;00m\u001B[38;5;21;01m.\u001B[39;00m\u001B[38;5;21;01mdataset_tool\u001B[39;00m\u001B[38;5;21;01m.\u001B[39;00m\u001B[38;5;21;01mdataset_loader\u001B[39;00m\n",
      "\u001B[0;31mModuleNotFoundError\u001B[0m: No module named 'Classification'"
     ]
    }
   ],
   "source": [
    "import Classification.dataset_tool.dataset_loader"
   ],
   "metadata": {
    "collapsed": false,
    "ExecuteTime": {
     "end_time": "2023-06-24T12:10:58.687712500Z",
     "start_time": "2023-06-24T12:10:58.678189200Z"
    }
   }
  },
  {
   "cell_type": "code",
   "execution_count": 4,
   "outputs": [],
   "source": [
    "x_train = dataset.x_train\n",
    "y_train = dataset.y_train"
   ],
   "metadata": {
    "collapsed": false,
    "ExecuteTime": {
     "end_time": "2023-06-24T12:11:03.213858300Z",
     "start_time": "2023-06-24T12:11:03.179036100Z"
    }
   }
  },
  {
   "cell_type": "code",
   "execution_count": 5,
   "outputs": [],
   "source": [
    "y_train[y_train != 4] = 2\n"
   ],
   "metadata": {
    "collapsed": false,
    "ExecuteTime": {
     "end_time": "2023-06-24T12:11:05.080744700Z",
     "start_time": "2023-06-24T12:11:04.962956300Z"
    }
   }
  },
  {
   "cell_type": "code",
   "execution_count": 6,
   "outputs": [],
   "source": [
    "y_train[y_train == 4] = 1"
   ],
   "metadata": {
    "collapsed": false,
    "ExecuteTime": {
     "end_time": "2023-06-24T12:11:05.646501Z",
     "start_time": "2023-06-24T12:11:05.582167800Z"
    }
   }
  },
  {
   "cell_type": "code",
   "execution_count": 7,
   "outputs": [
    {
     "data": {
      "text/plain": "KNeighborsClassifier()"
     },
     "execution_count": 7,
     "metadata": {},
     "output_type": "execute_result"
    }
   ],
   "source": [
    "from cuml.neighbors import KNeighborsClassifier\n",
    "knn_1 = KNeighborsClassifier(n_neighbors=400, p=2, weights='uniform')\n",
    "knnc_epochs = 20\n",
    "# for i in range(knnc_epochs):\n",
    "knn_1.fit(x_train, y_train)"
   ],
   "metadata": {
    "collapsed": false,
    "ExecuteTime": {
     "end_time": "2023-06-24T12:11:16.722143500Z",
     "start_time": "2023-06-24T12:11:09.679165900Z"
    }
   }
  },
  {
   "cell_type": "code",
   "execution_count": 105,
   "outputs": [],
   "source": [
    "topixels = lambda x: x*255"
   ],
   "metadata": {
    "collapsed": false,
    "ExecuteTime": {
     "end_time": "2023-06-24T19:57:11.715225100Z",
     "start_time": "2023-06-24T19:57:11.662873300Z"
    }
   }
  },
  {
   "cell_type": "code",
   "execution_count": 106,
   "outputs": [],
   "source": [
    "import numpy as np"
   ],
   "metadata": {
    "collapsed": false,
    "ExecuteTime": {
     "end_time": "2023-06-24T19:57:12.642213100Z",
     "start_time": "2023-06-24T19:57:12.607669700Z"
    }
   }
  },
  {
   "cell_type": "code",
   "execution_count": 107,
   "outputs": [],
   "source": [
    "x_train_2 = np.vectorize(topixels)(x_train)"
   ],
   "metadata": {
    "collapsed": false,
    "ExecuteTime": {
     "end_time": "2023-06-24T19:57:16.546714700Z",
     "start_time": "2023-06-24T19:57:13.150313500Z"
    }
   }
  },
  {
   "cell_type": "code",
   "execution_count": 98,
   "outputs": [
    {
     "data": {
      "text/plain": "(1314720, 12)"
     },
     "execution_count": 98,
     "metadata": {},
     "output_type": "execute_result"
    }
   ],
   "source": [
    "x_train.shape"
   ],
   "metadata": {
    "collapsed": false,
    "ExecuteTime": {
     "end_time": "2023-06-24T19:44:38.370087800Z",
     "start_time": "2023-06-24T19:44:38.327578400Z"
    }
   }
  },
  {
   "cell_type": "code",
   "execution_count": 97,
   "outputs": [
    {
     "data": {
      "text/plain": "(1314720, 12)"
     },
     "execution_count": 97,
     "metadata": {},
     "output_type": "execute_result"
    }
   ],
   "source": [
    "x_train_2.shape"
   ],
   "metadata": {
    "collapsed": false,
    "ExecuteTime": {
     "end_time": "2023-06-24T19:43:30.272463Z",
     "start_time": "2023-06-24T19:43:30.219931800Z"
    }
   }
  },
  {
   "cell_type": "code",
   "execution_count": 102,
   "outputs": [],
   "source": [
    "x_train_2_ = x_train_2.astype(np.int32)"
   ],
   "metadata": {
    "collapsed": false,
    "ExecuteTime": {
     "end_time": "2023-06-24T19:56:12.285314700Z",
     "start_time": "2023-06-24T19:56:12.196304Z"
    }
   }
  },
  {
   "cell_type": "code",
   "execution_count": 104,
   "outputs": [
    {
     "data": {
      "text/plain": "dtype('int32')"
     },
     "execution_count": 104,
     "metadata": {},
     "output_type": "execute_result"
    }
   ],
   "source": [
    "x_train_2_.dtype"
   ],
   "metadata": {
    "collapsed": false,
    "ExecuteTime": {
     "end_time": "2023-06-24T19:56:46.585008500Z",
     "start_time": "2023-06-24T19:56:46.533773200Z"
    }
   }
  },
  {
   "cell_type": "code",
   "execution_count": 121,
   "outputs": [
    {
     "data": {
      "text/plain": "BernoulliNB()"
     },
     "execution_count": 121,
     "metadata": {},
     "output_type": "execute_result"
    }
   ],
   "source": [
    "from cuml.naive_bayes import *\n",
    "nb = BernoulliNB()\n",
    "nb.fit(x_train_2, y_train)"
   ],
   "metadata": {
    "collapsed": false,
    "ExecuteTime": {
     "end_time": "2023-06-24T20:23:19.899848400Z",
     "start_time": "2023-06-24T20:23:19.349586100Z"
    }
   }
  },
  {
   "cell_type": "code",
   "execution_count": 91,
   "outputs": [],
   "source": [
    "from dataset_tool.real_prediction import *"
   ],
   "metadata": {
    "collapsed": false,
    "ExecuteTime": {
     "end_time": "2023-06-24T19:39:21.301915900Z",
     "start_time": "2023-06-24T19:39:21.291909600Z"
    }
   }
  },
  {
   "cell_type": "code",
   "execution_count": 92,
   "outputs": [],
   "source": [
    "real_prediction_knn = RealPrediction(\"/tmp/shared/dataset4/2\", None)"
   ],
   "metadata": {
    "collapsed": false,
    "ExecuteTime": {
     "end_time": "2023-06-24T19:39:28.227855Z",
     "start_time": "2023-06-24T19:39:26.980296900Z"
    }
   }
  },
  {
   "cell_type": "code",
   "execution_count": 92,
   "outputs": [],
   "source": [],
   "metadata": {
    "collapsed": false,
    "ExecuteTime": {
     "end_time": "2023-06-24T19:39:29.387303700Z",
     "start_time": "2023-06-24T19:39:29.344404Z"
    }
   }
  },
  {
   "cell_type": "code",
   "execution_count": 12,
   "outputs": [
    {
     "data": {
      "text/plain": "(697972, 12)"
     },
     "execution_count": 12,
     "metadata": {},
     "output_type": "execute_result"
    }
   ],
   "source": [
    "real_prediction_knn.x_scaled_base.shape"
   ],
   "metadata": {
    "collapsed": false,
    "ExecuteTime": {
     "end_time": "2023-06-24T12:15:06.475555100Z",
     "start_time": "2023-06-24T12:15:06.430518400Z"
    }
   }
  },
  {
   "cell_type": "code",
   "execution_count": 13,
   "outputs": [],
   "source": [
    "predciton_proba = knn_1.predict_proba(real_prediction_knn.x_scaled_base)"
   ],
   "metadata": {
    "collapsed": false,
    "ExecuteTime": {
     "end_time": "2023-06-24T12:16:52.465377100Z",
     "start_time": "2023-06-24T12:15:30.377735300Z"
    }
   }
  },
  {
   "cell_type": "code",
   "execution_count": 109,
   "outputs": [],
   "source": [
    "x_testt_scaled_2 = np.vectorize(topixels)(real_prediction_knn.x_scaled_base)"
   ],
   "metadata": {
    "collapsed": false,
    "ExecuteTime": {
     "end_time": "2023-06-24T19:57:44.763936300Z",
     "start_time": "2023-06-24T19:57:43.186245900Z"
    }
   }
  },
  {
   "cell_type": "code",
   "execution_count": 122,
   "outputs": [],
   "source": [
    "predciton_proba_nb = nb.predict_proba(real_prediction_knn.x_scaled_base)"
   ],
   "metadata": {
    "collapsed": false,
    "ExecuteTime": {
     "end_time": "2023-06-24T20:23:30.832104Z",
     "start_time": "2023-06-24T20:23:30.342565Z"
    }
   }
  },
  {
   "cell_type": "code",
   "execution_count": null,
   "outputs": [],
   "source": [
    "import numpy as np"
   ],
   "metadata": {
    "collapsed": false
   }
  },
  {
   "cell_type": "code",
   "execution_count": 27,
   "outputs": [
    {
     "data": {
      "text/plain": "(697972, 2)"
     },
     "execution_count": 27,
     "metadata": {},
     "output_type": "execute_result"
    }
   ],
   "source": [
    "predciton_proba.shape"
   ],
   "metadata": {
    "collapsed": false,
    "ExecuteTime": {
     "end_time": "2023-06-24T12:24:30.949672300Z",
     "start_time": "2023-06-24T12:24:30.913672600Z"
    }
   }
  },
  {
   "cell_type": "code",
   "execution_count": 39,
   "outputs": [],
   "source": [
    "ts = 0.9"
   ],
   "metadata": {
    "collapsed": false,
    "ExecuteTime": {
     "end_time": "2023-06-24T12:28:16.890811500Z",
     "start_time": "2023-06-24T12:28:16.842864200Z"
    }
   }
  },
  {
   "cell_type": "code",
   "execution_count": 43,
   "outputs": [],
   "source": [
    "def check_vlue(subarr):\n",
    "    print(subarr)\n",
    "    if (subarr[1] >= ts):\n",
    "        return 2\n",
    "    else:\n",
    "        return 1"
   ],
   "metadata": {
    "collapsed": false,
    "ExecuteTime": {
     "end_time": "2023-06-24T12:29:57.089725400Z",
     "start_time": "2023-06-24T12:29:56.945858800Z"
    }
   }
  },
  {
   "cell_type": "markdown",
   "source": [
    "## >= 0.9"
   ],
   "metadata": {
    "collapsed": false
   }
  },
  {
   "cell_type": "code",
   "execution_count": 49,
   "outputs": [],
   "source": [
    "preditctions0_9 = np.where(predciton_proba[:,0] >= 0.9, 1, 2)"
   ],
   "metadata": {
    "collapsed": false,
    "ExecuteTime": {
     "end_time": "2023-06-24T12:33:47.783492400Z",
     "start_time": "2023-06-24T12:33:47.736707200Z"
    }
   }
  },
  {
   "cell_type": "code",
   "execution_count": 123,
   "outputs": [],
   "source": [
    "preditctions0_9_nb = np.where(predciton_proba_nb[:,0] >= 0.9, 1, 2)"
   ],
   "metadata": {
    "collapsed": false,
    "ExecuteTime": {
     "end_time": "2023-06-24T20:23:38.074599200Z",
     "start_time": "2023-06-24T20:23:38.035321600Z"
    }
   }
  },
  {
   "cell_type": "code",
   "execution_count": 124,
   "outputs": [
    {
     "data": {
      "text/plain": "(697972,)"
     },
     "execution_count": 124,
     "metadata": {},
     "output_type": "execute_result"
    }
   ],
   "source": [
    "preditctions0_9.shape"
   ],
   "metadata": {
    "collapsed": false,
    "ExecuteTime": {
     "end_time": "2023-06-24T20:23:39.104547200Z",
     "start_time": "2023-06-24T20:23:39.067546400Z"
    }
   }
  },
  {
   "cell_type": "code",
   "execution_count": 118,
   "outputs": [],
   "source": [
    "im0_9  = preditctions0_9.reshape((real_prediction_knn.height,real_prediction_knn.width))"
   ],
   "metadata": {
    "collapsed": false,
    "ExecuteTime": {
     "end_time": "2023-06-24T20:22:50.687302200Z",
     "start_time": "2023-06-24T20:22:50.638641600Z"
    }
   }
  },
  {
   "cell_type": "code",
   "execution_count": 125,
   "outputs": [],
   "source": [
    "im0_9nb  = preditctions0_9_nb.reshape((real_prediction_knn.height,real_prediction_knn.width))"
   ],
   "metadata": {
    "collapsed": false,
    "ExecuteTime": {
     "end_time": "2023-06-24T20:23:42.467958500Z",
     "start_time": "2023-06-24T20:23:42.427466900Z"
    }
   }
  },
  {
   "cell_type": "markdown",
   "source": [
    "### KNNC"
   ],
   "metadata": {
    "collapsed": false
   }
  },
  {
   "cell_type": "code",
   "execution_count": 112,
   "outputs": [
    {
     "data": {
      "text/plain": "[Text(1, 1, 'city'), Text(1, 2, 'others')]"
     },
     "execution_count": 112,
     "metadata": {},
     "output_type": "execute_result"
    },
    {
     "data": {
      "text/plain": "<Figure size 640x480 with 2 Axes>",
      "image/png": "[encoded data removed]"
     },
     "metadata": {},
     "output_type": "display_data"
    }
   ],
   "source": [
    "from matplotlib.colors import ListedColormap\n",
    "import matplotlib.pyplot as plt\n",
    "#\n",
    "# plt.imshow(im)\n",
    "# im1 = ax[1].imshow(knn_image_default_1,cmap=ListedColormap(['blue', 'purple']))\n",
    "# im3 = ax[2].imshow(mnb_image_default_1,cmap=ListedColormap(['blue', 'purple']))\n",
    "#im4 = ax[3].imshow(svm_image_default_1,cmap=ListedColormap(['blue', 'purple']))\n",
    "plt.imshow(im0_9, cmap=ListedColormap(['orange','green']))\n",
    "labels = list(['city', 'others'])\n",
    "values = list([1,2])\n",
    "plt.title = \"KKNC\"\n",
    "# ax[1].set_title(\"KNNC\")\n",
    "# ax[2].set_title(\"Naive bayes\")\n",
    "#ax[2].set_title(\"SVM\")\n",
    "# Create a colorbar with the legend\n",
    "colorbar = plt.colorbar(ticks=values)\n",
    "colorbar.ax.set_yticklabels(labels)"
   ],
   "metadata": {
    "collapsed": false,
    "ExecuteTime": {
     "end_time": "2023-06-24T19:57:55.522494800Z",
     "start_time": "2023-06-24T19:57:55.193628500Z"
    }
   }
  },
  {
   "cell_type": "markdown",
   "source": [
    "### NB"
   ],
   "metadata": {
    "collapsed": false
   }
  },
  {
   "cell_type": "code",
   "execution_count": 126,
   "outputs": [
    {
     "data": {
      "text/plain": "[Text(1, 1, 'city'), Text(1, 2, 'others')]"
     },
     "execution_count": 126,
     "metadata": {},
     "output_type": "execute_result"
    },
    {
     "data": {
      "text/plain": "<Figure size 640x480 with 2 Axes>",
      "image/png": "[encoded data removed]"
     },
     "metadata": {},
     "output_type": "display_data"
    }
   ],
   "source": [
    "from matplotlib.colors import ListedColormap\n",
    "import matplotlib.pyplot as plt\n",
    "#\n",
    "# plt.imshow(im)\n",
    "# im1 = ax[1].imshow(knn_image_default_1,cmap=ListedColormap(['blue', 'purple']))\n",
    "# im3 = ax[2].imshow(mnb_image_default_1,cmap=ListedColormap(['blue', 'purple']))\n",
    "#im4 = ax[3].imshow(svm_image_default_1,cmap=ListedColormap(['blue', 'purple']))\n",
    "plt.imshow(im0_9nb, cmap=ListedColormap(['orange','green']))\n",
    "labels = list(['city', 'others'])\n",
    "values = list([1,2])\n",
    "# ax[1].set_title(\"KNNC\")\n",
    "# ax[2].set_title(\"Naive bayes\")\n",
    "#ax[2].set_title(\"SVM\")\n",
    "# Create a colorbar with the legend\n",
    "colorbar = plt.colorbar(ticks=values)\n",
    "colorbar.ax.set_yticklabels(labels)"
   ],
   "metadata": {
    "collapsed": false,
    "ExecuteTime": {
     "end_time": "2023-06-24T20:23:48.338767500Z",
     "start_time": "2023-06-24T20:23:48.094600Z"
    }
   }
  },
  {
   "cell_type": "markdown",
   "source": [
    "## >= 0.8"
   ],
   "metadata": {
    "collapsed": false
   }
  },
  {
   "cell_type": "code",
   "execution_count": 53,
   "outputs": [],
   "source": [
    "preditctions0_8 = indices = np.where(predciton_proba[:, 0] >= 0.8, 1, 2)"
   ],
   "metadata": {
    "collapsed": false,
    "ExecuteTime": {
     "end_time": "2023-06-24T12:34:04.199565Z",
     "start_time": "2023-06-24T12:34:04.154011400Z"
    }
   }
  },
  {
   "cell_type": "code",
   "execution_count": 54,
   "outputs": [],
   "source": [
    "im0_8  = preditctions0_8.reshape((real_prediction_knn.height,real_prediction_knn.width))"
   ],
   "metadata": {
    "collapsed": false,
    "ExecuteTime": {
     "end_time": "2023-06-24T12:34:06.232463500Z",
     "start_time": "2023-06-24T12:34:06.183290600Z"
    }
   }
  },
  {
   "cell_type": "code",
   "execution_count": 55,
   "outputs": [
    {
     "data": {
      "text/plain": "[Text(1, 1, 'city'), Text(1, 2, 'others')]"
     },
     "execution_count": 55,
     "metadata": {},
     "output_type": "execute_result"
    },
    {
     "data": {
      "text/plain": "<Figure size 640x480 with 2 Axes>",
      "image/png": "[encoded data removed]"
     },
     "metadata": {},
     "output_type": "display_data"
    }
   ],
   "source": [
    "from matplotlib.colors import ListedColormap\n",
    "import matplotlib.pyplot as plt\n",
    "#\n",
    "# plt.imshow(im)\n",
    "# im1 = ax[1].imshow(knn_image_default_1,cmap=ListedColormap(['blue', 'purple']))\n",
    "# im3 = ax[2].imshow(mnb_image_default_1,cmap=ListedColormap(['blue', 'purple']))\n",
    "#im4 = ax[3].imshow(svm_image_default_1,cmap=ListedColormap(['blue', 'purple']))\n",
    "plt.imshow(im0_8, cmap=ListedColormap(['orange','green']))\n",
    "labels = list(['city', 'others'])\n",
    "values = list([1,2])\n",
    "plt.title = \"KKNC\"\n",
    "# ax[1].set_title(\"KNNC\")\n",
    "# ax[2].set_title(\"Naive bayes\")\n",
    "#ax[2].set_title(\"SVM\")\n",
    "# Create a colorbar with the legend\n",
    "colorbar = plt.colorbar(ticks=values)\n",
    "colorbar.ax.set_yticklabels(labels)"
   ],
   "metadata": {
    "collapsed": false,
    "ExecuteTime": {
     "end_time": "2023-06-24T12:34:06.803669600Z",
     "start_time": "2023-06-24T12:34:06.582990800Z"
    }
   }
  },
  {
   "cell_type": "markdown",
   "source": [
    "## >= 0.7"
   ],
   "metadata": {
    "collapsed": false
   }
  },
  {
   "cell_type": "code",
   "execution_count": 56,
   "outputs": [],
   "source": [
    "preditctions0_7 = indices = np.where(predciton_proba[:, 0] >= 0.7, 1, 2)"
   ],
   "metadata": {
    "collapsed": false,
    "ExecuteTime": {
     "end_time": "2023-06-24T12:34:27.019248900Z",
     "start_time": "2023-06-24T12:34:26.884961100Z"
    }
   }
  },
  {
   "cell_type": "code",
   "execution_count": 57,
   "outputs": [],
   "source": [
    "im0_7  = preditctions0_7.reshape((real_prediction_knn.height,real_prediction_knn.width))"
   ],
   "metadata": {
    "collapsed": false,
    "ExecuteTime": {
     "end_time": "2023-06-24T12:34:38.688432600Z",
     "start_time": "2023-06-24T12:34:38.624358500Z"
    }
   }
  },
  {
   "cell_type": "code",
   "execution_count": 58,
   "outputs": [
    {
     "data": {
      "text/plain": "[Text(1, 1, 'city'), Text(1, 2, 'others')]"
     },
     "execution_count": 58,
     "metadata": {},
     "output_type": "execute_result"
    },
    {
     "data": {
      "text/plain": "<Figure size 640x480 with 2 Axes>",
      "image/png": "[encoded data removed]"
     },
     "metadata": {},
     "output_type": "display_data"
    }
   ],
   "source": [
    "from matplotlib.colors import ListedColormap\n",
    "import matplotlib.pyplot as plt\n",
    "#\n",
    "# plt.imshow(im)\n",
    "# im1 = ax[1].imshow(knn_image_default_1,cmap=ListedColormap(['blue', 'purple']))\n",
    "# im3 = ax[2].imshow(mnb_image_default_1,cmap=ListedColormap(['blue', 'purple']))\n",
    "#im4 = ax[3].imshow(svm_image_default_1,cmap=ListedColormap(['blue', 'purple']))\n",
    "plt.imshow(im0_7, cmap=ListedColormap(['orange','green']))\n",
    "labels = list(['city', 'others'])\n",
    "values = list([1,2])\n",
    "plt.title = \"KKNC\"\n",
    "# ax[1].set_title(\"KNNC\")\n",
    "# ax[2].set_title(\"Naive bayes\")\n",
    "#ax[2].set_title(\"SVM\")\n",
    "# Create a colorbar with the legend\n",
    "colorbar = plt.colorbar(ticks=values)\n",
    "colorbar.ax.set_yticklabels(labels)"
   ],
   "metadata": {
    "collapsed": false,
    "ExecuteTime": {
     "end_time": "2023-06-24T12:34:52.446889300Z",
     "start_time": "2023-06-24T12:34:52.227226400Z"
    }
   }
  },
  {
   "cell_type": "markdown",
   "source": [
    "## >= 0.6"
   ],
   "metadata": {
    "collapsed": false
   }
  },
  {
   "cell_type": "code",
   "execution_count": 66,
   "outputs": [],
   "source": [
    "preditctions0_6 = np.where(predciton_proba[:, 0] >= 0.6, 1, 2)"
   ],
   "metadata": {
    "collapsed": false,
    "ExecuteTime": {
     "end_time": "2023-06-24T13:22:35.286927Z",
     "start_time": "2023-06-24T13:22:35.246651900Z"
    }
   }
  },
  {
   "cell_type": "code",
   "execution_count": 67,
   "outputs": [],
   "source": [
    "im0_6  = preditctions0_6.reshape((real_prediction_knn.height,real_prediction_knn.width))"
   ],
   "metadata": {
    "collapsed": false,
    "ExecuteTime": {
     "end_time": "2023-06-24T13:22:35.653651Z",
     "start_time": "2023-06-24T13:22:35.619908200Z"
    }
   }
  },
  {
   "cell_type": "code",
   "execution_count": 68,
   "outputs": [
    {
     "data": {
      "text/plain": "[Text(1, 1, 'city'), Text(1, 2, 'others')]"
     },
     "execution_count": 68,
     "metadata": {},
     "output_type": "execute_result"
    },
    {
     "data": {
      "text/plain": "<Figure size 640x480 with 2 Axes>",
      "image/png": "[encoded data removed]"
     },
     "metadata": {},
     "output_type": "display_data"
    }
   ],
   "source": [
    "from matplotlib.colors import ListedColormap\n",
    "import matplotlib.pyplot as plt\n",
    "#\n",
    "# plt.imshow(im)\n",
    "# im1 = ax[1].imshow(knn_image_default_1,cmap=ListedColormap(['blue', 'purple']))\n",
    "# im3 = ax[2].imshow(mnb_image_default_1,cmap=ListedColormap(['blue', 'purple']))\n",
    "#im4 = ax[3].imshow(svm_image_default_1,cmap=ListedColormap(['blue', 'purple']))\n",
    "plt.imshow(im0_6, cmap=ListedColormap(['orange','green']))\n",
    "labels = list(['city', 'others'])\n",
    "values = list([1,2])\n",
    "plt.title = \"KKNC\"\n",
    "# ax[1].set_title(\"KNNC\")\n",
    "# ax[2].set_title(\"Naive bayes\")\n",
    "#ax[2].set_title(\"SVM\")\n",
    "# Create a colorbar with the legend\n",
    "colorbar = plt.colorbar(ticks=values)\n",
    "colorbar.ax.set_yticklabels(labels)"
   ],
   "metadata": {
    "collapsed": false,
    "ExecuteTime": {
     "end_time": "2023-06-24T13:22:36.225054100Z",
     "start_time": "2023-06-24T13:22:35.992657800Z"
    }
   }
  },
  {
   "cell_type": "markdown",
   "source": [
    "## >= 0.5"
   ],
   "metadata": {
    "collapsed": false
   }
  },
  {
   "cell_type": "code",
   "execution_count": 69,
   "outputs": [],
   "source": [
    "preditctions0_5 = np.where(predciton_proba[:, 0] >= 0.5, 1, 2)"
   ],
   "metadata": {
    "collapsed": false,
    "ExecuteTime": {
     "end_time": "2023-06-24T13:22:42.093326600Z",
     "start_time": "2023-06-24T13:22:42.059057600Z"
    }
   }
  },
  {
   "cell_type": "code",
   "execution_count": 70,
   "outputs": [],
   "source": [
    "im0_5  = preditctions0_5.reshape((real_prediction_knn.height,real_prediction_knn.width))"
   ],
   "metadata": {
    "collapsed": false,
    "ExecuteTime": {
     "end_time": "2023-06-24T13:22:42.467037Z",
     "start_time": "2023-06-24T13:22:42.429026200Z"
    }
   }
  },
  {
   "cell_type": "code",
   "execution_count": 71,
   "outputs": [
    {
     "data": {
      "text/plain": "[Text(1, 1, 'city'), Text(1, 2, 'others')]"
     },
     "execution_count": 71,
     "metadata": {},
     "output_type": "execute_result"
    },
    {
     "data": {
      "text/plain": "<Figure size 640x480 with 2 Axes>",
      "image/png": "[encoded data removed]"
     },
     "metadata": {},
     "output_type": "display_data"
    }
   ],
   "source": [
    "from matplotlib.colors import ListedColormap\n",
    "import matplotlib.pyplot as plt\n",
    "#\n",
    "# plt.imshow(im)\n",
    "# im1 = ax[1].imshow(knn_image_default_1,cmap=ListedColormap(['blue', 'purple']))\n",
    "# im3 = ax[2].imshow(mnb_image_default_1,cmap=ListedColormap(['blue', 'purple']))\n",
    "#im4 = ax[3].imshow(svm_image_default_1,cmap=ListedColormap(['blue', 'purple']))\n",
    "plt.imshow(im0_5, cmap=ListedColormap(['orange','green']))\n",
    "labels = list(['city', 'others'])\n",
    "values = list([1,2])\n",
    "plt.title = \"KKNC\"\n",
    "# ax[1].set_title(\"KNNC\")\n",
    "# ax[2].set_title(\"Naive bayes\")\n",
    "#ax[2].set_title(\"SVM\")\n",
    "# Create a colorbar with the legend\n",
    "colorbar = plt.colorbar(ticks=values)\n",
    "colorbar.ax.set_yticklabels(labels)"
   ],
   "metadata": {
    "collapsed": false,
    "ExecuteTime": {
     "end_time": "2023-06-24T13:22:43.023063900Z",
     "start_time": "2023-06-24T13:22:42.797181Z"
    }
   }
  },
  {
   "cell_type": "code",
   "execution_count": 72,
   "outputs": [
    {
     "data": {
      "text/plain": "1678"
     },
     "execution_count": 72,
     "metadata": {},
     "output_type": "execute_result"
    }
   ],
   "source": [
    "len(im0_5[im0_5 == 1])"
   ],
   "metadata": {
    "collapsed": false,
    "ExecuteTime": {
     "end_time": "2023-06-24T13:23:45.670781700Z",
     "start_time": "2023-06-24T13:23:45.622778900Z"
    }
   }
  },
  {
   "cell_type": "code",
   "execution_count": 73,
   "outputs": [],
   "source": [
    "imm = knn_1.predict(real_prediction_knn.x_scaled_base)"
   ],
   "metadata": {
    "collapsed": false,
    "ExecuteTime": {
     "end_time": "2023-06-24T14:17:18.500943300Z",
     "start_time": "2023-06-24T14:15:52.208983Z"
    }
   }
  },
  {
   "cell_type": "code",
   "execution_count": 74,
   "outputs": [],
   "source": [
    "imm_d = imm.reshape((real_prediction_knn.height,real_prediction_knn.width))"
   ],
   "metadata": {
    "collapsed": false,
    "ExecuteTime": {
     "end_time": "2023-06-24T14:17:47.137614800Z",
     "start_time": "2023-06-24T14:17:47.104916Z"
    }
   }
  },
  {
   "cell_type": "code",
   "execution_count": 75,
   "outputs": [
    {
     "data": {
      "text/plain": "[Text(1, 1, 'city'), Text(1, 2, 'others')]"
     },
     "execution_count": 75,
     "metadata": {},
     "output_type": "execute_result"
    },
    {
     "data": {
      "text/plain": "<Figure size 640x480 with 2 Axes>",
      "image/png": "[encoded data removed]"
     },
     "metadata": {},
     "output_type": "display_data"
    }
   ],
   "source": [
    "from matplotlib.colors import ListedColormap\n",
    "import matplotlib.pyplot as plt\n",
    "#\n",
    "# plt.imshow(im)\n",
    "# im1 = ax[1].imshow(knn_image_default_1,cmap=ListedColormap(['blue', 'purple']))\n",
    "# im3 = ax[2].imshow(mnb_image_default_1,cmap=ListedColormap(['blue', 'purple']))\n",
    "#im4 = ax[3].imshow(svm_image_default_1,cmap=ListedColormap(['blue', 'purple']))\n",
    "plt.imshow(imm_d, cmap=ListedColormap(['orange','green']))\n",
    "labels = list(['city', 'others'])\n",
    "values = list([1,2])\n",
    "plt.title = \"KKNC\"\n",
    "# ax[1].set_title(\"KNNC\")\n",
    "# ax[2].set_title(\"Naive bayes\")\n",
    "#ax[2].set_title(\"SVM\")\n",
    "# Create a colorbar with the legend\n",
    "colorbar = plt.colorbar(ticks=values)\n",
    "colorbar.ax.set_yticklabels(labels)"
   ],
   "metadata": {
    "collapsed": false,
    "ExecuteTime": {
     "end_time": "2023-06-24T14:17:48.101436Z",
     "start_time": "2023-06-24T14:17:47.871077600Z"
    }
   }
  },
  {
   "cell_type": "code",
   "execution_count": 76,
   "outputs": [
    {
     "ename": "TypeError",
     "evalue": "'NoneType' object is not iterable",
     "output_type": "error",
     "traceback": [
      "\u001B[0;31m---------------------------------------------------------------------------\u001B[0m",
      "\u001B[0;31mTypeError\u001B[0m                                 Traceback (most recent call last)",
      "Input \u001B[0;32mIn [76]\u001B[0m, in \u001B[0;36m<cell line: 1>\u001B[0;34m()\u001B[0m\n\u001B[0;32m----> 1\u001B[0m \u001B[43mreal_prediction_knn\u001B[49m\u001B[38;5;241;43m.\u001B[39;49m\u001B[43mpredict\u001B[49m\u001B[43m(\u001B[49m\u001B[43m)\u001B[49m\n",
      "File \u001B[0;32m/tmp/pycharm_project_568/Classification/dataset_tool/real_prediction.py:48\u001B[0m, in \u001B[0;36mRealPrediction.predict\u001B[0;34m(self)\u001B[0m\n\u001B[1;32m     46\u001B[0m predictions \u001B[38;5;241m=\u001B[39m []\n\u001B[1;32m     47\u001B[0m x_scaled \u001B[38;5;241m=\u001B[39m \u001B[38;5;28mself\u001B[39m\u001B[38;5;241m.\u001B[39mx_scaled_base\u001B[38;5;241m.\u001B[39mcopy()\n\u001B[0;32m---> 48\u001B[0m \u001B[38;5;28;01mfor\u001B[39;00m idx, m \u001B[38;5;129;01min\u001B[39;00m \u001B[38;5;28;43menumerate\u001B[39;49m\u001B[43m(\u001B[49m\u001B[38;5;28;43mself\u001B[39;49m\u001B[38;5;241;43m.\u001B[39;49m\u001B[43mmodel\u001B[49m\u001B[43m)\u001B[49m:\n\u001B[1;32m     49\u001B[0m     prediction \u001B[38;5;241m=\u001B[39m m\u001B[38;5;241m.\u001B[39mpredict(x_scaled)\n\u001B[1;32m     50\u001B[0m     \u001B[38;5;28;01mif\u001B[39;00m idx \u001B[38;5;241m+\u001B[39m \u001B[38;5;241m1\u001B[39m \u001B[38;5;241m!=\u001B[39m \u001B[38;5;28mlen\u001B[39m(\u001B[38;5;28mself\u001B[39m\u001B[38;5;241m.\u001B[39mmodel):\n",
      "\u001B[0;31mTypeError\u001B[0m: 'NoneType' object is not iterable"
     ]
    }
   ],
   "source": [
    "real_prediction_knn.predict()"
   ],
   "metadata": {
    "collapsed": false,
    "ExecuteTime": {
     "end_time": "2023-06-24T15:43:34.314696200Z",
     "start_time": "2023-06-24T15:43:34.162711600Z"
    }
   }
  },
  {
   "cell_type": "code",
   "execution_count": null,
   "outputs": [],
   "source": [],
   "metadata": {
    "collapsed": false
   }
  }
 ],
 "metadata": {
  "kernelspec": {
   "display_name": "Python 3",
   "language": "python",
   "name": "python3"
  },
  "language_info": {
   "codemirror_mode": {
    "name": "ipython",
    "version": 2
   },
   "file_extension": ".py",
   "mimetype": "text/x-python",
   "name": "python",
   "nbconvert_exporter": "python",
   "pygments_lexer": "ipython2",
   "version": "2.7.6"
  }
 },
 "nbformat": 4,
 "nbformat_minor": 0
}
