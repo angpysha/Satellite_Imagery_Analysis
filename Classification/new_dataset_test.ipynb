{
 "cells": [
  {
   "cell_type": "code",
   "execution_count": 60,
   "metadata": {
    "collapsed": true,
    "ExecuteTime": {
     "end_time": "2023-05-31T14:47:43.366873400Z",
     "start_time": "2023-05-31T14:47:43.320366200Z"
    }
   },
   "outputs": [
    {
     "data": {
      "text/plain": "{'divide': 'ignore', 'over': 'warn', 'under': 'ignore', 'invalid': 'ignore'}"
     },
     "execution_count": 60,
     "metadata": {},
     "output_type": "execute_result"
    }
   ],
   "source": [
    "from glob import glob\n",
    "\n",
    "import earthpy as et\n",
    "import earthpy.spatial as es\n",
    "import earthpy.plot as ep\n",
    "\n",
    "import rasterio as rio\n",
    "from rasterio.plot import plotting_extent\n",
    "from rasterio.plot import show\n",
    "from rasterio.plot import reshape_as_raster, reshape_as_image\n",
    "\n",
    "import matplotlib.pyplot as plt\n",
    "import numpy as np\n",
    "from matplotlib.colors import ListedColormap\n",
    "\n",
    "from scipy.io import loadmat\n",
    "from sklearn.metrics import classification_report, accuracy_score\n",
    "\n",
    "import plotly.graph_objects as go\n",
    "\n",
    "np.seterr(divide='ignore', invalid='ignore')"
   ]
  },
  {
   "cell_type": "code",
   "execution_count": 214,
   "outputs": [
    {
     "data": {
      "text/plain": "['/tmp/shared/dataset_5/city/13/0/2022-08-10-00_00_2022-08-10-23_59_Sentinel-2_L2A-0-B01_(Raw).tiff',\n '/tmp/shared/dataset_5/city/13/0/2022-08-10-00_00_2022-08-10-23_59_Sentinel-2_L2A-0-B02_(Raw).tiff',\n '/tmp/shared/dataset_5/city/13/0/2022-08-10-00_00_2022-08-10-23_59_Sentinel-2_L2A-0-B03_(Raw).tiff',\n '/tmp/shared/dataset_5/city/13/0/2022-08-10-00_00_2022-08-10-23_59_Sentinel-2_L2A-0-B04_(Raw).tiff',\n '/tmp/shared/dataset_5/city/13/0/2022-08-10-00_00_2022-08-10-23_59_Sentinel-2_L2A-0-B05_(Raw).tiff',\n '/tmp/shared/dataset_5/city/13/0/2022-08-10-00_00_2022-08-10-23_59_Sentinel-2_L2A-0-B06_(Raw).tiff',\n '/tmp/shared/dataset_5/city/13/0/2022-08-10-00_00_2022-08-10-23_59_Sentinel-2_L2A-0-B07_(Raw).tiff',\n '/tmp/shared/dataset_5/city/13/0/2022-08-10-00_00_2022-08-10-23_59_Sentinel-2_L2A-0-B08_(Raw).tiff',\n '/tmp/shared/dataset_5/city/13/0/2022-08-10-00_00_2022-08-10-23_59_Sentinel-2_L2A-0-B09_(Raw).tiff',\n '/tmp/shared/dataset_5/city/13/0/2022-08-10-00_00_2022-08-10-23_59_Sentinel-2_L2A-0-B11_(Raw).tiff',\n '/tmp/shared/dataset_5/city/13/0/2022-08-10-00_00_2022-08-10-23_59_Sentinel-2_L2A-0-B12_(Raw).tiff',\n '/tmp/shared/dataset_5/city/13/0/2022-08-10-00_00_2022-08-10-23_59_Sentinel-2_L2A-0-B8A_(Raw).tiff',\n '/tmp/shared/dataset_5/city/13/1/2022-08-10-00_00_2022-08-10-23_59_Sentinel-2_L2A-1-B01_(Raw).tiff',\n '/tmp/shared/dataset_5/city/13/1/2022-08-10-00_00_2022-08-10-23_59_Sentinel-2_L2A-1-B02_(Raw).tiff',\n '/tmp/shared/dataset_5/city/13/1/2022-08-10-00_00_2022-08-10-23_59_Sentinel-2_L2A-1-B03_(Raw).tiff',\n '/tmp/shared/dataset_5/city/13/1/2022-08-10-00_00_2022-08-10-23_59_Sentinel-2_L2A-1-B04_(Raw).tiff',\n '/tmp/shared/dataset_5/city/13/1/2022-08-10-00_00_2022-08-10-23_59_Sentinel-2_L2A-1-B05_(Raw).tiff',\n '/tmp/shared/dataset_5/city/13/1/2022-08-10-00_00_2022-08-10-23_59_Sentinel-2_L2A-1-B06_(Raw).tiff',\n '/tmp/shared/dataset_5/city/13/1/2022-08-10-00_00_2022-08-10-23_59_Sentinel-2_L2A-1-B07_(Raw).tiff',\n '/tmp/shared/dataset_5/city/13/1/2022-08-10-00_00_2022-08-10-23_59_Sentinel-2_L2A-1-B08_(Raw).tiff',\n '/tmp/shared/dataset_5/city/13/1/2022-08-10-00_00_2022-08-10-23_59_Sentinel-2_L2A-1-B09_(Raw).tiff',\n '/tmp/shared/dataset_5/city/13/1/2022-08-10-00_00_2022-08-10-23_59_Sentinel-2_L2A-1-B11_(Raw).tiff',\n '/tmp/shared/dataset_5/city/13/1/2022-08-10-00_00_2022-08-10-23_59_Sentinel-2_L2A-1-B12_(Raw).tiff',\n '/tmp/shared/dataset_5/city/13/1/2022-08-10-00_00_2022-08-10-23_59_Sentinel-2_L2A-1-B8A_(Raw).tiff',\n '/tmp/shared/dataset_5/city/13/2/2022-08-10-00_00_2022-08-10-23_59_Sentinel-2_L2A-2-B01_(Raw).tiff',\n '/tmp/shared/dataset_5/city/13/2/2022-08-10-00_00_2022-08-10-23_59_Sentinel-2_L2A-2-B02_(Raw).tiff',\n '/tmp/shared/dataset_5/city/13/2/2022-08-10-00_00_2022-08-10-23_59_Sentinel-2_L2A-2-B03_(Raw).tiff',\n '/tmp/shared/dataset_5/city/13/2/2022-08-10-00_00_2022-08-10-23_59_Sentinel-2_L2A-2-B04_(Raw).tiff',\n '/tmp/shared/dataset_5/city/13/2/2022-08-10-00_00_2022-08-10-23_59_Sentinel-2_L2A-2-B05_(Raw).tiff',\n '/tmp/shared/dataset_5/city/13/2/2022-08-10-00_00_2022-08-10-23_59_Sentinel-2_L2A-2-B06_(Raw).tiff',\n '/tmp/shared/dataset_5/city/13/2/2022-08-10-00_00_2022-08-10-23_59_Sentinel-2_L2A-2-B07_(Raw).tiff',\n '/tmp/shared/dataset_5/city/13/2/2022-08-10-00_00_2022-08-10-23_59_Sentinel-2_L2A-2-B08_(Raw).tiff',\n '/tmp/shared/dataset_5/city/13/2/2022-08-10-00_00_2022-08-10-23_59_Sentinel-2_L2A-2-B09_(Raw).tiff',\n '/tmp/shared/dataset_5/city/13/2/2022-08-10-00_00_2022-08-10-23_59_Sentinel-2_L2A-2-B11_(Raw).tiff',\n '/tmp/shared/dataset_5/city/13/2/2022-08-10-00_00_2022-08-10-23_59_Sentinel-2_L2A-2-B12_(Raw).tiff',\n '/tmp/shared/dataset_5/city/13/2/2022-08-10-00_00_2022-08-10-23_59_Sentinel-2_L2A-2-B8A_(Raw).tiff',\n '/tmp/shared/dataset_5/city/13/3/2022-08-10-00_00_2022-08-10-23_59_Sentinel-2_L2A-3-B01_(Raw).tiff',\n '/tmp/shared/dataset_5/city/13/3/2022-08-10-00_00_2022-08-10-23_59_Sentinel-2_L2A-3-B02_(Raw).tiff',\n '/tmp/shared/dataset_5/city/13/3/2022-08-10-00_00_2022-08-10-23_59_Sentinel-2_L2A-3-B03_(Raw).tiff',\n '/tmp/shared/dataset_5/city/13/3/2022-08-10-00_00_2022-08-10-23_59_Sentinel-2_L2A-3-B04_(Raw).tiff',\n '/tmp/shared/dataset_5/city/13/3/2022-08-10-00_00_2022-08-10-23_59_Sentinel-2_L2A-3-B05_(Raw).tiff',\n '/tmp/shared/dataset_5/city/13/3/2022-08-10-00_00_2022-08-10-23_59_Sentinel-2_L2A-3-B06_(Raw).tiff',\n '/tmp/shared/dataset_5/city/13/3/2022-08-10-00_00_2022-08-10-23_59_Sentinel-2_L2A-3-B07_(Raw).tiff',\n '/tmp/shared/dataset_5/city/13/3/2022-08-10-00_00_2022-08-10-23_59_Sentinel-2_L2A-3-B08_(Raw).tiff',\n '/tmp/shared/dataset_5/city/13/3/2022-08-10-00_00_2022-08-10-23_59_Sentinel-2_L2A-3-B09_(Raw).tiff',\n '/tmp/shared/dataset_5/city/13/3/2022-08-10-00_00_2022-08-10-23_59_Sentinel-2_L2A-3-B11_(Raw).tiff',\n '/tmp/shared/dataset_5/city/13/3/2022-08-10-00_00_2022-08-10-23_59_Sentinel-2_L2A-3-B12_(Raw).tiff',\n '/tmp/shared/dataset_5/city/13/3/2022-08-10-00_00_2022-08-10-23_59_Sentinel-2_L2A-3-B8A_(Raw).tiff',\n '/tmp/shared/dataset_5/city/14/0/2022-08-01-00_00_2022-08-01-23_59_Sentinel-2_L2A-0-B01_(Raw).tiff',\n '/tmp/shared/dataset_5/city/14/0/2022-08-01-00_00_2022-08-01-23_59_Sentinel-2_L2A-0-B02_(Raw).tiff',\n '/tmp/shared/dataset_5/city/14/0/2022-08-01-00_00_2022-08-01-23_59_Sentinel-2_L2A-0-B03_(Raw).tiff',\n '/tmp/shared/dataset_5/city/14/0/2022-08-01-00_00_2022-08-01-23_59_Sentinel-2_L2A-0-B04_(Raw).tiff',\n '/tmp/shared/dataset_5/city/14/0/2022-08-01-00_00_2022-08-01-23_59_Sentinel-2_L2A-0-B05_(Raw).tiff',\n '/tmp/shared/dataset_5/city/14/0/2022-08-01-00_00_2022-08-01-23_59_Sentinel-2_L2A-0-B06_(Raw).tiff',\n '/tmp/shared/dataset_5/city/14/0/2022-08-01-00_00_2022-08-01-23_59_Sentinel-2_L2A-0-B07_(Raw).tiff',\n '/tmp/shared/dataset_5/city/14/0/2022-08-01-00_00_2022-08-01-23_59_Sentinel-2_L2A-0-B08_(Raw).tiff',\n '/tmp/shared/dataset_5/city/14/0/2022-08-01-00_00_2022-08-01-23_59_Sentinel-2_L2A-0-B09_(Raw).tiff',\n '/tmp/shared/dataset_5/city/14/0/2022-08-01-00_00_2022-08-01-23_59_Sentinel-2_L2A-0-B11_(Raw).tiff',\n '/tmp/shared/dataset_5/city/14/0/2022-08-01-00_00_2022-08-01-23_59_Sentinel-2_L2A-0-B12_(Raw).tiff',\n '/tmp/shared/dataset_5/city/14/0/2022-08-01-00_00_2022-08-01-23_59_Sentinel-2_L2A-0-B8A_(Raw).tiff',\n '/tmp/shared/dataset_5/city/14/1/2022-08-01-00_00_2022-08-01-23_59_Sentinel-2_L2A-1-B01_(Raw).tiff',\n '/tmp/shared/dataset_5/city/14/1/2022-08-01-00_00_2022-08-01-23_59_Sentinel-2_L2A-1-B02_(Raw).tiff',\n '/tmp/shared/dataset_5/city/14/1/2022-08-01-00_00_2022-08-01-23_59_Sentinel-2_L2A-1-B03_(Raw).tiff',\n '/tmp/shared/dataset_5/city/14/1/2022-08-01-00_00_2022-08-01-23_59_Sentinel-2_L2A-1-B04_(Raw).tiff',\n '/tmp/shared/dataset_5/city/14/1/2022-08-01-00_00_2022-08-01-23_59_Sentinel-2_L2A-1-B05_(Raw).tiff',\n '/tmp/shared/dataset_5/city/14/1/2022-08-01-00_00_2022-08-01-23_59_Sentinel-2_L2A-1-B06_(Raw).tiff',\n '/tmp/shared/dataset_5/city/14/1/2022-08-01-00_00_2022-08-01-23_59_Sentinel-2_L2A-1-B07_(Raw).tiff',\n '/tmp/shared/dataset_5/city/14/1/2022-08-01-00_00_2022-08-01-23_59_Sentinel-2_L2A-1-B08_(Raw).tiff',\n '/tmp/shared/dataset_5/city/14/1/2022-08-01-00_00_2022-08-01-23_59_Sentinel-2_L2A-1-B09_(Raw).tiff',\n '/tmp/shared/dataset_5/city/14/1/2022-08-01-00_00_2022-08-01-23_59_Sentinel-2_L2A-1-B11_(Raw).tiff',\n '/tmp/shared/dataset_5/city/14/1/2022-08-01-00_00_2022-08-01-23_59_Sentinel-2_L2A-1-B12_(Raw).tiff',\n '/tmp/shared/dataset_5/city/14/1/2022-08-01-00_00_2022-08-01-23_59_Sentinel-2_L2A-1-B8A_(Raw).tiff',\n '/tmp/shared/dataset_5/city/14/2/2022-08-01-00_00_2022-08-01-23_59_Sentinel-2_L2A-2-B01_(Raw).tiff',\n '/tmp/shared/dataset_5/city/14/2/2022-08-01-00_00_2022-08-01-23_59_Sentinel-2_L2A-2-B02_(Raw).tiff',\n '/tmp/shared/dataset_5/city/14/2/2022-08-01-00_00_2022-08-01-23_59_Sentinel-2_L2A-2-B03_(Raw).tiff',\n '/tmp/shared/dataset_5/city/14/2/2022-08-01-00_00_2022-08-01-23_59_Sentinel-2_L2A-2-B04_(Raw).tiff',\n '/tmp/shared/dataset_5/city/14/2/2022-08-01-00_00_2022-08-01-23_59_Sentinel-2_L2A-2-B05_(Raw).tiff',\n '/tmp/shared/dataset_5/city/14/2/2022-08-01-00_00_2022-08-01-23_59_Sentinel-2_L2A-2-B06_(Raw).tiff',\n '/tmp/shared/dataset_5/city/14/2/2022-08-01-00_00_2022-08-01-23_59_Sentinel-2_L2A-2-B07_(Raw).tiff',\n '/tmp/shared/dataset_5/city/14/2/2022-08-01-00_00_2022-08-01-23_59_Sentinel-2_L2A-2-B08_(Raw).tiff',\n '/tmp/shared/dataset_5/city/14/2/2022-08-01-00_00_2022-08-01-23_59_Sentinel-2_L2A-2-B09_(Raw).tiff',\n '/tmp/shared/dataset_5/city/14/2/2022-08-01-00_00_2022-08-01-23_59_Sentinel-2_L2A-2-B11_(Raw).tiff',\n '/tmp/shared/dataset_5/city/14/2/2022-08-01-00_00_2022-08-01-23_59_Sentinel-2_L2A-2-B12_(Raw).tiff',\n '/tmp/shared/dataset_5/city/14/2/2022-08-01-00_00_2022-08-01-23_59_Sentinel-2_L2A-2-B8A_(Raw).tiff',\n '/tmp/shared/dataset_5/city/14/3/2022-08-01-00_00_2022-08-01-23_59_Sentinel-2_L2A-3-B01_(Raw).tiff',\n '/tmp/shared/dataset_5/city/14/3/2022-08-01-00_00_2022-08-01-23_59_Sentinel-2_L2A-3-B02_(Raw).tiff',\n '/tmp/shared/dataset_5/city/14/3/2022-08-01-00_00_2022-08-01-23_59_Sentinel-2_L2A-3-B03_(Raw).tiff',\n '/tmp/shared/dataset_5/city/14/3/2022-08-01-00_00_2022-08-01-23_59_Sentinel-2_L2A-3-B04_(Raw).tiff',\n '/tmp/shared/dataset_5/city/14/3/2022-08-01-00_00_2022-08-01-23_59_Sentinel-2_L2A-3-B05_(Raw).tiff',\n '/tmp/shared/dataset_5/city/14/3/2022-08-01-00_00_2022-08-01-23_59_Sentinel-2_L2A-3-B06_(Raw).tiff',\n '/tmp/shared/dataset_5/city/14/3/2022-08-01-00_00_2022-08-01-23_59_Sentinel-2_L2A-3-B07_(Raw).tiff',\n '/tmp/shared/dataset_5/city/14/3/2022-08-01-00_00_2022-08-01-23_59_Sentinel-2_L2A-3-B08_(Raw).tiff',\n '/tmp/shared/dataset_5/city/14/3/2022-08-01-00_00_2022-08-01-23_59_Sentinel-2_L2A-3-B09_(Raw).tiff',\n '/tmp/shared/dataset_5/city/14/3/2022-08-01-00_00_2022-08-01-23_59_Sentinel-2_L2A-3-B11_(Raw).tiff',\n '/tmp/shared/dataset_5/city/14/3/2022-08-01-00_00_2022-08-01-23_59_Sentinel-2_L2A-3-B12_(Raw).tiff',\n '/tmp/shared/dataset_5/city/14/3/2022-08-01-00_00_2022-08-01-23_59_Sentinel-2_L2A-3-B8A_(Raw).tiff',\n '/tmp/shared/dataset_5/city/14/4/2022-08-01-00_00_2022-08-01-23_59_Sentinel-2_L2A-4-B01_(Raw).tiff',\n '/tmp/shared/dataset_5/city/14/4/2022-08-01-00_00_2022-08-01-23_59_Sentinel-2_L2A-4-B02_(Raw).tiff',\n '/tmp/shared/dataset_5/city/14/4/2022-08-01-00_00_2022-08-01-23_59_Sentinel-2_L2A-4-B03_(Raw).tiff',\n '/tmp/shared/dataset_5/city/14/4/2022-08-01-00_00_2022-08-01-23_59_Sentinel-2_L2A-4-B04_(Raw).tiff',\n '/tmp/shared/dataset_5/city/14/4/2022-08-01-00_00_2022-08-01-23_59_Sentinel-2_L2A-4-B05_(Raw).tiff',\n '/tmp/shared/dataset_5/city/14/4/2022-08-01-00_00_2022-08-01-23_59_Sentinel-2_L2A-4-B06_(Raw).tiff',\n '/tmp/shared/dataset_5/city/14/4/2022-08-01-00_00_2022-08-01-23_59_Sentinel-2_L2A-4-B07_(Raw).tiff',\n '/tmp/shared/dataset_5/city/14/4/2022-08-01-00_00_2022-08-01-23_59_Sentinel-2_L2A-4-B08_(Raw).tiff',\n '/tmp/shared/dataset_5/city/14/4/2022-08-01-00_00_2022-08-01-23_59_Sentinel-2_L2A-4-B09_(Raw).tiff',\n '/tmp/shared/dataset_5/city/14/4/2022-08-01-00_00_2022-08-01-23_59_Sentinel-2_L2A-4-B11_(Raw).tiff',\n '/tmp/shared/dataset_5/city/14/4/2022-08-01-00_00_2022-08-01-23_59_Sentinel-2_L2A-4-B12_(Raw).tiff',\n '/tmp/shared/dataset_5/city/14/4/2022-08-01-00_00_2022-08-01-23_59_Sentinel-2_L2A-4-B8A_(Raw).tiff',\n '/tmp/shared/dataset_5/city/14/5/2022-08-01-00_00_2022-08-01-23_59_Sentinel-2_L2A-5-B01_(Raw).tiff',\n '/tmp/shared/dataset_5/city/14/5/2022-08-01-00_00_2022-08-01-23_59_Sentinel-2_L2A-5-B02_(Raw).tiff',\n '/tmp/shared/dataset_5/city/14/5/2022-08-01-00_00_2022-08-01-23_59_Sentinel-2_L2A-5-B03_(Raw).tiff',\n '/tmp/shared/dataset_5/city/14/5/2022-08-01-00_00_2022-08-01-23_59_Sentinel-2_L2A-5-B04_(Raw).tiff',\n '/tmp/shared/dataset_5/city/14/5/2022-08-01-00_00_2022-08-01-23_59_Sentinel-2_L2A-5-B05_(Raw).tiff',\n '/tmp/shared/dataset_5/city/14/5/2022-08-01-00_00_2022-08-01-23_59_Sentinel-2_L2A-5-B06_(Raw).tiff',\n '/tmp/shared/dataset_5/city/14/5/2022-08-01-00_00_2022-08-01-23_59_Sentinel-2_L2A-5-B07_(Raw).tiff',\n '/tmp/shared/dataset_5/city/14/5/2022-08-01-00_00_2022-08-01-23_59_Sentinel-2_L2A-5-B08_(Raw).tiff',\n '/tmp/shared/dataset_5/city/14/5/2022-08-01-00_00_2022-08-01-23_59_Sentinel-2_L2A-5-B09_(Raw).tiff',\n '/tmp/shared/dataset_5/city/14/5/2022-08-01-00_00_2022-08-01-23_59_Sentinel-2_L2A-5-B11_(Raw).tiff',\n '/tmp/shared/dataset_5/city/14/5/2022-08-01-00_00_2022-08-01-23_59_Sentinel-2_L2A-5-B12_(Raw).tiff',\n '/tmp/shared/dataset_5/city/14/5/2022-08-01-00_00_2022-08-01-23_59_Sentinel-2_L2A-5-B8A_(Raw).tiff',\n '/tmp/shared/dataset_5/city/15/0/2022-07-27-00_00_2022-07-27-23_59_Sentinel-2_L2A-0-B01_(Raw).tiff',\n '/tmp/shared/dataset_5/city/15/0/2022-07-27-00_00_2022-07-27-23_59_Sentinel-2_L2A-0-B02_(Raw).tiff',\n '/tmp/shared/dataset_5/city/15/0/2022-07-27-00_00_2022-07-27-23_59_Sentinel-2_L2A-0-B03_(Raw).tiff',\n '/tmp/shared/dataset_5/city/15/0/2022-07-27-00_00_2022-07-27-23_59_Sentinel-2_L2A-0-B04_(Raw).tiff',\n '/tmp/shared/dataset_5/city/15/0/2022-07-27-00_00_2022-07-27-23_59_Sentinel-2_L2A-0-B05_(Raw).tiff',\n '/tmp/shared/dataset_5/city/15/0/2022-07-27-00_00_2022-07-27-23_59_Sentinel-2_L2A-0-B06_(Raw).tiff',\n '/tmp/shared/dataset_5/city/15/0/2022-07-27-00_00_2022-07-27-23_59_Sentinel-2_L2A-0-B07_(Raw).tiff',\n '/tmp/shared/dataset_5/city/15/0/2022-07-27-00_00_2022-07-27-23_59_Sentinel-2_L2A-0-B08_(Raw).tiff',\n '/tmp/shared/dataset_5/city/15/0/2022-07-27-00_00_2022-07-27-23_59_Sentinel-2_L2A-0-B09_(Raw).tiff',\n '/tmp/shared/dataset_5/city/15/0/2022-07-27-00_00_2022-07-27-23_59_Sentinel-2_L2A-0-B11_(Raw).tiff',\n '/tmp/shared/dataset_5/city/15/0/2022-07-27-00_00_2022-07-27-23_59_Sentinel-2_L2A-0-B12_(Raw).tiff',\n '/tmp/shared/dataset_5/city/15/0/2022-07-27-00_00_2022-07-27-23_59_Sentinel-2_L2A-0-B8A_(Raw).tiff',\n '/tmp/shared/dataset_5/city/15/1/2022-07-27-00_00_2022-07-27-23_59_Sentinel-2_L2A-1-B01_(Raw).tiff',\n '/tmp/shared/dataset_5/city/15/1/2022-07-27-00_00_2022-07-27-23_59_Sentinel-2_L2A-1-B02_(Raw).tiff',\n '/tmp/shared/dataset_5/city/15/1/2022-07-27-00_00_2022-07-27-23_59_Sentinel-2_L2A-1-B03_(Raw).tiff',\n '/tmp/shared/dataset_5/city/15/1/2022-07-27-00_00_2022-07-27-23_59_Sentinel-2_L2A-1-B04_(Raw).tiff',\n '/tmp/shared/dataset_5/city/15/1/2022-07-27-00_00_2022-07-27-23_59_Sentinel-2_L2A-1-B05_(Raw).tiff',\n '/tmp/shared/dataset_5/city/15/1/2022-07-27-00_00_2022-07-27-23_59_Sentinel-2_L2A-1-B06_(Raw).tiff',\n '/tmp/shared/dataset_5/city/15/1/2022-07-27-00_00_2022-07-27-23_59_Sentinel-2_L2A-1-B07_(Raw).tiff',\n '/tmp/shared/dataset_5/city/15/1/2022-07-27-00_00_2022-07-27-23_59_Sentinel-2_L2A-1-B08_(Raw).tiff',\n '/tmp/shared/dataset_5/city/15/1/2022-07-27-00_00_2022-07-27-23_59_Sentinel-2_L2A-1-B09_(Raw).tiff',\n '/tmp/shared/dataset_5/city/15/1/2022-07-27-00_00_2022-07-27-23_59_Sentinel-2_L2A-1-B11_(Raw).tiff',\n '/tmp/shared/dataset_5/city/15/1/2022-07-27-00_00_2022-07-27-23_59_Sentinel-2_L2A-1-B12_(Raw).tiff',\n '/tmp/shared/dataset_5/city/15/1/2022-07-27-00_00_2022-07-27-23_59_Sentinel-2_L2A-1-B8A_(Raw).tiff',\n '/tmp/shared/dataset_5/city/15/2/2022-07-27-00_00_2022-07-27-23_59_Sentinel-2_L2A-2-B01_(Raw).tiff',\n '/tmp/shared/dataset_5/city/15/2/2022-07-27-00_00_2022-07-27-23_59_Sentinel-2_L2A-2-B02_(Raw).tiff',\n '/tmp/shared/dataset_5/city/15/2/2022-07-27-00_00_2022-07-27-23_59_Sentinel-2_L2A-2-B03_(Raw).tiff',\n '/tmp/shared/dataset_5/city/15/2/2022-07-27-00_00_2022-07-27-23_59_Sentinel-2_L2A-2-B04_(Raw).tiff',\n '/tmp/shared/dataset_5/city/15/2/2022-07-27-00_00_2022-07-27-23_59_Sentinel-2_L2A-2-B05_(Raw).tiff',\n '/tmp/shared/dataset_5/city/15/2/2022-07-27-00_00_2022-07-27-23_59_Sentinel-2_L2A-2-B06_(Raw).tiff',\n '/tmp/shared/dataset_5/city/15/2/2022-07-27-00_00_2022-07-27-23_59_Sentinel-2_L2A-2-B07_(Raw).tiff',\n '/tmp/shared/dataset_5/city/15/2/2022-07-27-00_00_2022-07-27-23_59_Sentinel-2_L2A-2-B08_(Raw).tiff',\n '/tmp/shared/dataset_5/city/15/2/2022-07-27-00_00_2022-07-27-23_59_Sentinel-2_L2A-2-B09_(Raw).tiff',\n '/tmp/shared/dataset_5/city/15/2/2022-07-27-00_00_2022-07-27-23_59_Sentinel-2_L2A-2-B11_(Raw).tiff',\n '/tmp/shared/dataset_5/city/15/2/2022-07-27-00_00_2022-07-27-23_59_Sentinel-2_L2A-2-B12_(Raw).tiff',\n '/tmp/shared/dataset_5/city/15/2/2022-07-27-00_00_2022-07-27-23_59_Sentinel-2_L2A-2-B8A_(Raw).tiff',\n '/tmp/shared/dataset_5/city/15/3/2022-07-27-00_00_2022-07-27-23_59_Sentinel-2_L2A-3-B01_(Raw).tiff',\n '/tmp/shared/dataset_5/city/15/3/2022-07-27-00_00_2022-07-27-23_59_Sentinel-2_L2A-3-B02_(Raw).tiff',\n '/tmp/shared/dataset_5/city/15/3/2022-07-27-00_00_2022-07-27-23_59_Sentinel-2_L2A-3-B03_(Raw).tiff',\n '/tmp/shared/dataset_5/city/15/3/2022-07-27-00_00_2022-07-27-23_59_Sentinel-2_L2A-3-B04_(Raw).tiff',\n '/tmp/shared/dataset_5/city/15/3/2022-07-27-00_00_2022-07-27-23_59_Sentinel-2_L2A-3-B05_(Raw).tiff',\n '/tmp/shared/dataset_5/city/15/3/2022-07-27-00_00_2022-07-27-23_59_Sentinel-2_L2A-3-B06_(Raw).tiff',\n '/tmp/shared/dataset_5/city/15/3/2022-07-27-00_00_2022-07-27-23_59_Sentinel-2_L2A-3-B07_(Raw).tiff',\n '/tmp/shared/dataset_5/city/15/3/2022-07-27-00_00_2022-07-27-23_59_Sentinel-2_L2A-3-B08_(Raw).tiff',\n '/tmp/shared/dataset_5/city/15/3/2022-07-27-00_00_2022-07-27-23_59_Sentinel-2_L2A-3-B09_(Raw).tiff',\n '/tmp/shared/dataset_5/city/15/3/2022-07-27-00_00_2022-07-27-23_59_Sentinel-2_L2A-3-B11_(Raw).tiff',\n '/tmp/shared/dataset_5/city/15/3/2022-07-27-00_00_2022-07-27-23_59_Sentinel-2_L2A-3-B12_(Raw).tiff',\n '/tmp/shared/dataset_5/city/15/3/2022-07-27-00_00_2022-07-27-23_59_Sentinel-2_L2A-3-B8A_(Raw).tiff',\n '/tmp/shared/dataset_5/city/15/4/2022-07-27-00_00_2022-07-27-23_59_Sentinel-2_L2A-4-B01_(Raw).tiff',\n '/tmp/shared/dataset_5/city/15/4/2022-07-27-00_00_2022-07-27-23_59_Sentinel-2_L2A-4-B02_(Raw).tiff',\n '/tmp/shared/dataset_5/city/15/4/2022-07-27-00_00_2022-07-27-23_59_Sentinel-2_L2A-4-B03_(Raw).tiff',\n '/tmp/shared/dataset_5/city/15/4/2022-07-27-00_00_2022-07-27-23_59_Sentinel-2_L2A-4-B04_(Raw).tiff',\n '/tmp/shared/dataset_5/city/15/4/2022-07-27-00_00_2022-07-27-23_59_Sentinel-2_L2A-4-B05_(Raw).tiff',\n '/tmp/shared/dataset_5/city/15/4/2022-07-27-00_00_2022-07-27-23_59_Sentinel-2_L2A-4-B06_(Raw).tiff',\n '/tmp/shared/dataset_5/city/15/4/2022-07-27-00_00_2022-07-27-23_59_Sentinel-2_L2A-4-B07_(Raw).tiff',\n '/tmp/shared/dataset_5/city/15/4/2022-07-27-00_00_2022-07-27-23_59_Sentinel-2_L2A-4-B08_(Raw).tiff',\n '/tmp/shared/dataset_5/city/15/4/2022-07-27-00_00_2022-07-27-23_59_Sentinel-2_L2A-4-B09_(Raw).tiff',\n '/tmp/shared/dataset_5/city/15/4/2022-07-27-00_00_2022-07-27-23_59_Sentinel-2_L2A-4-B11_(Raw).tiff',\n '/tmp/shared/dataset_5/city/15/4/2022-07-27-00_00_2022-07-27-23_59_Sentinel-2_L2A-4-B12_(Raw).tiff',\n '/tmp/shared/dataset_5/city/15/4/2022-07-27-00_00_2022-07-27-23_59_Sentinel-2_L2A-4-B8A_(Raw).tiff',\n '/tmp/shared/dataset_5/city/15/5/2022-07-27-00_00_2022-07-27-23_59_Sentinel-2_L2A-5-B01_(Raw).tiff',\n '/tmp/shared/dataset_5/city/15/5/2022-07-27-00_00_2022-07-27-23_59_Sentinel-2_L2A-5-B02_(Raw).tiff',\n '/tmp/shared/dataset_5/city/15/5/2022-07-27-00_00_2022-07-27-23_59_Sentinel-2_L2A-5-B03_(Raw).tiff',\n '/tmp/shared/dataset_5/city/15/5/2022-07-27-00_00_2022-07-27-23_59_Sentinel-2_L2A-5-B04_(Raw).tiff',\n '/tmp/shared/dataset_5/city/15/5/2022-07-27-00_00_2022-07-27-23_59_Sentinel-2_L2A-5-B05_(Raw).tiff',\n '/tmp/shared/dataset_5/city/15/5/2022-07-27-00_00_2022-07-27-23_59_Sentinel-2_L2A-5-B06_(Raw).tiff',\n '/tmp/shared/dataset_5/city/15/5/2022-07-27-00_00_2022-07-27-23_59_Sentinel-2_L2A-5-B07_(Raw).tiff',\n '/tmp/shared/dataset_5/city/15/5/2022-07-27-00_00_2022-07-27-23_59_Sentinel-2_L2A-5-B08_(Raw).tiff',\n '/tmp/shared/dataset_5/city/15/5/2022-07-27-00_00_2022-07-27-23_59_Sentinel-2_L2A-5-B09_(Raw).tiff',\n '/tmp/shared/dataset_5/city/15/5/2022-07-27-00_00_2022-07-27-23_59_Sentinel-2_L2A-5-B11_(Raw).tiff',\n '/tmp/shared/dataset_5/city/15/5/2022-07-27-00_00_2022-07-27-23_59_Sentinel-2_L2A-5-B12_(Raw).tiff',\n '/tmp/shared/dataset_5/city/15/5/2022-07-27-00_00_2022-07-27-23_59_Sentinel-2_L2A-5-B8A_(Raw).tiff',\n '/tmp/shared/dataset_5/city/15/6/2022-07-27-00_00_2022-07-27-23_59_Sentinel-2_L2A-6-B01_(Raw).tiff',\n '/tmp/shared/dataset_5/city/15/6/2022-07-27-00_00_2022-07-27-23_59_Sentinel-2_L2A-6-B02_(Raw).tiff',\n '/tmp/shared/dataset_5/city/15/6/2022-07-27-00_00_2022-07-27-23_59_Sentinel-2_L2A-6-B03_(Raw).tiff',\n '/tmp/shared/dataset_5/city/15/6/2022-07-27-00_00_2022-07-27-23_59_Sentinel-2_L2A-6-B04_(Raw).tiff',\n '/tmp/shared/dataset_5/city/15/6/2022-07-27-00_00_2022-07-27-23_59_Sentinel-2_L2A-6-B05_(Raw).tiff',\n '/tmp/shared/dataset_5/city/15/6/2022-07-27-00_00_2022-07-27-23_59_Sentinel-2_L2A-6-B06_(Raw).tiff',\n '/tmp/shared/dataset_5/city/15/6/2022-07-27-00_00_2022-07-27-23_59_Sentinel-2_L2A-6-B07_(Raw).tiff',\n '/tmp/shared/dataset_5/city/15/6/2022-07-27-00_00_2022-07-27-23_59_Sentinel-2_L2A-6-B08_(Raw).tiff',\n '/tmp/shared/dataset_5/city/15/6/2022-07-27-00_00_2022-07-27-23_59_Sentinel-2_L2A-6-B09_(Raw).tiff',\n '/tmp/shared/dataset_5/city/15/6/2022-07-27-00_00_2022-07-27-23_59_Sentinel-2_L2A-6-B11_(Raw).tiff',\n '/tmp/shared/dataset_5/city/15/6/2022-07-27-00_00_2022-07-27-23_59_Sentinel-2_L2A-6-B12_(Raw).tiff',\n '/tmp/shared/dataset_5/city/15/6/2022-07-27-00_00_2022-07-27-23_59_Sentinel-2_L2A-6-B8A_(Raw).tiff',\n '/tmp/shared/dataset_5/city/15/7/2022-07-27-00_00_2022-07-27-23_59_Sentinel-2_L2A-7-B01_(Raw).tiff',\n '/tmp/shared/dataset_5/city/15/7/2022-07-27-00_00_2022-07-27-23_59_Sentinel-2_L2A-7-B02_(Raw).tiff',\n '/tmp/shared/dataset_5/city/15/7/2022-07-27-00_00_2022-07-27-23_59_Sentinel-2_L2A-7-B03_(Raw).tiff',\n '/tmp/shared/dataset_5/city/15/7/2022-07-27-00_00_2022-07-27-23_59_Sentinel-2_L2A-7-B04_(Raw).tiff',\n '/tmp/shared/dataset_5/city/15/7/2022-07-27-00_00_2022-07-27-23_59_Sentinel-2_L2A-7-B05_(Raw).tiff',\n '/tmp/shared/dataset_5/city/15/7/2022-07-27-00_00_2022-07-27-23_59_Sentinel-2_L2A-7-B06_(Raw).tiff',\n '/tmp/shared/dataset_5/city/15/7/2022-07-27-00_00_2022-07-27-23_59_Sentinel-2_L2A-7-B07_(Raw).tiff',\n '/tmp/shared/dataset_5/city/15/7/2022-07-27-00_00_2022-07-27-23_59_Sentinel-2_L2A-7-B08_(Raw).tiff',\n '/tmp/shared/dataset_5/city/15/7/2022-07-27-00_00_2022-07-27-23_59_Sentinel-2_L2A-7-B09_(Raw).tiff',\n '/tmp/shared/dataset_5/city/15/7/2022-07-27-00_00_2022-07-27-23_59_Sentinel-2_L2A-7-B11_(Raw).tiff',\n '/tmp/shared/dataset_5/city/15/7/2022-07-27-00_00_2022-07-27-23_59_Sentinel-2_L2A-7-B12_(Raw).tiff',\n '/tmp/shared/dataset_5/city/15/7/2022-07-27-00_00_2022-07-27-23_59_Sentinel-2_L2A-7-B8A_(Raw).tiff',\n '/tmp/shared/dataset_5/city/15/8/2022-07-27-00_00_2022-07-27-23_59_Sentinel-2_L2A-8-B01_(Raw).tiff',\n '/tmp/shared/dataset_5/city/15/8/2022-07-27-00_00_2022-07-27-23_59_Sentinel-2_L2A-8-B02_(Raw).tiff',\n '/tmp/shared/dataset_5/city/15/8/2022-07-27-00_00_2022-07-27-23_59_Sentinel-2_L2A-8-B03_(Raw).tiff',\n '/tmp/shared/dataset_5/city/15/8/2022-07-27-00_00_2022-07-27-23_59_Sentinel-2_L2A-8-B04_(Raw).tiff',\n '/tmp/shared/dataset_5/city/15/8/2022-07-27-00_00_2022-07-27-23_59_Sentinel-2_L2A-8-B05_(Raw).tiff',\n '/tmp/shared/dataset_5/city/15/8/2022-07-27-00_00_2022-07-27-23_59_Sentinel-2_L2A-8-B06_(Raw).tiff',\n '/tmp/shared/dataset_5/city/15/8/2022-07-27-00_00_2022-07-27-23_59_Sentinel-2_L2A-8-B07_(Raw).tiff',\n '/tmp/shared/dataset_5/city/15/8/2022-07-27-00_00_2022-07-27-23_59_Sentinel-2_L2A-8-B08_(Raw).tiff',\n '/tmp/shared/dataset_5/city/15/8/2022-07-27-00_00_2022-07-27-23_59_Sentinel-2_L2A-8-B09_(Raw).tiff',\n '/tmp/shared/dataset_5/city/15/8/2022-07-27-00_00_2022-07-27-23_59_Sentinel-2_L2A-8-B11_(Raw).tiff',\n '/tmp/shared/dataset_5/city/15/8/2022-07-27-00_00_2022-07-27-23_59_Sentinel-2_L2A-8-B12_(Raw).tiff',\n '/tmp/shared/dataset_5/city/15/8/2022-07-27-00_00_2022-07-27-23_59_Sentinel-2_L2A-8-B8A_(Raw).tiff',\n '/tmp/shared/dataset_5/city/16/0/2022-12-01-00_00_2022-12-01-23_59_Sentinel-2_L2A-0-B01_(Raw).tiff',\n '/tmp/shared/dataset_5/city/16/0/2022-12-01-00_00_2022-12-01-23_59_Sentinel-2_L2A-0-B02_(Raw).tiff',\n '/tmp/shared/dataset_5/city/16/0/2022-12-01-00_00_2022-12-01-23_59_Sentinel-2_L2A-0-B03_(Raw).tiff',\n '/tmp/shared/dataset_5/city/16/0/2022-12-01-00_00_2022-12-01-23_59_Sentinel-2_L2A-0-B04_(Raw).tiff',\n '/tmp/shared/dataset_5/city/16/0/2022-12-01-00_00_2022-12-01-23_59_Sentinel-2_L2A-0-B05_(Raw).tiff',\n '/tmp/shared/dataset_5/city/16/0/2022-12-01-00_00_2022-12-01-23_59_Sentinel-2_L2A-0-B06_(Raw).tiff',\n '/tmp/shared/dataset_5/city/16/0/2022-12-01-00_00_2022-12-01-23_59_Sentinel-2_L2A-0-B07_(Raw).tiff',\n '/tmp/shared/dataset_5/city/16/0/2022-12-01-00_00_2022-12-01-23_59_Sentinel-2_L2A-0-B08_(Raw).tiff',\n '/tmp/shared/dataset_5/city/16/0/2022-12-01-00_00_2022-12-01-23_59_Sentinel-2_L2A-0-B09_(Raw).tiff',\n '/tmp/shared/dataset_5/city/16/0/2022-12-01-00_00_2022-12-01-23_59_Sentinel-2_L2A-0-B11_(Raw).tiff',\n '/tmp/shared/dataset_5/city/16/0/2022-12-01-00_00_2022-12-01-23_59_Sentinel-2_L2A-0-B12_(Raw).tiff',\n '/tmp/shared/dataset_5/city/16/0/2022-12-01-00_00_2022-12-01-23_59_Sentinel-2_L2A-0-B8A_(Raw).tiff',\n '/tmp/shared/dataset_5/city/16/1/2022-12-01-00_00_2022-12-01-23_59_Sentinel-2_L2A-1-B01_(Raw).tiff',\n '/tmp/shared/dataset_5/city/16/1/2022-12-01-00_00_2022-12-01-23_59_Sentinel-2_L2A-1-B02_(Raw).tiff',\n '/tmp/shared/dataset_5/city/16/1/2022-12-01-00_00_2022-12-01-23_59_Sentinel-2_L2A-1-B03_(Raw).tiff',\n '/tmp/shared/dataset_5/city/16/1/2022-12-01-00_00_2022-12-01-23_59_Sentinel-2_L2A-1-B04_(Raw).tiff',\n '/tmp/shared/dataset_5/city/16/1/2022-12-01-00_00_2022-12-01-23_59_Sentinel-2_L2A-1-B05_(Raw).tiff',\n '/tmp/shared/dataset_5/city/16/1/2022-12-01-00_00_2022-12-01-23_59_Sentinel-2_L2A-1-B06_(Raw).tiff',\n '/tmp/shared/dataset_5/city/16/1/2022-12-01-00_00_2022-12-01-23_59_Sentinel-2_L2A-1-B07_(Raw).tiff',\n '/tmp/shared/dataset_5/city/16/1/2022-12-01-00_00_2022-12-01-23_59_Sentinel-2_L2A-1-B08_(Raw).tiff',\n '/tmp/shared/dataset_5/city/16/1/2022-12-01-00_00_2022-12-01-23_59_Sentinel-2_L2A-1-B09_(Raw).tiff',\n '/tmp/shared/dataset_5/city/16/1/2022-12-01-00_00_2022-12-01-23_59_Sentinel-2_L2A-1-B11_(Raw).tiff',\n '/tmp/shared/dataset_5/city/16/1/2022-12-01-00_00_2022-12-01-23_59_Sentinel-2_L2A-1-B12_(Raw).tiff',\n '/tmp/shared/dataset_5/city/16/1/2022-12-01-00_00_2022-12-01-23_59_Sentinel-2_L2A-1-B8A_(Raw).tiff',\n '/tmp/shared/dataset_5/city/16/10/2022-12-01-00_00_2022-12-01-23_59_Sentinel-2_L2A-10-B01_(Raw).tiff',\n '/tmp/shared/dataset_5/city/16/10/2022-12-01-00_00_2022-12-01-23_59_Sentinel-2_L2A-10-B02_(Raw).tiff',\n '/tmp/shared/dataset_5/city/16/10/2022-12-01-00_00_2022-12-01-23_59_Sentinel-2_L2A-10-B03_(Raw).tiff',\n '/tmp/shared/dataset_5/city/16/10/2022-12-01-00_00_2022-12-01-23_59_Sentinel-2_L2A-10-B04_(Raw).tiff',\n '/tmp/shared/dataset_5/city/16/10/2022-12-01-00_00_2022-12-01-23_59_Sentinel-2_L2A-10-B05_(Raw).tiff',\n '/tmp/shared/dataset_5/city/16/10/2022-12-01-00_00_2022-12-01-23_59_Sentinel-2_L2A-10-B06_(Raw).tiff',\n '/tmp/shared/dataset_5/city/16/10/2022-12-01-00_00_2022-12-01-23_59_Sentinel-2_L2A-10-B07_(Raw).tiff',\n '/tmp/shared/dataset_5/city/16/10/2022-12-01-00_00_2022-12-01-23_59_Sentinel-2_L2A-10-B08_(Raw).tiff',\n '/tmp/shared/dataset_5/city/16/10/2022-12-01-00_00_2022-12-01-23_59_Sentinel-2_L2A-10-B09_(Raw).tiff',\n '/tmp/shared/dataset_5/city/16/10/2022-12-01-00_00_2022-12-01-23_59_Sentinel-2_L2A-10-B11_(Raw).tiff',\n '/tmp/shared/dataset_5/city/16/10/2022-12-01-00_00_2022-12-01-23_59_Sentinel-2_L2A-10-B12_(Raw).tiff',\n '/tmp/shared/dataset_5/city/16/10/2022-12-01-00_00_2022-12-01-23_59_Sentinel-2_L2A-10-B8A_(Raw).tiff',\n '/tmp/shared/dataset_5/city/16/2/2022-12-01-00_00_2022-12-01-23_59_Sentinel-2_L2A-2-B01_(Raw).tiff',\n '/tmp/shared/dataset_5/city/16/2/2022-12-01-00_00_2022-12-01-23_59_Sentinel-2_L2A-2-B02_(Raw).tiff',\n '/tmp/shared/dataset_5/city/16/2/2022-12-01-00_00_2022-12-01-23_59_Sentinel-2_L2A-2-B03_(Raw).tiff',\n '/tmp/shared/dataset_5/city/16/2/2022-12-01-00_00_2022-12-01-23_59_Sentinel-2_L2A-2-B04_(Raw).tiff',\n '/tmp/shared/dataset_5/city/16/2/2022-12-01-00_00_2022-12-01-23_59_Sentinel-2_L2A-2-B05_(Raw).tiff',\n '/tmp/shared/dataset_5/city/16/2/2022-12-01-00_00_2022-12-01-23_59_Sentinel-2_L2A-2-B06_(Raw).tiff',\n '/tmp/shared/dataset_5/city/16/2/2022-12-01-00_00_2022-12-01-23_59_Sentinel-2_L2A-2-B07_(Raw).tiff',\n '/tmp/shared/dataset_5/city/16/2/2022-12-01-00_00_2022-12-01-23_59_Sentinel-2_L2A-2-B08_(Raw).tiff',\n '/tmp/shared/dataset_5/city/16/2/2022-12-01-00_00_2022-12-01-23_59_Sentinel-2_L2A-2-B09_(Raw).tiff',\n '/tmp/shared/dataset_5/city/16/2/2022-12-01-00_00_2022-12-01-23_59_Sentinel-2_L2A-2-B11_(Raw).tiff',\n '/tmp/shared/dataset_5/city/16/2/2022-12-01-00_00_2022-12-01-23_59_Sentinel-2_L2A-2-B12_(Raw).tiff',\n '/tmp/shared/dataset_5/city/16/2/2022-12-01-00_00_2022-12-01-23_59_Sentinel-2_L2A-2-B8A_(Raw).tiff',\n '/tmp/shared/dataset_5/city/16/3/2022-12-01-00_00_2022-12-01-23_59_Sentinel-2_L2A-3-B01_(Raw).tiff',\n '/tmp/shared/dataset_5/city/16/3/2022-12-01-00_00_2022-12-01-23_59_Sentinel-2_L2A-3-B02_(Raw).tiff',\n '/tmp/shared/dataset_5/city/16/3/2022-12-01-00_00_2022-12-01-23_59_Sentinel-2_L2A-3-B03_(Raw).tiff',\n '/tmp/shared/dataset_5/city/16/3/2022-12-01-00_00_2022-12-01-23_59_Sentinel-2_L2A-3-B04_(Raw).tiff',\n '/tmp/shared/dataset_5/city/16/3/2022-12-01-00_00_2022-12-01-23_59_Sentinel-2_L2A-3-B05_(Raw).tiff',\n '/tmp/shared/dataset_5/city/16/3/2022-12-01-00_00_2022-12-01-23_59_Sentinel-2_L2A-3-B06_(Raw).tiff',\n '/tmp/shared/dataset_5/city/16/3/2022-12-01-00_00_2022-12-01-23_59_Sentinel-2_L2A-3-B07_(Raw).tiff',\n '/tmp/shared/dataset_5/city/16/3/2022-12-01-00_00_2022-12-01-23_59_Sentinel-2_L2A-3-B08_(Raw).tiff',\n '/tmp/shared/dataset_5/city/16/3/2022-12-01-00_00_2022-12-01-23_59_Sentinel-2_L2A-3-B09_(Raw).tiff',\n '/tmp/shared/dataset_5/city/16/3/2022-12-01-00_00_2022-12-01-23_59_Sentinel-2_L2A-3-B11_(Raw).tiff',\n '/tmp/shared/dataset_5/city/16/3/2022-12-01-00_00_2022-12-01-23_59_Sentinel-2_L2A-3-B12_(Raw).tiff',\n '/tmp/shared/dataset_5/city/16/3/2022-12-01-00_00_2022-12-01-23_59_Sentinel-2_L2A-3-B8A_(Raw).tiff',\n '/tmp/shared/dataset_5/city/16/4/2022-12-01-00_00_2022-12-01-23_59_Sentinel-2_L2A-4-B01_(Raw).tiff',\n '/tmp/shared/dataset_5/city/16/4/2022-12-01-00_00_2022-12-01-23_59_Sentinel-2_L2A-4-B02_(Raw).tiff',\n '/tmp/shared/dataset_5/city/16/4/2022-12-01-00_00_2022-12-01-23_59_Sentinel-2_L2A-4-B03_(Raw).tiff',\n '/tmp/shared/dataset_5/city/16/4/2022-12-01-00_00_2022-12-01-23_59_Sentinel-2_L2A-4-B04_(Raw).tiff',\n '/tmp/shared/dataset_5/city/16/4/2022-12-01-00_00_2022-12-01-23_59_Sentinel-2_L2A-4-B05_(Raw).tiff',\n '/tmp/shared/dataset_5/city/16/4/2022-12-01-00_00_2022-12-01-23_59_Sentinel-2_L2A-4-B06_(Raw).tiff',\n '/tmp/shared/dataset_5/city/16/4/2022-12-01-00_00_2022-12-01-23_59_Sentinel-2_L2A-4-B07_(Raw).tiff',\n '/tmp/shared/dataset_5/city/16/4/2022-12-01-00_00_2022-12-01-23_59_Sentinel-2_L2A-4-B08_(Raw).tiff',\n '/tmp/shared/dataset_5/city/16/4/2022-12-01-00_00_2022-12-01-23_59_Sentinel-2_L2A-4-B09_(Raw).tiff',\n '/tmp/shared/dataset_5/city/16/4/2022-12-01-00_00_2022-12-01-23_59_Sentinel-2_L2A-4-B11_(Raw).tiff',\n '/tmp/shared/dataset_5/city/16/4/2022-12-01-00_00_2022-12-01-23_59_Sentinel-2_L2A-4-B12_(Raw).tiff',\n '/tmp/shared/dataset_5/city/16/4/2022-12-01-00_00_2022-12-01-23_59_Sentinel-2_L2A-4-B8A_(Raw).tiff',\n '/tmp/shared/dataset_5/city/16/5/2022-12-01-00_00_2022-12-01-23_59_Sentinel-2_L2A-5-B01_(Raw).tiff',\n '/tmp/shared/dataset_5/city/16/5/2022-12-01-00_00_2022-12-01-23_59_Sentinel-2_L2A-5-B02_(Raw).tiff',\n '/tmp/shared/dataset_5/city/16/5/2022-12-01-00_00_2022-12-01-23_59_Sentinel-2_L2A-5-B03_(Raw).tiff',\n '/tmp/shared/dataset_5/city/16/5/2022-12-01-00_00_2022-12-01-23_59_Sentinel-2_L2A-5-B04_(Raw).tiff',\n '/tmp/shared/dataset_5/city/16/5/2022-12-01-00_00_2022-12-01-23_59_Sentinel-2_L2A-5-B05_(Raw).tiff',\n '/tmp/shared/dataset_5/city/16/5/2022-12-01-00_00_2022-12-01-23_59_Sentinel-2_L2A-5-B06_(Raw).tiff',\n '/tmp/shared/dataset_5/city/16/5/2022-12-01-00_00_2022-12-01-23_59_Sentinel-2_L2A-5-B07_(Raw).tiff',\n '/tmp/shared/dataset_5/city/16/5/2022-12-01-00_00_2022-12-01-23_59_Sentinel-2_L2A-5-B08_(Raw).tiff',\n '/tmp/shared/dataset_5/city/16/5/2022-12-01-00_00_2022-12-01-23_59_Sentinel-2_L2A-5-B09_(Raw).tiff',\n '/tmp/shared/dataset_5/city/16/5/2022-12-01-00_00_2022-12-01-23_59_Sentinel-2_L2A-5-B11_(Raw).tiff',\n '/tmp/shared/dataset_5/city/16/5/2022-12-01-00_00_2022-12-01-23_59_Sentinel-2_L2A-5-B12_(Raw).tiff',\n '/tmp/shared/dataset_5/city/16/5/2022-12-01-00_00_2022-12-01-23_59_Sentinel-2_L2A-5-B8A_(Raw).tiff',\n '/tmp/shared/dataset_5/city/16/6/2022-12-01-00_00_2022-12-01-23_59_Sentinel-2_L2A-6-B01_(Raw).tiff',\n '/tmp/shared/dataset_5/city/16/6/2022-12-01-00_00_2022-12-01-23_59_Sentinel-2_L2A-6-B02_(Raw).tiff',\n '/tmp/shared/dataset_5/city/16/6/2022-12-01-00_00_2022-12-01-23_59_Sentinel-2_L2A-6-B03_(Raw).tiff',\n '/tmp/shared/dataset_5/city/16/6/2022-12-01-00_00_2022-12-01-23_59_Sentinel-2_L2A-6-B04_(Raw).tiff',\n '/tmp/shared/dataset_5/city/16/6/2022-12-01-00_00_2022-12-01-23_59_Sentinel-2_L2A-6-B05_(Raw).tiff',\n '/tmp/shared/dataset_5/city/16/6/2022-12-01-00_00_2022-12-01-23_59_Sentinel-2_L2A-6-B06_(Raw).tiff',\n '/tmp/shared/dataset_5/city/16/6/2022-12-01-00_00_2022-12-01-23_59_Sentinel-2_L2A-6-B07_(Raw).tiff',\n '/tmp/shared/dataset_5/city/16/6/2022-12-01-00_00_2022-12-01-23_59_Sentinel-2_L2A-6-B08_(Raw).tiff',\n '/tmp/shared/dataset_5/city/16/6/2022-12-01-00_00_2022-12-01-23_59_Sentinel-2_L2A-6-B09_(Raw).tiff',\n '/tmp/shared/dataset_5/city/16/6/2022-12-01-00_00_2022-12-01-23_59_Sentinel-2_L2A-6-B11_(Raw).tiff',\n '/tmp/shared/dataset_5/city/16/6/2022-12-01-00_00_2022-12-01-23_59_Sentinel-2_L2A-6-B12_(Raw).tiff',\n '/tmp/shared/dataset_5/city/16/6/2022-12-01-00_00_2022-12-01-23_59_Sentinel-2_L2A-6-B8A_(Raw).tiff',\n '/tmp/shared/dataset_5/city/16/7/2022-12-01-00_00_2022-12-01-23_59_Sentinel-2_L2A-7-B01_(Raw).tiff',\n '/tmp/shared/dataset_5/city/16/7/2022-12-01-00_00_2022-12-01-23_59_Sentinel-2_L2A-7-B02_(Raw).tiff',\n '/tmp/shared/dataset_5/city/16/7/2022-12-01-00_00_2022-12-01-23_59_Sentinel-2_L2A-7-B03_(Raw).tiff',\n '/tmp/shared/dataset_5/city/16/7/2022-12-01-00_00_2022-12-01-23_59_Sentinel-2_L2A-7-B04_(Raw).tiff',\n '/tmp/shared/dataset_5/city/16/7/2022-12-01-00_00_2022-12-01-23_59_Sentinel-2_L2A-7-B05_(Raw).tiff',\n '/tmp/shared/dataset_5/city/16/7/2022-12-01-00_00_2022-12-01-23_59_Sentinel-2_L2A-7-B06_(Raw).tiff',\n '/tmp/shared/dataset_5/city/16/7/2022-12-01-00_00_2022-12-01-23_59_Sentinel-2_L2A-7-B07_(Raw).tiff',\n '/tmp/shared/dataset_5/city/16/7/2022-12-01-00_00_2022-12-01-23_59_Sentinel-2_L2A-7-B08_(Raw).tiff',\n '/tmp/shared/dataset_5/city/16/7/2022-12-01-00_00_2022-12-01-23_59_Sentinel-2_L2A-7-B09_(Raw).tiff',\n '/tmp/shared/dataset_5/city/16/7/2022-12-01-00_00_2022-12-01-23_59_Sentinel-2_L2A-7-B11_(Raw).tiff',\n '/tmp/shared/dataset_5/city/16/7/2022-12-01-00_00_2022-12-01-23_59_Sentinel-2_L2A-7-B12_(Raw).tiff',\n '/tmp/shared/dataset_5/city/16/7/2022-12-01-00_00_2022-12-01-23_59_Sentinel-2_L2A-7-B8A_(Raw).tiff',\n '/tmp/shared/dataset_5/city/16/8/2022-12-01-00_00_2022-12-01-23_59_Sentinel-2_L2A-8-B01_(Raw).tiff',\n '/tmp/shared/dataset_5/city/16/8/2022-12-01-00_00_2022-12-01-23_59_Sentinel-2_L2A-8-B02_(Raw).tiff',\n '/tmp/shared/dataset_5/city/16/8/2022-12-01-00_00_2022-12-01-23_59_Sentinel-2_L2A-8-B03_(Raw).tiff',\n '/tmp/shared/dataset_5/city/16/8/2022-12-01-00_00_2022-12-01-23_59_Sentinel-2_L2A-8-B04_(Raw).tiff',\n '/tmp/shared/dataset_5/city/16/8/2022-12-01-00_00_2022-12-01-23_59_Sentinel-2_L2A-8-B05_(Raw).tiff',\n '/tmp/shared/dataset_5/city/16/8/2022-12-01-00_00_2022-12-01-23_59_Sentinel-2_L2A-8-B06_(Raw).tiff',\n '/tmp/shared/dataset_5/city/16/8/2022-12-01-00_00_2022-12-01-23_59_Sentinel-2_L2A-8-B07_(Raw).tiff',\n '/tmp/shared/dataset_5/city/16/8/2022-12-01-00_00_2022-12-01-23_59_Sentinel-2_L2A-8-B08_(Raw).tiff',\n '/tmp/shared/dataset_5/city/16/8/2022-12-01-00_00_2022-12-01-23_59_Sentinel-2_L2A-8-B09_(Raw).tiff',\n '/tmp/shared/dataset_5/city/16/8/2022-12-01-00_00_2022-12-01-23_59_Sentinel-2_L2A-8-B11_(Raw).tiff',\n '/tmp/shared/dataset_5/city/16/8/2022-12-01-00_00_2022-12-01-23_59_Sentinel-2_L2A-8-B12_(Raw).tiff',\n '/tmp/shared/dataset_5/city/16/8/2022-12-01-00_00_2022-12-01-23_59_Sentinel-2_L2A-8-B8A_(Raw).tiff',\n '/tmp/shared/dataset_5/city/16/9/2022-12-01-00_00_2022-12-01-23_59_Sentinel-2_L2A-9-B01_(Raw).tiff',\n '/tmp/shared/dataset_5/city/16/9/2022-12-01-00_00_2022-12-01-23_59_Sentinel-2_L2A-9-B02_(Raw).tiff',\n '/tmp/shared/dataset_5/city/16/9/2022-12-01-00_00_2022-12-01-23_59_Sentinel-2_L2A-9-B03_(Raw).tiff',\n '/tmp/shared/dataset_5/city/16/9/2022-12-01-00_00_2022-12-01-23_59_Sentinel-2_L2A-9-B04_(Raw).tiff',\n '/tmp/shared/dataset_5/city/16/9/2022-12-01-00_00_2022-12-01-23_59_Sentinel-2_L2A-9-B05_(Raw).tiff',\n '/tmp/shared/dataset_5/city/16/9/2022-12-01-00_00_2022-12-01-23_59_Sentinel-2_L2A-9-B06_(Raw).tiff',\n '/tmp/shared/dataset_5/city/16/9/2022-12-01-00_00_2022-12-01-23_59_Sentinel-2_L2A-9-B07_(Raw).tiff',\n '/tmp/shared/dataset_5/city/16/9/2022-12-01-00_00_2022-12-01-23_59_Sentinel-2_L2A-9-B08_(Raw).tiff',\n '/tmp/shared/dataset_5/city/16/9/2022-12-01-00_00_2022-12-01-23_59_Sentinel-2_L2A-9-B09_(Raw).tiff',\n '/tmp/shared/dataset_5/city/16/9/2022-12-01-00_00_2022-12-01-23_59_Sentinel-2_L2A-9-B11_(Raw).tiff',\n '/tmp/shared/dataset_5/city/16/9/2022-12-01-00_00_2022-12-01-23_59_Sentinel-2_L2A-9-B12_(Raw).tiff',\n '/tmp/shared/dataset_5/city/16/9/2022-12-01-00_00_2022-12-01-23_59_Sentinel-2_L2A-9-B8A_(Raw).tiff',\n '/tmp/shared/dataset_5/city/17/0/2022-12-01-00_00_2022-12-01-23_59_Sentinel-2_L2A-0-B01_(Raw).tiff',\n '/tmp/shared/dataset_5/city/17/0/2022-12-01-00_00_2022-12-01-23_59_Sentinel-2_L2A-0-B02_(Raw).tiff',\n '/tmp/shared/dataset_5/city/17/0/2022-12-01-00_00_2022-12-01-23_59_Sentinel-2_L2A-0-B03_(Raw).tiff',\n '/tmp/shared/dataset_5/city/17/0/2022-12-01-00_00_2022-12-01-23_59_Sentinel-2_L2A-0-B04_(Raw).tiff',\n '/tmp/shared/dataset_5/city/17/0/2022-12-01-00_00_2022-12-01-23_59_Sentinel-2_L2A-0-B05_(Raw).tiff',\n '/tmp/shared/dataset_5/city/17/0/2022-12-01-00_00_2022-12-01-23_59_Sentinel-2_L2A-0-B06_(Raw).tiff',\n '/tmp/shared/dataset_5/city/17/0/2022-12-01-00_00_2022-12-01-23_59_Sentinel-2_L2A-0-B07_(Raw).tiff',\n '/tmp/shared/dataset_5/city/17/0/2022-12-01-00_00_2022-12-01-23_59_Sentinel-2_L2A-0-B08_(Raw).tiff',\n '/tmp/shared/dataset_5/city/17/0/2022-12-01-00_00_2022-12-01-23_59_Sentinel-2_L2A-0-B09_(Raw).tiff',\n '/tmp/shared/dataset_5/city/17/0/2022-12-01-00_00_2022-12-01-23_59_Sentinel-2_L2A-0-B11_(Raw).tiff',\n '/tmp/shared/dataset_5/city/17/0/2022-12-01-00_00_2022-12-01-23_59_Sentinel-2_L2A-0-B12_(Raw).tiff',\n '/tmp/shared/dataset_5/city/17/0/2022-12-01-00_00_2022-12-01-23_59_Sentinel-2_L2A-0-B8A_(Raw).tiff',\n '/tmp/shared/dataset_5/city/17/1/2022-12-01-00_00_2022-12-01-23_59_Sentinel-2_L2A-1-B01_(Raw).tiff',\n '/tmp/shared/dataset_5/city/17/1/2022-12-01-00_00_2022-12-01-23_59_Sentinel-2_L2A-1-B02_(Raw).tiff',\n '/tmp/shared/dataset_5/city/17/1/2022-12-01-00_00_2022-12-01-23_59_Sentinel-2_L2A-1-B03_(Raw).tiff',\n '/tmp/shared/dataset_5/city/17/1/2022-12-01-00_00_2022-12-01-23_59_Sentinel-2_L2A-1-B04_(Raw).tiff',\n '/tmp/shared/dataset_5/city/17/1/2022-12-01-00_00_2022-12-01-23_59_Sentinel-2_L2A-1-B05_(Raw).tiff',\n '/tmp/shared/dataset_5/city/17/1/2022-12-01-00_00_2022-12-01-23_59_Sentinel-2_L2A-1-B06_(Raw).tiff',\n '/tmp/shared/dataset_5/city/17/1/2022-12-01-00_00_2022-12-01-23_59_Sentinel-2_L2A-1-B07_(Raw).tiff',\n '/tmp/shared/dataset_5/city/17/1/2022-12-01-00_00_2022-12-01-23_59_Sentinel-2_L2A-1-B08_(Raw).tiff',\n '/tmp/shared/dataset_5/city/17/1/2022-12-01-00_00_2022-12-01-23_59_Sentinel-2_L2A-1-B09_(Raw).tiff',\n '/tmp/shared/dataset_5/city/17/1/2022-12-01-00_00_2022-12-01-23_59_Sentinel-2_L2A-1-B11_(Raw).tiff',\n '/tmp/shared/dataset_5/city/17/1/2022-12-01-00_00_2022-12-01-23_59_Sentinel-2_L2A-1-B12_(Raw).tiff',\n '/tmp/shared/dataset_5/city/17/1/2022-12-01-00_00_2022-12-01-23_59_Sentinel-2_L2A-1-B8A_(Raw).tiff',\n '/tmp/shared/dataset_5/city/17/2/2022-12-01-00_00_2022-12-01-23_59_Sentinel-2_L2A-2-B01_(Raw).tiff',\n '/tmp/shared/dataset_5/city/17/2/2022-12-01-00_00_2022-12-01-23_59_Sentinel-2_L2A-2-B02_(Raw).tiff',\n '/tmp/shared/dataset_5/city/17/2/2022-12-01-00_00_2022-12-01-23_59_Sentinel-2_L2A-2-B03_(Raw).tiff',\n '/tmp/shared/dataset_5/city/17/2/2022-12-01-00_00_2022-12-01-23_59_Sentinel-2_L2A-2-B04_(Raw).tiff',\n '/tmp/shared/dataset_5/city/17/2/2022-12-01-00_00_2022-12-01-23_59_Sentinel-2_L2A-2-B05_(Raw).tiff',\n '/tmp/shared/dataset_5/city/17/2/2022-12-01-00_00_2022-12-01-23_59_Sentinel-2_L2A-2-B06_(Raw).tiff',\n '/tmp/shared/dataset_5/city/17/2/2022-12-01-00_00_2022-12-01-23_59_Sentinel-2_L2A-2-B07_(Raw).tiff',\n '/tmp/shared/dataset_5/city/17/2/2022-12-01-00_00_2022-12-01-23_59_Sentinel-2_L2A-2-B08_(Raw).tiff',\n '/tmp/shared/dataset_5/city/17/2/2022-12-01-00_00_2022-12-01-23_59_Sentinel-2_L2A-2-B09_(Raw).tiff',\n '/tmp/shared/dataset_5/city/17/2/2022-12-01-00_00_2022-12-01-23_59_Sentinel-2_L2A-2-B11_(Raw).tiff',\n '/tmp/shared/dataset_5/city/17/2/2022-12-01-00_00_2022-12-01-23_59_Sentinel-2_L2A-2-B12_(Raw).tiff',\n '/tmp/shared/dataset_5/city/17/2/2022-12-01-00_00_2022-12-01-23_59_Sentinel-2_L2A-2-B8A_(Raw).tiff',\n '/tmp/shared/dataset_5/city/17/3/2022-12-01-00_00_2022-12-01-23_59_Sentinel-2_L2A-3-B01_(Raw).tiff',\n '/tmp/shared/dataset_5/city/17/3/2022-12-01-00_00_2022-12-01-23_59_Sentinel-2_L2A-3-B02_(Raw).tiff',\n '/tmp/shared/dataset_5/city/17/3/2022-12-01-00_00_2022-12-01-23_59_Sentinel-2_L2A-3-B03_(Raw).tiff',\n '/tmp/shared/dataset_5/city/17/3/2022-12-01-00_00_2022-12-01-23_59_Sentinel-2_L2A-3-B04_(Raw).tiff',\n '/tmp/shared/dataset_5/city/17/3/2022-12-01-00_00_2022-12-01-23_59_Sentinel-2_L2A-3-B05_(Raw).tiff',\n '/tmp/shared/dataset_5/city/17/3/2022-12-01-00_00_2022-12-01-23_59_Sentinel-2_L2A-3-B06_(Raw).tiff',\n '/tmp/shared/dataset_5/city/17/3/2022-12-01-00_00_2022-12-01-23_59_Sentinel-2_L2A-3-B07_(Raw).tiff',\n '/tmp/shared/dataset_5/city/17/3/2022-12-01-00_00_2022-12-01-23_59_Sentinel-2_L2A-3-B08_(Raw).tiff',\n '/tmp/shared/dataset_5/city/17/3/2022-12-01-00_00_2022-12-01-23_59_Sentinel-2_L2A-3-B09_(Raw).tiff',\n '/tmp/shared/dataset_5/city/17/3/2022-12-01-00_00_2022-12-01-23_59_Sentinel-2_L2A-3-B11_(Raw).tiff',\n '/tmp/shared/dataset_5/city/17/3/2022-12-01-00_00_2022-12-01-23_59_Sentinel-2_L2A-3-B12_(Raw).tiff',\n '/tmp/shared/dataset_5/city/17/3/2022-12-01-00_00_2022-12-01-23_59_Sentinel-2_L2A-3-B8A_(Raw).tiff',\n '/tmp/shared/dataset_5/city/17/4/2022-12-01-00_00_2022-12-01-23_59_Sentinel-2_L2A-4-B01_(Raw).tiff',\n '/tmp/shared/dataset_5/city/17/4/2022-12-01-00_00_2022-12-01-23_59_Sentinel-2_L2A-4-B02_(Raw).tiff',\n '/tmp/shared/dataset_5/city/17/4/2022-12-01-00_00_2022-12-01-23_59_Sentinel-2_L2A-4-B03_(Raw).tiff',\n '/tmp/shared/dataset_5/city/17/4/2022-12-01-00_00_2022-12-01-23_59_Sentinel-2_L2A-4-B04_(Raw).tiff',\n '/tmp/shared/dataset_5/city/17/4/2022-12-01-00_00_2022-12-01-23_59_Sentinel-2_L2A-4-B05_(Raw).tiff',\n '/tmp/shared/dataset_5/city/17/4/2022-12-01-00_00_2022-12-01-23_59_Sentinel-2_L2A-4-B06_(Raw).tiff',\n '/tmp/shared/dataset_5/city/17/4/2022-12-01-00_00_2022-12-01-23_59_Sentinel-2_L2A-4-B07_(Raw).tiff',\n '/tmp/shared/dataset_5/city/17/4/2022-12-01-00_00_2022-12-01-23_59_Sentinel-2_L2A-4-B08_(Raw).tiff',\n '/tmp/shared/dataset_5/city/17/4/2022-12-01-00_00_2022-12-01-23_59_Sentinel-2_L2A-4-B09_(Raw).tiff',\n '/tmp/shared/dataset_5/city/17/4/2022-12-01-00_00_2022-12-01-23_59_Sentinel-2_L2A-4-B11_(Raw).tiff',\n '/tmp/shared/dataset_5/city/17/4/2022-12-01-00_00_2022-12-01-23_59_Sentinel-2_L2A-4-B12_(Raw).tiff',\n '/tmp/shared/dataset_5/city/17/4/2022-12-01-00_00_2022-12-01-23_59_Sentinel-2_L2A-4-B8A_(Raw).tiff',\n '/tmp/shared/dataset_5/city/17/5/2022-12-01-00_00_2022-12-01-23_59_Sentinel-2_L2A-5-B01_(Raw).tiff',\n '/tmp/shared/dataset_5/city/17/5/2022-12-01-00_00_2022-12-01-23_59_Sentinel-2_L2A-5-B02_(Raw).tiff',\n '/tmp/shared/dataset_5/city/17/5/2022-12-01-00_00_2022-12-01-23_59_Sentinel-2_L2A-5-B03_(Raw).tiff',\n '/tmp/shared/dataset_5/city/17/5/2022-12-01-00_00_2022-12-01-23_59_Sentinel-2_L2A-5-B04_(Raw).tiff',\n '/tmp/shared/dataset_5/city/17/5/2022-12-01-00_00_2022-12-01-23_59_Sentinel-2_L2A-5-B05_(Raw).tiff',\n '/tmp/shared/dataset_5/city/17/5/2022-12-01-00_00_2022-12-01-23_59_Sentinel-2_L2A-5-B06_(Raw).tiff',\n '/tmp/shared/dataset_5/city/17/5/2022-12-01-00_00_2022-12-01-23_59_Sentinel-2_L2A-5-B07_(Raw).tiff',\n '/tmp/shared/dataset_5/city/17/5/2022-12-01-00_00_2022-12-01-23_59_Sentinel-2_L2A-5-B08_(Raw).tiff',\n '/tmp/shared/dataset_5/city/17/5/2022-12-01-00_00_2022-12-01-23_59_Sentinel-2_L2A-5-B09_(Raw).tiff',\n '/tmp/shared/dataset_5/city/17/5/2022-12-01-00_00_2022-12-01-23_59_Sentinel-2_L2A-5-B11_(Raw).tiff',\n '/tmp/shared/dataset_5/city/17/5/2022-12-01-00_00_2022-12-01-23_59_Sentinel-2_L2A-5-B12_(Raw).tiff',\n '/tmp/shared/dataset_5/city/17/5/2022-12-01-00_00_2022-12-01-23_59_Sentinel-2_L2A-5-B8A_(Raw).tiff',\n '/tmp/shared/dataset_5/city/18/0/2022-11-09-00_00_2022-11-09-23_59_Sentinel-2_L2A-0-B01_(Raw).tiff',\n '/tmp/shared/dataset_5/city/18/0/2022-11-09-00_00_2022-11-09-23_59_Sentinel-2_L2A-0-B02_(Raw).tiff',\n '/tmp/shared/dataset_5/city/18/0/2022-11-09-00_00_2022-11-09-23_59_Sentinel-2_L2A-0-B03_(Raw).tiff',\n '/tmp/shared/dataset_5/city/18/0/2022-11-09-00_00_2022-11-09-23_59_Sentinel-2_L2A-0-B04_(Raw).tiff',\n '/tmp/shared/dataset_5/city/18/0/2022-11-09-00_00_2022-11-09-23_59_Sentinel-2_L2A-0-B05_(Raw).tiff',\n '/tmp/shared/dataset_5/city/18/0/2022-11-09-00_00_2022-11-09-23_59_Sentinel-2_L2A-0-B06_(Raw).tiff',\n '/tmp/shared/dataset_5/city/18/0/2022-11-09-00_00_2022-11-09-23_59_Sentinel-2_L2A-0-B07_(Raw).tiff',\n '/tmp/shared/dataset_5/city/18/0/2022-11-09-00_00_2022-11-09-23_59_Sentinel-2_L2A-0-B08_(Raw).tiff',\n '/tmp/shared/dataset_5/city/18/0/2022-11-09-00_00_2022-11-09-23_59_Sentinel-2_L2A-0-B09_(Raw).tiff',\n '/tmp/shared/dataset_5/city/18/0/2022-11-09-00_00_2022-11-09-23_59_Sentinel-2_L2A-0-B11_(Raw).tiff',\n '/tmp/shared/dataset_5/city/18/0/2022-11-09-00_00_2022-11-09-23_59_Sentinel-2_L2A-0-B12_(Raw).tiff',\n '/tmp/shared/dataset_5/city/18/0/2022-11-09-00_00_2022-11-09-23_59_Sentinel-2_L2A-0-B8A_(Raw).tiff',\n '/tmp/shared/dataset_5/city/18/1/2022-11-09-00_00_2022-11-09-23_59_Sentinel-2_L2A-1-B01_(Raw).tiff',\n '/tmp/shared/dataset_5/city/18/1/2022-11-09-00_00_2022-11-09-23_59_Sentinel-2_L2A-1-B02_(Raw).tiff',\n '/tmp/shared/dataset_5/city/18/1/2022-11-09-00_00_2022-11-09-23_59_Sentinel-2_L2A-1-B03_(Raw).tiff',\n '/tmp/shared/dataset_5/city/18/1/2022-11-09-00_00_2022-11-09-23_59_Sentinel-2_L2A-1-B04_(Raw).tiff',\n '/tmp/shared/dataset_5/city/18/1/2022-11-09-00_00_2022-11-09-23_59_Sentinel-2_L2A-1-B05_(Raw).tiff',\n '/tmp/shared/dataset_5/city/18/1/2022-11-09-00_00_2022-11-09-23_59_Sentinel-2_L2A-1-B06_(Raw).tiff',\n '/tmp/shared/dataset_5/city/18/1/2022-11-09-00_00_2022-11-09-23_59_Sentinel-2_L2A-1-B07_(Raw).tiff',\n '/tmp/shared/dataset_5/city/18/1/2022-11-09-00_00_2022-11-09-23_59_Sentinel-2_L2A-1-B08_(Raw).tiff',\n '/tmp/shared/dataset_5/city/18/1/2022-11-09-00_00_2022-11-09-23_59_Sentinel-2_L2A-1-B09_(Raw).tiff',\n '/tmp/shared/dataset_5/city/18/1/2022-11-09-00_00_2022-11-09-23_59_Sentinel-2_L2A-1-B11_(Raw).tiff',\n '/tmp/shared/dataset_5/city/18/1/2022-11-09-00_00_2022-11-09-23_59_Sentinel-2_L2A-1-B12_(Raw).tiff',\n '/tmp/shared/dataset_5/city/18/1/2022-11-09-00_00_2022-11-09-23_59_Sentinel-2_L2A-1-B8A_(Raw).tiff',\n '/tmp/shared/dataset_5/city/18/10/2022-11-09-00_00_2022-11-09-23_59_Sentinel-2_L2A-10-B01_(Raw).tiff',\n '/tmp/shared/dataset_5/city/18/10/2022-11-09-00_00_2022-11-09-23_59_Sentinel-2_L2A-10-B02_(Raw).tiff',\n '/tmp/shared/dataset_5/city/18/10/2022-11-09-00_00_2022-11-09-23_59_Sentinel-2_L2A-10-B03_(Raw).tiff',\n '/tmp/shared/dataset_5/city/18/10/2022-11-09-00_00_2022-11-09-23_59_Sentinel-2_L2A-10-B04_(Raw).tiff',\n '/tmp/shared/dataset_5/city/18/10/2022-11-09-00_00_2022-11-09-23_59_Sentinel-2_L2A-10-B05_(Raw).tiff',\n '/tmp/shared/dataset_5/city/18/10/2022-11-09-00_00_2022-11-09-23_59_Sentinel-2_L2A-10-B06_(Raw).tiff',\n '/tmp/shared/dataset_5/city/18/10/2022-11-09-00_00_2022-11-09-23_59_Sentinel-2_L2A-10-B07_(Raw).tiff',\n '/tmp/shared/dataset_5/city/18/10/2022-11-09-00_00_2022-11-09-23_59_Sentinel-2_L2A-10-B08_(Raw).tiff',\n '/tmp/shared/dataset_5/city/18/10/2022-11-09-00_00_2022-11-09-23_59_Sentinel-2_L2A-10-B09_(Raw).tiff',\n '/tmp/shared/dataset_5/city/18/10/2022-11-09-00_00_2022-11-09-23_59_Sentinel-2_L2A-10-B11_(Raw).tiff',\n '/tmp/shared/dataset_5/city/18/10/2022-11-09-00_00_2022-11-09-23_59_Sentinel-2_L2A-10-B12_(Raw).tiff',\n '/tmp/shared/dataset_5/city/18/10/2022-11-09-00_00_2022-11-09-23_59_Sentinel-2_L2A-10-B8A_(Raw).tiff',\n '/tmp/shared/dataset_5/city/18/11/2022-11-09-00_00_2022-11-09-23_59_Sentinel-2_L2A-11-B01_(Raw).tiff',\n '/tmp/shared/dataset_5/city/18/11/2022-11-09-00_00_2022-11-09-23_59_Sentinel-2_L2A-11-B02_(Raw).tiff',\n '/tmp/shared/dataset_5/city/18/11/2022-11-09-00_00_2022-11-09-23_59_Sentinel-2_L2A-11-B03_(Raw).tiff',\n '/tmp/shared/dataset_5/city/18/11/2022-11-09-00_00_2022-11-09-23_59_Sentinel-2_L2A-11-B04_(Raw).tiff',\n '/tmp/shared/dataset_5/city/18/11/2022-11-09-00_00_2022-11-09-23_59_Sentinel-2_L2A-11-B05_(Raw).tiff',\n '/tmp/shared/dataset_5/city/18/11/2022-11-09-00_00_2022-11-09-23_59_Sentinel-2_L2A-11-B06_(Raw).tiff',\n '/tmp/shared/dataset_5/city/18/11/2022-11-09-00_00_2022-11-09-23_59_Sentinel-2_L2A-11-B07_(Raw).tiff',\n '/tmp/shared/dataset_5/city/18/11/2022-11-09-00_00_2022-11-09-23_59_Sentinel-2_L2A-11-B08_(Raw).tiff',\n '/tmp/shared/dataset_5/city/18/11/2022-11-09-00_00_2022-11-09-23_59_Sentinel-2_L2A-11-B09_(Raw).tiff',\n '/tmp/shared/dataset_5/city/18/11/2022-11-09-00_00_2022-11-09-23_59_Sentinel-2_L2A-11-B11_(Raw).tiff',\n '/tmp/shared/dataset_5/city/18/11/2022-11-09-00_00_2022-11-09-23_59_Sentinel-2_L2A-11-B12_(Raw).tiff',\n '/tmp/shared/dataset_5/city/18/11/2022-11-09-00_00_2022-11-09-23_59_Sentinel-2_L2A-11-B8A_(Raw).tiff',\n '/tmp/shared/dataset_5/city/18/2/2022-11-09-00_00_2022-11-09-23_59_Sentinel-2_L2A-2-B01_(Raw).tiff',\n '/tmp/shared/dataset_5/city/18/2/2022-11-09-00_00_2022-11-09-23_59_Sentinel-2_L2A-2-B02_(Raw).tiff',\n '/tmp/shared/dataset_5/city/18/2/2022-11-09-00_00_2022-11-09-23_59_Sentinel-2_L2A-2-B03_(Raw).tiff',\n '/tmp/shared/dataset_5/city/18/2/2022-11-09-00_00_2022-11-09-23_59_Sentinel-2_L2A-2-B04_(Raw).tiff',\n '/tmp/shared/dataset_5/city/18/2/2022-11-09-00_00_2022-11-09-23_59_Sentinel-2_L2A-2-B05_(Raw).tiff',\n '/tmp/shared/dataset_5/city/18/2/2022-11-09-00_00_2022-11-09-23_59_Sentinel-2_L2A-2-B06_(Raw).tiff',\n '/tmp/shared/dataset_5/city/18/2/2022-11-09-00_00_2022-11-09-23_59_Sentinel-2_L2A-2-B07_(Raw).tiff',\n '/tmp/shared/dataset_5/city/18/2/2022-11-09-00_00_2022-11-09-23_59_Sentinel-2_L2A-2-B08_(Raw).tiff',\n '/tmp/shared/dataset_5/city/18/2/2022-11-09-00_00_2022-11-09-23_59_Sentinel-2_L2A-2-B09_(Raw).tiff',\n '/tmp/shared/dataset_5/city/18/2/2022-11-09-00_00_2022-11-09-23_59_Sentinel-2_L2A-2-B11_(Raw).tiff',\n '/tmp/shared/dataset_5/city/18/2/2022-11-09-00_00_2022-11-09-23_59_Sentinel-2_L2A-2-B12_(Raw).tiff',\n '/tmp/shared/dataset_5/city/18/2/2022-11-09-00_00_2022-11-09-23_59_Sentinel-2_L2A-2-B8A_(Raw).tiff',\n '/tmp/shared/dataset_5/city/18/3/2022-11-09-00_00_2022-11-09-23_59_Sentinel-2_L2A-3-B01_(Raw).tiff',\n '/tmp/shared/dataset_5/city/18/3/2022-11-09-00_00_2022-11-09-23_59_Sentinel-2_L2A-3-B02_(Raw).tiff',\n '/tmp/shared/dataset_5/city/18/3/2022-11-09-00_00_2022-11-09-23_59_Sentinel-2_L2A-3-B03_(Raw).tiff',\n '/tmp/shared/dataset_5/city/18/3/2022-11-09-00_00_2022-11-09-23_59_Sentinel-2_L2A-3-B04_(Raw).tiff',\n '/tmp/shared/dataset_5/city/18/3/2022-11-09-00_00_2022-11-09-23_59_Sentinel-2_L2A-3-B05_(Raw).tiff',\n '/tmp/shared/dataset_5/city/18/3/2022-11-09-00_00_2022-11-09-23_59_Sentinel-2_L2A-3-B06_(Raw).tiff',\n '/tmp/shared/dataset_5/city/18/3/2022-11-09-00_00_2022-11-09-23_59_Sentinel-2_L2A-3-B07_(Raw).tiff',\n '/tmp/shared/dataset_5/city/18/3/2022-11-09-00_00_2022-11-09-23_59_Sentinel-2_L2A-3-B08_(Raw).tiff',\n '/tmp/shared/dataset_5/city/18/3/2022-11-09-00_00_2022-11-09-23_59_Sentinel-2_L2A-3-B09_(Raw).tiff',\n '/tmp/shared/dataset_5/city/18/3/2022-11-09-00_00_2022-11-09-23_59_Sentinel-2_L2A-3-B11_(Raw).tiff',\n '/tmp/shared/dataset_5/city/18/3/2022-11-09-00_00_2022-11-09-23_59_Sentinel-2_L2A-3-B12_(Raw).tiff',\n '/tmp/shared/dataset_5/city/18/3/2022-11-09-00_00_2022-11-09-23_59_Sentinel-2_L2A-3-B8A_(Raw).tiff',\n '/tmp/shared/dataset_5/city/18/4/2022-11-09-00_00_2022-11-09-23_59_Sentinel-2_L2A-4-B01_(Raw).tiff',\n '/tmp/shared/dataset_5/city/18/4/2022-11-09-00_00_2022-11-09-23_59_Sentinel-2_L2A-4-B02_(Raw).tiff',\n '/tmp/shared/dataset_5/city/18/4/2022-11-09-00_00_2022-11-09-23_59_Sentinel-2_L2A-4-B03_(Raw).tiff',\n '/tmp/shared/dataset_5/city/18/4/2022-11-09-00_00_2022-11-09-23_59_Sentinel-2_L2A-4-B04_(Raw).tiff',\n '/tmp/shared/dataset_5/city/18/4/2022-11-09-00_00_2022-11-09-23_59_Sentinel-2_L2A-4-B05_(Raw).tiff',\n '/tmp/shared/dataset_5/city/18/4/2022-11-09-00_00_2022-11-09-23_59_Sentinel-2_L2A-4-B06_(Raw).tiff',\n '/tmp/shared/dataset_5/city/18/4/2022-11-09-00_00_2022-11-09-23_59_Sentinel-2_L2A-4-B07_(Raw).tiff',\n '/tmp/shared/dataset_5/city/18/4/2022-11-09-00_00_2022-11-09-23_59_Sentinel-2_L2A-4-B08_(Raw).tiff',\n '/tmp/shared/dataset_5/city/18/4/2022-11-09-00_00_2022-11-09-23_59_Sentinel-2_L2A-4-B09_(Raw).tiff',\n '/tmp/shared/dataset_5/city/18/4/2022-11-09-00_00_2022-11-09-23_59_Sentinel-2_L2A-4-B11_(Raw).tiff',\n '/tmp/shared/dataset_5/city/18/4/2022-11-09-00_00_2022-11-09-23_59_Sentinel-2_L2A-4-B12_(Raw).tiff',\n '/tmp/shared/dataset_5/city/18/4/2022-11-09-00_00_2022-11-09-23_59_Sentinel-2_L2A-4-B8A_(Raw).tiff',\n '/tmp/shared/dataset_5/city/18/5/2022-11-09-00_00_2022-11-09-23_59_Sentinel-2_L2A-5-B01_(Raw).tiff',\n '/tmp/shared/dataset_5/city/18/5/2022-11-09-00_00_2022-11-09-23_59_Sentinel-2_L2A-5-B02_(Raw).tiff',\n '/tmp/shared/dataset_5/city/18/5/2022-11-09-00_00_2022-11-09-23_59_Sentinel-2_L2A-5-B03_(Raw).tiff',\n '/tmp/shared/dataset_5/city/18/5/2022-11-09-00_00_2022-11-09-23_59_Sentinel-2_L2A-5-B04_(Raw).tiff',\n '/tmp/shared/dataset_5/city/18/5/2022-11-09-00_00_2022-11-09-23_59_Sentinel-2_L2A-5-B05_(Raw).tiff',\n '/tmp/shared/dataset_5/city/18/5/2022-11-09-00_00_2022-11-09-23_59_Sentinel-2_L2A-5-B06_(Raw).tiff',\n '/tmp/shared/dataset_5/city/18/5/2022-11-09-00_00_2022-11-09-23_59_Sentinel-2_L2A-5-B07_(Raw).tiff',\n '/tmp/shared/dataset_5/city/18/5/2022-11-09-00_00_2022-11-09-23_59_Sentinel-2_L2A-5-B08_(Raw).tiff',\n '/tmp/shared/dataset_5/city/18/5/2022-11-09-00_00_2022-11-09-23_59_Sentinel-2_L2A-5-B09_(Raw).tiff',\n '/tmp/shared/dataset_5/city/18/5/2022-11-09-00_00_2022-11-09-23_59_Sentinel-2_L2A-5-B11_(Raw).tiff',\n '/tmp/shared/dataset_5/city/18/5/2022-11-09-00_00_2022-11-09-23_59_Sentinel-2_L2A-5-B12_(Raw).tiff',\n '/tmp/shared/dataset_5/city/18/5/2022-11-09-00_00_2022-11-09-23_59_Sentinel-2_L2A-5-B8A_(Raw).tiff',\n '/tmp/shared/dataset_5/city/18/6/2022-11-09-00_00_2022-11-09-23_59_Sentinel-2_L2A-6-B01_(Raw).tiff',\n '/tmp/shared/dataset_5/city/18/6/2022-11-09-00_00_2022-11-09-23_59_Sentinel-2_L2A-6-B02_(Raw).tiff',\n '/tmp/shared/dataset_5/city/18/6/2022-11-09-00_00_2022-11-09-23_59_Sentinel-2_L2A-6-B03_(Raw).tiff',\n '/tmp/shared/dataset_5/city/18/6/2022-11-09-00_00_2022-11-09-23_59_Sentinel-2_L2A-6-B04_(Raw).tiff',\n '/tmp/shared/dataset_5/city/18/6/2022-11-09-00_00_2022-11-09-23_59_Sentinel-2_L2A-6-B05_(Raw).tiff',\n '/tmp/shared/dataset_5/city/18/6/2022-11-09-00_00_2022-11-09-23_59_Sentinel-2_L2A-6-B06_(Raw).tiff',\n '/tmp/shared/dataset_5/city/18/6/2022-11-09-00_00_2022-11-09-23_59_Sentinel-2_L2A-6-B07_(Raw).tiff',\n '/tmp/shared/dataset_5/city/18/6/2022-11-09-00_00_2022-11-09-23_59_Sentinel-2_L2A-6-B08_(Raw).tiff',\n '/tmp/shared/dataset_5/city/18/6/2022-11-09-00_00_2022-11-09-23_59_Sentinel-2_L2A-6-B09_(Raw).tiff',\n '/tmp/shared/dataset_5/city/18/6/2022-11-09-00_00_2022-11-09-23_59_Sentinel-2_L2A-6-B11_(Raw).tiff',\n '/tmp/shared/dataset_5/city/18/6/2022-11-09-00_00_2022-11-09-23_59_Sentinel-2_L2A-6-B12_(Raw).tiff',\n '/tmp/shared/dataset_5/city/18/6/2022-11-09-00_00_2022-11-09-23_59_Sentinel-2_L2A-6-B8A_(Raw).tiff',\n '/tmp/shared/dataset_5/city/18/7/2022-11-09-00_00_2022-11-09-23_59_Sentinel-2_L2A-7-B01_(Raw).tiff',\n '/tmp/shared/dataset_5/city/18/7/2022-11-09-00_00_2022-11-09-23_59_Sentinel-2_L2A-7-B02_(Raw).tiff',\n '/tmp/shared/dataset_5/city/18/7/2022-11-09-00_00_2022-11-09-23_59_Sentinel-2_L2A-7-B03_(Raw).tiff',\n '/tmp/shared/dataset_5/city/18/7/2022-11-09-00_00_2022-11-09-23_59_Sentinel-2_L2A-7-B04_(Raw).tiff',\n '/tmp/shared/dataset_5/city/18/7/2022-11-09-00_00_2022-11-09-23_59_Sentinel-2_L2A-7-B05_(Raw).tiff',\n '/tmp/shared/dataset_5/city/18/7/2022-11-09-00_00_2022-11-09-23_59_Sentinel-2_L2A-7-B06_(Raw).tiff',\n '/tmp/shared/dataset_5/city/18/7/2022-11-09-00_00_2022-11-09-23_59_Sentinel-2_L2A-7-B07_(Raw).tiff',\n '/tmp/shared/dataset_5/city/18/7/2022-11-09-00_00_2022-11-09-23_59_Sentinel-2_L2A-7-B08_(Raw).tiff',\n '/tmp/shared/dataset_5/city/18/7/2022-11-09-00_00_2022-11-09-23_59_Sentinel-2_L2A-7-B09_(Raw).tiff',\n '/tmp/shared/dataset_5/city/18/7/2022-11-09-00_00_2022-11-09-23_59_Sentinel-2_L2A-7-B11_(Raw).tiff',\n '/tmp/shared/dataset_5/city/18/7/2022-11-09-00_00_2022-11-09-23_59_Sentinel-2_L2A-7-B12_(Raw).tiff',\n '/tmp/shared/dataset_5/city/18/7/2022-11-09-00_00_2022-11-09-23_59_Sentinel-2_L2A-7-B8A_(Raw).tiff',\n '/tmp/shared/dataset_5/city/18/8/2022-11-09-00_00_2022-11-09-23_59_Sentinel-2_L2A-8-B01_(Raw).tiff',\n '/tmp/shared/dataset_5/city/18/8/2022-11-09-00_00_2022-11-09-23_59_Sentinel-2_L2A-8-B02_(Raw).tiff',\n '/tmp/shared/dataset_5/city/18/8/2022-11-09-00_00_2022-11-09-23_59_Sentinel-2_L2A-8-B03_(Raw).tiff',\n '/tmp/shared/dataset_5/city/18/8/2022-11-09-00_00_2022-11-09-23_59_Sentinel-2_L2A-8-B04_(Raw).tiff',\n '/tmp/shared/dataset_5/city/18/8/2022-11-09-00_00_2022-11-09-23_59_Sentinel-2_L2A-8-B05_(Raw).tiff',\n '/tmp/shared/dataset_5/city/18/8/2022-11-09-00_00_2022-11-09-23_59_Sentinel-2_L2A-8-B06_(Raw).tiff',\n '/tmp/shared/dataset_5/city/18/8/2022-11-09-00_00_2022-11-09-23_59_Sentinel-2_L2A-8-B07_(Raw).tiff',\n '/tmp/shared/dataset_5/city/18/8/2022-11-09-00_00_2022-11-09-23_59_Sentinel-2_L2A-8-B08_(Raw).tiff',\n '/tmp/shared/dataset_5/city/18/8/2022-11-09-00_00_2022-11-09-23_59_Sentinel-2_L2A-8-B09_(Raw).tiff',\n '/tmp/shared/dataset_5/city/18/8/2022-11-09-00_00_2022-11-09-23_59_Sentinel-2_L2A-8-B11_(Raw).tiff',\n '/tmp/shared/dataset_5/city/18/8/2022-11-09-00_00_2022-11-09-23_59_Sentinel-2_L2A-8-B12_(Raw).tiff',\n '/tmp/shared/dataset_5/city/18/8/2022-11-09-00_00_2022-11-09-23_59_Sentinel-2_L2A-8-B8A_(Raw).tiff',\n '/tmp/shared/dataset_5/city/18/9/2022-11-09-00_00_2022-11-09-23_59_Sentinel-2_L2A-9-B01_(Raw).tiff',\n '/tmp/shared/dataset_5/city/18/9/2022-11-09-00_00_2022-11-09-23_59_Sentinel-2_L2A-9-B02_(Raw).tiff',\n '/tmp/shared/dataset_5/city/18/9/2022-11-09-00_00_2022-11-09-23_59_Sentinel-2_L2A-9-B03_(Raw).tiff',\n '/tmp/shared/dataset_5/city/18/9/2022-11-09-00_00_2022-11-09-23_59_Sentinel-2_L2A-9-B04_(Raw).tiff',\n '/tmp/shared/dataset_5/city/18/9/2022-11-09-00_00_2022-11-09-23_59_Sentinel-2_L2A-9-B05_(Raw).tiff',\n '/tmp/shared/dataset_5/city/18/9/2022-11-09-00_00_2022-11-09-23_59_Sentinel-2_L2A-9-B06_(Raw).tiff',\n '/tmp/shared/dataset_5/city/18/9/2022-11-09-00_00_2022-11-09-23_59_Sentinel-2_L2A-9-B07_(Raw).tiff',\n '/tmp/shared/dataset_5/city/18/9/2022-11-09-00_00_2022-11-09-23_59_Sentinel-2_L2A-9-B08_(Raw).tiff',\n '/tmp/shared/dataset_5/city/18/9/2022-11-09-00_00_2022-11-09-23_59_Sentinel-2_L2A-9-B09_(Raw).tiff',\n '/tmp/shared/dataset_5/city/18/9/2022-11-09-00_00_2022-11-09-23_59_Sentinel-2_L2A-9-B11_(Raw).tiff',\n '/tmp/shared/dataset_5/city/18/9/2022-11-09-00_00_2022-11-09-23_59_Sentinel-2_L2A-9-B12_(Raw).tiff',\n '/tmp/shared/dataset_5/city/18/9/2022-11-09-00_00_2022-11-09-23_59_Sentinel-2_L2A-9-B8A_(Raw).tiff',\n '/tmp/shared/dataset_5/city/19/0/2022-11-09-00_00_2022-11-09-23_59_Sentinel-2_L2A-0-B01_(Raw).tiff',\n '/tmp/shared/dataset_5/city/19/0/2022-11-09-00_00_2022-11-09-23_59_Sentinel-2_L2A-0-B02_(Raw).tiff',\n '/tmp/shared/dataset_5/city/19/0/2022-11-09-00_00_2022-11-09-23_59_Sentinel-2_L2A-0-B03_(Raw).tiff',\n '/tmp/shared/dataset_5/city/19/0/2022-11-09-00_00_2022-11-09-23_59_Sentinel-2_L2A-0-B04_(Raw).tiff',\n '/tmp/shared/dataset_5/city/19/0/2022-11-09-00_00_2022-11-09-23_59_Sentinel-2_L2A-0-B05_(Raw).tiff',\n '/tmp/shared/dataset_5/city/19/0/2022-11-09-00_00_2022-11-09-23_59_Sentinel-2_L2A-0-B06_(Raw).tiff',\n '/tmp/shared/dataset_5/city/19/0/2022-11-09-00_00_2022-11-09-23_59_Sentinel-2_L2A-0-B07_(Raw).tiff',\n '/tmp/shared/dataset_5/city/19/0/2022-11-09-00_00_2022-11-09-23_59_Sentinel-2_L2A-0-B08_(Raw).tiff',\n '/tmp/shared/dataset_5/city/19/0/2022-11-09-00_00_2022-11-09-23_59_Sentinel-2_L2A-0-B09_(Raw).tiff',\n '/tmp/shared/dataset_5/city/19/0/2022-11-09-00_00_2022-11-09-23_59_Sentinel-2_L2A-0-B11_(Raw).tiff',\n '/tmp/shared/dataset_5/city/19/0/2022-11-09-00_00_2022-11-09-23_59_Sentinel-2_L2A-0-B12_(Raw).tiff',\n '/tmp/shared/dataset_5/city/19/0/2022-11-09-00_00_2022-11-09-23_59_Sentinel-2_L2A-0-B8A_(Raw).tiff',\n '/tmp/shared/dataset_5/city/19/1/2022-11-09-00_00_2022-11-09-23_59_Sentinel-2_L2A-1-B01_(Raw).tiff',\n '/tmp/shared/dataset_5/city/19/1/2022-11-09-00_00_2022-11-09-23_59_Sentinel-2_L2A-1-B02_(Raw).tiff',\n '/tmp/shared/dataset_5/city/19/1/2022-11-09-00_00_2022-11-09-23_59_Sentinel-2_L2A-1-B03_(Raw).tiff',\n '/tmp/shared/dataset_5/city/19/1/2022-11-09-00_00_2022-11-09-23_59_Sentinel-2_L2A-1-B04_(Raw).tiff',\n '/tmp/shared/dataset_5/city/19/1/2022-11-09-00_00_2022-11-09-23_59_Sentinel-2_L2A-1-B05_(Raw).tiff',\n '/tmp/shared/dataset_5/city/19/1/2022-11-09-00_00_2022-11-09-23_59_Sentinel-2_L2A-1-B06_(Raw).tiff',\n '/tmp/shared/dataset_5/city/19/1/2022-11-09-00_00_2022-11-09-23_59_Sentinel-2_L2A-1-B07_(Raw).tiff',\n '/tmp/shared/dataset_5/city/19/1/2022-11-09-00_00_2022-11-09-23_59_Sentinel-2_L2A-1-B08_(Raw).tiff',\n '/tmp/shared/dataset_5/city/19/1/2022-11-09-00_00_2022-11-09-23_59_Sentinel-2_L2A-1-B09_(Raw).tiff',\n '/tmp/shared/dataset_5/city/19/1/2022-11-09-00_00_2022-11-09-23_59_Sentinel-2_L2A-1-B11_(Raw).tiff',\n '/tmp/shared/dataset_5/city/19/1/2022-11-09-00_00_2022-11-09-23_59_Sentinel-2_L2A-1-B12_(Raw).tiff',\n '/tmp/shared/dataset_5/city/19/1/2022-11-09-00_00_2022-11-09-23_59_Sentinel-2_L2A-1-B8A_(Raw).tiff',\n '/tmp/shared/dataset_5/city/22/0/2022-11-09-00_00_2022-11-09-23_59_Sentinel-2_L2A-0-B01_(Raw).tiff',\n '/tmp/shared/dataset_5/city/22/0/2022-11-09-00_00_2022-11-09-23_59_Sentinel-2_L2A-0-B02_(Raw).tiff',\n '/tmp/shared/dataset_5/city/22/0/2022-11-09-00_00_2022-11-09-23_59_Sentinel-2_L2A-0-B03_(Raw).tiff',\n '/tmp/shared/dataset_5/city/22/0/2022-11-09-00_00_2022-11-09-23_59_Sentinel-2_L2A-0-B04_(Raw).tiff',\n '/tmp/shared/dataset_5/city/22/0/2022-11-09-00_00_2022-11-09-23_59_Sentinel-2_L2A-0-B05_(Raw).tiff',\n '/tmp/shared/dataset_5/city/22/0/2022-11-09-00_00_2022-11-09-23_59_Sentinel-2_L2A-0-B06_(Raw).tiff',\n '/tmp/shared/dataset_5/city/22/0/2022-11-09-00_00_2022-11-09-23_59_Sentinel-2_L2A-0-B07_(Raw).tiff',\n '/tmp/shared/dataset_5/city/22/0/2022-11-09-00_00_2022-11-09-23_59_Sentinel-2_L2A-0-B08_(Raw).tiff',\n '/tmp/shared/dataset_5/city/22/0/2022-11-09-00_00_2022-11-09-23_59_Sentinel-2_L2A-0-B09_(Raw).tiff',\n '/tmp/shared/dataset_5/city/22/0/2022-11-09-00_00_2022-11-09-23_59_Sentinel-2_L2A-0-B11_(Raw).tiff',\n '/tmp/shared/dataset_5/city/22/0/2022-11-09-00_00_2022-11-09-23_59_Sentinel-2_L2A-0-B12_(Raw).tiff',\n '/tmp/shared/dataset_5/city/22/0/2022-11-09-00_00_2022-11-09-23_59_Sentinel-2_L2A-0-B8A_(Raw).tiff',\n '/tmp/shared/dataset_5/city/22/1/2022-11-09-00_00_2022-11-09-23_59_Sentinel-2_L2A-1-B01_(Raw).tiff',\n '/tmp/shared/dataset_5/city/22/1/2022-11-09-00_00_2022-11-09-23_59_Sentinel-2_L2A-1-B02_(Raw).tiff',\n '/tmp/shared/dataset_5/city/22/1/2022-11-09-00_00_2022-11-09-23_59_Sentinel-2_L2A-1-B03_(Raw).tiff',\n '/tmp/shared/dataset_5/city/22/1/2022-11-09-00_00_2022-11-09-23_59_Sentinel-2_L2A-1-B04_(Raw).tiff',\n '/tmp/shared/dataset_5/city/22/1/2022-11-09-00_00_2022-11-09-23_59_Sentinel-2_L2A-1-B05_(Raw).tiff',\n '/tmp/shared/dataset_5/city/22/1/2022-11-09-00_00_2022-11-09-23_59_Sentinel-2_L2A-1-B06_(Raw).tiff',\n '/tmp/shared/dataset_5/city/22/1/2022-11-09-00_00_2022-11-09-23_59_Sentinel-2_L2A-1-B07_(Raw).tiff',\n '/tmp/shared/dataset_5/city/22/1/2022-11-09-00_00_2022-11-09-23_59_Sentinel-2_L2A-1-B08_(Raw).tiff',\n '/tmp/shared/dataset_5/city/22/1/2022-11-09-00_00_2022-11-09-23_59_Sentinel-2_L2A-1-B09_(Raw).tiff',\n '/tmp/shared/dataset_5/city/22/1/2022-11-09-00_00_2022-11-09-23_59_Sentinel-2_L2A-1-B11_(Raw).tiff',\n '/tmp/shared/dataset_5/city/22/1/2022-11-09-00_00_2022-11-09-23_59_Sentinel-2_L2A-1-B12_(Raw).tiff',\n '/tmp/shared/dataset_5/city/22/1/2022-11-09-00_00_2022-11-09-23_59_Sentinel-2_L2A-1-B8A_(Raw).tiff',\n '/tmp/shared/dataset_5/city/23/0/2022-11-09-00_00_2022-11-09-23_59_Sentinel-2_L2A-0-B01_(Raw).tiff',\n '/tmp/shared/dataset_5/city/23/0/2022-11-09-00_00_2022-11-09-23_59_Sentinel-2_L2A-0-B02_(Raw).tiff',\n '/tmp/shared/dataset_5/city/23/0/2022-11-09-00_00_2022-11-09-23_59_Sentinel-2_L2A-0-B03_(Raw).tiff',\n '/tmp/shared/dataset_5/city/23/0/2022-11-09-00_00_2022-11-09-23_59_Sentinel-2_L2A-0-B04_(Raw).tiff',\n '/tmp/shared/dataset_5/city/23/0/2022-11-09-00_00_2022-11-09-23_59_Sentinel-2_L2A-0-B05_(Raw).tiff',\n '/tmp/shared/dataset_5/city/23/0/2022-11-09-00_00_2022-11-09-23_59_Sentinel-2_L2A-0-B06_(Raw).tiff',\n '/tmp/shared/dataset_5/city/23/0/2022-11-09-00_00_2022-11-09-23_59_Sentinel-2_L2A-0-B07_(Raw).tiff',\n '/tmp/shared/dataset_5/city/23/0/2022-11-09-00_00_2022-11-09-23_59_Sentinel-2_L2A-0-B08_(Raw).tiff',\n '/tmp/shared/dataset_5/city/23/0/2022-11-09-00_00_2022-11-09-23_59_Sentinel-2_L2A-0-B09_(Raw).tiff',\n '/tmp/shared/dataset_5/city/23/0/2022-11-09-00_00_2022-11-09-23_59_Sentinel-2_L2A-0-B11_(Raw).tiff',\n '/tmp/shared/dataset_5/city/23/0/2022-11-09-00_00_2022-11-09-23_59_Sentinel-2_L2A-0-B12_(Raw).tiff',\n '/tmp/shared/dataset_5/city/23/0/2022-11-09-00_00_2022-11-09-23_59_Sentinel-2_L2A-0-B8A_(Raw).tiff',\n '/tmp/shared/dataset_5/city/23/1/2022-11-09-00_00_2022-11-09-23_59_Sentinel-2_L2A-1-B01_(Raw).tiff',\n '/tmp/shared/dataset_5/city/23/1/2022-11-09-00_00_2022-11-09-23_59_Sentinel-2_L2A-1-B02_(Raw).tiff',\n '/tmp/shared/dataset_5/city/23/1/2022-11-09-00_00_2022-11-09-23_59_Sentinel-2_L2A-1-B03_(Raw).tiff',\n '/tmp/shared/dataset_5/city/23/1/2022-11-09-00_00_2022-11-09-23_59_Sentinel-2_L2A-1-B04_(Raw).tiff',\n '/tmp/shared/dataset_5/city/23/1/2022-11-09-00_00_2022-11-09-23_59_Sentinel-2_L2A-1-B05_(Raw).tiff',\n '/tmp/shared/dataset_5/city/23/1/2022-11-09-00_00_2022-11-09-23_59_Sentinel-2_L2A-1-B06_(Raw).tiff',\n '/tmp/shared/dataset_5/city/23/1/2022-11-09-00_00_2022-11-09-23_59_Sentinel-2_L2A-1-B07_(Raw).tiff',\n '/tmp/shared/dataset_5/city/23/1/2022-11-09-00_00_2022-11-09-23_59_Sentinel-2_L2A-1-B08_(Raw).tiff',\n '/tmp/shared/dataset_5/city/23/1/2022-11-09-00_00_2022-11-09-23_59_Sentinel-2_L2A-1-B09_(Raw).tiff',\n '/tmp/shared/dataset_5/city/23/1/2022-11-09-00_00_2022-11-09-23_59_Sentinel-2_L2A-1-B11_(Raw).tiff',\n '/tmp/shared/dataset_5/city/23/1/2022-11-09-00_00_2022-11-09-23_59_Sentinel-2_L2A-1-B12_(Raw).tiff',\n '/tmp/shared/dataset_5/city/23/1/2022-11-09-00_00_2022-11-09-23_59_Sentinel-2_L2A-1-B8A_(Raw).tiff',\n '/tmp/shared/dataset_5/city/23/2/2022-11-09-00_00_2022-11-09-23_59_Sentinel-2_L2A-2-B01_(Raw).tiff',\n '/tmp/shared/dataset_5/city/23/2/2022-11-09-00_00_2022-11-09-23_59_Sentinel-2_L2A-2-B02_(Raw).tiff',\n '/tmp/shared/dataset_5/city/23/2/2022-11-09-00_00_2022-11-09-23_59_Sentinel-2_L2A-2-B03_(Raw).tiff',\n '/tmp/shared/dataset_5/city/23/2/2022-11-09-00_00_2022-11-09-23_59_Sentinel-2_L2A-2-B04_(Raw).tiff',\n '/tmp/shared/dataset_5/city/23/2/2022-11-09-00_00_2022-11-09-23_59_Sentinel-2_L2A-2-B05_(Raw).tiff',\n '/tmp/shared/dataset_5/city/23/2/2022-11-09-00_00_2022-11-09-23_59_Sentinel-2_L2A-2-B06_(Raw).tiff',\n '/tmp/shared/dataset_5/city/23/2/2022-11-09-00_00_2022-11-09-23_59_Sentinel-2_L2A-2-B07_(Raw).tiff',\n '/tmp/shared/dataset_5/city/23/2/2022-11-09-00_00_2022-11-09-23_59_Sentinel-2_L2A-2-B08_(Raw).tiff',\n '/tmp/shared/dataset_5/city/23/2/2022-11-09-00_00_2022-11-09-23_59_Sentinel-2_L2A-2-B09_(Raw).tiff',\n '/tmp/shared/dataset_5/city/23/2/2022-11-09-00_00_2022-11-09-23_59_Sentinel-2_L2A-2-B11_(Raw).tiff',\n '/tmp/shared/dataset_5/city/23/2/2022-11-09-00_00_2022-11-09-23_59_Sentinel-2_L2A-2-B12_(Raw).tiff',\n '/tmp/shared/dataset_5/city/23/2/2022-11-09-00_00_2022-11-09-23_59_Sentinel-2_L2A-2-B8A_(Raw).tiff',\n '/tmp/shared/dataset_5/city/23/3/2022-11-09-00_00_2022-11-09-23_59_Sentinel-2_L2A-3-B01_(Raw).tiff',\n '/tmp/shared/dataset_5/city/23/3/2022-11-09-00_00_2022-11-09-23_59_Sentinel-2_L2A-3-B02_(Raw).tiff',\n '/tmp/shared/dataset_5/city/23/3/2022-11-09-00_00_2022-11-09-23_59_Sentinel-2_L2A-3-B03_(Raw).tiff',\n '/tmp/shared/dataset_5/city/23/3/2022-11-09-00_00_2022-11-09-23_59_Sentinel-2_L2A-3-B04_(Raw).tiff',\n '/tmp/shared/dataset_5/city/23/3/2022-11-09-00_00_2022-11-09-23_59_Sentinel-2_L2A-3-B05_(Raw).tiff',\n '/tmp/shared/dataset_5/city/23/3/2022-11-09-00_00_2022-11-09-23_59_Sentinel-2_L2A-3-B06_(Raw).tiff',\n '/tmp/shared/dataset_5/city/23/3/2022-11-09-00_00_2022-11-09-23_59_Sentinel-2_L2A-3-B07_(Raw).tiff',\n '/tmp/shared/dataset_5/city/23/3/2022-11-09-00_00_2022-11-09-23_59_Sentinel-2_L2A-3-B08_(Raw).tiff',\n '/tmp/shared/dataset_5/city/23/3/2022-11-09-00_00_2022-11-09-23_59_Sentinel-2_L2A-3-B09_(Raw).tiff',\n '/tmp/shared/dataset_5/city/23/3/2022-11-09-00_00_2022-11-09-23_59_Sentinel-2_L2A-3-B11_(Raw).tiff',\n '/tmp/shared/dataset_5/city/23/3/2022-11-09-00_00_2022-11-09-23_59_Sentinel-2_L2A-3-B12_(Raw).tiff',\n '/tmp/shared/dataset_5/city/23/3/2022-11-09-00_00_2022-11-09-23_59_Sentinel-2_L2A-3-B8A_(Raw).tiff',\n '/tmp/shared/dataset_5/city/23/4/2022-11-09-00_00_2022-11-09-23_59_Sentinel-2_L2A-4-B01_(Raw).tiff',\n '/tmp/shared/dataset_5/city/23/4/2022-11-09-00_00_2022-11-09-23_59_Sentinel-2_L2A-4-B02_(Raw).tiff',\n '/tmp/shared/dataset_5/city/23/4/2022-11-09-00_00_2022-11-09-23_59_Sentinel-2_L2A-4-B03_(Raw).tiff',\n '/tmp/shared/dataset_5/city/23/4/2022-11-09-00_00_2022-11-09-23_59_Sentinel-2_L2A-4-B04_(Raw).tiff',\n '/tmp/shared/dataset_5/city/23/4/2022-11-09-00_00_2022-11-09-23_59_Sentinel-2_L2A-4-B05_(Raw).tiff',\n '/tmp/shared/dataset_5/city/23/4/2022-11-09-00_00_2022-11-09-23_59_Sentinel-2_L2A-4-B06_(Raw).tiff',\n '/tmp/shared/dataset_5/city/23/4/2022-11-09-00_00_2022-11-09-23_59_Sentinel-2_L2A-4-B07_(Raw).tiff',\n '/tmp/shared/dataset_5/city/23/4/2022-11-09-00_00_2022-11-09-23_59_Sentinel-2_L2A-4-B08_(Raw).tiff',\n '/tmp/shared/dataset_5/city/23/4/2022-11-09-00_00_2022-11-09-23_59_Sentinel-2_L2A-4-B09_(Raw).tiff',\n '/tmp/shared/dataset_5/city/23/4/2022-11-09-00_00_2022-11-09-23_59_Sentinel-2_L2A-4-B11_(Raw).tiff',\n '/tmp/shared/dataset_5/city/23/4/2022-11-09-00_00_2022-11-09-23_59_Sentinel-2_L2A-4-B12_(Raw).tiff',\n '/tmp/shared/dataset_5/city/23/4/2022-11-09-00_00_2022-11-09-23_59_Sentinel-2_L2A-4-B8A_(Raw).tiff',\n '/tmp/shared/dataset_5/city/23/5/2022-11-09-00_00_2022-11-09-23_59_Sentinel-2_L2A-5-B01_(Raw).tiff',\n '/tmp/shared/dataset_5/city/23/5/2022-11-09-00_00_2022-11-09-23_59_Sentinel-2_L2A-5-B02_(Raw).tiff',\n '/tmp/shared/dataset_5/city/23/5/2022-11-09-00_00_2022-11-09-23_59_Sentinel-2_L2A-5-B03_(Raw).tiff',\n '/tmp/shared/dataset_5/city/23/5/2022-11-09-00_00_2022-11-09-23_59_Sentinel-2_L2A-5-B04_(Raw).tiff',\n '/tmp/shared/dataset_5/city/23/5/2022-11-09-00_00_2022-11-09-23_59_Sentinel-2_L2A-5-B05_(Raw).tiff',\n '/tmp/shared/dataset_5/city/23/5/2022-11-09-00_00_2022-11-09-23_59_Sentinel-2_L2A-5-B06_(Raw).tiff',\n '/tmp/shared/dataset_5/city/23/5/2022-11-09-00_00_2022-11-09-23_59_Sentinel-2_L2A-5-B07_(Raw).tiff',\n '/tmp/shared/dataset_5/city/23/5/2022-11-09-00_00_2022-11-09-23_59_Sentinel-2_L2A-5-B08_(Raw).tiff',\n '/tmp/shared/dataset_5/city/23/5/2022-11-09-00_00_2022-11-09-23_59_Sentinel-2_L2A-5-B09_(Raw).tiff',\n '/tmp/shared/dataset_5/city/23/5/2022-11-09-00_00_2022-11-09-23_59_Sentinel-2_L2A-5-B11_(Raw).tiff',\n '/tmp/shared/dataset_5/city/23/5/2022-11-09-00_00_2022-11-09-23_59_Sentinel-2_L2A-5-B12_(Raw).tiff',\n '/tmp/shared/dataset_5/city/23/5/2022-11-09-00_00_2022-11-09-23_59_Sentinel-2_L2A-5-B8A_(Raw).tiff',\n '/tmp/shared/dataset_5/city/23/6/2022-11-09-00_00_2022-11-09-23_59_Sentinel-2_L2A-6-B01_(Raw).tiff',\n '/tmp/shared/dataset_5/city/23/6/2022-11-09-00_00_2022-11-09-23_59_Sentinel-2_L2A-6-B02_(Raw).tiff',\n '/tmp/shared/dataset_5/city/23/6/2022-11-09-00_00_2022-11-09-23_59_Sentinel-2_L2A-6-B03_(Raw).tiff',\n '/tmp/shared/dataset_5/city/23/6/2022-11-09-00_00_2022-11-09-23_59_Sentinel-2_L2A-6-B04_(Raw).tiff',\n '/tmp/shared/dataset_5/city/23/6/2022-11-09-00_00_2022-11-09-23_59_Sentinel-2_L2A-6-B05_(Raw).tiff',\n '/tmp/shared/dataset_5/city/23/6/2022-11-09-00_00_2022-11-09-23_59_Sentinel-2_L2A-6-B06_(Raw).tiff',\n '/tmp/shared/dataset_5/city/23/6/2022-11-09-00_00_2022-11-09-23_59_Sentinel-2_L2A-6-B07_(Raw).tiff',\n '/tmp/shared/dataset_5/city/23/6/2022-11-09-00_00_2022-11-09-23_59_Sentinel-2_L2A-6-B08_(Raw).tiff',\n '/tmp/shared/dataset_5/city/23/6/2022-11-09-00_00_2022-11-09-23_59_Sentinel-2_L2A-6-B09_(Raw).tiff',\n '/tmp/shared/dataset_5/city/23/6/2022-11-09-00_00_2022-11-09-23_59_Sentinel-2_L2A-6-B11_(Raw).tiff',\n '/tmp/shared/dataset_5/city/23/6/2022-11-09-00_00_2022-11-09-23_59_Sentinel-2_L2A-6-B12_(Raw).tiff',\n '/tmp/shared/dataset_5/city/23/6/2022-11-09-00_00_2022-11-09-23_59_Sentinel-2_L2A-6-B8A_(Raw).tiff',\n '/tmp/shared/dataset_5/city/23/7/2022-11-09-00_00_2022-11-09-23_59_Sentinel-2_L2A-7-B01_(Raw).tiff',\n '/tmp/shared/dataset_5/city/23/7/2022-11-09-00_00_2022-11-09-23_59_Sentinel-2_L2A-7-B02_(Raw).tiff',\n '/tmp/shared/dataset_5/city/23/7/2022-11-09-00_00_2022-11-09-23_59_Sentinel-2_L2A-7-B03_(Raw).tiff',\n '/tmp/shared/dataset_5/city/23/7/2022-11-09-00_00_2022-11-09-23_59_Sentinel-2_L2A-7-B04_(Raw).tiff',\n '/tmp/shared/dataset_5/city/23/7/2022-11-09-00_00_2022-11-09-23_59_Sentinel-2_L2A-7-B05_(Raw).tiff',\n '/tmp/shared/dataset_5/city/23/7/2022-11-09-00_00_2022-11-09-23_59_Sentinel-2_L2A-7-B06_(Raw).tiff',\n '/tmp/shared/dataset_5/city/23/7/2022-11-09-00_00_2022-11-09-23_59_Sentinel-2_L2A-7-B07_(Raw).tiff',\n '/tmp/shared/dataset_5/city/23/7/2022-11-09-00_00_2022-11-09-23_59_Sentinel-2_L2A-7-B08_(Raw).tiff',\n '/tmp/shared/dataset_5/city/23/7/2022-11-09-00_00_2022-11-09-23_59_Sentinel-2_L2A-7-B09_(Raw).tiff',\n '/tmp/shared/dataset_5/city/23/7/2022-11-09-00_00_2022-11-09-23_59_Sentinel-2_L2A-7-B11_(Raw).tiff',\n '/tmp/shared/dataset_5/city/23/7/2022-11-09-00_00_2022-11-09-23_59_Sentinel-2_L2A-7-B12_(Raw).tiff',\n '/tmp/shared/dataset_5/city/23/7/2022-11-09-00_00_2022-11-09-23_59_Sentinel-2_L2A-7-B8A_(Raw).tiff',\n '/tmp/shared/dataset_5/city/23/8/2022-11-09-00_00_2022-11-09-23_59_Sentinel-2_L2A-8-B01_(Raw).tiff',\n '/tmp/shared/dataset_5/city/23/8/2022-11-09-00_00_2022-11-09-23_59_Sentinel-2_L2A-8-B02_(Raw).tiff',\n '/tmp/shared/dataset_5/city/23/8/2022-11-09-00_00_2022-11-09-23_59_Sentinel-2_L2A-8-B03_(Raw).tiff',\n '/tmp/shared/dataset_5/city/23/8/2022-11-09-00_00_2022-11-09-23_59_Sentinel-2_L2A-8-B04_(Raw).tiff',\n '/tmp/shared/dataset_5/city/23/8/2022-11-09-00_00_2022-11-09-23_59_Sentinel-2_L2A-8-B05_(Raw).tiff',\n '/tmp/shared/dataset_5/city/23/8/2022-11-09-00_00_2022-11-09-23_59_Sentinel-2_L2A-8-B06_(Raw).tiff',\n '/tmp/shared/dataset_5/city/23/8/2022-11-09-00_00_2022-11-09-23_59_Sentinel-2_L2A-8-B07_(Raw).tiff',\n '/tmp/shared/dataset_5/city/23/8/2022-11-09-00_00_2022-11-09-23_59_Sentinel-2_L2A-8-B08_(Raw).tiff',\n '/tmp/shared/dataset_5/city/23/8/2022-11-09-00_00_2022-11-09-23_59_Sentinel-2_L2A-8-B09_(Raw).tiff',\n '/tmp/shared/dataset_5/city/23/8/2022-11-09-00_00_2022-11-09-23_59_Sentinel-2_L2A-8-B11_(Raw).tiff',\n '/tmp/shared/dataset_5/city/23/8/2022-11-09-00_00_2022-11-09-23_59_Sentinel-2_L2A-8-B12_(Raw).tiff',\n '/tmp/shared/dataset_5/city/23/8/2022-11-09-00_00_2022-11-09-23_59_Sentinel-2_L2A-8-B8A_(Raw).tiff',\n '/tmp/shared/dataset_5/city/23/9/2022-11-09-00_00_2022-11-09-23_59_Sentinel-2_L2A-9-B01_(Raw).tiff',\n '/tmp/shared/dataset_5/city/23/9/2022-11-09-00_00_2022-11-09-23_59_Sentinel-2_L2A-9-B02_(Raw).tiff',\n '/tmp/shared/dataset_5/city/23/9/2022-11-09-00_00_2022-11-09-23_59_Sentinel-2_L2A-9-B03_(Raw).tiff',\n '/tmp/shared/dataset_5/city/23/9/2022-11-09-00_00_2022-11-09-23_59_Sentinel-2_L2A-9-B04_(Raw).tiff',\n '/tmp/shared/dataset_5/city/23/9/2022-11-09-00_00_2022-11-09-23_59_Sentinel-2_L2A-9-B05_(Raw).tiff',\n '/tmp/shared/dataset_5/city/23/9/2022-11-09-00_00_2022-11-09-23_59_Sentinel-2_L2A-9-B06_(Raw).tiff',\n '/tmp/shared/dataset_5/city/23/9/2022-11-09-00_00_2022-11-09-23_59_Sentinel-2_L2A-9-B07_(Raw).tiff',\n '/tmp/shared/dataset_5/city/23/9/2022-11-09-00_00_2022-11-09-23_59_Sentinel-2_L2A-9-B08_(Raw).tiff',\n '/tmp/shared/dataset_5/city/23/9/2022-11-09-00_00_2022-11-09-23_59_Sentinel-2_L2A-9-B09_(Raw).tiff',\n '/tmp/shared/dataset_5/city/23/9/2022-11-09-00_00_2022-11-09-23_59_Sentinel-2_L2A-9-B11_(Raw).tiff',\n '/tmp/shared/dataset_5/city/23/9/2022-11-09-00_00_2022-11-09-23_59_Sentinel-2_L2A-9-B12_(Raw).tiff',\n '/tmp/shared/dataset_5/city/23/9/2022-11-09-00_00_2022-11-09-23_59_Sentinel-2_L2A-9-B8A_(Raw).tiff',\n '/tmp/shared/dataset_5/city/24/0/2022-11-09-00_00_2022-11-09-23_59_Sentinel-2_L2A-0-B01_(Raw).tiff',\n '/tmp/shared/dataset_5/city/24/0/2022-11-09-00_00_2022-11-09-23_59_Sentinel-2_L2A-0-B02_(Raw).tiff',\n '/tmp/shared/dataset_5/city/24/0/2022-11-09-00_00_2022-11-09-23_59_Sentinel-2_L2A-0-B03_(Raw).tiff',\n '/tmp/shared/dataset_5/city/24/0/2022-11-09-00_00_2022-11-09-23_59_Sentinel-2_L2A-0-B04_(Raw).tiff',\n '/tmp/shared/dataset_5/city/24/0/2022-11-09-00_00_2022-11-09-23_59_Sentinel-2_L2A-0-B05_(Raw).tiff',\n '/tmp/shared/dataset_5/city/24/0/2022-11-09-00_00_2022-11-09-23_59_Sentinel-2_L2A-0-B06_(Raw).tiff',\n '/tmp/shared/dataset_5/city/24/0/2022-11-09-00_00_2022-11-09-23_59_Sentinel-2_L2A-0-B07_(Raw).tiff',\n '/tmp/shared/dataset_5/city/24/0/2022-11-09-00_00_2022-11-09-23_59_Sentinel-2_L2A-0-B08_(Raw).tiff',\n '/tmp/shared/dataset_5/city/24/0/2022-11-09-00_00_2022-11-09-23_59_Sentinel-2_L2A-0-B09_(Raw).tiff',\n '/tmp/shared/dataset_5/city/24/0/2022-11-09-00_00_2022-11-09-23_59_Sentinel-2_L2A-0-B11_(Raw).tiff',\n '/tmp/shared/dataset_5/city/24/0/2022-11-09-00_00_2022-11-09-23_59_Sentinel-2_L2A-0-B12_(Raw).tiff',\n '/tmp/shared/dataset_5/city/24/0/2022-11-09-00_00_2022-11-09-23_59_Sentinel-2_L2A-0-B8A_(Raw).tiff',\n '/tmp/shared/dataset_5/city/24/1/2022-11-09-00_00_2022-11-09-23_59_Sentinel-2_L2A-1-B01_(Raw).tiff',\n '/tmp/shared/dataset_5/city/24/1/2022-11-09-00_00_2022-11-09-23_59_Sentinel-2_L2A-1-B02_(Raw).tiff',\n '/tmp/shared/dataset_5/city/24/1/2022-11-09-00_00_2022-11-09-23_59_Sentinel-2_L2A-1-B03_(Raw).tiff',\n '/tmp/shared/dataset_5/city/24/1/2022-11-09-00_00_2022-11-09-23_59_Sentinel-2_L2A-1-B04_(Raw).tiff',\n '/tmp/shared/dataset_5/city/24/1/2022-11-09-00_00_2022-11-09-23_59_Sentinel-2_L2A-1-B05_(Raw).tiff',\n '/tmp/shared/dataset_5/city/24/1/2022-11-09-00_00_2022-11-09-23_59_Sentinel-2_L2A-1-B06_(Raw).tiff',\n '/tmp/shared/dataset_5/city/24/1/2022-11-09-00_00_2022-11-09-23_59_Sentinel-2_L2A-1-B07_(Raw).tiff',\n '/tmp/shared/dataset_5/city/24/1/2022-11-09-00_00_2022-11-09-23_59_Sentinel-2_L2A-1-B08_(Raw).tiff',\n '/tmp/shared/dataset_5/city/24/1/2022-11-09-00_00_2022-11-09-23_59_Sentinel-2_L2A-1-B09_(Raw).tiff',\n '/tmp/shared/dataset_5/city/24/1/2022-11-09-00_00_2022-11-09-23_59_Sentinel-2_L2A-1-B11_(Raw).tiff',\n '/tmp/shared/dataset_5/city/24/1/2022-11-09-00_00_2022-11-09-23_59_Sentinel-2_L2A-1-B12_(Raw).tiff',\n '/tmp/shared/dataset_5/city/24/1/2022-11-09-00_00_2022-11-09-23_59_Sentinel-2_L2A-1-B8A_(Raw).tiff',\n '/tmp/shared/dataset_5/city/24/2/2022-11-09-00_00_2022-11-09-23_59_Sentinel-2_L2A-2-B01_(Raw).tiff',\n '/tmp/shared/dataset_5/city/24/2/2022-11-09-00_00_2022-11-09-23_59_Sentinel-2_L2A-2-B02_(Raw).tiff',\n '/tmp/shared/dataset_5/city/24/2/2022-11-09-00_00_2022-11-09-23_59_Sentinel-2_L2A-2-B03_(Raw).tiff',\n '/tmp/shared/dataset_5/city/24/2/2022-11-09-00_00_2022-11-09-23_59_Sentinel-2_L2A-2-B04_(Raw).tiff',\n '/tmp/shared/dataset_5/city/24/2/2022-11-09-00_00_2022-11-09-23_59_Sentinel-2_L2A-2-B05_(Raw).tiff',\n '/tmp/shared/dataset_5/city/24/2/2022-11-09-00_00_2022-11-09-23_59_Sentinel-2_L2A-2-B06_(Raw).tiff',\n '/tmp/shared/dataset_5/city/24/2/2022-11-09-00_00_2022-11-09-23_59_Sentinel-2_L2A-2-B07_(Raw).tiff',\n '/tmp/shared/dataset_5/city/24/2/2022-11-09-00_00_2022-11-09-23_59_Sentinel-2_L2A-2-B08_(Raw).tiff',\n '/tmp/shared/dataset_5/city/24/2/2022-11-09-00_00_2022-11-09-23_59_Sentinel-2_L2A-2-B09_(Raw).tiff',\n '/tmp/shared/dataset_5/city/24/2/2022-11-09-00_00_2022-11-09-23_59_Sentinel-2_L2A-2-B11_(Raw).tiff',\n '/tmp/shared/dataset_5/city/24/2/2022-11-09-00_00_2022-11-09-23_59_Sentinel-2_L2A-2-B12_(Raw).tiff',\n '/tmp/shared/dataset_5/city/24/2/2022-11-09-00_00_2022-11-09-23_59_Sentinel-2_L2A-2-B8A_(Raw).tiff',\n '/tmp/shared/dataset_5/city/24/3/2022-11-09-00_00_2022-11-09-23_59_Sentinel-2_L2A-3-B01_(Raw).tiff',\n '/tmp/shared/dataset_5/city/24/3/2022-11-09-00_00_2022-11-09-23_59_Sentinel-2_L2A-3-B02_(Raw).tiff',\n '/tmp/shared/dataset_5/city/24/3/2022-11-09-00_00_2022-11-09-23_59_Sentinel-2_L2A-3-B03_(Raw).tiff',\n '/tmp/shared/dataset_5/city/24/3/2022-11-09-00_00_2022-11-09-23_59_Sentinel-2_L2A-3-B04_(Raw).tiff',\n '/tmp/shared/dataset_5/city/24/3/2022-11-09-00_00_2022-11-09-23_59_Sentinel-2_L2A-3-B05_(Raw).tiff',\n '/tmp/shared/dataset_5/city/24/3/2022-11-09-00_00_2022-11-09-23_59_Sentinel-2_L2A-3-B06_(Raw).tiff',\n '/tmp/shared/dataset_5/city/24/3/2022-11-09-00_00_2022-11-09-23_59_Sentinel-2_L2A-3-B07_(Raw).tiff',\n '/tmp/shared/dataset_5/city/24/3/2022-11-09-00_00_2022-11-09-23_59_Sentinel-2_L2A-3-B08_(Raw).tiff',\n '/tmp/shared/dataset_5/city/24/3/2022-11-09-00_00_2022-11-09-23_59_Sentinel-2_L2A-3-B09_(Raw).tiff',\n '/tmp/shared/dataset_5/city/24/3/2022-11-09-00_00_2022-11-09-23_59_Sentinel-2_L2A-3-B11_(Raw).tiff',\n '/tmp/shared/dataset_5/city/24/3/2022-11-09-00_00_2022-11-09-23_59_Sentinel-2_L2A-3-B12_(Raw).tiff',\n '/tmp/shared/dataset_5/city/24/3/2022-11-09-00_00_2022-11-09-23_59_Sentinel-2_L2A-3-B8A_(Raw).tiff',\n '/tmp/shared/dataset_5/city/24/4/2022-11-09-00_00_2022-11-09-23_59_Sentinel-2_L2A-4-B01_(Raw).tiff',\n '/tmp/shared/dataset_5/city/24/4/2022-11-09-00_00_2022-11-09-23_59_Sentinel-2_L2A-4-B02_(Raw).tiff',\n '/tmp/shared/dataset_5/city/24/4/2022-11-09-00_00_2022-11-09-23_59_Sentinel-2_L2A-4-B03_(Raw).tiff',\n '/tmp/shared/dataset_5/city/24/4/2022-11-09-00_00_2022-11-09-23_59_Sentinel-2_L2A-4-B04_(Raw).tiff',\n '/tmp/shared/dataset_5/city/24/4/2022-11-09-00_00_2022-11-09-23_59_Sentinel-2_L2A-4-B05_(Raw).tiff',\n '/tmp/shared/dataset_5/city/24/4/2022-11-09-00_00_2022-11-09-23_59_Sentinel-2_L2A-4-B06_(Raw).tiff',\n '/tmp/shared/dataset_5/city/24/4/2022-11-09-00_00_2022-11-09-23_59_Sentinel-2_L2A-4-B07_(Raw).tiff',\n '/tmp/shared/dataset_5/city/24/4/2022-11-09-00_00_2022-11-09-23_59_Sentinel-2_L2A-4-B08_(Raw).tiff',\n '/tmp/shared/dataset_5/city/24/4/2022-11-09-00_00_2022-11-09-23_59_Sentinel-2_L2A-4-B09_(Raw).tiff',\n '/tmp/shared/dataset_5/city/24/4/2022-11-09-00_00_2022-11-09-23_59_Sentinel-2_L2A-4-B11_(Raw).tiff',\n '/tmp/shared/dataset_5/city/24/4/2022-11-09-00_00_2022-11-09-23_59_Sentinel-2_L2A-4-B12_(Raw).tiff',\n '/tmp/shared/dataset_5/city/24/4/2022-11-09-00_00_2022-11-09-23_59_Sentinel-2_L2A-4-B8A_(Raw).tiff',\n '/tmp/shared/dataset_5/city/24/5/2022-11-09-00_00_2022-11-09-23_59_Sentinel-2_L2A-5-B01_(Raw).tiff',\n '/tmp/shared/dataset_5/city/24/5/2022-11-09-00_00_2022-11-09-23_59_Sentinel-2_L2A-5-B02_(Raw).tiff',\n '/tmp/shared/dataset_5/city/24/5/2022-11-09-00_00_2022-11-09-23_59_Sentinel-2_L2A-5-B03_(Raw).tiff',\n '/tmp/shared/dataset_5/city/24/5/2022-11-09-00_00_2022-11-09-23_59_Sentinel-2_L2A-5-B04_(Raw).tiff',\n '/tmp/shared/dataset_5/city/24/5/2022-11-09-00_00_2022-11-09-23_59_Sentinel-2_L2A-5-B05_(Raw).tiff',\n '/tmp/shared/dataset_5/city/24/5/2022-11-09-00_00_2022-11-09-23_59_Sentinel-2_L2A-5-B06_(Raw).tiff',\n '/tmp/shared/dataset_5/city/24/5/2022-11-09-00_00_2022-11-09-23_59_Sentinel-2_L2A-5-B07_(Raw).tiff',\n '/tmp/shared/dataset_5/city/24/5/2022-11-09-00_00_2022-11-09-23_59_Sentinel-2_L2A-5-B08_(Raw).tiff',\n '/tmp/shared/dataset_5/city/24/5/2022-11-09-00_00_2022-11-09-23_59_Sentinel-2_L2A-5-B09_(Raw).tiff',\n '/tmp/shared/dataset_5/city/24/5/2022-11-09-00_00_2022-11-09-23_59_Sentinel-2_L2A-5-B11_(Raw).tiff',\n '/tmp/shared/dataset_5/city/24/5/2022-11-09-00_00_2022-11-09-23_59_Sentinel-2_L2A-5-B12_(Raw).tiff',\n '/tmp/shared/dataset_5/city/24/5/2022-11-09-00_00_2022-11-09-23_59_Sentinel-2_L2A-5-B8A_(Raw).tiff',\n '/tmp/shared/dataset_5/city/24/6/2022-11-09-00_00_2022-11-09-23_59_Sentinel-2_L2A-6-B01_(Raw).tiff',\n '/tmp/shared/dataset_5/city/24/6/2022-11-09-00_00_2022-11-09-23_59_Sentinel-2_L2A-6-B02_(Raw).tiff',\n '/tmp/shared/dataset_5/city/24/6/2022-11-09-00_00_2022-11-09-23_59_Sentinel-2_L2A-6-B03_(Raw).tiff',\n '/tmp/shared/dataset_5/city/24/6/2022-11-09-00_00_2022-11-09-23_59_Sentinel-2_L2A-6-B04_(Raw).tiff',\n '/tmp/shared/dataset_5/city/24/6/2022-11-09-00_00_2022-11-09-23_59_Sentinel-2_L2A-6-B05_(Raw).tiff',\n '/tmp/shared/dataset_5/city/24/6/2022-11-09-00_00_2022-11-09-23_59_Sentinel-2_L2A-6-B06_(Raw).tiff',\n '/tmp/shared/dataset_5/city/24/6/2022-11-09-00_00_2022-11-09-23_59_Sentinel-2_L2A-6-B07_(Raw).tiff',\n '/tmp/shared/dataset_5/city/24/6/2022-11-09-00_00_2022-11-09-23_59_Sentinel-2_L2A-6-B08_(Raw).tiff',\n '/tmp/shared/dataset_5/city/24/6/2022-11-09-00_00_2022-11-09-23_59_Sentinel-2_L2A-6-B09_(Raw).tiff',\n '/tmp/shared/dataset_5/city/24/6/2022-11-09-00_00_2022-11-09-23_59_Sentinel-2_L2A-6-B11_(Raw).tiff',\n '/tmp/shared/dataset_5/city/24/6/2022-11-09-00_00_2022-11-09-23_59_Sentinel-2_L2A-6-B12_(Raw).tiff',\n '/tmp/shared/dataset_5/city/24/6/2022-11-09-00_00_2022-11-09-23_59_Sentinel-2_L2A-6-B8A_(Raw).tiff',\n '/tmp/shared/dataset_5/city/24/7/2022-11-09-00_00_2022-11-09-23_59_Sentinel-2_L2A-7-B01_(Raw).tiff',\n '/tmp/shared/dataset_5/city/24/7/2022-11-09-00_00_2022-11-09-23_59_Sentinel-2_L2A-7-B02_(Raw).tiff',\n '/tmp/shared/dataset_5/city/24/7/2022-11-09-00_00_2022-11-09-23_59_Sentinel-2_L2A-7-B03_(Raw).tiff',\n '/tmp/shared/dataset_5/city/24/7/2022-11-09-00_00_2022-11-09-23_59_Sentinel-2_L2A-7-B04_(Raw).tiff',\n '/tmp/shared/dataset_5/city/24/7/2022-11-09-00_00_2022-11-09-23_59_Sentinel-2_L2A-7-B05_(Raw).tiff',\n '/tmp/shared/dataset_5/city/24/7/2022-11-09-00_00_2022-11-09-23_59_Sentinel-2_L2A-7-B06_(Raw).tiff',\n '/tmp/shared/dataset_5/city/24/7/2022-11-09-00_00_2022-11-09-23_59_Sentinel-2_L2A-7-B07_(Raw).tiff',\n '/tmp/shared/dataset_5/city/24/7/2022-11-09-00_00_2022-11-09-23_59_Sentinel-2_L2A-7-B08_(Raw).tiff',\n '/tmp/shared/dataset_5/city/24/7/2022-11-09-00_00_2022-11-09-23_59_Sentinel-2_L2A-7-B09_(Raw).tiff',\n '/tmp/shared/dataset_5/city/24/7/2022-11-09-00_00_2022-11-09-23_59_Sentinel-2_L2A-7-B11_(Raw).tiff',\n '/tmp/shared/dataset_5/city/24/7/2022-11-09-00_00_2022-11-09-23_59_Sentinel-2_L2A-7-B12_(Raw).tiff',\n '/tmp/shared/dataset_5/city/24/7/2022-11-09-00_00_2022-11-09-23_59_Sentinel-2_L2A-7-B8A_(Raw).tiff',\n '/tmp/shared/dataset_5/city/25/0/2022-11-09-00_00_2022-11-09-23_59_Sentinel-2_L2A-0-B01_(Raw).tiff',\n '/tmp/shared/dataset_5/city/25/0/2022-11-09-00_00_2022-11-09-23_59_Sentinel-2_L2A-0-B02_(Raw).tiff',\n '/tmp/shared/dataset_5/city/25/0/2022-11-09-00_00_2022-11-09-23_59_Sentinel-2_L2A-0-B03_(Raw).tiff',\n '/tmp/shared/dataset_5/city/25/0/2022-11-09-00_00_2022-11-09-23_59_Sentinel-2_L2A-0-B04_(Raw).tiff',\n '/tmp/shared/dataset_5/city/25/0/2022-11-09-00_00_2022-11-09-23_59_Sentinel-2_L2A-0-B05_(Raw).tiff',\n '/tmp/shared/dataset_5/city/25/0/2022-11-09-00_00_2022-11-09-23_59_Sentinel-2_L2A-0-B06_(Raw).tiff',\n '/tmp/shared/dataset_5/city/25/0/2022-11-09-00_00_2022-11-09-23_59_Sentinel-2_L2A-0-B07_(Raw).tiff',\n '/tmp/shared/dataset_5/city/25/0/2022-11-09-00_00_2022-11-09-23_59_Sentinel-2_L2A-0-B08_(Raw).tiff',\n '/tmp/shared/dataset_5/city/25/0/2022-11-09-00_00_2022-11-09-23_59_Sentinel-2_L2A-0-B09_(Raw).tiff',\n '/tmp/shared/dataset_5/city/25/0/2022-11-09-00_00_2022-11-09-23_59_Sentinel-2_L2A-0-B11_(Raw).tiff',\n '/tmp/shared/dataset_5/city/25/0/2022-11-09-00_00_2022-11-09-23_59_Sentinel-2_L2A-0-B12_(Raw).tiff',\n '/tmp/shared/dataset_5/city/25/0/2022-11-09-00_00_2022-11-09-23_59_Sentinel-2_L2A-0-B8A_(Raw).tiff',\n '/tmp/shared/dataset_5/city/25/1/2022-11-09-00_00_2022-11-09-23_59_Sentinel-2_L2A-1-B01_(Raw).tiff',\n '/tmp/shared/dataset_5/city/25/1/2022-11-09-00_00_2022-11-09-23_59_Sentinel-2_L2A-1-B02_(Raw).tiff',\n '/tmp/shared/dataset_5/city/25/1/2022-11-09-00_00_2022-11-09-23_59_Sentinel-2_L2A-1-B03_(Raw).tiff',\n '/tmp/shared/dataset_5/city/25/1/2022-11-09-00_00_2022-11-09-23_59_Sentinel-2_L2A-1-B04_(Raw).tiff',\n '/tmp/shared/dataset_5/city/25/1/2022-11-09-00_00_2022-11-09-23_59_Sentinel-2_L2A-1-B05_(Raw).tiff',\n '/tmp/shared/dataset_5/city/25/1/2022-11-09-00_00_2022-11-09-23_59_Sentinel-2_L2A-1-B06_(Raw).tiff',\n '/tmp/shared/dataset_5/city/25/1/2022-11-09-00_00_2022-11-09-23_59_Sentinel-2_L2A-1-B07_(Raw).tiff',\n '/tmp/shared/dataset_5/city/25/1/2022-11-09-00_00_2022-11-09-23_59_Sentinel-2_L2A-1-B08_(Raw).tiff',\n '/tmp/shared/dataset_5/city/25/1/2022-11-09-00_00_2022-11-09-23_59_Sentinel-2_L2A-1-B09_(Raw).tiff',\n '/tmp/shared/dataset_5/city/25/1/2022-11-09-00_00_2022-11-09-23_59_Sentinel-2_L2A-1-B11_(Raw).tiff',\n '/tmp/shared/dataset_5/city/25/1/2022-11-09-00_00_2022-11-09-23_59_Sentinel-2_L2A-1-B12_(Raw).tiff',\n '/tmp/shared/dataset_5/city/25/1/2022-11-09-00_00_2022-11-09-23_59_Sentinel-2_L2A-1-B8A_(Raw).tiff',\n '/tmp/shared/dataset_5/city/25/2/2022-11-09-00_00_2022-11-09-23_59_Sentinel-2_L2A-2-B01_(Raw).tiff',\n '/tmp/shared/dataset_5/city/25/2/2022-11-09-00_00_2022-11-09-23_59_Sentinel-2_L2A-2-B02_(Raw).tiff',\n '/tmp/shared/dataset_5/city/25/2/2022-11-09-00_00_2022-11-09-23_59_Sentinel-2_L2A-2-B03_(Raw).tiff',\n '/tmp/shared/dataset_5/city/25/2/2022-11-09-00_00_2022-11-09-23_59_Sentinel-2_L2A-2-B04_(Raw).tiff',\n '/tmp/shared/dataset_5/city/25/2/2022-11-09-00_00_2022-11-09-23_59_Sentinel-2_L2A-2-B05_(Raw).tiff',\n '/tmp/shared/dataset_5/city/25/2/2022-11-09-00_00_2022-11-09-23_59_Sentinel-2_L2A-2-B06_(Raw).tiff',\n '/tmp/shared/dataset_5/city/25/2/2022-11-09-00_00_2022-11-09-23_59_Sentinel-2_L2A-2-B07_(Raw).tiff',\n '/tmp/shared/dataset_5/city/25/2/2022-11-09-00_00_2022-11-09-23_59_Sentinel-2_L2A-2-B08_(Raw).tiff',\n '/tmp/shared/dataset_5/city/25/2/2022-11-09-00_00_2022-11-09-23_59_Sentinel-2_L2A-2-B09_(Raw).tiff',\n '/tmp/shared/dataset_5/city/25/2/2022-11-09-00_00_2022-11-09-23_59_Sentinel-2_L2A-2-B11_(Raw).tiff',\n '/tmp/shared/dataset_5/city/25/2/2022-11-09-00_00_2022-11-09-23_59_Sentinel-2_L2A-2-B12_(Raw).tiff',\n '/tmp/shared/dataset_5/city/25/2/2022-11-09-00_00_2022-11-09-23_59_Sentinel-2_L2A-2-B8A_(Raw).tiff',\n '/tmp/shared/dataset_5/city/25/3/2022-11-09-00_00_2022-11-09-23_59_Sentinel-2_L2A-3-B01_(Raw).tiff',\n '/tmp/shared/dataset_5/city/25/3/2022-11-09-00_00_2022-11-09-23_59_Sentinel-2_L2A-3-B02_(Raw).tiff',\n '/tmp/shared/dataset_5/city/25/3/2022-11-09-00_00_2022-11-09-23_59_Sentinel-2_L2A-3-B03_(Raw).tiff',\n '/tmp/shared/dataset_5/city/25/3/2022-11-09-00_00_2022-11-09-23_59_Sentinel-2_L2A-3-B04_(Raw).tiff',\n '/tmp/shared/dataset_5/city/25/3/2022-11-09-00_00_2022-11-09-23_59_Sentinel-2_L2A-3-B05_(Raw).tiff',\n '/tmp/shared/dataset_5/city/25/3/2022-11-09-00_00_2022-11-09-23_59_Sentinel-2_L2A-3-B06_(Raw).tiff',\n '/tmp/shared/dataset_5/city/25/3/2022-11-09-00_00_2022-11-09-23_59_Sentinel-2_L2A-3-B07_(Raw).tiff',\n '/tmp/shared/dataset_5/city/25/3/2022-11-09-00_00_2022-11-09-23_59_Sentinel-2_L2A-3-B08_(Raw).tiff',\n '/tmp/shared/dataset_5/city/25/3/2022-11-09-00_00_2022-11-09-23_59_Sentinel-2_L2A-3-B09_(Raw).tiff',\n '/tmp/shared/dataset_5/city/25/3/2022-11-09-00_00_2022-11-09-23_59_Sentinel-2_L2A-3-B11_(Raw).tiff',\n '/tmp/shared/dataset_5/city/25/3/2022-11-09-00_00_2022-11-09-23_59_Sentinel-2_L2A-3-B12_(Raw).tiff',\n '/tmp/shared/dataset_5/city/25/3/2022-11-09-00_00_2022-11-09-23_59_Sentinel-2_L2A-3-B8A_(Raw).tiff',\n '/tmp/shared/dataset_5/city/27/0/2022-11-08-00_00_2022-11-08-23_59_Sentinel-2_L2A-0-B01_(Raw).tiff',\n '/tmp/shared/dataset_5/city/27/0/2022-11-08-00_00_2022-11-08-23_59_Sentinel-2_L2A-0-B02_(Raw).tiff',\n '/tmp/shared/dataset_5/city/27/0/2022-11-08-00_00_2022-11-08-23_59_Sentinel-2_L2A-0-B03_(Raw).tiff',\n '/tmp/shared/dataset_5/city/27/0/2022-11-08-00_00_2022-11-08-23_59_Sentinel-2_L2A-0-B04_(Raw).tiff',\n '/tmp/shared/dataset_5/city/27/0/2022-11-08-00_00_2022-11-08-23_59_Sentinel-2_L2A-0-B05_(Raw).tiff',\n '/tmp/shared/dataset_5/city/27/0/2022-11-08-00_00_2022-11-08-23_59_Sentinel-2_L2A-0-B06_(Raw).tiff',\n '/tmp/shared/dataset_5/city/27/0/2022-11-08-00_00_2022-11-08-23_59_Sentinel-2_L2A-0-B07_(Raw).tiff',\n '/tmp/shared/dataset_5/city/27/0/2022-11-08-00_00_2022-11-08-23_59_Sentinel-2_L2A-0-B08_(Raw).tiff',\n '/tmp/shared/dataset_5/city/27/0/2022-11-08-00_00_2022-11-08-23_59_Sentinel-2_L2A-0-B09_(Raw).tiff',\n '/tmp/shared/dataset_5/city/27/0/2022-11-08-00_00_2022-11-08-23_59_Sentinel-2_L2A-0-B11_(Raw).tiff',\n '/tmp/shared/dataset_5/city/27/0/2022-11-08-00_00_2022-11-08-23_59_Sentinel-2_L2A-0-B12_(Raw).tiff',\n '/tmp/shared/dataset_5/city/27/0/2022-11-08-00_00_2022-11-08-23_59_Sentinel-2_L2A-0-B8A_(Raw).tiff',\n '/tmp/shared/dataset_5/city/27/1/2022-11-08-00_00_2022-11-08-23_59_Sentinel-2_L2A-1-B01_(Raw).tiff',\n '/tmp/shared/dataset_5/city/27/1/2022-11-08-00_00_2022-11-08-23_59_Sentinel-2_L2A-1-B02_(Raw).tiff',\n '/tmp/shared/dataset_5/city/27/1/2022-11-08-00_00_2022-11-08-23_59_Sentinel-2_L2A-1-B03_(Raw).tiff',\n '/tmp/shared/dataset_5/city/27/1/2022-11-08-00_00_2022-11-08-23_59_Sentinel-2_L2A-1-B04_(Raw).tiff',\n '/tmp/shared/dataset_5/city/27/1/2022-11-08-00_00_2022-11-08-23_59_Sentinel-2_L2A-1-B05_(Raw).tiff',\n '/tmp/shared/dataset_5/city/27/1/2022-11-08-00_00_2022-11-08-23_59_Sentinel-2_L2A-1-B06_(Raw).tiff',\n '/tmp/shared/dataset_5/city/27/1/2022-11-08-00_00_2022-11-08-23_59_Sentinel-2_L2A-1-B07_(Raw).tiff',\n '/tmp/shared/dataset_5/city/27/1/2022-11-08-00_00_2022-11-08-23_59_Sentinel-2_L2A-1-B08_(Raw).tiff',\n '/tmp/shared/dataset_5/city/27/1/2022-11-08-00_00_2022-11-08-23_59_Sentinel-2_L2A-1-B09_(Raw).tiff',\n '/tmp/shared/dataset_5/city/27/1/2022-11-08-00_00_2022-11-08-23_59_Sentinel-2_L2A-1-B11_(Raw).tiff',\n '/tmp/shared/dataset_5/city/27/1/2022-11-08-00_00_2022-11-08-23_59_Sentinel-2_L2A-1-B12_(Raw).tiff',\n '/tmp/shared/dataset_5/city/27/1/2022-11-08-00_00_2022-11-08-23_59_Sentinel-2_L2A-1-B8A_(Raw).tiff',\n '/tmp/shared/dataset_5/city/27/2/2022-11-08-00_00_2022-11-08-23_59_Sentinel-2_L2A-2-B01_(Raw).tiff',\n '/tmp/shared/dataset_5/city/27/2/2022-11-08-00_00_2022-11-08-23_59_Sentinel-2_L2A-2-B02_(Raw).tiff',\n '/tmp/shared/dataset_5/city/27/2/2022-11-08-00_00_2022-11-08-23_59_Sentinel-2_L2A-2-B03_(Raw).tiff',\n '/tmp/shared/dataset_5/city/27/2/2022-11-08-00_00_2022-11-08-23_59_Sentinel-2_L2A-2-B04_(Raw).tiff',\n '/tmp/shared/dataset_5/city/27/2/2022-11-08-00_00_2022-11-08-23_59_Sentinel-2_L2A-2-B05_(Raw).tiff',\n '/tmp/shared/dataset_5/city/27/2/2022-11-08-00_00_2022-11-08-23_59_Sentinel-2_L2A-2-B06_(Raw).tiff',\n '/tmp/shared/dataset_5/city/27/2/2022-11-08-00_00_2022-11-08-23_59_Sentinel-2_L2A-2-B07_(Raw).tiff',\n '/tmp/shared/dataset_5/city/27/2/2022-11-08-00_00_2022-11-08-23_59_Sentinel-2_L2A-2-B08_(Raw).tiff',\n '/tmp/shared/dataset_5/city/27/2/2022-11-08-00_00_2022-11-08-23_59_Sentinel-2_L2A-2-B09_(Raw).tiff',\n '/tmp/shared/dataset_5/city/27/2/2022-11-08-00_00_2022-11-08-23_59_Sentinel-2_L2A-2-B11_(Raw).tiff',\n '/tmp/shared/dataset_5/city/27/2/2022-11-08-00_00_2022-11-08-23_59_Sentinel-2_L2A-2-B12_(Raw).tiff',\n '/tmp/shared/dataset_5/city/27/2/2022-11-08-00_00_2022-11-08-23_59_Sentinel-2_L2A-2-B8A_(Raw).tiff',\n '/tmp/shared/dataset_5/city/27/3/2022-11-08-00_00_2022-11-08-23_59_Sentinel-2_L2A-3-B01_(Raw).tiff',\n '/tmp/shared/dataset_5/city/27/3/2022-11-08-00_00_2022-11-08-23_59_Sentinel-2_L2A-3-B02_(Raw).tiff',\n '/tmp/shared/dataset_5/city/27/3/2022-11-08-00_00_2022-11-08-23_59_Sentinel-2_L2A-3-B03_(Raw).tiff',\n '/tmp/shared/dataset_5/city/27/3/2022-11-08-00_00_2022-11-08-23_59_Sentinel-2_L2A-3-B04_(Raw).tiff',\n '/tmp/shared/dataset_5/city/27/3/2022-11-08-00_00_2022-11-08-23_59_Sentinel-2_L2A-3-B05_(Raw).tiff',\n '/tmp/shared/dataset_5/city/27/3/2022-11-08-00_00_2022-11-08-23_59_Sentinel-2_L2A-3-B06_(Raw).tiff',\n '/tmp/shared/dataset_5/city/27/3/2022-11-08-00_00_2022-11-08-23_59_Sentinel-2_L2A-3-B07_(Raw).tiff',\n '/tmp/shared/dataset_5/city/27/3/2022-11-08-00_00_2022-11-08-23_59_Sentinel-2_L2A-3-B08_(Raw).tiff',\n '/tmp/shared/dataset_5/city/27/3/2022-11-08-00_00_2022-11-08-23_59_Sentinel-2_L2A-3-B09_(Raw).tiff',\n '/tmp/shared/dataset_5/city/27/3/2022-11-08-00_00_2022-11-08-23_59_Sentinel-2_L2A-3-B11_(Raw).tiff',\n '/tmp/shared/dataset_5/city/27/3/2022-11-08-00_00_2022-11-08-23_59_Sentinel-2_L2A-3-B12_(Raw).tiff',\n '/tmp/shared/dataset_5/city/27/3/2022-11-08-00_00_2022-11-08-23_59_Sentinel-2_L2A-3-B8A_(Raw).tiff',\n '/tmp/shared/dataset_5/city/27/4/2022-11-08-00_00_2022-11-08-23_59_Sentinel-2_L2A-4-B01_(Raw).tiff',\n '/tmp/shared/dataset_5/city/27/4/2022-11-08-00_00_2022-11-08-23_59_Sentinel-2_L2A-4-B02_(Raw).tiff',\n '/tmp/shared/dataset_5/city/27/4/2022-11-08-00_00_2022-11-08-23_59_Sentinel-2_L2A-4-B03_(Raw).tiff',\n '/tmp/shared/dataset_5/city/27/4/2022-11-08-00_00_2022-11-08-23_59_Sentinel-2_L2A-4-B04_(Raw).tiff',\n '/tmp/shared/dataset_5/city/27/4/2022-11-08-00_00_2022-11-08-23_59_Sentinel-2_L2A-4-B05_(Raw).tiff',\n '/tmp/shared/dataset_5/city/27/4/2022-11-08-00_00_2022-11-08-23_59_Sentinel-2_L2A-4-B06_(Raw).tiff',\n '/tmp/shared/dataset_5/city/27/4/2022-11-08-00_00_2022-11-08-23_59_Sentinel-2_L2A-4-B07_(Raw).tiff',\n '/tmp/shared/dataset_5/city/27/4/2022-11-08-00_00_2022-11-08-23_59_Sentinel-2_L2A-4-B08_(Raw).tiff',\n '/tmp/shared/dataset_5/city/27/4/2022-11-08-00_00_2022-11-08-23_59_Sentinel-2_L2A-4-B09_(Raw).tiff',\n '/tmp/shared/dataset_5/city/27/4/2022-11-08-00_00_2022-11-08-23_59_Sentinel-2_L2A-4-B11_(Raw).tiff',\n '/tmp/shared/dataset_5/city/27/4/2022-11-08-00_00_2022-11-08-23_59_Sentinel-2_L2A-4-B12_(Raw).tiff',\n '/tmp/shared/dataset_5/city/27/4/2022-11-08-00_00_2022-11-08-23_59_Sentinel-2_L2A-4-B8A_(Raw).tiff',\n '/tmp/shared/dataset_5/city/6/0/2022-10-11-00_00_2022-10-11-23_59_Sentinel-2_L2A-0-B01_(Raw).tiff',\n '/tmp/shared/dataset_5/city/6/0/2022-10-11-00_00_2022-10-11-23_59_Sentinel-2_L2A-0-B02_(Raw).tiff',\n '/tmp/shared/dataset_5/city/6/0/2022-10-11-00_00_2022-10-11-23_59_Sentinel-2_L2A-0-B03_(Raw).tiff',\n '/tmp/shared/dataset_5/city/6/0/2022-10-11-00_00_2022-10-11-23_59_Sentinel-2_L2A-0-B04_(Raw).tiff',\n '/tmp/shared/dataset_5/city/6/0/2022-10-11-00_00_2022-10-11-23_59_Sentinel-2_L2A-0-B05_(Raw).tiff',\n '/tmp/shared/dataset_5/city/6/0/2022-10-11-00_00_2022-10-11-23_59_Sentinel-2_L2A-0-B06_(Raw).tiff',\n '/tmp/shared/dataset_5/city/6/0/2022-10-11-00_00_2022-10-11-23_59_Sentinel-2_L2A-0-B07_(Raw).tiff',\n '/tmp/shared/dataset_5/city/6/0/2022-10-11-00_00_2022-10-11-23_59_Sentinel-2_L2A-0-B08_(Raw).tiff',\n '/tmp/shared/dataset_5/city/6/0/2022-10-11-00_00_2022-10-11-23_59_Sentinel-2_L2A-0-B09_(Raw).tiff',\n '/tmp/shared/dataset_5/city/6/0/2022-10-11-00_00_2022-10-11-23_59_Sentinel-2_L2A-0-B11_(Raw).tiff',\n '/tmp/shared/dataset_5/city/6/0/2022-10-11-00_00_2022-10-11-23_59_Sentinel-2_L2A-0-B12_(Raw).tiff',\n '/tmp/shared/dataset_5/city/6/0/2022-10-11-00_00_2022-10-11-23_59_Sentinel-2_L2A-0-B8A_(Raw).tiff',\n '/tmp/shared/dataset_5/city/6/1/2022-10-11-00_00_2022-10-11-23_59_Sentinel-2_L2A-1-B01_(Raw).tiff',\n '/tmp/shared/dataset_5/city/6/1/2022-10-11-00_00_2022-10-11-23_59_Sentinel-2_L2A-1-B02_(Raw).tiff',\n '/tmp/shared/dataset_5/city/6/1/2022-10-11-00_00_2022-10-11-23_59_Sentinel-2_L2A-1-B03_(Raw).tiff',\n '/tmp/shared/dataset_5/city/6/1/2022-10-11-00_00_2022-10-11-23_59_Sentinel-2_L2A-1-B04_(Raw).tiff',\n '/tmp/shared/dataset_5/city/6/1/2022-10-11-00_00_2022-10-11-23_59_Sentinel-2_L2A-1-B05_(Raw).tiff',\n '/tmp/shared/dataset_5/city/6/1/2022-10-11-00_00_2022-10-11-23_59_Sentinel-2_L2A-1-B06_(Raw).tiff',\n '/tmp/shared/dataset_5/city/6/1/2022-10-11-00_00_2022-10-11-23_59_Sentinel-2_L2A-1-B07_(Raw).tiff',\n '/tmp/shared/dataset_5/city/6/1/2022-10-11-00_00_2022-10-11-23_59_Sentinel-2_L2A-1-B08_(Raw).tiff',\n '/tmp/shared/dataset_5/city/6/1/2022-10-11-00_00_2022-10-11-23_59_Sentinel-2_L2A-1-B09_(Raw).tiff',\n '/tmp/shared/dataset_5/city/6/1/2022-10-11-00_00_2022-10-11-23_59_Sentinel-2_L2A-1-B11_(Raw).tiff',\n '/tmp/shared/dataset_5/city/6/1/2022-10-11-00_00_2022-10-11-23_59_Sentinel-2_L2A-1-B12_(Raw).tiff',\n '/tmp/shared/dataset_5/city/6/1/2022-10-11-00_00_2022-10-11-23_59_Sentinel-2_L2A-1-B8A_(Raw).tiff',\n '/tmp/shared/dataset_5/city/6/2/2022-10-11-00_00_2022-10-11-23_59_Sentinel-2_L2A-2-B01_(Raw).tiff',\n '/tmp/shared/dataset_5/city/6/2/2022-10-11-00_00_2022-10-11-23_59_Sentinel-2_L2A-2-B02_(Raw).tiff',\n '/tmp/shared/dataset_5/city/6/2/2022-10-11-00_00_2022-10-11-23_59_Sentinel-2_L2A-2-B03_(Raw).tiff',\n '/tmp/shared/dataset_5/city/6/2/2022-10-11-00_00_2022-10-11-23_59_Sentinel-2_L2A-2-B04_(Raw).tiff',\n '/tmp/shared/dataset_5/city/6/2/2022-10-11-00_00_2022-10-11-23_59_Sentinel-2_L2A-2-B05_(Raw).tiff',\n '/tmp/shared/dataset_5/city/6/2/2022-10-11-00_00_2022-10-11-23_59_Sentinel-2_L2A-2-B06_(Raw).tiff',\n '/tmp/shared/dataset_5/city/6/2/2022-10-11-00_00_2022-10-11-23_59_Sentinel-2_L2A-2-B07_(Raw).tiff',\n '/tmp/shared/dataset_5/city/6/2/2022-10-11-00_00_2022-10-11-23_59_Sentinel-2_L2A-2-B08_(Raw).tiff',\n '/tmp/shared/dataset_5/city/6/2/2022-10-11-00_00_2022-10-11-23_59_Sentinel-2_L2A-2-B09_(Raw).tiff',\n '/tmp/shared/dataset_5/city/6/2/2022-10-11-00_00_2022-10-11-23_59_Sentinel-2_L2A-2-B11_(Raw).tiff',\n '/tmp/shared/dataset_5/city/6/2/2022-10-11-00_00_2022-10-11-23_59_Sentinel-2_L2A-2-B12_(Raw).tiff',\n '/tmp/shared/dataset_5/city/6/2/2022-10-11-00_00_2022-10-11-23_59_Sentinel-2_L2A-2-B8A_(Raw).tiff',\n '/tmp/shared/dataset_5/city/6/3/2022-10-11-00_00_2022-10-11-23_59_Sentinel-2_L2A-3-B01_(Raw).tiff',\n '/tmp/shared/dataset_5/city/6/3/2022-10-11-00_00_2022-10-11-23_59_Sentinel-2_L2A-3-B02_(Raw).tiff',\n '/tmp/shared/dataset_5/city/6/3/2022-10-11-00_00_2022-10-11-23_59_Sentinel-2_L2A-3-B03_(Raw).tiff',\n '/tmp/shared/dataset_5/city/6/3/2022-10-11-00_00_2022-10-11-23_59_Sentinel-2_L2A-3-B04_(Raw).tiff',\n '/tmp/shared/dataset_5/city/6/3/2022-10-11-00_00_2022-10-11-23_59_Sentinel-2_L2A-3-B05_(Raw).tiff',\n '/tmp/shared/dataset_5/city/6/3/2022-10-11-00_00_2022-10-11-23_59_Sentinel-2_L2A-3-B06_(Raw).tiff',\n '/tmp/shared/dataset_5/city/6/3/2022-10-11-00_00_2022-10-11-23_59_Sentinel-2_L2A-3-B07_(Raw).tiff',\n '/tmp/shared/dataset_5/city/6/3/2022-10-11-00_00_2022-10-11-23_59_Sentinel-2_L2A-3-B08_(Raw).tiff',\n '/tmp/shared/dataset_5/city/6/3/2022-10-11-00_00_2022-10-11-23_59_Sentinel-2_L2A-3-B09_(Raw).tiff',\n '/tmp/shared/dataset_5/city/6/3/2022-10-11-00_00_2022-10-11-23_59_Sentinel-2_L2A-3-B11_(Raw).tiff',\n '/tmp/shared/dataset_5/city/6/3/2022-10-11-00_00_2022-10-11-23_59_Sentinel-2_L2A-3-B12_(Raw).tiff',\n '/tmp/shared/dataset_5/city/6/3/2022-10-11-00_00_2022-10-11-23_59_Sentinel-2_L2A-3-B8A_(Raw).tiff',\n '/tmp/shared/dataset_5/city/6/4/2022-10-11-00_00_2022-10-11-23_59_Sentinel-2_L2A-4-B01_(Raw).tiff',\n '/tmp/shared/dataset_5/city/6/4/2022-10-11-00_00_2022-10-11-23_59_Sentinel-2_L2A-4-B02_(Raw).tiff',\n '/tmp/shared/dataset_5/city/6/4/2022-10-11-00_00_2022-10-11-23_59_Sentinel-2_L2A-4-B03_(Raw).tiff',\n '/tmp/shared/dataset_5/city/6/4/2022-10-11-00_00_2022-10-11-23_59_Sentinel-2_L2A-4-B04_(Raw).tiff',\n ...]"
     },
     "execution_count": 214,
     "metadata": {},
     "output_type": "execute_result"
    }
   ],
   "source": [
    "from glob import glob\n",
    "S_sentinel_bands = glob(\"/tmp/shared/dataset_5/**/*B?*.tiff\", recursive=True)\n",
    "S_sentinel_bands.sort()\n",
    "S_sentinel_bands"
   ],
   "metadata": {
    "collapsed": false,
    "ExecuteTime": {
     "end_time": "2023-05-31T17:51:27.082155800Z",
     "start_time": "2023-05-31T17:51:27.021932100Z"
    }
   }
  },
  {
   "cell_type": "code",
   "execution_count": 215,
   "outputs": [],
   "source": [
    "from urllib.parse import urlparse\n",
    "\n",
    "def getCategory(path):\n",
    "    url = path.split(\"/\")\n",
    "    category = url[4]\n",
    "    return category"
   ],
   "metadata": {
    "collapsed": false,
    "ExecuteTime": {
     "end_time": "2023-05-31T17:51:27.500781800Z",
     "start_time": "2023-05-31T17:51:27.496780700Z"
    }
   }
  },
  {
   "cell_type": "code",
   "execution_count": 216,
   "outputs": [],
   "source": [
    "def getParentImageNumber(path):\n",
    "    url = path.split(\"/\")\n",
    "    category = url[5]\n",
    "    return category"
   ],
   "metadata": {
    "collapsed": false,
    "ExecuteTime": {
     "end_time": "2023-05-31T17:51:27.944651100Z",
     "start_time": "2023-05-31T17:51:27.941651200Z"
    }
   }
  },
  {
   "cell_type": "code",
   "execution_count": 217,
   "outputs": [],
   "source": [
    "def getImagePartNumber(path):\n",
    "    url = path.split(\"/\")\n",
    "    category = url[6]\n",
    "    return category"
   ],
   "metadata": {
    "collapsed": false,
    "ExecuteTime": {
     "end_time": "2023-05-31T17:51:28.354818400Z",
     "start_time": "2023-05-31T17:51:28.351753100Z"
    }
   }
  },
  {
   "cell_type": "code",
   "execution_count": 217,
   "outputs": [],
   "source": [],
   "metadata": {
    "collapsed": false,
    "ExecuteTime": {
     "end_time": "2023-05-31T17:51:28.764942100Z",
     "start_time": "2023-05-31T17:51:28.760912600Z"
    }
   }
  },
  {
   "cell_type": "code",
   "execution_count": 218,
   "outputs": [],
   "source": [
    "def toGrouped(array):\n",
    "    np_array = np.asarray(array)\n",
    "    print(f\"Shape of array is {np_array.shape}\")\n",
    "    grouped_items = []\n",
    "    for i in np_array:\n",
    "        tpl = (i, getCategory(i), getParentImageNumber(i), getImagePartNumber(i))\n",
    "        grouped_items.append(tpl)\n",
    "\n",
    "    return np.asarray(grouped_items)"
   ],
   "metadata": {
    "collapsed": false,
    "ExecuteTime": {
     "end_time": "2023-05-31T17:51:29.596400Z",
     "start_time": "2023-05-31T17:51:29.594400100Z"
    }
   }
  },
  {
   "cell_type": "code",
   "execution_count": 219,
   "outputs": [
    {
     "name": "stdout",
     "output_type": "stream",
     "text": [
      "Shape of array is (3618,)\n"
     ]
    }
   ],
   "source": [
    "grouped_items = toGrouped(S_sentinel_bands)"
   ],
   "metadata": {
    "collapsed": false,
    "ExecuteTime": {
     "end_time": "2023-05-31T17:51:30.414983400Z",
     "start_time": "2023-05-31T17:51:30.387598900Z"
    }
   }
  },
  {
   "cell_type": "code",
   "execution_count": 220,
   "outputs": [
    {
     "data": {
      "text/plain": "array([['/tmp/shared/dataset_5/city/13/0/2022-08-10-00_00_2022-08-10-23_59_Sentinel-2_L2A-0-B01_(Raw).tiff',\n        'city', '13', '0'],\n       ['/tmp/shared/dataset_5/city/13/0/2022-08-10-00_00_2022-08-10-23_59_Sentinel-2_L2A-0-B02_(Raw).tiff',\n        'city', '13', '0'],\n       ['/tmp/shared/dataset_5/city/13/0/2022-08-10-00_00_2022-08-10-23_59_Sentinel-2_L2A-0-B03_(Raw).tiff',\n        'city', '13', '0'],\n       ...,\n       ['/tmp/shared/dataset_5/water/6/8/2022-10-11-00_00_2022-10-11-23_59_Sentinel-2_L2A-8-B11_(Raw).tiff',\n        'water', '6', '8'],\n       ['/tmp/shared/dataset_5/water/6/8/2022-10-11-00_00_2022-10-11-23_59_Sentinel-2_L2A-8-B12_(Raw).tiff',\n        'water', '6', '8'],\n       ['/tmp/shared/dataset_5/water/6/8/2022-10-11-00_00_2022-10-11-23_59_Sentinel-2_L2A-8-B8A_(Raw).tiff',\n        'water', '6', '8']], dtype='<U101')"
     },
     "execution_count": 220,
     "metadata": {},
     "output_type": "execute_result"
    }
   ],
   "source": [
    "grouped_items"
   ],
   "metadata": {
    "collapsed": false,
    "ExecuteTime": {
     "end_time": "2023-05-31T17:51:30.855615300Z",
     "start_time": "2023-05-31T17:51:30.823177400Z"
    }
   }
  },
  {
   "cell_type": "code",
   "execution_count": 221,
   "outputs": [],
   "source": [
    "categories_to_include = [\"city\", \"water\", \"forest\", \"field\"]"
   ],
   "metadata": {
    "collapsed": false,
    "ExecuteTime": {
     "end_time": "2023-05-31T17:51:31.905219500Z",
     "start_time": "2023-05-31T17:51:31.897409900Z"
    }
   }
  },
  {
   "cell_type": "code",
   "execution_count": 222,
   "outputs": [],
   "source": [
    "def getLearnCategories():\n",
    "    dataset_map = {}\n",
    "    for category in categories_to_include:\n",
    "        items = grouped_items[grouped_items[:, 1] == category]\n",
    "        dataset_map[category] = items\n",
    "    return dataset_map"
   ],
   "metadata": {
    "collapsed": false,
    "ExecuteTime": {
     "end_time": "2023-05-31T17:51:33.335996900Z",
     "start_time": "2023-05-31T17:51:33.306403100Z"
    }
   }
  },
  {
   "cell_type": "code",
   "execution_count": 223,
   "outputs": [],
   "source": [
    "categories_to_learn = getLearnCategories()"
   ],
   "metadata": {
    "collapsed": false,
    "ExecuteTime": {
     "end_time": "2023-05-31T17:51:34.072230200Z",
     "start_time": "2023-05-31T17:51:34.044201Z"
    }
   }
  },
  {
   "cell_type": "code",
   "execution_count": 224,
   "outputs": [],
   "source": [
    "def createCategoriesNumbersMap():\n",
    "    numbers_map = {}\n",
    "    for idx, category in enumerate(categories_to_learn):\n",
    "        numbers_map[category] = idx+1\n",
    "    return numbers_map"
   ],
   "metadata": {
    "collapsed": false,
    "ExecuteTime": {
     "end_time": "2023-05-31T17:51:35.406231200Z",
     "start_time": "2023-05-31T17:51:35.403088700Z"
    }
   }
  },
  {
   "cell_type": "code",
   "execution_count": 225,
   "outputs": [],
   "source": [
    "categories_map = createCategoriesNumbersMap()"
   ],
   "metadata": {
    "collapsed": false,
    "ExecuteTime": {
     "end_time": "2023-05-31T17:51:35.810352900Z",
     "start_time": "2023-05-31T17:51:35.805183400Z"
    }
   }
  },
  {
   "cell_type": "code",
   "execution_count": 226,
   "outputs": [
    {
     "data": {
      "text/plain": "{'city': 1, 'water': 2, 'forest': 3, 'field': 4}"
     },
     "execution_count": 226,
     "metadata": {},
     "output_type": "execute_result"
    }
   ],
   "source": [
    "categories_map"
   ],
   "metadata": {
    "collapsed": false,
    "ExecuteTime": {
     "end_time": "2023-05-31T17:51:36.768890800Z",
     "start_time": "2023-05-31T17:51:36.764892400Z"
    }
   }
  },
  {
   "cell_type": "code",
   "execution_count": 227,
   "outputs": [],
   "source": [
    "from itertools import groupby\n",
    "\n",
    "def prepareBeforeTraining():\n",
    "    categories = {}\n",
    "    for category_key, category_value in categories_to_learn.items():\n",
    "        items = []\n",
    "        image_part_items = groupby(category_value, key= lambda x: x[2])\n",
    "        for key, group in image_part_items:\n",
    "            grouped_parts = groupby(group, key=lambda x: x[3])\n",
    "            for key1, group1 in grouped_parts:\n",
    "                items.append(list(group1))\n",
    "       # items = sorted(items)\n",
    "        categories[category_key] = np.asarray(items)\n",
    "    return categories"
   ],
   "metadata": {
    "collapsed": false,
    "ExecuteTime": {
     "end_time": "2023-05-31T17:51:37.611716100Z",
     "start_time": "2023-05-31T17:51:37.578670600Z"
    }
   }
  },
  {
   "cell_type": "code",
   "execution_count": 227,
   "outputs": [],
   "source": [
    "\n"
   ],
   "metadata": {
    "collapsed": false,
    "ExecuteTime": {
     "end_time": "2023-05-31T17:51:38.715841Z",
     "start_time": "2023-05-31T17:51:38.710328400Z"
    }
   }
  },
  {
   "cell_type": "code",
   "execution_count": 228,
   "outputs": [],
   "source": [
    "prepared_items = prepareBeforeTraining()"
   ],
   "metadata": {
    "collapsed": false,
    "ExecuteTime": {
     "end_time": "2023-05-31T17:51:39.165465500Z",
     "start_time": "2023-05-31T17:51:39.143414Z"
    }
   }
  },
  {
   "cell_type": "code",
   "execution_count": 297,
   "outputs": [],
   "source": [
    "def loadImages():\n",
    "    loaded_images = {}\n",
    "    for category_key, category_value in prepared_items.items():\n",
    "        ff = []\n",
    "        for item in category_value:\n",
    "            l = []\n",
    "\n",
    "            if len(item) > 12:\n",
    "                print(f\"item {item[0][0]}\")\n",
    "\n",
    "            for file_path in item:\n",
    "                with rio.open(file_path[0], 'r') as f:\n",
    "                    img = f.read(1)\n",
    "                    l.append(np.asarray(img))\n",
    "\n",
    "            if len(l[0]) == len(l[1]) and len(l[0][0]) == len(l[1][0]):\n",
    "                ff.append(np.asarray(l))\n",
    "        loaded_images[category_key] = ff\n",
    "    return loaded_images"
   ],
   "metadata": {
    "collapsed": false,
    "ExecuteTime": {
     "end_time": "2023-05-31T18:27:52.905095500Z",
     "start_time": "2023-05-31T18:27:52.883718Z"
    }
   }
  },
  {
   "cell_type": "code",
   "execution_count": 298,
   "outputs": [],
   "source": [
    "loaded_images = loadImages()"
   ],
   "metadata": {
    "collapsed": false,
    "ExecuteTime": {
     "end_time": "2023-05-31T18:28:02.943758100Z",
     "start_time": "2023-05-31T18:27:53.410807500Z"
    }
   }
  },
  {
   "cell_type": "code",
   "execution_count": 286,
   "outputs": [
    {
     "name": "stdout",
     "output_type": "stream",
     "text": [
      "np shape (12, 50, 50)\n",
      "np shape (12, 40, 40)\n",
      "np shape (12, 40, 40)\n",
      "np shape (12, 50, 50)\n",
      "np shape (12, 50, 50)\n",
      "np shape (12, 50, 50)\n",
      "np shape (12, 50, 50)\n",
      "np shape (12, 50, 50)\n",
      "np shape (12, 50, 50)\n",
      "np shape (12, 50, 50)\n",
      "np shape (12, 50, 50)\n",
      "np shape (12, 50, 50)\n",
      "np shape (12, 50, 50)\n",
      "np shape (12, 50, 50)\n",
      "np shape (12, 50, 50)\n",
      "np shape (12, 50, 50)\n",
      "np shape (12, 50, 50)\n",
      "np shape (12, 50, 50)\n",
      "np shape (12, 50, 50)\n",
      "np shape (12, 50, 50)\n",
      "np shape (12, 50, 50)\n",
      "np shape (12, 50, 50)\n",
      "np shape (12, 50, 50)\n",
      "np shape (12, 50, 50)\n",
      "np shape (12, 50, 50)\n",
      "np shape (12, 50, 50)\n",
      "np shape (12, 50, 50)\n",
      "np shape (12, 50, 50)\n",
      "np shape (12, 50, 50)\n",
      "np shape (12, 50, 50)\n",
      "np shape (12, 50, 50)\n",
      "np shape (12, 50, 50)\n",
      "np shape (12, 50, 50)\n",
      "np shape (12, 50, 50)\n",
      "np shape (12, 50, 50)\n",
      "np shape (12, 50, 50)\n",
      "np shape (12, 50, 50)\n",
      "np shape (12, 50, 50)\n",
      "np shape (12, 50, 50)\n",
      "np shape (12, 50, 50)\n",
      "np shape (12, 50, 50)\n",
      "np shape (12, 100, 100)\n",
      "np shape (12, 100, 50)\n",
      "np shape (12, 50, 50)\n",
      "np shape (12, 50, 50)\n",
      "np shape (12, 50, 50)\n",
      "np shape (12, 50, 50)\n",
      "np shape (12, 100, 50)\n",
      "np shape (12, 100, 50)\n",
      "np shape (12, 100, 50)\n",
      "np shape (12,)\n",
      "np shape (12,)\n",
      "np shape (12,)\n",
      "np shape (12,)\n",
      "np shape (12, 50, 50)\n",
      "np shape (12, 50, 50)\n",
      "np shape (12, 50, 50)\n",
      "np shape (12, 50, 50)\n",
      "np shape (12, 50, 50)\n",
      "np shape (12, 50, 50)\n",
      "np shape (12, 50, 50)\n",
      "np shape (12, 50, 50)\n",
      "np shape (12, 50, 50)\n",
      "np shape (12, 50, 50)\n",
      "np shape (12, 50, 50)\n",
      "np shape (12, 50, 50)\n",
      "np shape (12, 50, 50)\n",
      "np shape (12, 50, 50)\n",
      "np shape (12, 50, 50)\n",
      "np shape (12, 50, 50)\n",
      "np shape (12, 50, 50)\n",
      "np shape (12, 50, 50)\n",
      "np shape (12, 50, 50)\n",
      "np shape (12, 50, 50)\n",
      "np shape (12, 50, 50)\n",
      "np shape (12, 50, 50)\n",
      "np shape (12, 50, 50)\n",
      "np shape (12, 50, 50)\n",
      "np shape (12, 50, 50)\n",
      "np shape (12, 50, 50)\n",
      "np shape (12, 50, 50)\n",
      "np shape (12, 50, 50)\n",
      "np shape (12, 50, 50)\n",
      "np shape (12, 50, 50)\n",
      "np shape (12, 50, 50)\n",
      "np shape (12, 50, 50)\n",
      "np shape (12, 50, 50)\n",
      "np shape (12, 50, 50)\n",
      "np shape (12, 50, 50)\n",
      "np shape (12, 50, 50)\n",
      "np shape (12, 50, 50)\n",
      "np shape (12, 50, 50)\n",
      "np shape (12, 50, 50)\n",
      "np shape (12, 50, 50)\n",
      "np shape (12, 50, 50)\n",
      "np shape (12, 50, 50)\n",
      "np shape (12, 50, 50)\n"
     ]
    },
    {
     "ename": "AttributeError",
     "evalue": "'list' object has no attribute 'shape'",
     "output_type": "error",
     "traceback": [
      "\u001B[0;31m---------------------------------------------------------------------------\u001B[0m",
      "\u001B[0;31mAttributeError\u001B[0m                            Traceback (most recent call last)",
      "Input \u001B[0;32mIn [286]\u001B[0m, in \u001B[0;36m<cell line: 4>\u001B[0;34m()\u001B[0m\n\u001B[1;32m      2\u001B[0m \u001B[38;5;28;01mfor\u001B[39;00m fld \u001B[38;5;129;01min\u001B[39;00m fields:\n\u001B[1;32m      3\u001B[0m     \u001B[38;5;28mprint\u001B[39m(\u001B[38;5;124mf\u001B[39m\u001B[38;5;124m\"\u001B[39m\u001B[38;5;124mnp shape \u001B[39m\u001B[38;5;132;01m{\u001B[39;00mfld\u001B[38;5;241m.\u001B[39mshape\u001B[38;5;132;01m}\u001B[39;00m\u001B[38;5;124m\"\u001B[39m)\n\u001B[0;32m----> 4\u001B[0m \u001B[43mfields\u001B[49m\u001B[38;5;241;43m.\u001B[39;49m\u001B[43mshape\u001B[49m\n",
      "\u001B[0;31mAttributeError\u001B[0m: 'list' object has no attribute 'shape'"
     ]
    }
   ],
   "source": [
    "fields  = loaded_images[\"field\"]\n",
    "for fld in fields:\n",
    "    print(f\"np shape {fld.shape}\")\n",
    "fields.shape"
   ],
   "metadata": {
    "collapsed": false,
    "ExecuteTime": {
     "end_time": "2023-05-31T18:18:28.260728400Z",
     "start_time": "2023-05-31T18:18:28.243168500Z"
    }
   }
  },
  {
   "cell_type": "code",
   "execution_count": 299,
   "outputs": [],
   "source": [
    "import itertools\n",
    "\n",
    "def createVectors():\n",
    "    cat_vec = {}\n",
    "    for cat_key, cat_val in loaded_images.items():\n",
    "        print(f\"Processing {cat_key}\")\n",
    "        itms = [[] for _ in range(12)]\n",
    "        for img_group in cat_val:\n",
    "            #grp = [[] for _ in range(12)]\n",
    "            #print(f\"Size of img group {len(img_group)}\")\n",
    "            for grp_idx,img in enumerate(img_group):\n",
    "                #print(f\"Index of type {grp_idx}. Array size: {len(grp)}\")\n",
    "                if len(img.shape) == 2:\n",
    "                    vec = img.flatten()\n",
    "                    itms[grp_idx].extend(vec)\n",
    "            # if cat_key == \"field\":\n",
    "            #         print(f\"Size of itwm {len(itms[0])}\")\n",
    "        print(f\"Size of {cat_key} is {len(itms[1])}\")\n",
    "        cat_vec[cat_key] = np.asarray(itms,  dtype=int)\n",
    "    return cat_vec\n"
   ],
   "metadata": {
    "collapsed": false,
    "ExecuteTime": {
     "end_time": "2023-05-31T18:28:08.125399300Z",
     "start_time": "2023-05-31T18:28:08.119444200Z"
    }
   }
  },
  {
   "cell_type": "code",
   "execution_count": 300,
   "outputs": [
    {
     "name": "stdout",
     "output_type": "stream",
     "text": [
      "Processing city\n",
      "Size of city is 212500\n",
      "Processing water\n",
      "Size of water is 77500\n",
      "Processing forest\n",
      "Size of forest is 147500\n",
      "Processing field\n",
      "Size of field is 248200\n"
     ]
    }
   ],
   "source": [
    "vectors = createVectors()"
   ],
   "metadata": {
    "collapsed": false,
    "ExecuteTime": {
     "end_time": "2023-05-31T18:28:10.811313300Z",
     "start_time": "2023-05-31T18:28:10.153547Z"
    }
   }
  },
  {
   "cell_type": "code",
   "execution_count": 301,
   "outputs": [
    {
     "data": {
      "text/plain": "(12, 248200)"
     },
     "execution_count": 301,
     "metadata": {},
     "output_type": "execute_result"
    }
   ],
   "source": [
    "vectors[\"field\"].shape"
   ],
   "metadata": {
    "collapsed": false,
    "ExecuteTime": {
     "end_time": "2023-05-31T18:28:18.887848300Z",
     "start_time": "2023-05-31T18:28:18.798450900Z"
    }
   }
  },
  {
   "cell_type": "code",
   "execution_count": 303,
   "outputs": [],
   "source": [
    "def createYDatDict():\n",
    "    y_dict = {}\n",
    "    for val, num in categories_map.items():\n",
    "        shape_length = vectors[val].shape[1]\n",
    "        y_dict[val] = np.full(shape_length, num)\n",
    "    return y_dict\n"
   ],
   "metadata": {
    "collapsed": false,
    "ExecuteTime": {
     "end_time": "2023-05-31T18:29:08.781392Z",
     "start_time": "2023-05-31T18:29:08.758656200Z"
    }
   }
  },
  {
   "cell_type": "code",
   "execution_count": 165,
   "outputs": [
    {
     "data": {
      "text/plain": "[[1, 2, 3, 4], [5, 6, 7, 8]]"
     },
     "execution_count": 165,
     "metadata": {},
     "output_type": "execute_result"
    }
   ],
   "source": [
    "t = [[] for _ in range(2)]\n",
    "t[0].extend([1,2])\n",
    "t[0].extend([3,4])\n",
    "# t[0] = [1,2,3,4]\n",
    "t[1].extend([5,6])\n",
    "t[1].extend([7,8])\n",
    "t"
   ],
   "metadata": {
    "collapsed": false,
    "ExecuteTime": {
     "end_time": "2023-05-31T17:23:30.963885600Z",
     "start_time": "2023-05-31T17:23:30.944853Z"
    }
   }
  },
  {
   "cell_type": "code",
   "execution_count": 304,
   "outputs": [],
   "source": [
    "y_data_cat = createYDatDict()"
   ],
   "metadata": {
    "collapsed": false,
    "ExecuteTime": {
     "end_time": "2023-05-31T18:29:11.846139Z",
     "start_time": "2023-05-31T18:29:11.821327400Z"
    }
   }
  },
  {
   "cell_type": "code",
   "execution_count": 305,
   "outputs": [
    {
     "data": {
      "text/plain": "(212500,)"
     },
     "execution_count": 305,
     "metadata": {},
     "output_type": "execute_result"
    }
   ],
   "source": [
    "y_data_cat[\"city\"].shape"
   ],
   "metadata": {
    "collapsed": false,
    "ExecuteTime": {
     "end_time": "2023-05-31T18:29:12.598345900Z",
     "start_time": "2023-05-31T18:29:12.536554800Z"
    }
   }
  },
  {
   "cell_type": "code",
   "execution_count": 306,
   "outputs": [],
   "source": [
    "def flattenXY():\n",
    "    x_dt = [[] for _ in range(12)]\n",
    "    for item in vectors.values():\n",
    "        for idx, item1 in enumerate(item):\n",
    "            x_dt[idx].extend(item1)\n",
    "\n",
    "    y_dt = []\n",
    "    for item in y_data_cat.values():\n",
    "        y_dt.extend(item)\n",
    "\n",
    "    x_array = np.asarray(x_dt)\n",
    "    x_array_changed = np.moveaxis(x_array, -1, 0)\n",
    "\n",
    "    return (np.asarray(x_array_changed), np.asarray(y_dt))"
   ],
   "metadata": {
    "collapsed": false,
    "ExecuteTime": {
     "end_time": "2023-05-31T18:34:58.914522700Z",
     "start_time": "2023-05-31T18:34:58.888182200Z"
    }
   }
  },
  {
   "cell_type": "code",
   "execution_count": 312,
   "outputs": [],
   "source": [
    "x_data, y_data = flattenXY()"
   ],
   "metadata": {
    "collapsed": false,
    "ExecuteTime": {
     "end_time": "2023-05-31T18:38:46.576299400Z",
     "start_time": "2023-05-31T18:38:45.513303400Z"
    }
   }
  },
  {
   "cell_type": "code",
   "execution_count": 365,
   "outputs": [],
   "source": [
    "from sklearn.preprocessing import StandardScaler\n",
    "\n",
    "scaler = StandardScaler().fit(x_data)\n",
    "\n",
    "x_scaled = scaler.transform(x_data)"
   ],
   "metadata": {
    "collapsed": false,
    "ExecuteTime": {
     "end_time": "2023-05-31T20:10:28.983642800Z",
     "start_time": "2023-05-31T20:10:28.396319Z"
    }
   }
  },
  {
   "cell_type": "code",
   "execution_count": 371,
   "outputs": [],
   "source": [
    "import random\n",
    "\n",
    "def split_train_data(x, y, coef):\n",
    "    cnt = x.shape[0]\n",
    "    indexes = list(range(cnt))\n",
    "    items_to_train = int(cnt*coef)\n",
    "    items_to_test = cnt - items_to_train\n",
    "    percentile = int((1-coef)*100.0)\n",
    "    print(f\"Train size: {items_to_train}. Test size: {items_to_test}\")\n",
    "    test_indexes = random.sample(indexes, items_to_test)\n",
    "\n",
    "    x_train = []\n",
    "    y_train = []\n",
    "    x_test = []\n",
    "    y_test = []\n",
    "    for ii in range(cnt):\n",
    "        if ii in test_indexes:\n",
    "            x_test.append(x[ii])\n",
    "            y_test.append(y[ii])\n",
    "        else:\n",
    "            x_train.append(x[ii])\n",
    "            y_train.append(y[ii])\n",
    "        print(f\"Progress: {(ii/cnt)*100}\")\n",
    "\n",
    "    #print(f\"items to train {x_train.shape}\")\n",
    "    #print(f\"items to test {x_test.shape}\")\n",
    "\n",
    "    return (np.asarray(x_train), np.asarray(y_train), np.asarray(x_test), np.asarray(y_test))"
   ],
   "metadata": {
    "collapsed": false,
    "ExecuteTime": {
     "end_time": "2023-05-31T20:15:45.118210600Z",
     "start_time": "2023-05-31T20:15:45.099182700Z"
    }
   }
  },
  {
   "cell_type": "code",
   "execution_count": 373,
   "outputs": [],
   "source": [
    "def split_train_data2(x, y, coef):\n",
    "    cnt = x.shape[0]\n",
    "    items_to_train = int(cnt * coef)\n",
    "    items_to_test = cnt - items_to_train\n",
    "    percentile = int((1 - coef) * 100.0)\n",
    "    print(f\"Train size: {items_to_train}. Test size: {items_to_test}\")\n",
    "    test_indexes = random.sample(range(cnt), items_to_test)\n",
    "\n",
    "    x_train = x[np.logical_not(np.isin(np.arange(cnt), test_indexes))]\n",
    "    y_train = y[np.logical_not(np.isin(np.arange(cnt), test_indexes))]\n",
    "    x_test = x[np.isin(np.arange(cnt), test_indexes)]\n",
    "    y_test = y[np.isin(np.arange(cnt), test_indexes)]\n",
    "\n",
    "    return x_train, y_train, x_test, y_test"
   ],
   "metadata": {
    "collapsed": false,
    "ExecuteTime": {
     "end_time": "2023-05-31T20:18:28.812039900Z",
     "start_time": "2023-05-31T20:18:28.790039100Z"
    }
   }
  },
  {
   "cell_type": "code",
   "execution_count": 374,
   "outputs": [
    {
     "name": "stdout",
     "output_type": "stream",
     "text": [
      "Train size: 479989. Test size: 205711\n"
     ]
    }
   ],
   "source": [
    "x_train,y_train,x_test,y_test = split_train_data2(x_scaled, y_data, 0.7)"
   ],
   "metadata": {
    "collapsed": false,
    "ExecuteTime": {
     "end_time": "2023-05-31T20:18:30.163034Z",
     "start_time": "2023-05-31T20:18:29.317343200Z"
    }
   }
  },
  {
   "cell_type": "code",
   "execution_count": 375,
   "outputs": [
    {
     "data": {
      "text/plain": "(479989, 12)"
     },
     "execution_count": 375,
     "metadata": {},
     "output_type": "execute_result"
    }
   ],
   "source": [
    "x_train.shape"
   ],
   "metadata": {
    "collapsed": false,
    "ExecuteTime": {
     "end_time": "2023-05-31T20:18:59.524085600Z",
     "start_time": "2023-05-31T20:18:59.497792700Z"
    }
   }
  },
  {
   "cell_type": "code",
   "execution_count": 376,
   "outputs": [
    {
     "data": {
      "text/plain": "(479989,)"
     },
     "execution_count": 376,
     "metadata": {},
     "output_type": "execute_result"
    }
   ],
   "source": [
    "y_train.shape"
   ],
   "metadata": {
    "collapsed": false,
    "ExecuteTime": {
     "end_time": "2023-05-31T20:19:00.803848200Z",
     "start_time": "2023-05-31T20:19:00.798890700Z"
    }
   }
  },
  {
   "cell_type": "code",
   "execution_count": 377,
   "outputs": [
    {
     "data": {
      "text/plain": "(205711, 12)"
     },
     "execution_count": 377,
     "metadata": {},
     "output_type": "execute_result"
    }
   ],
   "source": [
    "x_test.shape"
   ],
   "metadata": {
    "collapsed": false,
    "ExecuteTime": {
     "end_time": "2023-05-31T20:19:02.015200200Z",
     "start_time": "2023-05-31T20:19:01.975200700Z"
    }
   }
  },
  {
   "cell_type": "markdown",
   "source": [
    "## Train using KNNC"
   ],
   "metadata": {
    "collapsed": false
   }
  },
  {
   "cell_type": "code",
   "execution_count": 378,
   "outputs": [
    {
     "data": {
      "text/plain": "KNeighborsClassifier(n_neighbors=10)",
      "text/html": "<style>#sk-container-id-6 {color: black;background-color: white;}#sk-container-id-6 pre{padding: 0;}#sk-container-id-6 div.sk-toggleable {background-color: white;}#sk-container-id-6 label.sk-toggleable__label {cursor: pointer;display: block;width: 100%;margin-bottom: 0;padding: 0.3em;box-sizing: border-box;text-align: center;}#sk-container-id-6 label.sk-toggleable__label-arrow:before {content: \"▸\";float: left;margin-right: 0.25em;color: #696969;}#sk-container-id-6 label.sk-toggleable__label-arrow:hover:before {color: black;}#sk-container-id-6 div.sk-estimator:hover label.sk-toggleable__label-arrow:before {color: black;}#sk-container-id-6 div.sk-toggleable__content {max-height: 0;max-width: 0;overflow: hidden;text-align: left;background-color: #f0f8ff;}#sk-container-id-6 div.sk-toggleable__content pre {margin: 0.2em;color: black;border-radius: 0.25em;background-color: #f0f8ff;}#sk-container-id-6 input.sk-toggleable__control:checked~div.sk-toggleable__content {max-height: 200px;max-width: 100%;overflow: auto;}#sk-container-id-6 input.sk-toggleable__control:checked~label.sk-toggleable__label-arrow:before {content: \"▾\";}#sk-container-id-6 div.sk-estimator input.sk-toggleable__control:checked~label.sk-toggleable__label {background-color: #d4ebff;}#sk-container-id-6 div.sk-label input.sk-toggleable__control:checked~label.sk-toggleable__label {background-color: #d4ebff;}#sk-container-id-6 input.sk-hidden--visually {border: 0;clip: rect(1px 1px 1px 1px);clip: rect(1px, 1px, 1px, 1px);height: 1px;margin: -1px;overflow: hidden;padding: 0;position: absolute;width: 1px;}#sk-container-id-6 div.sk-estimator {font-family: monospace;background-color: #f0f8ff;border: 1px dotted black;border-radius: 0.25em;box-sizing: border-box;margin-bottom: 0.5em;}#sk-container-id-6 div.sk-estimator:hover {background-color: #d4ebff;}#sk-container-id-6 div.sk-parallel-item::after {content: \"\";width: 100%;border-bottom: 1px solid gray;flex-grow: 1;}#sk-container-id-6 div.sk-label:hover label.sk-toggleable__label {background-color: #d4ebff;}#sk-container-id-6 div.sk-serial::before {content: \"\";position: absolute;border-left: 1px solid gray;box-sizing: border-box;top: 0;bottom: 0;left: 50%;z-index: 0;}#sk-container-id-6 div.sk-serial {display: flex;flex-direction: column;align-items: center;background-color: white;padding-right: 0.2em;padding-left: 0.2em;position: relative;}#sk-container-id-6 div.sk-item {position: relative;z-index: 1;}#sk-container-id-6 div.sk-parallel {display: flex;align-items: stretch;justify-content: center;background-color: white;position: relative;}#sk-container-id-6 div.sk-item::before, #sk-container-id-6 div.sk-parallel-item::before {content: \"\";position: absolute;border-left: 1px solid gray;box-sizing: border-box;top: 0;bottom: 0;left: 50%;z-index: -1;}#sk-container-id-6 div.sk-parallel-item {display: flex;flex-direction: column;z-index: 1;position: relative;background-color: white;}#sk-container-id-6 div.sk-parallel-item:first-child::after {align-self: flex-end;width: 50%;}#sk-container-id-6 div.sk-parallel-item:last-child::after {align-self: flex-start;width: 50%;}#sk-container-id-6 div.sk-parallel-item:only-child::after {width: 0;}#sk-container-id-6 div.sk-dashed-wrapped {border: 1px dashed gray;margin: 0 0.4em 0.5em 0.4em;box-sizing: border-box;padding-bottom: 0.4em;background-color: white;}#sk-container-id-6 div.sk-label label {font-family: monospace;font-weight: bold;display: inline-block;line-height: 1.2em;}#sk-container-id-6 div.sk-label-container {text-align: center;}#sk-container-id-6 div.sk-container {/* jupyter's `normalize.less` sets `[hidden] { display: none; }` but bootstrap.min.css set `[hidden] { display: none !important; }` so we also need the `!important` here to be able to override the default hidden behavior on the sphinx rendered scikit-learn.org. See: https://github.com/scikit-learn/scikit-learn/issues/21755 */display: inline-block !important;position: relative;}#sk-container-id-6 div.sk-text-repr-fallback {display: none;}</style><div id=\"sk-container-id-6\" class=\"sk-top-container\"><div class=\"sk-text-repr-fallback\"><pre>KNeighborsClassifier(n_neighbors=10)</pre><b>In a Jupyter environment, please rerun this cell to show the HTML representation or trust the notebook. <br />On GitHub, the HTML representation is unable to render, please try loading this page with nbviewer.org.</b></div><div class=\"sk-container\" hidden><div class=\"sk-item\"><div class=\"sk-estimator sk-toggleable\"><input class=\"sk-toggleable__control sk-hidden--visually\" id=\"sk-estimator-id-6\" type=\"checkbox\" checked><label for=\"sk-estimator-id-6\" class=\"sk-toggleable__label sk-toggleable__label-arrow\">KNeighborsClassifier</label><div class=\"sk-toggleable__content\"><pre>KNeighborsClassifier(n_neighbors=10)</pre></div></div></div></div></div>"
     },
     "execution_count": 378,
     "metadata": {},
     "output_type": "execute_result"
    }
   ],
   "source": [
    "from sklearn.neighbors import KNeighborsClassifier\n",
    "\n",
    "knn = KNeighborsClassifier(n_neighbors=10)\n",
    "knn.fit(x_train, y_train)\n",
    "\n",
    "# knn_pred = knn.predict(X_test)"
   ],
   "metadata": {
    "collapsed": false,
    "ExecuteTime": {
     "end_time": "2023-05-31T20:19:45.054192900Z",
     "start_time": "2023-05-31T20:19:43.727731400Z"
    }
   }
  },
  {
   "cell_type": "code",
   "execution_count": 334,
   "outputs": [
    {
     "ename": "IndexError",
     "evalue": "list assignment index out of range",
     "output_type": "error",
     "traceback": [
      "\u001B[0;31m---------------------------------------------------------------------------\u001B[0m",
      "\u001B[0;31mIndexError\u001B[0m                                Traceback (most recent call last)",
      "Input \u001B[0;32mIn [334]\u001B[0m, in \u001B[0;36m<cell line: 2>\u001B[0;34m()\u001B[0m\n\u001B[1;32m      1\u001B[0m a \u001B[38;5;241m=\u001B[39m[]\n\u001B[0;32m----> 2\u001B[0m \u001B[43ma\u001B[49m\u001B[43m[\u001B[49m\u001B[38;5;241;43m0\u001B[39;49m\u001B[43m]\u001B[49m \u001B[38;5;241m=\u001B[39m \u001B[38;5;241m1\u001B[39m\n",
      "\u001B[0;31mIndexError\u001B[0m: list assignment index out of range"
     ]
    }
   ],
   "source": [
    "a =[]\n",
    "a[0] = 1"
   ],
   "metadata": {
    "collapsed": false,
    "ExecuteTime": {
     "end_time": "2023-05-31T18:58:39.384927800Z",
     "start_time": "2023-05-31T18:58:39.378280600Z"
    }
   }
  },
  {
   "cell_type": "code",
   "execution_count": null,
   "outputs": [],
   "source": [
    "import pickle\n",
    "\n",
    "knnModelFile = \"/tmp/shared/knnc_ne3.sav\"\n",
    "\n",
    "pickle.dump(knn, open(knnModelFile, 'wb'))"
   ],
   "metadata": {
    "collapsed": false,
    "ExecuteTime": {
     "start_time": "2023-05-31T18:58:39.384927800Z"
    }
   }
  },
  {
   "cell_type": "code",
   "execution_count": 379,
   "outputs": [],
   "source": [
    "pred = knn.predict(x_test)"
   ],
   "metadata": {
    "collapsed": false,
    "ExecuteTime": {
     "end_time": "2023-05-31T20:20:19.399687300Z",
     "start_time": "2023-05-31T20:19:51.929796900Z"
    }
   }
  },
  {
   "cell_type": "code",
   "execution_count": 380,
   "outputs": [
    {
     "name": "stdout",
     "output_type": "stream",
     "text": [
      "Accuracy: 97.56600279032234\n"
     ]
    }
   ],
   "source": [
    "print(f\"Accuracy: {accuracy_score(y_test, pred)*100}\")"
   ],
   "metadata": {
    "collapsed": false,
    "ExecuteTime": {
     "end_time": "2023-05-31T20:20:23.226142300Z",
     "start_time": "2023-05-31T20:20:23.188931800Z"
    }
   }
  },
  {
   "cell_type": "code",
   "execution_count": 381,
   "outputs": [
    {
     "name": "stdout",
     "output_type": "stream",
     "text": [
      "              precision    recall  f1-score   support\n",
      "\n",
      "           1       0.97      0.96      0.97     64111\n",
      "           2       1.00      0.99      0.99     22980\n",
      "           3       0.97      0.99      0.98     44491\n",
      "           4       0.97      0.98      0.98     74129\n",
      "\n",
      "    accuracy                           0.98    205711\n",
      "   macro avg       0.98      0.98      0.98    205711\n",
      "weighted avg       0.98      0.98      0.98    205711\n",
      "\n"
     ]
    }
   ],
   "source": [
    "print(classification_report(y_test, pred))"
   ],
   "metadata": {
    "collapsed": false,
    "ExecuteTime": {
     "end_time": "2023-05-31T20:20:29.319853700Z",
     "start_time": "2023-05-31T20:20:29.172990700Z"
    }
   }
  },
  {
   "cell_type": "code",
   "execution_count": 320,
   "outputs": [],
   "source": [
    "proba1 = knn.predict_proba(x_test)"
   ],
   "metadata": {
    "collapsed": false,
    "ExecuteTime": {
     "end_time": "2023-05-31T18:45:31.373109500Z",
     "start_time": "2023-05-31T18:45:02.659467400Z"
    }
   }
  },
  {
   "cell_type": "code",
   "execution_count": 341,
   "outputs": [
    {
     "name": "stdout",
     "output_type": "stream",
     "text": [
      "\u001B[33mWARNING: Retrying (Retry(total=4, connect=None, read=None, redirect=None, status=None)) after connection broken by 'NewConnectionError('<pip._vendor.urllib3.connection.HTTPSConnection object at 0x7f935be5a280>: Failed to establish a new connection: [Errno -3] Temporary failure in name resolution')': /simple/skl2onnx/\u001B[0m\u001B[33m\r\n",
      "\u001B[0m\u001B[33mWARNING: Retrying (Retry(total=3, connect=None, read=None, redirect=None, status=None)) after connection broken by 'NewConnectionError('<pip._vendor.urllib3.connection.HTTPSConnection object at 0x7f935be5a580>: Failed to establish a new connection: [Errno -3] Temporary failure in name resolution')': /simple/skl2onnx/\u001B[0m\u001B[33m\r\n",
      "\u001B[0m\u001B[33mWARNING: Retrying (Retry(total=2, connect=None, read=None, redirect=None, status=None)) after connection broken by 'NewConnectionError('<pip._vendor.urllib3.connection.HTTPSConnection object at 0x7f935be5a7f0>: Failed to establish a new connection: [Errno -3] Temporary failure in name resolution')': /simple/skl2onnx/\u001B[0m\u001B[33m\r\n",
      "\u001B[0m\u001B[33mWARNING: Retrying (Retry(total=1, connect=None, read=None, redirect=None, status=None)) after connection broken by 'NewConnectionError('<pip._vendor.urllib3.connection.HTTPSConnection object at 0x7f935be5a9a0>: Failed to establish a new connection: [Errno -3] Temporary failure in name resolution')': /simple/skl2onnx/\u001B[0m\u001B[33m\r\n",
      "\u001B[0m\u001B[33mWARNING: Retrying (Retry(total=0, connect=None, read=None, redirect=None, status=None)) after connection broken by 'NewConnectionError('<pip._vendor.urllib3.connection.HTTPSConnection object at 0x7f935be5ab50>: Failed to establish a new connection: [Errno -3] Temporary failure in name resolution')': /simple/skl2onnx/\u001B[0m\u001B[33m\r\n",
      "\u001B[0m\u001B[31mERROR: Could not find a version that satisfies the requirement skl2onnx (from versions: none)\u001B[0m\u001B[31m\r\n",
      "\u001B[0m\u001B[31mERROR: No matching distribution found for skl2onnx\u001B[0m\u001B[31m\r\n",
      "\u001B[0m\u001B[33mWARNING: There was an error checking the latest version of pip.\u001B[0m\u001B[33m\r\n",
      "\u001B[0m"
     ]
    }
   ],
   "source": [
    "!pip install skl2onnx"
   ],
   "metadata": {
    "collapsed": false,
    "ExecuteTime": {
     "end_time": "2023-05-31T19:47:10.127544Z",
     "start_time": "2023-05-31T19:46:18.057892700Z"
    }
   }
  },
  {
   "cell_type": "code",
   "execution_count": 340,
   "outputs": [
    {
     "ename": "ModuleNotFoundError",
     "evalue": "No module named 'skl2onnx'",
     "output_type": "error",
     "traceback": [
      "\u001B[0;31m---------------------------------------------------------------------------\u001B[0m",
      "\u001B[0;31mModuleNotFoundError\u001B[0m                       Traceback (most recent call last)",
      "Input \u001B[0;32mIn [340]\u001B[0m, in \u001B[0;36m<cell line: 1>\u001B[0;34m()\u001B[0m\n\u001B[0;32m----> 1\u001B[0m \u001B[38;5;28;01mfrom\u001B[39;00m \u001B[38;5;21;01mskl2onnx\u001B[39;00m \u001B[38;5;28;01mimport\u001B[39;00m convert_sklearn\n\u001B[1;32m      2\u001B[0m \u001B[38;5;28;01mfrom\u001B[39;00m \u001B[38;5;21;01mskl2onnx\u001B[39;00m\u001B[38;5;21;01m.\u001B[39;00m\u001B[38;5;21;01mcommon\u001B[39;00m\u001B[38;5;21;01m.\u001B[39;00m\u001B[38;5;21;01mdata_types\u001B[39;00m \u001B[38;5;28;01mimport\u001B[39;00m FloatTensorType\n\u001B[1;32m      4\u001B[0m \u001B[38;5;66;03m# Specify an initial type for the model ( similar to input shape for the model )\u001B[39;00m\n",
      "\u001B[0;31mModuleNotFoundError\u001B[0m: No module named 'skl2onnx'"
     ]
    }
   ],
   "source": [
    "from skl2onnx import convert_sklearn\n",
    "from skl2onnx.common.data_types import FloatTensorType\n",
    "\n",
    "# Specify an initial type for the model ( similar to input shape for the model )\n",
    "initial_type = [\n",
    "    ( 'input_study_hours' , FloatTensorType( [None,12] ) )\n",
    "]\n",
    "\n",
    "# Write the ONNX model to disk\n",
    "converted_model = convert_sklearn( knn , initial_types=initial_type )\n",
    "with open( \"/tmp/shared/knnc.onnx\", \"wb\" ) as f:\n",
    "    f.write( converted_model.SerializeToString() )"
   ],
   "metadata": {
    "collapsed": false,
    "ExecuteTime": {
     "end_time": "2023-05-31T19:44:49.950415300Z",
     "start_time": "2023-05-31T19:44:49.870636500Z"
    }
   }
  },
  {
   "cell_type": "code",
   "execution_count": null,
   "outputs": [],
   "source": [],
   "metadata": {
    "collapsed": false
   }
  }
 ],
 "metadata": {
  "kernelspec": {
   "display_name": "Python 3",
   "language": "python",
   "name": "python3"
  },
  "language_info": {
   "codemirror_mode": {
    "name": "ipython",
    "version": 2
   },
   "file_extension": ".py",
   "mimetype": "text/x-python",
   "name": "python",
   "nbconvert_exporter": "python",
   "pygments_lexer": "ipython2",
   "version": "2.7.6"
  }
 },
 "nbformat": 4,
 "nbformat_minor": 0
}
