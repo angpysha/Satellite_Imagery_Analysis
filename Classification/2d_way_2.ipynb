{
 "cells": [
  {
   "cell_type": "code",
   "execution_count": 1,
   "metadata": {
    "collapsed": true
   },
   "outputs": [
    {
     "data": {
      "text/plain": "{'divide': 'warn', 'over': 'warn', 'under': 'ignore', 'invalid': 'warn'}"
     },
     "execution_count": 1,
     "metadata": {},
     "output_type": "execute_result"
    }
   ],
   "source": [
    "from glob import glob\n",
    "\n",
    "import earthpy as et\n",
    "import earthpy.spatial as es\n",
    "import earthpy.plot as ep\n",
    "\n",
    "import rasterio as rio\n",
    "from rasterio.plot import plotting_extent\n",
    "from rasterio.plot import show\n",
    "from rasterio.plot import reshape_as_raster, reshape_as_image\n",
    "\n",
    "import matplotlib.pyplot as plt\n",
    "import numpy as np\n",
    "from matplotlib.colors import ListedColormap\n",
    "\n",
    "from scipy.io import loadmat\n",
    "from sklearn.metrics import classification_report, accuracy_score\n",
    "\n",
    "import plotly.graph_objects as go\n",
    "\n",
    "np.seterr(divide='ignore', invalid='ignore')"
   ]
  },
  {
   "cell_type": "code",
   "execution_count": 2,
   "outputs": [],
   "source": [
    "def getFilesNew(basePath):\n",
    "    dirs = glob(basePath+\"/*/\")\n",
    "    #print(dirs)\n",
    "    for _dir in dirs:\n",
    "        files = glob(_dir+\"*B?*.tiff\")\n",
    "        #print(files)\n",
    "        yield files"
   ],
   "metadata": {
    "collapsed": false
   }
  },
  {
   "cell_type": "code",
   "execution_count": 5,
   "outputs": [],
   "source": [
    "S_sentinel_bands_forest = list(getFilesNew(\"/tmp/shared/2d_dataset/forest\"))"
   ],
   "metadata": {
    "collapsed": false
   }
  },
  {
   "cell_type": "code",
   "execution_count": 6,
   "outputs": [],
   "source": [
    "S_sentinel_bands_town = list(getFilesNew(\"/tmp/shared/2d_dataset/town\"))"
   ],
   "metadata": {
    "collapsed": false
   }
  },
  {
   "cell_type": "code",
   "execution_count": 7,
   "outputs": [],
   "source": [
    "S_sentinel_bands_water = list(getFilesNew(\"/tmp/shared/2d_dataset/water\"))"
   ],
   "metadata": {
    "collapsed": false
   }
  },
  {
   "cell_type": "code",
   "execution_count": 8,
   "outputs": [],
   "source": [
    "S_sentinel_bands_field = list(getFilesNew(\"/tmp/shared/2d_dataset/field\"))"
   ],
   "metadata": {
    "collapsed": false
   }
  },
  {
   "cell_type": "code",
   "execution_count": 9,
   "outputs": [],
   "source": [
    "S_sentinel_bands_sands = list(getFilesNew(\"/tmp/shared/2d_dataset/sands\"))"
   ],
   "metadata": {
    "collapsed": false
   }
  },
  {
   "cell_type": "code",
   "execution_count": 10,
   "outputs": [],
   "source": [
    "def getFilesArrayNew(paths):\n",
    "    l = []\n",
    "    for i in paths:\n",
    "        s = []\n",
    "        for j in i:\n",
    "            with rio.open(j, 'r') as f:\n",
    "                s.append(f.read(1))\n",
    "        l.append(s)\n",
    "    arr_st_new = np.stack(l)\n",
    "    return  arr_st_new"
   ],
   "metadata": {
    "collapsed": false
   }
  },
  {
   "cell_type": "code",
   "execution_count": 12,
   "outputs": [],
   "source": [
    "forest_st = getFilesArrayNew(S_sentinel_bands_forest);"
   ],
   "metadata": {
    "collapsed": false
   }
  },
  {
   "cell_type": "code",
   "execution_count": 13,
   "outputs": [
    {
     "name": "stderr",
     "output_type": "stream",
     "text": [
      "/usr/local/lib/python3.8/dist-packages/rasterio/__init__.py:277: NotGeoreferencedWarning: Dataset has no geotransform, gcps, or rpcs. The identity matrix will be returned.\n",
      "  dataset = DatasetReader(path, driver=driver, sharing=sharing, **kwargs)\n"
     ]
    }
   ],
   "source": [
    "town_st = getFilesArrayNew(S_sentinel_bands_town);"
   ],
   "metadata": {
    "collapsed": false
   }
  },
  {
   "cell_type": "code",
   "execution_count": 14,
   "outputs": [
    {
     "name": "stderr",
     "output_type": "stream",
     "text": [
      "/usr/local/lib/python3.8/dist-packages/rasterio/__init__.py:277: NotGeoreferencedWarning: Dataset has no geotransform, gcps, or rpcs. The identity matrix will be returned.\n",
      "  dataset = DatasetReader(path, driver=driver, sharing=sharing, **kwargs)\n"
     ]
    }
   ],
   "source": [
    "water_st = getFilesArrayNew(S_sentinel_bands_water);"
   ],
   "metadata": {
    "collapsed": false
   }
  },
  {
   "cell_type": "code",
   "execution_count": 15,
   "outputs": [
    {
     "name": "stderr",
     "output_type": "stream",
     "text": [
      "/usr/local/lib/python3.8/dist-packages/rasterio/__init__.py:277: NotGeoreferencedWarning: Dataset has no geotransform, gcps, or rpcs. The identity matrix will be returned.\n",
      "  dataset = DatasetReader(path, driver=driver, sharing=sharing, **kwargs)\n"
     ]
    }
   ],
   "source": [
    "field_st = getFilesArrayNew(S_sentinel_bands_field);"
   ],
   "metadata": {
    "collapsed": false
   }
  },
  {
   "cell_type": "code",
   "execution_count": 16,
   "outputs": [
    {
     "name": "stderr",
     "output_type": "stream",
     "text": [
      "/usr/local/lib/python3.8/dist-packages/rasterio/__init__.py:277: NotGeoreferencedWarning: Dataset has no geotransform, gcps, or rpcs. The identity matrix will be returned.\n",
      "  dataset = DatasetReader(path, driver=driver, sharing=sharing, **kwargs)\n"
     ]
    }
   ],
   "source": [
    "sands_st = getFilesArrayNew(S_sentinel_bands_sands);"
   ],
   "metadata": {
    "collapsed": false
   }
  },
  {
   "cell_type": "code",
   "execution_count": 18,
   "outputs": [
    {
     "data": {
      "text/plain": "(55, 12, 100, 100)"
     },
     "execution_count": 18,
     "metadata": {},
     "output_type": "execute_result"
    }
   ],
   "source": [
    "town_st.shape"
   ],
   "metadata": {
    "collapsed": false
   }
  },
  {
   "cell_type": "code",
   "execution_count": 19,
   "outputs": [
    {
     "data": {
      "text/plain": "(55, 100, 100, 12)"
     },
     "execution_count": 19,
     "metadata": {},
     "output_type": "execute_result"
    }
   ],
   "source": [
    "t_st = np.moveaxis(town_st, 1, -1)\n",
    "t_st.shape"
   ],
   "metadata": {
    "collapsed": false
   }
  },
  {
   "cell_type": "code",
   "execution_count": 21,
   "outputs": [],
   "source": [
    "t_sst = t_st.reshape(-1, 20,20,12)"
   ],
   "metadata": {
    "collapsed": false
   }
  },
  {
   "cell_type": "code",
   "execution_count": 22,
   "outputs": [],
   "source": [
    "#Let's import some important Libraries\n",
    "import tensorflow as tf\n",
    "from keras.models import Sequential, Model\n",
    "from keras.layers import Dense, Input\n",
    "from keras.utils import np_utils"
   ],
   "metadata": {
    "collapsed": false
   }
  },
  {
   "cell_type": "code",
   "execution_count": 23,
   "outputs": [],
   "source": [
    "import numpy as np # linear algebra\n",
    "import pandas as pd # data processing, CSV file I/O (e.g. pd.read_csv)\n",
    "import matplotlib.pyplot as plt\n",
    "import pandas as pd"
   ],
   "metadata": {
    "collapsed": false
   }
  },
  {
   "cell_type": "code",
   "execution_count": 24,
   "outputs": [],
   "source": [
    "from keras.layers import *\n",
    "from keras.layers.convolutional import Conv2D\n",
    "from keras.layers.pooling import MaxPooling2D"
   ],
   "metadata": {
    "collapsed": false
   }
  },
  {
   "cell_type": "code",
   "execution_count": 28,
   "outputs": [],
   "source": [
    "model_new = tf.keras.models.Sequential([\n",
    "\n",
    "])"
   ],
   "metadata": {
    "collapsed": false
   }
  },
  {
   "cell_type": "code",
   "execution_count": 29,
   "outputs": [],
   "source": [
    "model_new.compile(loss='categorical_crossentropy',optimizer='rmsprop',metrics=['accuracy','MeanSquaredError'])"
   ],
   "metadata": {
    "collapsed": false
   }
  },
  {
   "cell_type": "code",
   "execution_count": 30,
   "outputs": [
    {
     "ename": "ValueError",
     "evalue": "This model has not yet been built. Build the model first by calling `build()` or by calling the model on a batch of data.",
     "output_type": "error",
     "traceback": [
      "\u001B[0;31m---------------------------------------------------------------------------\u001B[0m",
      "\u001B[0;31mValueError\u001B[0m                                Traceback (most recent call last)",
      "Input \u001B[0;32mIn [30]\u001B[0m, in \u001B[0;36m<cell line: 1>\u001B[0;34m()\u001B[0m\n\u001B[0;32m----> 1\u001B[0m \u001B[43mmodel_new\u001B[49m\u001B[38;5;241;43m.\u001B[39;49m\u001B[43msummary\u001B[49m\u001B[43m(\u001B[49m\u001B[43m)\u001B[49m\n",
      "File \u001B[0;32m/usr/local/lib/python3.8/dist-packages/keras/engine/training.py:2869\u001B[0m, in \u001B[0;36mModel.summary\u001B[0;34m(self, line_length, positions, print_fn, expand_nested, show_trainable)\u001B[0m\n\u001B[1;32m   2847\u001B[0m \u001B[38;5;124;03m\"\"\"Prints a string summary of the network.\u001B[39;00m\n\u001B[1;32m   2848\u001B[0m \n\u001B[1;32m   2849\u001B[0m \u001B[38;5;124;03mArgs:\u001B[39;00m\n\u001B[0;32m   (...)\u001B[0m\n\u001B[1;32m   2866\u001B[0m \u001B[38;5;124;03m    ValueError: if `summary()` is called before the model is built.\u001B[39;00m\n\u001B[1;32m   2867\u001B[0m \u001B[38;5;124;03m\"\"\"\u001B[39;00m\n\u001B[1;32m   2868\u001B[0m \u001B[38;5;28;01mif\u001B[39;00m \u001B[38;5;129;01mnot\u001B[39;00m \u001B[38;5;28mself\u001B[39m\u001B[38;5;241m.\u001B[39mbuilt:\n\u001B[0;32m-> 2869\u001B[0m   \u001B[38;5;28;01mraise\u001B[39;00m \u001B[38;5;167;01mValueError\u001B[39;00m(\n\u001B[1;32m   2870\u001B[0m       \u001B[38;5;124m'\u001B[39m\u001B[38;5;124mThis model has not yet been built. \u001B[39m\u001B[38;5;124m'\u001B[39m\n\u001B[1;32m   2871\u001B[0m       \u001B[38;5;124m'\u001B[39m\u001B[38;5;124mBuild the model first by calling `build()` or by calling \u001B[39m\u001B[38;5;124m'\u001B[39m\n\u001B[1;32m   2872\u001B[0m       \u001B[38;5;124m'\u001B[39m\u001B[38;5;124mthe model on a batch of data.\u001B[39m\u001B[38;5;124m'\u001B[39m)\n\u001B[1;32m   2873\u001B[0m layer_utils\u001B[38;5;241m.\u001B[39mprint_summary(\n\u001B[1;32m   2874\u001B[0m     \u001B[38;5;28mself\u001B[39m,\n\u001B[1;32m   2875\u001B[0m     line_length\u001B[38;5;241m=\u001B[39mline_length,\n\u001B[0;32m   (...)\u001B[0m\n\u001B[1;32m   2878\u001B[0m     expand_nested\u001B[38;5;241m=\u001B[39mexpand_nested,\n\u001B[1;32m   2879\u001B[0m     show_trainable\u001B[38;5;241m=\u001B[39mshow_trainable)\n",
      "\u001B[0;31mValueError\u001B[0m: This model has not yet been built. Build the model first by calling `build()` or by calling the model on a batch of data."
     ]
    }
   ],
   "source": [
    "model_new.summary()"
   ],
   "metadata": {
    "collapsed": false
   }
  },
  {
   "cell_type": "code",
   "execution_count": 114,
   "outputs": [],
   "source": [
    "inputs = Input(shape=(20,20,12))\n",
    "x = Conv2D(32, (3,3),strides=2, padding=\"same\")(inputs)\n",
    "x = BatchNormalization()(x)\n",
    "x = Activation(\"relu\")(x)\n",
    "\n",
    "previous_block_activation = x\n",
    "\n",
    "for filters in [32, 64, 128, 256]:\n",
    "    x = Activation(\"relu\")(x)\n",
    "    x = SeparableConv2D(filters, (3,3), padding=\"same\")(x)\n",
    "    x = BatchNormalization()(x)\n",
    "\n",
    "    x = Activation(\"relu\")(x)\n",
    "    x = SeparableConv2D(filters, (3,3), padding=\"same\")(x)\n",
    "    x = BatchNormalization()(x)\n",
    "\n",
    "    x = MaxPooling2D(3, strides=2, padding=\"same\")(x)\n",
    "\n",
    "    residual = Conv2D(filters, 1, strides=2, padding=\"same\")(previous_block_activation)\n",
    "    x = add([x, residual])\n",
    "    previous_block_activation = x\n",
    "\n",
    "for filters in [256, 128, 64]:\n",
    "    x = Activation(\"relu\")(x)\n",
    "    x = Conv2DTranspose(filters, (3,3), padding=\"same\")(x)\n",
    "    x = BatchNormalization()(x)\n",
    "\n",
    "    x = Activation(\"relu\")(x)\n",
    "    x = Conv2DTranspose(filters, (3,3), padding=\"same\")(x)\n",
    "    x = BatchNormalization()(x)\n",
    "\n",
    "    x = UpSampling2D(2)(x)\n",
    "\n",
    "    residual = UpSampling2D(2)(previous_block_activation)\n",
    "    residual = Conv2D(filters, 1, padding=\"same\")(residual)\n",
    "    x = add([x, residual])  # Add back residual\n",
    "    previous_block_activation = x\n",
    "\n",
    "x = Activation(\"relu\")(x)\n",
    "x = Conv2DTranspose(32, (3,3), padding=\"same\")(x)\n",
    "x = BatchNormalization()(x)\n",
    "\n",
    "x = Activation(\"relu\")(x)\n",
    "x = Conv2DTranspose(32, (3,3), padding=\"same\")(x)\n",
    "x = BatchNormalization()(x)\n",
    "\n",
    "x = UpSampling2D(5)(x)\n",
    "x = MaxPooling2D(4)(x)\n",
    "\n",
    "residual = UpSampling2D(5)(previous_block_activation)\n",
    "residual = MaxPooling2D(4)(residual)\n",
    "residual = Conv2D(32, 1, padding=\"same\")(residual)\n",
    "x = add([x, residual])  # Add back residual\n",
    "\n",
    "outputs = Conv2D(6, (3,3), activation=\"softmax\", padding=\"same\")(x)\n",
    "#outputs = Reshape((10,10,6))(outputs)"
   ],
   "metadata": {
    "collapsed": false
   }
  },
  {
   "cell_type": "code",
   "execution_count": 115,
   "outputs": [
    {
     "data": {
      "text/plain": "TensorShape([None, 8, 8, 64])"
     },
     "execution_count": 115,
     "metadata": {},
     "output_type": "execute_result"
    }
   ],
   "source": [
    "previous_block_activation.shape"
   ],
   "metadata": {
    "collapsed": false
   }
  },
  {
   "cell_type": "code",
   "execution_count": 116,
   "outputs": [],
   "source": [
    "model = Model(inputs, outputs)"
   ],
   "metadata": {
    "collapsed": false
   }
  },
  {
   "cell_type": "code",
   "execution_count": 117,
   "outputs": [],
   "source": [
    "model.compile()"
   ],
   "metadata": {
    "collapsed": false
   }
  },
  {
   "cell_type": "code",
   "execution_count": 118,
   "outputs": [
    {
     "name": "stdout",
     "output_type": "stream",
     "text": [
      "Model: \"model_21\"\n",
      "__________________________________________________________________________________________________\n",
      " Layer (type)                   Output Shape         Param #     Connected to                     \n",
      "==================================================================================================\n",
      " input_28 (InputLayer)          [(None, 20, 20, 12)  0           []                               \n",
      "                                ]                                                                 \n",
      "                                                                                                  \n",
      " conv2d_187 (Conv2D)            (None, 10, 10, 32)   3488        ['input_28[0][0]']               \n",
      "                                                                                                  \n",
      " batch_normalization_322 (Batch  (None, 10, 10, 32)  128         ['conv2d_187[0][0]']             \n",
      " Normalization)                                                                                   \n",
      "                                                                                                  \n",
      " activation_328 (Activation)    (None, 10, 10, 32)   0           ['batch_normalization_322[0][0]']\n",
      "                                                                                                  \n",
      " activation_329 (Activation)    (None, 10, 10, 32)   0           ['activation_328[0][0]']         \n",
      "                                                                                                  \n",
      " separable_conv2d_155 (Separabl  (None, 10, 10, 32)  1344        ['activation_329[0][0]']         \n",
      " eConv2D)                                                                                         \n",
      "                                                                                                  \n",
      " batch_normalization_323 (Batch  (None, 10, 10, 32)  128         ['separable_conv2d_155[0][0]']   \n",
      " Normalization)                                                                                   \n",
      "                                                                                                  \n",
      " activation_330 (Activation)    (None, 10, 10, 32)   0           ['batch_normalization_323[0][0]']\n",
      "                                                                                                  \n",
      " separable_conv2d_156 (Separabl  (None, 10, 10, 32)  1344        ['activation_330[0][0]']         \n",
      " eConv2D)                                                                                         \n",
      "                                                                                                  \n",
      " batch_normalization_324 (Batch  (None, 10, 10, 32)  128         ['separable_conv2d_156[0][0]']   \n",
      " Normalization)                                                                                   \n",
      "                                                                                                  \n",
      " max_pooling2d_82 (MaxPooling2D  (None, 5, 5, 32)    0           ['batch_normalization_324[0][0]']\n",
      " )                                                                                                \n",
      "                                                                                                  \n",
      " conv2d_188 (Conv2D)            (None, 5, 5, 32)     1056        ['activation_328[0][0]']         \n",
      "                                                                                                  \n",
      " add_139 (Add)                  (None, 5, 5, 32)     0           ['max_pooling2d_82[0][0]',       \n",
      "                                                                  'conv2d_188[0][0]']             \n",
      "                                                                                                  \n",
      " activation_331 (Activation)    (None, 5, 5, 32)     0           ['add_139[0][0]']                \n",
      "                                                                                                  \n",
      " separable_conv2d_157 (Separabl  (None, 5, 5, 64)    2400        ['activation_331[0][0]']         \n",
      " eConv2D)                                                                                         \n",
      "                                                                                                  \n",
      " batch_normalization_325 (Batch  (None, 5, 5, 64)    256         ['separable_conv2d_157[0][0]']   \n",
      " Normalization)                                                                                   \n",
      "                                                                                                  \n",
      " activation_332 (Activation)    (None, 5, 5, 64)     0           ['batch_normalization_325[0][0]']\n",
      "                                                                                                  \n",
      " separable_conv2d_158 (Separabl  (None, 5, 5, 64)    4736        ['activation_332[0][0]']         \n",
      " eConv2D)                                                                                         \n",
      "                                                                                                  \n",
      " batch_normalization_326 (Batch  (None, 5, 5, 64)    256         ['separable_conv2d_158[0][0]']   \n",
      " Normalization)                                                                                   \n",
      "                                                                                                  \n",
      " max_pooling2d_83 (MaxPooling2D  (None, 3, 3, 64)    0           ['batch_normalization_326[0][0]']\n",
      " )                                                                                                \n",
      "                                                                                                  \n",
      " conv2d_189 (Conv2D)            (None, 3, 3, 64)     2112        ['add_139[0][0]']                \n",
      "                                                                                                  \n",
      " add_140 (Add)                  (None, 3, 3, 64)     0           ['max_pooling2d_83[0][0]',       \n",
      "                                                                  'conv2d_189[0][0]']             \n",
      "                                                                                                  \n",
      " activation_333 (Activation)    (None, 3, 3, 64)     0           ['add_140[0][0]']                \n",
      "                                                                                                  \n",
      " separable_conv2d_159 (Separabl  (None, 3, 3, 128)   8896        ['activation_333[0][0]']         \n",
      " eConv2D)                                                                                         \n",
      "                                                                                                  \n",
      " batch_normalization_327 (Batch  (None, 3, 3, 128)   512         ['separable_conv2d_159[0][0]']   \n",
      " Normalization)                                                                                   \n",
      "                                                                                                  \n",
      " activation_334 (Activation)    (None, 3, 3, 128)    0           ['batch_normalization_327[0][0]']\n",
      "                                                                                                  \n",
      " separable_conv2d_160 (Separabl  (None, 3, 3, 128)   17664       ['activation_334[0][0]']         \n",
      " eConv2D)                                                                                         \n",
      "                                                                                                  \n",
      " batch_normalization_328 (Batch  (None, 3, 3, 128)   512         ['separable_conv2d_160[0][0]']   \n",
      " Normalization)                                                                                   \n",
      "                                                                                                  \n",
      " max_pooling2d_84 (MaxPooling2D  (None, 2, 2, 128)   0           ['batch_normalization_328[0][0]']\n",
      " )                                                                                                \n",
      "                                                                                                  \n",
      " conv2d_190 (Conv2D)            (None, 2, 2, 128)    8320        ['add_140[0][0]']                \n",
      "                                                                                                  \n",
      " add_141 (Add)                  (None, 2, 2, 128)    0           ['max_pooling2d_84[0][0]',       \n",
      "                                                                  'conv2d_190[0][0]']             \n",
      "                                                                                                  \n",
      " activation_335 (Activation)    (None, 2, 2, 128)    0           ['add_141[0][0]']                \n",
      "                                                                                                  \n",
      " separable_conv2d_161 (Separabl  (None, 2, 2, 256)   34176       ['activation_335[0][0]']         \n",
      " eConv2D)                                                                                         \n",
      "                                                                                                  \n",
      " batch_normalization_329 (Batch  (None, 2, 2, 256)   1024        ['separable_conv2d_161[0][0]']   \n",
      " Normalization)                                                                                   \n",
      "                                                                                                  \n",
      " activation_336 (Activation)    (None, 2, 2, 256)    0           ['batch_normalization_329[0][0]']\n",
      "                                                                                                  \n",
      " separable_conv2d_162 (Separabl  (None, 2, 2, 256)   68096       ['activation_336[0][0]']         \n",
      " eConv2D)                                                                                         \n",
      "                                                                                                  \n",
      " batch_normalization_330 (Batch  (None, 2, 2, 256)   1024        ['separable_conv2d_162[0][0]']   \n",
      " Normalization)                                                                                   \n",
      "                                                                                                  \n",
      " max_pooling2d_85 (MaxPooling2D  (None, 1, 1, 256)   0           ['batch_normalization_330[0][0]']\n",
      " )                                                                                                \n",
      "                                                                                                  \n",
      " conv2d_191 (Conv2D)            (None, 1, 1, 256)    33024       ['add_141[0][0]']                \n",
      "                                                                                                  \n",
      " add_142 (Add)                  (None, 1, 1, 256)    0           ['max_pooling2d_85[0][0]',       \n",
      "                                                                  'conv2d_191[0][0]']             \n",
      "                                                                                                  \n",
      " activation_337 (Activation)    (None, 1, 1, 256)    0           ['add_142[0][0]']                \n",
      "                                                                                                  \n",
      " conv2d_transpose_144 (Conv2DTr  (None, 1, 1, 256)   590080      ['activation_337[0][0]']         \n",
      " anspose)                                                                                         \n",
      "                                                                                                  \n",
      " batch_normalization_331 (Batch  (None, 1, 1, 256)   1024        ['conv2d_transpose_144[0][0]']   \n",
      " Normalization)                                                                                   \n",
      "                                                                                                  \n",
      " activation_338 (Activation)    (None, 1, 1, 256)    0           ['batch_normalization_331[0][0]']\n",
      "                                                                                                  \n",
      " conv2d_transpose_145 (Conv2DTr  (None, 1, 1, 256)   590080      ['activation_338[0][0]']         \n",
      " anspose)                                                                                         \n",
      "                                                                                                  \n",
      " batch_normalization_332 (Batch  (None, 1, 1, 256)   1024        ['conv2d_transpose_145[0][0]']   \n",
      " Normalization)                                                                                   \n",
      "                                                                                                  \n",
      " up_sampling2d_143 (UpSampling2  (None, 2, 2, 256)   0           ['add_142[0][0]']                \n",
      " D)                                                                                               \n",
      "                                                                                                  \n",
      " up_sampling2d_142 (UpSampling2  (None, 2, 2, 256)   0           ['batch_normalization_332[0][0]']\n",
      " D)                                                                                               \n",
      "                                                                                                  \n",
      " conv2d_192 (Conv2D)            (None, 2, 2, 256)    65792       ['up_sampling2d_143[0][0]']      \n",
      "                                                                                                  \n",
      " add_143 (Add)                  (None, 2, 2, 256)    0           ['up_sampling2d_142[0][0]',      \n",
      "                                                                  'conv2d_192[0][0]']             \n",
      "                                                                                                  \n",
      " activation_339 (Activation)    (None, 2, 2, 256)    0           ['add_143[0][0]']                \n",
      "                                                                                                  \n",
      " conv2d_transpose_146 (Conv2DTr  (None, 2, 2, 128)   295040      ['activation_339[0][0]']         \n",
      " anspose)                                                                                         \n",
      "                                                                                                  \n",
      " batch_normalization_333 (Batch  (None, 2, 2, 128)   512         ['conv2d_transpose_146[0][0]']   \n",
      " Normalization)                                                                                   \n",
      "                                                                                                  \n",
      " activation_340 (Activation)    (None, 2, 2, 128)    0           ['batch_normalization_333[0][0]']\n",
      "                                                                                                  \n",
      " conv2d_transpose_147 (Conv2DTr  (None, 2, 2, 128)   147584      ['activation_340[0][0]']         \n",
      " anspose)                                                                                         \n",
      "                                                                                                  \n",
      " batch_normalization_334 (Batch  (None, 2, 2, 128)   512         ['conv2d_transpose_147[0][0]']   \n",
      " Normalization)                                                                                   \n",
      "                                                                                                  \n",
      " up_sampling2d_145 (UpSampling2  (None, 4, 4, 256)   0           ['add_143[0][0]']                \n",
      " D)                                                                                               \n",
      "                                                                                                  \n",
      " up_sampling2d_144 (UpSampling2  (None, 4, 4, 128)   0           ['batch_normalization_334[0][0]']\n",
      " D)                                                                                               \n",
      "                                                                                                  \n",
      " conv2d_193 (Conv2D)            (None, 4, 4, 128)    32896       ['up_sampling2d_145[0][0]']      \n",
      "                                                                                                  \n",
      " add_144 (Add)                  (None, 4, 4, 128)    0           ['up_sampling2d_144[0][0]',      \n",
      "                                                                  'conv2d_193[0][0]']             \n",
      "                                                                                                  \n",
      " activation_341 (Activation)    (None, 4, 4, 128)    0           ['add_144[0][0]']                \n",
      "                                                                                                  \n",
      " conv2d_transpose_148 (Conv2DTr  (None, 4, 4, 64)    73792       ['activation_341[0][0]']         \n",
      " anspose)                                                                                         \n",
      "                                                                                                  \n",
      " batch_normalization_335 (Batch  (None, 4, 4, 64)    256         ['conv2d_transpose_148[0][0]']   \n",
      " Normalization)                                                                                   \n",
      "                                                                                                  \n",
      " activation_342 (Activation)    (None, 4, 4, 64)     0           ['batch_normalization_335[0][0]']\n",
      "                                                                                                  \n",
      " conv2d_transpose_149 (Conv2DTr  (None, 4, 4, 64)    36928       ['activation_342[0][0]']         \n",
      " anspose)                                                                                         \n",
      "                                                                                                  \n",
      " batch_normalization_336 (Batch  (None, 4, 4, 64)    256         ['conv2d_transpose_149[0][0]']   \n",
      " Normalization)                                                                                   \n",
      "                                                                                                  \n",
      " up_sampling2d_147 (UpSampling2  (None, 8, 8, 128)   0           ['add_144[0][0]']                \n",
      " D)                                                                                               \n",
      "                                                                                                  \n",
      " up_sampling2d_146 (UpSampling2  (None, 8, 8, 64)    0           ['batch_normalization_336[0][0]']\n",
      " D)                                                                                               \n",
      "                                                                                                  \n",
      " conv2d_194 (Conv2D)            (None, 8, 8, 64)     8256        ['up_sampling2d_147[0][0]']      \n",
      "                                                                                                  \n",
      " add_145 (Add)                  (None, 8, 8, 64)     0           ['up_sampling2d_146[0][0]',      \n",
      "                                                                  'conv2d_194[0][0]']             \n",
      "                                                                                                  \n",
      " activation_343 (Activation)    (None, 8, 8, 64)     0           ['add_145[0][0]']                \n",
      "                                                                                                  \n",
      " conv2d_transpose_150 (Conv2DTr  (None, 8, 8, 32)    18464       ['activation_343[0][0]']         \n",
      " anspose)                                                                                         \n",
      "                                                                                                  \n",
      " batch_normalization_337 (Batch  (None, 8, 8, 32)    128         ['conv2d_transpose_150[0][0]']   \n",
      " Normalization)                                                                                   \n",
      "                                                                                                  \n",
      " activation_344 (Activation)    (None, 8, 8, 32)     0           ['batch_normalization_337[0][0]']\n",
      "                                                                                                  \n",
      " conv2d_transpose_151 (Conv2DTr  (None, 8, 8, 32)    9248        ['activation_344[0][0]']         \n",
      " anspose)                                                                                         \n",
      "                                                                                                  \n",
      " batch_normalization_338 (Batch  (None, 8, 8, 32)    128         ['conv2d_transpose_151[0][0]']   \n",
      " Normalization)                                                                                   \n",
      "                                                                                                  \n",
      " up_sampling2d_149 (UpSampling2  (None, 40, 40, 64)  0           ['add_145[0][0]']                \n",
      " D)                                                                                               \n",
      "                                                                                                  \n",
      " up_sampling2d_148 (UpSampling2  (None, 40, 40, 32)  0           ['batch_normalization_338[0][0]']\n",
      " D)                                                                                               \n",
      "                                                                                                  \n",
      " max_pooling2d_87 (MaxPooling2D  (None, 10, 10, 64)  0           ['up_sampling2d_149[0][0]']      \n",
      " )                                                                                                \n",
      "                                                                                                  \n",
      " max_pooling2d_86 (MaxPooling2D  (None, 10, 10, 32)  0           ['up_sampling2d_148[0][0]']      \n",
      " )                                                                                                \n",
      "                                                                                                  \n",
      " conv2d_195 (Conv2D)            (None, 10, 10, 32)   2080        ['max_pooling2d_87[0][0]']       \n",
      "                                                                                                  \n",
      " add_146 (Add)                  (None, 10, 10, 32)   0           ['max_pooling2d_86[0][0]',       \n",
      "                                                                  'conv2d_195[0][0]']             \n",
      "                                                                                                  \n",
      " conv2d_196 (Conv2D)            (None, 10, 10, 6)    1734        ['add_146[0][0]']                \n",
      "                                                                                                  \n",
      "==================================================================================================\n",
      "Total params: 2,066,438\n",
      "Trainable params: 2,062,534\n",
      "Non-trainable params: 3,904\n",
      "__________________________________________________________________________________________________\n"
     ]
    }
   ],
   "source": [
    "model.summary()"
   ],
   "metadata": {
    "collapsed": false
   }
  },
  {
   "cell_type": "code",
   "execution_count": null,
   "outputs": [],
   "source": [],
   "metadata": {
    "collapsed": false,
    "pycharm": {
     "is_executing": true
    }
   }
  },
  {
   "cell_type": "code",
   "execution_count": 104,
   "outputs": [],
   "source": [],
   "metadata": {
    "collapsed": false
   }
  }
 ],
 "metadata": {
  "kernelspec": {
   "display_name": "Python 3",
   "language": "python",
   "name": "python3"
  },
  "language_info": {
   "codemirror_mode": {
    "name": "ipython",
    "version": 2
   },
   "file_extension": ".py",
   "mimetype": "text/x-python",
   "name": "python",
   "nbconvert_exporter": "python",
   "pygments_lexer": "ipython2",
   "version": "2.7.6"
  }
 },
 "nbformat": 4,
 "nbformat_minor": 0
}
