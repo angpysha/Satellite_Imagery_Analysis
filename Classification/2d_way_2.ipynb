{
 "cells": [
  {
   "cell_type": "code",
   "execution_count": 1,
   "metadata": {
    "collapsed": true
   },
   "outputs": [
    {
     "data": {
      "text/plain": "{'divide': 'warn', 'over': 'warn', 'under': 'ignore', 'invalid': 'warn'}"
     },
     "execution_count": 1,
     "metadata": {},
     "output_type": "execute_result"
    }
   ],
   "source": [
    "from glob import glob\n",
    "\n",
    "import earthpy as et\n",
    "import earthpy.spatial as es\n",
    "import earthpy.plot as ep\n",
    "\n",
    "import rasterio as rio\n",
    "from rasterio.plot import plotting_extent\n",
    "from rasterio.plot import show\n",
    "from rasterio.plot import reshape_as_raster, reshape_as_image\n",
    "\n",
    "import matplotlib.pyplot as plt\n",
    "import numpy as np\n",
    "from matplotlib.colors import ListedColormap\n",
    "\n",
    "from scipy.io import loadmat\n",
    "from sklearn.metrics import classification_report, accuracy_score\n",
    "\n",
    "import plotly.graph_objects as go\n",
    "\n",
    "np.seterr(divide='ignore', invalid='ignore')"
   ]
  },
  {
   "cell_type": "code",
   "execution_count": 2,
   "outputs": [],
   "source": [
    "def getFilesNew(basePath):\n",
    "    dirs = glob(basePath+\"/*/\")\n",
    "    #print(dirs)\n",
    "    for _dir in dirs:\n",
    "        files = glob(_dir+\"*B?*.tiff\")\n",
    "        #print(files)\n",
    "        yield files"
   ],
   "metadata": {
    "collapsed": false
   }
  },
  {
   "cell_type": "code",
   "execution_count": 3,
   "outputs": [],
   "source": [
    "S_sentinel_bands_forest = list(getFilesNew(\"/tmp/shared/2d_dataset/forest\"))"
   ],
   "metadata": {
    "collapsed": false
   }
  },
  {
   "cell_type": "code",
   "execution_count": 4,
   "outputs": [],
   "source": [
    "S_sentinel_bands_town = list(getFilesNew(\"/tmp/shared/2d_dataset/town\"))"
   ],
   "metadata": {
    "collapsed": false
   }
  },
  {
   "cell_type": "code",
   "execution_count": 5,
   "outputs": [],
   "source": [
    "S_sentinel_bands_water = list(getFilesNew(\"/tmp/shared/2d_dataset/water\"))"
   ],
   "metadata": {
    "collapsed": false
   }
  },
  {
   "cell_type": "code",
   "execution_count": 6,
   "outputs": [],
   "source": [
    "S_sentinel_bands_field = list(getFilesNew(\"/tmp/shared/2d_dataset/field\"))"
   ],
   "metadata": {
    "collapsed": false
   }
  },
  {
   "cell_type": "code",
   "execution_count": 7,
   "outputs": [],
   "source": [
    "S_sentinel_bands_sands = list(getFilesNew(\"/tmp/shared/2d_dataset/sands\"))"
   ],
   "metadata": {
    "collapsed": false
   }
  },
  {
   "cell_type": "code",
   "execution_count": 8,
   "outputs": [],
   "source": [
    "def getFilesArrayNew(paths):\n",
    "    l = []\n",
    "    for i in paths:\n",
    "        s = []\n",
    "        for j in i:\n",
    "            with rio.open(j, 'r') as f:\n",
    "                s.append(f.read(1))\n",
    "        l.append(s)\n",
    "    arr_st_new = np.stack(l)\n",
    "    return  arr_st_new"
   ],
   "metadata": {
    "collapsed": false
   }
  },
  {
   "cell_type": "code",
   "execution_count": 9,
   "outputs": [
    {
     "name": "stderr",
     "output_type": "stream",
     "text": [
      "/usr/local/lib/python3.8/dist-packages/rasterio/__init__.py:277: NotGeoreferencedWarning: Dataset has no geotransform, gcps, or rpcs. The identity matrix will be returned.\n",
      "  dataset = DatasetReader(path, driver=driver, sharing=sharing, **kwargs)\n"
     ]
    }
   ],
   "source": [
    "forest_st = getFilesArrayNew(S_sentinel_bands_forest);"
   ],
   "metadata": {
    "collapsed": false
   }
  },
  {
   "cell_type": "code",
   "execution_count": 10,
   "outputs": [],
   "source": [
    "town_st = getFilesArrayNew(S_sentinel_bands_town);"
   ],
   "metadata": {
    "collapsed": false
   }
  },
  {
   "cell_type": "code",
   "execution_count": 11,
   "outputs": [],
   "source": [
    "water_st = getFilesArrayNew(S_sentinel_bands_water);"
   ],
   "metadata": {
    "collapsed": false
   }
  },
  {
   "cell_type": "code",
   "execution_count": 12,
   "outputs": [],
   "source": [
    "field_st = getFilesArrayNew(S_sentinel_bands_field);"
   ],
   "metadata": {
    "collapsed": false
   }
  },
  {
   "cell_type": "code",
   "execution_count": 13,
   "outputs": [],
   "source": [
    "sands_st = getFilesArrayNew(S_sentinel_bands_sands);"
   ],
   "metadata": {
    "collapsed": false
   }
  },
  {
   "cell_type": "code",
   "execution_count": null,
   "outputs": [],
   "source": [],
   "metadata": {
    "collapsed": false
   }
  },
  {
   "cell_type": "code",
   "execution_count": 14,
   "outputs": [
    {
     "data": {
      "text/plain": "(55, 12, 100, 100)"
     },
     "execution_count": 14,
     "metadata": {},
     "output_type": "execute_result"
    }
   ],
   "source": [
    "town_st.shape"
   ],
   "metadata": {
    "collapsed": false
   }
  },
  {
   "cell_type": "code",
   "execution_count": 14,
   "outputs": [],
   "source": [
    "town_st2 = np.moveaxis(town_st, 1, -1)"
   ],
   "metadata": {
    "collapsed": false
   }
  },
  {
   "cell_type": "code",
   "execution_count": 15,
   "outputs": [],
   "source": [
    "water_st2 = np.moveaxis(water_st, 1, -1)"
   ],
   "metadata": {
    "collapsed": false
   }
  },
  {
   "cell_type": "code",
   "execution_count": 16,
   "outputs": [],
   "source": [
    "field_st2 = np.moveaxis(field_st, 1, -1)"
   ],
   "metadata": {
    "collapsed": false
   }
  },
  {
   "cell_type": "code",
   "execution_count": 17,
   "outputs": [],
   "source": [
    "sands_st2 = np.moveaxis(sands_st, 1, -1)"
   ],
   "metadata": {
    "collapsed": false
   }
  },
  {
   "cell_type": "code",
   "execution_count": 18,
   "outputs": [],
   "source": [
    "forest_st2 = np.moveaxis(forest_st, 1, -1)"
   ],
   "metadata": {
    "collapsed": false
   }
  },
  {
   "cell_type": "code",
   "execution_count": 19,
   "outputs": [],
   "source": [
    "town_st3 = town_st2.reshape(-1, 20,20,12)"
   ],
   "metadata": {
    "collapsed": false
   }
  },
  {
   "cell_type": "code",
   "execution_count": 20,
   "outputs": [],
   "source": [
    "water_st3 = water_st2.reshape(-1, 20,20,12)"
   ],
   "metadata": {
    "collapsed": false
   }
  },
  {
   "cell_type": "code",
   "execution_count": 21,
   "outputs": [],
   "source": [
    "field_st3 = field_st2.reshape(-1, 20,20,12)"
   ],
   "metadata": {
    "collapsed": false
   }
  },
  {
   "cell_type": "code",
   "execution_count": 22,
   "outputs": [],
   "source": [
    "sands_st3 = sands_st2.reshape(-1, 20,20,12)"
   ],
   "metadata": {
    "collapsed": false
   }
  },
  {
   "cell_type": "code",
   "execution_count": 23,
   "outputs": [],
   "source": [
    "forest_st3 = forest_st2.reshape(-1, 20,20,12)"
   ],
   "metadata": {
    "collapsed": false
   }
  },
  {
   "cell_type": "code",
   "execution_count": 24,
   "outputs": [
    {
     "data": {
      "text/plain": "(4225, 20, 20, 12)"
     },
     "execution_count": 24,
     "metadata": {},
     "output_type": "execute_result"
    }
   ],
   "source": [
    "x_data = np.append(town_st3, water_st3,axis=0)\n",
    "x_data = np.append(x_data, field_st3,axis=0)\n",
    "x_data = np.append(x_data, sands_st3, axis=0)\n",
    "x_data = np.append(x_data, forest_st3, axis=0)\n",
    "x_data.shape"
   ],
   "metadata": {
    "collapsed": false
   }
  },
  {
   "cell_type": "code",
   "execution_count": 25,
   "outputs": [],
   "source": [
    "y_town = np.full((town_st3.shape[0],town_st3.shape[1],town_st3.shape[2]),1)\n",
    "y_water = np.full((water_st3.shape[0],water_st3.shape[1],water_st3.shape[2]),2)\n",
    "y_field = np.full((field_st3.shape[0],field_st3.shape[1],field_st3.shape[2]),3)\n",
    "y_sands = np.full((sands_st3.shape[0],sands_st3.shape[1],sands_st3.shape[2]),4)\n",
    "y_forest = np.full((forest_st3.shape[0],forest_st3.shape[1],forest_st3.shape[2]),5)"
   ],
   "metadata": {
    "collapsed": false
   }
  },
  {
   "cell_type": "code",
   "execution_count": 26,
   "outputs": [],
   "source": [
    "y_data = np.append(y_town, y_water,axis=0)\n",
    "y_data = np.append(y_data, y_field, axis=0)\n",
    "y_data = np.append(y_data, y_sands, axis=0)\n",
    "y_data = np.append(y_data, y_forest, axis=0)"
   ],
   "metadata": {
    "collapsed": false
   }
  },
  {
   "cell_type": "code",
   "execution_count": 27,
   "outputs": [
    {
     "data": {
      "text/plain": "(4225, 20, 20)"
     },
     "execution_count": 27,
     "metadata": {},
     "output_type": "execute_result"
    }
   ],
   "source": [
    "y_data.shape"
   ],
   "metadata": {
    "collapsed": false
   }
  },
  {
   "cell_type": "code",
   "execution_count": 28,
   "outputs": [
    {
     "ename": "NameError",
     "evalue": "name 't_st' is not defined",
     "output_type": "error",
     "traceback": [
      "\u001B[0;31m---------------------------------------------------------------------------\u001B[0m",
      "\u001B[0;31mNameError\u001B[0m                                 Traceback (most recent call last)",
      "Input \u001B[0;32mIn [28]\u001B[0m, in \u001B[0;36m<cell line: 1>\u001B[0;34m()\u001B[0m\n\u001B[0;32m----> 1\u001B[0m t_sst \u001B[38;5;241m=\u001B[39m \u001B[43mt_st\u001B[49m\u001B[38;5;241m.\u001B[39mreshape(\u001B[38;5;241m-\u001B[39m\u001B[38;5;241m1\u001B[39m, \u001B[38;5;241m20\u001B[39m,\u001B[38;5;241m20\u001B[39m,\u001B[38;5;241m12\u001B[39m)\n",
      "\u001B[0;31mNameError\u001B[0m: name 't_st' is not defined"
     ]
    }
   ],
   "source": [
    "t_sst = t_st.reshape(-1, 20,20,12)"
   ],
   "metadata": {
    "collapsed": false
   }
  },
  {
   "cell_type": "code",
   "execution_count": 29,
   "outputs": [],
   "source": [
    "#Let's import some important Libraries\n",
    "import tensorflow as tf\n",
    "from keras.models import Sequential, Model\n",
    "from keras.layers import Dense, Input\n",
    "from keras.utils import np_utils"
   ],
   "metadata": {
    "collapsed": false
   }
  },
  {
   "cell_type": "code",
   "execution_count": 30,
   "outputs": [],
   "source": [
    "y_data_train_cate = np_utils.to_categorical(y_data)"
   ],
   "metadata": {
    "collapsed": false
   }
  },
  {
   "cell_type": "code",
   "execution_count": 31,
   "outputs": [],
   "source": [
    "import numpy as np # linear algebra\n",
    "import pandas as pd # data processing, CSV file I/O (e.g. pd.read_csv)\n",
    "import matplotlib.pyplot as plt\n",
    "import pandas as pd"
   ],
   "metadata": {
    "collapsed": false
   }
  },
  {
   "cell_type": "code",
   "execution_count": 32,
   "outputs": [],
   "source": [
    "from keras.layers import *\n",
    "from keras.layers.convolutional import Conv2D\n",
    "from keras.layers.pooling import MaxPooling2D"
   ],
   "metadata": {
    "collapsed": false
   }
  },
  {
   "cell_type": "code",
   "execution_count": 33,
   "outputs": [
    {
     "name": "stderr",
     "output_type": "stream",
     "text": [
      "2022-11-13 11:57:47.094104: E tensorflow/stream_executor/cuda/cuda_driver.cc:271] failed call to cuInit: UNKNOWN ERROR (34)\n",
      "2022-11-13 11:57:47.094163: I tensorflow/stream_executor/cuda/cuda_diagnostics.cc:156] kernel driver does not appear to be running on this host (c4823fc7808d): /proc/driver/nvidia/version does not exist\n",
      "2022-11-13 11:57:47.094839: I tensorflow/core/platform/cpu_feature_guard.cc:193] This TensorFlow binary is optimized with oneAPI Deep Neural Network Library (oneDNN) to use the following CPU instructions in performance-critical operations:  AVX2 FMA\n",
      "To enable them in other operations, rebuild TensorFlow with the appropriate compiler flags.\n"
     ]
    }
   ],
   "source": [
    "model_new = tf.keras.models.Sequential([\n",
    "\n",
    "])"
   ],
   "metadata": {
    "collapsed": false
   }
  },
  {
   "cell_type": "code",
   "execution_count": 34,
   "outputs": [],
   "source": [
    "model_new.compile(loss='categorical_crossentropy',optimizer='rmsprop',metrics=['accuracy','MeanSquaredError'])"
   ],
   "metadata": {
    "collapsed": false
   }
  },
  {
   "cell_type": "code",
   "execution_count": 35,
   "outputs": [
    {
     "ename": "ValueError",
     "evalue": "This model has not yet been built. Build the model first by calling `build()` or by calling the model on a batch of data.",
     "output_type": "error",
     "traceback": [
      "\u001B[0;31m---------------------------------------------------------------------------\u001B[0m",
      "\u001B[0;31mValueError\u001B[0m                                Traceback (most recent call last)",
      "Input \u001B[0;32mIn [35]\u001B[0m, in \u001B[0;36m<cell line: 1>\u001B[0;34m()\u001B[0m\n\u001B[0;32m----> 1\u001B[0m \u001B[43mmodel_new\u001B[49m\u001B[38;5;241;43m.\u001B[39;49m\u001B[43msummary\u001B[49m\u001B[43m(\u001B[49m\u001B[43m)\u001B[49m\n",
      "File \u001B[0;32m/usr/local/lib/python3.8/dist-packages/keras/engine/training.py:2869\u001B[0m, in \u001B[0;36mModel.summary\u001B[0;34m(self, line_length, positions, print_fn, expand_nested, show_trainable)\u001B[0m\n\u001B[1;32m   2847\u001B[0m \u001B[38;5;124;03m\"\"\"Prints a string summary of the network.\u001B[39;00m\n\u001B[1;32m   2848\u001B[0m \n\u001B[1;32m   2849\u001B[0m \u001B[38;5;124;03mArgs:\u001B[39;00m\n\u001B[0;32m   (...)\u001B[0m\n\u001B[1;32m   2866\u001B[0m \u001B[38;5;124;03m    ValueError: if `summary()` is called before the model is built.\u001B[39;00m\n\u001B[1;32m   2867\u001B[0m \u001B[38;5;124;03m\"\"\"\u001B[39;00m\n\u001B[1;32m   2868\u001B[0m \u001B[38;5;28;01mif\u001B[39;00m \u001B[38;5;129;01mnot\u001B[39;00m \u001B[38;5;28mself\u001B[39m\u001B[38;5;241m.\u001B[39mbuilt:\n\u001B[0;32m-> 2869\u001B[0m   \u001B[38;5;28;01mraise\u001B[39;00m \u001B[38;5;167;01mValueError\u001B[39;00m(\n\u001B[1;32m   2870\u001B[0m       \u001B[38;5;124m'\u001B[39m\u001B[38;5;124mThis model has not yet been built. \u001B[39m\u001B[38;5;124m'\u001B[39m\n\u001B[1;32m   2871\u001B[0m       \u001B[38;5;124m'\u001B[39m\u001B[38;5;124mBuild the model first by calling `build()` or by calling \u001B[39m\u001B[38;5;124m'\u001B[39m\n\u001B[1;32m   2872\u001B[0m       \u001B[38;5;124m'\u001B[39m\u001B[38;5;124mthe model on a batch of data.\u001B[39m\u001B[38;5;124m'\u001B[39m)\n\u001B[1;32m   2873\u001B[0m layer_utils\u001B[38;5;241m.\u001B[39mprint_summary(\n\u001B[1;32m   2874\u001B[0m     \u001B[38;5;28mself\u001B[39m,\n\u001B[1;32m   2875\u001B[0m     line_length\u001B[38;5;241m=\u001B[39mline_length,\n\u001B[0;32m   (...)\u001B[0m\n\u001B[1;32m   2878\u001B[0m     expand_nested\u001B[38;5;241m=\u001B[39mexpand_nested,\n\u001B[1;32m   2879\u001B[0m     show_trainable\u001B[38;5;241m=\u001B[39mshow_trainable)\n",
      "\u001B[0;31mValueError\u001B[0m: This model has not yet been built. Build the model first by calling `build()` or by calling the model on a batch of data."
     ]
    }
   ],
   "source": [
    "model_new.summary()"
   ],
   "metadata": {
    "collapsed": false
   }
  },
  {
   "cell_type": "code",
   "execution_count": 36,
   "outputs": [],
   "source": [
    "inputs = Input(shape=(20,20,12))\n",
    "x = Conv2D(32, (3,3),strides=2, padding=\"same\")(inputs)\n",
    "x = BatchNormalization()(x)\n",
    "x = Activation(\"relu\")(x)\n",
    "\n",
    "previous_block_activation = x\n",
    "\n",
    "for filters in [32, 64, 128, 256]:\n",
    "    x = Activation(\"relu\")(x)\n",
    "    x = SeparableConv2D(filters, (3,3), padding=\"same\")(x)\n",
    "    x = BatchNormalization()(x)\n",
    "\n",
    "    x = Activation(\"relu\")(x)\n",
    "    x = SeparableConv2D(filters, (3,3), padding=\"same\")(x)\n",
    "    x = BatchNormalization()(x)\n",
    "\n",
    "    x = MaxPooling2D(3, strides=2, padding=\"same\")(x)\n",
    "\n",
    "    residual = Conv2D(filters, 1, strides=2, padding=\"same\")(previous_block_activation)\n",
    "    x = add([x, residual])\n",
    "    previous_block_activation = x\n",
    "\n",
    "for filters in [256, 128, 64]:\n",
    "    x = Activation(\"relu\")(x)\n",
    "    x = Conv2DTranspose(filters, (3,3), padding=\"same\")(x)\n",
    "    x = BatchNormalization()(x)\n",
    "\n",
    "    x = Activation(\"relu\")(x)\n",
    "    x = Conv2DTranspose(filters, (3,3), padding=\"same\")(x)\n",
    "    x = BatchNormalization()(x)\n",
    "\n",
    "    x = UpSampling2D(2)(x)\n",
    "\n",
    "    residual = UpSampling2D(2)(previous_block_activation)\n",
    "    residual = Conv2D(filters, 1, padding=\"same\")(residual)\n",
    "    x = add([x, residual])  # Add back residual\n",
    "    previous_block_activation = x\n",
    "\n",
    "x = Activation(\"relu\")(x)\n",
    "x = Conv2DTranspose(32, (3,3), padding=\"same\")(x)\n",
    "x = BatchNormalization()(x)\n",
    "\n",
    "x = Activation(\"relu\")(x)\n",
    "x = Conv2DTranspose(32, (3,3), padding=\"same\")(x)\n",
    "x = BatchNormalization()(x)\n",
    "\n",
    "x = UpSampling2D(5)(x)\n",
    "x = MaxPooling2D(2)(x)\n",
    "\n",
    "residual = UpSampling2D(5)(previous_block_activation)\n",
    "residual = MaxPooling2D(2)(residual)\n",
    "residual = Conv2D(32, 1, padding=\"same\")(residual)\n",
    "x = add([x, residual])  # Add back residual\n",
    "\n",
    "outputs = Conv2D(6, (3,3), activation=\"softmax\", padding=\"same\")(x)\n",
    "#outputs = Dense(6)(outputs)\n",
    "#outputs = Reshape((20,20,6))(outputs)\n",
    "outputs = Activation(\"relu\")(outputs)\n",
    "#outputs = Reshape((10,10,6))(outputs)"
   ],
   "metadata": {
    "collapsed": false
   }
  },
  {
   "cell_type": "code",
   "execution_count": 37,
   "outputs": [
    {
     "data": {
      "text/plain": "TensorShape([None, 8, 8, 64])"
     },
     "execution_count": 37,
     "metadata": {},
     "output_type": "execute_result"
    }
   ],
   "source": [
    "previous_block_activation.shape"
   ],
   "metadata": {
    "collapsed": false
   }
  },
  {
   "cell_type": "code",
   "execution_count": 38,
   "outputs": [],
   "source": [
    "model = Model(inputs, outputs)"
   ],
   "metadata": {
    "collapsed": false
   }
  },
  {
   "cell_type": "code",
   "execution_count": 39,
   "outputs": [],
   "source": [
    "model.compile(loss='categorical_crossentropy',optimizer='rmsprop',metrics=['accuracy','MeanSquaredError'])"
   ],
   "metadata": {
    "collapsed": false
   }
  },
  {
   "cell_type": "code",
   "execution_count": 40,
   "outputs": [
    {
     "name": "stdout",
     "output_type": "stream",
     "text": [
      "Model: \"model\"\n",
      "__________________________________________________________________________________________________\n",
      " Layer (type)                   Output Shape         Param #     Connected to                     \n",
      "==================================================================================================\n",
      " input_1 (InputLayer)           [(None, 20, 20, 12)  0           []                               \n",
      "                                ]                                                                 \n",
      "                                                                                                  \n",
      " conv2d (Conv2D)                (None, 10, 10, 32)   3488        ['input_1[0][0]']                \n",
      "                                                                                                  \n",
      " batch_normalization (BatchNorm  (None, 10, 10, 32)  128         ['conv2d[0][0]']                 \n",
      " alization)                                                                                       \n",
      "                                                                                                  \n",
      " activation (Activation)        (None, 10, 10, 32)   0           ['batch_normalization[0][0]']    \n",
      "                                                                                                  \n",
      " activation_1 (Activation)      (None, 10, 10, 32)   0           ['activation[0][0]']             \n",
      "                                                                                                  \n",
      " separable_conv2d (SeparableCon  (None, 10, 10, 32)  1344        ['activation_1[0][0]']           \n",
      " v2D)                                                                                             \n",
      "                                                                                                  \n",
      " batch_normalization_1 (BatchNo  (None, 10, 10, 32)  128         ['separable_conv2d[0][0]']       \n",
      " rmalization)                                                                                     \n",
      "                                                                                                  \n",
      " activation_2 (Activation)      (None, 10, 10, 32)   0           ['batch_normalization_1[0][0]']  \n",
      "                                                                                                  \n",
      " separable_conv2d_1 (SeparableC  (None, 10, 10, 32)  1344        ['activation_2[0][0]']           \n",
      " onv2D)                                                                                           \n",
      "                                                                                                  \n",
      " batch_normalization_2 (BatchNo  (None, 10, 10, 32)  128         ['separable_conv2d_1[0][0]']     \n",
      " rmalization)                                                                                     \n",
      "                                                                                                  \n",
      " max_pooling2d (MaxPooling2D)   (None, 5, 5, 32)     0           ['batch_normalization_2[0][0]']  \n",
      "                                                                                                  \n",
      " conv2d_1 (Conv2D)              (None, 5, 5, 32)     1056        ['activation[0][0]']             \n",
      "                                                                                                  \n",
      " add (Add)                      (None, 5, 5, 32)     0           ['max_pooling2d[0][0]',          \n",
      "                                                                  'conv2d_1[0][0]']               \n",
      "                                                                                                  \n",
      " activation_3 (Activation)      (None, 5, 5, 32)     0           ['add[0][0]']                    \n",
      "                                                                                                  \n",
      " separable_conv2d_2 (SeparableC  (None, 5, 5, 64)    2400        ['activation_3[0][0]']           \n",
      " onv2D)                                                                                           \n",
      "                                                                                                  \n",
      " batch_normalization_3 (BatchNo  (None, 5, 5, 64)    256         ['separable_conv2d_2[0][0]']     \n",
      " rmalization)                                                                                     \n",
      "                                                                                                  \n",
      " activation_4 (Activation)      (None, 5, 5, 64)     0           ['batch_normalization_3[0][0]']  \n",
      "                                                                                                  \n",
      " separable_conv2d_3 (SeparableC  (None, 5, 5, 64)    4736        ['activation_4[0][0]']           \n",
      " onv2D)                                                                                           \n",
      "                                                                                                  \n",
      " batch_normalization_4 (BatchNo  (None, 5, 5, 64)    256         ['separable_conv2d_3[0][0]']     \n",
      " rmalization)                                                                                     \n",
      "                                                                                                  \n",
      " max_pooling2d_1 (MaxPooling2D)  (None, 3, 3, 64)    0           ['batch_normalization_4[0][0]']  \n",
      "                                                                                                  \n",
      " conv2d_2 (Conv2D)              (None, 3, 3, 64)     2112        ['add[0][0]']                    \n",
      "                                                                                                  \n",
      " add_1 (Add)                    (None, 3, 3, 64)     0           ['max_pooling2d_1[0][0]',        \n",
      "                                                                  'conv2d_2[0][0]']               \n",
      "                                                                                                  \n",
      " activation_5 (Activation)      (None, 3, 3, 64)     0           ['add_1[0][0]']                  \n",
      "                                                                                                  \n",
      " separable_conv2d_4 (SeparableC  (None, 3, 3, 128)   8896        ['activation_5[0][0]']           \n",
      " onv2D)                                                                                           \n",
      "                                                                                                  \n",
      " batch_normalization_5 (BatchNo  (None, 3, 3, 128)   512         ['separable_conv2d_4[0][0]']     \n",
      " rmalization)                                                                                     \n",
      "                                                                                                  \n",
      " activation_6 (Activation)      (None, 3, 3, 128)    0           ['batch_normalization_5[0][0]']  \n",
      "                                                                                                  \n",
      " separable_conv2d_5 (SeparableC  (None, 3, 3, 128)   17664       ['activation_6[0][0]']           \n",
      " onv2D)                                                                                           \n",
      "                                                                                                  \n",
      " batch_normalization_6 (BatchNo  (None, 3, 3, 128)   512         ['separable_conv2d_5[0][0]']     \n",
      " rmalization)                                                                                     \n",
      "                                                                                                  \n",
      " max_pooling2d_2 (MaxPooling2D)  (None, 2, 2, 128)   0           ['batch_normalization_6[0][0]']  \n",
      "                                                                                                  \n",
      " conv2d_3 (Conv2D)              (None, 2, 2, 128)    8320        ['add_1[0][0]']                  \n",
      "                                                                                                  \n",
      " add_2 (Add)                    (None, 2, 2, 128)    0           ['max_pooling2d_2[0][0]',        \n",
      "                                                                  'conv2d_3[0][0]']               \n",
      "                                                                                                  \n",
      " activation_7 (Activation)      (None, 2, 2, 128)    0           ['add_2[0][0]']                  \n",
      "                                                                                                  \n",
      " separable_conv2d_6 (SeparableC  (None, 2, 2, 256)   34176       ['activation_7[0][0]']           \n",
      " onv2D)                                                                                           \n",
      "                                                                                                  \n",
      " batch_normalization_7 (BatchNo  (None, 2, 2, 256)   1024        ['separable_conv2d_6[0][0]']     \n",
      " rmalization)                                                                                     \n",
      "                                                                                                  \n",
      " activation_8 (Activation)      (None, 2, 2, 256)    0           ['batch_normalization_7[0][0]']  \n",
      "                                                                                                  \n",
      " separable_conv2d_7 (SeparableC  (None, 2, 2, 256)   68096       ['activation_8[0][0]']           \n",
      " onv2D)                                                                                           \n",
      "                                                                                                  \n",
      " batch_normalization_8 (BatchNo  (None, 2, 2, 256)   1024        ['separable_conv2d_7[0][0]']     \n",
      " rmalization)                                                                                     \n",
      "                                                                                                  \n",
      " max_pooling2d_3 (MaxPooling2D)  (None, 1, 1, 256)   0           ['batch_normalization_8[0][0]']  \n",
      "                                                                                                  \n",
      " conv2d_4 (Conv2D)              (None, 1, 1, 256)    33024       ['add_2[0][0]']                  \n",
      "                                                                                                  \n",
      " add_3 (Add)                    (None, 1, 1, 256)    0           ['max_pooling2d_3[0][0]',        \n",
      "                                                                  'conv2d_4[0][0]']               \n",
      "                                                                                                  \n",
      " activation_9 (Activation)      (None, 1, 1, 256)    0           ['add_3[0][0]']                  \n",
      "                                                                                                  \n",
      " conv2d_transpose (Conv2DTransp  (None, 1, 1, 256)   590080      ['activation_9[0][0]']           \n",
      " ose)                                                                                             \n",
      "                                                                                                  \n",
      " batch_normalization_9 (BatchNo  (None, 1, 1, 256)   1024        ['conv2d_transpose[0][0]']       \n",
      " rmalization)                                                                                     \n",
      "                                                                                                  \n",
      " activation_10 (Activation)     (None, 1, 1, 256)    0           ['batch_normalization_9[0][0]']  \n",
      "                                                                                                  \n",
      " conv2d_transpose_1 (Conv2DTran  (None, 1, 1, 256)   590080      ['activation_10[0][0]']          \n",
      " spose)                                                                                           \n",
      "                                                                                                  \n",
      " batch_normalization_10 (BatchN  (None, 1, 1, 256)   1024        ['conv2d_transpose_1[0][0]']     \n",
      " ormalization)                                                                                    \n",
      "                                                                                                  \n",
      " up_sampling2d_1 (UpSampling2D)  (None, 2, 2, 256)   0           ['add_3[0][0]']                  \n",
      "                                                                                                  \n",
      " up_sampling2d (UpSampling2D)   (None, 2, 2, 256)    0           ['batch_normalization_10[0][0]'] \n",
      "                                                                                                  \n",
      " conv2d_5 (Conv2D)              (None, 2, 2, 256)    65792       ['up_sampling2d_1[0][0]']        \n",
      "                                                                                                  \n",
      " add_4 (Add)                    (None, 2, 2, 256)    0           ['up_sampling2d[0][0]',          \n",
      "                                                                  'conv2d_5[0][0]']               \n",
      "                                                                                                  \n",
      " activation_11 (Activation)     (None, 2, 2, 256)    0           ['add_4[0][0]']                  \n",
      "                                                                                                  \n",
      " conv2d_transpose_2 (Conv2DTran  (None, 2, 2, 128)   295040      ['activation_11[0][0]']          \n",
      " spose)                                                                                           \n",
      "                                                                                                  \n",
      " batch_normalization_11 (BatchN  (None, 2, 2, 128)   512         ['conv2d_transpose_2[0][0]']     \n",
      " ormalization)                                                                                    \n",
      "                                                                                                  \n",
      " activation_12 (Activation)     (None, 2, 2, 128)    0           ['batch_normalization_11[0][0]'] \n",
      "                                                                                                  \n",
      " conv2d_transpose_3 (Conv2DTran  (None, 2, 2, 128)   147584      ['activation_12[0][0]']          \n",
      " spose)                                                                                           \n",
      "                                                                                                  \n",
      " batch_normalization_12 (BatchN  (None, 2, 2, 128)   512         ['conv2d_transpose_3[0][0]']     \n",
      " ormalization)                                                                                    \n",
      "                                                                                                  \n",
      " up_sampling2d_3 (UpSampling2D)  (None, 4, 4, 256)   0           ['add_4[0][0]']                  \n",
      "                                                                                                  \n",
      " up_sampling2d_2 (UpSampling2D)  (None, 4, 4, 128)   0           ['batch_normalization_12[0][0]'] \n",
      "                                                                                                  \n",
      " conv2d_6 (Conv2D)              (None, 4, 4, 128)    32896       ['up_sampling2d_3[0][0]']        \n",
      "                                                                                                  \n",
      " add_5 (Add)                    (None, 4, 4, 128)    0           ['up_sampling2d_2[0][0]',        \n",
      "                                                                  'conv2d_6[0][0]']               \n",
      "                                                                                                  \n",
      " activation_13 (Activation)     (None, 4, 4, 128)    0           ['add_5[0][0]']                  \n",
      "                                                                                                  \n",
      " conv2d_transpose_4 (Conv2DTran  (None, 4, 4, 64)    73792       ['activation_13[0][0]']          \n",
      " spose)                                                                                           \n",
      "                                                                                                  \n",
      " batch_normalization_13 (BatchN  (None, 4, 4, 64)    256         ['conv2d_transpose_4[0][0]']     \n",
      " ormalization)                                                                                    \n",
      "                                                                                                  \n",
      " activation_14 (Activation)     (None, 4, 4, 64)     0           ['batch_normalization_13[0][0]'] \n",
      "                                                                                                  \n",
      " conv2d_transpose_5 (Conv2DTran  (None, 4, 4, 64)    36928       ['activation_14[0][0]']          \n",
      " spose)                                                                                           \n",
      "                                                                                                  \n",
      " batch_normalization_14 (BatchN  (None, 4, 4, 64)    256         ['conv2d_transpose_5[0][0]']     \n",
      " ormalization)                                                                                    \n",
      "                                                                                                  \n",
      " up_sampling2d_5 (UpSampling2D)  (None, 8, 8, 128)   0           ['add_5[0][0]']                  \n",
      "                                                                                                  \n",
      " up_sampling2d_4 (UpSampling2D)  (None, 8, 8, 64)    0           ['batch_normalization_14[0][0]'] \n",
      "                                                                                                  \n",
      " conv2d_7 (Conv2D)              (None, 8, 8, 64)     8256        ['up_sampling2d_5[0][0]']        \n",
      "                                                                                                  \n",
      " add_6 (Add)                    (None, 8, 8, 64)     0           ['up_sampling2d_4[0][0]',        \n",
      "                                                                  'conv2d_7[0][0]']               \n",
      "                                                                                                  \n",
      " activation_15 (Activation)     (None, 8, 8, 64)     0           ['add_6[0][0]']                  \n",
      "                                                                                                  \n",
      " conv2d_transpose_6 (Conv2DTran  (None, 8, 8, 32)    18464       ['activation_15[0][0]']          \n",
      " spose)                                                                                           \n",
      "                                                                                                  \n",
      " batch_normalization_15 (BatchN  (None, 8, 8, 32)    128         ['conv2d_transpose_6[0][0]']     \n",
      " ormalization)                                                                                    \n",
      "                                                                                                  \n",
      " activation_16 (Activation)     (None, 8, 8, 32)     0           ['batch_normalization_15[0][0]'] \n",
      "                                                                                                  \n",
      " conv2d_transpose_7 (Conv2DTran  (None, 8, 8, 32)    9248        ['activation_16[0][0]']          \n",
      " spose)                                                                                           \n",
      "                                                                                                  \n",
      " batch_normalization_16 (BatchN  (None, 8, 8, 32)    128         ['conv2d_transpose_7[0][0]']     \n",
      " ormalization)                                                                                    \n",
      "                                                                                                  \n",
      " up_sampling2d_7 (UpSampling2D)  (None, 40, 40, 64)  0           ['add_6[0][0]']                  \n",
      "                                                                                                  \n",
      " up_sampling2d_6 (UpSampling2D)  (None, 40, 40, 32)  0           ['batch_normalization_16[0][0]'] \n",
      "                                                                                                  \n",
      " max_pooling2d_5 (MaxPooling2D)  (None, 20, 20, 64)  0           ['up_sampling2d_7[0][0]']        \n",
      "                                                                                                  \n",
      " max_pooling2d_4 (MaxPooling2D)  (None, 20, 20, 32)  0           ['up_sampling2d_6[0][0]']        \n",
      "                                                                                                  \n",
      " conv2d_8 (Conv2D)              (None, 20, 20, 32)   2080        ['max_pooling2d_5[0][0]']        \n",
      "                                                                                                  \n",
      " add_7 (Add)                    (None, 20, 20, 32)   0           ['max_pooling2d_4[0][0]',        \n",
      "                                                                  'conv2d_8[0][0]']               \n",
      "                                                                                                  \n",
      " conv2d_9 (Conv2D)              (None, 20, 20, 6)    1734        ['add_7[0][0]']                  \n",
      "                                                                                                  \n",
      " activation_17 (Activation)     (None, 20, 20, 6)    0           ['conv2d_9[0][0]']               \n",
      "                                                                                                  \n",
      "==================================================================================================\n",
      "Total params: 2,066,438\n",
      "Trainable params: 2,062,534\n",
      "Non-trainable params: 3,904\n",
      "__________________________________________________________________________________________________\n"
     ]
    }
   ],
   "source": [
    "model.summary()"
   ],
   "metadata": {
    "collapsed": false
   }
  },
  {
   "cell_type": "code",
   "execution_count": 41,
   "outputs": [],
   "source": [
    "x_data_norm = tf.keras.utils.normalize(x_data)"
   ],
   "metadata": {
    "collapsed": false
   }
  },
  {
   "cell_type": "code",
   "execution_count": 58,
   "outputs": [],
   "source": [
    "x_train = x_data"
   ],
   "metadata": {
    "collapsed": false
   }
  },
  {
   "cell_type": "code",
   "execution_count": 62,
   "outputs": [
    {
     "data": {
      "text/plain": "array([[[[0, 0, 0, ..., 0, 0, 0],\n         [0, 0, 0, ..., 0, 0, 0],\n         [0, 0, 0, ..., 0, 0, 0],\n         ...,\n         [0, 0, 0, ..., 0, 6, 5],\n         [0, 0, 0, ..., 0, 6, 6],\n         [0, 0, 0, ..., 0, 6, 6]],\n\n        [[0, 0, 0, ..., 6, 6, 6],\n         [0, 0, 0, ..., 0, 0, 0],\n         [0, 0, 0, ..., 0, 6, 6],\n         ...,\n         [1, 1, 1, ..., 1, 1, 1],\n         [1, 1, 1, ..., 1, 1, 0],\n         [0, 0, 1, ..., 0, 0, 6]],\n\n        [[0, 0, 0, ..., 0, 5, 5],\n         [0, 0, 0, ..., 0, 0, 0],\n         [0, 0, 0, ..., 0, 0, 6],\n         ...,\n         [0, 0, 0, ..., 0, 0, 6],\n         [0, 0, 0, ..., 6, 5, 5],\n         [0, 0, 0, ..., 0, 6, 5]],\n\n        ...,\n\n        [[0, 0, 0, ..., 0, 6, 6],\n         [0, 0, 0, ..., 0, 5, 5],\n         [0, 0, 0, ..., 0, 6, 5],\n         ...,\n         [0, 0, 0, ..., 0, 6, 6],\n         [0, 0, 0, ..., 0, 0, 0],\n         [0, 0, 0, ..., 0, 0, 0]],\n\n        [[0, 0, 0, ..., 0, 0, 0],\n         [0, 0, 0, ..., 0, 6, 6],\n         [0, 0, 0, ..., 0, 0, 0],\n         ...,\n         [0, 0, 0, ..., 0, 0, 6],\n         [0, 0, 0, ..., 0, 0, 6],\n         [0, 0, 0, ..., 0, 0, 6]],\n\n        [[0, 0, 0, ..., 0, 6, 6],\n         [0, 0, 0, ..., 0, 0, 0],\n         [0, 0, 0, ..., 0, 0, 6],\n         ...,\n         [0, 0, 0, ..., 0, 0, 0],\n         [0, 0, 0, ..., 0, 0, 6],\n         [0, 0, 0, ..., 0, 6, 5]]],\n\n\n       [[[0, 0, 0, ..., 0, 0, 0],\n         [0, 0, 0, ..., 0, 6, 6],\n         [0, 0, 0, ..., 0, 6, 6],\n         ...,\n         [0, 0, 0, ..., 0, 0, 0],\n         [0, 0, 0, ..., 0, 5, 5],\n         [0, 0, 0, ..., 0, 6, 5]],\n\n        [[0, 0, 0, ..., 0, 0, 6],\n         [0, 0, 0, ..., 0, 6, 6],\n         [0, 0, 0, ..., 0, 6, 5],\n         ...,\n         [0, 0, 0, ..., 0, 0, 0],\n         [0, 0, 0, ..., 0, 0, 0],\n         [0, 0, 0, ..., 0, 0, 6]],\n\n        [[0, 0, 0, ..., 0, 0, 0],\n         [0, 0, 0, ..., 0, 6, 6],\n         [0, 0, 0, ..., 0, 0, 0],\n         ...,\n         [0, 0, 0, ..., 0, 0, 0],\n         [0, 0, 0, ..., 0, 0, 0],\n         [0, 0, 0, ..., 0, 0, 6]],\n\n        ...,\n\n        [[0, 0, 0, ..., 0, 6, 6],\n         [0, 0, 0, ..., 0, 6, 5],\n         [0, 0, 0, ..., 0, 6, 6],\n         ...,\n         [0, 0, 0, ..., 0, 0, 0],\n         [0, 0, 0, ..., 0, 6, 6],\n         [0, 0, 0, ..., 0, 0, 0]],\n\n        [[0, 0, 0, ..., 0, 0, 0],\n         [0, 0, 0, ..., 0, 0, 0],\n         [0, 0, 0, ..., 0, 0, 6],\n         ...,\n         [6, 0, 0, ..., 5, 5, 5],\n         [0, 0, 0, ..., 0, 0, 0],\n         [0, 0, 0, ..., 0, 0, 6]],\n\n        [[0, 0, 0, ..., 0, 0, 0],\n         [0, 0, 0, ..., 0, 0, 0],\n         [0, 0, 0, ..., 1, 1, 0],\n         ...,\n         [0, 0, 0, ..., 0, 0, 6],\n         [0, 0, 0, ..., 0, 0, 6],\n         [0, 0, 0, ..., 0, 0, 6]]],\n\n\n       [[[0, 0, 0, ..., 0, 5, 5],\n         [0, 0, 0, ..., 0, 5, 5],\n         [0, 0, 0, ..., 0, 0, 6],\n         ...,\n         [0, 0, 0, ..., 0, 0, 5],\n         [0, 0, 0, ..., 0, 0, 0],\n         [0, 0, 0, ..., 0, 6, 6]],\n\n        [[0, 6, 0, ..., 0, 5, 5],\n         [0, 0, 0, ..., 0, 0, 0],\n         [0, 0, 0, ..., 0, 0, 0],\n         ...,\n         [0, 0, 0, ..., 0, 0, 0],\n         [0, 0, 0, ..., 0, 0, 6],\n         [0, 0, 0, ..., 0, 6, 5]],\n\n        [[0, 0, 0, ..., 0, 0, 6],\n         [0, 0, 0, ..., 0, 6, 6],\n         [0, 0, 0, ..., 0, 6, 5],\n         ...,\n         [0, 0, 0, ..., 0, 0, 6],\n         [0, 0, 0, ..., 0, 0, 0],\n         [0, 0, 0, ..., 6, 6, 5]],\n\n        ...,\n\n        [[0, 0, 0, ..., 0, 6, 5],\n         [0, 0, 0, ..., 0, 0, 0],\n         [0, 0, 0, ..., 6, 6, 5],\n         ...,\n         [0, 0, 0, ..., 0, 6, 6],\n         [0, 0, 0, ..., 0, 6, 5],\n         [6, 6, 0, ..., 6, 5, 5]],\n\n        [[0, 0, 0, ..., 0, 0, 6],\n         [0, 0, 0, ..., 0, 0, 0],\n         [0, 0, 0, ..., 0, 0, 0],\n         ...,\n         [6, 6, 0, ..., 6, 6, 5],\n         [0, 0, 0, ..., 0, 0, 0],\n         [0, 0, 0, ..., 0, 0, 6]],\n\n        [[0, 0, 0, ..., 0, 6, 5],\n         [0, 0, 0, ..., 0, 0, 6],\n         [0, 0, 0, ..., 0, 6, 6],\n         ...,\n         [0, 0, 0, ..., 0, 6, 6],\n         [0, 6, 0, ..., 0, 6, 5],\n         [0, 6, 0, ..., 0, 5, 5]]],\n\n\n       ...,\n\n\n       [[[5, 1, 5, ..., 5, 1, 1],\n         [5, 1, 5, ..., 5, 1, 1],\n         [5, 1, 5, ..., 5, 1, 1],\n         ...,\n         [5, 1, 5, ..., 5, 1, 1],\n         [5, 1, 5, ..., 5, 1, 1],\n         [5, 1, 5, ..., 5, 1, 1]],\n\n        [[5, 1, 5, ..., 5, 1, 1],\n         [5, 1, 5, ..., 5, 1, 1],\n         [5, 1, 5, ..., 5, 1, 1],\n         ...,\n         [5, 1, 5, ..., 5, 0, 1],\n         [5, 1, 5, ..., 5, 1, 1],\n         [5, 1, 5, ..., 5, 1, 1]],\n\n        [[5, 1, 5, ..., 5, 1, 1],\n         [5, 1, 5, ..., 5, 1, 1],\n         [5, 1, 5, ..., 5, 1, 1],\n         ...,\n         [5, 1, 5, ..., 5, 1, 1],\n         [5, 1, 5, ..., 5, 1, 1],\n         [5, 1, 5, ..., 5, 1, 1]],\n\n        ...,\n\n        [[5, 1, 5, ..., 5, 1, 1],\n         [5, 1, 5, ..., 5, 1, 1],\n         [5, 1, 5, ..., 5, 1, 1],\n         ...,\n         [5, 1, 5, ..., 5, 1, 1],\n         [5, 1, 5, ..., 5, 1, 1],\n         [5, 1, 5, ..., 5, 1, 1]],\n\n        [[5, 1, 5, ..., 5, 1, 1],\n         [5, 1, 5, ..., 5, 1, 1],\n         [5, 1, 5, ..., 5, 1, 1],\n         ...,\n         [5, 1, 5, ..., 5, 1, 1],\n         [5, 1, 5, ..., 5, 1, 1],\n         [5, 1, 5, ..., 5, 1, 1]],\n\n        [[5, 1, 5, ..., 5, 1, 1],\n         [5, 1, 5, ..., 5, 1, 1],\n         [5, 1, 5, ..., 5, 1, 1],\n         ...,\n         [5, 1, 5, ..., 5, 1, 1],\n         [5, 1, 5, ..., 5, 1, 1],\n         [5, 1, 5, ..., 5, 1, 1]]],\n\n\n       [[[5, 1, 5, ..., 5, 1, 1],\n         [5, 1, 5, ..., 5, 1, 1],\n         [5, 1, 5, ..., 5, 1, 1],\n         ...,\n         [5, 1, 5, ..., 5, 1, 1],\n         [5, 1, 5, ..., 5, 1, 1],\n         [5, 1, 5, ..., 5, 1, 1]],\n\n        [[5, 1, 5, ..., 5, 1, 1],\n         [5, 1, 5, ..., 5, 1, 1],\n         [5, 1, 5, ..., 5, 1, 1],\n         ...,\n         [5, 1, 5, ..., 5, 1, 1],\n         [5, 1, 5, ..., 5, 1, 1],\n         [5, 1, 5, ..., 5, 1, 1]],\n\n        [[5, 1, 5, ..., 5, 1, 1],\n         [5, 1, 5, ..., 5, 1, 1],\n         [5, 1, 5, ..., 5, 1, 1],\n         ...,\n         [5, 1, 5, ..., 5, 1, 1],\n         [5, 1, 5, ..., 5, 1, 1],\n         [5, 1, 5, ..., 5, 1, 1]],\n\n        ...,\n\n        [[5, 1, 5, ..., 5, 1, 1],\n         [5, 1, 5, ..., 5, 1, 1],\n         [5, 1, 5, ..., 5, 1, 1],\n         ...,\n         [5, 1, 5, ..., 5, 1, 1],\n         [5, 1, 5, ..., 5, 1, 1],\n         [5, 1, 5, ..., 5, 1, 1]],\n\n        [[5, 1, 5, ..., 5, 1, 1],\n         [5, 1, 5, ..., 5, 1, 1],\n         [5, 1, 5, ..., 5, 1, 1],\n         ...,\n         [5, 1, 5, ..., 5, 1, 1],\n         [5, 1, 5, ..., 5, 1, 1],\n         [5, 1, 5, ..., 5, 1, 1]],\n\n        [[5, 1, 5, ..., 5, 1, 1],\n         [5, 1, 5, ..., 5, 1, 1],\n         [5, 1, 5, ..., 5, 1, 1],\n         ...,\n         [5, 1, 5, ..., 5, 1, 1],\n         [5, 1, 5, ..., 5, 1, 1],\n         [5, 1, 5, ..., 5, 1, 1]]],\n\n\n       [[[5, 1, 5, ..., 5, 1, 1],\n         [5, 1, 5, ..., 5, 1, 1],\n         [5, 1, 5, ..., 5, 1, 1],\n         ...,\n         [5, 1, 5, ..., 5, 1, 1],\n         [5, 1, 5, ..., 5, 1, 1],\n         [5, 1, 5, ..., 5, 1, 1]],\n\n        [[5, 1, 5, ..., 5, 1, 1],\n         [5, 1, 5, ..., 5, 0, 1],\n         [5, 1, 5, ..., 5, 0, 1],\n         ...,\n         [5, 1, 5, ..., 5, 1, 1],\n         [5, 1, 5, ..., 5, 1, 1],\n         [5, 1, 5, ..., 5, 1, 1]],\n\n        [[5, 1, 5, ..., 5, 1, 1],\n         [5, 1, 5, ..., 5, 1, 1],\n         [5, 1, 5, ..., 5, 1, 1],\n         ...,\n         [5, 1, 5, ..., 5, 1, 1],\n         [5, 1, 5, ..., 5, 1, 1],\n         [5, 1, 5, ..., 5, 1, 1]],\n\n        ...,\n\n        [[5, 1, 5, ..., 5, 0, 1],\n         [5, 1, 5, ..., 5, 1, 1],\n         [5, 1, 5, ..., 5, 1, 1],\n         ...,\n         [5, 1, 5, ..., 5, 1, 1],\n         [5, 1, 5, ..., 5, 1, 1],\n         [5, 1, 5, ..., 5, 1, 1]],\n\n        [[5, 1, 5, ..., 5, 1, 1],\n         [5, 1, 5, ..., 5, 1, 1],\n         [5, 1, 5, ..., 5, 1, 1],\n         ...,\n         [5, 1, 5, ..., 5, 1, 1],\n         [5, 1, 5, ..., 5, 1, 1],\n         [5, 1, 5, ..., 5, 1, 1]],\n\n        [[5, 1, 5, ..., 5, 1, 1],\n         [5, 1, 5, ..., 5, 1, 1],\n         [5, 1, 5, ..., 5, 1, 1],\n         ...,\n         [5, 1, 5, ..., 5, 1, 1],\n         [5, 1, 5, ..., 5, 1, 1],\n         [5, 1, 5, ..., 5, 1, 1]]]], dtype=uint8)"
     },
     "execution_count": 62,
     "metadata": {},
     "output_type": "execute_result"
    }
   ],
   "source": [
    "std = np.std(x_train)\n",
    "mean= np.mean(x_train)\n",
    "\n",
    "np.add(x_train, -mean, out=x_train, casting=\"unsafe\")\n",
    "#x_train/=std\n",
    "np.divide(x_train, std, out=x_train, casting=\"unsafe\")"
   ],
   "metadata": {
    "collapsed": false
   }
  },
  {
   "cell_type": "code",
   "execution_count": 64,
   "outputs": [
    {
     "name": "stdout",
     "output_type": "stream",
     "text": [
      "Epoch 1/50\n",
      "212/212 [==============================] - 16s 67ms/step - loss: 0.3404 - accuracy: 0.9173 - mean_squared_error: 0.0220 - val_loss: 1.5500 - val_accuracy: 0.6648 - val_mean_squared_error: 0.0949\n",
      "Epoch 2/50\n",
      "212/212 [==============================] - 14s 64ms/step - loss: 0.0716 - accuracy: 0.9811 - mean_squared_error: 0.0053 - val_loss: 1.6465 - val_accuracy: 0.7083 - val_mean_squared_error: 0.0851\n",
      "Epoch 3/50\n",
      "212/212 [==============================] - 14s 67ms/step - loss: 0.0431 - accuracy: 0.9896 - mean_squared_error: 0.0029 - val_loss: 4.6115 - val_accuracy: 0.3062 - val_mean_squared_error: 0.2131\n",
      "Epoch 4/50\n",
      "212/212 [==============================] - 15s 70ms/step - loss: 0.0507 - accuracy: 0.9873 - mean_squared_error: 0.0035 - val_loss: 2.9593 - val_accuracy: 0.6764 - val_mean_squared_error: 0.0997\n",
      "Epoch 5/50\n",
      "212/212 [==============================] - 14s 66ms/step - loss: 0.0475 - accuracy: 0.9903 - mean_squared_error: 0.0026 - val_loss: 4.4773 - val_accuracy: 0.5303 - val_mean_squared_error: 0.1455\n",
      "Epoch 6/50\n",
      "212/212 [==============================] - 14s 65ms/step - loss: 0.0597 - accuracy: 0.9898 - mean_squared_error: 0.0029 - val_loss: 3.4292 - val_accuracy: 0.6371 - val_mean_squared_error: 0.1150\n",
      "Epoch 7/50\n",
      "212/212 [==============================] - 14s 64ms/step - loss: 0.0355 - accuracy: 0.9941 - mean_squared_error: 0.0018 - val_loss: 8.7669 - val_accuracy: 0.0038 - val_mean_squared_error: 0.3196\n",
      "Epoch 8/50\n",
      "212/212 [==============================] - 14s 68ms/step - loss: 0.0313 - accuracy: 0.9952 - mean_squared_error: 0.0014 - val_loss: 1.4710 - val_accuracy: 0.8321 - val_mean_squared_error: 0.0520\n",
      "Epoch 9/50\n",
      "212/212 [==============================] - 14s 66ms/step - loss: 0.0207 - accuracy: 0.9946 - mean_squared_error: 0.0015 - val_loss: 2.6500 - val_accuracy: 0.6840 - val_mean_squared_error: 0.0995\n",
      "Epoch 10/50\n",
      "212/212 [==============================] - 14s 67ms/step - loss: 0.0192 - accuracy: 0.9968 - mean_squared_error: 9.4994e-04 - val_loss: 4.3935 - val_accuracy: 0.5908 - val_mean_squared_error: 0.1301\n",
      "Epoch 11/50\n",
      "212/212 [==============================] - 14s 66ms/step - loss: 0.0272 - accuracy: 0.9949 - mean_squared_error: 0.0015 - val_loss: 2.5692 - val_accuracy: 0.7661 - val_mean_squared_error: 0.0720\n",
      "Epoch 12/50\n",
      "212/212 [==============================] - 14s 66ms/step - loss: 0.0504 - accuracy: 0.9931 - mean_squared_error: 0.0020 - val_loss: 3.1908 - val_accuracy: 0.6648 - val_mean_squared_error: 0.1048\n",
      "Epoch 13/50\n",
      "212/212 [==============================] - 15s 69ms/step - loss: 0.0130 - accuracy: 0.9978 - mean_squared_error: 6.6938e-04 - val_loss: 3.0198 - val_accuracy: 0.6280 - val_mean_squared_error: 0.1115\n",
      "Epoch 14/50\n",
      "212/212 [==============================] - 14s 67ms/step - loss: 0.0304 - accuracy: 0.9943 - mean_squared_error: 0.0016 - val_loss: 2.4158 - val_accuracy: 0.7740 - val_mean_squared_error: 0.0720\n",
      "Epoch 15/50\n",
      "212/212 [==============================] - 15s 69ms/step - loss: 0.0483 - accuracy: 0.9956 - mean_squared_error: 0.0014 - val_loss: 4.6075 - val_accuracy: 0.5555 - val_mean_squared_error: 0.1396\n",
      "Epoch 16/50\n",
      "212/212 [==============================] - 14s 68ms/step - loss: 0.0180 - accuracy: 0.9965 - mean_squared_error: 9.8178e-04 - val_loss: 5.7287 - val_accuracy: 0.5867 - val_mean_squared_error: 0.1361\n",
      "Epoch 17/50\n",
      "212/212 [==============================] - 14s 68ms/step - loss: 0.0361 - accuracy: 0.9950 - mean_squared_error: 0.0015 - val_loss: 4.7339 - val_accuracy: 0.6570 - val_mean_squared_error: 0.1114\n",
      "Epoch 18/50\n",
      "212/212 [==============================] - 14s 67ms/step - loss: 0.0144 - accuracy: 0.9977 - mean_squared_error: 6.3530e-04 - val_loss: 4.3665 - val_accuracy: 0.6709 - val_mean_squared_error: 0.1053\n",
      "Epoch 19/50\n",
      "212/212 [==============================] - 14s 68ms/step - loss: 0.0279 - accuracy: 0.9967 - mean_squared_error: 9.9356e-04 - val_loss: 4.0039 - val_accuracy: 0.7002 - val_mean_squared_error: 0.0978\n",
      "Epoch 20/50\n",
      "212/212 [==============================] - 14s 67ms/step - loss: 0.0461 - accuracy: 0.9952 - mean_squared_error: 0.0015 - val_loss: 2.3767 - val_accuracy: 0.7841 - val_mean_squared_error: 0.0685\n",
      "Epoch 21/50\n",
      "212/212 [==============================] - 14s 67ms/step - loss: 0.0163 - accuracy: 0.9970 - mean_squared_error: 9.0442e-04 - val_loss: 2.6148 - val_accuracy: 0.7197 - val_mean_squared_error: 0.0875\n",
      "Epoch 22/50\n",
      "212/212 [==============================] - 15s 69ms/step - loss: 0.0399 - accuracy: 0.9939 - mean_squared_error: 0.0018 - val_loss: 4.8918 - val_accuracy: 0.6208 - val_mean_squared_error: 0.1236\n",
      "Epoch 23/50\n",
      "212/212 [==============================] - 14s 67ms/step - loss: 0.0188 - accuracy: 0.9976 - mean_squared_error: 7.4078e-04 - val_loss: 3.0620 - val_accuracy: 0.6807 - val_mean_squared_error: 0.1000\n",
      "Epoch 24/50\n",
      "212/212 [==============================] - 14s 67ms/step - loss: 0.0134 - accuracy: 0.9959 - mean_squared_error: 9.6575e-04 - val_loss: 3.7455 - val_accuracy: 0.6721 - val_mean_squared_error: 0.1024\n",
      "Epoch 25/50\n",
      "212/212 [==============================] - 14s 68ms/step - loss: 0.0429 - accuracy: 0.9939 - mean_squared_error: 0.0017 - val_loss: 3.5045 - val_accuracy: 0.7242 - val_mean_squared_error: 0.0893\n",
      "Epoch 26/50\n",
      "212/212 [==============================] - 14s 66ms/step - loss: 0.0201 - accuracy: 0.9982 - mean_squared_error: 6.0110e-04 - val_loss: 4.9384 - val_accuracy: 0.6106 - val_mean_squared_error: 0.1257\n",
      "Epoch 27/50\n",
      "212/212 [==============================] - 14s 67ms/step - loss: 0.0092 - accuracy: 0.9988 - mean_squared_error: 3.7106e-04 - val_loss: 6.3400 - val_accuracy: 0.5705 - val_mean_squared_error: 0.1375\n",
      "Epoch 28/50\n",
      "212/212 [==============================] - 14s 65ms/step - loss: 0.0447 - accuracy: 0.9965 - mean_squared_error: 0.0011 - val_loss: 5.2294 - val_accuracy: 0.6053 - val_mean_squared_error: 0.1285\n",
      "Epoch 29/50\n",
      "212/212 [==============================] - 14s 65ms/step - loss: 0.0232 - accuracy: 0.9962 - mean_squared_error: 0.0011 - val_loss: 4.3038 - val_accuracy: 0.6571 - val_mean_squared_error: 0.1097\n",
      "Epoch 30/50\n",
      "212/212 [==============================] - 14s 66ms/step - loss: 0.0320 - accuracy: 0.9961 - mean_squared_error: 0.0012 - val_loss: 3.6353 - val_accuracy: 0.7041 - val_mean_squared_error: 0.0965\n",
      "Epoch 31/50\n",
      "212/212 [==============================] - 14s 66ms/step - loss: 0.0635 - accuracy: 0.9949 - mean_squared_error: 0.0017 - val_loss: 4.8014 - val_accuracy: 0.6228 - val_mean_squared_error: 0.1207\n",
      "Epoch 32/50\n",
      "212/212 [==============================] - 14s 67ms/step - loss: 0.0181 - accuracy: 0.9969 - mean_squared_error: 9.3647e-04 - val_loss: 5.4149 - val_accuracy: 0.6354 - val_mean_squared_error: 0.1196\n",
      "Epoch 33/50\n",
      "212/212 [==============================] - 14s 65ms/step - loss: 0.0442 - accuracy: 0.9956 - mean_squared_error: 0.0014 - val_loss: 5.1368 - val_accuracy: 0.6447 - val_mean_squared_error: 0.1176\n",
      "Epoch 34/50\n",
      "212/212 [==============================] - 14s 67ms/step - loss: 0.0023 - accuracy: 0.9988 - mean_squared_error: 2.4116e-04 - val_loss: 4.4469 - val_accuracy: 0.6848 - val_mean_squared_error: 0.1035\n",
      "Epoch 35/50\n",
      "212/212 [==============================] - 14s 67ms/step - loss: 0.2886 - accuracy: 0.9807 - mean_squared_error: 0.0063 - val_loss: 5.2563 - val_accuracy: 0.6130 - val_mean_squared_error: 0.1265\n",
      "Epoch 36/50\n",
      "212/212 [==============================] - 15s 70ms/step - loss: 0.0515 - accuracy: 0.9958 - mean_squared_error: 0.0013 - val_loss: 5.9219 - val_accuracy: 0.5996 - val_mean_squared_error: 0.1322\n",
      "Epoch 37/50\n",
      "212/212 [==============================] - 14s 64ms/step - loss: 0.0373 - accuracy: 0.9960 - mean_squared_error: 0.0013 - val_loss: 6.1209 - val_accuracy: 0.5420 - val_mean_squared_error: 0.1496\n",
      "Epoch 38/50\n",
      "212/212 [==============================] - 15s 71ms/step - loss: 0.0062 - accuracy: 0.9975 - mean_squared_error: 5.6579e-04 - val_loss: 4.4447 - val_accuracy: 0.6618 - val_mean_squared_error: 0.1102\n",
      "Epoch 39/50\n",
      "212/212 [==============================] - 14s 68ms/step - loss: 0.0039 - accuracy: 0.9996 - mean_squared_error: 1.1791e-04 - val_loss: 4.4035 - val_accuracy: 0.6761 - val_mean_squared_error: 0.1056\n",
      "Epoch 40/50\n",
      "212/212 [==============================] - 15s 71ms/step - loss: 0.0066 - accuracy: 0.9985 - mean_squared_error: 4.0979e-04 - val_loss: 4.4679 - val_accuracy: 0.6302 - val_mean_squared_error: 0.1192\n",
      "Epoch 41/50\n",
      "212/212 [==============================] - 18s 85ms/step - loss: 0.0091 - accuracy: 0.9986 - mean_squared_error: 3.7870e-04 - val_loss: 5.0243 - val_accuracy: 0.6024 - val_mean_squared_error: 0.1293\n",
      "Epoch 42/50\n",
      "212/212 [==============================] - 28s 134ms/step - loss: 0.0026 - accuracy: 0.9992 - mean_squared_error: 2.0328e-04 - val_loss: 5.8258 - val_accuracy: 0.6050 - val_mean_squared_error: 0.1302\n",
      "Epoch 43/50\n",
      "212/212 [==============================] - 26s 120ms/step - loss: 0.0189 - accuracy: 0.9987 - mean_squared_error: 4.1949e-04 - val_loss: 6.4679 - val_accuracy: 0.5775 - val_mean_squared_error: 0.1402\n",
      "Epoch 44/50\n",
      "212/212 [==============================] - 20s 95ms/step - loss: 0.0187 - accuracy: 0.9988 - mean_squared_error: 3.9413e-04 - val_loss: 6.1717 - val_accuracy: 0.6055 - val_mean_squared_error: 0.1305\n",
      "Epoch 45/50\n",
      "212/212 [==============================] - 19s 89ms/step - loss: 0.0048 - accuracy: 0.9997 - mean_squared_error: 9.8620e-05 - val_loss: 5.7369 - val_accuracy: 0.6217 - val_mean_squared_error: 0.1252\n",
      "Epoch 46/50\n",
      "212/212 [==============================] - 18s 83ms/step - loss: 0.0623 - accuracy: 0.9948 - mean_squared_error: 0.0017 - val_loss: 4.0983 - val_accuracy: 0.6748 - val_mean_squared_error: 0.1051\n",
      "Epoch 47/50\n",
      "212/212 [==============================] - 19s 91ms/step - loss: 0.0121 - accuracy: 0.9982 - mean_squared_error: 5.4496e-04 - val_loss: 4.9019 - val_accuracy: 0.6469 - val_mean_squared_error: 0.1145\n",
      "Epoch 48/50\n",
      "212/212 [==============================] - 17s 82ms/step - loss: 0.0071 - accuracy: 0.9989 - mean_squared_error: 2.8547e-04 - val_loss: 3.0957 - val_accuracy: 0.6801 - val_mean_squared_error: 0.1008\n",
      "Epoch 49/50\n",
      "212/212 [==============================] - 18s 86ms/step - loss: 0.0467 - accuracy: 0.9962 - mean_squared_error: 0.0012 - val_loss: 5.0110 - val_accuracy: 0.6621 - val_mean_squared_error: 0.1103\n",
      "Epoch 50/50\n",
      "212/212 [==============================] - 15s 72ms/step - loss: 0.0349 - accuracy: 0.9968 - mean_squared_error: 9.7339e-04 - val_loss: 5.4157 - val_accuracy: 0.6512 - val_mean_squared_error: 0.1084\n"
     ]
    }
   ],
   "source": [
    "history = model.fit(x_train,y_data_train_cate,epochs=50,batch_size=16,validation_split=0.2)"
   ],
   "metadata": {
    "collapsed": false
   }
  },
  {
   "cell_type": "code",
   "execution_count": 43,
   "outputs": [
    {
     "data": {
      "text/plain": "<Figure size 640x480 with 1 Axes>",
      "image/png": "[encoded data removed]"
     },
     "metadata": {},
     "output_type": "display_data"
    }
   ],
   "source": [
    "plt.plot(history.history['accuracy'])\n",
    "plt.plot(history.history['val_accuracy'])\n",
    "plt.title('Model Accuracy')\n",
    "plt.ylabel('Accuracy')\n",
    "plt.xlabel('#f Iterations')\n",
    "plt.legend(['Train', 'Test'], loc='upper left')\n",
    "plt.show()"
   ],
   "metadata": {
    "collapsed": false
   }
  },
  {
   "cell_type": "markdown",
   "source": [
    "## Check"
   ],
   "metadata": {
    "collapsed": false
   }
  },
  {
   "cell_type": "code",
   "execution_count": 44,
   "outputs": [
    {
     "data": {
      "text/plain": "['/tmp/shared/test_images2/2022-08-24-00_00_2022-08-24-23_59_Sentinel-2_L2A_B01_(Raw).tiff',\n '/tmp/shared/test_images2/2022-08-24-00_00_2022-08-24-23_59_Sentinel-2_L2A_B02_(Raw).tiff',\n '/tmp/shared/test_images2/2022-08-24-00_00_2022-08-24-23_59_Sentinel-2_L2A_B03_(Raw).tiff',\n '/tmp/shared/test_images2/2022-08-24-00_00_2022-08-24-23_59_Sentinel-2_L2A_B04_(Raw).tiff',\n '/tmp/shared/test_images2/2022-08-24-00_00_2022-08-24-23_59_Sentinel-2_L2A_B05_(Raw).tiff',\n '/tmp/shared/test_images2/2022-08-24-00_00_2022-08-24-23_59_Sentinel-2_L2A_B06_(Raw).tiff',\n '/tmp/shared/test_images2/2022-08-24-00_00_2022-08-24-23_59_Sentinel-2_L2A_B07_(Raw).tiff',\n '/tmp/shared/test_images2/2022-08-24-00_00_2022-08-24-23_59_Sentinel-2_L2A_B08_(Raw).tiff',\n '/tmp/shared/test_images2/2022-08-24-00_00_2022-08-24-23_59_Sentinel-2_L2A_B09_(Raw).tiff',\n '/tmp/shared/test_images2/2022-08-24-00_00_2022-08-24-23_59_Sentinel-2_L2A_B11_(Raw).tiff',\n '/tmp/shared/test_images2/2022-08-24-00_00_2022-08-24-23_59_Sentinel-2_L2A_B12_(Raw).tiff',\n '/tmp/shared/test_images2/2022-08-24-00_00_2022-08-24-23_59_Sentinel-2_L2A_B8A_(Raw).tiff']"
     },
     "execution_count": 44,
     "metadata": {},
     "output_type": "execute_result"
    }
   ],
   "source": [
    "from glob import glob\n",
    "S_sentinel_bands = glob(\"/tmp/shared/test_images2/*B?*.tiff\")\n",
    "S_sentinel_bands.sort()\n",
    "S_sentinel_bands"
   ],
   "metadata": {
    "collapsed": false
   }
  },
  {
   "cell_type": "code",
   "execution_count": 45,
   "outputs": [],
   "source": [
    "l = []\n",
    "for i in S_sentinel_bands:\n",
    "  with rio.open(i, 'r') as f:\n",
    "    l.append(f.read(1))"
   ],
   "metadata": {
    "collapsed": false
   }
  },
  {
   "cell_type": "code",
   "execution_count": 46,
   "outputs": [],
   "source": [
    "arr_st = np.stack(l)"
   ],
   "metadata": {
    "collapsed": false
   }
  },
  {
   "cell_type": "code",
   "execution_count": 47,
   "outputs": [
    {
     "data": {
      "text/plain": "(733, 1250, 12)"
     },
     "execution_count": 47,
     "metadata": {},
     "output_type": "execute_result"
    }
   ],
   "source": [
    "x = np.moveaxis(arr_st, 0, -1)\n",
    "x.shape"
   ],
   "metadata": {
    "collapsed": false
   }
  },
  {
   "cell_type": "code",
   "execution_count": 48,
   "outputs": [
    {
     "data": {
      "text/plain": "(720, 1200, 12)"
     },
     "execution_count": 48,
     "metadata": {},
     "output_type": "execute_result"
    }
   ],
   "source": [
    "x = x[0:720,0:1200,:]\n",
    "x.shape"
   ],
   "metadata": {
    "collapsed": false
   }
  },
  {
   "cell_type": "code",
   "execution_count": 49,
   "outputs": [
    {
     "data": {
      "text/plain": "(2160, 20, 20, 12)"
     },
     "execution_count": 49,
     "metadata": {},
     "output_type": "execute_result"
    }
   ],
   "source": [
    "x_r = x.reshape(-1,20,20,12)\n",
    "x_r.shape"
   ],
   "metadata": {
    "collapsed": false
   }
  },
  {
   "cell_type": "code",
   "execution_count": 50,
   "outputs": [
    {
     "data": {
      "text/plain": "(733, 1250)"
     },
     "execution_count": 50,
     "metadata": {},
     "output_type": "execute_result"
    }
   ],
   "source": [
    "y_data_test = loadmat('/tmp/shared/test_images2/labeling.mat')['data']\n",
    "y_data_test.shape"
   ],
   "metadata": {
    "collapsed": false
   }
  },
  {
   "cell_type": "code",
   "execution_count": 51,
   "outputs": [
    {
     "data": {
      "text/plain": "<Figure size 1200x1200 with 2 Axes>",
      "image/png": "[encoded data removed]"
     },
     "metadata": {},
     "output_type": "display_data"
    },
    {
     "data": {
      "text/plain": "<AxesSubplot:>"
     },
     "execution_count": 51,
     "metadata": {},
     "output_type": "execute_result"
    }
   ],
   "source": [
    "ep.plot_bands(y_data_test,\n",
    "              cmap=ListedColormap(['green', 'purple', 'orange', 'blue', 'yellow']))"
   ],
   "metadata": {
    "collapsed": false
   }
  },
  {
   "cell_type": "code",
   "execution_count": 52,
   "outputs": [],
   "source": [
    "x_r_norm =  tf.keras.utils.normalize(x_r)"
   ],
   "metadata": {
    "collapsed": false
   }
  },
  {
   "cell_type": "code",
   "execution_count": 66,
   "outputs": [],
   "source": [
    "x_r_2 = x_r"
   ],
   "metadata": {
    "collapsed": false
   }
  },
  {
   "cell_type": "code",
   "execution_count": 67,
   "outputs": [
    {
     "data": {
      "text/plain": "array([[[[-7.95167446e-01, -7.71352947e-01, -5.37539005e-01, ...,\n           9.38953102e-01, -6.66635782e-02,  2.44467163e+00],\n         [-8.07074606e-01, -7.21559286e-01, -4.90992665e-01, ...,\n           9.64932382e-01, -6.04515523e-03,  2.12967229e+00],\n         [-8.07074606e-01, -6.91250026e-01, -4.87745285e-01, ...,\n           9.88746822e-01,  9.02948827e-02,  1.91750801e+00],\n         ...,\n         [-7.59445786e-01, -5.21301925e-01, -3.62178475e-01, ...,\n           9.08643842e-01,  3.18696499e-01,  1.45204484e+00],\n         [-7.49703526e-01, -5.00734925e-01, -2.72333294e-01, ...,\n           1.05369508e+00,  5.57922900e-01,  1.68477619e+00],\n         [-7.46456146e-01, -4.28209275e-01, -2.11714879e-01, ...,\n           1.20199370e+00,  6.06634140e-01,  1.76812649e+00]],\n\n        [[-7.51868427e-01, -5.62435865e-01, -3.35116714e-01, ...,\n           1.07534468e+00,  3.92304569e-01,  1.54297233e+00],\n         [-7.48621047e-01, -5.24549305e-01, -3.63260984e-01, ...,\n           8.95654082e-01,  3.30603749e-01,  9.57355082e-01],\n         [-7.20476806e-01, -5.32126606e-01, -3.12384814e-01, ...,\n           1.10565376e+00,  4.04211819e-01,  1.59060133e+00],\n         ...,\n         [-7.59445786e-01, -7.33466446e-01, -5.03982365e-01, ...,\n           9.64932382e-01,  1.94212198e-01,  2.18379617e+00],\n         [-7.51868427e-01, -5.52693605e-01, -3.50271314e-01, ...,\n           9.58437562e-01,  3.44675809e-01,  1.75730193e+00],\n         [-7.43208706e-01, -6.67435646e-01, -5.05064785e-01, ...,\n           7.75499761e-01,  8.59650075e-02,  1.54297233e+00]],\n\n        [[-7.34548926e-01, -6.69600606e-01, -4.72590655e-01, ...,\n           7.60345221e-01,  9.57072601e-02,  1.84389961e+00],\n         [-7.23724186e-01, -4.49858755e-01, -2.04137534e-01, ...,\n           1.57219911e+00,  1.45962203e+00,  1.57652915e+00],\n         [-7.05322146e-01, -5.11559665e-01, -2.60426164e-01, ...,\n           1.46828198e+00,  9.64932382e-01,  1.94132209e+00],\n         ...,\n         [-7.12899446e-01, -6.26301706e-01, -4.05477375e-01, ...,\n           1.22364330e+00,  3.17614019e-01,  1.88395119e+00],\n         [-7.33466446e-01, -6.69600606e-01, -4.32539165e-01, ...,\n           1.13596296e+00,  2.60242999e-01,  1.65230215e+00],\n         [-7.43208706e-01, -6.99909866e-01, -4.81250435e-01, ...,\n           1.07534468e+00,  2.59160489e-01,  1.32214832e+00]],\n\n        ...,\n\n        [[-7.59445786e-01, -6.45786166e-01, -4.50941265e-01, ...,\n           1.37085950e+00,  4.56170559e-01,  1.76163197e+00],\n         [-7.48621047e-01, -5.46198785e-01, -3.70838255e-01, ...,\n           1.59601367e+00,  6.87819481e-01,  1.24204528e+00],\n         [-7.45373666e-01, -5.99239886e-01, -4.40116495e-01, ...,\n           1.53106546e+00,  7.54932761e-01,  1.05910742e+00],\n         ...,\n         [-6.44703746e-01, -3.49188834e-01, -9.58903357e-02, ...,\n           2.20003295e+00,  1.21173596e+00,  1.64580715e+00],\n         [-6.19806886e-01, -3.91405255e-01, -1.11044958e-01, ...,\n           2.03982735e+00,  1.06993222e+00,  1.68585885e+00],\n         [-5.97074986e-01, -4.42281395e-01, -1.57591239e-01, ...,\n           1.99869335e+00,  1.02988064e+00,  1.81250811e+00]],\n\n        [[-5.80837905e-01, -2.96147704e-01,  1.01919603e-02, ...,\n           2.28987813e+00,  1.31348848e+00,  1.68802381e+00],\n         [-5.70013165e-01, -3.16714674e-01,  1.12743704e-02, ...,\n           2.26822877e+00,  1.17709696e+00,  1.73781741e+00],\n         [-5.66765785e-01, -3.03724974e-01,  4.15836200e-02, ...,\n           2.30828047e+00,  1.19766390e+00,  1.85472453e+00],\n         ...,\n         [-6.14394546e-01, -4.47693765e-01, -1.56508759e-01, ...,\n           1.92292023e+00,  8.96736622e-01,  1.65446711e+00],\n         [-6.11147106e-01, -3.82745475e-01, -6.44986778e-02, ...,\n           2.08529091e+00,  1.00931370e+00,  1.68802381e+00],\n         [-6.02487326e-01, -3.67590845e-01, -5.69213219e-02, ...,\n           2.11884761e+00,  1.05153012e+00,  1.66312671e+00]],\n\n        [[-5.93827546e-01, -3.81662995e-01, -8.07357132e-02, ...,\n           2.09178591e+00,  1.01039612e+00,  1.57761145e+00],\n         [-5.87332726e-01, -4.05477375e-01, -8.29006881e-02, ...,\n           2.11343527e+00,  1.01580858e+00,  1.58410633e+00],\n         [-5.83002806e-01, -3.48106354e-01,  3.69709777e-03, ...,\n           2.13724971e+00,  1.04828274e+00,  1.82982767e+00],\n         ...,\n         [-5.83002806e-01, -3.67590845e-01, -3.31069343e-02, ...,\n           2.08529091e+00,  1.02663338e+00,  1.86013675e+00],\n         [-5.81920326e-01, -3.43776464e-01,  4.37486023e-02, ...,\n           2.20652795e+00,  1.04178786e+00,  1.94348705e+00],\n         [-5.84085286e-01, -3.70838255e-01, -2.76945625e-02, ...,\n           2.12858987e+00,  9.83334363e-01,  1.99652827e+00]]],\n\n\n       [[[-5.88415146e-01, -3.52436215e-01, -1.47049185e-02, ...,\n           2.12858987e+00,  9.53025162e-01,  2.02467251e+00],\n         [-5.91662586e-01, -3.73003215e-01,  1.23568606e-02, ...,\n           2.07446623e+00,  9.09726322e-01,  2.09828091e+00],\n         [-5.94910026e-01, -3.89240354e-01, -2.01172903e-02, ...,\n           2.03224993e+00,  8.55602741e-01,  2.04848695e+00],\n         ...,\n         [-4.46611285e-01, -2.59343654e-01, -6.34161830e-02, ...,\n           2.75534153e+00,  2.62111497e+00,  1.03745806e+00],\n         [-4.35786635e-01, -2.59343654e-01, -7.20759481e-02, ...,\n           2.77157831e+00,  2.63410449e+00,  1.04178786e+00],\n         [-4.57436025e-01, -2.76663184e-01, -7.20759481e-02, ...,\n           2.80080509e+00,  2.64817667e+00,  1.05261266e+00]],\n\n        [[-4.97487545e-01, -2.84240544e-01, -8.50655884e-02, ...,\n           2.76291871e+00,  2.59188819e+00,  1.08075690e+00],\n         [-5.53776085e-01, -3.03724974e-01, -1.03467688e-01, ...,\n           2.60812497e+00,  2.38730073e+00,  1.02988064e+00],\n         [-6.26301706e-01, -5.93827546e-01, -4.20632005e-01, ...,\n           1.52240551e+00,  9.71427143e-01,  1.61549807e+00],\n         ...,\n         [-4.16302115e-01, -2.60426164e-01, -5.25914393e-02, ...,\n           2.71745467e+00,  2.59946537e+00,  1.02446842e+00],\n         [-4.13054734e-01, -2.14962274e-01,  4.77958843e-03, ...,\n           2.74126911e+00,  2.64168167e+00,  1.10998368e+00],\n         [-4.14137125e-01, -2.24704534e-01, -2.44471710e-02, ...,\n           2.74451661e+00,  2.62977457e+00,  1.08725166e+00]],\n\n        [[-4.16302115e-01, -2.18209669e-01, -2.87770536e-02, ...,\n           2.71637249e+00,  2.61245489e+00,  1.09049916e+00],\n         [-4.17384624e-01, -2.24704534e-01, -2.44471710e-02, ...,\n           2.69147539e+00,  2.51395011e+00,  1.08833420e+00],\n         [-4.18467015e-01, -2.18209669e-01, -2.01172903e-02, ...,\n           2.66657853e+00,  2.52477455e+00,  1.05044770e+00],\n         ...,\n         [-4.22796905e-01, -2.53931284e-01, -3.74368168e-02, ...,\n           2.69255805e+00,  2.55616641e+00,  1.03204560e+00],\n         [-4.27126855e-01, -2.49601409e-01, -2.66121514e-02, ...,\n           2.68714571e+00,  2.55183649e+00,  1.03854048e+00],\n         [-4.31456745e-01, -2.31199384e-01, -1.90347992e-02, ...,\n           2.71528983e+00,  2.58322811e+00,  1.02879822e+00]],\n\n        ...,\n\n        [[-5.87332726e-01, -4.18467015e-01, -1.72745869e-01, ...,\n           1.80817819e+00,  9.62767363e-01,  1.78977597e+00],\n         [-5.68930686e-01, -4.49858755e-01, -1.88982978e-01, ...,\n           1.69451845e+00,  9.02149081e-01,  1.76054931e+00],\n         [-5.41868865e-01, -3.98982525e-01, -1.98725238e-01, ...,\n           1.81142557e+00,  1.17384946e+00,  1.28859150e+00],\n         ...,\n         [-4.94240105e-01, -3.61095995e-01, -1.37024254e-01, ...,\n           2.07446623e+00,  1.33405530e+00,  1.82982767e+00],\n         [-4.97487545e-01, -3.55683714e-01, -1.26199588e-01, ...,\n           2.06580639e+00,  1.36652946e+00,  1.84822953e+00],\n         [-5.00734925e-01, -3.69755834e-01, -1.17539823e-01, ...,\n           2.06364155e+00,  1.32756054e+00,  1.85580683e+00]],\n\n        [[-5.05064785e-01, -3.76250625e-01, -1.09962471e-01, ...,\n           2.04632187e+00,  1.31240606e+00,  1.94023979e+00],\n         [-5.09394705e-01, -3.52436215e-01, -1.12127453e-01, ...,\n           2.09719825e+00,  1.40116858e+00,  1.85797179e+00],\n         [-5.11559665e-01, -3.64343464e-01, -1.22952111e-01, ...,\n           2.03982735e+00,  1.35029256e+00,  1.83415735e+00],\n         ...,\n         [-4.83415395e-01, -3.51353735e-01, -1.11044958e-01, ...,\n           1.95755935e+00,  1.24854004e+00,  1.94240475e+00],\n         [-4.84497845e-01, -3.57848614e-01, -9.04779658e-02, ...,\n           1.96080661e+00,  1.21065354e+00,  2.04307461e+00],\n         [-4.85580355e-01, -3.60013574e-01, -1.17539823e-01, ...,\n           1.95214701e+00,  1.27343702e+00,  2.00410557e+00]],\n\n        [[-4.87745285e-01, -3.60013574e-01, -1.07797571e-01, ...,\n           1.94348705e+00,  1.20524120e+00,  1.98570347e+00],\n         [-4.89910215e-01, -3.75168115e-01, -1.16457328e-01, ...,\n           1.95106435e+00,  1.22472572e+00,  1.98137379e+00],\n         [-4.92075175e-01, -3.76250625e-01, -1.34859353e-01, ...,\n           1.92292023e+00,  1.17817950e+00,  1.96080661e+00],\n         ...,\n         [-7.51868427e-01, -6.33879006e-01, -3.61095995e-01, ...,\n           1.24745750e+00,  3.77150029e-01,  2.13291979e+00],\n         [-7.29136527e-01, -5.58105946e-01, -2.37694174e-01, ...,\n           1.38276672e+00,  5.08129120e-01,  1.88178623e+00],\n         [-7.04239666e-01, -5.63518345e-01, -2.30116904e-01, ...,\n           1.37518942e+00,  4.82149839e-01,  1.95322931e+00]]],\n\n\n       [[[-6.93414927e-01, -5.36456525e-01, -2.10632399e-01, ...,\n           1.50183868e+00,  6.38025701e-01,  1.85147715e+00],\n         [-6.89085126e-01, -5.23466885e-01, -1.92230374e-01, ...,\n           1.50292099e+00,  6.30448461e-01,  1.82225037e+00],\n         [-6.86920166e-01, -5.33209145e-01, -1.99807644e-01, ...,\n           1.48127151e+00,  5.97974360e-01,  1.81467283e+00],\n         ...,\n         [-6.69600606e-01, -4.58518535e-01, -1.26199588e-01, ...,\n           1.82874501e+00,  9.32458282e-01,  1.82982767e+00],\n         [-6.71765506e-01, -4.89910215e-01, -1.73828363e-01, ...,\n           1.81792045e+00,  8.76169622e-01,  1.91750801e+00],\n         [-6.72847986e-01, -4.84497845e-01, -1.77075759e-01, ...,\n           1.80493057e+00,  8.74004781e-01,  1.95755935e+00]],\n\n        [[-6.70683086e-01, -5.27796745e-01, -1.95477769e-01, ...,\n           1.74431241e+00,  7.93901801e-01,  1.97271383e+00],\n         [-6.65270686e-01, -4.98569995e-01, -1.67333499e-01, ...,\n           1.76487923e+00,  8.09056342e-01,  1.97163153e+00],\n         [-6.60940826e-01, -4.67178285e-01, -1.26199588e-01, ...,\n           1.79735327e+00,  8.74004781e-01,  1.92833257e+00],\n         ...,\n         [-7.11817026e-01, -5.15889525e-01, -2.32281804e-01, ...,\n           1.48776650e+00,  6.65087640e-01,  1.85255945e+00],\n         [-6.97744906e-01, -5.06147325e-01, -1.53261364e-01, ...,\n           1.38817894e+00,  6.04469180e-01,  2.02034283e+00],\n         [-6.81507766e-01, -5.13724625e-01, -1.57591239e-01, ...,\n           1.36761212e+00,  5.78489900e-01,  1.96297157e+00]],\n\n        [[-6.68518126e-01, -4.88827735e-01, -1.51096463e-01, ...,\n           1.40116858e+00,  6.10963941e-01,  1.95539427e+00],\n         [-6.57693386e-01, -4.62848395e-01, -1.20787211e-01, ...,\n           1.54730237e+00,  8.27458501e-01,  1.75405467e+00],\n         [-6.49033606e-01, -4.35786635e-01, -1.24034606e-01, ...,\n           1.64905488e+00,  9.74674642e-01,  1.63173532e+00],\n         ...,\n         [-6.88002646e-01, -5.23466885e-01, -1.52178869e-01, ...,\n           1.27235448e+00,  4.37768370e-01,  1.98462105e+00],\n         [-6.88002646e-01, -5.02899885e-01, -1.37024254e-01, ...,\n           1.31024098e+00,  4.90809590e-01,  1.93699253e+00],\n         [-6.86920166e-01, -5.21301925e-01, -1.48931488e-01, ...,\n           1.29833376e+00,  4.99469370e-01,  1.96188927e+00]],\n\n        ...,\n\n        [[-6.01404846e-01, -4.43363905e-01, -2.82075554e-01, ...,\n           2.17730117e+00,  2.14266205e+00,  5.33025920e-01],\n         [-5.97074986e-01, -4.21714485e-01, -2.71250814e-01, ...,\n           2.16431165e+00,  2.13075495e+00,  5.55757880e-01],\n         [-5.89497685e-01, -4.03312474e-01, -2.51766294e-01, ...,\n           2.15889907e+00,  2.10802317e+00,  5.71994960e-01],\n         ...,\n         [-6.17641926e-01, -4.42281395e-01, -3.16714674e-01, ...,\n           2.07338381e+00,  2.05281687e+00,  5.07046640e-01],\n         [-6.30631626e-01, -4.37951535e-01, -2.93982804e-01, ...,\n           2.11018777e+00,  2.03657961e+00,  5.54675400e-01],\n         [-6.56610966e-01, -4.48776275e-01, -3.10219824e-01, ...,\n           2.13833213e+00,  2.03657961e+00,  5.78489900e-01]],\n\n        [[-6.80425346e-01, -4.70425665e-01, -3.31869304e-01, ...,\n           1.87312639e+00,  1.65121984e+00,  6.78077221e-01],\n         [-6.70683086e-01, -6.18724406e-01, -4.45528865e-01, ...,\n           1.39792120e+00,  8.65345001e-01,  1.27776682e+00],\n         [-6.26301706e-01, -4.04394895e-01, -1.57591239e-01, ...,\n           1.84498227e+00,  1.26152980e+00,  1.78003383e+00],\n         ...,\n         [-4.95322585e-01, -3.43776464e-01, -3.09420340e-02, ...,\n           1.75297201e+00,  8.83747041e-01,  2.32668233e+00],\n         [-5.01817405e-01, -3.48106354e-01, -3.41894254e-02, ...,\n           1.74755967e+00,  9.24880862e-01,  2.28879595e+00],\n         [-5.02899885e-01, -3.29704344e-01, -1.25400182e-02, ...,\n           1.70859063e+00,  8.32870781e-01,  2.38405347e+00]],\n\n        [[-5.02899885e-01, -3.35116714e-01,  4.49706975e-04, ...,\n           1.69451845e+00,  7.90654302e-01,  2.47498107e+00],\n         [-5.00734925e-01, -3.44858944e-01, -8.21013656e-03, ...,\n           1.75297201e+00,  8.92406821e-01,  2.34400177e+00],\n         [-4.95322585e-01, -3.32951725e-01,  2.75114849e-02, ...,\n           1.74755967e+00,  8.55602741e-01,  2.45766163e+00],\n         ...,\n         [-5.89497685e-01, -3.21044564e-01, -8.21013656e-03, ...,\n           1.88936353e+00,  1.07426214e+00,  2.28230095e+00],\n         [-6.62023306e-01, -5.50528646e-01, -2.36611769e-01, ...,\n           1.44446754e+00,  4.57252890e-01,  2.59080553e+00],\n         [-7.33466446e-01, -6.80425346e-01, -3.14549714e-01, ...,\n           1.10781872e+00,  8.59650075e-02,  2.83327937e+00]]],\n\n\n       ...,\n\n\n       [[[-7.25889146e-01, -6.65270686e-01, -5.36456525e-01, ...,\n           6.06634140e-01,  1.55243188e-01,  1.22689068e+00],\n         [-7.02074766e-01, -7.29136527e-01, -5.51611125e-01, ...,\n           3.81479830e-01, -1.07797571e-01,  1.22797322e+00],\n         [-6.01404846e-01, -6.75012946e-01, -4.78003025e-01, ...,\n           5.65500140e-01,  5.45732640e-02,  1.21390104e+00],\n         ...,\n         [-1.90065399e-01,  9.67896655e-02,  3.47923279e-01, ...,\n           1.64797223e+00,  1.56462193e+00,  1.13704550e+00],\n         [-2.37694174e-01, -1.14292353e-01,  2.42923468e-01, ...,\n           2.14049721e+00,  1.95431197e+00,  1.32647812e+00],\n         [-2.86405444e-01, -2.44471710e-02,  3.07871759e-01, ...,\n           2.51828003e+00,  2.34724951e+00,  1.64039493e+00]],\n\n        [[-3.32951725e-01,  2.41840973e-01,  7.43025541e-01, ...,\n           2.80405259e+00,  2.68281579e+00,  2.09395075e+00],\n         [-3.75168115e-01, -2.23622039e-01,  4.69959937e-02, ...,\n           2.25199199e+00,  1.96946657e+00,  1.28317928e+00],\n         [-4.06559855e-01, -3.00477564e-01, -7.20759481e-02, ...,\n           2.00843549e+00,  1.66745675e+00,  1.13163316e+00],\n         ...,\n         [-4.75838035e-01, -5.85167766e-01, -4.05477375e-01, ...,\n           1.47044694e+00,  1.00823140e+00,  1.02771580e+00],\n         [-4.45528865e-01, -3.24291974e-01, -1.00220218e-01, ...,\n           2.22168255e+00,  1.90018809e+00,  1.22472572e+00],\n         [-4.29291755e-01, -3.31069343e-02,  2.59160489e-01, ...,\n           2.26173425e+00,  1.96621919e+00,  1.59709597e+00]],\n\n        [[-4.47693765e-01, -9.48078409e-02,  2.50500739e-01, ...,\n           1.28101432e+00,  9.17303622e-01,  1.05910742e+00],\n         [-4.78003025e-01, -3.74085724e-01, -1.19704723e-01, ...,\n           5.28696120e-01,  2.20191494e-01,  5.53592920e-01],\n         [-4.81250435e-01, -6.96662426e-01, -5.10477185e-01, ...,\n           2.06119433e-01,  2.20991131e-02,  4.26661111e-02],\n         ...,\n         [-6.39291346e-01, -4.88827735e-01, -3.15632194e-01, ...,\n           1.12730324e+00,  6.17458880e-01,  1.06884968e+00],\n         [-5.51611125e-01, -6.27384186e-01, -4.56353545e-01, ...,\n           1.15003514e+00,  6.70499980e-01,  1.08941674e+00],\n         [-4.63930905e-01,  6.32330254e-02,  4.39933360e-01, ...,\n           2.19462061e+00,  1.95539427e+00,  1.78977597e+00]],\n\n        ...,\n\n        [[-7.41043687e-01, -6.10064626e-01, -2.77745664e-01, ...,\n          -4.78003025e-01, -7.11817026e-01,  6.88901961e-01],\n         [-7.46456146e-01, -6.10064626e-01, -2.75580704e-01, ...,\n          -5.35374045e-01, -7.50785947e-01,  1.81222558e-01],\n         [-7.49703526e-01, -6.40373886e-01, -3.58931094e-01, ...,\n          -4.19549525e-01, -7.05322146e-01,  5.81737161e-01],\n         ...,\n         [-6.79342866e-01, -4.73673135e-01, -4.28491868e-02, ...,\n          -9.08827007e-01, -9.42383528e-01, -5.85167766e-01],\n         [-6.72847986e-01, -4.49858755e-01, -1.79523081e-02, ...,\n          -9.15321767e-01, -9.34806287e-01, -5.51611125e-01],\n         [-6.68518126e-01, -4.52023655e-01,  1.12743704e-02, ...,\n          -9.10991907e-01, -9.31558907e-01, -5.36456525e-01]],\n\n        [[-6.68518126e-01, -4.53106165e-01, -1.36224274e-02, ...,\n          -9.07744527e-01, -9.31558907e-01, -5.59188426e-01],\n         [-6.70683086e-01, -4.81250435e-01, -2.01172903e-02, ...,\n          -9.02332127e-01, -9.35888767e-01, -5.61353385e-01],\n         [-6.75012946e-01, -4.56353545e-01, -3.09420340e-02, ...,\n          -9.20734167e-01, -9.40218627e-01, -5.78672945e-01],\n         ...,\n         [-7.65940666e-01, -6.07899666e-01, -3.04807454e-01, ...,\n          -9.18569267e-01, -9.44548547e-01, -7.12899446e-01],\n         [-7.64858186e-01, -6.03569806e-01, -3.19962084e-01, ...,\n          -9.27228987e-01, -9.48878407e-01, -7.25889146e-01],\n         [-7.62693167e-01, -5.97074986e-01, -2.95065194e-01, ...,\n          -9.23981547e-01, -9.48878407e-01, -7.17229426e-01]],\n\n        [[-7.59445786e-01, -6.12229526e-01, -3.08054924e-01, ...,\n          -9.19651628e-01, -9.49960887e-01, -7.32383966e-01],\n         [-7.57280886e-01, -6.02487326e-01, -2.98312664e-01, ...,\n          -9.20734167e-01, -9.44548547e-01, -7.24806666e-01],\n         [-7.55115926e-01, -6.12229526e-01, -3.05889934e-01, ...,\n          -9.29393888e-01, -9.47795928e-01, -7.15064406e-01],\n         ...,\n         [-7.32383966e-01, -5.25631785e-01, -1.55426338e-01, ...,\n          -9.22899067e-01, -9.60785568e-01, -6.69600606e-01],\n         [-7.30219066e-01, -5.29961705e-01, -1.45684093e-01, ...,\n          -9.42383528e-01, -9.62950528e-01, -6.79342866e-01],\n         [-7.28054166e-01, -5.45116305e-01, -1.32694364e-01, ...,\n          -9.36971247e-01, -9.61868048e-01, -6.81507766e-01]]],\n\n\n       [[[-7.30219066e-01, -5.46198785e-01, -1.29446968e-01, ...,\n          -9.35888767e-01, -9.56455767e-01, -6.77177906e-01],\n         [-7.34548926e-01, -5.40786386e-01, -1.34859353e-01, ...,\n          -9.29393888e-01, -9.56455767e-01, -6.77177906e-01],\n         [-7.39961267e-01, -5.35374045e-01, -1.59756228e-01, ...,\n          -9.35888767e-01, -9.57538188e-01, -6.66353166e-01],\n         ...,\n         [-7.81095207e-01, -6.11147106e-01, -3.71920735e-01, ...,\n          -9.26146507e-01, -9.55373287e-01, -7.37796366e-01],\n         [-7.90837467e-01, -6.63105786e-01, -4.39034015e-01, ...,\n          -9.22899067e-01, -9.51043308e-01, -7.46456146e-01],\n         [-8.00579727e-01, -7.03157187e-01, -5.33209145e-01, ...,\n          -9.19651628e-01, -9.51043308e-01, -7.98414707e-01]],\n\n        [[-8.09239507e-01, -7.04239666e-01, -5.63518345e-01, ...,\n          -9.17486727e-01, -9.57538188e-01, -8.10321987e-01],\n         [-8.15734327e-01, -7.20476806e-01, -5.73260605e-01, ...,\n          -9.26146507e-01, -9.61868048e-01, -8.09239507e-01],\n         [-8.21146727e-01, -7.20476806e-01, -5.76507986e-01, ...,\n          -9.31558907e-01, -9.59703147e-01, -8.10321987e-01],\n         ...,\n         [-8.20064247e-01, -7.41043687e-01, -6.12229526e-01, ...,\n          -9.44548547e-01, -9.60785568e-01, -8.15734327e-01],\n         [-8.20064247e-01, -7.23724186e-01, -5.94910026e-01, ...,\n          -9.35888767e-01, -9.61868048e-01, -8.07074606e-01],\n         [-8.21146727e-01, -7.31301427e-01, -6.03569806e-01, ...,\n          -9.40218627e-01, -9.58620667e-01, -8.10321987e-01]],\n\n        [[-8.20064247e-01, -7.25889146e-01, -5.97074986e-01, ...,\n          -9.34806287e-01, -9.53208268e-01, -8.18981707e-01],\n         [-8.18981707e-01, -7.20476806e-01, -5.83002806e-01, ...,\n          -9.33723807e-01, -9.58620667e-01, -8.05992067e-01],\n         [-8.16816807e-01, -7.35631406e-01, -5.93827546e-01, ...,\n          -9.28311527e-01, -9.59703147e-01, -7.87590086e-01],\n         ...,\n         [-8.17899227e-01, -7.08569646e-01, -5.85167766e-01, ...,\n          -9.23981547e-01, -9.54290807e-01, -7.98414707e-01],\n         [-8.16816807e-01, -7.05322146e-01, -5.80837905e-01, ...,\n          -9.23981547e-01, -9.51043308e-01, -8.08156967e-01],\n         [-8.16816807e-01, -7.26971626e-01, -5.77590466e-01, ...,\n          -9.22899067e-01, -9.49960887e-01, -8.20064247e-01]],\n\n        ...,\n\n        [[-7.94084907e-01, -7.26971626e-01, -5.89497685e-01, ...,\n          -9.31558907e-01, -9.39136147e-01, -7.93002427e-01],\n         [-7.97332346e-01, -7.05322146e-01, -5.84085286e-01, ...,\n          -9.31558907e-01, -9.49960887e-01, -7.94084907e-01],\n         [-8.00579727e-01, -7.12899446e-01, -5.97074986e-01, ...,\n          -9.30476427e-01, -9.46713507e-01, -8.14651847e-01],\n         ...,\n         [-7.98414707e-01, -6.84755147e-01, -5.67848206e-01, ...,\n          -9.22899067e-01, -9.40218627e-01, -7.89754987e-01],\n         [-7.99497247e-01, -7.02074766e-01, -5.68930686e-01, ...,\n          -9.21816647e-01, -9.41301167e-01, -7.73517966e-01],\n         [-8.00579727e-01, -6.88002646e-01, -5.72178066e-01, ...,\n          -9.20734167e-01, -9.42383528e-01, -7.86507607e-01]],\n\n        [[-7.99497247e-01, -6.86920166e-01, -5.83002806e-01, ...,\n          -9.29393888e-01, -9.46713507e-01, -7.91919947e-01],\n         [-7.96249807e-01, -7.03157187e-01, -5.86250246e-01, ...,\n          -9.28311527e-01, -9.51043308e-01, -7.95167446e-01],\n         [-7.94084907e-01, -7.09652126e-01, -5.86250246e-01, ...,\n          -9.26146507e-01, -9.41301167e-01, -7.93002427e-01],\n         ...,\n         [-7.89754987e-01, -7.07487166e-01, -5.95992506e-01, ...,\n          -9.26146507e-01, -9.51043308e-01, -8.04909706e-01],\n         [-7.90837467e-01, -7.18311906e-01, -5.95992506e-01, ...,\n          -9.27228987e-01, -9.49960887e-01, -8.07074606e-01],\n         [-7.93002427e-01, -7.11817026e-01, -6.04652286e-01, ...,\n          -9.31558907e-01, -9.55373287e-01, -7.89754987e-01]],\n\n        [[-7.94084907e-01, -7.17229426e-01, -5.95992506e-01, ...,\n          -9.39136147e-01, -9.55373287e-01, -8.01662207e-01],\n         [-7.95167446e-01, -7.15064406e-01, -6.00322366e-01, ...,\n          -9.28311527e-01, -9.46713507e-01, -8.08156967e-01],\n         [-7.96249807e-01, -7.21559286e-01, -5.93827546e-01, ...,\n          -9.31558907e-01, -9.46713507e-01, -7.90837467e-01],\n         ...,\n         [-7.90837467e-01, -6.92332506e-01, -5.85167766e-01, ...,\n          -9.27228987e-01, -9.57538188e-01, -7.97332346e-01],\n         [-7.89754987e-01, -7.02074766e-01, -5.91662586e-01, ...,\n          -9.25064027e-01, -9.64033067e-01, -7.99497247e-01],\n         [-7.88672507e-01, -6.80425346e-01, -5.78672945e-01, ...,\n          -9.20734167e-01, -9.68362927e-01, -7.96249807e-01]]],\n\n\n       [[[-7.88672507e-01, -7.12899446e-01, -5.84085286e-01, ...,\n          -9.30476427e-01, -9.65115547e-01, -8.00579727e-01],\n         [-7.88672507e-01, -7.02074766e-01, -5.94910026e-01, ...,\n          -9.18569267e-01, -9.51043308e-01, -8.03827167e-01],\n         [-7.90837467e-01, -7.13981926e-01, -5.99239886e-01, ...,\n          -9.25064027e-01, -9.62950528e-01, -8.02744687e-01],\n         ...,\n         [-7.93002427e-01, -7.06404626e-01, -5.87332726e-01, ...,\n          -9.20734167e-01, -9.47795928e-01, -7.85425186e-01],\n         [-7.89754987e-01, -7.06404626e-01, -5.86250246e-01, ...,\n          -9.25064027e-01, -9.46713507e-01, -7.94084907e-01],\n         [-7.85425186e-01, -6.93414927e-01, -5.72178066e-01, ...,\n          -9.18569267e-01, -9.67280447e-01, -7.97332346e-01]],\n\n        [[-7.83260167e-01, -6.99909866e-01, -5.80837905e-01, ...,\n          -9.22899067e-01, -9.44548547e-01, -7.96249807e-01],\n         [-7.86507607e-01, -6.94497406e-01, -5.86250246e-01, ...,\n          -9.30476427e-01, -9.40218627e-01, -7.86507607e-01],\n         [-7.91919947e-01, -6.97744906e-01, -5.84085286e-01, ...,\n          -9.31558907e-01, -9.44548547e-01, -7.96249807e-01],\n         ...,\n         [-7.99497247e-01, -7.12899446e-01, -5.79755425e-01, ...,\n          -9.38053668e-01, -9.56455767e-01, -7.89754987e-01],\n         [-8.01662207e-01, -7.03157187e-01, -5.86250246e-01, ...,\n          -9.36971247e-01, -9.56455767e-01, -7.88672507e-01],\n         [-7.99497247e-01, -6.91250026e-01, -5.87332726e-01, ...,\n          -9.31558907e-01, -9.46713507e-01, -8.00579727e-01]],\n\n        [[-7.96249807e-01, -6.96662426e-01, -5.83002806e-01, ...,\n          -9.32641327e-01, -9.47795928e-01, -7.98414707e-01],\n         [-7.94084907e-01, -6.95579886e-01, -5.94910026e-01, ...,\n          -9.33723807e-01, -9.56455767e-01, -7.80012727e-01],\n         [-7.91919947e-01, -6.90167606e-01, -5.75425506e-01, ...,\n          -9.31558907e-01, -9.51043308e-01, -7.88672507e-01],\n         ...,\n         [-7.98414707e-01, -6.83672667e-01, -5.91662586e-01, ...,\n          -9.33723807e-01, -9.55373287e-01, -7.99497247e-01],\n         [-8.00579727e-01, -6.91250026e-01, -5.87332726e-01, ...,\n          -9.30476427e-01, -9.51043308e-01, -8.13569427e-01],\n         [-8.00579727e-01, -7.17229426e-01, -6.02487326e-01, ...,\n          -9.36971247e-01, -9.55373287e-01, -7.89754987e-01]],\n\n        ...,\n\n        [[-8.16816807e-01, -7.18311906e-01, -5.94910026e-01, ...,\n          -9.04497027e-01, -9.15321767e-01, -7.62693167e-01],\n         [-8.16816807e-01, -7.23724186e-01, -6.02487326e-01, ...,\n          -8.98002267e-01, -9.17486727e-01, -7.71352947e-01],\n         [-8.16816807e-01, -7.15064406e-01, -5.99239886e-01, ...,\n          -8.95837247e-01, -9.10991907e-01, -7.63775706e-01],\n         ...,\n         [-8.05992067e-01, -6.84755147e-01, -5.74343026e-01, ...,\n          -9.01249647e-01, -9.09909427e-01, -7.57280886e-01],\n         [-8.07074606e-01, -6.95579886e-01, -5.64600766e-01, ...,\n          -8.92589867e-01, -9.03414547e-01, -7.47538626e-01],\n         [-8.09239507e-01, -7.05322146e-01, -5.77590466e-01, ...,\n          -8.88260007e-01, -9.05579507e-01, -7.42126167e-01]],\n\n        [[-8.11404467e-01, -6.99909866e-01, -5.67848206e-01, ...,\n          -8.86094987e-01, -9.05579507e-01, -7.45373666e-01],\n         [-8.11404467e-01, -6.90167606e-01, -5.78672945e-01, ...,\n          -8.82847607e-01, -8.98002267e-01, -7.55115926e-01],\n         [-8.10321987e-01, -7.20476806e-01, -5.92745066e-01, ...,\n          -8.94754767e-01, -9.01249647e-01, -7.65940666e-01],\n         ...,\n         [-8.08156967e-01, -7.18311906e-01, -5.90580165e-01, ...,\n          -9.12074387e-01, -9.21816647e-01, -7.71352947e-01],\n         [-8.08156967e-01, -7.04239666e-01, -6.01404846e-01, ...,\n          -9.06661987e-01, -9.20734167e-01, -7.76765347e-01],\n         [-8.11404467e-01, -7.28054166e-01, -5.95992506e-01, ...,\n          -9.08827007e-01, -9.27228987e-01, -7.77847826e-01]],\n\n        [[-8.14651847e-01, -7.07487166e-01, -5.97074986e-01, ...,\n          -9.07744527e-01, -9.21816647e-01, -7.89754987e-01],\n         [-8.15734327e-01, -7.04239666e-01, -5.87332726e-01, ...,\n          -9.02332127e-01, -9.28311527e-01, -7.65940666e-01],\n         [-8.15734327e-01, -7.19394326e-01, -5.92745066e-01, ...,\n          -9.05579507e-01, -9.22899067e-01, -7.63775706e-01],\n         ...,\n         [-8.28723967e-01, -6.95579886e-01, -6.04652286e-01, ...,\n          -9.13156807e-01, -9.40218627e-01, -7.70270467e-01],\n         [-8.29806447e-01, -7.03157187e-01, -5.83002806e-01, ...,\n          -9.09909427e-01, -9.38053668e-01, -7.69188046e-01],\n         [-8.30888987e-01, -7.18311906e-01, -6.05734706e-01, ...,\n          -9.10991907e-01, -9.45631027e-01, -7.65940666e-01]]]],\n      dtype=float32)"
     },
     "execution_count": 67,
     "metadata": {},
     "output_type": "execute_result"
    }
   ],
   "source": [
    "std2 = np.std(x_r_2)\n",
    "mean2 = np.mean(x_r_2)\n",
    "\n",
    "np.add(x_r_2, -mean2, out=x_r_2, casting=\"unsafe\")\n",
    "#x_train/=std\n",
    "np.divide(x_r_2, std2, out=x_r_2, casting=\"unsafe\")"
   ],
   "metadata": {
    "collapsed": false
   }
  },
  {
   "cell_type": "code",
   "execution_count": 68,
   "outputs": [
    {
     "name": "stdout",
     "output_type": "stream",
     "text": [
      "135/135 [==============================] - 4s 31ms/step\n"
     ]
    }
   ],
   "source": [
    "prediction = model.predict(x_r_norm,batch_size=16)"
   ],
   "metadata": {
    "collapsed": false
   }
  },
  {
   "cell_type": "code",
   "execution_count": 69,
   "outputs": [
    {
     "data": {
      "text/plain": "(2160, 20, 20, 6)"
     },
     "execution_count": 69,
     "metadata": {},
     "output_type": "execute_result"
    }
   ],
   "source": [
    "prediction.shape"
   ],
   "metadata": {
    "collapsed": false
   }
  },
  {
   "cell_type": "code",
   "execution_count": 70,
   "outputs": [
    {
     "data": {
      "text/plain": "(2160, 20, 20)"
     },
     "execution_count": 70,
     "metadata": {},
     "output_type": "execute_result"
    }
   ],
   "source": [
    "pred_cat = np.argmax(prediction,axis=3)\n",
    "pred_cat.shape"
   ],
   "metadata": {
    "collapsed": false
   }
  },
  {
   "cell_type": "code",
   "execution_count": 71,
   "outputs": [],
   "source": [
    "pred_pxl = pred_cat.reshape(720,1200)"
   ],
   "metadata": {
    "collapsed": false
   }
  },
  {
   "cell_type": "code",
   "execution_count": 57,
   "outputs": [
    {
     "data": {
      "text/plain": "<Figure size 1200x1200 with 2 Axes>",
      "image/png": "[encoded data removed]"
     },
     "metadata": {},
     "output_type": "display_data"
    },
    {
     "data": {
      "text/plain": "<AxesSubplot:>"
     },
     "execution_count": 57,
     "metadata": {},
     "output_type": "execute_result"
    }
   ],
   "source": [
    "ep.plot_bands(pred_pxl,\n",
    "              cmap=ListedColormap(['green', 'purple', 'orange', 'blue', 'yellow']))"
   ],
   "metadata": {
    "collapsed": false
   }
  },
  {
   "cell_type": "code",
   "execution_count": null,
   "outputs": [],
   "source": [],
   "metadata": {
    "collapsed": false
   }
  }
 ],
 "metadata": {
  "kernelspec": {
   "display_name": "Python 3",
   "language": "python",
   "name": "python3"
  },
  "language_info": {
   "codemirror_mode": {
    "name": "ipython",
    "version": 2
   },
   "file_extension": ".py",
   "mimetype": "text/x-python",
   "name": "python",
   "nbconvert_exporter": "python",
   "pygments_lexer": "ipython2",
   "version": "2.7.6"
  }
 },
 "nbformat": 4,
 "nbformat_minor": 0
}
