{
 "cells": [
  {
   "cell_type": "code",
   "execution_count": 115,
   "metadata": {
    "collapsed": true
   },
   "outputs": [
    {
     "data": {
      "text/plain": "{'divide': 'ignore', 'over': 'warn', 'under': 'ignore', 'invalid': 'ignore'}"
     },
     "execution_count": 115,
     "metadata": {},
     "output_type": "execute_result"
    }
   ],
   "source": [
    "from glob import glob\n",
    "\n",
    "import earthpy as et\n",
    "import earthpy.spatial as es\n",
    "import earthpy.plot as ep\n",
    "\n",
    "import rasterio as rio\n",
    "from rasterio.plot import plotting_extent\n",
    "from rasterio.plot import show\n",
    "from rasterio.plot import reshape_as_raster, reshape_as_image\n",
    "\n",
    "import matplotlib.pyplot as plt\n",
    "import numpy as np\n",
    "from matplotlib.colors import ListedColormap\n",
    "\n",
    "from scipy.io import loadmat\n",
    "from sklearn.metrics import classification_report, accuracy_score\n",
    "\n",
    "import plotly.graph_objects as go\n",
    "\n",
    "np.seterr(divide='ignore', invalid='ignore')"
   ]
  },
  {
   "cell_type": "code",
   "execution_count": 116,
   "outputs": [],
   "source": [
    "def getFilesNew(basePath):\n",
    "    dirs = glob(basePath+\"/*/\")\n",
    "    #print(dirs)\n",
    "    for _dir in dirs:\n",
    "        files = glob(_dir+\"*B?*.tiff\")\n",
    "        #print(files)\n",
    "        yield files"
   ],
   "metadata": {
    "collapsed": false
   }
  },
  {
   "cell_type": "code",
   "execution_count": 117,
   "outputs": [],
   "source": [
    "S_sentinel_bands_forest = list(getFilesNew(\"/tmp/shared/2d_dataset/forest\"))"
   ],
   "metadata": {
    "collapsed": false
   }
  },
  {
   "cell_type": "code",
   "execution_count": 118,
   "outputs": [],
   "source": [
    "S_sentinel_bands_town = list(getFilesNew(\"/tmp/shared/2d_dataset/town\"))"
   ],
   "metadata": {
    "collapsed": false
   }
  },
  {
   "cell_type": "code",
   "execution_count": 119,
   "outputs": [],
   "source": [
    "S_sentinel_bands_water = list(getFilesNew(\"/tmp/shared/2d_dataset/water\"))"
   ],
   "metadata": {
    "collapsed": false
   }
  },
  {
   "cell_type": "code",
   "execution_count": 120,
   "outputs": [],
   "source": [
    "S_sentinel_bands_field = list(getFilesNew(\"/tmp/shared/2d_dataset/field\"))"
   ],
   "metadata": {
    "collapsed": false
   }
  },
  {
   "cell_type": "code",
   "execution_count": 9,
   "outputs": [
    {
     "name": "stderr",
     "output_type": "stream",
     "text": [
      "/usr/local/lib/python3.8/dist-packages/rasterio/__init__.py:277: NotGeoreferencedWarning: Dataset has no geotransform, gcps, or rpcs. The identity matrix will be returned.\n",
      "  dataset = DatasetReader(path, driver=driver, sharing=sharing, **kwargs)\n"
     ]
    }
   ],
   "source": [
    "l_f = []\n",
    "for i in S_sentinel_bands_forest:\n",
    "    s = []\n",
    "    for j in i:\n",
    "        with rio.open(j, 'r') as f:\n",
    "            s.append(f.read(1))\n",
    "    l_f.append(s)"
   ],
   "metadata": {
    "collapsed": false
   }
  },
  {
   "cell_type": "code",
   "execution_count": 16,
   "outputs": [
    {
     "name": "stdout",
     "output_type": "stream",
     "text": [
      "Index 0 len 12\n",
      "Index 1 len 12\n",
      "Index 2 len 12\n",
      "Index 3 len 12\n",
      "Index 4 len 12\n",
      "Index 5 len 12\n",
      "Index 6 len 12\n",
      "Index 7 len 12\n",
      "Index 8 len 12\n",
      "Index 9 len 12\n",
      "Index 10 len 12\n",
      "Index 11 len 12\n",
      "Index 12 len 12\n",
      "Index 13 len 12\n",
      "Index 14 len 12\n",
      "Index 15 len 12\n",
      "Index 16 len 12\n",
      "Index 17 len 12\n",
      "Index 18 len 12\n",
      "Index 19 len 12\n",
      "Index 20 len 12\n",
      "Index 21 len 12\n",
      "Index 22 len 12\n",
      "Index 23 len 12\n",
      "Index 24 len 12\n",
      "Index 25 len 12\n",
      "Index 26 len 12\n",
      "Index 27 len 12\n",
      "Index 28 len 12\n",
      "Index 29 len 12\n",
      "Index 30 len 12\n",
      "Index 31 len 0\n",
      "Index 32 len 12\n",
      "Index 33 len 12\n",
      "Index 34 len 12\n",
      "Index 35 len 12\n",
      "Index 36 len 12\n",
      "Index 37 len 12\n",
      "Index 38 len 12\n",
      "Index 39 len 12\n",
      "Index 40 len 12\n",
      "Index 41 len 12\n",
      "Index 42 len 12\n",
      "Index 43 len 12\n",
      "Index 44 len 12\n",
      "Index 45 len 12\n",
      "Index 46 len 12\n",
      "Index 47 len 12\n",
      "Index 48 len 12\n",
      "Index 49 len 12\n",
      "Index 50 len 12\n",
      "Index 51 len 12\n",
      "Index 52 len 12\n",
      "Index 53 len 12\n",
      "Index 54 len 12\n",
      "Index 55 len 12\n",
      "Index 56 len 12\n",
      "Index 57 len 12\n",
      "Index 58 len 12\n"
     ]
    }
   ],
   "source": [
    "for idx, ll in enumerate(l_f):\n",
    "    print(\"Index \" + str(idx) + \" len \" + str(len(ll)))"
   ],
   "metadata": {
    "collapsed": false
   }
  },
  {
   "cell_type": "code",
   "execution_count": 121,
   "outputs": [],
   "source": [
    "S_sentinel_bands_sands = list(getFilesNew(\"/tmp/shared/2d_dataset/sands\"))"
   ],
   "metadata": {
    "collapsed": false
   }
  },
  {
   "cell_type": "code",
   "execution_count": 122,
   "outputs": [],
   "source": [
    "def getFilesArrayNew(paths):\n",
    "    l = []\n",
    "    for i in paths:\n",
    "        s = []\n",
    "        for j in i:\n",
    "            with rio.open(j, 'r') as f:\n",
    "                s.append(f.read(1))\n",
    "        if len(s) == 12:\n",
    "            l.append(s)\n",
    "    arr_st_new = np.stack(l)\n",
    "    return  arr_st_new"
   ],
   "metadata": {
    "collapsed": false
   }
  },
  {
   "cell_type": "code",
   "execution_count": 123,
   "outputs": [
    {
     "name": "stderr",
     "output_type": "stream",
     "text": [
      "/usr/local/lib/python3.8/dist-packages/rasterio/__init__.py:277: NotGeoreferencedWarning: Dataset has no geotransform, gcps, or rpcs. The identity matrix will be returned.\n",
      "  dataset = DatasetReader(path, driver=driver, sharing=sharing, **kwargs)\n"
     ]
    }
   ],
   "source": [
    "forest_st = getFilesArrayNew(S_sentinel_bands_forest);"
   ],
   "metadata": {
    "collapsed": false
   }
  },
  {
   "cell_type": "code",
   "execution_count": 124,
   "outputs": [],
   "source": [
    "town_st = getFilesArrayNew(S_sentinel_bands_town);"
   ],
   "metadata": {
    "collapsed": false
   }
  },
  {
   "cell_type": "code",
   "execution_count": 125,
   "outputs": [],
   "source": [
    "water_st = getFilesArrayNew(S_sentinel_bands_water);"
   ],
   "metadata": {
    "collapsed": false
   }
  },
  {
   "cell_type": "code",
   "execution_count": 126,
   "outputs": [],
   "source": [
    "field_st = getFilesArrayNew(S_sentinel_bands_field);"
   ],
   "metadata": {
    "collapsed": false
   }
  },
  {
   "cell_type": "code",
   "execution_count": 127,
   "outputs": [],
   "source": [
    "sands_st = getFilesArrayNew(S_sentinel_bands_sands);"
   ],
   "metadata": {
    "collapsed": false
   }
  },
  {
   "cell_type": "code",
   "execution_count": null,
   "outputs": [],
   "source": [],
   "metadata": {
    "collapsed": false
   }
  },
  {
   "cell_type": "code",
   "execution_count": 14,
   "outputs": [
    {
     "data": {
      "text/plain": "(55, 12, 100, 100)"
     },
     "execution_count": 14,
     "metadata": {},
     "output_type": "execute_result"
    }
   ],
   "source": [
    "town_st.shape"
   ],
   "metadata": {
    "collapsed": false
   }
  },
  {
   "cell_type": "code",
   "execution_count": 128,
   "outputs": [],
   "source": [
    "town_st2 = np.moveaxis(town_st, 1, -1)"
   ],
   "metadata": {
    "collapsed": false
   }
  },
  {
   "cell_type": "code",
   "execution_count": 129,
   "outputs": [],
   "source": [
    "water_st2 = np.moveaxis(water_st, 1, -1)"
   ],
   "metadata": {
    "collapsed": false
   }
  },
  {
   "cell_type": "code",
   "execution_count": 130,
   "outputs": [],
   "source": [
    "field_st2 = np.moveaxis(field_st, 1, -1)"
   ],
   "metadata": {
    "collapsed": false
   }
  },
  {
   "cell_type": "code",
   "execution_count": 131,
   "outputs": [],
   "source": [
    "sands_st2 = np.moveaxis(sands_st, 1, -1)"
   ],
   "metadata": {
    "collapsed": false
   }
  },
  {
   "cell_type": "code",
   "execution_count": 132,
   "outputs": [],
   "source": [
    "forest_st2 = np.moveaxis(forest_st, 1, -1)"
   ],
   "metadata": {
    "collapsed": false
   }
  },
  {
   "cell_type": "code",
   "execution_count": 133,
   "outputs": [],
   "source": [
    "town_st3 = town_st2.reshape(-1, 20,20,12)"
   ],
   "metadata": {
    "collapsed": false
   }
  },
  {
   "cell_type": "code",
   "execution_count": 134,
   "outputs": [],
   "source": [
    "water_st3 = water_st2.reshape(-1, 20,20,12)"
   ],
   "metadata": {
    "collapsed": false
   }
  },
  {
   "cell_type": "code",
   "execution_count": 135,
   "outputs": [],
   "source": [
    "field_st3 = field_st2.reshape(-1, 20,20,12)"
   ],
   "metadata": {
    "collapsed": false
   }
  },
  {
   "cell_type": "code",
   "execution_count": 136,
   "outputs": [],
   "source": [
    "sands_st3 = sands_st2.reshape(-1, 20,20,12)"
   ],
   "metadata": {
    "collapsed": false
   }
  },
  {
   "cell_type": "code",
   "execution_count": 137,
   "outputs": [],
   "source": [
    "forest_st3 = forest_st2.reshape(-1, 20,20,12)"
   ],
   "metadata": {
    "collapsed": false
   }
  },
  {
   "cell_type": "code",
   "execution_count": 138,
   "outputs": [
    {
     "data": {
      "text/plain": "(7375, 20, 20, 12)"
     },
     "execution_count": 138,
     "metadata": {},
     "output_type": "execute_result"
    }
   ],
   "source": [
    "x_data = np.append(field_st3, sands_st3,axis=0)\n",
    "x_data = np.append(x_data, town_st3,axis=0)\n",
    "x_data = np.append(x_data, water_st3, axis=0)\n",
    "x_data = np.append(x_data, forest_st3, axis=0)\n",
    "x_data.shape"
   ],
   "metadata": {
    "collapsed": false
   }
  },
  {
   "cell_type": "code",
   "execution_count": 139,
   "outputs": [],
   "source": [
    "y_town = np.full((town_st3.shape[0],town_st3.shape[1],town_st3.shape[2]),3)\n",
    "y_water = np.full((water_st3.shape[0],water_st3.shape[1],water_st3.shape[2]),4)\n",
    "y_field = np.full((field_st3.shape[0],field_st3.shape[1],field_st3.shape[2]),1)\n",
    "y_sands = np.full((sands_st3.shape[0],sands_st3.shape[1],sands_st3.shape[2]),2)\n",
    "y_forest = np.full((forest_st3.shape[0],forest_st3.shape[1],forest_st3.shape[2]),5)"
   ],
   "metadata": {
    "collapsed": false
   }
  },
  {
   "cell_type": "code",
   "execution_count": 140,
   "outputs": [],
   "source": [
    "y_data = np.append(y_field, y_sands,axis=0)\n",
    "y_data = np.append(y_data, y_town, axis=0)\n",
    "y_data = np.append(y_data, y_water, axis=0)\n",
    "y_data = np.append(y_data, y_forest, axis=0)"
   ],
   "metadata": {
    "collapsed": false
   }
  },
  {
   "cell_type": "code",
   "execution_count": 141,
   "outputs": [
    {
     "data": {
      "text/plain": "(7375, 20, 20)"
     },
     "execution_count": 141,
     "metadata": {},
     "output_type": "execute_result"
    }
   ],
   "source": [
    "y_data.shape"
   ],
   "metadata": {
    "collapsed": false
   }
  },
  {
   "cell_type": "code",
   "execution_count": 28,
   "outputs": [
    {
     "ename": "NameError",
     "evalue": "name 't_st' is not defined",
     "output_type": "error",
     "traceback": [
      "\u001B[0;31m---------------------------------------------------------------------------\u001B[0m",
      "\u001B[0;31mNameError\u001B[0m                                 Traceback (most recent call last)",
      "Input \u001B[0;32mIn [28]\u001B[0m, in \u001B[0;36m<cell line: 1>\u001B[0;34m()\u001B[0m\n\u001B[0;32m----> 1\u001B[0m t_sst \u001B[38;5;241m=\u001B[39m \u001B[43mt_st\u001B[49m\u001B[38;5;241m.\u001B[39mreshape(\u001B[38;5;241m-\u001B[39m\u001B[38;5;241m1\u001B[39m, \u001B[38;5;241m20\u001B[39m,\u001B[38;5;241m20\u001B[39m,\u001B[38;5;241m12\u001B[39m)\n",
      "\u001B[0;31mNameError\u001B[0m: name 't_st' is not defined"
     ]
    }
   ],
   "source": [
    "t_sst = t_st.reshape(-1, 20,20,12)"
   ],
   "metadata": {
    "collapsed": false
   }
  },
  {
   "cell_type": "code",
   "execution_count": 38,
   "outputs": [],
   "source": [
    "#Let's import some important Libraries\n",
    "import tensorflow as tf\n",
    "from keras.models import Sequential, Model\n",
    "from keras.layers import Dense, Input\n",
    "from keras.utils import np_utils"
   ],
   "metadata": {
    "collapsed": false
   }
  },
  {
   "cell_type": "code",
   "execution_count": 142,
   "outputs": [],
   "source": [
    "y_data_train_cate = np_utils.to_categorical(y_data)"
   ],
   "metadata": {
    "collapsed": false
   }
  },
  {
   "cell_type": "code",
   "execution_count": 40,
   "outputs": [],
   "source": [
    "import numpy as np # linear algebra\n",
    "import pandas as pd # data processing, CSV file I/O (e.g. pd.read_csv)\n",
    "import matplotlib.pyplot as plt\n",
    "import pandas as pd"
   ],
   "metadata": {
    "collapsed": false
   }
  },
  {
   "cell_type": "code",
   "execution_count": 41,
   "outputs": [],
   "source": [
    "from keras.layers import *\n",
    "from keras.layers.convolutional import Conv2D\n",
    "from keras.layers.pooling import MaxPooling2D"
   ],
   "metadata": {
    "collapsed": false
   }
  },
  {
   "cell_type": "code",
   "execution_count": 32,
   "outputs": [
    {
     "name": "stderr",
     "output_type": "stream",
     "text": [
      "2022-11-16 17:34:03.063198: E tensorflow/stream_executor/cuda/cuda_driver.cc:271] failed call to cuInit: UNKNOWN ERROR (34)\n",
      "2022-11-16 17:34:03.063264: I tensorflow/stream_executor/cuda/cuda_diagnostics.cc:156] kernel driver does not appear to be running on this host (ae9e22e8c616): /proc/driver/nvidia/version does not exist\n",
      "2022-11-16 17:34:03.064111: I tensorflow/core/platform/cpu_feature_guard.cc:193] This TensorFlow binary is optimized with oneAPI Deep Neural Network Library (oneDNN) to use the following CPU instructions in performance-critical operations:  AVX2 FMA\n",
      "To enable them in other operations, rebuild TensorFlow with the appropriate compiler flags.\n"
     ]
    }
   ],
   "source": [
    "model_new = tf.keras.models.Sequential([\n",
    "\n",
    "])"
   ],
   "metadata": {
    "collapsed": false
   }
  },
  {
   "cell_type": "code",
   "execution_count": 33,
   "outputs": [],
   "source": [
    "model_new.compile(loss='categorical_crossentropy',optimizer='rmsprop',metrics=['accuracy','MeanSquaredError'])"
   ],
   "metadata": {
    "collapsed": false
   }
  },
  {
   "cell_type": "code",
   "execution_count": 34,
   "outputs": [
    {
     "ename": "ValueError",
     "evalue": "This model has not yet been built. Build the model first by calling `build()` or by calling the model on a batch of data.",
     "output_type": "error",
     "traceback": [
      "\u001B[0;31m---------------------------------------------------------------------------\u001B[0m",
      "\u001B[0;31mValueError\u001B[0m                                Traceback (most recent call last)",
      "Input \u001B[0;32mIn [34]\u001B[0m, in \u001B[0;36m<cell line: 1>\u001B[0;34m()\u001B[0m\n\u001B[0;32m----> 1\u001B[0m \u001B[43mmodel_new\u001B[49m\u001B[38;5;241;43m.\u001B[39;49m\u001B[43msummary\u001B[49m\u001B[43m(\u001B[49m\u001B[43m)\u001B[49m\n",
      "File \u001B[0;32m/usr/local/lib/python3.8/dist-packages/keras/engine/training.py:2869\u001B[0m, in \u001B[0;36mModel.summary\u001B[0;34m(self, line_length, positions, print_fn, expand_nested, show_trainable)\u001B[0m\n\u001B[1;32m   2847\u001B[0m \u001B[38;5;124;03m\"\"\"Prints a string summary of the network.\u001B[39;00m\n\u001B[1;32m   2848\u001B[0m \n\u001B[1;32m   2849\u001B[0m \u001B[38;5;124;03mArgs:\u001B[39;00m\n\u001B[0;32m   (...)\u001B[0m\n\u001B[1;32m   2866\u001B[0m \u001B[38;5;124;03m    ValueError: if `summary()` is called before the model is built.\u001B[39;00m\n\u001B[1;32m   2867\u001B[0m \u001B[38;5;124;03m\"\"\"\u001B[39;00m\n\u001B[1;32m   2868\u001B[0m \u001B[38;5;28;01mif\u001B[39;00m \u001B[38;5;129;01mnot\u001B[39;00m \u001B[38;5;28mself\u001B[39m\u001B[38;5;241m.\u001B[39mbuilt:\n\u001B[0;32m-> 2869\u001B[0m   \u001B[38;5;28;01mraise\u001B[39;00m \u001B[38;5;167;01mValueError\u001B[39;00m(\n\u001B[1;32m   2870\u001B[0m       \u001B[38;5;124m'\u001B[39m\u001B[38;5;124mThis model has not yet been built. \u001B[39m\u001B[38;5;124m'\u001B[39m\n\u001B[1;32m   2871\u001B[0m       \u001B[38;5;124m'\u001B[39m\u001B[38;5;124mBuild the model first by calling `build()` or by calling \u001B[39m\u001B[38;5;124m'\u001B[39m\n\u001B[1;32m   2872\u001B[0m       \u001B[38;5;124m'\u001B[39m\u001B[38;5;124mthe model on a batch of data.\u001B[39m\u001B[38;5;124m'\u001B[39m)\n\u001B[1;32m   2873\u001B[0m layer_utils\u001B[38;5;241m.\u001B[39mprint_summary(\n\u001B[1;32m   2874\u001B[0m     \u001B[38;5;28mself\u001B[39m,\n\u001B[1;32m   2875\u001B[0m     line_length\u001B[38;5;241m=\u001B[39mline_length,\n\u001B[0;32m   (...)\u001B[0m\n\u001B[1;32m   2878\u001B[0m     expand_nested\u001B[38;5;241m=\u001B[39mexpand_nested,\n\u001B[1;32m   2879\u001B[0m     show_trainable\u001B[38;5;241m=\u001B[39mshow_trainable)\n",
      "\u001B[0;31mValueError\u001B[0m: This model has not yet been built. Build the model first by calling `build()` or by calling the model on a batch of data."
     ]
    }
   ],
   "source": [
    "model_new.summary()"
   ],
   "metadata": {
    "collapsed": false
   }
  },
  {
   "cell_type": "code",
   "execution_count": 143,
   "outputs": [],
   "source": [
    "inputs = Input(shape=(20,20,12))\n",
    "x = Conv2D(32, 3,strides=2, padding=\"same\")(inputs)\n",
    "x = BatchNormalization()(x)\n",
    "x = Activation(\"relu\")(x)\n",
    "\n",
    "previous_block_activation = x\n",
    "\n",
    "for filters in [32, 64, 128, 256]:\n",
    "    x = Activation(\"relu\")(x)\n",
    "    x = SeparableConv2D(filters, 3, padding=\"same\")(x)\n",
    "    x = BatchNormalization()(x)\n",
    "\n",
    "    x = Activation(\"relu\")(x)\n",
    "    x = SeparableConv2D(filters, 3, padding=\"same\")(x)\n",
    "    x = BatchNormalization()(x)\n",
    "\n",
    "    x = MaxPooling2D(3, strides=2, padding=\"same\")(x)\n",
    "\n",
    "    residual = Conv2D(filters, 1, strides=2, padding=\"same\")(previous_block_activation)\n",
    "    x = add([x, residual])\n",
    "    previous_block_activation = x\n",
    "\n",
    "for filters in [256, 128, 64]:\n",
    "    x = Activation(\"relu\")(x)\n",
    "    x = Conv2DTranspose(filters, 3, padding=\"same\")(x)\n",
    "    x = BatchNormalization()(x)\n",
    "\n",
    "    x = Activation(\"relu\")(x)\n",
    "    x = Conv2DTranspose(filters, 3, padding=\"same\")(x)\n",
    "    x = BatchNormalization()(x)\n",
    "\n",
    "    x = UpSampling2D(2)(x)\n",
    "\n",
    "    residual = UpSampling2D(2)(previous_block_activation)\n",
    "    residual = Conv2D(filters, 1, padding=\"same\")(residual)\n",
    "    x = add([x, residual])  # Add back residual\n",
    "    previous_block_activation = x\n",
    "\n",
    "x = Activation(\"relu\")(x)\n",
    "x = Conv2DTranspose(32, 3, padding=\"same\")(x)\n",
    "x = BatchNormalization()(x)\n",
    "\n",
    "x = Activation(\"relu\")(x)\n",
    "x = Conv2DTranspose(32, 3, padding=\"same\")(x)\n",
    "x = BatchNormalization()(x)\n",
    "\n",
    "x = UpSampling2D(5)(x)\n",
    "x = MaxPooling2D(2)(x)\n",
    "\n",
    "residual = UpSampling2D(5)(previous_block_activation)\n",
    "residual = MaxPooling2D(2)(residual)\n",
    "residual = Conv2D(32, 1, padding=\"same\")(residual)\n",
    "x = add([x, residual])  # Add back residual\n",
    "\n",
    "outputs = Conv2D(6, (3,3), activation=\"softmax\", padding=\"same\")(x)\n",
    "#outputs = Dense(6)(outputs)\n",
    "#outputs = Reshape((20,20,6))(outputs)\n",
    "outputs = Activation(\"relu\")(outputs)\n",
    "#outputs = Reshape((10,10,6))(outputs)"
   ],
   "metadata": {
    "collapsed": false
   }
  },
  {
   "cell_type": "code",
   "execution_count": 144,
   "outputs": [
    {
     "data": {
      "text/plain": "TensorShape([None, 8, 8, 64])"
     },
     "execution_count": 144,
     "metadata": {},
     "output_type": "execute_result"
    }
   ],
   "source": [
    "previous_block_activation.shape"
   ],
   "metadata": {
    "collapsed": false
   }
  },
  {
   "cell_type": "code",
   "execution_count": 145,
   "outputs": [],
   "source": [
    "model = Model(inputs, outputs)"
   ],
   "metadata": {
    "collapsed": false
   }
  },
  {
   "cell_type": "code",
   "execution_count": 146,
   "outputs": [],
   "source": [
    "model.compile(loss='categorical_crossentropy',optimizer='rmsprop',metrics=['accuracy','MeanSquaredError'])"
   ],
   "metadata": {
    "collapsed": false
   }
  },
  {
   "cell_type": "code",
   "execution_count": 147,
   "outputs": [
    {
     "name": "stdout",
     "output_type": "stream",
     "text": [
      "Model: \"model_4\"\n",
      "__________________________________________________________________________________________________\n",
      " Layer (type)                   Output Shape         Param #     Connected to                     \n",
      "==================================================================================================\n",
      " input_5 (InputLayer)           [(None, 20, 20, 12)  0           []                               \n",
      "                                ]                                                                 \n",
      "                                                                                                  \n",
      " conv2d_40 (Conv2D)             (None, 10, 10, 32)   3488        ['input_5[0][0]']                \n",
      "                                                                                                  \n",
      " batch_normalization_68 (BatchN  (None, 10, 10, 32)  128         ['conv2d_40[0][0]']              \n",
      " ormalization)                                                                                    \n",
      "                                                                                                  \n",
      " activation_72 (Activation)     (None, 10, 10, 32)   0           ['batch_normalization_68[0][0]'] \n",
      "                                                                                                  \n",
      " activation_73 (Activation)     (None, 10, 10, 32)   0           ['activation_72[0][0]']          \n",
      "                                                                                                  \n",
      " separable_conv2d_32 (Separable  (None, 10, 10, 32)  1344        ['activation_73[0][0]']          \n",
      " Conv2D)                                                                                          \n",
      "                                                                                                  \n",
      " batch_normalization_69 (BatchN  (None, 10, 10, 32)  128         ['separable_conv2d_32[0][0]']    \n",
      " ormalization)                                                                                    \n",
      "                                                                                                  \n",
      " activation_74 (Activation)     (None, 10, 10, 32)   0           ['batch_normalization_69[0][0]'] \n",
      "                                                                                                  \n",
      " separable_conv2d_33 (Separable  (None, 10, 10, 32)  1344        ['activation_74[0][0]']          \n",
      " Conv2D)                                                                                          \n",
      "                                                                                                  \n",
      " batch_normalization_70 (BatchN  (None, 10, 10, 32)  128         ['separable_conv2d_33[0][0]']    \n",
      " ormalization)                                                                                    \n",
      "                                                                                                  \n",
      " max_pooling2d_24 (MaxPooling2D  (None, 5, 5, 32)    0           ['batch_normalization_70[0][0]'] \n",
      " )                                                                                                \n",
      "                                                                                                  \n",
      " conv2d_41 (Conv2D)             (None, 5, 5, 32)     1056        ['activation_72[0][0]']          \n",
      "                                                                                                  \n",
      " add_32 (Add)                   (None, 5, 5, 32)     0           ['max_pooling2d_24[0][0]',       \n",
      "                                                                  'conv2d_41[0][0]']              \n",
      "                                                                                                  \n",
      " activation_75 (Activation)     (None, 5, 5, 32)     0           ['add_32[0][0]']                 \n",
      "                                                                                                  \n",
      " separable_conv2d_34 (Separable  (None, 5, 5, 64)    2400        ['activation_75[0][0]']          \n",
      " Conv2D)                                                                                          \n",
      "                                                                                                  \n",
      " batch_normalization_71 (BatchN  (None, 5, 5, 64)    256         ['separable_conv2d_34[0][0]']    \n",
      " ormalization)                                                                                    \n",
      "                                                                                                  \n",
      " activation_76 (Activation)     (None, 5, 5, 64)     0           ['batch_normalization_71[0][0]'] \n",
      "                                                                                                  \n",
      " separable_conv2d_35 (Separable  (None, 5, 5, 64)    4736        ['activation_76[0][0]']          \n",
      " Conv2D)                                                                                          \n",
      "                                                                                                  \n",
      " batch_normalization_72 (BatchN  (None, 5, 5, 64)    256         ['separable_conv2d_35[0][0]']    \n",
      " ormalization)                                                                                    \n",
      "                                                                                                  \n",
      " max_pooling2d_25 (MaxPooling2D  (None, 3, 3, 64)    0           ['batch_normalization_72[0][0]'] \n",
      " )                                                                                                \n",
      "                                                                                                  \n",
      " conv2d_42 (Conv2D)             (None, 3, 3, 64)     2112        ['add_32[0][0]']                 \n",
      "                                                                                                  \n",
      " add_33 (Add)                   (None, 3, 3, 64)     0           ['max_pooling2d_25[0][0]',       \n",
      "                                                                  'conv2d_42[0][0]']              \n",
      "                                                                                                  \n",
      " activation_77 (Activation)     (None, 3, 3, 64)     0           ['add_33[0][0]']                 \n",
      "                                                                                                  \n",
      " separable_conv2d_36 (Separable  (None, 3, 3, 128)   8896        ['activation_77[0][0]']          \n",
      " Conv2D)                                                                                          \n",
      "                                                                                                  \n",
      " batch_normalization_73 (BatchN  (None, 3, 3, 128)   512         ['separable_conv2d_36[0][0]']    \n",
      " ormalization)                                                                                    \n",
      "                                                                                                  \n",
      " activation_78 (Activation)     (None, 3, 3, 128)    0           ['batch_normalization_73[0][0]'] \n",
      "                                                                                                  \n",
      " separable_conv2d_37 (Separable  (None, 3, 3, 128)   17664       ['activation_78[0][0]']          \n",
      " Conv2D)                                                                                          \n",
      "                                                                                                  \n",
      " batch_normalization_74 (BatchN  (None, 3, 3, 128)   512         ['separable_conv2d_37[0][0]']    \n",
      " ormalization)                                                                                    \n",
      "                                                                                                  \n",
      " max_pooling2d_26 (MaxPooling2D  (None, 2, 2, 128)   0           ['batch_normalization_74[0][0]'] \n",
      " )                                                                                                \n",
      "                                                                                                  \n",
      " conv2d_43 (Conv2D)             (None, 2, 2, 128)    8320        ['add_33[0][0]']                 \n",
      "                                                                                                  \n",
      " add_34 (Add)                   (None, 2, 2, 128)    0           ['max_pooling2d_26[0][0]',       \n",
      "                                                                  'conv2d_43[0][0]']              \n",
      "                                                                                                  \n",
      " activation_79 (Activation)     (None, 2, 2, 128)    0           ['add_34[0][0]']                 \n",
      "                                                                                                  \n",
      " separable_conv2d_38 (Separable  (None, 2, 2, 256)   34176       ['activation_79[0][0]']          \n",
      " Conv2D)                                                                                          \n",
      "                                                                                                  \n",
      " batch_normalization_75 (BatchN  (None, 2, 2, 256)   1024        ['separable_conv2d_38[0][0]']    \n",
      " ormalization)                                                                                    \n",
      "                                                                                                  \n",
      " activation_80 (Activation)     (None, 2, 2, 256)    0           ['batch_normalization_75[0][0]'] \n",
      "                                                                                                  \n",
      " separable_conv2d_39 (Separable  (None, 2, 2, 256)   68096       ['activation_80[0][0]']          \n",
      " Conv2D)                                                                                          \n",
      "                                                                                                  \n",
      " batch_normalization_76 (BatchN  (None, 2, 2, 256)   1024        ['separable_conv2d_39[0][0]']    \n",
      " ormalization)                                                                                    \n",
      "                                                                                                  \n",
      " max_pooling2d_27 (MaxPooling2D  (None, 1, 1, 256)   0           ['batch_normalization_76[0][0]'] \n",
      " )                                                                                                \n",
      "                                                                                                  \n",
      " conv2d_44 (Conv2D)             (None, 1, 1, 256)    33024       ['add_34[0][0]']                 \n",
      "                                                                                                  \n",
      " add_35 (Add)                   (None, 1, 1, 256)    0           ['max_pooling2d_27[0][0]',       \n",
      "                                                                  'conv2d_44[0][0]']              \n",
      "                                                                                                  \n",
      " activation_81 (Activation)     (None, 1, 1, 256)    0           ['add_35[0][0]']                 \n",
      "                                                                                                  \n",
      " conv2d_transpose_32 (Conv2DTra  (None, 1, 1, 256)   590080      ['activation_81[0][0]']          \n",
      " nspose)                                                                                          \n",
      "                                                                                                  \n",
      " batch_normalization_77 (BatchN  (None, 1, 1, 256)   1024        ['conv2d_transpose_32[0][0]']    \n",
      " ormalization)                                                                                    \n",
      "                                                                                                  \n",
      " activation_82 (Activation)     (None, 1, 1, 256)    0           ['batch_normalization_77[0][0]'] \n",
      "                                                                                                  \n",
      " conv2d_transpose_33 (Conv2DTra  (None, 1, 1, 256)   590080      ['activation_82[0][0]']          \n",
      " nspose)                                                                                          \n",
      "                                                                                                  \n",
      " batch_normalization_78 (BatchN  (None, 1, 1, 256)   1024        ['conv2d_transpose_33[0][0]']    \n",
      " ormalization)                                                                                    \n",
      "                                                                                                  \n",
      " up_sampling2d_33 (UpSampling2D  (None, 2, 2, 256)   0           ['add_35[0][0]']                 \n",
      " )                                                                                                \n",
      "                                                                                                  \n",
      " up_sampling2d_32 (UpSampling2D  (None, 2, 2, 256)   0           ['batch_normalization_78[0][0]'] \n",
      " )                                                                                                \n",
      "                                                                                                  \n",
      " conv2d_45 (Conv2D)             (None, 2, 2, 256)    65792       ['up_sampling2d_33[0][0]']       \n",
      "                                                                                                  \n",
      " add_36 (Add)                   (None, 2, 2, 256)    0           ['up_sampling2d_32[0][0]',       \n",
      "                                                                  'conv2d_45[0][0]']              \n",
      "                                                                                                  \n",
      " activation_83 (Activation)     (None, 2, 2, 256)    0           ['add_36[0][0]']                 \n",
      "                                                                                                  \n",
      " conv2d_transpose_34 (Conv2DTra  (None, 2, 2, 128)   295040      ['activation_83[0][0]']          \n",
      " nspose)                                                                                          \n",
      "                                                                                                  \n",
      " batch_normalization_79 (BatchN  (None, 2, 2, 128)   512         ['conv2d_transpose_34[0][0]']    \n",
      " ormalization)                                                                                    \n",
      "                                                                                                  \n",
      " activation_84 (Activation)     (None, 2, 2, 128)    0           ['batch_normalization_79[0][0]'] \n",
      "                                                                                                  \n",
      " conv2d_transpose_35 (Conv2DTra  (None, 2, 2, 128)   147584      ['activation_84[0][0]']          \n",
      " nspose)                                                                                          \n",
      "                                                                                                  \n",
      " batch_normalization_80 (BatchN  (None, 2, 2, 128)   512         ['conv2d_transpose_35[0][0]']    \n",
      " ormalization)                                                                                    \n",
      "                                                                                                  \n",
      " up_sampling2d_35 (UpSampling2D  (None, 4, 4, 256)   0           ['add_36[0][0]']                 \n",
      " )                                                                                                \n",
      "                                                                                                  \n",
      " up_sampling2d_34 (UpSampling2D  (None, 4, 4, 128)   0           ['batch_normalization_80[0][0]'] \n",
      " )                                                                                                \n",
      "                                                                                                  \n",
      " conv2d_46 (Conv2D)             (None, 4, 4, 128)    32896       ['up_sampling2d_35[0][0]']       \n",
      "                                                                                                  \n",
      " add_37 (Add)                   (None, 4, 4, 128)    0           ['up_sampling2d_34[0][0]',       \n",
      "                                                                  'conv2d_46[0][0]']              \n",
      "                                                                                                  \n",
      " activation_85 (Activation)     (None, 4, 4, 128)    0           ['add_37[0][0]']                 \n",
      "                                                                                                  \n",
      " conv2d_transpose_36 (Conv2DTra  (None, 4, 4, 64)    73792       ['activation_85[0][0]']          \n",
      " nspose)                                                                                          \n",
      "                                                                                                  \n",
      " batch_normalization_81 (BatchN  (None, 4, 4, 64)    256         ['conv2d_transpose_36[0][0]']    \n",
      " ormalization)                                                                                    \n",
      "                                                                                                  \n",
      " activation_86 (Activation)     (None, 4, 4, 64)     0           ['batch_normalization_81[0][0]'] \n",
      "                                                                                                  \n",
      " conv2d_transpose_37 (Conv2DTra  (None, 4, 4, 64)    36928       ['activation_86[0][0]']          \n",
      " nspose)                                                                                          \n",
      "                                                                                                  \n",
      " batch_normalization_82 (BatchN  (None, 4, 4, 64)    256         ['conv2d_transpose_37[0][0]']    \n",
      " ormalization)                                                                                    \n",
      "                                                                                                  \n",
      " up_sampling2d_37 (UpSampling2D  (None, 8, 8, 128)   0           ['add_37[0][0]']                 \n",
      " )                                                                                                \n",
      "                                                                                                  \n",
      " up_sampling2d_36 (UpSampling2D  (None, 8, 8, 64)    0           ['batch_normalization_82[0][0]'] \n",
      " )                                                                                                \n",
      "                                                                                                  \n",
      " conv2d_47 (Conv2D)             (None, 8, 8, 64)     8256        ['up_sampling2d_37[0][0]']       \n",
      "                                                                                                  \n",
      " add_38 (Add)                   (None, 8, 8, 64)     0           ['up_sampling2d_36[0][0]',       \n",
      "                                                                  'conv2d_47[0][0]']              \n",
      "                                                                                                  \n",
      " activation_87 (Activation)     (None, 8, 8, 64)     0           ['add_38[0][0]']                 \n",
      "                                                                                                  \n",
      " conv2d_transpose_38 (Conv2DTra  (None, 8, 8, 32)    18464       ['activation_87[0][0]']          \n",
      " nspose)                                                                                          \n",
      "                                                                                                  \n",
      " batch_normalization_83 (BatchN  (None, 8, 8, 32)    128         ['conv2d_transpose_38[0][0]']    \n",
      " ormalization)                                                                                    \n",
      "                                                                                                  \n",
      " activation_88 (Activation)     (None, 8, 8, 32)     0           ['batch_normalization_83[0][0]'] \n",
      "                                                                                                  \n",
      " conv2d_transpose_39 (Conv2DTra  (None, 8, 8, 32)    9248        ['activation_88[0][0]']          \n",
      " nspose)                                                                                          \n",
      "                                                                                                  \n",
      " batch_normalization_84 (BatchN  (None, 8, 8, 32)    128         ['conv2d_transpose_39[0][0]']    \n",
      " ormalization)                                                                                    \n",
      "                                                                                                  \n",
      " up_sampling2d_39 (UpSampling2D  (None, 40, 40, 64)  0           ['add_38[0][0]']                 \n",
      " )                                                                                                \n",
      "                                                                                                  \n",
      " up_sampling2d_38 (UpSampling2D  (None, 40, 40, 32)  0           ['batch_normalization_84[0][0]'] \n",
      " )                                                                                                \n",
      "                                                                                                  \n",
      " max_pooling2d_29 (MaxPooling2D  (None, 20, 20, 64)  0           ['up_sampling2d_39[0][0]']       \n",
      " )                                                                                                \n",
      "                                                                                                  \n",
      " max_pooling2d_28 (MaxPooling2D  (None, 20, 20, 32)  0           ['up_sampling2d_38[0][0]']       \n",
      " )                                                                                                \n",
      "                                                                                                  \n",
      " conv2d_48 (Conv2D)             (None, 20, 20, 32)   2080        ['max_pooling2d_29[0][0]']       \n",
      "                                                                                                  \n",
      " add_39 (Add)                   (None, 20, 20, 32)   0           ['max_pooling2d_28[0][0]',       \n",
      "                                                                  'conv2d_48[0][0]']              \n",
      "                                                                                                  \n",
      " conv2d_49 (Conv2D)             (None, 20, 20, 6)    1734        ['add_39[0][0]']                 \n",
      "                                                                                                  \n",
      " activation_89 (Activation)     (None, 20, 20, 6)    0           ['conv2d_49[0][0]']              \n",
      "                                                                                                  \n",
      "==================================================================================================\n",
      "Total params: 2,066,438\n",
      "Trainable params: 2,062,534\n",
      "Non-trainable params: 3,904\n",
      "__________________________________________________________________________________________________\n"
     ]
    }
   ],
   "source": [
    "model.summary()"
   ],
   "metadata": {
    "collapsed": false
   }
  },
  {
   "cell_type": "code",
   "execution_count": 98,
   "outputs": [],
   "source": [
    "x_data_norm = tf.keras.utils.normalize(x_data)"
   ],
   "metadata": {
    "collapsed": false
   }
  },
  {
   "cell_type": "code",
   "execution_count": 148,
   "outputs": [],
   "source": [
    "x_train = x_data"
   ],
   "metadata": {
    "collapsed": false
   }
  },
  {
   "cell_type": "code",
   "execution_count": 149,
   "outputs": [
    {
     "data": {
      "text/plain": "array([[[[0, 6, 0, ..., 0, 6, 0],\n         [0, 6, 0, ..., 0, 6, 0],\n         [0, 6, 0, ..., 0, 6, 0],\n         ...,\n         [0, 6, 6, ..., 0, 6, 0],\n         [0, 6, 6, ..., 0, 6, 0],\n         [0, 6, 0, ..., 0, 6, 0]],\n\n        [[0, 6, 0, ..., 0, 6, 0],\n         [0, 0, 0, ..., 0, 6, 0],\n         [0, 0, 0, ..., 0, 6, 0],\n         ...,\n         [0, 6, 0, ..., 0, 6, 0],\n         [0, 6, 0, ..., 0, 6, 0],\n         [0, 6, 0, ..., 0, 6, 0]],\n\n        [[0, 6, 0, ..., 0, 6, 0],\n         [0, 6, 0, ..., 0, 6, 0],\n         [0, 0, 0, ..., 0, 6, 0],\n         ...,\n         [0, 6, 0, ..., 6, 5, 0],\n         [0, 0, 0, ..., 6, 5, 0],\n         [0, 0, 1, ..., 0, 6, 0]],\n\n        ...,\n\n        [[0, 6, 0, ..., 0, 6, 0],\n         [0, 6, 0, ..., 0, 6, 0],\n         [0, 6, 0, ..., 0, 6, 0],\n         ...,\n         [0, 0, 0, ..., 0, 6, 1],\n         [0, 0, 0, ..., 0, 6, 0],\n         [0, 6, 6, ..., 0, 6, 0]],\n\n        [[0, 6, 6, ..., 0, 6, 6],\n         [0, 6, 6, ..., 0, 6, 0],\n         [0, 6, 6, ..., 0, 6, 0],\n         ...,\n         [0, 6, 0, ..., 0, 6, 0],\n         [0, 6, 0, ..., 0, 6, 0],\n         [0, 6, 0, ..., 0, 6, 0]],\n\n        [[0, 6, 0, ..., 0, 6, 0],\n         [0, 6, 6, ..., 0, 6, 0],\n         [0, 6, 6, ..., 0, 6, 0],\n         ...,\n         [0, 6, 6, ..., 0, 6, 0],\n         [0, 6, 0, ..., 0, 6, 0],\n         [0, 6, 0, ..., 0, 6, 0]]],\n\n\n       [[[0, 6, 0, ..., 0, 6, 0],\n         [0, 6, 0, ..., 0, 6, 0],\n         [0, 6, 0, ..., 0, 6, 0],\n         ...,\n         [0, 6, 0, ..., 0, 6, 0],\n         [0, 6, 0, ..., 0, 6, 0],\n         [0, 6, 0, ..., 0, 6, 0]],\n\n        [[0, 6, 0, ..., 0, 6, 0],\n         [0, 6, 0, ..., 0, 6, 0],\n         [0, 6, 0, ..., 0, 6, 0],\n         ...,\n         [0, 6, 0, ..., 0, 6, 0],\n         [0, 6, 0, ..., 0, 6, 0],\n         [0, 6, 0, ..., 0, 6, 0]],\n\n        [[0, 6, 0, ..., 0, 6, 0],\n         [0, 6, 0, ..., 0, 6, 0],\n         [0, 6, 0, ..., 0, 6, 0],\n         ...,\n         [0, 0, 0, ..., 0, 6, 0],\n         [0, 6, 0, ..., 0, 6, 0],\n         [0, 6, 6, ..., 0, 6, 6]],\n\n        ...,\n\n        [[0, 6, 0, ..., 0, 6, 0],\n         [0, 6, 0, ..., 0, 6, 0],\n         [0, 6, 0, ..., 0, 6, 0],\n         ...,\n         [0, 6, 6, ..., 0, 6, 0],\n         [0, 6, 6, ..., 0, 6, 6],\n         [0, 6, 6, ..., 0, 6, 6]],\n\n        [[6, 6, 6, ..., 0, 6, 6],\n         [6, 6, 6, ..., 0, 6, 6],\n         [6, 6, 6, ..., 0, 6, 6],\n         ...,\n         [0, 6, 6, ..., 0, 6, 0],\n         [0, 6, 6, ..., 0, 6, 0],\n         [0, 6, 6, ..., 0, 6, 0]],\n\n        [[0, 6, 6, ..., 0, 6, 0],\n         [0, 6, 6, ..., 0, 6, 0],\n         [0, 6, 6, ..., 0, 6, 0],\n         ...,\n         [0, 6, 6, ..., 0, 6, 0],\n         [0, 6, 6, ..., 0, 6, 0],\n         [0, 6, 6, ..., 0, 6, 0]]],\n\n\n       [[[0, 6, 0, ..., 0, 6, 0],\n         [0, 6, 0, ..., 0, 6, 0],\n         [0, 6, 0, ..., 0, 6, 0],\n         ...,\n         [0, 0, 0, ..., 0, 6, 0],\n         [0, 6, 0, ..., 0, 6, 0],\n         [0, 6, 0, ..., 0, 6, 0]],\n\n        [[0, 6, 0, ..., 0, 6, 0],\n         [0, 6, 0, ..., 0, 6, 0],\n         [0, 6, 0, ..., 0, 6, 0],\n         ...,\n         [0, 6, 0, ..., 0, 6, 0],\n         [0, 6, 0, ..., 0, 6, 0],\n         [0, 6, 0, ..., 0, 6, 0]],\n\n        [[0, 6, 0, ..., 0, 6, 0],\n         [0, 6, 0, ..., 0, 6, 0],\n         [0, 6, 0, ..., 0, 6, 0],\n         ...,\n         [0, 6, 6, ..., 0, 6, 6],\n         [0, 6, 6, ..., 0, 6, 6],\n         [6, 6, 6, ..., 0, 6, 6]],\n\n        ...,\n\n        [[0, 6, 0, ..., 0, 6, 0],\n         [0, 6, 0, ..., 0, 6, 0],\n         [0, 6, 0, ..., 0, 6, 0],\n         ...,\n         [6, 6, 6, ..., 0, 6, 6],\n         [6, 6, 6, ..., 0, 6, 6],\n         [6, 6, 6, ..., 0, 6, 6]],\n\n        [[6, 6, 6, ..., 0, 6, 6],\n         [6, 6, 6, ..., 0, 6, 6],\n         [6, 6, 6, ..., 0, 6, 6],\n         ...,\n         [0, 6, 6, ..., 0, 6, 0],\n         [0, 6, 6, ..., 0, 6, 0],\n         [0, 6, 6, ..., 0, 6, 0]],\n\n        [[0, 6, 6, ..., 0, 6, 0],\n         [0, 6, 6, ..., 0, 6, 0],\n         [0, 6, 6, ..., 0, 6, 0],\n         ...,\n         [0, 6, 6, ..., 0, 6, 0],\n         [0, 6, 0, ..., 0, 6, 0],\n         [0, 6, 0, ..., 0, 6, 0]]],\n\n\n       ...,\n\n\n       [[[6, 1, 5, ..., 5, 1, 1],\n         [6, 1, 5, ..., 5, 1, 1],\n         [6, 1, 5, ..., 5, 1, 1],\n         ...,\n         [6, 1, 5, ..., 5, 1, 1],\n         [6, 1, 5, ..., 5, 1, 1],\n         [6, 1, 5, ..., 5, 1, 1]],\n\n        [[6, 1, 5, ..., 5, 1, 1],\n         [6, 1, 5, ..., 5, 1, 1],\n         [6, 1, 5, ..., 5, 1, 1],\n         ...,\n         [5, 1, 5, ..., 5, 0, 1],\n         [6, 1, 5, ..., 5, 1, 1],\n         [6, 1, 5, ..., 5, 1, 1]],\n\n        [[6, 1, 5, ..., 5, 1, 1],\n         [6, 1, 5, ..., 5, 1, 1],\n         [5, 1, 5, ..., 5, 1, 1],\n         ...,\n         [6, 1, 5, ..., 5, 1, 1],\n         [6, 1, 5, ..., 5, 1, 1],\n         [6, 1, 5, ..., 5, 1, 1]],\n\n        ...,\n\n        [[6, 1, 5, ..., 5, 1, 1],\n         [6, 1, 5, ..., 5, 1, 1],\n         [6, 1, 5, ..., 5, 1, 1],\n         ...,\n         [6, 1, 5, ..., 5, 1, 1],\n         [6, 1, 5, ..., 5, 1, 1],\n         [6, 1, 5, ..., 5, 1, 1]],\n\n        [[6, 1, 5, ..., 5, 1, 1],\n         [6, 1, 5, ..., 5, 1, 1],\n         [6, 1, 5, ..., 5, 1, 1],\n         ...,\n         [6, 1, 5, ..., 5, 1, 1],\n         [6, 1, 5, ..., 5, 1, 1],\n         [6, 1, 5, ..., 5, 1, 1]],\n\n        [[6, 1, 5, ..., 5, 2, 1],\n         [6, 1, 5, ..., 5, 1, 1],\n         [6, 1, 5, ..., 5, 1, 1],\n         ...,\n         [6, 1, 5, ..., 5, 1, 1],\n         [6, 1, 5, ..., 5, 1, 1],\n         [6, 1, 5, ..., 5, 1, 1]]],\n\n\n       [[[6, 1, 5, ..., 5, 1, 1],\n         [6, 1, 5, ..., 5, 1, 1],\n         [6, 1, 5, ..., 5, 1, 1],\n         ...,\n         [6, 1, 5, ..., 5, 1, 1],\n         [6, 1, 5, ..., 5, 1, 1],\n         [6, 1, 5, ..., 5, 1, 1]],\n\n        [[6, 1, 5, ..., 5, 1, 1],\n         [6, 1, 5, ..., 5, 1, 1],\n         [6, 1, 5, ..., 5, 1, 1],\n         ...,\n         [5, 1, 5, ..., 5, 1, 1],\n         [6, 1, 5, ..., 5, 1, 1],\n         [6, 1, 5, ..., 5, 1, 1]],\n\n        [[6, 1, 5, ..., 5, 1, 1],\n         [6, 1, 5, ..., 5, 1, 1],\n         [6, 1, 5, ..., 5, 1, 1],\n         ...,\n         [6, 1, 5, ..., 5, 1, 1],\n         [6, 1, 5, ..., 5, 1, 1],\n         [6, 1, 5, ..., 5, 1, 1]],\n\n        ...,\n\n        [[6, 1, 5, ..., 5, 1, 1],\n         [6, 1, 5, ..., 5, 1, 1],\n         [6, 1, 5, ..., 5, 1, 1],\n         ...,\n         [6, 1, 5, ..., 5, 1, 1],\n         [6, 1, 5, ..., 5, 1, 1],\n         [6, 1, 5, ..., 5, 1, 1]],\n\n        [[6, 1, 5, ..., 5, 1, 1],\n         [6, 1, 5, ..., 5, 1, 1],\n         [6, 1, 5, ..., 5, 1, 1],\n         ...,\n         [6, 1, 5, ..., 5, 1, 1],\n         [6, 1, 5, ..., 5, 1, 1],\n         [6, 1, 5, ..., 5, 1, 1]],\n\n        [[6, 1, 5, ..., 5, 1, 1],\n         [6, 1, 5, ..., 5, 1, 1],\n         [6, 1, 5, ..., 5, 1, 1],\n         ...,\n         [6, 1, 5, ..., 5, 1, 1],\n         [6, 1, 5, ..., 5, 1, 1],\n         [6, 1, 5, ..., 5, 1, 1]]],\n\n\n       [[[6, 1, 5, ..., 5, 1, 1],\n         [6, 1, 5, ..., 5, 1, 1],\n         [5, 1, 5, ..., 5, 1, 1],\n         ...,\n         [6, 1, 5, ..., 5, 1, 1],\n         [6, 1, 5, ..., 5, 1, 1],\n         [6, 1, 5, ..., 5, 1, 1]],\n\n        [[6, 1, 5, ..., 5, 1, 1],\n         [6, 1, 5, ..., 5, 1, 1],\n         [6, 1, 5, ..., 5, 1, 1],\n         ...,\n         [6, 1, 5, ..., 5, 1, 1],\n         [6, 1, 5, ..., 5, 1, 1],\n         [5, 1, 5, ..., 5, 1, 1]],\n\n        [[5, 1, 5, ..., 5, 1, 1],\n         [6, 1, 5, ..., 5, 1, 1],\n         [6, 1, 5, ..., 5, 1, 1],\n         ...,\n         [6, 1, 5, ..., 5, 1, 1],\n         [6, 1, 5, ..., 5, 1, 1],\n         [6, 1, 5, ..., 5, 1, 1]],\n\n        ...,\n\n        [[6, 1, 5, ..., 5, 1, 1],\n         [6, 1, 5, ..., 5, 1, 1],\n         [6, 1, 5, ..., 5, 1, 1],\n         ...,\n         [6, 1, 5, ..., 5, 1, 1],\n         [6, 1, 5, ..., 5, 1, 1],\n         [6, 1, 5, ..., 5, 1, 1]],\n\n        [[6, 1, 5, ..., 5, 1, 1],\n         [6, 1, 5, ..., 5, 1, 1],\n         [6, 1, 5, ..., 5, 1, 1],\n         ...,\n         [6, 1, 5, ..., 5, 1, 1],\n         [6, 1, 5, ..., 5, 1, 1],\n         [6, 1, 5, ..., 5, 1, 1]],\n\n        [[6, 1, 5, ..., 5, 1, 1],\n         [6, 1, 5, ..., 5, 1, 1],\n         [6, 1, 5, ..., 5, 1, 1],\n         ...,\n         [6, 1, 5, ..., 5, 1, 1],\n         [6, 1, 5, ..., 5, 1, 1],\n         [6, 1, 5, ..., 5, 1, 1]]]], dtype=uint8)"
     },
     "execution_count": 149,
     "metadata": {},
     "output_type": "execute_result"
    }
   ],
   "source": [
    "std = np.std(x_train)\n",
    "mean= np.mean(x_train)\n",
    "\n",
    "np.add(x_train, -mean, out=x_train, casting=\"unsafe\")\n",
    "#x_train/=std\n",
    "np.divide(x_train, std, out=x_train, casting=\"unsafe\")"
   ],
   "metadata": {
    "collapsed": false
   }
  },
  {
   "cell_type": "code",
   "execution_count": 150,
   "outputs": [
    {
     "name": "stdout",
     "output_type": "stream",
     "text": [
      "Epoch 1/10\n",
      "185/185 [==============================] - 27s 127ms/step - loss: 1.4285 - accuracy: 0.7648 - mean_squared_error: 0.0648 - val_loss: 1.4111 - val_accuracy: 0.4503 - val_mean_squared_error: 0.1165\n",
      "Epoch 2/10\n",
      "185/185 [==============================] - 23s 125ms/step - loss: 0.3289 - accuracy: 0.8860 - mean_squared_error: 0.0285 - val_loss: 2.3439 - val_accuracy: 0.0396 - val_mean_squared_error: 0.2231\n",
      "Epoch 3/10\n",
      "185/185 [==============================] - 24s 132ms/step - loss: 0.1987 - accuracy: 0.9280 - mean_squared_error: 0.0175 - val_loss: 2.5648 - val_accuracy: 0.4357 - val_mean_squared_error: 0.1565\n",
      "Epoch 4/10\n",
      "185/185 [==============================] - 24s 128ms/step - loss: 0.1749 - accuracy: 0.9488 - mean_squared_error: 0.0132 - val_loss: 6.5704 - val_accuracy: 0.1590 - val_mean_squared_error: 0.2639\n",
      "Epoch 5/10\n",
      "185/185 [==============================] - 24s 129ms/step - loss: 0.1255 - accuracy: 0.9579 - mean_squared_error: 0.0105 - val_loss: 6.3271 - val_accuracy: 0.1607 - val_mean_squared_error: 0.2576\n",
      "Epoch 6/10\n",
      "185/185 [==============================] - 23s 127ms/step - loss: 0.1078 - accuracy: 0.9659 - mean_squared_error: 0.0086 - val_loss: 11.7125 - val_accuracy: 0.0887 - val_mean_squared_error: 0.2956\n",
      "Epoch 7/10\n",
      "185/185 [==============================] - 24s 131ms/step - loss: 0.0918 - accuracy: 0.9741 - mean_squared_error: 0.0069 - val_loss: 6.3864 - val_accuracy: 0.0764 - val_mean_squared_error: 0.2827\n",
      "Epoch 8/10\n",
      "185/185 [==============================] - 24s 130ms/step - loss: 0.0824 - accuracy: 0.9750 - mean_squared_error: 0.0066 - val_loss: 8.7264 - val_accuracy: 0.2948 - val_mean_squared_error: 0.2250\n",
      "Epoch 9/10\n",
      "185/185 [==============================] - 23s 127ms/step - loss: 0.0844 - accuracy: 0.9780 - mean_squared_error: 0.0058 - val_loss: 13.0397 - val_accuracy: 0.0292 - val_mean_squared_error: 0.3160\n",
      "Epoch 10/10\n",
      "185/185 [==============================] - 24s 130ms/step - loss: 0.1222 - accuracy: 0.9744 - mean_squared_error: 0.0071 - val_loss: 5.6353 - val_accuracy: 0.1556 - val_mean_squared_error: 0.2536\n"
     ]
    }
   ],
   "source": [
    "history = model.fit(x_train,y_data_train_cate,epochs=10,batch_size=32,validation_split=0.2)"
   ],
   "metadata": {
    "collapsed": false
   }
  },
  {
   "cell_type": "code",
   "execution_count": 151,
   "outputs": [
    {
     "data": {
      "text/plain": "<Figure size 640x480 with 1 Axes>",
      "image/png": "[encoded data removed]"
     },
     "metadata": {},
     "output_type": "display_data"
    }
   ],
   "source": [
    "plt.plot(history.history['accuracy'])\n",
    "plt.plot(history.history['val_accuracy'])\n",
    "plt.title('Model Accuracy')\n",
    "plt.ylabel('Accuracy')\n",
    "plt.xlabel('#f Iterations')\n",
    "plt.legend(['Train', 'Test'], loc='upper left')\n",
    "plt.show()"
   ],
   "metadata": {
    "collapsed": false
   }
  },
  {
   "cell_type": "markdown",
   "source": [
    "## Check"
   ],
   "metadata": {
    "collapsed": false
   }
  },
  {
   "cell_type": "code",
   "execution_count": 152,
   "outputs": [
    {
     "data": {
      "text/plain": "['/tmp/shared/test_images2/2022-08-24-00_00_2022-08-24-23_59_Sentinel-2_L2A_B01_(Raw).tiff',\n '/tmp/shared/test_images2/2022-08-24-00_00_2022-08-24-23_59_Sentinel-2_L2A_B02_(Raw).tiff',\n '/tmp/shared/test_images2/2022-08-24-00_00_2022-08-24-23_59_Sentinel-2_L2A_B03_(Raw).tiff',\n '/tmp/shared/test_images2/2022-08-24-00_00_2022-08-24-23_59_Sentinel-2_L2A_B04_(Raw).tiff',\n '/tmp/shared/test_images2/2022-08-24-00_00_2022-08-24-23_59_Sentinel-2_L2A_B05_(Raw).tiff',\n '/tmp/shared/test_images2/2022-08-24-00_00_2022-08-24-23_59_Sentinel-2_L2A_B06_(Raw).tiff',\n '/tmp/shared/test_images2/2022-08-24-00_00_2022-08-24-23_59_Sentinel-2_L2A_B07_(Raw).tiff',\n '/tmp/shared/test_images2/2022-08-24-00_00_2022-08-24-23_59_Sentinel-2_L2A_B08_(Raw).tiff',\n '/tmp/shared/test_images2/2022-08-24-00_00_2022-08-24-23_59_Sentinel-2_L2A_B09_(Raw).tiff',\n '/tmp/shared/test_images2/2022-08-24-00_00_2022-08-24-23_59_Sentinel-2_L2A_B11_(Raw).tiff',\n '/tmp/shared/test_images2/2022-08-24-00_00_2022-08-24-23_59_Sentinel-2_L2A_B12_(Raw).tiff',\n '/tmp/shared/test_images2/2022-08-24-00_00_2022-08-24-23_59_Sentinel-2_L2A_B8A_(Raw).tiff']"
     },
     "execution_count": 152,
     "metadata": {},
     "output_type": "execute_result"
    }
   ],
   "source": [
    "from glob import glob\n",
    "S_sentinel_bands = glob(\"/tmp/shared/test_images2/*B?*.tiff\")\n",
    "S_sentinel_bands.sort()\n",
    "S_sentinel_bands"
   ],
   "metadata": {
    "collapsed": false
   }
  },
  {
   "cell_type": "code",
   "execution_count": 153,
   "outputs": [],
   "source": [
    "l = []\n",
    "for i in S_sentinel_bands:\n",
    "  with rio.open(i, 'r') as f:\n",
    "    l.append(f.read(1))"
   ],
   "metadata": {
    "collapsed": false
   }
  },
  {
   "cell_type": "code",
   "execution_count": 154,
   "outputs": [],
   "source": [
    "arr_st = np.stack(l)"
   ],
   "metadata": {
    "collapsed": false
   }
  },
  {
   "cell_type": "code",
   "execution_count": 155,
   "outputs": [
    {
     "data": {
      "text/plain": "(733, 1250, 12)"
     },
     "execution_count": 155,
     "metadata": {},
     "output_type": "execute_result"
    }
   ],
   "source": [
    "x = np.moveaxis(arr_st, 0, -1)\n",
    "x.shape"
   ],
   "metadata": {
    "collapsed": false
   }
  },
  {
   "cell_type": "code",
   "execution_count": 156,
   "outputs": [
    {
     "data": {
      "text/plain": "(720, 1200, 12)"
     },
     "execution_count": 156,
     "metadata": {},
     "output_type": "execute_result"
    }
   ],
   "source": [
    "x = x[0:720,0:1200,:]\n",
    "x.shape"
   ],
   "metadata": {
    "collapsed": false
   }
  },
  {
   "cell_type": "code",
   "execution_count": 157,
   "outputs": [
    {
     "data": {
      "text/plain": "(2160, 20, 20, 12)"
     },
     "execution_count": 157,
     "metadata": {},
     "output_type": "execute_result"
    }
   ],
   "source": [
    "x_r = x.reshape(-1,20,20,12)\n",
    "x_r.shape"
   ],
   "metadata": {
    "collapsed": false
   }
  },
  {
   "cell_type": "code",
   "execution_count": 158,
   "outputs": [
    {
     "data": {
      "text/plain": "(733, 1250)"
     },
     "execution_count": 158,
     "metadata": {},
     "output_type": "execute_result"
    }
   ],
   "source": [
    "y_data_test = loadmat('/tmp/shared/test_images2/labeling.mat')['data']\n",
    "y_data_test.shape"
   ],
   "metadata": {
    "collapsed": false
   }
  },
  {
   "cell_type": "code",
   "execution_count": 159,
   "outputs": [
    {
     "data": {
      "text/plain": "<Figure size 1200x1200 with 2 Axes>",
      "image/png": "[encoded data removed]"
     },
     "metadata": {},
     "output_type": "display_data"
    },
    {
     "data": {
      "text/plain": "<AxesSubplot:>"
     },
     "execution_count": 159,
     "metadata": {},
     "output_type": "execute_result"
    }
   ],
   "source": [
    "ep.plot_bands(y_data_test,\n",
    "              cmap=ListedColormap(['green', 'purple', 'orange', 'blue', 'yellow']))"
   ],
   "metadata": {
    "collapsed": false
   }
  },
  {
   "cell_type": "code",
   "execution_count": 160,
   "outputs": [],
   "source": [
    "x_r_norm =  tf.keras.utils.normalize(x_r)"
   ],
   "metadata": {
    "collapsed": false
   }
  },
  {
   "cell_type": "code",
   "execution_count": 161,
   "outputs": [],
   "source": [
    "x_r_2 = x_r"
   ],
   "metadata": {
    "collapsed": false
   }
  },
  {
   "cell_type": "code",
   "execution_count": 162,
   "outputs": [
    {
     "data": {
      "text/plain": "array([[[[ 3.3973088,  3.6197515,  5.8037357, ..., 19.595192 ,\n          10.202038 , 33.659645 ],\n         [ 3.2860873,  4.0848594,  6.2385106, ..., 19.837858 ,\n          10.768256 , 30.717333 ],\n         [ 3.2860873,  4.3679686,  6.2688437, ..., 20.0603   ,\n          11.6681385, 28.73557  ],\n         ...,\n         [ 3.730973 ,  5.955402 ,  7.441725 , ..., 19.312084 ,\n          13.801568 , 24.387825 ],\n         [ 3.8219726,  6.147511 ,  8.28094  , ..., 20.666962 ,\n          16.036106 , 26.561697 ],\n         [ 3.852306 ,  6.824951 ,  8.847158 , ..., 22.052174 ,\n          16.491104 , 27.340246 ]],\n\n        [[ 3.8017504,  5.5711823,  7.6945   , ..., 20.869184 ,\n          14.489118 , 25.23715  ],\n         [ 3.8320835,  5.925069 ,  7.431613 , ..., 19.19075  ,\n          13.912789 , 19.76708  ],\n         [ 4.09497  ,  5.8542914,  7.9068317, ..., 21.152292 ,\n          14.600339 , 25.68204  ],\n         ...,\n         [ 3.730973 ,  3.973638 ,  6.117178 , ..., 19.837858 ,\n          12.638799 , 31.222889 ],\n         [ 3.8017504,  5.662182 ,  7.5529456, ..., 19.777191 ,\n          14.044231 , 27.239138 ],\n         [ 3.8826392,  4.590411 ,  6.107067 , ..., 18.068424 ,\n          11.627694 , 25.23715  ]],\n\n        [[ 3.963527 ,  4.5701895,  6.410398 , ..., 17.92687  ,\n          11.718694 , 28.04802  ],\n         [ 4.064637 ,  6.6227303,  8.917936 , ..., 25.510149 ,\n          24.458601 , 25.550592 ],\n         [ 4.236525 ,  6.0464005,  8.392161 , ..., 24.53949  ,\n          19.837858 , 28.958012 ],\n         ...,\n         [ 4.165748 ,  4.974631 ,  7.0372825, ..., 22.254395 ,\n          13.791456 , 28.422129 ],\n         [ 3.973638 ,  4.5701895,  6.7845073, ..., 21.435402 ,\n          13.25557  , 26.258366 ],\n         [ 3.8826392,  4.2870803,  6.32951  , ..., 20.869184 ,\n          13.2454605, 23.174501 ]],\n\n        ...,\n\n        [[ 3.730973 ,  4.7926326,  6.6126184, ..., 23.629496 ,\n          15.08567  , 27.279581 ],\n         [ 3.8320835,  5.722848 ,  7.360836 , ..., 25.732592 ,\n          17.249432 , 22.426285 ],\n         [ 3.8624165,  5.227407 ,  6.71373  , ..., 25.12593  ,\n          17.876316 , 20.717518 ],\n         ...,\n         [ 4.802743 ,  7.5630565,  9.92904  , ..., 31.374552 ,\n          22.143173 , 26.197699 ],\n         [ 5.035297 ,  7.168726 ,  9.787485 , ..., 29.878119 ,\n          20.818628 , 26.571812 ],\n         [ 5.2476287,  6.6935077,  9.352711 , ..., 29.4939   ,\n          20.444519 , 27.754803 ]],\n\n        [[ 5.3992944,  8.058497 , 10.919922 , ..., 32.213768 ,\n          23.093613 , 26.592031 ],\n         [ 5.500405 ,  7.866388 , 10.930032 , ..., 32.011547 ,\n          21.81962  , 27.057138 ],\n         [ 5.530738 ,  7.9877205, 11.213142 , ..., 32.385654 ,\n          22.01173  , 28.14913  ],\n         ...,\n         [ 5.085852 ,  6.642953 ,  9.362822 , ..., 28.786127 ,\n          19.200863 , 26.27859  ],\n         [ 5.116185 ,  7.2496147, 10.2222595, ..., 30.302782 ,\n          20.252409 , 26.592031 ],\n         [ 5.1970735,  7.391169 , 10.293037 , ..., 30.616224 ,\n          20.64674  , 26.359476 ]],\n\n        [[ 5.277962 ,  7.2597256, 10.070594 , ..., 30.36345  ,\n          20.26252  , 25.560705 ],\n         [ 5.3386283,  7.0372825, 10.050372 , ..., 30.56567  ,\n          20.313078 , 25.621372 ],\n         [ 5.379072 ,  7.5731683, 10.859256 , ..., 30.788115 ,\n          20.616407 , 27.916578 ],\n         ...,\n         [ 5.379072 ,  7.391169 , 10.51548  , ..., 30.302782 ,\n          20.414186 , 28.199686 ],\n         [ 5.3891835,  7.613612 , 11.233364 , ..., 31.435219 ,\n          20.55574  , 28.978235 ],\n         [ 5.368962 ,  7.360836 , 10.566036 , ..., 30.707224 ,\n          20.009745 , 29.473677 ]]],\n\n\n       [[[ 5.3285174,  7.5327234, 10.687367 , ..., 30.707224 ,\n          19.726635 , 29.736563 ],\n         [ 5.298184 ,  7.3406143, 10.940144 , ..., 30.201674 ,\n          19.322195 , 30.424116 ],\n         [ 5.267851 ,  7.188948 , 10.636812 , ..., 29.807343 ,\n          18.816643 , 29.959007 ],\n         ...,\n         [ 6.653064 ,  8.402273 , 10.23237  , ..., 36.561516 ,\n          35.307747 , 20.515299 ],\n         [ 6.7541738,  8.402273 , 10.151483 , ..., 36.71318  ,\n          35.42908  , 20.55574  ],\n         [ 6.5519533,  8.240497 , 10.151483 , ..., 36.98618  ,\n          35.560524 , 20.656853 ]],\n\n        [[ 6.177844 ,  8.169719 , 10.03015  , ..., 36.632294 ,\n          35.034748 , 20.919739 ],\n         [ 5.65207  ,  7.9877205,  9.858262 , ..., 35.186413 ,\n          33.12376  , 20.444519 ],\n         [ 4.974631 ,  5.277962 ,  6.895728 , ..., 25.045042 ,\n          19.898523 , 25.91459  ],\n         ...,\n         [ 6.936172 ,  8.392161 , 10.333481 , ..., 36.20763  ,\n          35.105526 , 20.393965 ],\n         [ 6.966505 ,  8.816825 , 10.869366 , ..., 36.430073 ,\n          35.499855 , 21.192736 ],\n         [ 6.9563947,  8.725826 , 10.596368 , ..., 36.460403 ,\n          35.388634 , 20.980404 ]],\n\n        [[ 6.936172 ,  8.786493 , 10.555924 , ..., 36.197517 ,\n          35.226856 , 21.010738 ],\n         [ 6.926061 ,  8.725826 , 10.596368 , ..., 35.964962 ,\n          34.30675  , 20.990515 ],\n         [ 6.915951 ,  8.786493 , 10.636812 , ..., 35.732407 ,\n          34.407864 , 20.63663  ],\n         ...,\n         [ 6.875507 ,  8.452827 , 10.475037 , ..., 35.975075 ,\n          34.701084 , 20.46474  ],\n         [ 6.8350616,  8.493273 , 10.576146 , ..., 35.924522 ,\n          34.66064  , 20.525408 ],\n         [ 6.7946177,  8.66516  , 10.646924 , ..., 36.187405 ,\n          34.953857 , 20.434408 ]],\n\n        ...,\n\n        [[ 5.3386283,  6.915951 ,  9.211156 , ..., 27.714355 ,\n          19.817635 , 27.542469 ],\n         [ 5.5105157,  6.6227303,  9.05949  , ..., 26.652697 ,\n          19.251417 , 27.26947  ],\n         [ 5.763292 ,  7.097949 ,  8.968491 , ..., 27.744688 ,\n          21.789288 , 22.86106  ],\n         ...,\n         [ 6.2081776,  7.4518356,  9.544821 , ..., 30.201674 ,\n          23.28572  , 27.916578 ],\n         [ 6.177844 ,  7.50239  ,  9.64593  , ..., 30.120783 ,\n          23.589052 , 28.088463 ],\n         [ 6.147511 ,  7.3709464,  9.726819 , ..., 30.10056  ,\n          23.225054 , 28.159243 ]],\n\n        [[ 6.107067 ,  7.3102813,  9.797596 , ..., 29.938784 ,\n          23.083502 , 28.947903 ],\n         [ 6.0666227,  7.5327234,  9.777373 , ..., 30.414003 ,\n          23.912607 , 28.179462 ],\n         [ 6.0464005,  7.421502 ,  9.676265 , ..., 29.878119 ,\n          23.437387 , 27.95702  ],\n         ...,\n         [ 6.3092875,  7.542835 ,  9.787485 , ..., 29.109678 ,\n          22.486948 , 28.968126 ],\n         [ 6.299177 ,  7.4821687,  9.979595 , ..., 29.14001  ,\n          22.133062 , 29.908451 ],\n         [ 6.289066 ,  7.461946 ,  9.726819 , ..., 29.059126 ,\n          22.719503 , 29.544453 ]],\n\n        [[ 6.2688437,  7.461946 ,  9.817819 , ..., 28.978235 ,\n          22.082506 , 29.372566 ],\n         [ 6.2486215,  7.320392 ,  9.73693  , ..., 29.049011 ,\n          22.264505 , 29.332125 ],\n         [ 6.2283998,  7.3102813,  9.5650425, ..., 28.786127 ,\n          21.829731 , 29.14001  ],\n         ...,\n         [ 3.8017504,  4.903854 ,  7.4518356, ..., 22.476837 ,\n          14.347564 , 30.747667 ],\n         [ 4.0140824,  5.611626 ,  8.604494 , ..., 23.740717 ,\n          15.570999 , 28.401909 ],\n         [ 4.2466364,  5.5610714,  8.675271 , ..., 23.66994  ,\n          15.328334 , 29.069235 ]]],\n\n\n       [[[ 4.347747 ,  5.813847 ,  8.85727  , ..., 24.852932 ,\n          16.784323 , 28.118801 ],\n         [ 4.3881907,  5.935179 ,  9.029158 , ..., 24.863043 ,\n          16.713547 , 27.845802 ],\n         [ 4.4084125,  5.84418  ,  8.958381 , ..., 24.660824 ,\n          16.410215 , 27.77502  ],\n         ...,\n         [ 4.5701895,  6.5418415,  9.64593  , ..., 27.906466 ,\n          19.534527 , 27.916578 ],\n         [ 4.5499673,  6.2486215,  9.201045 , ..., 27.805355 ,\n          19.00875  , 28.73557  ],\n         [ 4.539856 ,  6.299177 ,  9.1707115, ..., 27.684021 ,\n          18.988531 , 29.109678 ]],\n\n        [[ 4.5600786,  5.8947353,  8.998824 , ..., 27.117805 ,\n          18.240314 , 29.251234 ],\n         [ 4.610634 ,  6.1677337,  9.261711 , ..., 27.309914 ,\n          18.381868 , 29.241125 ],\n         [ 4.6510777,  6.4609537,  9.64593  , ..., 27.613245 ,\n          18.988531 , 28.836683 ],\n         ...,\n         [ 4.1758585,  6.0059566,  8.655049 , ..., 24.721489 ,\n          17.0371   , 28.12891  ],\n         [ 4.307302 ,  6.0969563,  9.393155 , ..., 23.791275 ,\n          16.47088  , 29.69612  ],\n         [ 4.458968 ,  6.026179 ,  9.352711 , ..., 23.599163 ,\n          16.228218 , 29.160234 ]],\n\n        [[ 4.5803003,  6.258733 ,  9.413376 , ..., 23.912607 ,\n          16.531548 , 29.089458 ],\n         [ 4.681411 ,  6.5013976,  9.6964855, ..., 25.277597 ,\n          18.553757 , 27.208805 ],\n         [ 4.762299 ,  6.7541738,  9.666153 , ..., 26.228033 ,\n          19.928858 , 26.066257 ],\n         ...,\n         [ 4.3983016,  5.935179 ,  9.403266 , ..., 22.709393 ,\n          14.913781 , 29.362457 ],\n         [ 4.3983016,  6.1272893,  9.544821 , ..., 23.063278 ,\n          15.409224 , 28.91757  ],\n         [ 4.4084125,  5.955402 ,  9.4335985, ..., 22.952059 ,\n          15.490111 , 29.150126 ]],\n\n        ...,\n\n        [[ 5.207185 ,  6.683397 ,  8.18994  , ..., 31.162222 ,\n          30.838667 , 15.803553 ],\n         [ 5.2476287,  6.8856173,  8.291051 , ..., 31.04089  ,\n          30.727448 , 16.015884 ],\n         [ 5.318406 ,  7.0575047,  8.47305  , ..., 30.990332 ,\n          30.515116 , 16.167551 ],\n         ...,\n         [ 5.0555196,  6.6935077,  7.866388 , ..., 30.191559 ,\n          29.99945  , 15.560887 ],\n         [ 4.9341865,  6.7339516,  8.078719 , ..., 30.535334 ,\n          29.847784 , 16.005774 ],\n         [ 4.691522 ,  6.632841 ,  7.927054 , ..., 30.798223 ,\n          29.847784 , 16.228218 ]],\n\n        [[ 4.469079 ,  6.4306207,  7.724833 , ..., 28.321018 ,\n          26.248257 , 17.158432 ],\n         [ 4.5600786,  5.0454082,  6.663174 , ..., 23.882275 ,\n          18.907642 , 22.759947 ],\n         [ 4.974631 ,  7.0473943,  9.352711 , ..., 28.05813  ,\n          22.60828  , 27.45147  ],\n         ...,\n         [ 6.198066 ,  7.613612 , 10.535702 , ..., 27.198694 ,\n          19.07953  , 32.557545 ],\n         [ 6.1374   ,  7.5731683, 10.505369 , ..., 27.148138 ,\n          19.463749 , 32.20366  ],\n         [ 6.1272893,  7.7450557, 10.707589 , ..., 26.78414  ,\n          18.604311 , 33.09343  ]],\n\n        [[ 6.1272893,  7.6945   , 10.828922 , ..., 26.652697 ,\n          18.20998  , 33.942757 ],\n         [ 6.147511 ,  7.603501 , 10.748034 , ..., 27.198694 ,\n          19.160418 , 32.71932  ],\n         [ 6.198066 ,  7.7147226, 11.081698 , ..., 27.148138 ,\n          18.816643 , 33.78098  ],\n         ...,\n         [ 5.318406 ,  7.8259435, 10.748034 , ..., 28.472685 ,\n          20.859074 , 32.14299  ],\n         [ 4.6409664,  5.682404 ,  8.614604 , ..., 24.317049 ,\n          15.095779 , 35.02464  ],\n         [ 3.973638 ,  4.469079 ,  7.88661  , ..., 21.172514 ,\n          11.627694 , 37.289513 ]]],\n\n\n       ...,\n\n\n       [[[ 4.044415 ,  4.610634 ,  5.813847 , ..., 16.491104 ,\n          12.2748   , 22.284729 ],\n         [ 4.266858 ,  4.0140824,  5.6722927, ..., 14.388007 ,\n           9.817819 , 22.294842 ],\n         [ 5.207185 ,  4.5196342,  6.3598433, ..., 16.106884 ,\n          11.334474 , 22.163397 ],\n         ...,\n         [ 9.049379 , 11.728805 , 14.074565 , ..., 26.217922 ,\n          25.439373 , 21.445513 ],\n         [ 8.604494 ,  9.757153 , 13.093795 , ..., 30.818447 ,\n          29.07935  , 23.214943 ],\n         [ 8.149497 , 10.596368 , 13.700457 , ..., 34.3472   ,\n          32.749653 , 26.147146 ]],\n\n        [[ 7.7147226, 13.083683 , 17.765095 , ..., 37.016514 ,\n          35.884075 , 30.383673 ],\n         [ 7.320392 ,  8.735937 , 11.263697 , ..., 31.859882 ,\n          29.220901 , 22.810503 ],\n         [ 7.0271716,  8.018053 , 10.151483 , ..., 29.5849   ,\n          26.399921 , 21.394957 ],\n         ...,\n         [ 6.380066 ,  5.3588505,  7.0372825, ..., 24.559711 ,\n          20.2423   , 20.4243   ],\n         [ 6.663174 ,  7.7956104,  9.888596 , ..., 31.576773 ,\n          28.573793 , 22.264505 ],\n         [ 6.8148403, 10.51548  , 13.2454605, ..., 31.950882 ,\n          29.190569 , 25.742704 ]],\n\n        [[ 6.642953 ,  9.939151 , 13.164573 , ..., 22.79028  ,\n          19.392971 , 20.717518 ],\n         [ 6.3598433,  7.3305025,  9.706596 , ..., 15.763109 ,\n          12.881462 , 15.995663 ],\n         [ 6.32951  ,  4.3174133,  6.0565124, ..., 12.75002  ,\n          11.031143 , 11.223252 ],\n         ...,\n         [ 4.853298 ,  6.258733 ,  7.876499 , ..., 21.354513 ,\n          16.592215 , 20.808516 ],\n         [ 5.6722927,  4.96452  ,  6.562064 , ..., 21.566845 ,\n          17.087654 , 21.000628 ],\n         [ 6.4912868, 11.415362 , 14.934004 , ..., 31.323997 ,\n          29.089458 , 27.542469 ]],\n\n        ...,\n\n        [[ 3.902861 ,  5.1262965,  8.230386 , ...,  6.3598433,\n           4.1758585, 17.259542 ],\n         [ 3.852306 ,  5.1262965,  8.2506075, ...,  5.8239584,\n           3.8118615, 12.517466 ],\n         [ 3.8219726,  4.8431873,  7.4720573, ...,  6.905839 ,\n           4.236525 , 16.258549 ],\n         ...,\n         [ 4.4791903,  6.400287 , 10.42448  , ...,  2.3356497,\n           2.0222075,  5.3588505],\n         [ 4.539856 ,  6.6227303, 10.657035 , ...,  2.2749836,\n           2.092985 ,  5.6722927],\n         [ 4.5803003,  6.602508 , 10.930032 , ...,  2.3154278,\n           2.1233182,  5.813847 ]],\n\n        [[ 4.5803003,  6.592397 , 10.697478 , ...,  2.345761 ,\n           2.1233182,  5.6015153],\n         [ 4.5600786,  6.32951  , 10.636812 , ...,  2.3963163,\n           2.082874 ,  5.581293 ],\n         [ 4.5196342,  6.562064 , 10.535702 , ...,  2.2244284,\n           2.0424297,  5.419516 ],\n         ...,\n         [ 3.6703072,  5.1465187,  7.9776096, ...,  2.2446504,\n           2.0019855,  4.165748 ],\n         [ 3.680418 ,  5.186963 ,  7.836055 , ...,  2.1637623,\n           1.9615415,  4.044415 ],\n         [ 3.7006404,  5.2476287,  8.068609 , ...,  2.1940954,\n           1.9615415,  4.1253037]],\n\n        [[ 3.730973 ,  5.106075 ,  7.947276 , ...,  2.2345395,\n           1.9514306,  3.9837492],\n         [ 3.751195 ,  5.1970735,  8.038276 , ...,  2.2244284,\n           2.0019855,  4.0545263],\n         [ 3.7714176,  5.106075 ,  7.9674983, ...,  2.1435401,\n           1.9716525,  4.1455255],\n         ...,\n         [ 3.9837492,  5.914957 ,  9.372932 , ...,  2.2042062,\n           1.8503202,  4.5701895],\n         [ 4.003971 ,  5.874513 ,  9.463932 , ...,  2.0222075,\n           1.830098 ,  4.4791903],\n         [ 4.0241933,  5.732959 ,  9.585265 , ...,  2.0727627,\n           1.840209 ,  4.458968 ]]],\n\n\n       [[[ 4.003971 ,  5.722848 ,  9.615598 , ...,  2.082874 ,\n           1.8907641,  4.499412 ],\n         [ 3.963527 ,  5.773403 ,  9.5650425, ...,  2.1435401,\n           1.8907641,  4.499412 ],\n         [ 3.9129717,  5.8239584,  9.332488 , ...,  2.082874 ,\n           1.8806531,  4.6005225],\n         ...,\n         [ 3.5287523,  5.116185 ,  7.350725 , ...,  2.1738734,\n           1.9008752,  3.933194 ],\n         [ 3.4377534,  4.6308556,  6.7238407, ...,  2.2042062,\n           1.9413196,  3.852306 ],\n         [ 3.3467538,  4.2567472,  5.84418  , ...,  2.2345395,\n           1.9413196,  3.3669758]],\n\n        [[ 3.2658653,  4.2466364,  5.5610714, ...,  2.2547615,\n           1.8806531,  3.2557547],\n         [ 3.205199 ,  4.09497  ,  5.470072 , ...,  2.1738734,\n           1.840209 ,  3.2658653],\n         [ 3.1546438,  4.09497  ,  5.4397388, ...,  2.1233182,\n           1.8604312,  3.2557547],\n         ...,\n         [ 3.164755 ,  3.902861 ,  5.106075 , ...,  2.0019855,\n           1.8503202,  3.205199 ],\n         [ 3.164755 ,  4.064637 ,  5.267851 , ...,  2.082874 ,\n           1.840209 ,  3.2860873],\n         [ 3.1546438,  3.9938602,  5.186963 , ...,  2.0424297,\n           1.8705422,  3.2557547]],\n\n        [[ 3.164755 ,  4.044415 ,  5.2476287, ...,  2.092985 ,\n           1.9210973,  3.1748662],\n         [ 3.1748662,  4.09497  ,  5.379072 , ...,  2.103096 ,\n           1.8705422,  3.2961986],\n         [ 3.1950881,  3.9534159,  5.277962 , ...,  2.153651 ,\n           1.8604312,  3.468086 ],\n         ...,\n         [ 3.184977 ,  4.206192 ,  5.3588505, ...,  2.1940954,\n           1.9109863,  3.3669758],\n         [ 3.1950881,  4.236525 ,  5.3992944, ...,  2.1940954,\n           1.9413196,  3.2759767],\n         [ 3.1950881,  4.0343046,  5.429628 , ...,  2.2042062,\n           1.9514306,  3.164755 ]],\n\n        ...,\n\n        [[ 3.4074202,  4.0343046,  5.318406 , ...,  2.1233182,\n           2.0525408,  3.4175308],\n         [ 3.3770869,  4.236525 ,  5.368962 , ...,  2.1233182,\n           1.9514306,  3.4074202],\n         [ 3.3467538,  4.165748 ,  5.2476287, ...,  2.133429 ,\n           1.9817635,  3.2153103],\n         ...,\n         [ 3.3669758,  4.428635 ,  5.5206265, ...,  2.2042062,\n           2.0424297,  3.447864 ],\n         [ 3.356865 ,  4.266858 ,  5.5105157, ...,  2.2143176,\n           2.0323186,  3.5995295],\n         [ 3.3467538,  4.3983016,  5.4801826, ...,  2.2244284,\n           2.0222075,  3.4781973]],\n\n        [[ 3.356865 ,  4.4084125,  5.379072 , ...,  2.1435401,\n           1.9817635,  3.427642 ],\n         [ 3.3871977,  4.2567472,  5.348739 , ...,  2.153651 ,\n           1.9413196,  3.3973088],\n         [ 3.4074202,  4.1960807,  5.348739 , ...,  2.1738734,\n           2.0323186,  3.4175308],\n         ...,\n         [ 3.447864 ,  4.2163033,  5.25774  , ...,  2.1738734,\n           1.9413196,  3.3063092],\n         [ 3.4377534,  4.115193 ,  5.25774  , ...,  2.1637623,\n           1.9514306,  3.2860873],\n         [ 3.4175308,  4.1758585,  5.1768517, ...,  2.1233182,\n           1.9008752,  3.447864 ]],\n\n        [[ 3.4074202,  4.1253037,  5.25774  , ...,  2.0525408,\n           1.9008752,  3.3366425],\n         [ 3.3973088,  4.1455255,  5.217296 , ...,  2.153651 ,\n           1.9817635,  3.2759767],\n         [ 3.3871977,  4.0848594,  5.277962 , ...,  2.1233182,\n           1.9817635,  3.4377534],\n         ...,\n         [ 3.4377534,  4.357857 ,  5.3588505, ...,  2.1637623,\n           1.8806531,  3.3770869],\n         [ 3.447864 ,  4.266858 ,  5.298184 , ...,  2.1839843,\n           1.8199868,  3.356865 ],\n         [ 3.4579754,  4.469079 ,  5.419516 , ...,  2.2244284,\n           1.7795428,  3.3871977]]],\n\n\n       [[[ 3.4579754,  4.165748 ,  5.368962 , ...,  2.133429 ,\n           1.8098757,  3.3467538],\n         [ 3.4579754,  4.266858 ,  5.267851 , ...,  2.2446504,\n           1.9413196,  3.3164206],\n         [ 3.4377534,  4.155637 ,  5.227407 , ...,  2.1839843,\n           1.830098 ,  3.326532 ],\n         ...,\n         [ 3.4175308,  4.2264137,  5.3386283, ...,  2.2244284,\n           1.9716525,  3.4883082],\n         [ 3.447864 ,  4.2264137,  5.348739 , ...,  2.1839843,\n           1.9817635,  3.4074202],\n         [ 3.4883082,  4.347747 ,  5.4801826, ...,  2.2446504,\n           1.7896538,  3.3770869]],\n\n        [[ 3.5085304,  4.2870803,  5.3992944, ...,  2.2042062,\n           2.0019855,  3.3871977],\n         [ 3.4781973,  4.3376355,  5.348739 , ...,  2.133429 ,\n           2.0424297,  3.4781973],\n         [ 3.427642 ,  4.307302 ,  5.368962 , ...,  2.1233182,\n           2.0019855,  3.3871977],\n         ...,\n         [ 3.356865 ,  4.165748 ,  5.4094057, ...,  2.0626519,\n           1.8907641,  3.447864 ],\n         [ 3.3366425,  4.2567472,  5.348739 , ...,  2.0727627,\n           1.8907641,  3.4579754],\n         [ 3.356865 ,  4.3679686,  5.3386283, ...,  2.1233182,\n           1.9817635,  3.3467538]],\n\n        [[ 3.3871977,  4.3174133,  5.379072 , ...,  2.1132069,\n           1.9716525,  3.3669758],\n         [ 3.4074202,  4.3275247,  5.267851 , ...,  2.103096 ,\n           1.8907641,  3.5388637],\n         [ 3.427642 ,  4.37808  ,  5.4498496, ...,  2.1233182,\n           1.9413196,  3.4579754],\n         ...,\n         [ 3.3669758,  4.438746 ,  5.298184 , ...,  2.103096 ,\n           1.9008752,  3.356865 ],\n         [ 3.3467538,  4.3679686,  5.3386283, ...,  2.133429 ,\n           1.9413196,  3.2254214],\n         [ 3.3467538,  4.1253037,  5.1970735, ...,  2.0727627,\n           1.9008752,  3.447864 ]],\n\n        ...,\n\n        [[ 3.1950881,  4.115193 ,  5.267851 , ...,  2.3760939,\n           2.2749836,  3.7006404],\n         [ 3.1950881,  4.064637 ,  5.1970735, ...,  2.4367604,\n           2.2547615,  3.6197515],\n         [ 3.1950881,  4.1455255,  5.227407 , ...,  2.4569824,\n           2.3154278,  3.690529 ],\n         ...,\n         [ 3.2961986,  4.428635 ,  5.459961 , ...,  2.4064271,\n           2.3255389,  3.751195 ],\n         [ 3.2860873,  4.3275247,  5.5509605, ...,  2.4873154,\n           2.3862052,  3.8421946],\n         [ 3.2658653,  4.236525 ,  5.429628 , ...,  2.5277598,\n           2.365983 ,  3.8927498]],\n\n        [[ 3.2456434,  4.2870803,  5.5206265, ...,  2.5479817,\n           2.365983 ,  3.8624165],\n         [ 3.2456434,  4.37808  ,  5.419516 , ...,  2.5783148,\n           2.4367604,  3.7714176],\n         [ 3.2557547,  4.09497  ,  5.288073 , ...,  2.4670932,\n           2.4064271,  3.6703072],\n         ...,\n         [ 3.2759767,  4.115193 ,  5.3082952, ...,  2.305317 ,\n           2.2143176,  3.6197515],\n         [ 3.2759767,  4.2466364,  5.207185 , ...,  2.355872 ,\n           2.2244284,  3.569197 ],\n         [ 3.2456434,  4.0241933,  5.25774  , ...,  2.3356497,\n           2.1637623,  3.5590856]],\n\n        [[ 3.2153103,  4.2163033,  5.2476287, ...,  2.345761 ,\n           2.2143176,  3.447864 ],\n         [ 3.205199 ,  4.2466364,  5.3386283, ...,  2.3963163,\n           2.153651 ,  3.6703072],\n         [ 3.205199 ,  4.1050816,  5.288073 , ...,  2.365983 ,\n           2.2042062,  3.690529 ],\n         ...,\n         [ 3.0838668,  4.3275247,  5.1768517, ...,  2.2952056,\n           2.0424297,  3.6298628],\n         [ 3.0737555,  4.2567472,  5.379072 , ...,  2.3255389,\n           2.0626519,  3.6399736],\n         [ 3.0636446,  4.115193 ,  5.1667404, ...,  2.3154278,\n           1.9918746,  3.6703072]]]], dtype=float32)"
     },
     "execution_count": 162,
     "metadata": {},
     "output_type": "execute_result"
    }
   ],
   "source": [
    "std2 = np.std(x_r_2)\n",
    "mean2 = np.mean(x_r_2)\n",
    "\n",
    "np.divide(x_r_2, mean2, out=x_r_2, casting=\"unsafe\")\n",
    "#x_train/=std\n",
    "np.divide(x_r_2, std2, out=x_r_2, casting=\"unsafe\")"
   ],
   "metadata": {
    "collapsed": false
   }
  },
  {
   "cell_type": "code",
   "execution_count": 166,
   "outputs": [
    {
     "name": "stdout",
     "output_type": "stream",
     "text": [
      "68/68 [==============================] - 5s 60ms/step\n"
     ]
    }
   ],
   "source": [
    "prediction = model.predict(x_r_2,batch_size=32)"
   ],
   "metadata": {
    "collapsed": false
   }
  },
  {
   "cell_type": "code",
   "execution_count": 167,
   "outputs": [
    {
     "data": {
      "text/plain": "(2160, 20, 20, 6)"
     },
     "execution_count": 167,
     "metadata": {},
     "output_type": "execute_result"
    }
   ],
   "source": [
    "prediction.shape"
   ],
   "metadata": {
    "collapsed": false
   }
  },
  {
   "cell_type": "code",
   "execution_count": 168,
   "outputs": [
    {
     "data": {
      "text/plain": "(2160, 20, 20)"
     },
     "execution_count": 168,
     "metadata": {},
     "output_type": "execute_result"
    }
   ],
   "source": [
    "pred_cat = np.argmax(prediction,axis=3)\n",
    "pred_cat.shape"
   ],
   "metadata": {
    "collapsed": false
   }
  },
  {
   "cell_type": "code",
   "execution_count": 169,
   "outputs": [],
   "source": [
    "pred_pxl = pred_cat.reshape(720,1200)"
   ],
   "metadata": {
    "collapsed": false
   }
  },
  {
   "cell_type": "code",
   "execution_count": 170,
   "outputs": [
    {
     "data": {
      "text/plain": "<Figure size 1200x1200 with 2 Axes>",
      "image/png": "[encoded data removed]"
     },
     "metadata": {},
     "output_type": "display_data"
    },
    {
     "data": {
      "text/plain": "<AxesSubplot:>"
     },
     "execution_count": 170,
     "metadata": {},
     "output_type": "execute_result"
    }
   ],
   "source": [
    "ep.plot_bands(pred_pxl,\n",
    "              cmap=ListedColormap(['green', 'purple', 'orange', 'blue', 'yellow']))"
   ],
   "metadata": {
    "collapsed": false
   }
  },
  {
   "cell_type": "code",
   "execution_count": 171,
   "outputs": [
    {
     "data": {
      "text/plain": "(864000,)"
     },
     "execution_count": 171,
     "metadata": {},
     "output_type": "execute_result"
    }
   ],
   "source": [
    "pred_vec = pred_cat.reshape(-1)\n",
    "pred_vec.shape"
   ],
   "metadata": {
    "collapsed": false
   }
  },
  {
   "cell_type": "code",
   "execution_count": 172,
   "outputs": [
    {
     "data": {
      "text/plain": "(864000,)"
     },
     "execution_count": 172,
     "metadata": {},
     "output_type": "execute_result"
    }
   ],
   "source": [
    "y_data_test2 = y_data_test[0:720,0:1200].reshape(-1)\n",
    "y_data_test2.shape"
   ],
   "metadata": {
    "collapsed": false
   }
  },
  {
   "cell_type": "code",
   "execution_count": 173,
   "outputs": [
    {
     "data": {
      "text/plain": "0.3562106481481481"
     },
     "execution_count": 173,
     "metadata": {},
     "output_type": "execute_result"
    }
   ],
   "source": [
    "accuracy_score(y_data_test2, pred_vec)"
   ],
   "metadata": {
    "collapsed": false
   }
  },
  {
   "cell_type": "code",
   "execution_count": null,
   "outputs": [],
   "source": [],
   "metadata": {
    "collapsed": false
   }
  }
 ],
 "metadata": {
  "kernelspec": {
   "display_name": "Python 3",
   "language": "python",
   "name": "python3"
  },
  "language_info": {
   "codemirror_mode": {
    "name": "ipython",
    "version": 2
   },
   "file_extension": ".py",
   "mimetype": "text/x-python",
   "name": "python",
   "nbconvert_exporter": "python",
   "pygments_lexer": "ipython2",
   "version": "2.7.6"
  }
 },
 "nbformat": 4,
 "nbformat_minor": 0
}
