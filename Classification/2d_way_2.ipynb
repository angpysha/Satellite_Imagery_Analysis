{
 "cells": [
  {
   "cell_type": "code",
   "execution_count": 2,
   "metadata": {
    "collapsed": true,
    "ExecuteTime": {
     "end_time": "2023-06-06T20:56:06.282257200Z",
     "start_time": "2023-06-06T20:56:05.207727Z"
    }
   },
   "outputs": [
    {
     "data": {
      "text/plain": "{'divide': 'warn', 'over': 'warn', 'under': 'ignore', 'invalid': 'warn'}"
     },
     "execution_count": 2,
     "metadata": {},
     "output_type": "execute_result"
    }
   ],
   "source": [
    "from glob import glob\n",
    "\n",
    "import earthpy as et\n",
    "import earthpy.spatial as es\n",
    "import earthpy.plot as ep\n",
    "\n",
    "import rasterio as rio\n",
    "from rasterio.plot import plotting_extent\n",
    "from rasterio.plot import show\n",
    "from rasterio.plot import reshape_as_raster, reshape_as_image\n",
    "\n",
    "import matplotlib.pyplot as plt\n",
    "import numpy as np\n",
    "from matplotlib.colors import ListedColormap\n",
    "\n",
    "from scipy.io import loadmat\n",
    "from sklearn.metrics import classification_report, accuracy_score\n",
    "\n",
    "import plotly.graph_objects as go\n",
    "\n",
    "np.seterr(divide='ignore', invalid='ignore')"
   ]
  },
  {
   "cell_type": "code",
   "execution_count": 3,
   "outputs": [],
   "source": [
    "def getFilesNew(basePath):\n",
    "    dirs = glob(basePath+\"/*/\")\n",
    "    #print(dirs)\n",
    "    for _dir in dirs:\n",
    "        files = glob(_dir+\"*B?*.tiff\")\n",
    "        #print(files)\n",
    "        yield files"
   ],
   "metadata": {
    "collapsed": false,
    "ExecuteTime": {
     "end_time": "2023-06-06T20:56:06.288258600Z",
     "start_time": "2023-06-06T20:56:06.285256300Z"
    }
   }
  },
  {
   "cell_type": "code",
   "execution_count": 4,
   "outputs": [],
   "source": [
    "S_sentinel_bands_forest = list(getFilesNew(\"/tmp/shared/2d_dataset2/forest\"))"
   ],
   "metadata": {
    "collapsed": false,
    "ExecuteTime": {
     "end_time": "2023-06-06T20:56:09.534962100Z",
     "start_time": "2023-06-06T20:56:09.504618900Z"
    }
   }
  },
  {
   "cell_type": "code",
   "execution_count": 5,
   "outputs": [],
   "source": [
    "S_sentinel_bands_town = list(getFilesNew(\"/tmp/shared/2d_dataset2/town\"))"
   ],
   "metadata": {
    "collapsed": false,
    "ExecuteTime": {
     "end_time": "2023-06-06T20:56:09.986496300Z",
     "start_time": "2023-06-06T20:56:09.941030500Z"
    }
   }
  },
  {
   "cell_type": "code",
   "execution_count": 6,
   "outputs": [],
   "source": [
    "S_sentinel_bands_water = list(getFilesNew(\"/tmp/shared/2d_dataset2/water\"))"
   ],
   "metadata": {
    "collapsed": false,
    "ExecuteTime": {
     "end_time": "2023-06-06T20:56:10.454693500Z",
     "start_time": "2023-06-06T20:56:10.416521300Z"
    }
   }
  },
  {
   "cell_type": "code",
   "execution_count": 7,
   "outputs": [],
   "source": [
    "S_sentinel_bands_field = list(getFilesNew(\"/tmp/shared/2d_dataset2/field\"))"
   ],
   "metadata": {
    "collapsed": false,
    "ExecuteTime": {
     "end_time": "2023-06-06T20:56:10.906611300Z",
     "start_time": "2023-06-06T20:56:10.856089600Z"
    }
   }
  },
  {
   "cell_type": "code",
   "execution_count": 8,
   "outputs": [
    {
     "name": "stderr",
     "output_type": "stream",
     "text": [
      "/usr/local/lib/python3.8/dist-packages/rasterio/__init__.py:277: NotGeoreferencedWarning: Dataset has no geotransform, gcps, or rpcs. The identity matrix will be returned.\n",
      "  dataset = DatasetReader(path, driver=driver, sharing=sharing, **kwargs)\n"
     ]
    }
   ],
   "source": [
    "l_f = []\n",
    "for i in S_sentinel_bands_forest:\n",
    "    s = []\n",
    "    for j in i:\n",
    "        with rio.open(j, 'r') as f:\n",
    "            s.append(f.read(1))\n",
    "    l_f.append(s)"
   ],
   "metadata": {
    "collapsed": false,
    "ExecuteTime": {
     "end_time": "2023-06-06T20:56:12.747256100Z",
     "start_time": "2023-06-06T20:56:11.330136900Z"
    }
   }
  },
  {
   "cell_type": "code",
   "execution_count": 8,
   "outputs": [
    {
     "name": "stdout",
     "output_type": "stream",
     "text": [
      "Index 0 len 12\n",
      "Index 1 len 12\n",
      "Index 2 len 12\n",
      "Index 3 len 12\n",
      "Index 4 len 12\n",
      "Index 5 len 12\n",
      "Index 6 len 12\n",
      "Index 7 len 12\n",
      "Index 8 len 12\n",
      "Index 9 len 12\n",
      "Index 10 len 12\n",
      "Index 11 len 12\n",
      "Index 12 len 12\n",
      "Index 13 len 12\n",
      "Index 14 len 12\n",
      "Index 15 len 12\n",
      "Index 16 len 12\n",
      "Index 17 len 12\n",
      "Index 18 len 12\n",
      "Index 19 len 12\n",
      "Index 20 len 12\n",
      "Index 21 len 12\n",
      "Index 22 len 12\n",
      "Index 23 len 12\n",
      "Index 24 len 12\n",
      "Index 25 len 12\n",
      "Index 26 len 12\n",
      "Index 27 len 12\n",
      "Index 28 len 12\n",
      "Index 29 len 12\n",
      "Index 30 len 12\n",
      "Index 31 len 12\n",
      "Index 32 len 12\n",
      "Index 33 len 12\n",
      "Index 34 len 12\n",
      "Index 35 len 12\n",
      "Index 36 len 12\n",
      "Index 37 len 12\n",
      "Index 38 len 12\n",
      "Index 39 len 12\n",
      "Index 40 len 12\n",
      "Index 41 len 12\n",
      "Index 42 len 12\n",
      "Index 43 len 12\n",
      "Index 44 len 12\n",
      "Index 45 len 12\n",
      "Index 46 len 12\n",
      "Index 47 len 12\n",
      "Index 48 len 12\n",
      "Index 49 len 12\n",
      "Index 50 len 12\n",
      "Index 51 len 12\n",
      "Index 52 len 12\n",
      "Index 53 len 12\n",
      "Index 54 len 12\n",
      "Index 55 len 12\n",
      "Index 56 len 12\n",
      "Index 57 len 12\n",
      "Index 58 len 12\n",
      "Index 59 len 12\n",
      "Index 60 len 12\n",
      "Index 61 len 12\n",
      "Index 62 len 12\n",
      "Index 63 len 12\n",
      "Index 64 len 12\n",
      "Index 65 len 12\n",
      "Index 66 len 12\n",
      "Index 67 len 0\n",
      "Index 68 len 12\n",
      "Index 69 len 12\n",
      "Index 70 len 12\n",
      "Index 71 len 12\n",
      "Index 72 len 12\n",
      "Index 73 len 12\n",
      "Index 74 len 12\n",
      "Index 75 len 12\n",
      "Index 76 len 12\n",
      "Index 77 len 12\n",
      "Index 78 len 12\n",
      "Index 79 len 12\n",
      "Index 80 len 12\n",
      "Index 81 len 12\n",
      "Index 82 len 12\n",
      "Index 83 len 12\n",
      "Index 84 len 12\n",
      "Index 85 len 12\n",
      "Index 86 len 12\n",
      "Index 87 len 12\n",
      "Index 88 len 12\n",
      "Index 89 len 12\n",
      "Index 90 len 12\n",
      "Index 91 len 12\n",
      "Index 92 len 12\n",
      "Index 93 len 12\n",
      "Index 94 len 12\n",
      "Index 95 len 12\n",
      "Index 96 len 12\n",
      "Index 97 len 12\n",
      "Index 98 len 12\n",
      "Index 99 len 12\n",
      "Index 100 len 12\n",
      "Index 101 len 12\n",
      "Index 102 len 12\n",
      "Index 103 len 12\n",
      "Index 104 len 12\n",
      "Index 105 len 12\n",
      "Index 106 len 12\n",
      "Index 107 len 12\n",
      "Index 108 len 12\n",
      "Index 109 len 12\n",
      "Index 110 len 12\n",
      "Index 111 len 12\n",
      "Index 112 len 12\n",
      "Index 113 len 12\n",
      "Index 114 len 12\n",
      "Index 115 len 12\n",
      "Index 116 len 12\n",
      "Index 117 len 12\n",
      "Index 118 len 12\n",
      "Index 119 len 12\n"
     ]
    }
   ],
   "source": [
    "for idx, ll in enumerate(l_f):\n",
    "    print(\"Index \" + str(idx) + \" len \" + str(len(ll)))"
   ],
   "metadata": {
    "collapsed": false
   }
  },
  {
   "cell_type": "code",
   "execution_count": 9,
   "outputs": [],
   "source": [
    "S_sentinel_bands_sands = list(getFilesNew(\"/tmp/shared/2d_dataset/sands\"))"
   ],
   "metadata": {
    "collapsed": false,
    "ExecuteTime": {
     "end_time": "2023-06-06T20:56:16.666763Z",
     "start_time": "2023-06-06T20:56:16.632573100Z"
    }
   }
  },
  {
   "cell_type": "code",
   "execution_count": 10,
   "outputs": [],
   "source": [
    "def getFilesArrayNew(paths):\n",
    "    l = []\n",
    "    for i in paths:\n",
    "        s = []\n",
    "        for j in i:\n",
    "            with rio.open(j, 'r') as f:\n",
    "                arr = f.read(1)\n",
    "                arr = arr[0:96,0:96]\n",
    "                s.append(arr)\n",
    "        if len(s) == 12:\n",
    "            l.append(s)\n",
    "    arr_st_new = np.stack(l)\n",
    "    return  arr_st_new"
   ],
   "metadata": {
    "collapsed": false,
    "ExecuteTime": {
     "end_time": "2023-06-06T20:56:17.138971200Z",
     "start_time": "2023-06-06T20:56:17.101670100Z"
    }
   }
  },
  {
   "cell_type": "code",
   "execution_count": 11,
   "outputs": [],
   "source": [
    "forest_st = getFilesArrayNew(S_sentinel_bands_forest);"
   ],
   "metadata": {
    "collapsed": false,
    "ExecuteTime": {
     "end_time": "2023-06-06T20:56:18.858198900Z",
     "start_time": "2023-06-06T20:56:17.688310800Z"
    }
   }
  },
  {
   "cell_type": "code",
   "execution_count": 12,
   "outputs": [
    {
     "ename": "ValueError",
     "evalue": "need at least one array to stack",
     "output_type": "error",
     "traceback": [
      "\u001B[0;31m---------------------------------------------------------------------------\u001B[0m",
      "\u001B[0;31mValueError\u001B[0m                                Traceback (most recent call last)",
      "Input \u001B[0;32mIn [12]\u001B[0m, in \u001B[0;36m<cell line: 1>\u001B[0;34m()\u001B[0m\n\u001B[0;32m----> 1\u001B[0m town_st \u001B[38;5;241m=\u001B[39m \u001B[43mgetFilesArrayNew\u001B[49m\u001B[43m(\u001B[49m\u001B[43mS_sentinel_bands_town\u001B[49m\u001B[43m)\u001B[49m\n",
      "Input \u001B[0;32mIn [10]\u001B[0m, in \u001B[0;36mgetFilesArrayNew\u001B[0;34m(paths)\u001B[0m\n\u001B[1;32m     10\u001B[0m     \u001B[38;5;28;01mif\u001B[39;00m \u001B[38;5;28mlen\u001B[39m(s) \u001B[38;5;241m==\u001B[39m \u001B[38;5;241m12\u001B[39m:\n\u001B[1;32m     11\u001B[0m         l\u001B[38;5;241m.\u001B[39mappend(s)\n\u001B[0;32m---> 12\u001B[0m arr_st_new \u001B[38;5;241m=\u001B[39m \u001B[43mnp\u001B[49m\u001B[38;5;241;43m.\u001B[39;49m\u001B[43mstack\u001B[49m\u001B[43m(\u001B[49m\u001B[43ml\u001B[49m\u001B[43m)\u001B[49m\n\u001B[1;32m     13\u001B[0m \u001B[38;5;28;01mreturn\u001B[39;00m  arr_st_new\n",
      "File \u001B[0;32m<__array_function__ internals>:180\u001B[0m, in \u001B[0;36mstack\u001B[0;34m(*args, **kwargs)\u001B[0m\n",
      "File \u001B[0;32m/usr/local/lib/python3.8/dist-packages/numpy/core/shape_base.py:422\u001B[0m, in \u001B[0;36mstack\u001B[0;34m(arrays, axis, out)\u001B[0m\n\u001B[1;32m    420\u001B[0m arrays \u001B[38;5;241m=\u001B[39m [asanyarray(arr) \u001B[38;5;28;01mfor\u001B[39;00m arr \u001B[38;5;129;01min\u001B[39;00m arrays]\n\u001B[1;32m    421\u001B[0m \u001B[38;5;28;01mif\u001B[39;00m \u001B[38;5;129;01mnot\u001B[39;00m arrays:\n\u001B[0;32m--> 422\u001B[0m     \u001B[38;5;28;01mraise\u001B[39;00m \u001B[38;5;167;01mValueError\u001B[39;00m(\u001B[38;5;124m'\u001B[39m\u001B[38;5;124mneed at least one array to stack\u001B[39m\u001B[38;5;124m'\u001B[39m)\n\u001B[1;32m    424\u001B[0m shapes \u001B[38;5;241m=\u001B[39m {arr\u001B[38;5;241m.\u001B[39mshape \u001B[38;5;28;01mfor\u001B[39;00m arr \u001B[38;5;129;01min\u001B[39;00m arrays}\n\u001B[1;32m    425\u001B[0m \u001B[38;5;28;01mif\u001B[39;00m \u001B[38;5;28mlen\u001B[39m(shapes) \u001B[38;5;241m!=\u001B[39m \u001B[38;5;241m1\u001B[39m:\n",
      "\u001B[0;31mValueError\u001B[0m: need at least one array to stack"
     ]
    }
   ],
   "source": [
    "town_st = getFilesArrayNew(S_sentinel_bands_town);"
   ],
   "metadata": {
    "collapsed": false,
    "ExecuteTime": {
     "end_time": "2023-06-06T20:56:18.969380800Z",
     "start_time": "2023-06-06T20:56:18.858198900Z"
    }
   }
  },
  {
   "cell_type": "code",
   "execution_count": null,
   "outputs": [],
   "source": [
    "water_st = getFilesArrayNew(S_sentinel_bands_water);"
   ],
   "metadata": {
    "collapsed": false
   }
  },
  {
   "cell_type": "code",
   "execution_count": null,
   "outputs": [],
   "source": [
    "field_st = getFilesArrayNew(S_sentinel_bands_field);"
   ],
   "metadata": {
    "collapsed": false
   }
  },
  {
   "cell_type": "code",
   "execution_count": null,
   "outputs": [],
   "source": [
    "sands_st = getFilesArrayNew(S_sentinel_bands_sands);"
   ],
   "metadata": {
    "collapsed": false
   }
  },
  {
   "cell_type": "code",
   "execution_count": 15,
   "outputs": [],
   "source": [],
   "metadata": {
    "collapsed": false
   }
  },
  {
   "cell_type": "code",
   "execution_count": 16,
   "outputs": [
    {
     "data": {
      "text/plain": "(89, 12, 96, 96)"
     },
     "execution_count": 16,
     "metadata": {},
     "output_type": "execute_result"
    }
   ],
   "source": [
    "town_st.shape"
   ],
   "metadata": {
    "collapsed": false
   }
  },
  {
   "cell_type": "code",
   "execution_count": 17,
   "outputs": [],
   "source": [
    "town_st2 = np.moveaxis(town_st, 1, -1)"
   ],
   "metadata": {
    "collapsed": false
   }
  },
  {
   "cell_type": "code",
   "execution_count": 18,
   "outputs": [],
   "source": [
    "water_st2 = np.moveaxis(water_st, 1, -1)"
   ],
   "metadata": {
    "collapsed": false
   }
  },
  {
   "cell_type": "code",
   "execution_count": 19,
   "outputs": [],
   "source": [
    "field_st2 = np.moveaxis(field_st, 1, -1)"
   ],
   "metadata": {
    "collapsed": false
   }
  },
  {
   "cell_type": "code",
   "execution_count": 20,
   "outputs": [],
   "source": [
    "sands_st2 = np.moveaxis(sands_st, 1, -1)"
   ],
   "metadata": {
    "collapsed": false
   }
  },
  {
   "cell_type": "code",
   "execution_count": 21,
   "outputs": [],
   "source": [
    "forest_st2 = np.moveaxis(forest_st, 1, -1)"
   ],
   "metadata": {
    "collapsed": false
   }
  },
  {
   "cell_type": "code",
   "execution_count": 22,
   "outputs": [],
   "source": [
    "town_st3 = town_st2.reshape(-1, 32,32,12)"
   ],
   "metadata": {
    "collapsed": false
   }
  },
  {
   "cell_type": "code",
   "execution_count": 23,
   "outputs": [],
   "source": [
    "water_st3 = water_st2.reshape(-1, 32,32,12)"
   ],
   "metadata": {
    "collapsed": false
   }
  },
  {
   "cell_type": "code",
   "execution_count": 24,
   "outputs": [],
   "source": [
    "field_st3 = field_st2.reshape(-1, 32,32,12)"
   ],
   "metadata": {
    "collapsed": false
   }
  },
  {
   "cell_type": "code",
   "execution_count": 25,
   "outputs": [],
   "source": [
    "sands_st3 = sands_st2.reshape(-1, 32,32,12)"
   ],
   "metadata": {
    "collapsed": false
   }
  },
  {
   "cell_type": "code",
   "execution_count": 26,
   "outputs": [],
   "source": [
    "forest_st3 = forest_st2.reshape(-1, 32,32,12)"
   ],
   "metadata": {
    "collapsed": false
   }
  },
  {
   "cell_type": "code",
   "execution_count": 27,
   "outputs": [
    {
     "data": {
      "text/plain": "(4311, 32, 32, 12)"
     },
     "execution_count": 27,
     "metadata": {},
     "output_type": "execute_result"
    }
   ],
   "source": [
    "x_data = np.append(field_st3, sands_st3,axis=0)\n",
    "x_data = np.append(x_data, town_st3,axis=0)\n",
    "x_data = np.append(x_data, water_st3, axis=0)\n",
    "x_data = np.append(x_data, forest_st3, axis=0)\n",
    "x_data.shape"
   ],
   "metadata": {
    "collapsed": false
   }
  },
  {
   "cell_type": "code",
   "execution_count": 28,
   "outputs": [],
   "source": [
    "y_town = np.full((town_st3.shape[0],town_st3.shape[1],town_st3.shape[2]),3)\n",
    "y_water = np.full((water_st3.shape[0],water_st3.shape[1],water_st3.shape[2]),4)\n",
    "y_field = np.full((field_st3.shape[0],field_st3.shape[1],field_st3.shape[2]),1)\n",
    "y_sands = np.full((sands_st3.shape[0],sands_st3.shape[1],sands_st3.shape[2]),2)\n",
    "y_forest = np.full((forest_st3.shape[0],forest_st3.shape[1],forest_st3.shape[2]),5)"
   ],
   "metadata": {
    "collapsed": false
   }
  },
  {
   "cell_type": "code",
   "execution_count": 29,
   "outputs": [],
   "source": [
    "y_data = np.append(y_field, y_sands,axis=0)\n",
    "y_data = np.append(y_data, y_town, axis=0)\n",
    "y_data = np.append(y_data, y_water, axis=0)\n",
    "y_data = np.append(y_data, y_forest, axis=0)"
   ],
   "metadata": {
    "collapsed": false
   }
  },
  {
   "cell_type": "code",
   "execution_count": 30,
   "outputs": [
    {
     "data": {
      "text/plain": "(4311, 32, 32)"
     },
     "execution_count": 30,
     "metadata": {},
     "output_type": "execute_result"
    }
   ],
   "source": [
    "y_data.shape"
   ],
   "metadata": {
    "collapsed": false
   }
  },
  {
   "cell_type": "code",
   "execution_count": 31,
   "outputs": [
    {
     "ename": "NameError",
     "evalue": "name 't_st' is not defined",
     "output_type": "error",
     "traceback": [
      "\u001B[0;31m---------------------------------------------------------------------------\u001B[0m",
      "\u001B[0;31mNameError\u001B[0m                                 Traceback (most recent call last)",
      "Input \u001B[0;32mIn [31]\u001B[0m, in \u001B[0;36m<cell line: 1>\u001B[0;34m()\u001B[0m\n\u001B[0;32m----> 1\u001B[0m t_sst \u001B[38;5;241m=\u001B[39m \u001B[43mt_st\u001B[49m\u001B[38;5;241m.\u001B[39mreshape(\u001B[38;5;241m-\u001B[39m\u001B[38;5;241m1\u001B[39m, \u001B[38;5;241m20\u001B[39m,\u001B[38;5;241m20\u001B[39m,\u001B[38;5;241m12\u001B[39m)\n",
      "\u001B[0;31mNameError\u001B[0m: name 't_st' is not defined"
     ]
    }
   ],
   "source": [
    "t_sst = t_st.reshape(-1, 20,20,12)"
   ],
   "metadata": {
    "collapsed": false
   }
  },
  {
   "cell_type": "code",
   "execution_count": 1,
   "outputs": [],
   "source": [
    "#Let's import some important Libraries\n",
    "import tensorflow as tf\n",
    "from keras.models import Sequential, Model\n",
    "from keras.layers import Dense, Input\n",
    "from keras.utils import np_utils"
   ],
   "metadata": {
    "collapsed": false,
    "ExecuteTime": {
     "end_time": "2023-06-06T20:55:26.667080700Z",
     "start_time": "2023-06-06T20:55:19.240771400Z"
    }
   }
  },
  {
   "cell_type": "code",
   "execution_count": 33,
   "outputs": [],
   "source": [
    "y_data_train_cate = np_utils.to_categorical(y_data)"
   ],
   "metadata": {
    "collapsed": false
   }
  },
  {
   "cell_type": "code",
   "execution_count": 34,
   "outputs": [],
   "source": [
    "import numpy as np # linear algebra\n",
    "import pandas as pd # data processing, CSV file I/O (e.g. pd.read_csv)\n",
    "import matplotlib.pyplot as plt\n",
    "import pandas as pd"
   ],
   "metadata": {
    "collapsed": false
   }
  },
  {
   "cell_type": "code",
   "execution_count": 35,
   "outputs": [],
   "source": [
    "from keras.layers import *\n",
    "from keras.layers.convolutional import Conv2D\n",
    "from keras.layers.pooling import MaxPooling2D"
   ],
   "metadata": {
    "collapsed": false
   }
  },
  {
   "cell_type": "code",
   "execution_count": 36,
   "outputs": [
    {
     "name": "stderr",
     "output_type": "stream",
     "text": [
      "2022-11-23 18:43:07.196333: E tensorflow/stream_executor/cuda/cuda_driver.cc:271] failed call to cuInit: UNKNOWN ERROR (34)\n",
      "2022-11-23 18:43:07.196406: I tensorflow/stream_executor/cuda/cuda_diagnostics.cc:156] kernel driver does not appear to be running on this host (acdaaf78663d): /proc/driver/nvidia/version does not exist\n",
      "2022-11-23 18:43:07.196637: I tensorflow/core/platform/cpu_feature_guard.cc:193] This TensorFlow binary is optimized with oneAPI Deep Neural Network Library (oneDNN) to use the following CPU instructions in performance-critical operations:  AVX2 FMA\n",
      "To enable them in other operations, rebuild TensorFlow with the appropriate compiler flags.\n"
     ]
    }
   ],
   "source": [
    "model_new = tf.keras.models.Sequential([\n",
    "    Conv2D(32,(3,3),padding='same',input_shape=(32,32,12)),\n",
    "    Conv2D(32,(3,3),padding='same',input_shape=(32,32,12)),\n",
    "    Activation('relu'),\n",
    "    MaxPooling2D(pool_size=(2,2)),\n",
    "    Conv2D(64,(3,3), padding='same'),\n",
    "    Activation('relu'),\n",
    "    #We are naming this layer, as we will extract features from it in future, JUST WAIT !!!\n",
    "    MaxPooling2D(pool_size=(2,2),name='feature_layer'),\n",
    "    UpSampling2D((4,4)),\n",
    "    Conv2D(6,(1,1),padding='same'),\n",
    "    Activation('relu'),\n",
    "    # model.add(Flatten())\n",
    "    # model.add(Dense(24))\n",
    "    # model.add(Activation('relu'))\n",
    "    # model.add(Dropout(0.5))\n",
    "    # model.add(Dense(6))\n",
    "    Dense(6),\n",
    "    Reshape((-1,6)),\n",
    "    Activation('softmax'),\n",
    "])"
   ],
   "metadata": {
    "collapsed": false
   }
  },
  {
   "cell_type": "code",
   "execution_count": 37,
   "outputs": [],
   "source": [
    "model_new.compile(loss='categorical_crossentropy',optimizer='rmsprop',metrics=['accuracy'])"
   ],
   "metadata": {
    "collapsed": false
   }
  },
  {
   "cell_type": "code",
   "execution_count": 38,
   "outputs": [
    {
     "name": "stdout",
     "output_type": "stream",
     "text": [
      "Model: \"sequential\"\n",
      "_________________________________________________________________\n",
      " Layer (type)                Output Shape              Param #   \n",
      "=================================================================\n",
      " conv2d (Conv2D)             (None, 32, 32, 32)        3488      \n",
      "                                                                 \n",
      " conv2d_1 (Conv2D)           (None, 32, 32, 32)        9248      \n",
      "                                                                 \n",
      " activation (Activation)     (None, 32, 32, 32)        0         \n",
      "                                                                 \n",
      " max_pooling2d (MaxPooling2D  (None, 16, 16, 32)       0         \n",
      " )                                                               \n",
      "                                                                 \n",
      " conv2d_2 (Conv2D)           (None, 16, 16, 64)        18496     \n",
      "                                                                 \n",
      " activation_1 (Activation)   (None, 16, 16, 64)        0         \n",
      "                                                                 \n",
      " feature_layer (MaxPooling2D  (None, 8, 8, 64)         0         \n",
      " )                                                               \n",
      "                                                                 \n",
      " up_sampling2d (UpSampling2D  (None, 32, 32, 64)       0         \n",
      " )                                                               \n",
      "                                                                 \n",
      " conv2d_3 (Conv2D)           (None, 32, 32, 6)         390       \n",
      "                                                                 \n",
      " activation_2 (Activation)   (None, 32, 32, 6)         0         \n",
      "                                                                 \n",
      " dense (Dense)               (None, 32, 32, 6)         42        \n",
      "                                                                 \n",
      " reshape (Reshape)           (None, 1024, 6)           0         \n",
      "                                                                 \n",
      " activation_3 (Activation)   (None, 1024, 6)           0         \n",
      "                                                                 \n",
      "=================================================================\n",
      "Total params: 31,664\n",
      "Trainable params: 31,664\n",
      "Non-trainable params: 0\n",
      "_________________________________________________________________\n"
     ]
    }
   ],
   "source": [
    "model_new.summary()"
   ],
   "metadata": {
    "collapsed": false
   }
  },
  {
   "cell_type": "code",
   "execution_count": 43,
   "outputs": [],
   "source": [
    "inputs = Input(shape=(32,32,12))\n",
    "x = Conv2D(32, 3,strides=2, padding=\"same\")(inputs)\n",
    "x = BatchNormalization()(x)\n",
    "x = Activation(\"relu\")(x)\n",
    "x = SpatialDropout2D(0.5)(x)\n",
    "\n",
    "previous_block_activation = x\n",
    "\n",
    "for filters in [64, 128, 256]:\n",
    "    x = Activation(\"relu\")(x)\n",
    "    x = SeparableConv2D(filters, 3, padding=\"same\")(x)\n",
    "    x = BatchNormalization()(x)\n",
    "\n",
    "    x = Activation(\"relu\")(x)\n",
    "    x = SeparableConv2D(filters, 3, padding=\"same\")(x)\n",
    "    x = BatchNormalization()(x)\n",
    "\n",
    "    x = MaxPooling2D(3, strides=2, padding=\"same\")(x)\n",
    "\n",
    "    residual = Conv2D(filters, 3, strides=2, padding=\"same\")(previous_block_activation)\n",
    "    x = add([x, residual])\n",
    "    #x = Dropout(0.3)(x)\n",
    "    previous_block_activation = x\n",
    "\n",
    "for filters in [256, 128, 64, 32]:\n",
    "    x = Activation(\"relu\")(x)\n",
    "    x = Conv2DTranspose(filters, 3, padding=\"same\")(x)\n",
    "    x = BatchNormalization()(x)\n",
    "\n",
    "    x = Activation(\"relu\")(x)\n",
    "    x = Conv2DTranspose(filters, 3, padding=\"same\")(x)\n",
    "    x = BatchNormalization()(x)\n",
    "\n",
    "    x = UpSampling2D(2)(x)\n",
    "\n",
    "    residual = UpSampling2D(2)(previous_block_activation)\n",
    "    residual = Conv2D(filters, 3, padding=\"same\")(residual)\n",
    "    x = add([x, residual])  # Add back residual\n",
    "    #x = Dropout(0.3)(x)\n",
    "    previous_block_activation = x\n",
    "\n",
    "outputs = Conv2D(6, 3, activation=\"softmax\", padding=\"same\")(x)\n",
    "#outputs = Reshape((20,20,6))(outputs)\n",
    "outputs = Activation(\"relu\")(outputs)\n",
    "#outputs = Reshape((10,10,6))(outputs)"
   ],
   "metadata": {
    "collapsed": false
   }
  },
  {
   "cell_type": "code",
   "execution_count": 44,
   "outputs": [
    {
     "data": {
      "text/plain": "TensorShape([None, 32, 32, 32])"
     },
     "execution_count": 44,
     "metadata": {},
     "output_type": "execute_result"
    }
   ],
   "source": [
    "previous_block_activation.shape"
   ],
   "metadata": {
    "collapsed": false
   }
  },
  {
   "cell_type": "code",
   "execution_count": 45,
   "outputs": [],
   "source": [
    "model = Model(inputs, outputs)"
   ],
   "metadata": {
    "collapsed": false
   }
  },
  {
   "cell_type": "code",
   "execution_count": 46,
   "outputs": [],
   "source": [
    "model.compile(loss='categorical_crossentropy',optimizer='rmsprop',metrics=['accuracy','MeanSquaredError'])"
   ],
   "metadata": {
    "collapsed": false
   }
  },
  {
   "cell_type": "code",
   "execution_count": 47,
   "outputs": [
    {
     "name": "stdout",
     "output_type": "stream",
     "text": [
      "Model: \"model\"\n",
      "__________________________________________________________________________________________________\n",
      " Layer (type)                   Output Shape         Param #     Connected to                     \n",
      "==================================================================================================\n",
      " input_1 (InputLayer)           [(None, 32, 32, 12)  0           []                               \n",
      "                                ]                                                                 \n",
      "                                                                                                  \n",
      " conv2d_4 (Conv2D)              (None, 16, 16, 32)   3488        ['input_1[0][0]']                \n",
      "                                                                                                  \n",
      " batch_normalization (BatchNorm  (None, 16, 16, 32)  128         ['conv2d_4[0][0]']               \n",
      " alization)                                                                                       \n",
      "                                                                                                  \n",
      " activation_4 (Activation)      (None, 16, 16, 32)   0           ['batch_normalization[0][0]']    \n",
      "                                                                                                  \n",
      " spatial_dropout2d (SpatialDrop  (None, 16, 16, 32)  0           ['activation_4[0][0]']           \n",
      " out2D)                                                                                           \n",
      "                                                                                                  \n",
      " activation_5 (Activation)      (None, 16, 16, 32)   0           ['spatial_dropout2d[0][0]']      \n",
      "                                                                                                  \n",
      " separable_conv2d (SeparableCon  (None, 16, 16, 64)  2400        ['activation_5[0][0]']           \n",
      " v2D)                                                                                             \n",
      "                                                                                                  \n",
      " batch_normalization_1 (BatchNo  (None, 16, 16, 64)  256         ['separable_conv2d[0][0]']       \n",
      " rmalization)                                                                                     \n",
      "                                                                                                  \n",
      " activation_6 (Activation)      (None, 16, 16, 64)   0           ['batch_normalization_1[0][0]']  \n",
      "                                                                                                  \n",
      " separable_conv2d_1 (SeparableC  (None, 16, 16, 64)  4736        ['activation_6[0][0]']           \n",
      " onv2D)                                                                                           \n",
      "                                                                                                  \n",
      " batch_normalization_2 (BatchNo  (None, 16, 16, 64)  256         ['separable_conv2d_1[0][0]']     \n",
      " rmalization)                                                                                     \n",
      "                                                                                                  \n",
      " max_pooling2d_1 (MaxPooling2D)  (None, 8, 8, 64)    0           ['batch_normalization_2[0][0]']  \n",
      "                                                                                                  \n",
      " conv2d_5 (Conv2D)              (None, 8, 8, 64)     18496       ['spatial_dropout2d[0][0]']      \n",
      "                                                                                                  \n",
      " add (Add)                      (None, 8, 8, 64)     0           ['max_pooling2d_1[0][0]',        \n",
      "                                                                  'conv2d_5[0][0]']               \n",
      "                                                                                                  \n",
      " activation_7 (Activation)      (None, 8, 8, 64)     0           ['add[0][0]']                    \n",
      "                                                                                                  \n",
      " separable_conv2d_2 (SeparableC  (None, 8, 8, 128)   8896        ['activation_7[0][0]']           \n",
      " onv2D)                                                                                           \n",
      "                                                                                                  \n",
      " batch_normalization_3 (BatchNo  (None, 8, 8, 128)   512         ['separable_conv2d_2[0][0]']     \n",
      " rmalization)                                                                                     \n",
      "                                                                                                  \n",
      " activation_8 (Activation)      (None, 8, 8, 128)    0           ['batch_normalization_3[0][0]']  \n",
      "                                                                                                  \n",
      " separable_conv2d_3 (SeparableC  (None, 8, 8, 128)   17664       ['activation_8[0][0]']           \n",
      " onv2D)                                                                                           \n",
      "                                                                                                  \n",
      " batch_normalization_4 (BatchNo  (None, 8, 8, 128)   512         ['separable_conv2d_3[0][0]']     \n",
      " rmalization)                                                                                     \n",
      "                                                                                                  \n",
      " max_pooling2d_2 (MaxPooling2D)  (None, 4, 4, 128)   0           ['batch_normalization_4[0][0]']  \n",
      "                                                                                                  \n",
      " conv2d_6 (Conv2D)              (None, 4, 4, 128)    73856       ['add[0][0]']                    \n",
      "                                                                                                  \n",
      " add_1 (Add)                    (None, 4, 4, 128)    0           ['max_pooling2d_2[0][0]',        \n",
      "                                                                  'conv2d_6[0][0]']               \n",
      "                                                                                                  \n",
      " activation_9 (Activation)      (None, 4, 4, 128)    0           ['add_1[0][0]']                  \n",
      "                                                                                                  \n",
      " separable_conv2d_4 (SeparableC  (None, 4, 4, 256)   34176       ['activation_9[0][0]']           \n",
      " onv2D)                                                                                           \n",
      "                                                                                                  \n",
      " batch_normalization_5 (BatchNo  (None, 4, 4, 256)   1024        ['separable_conv2d_4[0][0]']     \n",
      " rmalization)                                                                                     \n",
      "                                                                                                  \n",
      " activation_10 (Activation)     (None, 4, 4, 256)    0           ['batch_normalization_5[0][0]']  \n",
      "                                                                                                  \n",
      " separable_conv2d_5 (SeparableC  (None, 4, 4, 256)   68096       ['activation_10[0][0]']          \n",
      " onv2D)                                                                                           \n",
      "                                                                                                  \n",
      " batch_normalization_6 (BatchNo  (None, 4, 4, 256)   1024        ['separable_conv2d_5[0][0]']     \n",
      " rmalization)                                                                                     \n",
      "                                                                                                  \n",
      " max_pooling2d_3 (MaxPooling2D)  (None, 2, 2, 256)   0           ['batch_normalization_6[0][0]']  \n",
      "                                                                                                  \n",
      " conv2d_7 (Conv2D)              (None, 2, 2, 256)    295168      ['add_1[0][0]']                  \n",
      "                                                                                                  \n",
      " add_2 (Add)                    (None, 2, 2, 256)    0           ['max_pooling2d_3[0][0]',        \n",
      "                                                                  'conv2d_7[0][0]']               \n",
      "                                                                                                  \n",
      " activation_11 (Activation)     (None, 2, 2, 256)    0           ['add_2[0][0]']                  \n",
      "                                                                                                  \n",
      " conv2d_transpose (Conv2DTransp  (None, 2, 2, 256)   590080      ['activation_11[0][0]']          \n",
      " ose)                                                                                             \n",
      "                                                                                                  \n",
      " batch_normalization_7 (BatchNo  (None, 2, 2, 256)   1024        ['conv2d_transpose[0][0]']       \n",
      " rmalization)                                                                                     \n",
      "                                                                                                  \n",
      " activation_12 (Activation)     (None, 2, 2, 256)    0           ['batch_normalization_7[0][0]']  \n",
      "                                                                                                  \n",
      " conv2d_transpose_1 (Conv2DTran  (None, 2, 2, 256)   590080      ['activation_12[0][0]']          \n",
      " spose)                                                                                           \n",
      "                                                                                                  \n",
      " batch_normalization_8 (BatchNo  (None, 2, 2, 256)   1024        ['conv2d_transpose_1[0][0]']     \n",
      " rmalization)                                                                                     \n",
      "                                                                                                  \n",
      " up_sampling2d_2 (UpSampling2D)  (None, 4, 4, 256)   0           ['add_2[0][0]']                  \n",
      "                                                                                                  \n",
      " up_sampling2d_1 (UpSampling2D)  (None, 4, 4, 256)   0           ['batch_normalization_8[0][0]']  \n",
      "                                                                                                  \n",
      " conv2d_8 (Conv2D)              (None, 4, 4, 256)    590080      ['up_sampling2d_2[0][0]']        \n",
      "                                                                                                  \n",
      " add_3 (Add)                    (None, 4, 4, 256)    0           ['up_sampling2d_1[0][0]',        \n",
      "                                                                  'conv2d_8[0][0]']               \n",
      "                                                                                                  \n",
      " activation_13 (Activation)     (None, 4, 4, 256)    0           ['add_3[0][0]']                  \n",
      "                                                                                                  \n",
      " conv2d_transpose_2 (Conv2DTran  (None, 4, 4, 128)   295040      ['activation_13[0][0]']          \n",
      " spose)                                                                                           \n",
      "                                                                                                  \n",
      " batch_normalization_9 (BatchNo  (None, 4, 4, 128)   512         ['conv2d_transpose_2[0][0]']     \n",
      " rmalization)                                                                                     \n",
      "                                                                                                  \n",
      " activation_14 (Activation)     (None, 4, 4, 128)    0           ['batch_normalization_9[0][0]']  \n",
      "                                                                                                  \n",
      " conv2d_transpose_3 (Conv2DTran  (None, 4, 4, 128)   147584      ['activation_14[0][0]']          \n",
      " spose)                                                                                           \n",
      "                                                                                                  \n",
      " batch_normalization_10 (BatchN  (None, 4, 4, 128)   512         ['conv2d_transpose_3[0][0]']     \n",
      " ormalization)                                                                                    \n",
      "                                                                                                  \n",
      " up_sampling2d_4 (UpSampling2D)  (None, 8, 8, 256)   0           ['add_3[0][0]']                  \n",
      "                                                                                                  \n",
      " up_sampling2d_3 (UpSampling2D)  (None, 8, 8, 128)   0           ['batch_normalization_10[0][0]'] \n",
      "                                                                                                  \n",
      " conv2d_9 (Conv2D)              (None, 8, 8, 128)    295040      ['up_sampling2d_4[0][0]']        \n",
      "                                                                                                  \n",
      " add_4 (Add)                    (None, 8, 8, 128)    0           ['up_sampling2d_3[0][0]',        \n",
      "                                                                  'conv2d_9[0][0]']               \n",
      "                                                                                                  \n",
      " activation_15 (Activation)     (None, 8, 8, 128)    0           ['add_4[0][0]']                  \n",
      "                                                                                                  \n",
      " conv2d_transpose_4 (Conv2DTran  (None, 8, 8, 64)    73792       ['activation_15[0][0]']          \n",
      " spose)                                                                                           \n",
      "                                                                                                  \n",
      " batch_normalization_11 (BatchN  (None, 8, 8, 64)    256         ['conv2d_transpose_4[0][0]']     \n",
      " ormalization)                                                                                    \n",
      "                                                                                                  \n",
      " activation_16 (Activation)     (None, 8, 8, 64)     0           ['batch_normalization_11[0][0]'] \n",
      "                                                                                                  \n",
      " conv2d_transpose_5 (Conv2DTran  (None, 8, 8, 64)    36928       ['activation_16[0][0]']          \n",
      " spose)                                                                                           \n",
      "                                                                                                  \n",
      " batch_normalization_12 (BatchN  (None, 8, 8, 64)    256         ['conv2d_transpose_5[0][0]']     \n",
      " ormalization)                                                                                    \n",
      "                                                                                                  \n",
      " up_sampling2d_6 (UpSampling2D)  (None, 16, 16, 128)  0          ['add_4[0][0]']                  \n",
      "                                                                                                  \n",
      " up_sampling2d_5 (UpSampling2D)  (None, 16, 16, 64)  0           ['batch_normalization_12[0][0]'] \n",
      "                                                                                                  \n",
      " conv2d_10 (Conv2D)             (None, 16, 16, 64)   73792       ['up_sampling2d_6[0][0]']        \n",
      "                                                                                                  \n",
      " add_5 (Add)                    (None, 16, 16, 64)   0           ['up_sampling2d_5[0][0]',        \n",
      "                                                                  'conv2d_10[0][0]']              \n",
      "                                                                                                  \n",
      " activation_17 (Activation)     (None, 16, 16, 64)   0           ['add_5[0][0]']                  \n",
      "                                                                                                  \n",
      " conv2d_transpose_6 (Conv2DTran  (None, 16, 16, 32)  18464       ['activation_17[0][0]']          \n",
      " spose)                                                                                           \n",
      "                                                                                                  \n",
      " batch_normalization_13 (BatchN  (None, 16, 16, 32)  128         ['conv2d_transpose_6[0][0]']     \n",
      " ormalization)                                                                                    \n",
      "                                                                                                  \n",
      " activation_18 (Activation)     (None, 16, 16, 32)   0           ['batch_normalization_13[0][0]'] \n",
      "                                                                                                  \n",
      " conv2d_transpose_7 (Conv2DTran  (None, 16, 16, 32)  9248        ['activation_18[0][0]']          \n",
      " spose)                                                                                           \n",
      "                                                                                                  \n",
      " batch_normalization_14 (BatchN  (None, 16, 16, 32)  128         ['conv2d_transpose_7[0][0]']     \n",
      " ormalization)                                                                                    \n",
      "                                                                                                  \n",
      " up_sampling2d_8 (UpSampling2D)  (None, 32, 32, 64)  0           ['add_5[0][0]']                  \n",
      "                                                                                                  \n",
      " up_sampling2d_7 (UpSampling2D)  (None, 32, 32, 32)  0           ['batch_normalization_14[0][0]'] \n",
      "                                                                                                  \n",
      " conv2d_11 (Conv2D)             (None, 32, 32, 32)   18464       ['up_sampling2d_8[0][0]']        \n",
      "                                                                                                  \n",
      " add_6 (Add)                    (None, 32, 32, 32)   0           ['up_sampling2d_7[0][0]',        \n",
      "                                                                  'conv2d_11[0][0]']              \n",
      "                                                                                                  \n",
      " conv2d_12 (Conv2D)             (None, 32, 32, 6)    1734        ['add_6[0][0]']                  \n",
      "                                                                                                  \n",
      " activation_19 (Activation)     (None, 32, 32, 6)    0           ['conv2d_12[0][0]']              \n",
      "                                                                                                  \n",
      "==================================================================================================\n",
      "Total params: 3,274,854\n",
      "Trainable params: 3,271,078\n",
      "Non-trainable params: 3,776\n",
      "__________________________________________________________________________________________________\n"
     ]
    }
   ],
   "source": [
    "model.summary()"
   ],
   "metadata": {
    "collapsed": false
   }
  },
  {
   "cell_type": "code",
   "execution_count": 191,
   "outputs": [],
   "source": [
    "x_data_norm = tf.keras.utils.normalize(x_data)"
   ],
   "metadata": {
    "collapsed": false
   }
  },
  {
   "cell_type": "code",
   "execution_count": 39,
   "outputs": [],
   "source": [
    "x_train = x_data"
   ],
   "metadata": {
    "collapsed": false
   }
  },
  {
   "cell_type": "code",
   "execution_count": 40,
   "outputs": [
    {
     "data": {
      "text/plain": "array([[[[5, 0, 5, ..., 0, 5, 6],\n         [5, 0, 5, ..., 0, 5, 6],\n         [5, 0, 5, ..., 0, 5, 6],\n         ...,\n         [6, 0, 5, ..., 1, 5, 0],\n         [6, 0, 5, ..., 1, 5, 0],\n         [6, 0, 5, ..., 1, 5, 6]],\n\n        [[5, 0, 5, ..., 1, 5, 6],\n         [5, 0, 5, ..., 1, 5, 6],\n         [5, 0, 5, ..., 1, 5, 6],\n         ...,\n         [6, 0, 5, ..., 0, 5, 0],\n         [6, 0, 5, ..., 0, 5, 0],\n         [6, 0, 5, ..., 0, 5, 0]],\n\n        [[6, 0, 5, ..., 0, 5, 0],\n         [6, 0, 5, ..., 0, 5, 0],\n         [6, 0, 5, ..., 0, 5, 0],\n         ...,\n         [6, 0, 5, ..., 0, 5, 0],\n         [6, 0, 5, ..., 0, 5, 0],\n         [6, 0, 5, ..., 0, 5, 0]],\n\n        ...,\n\n        [[6, 0, 5, ..., 0, 5, 0],\n         [6, 1, 5, ..., 0, 5, 0],\n         [6, 1, 5, ..., 0, 5, 0],\n         ...,\n         [6, 0, 5, ..., 0, 5, 6],\n         [5, 0, 5, ..., 0, 5, 6],\n         [6, 0, 5, ..., 0, 5, 6]],\n\n        [[6, 0, 5, ..., 0, 5, 6],\n         [6, 0, 5, ..., 0, 5, 6],\n         [6, 0, 5, ..., 1, 5, 6],\n         ...,\n         [6, 0, 5, ..., 1, 5, 0],\n         [6, 0, 5, ..., 1, 5, 0],\n         [6, 0, 5, ..., 1, 5, 0]],\n\n        [[6, 0, 5, ..., 1, 5, 0],\n         [6, 0, 5, ..., 1, 5, 6],\n         [5, 0, 5, ..., 1, 5, 6],\n         ...,\n         [6, 0, 5, ..., 0, 5, 0],\n         [6, 0, 5, ..., 0, 5, 0],\n         [6, 0, 5, ..., 0, 5, 0]]],\n\n\n       [[[6, 0, 5, ..., 0, 5, 0],\n         [6, 1, 5, ..., 0, 5, 0],\n         [6, 1, 5, ..., 0, 5, 0],\n         ...,\n         [6, 0, 5, ..., 0, 5, 6],\n         [5, 0, 5, ..., 0, 5, 6],\n         [5, 0, 5, ..., 0, 5, 6]],\n\n        [[6, 0, 5, ..., 0, 5, 6],\n         [6, 0, 5, ..., 0, 5, 6],\n         [6, 0, 5, ..., 0, 5, 6],\n         ...,\n         [6, 0, 5, ..., 1, 5, 0],\n         [6, 0, 5, ..., 1, 5, 0],\n         [6, 0, 5, ..., 1, 5, 0]],\n\n        [[6, 0, 5, ..., 1, 5, 0],\n         [6, 0, 5, ..., 1, 5, 6],\n         [5, 0, 5, ..., 1, 5, 6],\n         ...,\n         [6, 0, 5, ..., 1, 5, 0],\n         [6, 0, 5, ..., 0, 5, 0],\n         [6, 0, 5, ..., 0, 5, 0]],\n\n        ...,\n\n        [[5, 0, 5, ..., 0, 5, 6],\n         [5, 0, 5, ..., 0, 5, 6],\n         [5, 0, 5, ..., 0, 5, 6],\n         ...,\n         [6, 0, 5, ..., 1, 5, 0],\n         [6, 0, 5, ..., 1, 5, 0],\n         [6, 0, 5, ..., 0, 5, 0]],\n\n        [[6, 0, 5, ..., 0, 5, 0],\n         [6, 1, 5, ..., 0, 5, 0],\n         [6, 1, 5, ..., 0, 5, 0],\n         ...,\n         [6, 0, 5, ..., 0, 5, 0],\n         [6, 0, 5, ..., 0, 5, 0],\n         [6, 0, 5, ..., 0, 5, 0]],\n\n        [[6, 0, 5, ..., 0, 5, 6],\n         [6, 0, 5, ..., 0, 5, 6],\n         [6, 0, 5, ..., 0, 5, 6],\n         ...,\n         [5, 0, 5, ..., 0, 5, 6],\n         [6, 0, 5, ..., 0, 5, 0],\n         [6, 0, 5, ..., 0, 5, 6]]],\n\n\n       [[[5, 0, 5, ..., 0, 5, 6],\n         [5, 0, 5, ..., 0, 5, 6],\n         [5, 0, 5, ..., 0, 5, 6],\n         ...,\n         [6, 0, 5, ..., 1, 5, 0],\n         [6, 0, 5, ..., 1, 5, 0],\n         [6, 0, 5, ..., 0, 5, 0]],\n\n        [[6, 0, 5, ..., 0, 5, 0],\n         [6, 0, 5, ..., 0, 5, 0],\n         [6, 1, 5, ..., 0, 5, 0],\n         ...,\n         [6, 0, 5, ..., 1, 5, 0],\n         [6, 0, 5, ..., 0, 5, 0],\n         [6, 0, 5, ..., 0, 5, 0]],\n\n        [[6, 0, 5, ..., 0, 5, 6],\n         [6, 0, 5, ..., 0, 5, 6],\n         [6, 0, 5, ..., 1, 5, 6],\n         ...,\n         [5, 0, 5, ..., 0, 5, 6],\n         [6, 0, 5, ..., 0, 5, 0],\n         [6, 0, 5, ..., 0, 5, 6]],\n\n        ...,\n\n        [[6, 0, 5, ..., 1, 5, 0],\n         [6, 0, 5, ..., 1, 5, 0],\n         [6, 0, 5, ..., 1, 5, 0],\n         ...,\n         [5, 0, 5, ..., 0, 5, 6],\n         [5, 0, 5, ..., 0, 5, 6],\n         [6, 0, 5, ..., 0, 5, 6]],\n\n        [[6, 0, 5, ..., 0, 5, 0],\n         [5, 0, 5, ..., 0, 5, 6],\n         [5, 0, 5, ..., 0, 5, 6],\n         ...,\n         [6, 0, 5, ..., 1, 5, 0],\n         [6, 0, 5, ..., 1, 5, 0],\n         [6, 0, 5, ..., 1, 5, 0]],\n\n        [[6, 0, 5, ..., 1, 5, 0],\n         [6, 0, 5, ..., 0, 5, 0],\n         [6, 0, 5, ..., 0, 5, 0],\n         ...,\n         [6, 0, 5, ..., 0, 5, 0],\n         [6, 0, 5, ..., 0, 5, 0],\n         [6, 0, 5, ..., 0, 5, 0]]],\n\n\n       ...,\n\n\n       [[[5, 1, 5, ..., 5, 1, 1],\n         [5, 1, 5, ..., 5, 1, 1],\n         [5, 1, 5, ..., 5, 1, 1],\n         ...,\n         [5, 1, 5, ..., 5, 1, 1],\n         [5, 1, 5, ..., 5, 1, 1],\n         [5, 1, 5, ..., 5, 1, 1]],\n\n        [[5, 1, 5, ..., 5, 1, 1],\n         [5, 1, 5, ..., 5, 1, 1],\n         [5, 1, 5, ..., 5, 1, 1],\n         ...,\n         [6, 1, 5, ..., 5, 1, 1],\n         [6, 1, 5, ..., 5, 1, 1],\n         [5, 1, 5, ..., 5, 1, 1]],\n\n        [[5, 1, 5, ..., 5, 1, 1],\n         [5, 1, 5, ..., 5, 1, 1],\n         [6, 1, 5, ..., 5, 1, 1],\n         ...,\n         [6, 1, 5, ..., 5, 1, 1],\n         [5, 1, 5, ..., 5, 1, 1],\n         [5, 1, 5, ..., 5, 1, 1]],\n\n        ...,\n\n        [[5, 1, 5, ..., 5, 1, 1],\n         [5, 1, 5, ..., 5, 1, 1],\n         [6, 1, 5, ..., 5, 1, 1],\n         ...,\n         [6, 1, 5, ..., 5, 1, 1],\n         [6, 1, 5, ..., 5, 1, 1],\n         [6, 1, 5, ..., 5, 1, 1]],\n\n        [[5, 1, 5, ..., 5, 1, 1],\n         [5, 1, 5, ..., 5, 1, 1],\n         [5, 1, 5, ..., 5, 1, 1],\n         ...,\n         [6, 1, 5, ..., 5, 1, 1],\n         [6, 1, 5, ..., 5, 1, 1],\n         [6, 1, 5, ..., 5, 1, 1]],\n\n        [[6, 1, 5, ..., 5, 1, 1],\n         [5, 1, 5, ..., 5, 1, 1],\n         [5, 1, 5, ..., 5, 1, 1],\n         ...,\n         [6, 1, 5, ..., 5, 1, 1],\n         [5, 1, 5, ..., 5, 1, 1],\n         [5, 1, 5, ..., 5, 1, 1]]],\n\n\n       [[[5, 1, 5, ..., 5, 1, 1],\n         [6, 1, 5, ..., 5, 1, 1],\n         [6, 1, 5, ..., 5, 1, 1],\n         ...,\n         [6, 1, 5, ..., 5, 1, 1],\n         [6, 1, 5, ..., 5, 1, 1],\n         [6, 1, 5, ..., 5, 1, 1]],\n\n        [[6, 1, 5, ..., 5, 1, 1],\n         [6, 1, 5, ..., 5, 1, 1],\n         [5, 1, 5, ..., 5, 1, 1],\n         ...,\n         [6, 1, 5, ..., 5, 1, 1],\n         [6, 2, 5, ..., 5, 1, 1],\n         [5, 1, 5, ..., 5, 1, 1]],\n\n        [[5, 1, 5, ..., 5, 1, 1],\n         [5, 1, 5, ..., 5, 1, 1],\n         [5, 1, 5, ..., 5, 0, 1],\n         ...,\n         [5, 1, 5, ..., 5, 1, 1],\n         [5, 1, 5, ..., 5, 1, 1],\n         [5, 1, 5, ..., 5, 1, 1]],\n\n        ...,\n\n        [[5, 1, 5, ..., 5, 1, 1],\n         [6, 1, 5, ..., 5, 1, 1],\n         [6, 1, 5, ..., 5, 1, 1],\n         ...,\n         [6, 1, 5, ..., 5, 1, 1],\n         [6, 1, 5, ..., 5, 1, 1],\n         [5, 1, 5, ..., 5, 1, 1]],\n\n        [[6, 1, 5, ..., 5, 1, 1],\n         [6, 1, 5, ..., 5, 1, 1],\n         [6, 1, 5, ..., 5, 1, 1],\n         ...,\n         [6, 1, 5, ..., 5, 1, 1],\n         [6, 1, 5, ..., 5, 1, 1],\n         [6, 1, 5, ..., 5, 1, 1]],\n\n        [[5, 1, 5, ..., 5, 1, 1],\n         [6, 1, 5, ..., 5, 1, 1],\n         [5, 1, 5, ..., 5, 1, 1],\n         ...,\n         [5, 1, 5, ..., 5, 1, 1],\n         [5, 1, 5, ..., 5, 1, 1],\n         [5, 1, 5, ..., 5, 1, 1]]],\n\n\n       [[[6, 1, 5, ..., 5, 1, 1],\n         [6, 2, 5, ..., 5, 1, 1],\n         [6, 1, 5, ..., 5, 1, 1],\n         ...,\n         [6, 1, 5, ..., 5, 1, 1],\n         [6, 1, 5, ..., 5, 1, 1],\n         [6, 1, 5, ..., 5, 1, 1]],\n\n        [[6, 1, 5, ..., 5, 1, 1],\n         [6, 1, 5, ..., 5, 1, 1],\n         [5, 1, 5, ..., 5, 1, 1],\n         ...,\n         [6, 1, 5, ..., 5, 1, 1],\n         [6, 1, 5, ..., 5, 1, 1],\n         [5, 1, 5, ..., 5, 1, 1]],\n\n        [[5, 1, 5, ..., 5, 1, 1],\n         [5, 1, 5, ..., 5, 1, 1],\n         [5, 1, 5, ..., 5, 1, 1],\n         ...,\n         [5, 1, 5, ..., 5, 1, 1],\n         [5, 1, 5, ..., 5, 1, 1],\n         [6, 1, 5, ..., 5, 1, 1]],\n\n        ...,\n\n        [[5, 1, 5, ..., 5, 1, 1],\n         [5, 1, 5, ..., 5, 1, 1],\n         [5, 1, 5, ..., 5, 1, 1],\n         ...,\n         [6, 1, 5, ..., 5, 1, 1],\n         [6, 1, 5, ..., 5, 1, 1],\n         [5, 1, 5, ..., 5, 1, 1]],\n\n        [[5, 1, 5, ..., 5, 1, 1],\n         [5, 1, 5, ..., 5, 1, 1],\n         [5, 1, 5, ..., 5, 0, 1],\n         ...,\n         [6, 1, 5, ..., 5, 1, 1],\n         [6, 1, 5, ..., 5, 1, 1],\n         [6, 1, 5, ..., 5, 1, 1]],\n\n        [[6, 1, 5, ..., 5, 1, 1],\n         [6, 1, 5, ..., 5, 1, 1],\n         [6, 1, 5, ..., 5, 1, 1],\n         ...,\n         [5, 1, 5, ..., 5, 1, 1],\n         [5, 1, 5, ..., 5, 1, 1],\n         [5, 1, 5, ..., 5, 1, 1]]]], dtype=uint8)"
     },
     "execution_count": 40,
     "metadata": {},
     "output_type": "execute_result"
    }
   ],
   "source": [
    "std = np.std(x_train)\n",
    "mean= np.mean(x_train)\n",
    "\n",
    "np.add(x_train, -mean, out=x_train, casting=\"unsafe\")\n",
    "#x_train/=std\n",
    "np.divide(x_train, std, out=x_train, casting=\"unsafe\")"
   ],
   "metadata": {
    "collapsed": false
   }
  },
  {
   "cell_type": "code",
   "execution_count": 41,
   "outputs": [],
   "source": [
    "y_data_train_cate2 = y_data_train_cate.reshape(-1, 1024, 6)"
   ],
   "metadata": {
    "collapsed": false
   }
  },
  {
   "cell_type": "code",
   "execution_count": 42,
   "outputs": [
    {
     "name": "stdout",
     "output_type": "stream",
     "text": [
      "Epoch 1/20\n",
      "108/108 [==============================] - 6s 47ms/step - loss: 0.8502 - accuracy: 0.7025 - val_loss: 5.5051 - val_accuracy: 0.0029\n",
      "Epoch 2/20\n",
      "108/108 [==============================] - 5s 42ms/step - loss: 0.5176 - accuracy: 0.7891 - val_loss: 6.3130 - val_accuracy: 0.0666\n",
      "Epoch 3/20\n",
      "108/108 [==============================] - 4s 41ms/step - loss: 0.4108 - accuracy: 0.8351 - val_loss: 9.1064 - val_accuracy: 0.0114\n",
      "Epoch 4/20\n",
      "108/108 [==============================] - 5s 46ms/step - loss: 0.3396 - accuracy: 0.8573 - val_loss: 7.5257 - val_accuracy: 0.0541\n",
      "Epoch 5/20\n",
      "108/108 [==============================] - 5s 48ms/step - loss: 0.2918 - accuracy: 0.8762 - val_loss: 10.8044 - val_accuracy: 0.0169\n",
      "Epoch 6/20\n",
      "108/108 [==============================] - 5s 43ms/step - loss: 0.2540 - accuracy: 0.8900 - val_loss: 8.6235 - val_accuracy: 0.0943\n",
      "Epoch 7/20\n",
      "108/108 [==============================] - 5s 43ms/step - loss: 0.2247 - accuracy: 0.9064 - val_loss: 8.8654 - val_accuracy: 0.0365\n",
      "Epoch 8/20\n",
      "108/108 [==============================] - 5s 43ms/step - loss: 0.1885 - accuracy: 0.9295 - val_loss: 12.0797 - val_accuracy: 0.0179\n",
      "Epoch 9/20\n",
      "108/108 [==============================] - 5s 43ms/step - loss: 0.1641 - accuracy: 0.9424 - val_loss: 9.2631 - val_accuracy: 0.0818\n",
      "Epoch 10/20\n",
      "108/108 [==============================] - 5s 43ms/step - loss: 0.1464 - accuracy: 0.9503 - val_loss: 12.0081 - val_accuracy: 0.0478\n",
      "Epoch 11/20\n",
      "108/108 [==============================] - 5s 42ms/step - loss: 0.1348 - accuracy: 0.9533 - val_loss: 11.4474 - val_accuracy: 0.0370\n",
      "Epoch 12/20\n",
      "108/108 [==============================] - 5s 43ms/step - loss: 0.1265 - accuracy: 0.9564 - val_loss: 12.1618 - val_accuracy: 0.0551\n",
      "Epoch 13/20\n",
      "108/108 [==============================] - 5s 44ms/step - loss: 0.1144 - accuracy: 0.9605 - val_loss: 15.3015 - val_accuracy: 0.0285\n",
      "Epoch 14/20\n",
      "108/108 [==============================] - 5s 43ms/step - loss: 0.1183 - accuracy: 0.9597 - val_loss: 14.8196 - val_accuracy: 0.0377\n",
      "Epoch 15/20\n",
      "108/108 [==============================] - 5s 43ms/step - loss: 0.1041 - accuracy: 0.9658 - val_loss: 15.2803 - val_accuracy: 0.0415\n",
      "Epoch 16/20\n",
      "108/108 [==============================] - 5s 44ms/step - loss: 0.1001 - accuracy: 0.9672 - val_loss: 14.5470 - val_accuracy: 0.0467\n",
      "Epoch 17/20\n",
      "108/108 [==============================] - 5s 43ms/step - loss: 0.0922 - accuracy: 0.9684 - val_loss: 16.2556 - val_accuracy: 0.0311\n",
      "Epoch 18/20\n",
      "108/108 [==============================] - 5s 45ms/step - loss: 0.0842 - accuracy: 0.9703 - val_loss: 15.8322 - val_accuracy: 0.0399\n",
      "Epoch 19/20\n",
      "108/108 [==============================] - 6s 52ms/step - loss: 0.0843 - accuracy: 0.9705 - val_loss: 17.8248 - val_accuracy: 0.0329\n",
      "Epoch 20/20\n",
      "108/108 [==============================] - 5s 43ms/step - loss: 0.0809 - accuracy: 0.9708 - val_loss: 14.6161 - val_accuracy: 0.0443\n"
     ]
    }
   ],
   "source": [
    "history2 = model_new.fit(x_train, y_data_train_cate2, epochs=20,batch_size=32, validation_split=0.2)"
   ],
   "metadata": {
    "collapsed": false
   }
  },
  {
   "cell_type": "code",
   "execution_count": 203,
   "outputs": [
    {
     "name": "stdout",
     "output_type": "stream",
     "text": [
      "Epoch 1/8\n",
      "54/54 [==============================] - 29s 480ms/step - loss: 6.5238 - accuracy: 0.5832 - mean_squared_error: 0.1376 - val_loss: 16.1181 - val_accuracy: 0.0000e+00 - val_mean_squared_error: 0.3333\n",
      "Epoch 2/8\n",
      "54/54 [==============================] - 25s 463ms/step - loss: 5.2847 - accuracy: 0.6721 - mean_squared_error: 0.1093 - val_loss: 16.1181 - val_accuracy: 0.0000e+00 - val_mean_squared_error: 0.3333\n",
      "Epoch 3/8\n",
      "54/54 [==============================] - 24s 446ms/step - loss: 5.2141 - accuracy: 0.6765 - mean_squared_error: 0.1078 - val_loss: 16.1181 - val_accuracy: 0.0000e+00 - val_mean_squared_error: 0.3333\n",
      "Epoch 4/8\n",
      "54/54 [==============================] - 24s 447ms/step - loss: 5.2658 - accuracy: 0.6733 - mean_squared_error: 0.1089 - val_loss: 16.1181 - val_accuracy: 0.0000e+00 - val_mean_squared_error: 0.3333\n",
      "Epoch 5/8\n",
      "54/54 [==============================] - 24s 442ms/step - loss: 5.2539 - accuracy: 0.6740 - mean_squared_error: 0.1087 - val_loss: 16.1181 - val_accuracy: 0.0000e+00 - val_mean_squared_error: 0.3333\n",
      "Epoch 6/8\n",
      "54/54 [==============================] - 24s 439ms/step - loss: 5.2414 - accuracy: 0.6748 - mean_squared_error: 0.1084 - val_loss: 16.1181 - val_accuracy: 0.0000e+00 - val_mean_squared_error: 0.3333\n",
      "Epoch 7/8\n",
      "54/54 [==============================] - 25s 460ms/step - loss: 5.2275 - accuracy: 0.6757 - mean_squared_error: 0.1081 - val_loss: 16.1181 - val_accuracy: 0.0000e+00 - val_mean_squared_error: 0.3333\n",
      "Epoch 8/8\n",
      "54/54 [==============================] - 24s 438ms/step - loss: 5.2865 - accuracy: 0.6720 - mean_squared_error: 0.1093 - val_loss: 16.1181 - val_accuracy: 0.0000e+00 - val_mean_squared_error: 0.3333\n"
     ]
    }
   ],
   "source": [
    "history = model.fit(x_train,y_data_train_cate,epochs=8,batch_size=64,validation_split=0.2)"
   ],
   "metadata": {
    "collapsed": false
   }
  },
  {
   "cell_type": "code",
   "execution_count": 93,
   "outputs": [
    {
     "data": {
      "text/plain": "<Figure size 640x480 with 1 Axes>",
      "image/png": "[encoded data removed]"
     },
     "metadata": {},
     "output_type": "display_data"
    }
   ],
   "source": [
    "plt.plot(history.history['accuracy'])\n",
    "plt.plot(history.history['val_accuracy'])\n",
    "plt.title('Model Accuracy')\n",
    "plt.ylabel('Accuracy')\n",
    "plt.xlabel('#f Iterations')\n",
    "plt.legend(['Train', 'Test'], loc='upper left')\n",
    "plt.show()"
   ],
   "metadata": {
    "collapsed": false
   }
  },
  {
   "cell_type": "markdown",
   "source": [
    "## Check"
   ],
   "metadata": {
    "collapsed": false
   }
  },
  {
   "cell_type": "code",
   "execution_count": 48,
   "outputs": [
    {
     "data": {
      "text/plain": "['/tmp/shared/test_images2/2022-08-24-00_00_2022-08-24-23_59_Sentinel-2_L2A_B01_(Raw).tiff',\n '/tmp/shared/test_images2/2022-08-24-00_00_2022-08-24-23_59_Sentinel-2_L2A_B02_(Raw).tiff',\n '/tmp/shared/test_images2/2022-08-24-00_00_2022-08-24-23_59_Sentinel-2_L2A_B03_(Raw).tiff',\n '/tmp/shared/test_images2/2022-08-24-00_00_2022-08-24-23_59_Sentinel-2_L2A_B04_(Raw).tiff',\n '/tmp/shared/test_images2/2022-08-24-00_00_2022-08-24-23_59_Sentinel-2_L2A_B05_(Raw).tiff',\n '/tmp/shared/test_images2/2022-08-24-00_00_2022-08-24-23_59_Sentinel-2_L2A_B06_(Raw).tiff',\n '/tmp/shared/test_images2/2022-08-24-00_00_2022-08-24-23_59_Sentinel-2_L2A_B07_(Raw).tiff',\n '/tmp/shared/test_images2/2022-08-24-00_00_2022-08-24-23_59_Sentinel-2_L2A_B08_(Raw).tiff',\n '/tmp/shared/test_images2/2022-08-24-00_00_2022-08-24-23_59_Sentinel-2_L2A_B09_(Raw).tiff',\n '/tmp/shared/test_images2/2022-08-24-00_00_2022-08-24-23_59_Sentinel-2_L2A_B11_(Raw).tiff',\n '/tmp/shared/test_images2/2022-08-24-00_00_2022-08-24-23_59_Sentinel-2_L2A_B12_(Raw).tiff',\n '/tmp/shared/test_images2/2022-08-24-00_00_2022-08-24-23_59_Sentinel-2_L2A_B8A_(Raw).tiff']"
     },
     "execution_count": 48,
     "metadata": {},
     "output_type": "execute_result"
    }
   ],
   "source": [
    "from glob import glob\n",
    "S_sentinel_bands = glob(\"/tmp/shared/test_images2/*B?*.tiff\")\n",
    "S_sentinel_bands.sort()\n",
    "S_sentinel_bands"
   ],
   "metadata": {
    "collapsed": false
   }
  },
  {
   "cell_type": "code",
   "execution_count": 49,
   "outputs": [],
   "source": [
    "l = []\n",
    "for i in S_sentinel_bands:\n",
    "  with rio.open(i, 'r') as f:\n",
    "    l.append(f.read(1))"
   ],
   "metadata": {
    "collapsed": false
   }
  },
  {
   "cell_type": "code",
   "execution_count": 50,
   "outputs": [],
   "source": [
    "arr_st = np.stack(l)"
   ],
   "metadata": {
    "collapsed": false
   }
  },
  {
   "cell_type": "code",
   "execution_count": 51,
   "outputs": [
    {
     "data": {
      "text/plain": "(733, 1250, 12)"
     },
     "execution_count": 51,
     "metadata": {},
     "output_type": "execute_result"
    }
   ],
   "source": [
    "x = np.moveaxis(arr_st, 0, -1)\n",
    "x.shape"
   ],
   "metadata": {
    "collapsed": false
   }
  },
  {
   "cell_type": "code",
   "execution_count": 52,
   "outputs": [],
   "source": [
    "x1_v = x.shape[0]%32\n",
    "x1_h = x.shape[1]%32\n",
    "res1 = x.shape[0]-x1_v\n",
    "res2 = x.shape[1]-x1_h\n",
    "xx = x[0:(x.shape[0]-x1_v),0:(x.shape[1]-x1_h),:]"
   ],
   "metadata": {
    "collapsed": false
   }
  },
  {
   "cell_type": "code",
   "execution_count": 53,
   "outputs": [
    {
     "data": {
      "text/plain": "(720, 1200, 12)"
     },
     "execution_count": 53,
     "metadata": {},
     "output_type": "execute_result"
    }
   ],
   "source": [
    "x = x[0:720,0:1200,:]\n",
    "x.shape"
   ],
   "metadata": {
    "collapsed": false
   }
  },
  {
   "cell_type": "code",
   "execution_count": 54,
   "outputs": [
    {
     "data": {
      "text/plain": "(2160, 20, 20, 12)"
     },
     "execution_count": 54,
     "metadata": {},
     "output_type": "execute_result"
    }
   ],
   "source": [
    "x_r = x.reshape(-1,20,20,12)\n",
    "x_r.shape"
   ],
   "metadata": {
    "collapsed": false
   }
  },
  {
   "cell_type": "code",
   "execution_count": 55,
   "outputs": [],
   "source": [
    "x_rr = xx.reshape(-1, 32,32,12)"
   ],
   "metadata": {
    "collapsed": false
   }
  },
  {
   "cell_type": "code",
   "execution_count": 56,
   "outputs": [
    {
     "data": {
      "text/plain": "(733, 1250)"
     },
     "execution_count": 56,
     "metadata": {},
     "output_type": "execute_result"
    }
   ],
   "source": [
    "y_data_test = loadmat('/tmp/shared/test_images2/labeling.mat')['data']\n",
    "y_data_test.shape"
   ],
   "metadata": {
    "collapsed": false
   }
  },
  {
   "cell_type": "code",
   "execution_count": 57,
   "outputs": [
    {
     "data": {
      "text/plain": "<Figure size 1200x1200 with 2 Axes>",
      "image/png": "[encoded data removed]"
     },
     "metadata": {},
     "output_type": "display_data"
    },
    {
     "data": {
      "text/plain": "<AxesSubplot:>"
     },
     "execution_count": 57,
     "metadata": {},
     "output_type": "execute_result"
    }
   ],
   "source": [
    "ep.plot_bands(y_data_test,\n",
    "              cmap=ListedColormap(['green', 'purple', 'orange', 'blue', 'yellow']))"
   ],
   "metadata": {
    "collapsed": false
   }
  },
  {
   "cell_type": "code",
   "execution_count": 59,
   "outputs": [],
   "source": [
    "x_r_norm =  tf.keras.utils.normalize(x_rr)"
   ],
   "metadata": {
    "collapsed": false
   }
  },
  {
   "cell_type": "code",
   "execution_count": 60,
   "outputs": [],
   "source": [
    "x_r_2 = x_rr"
   ],
   "metadata": {
    "collapsed": false
   }
  },
  {
   "cell_type": "code",
   "execution_count": 61,
   "outputs": [
    {
     "data": {
      "text/plain": "array([[[[ 3.344135 ,  3.5630965,  5.712898 , ..., 19.288494 ,\n          10.042359 , 33.132812 ],\n         [ 3.2346547,  4.0209246,  6.1408677, ..., 19.52736  ,\n          10.599714 , 30.236555 ],\n         [ 3.2346547,  4.2996025,  6.170726 , ..., 19.746323 ,\n          11.485512 , 28.28581  ],\n         ...,\n         [ 4.5285163,  5.573559 ,  7.4247766, ..., 20.333536 ,\n          14.9689865, 23.88668  ],\n         [ 4.4090834,  6.419545 ,  8.489724 , ..., 22.373857 ,\n          15.87469  , 26.235535 ],\n         [ 4.269744 ,  6.369782 ,  9.066986 , ..., 22.24447  ,\n          15.785115 , 28.076803 ]],\n\n        [[ 4.0706882,  8.68878  , 10.569857 , ..., 19.069532 ,\n          14.461394 , 26.743128 ],\n         [ 3.8417745,  6.170726 ,  7.9821324, ..., 17.23822  ,\n          13.028193 , 22.642582 ],\n         [ 3.7024357,  6.648459 ,  8.051802 , ..., 17.397465 ,\n          12.08268  , 24.732668 ],\n         ...,\n         [ 4.0209246,  4.5882335,  6.170726 , ..., 20.303679 ,\n          12.868949 , 22.055367 ],\n         [ 4.0507827,  5.0460615,  6.817656 , ..., 21.816502 ,\n          14.103095 , 24.185265 ],\n         [ 4.0109715,  4.966439 ,  6.9868546, ..., 21.55773  ,\n          13.655219 , 25.5687   ]],\n\n        [[ 3.9413023,  4.7176194,  6.678318 , ..., 21.577637 ,\n          13.655219 , 26.265398 ],\n         [ 3.8417745,  4.4986587,  6.8674207, ..., 21.308908 ,\n          13.117767 , 27.509493 ],\n         [ 3.7422466,  4.379225 ,  6.847515 , ..., 20.512688 ,\n          12.401169 , 28.405245 ],\n         ...,\n         [ 3.543191 ,  3.6128604,  6.0512924, ..., 18.820713 ,\n           9.813445 , 33.292065 ],\n         [ 3.5630965,  4.1602635,  6.7181287, ..., 20.194199 ,\n          10.858487 , 35.959404 ],\n         [ 3.5630965,  4.737525 ,  6.9868546, ..., 20.49278  ,\n          10.589762 , 33.53093  ]],\n\n        ...,\n\n        [[ 5.5934644,  6.9868546,  8.61911  , ..., 30.385847 ,\n          26.42464  , 23.817009 ],\n         [ 5.5337477,  6.9868546,  9.096844 , ..., 29.400522 ,\n          24.006113 , 26.832705 ],\n         [ 5.5038896,  6.837562 ,  9.236183 , ..., 28.484865 ,\n          21.786642 , 30.574953 ],\n         ...,\n         [ 4.7474775,  5.5337477,  7.7830763, ..., 24.633139 ,\n          18.153877 , 22.353952 ],\n         [ 4.7972417,  5.643228 ,  7.683549 , ..., 25.110872 ,\n          18.63161  , 21.687115 ],\n         [ 4.767383 ,  5.523795 ,  7.5442104, ..., 24.881958 ,\n          18.81076  , 21.079996 ]],\n\n        [[ 4.6678557,  5.5835114,  7.7830763, ..., 25.081017 ,\n          18.760998 , 21.69707  ],\n         [ 4.6180916,  5.5536532,  7.2356734, ..., 25.63837  ,\n          19.975237 , 19.945377 ],\n         [ 4.6977143,  5.772614 ,  7.613879 , ..., 25.996672 ,\n          19.995142 , 20.144434 ],\n         ...,\n         [ 4.558375 ,  6.0214343,  8.250858 , ..., 25.260164 ,\n          20.940657 , 18.850573 ],\n         [ 4.548422 ,  5.7527084,  7.852746 , ..., 24.961582 ,\n          20.462921 , 18.581846 ],\n         [ 4.5384693,  5.772614 ,  7.7034545, ..., 25.06111  ,\n          20.642073 , 18.133972 ]],\n\n        [[ 4.5185637,  5.7527084,  7.72336  , ..., 25.399504 ,\n          21.050137 , 18.064302 ],\n         [ 4.5086107,  5.8124256,  7.72336  , ..., 25.220354 ,\n          21.169569 , 17.895105 ],\n         [ 4.4787526,  5.7328033,  7.5740685, ..., 25.349741 ,\n          21.020279 , 17.496994 ],\n         ...,\n         [ 3.344135 ,  3.0555046,  4.6180916, ...,  5.1754475,\n           3.344135 ,  2.1697068],\n         [ 3.6327658,  5.7825675,  7.9423213, ..., 29.330853 ,\n          19.557219 , 25.339787 ],\n         [ 4.0209246,  5.61337  ,  7.3451543, ..., 28.57444  ,\n          18.910288 , 23.080505 ]]],\n\n\n       [[[ 4.359319 ,  5.4541254,  7.36506  , ..., 27.589117 ,\n          18.372837 , 22.184753 ],\n         [ 4.558375 ,  5.902001 ,  7.7333126, ..., 27.967321 ,\n          18.940147 , 22.433573 ],\n         [ 4.687761 ,  5.802473 ,  7.414824 , ..., 28.017086 ,\n          19.159107 , 21.537823 ],\n         ...,\n         [ 5.961717 ,  8.061755 ,  9.843303 , ..., 34.53616  ,\n          34.03852  , 18.979958 ],\n         [ 5.941812 ,  7.4844933,  8.718638 , ..., 33.958897 ,\n          34.277386 , 17.417372 ],\n         [ 5.9119534,  7.4347286,  9.017221 , ..., 34.058426 ,\n          34.227623 , 17.37756  ]],\n\n        [[ 5.872142 ,  7.3451543,  8.748497 , ..., 34.018612 ,\n          34.277386 , 17.467134 ],\n         [ 5.8422837,  7.524304 ,  8.947553 , ..., 34.088284 ,\n          34.25748  , 17.696049 ],\n         [ 5.8422837,  7.4247766,  8.848024 , ..., 34.17786  ,\n          34.247528 , 17.825436 ],\n         ...,\n         [ 5.5437007,  6.6086483,  7.8626995, ..., 31.659805 ,\n          31.669756 , 15.974217 ],\n         [ 5.523795 ,  6.50912  ,  7.7631717, ..., 31.301504 ,\n          31.729475 , 15.596012 ],\n         [ 5.493936 ,  6.678318 ,  7.832841 , ..., 31.639898 ,\n          31.67971  , 15.87469  ]],\n\n        [[ 5.474031 ,  6.648459 ,  7.9224153, ..., 31.639898 ,\n          31.71952  , 15.894596 ],\n         [ 5.4441724,  6.6982236,  7.9821324, ..., 31.50056  ,\n          31.739426 , 15.904547 ],\n         [ 5.4242673,  6.6385064,  7.9224153, ..., 31.440842 ,\n          31.54037  , 15.9941225],\n         ...,\n         [ 4.7474775,  6.489215 ,  7.6536903, ..., 30.485376 ,\n          30.545094 , 15.357145 ],\n         [ 4.8071947,  6.379734 ,  7.584021 , ..., 30.365942 ,\n          30.35599  , 15.227758 ],\n         [ 4.8669114,  6.5489316,  7.5939736, ..., 30.156935 ,\n          30.087265 , 15.078467 ]],\n\n        ...,\n\n        [[ 5.2053056,  6.6584125,  8.718638 , ..., 26.265398 ,\n          19.975237 , 24.334555 ],\n         [ 5.155542 ,  6.329971 ,  8.549441 , ..., 25.81752  ,\n          19.16906  , 24.16536  ],\n         [ 5.145589 ,  6.5489316,  8.61911  , ..., 26.63365  ,\n          20.194199 , 23.876726 ],\n         ...,\n         [ 4.9962974,  6.2603006,  8.519583 , ..., 26.165867 ,\n          18.81076  , 24.852098 ],\n         [ 5.0659666,  6.2802067,  8.370291 , ..., 26.185774 ,\n          18.88043  , 24.294746 ],\n         [ 5.155542 ,  6.588743 ,  8.808214 , ..., 27.748362 ,\n          20.63212  , 24.085737 ]],\n\n        [[ 5.2152586,  7.056524 ,  9.22623  , ..., 28.614252 ,\n          21.378578 , 24.692856 ],\n         [ 5.1854005,  6.9470425,  9.186419 , ..., 28.375387 ,\n          21.050137 , 24.643093 ],\n         [ 5.135637 ,  6.6584125,  8.768402 , ..., 27.59907  ,\n          20.751554 , 24.42413  ],\n         ...,\n         [ 5.9915757,  7.414824 ,  9.564626 , ..., 29.868301 ,\n          23.508476 , 27.161146 ],\n         [ 6.0015283,  7.3849654,  9.504909 , ..., 29.63939  ,\n          23.428852 , 27.380106 ],\n         [ 6.0214343,  7.414824 ,  9.514861 , ..., 29.559767 ,\n          23.369135 , 27.738407 ]],\n\n        [[ 6.0512924,  7.47454  ,  9.803492 , ..., 29.728964 ,\n          23.189987 , 27.99718  ],\n         [ 6.0811505,  7.255579 ,  9.664153 , ..., 29.549814 ,\n          23.199938 , 27.897652 ],\n         [ 6.120962 ,  7.47454  ,  9.6342945, ..., 29.709059 ,\n          23.518427 , 27.579163 ],\n         ...,\n         [ 3.7024357,  4.379225 ,  6.976901 , ..., 19.069532 ,\n          11.376032 , 31.132305 ],\n         [ 3.9213967,  5.573559 ,  8.947553 , ..., 23.289513 ,\n          15.257617 , 28.703827 ],\n         [ 4.1602635,  5.79252  ,  9.196372 , ..., 23.946396 ,\n          15.755256 , 28.763544 ]]],\n\n\n       [[[ 4.269744 ,  6.2603006,  9.345664 , ..., 24.981485 ,\n          17.1586   , 27.59907  ],\n         [ 4.319508 ,  6.1906314,  9.206325 , ..., 25.051159 ,\n          17.218315 , 27.230816 ],\n         [ 4.349366 ,  6.011482 ,  9.22623  , ..., 25.100922 ,\n          17.029213 , 26.733175 ],\n         ...,\n         [ 4.4688   ,  6.2005844,  8.997317 , ..., 26.524168 ,\n          18.27331  , 28.265905 ],\n         [ 4.389178 ,  6.0612454,  8.718638 , ..., 26.06634  ,\n          17.795576 , 27.678694 ],\n         [ 4.279697 ,  6.15082  ,  8.86793  , ..., 26.354973 ,\n          18.362885 , 27.370155 ]],\n\n        [[ 4.1602635,  5.8124256,  8.549441 , ..., 25.339787 ,\n          17.506947 , 26.962091 ],\n         [ 4.04083  ,  5.3545976,  7.9323688, ..., 24.155405 ,\n          16.133463 , 26.67346  ],\n         [ 3.9313498,  5.3844557,  7.852746 , ..., 24.006113 ,\n          16.05384  , 26.6237   ],\n         ...,\n         [ 4.379225 ,  5.9517646,  9.47505  , ..., 22.74211  ,\n          15.44672  , 28.49482  ],\n         [ 4.4090834,  6.031387 ,  9.216278 , ..., 23.488567 ,\n          17.049118 , 26.922281 ],\n         [ 4.448894 ,  6.0015283,  9.11675  , ..., 23.737389 ,\n          17.775671 , 26.8128   ]],\n\n        [[ 4.4787526,  6.1607733,  9.176467 , ..., 23.608004 ,\n          17.37756  , 27.21091  ],\n         [ 4.5185637,  6.1906314,  9.156561 , ..., 23.66772  ,\n          17.188457 , 27.748362 ],\n         [ 4.5384693,  6.071198 ,  9.146608 , ..., 23.7772   ,\n          17.477089 , 27.718502 ],\n         ...,\n         [ 4.001019 ,  5.762662 , 10.539998 , ..., 23.7772   ,\n          14.740072 , 30.555048 ],\n         [ 4.001019 ,  6.0214343, 10.709195 , ..., 23.59805  ,\n          14.531063 , 30.704336 ],\n         [ 4.001019 ,  5.6730866,  9.952784 , ..., 23.120316 ,\n          14.033425 , 31.470701 ]],\n\n        ...,\n\n        [[ 6.170726 ,  7.36506  ,  9.206325 , ..., 31.958387 ,\n          29.201466 , 26.116106 ],\n         [ 6.120962 ,  7.2058153,  9.325758 , ..., 32.09773  ,\n          28.843164 , 26.63365  ],\n         [ 6.071198 ,  7.3451543,  9.325758 , ..., 31.201977 ,\n          27.827984 , 27.469683 ],\n         ...,\n         [ 5.8621893,  7.0664763,  9.544719 , ..., 24.802338 ,\n          17.775671 , 30.96311  ],\n         [ 5.882095 ,  7.086382 ,  9.425286 , ..., 25.120827 ,\n          18.342981 , 30.495329 ],\n         [ 5.9119534,  7.0664763,  9.743775 , ..., 25.110872 ,\n          17.964775 , 31.54037  ]],\n\n        [[ 5.941812 ,  7.086382 ,  9.972689 , ..., 24.473896 ,\n          17.168552 , 33.122864 ],\n         [ 5.97167  ,  7.2058153, 10.211556 , ..., 24.643093 ,\n          16.9894   , 32.68494  ],\n         [ 5.9816227,  7.1361456,  9.843303 , ..., 24.304697 ,\n          16.700771 , 33.461258 ],\n         ...,\n         [ 5.2550697,  6.7579403,  9.385475 , ..., 24.71276  ,\n          17.258127 , 32.117634 ],\n         [ 4.916675 ,  5.5437007,  8.101565 , ..., 22.174803 ,\n          14.789836 , 31.92853  ],\n         [ 4.608139 ,  4.001019 ,  5.9816227, ..., 21.806547 ,\n          14.650497 , 26.872515 ]],\n\n        [[ 4.4787526,  5.61337  ,  7.36506  , ..., 27.857843 ,\n          24.195215 , 21.716974 ],\n         [ 4.677808 ,  6.50912  ,  7.8129354, ..., 30.774004 ,\n          30.555048 , 17.009306 ],\n         [ 5.016203 ,  6.379734 ,  7.832841 , ..., 30.873535 ,\n          30.91335  , 16.432045 ],\n         ...,\n         [ 5.026156 ,  6.349876 ,  7.773124 , ..., 31.978294 ,\n          32.227116 , 16.332518 ],\n         [ 5.1256833,  6.499168 ,  8.091613 , ..., 32.884    ,\n          32.983524 , 16.9894   ],\n         [ 5.195353 ,  6.668365 ,  8.240905 , ..., 32.854137 ,\n          32.834232 , 17.228268 ]]],\n\n\n       ...,\n\n\n       [[[ 3.214749 ,  4.140358 ,  5.225211 , ...,  2.1896124,\n           1.9706511,  3.3739936],\n         [ 3.214749 ,  4.1105   ,  5.324739 , ...,  2.0900846,\n           1.9806038,  3.2943716],\n         [ 3.214749 ,  4.0507827,  5.2650228, ...,  2.0602262,\n           2.0104623,  3.4138048],\n         ...,\n         [ 3.214749 ,  3.9811134,  5.135637 , ...,  2.0801318,\n           1.9905567,  3.3839467],\n         [ 3.2047963,  4.0806413,  5.135637 , ...,  2.1099901,\n           2.020415 ,  3.3640409],\n         [ 3.214749 ,  4.0706882,  5.095825 , ...,  2.1199427,\n           2.020415 ,  3.25456  ]],\n\n        [[ 3.224702 ,  4.150311 ,  5.095825 , ...,  2.1099901,\n           1.9706511,  3.3043242],\n         [ 3.2446074,  4.1204524,  5.0659666, ...,  2.1298957,\n           2.0104623,  3.3640409],\n         [ 3.2645133,  4.1204524,  5.056014 , ...,  2.1298957,\n           2.020415 ,  3.403852 ],\n         ...,\n         [ 3.2446074,  3.9313498,  5.026156 , ...,  2.0801318,\n           1.8910288,  3.2744658],\n         [ 3.25456  ,  4.180169 ,  5.016203 , ...,  2.1000373,\n           1.9706511,  3.224702 ],\n         [ 3.25456  ,  4.0209246,  5.155542 , ...,  2.1099901,\n           1.8910288,  3.4536157]],\n\n        [[ 3.2446074,  4.0507827,  5.0659666, ...,  2.0502734,\n           1.9507456,  3.2047963],\n         [ 3.2446074,  4.1204524,  5.135637 , ...,  2.0900846,\n           1.8711233,  3.2047963],\n         [ 3.2346547,  4.0209246,  5.155542 , ...,  2.0502734,\n           1.8711233,  3.3938992],\n         ...,\n         [ 3.3142772,  4.0706882,  5.225211 , ...,  2.1099901,\n           2.0104623,  3.3839467],\n         [ 3.3242295,  4.100547 ,  5.1854005, ...,  2.1498013,\n           2.020415 ,  3.4735212],\n         [ 3.3341825,  4.2996025,  5.1654944, ...,  2.0801318,\n           2.0005095,  3.3341825]],\n\n        ...,\n\n        [[ 3.722341 ,  5.1654944,  7.623832 , ..., 17.078976 ,\n           8.748497 , 36.894966 ],\n         [ 3.8915381,  5.0858727,  7.663643 , ..., 17.427324 ,\n           8.828118 , 35.740448 ],\n         [ 4.0109715,  5.6730866,  8.270763 , ...,  8.111519 ,\n           4.7076664, 18.721186 ],\n         ...,\n         [ 3.2844186,  4.2000747,  5.802473 , ...,  2.030368 ,\n           1.841265 ,  3.4138048],\n         [ 3.3341825,  4.269744 ,  5.822378 , ...,  2.0104623,\n           1.8711233,  3.3242295],\n         [ 3.354088 ,  4.3991303,  6.0512924, ...,  2.020415 ,\n           1.7616426,  3.4635687]],\n\n        [[ 3.3739936,  4.369272 ,  6.2503476, ...,  2.030368 ,\n           1.7616426,  3.7422466],\n         [ 3.4138048,  4.428989 ,  6.3896866, ...,  1.9109346,\n           1.8213595,  3.5531437],\n         [ 3.4834743,  4.7474775,  6.8873267, ...,  1.9905567,\n           1.8611705,  3.6327658],\n         ...,\n         [ 3.5232852,  4.548422 ,  6.3001122, ...,  2.030368 ,\n           1.8711233,  3.4735212],\n         [ 3.4138048,  4.379225 ,  6.0512924, ...,  2.030368 ,\n           1.8611705,  3.4436634],\n         [ 3.3341825,  4.28965  ,  5.9915757, ...,  2.070179 ,\n           1.9009817,  3.3640409]],\n\n        [[ 3.3242295,  4.3394136,  6.031387 , ...,  2.070179 ,\n           1.9208872,  3.3142772],\n         [ 3.3341825,  4.359319 ,  6.2802067, ...,  2.0801318,\n           1.8512179,  3.4237576],\n         [ 3.354088 ,  4.419036 ,  6.210537 , ...,  2.0403206,\n           1.7616426,  3.4138048],\n         ...,\n         [ 3.2744658,  4.2000747,  5.324739 , ...,  2.1498013,\n           1.9706511,  3.3341825],\n         [ 3.25456  ,  4.0209246,  5.43422  , ...,  2.1298957,\n           2.0005095,  3.4635687],\n         [ 3.2446074,  4.090594 ,  5.2849283, ...,  2.1099901,\n           1.9009817,  3.4635687]]],\n\n\n       [[[ 3.2346547,  4.0806413,  5.483984 , ...,  2.1995652,\n           1.9905567,  3.3640409],\n         [ 3.25456  ,  4.269744 ,  5.374503 , ...,  2.1796596,\n           1.9905567,  3.4934273],\n         [ 3.2645133,  4.100547 ,  5.2749753, ...,  2.2194707,\n           2.020415 ,  3.5830019],\n         ...,\n         [ 3.2047963,  4.0806413,  5.3446445, ...,  2.0900846,\n           1.8611705,  3.4635687],\n         [ 3.174938 ,  4.1105   ,  5.1754475, ...,  2.0403206,\n           1.9208872,  3.3938992],\n         [ 3.1649854,  4.0308776,  5.1754475, ...,  2.0502734,\n           1.9208872,  3.4436634]],\n\n        [[ 3.1550324,  4.0209246,  5.1754475, ...,  1.9208872,\n           1.8711233,  3.543191 ],\n         [ 3.1550324,  4.0507827,  5.145589 , ...,  2.1298957,\n           1.9208872,  3.3640409],\n         [ 3.1550324,  4.1602635,  5.3147864, ...,  2.1199427,\n           2.0005095,  3.4138048],\n         ...,\n         [ 3.2844186,  4.190122 ,  5.374503 , ...,  2.2294235,\n           1.9706511,  3.5929549],\n         [ 3.25456  ,  4.279697 ,  5.474031 , ...,  2.1995652,\n           1.8711233,  3.3242295],\n         [ 3.2346547,  4.1204524,  5.304834 , ...,  2.1298957,\n           2.0801318,  3.5133328]],\n\n        [[ 3.224702 ,  4.140358 ,  5.43422  , ...,  2.1796596,\n           2.070179 ,  3.3142772],\n         [ 3.224702 ,  4.1702166,  5.235164 , ...,  2.1796596,\n           2.0602262,  3.5033798],\n         [ 3.224702 ,  4.2299333,  5.334692 , ...,  2.1099901,\n           2.020415 ,  3.354088 ],\n         ...,\n         [ 3.25456  ,  4.100547 ,  5.1754475, ...,  2.2493293,\n           2.020415 ,  3.3938992],\n         [ 3.2346547,  4.04083  ,  5.1754475, ...,  2.2393763,\n           2.0005095,  3.3640409],\n         [ 3.224702 ,  4.0507827,  5.195353 , ...,  2.209518 ,\n           2.0502734,  3.3142772]],\n\n        ...,\n\n        [[ 6.9669485,  6.519073 ,  8.071708 , ..., 24.035973 ,\n          19.338259 , 21.577637 ],\n         [ 6.7380342,  5.6830397,  7.444682 , ..., 22.164848 ,\n          18.532084 , 21.95584  ],\n         [ 6.6086483,  6.9968066,  9.325758 , ..., 21.567682 ,\n          17.427324 , 23.677671 ],\n         ...,\n         [ 6.3598285,  8.639016 , 10.321036 , ..., 19.80604  ,\n          17.676144 , 18.352934 ],\n         [ 6.2901587,  9.385475 , 11.246645 , ..., 21.498013 ,\n          18.930195 , 21.159616 ],\n         [ 6.2005844,  8.519583 , 10.629573 , ..., 22.085226 ,\n          18.970005 , 23.33928  ]],\n\n        [[ 6.101056 ,  8.021943 , 10.161792 , ..., 21.079996 ,\n          20.094671 , 19.427832 ],\n         [ 5.9915757,  6.320018 ,  7.8726516, ..., 20.144434 ,\n          17.98468  , 17.80553  ],\n         [ 5.882095 ,  6.0612454,  7.6735964, ..., 19.41788  ,\n          16.820204 , 17.606474 ],\n         ...,\n         [ 7.494446 , 15.745303 , 21.27905  , ..., 43.76239  ,\n          42.93631  , 37.22341  ],\n         [ 7.116241 , 12.281735 , 16.113558 , ..., 39.811134 ,\n          37.631474 , 32.356503 ],\n         [ 6.68827  , 10.838581 , 14.401678 , ..., 36.307755 ,\n          33.481163 , 28.644112 ]],\n\n        [[ 6.170726 ,  6.120962 ,  7.693501 , ..., 24.334555 ,\n          19.6667   , 22.075275 ],\n         [ 5.79252  ,  7.1361456,  8.86793  , ..., 21.577637 ,\n          17.656237 , 21.537823 ],\n         [ 5.712898 ,  7.215768 ,  8.848024 , ..., 22.304186 ,\n          18.084208 , 20.373348 ],\n         ...,\n         [ 5.8124256,  7.255579 ,  8.857978 , ..., 20.214104 ,\n          16.402187 , 22.304186 ],\n         [ 5.7029448,  6.439451 ,  8.221    , ..., 18.362885 ,\n          14.560923 , 22.373857 ],\n         [ 5.5437007,  7.7034545,  9.126702 , ..., 15.685587 ,\n          12.739564 , 18.621656 ]]],\n\n\n       [[[ 5.493936 ,  6.8276095,  7.693501 , ..., 14.132953 ,\n          11.266552 , 16.402187 ],\n         [ 5.523795 ,  5.902001 ,  6.8972793, ..., 14.361867 ,\n          12.212065 , 15.984172 ],\n         [ 5.573559 ,  7.086382 ,  8.728591 , ..., 16.461905 ,\n          14.103095 , 19.308401 ],\n         ...,\n         [ 3.9910662,  4.428989 ,  5.762662 , ..., 16.860016 ,\n          11.415843 , 23.000883 ],\n         [ 4.3294606,  5.7527084,  7.832841 , ..., 18.621656 ,\n          13.286965 , 26.255444 ],\n         [ 4.847006 ,  4.379225 ,  6.04134  , ..., 17.049118 ,\n          11.963245 , 25.757805 ]],\n\n        [[ 5.1854005,  5.7029448,  7.47454  , ..., 17.815483 ,\n          12.6002245, 26.514217 ],\n         [ 5.016203 ,  6.6086483,  8.857978 , ..., 21.119806 ,\n          15.984172 , 25.63837  ],\n         [ 4.5782804,  8.569346 , 10.719148 , ..., 24.195215 ,\n          19.616936 , 28.42515  ],\n         ...,\n         [ 3.4536157,  3.4237576,  5.135637 , ..., 18.850573 ,\n           9.863209 , 38.019634 ],\n         [ 3.3341825,  3.762152 ,  5.5138416, ..., 18.66147  ,\n          10.649478 , 30.375895 ],\n         [ 3.2943716,  3.8517272,  5.6730866, ..., 19.348211 ,\n          10.788818 , 30.813818 ]],\n\n        [[ 3.3142772,  3.9811134,  5.931859 , ..., 19.935425 ,\n          11.545228 , 28.375387 ],\n         [ 3.3640409,  4.6579027,  6.2304425, ..., 20.92075  ,\n          13.257109 , 25.379599 ],\n         [ 3.4536157,  4.956486 ,  6.6086483, ..., 22.13499  ,\n          14.680354 , 22.214613 ],\n         ...,\n         [ 3.4536157,  3.86168  ,  5.3844557, ..., 14.6704035,\n           7.72336  , 33.053196 ],\n         [ 3.4138048,  4.2299333,  5.9816227, ..., 14.998844 ,\n           8.002038 , 31.550323 ],\n         [ 3.3938992,  4.7872887,  7.0664763, ..., 16.541527 ,\n           9.076939 , 31.29155  ]],\n\n        ...,\n\n        [[ 3.1052685,  4.1105   ,  5.1654944, ...,  2.2692347,\n           2.2393763,  3.5730495],\n         [ 3.1152213,  4.190122 ,  5.1754475, ...,  2.299093 ,\n           2.1896124,  3.6526713],\n         [ 3.135127 ,  4.0806413,  5.2053056, ...,  2.3986208,\n           2.2493293,  3.7422466],\n         ...,\n         [ 3.0256462,  3.811916 ,  5.026156 , ...,  2.0502734,\n           1.9208872,  3.3242295],\n         [ 3.005741 ,  3.8815858,  4.9365807, ...,  2.1000373,\n           1.9208872,  3.3142772],\n         [ 2.9957879,  3.8815858,  4.956486 , ...,  2.0104623,\n           1.9407929,  3.2446074]],\n\n        [[ 2.985835 ,  3.8318214,  4.9863443, ...,  1.9905567,\n           1.9507456,  3.3640409],\n         [ 2.985835 ,  3.8019633,  4.8669114, ...,  2.0403206,\n           1.8611705,  3.2844186],\n         [ 2.9758823,  3.8815858,  5.095825 , ...,  2.0005095,\n           1.7616426,  3.135127 ],\n         ...,\n         [ 3.07541  ,  4.060736 ,  5.1754475, ...,  2.0602262,\n           1.9507456,  3.403852 ],\n         [ 3.0953157,  3.9313498,  5.105778 , ...,  2.1398485,\n           2.0005095,  3.5830019],\n         [ 3.0953157,  3.9711607,  5.155542 , ...,  2.0900846,\n           2.0005095,  3.5929549]],\n\n        [[ 3.085363 ,  3.9711607,  5.00625  , ...,  2.1000373,\n           1.9706511,  3.2744658],\n         [ 3.07541  ,  3.9711607,  5.155542 , ...,  2.0900846,\n           1.9009817,  3.4934273],\n         [ 3.0555046,  3.9413023,  4.9863443, ...,  2.0801318,\n           1.9905567,  3.5630965],\n         ...,\n         [ 2.9559767,  3.8815858,  4.8868165, ...,  2.0104623,\n           1.9507456,  3.3142772],\n         [ 2.9261184,  3.9413023,  4.8868165, ...,  1.9507456,\n           1.9208872,  3.3839467],\n         [ 2.936071 ,  3.7721052,  4.9863443, ...,  2.0403206,\n           1.9208872,  3.4735212]]]], dtype=float32)"
     },
     "execution_count": 61,
     "metadata": {},
     "output_type": "execute_result"
    }
   ],
   "source": [
    "std2 = np.std(x_r_2)\n",
    "mean2 = np.mean(x_r_2)\n",
    "\n",
    "np.divide(x_r_2, mean2, out=x_r_2, casting=\"unsafe\")\n",
    "#x_train/=std\n",
    "np.divide(x_r_2, std2, out=x_r_2, casting=\"unsafe\")"
   ],
   "metadata": {
    "collapsed": false
   }
  },
  {
   "cell_type": "code",
   "execution_count": 107,
   "outputs": [
    {
     "name": "stdout",
     "output_type": "stream",
     "text": [
      "7/7 [==============================] - 2s 204ms/step\n"
     ]
    }
   ],
   "source": [
    "prediction = model.predict(x_r_2,batch_size=128)"
   ],
   "metadata": {
    "collapsed": false
   }
  },
  {
   "cell_type": "code",
   "execution_count": 83,
   "outputs": [
    {
     "data": {
      "text/plain": "(858, 32, 32, 6)"
     },
     "execution_count": 83,
     "metadata": {},
     "output_type": "execute_result"
    }
   ],
   "source": [
    "prediction.shape"
   ],
   "metadata": {
    "collapsed": false
   }
  },
  {
   "cell_type": "code",
   "execution_count": 108,
   "outputs": [
    {
     "data": {
      "text/plain": "(858, 32, 32)"
     },
     "execution_count": 108,
     "metadata": {},
     "output_type": "execute_result"
    }
   ],
   "source": [
    "pred_cat = np.argmax(prediction,axis=3)\n",
    "pred_cat.shape"
   ],
   "metadata": {
    "collapsed": false
   }
  },
  {
   "cell_type": "code",
   "execution_count": 109,
   "outputs": [],
   "source": [
    "pred_pxl = pred_cat.reshape(res1,res2)"
   ],
   "metadata": {
    "collapsed": false
   }
  },
  {
   "cell_type": "code",
   "execution_count": 110,
   "outputs": [
    {
     "data": {
      "text/plain": "<Figure size 1200x1200 with 2 Axes>",
      "image/png": "[encoded data removed]"
     },
     "metadata": {},
     "output_type": "display_data"
    },
    {
     "data": {
      "text/plain": "<AxesSubplot:>"
     },
     "execution_count": 110,
     "metadata": {},
     "output_type": "execute_result"
    }
   ],
   "source": [
    "ep.plot_bands(pred_pxl,\n",
    "              cmap=ListedColormap(['green', 'purple', 'orange', 'blue', 'yellow']))"
   ],
   "metadata": {
    "collapsed": false
   }
  },
  {
   "cell_type": "code",
   "execution_count": 190,
   "outputs": [
    {
     "data": {
      "text/plain": "(864000,)"
     },
     "execution_count": 190,
     "metadata": {},
     "output_type": "execute_result"
    }
   ],
   "source": [
    "pred_vec = pred_cat.reshape(-1)\n",
    "pred_vec.shape"
   ],
   "metadata": {
    "collapsed": false
   }
  },
  {
   "cell_type": "code",
   "execution_count": 191,
   "outputs": [
    {
     "data": {
      "text/plain": "(864000,)"
     },
     "execution_count": 191,
     "metadata": {},
     "output_type": "execute_result"
    }
   ],
   "source": [
    "y_data_test2 = y_data_test[0:720,0:1200].reshape(-1)\n",
    "y_data_test2.shape"
   ],
   "metadata": {
    "collapsed": false
   }
  },
  {
   "cell_type": "code",
   "execution_count": 192,
   "outputs": [
    {
     "data": {
      "text/plain": "0.21680555555555556"
     },
     "execution_count": 192,
     "metadata": {},
     "output_type": "execute_result"
    }
   ],
   "source": [
    "accuracy_score(y_data_test2, pred_vec)"
   ],
   "metadata": {
    "collapsed": false
   }
  },
  {
   "cell_type": "code",
   "execution_count": 62,
   "outputs": [
    {
     "name": "stdout",
     "output_type": "stream",
     "text": [
      "27/27 [==============================] - 0s 9ms/step\n"
     ]
    }
   ],
   "source": [
    "prediction2 = model_new.predict(x_r_2,batch_size=32)"
   ],
   "metadata": {
    "collapsed": false
   }
  },
  {
   "cell_type": "code",
   "execution_count": 63,
   "outputs": [
    {
     "data": {
      "text/plain": "(858, 1024)"
     },
     "execution_count": 63,
     "metadata": {},
     "output_type": "execute_result"
    }
   ],
   "source": [
    "pred_cat2 = np.argmax(prediction2,axis=2)\n",
    "pred_cat2.shape"
   ],
   "metadata": {
    "collapsed": false
   }
  },
  {
   "cell_type": "code",
   "execution_count": 64,
   "outputs": [],
   "source": [
    "pred_pxl2 = pred_cat2.reshape(res1, res2)"
   ],
   "metadata": {
    "collapsed": false
   }
  },
  {
   "cell_type": "code",
   "execution_count": 65,
   "outputs": [
    {
     "data": {
      "text/plain": "<Figure size 1200x1200 with 2 Axes>",
      "image/png": "[encoded data removed]"
     },
     "metadata": {},
     "output_type": "display_data"
    },
    {
     "data": {
      "text/plain": "<AxesSubplot:>"
     },
     "execution_count": 65,
     "metadata": {},
     "output_type": "execute_result"
    }
   ],
   "source": [
    "ep.plot_bands(pred_pxl2,\n",
    "              cmap=ListedColormap(['green', 'purple', 'orange', 'blue', 'yellow']))"
   ],
   "metadata": {
    "collapsed": false
   }
  },
  {
   "cell_type": "code",
   "execution_count": 66,
   "outputs": [
    {
     "data": {
      "text/plain": "(878592,)"
     },
     "execution_count": 66,
     "metadata": {},
     "output_type": "execute_result"
    }
   ],
   "source": [
    "pred_vec2 = pred_cat2.reshape(-1)\n",
    "pred_vec2.shape"
   ],
   "metadata": {
    "collapsed": false
   }
  },
  {
   "cell_type": "code",
   "execution_count": 68,
   "outputs": [
    {
     "data": {
      "text/plain": "(878592,)"
     },
     "execution_count": 68,
     "metadata": {},
     "output_type": "execute_result"
    }
   ],
   "source": [
    "y_data_test3 = y_data_test[0:res1,0:res2].reshape(-1)\n",
    "y_data_test3.shape"
   ],
   "metadata": {
    "collapsed": false
   }
  },
  {
   "cell_type": "code",
   "execution_count": 70,
   "outputs": [
    {
     "data": {
      "text/plain": "0.32276756446678323"
     },
     "execution_count": 70,
     "metadata": {},
     "output_type": "execute_result"
    }
   ],
   "source": [
    "accuracy_score(y_data_test3, pred_vec2)"
   ],
   "metadata": {
    "collapsed": false
   }
  },
  {
   "cell_type": "code",
   "execution_count": null,
   "outputs": [],
   "source": [],
   "metadata": {
    "collapsed": false
   }
  }
 ],
 "metadata": {
  "kernelspec": {
   "display_name": "Python 3",
   "language": "python",
   "name": "python3"
  },
  "language_info": {
   "codemirror_mode": {
    "name": "ipython",
    "version": 2
   },
   "file_extension": ".py",
   "mimetype": "text/x-python",
   "name": "python",
   "nbconvert_exporter": "python",
   "pygments_lexer": "ipython2",
   "version": "2.7.6"
  }
 },
 "nbformat": 4,
 "nbformat_minor": 0
}
