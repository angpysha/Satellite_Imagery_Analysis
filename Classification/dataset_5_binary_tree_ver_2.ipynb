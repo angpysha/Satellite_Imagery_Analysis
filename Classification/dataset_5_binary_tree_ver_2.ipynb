{
 "cells": [
  {
   "cell_type": "markdown",
   "source": [
    "## Add imports"
   ],
   "metadata": {
    "collapsed": false
   }
  },
  {
   "cell_type": "code",
   "execution_count": 1,
   "metadata": {
    "collapsed": true,
    "ExecuteTime": {
     "end_time": "2023-06-24T18:52:31.936451900Z",
     "start_time": "2023-06-24T18:52:29.403171300Z"
    }
   },
   "outputs": [
    {
     "data": {
      "text/plain": "<module 'dataset_tool.dataset_loader' from '/tmp/pycharm_project_568/Classification/dataset_tool/dataset_loader.py'>"
     },
     "execution_count": 1,
     "metadata": {},
     "output_type": "execute_result"
    }
   ],
   "source": [
    "# import os\n",
    "import sys\n",
    "import importlib\n",
    "sys.path.append(\"/tmp/pycharm_project_568/Classification/\")\n",
    "# # from dataset_tool.dataset_loader import *\n",
    "# import importer\n",
    "# from dataset_tool.dataset_loader import *\n",
    "import dataset_tool.dataset_loader\n",
    "importlib.reload(dataset_tool.dataset_loader)"
   ]
  },
  {
   "cell_type": "markdown",
   "source": [
    "### Load dataset"
   ],
   "metadata": {
    "collapsed": false
   }
  },
  {
   "cell_type": "code",
   "execution_count": 2,
   "outputs": [
    {
     "name": "stdout",
     "output_type": "stream",
     "text": [
      "test\n",
      "Shape of array is (6966,)\n",
      "COnfig path /tmp/pycharm_project_568/Classification/dataset_config\n",
      "<configparser.ConfigParser object at 0x7fc234158610>\n",
      "to_learch city,water,field,forest\n",
      "Processing city\n",
      "Size of city is 49600\n",
      "Processing water\n",
      "Size of water is 155000\n",
      "Processing field\n",
      "Size of field is 982700\n",
      "Processing forest\n",
      "Size of forest is 456100\n",
      "Train size: 1314720. Test size: 328680\n"
     ]
    }
   ],
   "source": [
    "dataset = dataset_tool.dataset_loader.load_dataset5()"
   ],
   "metadata": {
    "collapsed": false,
    "ExecuteTime": {
     "end_time": "2023-06-24T18:52:51.616687300Z",
     "start_time": "2023-06-24T18:52:31.972963900Z"
    }
   }
  },
  {
   "cell_type": "markdown",
   "source": [
    "### Transform to binary tree"
   ],
   "metadata": {
    "collapsed": false
   }
  },
  {
   "cell_type": "code",
   "execution_count": 3,
   "outputs": [
    {
     "data": {
      "text/plain": "{'city': 1, 'water': 2, 'field': 3, 'forest': 4}"
     },
     "execution_count": 3,
     "metadata": {},
     "output_type": "execute_result"
    }
   ],
   "source": [
    "dataset.categories_map"
   ],
   "metadata": {
    "collapsed": false,
    "ExecuteTime": {
     "end_time": "2023-06-24T18:53:07.974656700Z",
     "start_time": "2023-06-24T18:53:07.932967700Z"
    }
   }
  },
  {
   "cell_type": "code",
   "execution_count": 4,
   "outputs": [
    {
     "data": {
      "text/plain": "<module 'dataset_tool.dataset_tree_transformer' from '/tmp/pycharm_project_568/Classification/dataset_tool/dataset_tree_transformer.py'>"
     },
     "execution_count": 4,
     "metadata": {},
     "output_type": "execute_result"
    }
   ],
   "source": [
    "from dataset_tool.dataset_tree_transformer import *\n",
    "importlib.reload(dataset_tool.dataset_tree_transformer)\n"
   ],
   "metadata": {
    "collapsed": false,
    "ExecuteTime": {
     "end_time": "2023-06-24T18:53:08.574051900Z",
     "start_time": "2023-06-24T18:53:08.540042900Z"
    }
   }
  },
  {
   "cell_type": "code",
   "execution_count": 5,
   "outputs": [
    {
     "name": "stdout",
     "output_type": "stream",
     "text": [
      "COnfig path /tmp/pycharm_project_568/Classification/dataset_config\n",
      "categories tree string [\"city\",[\"water\",[\"field\",\"forest\"]]]\n",
      "List array ['city', ['water', ['field', 'forest']]].\n",
      "Creating dataset: train len: 1314720 test len: 328680\n",
      "Creating dataset: train len: 1274869 test len: 318931\n",
      "Creating dataset: train len: 1150984 test len: 287816\n"
     ]
    }
   ],
   "source": [
    "dataset_tree = DatasetTreeAdapter(dataset)"
   ],
   "metadata": {
    "collapsed": false,
    "ExecuteTime": {
     "end_time": "2023-06-24T18:53:09.709945200Z",
     "start_time": "2023-06-24T18:53:09.426487300Z"
    }
   }
  },
  {
   "cell_type": "code",
   "execution_count": 6,
   "outputs": [
    {
     "data": {
      "text/plain": "[<dataset_tool.iter_dataset.IterDataset at 0x7fc1cef515e0>,\n <dataset_tool.iter_dataset.IterDataset at 0x7fc1cee53c40>,\n <dataset_tool.iter_dataset.IterDataset at 0x7fc1cf0bbb20>]"
     },
     "execution_count": 6,
     "metadata": {},
     "output_type": "execute_result"
    }
   ],
   "source": [
    "dataset_tree.dataset_tree"
   ],
   "metadata": {
    "collapsed": false,
    "ExecuteTime": {
     "end_time": "2023-06-24T18:53:09.893663700Z",
     "start_time": "2023-06-24T18:53:09.859351200Z"
    }
   }
  },
  {
   "cell_type": "code",
   "execution_count": 7,
   "outputs": [],
   "source": [
    "#importlib.reload(dataset_tool.KNNClassifier)\n",
    "from dataset_tool.KNNClassifier import *\n",
    "\n",
    "\n",
    "\n"
   ],
   "metadata": {
    "collapsed": false,
    "ExecuteTime": {
     "end_time": "2023-06-24T18:53:14.058803700Z",
     "start_time": "2023-06-24T18:53:10.536507600Z"
    }
   }
  },
  {
   "cell_type": "markdown",
   "source": [
    "### Use KNN-C"
   ],
   "metadata": {
    "collapsed": false
   }
  },
  {
   "cell_type": "markdown",
   "source": [
    "#### Model fit"
   ],
   "metadata": {
    "collapsed": false
   }
  },
  {
   "cell_type": "code",
   "execution_count": 8,
   "outputs": [],
   "source": [
    "knn_classifier = KNNClassifier(dataset_tree.dataset_tree)"
   ],
   "metadata": {
    "collapsed": false,
    "ExecuteTime": {
     "end_time": "2023-06-24T18:53:16.090017200Z",
     "start_time": "2023-06-24T18:53:16.054226400Z"
    }
   }
  },
  {
   "cell_type": "code",
   "execution_count": 9,
   "outputs": [
    {
     "name": "stdout",
     "output_type": "stream",
     "text": [
      "Models [KNeighborsClassifier(), KNeighborsClassifier(), KNeighborsClassifier()]\n"
     ]
    }
   ],
   "source": [
    "knn_classifier.fit()"
   ],
   "metadata": {
    "collapsed": false,
    "ExecuteTime": {
     "end_time": "2023-06-24T18:55:00.467047400Z",
     "start_time": "2023-06-24T18:53:16.715256300Z"
    }
   }
  },
  {
   "cell_type": "code",
   "execution_count": 10,
   "outputs": [
    {
     "name": "stdout",
     "output_type": "stream",
     "text": [
      "Start prediction test data:\n",
      "Models [KNeighborsClassifier(), KNeighborsClassifier(), KNeighborsClassifier()]\n",
      "Working with: idx 0 and shape (328680, 12)...\n",
      "Working with: idx 1 and shape (318931, 12)...\n",
      "Working with: idx 2 and shape (287816, 12)...\n"
     ]
    }
   ],
   "source": [
    "knn_classifier.predict_test()"
   ],
   "metadata": {
    "collapsed": false,
    "ExecuteTime": {
     "end_time": "2023-06-24T18:56:55.177472700Z",
     "start_time": "2023-06-24T18:55:00.467047400Z"
    }
   }
  },
  {
   "cell_type": "markdown",
   "source": [
    "#### Get classification report"
   ],
   "metadata": {
    "collapsed": false
   }
  },
  {
   "cell_type": "code",
   "execution_count": 11,
   "outputs": [
    {
     "data": {
      "text/plain": "False"
     },
     "execution_count": 11,
     "metadata": {},
     "output_type": "execute_result"
    }
   ],
   "source": [
    "import cuml\n",
    "type(knn_classifier.models[0]) == cuml.internals.base_helpers.BaseMetaClass"
   ],
   "metadata": {
    "collapsed": false,
    "ExecuteTime": {
     "end_time": "2023-06-24T18:57:01.739132Z",
     "start_time": "2023-06-24T18:57:01.700921600Z"
    }
   }
  },
  {
   "cell_type": "code",
   "execution_count": 12,
   "outputs": [],
   "source": [
    "from dataset_tool.classification_report_creator import *"
   ],
   "metadata": {
    "collapsed": false,
    "ExecuteTime": {
     "end_time": "2023-06-24T18:57:02.726755200Z",
     "start_time": "2023-06-24T18:57:02.682059700Z"
    }
   }
  },
  {
   "cell_type": "code",
   "execution_count": 13,
   "outputs": [],
   "source": [
    "knn_report_creator = ClassificationReportCreator(knn_classifier.predictions,dataset_tree.dataset_tree)"
   ],
   "metadata": {
    "collapsed": false,
    "ExecuteTime": {
     "end_time": "2023-06-24T18:57:05.238943100Z",
     "start_time": "2023-06-24T18:57:05.191968Z"
    }
   }
  },
  {
   "cell_type": "code",
   "execution_count": 14,
   "outputs": [
    {
     "name": "stdout",
     "output_type": "stream",
     "text": [
      "Get accureacy for 0 iteration\n",
      "Accureacy 0.9907265305519104\n",
      "              precision    recall  f1-score   support\n",
      "\n",
      "           1       0.70      0.98      0.82      6969\n",
      "           2       1.00      0.99      1.00    321711\n",
      "\n",
      "    accuracy                           0.99    328680\n",
      "   macro avg       0.85      0.99      0.91    328680\n",
      "weighted avg       0.99      0.99      0.99    328680\n",
      "\n",
      "Get accureacy for 1 iteration\n",
      "Accureacy 0.998077929019928\n",
      "              precision    recall  f1-score   support\n",
      "\n",
      "           1       0.99      0.99      0.99     30844\n",
      "           2       1.00      1.00      1.00    288087\n",
      "\n",
      "    accuracy                           1.00    318931\n",
      "   macro avg       0.99      1.00      0.99    318931\n",
      "weighted avg       1.00      1.00      1.00    318931\n",
      "\n",
      "Get accureacy for 2 iteration\n",
      "Accureacy 0.950433611869812\n",
      "              precision    recall  f1-score   support\n",
      "\n",
      "           1       0.97      0.96      0.96    199441\n",
      "           2       0.91      0.94      0.92     88375\n",
      "\n",
      "    accuracy                           0.95    287816\n",
      "   macro avg       0.94      0.95      0.94    287816\n",
      "weighted avg       0.95      0.95      0.95    287816\n",
      "\n"
     ]
    }
   ],
   "source": [
    "knn_report_creator.display_tree_predictions()"
   ],
   "metadata": {
    "collapsed": false,
    "ExecuteTime": {
     "end_time": "2023-06-24T18:57:06.642559100Z",
     "start_time": "2023-06-24T18:57:05.753649300Z"
    }
   }
  },
  {
   "cell_type": "code",
   "execution_count": 15,
   "outputs": [],
   "source": [
    "import numpy as np\n",
    "arrr = np.asarray([1,2,3,4,5,6])"
   ],
   "metadata": {
    "collapsed": false,
    "ExecuteTime": {
     "end_time": "2023-06-24T18:57:08.237275Z",
     "start_time": "2023-06-24T18:57:08.198507700Z"
    }
   }
  },
  {
   "cell_type": "code",
   "execution_count": 16,
   "outputs": [
    {
     "data": {
      "text/plain": "array([2, 3, 5])"
     },
     "execution_count": 16,
     "metadata": {},
     "output_type": "execute_result"
    }
   ],
   "source": [
    "np.delete(arrr,[0,3,5])"
   ],
   "metadata": {
    "collapsed": false,
    "ExecuteTime": {
     "end_time": "2023-06-24T18:57:08.885335500Z",
     "start_time": "2023-06-24T18:57:08.832730200Z"
    }
   }
  },
  {
   "cell_type": "markdown",
   "source": [
    "### Gaussian naive Bayes"
   ],
   "metadata": {
    "collapsed": false
   }
  },
  {
   "cell_type": "markdown",
   "source": [
    "#### GNB fit"
   ],
   "metadata": {
    "collapsed": false
   }
  },
  {
   "cell_type": "code",
   "execution_count": 17,
   "outputs": [],
   "source": [
    "from dataset_tool.NBClassifier import *"
   ],
   "metadata": {
    "collapsed": false,
    "ExecuteTime": {
     "end_time": "2023-06-24T18:57:11.984664900Z",
     "start_time": "2023-06-24T18:57:11.946468200Z"
    }
   }
  },
  {
   "cell_type": "code",
   "execution_count": 18,
   "outputs": [],
   "source": [
    "gnb_classifier = GaussianNBClassiefier(dataset_tree.dataset_tree)"
   ],
   "metadata": {
    "collapsed": false,
    "ExecuteTime": {
     "end_time": "2023-06-24T18:57:13.187279900Z",
     "start_time": "2023-06-24T18:57:13.127653300Z"
    }
   }
  },
  {
   "cell_type": "code",
   "execution_count": 19,
   "outputs": [
    {
     "name": "stdout",
     "output_type": "stream",
     "text": [
      "Models [GaussianNB(), GaussianNB(), GaussianNB()]\n"
     ]
    }
   ],
   "source": [
    "gnb_classifier.fit()"
   ],
   "metadata": {
    "collapsed": false,
    "ExecuteTime": {
     "end_time": "2023-06-24T18:57:16.827126300Z",
     "start_time": "2023-06-24T18:57:15.684934600Z"
    }
   }
  },
  {
   "cell_type": "code",
   "execution_count": 20,
   "outputs": [
    {
     "name": "stdout",
     "output_type": "stream",
     "text": [
      "Start prediction test data:\n",
      "Models [GaussianNB(), GaussianNB(), GaussianNB()]\n",
      "Working with: idx 0 and shape (328680, 12)...\n",
      "Working with: idx 1 and shape (318931, 12)...\n",
      "Working with: idx 2 and shape (287816, 12)...\n"
     ]
    }
   ],
   "source": [
    "gnb_classifier.predict_test()"
   ],
   "metadata": {
    "collapsed": false,
    "ExecuteTime": {
     "end_time": "2023-06-24T18:57:19.190067300Z",
     "start_time": "2023-06-24T18:57:18.969592Z"
    }
   }
  },
  {
   "cell_type": "markdown",
   "source": [
    "### SVM fit"
   ],
   "metadata": {
    "collapsed": false
   }
  },
  {
   "cell_type": "code",
   "execution_count": 21,
   "outputs": [],
   "source": [
    "from dataset_tool.SVMClassifier import *"
   ],
   "metadata": {
    "collapsed": false,
    "ExecuteTime": {
     "end_time": "2023-06-24T14:31:01.579264600Z",
     "start_time": "2023-06-24T14:31:01.576255900Z"
    }
   }
  },
  {
   "cell_type": "code",
   "execution_count": 22,
   "outputs": [],
   "source": [
    "svm_classifier = SVMClassiefier(dataset_tree.dataset_tree)"
   ],
   "metadata": {
    "collapsed": false,
    "ExecuteTime": {
     "end_time": "2023-06-24T14:31:01.678033Z",
     "start_time": "2023-06-24T14:31:01.580266500Z"
    }
   }
  },
  {
   "cell_type": "code",
   "execution_count": 23,
   "outputs": [],
   "source": [
    "#svm_classifier.fit()"
   ],
   "metadata": {
    "collapsed": false,
    "ExecuteTime": {
     "end_time": "2023-06-24T14:31:01.695476500Z",
     "start_time": "2023-06-24T14:31:01.615352800Z"
    }
   }
  },
  {
   "cell_type": "code",
   "execution_count": 24,
   "outputs": [],
   "source": [
    "#from dataset_tool.KNNCTF import *"
   ],
   "metadata": {
    "collapsed": false,
    "ExecuteTime": {
     "end_time": "2023-06-24T14:31:01.695476500Z",
     "start_time": "2023-06-24T14:31:01.626383600Z"
    }
   }
  },
  {
   "cell_type": "code",
   "execution_count": 25,
   "outputs": [],
   "source": [
    "#tf_knnc ="
   ],
   "metadata": {
    "collapsed": false,
    "ExecuteTime": {
     "end_time": "2023-06-24T14:31:01.695476500Z",
     "start_time": "2023-06-24T14:31:01.637866300Z"
    }
   }
  },
  {
   "cell_type": "markdown",
   "source": [
    "## Predict on test image"
   ],
   "metadata": {
    "collapsed": false
   }
  },
  {
   "cell_type": "code",
   "execution_count": 21,
   "outputs": [],
   "source": [
    "from dataset_tool.real_prediction import *\n",
    "#importlib.reload(dataset_tool.real_prediction)"
   ],
   "metadata": {
    "collapsed": false,
    "ExecuteTime": {
     "end_time": "2023-06-24T18:57:31.521577900Z",
     "start_time": "2023-06-24T18:57:31.464030200Z"
    }
   }
  },
  {
   "cell_type": "code",
   "execution_count": 22,
   "outputs": [
    {
     "data": {
      "text/plain": "[KNeighborsClassifier(), KNeighborsClassifier(), KNeighborsClassifier()]"
     },
     "execution_count": 22,
     "metadata": {},
     "output_type": "execute_result"
    }
   ],
   "source": [
    "knn_classifier.models"
   ],
   "metadata": {
    "collapsed": false,
    "ExecuteTime": {
     "end_time": "2023-06-24T18:57:32.055408200Z",
     "start_time": "2023-06-24T18:57:32.015410500Z"
    }
   }
  },
  {
   "cell_type": "code",
   "execution_count": 23,
   "outputs": [],
   "source": [
    "real_prediction_knn = RealPrediction(\"/tmp/shared/dataset4/2\", knn_classifier.models)"
   ],
   "metadata": {
    "collapsed": false,
    "ExecuteTime": {
     "end_time": "2023-06-24T18:57:33.699158200Z",
     "start_time": "2023-06-24T18:57:32.595394800Z"
    }
   }
  },
  {
   "cell_type": "code",
   "execution_count": 24,
   "outputs": [],
   "source": [
    "real_prediction_gnb = RealPrediction(\"/tmp/shared/dataset4/2\", gnb_classifier.models)"
   ],
   "metadata": {
    "collapsed": false,
    "ExecuteTime": {
     "end_time": "2023-06-24T18:57:35.615284900Z",
     "start_time": "2023-06-24T18:57:34.659374100Z"
    }
   }
  },
  {
   "cell_type": "code",
   "execution_count": 30,
   "outputs": [],
   "source": [
    "#real_prediction_svc = RealPrediction(\"/tmp/shared/dataset4/2\", svm_classifier.models)"
   ],
   "metadata": {
    "collapsed": false,
    "ExecuteTime": {
     "end_time": "2023-06-24T14:31:03.472833800Z",
     "start_time": "2023-06-24T14:31:03.467808500Z"
    }
   }
  },
  {
   "cell_type": "code",
   "execution_count": 31,
   "outputs": [
    {
     "data": {
      "text/plain": "[KNeighborsClassifier(), KNeighborsClassifier(), KNeighborsClassifier()]"
     },
     "execution_count": 31,
     "metadata": {},
     "output_type": "execute_result"
    }
   ],
   "source": [
    "knn_classifier.models"
   ],
   "metadata": {
    "collapsed": false,
    "ExecuteTime": {
     "end_time": "2023-06-24T14:31:03.541308500Z",
     "start_time": "2023-06-24T14:31:03.472833800Z"
    }
   }
  },
  {
   "cell_type": "code",
   "execution_count": 25,
   "outputs": [],
   "source": [
    "real_prediction_knn.predict()"
   ],
   "metadata": {
    "collapsed": false,
    "ExecuteTime": {
     "end_time": "2023-06-24T19:01:36.126522400Z",
     "start_time": "2023-06-24T18:57:40.629670400Z"
    }
   }
  },
  {
   "cell_type": "code",
   "execution_count": 32,
   "outputs": [],
   "source": [],
   "metadata": {
    "collapsed": false,
    "ExecuteTime": {
     "end_time": "2023-06-24T14:34:53.362807200Z",
     "start_time": "2023-06-24T14:34:53.357804400Z"
    }
   }
  },
  {
   "cell_type": "code",
   "execution_count": 26,
   "outputs": [],
   "source": [
    "real_prediction_gnb.predict()"
   ],
   "metadata": {
    "collapsed": false,
    "ExecuteTime": {
     "end_time": "2023-06-24T19:06:52.248480800Z",
     "start_time": "2023-06-24T19:06:51.755215900Z"
    }
   }
  },
  {
   "cell_type": "code",
   "execution_count": 34,
   "outputs": [],
   "source": [
    "# real_prediction_svc.predict()"
   ],
   "metadata": {
    "collapsed": false,
    "ExecuteTime": {
     "end_time": "2023-06-24T14:34:53.602530700Z",
     "start_time": "2023-06-24T14:34:53.598724100Z"
    }
   }
  },
  {
   "cell_type": "code",
   "execution_count": 184,
   "outputs": [
    {
     "name": "stdout",
     "output_type": "stream",
     "text": [
      "Predcition: 2. Len of idxs: 0. New array shape: (637745,)\n",
      "items before: [1 1 1 ... 1 1 1]: Min value: 1 max value: 2. Items with 1: (605874,).Items with 2: (31871,)\n",
      "items after: [3 3 3 ... 3 3 3]: Min value: 3 max value: 4. Items with 3: (605874,).Items with 4: (31871,)\n",
      "max: 3.0\n",
      "Predcition: 1. Len of idxs: 58531. New array shape: (696276,)\n",
      "items before: [1 1 1 ... 1 1 1]: Min value: 1 max value: 1. Items with 1: (58531,).Items with 2: (0,)\n",
      "items after: [2 2 2 ... 2 2 2]: Min value: 2 max value: 2. Items with 2: (58531,).Items with 3: (0,)\n",
      "items idx: [     0      1      2 ... 696015 696016 696017]  with type <class 'numpy.ndarray'>\n",
      "max: 2.0\n",
      "Predcition: 0. Len of idxs: 1696. New array shape: (697972,)\n",
      "items before: [1 1 1 ... 1 1 1]: Min value: 1 max value: 1. Items with 1: (1696,).Items with 2: (0,)\n",
      "items after: [1 1 1 ... 1 1 1]: Min value: 1 max value: 1. Items with 1: (1696,).Items with 2: (0,)\n",
      "items idx: [ 18965  18966  18967 ... 694246 695339 695340]  with type <class 'numpy.ndarray'>\n",
      "max: 1.0\n"
     ]
    }
   ],
   "source": [
    "arr2 = np.zeros(real_prediction_knn.x_scaled_base.shape[0])\n",
    "idxs = []\n",
    "array = np.empty(0)\n",
    "for index, item in reversed(list(enumerate(real_prediction_knn.predictions))):\n",
    "    new_array = np.zeros(array.shape[0] + item[1].shape[0], dtype=float)\n",
    "    print(f\"Predcition: {item[2]}. Len of idxs: {len(item[0])}. New array shape: {new_array.shape}\")\n",
    "    print(f\"items before: {item[1]}: Min value: {item[1].min()} max value: {item[1].max()}. Items with 1: {np.where(item[1][item[1]==1])[0].shape}.Items with 2: {np.where(item[1][item[1]==2])[0].shape}\")\n",
    "    new_items = item[1].copy() + item[2]\n",
    "    print(f\"items after: {new_items}: Min value: {new_items.min()} max value: {new_items.max()}. Items with {1+item[2]}: {np.where(new_items[new_items==1+item[2]])[0].shape}.Items with {2+item[2]}: {np.where(new_items[new_items==2+item[2]])[0].shape}\")\n",
    "    #print(f\"items before: {new_items}\")\n",
    "    if len(item[0]) == 0:\n",
    "        new_array[np.arange(item[1].shape[0])] = new_items.copy()\n",
    "    else:\n",
    "        print(f\"items idx: {item[0]}  with type {type(item[0])}\")\n",
    "        new_array[~np.isin(np.arange(array.shape[0] + item[1].shape[0]), item[0])] = array.copy()\n",
    "        new_array[np.isin(np.arange(array.shape[0] + item[1].shape[0]), item[0])] = new_items.copy()\n",
    "    array = new_array\n",
    "    print(f\"max: {array.min()}\")\n"
   ],
   "metadata": {
    "collapsed": false,
    "ExecuteTime": {
     "end_time": "2023-06-24T18:11:33.735024700Z",
     "start_time": "2023-06-24T18:11:33.569207800Z"
    }
   }
  },
  {
   "cell_type": "code",
   "execution_count": 185,
   "outputs": [
    {
     "name": "stdout",
     "output_type": "stream",
     "text": [
      "Shape of 1: (1696,).\n",
      "Shape of 2: (58531,).\n",
      "Shape of 3: (605874,).\n",
      "Shape of 4: (31871,)\n"
     ]
    }
   ],
   "source": [
    "print(f\"Shape of 1: {array[array == 1].shape}.\\nShape of 2: {array[array == 2].shape}.\\nShape of 3: {array[array == 3].shape}.\\nShape of 4: {array[array == 4].shape}\")"
   ],
   "metadata": {
    "collapsed": false,
    "ExecuteTime": {
     "end_time": "2023-06-24T18:11:37.424155500Z",
     "start_time": "2023-06-24T18:11:37.328699200Z"
    }
   }
  },
  {
   "cell_type": "code",
   "execution_count": 187,
   "outputs": [],
   "source": [
    "immmm2 = array.reshape((real_prediction_knn.height, real_prediction_knn.width))"
   ],
   "metadata": {
    "collapsed": false,
    "ExecuteTime": {
     "end_time": "2023-06-24T18:11:39.508940200Z",
     "start_time": "2023-06-24T18:11:39.467812300Z"
    }
   }
  },
  {
   "cell_type": "code",
   "execution_count": 35,
   "outputs": [
    {
     "data": {
      "text/plain": "<dataset_tool.real_prediction.RealPrediction at 0x7f4cc1bfedf0>"
     },
     "execution_count": 35,
     "metadata": {},
     "output_type": "execute_result"
    }
   ],
   "source": [
    "real_prediction_knn"
   ],
   "metadata": {
    "collapsed": false,
    "ExecuteTime": {
     "end_time": "2023-06-24T14:34:53.672931100Z",
     "start_time": "2023-06-24T14:34:53.606080600Z"
    }
   }
  },
  {
   "cell_type": "code",
   "execution_count": 27,
   "outputs": [
    {
     "name": "stdout",
     "output_type": "stream",
     "text": [
      "Predcition: 2. Len of idxs: 0. New array shape: (638063,)\n",
      "items before: [1 1 1 ... 1 1 1]: Min value: 1 max value: 2. Items with 1: (606064,).Items with 2: (31999,)\n",
      "items after: [3 3 3 ... 3 3 3]: Min value: 3 max value: 4. Items with 3: (606064,).Items with 4: (31999,)\n",
      "max: 3.0\n",
      "Predcition: 1. Len of idxs: 58235. New array shape: (696298,)\n",
      "items before: [1 1 1 ... 1 1 1]: Min value: 1 max value: 1. Items with 1: (58235,).Items with 2: (0,)\n",
      "items after: [2 2 2 ... 2 2 2]: Min value: 2 max value: 2. Items with 2: (58235,).Items with 3: (0,)\n",
      "items idx: [     0      1      2 ... 696037 696038 696039]  with type <class 'numpy.ndarray'>\n",
      "max: 2.0\n",
      "Predcition: 0. Len of idxs: 1674. New array shape: (697972,)\n",
      "items before: [1 1 1 ... 1 1 1]: Min value: 1 max value: 1. Items with 1: (1674,).Items with 2: (0,)\n",
      "items after: [1 1 1 ... 1 1 1]: Min value: 1 max value: 1. Items with 1: (1674,).Items with 2: (0,)\n",
      "items idx: [ 18965  18966  18967 ... 694246 695339 695340]  with type <class 'numpy.ndarray'>\n",
      "max: 1.0\n"
     ]
    }
   ],
   "source": [
    "real_prediction_knn.flatten()"
   ],
   "metadata": {
    "collapsed": false,
    "ExecuteTime": {
     "end_time": "2023-06-24T19:07:00.626791900Z",
     "start_time": "2023-06-24T19:07:00.456442Z"
    }
   }
  },
  {
   "cell_type": "code",
   "execution_count": 28,
   "outputs": [
    {
     "name": "stdout",
     "output_type": "stream",
     "text": [
      "Predcition: 2. Len of idxs: 0. New array shape: (543201,)\n",
      "items before: [1 1 1 ... 1 1 1]: Min value: 1 max value: 2. Items with 1: (519824,).Items with 2: (23377,)\n",
      "items after: [3 3 3 ... 3 3 3]: Min value: 3 max value: 4. Items with 3: (519824,).Items with 4: (23377,)\n",
      "max: 3.0\n",
      "Predcition: 1. Len of idxs: 58464. New array shape: (601665,)\n",
      "items before: [1 1 1 ... 1 1 1]: Min value: 1 max value: 1. Items with 1: (58464,).Items with 2: (0,)\n",
      "items after: [2 2 2 ... 2 2 2]: Min value: 2 max value: 2. Items with 2: (58464,).Items with 3: (0,)\n",
      "items idx: [     0      1      2 ... 601410 601411 601412]  with type <class 'numpy.ndarray'>\n",
      "max: 2.0\n",
      "Predcition: 0. Len of idxs: 96307. New array shape: (697972,)\n",
      "items before: [1 1 1 ... 1 1 1]: Min value: 1 max value: 1. Items with 1: (96307,).Items with 2: (0,)\n",
      "items after: [1 1 1 ... 1 1 1]: Min value: 1 max value: 1. Items with 1: (96307,).Items with 2: (0,)\n",
      "items idx: [   167    200    206 ... 697814 697815 697816]  with type <class 'numpy.ndarray'>\n",
      "max: 1.0\n"
     ]
    }
   ],
   "source": [
    "real_prediction_gnb.flatten()"
   ],
   "metadata": {
    "collapsed": false,
    "ExecuteTime": {
     "end_time": "2023-06-24T19:07:01.123039500Z",
     "start_time": "2023-06-24T19:07:00.997037400Z"
    }
   }
  },
  {
   "cell_type": "code",
   "execution_count": 38,
   "outputs": [],
   "source": [
    "# real_prediction_svc.flatten()"
   ],
   "metadata": {
    "collapsed": false,
    "ExecuteTime": {
     "end_time": "2023-06-24T14:34:53.793884100Z",
     "start_time": "2023-06-24T14:34:53.783890100Z"
    }
   }
  },
  {
   "cell_type": "code",
   "execution_count": 38,
   "outputs": [],
   "source": [],
   "metadata": {
    "collapsed": false,
    "ExecuteTime": {
     "end_time": "2023-06-24T14:34:53.793884100Z",
     "start_time": "2023-06-24T14:34:53.783890100Z"
    }
   }
  },
  {
   "cell_type": "code",
   "execution_count": 29,
   "outputs": [],
   "source": [
    "im = real_prediction_knn.to2d()"
   ],
   "metadata": {
    "collapsed": false,
    "ExecuteTime": {
     "end_time": "2023-06-24T19:07:04.472079400Z",
     "start_time": "2023-06-24T19:07:04.349372600Z"
    }
   }
  },
  {
   "cell_type": "code",
   "execution_count": 40,
   "outputs": [
    {
     "data": {
      "text/plain": "1"
     },
     "execution_count": 40,
     "metadata": {},
     "output_type": "execute_result"
    }
   ],
   "source": [
    "max(real_prediction_knn.predictions[0][1])"
   ],
   "metadata": {
    "collapsed": false,
    "ExecuteTime": {
     "end_time": "2023-06-24T14:34:53.824060500Z",
     "start_time": "2023-06-24T14:34:53.787884500Z"
    }
   }
  },
  {
   "cell_type": "code",
   "execution_count": 41,
   "outputs": [
    {
     "data": {
      "text/plain": "60227"
     },
     "execution_count": 41,
     "metadata": {},
     "output_type": "execute_result"
    }
   ],
   "source": [
    "len(im[im==1])"
   ],
   "metadata": {
    "collapsed": false,
    "ExecuteTime": {
     "end_time": "2023-06-24T14:34:53.824060500Z",
     "start_time": "2023-06-24T14:34:53.802168200Z"
    }
   }
  },
  {
   "cell_type": "code",
   "execution_count": 30,
   "outputs": [],
   "source": [
    "im_gnb = real_prediction_gnb.to2d()"
   ],
   "metadata": {
    "collapsed": false,
    "ExecuteTime": {
     "end_time": "2023-06-24T19:07:07.874481200Z",
     "start_time": "2023-06-24T19:07:07.713801800Z"
    }
   }
  },
  {
   "cell_type": "code",
   "execution_count": 43,
   "outputs": [
    {
     "data": {
      "text/plain": "4.0"
     },
     "execution_count": 43,
     "metadata": {},
     "output_type": "execute_result"
    }
   ],
   "source": [
    "im.max()"
   ],
   "metadata": {
    "collapsed": false,
    "ExecuteTime": {
     "end_time": "2023-06-24T14:34:53.926034800Z",
     "start_time": "2023-06-24T14:34:53.822061300Z"
    }
   }
  },
  {
   "cell_type": "code",
   "execution_count": 44,
   "outputs": [],
   "source": [
    "#im_svc = real_prediction_svc.to2d()"
   ],
   "metadata": {
    "collapsed": false,
    "ExecuteTime": {
     "end_time": "2023-06-24T14:34:53.926034800Z",
     "start_time": "2023-06-24T14:34:53.838785600Z"
    }
   }
  },
  {
   "cell_type": "code",
   "execution_count": 45,
   "outputs": [
    {
     "data": {
      "text/plain": "638"
     },
     "execution_count": 45,
     "metadata": {},
     "output_type": "execute_result"
    }
   ],
   "source": [
    "real_prediction_knn.height"
   ],
   "metadata": {
    "collapsed": false,
    "ExecuteTime": {
     "end_time": "2023-06-24T14:34:53.927036500Z",
     "start_time": "2023-06-24T14:34:53.847847900Z"
    }
   }
  },
  {
   "cell_type": "code",
   "execution_count": 47,
   "outputs": [],
   "source": [
    "predictions = real_prediction_knn.predictions"
   ],
   "metadata": {
    "collapsed": false,
    "ExecuteTime": {
     "end_time": "2023-06-24T14:34:53.942849600Z",
     "start_time": "2023-06-24T14:34:53.894337800Z"
    }
   }
  },
  {
   "cell_type": "code",
   "execution_count": 48,
   "outputs": [
    {
     "data": {
      "text/plain": "0"
     },
     "execution_count": 48,
     "metadata": {},
     "output_type": "execute_result"
    }
   ],
   "source": [
    "len(predictions[2][0])"
   ],
   "metadata": {
    "collapsed": false,
    "ExecuteTime": {
     "end_time": "2023-06-24T14:34:53.943780300Z",
     "start_time": "2023-06-24T14:34:53.894895300Z"
    }
   }
  },
  {
   "cell_type": "code",
   "execution_count": 49,
   "outputs": [
    {
     "data": {
      "text/plain": "(1696,)"
     },
     "execution_count": 49,
     "metadata": {},
     "output_type": "execute_result"
    }
   ],
   "source": [
    "real_prediction_knn.predictions[0][1].shape"
   ],
   "metadata": {
    "collapsed": false,
    "ExecuteTime": {
     "end_time": "2023-06-24T14:34:53.943780300Z",
     "start_time": "2023-06-24T14:34:53.899813600Z"
    }
   }
  },
  {
   "cell_type": "code",
   "execution_count": 31,
   "outputs": [
    {
     "data": {
      "text/plain": "[Text(1, 1, 'city'),\n Text(1, 2, 'water'),\n Text(1, 3, 'field'),\n Text(1, 4, 'forest')]"
     },
     "execution_count": 31,
     "metadata": {},
     "output_type": "execute_result"
    },
    {
     "data": {
      "text/plain": "<Figure size 640x480 with 2 Axes>",
      "image/png": "[encoded data removed]"
     },
     "metadata": {},
     "output_type": "display_data"
    }
   ],
   "source": [
    "from matplotlib.colors import ListedColormap\n",
    "import matplotlib.pyplot as plt\n",
    "#\n",
    "# plt.imshow(im)\n",
    "# im1 = ax[1].imshow(knn_image_default_1,cmap=ListedColormap(['blue', 'purple']))\n",
    "# im3 = ax[2].imshow(mnb_image_default_1,cmap=ListedColormap(['blue', 'purple']))\n",
    "#im4 = ax[3].imshow(svm_image_default_1,cmap=ListedColormap(['blue', 'purple']))\n",
    "plt.imshow(im, cmap=ListedColormap(['red','blue','yellow','green']))\n",
    "labels = list(['city','water','field','forest'])\n",
    "values = list([1,2,3,4])\n",
    "plt.title = \"KKNC\"\n",
    "# ax[1].set_title(\"KNNC\")\n",
    "# ax[2].set_title(\"Naive bayes\")\n",
    "#ax[2].set_title(\"SVM\")\n",
    "# Create a colorbar with the legend\n",
    "colorbar = plt.colorbar(ticks=values)\n",
    "colorbar.ax.set_yticklabels(labels)"
   ],
   "metadata": {
    "collapsed": false,
    "ExecuteTime": {
     "end_time": "2023-06-24T19:07:15.922476200Z",
     "start_time": "2023-06-24T19:07:15.650534600Z"
    }
   }
  },
  {
   "cell_type": "code",
   "execution_count": 32,
   "outputs": [
    {
     "data": {
      "text/plain": "[Text(1, 1, 'city'),\n Text(1, 2, 'water'),\n Text(1, 3, 'field'),\n Text(1, 4, 'forest')]"
     },
     "execution_count": 32,
     "metadata": {},
     "output_type": "execute_result"
    },
    {
     "data": {
      "text/plain": "<Figure size 640x480 with 2 Axes>",
      "image/png": "[encoded data removed]"
     },
     "metadata": {},
     "output_type": "display_data"
    }
   ],
   "source": [
    "from matplotlib.colors import ListedColormap\n",
    "import matplotlib.pyplot as plt\n",
    "#\n",
    "# plt.imshow(im)\n",
    "# im1 = ax[1].imshow(knn_image_default_1,cmap=ListedColormap(['blue', 'purple']))\n",
    "# im3 = ax[2].imshow(mnb_image_default_1,cmap=ListedColormap(['blue', 'purple']))\n",
    "#im4 = ax[3].imshow(svm_image_default_1,cmap=ListedColormap(['blue', 'purple']))\n",
    "plt.imshow(im_gnb, cmap=ListedColormap(['red','blue','yellow','green']))\n",
    "labels = list(['city','water','field','forest'])\n",
    "values = list([1,2,3,4])\n",
    "plt.title = \"KKNC\"\n",
    "# ax[1].set_title(\"KNNC\")\n",
    "# ax[2].set_title(\"Naive bayes\")\n",
    "#ax[2].set_title(\"SVM\")\n",
    "# Create a colorbar with the legend\n",
    "colorbar = plt.colorbar(ticks=values)\n",
    "colorbar.ax.set_yticklabels(labels)"
   ],
   "metadata": {
    "collapsed": false,
    "ExecuteTime": {
     "end_time": "2023-06-24T19:08:02.919068600Z",
     "start_time": "2023-06-24T19:08:02.690894800Z"
    }
   }
  },
  {
   "cell_type": "code",
   "execution_count": 52,
   "outputs": [
    {
     "ename": "NameError",
     "evalue": "name 'im_svc' is not defined",
     "output_type": "error",
     "traceback": [
      "\u001B[0;31m---------------------------------------------------------------------------\u001B[0m",
      "\u001B[0;31mNameError\u001B[0m                                 Traceback (most recent call last)",
      "Input \u001B[0;32mIn [52]\u001B[0m, in \u001B[0;36m<cell line: 1>\u001B[0;34m()\u001B[0m\n\u001B[0;32m----> 1\u001B[0m plt\u001B[38;5;241m.\u001B[39mimshow(\u001B[43mim_svc\u001B[49m)\n",
      "\u001B[0;31mNameError\u001B[0m: name 'im_svc' is not defined"
     ]
    }
   ],
   "source": [
    "plt.imshow(im_svc)"
   ],
   "metadata": {
    "collapsed": false,
    "ExecuteTime": {
     "end_time": "2023-06-24T14:34:54.969713500Z",
     "start_time": "2023-06-24T14:34:54.402106300Z"
    }
   }
  },
  {
   "cell_type": "code",
   "execution_count": null,
   "outputs": [],
   "source": [
    "real_prediction_knn.predict_proba()"
   ],
   "metadata": {
    "collapsed": false,
    "ExecuteTime": {
     "start_time": "2023-06-24T14:34:54.967174Z"
    }
   }
  },
  {
   "cell_type": "code",
   "execution_count": null,
   "outputs": [],
   "source": [
    "#real_prediction_knn.flatten_proba()"
   ],
   "metadata": {
    "collapsed": false
   }
  },
  {
   "cell_type": "code",
   "execution_count": null,
   "outputs": [],
   "source": [
    "real_prediction_knn.predictions[0][1][0]"
   ],
   "metadata": {
    "collapsed": false
   }
  },
  {
   "cell_type": "code",
   "execution_count": null,
   "outputs": [],
   "source": [
    "real_prediction_knn.predictions_proba[0][1]"
   ],
   "metadata": {
    "collapsed": false
   }
  },
  {
   "cell_type": "code",
   "execution_count": null,
   "outputs": [],
   "source": [
    "# def flatten_proba(self):\n",
    "#     array = np.empty(0)\n",
    "#     for index, item in reversed(list(enumerate(self.predictions_proba))):\n",
    "#         new_array = np.empty((array.shape[0] + item[1].shape[0],2), dtype=float)\n",
    "#         print(f\"Predcition: {item[2]}. Len of idxs: {len(item[0])}. New array shape: {new_array.shape}\")\n",
    "#         new_items = item[1] + item[2]\n",
    "#         if len(item[0]) == 0:\n",
    "#             new_array[np.arange(item[1].shape[0])] = new_items\n",
    "#         else:\n",
    "#             new_array[item[0]] = item[1]\n",
    "#             new_array[~np.isin(np.arange(array.shape[0] + item[1].shape[0]), item[0])] = array\n",
    "#         array = new_array\n",
    "#     self.predictions_composite_proba = array"
   ],
   "metadata": {
    "collapsed": false
   }
  },
  {
   "cell_type": "code",
   "execution_count": null,
   "outputs": [],
   "source": [
    "import numpy as np\n",
    "\n",
    "item1 = np.asarray([[0.2,0.8],[0.3,0.7],[0.2,0.8],[0.4,0.6],[0.25,0.75]])\n",
    "item2 = np.asarray([[0.2,0.8],[0.3,0.7],[0.2,0.8],[0.4,0.6],[0.25,0.75]])"
   ],
   "metadata": {
    "collapsed": false
   }
  },
  {
   "cell_type": "code",
   "execution_count": null,
   "outputs": [],
   "source": [
    "# item1_1 = item1[0]\n",
    "# item2_1 = item2[0]"
   ],
   "metadata": {
    "collapsed": false
   }
  },
  {
   "cell_type": "code",
   "execution_count": null,
   "outputs": [],
   "source": [
    "# item3 = item1[0][2] * item2_1"
   ],
   "metadata": {
    "collapsed": false
   }
  },
  {
   "cell_type": "code",
   "execution_count": null,
   "outputs": [],
   "source": [
    "result = item1 * item2[:, 0][:, np.newaxis]"
   ],
   "metadata": {
    "collapsed": false
   }
  },
  {
   "cell_type": "code",
   "execution_count": null,
   "outputs": [],
   "source": [
    "result"
   ],
   "metadata": {
    "collapsed": false
   }
  },
  {
   "cell_type": "code",
   "execution_count": null,
   "outputs": [],
   "source": [
    "result = np.hstack((item1, result, result * item2[:, 1][:, np.newaxis]))"
   ],
   "metadata": {
    "collapsed": false
   }
  },
  {
   "cell_type": "code",
   "execution_count": null,
   "outputs": [],
   "source": [
    "result"
   ],
   "metadata": {
    "collapsed": false
   }
  },
  {
   "cell_type": "code",
   "execution_count": null,
   "outputs": [],
   "source": [
    "result2 = np.hstack((item1, (item1 * item2).sum(axis=1, keepdims=True)))"
   ],
   "metadata": {
    "collapsed": false
   }
  },
  {
   "cell_type": "code",
   "execution_count": null,
   "outputs": [],
   "source": [
    "result2"
   ],
   "metadata": {
    "collapsed": false
   }
  },
  {
   "cell_type": "code",
   "execution_count": null,
   "outputs": [],
   "source": [
    "item1[0][1]*item2[0]"
   ],
   "metadata": {
    "collapsed": false
   }
  },
  {
   "cell_type": "code",
   "execution_count": null,
   "outputs": [],
   "source": [
    "item1[0][1]"
   ],
   "metadata": {
    "collapsed": false
   }
  },
  {
   "cell_type": "code",
   "execution_count": null,
   "outputs": [],
   "source": [
    "item2[0]"
   ],
   "metadata": {
    "collapsed": false
   }
  },
  {
   "cell_type": "code",
   "execution_count": null,
   "outputs": [],
   "source": [
    "i1 = item1[:,1][:,np.newaxis] * item2"
   ],
   "metadata": {
    "collapsed": false
   }
  },
  {
   "cell_type": "code",
   "execution_count": null,
   "outputs": [],
   "source": [
    "i2 = item1[:,0]"
   ],
   "metadata": {
    "collapsed": false
   }
  },
  {
   "cell_type": "code",
   "execution_count": null,
   "outputs": [],
   "source": [
    "np.zstack(i2,i1)"
   ],
   "metadata": {
    "collapsed": false
   }
  },
  {
   "cell_type": "code",
   "execution_count": null,
   "outputs": [],
   "source": [
    "i1.shape"
   ],
   "metadata": {
    "collapsed": false
   }
  },
  {
   "cell_type": "code",
   "execution_count": null,
   "outputs": [],
   "source": [
    "i2.shape"
   ],
   "metadata": {
    "collapsed": false
   }
  },
  {
   "cell_type": "code",
   "execution_count": null,
   "outputs": [],
   "source": [
    "np.hstack((i2[:, np.newaxis], i1))"
   ],
   "metadata": {
    "collapsed": false
   }
  },
  {
   "cell_type": "code",
   "execution_count": null,
   "outputs": [],
   "source": [
    "probas = np.asarray(real_prediction_knn.predictions_proba)"
   ],
   "metadata": {
    "collapsed": false
   }
  },
  {
   "cell_type": "code",
   "execution_count": null,
   "outputs": [],
   "source": [
    "probas.shape"
   ],
   "metadata": {
    "collapsed": false
   }
  },
  {
   "cell_type": "code",
   "execution_count": null,
   "outputs": [],
   "source": [
    "# def flatten_probas():\n",
    "#     new_array = np.empty(0)\n",
    "#\n",
    "#     for idx, item in enumerate(probas):\n",
    "#         print(f\"idx: {idx}\")\n",
    "#         if idx == 0:\n",
    "#             new_array = item\n",
    "#         else:\n",
    "#             i1 = new_array[:, idx][:,np.newaxis] * item\n",
    "#             i2 = new_array[:,:idx]\n",
    "#             new_array = np.hstack((i2, i1))\n",
    "#\n",
    "#     return new_array"
   ],
   "metadata": {
    "collapsed": false
   }
  },
  {
   "cell_type": "code",
   "execution_count": null,
   "outputs": [],
   "source": [
    "# arrrrr = flatten_probas()"
   ],
   "metadata": {
    "collapsed": false
   }
  },
  {
   "cell_type": "code",
   "execution_count": null,
   "outputs": [],
   "source": [
    "# arrrrr.shape"
   ],
   "metadata": {
    "collapsed": false
   }
  },
  {
   "cell_type": "code",
   "execution_count": null,
   "outputs": [],
   "source": [
    "# from dataset_tool.graph_utils import *\n",
    "#\n",
    "# createHistGraph(arrrrr, dataset.categories_map)"
   ],
   "metadata": {
    "collapsed": false
   }
  },
  {
   "cell_type": "code",
   "execution_count": null,
   "outputs": [],
   "source": [
    "i2 = arrrrr[:, :1]"
   ],
   "metadata": {
    "collapsed": false
   }
  },
  {
   "cell_type": "code",
   "execution_count": null,
   "outputs": [],
   "source": [
    "i1.shape"
   ],
   "metadata": {
    "collapsed": false
   }
  },
  {
   "cell_type": "code",
   "execution_count": null,
   "outputs": [],
   "source": [
    "np.hstack((i2,i1))"
   ],
   "metadata": {
    "collapsed": false
   }
  },
  {
   "cell_type": "code",
   "execution_count": null,
   "outputs": [],
   "source": [
    "probas[1]"
   ],
   "metadata": {
    "collapsed": false
   }
  },
  {
   "cell_type": "code",
   "execution_count": null,
   "outputs": [],
   "source": [],
   "metadata": {
    "collapsed": false
   }
  }
 ],
 "metadata": {
  "kernelspec": {
   "display_name": "Python 3",
   "language": "python",
   "name": "python3"
  },
  "language_info": {
   "codemirror_mode": {
    "name": "ipython",
    "version": 2
   },
   "file_extension": ".py",
   "mimetype": "text/x-python",
   "name": "python",
   "nbconvert_exporter": "python",
   "pygments_lexer": "ipython2",
   "version": "2.7.6"
  }
 },
 "nbformat": 4,
 "nbformat_minor": 0
}
