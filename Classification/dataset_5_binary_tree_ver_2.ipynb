{
 "cells": [
  {
   "cell_type": "markdown",
   "source": [
    "## Add imports"
   ],
   "metadata": {
    "collapsed": false
   }
  },
  {
   "cell_type": "code",
   "execution_count": 1,
   "metadata": {
    "collapsed": true,
    "ExecuteTime": {
     "end_time": "2023-06-24T09:49:14.657090300Z",
     "start_time": "2023-06-24T09:49:10.551053600Z"
    }
   },
   "outputs": [
    {
     "data": {
      "text/plain": "<module 'dataset_tool.dataset_loader' from '/tmp/pycharm_project_568/Classification/dataset_tool/dataset_loader.py'>"
     },
     "execution_count": 1,
     "metadata": {},
     "output_type": "execute_result"
    }
   ],
   "source": [
    "# import os\n",
    "import sys\n",
    "import importlib\n",
    "sys.path.append(\"/tmp/pycharm_project_568/Classification/\")\n",
    "# # from dataset_tool.dataset_loader import *\n",
    "# import importer\n",
    "# from dataset_tool.dataset_loader import *\n",
    "import dataset_tool.dataset_loader\n",
    "importlib.reload(dataset_tool.dataset_loader)"
   ]
  },
  {
   "cell_type": "markdown",
   "source": [
    "### Load dataset"
   ],
   "metadata": {
    "collapsed": false
   }
  },
  {
   "cell_type": "code",
   "execution_count": 2,
   "outputs": [
    {
     "name": "stdout",
     "output_type": "stream",
     "text": [
      "test\n",
      "Shape of array is (6966,)\n",
      "COnfig path /tmp/pycharm_project_568/Classification/dataset_config\n",
      "<configparser.ConfigParser object at 0x7f4d55011c10>\n",
      "to_learch field,forest,water,city\n",
      "Processing field\n",
      "Size of field is 982700\n",
      "Processing forest\n",
      "Size of forest is 456100\n",
      "Processing water\n",
      "Size of water is 155000\n",
      "Processing city\n",
      "Size of city is 49600\n",
      "Train size: 1314720. Test size: 328680\n"
     ]
    }
   ],
   "source": [
    "dataset = dataset_tool.dataset_loader.load_dataset5()"
   ],
   "metadata": {
    "collapsed": false,
    "ExecuteTime": {
     "end_time": "2023-06-24T09:49:42.638308500Z",
     "start_time": "2023-06-24T09:49:16.048381700Z"
    }
   }
  },
  {
   "cell_type": "markdown",
   "source": [
    "### Transform to binary tree"
   ],
   "metadata": {
    "collapsed": false
   }
  },
  {
   "cell_type": "code",
   "execution_count": 3,
   "outputs": [
    {
     "data": {
      "text/plain": "<module 'dataset_tool.dataset_tree_transformer' from '/tmp/pycharm_project_568/Classification/dataset_tool/dataset_tree_transformer.py'>"
     },
     "execution_count": 3,
     "metadata": {},
     "output_type": "execute_result"
    }
   ],
   "source": [
    "from dataset_tool.dataset_tree_transformer import *\n",
    "importlib.reload(dataset_tool.dataset_tree_transformer)\n"
   ],
   "metadata": {
    "collapsed": false,
    "ExecuteTime": {
     "end_time": "2023-06-24T09:49:42.650513Z",
     "start_time": "2023-06-24T09:49:42.641307400Z"
    }
   }
  },
  {
   "cell_type": "code",
   "execution_count": 4,
   "outputs": [
    {
     "name": "stdout",
     "output_type": "stream",
     "text": [
      "COnfig path /tmp/pycharm_project_568/Classification/dataset_config\n",
      "categories tree string [\"field\",[\"forest\",[\"water\",\"city\"]]]\n",
      "List array ['field', ['forest', ['water', 'city']]].\n",
      "Creating dataset: train len: 1314720 test len: 328680\n",
      "Creating dataset: train len: 528547 test len: 132153\n",
      "Creating dataset: train len: 163928 test len: 40672\n"
     ]
    }
   ],
   "source": [
    "dataset_tree = DatasetTreeAdapter(dataset)"
   ],
   "metadata": {
    "collapsed": false,
    "ExecuteTime": {
     "end_time": "2023-06-24T09:49:44.603892800Z",
     "start_time": "2023-06-24T09:49:44.425804700Z"
    }
   }
  },
  {
   "cell_type": "code",
   "execution_count": 5,
   "outputs": [
    {
     "data": {
      "text/plain": "[<dataset_tool.iter_dataset.IterDataset at 0x7f4da2898d90>,\n <dataset_tool.iter_dataset.IterDataset at 0x7f4da2898df0>,\n <dataset_tool.iter_dataset.IterDataset at 0x7f4d54cf4100>]"
     },
     "execution_count": 5,
     "metadata": {},
     "output_type": "execute_result"
    }
   ],
   "source": [
    "dataset_tree.dataset_tree"
   ],
   "metadata": {
    "collapsed": false,
    "ExecuteTime": {
     "end_time": "2023-06-24T09:49:46.518627800Z",
     "start_time": "2023-06-24T09:49:46.472109Z"
    }
   }
  },
  {
   "cell_type": "code",
   "execution_count": 6,
   "outputs": [],
   "source": [
    "#importlib.reload(dataset_tool.KNNClassifier)\n",
    "from dataset_tool.KNNClassifier import *\n",
    "\n",
    "\n",
    "\n"
   ],
   "metadata": {
    "collapsed": false,
    "ExecuteTime": {
     "end_time": "2023-06-24T09:49:54.804844900Z",
     "start_time": "2023-06-24T09:49:49.247170800Z"
    }
   }
  },
  {
   "cell_type": "markdown",
   "source": [
    "### Use KNN-C"
   ],
   "metadata": {
    "collapsed": false
   }
  },
  {
   "cell_type": "markdown",
   "source": [
    "#### Model fit"
   ],
   "metadata": {
    "collapsed": false
   }
  },
  {
   "cell_type": "code",
   "execution_count": 7,
   "outputs": [],
   "source": [
    "knn_classifier = KNNClassifier(dataset_tree.dataset_tree)"
   ],
   "metadata": {
    "collapsed": false,
    "ExecuteTime": {
     "end_time": "2023-06-24T09:49:58.314978Z",
     "start_time": "2023-06-24T09:49:58.266860500Z"
    }
   }
  },
  {
   "cell_type": "code",
   "execution_count": 8,
   "outputs": [
    {
     "name": "stdout",
     "output_type": "stream",
     "text": [
      "Models [KNeighborsClassifier(), KNeighborsClassifier(), KNeighborsClassifier()]\n"
     ]
    }
   ],
   "source": [
    "knn_classifier.fit()"
   ],
   "metadata": {
    "collapsed": false,
    "ExecuteTime": {
     "end_time": "2023-06-24T09:50:04.104710300Z",
     "start_time": "2023-06-24T09:49:58.955387100Z"
    }
   }
  },
  {
   "cell_type": "code",
   "execution_count": 9,
   "outputs": [
    {
     "name": "stdout",
     "output_type": "stream",
     "text": [
      "Start prediction test data:\n",
      "Models [KNeighborsClassifier(), KNeighborsClassifier(), KNeighborsClassifier()]\n",
      "Working with: idx 0 and shape (328680, 12)...\n",
      "Working with: idx 1 and shape (132153, 12)...\n",
      "Working with: idx 2 and shape (40672, 12)...\n"
     ]
    }
   ],
   "source": [
    "knn_classifier.predict_test()"
   ],
   "metadata": {
    "collapsed": false,
    "ExecuteTime": {
     "end_time": "2023-06-24T09:50:09.139973600Z",
     "start_time": "2023-06-24T09:50:04.889533300Z"
    }
   }
  },
  {
   "cell_type": "markdown",
   "source": [
    "#### Get classification report"
   ],
   "metadata": {
    "collapsed": false
   }
  },
  {
   "cell_type": "code",
   "execution_count": 10,
   "outputs": [
    {
     "data": {
      "text/plain": "False"
     },
     "execution_count": 10,
     "metadata": {},
     "output_type": "execute_result"
    }
   ],
   "source": [
    "import cuml\n",
    "type(knn_classifier.models[0]) == cuml.internals.base_helpers.BaseMetaClass"
   ],
   "metadata": {
    "collapsed": false,
    "ExecuteTime": {
     "end_time": "2023-06-24T09:50:09.920193800Z",
     "start_time": "2023-06-24T09:50:09.883187900Z"
    }
   }
  },
  {
   "cell_type": "code",
   "execution_count": 11,
   "outputs": [],
   "source": [
    "from dataset_tool.classification_report_creator import *"
   ],
   "metadata": {
    "collapsed": false,
    "ExecuteTime": {
     "end_time": "2023-06-24T09:50:10.441380500Z",
     "start_time": "2023-06-24T09:50:10.396155500Z"
    }
   }
  },
  {
   "cell_type": "code",
   "execution_count": 12,
   "outputs": [],
   "source": [
    "knn_report_creator = ClassificationReportCreator(knn_classifier.predictions,dataset_tree.dataset_tree)"
   ],
   "metadata": {
    "collapsed": false,
    "ExecuteTime": {
     "end_time": "2023-06-24T09:50:11.031793600Z",
     "start_time": "2023-06-24T09:50:10.993284500Z"
    }
   }
  },
  {
   "cell_type": "code",
   "execution_count": 13,
   "outputs": [
    {
     "name": "stdout",
     "output_type": "stream",
     "text": [
      "Get accureacy for 0 iteration\n",
      "Accureacy 0.9588566422462463\n",
      "              precision    recall  f1-score   support\n",
      "\n",
      "           1       0.98      0.96      0.97    200426\n",
      "           2       0.93      0.96      0.95    128254\n",
      "\n",
      "    accuracy                           0.96    328680\n",
      "   macro avg       0.95      0.96      0.96    328680\n",
      "weighted avg       0.96      0.96      0.96    328680\n",
      "\n",
      "Get accureacy for 1 iteration\n",
      "Accureacy 0.9816879034042358\n",
      "              precision    recall  f1-score   support\n",
      "\n",
      "           1       0.99      0.98      0.99     92623\n",
      "           2       0.96      0.98      0.97     39530\n",
      "\n",
      "    accuracy                           0.98    132153\n",
      "   macro avg       0.97      0.98      0.98    132153\n",
      "weighted avg       0.98      0.98      0.98    132153\n",
      "\n",
      "Get accureacy for 2 iteration\n",
      "Accureacy 0.9959677457809448\n",
      "              precision    recall  f1-score   support\n",
      "\n",
      "           1       1.00      1.00      1.00     30765\n",
      "           2       0.99      0.99      0.99      9907\n",
      "\n",
      "    accuracy                           1.00     40672\n",
      "   macro avg       1.00      0.99      0.99     40672\n",
      "weighted avg       1.00      1.00      1.00     40672\n",
      "\n"
     ]
    }
   ],
   "source": [
    "knn_report_creator.display_tree_predictions()"
   ],
   "metadata": {
    "collapsed": false,
    "ExecuteTime": {
     "end_time": "2023-06-24T09:50:11.848139700Z",
     "start_time": "2023-06-24T09:50:11.360738400Z"
    }
   }
  },
  {
   "cell_type": "code",
   "execution_count": 14,
   "outputs": [],
   "source": [
    "import numpy as np\n",
    "arrr = np.asarray([1,2,3,4,5,6])"
   ],
   "metadata": {
    "collapsed": false,
    "ExecuteTime": {
     "end_time": "2023-06-24T09:50:12.299166100Z",
     "start_time": "2023-06-24T09:50:12.264513800Z"
    }
   }
  },
  {
   "cell_type": "code",
   "execution_count": 15,
   "outputs": [
    {
     "data": {
      "text/plain": "array([2, 3, 5])"
     },
     "execution_count": 15,
     "metadata": {},
     "output_type": "execute_result"
    }
   ],
   "source": [
    "np.delete(arrr,[0,3,5])"
   ],
   "metadata": {
    "collapsed": false,
    "ExecuteTime": {
     "end_time": "2023-06-24T09:50:12.878628Z",
     "start_time": "2023-06-24T09:50:12.822305600Z"
    }
   }
  },
  {
   "cell_type": "markdown",
   "source": [
    "### Gaussian naive Bayes"
   ],
   "metadata": {
    "collapsed": false
   }
  },
  {
   "cell_type": "markdown",
   "source": [
    "#### GNB fit"
   ],
   "metadata": {
    "collapsed": false
   }
  },
  {
   "cell_type": "code",
   "execution_count": 16,
   "outputs": [],
   "source": [
    "from dataset_tool.NBClassifier import *"
   ],
   "metadata": {
    "collapsed": false,
    "ExecuteTime": {
     "end_time": "2023-06-24T09:50:15.593991Z",
     "start_time": "2023-06-24T09:50:15.559270Z"
    }
   }
  },
  {
   "cell_type": "code",
   "execution_count": 17,
   "outputs": [],
   "source": [
    "gnb_classifier = GaussianNBClassiefier(dataset_tree.dataset_tree)"
   ],
   "metadata": {
    "collapsed": false,
    "ExecuteTime": {
     "end_time": "2023-06-24T09:50:16.079331300Z",
     "start_time": "2023-06-24T09:50:16.064334900Z"
    }
   }
  },
  {
   "cell_type": "code",
   "execution_count": 18,
   "outputs": [
    {
     "name": "stdout",
     "output_type": "stream",
     "text": [
      "Models [GaussianNB(), GaussianNB(), GaussianNB()]\n"
     ]
    }
   ],
   "source": [
    "gnb_classifier.fit()"
   ],
   "metadata": {
    "collapsed": false,
    "ExecuteTime": {
     "end_time": "2023-06-24T09:50:29.113217200Z",
     "start_time": "2023-06-24T09:50:16.604391200Z"
    }
   }
  },
  {
   "cell_type": "code",
   "execution_count": 69,
   "outputs": [
    {
     "name": "stdout",
     "output_type": "stream",
     "text": [
      "Start prediction test data:\n",
      "Models [GaussianNB(), GaussianNB(), GaussianNB()]\n",
      "Working with: idx 0 and shape (328680, 12)...\n",
      "Working with: idx 1 and shape (132353, 12)...\n",
      "Working with: idx 2 and shape (41138, 12)...\n"
     ]
    }
   ],
   "source": [
    "gnb_classifier.predict_test()"
   ],
   "metadata": {
    "collapsed": false,
    "ExecuteTime": {
     "end_time": "2023-06-20T19:44:21.252375100Z",
     "start_time": "2023-06-20T19:44:21.166765700Z"
    }
   }
  },
  {
   "cell_type": "markdown",
   "source": [
    "### SVM fit"
   ],
   "metadata": {
    "collapsed": false
   }
  },
  {
   "cell_type": "code",
   "execution_count": 70,
   "outputs": [],
   "source": [
    "from dataset_tool.SVMClassifier import *"
   ],
   "metadata": {
    "collapsed": false,
    "ExecuteTime": {
     "end_time": "2023-06-20T19:44:21.257226600Z",
     "start_time": "2023-06-20T19:44:21.253923800Z"
    }
   }
  },
  {
   "cell_type": "code",
   "execution_count": 71,
   "outputs": [],
   "source": [
    "svm_classifier = SVMClassiefier(dataset_tree.dataset_tree)"
   ],
   "metadata": {
    "collapsed": false,
    "ExecuteTime": {
     "end_time": "2023-06-20T19:44:21.268706200Z",
     "start_time": "2023-06-20T19:44:21.259227100Z"
    }
   }
  },
  {
   "cell_type": "code",
   "execution_count": 72,
   "outputs": [],
   "source": [
    "#svm_classifier.fit()"
   ],
   "metadata": {
    "collapsed": false,
    "ExecuteTime": {
     "end_time": "2023-06-20T19:44:21.353792100Z",
     "start_time": "2023-06-20T19:44:21.269739400Z"
    }
   }
  },
  {
   "cell_type": "code",
   "execution_count": 73,
   "outputs": [],
   "source": [
    "#from dataset_tool.KNNCTF import *"
   ],
   "metadata": {
    "collapsed": false,
    "ExecuteTime": {
     "end_time": "2023-06-20T19:44:21.356793900Z",
     "start_time": "2023-06-20T19:44:21.281716400Z"
    }
   }
  },
  {
   "cell_type": "code",
   "execution_count": 74,
   "outputs": [],
   "source": [
    "#tf_knnc ="
   ],
   "metadata": {
    "collapsed": false,
    "ExecuteTime": {
     "end_time": "2023-06-20T19:44:21.356793900Z",
     "start_time": "2023-06-20T19:44:21.293961500Z"
    }
   }
  },
  {
   "cell_type": "markdown",
   "source": [
    "## Predict on test image"
   ],
   "metadata": {
    "collapsed": false
   }
  },
  {
   "cell_type": "code",
   "execution_count": 19,
   "outputs": [],
   "source": [
    "from dataset_tool.real_prediction import *\n",
    "#importlib.reload(dataset_tool.real_prediction)"
   ],
   "metadata": {
    "collapsed": false,
    "ExecuteTime": {
     "end_time": "2023-06-24T09:50:32.786986400Z",
     "start_time": "2023-06-24T09:50:32.769987100Z"
    }
   }
  },
  {
   "cell_type": "code",
   "execution_count": 20,
   "outputs": [
    {
     "data": {
      "text/plain": "[KNeighborsClassifier(), KNeighborsClassifier(), KNeighborsClassifier()]"
     },
     "execution_count": 20,
     "metadata": {},
     "output_type": "execute_result"
    }
   ],
   "source": [
    "knn_classifier.models"
   ],
   "metadata": {
    "collapsed": false,
    "ExecuteTime": {
     "end_time": "2023-06-24T09:50:33.292151400Z",
     "start_time": "2023-06-24T09:50:33.255124600Z"
    }
   }
  },
  {
   "cell_type": "code",
   "execution_count": 21,
   "outputs": [],
   "source": [
    "real_prediction_knn = RealPrediction(\"/tmp/shared/dataset4/2\", knn_classifier.models)"
   ],
   "metadata": {
    "collapsed": false,
    "ExecuteTime": {
     "end_time": "2023-06-24T09:50:34.889324500Z",
     "start_time": "2023-06-24T09:50:33.717669Z"
    }
   }
  },
  {
   "cell_type": "code",
   "execution_count": 22,
   "outputs": [],
   "source": [
    "real_prediction_gnb = RealPrediction(\"/tmp/shared/dataset4/2\", gnb_classifier.models)"
   ],
   "metadata": {
    "collapsed": false,
    "ExecuteTime": {
     "end_time": "2023-06-24T09:50:35.768035900Z",
     "start_time": "2023-06-24T09:50:34.880813200Z"
    }
   }
  },
  {
   "cell_type": "code",
   "execution_count": 23,
   "outputs": [
    {
     "ename": "NameError",
     "evalue": "name 'svm_classifier' is not defined",
     "output_type": "error",
     "traceback": [
      "\u001B[0;31m---------------------------------------------------------------------------\u001B[0m",
      "\u001B[0;31mNameError\u001B[0m                                 Traceback (most recent call last)",
      "Input \u001B[0;32mIn [23]\u001B[0m, in \u001B[0;36m<cell line: 1>\u001B[0;34m()\u001B[0m\n\u001B[0;32m----> 1\u001B[0m real_prediction_svc \u001B[38;5;241m=\u001B[39m RealPrediction(\u001B[38;5;124m\"\u001B[39m\u001B[38;5;124m/tmp/shared/dataset4/2\u001B[39m\u001B[38;5;124m\"\u001B[39m, \u001B[43msvm_classifier\u001B[49m\u001B[38;5;241m.\u001B[39mmodels)\n",
      "\u001B[0;31mNameError\u001B[0m: name 'svm_classifier' is not defined"
     ]
    }
   ],
   "source": [
    "real_prediction_svc = RealPrediction(\"/tmp/shared/dataset4/2\", svm_classifier.models)"
   ],
   "metadata": {
    "collapsed": false,
    "ExecuteTime": {
     "end_time": "2023-06-24T09:50:35.786581600Z",
     "start_time": "2023-06-24T09:50:35.780554Z"
    }
   }
  },
  {
   "cell_type": "code",
   "execution_count": 80,
   "outputs": [
    {
     "data": {
      "text/plain": "[KNeighborsClassifier(), KNeighborsClassifier(), KNeighborsClassifier()]"
     },
     "execution_count": 80,
     "metadata": {},
     "output_type": "execute_result"
    }
   ],
   "source": [
    "knn_classifier.models"
   ],
   "metadata": {
    "collapsed": false,
    "ExecuteTime": {
     "end_time": "2023-06-20T19:44:24.402119800Z",
     "start_time": "2023-06-20T19:44:24.396667400Z"
    }
   }
  },
  {
   "cell_type": "code",
   "execution_count": 24,
   "outputs": [],
   "source": [
    "real_prediction_knn.predict()"
   ],
   "metadata": {
    "collapsed": false,
    "ExecuteTime": {
     "end_time": "2023-06-24T09:50:49.424878Z",
     "start_time": "2023-06-24T09:50:40.334975500Z"
    }
   }
  },
  {
   "cell_type": "code",
   "execution_count": 25,
   "outputs": [],
   "source": [
    "real_prediction_gnb.predict()"
   ],
   "metadata": {
    "collapsed": false,
    "ExecuteTime": {
     "end_time": "2023-06-24T09:50:52.463940200Z",
     "start_time": "2023-06-24T09:50:52.000370500Z"
    }
   }
  },
  {
   "cell_type": "code",
   "execution_count": 83,
   "outputs": [],
   "source": [
    "real_prediction_svc.predict()"
   ],
   "metadata": {
    "collapsed": false,
    "ExecuteTime": {
     "end_time": "2023-06-20T19:44:34.287471100Z",
     "start_time": "2023-06-20T19:44:34.268343400Z"
    }
   }
  },
  {
   "cell_type": "code",
   "execution_count": 84,
   "outputs": [
    {
     "data": {
      "text/plain": "<dataset_tool.real_prediction.RealPrediction at 0x7f30167b5a30>"
     },
     "execution_count": 84,
     "metadata": {},
     "output_type": "execute_result"
    }
   ],
   "source": [
    "real_prediction_knn"
   ],
   "metadata": {
    "collapsed": false,
    "ExecuteTime": {
     "end_time": "2023-06-20T19:44:34.355750500Z",
     "start_time": "2023-06-20T19:44:34.282473400Z"
    }
   }
  },
  {
   "cell_type": "code",
   "execution_count": 26,
   "outputs": [
    {
     "name": "stdout",
     "output_type": "stream",
     "text": [
      "Predcition: 2. Len of idxs: 0. New array shape: (122781,)\n",
      "Predcition: 1. Len of idxs: 254096. New array shape: (376877,)\n",
      "Predcition: 0. Len of idxs: 321095. New array shape: (697972,)\n"
     ]
    }
   ],
   "source": [
    "real_prediction_knn.flatten()"
   ],
   "metadata": {
    "collapsed": false,
    "ExecuteTime": {
     "end_time": "2023-06-24T09:50:56.524273200Z",
     "start_time": "2023-06-24T09:50:56.435864900Z"
    }
   }
  },
  {
   "cell_type": "code",
   "execution_count": 27,
   "outputs": [
    {
     "name": "stdout",
     "output_type": "stream",
     "text": [
      "Predcition: 2. Len of idxs: 0. New array shape: (94177,)\n",
      "Predcition: 1. Len of idxs: 79797. New array shape: (173974,)\n",
      "Predcition: 0. Len of idxs: 523998. New array shape: (697972,)\n"
     ]
    }
   ],
   "source": [
    "real_prediction_gnb.flatten()"
   ],
   "metadata": {
    "collapsed": false,
    "ExecuteTime": {
     "end_time": "2023-06-24T09:50:57.347458600Z",
     "start_time": "2023-06-24T09:50:57.265419300Z"
    }
   }
  },
  {
   "cell_type": "code",
   "execution_count": 87,
   "outputs": [],
   "source": [
    "real_prediction_svc.flatten()"
   ],
   "metadata": {
    "collapsed": false,
    "ExecuteTime": {
     "end_time": "2023-06-20T19:44:34.559439800Z",
     "start_time": "2023-06-20T19:44:34.482999300Z"
    }
   }
  },
  {
   "cell_type": "code",
   "execution_count": 28,
   "outputs": [],
   "source": [
    "im = real_prediction_knn.to2d()"
   ],
   "metadata": {
    "collapsed": false,
    "ExecuteTime": {
     "end_time": "2023-06-24T09:51:01.516260900Z",
     "start_time": "2023-06-24T09:51:01.506228700Z"
    }
   }
  },
  {
   "cell_type": "code",
   "execution_count": 29,
   "outputs": [],
   "source": [
    "im_gnb = real_prediction_gnb.to2d()"
   ],
   "metadata": {
    "collapsed": false,
    "ExecuteTime": {
     "end_time": "2023-06-24T09:51:02.104881600Z",
     "start_time": "2023-06-24T09:51:02.084881500Z"
    }
   }
  },
  {
   "cell_type": "code",
   "execution_count": 90,
   "outputs": [
    {
     "ename": "ValueError",
     "evalue": "cannot reshape array of size 0 into shape (638,1094)",
     "output_type": "error",
     "traceback": [
      "\u001B[0;31m---------------------------------------------------------------------------\u001B[0m",
      "\u001B[0;31mValueError\u001B[0m                                Traceback (most recent call last)",
      "Input \u001B[0;32mIn [90]\u001B[0m, in \u001B[0;36m<cell line: 1>\u001B[0;34m()\u001B[0m\n\u001B[0;32m----> 1\u001B[0m im_svc \u001B[38;5;241m=\u001B[39m \u001B[43mreal_prediction_svc\u001B[49m\u001B[38;5;241;43m.\u001B[39;49m\u001B[43mto2d\u001B[49m\u001B[43m(\u001B[49m\u001B[43m)\u001B[49m\n",
      "File \u001B[0;32m/tmp/pycharm_project_568/Classification/dataset_tool/real_prediction.py:110\u001B[0m, in \u001B[0;36mRealPrediction.to2d\u001B[0;34m(self)\u001B[0m\n\u001B[1;32m    109\u001B[0m \u001B[38;5;28;01mdef\u001B[39;00m \u001B[38;5;21mto2d\u001B[39m(\u001B[38;5;28mself\u001B[39m):\n\u001B[0;32m--> 110\u001B[0m     \u001B[38;5;28;01mreturn\u001B[39;00m \u001B[38;5;28;43mself\u001B[39;49m\u001B[38;5;241;43m.\u001B[39;49m\u001B[43mpredictions_composite\u001B[49m\u001B[38;5;241;43m.\u001B[39;49m\u001B[43mreshape\u001B[49m\u001B[43m(\u001B[49m\u001B[43m(\u001B[49m\u001B[38;5;28;43mself\u001B[39;49m\u001B[38;5;241;43m.\u001B[39;49m\u001B[43mheight\u001B[49m\u001B[43m,\u001B[49m\u001B[43m \u001B[49m\u001B[38;5;28;43mself\u001B[39;49m\u001B[38;5;241;43m.\u001B[39;49m\u001B[43mwidth\u001B[49m\u001B[43m)\u001B[49m\u001B[43m)\u001B[49m\n",
      "\u001B[0;31mValueError\u001B[0m: cannot reshape array of size 0 into shape (638,1094)"
     ]
    }
   ],
   "source": [
    "im_svc = real_prediction_svc.to2d()"
   ],
   "metadata": {
    "collapsed": false,
    "ExecuteTime": {
     "end_time": "2023-06-20T19:44:34.571465700Z",
     "start_time": "2023-06-20T19:44:34.512237300Z"
    }
   }
  },
  {
   "cell_type": "code",
   "execution_count": null,
   "outputs": [],
   "source": [
    "real_prediction_knn.height"
   ],
   "metadata": {
    "collapsed": false,
    "ExecuteTime": {
     "start_time": "2023-06-20T19:44:34.546764100Z"
    }
   }
  },
  {
   "cell_type": "code",
   "execution_count": null,
   "outputs": [],
   "source": [
    "# arr1 = np.asarray([1,2,3])\n",
    "# arr1_idx = np.asarray([2,4,5])\n",
    "# arr2 = np.asarray([11,22,33,44,55,66,77,88])\n",
    "# shapes = arr1.shape[0]+arr2.shape[0]\n",
    "# arr3 = np.empty(shapes, dtype=float)\n",
    "# arr3[arr1_idx] = arr1\n",
    "# arr3[~np.isin(np.arange(arr3.shape[0]), arr1_idx)] = arr2\n",
    "# arr3"
   ],
   "metadata": {
    "collapsed": false,
    "ExecuteTime": {
     "start_time": "2023-06-20T19:44:34.548792900Z"
    }
   }
  },
  {
   "cell_type": "code",
   "execution_count": null,
   "outputs": [],
   "source": [
    "predictions = real_prediction_knn.predictions"
   ],
   "metadata": {
    "collapsed": false,
    "ExecuteTime": {
     "start_time": "2023-06-20T19:44:34.551767200Z"
    }
   }
  },
  {
   "cell_type": "code",
   "execution_count": null,
   "outputs": [],
   "source": [
    "len(predictions[2][0])"
   ],
   "metadata": {
    "collapsed": false,
    "ExecuteTime": {
     "start_time": "2023-06-20T19:44:34.552774100Z"
    }
   }
  },
  {
   "cell_type": "code",
   "execution_count": 36,
   "outputs": [
    {
     "data": {
      "text/plain": "[Text(1, 1, 'field'),\n Text(1, 2, 'forest'),\n Text(1, 3, 'water'),\n Text(1, 4, 'city')]"
     },
     "execution_count": 36,
     "metadata": {},
     "output_type": "execute_result"
    },
    {
     "data": {
      "text/plain": "<Figure size 640x480 with 2 Axes>",
      "image/png": "[encoded data removed]"
     },
     "metadata": {},
     "output_type": "display_data"
    }
   ],
   "source": [
    "from matplotlib.colors import ListedColormap\n",
    "import matplotlib.pyplot as plt\n",
    "#\n",
    "# plt.imshow(im)\n",
    "# im1 = ax[1].imshow(knn_image_default_1,cmap=ListedColormap(['blue', 'purple']))\n",
    "# im3 = ax[2].imshow(mnb_image_default_1,cmap=ListedColormap(['blue', 'purple']))\n",
    "#im4 = ax[3].imshow(svm_image_default_1,cmap=ListedColormap(['blue', 'purple']))\n",
    "plt.imshow(im, cmap=ListedColormap(['orange','green','blue','yellow']))\n",
    "labels = list(['field','forest','water','city'])\n",
    "values = list([1,2,3,4])\n",
    "plt.title = \"KKNC\"\n",
    "# ax[1].set_title(\"KNNC\")\n",
    "# ax[2].set_title(\"Naive bayes\")\n",
    "#ax[2].set_title(\"SVM\")\n",
    "# Create a colorbar with the legend\n",
    "colorbar = plt.colorbar(ticks=values)\n",
    "colorbar.ax.set_yticklabels(labels)"
   ],
   "metadata": {
    "collapsed": false,
    "ExecuteTime": {
     "end_time": "2023-06-24T09:56:41.534325800Z",
     "start_time": "2023-06-24T09:56:41.296630500Z"
    }
   }
  },
  {
   "cell_type": "code",
   "execution_count": 37,
   "outputs": [
    {
     "data": {
      "text/plain": "[Text(1, 1, 'field'),\n Text(1, 2, 'forest'),\n Text(1, 3, 'water'),\n Text(1, 4, 'city')]"
     },
     "execution_count": 37,
     "metadata": {},
     "output_type": "execute_result"
    },
    {
     "data": {
      "text/plain": "<Figure size 640x480 with 2 Axes>",
      "image/png": "[encoded data removed]"
     },
     "metadata": {},
     "output_type": "display_data"
    }
   ],
   "source": [
    "from matplotlib.colors import ListedColormap\n",
    "import matplotlib.pyplot as plt\n",
    "#\n",
    "# plt.imshow(im)\n",
    "# im1 = ax[1].imshow(knn_image_default_1,cmap=ListedColormap(['blue', 'purple']))\n",
    "# im3 = ax[2].imshow(mnb_image_default_1,cmap=ListedColormap(['blue', 'purple']))\n",
    "#im4 = ax[3].imshow(svm_image_default_1,cmap=ListedColormap(['blue', 'purple']))\n",
    "plt.imshow(im_gnb, cmap=ListedColormap(['orange','green','blue','yellow']))\n",
    "labels = list(['field','forest','water','city'])\n",
    "values = list([1,2,3,4])\n",
    "plt.title = \"KKNC\"\n",
    "# ax[1].set_title(\"KNNC\")\n",
    "# ax[2].set_title(\"Naive bayes\")\n",
    "#ax[2].set_title(\"SVM\")\n",
    "# Create a colorbar with the legend\n",
    "colorbar = plt.colorbar(ticks=values)\n",
    "colorbar.ax.set_yticklabels(labels)"
   ],
   "metadata": {
    "collapsed": false,
    "ExecuteTime": {
     "end_time": "2023-06-24T09:56:56.006101500Z",
     "start_time": "2023-06-24T09:56:55.771351Z"
    }
   }
  },
  {
   "cell_type": "code",
   "execution_count": 93,
   "outputs": [
    {
     "ename": "NameError",
     "evalue": "name 'im_svc' is not defined",
     "output_type": "error",
     "traceback": [
      "\u001B[0;31m---------------------------------------------------------------------------\u001B[0m",
      "\u001B[0;31mNameError\u001B[0m                                 Traceback (most recent call last)",
      "Input \u001B[0;32mIn [93]\u001B[0m, in \u001B[0;36m<cell line: 1>\u001B[0;34m()\u001B[0m\n\u001B[0;32m----> 1\u001B[0m plt\u001B[38;5;241m.\u001B[39mimshow(\u001B[43mim_svc\u001B[49m)\n",
      "\u001B[0;31mNameError\u001B[0m: name 'im_svc' is not defined"
     ]
    }
   ],
   "source": [
    "plt.imshow(im_svc)"
   ],
   "metadata": {
    "collapsed": false,
    "ExecuteTime": {
     "end_time": "2023-06-20T19:45:23.536134400Z",
     "start_time": "2023-06-20T19:45:23.442412800Z"
    }
   }
  },
  {
   "cell_type": "code",
   "execution_count": null,
   "outputs": [],
   "source": [
    "real_prediction_knn.predict_proba()"
   ],
   "metadata": {
    "collapsed": false,
    "ExecuteTime": {
     "start_time": "2023-06-20T19:44:34.559944200Z"
    }
   }
  },
  {
   "cell_type": "code",
   "execution_count": null,
   "outputs": [],
   "source": [
    "#real_prediction_knn.flatten_proba()"
   ],
   "metadata": {
    "collapsed": false,
    "ExecuteTime": {
     "start_time": "2023-06-20T19:44:34.561950400Z"
    }
   }
  },
  {
   "cell_type": "code",
   "execution_count": null,
   "outputs": [],
   "source": [
    "real_prediction_knn.predictions[0][1][0]"
   ],
   "metadata": {
    "collapsed": false,
    "ExecuteTime": {
     "start_time": "2023-06-20T19:44:34.563953300Z"
    }
   }
  },
  {
   "cell_type": "code",
   "execution_count": null,
   "outputs": [],
   "source": [
    "real_prediction_knn.predictions_proba[0][1]"
   ],
   "metadata": {
    "collapsed": false,
    "ExecuteTime": {
     "start_time": "2023-06-20T19:44:34.566464200Z"
    }
   }
  },
  {
   "cell_type": "code",
   "execution_count": null,
   "outputs": [],
   "source": [
    "# def flatten_proba(self):\n",
    "#     array = np.empty(0)\n",
    "#     for index, item in reversed(list(enumerate(self.predictions_proba))):\n",
    "#         new_array = np.empty((array.shape[0] + item[1].shape[0],2), dtype=float)\n",
    "#         print(f\"Predcition: {item[2]}. Len of idxs: {len(item[0])}. New array shape: {new_array.shape}\")\n",
    "#         new_items = item[1] + item[2]\n",
    "#         if len(item[0]) == 0:\n",
    "#             new_array[np.arange(item[1].shape[0])] = new_items\n",
    "#         else:\n",
    "#             new_array[item[0]] = item[1]\n",
    "#             new_array[~np.isin(np.arange(array.shape[0] + item[1].shape[0]), item[0])] = array\n",
    "#         array = new_array\n",
    "#     self.predictions_composite_proba = array"
   ],
   "metadata": {
    "collapsed": false,
    "ExecuteTime": {
     "start_time": "2023-06-20T19:44:34.568466200Z"
    }
   }
  },
  {
   "cell_type": "code",
   "execution_count": null,
   "outputs": [],
   "source": [
    "import numpy as np\n",
    "\n",
    "item1 = np.asarray([[0.2,0.8],[0.3,0.7],[0.2,0.8],[0.4,0.6],[0.25,0.75]])\n",
    "item2 = np.asarray([[0.2,0.8],[0.3,0.7],[0.2,0.8],[0.4,0.6],[0.25,0.75]])"
   ],
   "metadata": {
    "collapsed": false,
    "ExecuteTime": {
     "start_time": "2023-06-20T19:44:34.569464900Z"
    }
   }
  },
  {
   "cell_type": "code",
   "execution_count": null,
   "outputs": [],
   "source": [
    "# item1_1 = item1[0]\n",
    "# item2_1 = item2[0]"
   ],
   "metadata": {
    "collapsed": false,
    "ExecuteTime": {
     "start_time": "2023-06-20T19:44:34.571465700Z"
    }
   }
  },
  {
   "cell_type": "code",
   "execution_count": null,
   "outputs": [],
   "source": [
    "# item3 = item1[0][2] * item2_1"
   ],
   "metadata": {
    "collapsed": false
   }
  },
  {
   "cell_type": "code",
   "execution_count": null,
   "outputs": [],
   "source": [
    "result = item1 * item2[:, 0][:, np.newaxis]"
   ],
   "metadata": {
    "collapsed": false
   }
  },
  {
   "cell_type": "code",
   "execution_count": null,
   "outputs": [],
   "source": [
    "result"
   ],
   "metadata": {
    "collapsed": false
   }
  },
  {
   "cell_type": "code",
   "execution_count": null,
   "outputs": [],
   "source": [
    "result = np.hstack((item1, result, result * item2[:, 1][:, np.newaxis]))"
   ],
   "metadata": {
    "collapsed": false
   }
  },
  {
   "cell_type": "code",
   "execution_count": null,
   "outputs": [],
   "source": [
    "result"
   ],
   "metadata": {
    "collapsed": false
   }
  },
  {
   "cell_type": "code",
   "execution_count": null,
   "outputs": [],
   "source": [
    "result2 = np.hstack((item1, (item1 * item2).sum(axis=1, keepdims=True)))"
   ],
   "metadata": {
    "collapsed": false
   }
  },
  {
   "cell_type": "code",
   "execution_count": null,
   "outputs": [],
   "source": [
    "result2"
   ],
   "metadata": {
    "collapsed": false
   }
  },
  {
   "cell_type": "code",
   "execution_count": null,
   "outputs": [],
   "source": [
    "item1[0][1]*item2[0]"
   ],
   "metadata": {
    "collapsed": false
   }
  },
  {
   "cell_type": "code",
   "execution_count": null,
   "outputs": [],
   "source": [
    "item1[0][1]"
   ],
   "metadata": {
    "collapsed": false
   }
  },
  {
   "cell_type": "code",
   "execution_count": null,
   "outputs": [],
   "source": [
    "item2[0]"
   ],
   "metadata": {
    "collapsed": false
   }
  },
  {
   "cell_type": "code",
   "execution_count": null,
   "outputs": [],
   "source": [
    "i1 = item1[:,1][:,np.newaxis] * item2"
   ],
   "metadata": {
    "collapsed": false
   }
  },
  {
   "cell_type": "code",
   "execution_count": null,
   "outputs": [],
   "source": [
    "i2 = item1[:,0]"
   ],
   "metadata": {
    "collapsed": false
   }
  },
  {
   "cell_type": "code",
   "execution_count": null,
   "outputs": [],
   "source": [
    "np.zstack(i2,i1)"
   ],
   "metadata": {
    "collapsed": false
   }
  },
  {
   "cell_type": "code",
   "execution_count": null,
   "outputs": [],
   "source": [
    "i1.shape"
   ],
   "metadata": {
    "collapsed": false
   }
  },
  {
   "cell_type": "code",
   "execution_count": null,
   "outputs": [],
   "source": [
    "i2.shape"
   ],
   "metadata": {
    "collapsed": false
   }
  },
  {
   "cell_type": "code",
   "execution_count": null,
   "outputs": [],
   "source": [
    "np.hstack((i2[:, np.newaxis], i1))"
   ],
   "metadata": {
    "collapsed": false
   }
  },
  {
   "cell_type": "code",
   "execution_count": null,
   "outputs": [],
   "source": [
    "probas = np.asarray(real_prediction_knn.predictions_proba)"
   ],
   "metadata": {
    "collapsed": false
   }
  },
  {
   "cell_type": "code",
   "execution_count": null,
   "outputs": [],
   "source": [
    "probas.shape"
   ],
   "metadata": {
    "collapsed": false
   }
  },
  {
   "cell_type": "code",
   "execution_count": null,
   "outputs": [],
   "source": [
    "# def flatten_probas():\n",
    "#     new_array = np.empty(0)\n",
    "#\n",
    "#     for idx, item in enumerate(probas):\n",
    "#         print(f\"idx: {idx}\")\n",
    "#         if idx == 0:\n",
    "#             new_array = item\n",
    "#         else:\n",
    "#             i1 = new_array[:, idx][:,np.newaxis] * item\n",
    "#             i2 = new_array[:,:idx]\n",
    "#             new_array = np.hstack((i2, i1))\n",
    "#\n",
    "#     return new_array"
   ],
   "metadata": {
    "collapsed": false
   }
  },
  {
   "cell_type": "code",
   "execution_count": null,
   "outputs": [],
   "source": [
    "# arrrrr = flatten_probas()"
   ],
   "metadata": {
    "collapsed": false
   }
  },
  {
   "cell_type": "code",
   "execution_count": null,
   "outputs": [],
   "source": [
    "# arrrrr.shape"
   ],
   "metadata": {
    "collapsed": false
   }
  },
  {
   "cell_type": "code",
   "execution_count": null,
   "outputs": [],
   "source": [
    "# from dataset_tool.graph_utils import *\n",
    "#\n",
    "# createHistGraph(arrrrr, dataset.categories_map)"
   ],
   "metadata": {
    "collapsed": false
   }
  },
  {
   "cell_type": "code",
   "execution_count": null,
   "outputs": [],
   "source": [
    "i2 = arrrrr[:, :1]"
   ],
   "metadata": {
    "collapsed": false
   }
  },
  {
   "cell_type": "code",
   "execution_count": null,
   "outputs": [],
   "source": [
    "i1.shape"
   ],
   "metadata": {
    "collapsed": false
   }
  },
  {
   "cell_type": "code",
   "execution_count": null,
   "outputs": [],
   "source": [
    "np.hstack((i2,i1))"
   ],
   "metadata": {
    "collapsed": false
   }
  },
  {
   "cell_type": "code",
   "execution_count": null,
   "outputs": [],
   "source": [
    "probas[1]"
   ],
   "metadata": {
    "collapsed": false
   }
  },
  {
   "cell_type": "code",
   "execution_count": null,
   "outputs": [],
   "source": [],
   "metadata": {
    "collapsed": false
   }
  }
 ],
 "metadata": {
  "kernelspec": {
   "display_name": "Python 3",
   "language": "python",
   "name": "python3"
  },
  "language_info": {
   "codemirror_mode": {
    "name": "ipython",
    "version": 2
   },
   "file_extension": ".py",
   "mimetype": "text/x-python",
   "name": "python",
   "nbconvert_exporter": "python",
   "pygments_lexer": "ipython2",
   "version": "2.7.6"
  }
 },
 "nbformat": 4,
 "nbformat_minor": 0
}
