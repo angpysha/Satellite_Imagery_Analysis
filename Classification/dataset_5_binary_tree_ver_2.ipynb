{
 "cells": [
  {
   "cell_type": "markdown",
   "source": [
    "## Add imports"
   ],
   "metadata": {
    "collapsed": false
   }
  },
  {
   "cell_type": "code",
   "execution_count": 1,
   "metadata": {
    "collapsed": true,
    "ExecuteTime": {
     "end_time": "2023-09-21T10:02:01.619402400Z",
     "start_time": "2023-09-21T10:02:01.489675200Z"
    }
   },
   "outputs": [
    {
     "ename": "ModuleNotFoundError",
     "evalue": "No module named 'dataset_tool'",
     "output_type": "error",
     "traceback": [
      "\u001B[0;31m---------------------------------------------------------------------------\u001B[0m",
      "\u001B[0;31mModuleNotFoundError\u001B[0m                       Traceback (most recent call last)",
      "Cell \u001B[0;32mIn[1], line 8\u001B[0m\n\u001B[1;32m      4\u001B[0m sys\u001B[38;5;241m.\u001B[39mpath\u001B[38;5;241m.\u001B[39mappend(\u001B[38;5;124m\"\u001B[39m\u001B[38;5;124m/tmp/pycharm_project_568/Classification/\u001B[39m\u001B[38;5;124m\"\u001B[39m)\n\u001B[1;32m      5\u001B[0m \u001B[38;5;66;03m# # from dataset_tool.dataset_loader import *\u001B[39;00m\n\u001B[1;32m      6\u001B[0m \u001B[38;5;66;03m# import importer\u001B[39;00m\n\u001B[1;32m      7\u001B[0m \u001B[38;5;66;03m# from dataset_tool.dataset_loader import *\u001B[39;00m\n\u001B[0;32m----> 8\u001B[0m \u001B[38;5;28;01mimport\u001B[39;00m \u001B[38;5;21;01mdataset_tool\u001B[39;00m\u001B[38;5;21;01m.\u001B[39;00m\u001B[38;5;21;01mdataset_loader\u001B[39;00m\n\u001B[1;32m      9\u001B[0m importlib\u001B[38;5;241m.\u001B[39mreload(dataset_tool\u001B[38;5;241m.\u001B[39mdataset_loader)\n",
      "\u001B[0;31mModuleNotFoundError\u001B[0m: No module named 'dataset_tool'"
     ]
    }
   ],
   "source": [
    "# import os\n",
    "import sys\n",
    "import importlib\n",
    "sys.path.append(\"/tmp/pycharm_project_568/Classification/\")\n",
    "# # from dataset_tool.dataset_loader import *\n",
    "# import importer\n",
    "# from dataset_tool.dataset_loader import *\n",
    "import dataset_tool.dataset_loader\n",
    "importlib.reload(dataset_tool.dataset_loader)"
   ]
  },
  {
   "cell_type": "markdown",
   "source": [
    "### Load dataset"
   ],
   "metadata": {
    "collapsed": false
   }
  },
  {
   "cell_type": "code",
   "execution_count": 2,
   "outputs": [
    {
     "name": "stdout",
     "output_type": "stream",
     "text": [
      "test\n",
      "Shape of array is (7266,)\n",
      "COnfig path /tmp/pycharm_project_568/Classification/dataset_config\n",
      "<configparser.ConfigParser object at 0x7f1aa80eb610>\n",
      "to_learch water,field,forest,mount,sands\n"
     ]
    },
    {
     "name": "stderr",
     "output_type": "stream",
     "text": [
      "/tmp/pycharm_project_568/Classification/dataset_tool/dataset_loader.py:106: VisibleDeprecationWarning: Creating an ndarray from ragged nested sequences (which is a list-or-tuple of lists-or-tuples-or ndarrays with different lengths or shapes) is deprecated. If you meant to do this, you must specify 'dtype=object' when creating the ndarray.\n",
      "  categories[category_key] = np.asarray(items)\n"
     ]
    },
    {
     "name": "stdout",
     "output_type": "stream",
     "text": [
      "Processing water\n",
      "Size of water is 155000\n",
      "Processing field\n",
      "Size of field is 982700\n",
      "Processing forest\n",
      "Size of forest is 456100\n",
      "Processing mount\n",
      "Size of mount is 32500\n",
      "Processing sands\n",
      "Size of sands is 100000\n",
      "Train size: 1381040. Test size: 345260\n"
     ]
    }
   ],
   "source": [
    "dataset = dataset_tool.dataset_loader.load_dataset5()"
   ],
   "metadata": {
    "collapsed": false,
    "ExecuteTime": {
     "end_time": "2023-09-18T16:00:21.566024500Z",
     "start_time": "2023-09-18T15:59:49.976924300Z"
    }
   }
  },
  {
   "cell_type": "code",
   "execution_count": 12,
   "outputs": [
    {
     "data": {
      "text/plain": "(1381040, 12)"
     },
     "execution_count": 12,
     "metadata": {},
     "output_type": "execute_result"
    }
   ],
   "source": [
    "dataset.x_train.shape"
   ],
   "metadata": {
    "collapsed": false,
    "ExecuteTime": {
     "end_time": "2023-09-18T16:20:16.868604700Z",
     "start_time": "2023-09-18T16:20:16.816661600Z"
    }
   }
  },
  {
   "cell_type": "code",
   "execution_count": 3,
   "outputs": [],
   "source": [
    "from dataset_tool.iter_dataset import IterDataset"
   ],
   "metadata": {
    "collapsed": false,
    "ExecuteTime": {
     "end_time": "2023-07-09T07:25:35.834134600Z",
     "start_time": "2023-07-09T07:25:35.799350900Z"
    }
   }
  },
  {
   "cell_type": "code",
   "execution_count": 4,
   "outputs": [],
   "source": [
    "stadrat_dataset = [IterDataset(dataset.x_train, dataset.y_train, dataset.x_test, dataset.y_test)]"
   ],
   "metadata": {
    "collapsed": false,
    "ExecuteTime": {
     "end_time": "2023-07-09T07:25:36.391511300Z",
     "start_time": "2023-07-09T07:25:36.362001300Z"
    }
   }
  },
  {
   "cell_type": "code",
   "execution_count": 5,
   "outputs": [],
   "source": [
    "from dataset_tool.KNNClassifier import *\n",
    "knn_classifier_def = KNNClassifier(stadrat_dataset)"
   ],
   "metadata": {
    "collapsed": false,
    "ExecuteTime": {
     "end_time": "2023-07-09T07:25:43.611271300Z",
     "start_time": "2023-07-09T07:25:37.444134200Z"
    }
   }
  },
  {
   "cell_type": "code",
   "execution_count": 6,
   "outputs": [
    {
     "name": "stdout",
     "output_type": "stream",
     "text": [
      "Models [KNeighborsClassifier()]\n"
     ]
    }
   ],
   "source": [
    "knn_classifier_def.fit()"
   ],
   "metadata": {
    "collapsed": false,
    "ExecuteTime": {
     "end_time": "2023-07-09T07:25:48.842517Z",
     "start_time": "2023-07-09T07:25:43.616396400Z"
    }
   }
  },
  {
   "cell_type": "code",
   "execution_count": null,
   "outputs": [],
   "source": [],
   "metadata": {
    "collapsed": false
   }
  },
  {
   "cell_type": "markdown",
   "source": [
    "### Transform to binary tree"
   ],
   "metadata": {
    "collapsed": false
   }
  },
  {
   "cell_type": "code",
   "execution_count": 3,
   "outputs": [
    {
     "data": {
      "text/plain": "{'city': 1, 'water': 2, 'field': 3, 'forest': 4}"
     },
     "execution_count": 3,
     "metadata": {},
     "output_type": "execute_result"
    }
   ],
   "source": [
    "dataset.categories_map"
   ],
   "metadata": {
    "collapsed": false,
    "ExecuteTime": {
     "end_time": "2023-06-25T09:48:44.499773Z",
     "start_time": "2023-06-25T09:48:44.495150400Z"
    }
   }
  },
  {
   "cell_type": "code",
   "execution_count": 4,
   "outputs": [
    {
     "data": {
      "text/plain": "<module 'dataset_tool.dataset_tree_transformer' from '/tmp/pycharm_project_568/Classification/dataset_tool/dataset_tree_transformer.py'>"
     },
     "execution_count": 4,
     "metadata": {},
     "output_type": "execute_result"
    }
   ],
   "source": [
    "from dataset_tool.dataset_tree_transformer import *\n",
    "importlib.reload(dataset_tool.dataset_tree_transformer)\n"
   ],
   "metadata": {
    "collapsed": false,
    "ExecuteTime": {
     "end_time": "2023-06-25T09:48:44.558898700Z",
     "start_time": "2023-06-25T09:48:44.502729Z"
    }
   }
  },
  {
   "cell_type": "code",
   "execution_count": 5,
   "outputs": [
    {
     "name": "stdout",
     "output_type": "stream",
     "text": [
      "COnfig path /tmp/pycharm_project_568/Classification/dataset_config\n",
      "categories tree string [\"city\",[\"water\",[\"field\",\"forest\"]]]\n",
      "List array ['city', ['water', ['field', 'forest']]].\n",
      "Creating dataset: train len: 1314720 test len: 328680\n",
      "Creating dataset: train len: 1275062 test len: 318738\n",
      "Creating dataset: train len: 1151165 test len: 287635\n"
     ]
    }
   ],
   "source": [
    "dataset_tree = DatasetTreeAdapter(dataset)"
   ],
   "metadata": {
    "collapsed": false,
    "ExecuteTime": {
     "end_time": "2023-06-25T09:48:44.698712200Z",
     "start_time": "2023-06-25T09:48:44.538868600Z"
    }
   }
  },
  {
   "cell_type": "code",
   "execution_count": 6,
   "outputs": [
    {
     "data": {
      "text/plain": "[<dataset_tool.iter_dataset.IterDataset at 0x7f814dd9b070>,\n <dataset_tool.iter_dataset.IterDataset at 0x7f814dd9b1f0>,\n <dataset_tool.iter_dataset.IterDataset at 0x7f814dd9b250>]"
     },
     "execution_count": 6,
     "metadata": {},
     "output_type": "execute_result"
    }
   ],
   "source": [
    "dataset_tree.dataset_tree"
   ],
   "metadata": {
    "collapsed": false,
    "ExecuteTime": {
     "end_time": "2023-06-25T09:48:44.698712200Z",
     "start_time": "2023-06-25T09:48:44.698712200Z"
    }
   }
  },
  {
   "cell_type": "code",
   "execution_count": 7,
   "outputs": [],
   "source": [
    "#importlib.reload(dataset_tool.KNNClassifier)\n",
    "from dataset_tool.KNNClassifier import *\n",
    "\n",
    "\n",
    "\n"
   ],
   "metadata": {
    "collapsed": false,
    "ExecuteTime": {
     "end_time": "2023-06-25T09:48:46.342433Z",
     "start_time": "2023-06-25T09:48:44.699712900Z"
    }
   }
  },
  {
   "cell_type": "markdown",
   "source": [
    "### Use KNN-C"
   ],
   "metadata": {
    "collapsed": false
   }
  },
  {
   "cell_type": "markdown",
   "source": [
    "#### Model fit"
   ],
   "metadata": {
    "collapsed": false
   }
  },
  {
   "cell_type": "code",
   "execution_count": 8,
   "outputs": [],
   "source": [
    "knn_classifier = KNNClassifier(dataset_tree.dataset_tree)"
   ],
   "metadata": {
    "collapsed": false,
    "ExecuteTime": {
     "end_time": "2023-06-25T09:48:46.347405800Z",
     "start_time": "2023-06-25T09:48:46.346406500Z"
    }
   }
  },
  {
   "cell_type": "code",
   "execution_count": 9,
   "outputs": [
    {
     "name": "stdout",
     "output_type": "stream",
     "text": [
      "Models [KNeighborsClassifier(), KNeighborsClassifier(), KNeighborsClassifier()]\n"
     ]
    }
   ],
   "source": [
    "knn_classifier.fit()"
   ],
   "metadata": {
    "collapsed": false,
    "ExecuteTime": {
     "end_time": "2023-06-25T09:50:28.260543800Z",
     "start_time": "2023-06-25T09:48:46.350407300Z"
    }
   }
  },
  {
   "cell_type": "code",
   "execution_count": 10,
   "outputs": [
    {
     "name": "stdout",
     "output_type": "stream",
     "text": [
      "Start prediction test data:\n",
      "Models [KNeighborsClassifier(), KNeighborsClassifier(), KNeighborsClassifier()]\n",
      "Working with: idx 0 and shape (328680, 12)...\n",
      "Working with: idx 1 and shape (318738, 12)...\n",
      "Working with: idx 2 and shape (287635, 12)...\n"
     ]
    }
   ],
   "source": [
    "knn_classifier.predict_test()"
   ],
   "metadata": {
    "collapsed": false,
    "ExecuteTime": {
     "end_time": "2023-06-25T09:52:14.354950Z",
     "start_time": "2023-06-25T09:50:28.267543800Z"
    }
   }
  },
  {
   "cell_type": "markdown",
   "source": [
    "#### Get classification report"
   ],
   "metadata": {
    "collapsed": false
   }
  },
  {
   "cell_type": "code",
   "execution_count": 11,
   "outputs": [
    {
     "data": {
      "text/plain": "False"
     },
     "execution_count": 11,
     "metadata": {},
     "output_type": "execute_result"
    }
   ],
   "source": [
    "import cuml\n",
    "type(knn_classifier.models[0]) == cuml.internals.base_helpers.BaseMetaClass"
   ],
   "metadata": {
    "collapsed": false,
    "ExecuteTime": {
     "end_time": "2023-06-25T09:52:14.363950900Z",
     "start_time": "2023-06-25T09:52:14.357953500Z"
    }
   }
  },
  {
   "cell_type": "code",
   "execution_count": 12,
   "outputs": [],
   "source": [
    "from dataset_tool.classification_report_creator import *"
   ],
   "metadata": {
    "collapsed": false,
    "ExecuteTime": {
     "end_time": "2023-06-25T09:52:14.377635400Z",
     "start_time": "2023-06-25T09:52:14.362985900Z"
    }
   }
  },
  {
   "cell_type": "code",
   "execution_count": 13,
   "outputs": [],
   "source": [
    "knn_report_creator = ClassificationReportCreator(knn_classifier.predictions,dataset_tree.dataset_tree)"
   ],
   "metadata": {
    "collapsed": false,
    "ExecuteTime": {
     "end_time": "2023-06-25T09:52:14.457332100Z",
     "start_time": "2023-06-25T09:52:14.378633700Z"
    }
   }
  },
  {
   "cell_type": "code",
   "execution_count": 14,
   "outputs": [
    {
     "name": "stdout",
     "output_type": "stream",
     "text": [
      "Get accureacy for 0 iteration\n",
      "Accureacy 0.9903127551078796\n",
      "              precision    recall  f1-score   support\n",
      "\n",
      "           1       0.69      0.98      0.81      7008\n",
      "           2       1.00      0.99      1.00    321672\n",
      "\n",
      "    accuracy                           0.99    328680\n",
      "   macro avg       0.85      0.99      0.90    328680\n",
      "weighted avg       0.99      0.99      0.99    328680\n",
      "\n",
      "Get accureacy for 1 iteration\n",
      "Accureacy 0.9979920983314514\n",
      "              precision    recall  f1-score   support\n",
      "\n",
      "           1       0.99      0.99      0.99     30877\n",
      "           2       1.00      1.00      1.00    287861\n",
      "\n",
      "    accuracy                           1.00    318738\n",
      "   macro avg       0.99      1.00      0.99    318738\n",
      "weighted avg       1.00      1.00      1.00    318738\n",
      "\n",
      "Get accureacy for 2 iteration\n",
      "Accureacy 0.9515497088432312\n",
      "              precision    recall  f1-score   support\n",
      "\n",
      "           1       0.97      0.96      0.96    199135\n",
      "           2       0.91      0.94      0.92     88500\n",
      "\n",
      "    accuracy                           0.95    287635\n",
      "   macro avg       0.94      0.95      0.94    287635\n",
      "weighted avg       0.95      0.95      0.95    287635\n",
      "\n"
     ]
    }
   ],
   "source": [
    "knn_report_creator.display_tree_predictions()"
   ],
   "metadata": {
    "collapsed": false,
    "ExecuteTime": {
     "end_time": "2023-06-25T09:52:15.188474900Z",
     "start_time": "2023-06-25T09:52:14.391943500Z"
    }
   }
  },
  {
   "cell_type": "code",
   "execution_count": 15,
   "outputs": [],
   "source": [
    "import numpy as np\n",
    "arrr = np.asarray([1,2,3,4,5,6])"
   ],
   "metadata": {
    "collapsed": false,
    "ExecuteTime": {
     "end_time": "2023-06-25T09:52:15.188474900Z",
     "start_time": "2023-06-25T09:52:15.158876Z"
    }
   }
  },
  {
   "cell_type": "code",
   "execution_count": 16,
   "outputs": [
    {
     "data": {
      "text/plain": "array([2, 3, 5])"
     },
     "execution_count": 16,
     "metadata": {},
     "output_type": "execute_result"
    }
   ],
   "source": [
    "np.delete(arrr,[0,3,5])"
   ],
   "metadata": {
    "collapsed": false,
    "ExecuteTime": {
     "end_time": "2023-06-25T09:52:15.205548Z",
     "start_time": "2023-06-25T09:52:15.163908400Z"
    }
   }
  },
  {
   "cell_type": "markdown",
   "source": [
    "### Gaussian naive Bayes"
   ],
   "metadata": {
    "collapsed": false
   }
  },
  {
   "cell_type": "markdown",
   "source": [
    "#### GNB fit"
   ],
   "metadata": {
    "collapsed": false
   }
  },
  {
   "cell_type": "code",
   "execution_count": 17,
   "outputs": [],
   "source": [
    "from dataset_tool.NBClassifier import *"
   ],
   "metadata": {
    "collapsed": false,
    "ExecuteTime": {
     "end_time": "2023-06-25T09:52:15.214549400Z",
     "start_time": "2023-06-25T09:52:15.204577100Z"
    }
   }
  },
  {
   "cell_type": "code",
   "execution_count": 18,
   "outputs": [],
   "source": [
    "gnb_classifier = GaussianNBClassiefier(dataset_tree.dataset_tree)"
   ],
   "metadata": {
    "collapsed": false,
    "ExecuteTime": {
     "end_time": "2023-06-25T09:52:15.272211900Z",
     "start_time": "2023-06-25T09:52:15.215571800Z"
    }
   }
  },
  {
   "cell_type": "code",
   "execution_count": 19,
   "outputs": [
    {
     "name": "stdout",
     "output_type": "stream",
     "text": [
      "Models [GaussianNB(), GaussianNB(), GaussianNB()]\n"
     ]
    }
   ],
   "source": [
    "gnb_classifier.fit()"
   ],
   "metadata": {
    "collapsed": false,
    "ExecuteTime": {
     "end_time": "2023-06-25T09:52:26.751497600Z",
     "start_time": "2023-06-25T09:52:15.228542100Z"
    }
   }
  },
  {
   "cell_type": "code",
   "execution_count": 20,
   "outputs": [
    {
     "name": "stdout",
     "output_type": "stream",
     "text": [
      "Start prediction test data:\n",
      "Models [GaussianNB(), GaussianNB(), GaussianNB()]\n",
      "Working with: idx 0 and shape (328680, 12)...\n",
      "Working with: idx 1 and shape (318738, 12)...\n",
      "Working with: idx 2 and shape (287635, 12)...\n"
     ]
    }
   ],
   "source": [
    "gnb_classifier.predict_test()"
   ],
   "metadata": {
    "collapsed": false,
    "ExecuteTime": {
     "end_time": "2023-06-25T09:52:26.871373800Z",
     "start_time": "2023-06-25T09:52:26.749497100Z"
    }
   }
  },
  {
   "cell_type": "markdown",
   "source": [
    "### SVM fit"
   ],
   "metadata": {
    "collapsed": false
   }
  },
  {
   "cell_type": "code",
   "execution_count": 21,
   "outputs": [],
   "source": [
    "from dataset_tool.SVMClassifier import *"
   ],
   "metadata": {
    "collapsed": false,
    "ExecuteTime": {
     "end_time": "2023-06-25T09:52:26.876860900Z",
     "start_time": "2023-06-25T09:52:26.871926500Z"
    }
   }
  },
  {
   "cell_type": "code",
   "execution_count": 22,
   "outputs": [],
   "source": [
    "svm_classifier = SVMClassiefier(dataset_tree.dataset_tree)"
   ],
   "metadata": {
    "collapsed": false,
    "ExecuteTime": {
     "end_time": "2023-06-25T09:52:26.962570500Z",
     "start_time": "2023-06-25T09:52:26.876356800Z"
    }
   }
  },
  {
   "cell_type": "code",
   "execution_count": 23,
   "outputs": [],
   "source": [
    "#svm_classifier.fit()"
   ],
   "metadata": {
    "collapsed": false,
    "ExecuteTime": {
     "end_time": "2023-06-25T09:52:26.997322800Z",
     "start_time": "2023-06-25T09:52:26.914235200Z"
    }
   }
  },
  {
   "cell_type": "code",
   "execution_count": 24,
   "outputs": [],
   "source": [
    "#from dataset_tool.KNNCTF import *"
   ],
   "metadata": {
    "collapsed": false,
    "ExecuteTime": {
     "end_time": "2023-06-25T09:52:26.997322800Z",
     "start_time": "2023-06-25T09:52:26.925864600Z"
    }
   }
  },
  {
   "cell_type": "code",
   "execution_count": 25,
   "outputs": [],
   "source": [
    "#tf_knnc ="
   ],
   "metadata": {
    "collapsed": false,
    "ExecuteTime": {
     "end_time": "2023-06-25T09:52:26.998323200Z",
     "start_time": "2023-06-25T09:52:26.937550Z"
    }
   }
  },
  {
   "cell_type": "markdown",
   "source": [
    "## Predict on test image"
   ],
   "metadata": {
    "collapsed": false
   }
  },
  {
   "cell_type": "code",
   "execution_count": 7,
   "outputs": [],
   "source": [
    "from dataset_tool.real_prediction import *\n",
    "#importlib.reload(dataset_tool.real_prediction)"
   ],
   "metadata": {
    "collapsed": false,
    "ExecuteTime": {
     "end_time": "2023-07-09T07:28:44.556306400Z",
     "start_time": "2023-07-09T07:28:44.524772100Z"
    }
   }
  },
  {
   "cell_type": "code",
   "execution_count": 13,
   "outputs": [
    {
     "ename": "NameError",
     "evalue": "name 'knn_classifier' is not defined",
     "output_type": "error",
     "traceback": [
      "\u001B[0;31m---------------------------------------------------------------------------\u001B[0m",
      "\u001B[0;31mNameError\u001B[0m                                 Traceback (most recent call last)",
      "Input \u001B[0;32mIn [13]\u001B[0m, in \u001B[0;36m<cell line: 1>\u001B[0;34m()\u001B[0m\n\u001B[0;32m----> 1\u001B[0m \u001B[43mknn_classifier\u001B[49m\u001B[38;5;241m.\u001B[39mmodels\n",
      "\u001B[0;31mNameError\u001B[0m: name 'knn_classifier' is not defined"
     ]
    }
   ],
   "source": [
    "knn_classifier.models"
   ],
   "metadata": {
    "collapsed": false,
    "ExecuteTime": {
     "end_time": "2023-07-09T18:50:41.047183900Z",
     "start_time": "2023-07-09T18:50:40.951277800Z"
    }
   }
  },
  {
   "cell_type": "code",
   "execution_count": 14,
   "outputs": [],
   "source": [
    "real_prediction_knn_s = RealPrediction(\"/tmp/shared/test_images3\", knn_classifier_def.models)"
   ],
   "metadata": {
    "collapsed": false,
    "ExecuteTime": {
     "end_time": "2023-07-09T18:50:53.797353200Z",
     "start_time": "2023-07-09T18:50:46.486128500Z"
    }
   }
  },
  {
   "cell_type": "code",
   "execution_count": 28,
   "outputs": [],
   "source": [
    "real_prediction_knn = RealPrediction(\"/tmp/shared/dataset4/2\", knn_classifier.models)"
   ],
   "metadata": {
    "collapsed": false,
    "ExecuteTime": {
     "end_time": "2023-06-25T09:52:28.021935Z",
     "start_time": "2023-06-25T09:52:26.991322200Z"
    }
   }
  },
  {
   "cell_type": "code",
   "execution_count": 29,
   "outputs": [],
   "source": [
    "real_prediction_gnb = RealPrediction(\"/tmp/shared/dataset4/2\", gnb_classifier.models)"
   ],
   "metadata": {
    "collapsed": false,
    "ExecuteTime": {
     "end_time": "2023-06-25T09:52:28.915239700Z",
     "start_time": "2023-06-25T09:52:28.021935Z"
    }
   }
  },
  {
   "cell_type": "code",
   "execution_count": 30,
   "outputs": [],
   "source": [
    "#real_prediction_svc = RealPrediction(\"/tmp/shared/dataset4/2\", svm_classifier.models)"
   ],
   "metadata": {
    "collapsed": false,
    "ExecuteTime": {
     "end_time": "2023-06-25T09:52:28.915239700Z",
     "start_time": "2023-06-25T09:52:28.905241400Z"
    }
   }
  },
  {
   "cell_type": "code",
   "execution_count": 31,
   "outputs": [
    {
     "data": {
      "text/plain": "[KNeighborsClassifier(), KNeighborsClassifier(), KNeighborsClassifier()]"
     },
     "execution_count": 31,
     "metadata": {},
     "output_type": "execute_result"
    }
   ],
   "source": [
    "knn_classifier.models"
   ],
   "metadata": {
    "collapsed": false,
    "ExecuteTime": {
     "end_time": "2023-06-25T09:52:28.969301600Z",
     "start_time": "2023-06-25T09:52:28.909208800Z"
    }
   }
  },
  {
   "cell_type": "code",
   "execution_count": null,
   "outputs": [],
   "source": [],
   "metadata": {
    "collapsed": false
   }
  },
  {
   "cell_type": "code",
   "execution_count": 11,
   "outputs": [],
   "source": [
    "knnc_def = knn_classifier_def.models[0]"
   ],
   "metadata": {
    "collapsed": false,
    "ExecuteTime": {
     "end_time": "2023-07-09T07:29:00.637378900Z",
     "start_time": "2023-07-09T07:29:00.603061300Z"
    }
   }
  },
  {
   "cell_type": "code",
   "execution_count": 15,
   "outputs": [],
   "source": [
    "knnc_s_pred = knnc_def.predict(real_prediction_knn_s.x_scaled_base)"
   ],
   "metadata": {
    "collapsed": false,
    "ExecuteTime": {
     "end_time": "2023-07-09T18:51:58.899170800Z",
     "start_time": "2023-07-09T18:51:12.448041400Z"
    }
   }
  },
  {
   "cell_type": "code",
   "execution_count": 32,
   "outputs": [],
   "source": [
    "real_prediction_knn.predict()"
   ],
   "metadata": {
    "collapsed": false,
    "ExecuteTime": {
     "end_time": "2023-06-25T09:56:24.741317600Z",
     "start_time": "2023-06-25T09:52:28.951792500Z"
    }
   }
  },
  {
   "cell_type": "code",
   "execution_count": 32,
   "outputs": [],
   "source": [],
   "metadata": {
    "collapsed": false,
    "ExecuteTime": {
     "end_time": "2023-06-25T09:56:24.744340200Z",
     "start_time": "2023-06-25T09:56:24.742314500Z"
    }
   }
  },
  {
   "cell_type": "code",
   "execution_count": 33,
   "outputs": [],
   "source": [
    "real_prediction_gnb.predict()"
   ],
   "metadata": {
    "collapsed": false,
    "ExecuteTime": {
     "end_time": "2023-06-25T09:56:25.158860900Z",
     "start_time": "2023-06-25T09:56:24.748344100Z"
    }
   }
  },
  {
   "cell_type": "code",
   "execution_count": 34,
   "outputs": [],
   "source": [
    "# real_prediction_svc.predict()"
   ],
   "metadata": {
    "collapsed": false,
    "ExecuteTime": {
     "end_time": "2023-06-25T09:56:25.162371200Z",
     "start_time": "2023-06-25T09:56:25.160365700Z"
    }
   }
  },
  {
   "cell_type": "code",
   "execution_count": 35,
   "outputs": [
    {
     "name": "stdout",
     "output_type": "stream",
     "text": [
      "Predcition: 2. Len of idxs: 0. New array shape: (637748,)\n",
      "items before: [1 1 1 ... 1 1 1]: Min value: 1 max value: 2. Items with 1: (606013,).Items with 2: (31735,)\n",
      "items after: [3 3 3 ... 3 3 3]: Min value: 3 max value: 4. Items with 3: (606013,).Items with 4: (31735,)\n",
      "max: 3.0\n",
      "Predcition: 1. Len of idxs: 58551. New array shape: (696299,)\n",
      "items before: [1 1 1 ... 1 1 1]: Min value: 1 max value: 1. Items with 1: (58551,).Items with 2: (0,)\n",
      "items after: [2 2 2 ... 2 2 2]: Min value: 2 max value: 2. Items with 2: (58551,).Items with 3: (0,)\n",
      "items idx: [     0      1      2 ... 696038 696039 696040]  with type <class 'numpy.ndarray'>\n",
      "max: 2.0\n",
      "Predcition: 0. Len of idxs: 1673. New array shape: (697972,)\n",
      "items before: [1 1 1 ... 1 1 1]: Min value: 1 max value: 1. Items with 1: (1673,).Items with 2: (0,)\n",
      "items after: [1 1 1 ... 1 1 1]: Min value: 1 max value: 1. Items with 1: (1673,).Items with 2: (0,)\n",
      "items idx: [ 18965  18966  18967 ... 694246 695339 695340]  with type <class 'numpy.ndarray'>\n",
      "max: 1.0\n"
     ]
    }
   ],
   "source": [
    "arr2 = np.zeros(real_prediction_knn.x_scaled_base.shape[0])\n",
    "idxs = []\n",
    "array = np.empty(0)\n",
    "for index, item in reversed(list(enumerate(real_prediction_knn.predictions))):\n",
    "    new_array = np.zeros(array.shape[0] + item[1].shape[0], dtype=float)\n",
    "    print(f\"Predcition: {item[2]}. Len of idxs: {len(item[0])}. New array shape: {new_array.shape}\")\n",
    "    print(f\"items before: {item[1]}: Min value: {item[1].min()} max value: {item[1].max()}. Items with 1: {np.where(item[1][item[1]==1])[0].shape}.Items with 2: {np.where(item[1][item[1]==2])[0].shape}\")\n",
    "    new_items = item[1].copy() + item[2]\n",
    "    print(f\"items after: {new_items}: Min value: {new_items.min()} max value: {new_items.max()}. Items with {1+item[2]}: {np.where(new_items[new_items==1+item[2]])[0].shape}.Items with {2+item[2]}: {np.where(new_items[new_items==2+item[2]])[0].shape}\")\n",
    "    #print(f\"items before: {new_items}\")\n",
    "    if len(item[0]) == 0:\n",
    "        new_array[np.arange(item[1].shape[0])] = new_items.copy()\n",
    "    else:\n",
    "        print(f\"items idx: {item[0]}  with type {type(item[0])}\")\n",
    "        new_array[~np.isin(np.arange(array.shape[0] + item[1].shape[0]), item[0])] = array.copy()\n",
    "        new_array[np.isin(np.arange(array.shape[0] + item[1].shape[0]), item[0])] = new_items.copy()\n",
    "    array = new_array\n",
    "    print(f\"max: {array.min()}\")\n"
   ],
   "metadata": {
    "collapsed": false,
    "ExecuteTime": {
     "end_time": "2023-06-25T09:56:25.330661600Z",
     "start_time": "2023-06-25T09:56:25.169020500Z"
    }
   }
  },
  {
   "cell_type": "code",
   "execution_count": 36,
   "outputs": [
    {
     "name": "stdout",
     "output_type": "stream",
     "text": [
      "Shape of 1: (1673,).\n",
      "Shape of 2: (58551,).\n",
      "Shape of 3: (606013,).\n",
      "Shape of 4: (31735,)\n"
     ]
    }
   ],
   "source": [
    "print(f\"Shape of 1: {array[array == 1].shape}.\\nShape of 2: {array[array == 2].shape}.\\nShape of 3: {array[array == 3].shape}.\\nShape of 4: {array[array == 4].shape}\")"
   ],
   "metadata": {
    "collapsed": false,
    "ExecuteTime": {
     "end_time": "2023-06-25T09:56:25.341648500Z",
     "start_time": "2023-06-25T09:56:25.333681900Z"
    }
   }
  },
  {
   "cell_type": "code",
   "execution_count": 37,
   "outputs": [],
   "source": [
    "immmm2 = array.reshape((real_prediction_knn.height, real_prediction_knn.width))"
   ],
   "metadata": {
    "collapsed": false,
    "ExecuteTime": {
     "end_time": "2023-06-25T09:56:25.401861400Z",
     "start_time": "2023-06-25T09:56:25.343678500Z"
    }
   }
  },
  {
   "cell_type": "code",
   "execution_count": 38,
   "outputs": [
    {
     "data": {
      "text/plain": "<dataset_tool.real_prediction.RealPrediction at 0x7f815e69ab80>"
     },
     "execution_count": 38,
     "metadata": {},
     "output_type": "execute_result"
    }
   ],
   "source": [
    "real_prediction_knn"
   ],
   "metadata": {
    "collapsed": false,
    "ExecuteTime": {
     "end_time": "2023-06-25T09:56:25.408370900Z",
     "start_time": "2023-06-25T09:56:25.379096100Z"
    }
   }
  },
  {
   "cell_type": "code",
   "execution_count": 16,
   "outputs": [],
   "source": [
    "real_prediction_knn_s.flatten()"
   ],
   "metadata": {
    "collapsed": false,
    "ExecuteTime": {
     "end_time": "2023-07-09T18:53:00.442994900Z",
     "start_time": "2023-07-09T18:53:00.421930900Z"
    }
   }
  },
  {
   "cell_type": "code",
   "execution_count": 18,
   "outputs": [],
   "source": [
    "im_knn_s = knnc_s_pred.reshape((1541,2500))"
   ],
   "metadata": {
    "collapsed": false,
    "ExecuteTime": {
     "end_time": "2023-07-09T18:53:45.994010Z",
     "start_time": "2023-07-09T18:53:45.887276700Z"
    }
   }
  },
  {
   "cell_type": "code",
   "execution_count": 20,
   "outputs": [
    {
     "data": {
      "text/plain": "[Text(1, 1, 'water'),\n Text(1, 2, 'field'),\n Text(1, 3, 'forest'),\n Text(1, 4, 'mount'),\n Text(1, 5, 'sands')]"
     },
     "execution_count": 20,
     "metadata": {},
     "output_type": "execute_result"
    },
    {
     "data": {
      "text/plain": "<Figure size 640x480 with 2 Axes>",
      "image/png": "[encoded data removed]"
     },
     "metadata": {},
     "output_type": "display_data"
    }
   ],
   "source": [
    "from matplotlib.colors import ListedColormap\n",
    "import matplotlib.pyplot as plt\n",
    "#\n",
    "# plt.imshow(im)\n",
    "# im1 = ax[1].imshow(knn_image_default_1,cmap=ListedColormap(['blue', 'purple']))\n",
    "# im3 = ax[2].imshow(mnb_image_default_1,cmap=ListedColormap(['blue', 'purple']))\n",
    "#im4 = ax[3].imshow(svm_image_default_1,cmap=ListedColormap(['blue', 'purple']))\n",
    "plt.imshow(im_knn_s, cmap=ListedColormap(['red','blue','yellow','green', 'orange']))\n",
    "labels = list(['water','field','forest','mount','sands'])\n",
    "values = list([1,2,3,4,5])\n",
    "plt.title = \"KKNC\"\n",
    "# ax[1].set_title(\"KNNC\")\n",
    "# ax[2].set_title(\"Naive bayes\")\n",
    "#ax[2].set_title(\"SVM\")\n",
    "# Create a colorbar with the legend\n",
    "colorbar = plt.colorbar(ticks=values)\n",
    "colorbar.ax.set_yticklabels(labels)"
   ],
   "metadata": {
    "collapsed": false,
    "ExecuteTime": {
     "end_time": "2023-07-09T18:58:19.079704Z",
     "start_time": "2023-07-09T18:58:18.383987300Z"
    }
   }
  },
  {
   "cell_type": "code",
   "execution_count": 39,
   "outputs": [
    {
     "name": "stdout",
     "output_type": "stream",
     "text": [
      "Predcition: 2. Len of idxs: 0. New array shape: (637748,)\n",
      "items before: [1 1 1 ... 1 1 1]: Min value: 1 max value: 2. Items with 1: (606013,).Items with 2: (31735,)\n",
      "items after: [3 3 3 ... 3 3 3]: Min value: 3 max value: 4. Items with 3: (606013,).Items with 4: (31735,)\n",
      "max: 3.0\n",
      "Predcition: 1. Len of idxs: 58551. New array shape: (696299,)\n",
      "items before: [1 1 1 ... 1 1 1]: Min value: 1 max value: 1. Items with 1: (58551,).Items with 2: (0,)\n",
      "items after: [2 2 2 ... 2 2 2]: Min value: 2 max value: 2. Items with 2: (58551,).Items with 3: (0,)\n",
      "items idx: [     0      1      2 ... 696038 696039 696040]  with type <class 'numpy.ndarray'>\n",
      "max: 2.0\n",
      "Predcition: 0. Len of idxs: 1673. New array shape: (697972,)\n",
      "items before: [1 1 1 ... 1 1 1]: Min value: 1 max value: 1. Items with 1: (1673,).Items with 2: (0,)\n",
      "items after: [1 1 1 ... 1 1 1]: Min value: 1 max value: 1. Items with 1: (1673,).Items with 2: (0,)\n",
      "items idx: [ 18965  18966  18967 ... 694246 695339 695340]  with type <class 'numpy.ndarray'>\n",
      "max: 1.0\n"
     ]
    }
   ],
   "source": [
    "real_prediction_knn.flatten()"
   ],
   "metadata": {
    "collapsed": false,
    "ExecuteTime": {
     "end_time": "2023-06-25T09:56:25.518369400Z",
     "start_time": "2023-06-25T09:56:25.402365400Z"
    }
   }
  },
  {
   "cell_type": "code",
   "execution_count": 40,
   "outputs": [
    {
     "name": "stdout",
     "output_type": "stream",
     "text": [
      "Predcition: 2. Len of idxs: 0. New array shape: (543129,)\n",
      "items before: [1 1 1 ... 1 1 1]: Min value: 1 max value: 2. Items with 1: (519603,).Items with 2: (23526,)\n",
      "items after: [3 3 3 ... 3 3 3]: Min value: 3 max value: 4. Items with 3: (519603,).Items with 4: (23526,)\n",
      "max: 3.0\n",
      "Predcition: 1. Len of idxs: 58476. New array shape: (601605,)\n",
      "items before: [1 1 1 ... 1 1 1]: Min value: 1 max value: 1. Items with 1: (58476,).Items with 2: (0,)\n",
      "items after: [2 2 2 ... 2 2 2]: Min value: 2 max value: 2. Items with 2: (58476,).Items with 3: (0,)\n",
      "items idx: [     0      1      2 ... 601350 601351 601352]  with type <class 'numpy.ndarray'>\n",
      "max: 2.0\n",
      "Predcition: 0. Len of idxs: 96367. New array shape: (697972,)\n",
      "items before: [1 1 1 ... 1 1 1]: Min value: 1 max value: 1. Items with 1: (96367,).Items with 2: (0,)\n",
      "items after: [1 1 1 ... 1 1 1]: Min value: 1 max value: 1. Items with 1: (96367,).Items with 2: (0,)\n",
      "items idx: [   167    200    206 ... 697814 697815 697816]  with type <class 'numpy.ndarray'>\n",
      "max: 1.0\n"
     ]
    }
   ],
   "source": [
    "real_prediction_gnb.flatten()"
   ],
   "metadata": {
    "collapsed": false,
    "ExecuteTime": {
     "end_time": "2023-06-25T09:56:25.640539100Z",
     "start_time": "2023-06-25T09:56:25.521888700Z"
    }
   }
  },
  {
   "cell_type": "code",
   "execution_count": 41,
   "outputs": [],
   "source": [
    "# real_prediction_svc.flatten()"
   ],
   "metadata": {
    "collapsed": false,
    "ExecuteTime": {
     "end_time": "2023-06-25T09:56:25.647057100Z",
     "start_time": "2023-06-25T09:56:25.644052900Z"
    }
   }
  },
  {
   "cell_type": "code",
   "execution_count": 41,
   "outputs": [],
   "source": [],
   "metadata": {
    "collapsed": false,
    "ExecuteTime": {
     "end_time": "2023-06-25T09:56:25.650056100Z",
     "start_time": "2023-06-25T09:56:25.648060900Z"
    }
   }
  },
  {
   "cell_type": "code",
   "execution_count": 42,
   "outputs": [],
   "source": [
    "im = real_prediction_knn.to2d()"
   ],
   "metadata": {
    "collapsed": false,
    "ExecuteTime": {
     "end_time": "2023-06-25T09:56:25.688158300Z",
     "start_time": "2023-06-25T09:56:25.652056200Z"
    }
   }
  },
  {
   "cell_type": "code",
   "execution_count": 43,
   "outputs": [
    {
     "data": {
      "text/plain": "1"
     },
     "execution_count": 43,
     "metadata": {},
     "output_type": "execute_result"
    }
   ],
   "source": [
    "max(real_prediction_knn.predictions[0][1])"
   ],
   "metadata": {
    "collapsed": false,
    "ExecuteTime": {
     "end_time": "2023-06-25T09:56:25.699162100Z",
     "start_time": "2023-06-25T09:56:25.687160400Z"
    }
   }
  },
  {
   "cell_type": "code",
   "execution_count": 44,
   "outputs": [
    {
     "data": {
      "text/plain": "1673"
     },
     "execution_count": 44,
     "metadata": {},
     "output_type": "execute_result"
    }
   ],
   "source": [
    "len(im[im==1])"
   ],
   "metadata": {
    "collapsed": false,
    "ExecuteTime": {
     "end_time": "2023-06-25T09:56:25.710159700Z",
     "start_time": "2023-06-25T09:56:25.701158700Z"
    }
   }
  },
  {
   "cell_type": "code",
   "execution_count": 45,
   "outputs": [],
   "source": [
    "im_gnb = real_prediction_gnb.to2d()"
   ],
   "metadata": {
    "collapsed": false,
    "ExecuteTime": {
     "end_time": "2023-06-25T09:56:25.746527200Z",
     "start_time": "2023-06-25T09:56:25.712158500Z"
    }
   }
  },
  {
   "cell_type": "code",
   "execution_count": 46,
   "outputs": [
    {
     "data": {
      "text/plain": "4.0"
     },
     "execution_count": 46,
     "metadata": {},
     "output_type": "execute_result"
    }
   ],
   "source": [
    "im.max()"
   ],
   "metadata": {
    "collapsed": false,
    "ExecuteTime": {
     "end_time": "2023-06-25T09:56:25.751533400Z",
     "start_time": "2023-06-25T09:56:25.720158900Z"
    }
   }
  },
  {
   "cell_type": "code",
   "execution_count": 47,
   "outputs": [],
   "source": [
    "#im_svc = real_prediction_svc.to2d()"
   ],
   "metadata": {
    "collapsed": false,
    "ExecuteTime": {
     "end_time": "2023-06-25T09:56:25.751533400Z",
     "start_time": "2023-06-25T09:56:25.734158500Z"
    }
   }
  },
  {
   "cell_type": "code",
   "execution_count": 48,
   "outputs": [
    {
     "data": {
      "text/plain": "638"
     },
     "execution_count": 48,
     "metadata": {},
     "output_type": "execute_result"
    }
   ],
   "source": [
    "real_prediction_knn.height"
   ],
   "metadata": {
    "collapsed": false,
    "ExecuteTime": {
     "end_time": "2023-06-25T09:56:25.753533200Z",
     "start_time": "2023-06-25T09:56:25.746527200Z"
    }
   }
  },
  {
   "cell_type": "code",
   "execution_count": 49,
   "outputs": [],
   "source": [
    "predictions = real_prediction_knn.predictions"
   ],
   "metadata": {
    "collapsed": false,
    "ExecuteTime": {
     "end_time": "2023-06-25T09:56:25.762042800Z",
     "start_time": "2023-06-25T09:56:25.755533500Z"
    }
   }
  },
  {
   "cell_type": "code",
   "execution_count": 50,
   "outputs": [
    {
     "data": {
      "text/plain": "0"
     },
     "execution_count": 50,
     "metadata": {},
     "output_type": "execute_result"
    }
   ],
   "source": [
    "len(predictions[2][0])"
   ],
   "metadata": {
    "collapsed": false,
    "ExecuteTime": {
     "end_time": "2023-06-25T09:56:25.775040300Z",
     "start_time": "2023-06-25T09:56:25.764043500Z"
    }
   }
  },
  {
   "cell_type": "code",
   "execution_count": 51,
   "outputs": [
    {
     "data": {
      "text/plain": "(1673,)"
     },
     "execution_count": 51,
     "metadata": {},
     "output_type": "execute_result"
    }
   ],
   "source": [
    "real_prediction_knn.predictions[0][1].shape"
   ],
   "metadata": {
    "collapsed": false,
    "ExecuteTime": {
     "end_time": "2023-06-25T09:56:25.829376100Z",
     "start_time": "2023-06-25T09:56:25.778186700Z"
    }
   }
  },
  {
   "cell_type": "code",
   "execution_count": 52,
   "outputs": [
    {
     "data": {
      "text/plain": "[Text(1, 1, 'city'),\n Text(1, 2, 'water'),\n Text(1, 3, 'field'),\n Text(1, 4, 'forest')]"
     },
     "execution_count": 52,
     "metadata": {},
     "output_type": "execute_result"
    },
    {
     "data": {
      "text/plain": "<Figure size 640x480 with 2 Axes>",
      "image/png": "[encoded data removed]"
     },
     "metadata": {},
     "output_type": "display_data"
    }
   ],
   "source": [
    "from matplotlib.colors import ListedColormap\n",
    "import matplotlib.pyplot as plt\n",
    "#\n",
    "# plt.imshow(im)\n",
    "# im1 = ax[1].imshow(knn_image_default_1,cmap=ListedColormap(['blue', 'purple']))\n",
    "# im3 = ax[2].imshow(mnb_image_default_1,cmap=ListedColormap(['blue', 'purple']))\n",
    "#im4 = ax[3].imshow(svm_image_default_1,cmap=ListedColormap(['blue', 'purple']))\n",
    "plt.imshow(im, cmap=ListedColormap(['red','blue','yellow','green']))\n",
    "labels = list(['city','water','field','forest'])\n",
    "values = list([1,2,3,4])\n",
    "plt.title = \"KKNC\"\n",
    "# ax[1].set_title(\"KNNC\")\n",
    "# ax[2].set_title(\"Naive bayes\")\n",
    "#ax[2].set_title(\"SVM\")\n",
    "# Create a colorbar with the legend\n",
    "colorbar = plt.colorbar(ticks=values)\n",
    "colorbar.ax.set_yticklabels(labels)"
   ],
   "metadata": {
    "collapsed": false,
    "ExecuteTime": {
     "end_time": "2023-06-25T09:56:26.065489400Z",
     "start_time": "2023-06-25T09:56:25.789979300Z"
    }
   }
  },
  {
   "cell_type": "code",
   "execution_count": 53,
   "outputs": [
    {
     "data": {
      "text/plain": "[Text(1, 1, 'city'),\n Text(1, 2, 'water'),\n Text(1, 3, 'field'),\n Text(1, 4, 'forest')]"
     },
     "execution_count": 53,
     "metadata": {},
     "output_type": "execute_result"
    },
    {
     "data": {
      "text/plain": "<Figure size 640x480 with 2 Axes>",
      "image/png": "[encoded data removed]"
     },
     "metadata": {},
     "output_type": "display_data"
    }
   ],
   "source": [
    "from matplotlib.colors import ListedColormap\n",
    "import matplotlib.pyplot as plt\n",
    "#\n",
    "# plt.imshow(im)\n",
    "# im1 = ax[1].imshow(knn_image_default_1,cmap=ListedColormap(['blue', 'purple']))\n",
    "# im3 = ax[2].imshow(mnb_image_default_1,cmap=ListedColormap(['blue', 'purple']))\n",
    "#im4 = ax[3].imshow(svm_image_default_1,cmap=ListedColormap(['blue', 'purple']))\n",
    "plt.imshow(im_gnb, cmap=ListedColormap(['red','blue','yellow','green']))\n",
    "labels = list(['city','water','field','forest'])\n",
    "values = list([1,2,3,4])\n",
    "plt.title = \"KKNC\"\n",
    "# ax[1].set_title(\"KNNC\")\n",
    "# ax[2].set_title(\"Naive bayes\")\n",
    "#ax[2].set_title(\"SVM\")\n",
    "# Create a colorbar with the legend\n",
    "colorbar = plt.colorbar(ticks=values)\n",
    "colorbar.ax.set_yticklabels(labels)"
   ],
   "metadata": {
    "collapsed": false,
    "ExecuteTime": {
     "end_time": "2023-06-25T09:56:26.281040700Z",
     "start_time": "2023-06-25T09:56:26.082001200Z"
    }
   }
  },
  {
   "cell_type": "code",
   "execution_count": 54,
   "outputs": [
    {
     "ename": "NameError",
     "evalue": "name 'im_svc' is not defined",
     "output_type": "error",
     "traceback": [
      "\u001B[0;31m---------------------------------------------------------------------------\u001B[0m",
      "\u001B[0;31mNameError\u001B[0m                                 Traceback (most recent call last)",
      "Input \u001B[0;32mIn [54]\u001B[0m, in \u001B[0;36m<cell line: 1>\u001B[0;34m()\u001B[0m\n\u001B[0;32m----> 1\u001B[0m plt\u001B[38;5;241m.\u001B[39mimshow(\u001B[43mim_svc\u001B[49m)\n",
      "\u001B[0;31mNameError\u001B[0m: name 'im_svc' is not defined"
     ]
    }
   ],
   "source": [
    "plt.imshow(im_svc)"
   ],
   "metadata": {
    "collapsed": false,
    "ExecuteTime": {
     "end_time": "2023-06-25T09:56:26.803550600Z",
     "start_time": "2023-06-25T09:56:26.285545400Z"
    }
   }
  },
  {
   "cell_type": "code",
   "execution_count": null,
   "outputs": [],
   "source": [
    "real_prediction_knn.predict_proba()"
   ],
   "metadata": {
    "collapsed": false
   }
  },
  {
   "cell_type": "code",
   "execution_count": null,
   "outputs": [],
   "source": [
    "#real_prediction_knn.flatten_proba()"
   ],
   "metadata": {
    "collapsed": false
   }
  },
  {
   "cell_type": "code",
   "execution_count": null,
   "outputs": [],
   "source": [
    "real_prediction_knn.predictions[0][1][0]"
   ],
   "metadata": {
    "collapsed": false
   }
  },
  {
   "cell_type": "code",
   "execution_count": null,
   "outputs": [],
   "source": [
    "real_prediction_knn.predictions_proba[0][1]"
   ],
   "metadata": {
    "collapsed": false
   }
  },
  {
   "cell_type": "code",
   "execution_count": null,
   "outputs": [],
   "source": [
    "# def flatten_proba(self):\n",
    "#     array = np.empty(0)\n",
    "#     for index, item in reversed(list(enumerate(self.predictions_proba))):\n",
    "#         new_array = np.empty((array.shape[0] + item[1].shape[0],2), dtype=float)\n",
    "#         print(f\"Predcition: {item[2]}. Len of idxs: {len(item[0])}. New array shape: {new_array.shape}\")\n",
    "#         new_items = item[1] + item[2]\n",
    "#         if len(item[0]) == 0:\n",
    "#             new_array[np.arange(item[1].shape[0])] = new_items\n",
    "#         else:\n",
    "#             new_array[item[0]] = item[1]\n",
    "#             new_array[~np.isin(np.arange(array.shape[0] + item[1].shape[0]), item[0])] = array\n",
    "#         array = new_array\n",
    "#     self.predictions_composite_proba = array"
   ],
   "metadata": {
    "collapsed": false
   }
  },
  {
   "cell_type": "code",
   "execution_count": null,
   "outputs": [],
   "source": [
    "import numpy as np\n",
    "\n",
    "item1 = np.asarray([[0.2,0.8],[0.3,0.7],[0.2,0.8],[0.4,0.6],[0.25,0.75]])\n",
    "item2 = np.asarray([[0.2,0.8],[0.3,0.7],[0.2,0.8],[0.4,0.6],[0.25,0.75]])"
   ],
   "metadata": {
    "collapsed": false
   }
  },
  {
   "cell_type": "code",
   "execution_count": null,
   "outputs": [],
   "source": [
    "# item1_1 = item1[0]\n",
    "# item2_1 = item2[0]"
   ],
   "metadata": {
    "collapsed": false
   }
  },
  {
   "cell_type": "code",
   "execution_count": null,
   "outputs": [],
   "source": [
    "# item3 = item1[0][2] * item2_1"
   ],
   "metadata": {
    "collapsed": false
   }
  },
  {
   "cell_type": "code",
   "execution_count": null,
   "outputs": [],
   "source": [
    "result = item1 * item2[:, 0][:, np.newaxis]"
   ],
   "metadata": {
    "collapsed": false
   }
  },
  {
   "cell_type": "code",
   "execution_count": null,
   "outputs": [],
   "source": [
    "result"
   ],
   "metadata": {
    "collapsed": false
   }
  },
  {
   "cell_type": "code",
   "execution_count": null,
   "outputs": [],
   "source": [
    "result = np.hstack((item1, result, result * item2[:, 1][:, np.newaxis]))"
   ],
   "metadata": {
    "collapsed": false
   }
  },
  {
   "cell_type": "code",
   "execution_count": null,
   "outputs": [],
   "source": [
    "result"
   ],
   "metadata": {
    "collapsed": false
   }
  },
  {
   "cell_type": "code",
   "execution_count": null,
   "outputs": [],
   "source": [
    "result2 = np.hstack((item1, (item1 * item2).sum(axis=1, keepdims=True)))"
   ],
   "metadata": {
    "collapsed": false
   }
  },
  {
   "cell_type": "code",
   "execution_count": null,
   "outputs": [],
   "source": [
    "result2"
   ],
   "metadata": {
    "collapsed": false
   }
  },
  {
   "cell_type": "code",
   "execution_count": null,
   "outputs": [],
   "source": [
    "item1[0][1]*item2[0]"
   ],
   "metadata": {
    "collapsed": false
   }
  },
  {
   "cell_type": "code",
   "execution_count": null,
   "outputs": [],
   "source": [
    "item1[0][1]"
   ],
   "metadata": {
    "collapsed": false
   }
  },
  {
   "cell_type": "code",
   "execution_count": null,
   "outputs": [],
   "source": [
    "item2[0]"
   ],
   "metadata": {
    "collapsed": false
   }
  },
  {
   "cell_type": "code",
   "execution_count": null,
   "outputs": [],
   "source": [
    "i1 = item1[:,1][:,np.newaxis] * item2"
   ],
   "metadata": {
    "collapsed": false
   }
  },
  {
   "cell_type": "code",
   "execution_count": null,
   "outputs": [],
   "source": [
    "i2 = item1[:,0]"
   ],
   "metadata": {
    "collapsed": false
   }
  },
  {
   "cell_type": "code",
   "execution_count": null,
   "outputs": [],
   "source": [
    "np.zstack(i2,i1)"
   ],
   "metadata": {
    "collapsed": false
   }
  },
  {
   "cell_type": "code",
   "execution_count": null,
   "outputs": [],
   "source": [
    "i1.shape"
   ],
   "metadata": {
    "collapsed": false
   }
  },
  {
   "cell_type": "code",
   "execution_count": null,
   "outputs": [],
   "source": [
    "i2.shape"
   ],
   "metadata": {
    "collapsed": false
   }
  },
  {
   "cell_type": "code",
   "execution_count": null,
   "outputs": [],
   "source": [
    "np.hstack((i2[:, np.newaxis], i1))"
   ],
   "metadata": {
    "collapsed": false
   }
  },
  {
   "cell_type": "code",
   "execution_count": null,
   "outputs": [],
   "source": [
    "probas = np.asarray(real_prediction_knn.predictions_proba)"
   ],
   "metadata": {
    "collapsed": false
   }
  },
  {
   "cell_type": "code",
   "execution_count": null,
   "outputs": [],
   "source": [
    "probas.shape"
   ],
   "metadata": {
    "collapsed": false
   }
  },
  {
   "cell_type": "code",
   "execution_count": null,
   "outputs": [],
   "source": [
    "# def flatten_probas():\n",
    "#     new_array = np.empty(0)\n",
    "#\n",
    "#     for idx, item in enumerate(probas):\n",
    "#         print(f\"idx: {idx}\")\n",
    "#         if idx == 0:\n",
    "#             new_array = item\n",
    "#         else:\n",
    "#             i1 = new_array[:, idx][:,np.newaxis] * item\n",
    "#             i2 = new_array[:,:idx]\n",
    "#             new_array = np.hstack((i2, i1))\n",
    "#\n",
    "#     return new_array"
   ],
   "metadata": {
    "collapsed": false
   }
  },
  {
   "cell_type": "code",
   "execution_count": null,
   "outputs": [],
   "source": [
    "# arrrrr = flatten_probas()"
   ],
   "metadata": {
    "collapsed": false
   }
  },
  {
   "cell_type": "code",
   "execution_count": null,
   "outputs": [],
   "source": [
    "# arrrrr.shape"
   ],
   "metadata": {
    "collapsed": false
   }
  },
  {
   "cell_type": "code",
   "execution_count": null,
   "outputs": [],
   "source": [
    "# from dataset_tool.graph_utils import *\n",
    "#\n",
    "# createHistGraph(arrrrr, dataset.categories_map)"
   ],
   "metadata": {
    "collapsed": false
   }
  },
  {
   "cell_type": "code",
   "execution_count": null,
   "outputs": [],
   "source": [
    "i2 = arrrrr[:, :1]"
   ],
   "metadata": {
    "collapsed": false
   }
  },
  {
   "cell_type": "code",
   "execution_count": null,
   "outputs": [],
   "source": [
    "i1.shape"
   ],
   "metadata": {
    "collapsed": false
   }
  },
  {
   "cell_type": "code",
   "execution_count": null,
   "outputs": [],
   "source": [
    "np.hstack((i2,i1))"
   ],
   "metadata": {
    "collapsed": false
   }
  },
  {
   "cell_type": "code",
   "execution_count": null,
   "outputs": [],
   "source": [
    "probas[1]"
   ],
   "metadata": {
    "collapsed": false
   }
  },
  {
   "cell_type": "code",
   "execution_count": null,
   "outputs": [],
   "source": [],
   "metadata": {
    "collapsed": false
   }
  }
 ],
 "metadata": {
  "kernelspec": {
   "display_name": "Python 3",
   "language": "python",
   "name": "python3"
  },
  "language_info": {
   "codemirror_mode": {
    "name": "ipython",
    "version": 2
   },
   "file_extension": ".py",
   "mimetype": "text/x-python",
   "name": "python",
   "nbconvert_exporter": "python",
   "pygments_lexer": "ipython2",
   "version": "2.7.6"
  }
 },
 "nbformat": 4,
 "nbformat_minor": 0
}
