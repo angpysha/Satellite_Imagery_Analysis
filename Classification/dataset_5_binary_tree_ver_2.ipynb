{
 "cells": [
  {
   "cell_type": "markdown",
   "source": [
    "## Add imports"
   ],
   "metadata": {
    "collapsed": false
   }
  },
  {
   "cell_type": "code",
   "execution_count": 52,
   "metadata": {
    "collapsed": true,
    "ExecuteTime": {
     "end_time": "2023-06-24T10:03:09.999989300Z",
     "start_time": "2023-06-24T10:03:09.648275800Z"
    }
   },
   "outputs": [
    {
     "data": {
      "text/plain": "<module 'dataset_tool.dataset_loader' from '/tmp/pycharm_project_568/Classification/dataset_tool/dataset_loader.py'>"
     },
     "execution_count": 52,
     "metadata": {},
     "output_type": "execute_result"
    }
   ],
   "source": [
    "# import os\n",
    "import sys\n",
    "import importlib\n",
    "sys.path.append(\"/tmp/pycharm_project_568/Classification/\")\n",
    "# # from dataset_tool.dataset_loader import *\n",
    "# import importer\n",
    "# from dataset_tool.dataset_loader import *\n",
    "import dataset_tool.dataset_loader\n",
    "importlib.reload(dataset_tool.dataset_loader)"
   ]
  },
  {
   "cell_type": "markdown",
   "source": [
    "### Load dataset"
   ],
   "metadata": {
    "collapsed": false
   }
  },
  {
   "cell_type": "code",
   "execution_count": 53,
   "outputs": [
    {
     "name": "stdout",
     "output_type": "stream",
     "text": [
      "test\n",
      "Shape of array is (6966,)\n",
      "COnfig path /tmp/pycharm_project_568/Classification/dataset_config\n",
      "<configparser.ConfigParser object at 0x7f70cf9aacd0>\n",
      "to_learch forest,field,water,city\n",
      "Processing forest\n",
      "Size of forest is 456100\n",
      "Processing field\n",
      "Size of field is 982700\n",
      "Processing water\n",
      "Size of water is 155000\n",
      "Processing city\n",
      "Size of city is 49600\n",
      "Train size: 1314720. Test size: 328680\n"
     ]
    }
   ],
   "source": [
    "dataset = dataset_tool.dataset_loader.load_dataset5()"
   ],
   "metadata": {
    "collapsed": false,
    "ExecuteTime": {
     "end_time": "2023-06-24T10:03:29.922959800Z",
     "start_time": "2023-06-24T10:03:09.679099100Z"
    }
   }
  },
  {
   "cell_type": "markdown",
   "source": [
    "### Transform to binary tree"
   ],
   "metadata": {
    "collapsed": false
   }
  },
  {
   "cell_type": "code",
   "execution_count": 54,
   "outputs": [
    {
     "data": {
      "text/plain": "<module 'dataset_tool.dataset_tree_transformer' from '/tmp/pycharm_project_568/Classification/dataset_tool/dataset_tree_transformer.py'>"
     },
     "execution_count": 54,
     "metadata": {},
     "output_type": "execute_result"
    }
   ],
   "source": [
    "from dataset_tool.dataset_tree_transformer import *\n",
    "importlib.reload(dataset_tool.dataset_tree_transformer)\n"
   ],
   "metadata": {
    "collapsed": false,
    "ExecuteTime": {
     "end_time": "2023-06-24T10:03:29.932363200Z",
     "start_time": "2023-06-24T10:03:29.926861700Z"
    }
   }
  },
  {
   "cell_type": "code",
   "execution_count": 55,
   "outputs": [
    {
     "name": "stdout",
     "output_type": "stream",
     "text": [
      "COnfig path /tmp/pycharm_project_568/Classification/dataset_config\n",
      "categories tree string [\"forest\",[\"field\",[\"water\",\"city\"]]]\n",
      "List array ['forest', ['field', ['water', 'city']]].\n",
      "Creating dataset: train len: 1314720 test len: 328680\n",
      "Creating dataset: train len: 949823 test len: 237477\n",
      "Creating dataset: train len: 163587 test len: 41013\n"
     ]
    }
   ],
   "source": [
    "dataset_tree = DatasetTreeAdapter(dataset)"
   ],
   "metadata": {
    "collapsed": false,
    "ExecuteTime": {
     "end_time": "2023-06-24T10:03:30.019222600Z",
     "start_time": "2023-06-24T10:03:29.933368100Z"
    }
   }
  },
  {
   "cell_type": "code",
   "execution_count": 56,
   "outputs": [
    {
     "data": {
      "text/plain": "[<dataset_tool.iter_dataset.IterDataset at 0x7f70cf8a0e80>,\n <dataset_tool.iter_dataset.IterDataset at 0x7f70cf8a0f70>,\n <dataset_tool.iter_dataset.IterDataset at 0x7f70cf8a0dc0>]"
     },
     "execution_count": 56,
     "metadata": {},
     "output_type": "execute_result"
    }
   ],
   "source": [
    "dataset_tree.dataset_tree"
   ],
   "metadata": {
    "collapsed": false,
    "ExecuteTime": {
     "end_time": "2023-06-24T10:03:30.026251400Z",
     "start_time": "2023-06-24T10:03:30.018249900Z"
    }
   }
  },
  {
   "cell_type": "code",
   "execution_count": 57,
   "outputs": [],
   "source": [
    "#importlib.reload(dataset_tool.KNNClassifier)\n",
    "from dataset_tool.KNNClassifier import *\n",
    "\n",
    "\n",
    "\n"
   ],
   "metadata": {
    "collapsed": false,
    "ExecuteTime": {
     "end_time": "2023-06-24T10:03:30.120988200Z",
     "start_time": "2023-06-24T10:03:30.023270500Z"
    }
   }
  },
  {
   "cell_type": "markdown",
   "source": [
    "### Use KNN-C"
   ],
   "metadata": {
    "collapsed": false
   }
  },
  {
   "cell_type": "markdown",
   "source": [
    "#### Model fit"
   ],
   "metadata": {
    "collapsed": false
   }
  },
  {
   "cell_type": "code",
   "execution_count": 58,
   "outputs": [],
   "source": [
    "knn_classifier = KNNClassifier(dataset_tree.dataset_tree)"
   ],
   "metadata": {
    "collapsed": false,
    "ExecuteTime": {
     "end_time": "2023-06-24T10:03:30.135378800Z",
     "start_time": "2023-06-24T10:03:30.054123800Z"
    }
   }
  },
  {
   "cell_type": "code",
   "execution_count": 59,
   "outputs": [
    {
     "name": "stdout",
     "output_type": "stream",
     "text": [
      "Models [KNeighborsClassifier(), KNeighborsClassifier(), KNeighborsClassifier()]\n"
     ]
    }
   ],
   "source": [
    "knn_classifier.fit()"
   ],
   "metadata": {
    "collapsed": false,
    "ExecuteTime": {
     "end_time": "2023-06-24T10:03:35.638233600Z",
     "start_time": "2023-06-24T10:03:30.065847400Z"
    }
   }
  },
  {
   "cell_type": "code",
   "execution_count": 60,
   "outputs": [
    {
     "name": "stdout",
     "output_type": "stream",
     "text": [
      "Start prediction test data:\n",
      "Models [KNeighborsClassifier(), KNeighborsClassifier(), KNeighborsClassifier()]\n",
      "Working with: idx 0 and shape (328680, 12)...\n",
      "Working with: idx 1 and shape (237477, 12)...\n",
      "Working with: idx 2 and shape (41013, 12)...\n"
     ]
    }
   ],
   "source": [
    "knn_classifier.predict_test()"
   ],
   "metadata": {
    "collapsed": false,
    "ExecuteTime": {
     "end_time": "2023-06-24T10:03:40.750493900Z",
     "start_time": "2023-06-24T10:03:35.641263700Z"
    }
   }
  },
  {
   "cell_type": "markdown",
   "source": [
    "#### Get classification report"
   ],
   "metadata": {
    "collapsed": false
   }
  },
  {
   "cell_type": "code",
   "execution_count": 61,
   "outputs": [
    {
     "data": {
      "text/plain": "False"
     },
     "execution_count": 61,
     "metadata": {},
     "output_type": "execute_result"
    }
   ],
   "source": [
    "import cuml\n",
    "type(knn_classifier.models[0]) == cuml.internals.base_helpers.BaseMetaClass"
   ],
   "metadata": {
    "collapsed": false,
    "ExecuteTime": {
     "end_time": "2023-06-24T10:03:40.757547100Z",
     "start_time": "2023-06-24T10:03:40.752493300Z"
    }
   }
  },
  {
   "cell_type": "code",
   "execution_count": 62,
   "outputs": [],
   "source": [
    "from dataset_tool.classification_report_creator import *"
   ],
   "metadata": {
    "collapsed": false,
    "ExecuteTime": {
     "end_time": "2023-06-24T10:03:40.768285Z",
     "start_time": "2023-06-24T10:03:40.761676400Z"
    }
   }
  },
  {
   "cell_type": "code",
   "execution_count": 63,
   "outputs": [],
   "source": [
    "knn_report_creator = ClassificationReportCreator(knn_classifier.predictions,dataset_tree.dataset_tree)"
   ],
   "metadata": {
    "collapsed": false,
    "ExecuteTime": {
     "end_time": "2023-06-24T10:03:40.850121300Z",
     "start_time": "2023-06-24T10:03:40.770285800Z"
    }
   }
  },
  {
   "cell_type": "code",
   "execution_count": 64,
   "outputs": [
    {
     "name": "stdout",
     "output_type": "stream",
     "text": [
      "Get accureacy for 0 iteration\n",
      "Accureacy 0.9599701762199402\n",
      "              precision    recall  f1-score   support\n",
      "\n",
      "           1       0.93      0.92      0.93     91902\n",
      "           2       0.97      0.97      0.97    236778\n",
      "\n",
      "    accuracy                           0.96    328680\n",
      "   macro avg       0.95      0.95      0.95    328680\n",
      "weighted avg       0.96      0.96      0.96    328680\n",
      "\n",
      "Get accureacy for 1 iteration\n",
      "Accureacy 0.9890347123146057\n",
      "              precision    recall  f1-score   support\n",
      "\n",
      "           1       1.00      0.99      0.99    198800\n",
      "           2       0.94      1.00      0.97     38677\n",
      "\n",
      "    accuracy                           0.99    237477\n",
      "   macro avg       0.97      0.99      0.98    237477\n",
      "weighted avg       0.99      0.99      0.99    237477\n",
      "\n",
      "Get accureacy for 2 iteration\n",
      "Accureacy 0.9960012435913086\n",
      "              precision    recall  f1-score   support\n",
      "\n",
      "           1       1.00      1.00      1.00     31165\n",
      "           2       0.99      0.99      0.99      9848\n",
      "\n",
      "    accuracy                           1.00     41013\n",
      "   macro avg       1.00      0.99      0.99     41013\n",
      "weighted avg       1.00      1.00      1.00     41013\n",
      "\n"
     ]
    }
   ],
   "source": [
    "knn_report_creator.display_tree_predictions()"
   ],
   "metadata": {
    "collapsed": false,
    "ExecuteTime": {
     "end_time": "2023-06-24T10:03:41.335632700Z",
     "start_time": "2023-06-24T10:03:40.783796900Z"
    }
   }
  },
  {
   "cell_type": "code",
   "execution_count": 65,
   "outputs": [],
   "source": [
    "import numpy as np\n",
    "arrr = np.asarray([1,2,3,4,5,6])"
   ],
   "metadata": {
    "collapsed": false,
    "ExecuteTime": {
     "end_time": "2023-06-24T10:03:41.340643300Z",
     "start_time": "2023-06-24T10:03:41.335632700Z"
    }
   }
  },
  {
   "cell_type": "code",
   "execution_count": 66,
   "outputs": [
    {
     "data": {
      "text/plain": "array([2, 3, 5])"
     },
     "execution_count": 66,
     "metadata": {},
     "output_type": "execute_result"
    }
   ],
   "source": [
    "np.delete(arrr,[0,3,5])"
   ],
   "metadata": {
    "collapsed": false,
    "ExecuteTime": {
     "end_time": "2023-06-24T10:03:41.396697300Z",
     "start_time": "2023-06-24T10:03:41.341642600Z"
    }
   }
  },
  {
   "cell_type": "markdown",
   "source": [
    "### Gaussian naive Bayes"
   ],
   "metadata": {
    "collapsed": false
   }
  },
  {
   "cell_type": "markdown",
   "source": [
    "#### GNB fit"
   ],
   "metadata": {
    "collapsed": false
   }
  },
  {
   "cell_type": "code",
   "execution_count": 67,
   "outputs": [],
   "source": [
    "from dataset_tool.NBClassifier import *"
   ],
   "metadata": {
    "collapsed": false,
    "ExecuteTime": {
     "end_time": "2023-06-24T10:03:41.397698400Z",
     "start_time": "2023-06-24T10:03:41.376691Z"
    }
   }
  },
  {
   "cell_type": "code",
   "execution_count": 68,
   "outputs": [],
   "source": [
    "gnb_classifier = GaussianNBClassiefier(dataset_tree.dataset_tree)"
   ],
   "metadata": {
    "collapsed": false,
    "ExecuteTime": {
     "end_time": "2023-06-24T10:03:41.398727100Z",
     "start_time": "2023-06-24T10:03:41.386696Z"
    }
   }
  },
  {
   "cell_type": "code",
   "execution_count": 69,
   "outputs": [
    {
     "name": "stdout",
     "output_type": "stream",
     "text": [
      "Models [GaussianNB(), GaussianNB(), GaussianNB()]\n"
     ]
    }
   ],
   "source": [
    "gnb_classifier.fit()"
   ],
   "metadata": {
    "collapsed": false,
    "ExecuteTime": {
     "end_time": "2023-06-24T10:03:41.690841600Z",
     "start_time": "2023-06-24T10:03:41.397698400Z"
    }
   }
  },
  {
   "cell_type": "code",
   "execution_count": 70,
   "outputs": [
    {
     "name": "stdout",
     "output_type": "stream",
     "text": [
      "Start prediction test data:\n",
      "Models [GaussianNB(), GaussianNB(), GaussianNB()]\n",
      "Working with: idx 0 and shape (328680, 12)...\n",
      "Working with: idx 1 and shape (237477, 12)...\n",
      "Working with: idx 2 and shape (41013, 12)...\n"
     ]
    }
   ],
   "source": [
    "gnb_classifier.predict_test()"
   ],
   "metadata": {
    "collapsed": false,
    "ExecuteTime": {
     "end_time": "2023-06-24T10:03:41.781522Z",
     "start_time": "2023-06-24T10:03:41.695841300Z"
    }
   }
  },
  {
   "cell_type": "markdown",
   "source": [
    "### SVM fit"
   ],
   "metadata": {
    "collapsed": false
   }
  },
  {
   "cell_type": "code",
   "execution_count": 71,
   "outputs": [],
   "source": [
    "from dataset_tool.SVMClassifier import *"
   ],
   "metadata": {
    "collapsed": false,
    "ExecuteTime": {
     "end_time": "2023-06-24T10:03:41.785518300Z",
     "start_time": "2023-06-24T10:03:41.783524200Z"
    }
   }
  },
  {
   "cell_type": "code",
   "execution_count": 72,
   "outputs": [],
   "source": [
    "svm_classifier = SVMClassiefier(dataset_tree.dataset_tree)"
   ],
   "metadata": {
    "collapsed": false,
    "ExecuteTime": {
     "end_time": "2023-06-24T10:03:41.882471300Z",
     "start_time": "2023-06-24T10:03:41.787549800Z"
    }
   }
  },
  {
   "cell_type": "code",
   "execution_count": 73,
   "outputs": [],
   "source": [
    "#svm_classifier.fit()"
   ],
   "metadata": {
    "collapsed": false,
    "ExecuteTime": {
     "end_time": "2023-06-24T10:03:41.889120600Z",
     "start_time": "2023-06-24T10:03:41.817519100Z"
    }
   }
  },
  {
   "cell_type": "code",
   "execution_count": 74,
   "outputs": [],
   "source": [
    "#from dataset_tool.KNNCTF import *"
   ],
   "metadata": {
    "collapsed": false,
    "ExecuteTime": {
     "end_time": "2023-06-24T10:03:41.891126500Z",
     "start_time": "2023-06-24T10:03:41.829521700Z"
    }
   }
  },
  {
   "cell_type": "code",
   "execution_count": 75,
   "outputs": [],
   "source": [
    "#tf_knnc ="
   ],
   "metadata": {
    "collapsed": false,
    "ExecuteTime": {
     "end_time": "2023-06-24T10:03:41.891126500Z",
     "start_time": "2023-06-24T10:03:41.843519500Z"
    }
   }
  },
  {
   "cell_type": "markdown",
   "source": [
    "## Predict on test image"
   ],
   "metadata": {
    "collapsed": false
   }
  },
  {
   "cell_type": "code",
   "execution_count": 76,
   "outputs": [],
   "source": [
    "from dataset_tool.real_prediction import *\n",
    "#importlib.reload(dataset_tool.real_prediction)"
   ],
   "metadata": {
    "collapsed": false,
    "ExecuteTime": {
     "end_time": "2023-06-24T10:03:41.891126500Z",
     "start_time": "2023-06-24T10:03:41.852931100Z"
    }
   }
  },
  {
   "cell_type": "code",
   "execution_count": 77,
   "outputs": [
    {
     "data": {
      "text/plain": "[KNeighborsClassifier(), KNeighborsClassifier(), KNeighborsClassifier()]"
     },
     "execution_count": 77,
     "metadata": {},
     "output_type": "execute_result"
    }
   ],
   "source": [
    "knn_classifier.models"
   ],
   "metadata": {
    "collapsed": false,
    "ExecuteTime": {
     "end_time": "2023-06-24T10:03:41.892125200Z",
     "start_time": "2023-06-24T10:03:41.882471300Z"
    }
   }
  },
  {
   "cell_type": "code",
   "execution_count": 78,
   "outputs": [],
   "source": [
    "real_prediction_knn = RealPrediction(\"/tmp/shared/dataset4/2\", knn_classifier.models)"
   ],
   "metadata": {
    "collapsed": false,
    "ExecuteTime": {
     "end_time": "2023-06-24T10:03:42.805473700Z",
     "start_time": "2023-06-24T10:03:41.883450100Z"
    }
   }
  },
  {
   "cell_type": "code",
   "execution_count": 79,
   "outputs": [],
   "source": [
    "real_prediction_gnb = RealPrediction(\"/tmp/shared/dataset4/2\", gnb_classifier.models)"
   ],
   "metadata": {
    "collapsed": false,
    "ExecuteTime": {
     "end_time": "2023-06-24T10:03:43.644983300Z",
     "start_time": "2023-06-24T10:03:42.807952600Z"
    }
   }
  },
  {
   "cell_type": "code",
   "execution_count": 80,
   "outputs": [],
   "source": [
    "#real_prediction_svc = RealPrediction(\"/tmp/shared/dataset4/2\", svm_classifier.models)"
   ],
   "metadata": {
    "collapsed": false,
    "ExecuteTime": {
     "end_time": "2023-06-24T10:03:43.652985800Z",
     "start_time": "2023-06-24T10:03:43.650956200Z"
    }
   }
  },
  {
   "cell_type": "code",
   "execution_count": 81,
   "outputs": [
    {
     "data": {
      "text/plain": "[KNeighborsClassifier(), KNeighborsClassifier(), KNeighborsClassifier()]"
     },
     "execution_count": 81,
     "metadata": {},
     "output_type": "execute_result"
    }
   ],
   "source": [
    "knn_classifier.models"
   ],
   "metadata": {
    "collapsed": false,
    "ExecuteTime": {
     "end_time": "2023-06-24T10:03:43.712058200Z",
     "start_time": "2023-06-24T10:03:43.654954900Z"
    }
   }
  },
  {
   "cell_type": "code",
   "execution_count": 82,
   "outputs": [],
   "source": [
    "real_prediction_knn.predict()"
   ],
   "metadata": {
    "collapsed": false,
    "ExecuteTime": {
     "end_time": "2023-06-24T10:03:54.915945500Z",
     "start_time": "2023-06-24T10:03:43.688516600Z"
    }
   }
  },
  {
   "cell_type": "code",
   "execution_count": 83,
   "outputs": [],
   "source": [
    "real_prediction_gnb.predict()"
   ],
   "metadata": {
    "collapsed": false,
    "ExecuteTime": {
     "end_time": "2023-06-24T10:03:55.086645300Z",
     "start_time": "2023-06-24T10:03:54.917975800Z"
    }
   }
  },
  {
   "cell_type": "code",
   "execution_count": 84,
   "outputs": [],
   "source": [
    "# real_prediction_svc.predict()"
   ],
   "metadata": {
    "collapsed": false,
    "ExecuteTime": {
     "end_time": "2023-06-24T10:03:55.086645300Z",
     "start_time": "2023-06-24T10:03:55.080611700Z"
    }
   }
  },
  {
   "cell_type": "code",
   "execution_count": 84,
   "outputs": [],
   "source": [],
   "metadata": {
    "collapsed": false,
    "ExecuteTime": {
     "end_time": "2023-06-24T10:03:55.096620900Z",
     "start_time": "2023-06-24T10:03:55.084643200Z"
    }
   }
  },
  {
   "cell_type": "code",
   "execution_count": 85,
   "outputs": [
    {
     "data": {
      "text/plain": "<dataset_tool.real_prediction.RealPrediction at 0x7f70cfa93ac0>"
     },
     "execution_count": 85,
     "metadata": {},
     "output_type": "execute_result"
    }
   ],
   "source": [
    "real_prediction_knn"
   ],
   "metadata": {
    "collapsed": false,
    "ExecuteTime": {
     "end_time": "2023-06-24T10:03:55.118526Z",
     "start_time": "2023-06-24T10:03:55.088612Z"
    }
   }
  },
  {
   "cell_type": "code",
   "execution_count": 86,
   "outputs": [
    {
     "name": "stdout",
     "output_type": "stream",
     "text": [
      "Predcition: 2. Len of idxs: 0. New array shape: (105302,)\n",
      "Predcition: 1. Len of idxs: 387416. New array shape: (492718,)\n",
      "Predcition: 0. Len of idxs: 205254. New array shape: (697972,)\n"
     ]
    }
   ],
   "source": [
    "real_prediction_knn.flatten()"
   ],
   "metadata": {
    "collapsed": false,
    "ExecuteTime": {
     "end_time": "2023-06-24T10:03:55.194503700Z",
     "start_time": "2023-06-24T10:03:55.116498100Z"
    }
   }
  },
  {
   "cell_type": "code",
   "execution_count": 87,
   "outputs": [
    {
     "name": "stdout",
     "output_type": "stream",
     "text": [
      "Predcition: 2. Len of idxs: 0. New array shape: (78705,)\n",
      "Predcition: 1. Len of idxs: 601228. New array shape: (679933,)\n",
      "Predcition: 0. Len of idxs: 18039. New array shape: (697972,)\n"
     ]
    }
   ],
   "source": [
    "real_prediction_gnb.flatten()"
   ],
   "metadata": {
    "collapsed": false,
    "ExecuteTime": {
     "end_time": "2023-06-24T10:03:55.289471700Z",
     "start_time": "2023-06-24T10:03:55.192492500Z"
    }
   }
  },
  {
   "cell_type": "code",
   "execution_count": 88,
   "outputs": [],
   "source": [
    "# real_prediction_svc.flatten()"
   ],
   "metadata": {
    "collapsed": false,
    "ExecuteTime": {
     "end_time": "2023-06-24T10:03:55.290442200Z",
     "start_time": "2023-06-24T10:03:55.264379400Z"
    }
   }
  },
  {
   "cell_type": "code",
   "execution_count": 88,
   "outputs": [],
   "source": [],
   "metadata": {
    "collapsed": false,
    "ExecuteTime": {
     "end_time": "2023-06-24T10:03:55.290442200Z",
     "start_time": "2023-06-24T10:03:55.278442900Z"
    }
   }
  },
  {
   "cell_type": "code",
   "execution_count": 89,
   "outputs": [],
   "source": [
    "im = real_prediction_knn.to2d()"
   ],
   "metadata": {
    "collapsed": false,
    "ExecuteTime": {
     "end_time": "2023-06-24T10:03:55.290442200Z",
     "start_time": "2023-06-24T10:03:55.279444200Z"
    }
   }
  },
  {
   "cell_type": "code",
   "execution_count": 90,
   "outputs": [],
   "source": [
    "im_gnb = real_prediction_gnb.to2d()"
   ],
   "metadata": {
    "collapsed": false,
    "ExecuteTime": {
     "end_time": "2023-06-24T10:03:55.291439600Z",
     "start_time": "2023-06-24T10:03:55.280440300Z"
    }
   }
  },
  {
   "cell_type": "code",
   "execution_count": 101,
   "outputs": [
    {
     "data": {
      "text/plain": "4.0"
     },
     "execution_count": 101,
     "metadata": {},
     "output_type": "execute_result"
    }
   ],
   "source": [
    "im.max()"
   ],
   "metadata": {
    "collapsed": false,
    "ExecuteTime": {
     "end_time": "2023-06-24T10:04:05.298665600Z",
     "start_time": "2023-06-24T10:04:05.244160100Z"
    }
   }
  },
  {
   "cell_type": "code",
   "execution_count": 92,
   "outputs": [],
   "source": [
    "#im_svc = real_prediction_svc.to2d()"
   ],
   "metadata": {
    "collapsed": false,
    "ExecuteTime": {
     "end_time": "2023-06-24T10:03:55.358088400Z",
     "start_time": "2023-06-24T10:03:55.304964900Z"
    }
   }
  },
  {
   "cell_type": "code",
   "execution_count": 93,
   "outputs": [
    {
     "data": {
      "text/plain": "638"
     },
     "execution_count": 93,
     "metadata": {},
     "output_type": "execute_result"
    }
   ],
   "source": [
    "real_prediction_knn.height"
   ],
   "metadata": {
    "collapsed": false,
    "ExecuteTime": {
     "end_time": "2023-06-24T10:03:55.386880Z",
     "start_time": "2023-06-24T10:03:55.315963200Z"
    }
   }
  },
  {
   "cell_type": "code",
   "execution_count": 94,
   "outputs": [],
   "source": [
    "# arr1 = np.asarray([1,2,3])\n",
    "# arr1_idx = np.asarray([2,4,5])\n",
    "# arr2 = np.asarray([11,22,33,44,55,66,77,88])\n",
    "# shapes = arr1.shape[0]+arr2.shape[0]\n",
    "# arr3 = np.empty(shapes, dtype=float)\n",
    "# arr3[arr1_idx] = arr1\n",
    "# arr3[~np.isin(np.arange(arr3.shape[0]), arr1_idx)] = arr2\n",
    "# arr3"
   ],
   "metadata": {
    "collapsed": false,
    "ExecuteTime": {
     "end_time": "2023-06-24T10:03:55.386880Z",
     "start_time": "2023-06-24T10:03:55.329965100Z"
    }
   }
  },
  {
   "cell_type": "code",
   "execution_count": 95,
   "outputs": [],
   "source": [
    "predictions = real_prediction_knn.predictions"
   ],
   "metadata": {
    "collapsed": false,
    "ExecuteTime": {
     "end_time": "2023-06-24T10:03:55.388878500Z",
     "start_time": "2023-06-24T10:03:55.339966100Z"
    }
   }
  },
  {
   "cell_type": "code",
   "execution_count": 96,
   "outputs": [
    {
     "data": {
      "text/plain": "0"
     },
     "execution_count": 96,
     "metadata": {},
     "output_type": "execute_result"
    }
   ],
   "source": [
    "len(predictions[2][0])"
   ],
   "metadata": {
    "collapsed": false,
    "ExecuteTime": {
     "end_time": "2023-06-24T10:03:55.389878800Z",
     "start_time": "2023-06-24T10:03:55.358088400Z"
    }
   }
  },
  {
   "cell_type": "code",
   "execution_count": 97,
   "outputs": [
    {
     "data": {
      "text/plain": "[Text(1, 1, 'forest'),\n Text(1, 2, 'field'),\n Text(1, 3, 'water'),\n Text(1, 4, 'city')]"
     },
     "execution_count": 97,
     "metadata": {},
     "output_type": "execute_result"
    },
    {
     "data": {
      "text/plain": "<Figure size 640x480 with 2 Axes>",
      "image/png": "[encoded data removed]"
     },
     "metadata": {},
     "output_type": "display_data"
    }
   ],
   "source": [
    "from matplotlib.colors import ListedColormap\n",
    "import matplotlib.pyplot as plt\n",
    "#\n",
    "# plt.imshow(im)\n",
    "# im1 = ax[1].imshow(knn_image_default_1,cmap=ListedColormap(['blue', 'purple']))\n",
    "# im3 = ax[2].imshow(mnb_image_default_1,cmap=ListedColormap(['blue', 'purple']))\n",
    "#im4 = ax[3].imshow(svm_image_default_1,cmap=ListedColormap(['blue', 'purple']))\n",
    "plt.imshow(im, cmap=ListedColormap(['orange','green','blue','yellow']))\n",
    "labels = list(['forest','field','water','city'])\n",
    "values = list([1,2,3,4])\n",
    "plt.title = \"KKNC\"\n",
    "# ax[1].set_title(\"KNNC\")\n",
    "# ax[2].set_title(\"Naive bayes\")\n",
    "#ax[2].set_title(\"SVM\")\n",
    "# Create a colorbar with the legend\n",
    "colorbar = plt.colorbar(ticks=values)\n",
    "colorbar.ax.set_yticklabels(labels)"
   ],
   "metadata": {
    "collapsed": false,
    "ExecuteTime": {
     "end_time": "2023-06-24T10:03:55.616364200Z",
     "start_time": "2023-06-24T10:03:55.364948200Z"
    }
   }
  },
  {
   "cell_type": "code",
   "execution_count": 98,
   "outputs": [
    {
     "data": {
      "text/plain": "[Text(1, 1, 'field'),\n Text(1, 2, 'forest'),\n Text(1, 3, 'water'),\n Text(1, 4, 'city')]"
     },
     "execution_count": 98,
     "metadata": {},
     "output_type": "execute_result"
    },
    {
     "data": {
      "text/plain": "<Figure size 640x480 with 2 Axes>",
      "image/png": "[encoded data removed]"
     },
     "metadata": {},
     "output_type": "display_data"
    }
   ],
   "source": [
    "from matplotlib.colors import ListedColormap\n",
    "import matplotlib.pyplot as plt\n",
    "#\n",
    "# plt.imshow(im)\n",
    "# im1 = ax[1].imshow(knn_image_default_1,cmap=ListedColormap(['blue', 'purple']))\n",
    "# im3 = ax[2].imshow(mnb_image_default_1,cmap=ListedColormap(['blue', 'purple']))\n",
    "#im4 = ax[3].imshow(svm_image_default_1,cmap=ListedColormap(['blue', 'purple']))\n",
    "plt.imshow(im_gnb, cmap=ListedColormap(['orange','green','blue','yellow']))\n",
    "labels = list(['field','forest','water','city'])\n",
    "values = list([1,2,3,4])\n",
    "plt.title = \"KKNC\"\n",
    "# ax[1].set_title(\"KNNC\")\n",
    "# ax[2].set_title(\"Naive bayes\")\n",
    "#ax[2].set_title(\"SVM\")\n",
    "# Create a colorbar with the legend\n",
    "colorbar = plt.colorbar(ticks=values)\n",
    "colorbar.ax.set_yticklabels(labels)"
   ],
   "metadata": {
    "collapsed": false,
    "ExecuteTime": {
     "end_time": "2023-06-24T10:03:55.864692900Z",
     "start_time": "2023-06-24T10:03:55.618874700Z"
    }
   }
  },
  {
   "cell_type": "code",
   "execution_count": 99,
   "outputs": [
    {
     "ename": "NameError",
     "evalue": "name 'im_svc' is not defined",
     "output_type": "error",
     "traceback": [
      "\u001B[0;31m---------------------------------------------------------------------------\u001B[0m",
      "\u001B[0;31mNameError\u001B[0m                                 Traceback (most recent call last)",
      "Input \u001B[0;32mIn [99]\u001B[0m, in \u001B[0;36m<cell line: 1>\u001B[0;34m()\u001B[0m\n\u001B[0;32m----> 1\u001B[0m plt\u001B[38;5;241m.\u001B[39mimshow(\u001B[43mim_svc\u001B[49m)\n",
      "\u001B[0;31mNameError\u001B[0m: name 'im_svc' is not defined"
     ]
    }
   ],
   "source": [
    "plt.imshow(im_svc)"
   ],
   "metadata": {
    "collapsed": false,
    "ExecuteTime": {
     "end_time": "2023-06-24T10:03:55.879625400Z",
     "start_time": "2023-06-24T10:03:55.871697500Z"
    }
   }
  },
  {
   "cell_type": "code",
   "execution_count": null,
   "outputs": [],
   "source": [
    "real_prediction_knn.predict_proba()"
   ],
   "metadata": {
    "collapsed": false,
    "ExecuteTime": {
     "start_time": "2023-06-24T10:03:55.878706Z"
    }
   }
  },
  {
   "cell_type": "code",
   "execution_count": null,
   "outputs": [],
   "source": [
    "#real_prediction_knn.flatten_proba()"
   ],
   "metadata": {
    "collapsed": false
   }
  },
  {
   "cell_type": "code",
   "execution_count": null,
   "outputs": [],
   "source": [
    "real_prediction_knn.predictions[0][1][0]"
   ],
   "metadata": {
    "collapsed": false
   }
  },
  {
   "cell_type": "code",
   "execution_count": null,
   "outputs": [],
   "source": [
    "real_prediction_knn.predictions_proba[0][1]"
   ],
   "metadata": {
    "collapsed": false
   }
  },
  {
   "cell_type": "code",
   "execution_count": null,
   "outputs": [],
   "source": [
    "# def flatten_proba(self):\n",
    "#     array = np.empty(0)\n",
    "#     for index, item in reversed(list(enumerate(self.predictions_proba))):\n",
    "#         new_array = np.empty((array.shape[0] + item[1].shape[0],2), dtype=float)\n",
    "#         print(f\"Predcition: {item[2]}. Len of idxs: {len(item[0])}. New array shape: {new_array.shape}\")\n",
    "#         new_items = item[1] + item[2]\n",
    "#         if len(item[0]) == 0:\n",
    "#             new_array[np.arange(item[1].shape[0])] = new_items\n",
    "#         else:\n",
    "#             new_array[item[0]] = item[1]\n",
    "#             new_array[~np.isin(np.arange(array.shape[0] + item[1].shape[0]), item[0])] = array\n",
    "#         array = new_array\n",
    "#     self.predictions_composite_proba = array"
   ],
   "metadata": {
    "collapsed": false
   }
  },
  {
   "cell_type": "code",
   "execution_count": null,
   "outputs": [],
   "source": [
    "import numpy as np\n",
    "\n",
    "item1 = np.asarray([[0.2,0.8],[0.3,0.7],[0.2,0.8],[0.4,0.6],[0.25,0.75]])\n",
    "item2 = np.asarray([[0.2,0.8],[0.3,0.7],[0.2,0.8],[0.4,0.6],[0.25,0.75]])"
   ],
   "metadata": {
    "collapsed": false
   }
  },
  {
   "cell_type": "code",
   "execution_count": null,
   "outputs": [],
   "source": [
    "# item1_1 = item1[0]\n",
    "# item2_1 = item2[0]"
   ],
   "metadata": {
    "collapsed": false
   }
  },
  {
   "cell_type": "code",
   "execution_count": null,
   "outputs": [],
   "source": [
    "# item3 = item1[0][2] * item2_1"
   ],
   "metadata": {
    "collapsed": false
   }
  },
  {
   "cell_type": "code",
   "execution_count": null,
   "outputs": [],
   "source": [
    "result = item1 * item2[:, 0][:, np.newaxis]"
   ],
   "metadata": {
    "collapsed": false
   }
  },
  {
   "cell_type": "code",
   "execution_count": null,
   "outputs": [],
   "source": [
    "result"
   ],
   "metadata": {
    "collapsed": false
   }
  },
  {
   "cell_type": "code",
   "execution_count": null,
   "outputs": [],
   "source": [
    "result = np.hstack((item1, result, result * item2[:, 1][:, np.newaxis]))"
   ],
   "metadata": {
    "collapsed": false
   }
  },
  {
   "cell_type": "code",
   "execution_count": null,
   "outputs": [],
   "source": [
    "result"
   ],
   "metadata": {
    "collapsed": false
   }
  },
  {
   "cell_type": "code",
   "execution_count": null,
   "outputs": [],
   "source": [
    "result2 = np.hstack((item1, (item1 * item2).sum(axis=1, keepdims=True)))"
   ],
   "metadata": {
    "collapsed": false
   }
  },
  {
   "cell_type": "code",
   "execution_count": null,
   "outputs": [],
   "source": [
    "result2"
   ],
   "metadata": {
    "collapsed": false
   }
  },
  {
   "cell_type": "code",
   "execution_count": null,
   "outputs": [],
   "source": [
    "item1[0][1]*item2[0]"
   ],
   "metadata": {
    "collapsed": false
   }
  },
  {
   "cell_type": "code",
   "execution_count": null,
   "outputs": [],
   "source": [
    "item1[0][1]"
   ],
   "metadata": {
    "collapsed": false
   }
  },
  {
   "cell_type": "code",
   "execution_count": null,
   "outputs": [],
   "source": [
    "item2[0]"
   ],
   "metadata": {
    "collapsed": false
   }
  },
  {
   "cell_type": "code",
   "execution_count": null,
   "outputs": [],
   "source": [
    "i1 = item1[:,1][:,np.newaxis] * item2"
   ],
   "metadata": {
    "collapsed": false
   }
  },
  {
   "cell_type": "code",
   "execution_count": null,
   "outputs": [],
   "source": [
    "i2 = item1[:,0]"
   ],
   "metadata": {
    "collapsed": false
   }
  },
  {
   "cell_type": "code",
   "execution_count": null,
   "outputs": [],
   "source": [
    "np.zstack(i2,i1)"
   ],
   "metadata": {
    "collapsed": false
   }
  },
  {
   "cell_type": "code",
   "execution_count": null,
   "outputs": [],
   "source": [
    "i1.shape"
   ],
   "metadata": {
    "collapsed": false
   }
  },
  {
   "cell_type": "code",
   "execution_count": null,
   "outputs": [],
   "source": [
    "i2.shape"
   ],
   "metadata": {
    "collapsed": false
   }
  },
  {
   "cell_type": "code",
   "execution_count": null,
   "outputs": [],
   "source": [
    "np.hstack((i2[:, np.newaxis], i1))"
   ],
   "metadata": {
    "collapsed": false
   }
  },
  {
   "cell_type": "code",
   "execution_count": null,
   "outputs": [],
   "source": [
    "probas = np.asarray(real_prediction_knn.predictions_proba)"
   ],
   "metadata": {
    "collapsed": false
   }
  },
  {
   "cell_type": "code",
   "execution_count": null,
   "outputs": [],
   "source": [
    "probas.shape"
   ],
   "metadata": {
    "collapsed": false
   }
  },
  {
   "cell_type": "code",
   "execution_count": null,
   "outputs": [],
   "source": [
    "# def flatten_probas():\n",
    "#     new_array = np.empty(0)\n",
    "#\n",
    "#     for idx, item in enumerate(probas):\n",
    "#         print(f\"idx: {idx}\")\n",
    "#         if idx == 0:\n",
    "#             new_array = item\n",
    "#         else:\n",
    "#             i1 = new_array[:, idx][:,np.newaxis] * item\n",
    "#             i2 = new_array[:,:idx]\n",
    "#             new_array = np.hstack((i2, i1))\n",
    "#\n",
    "#     return new_array"
   ],
   "metadata": {
    "collapsed": false
   }
  },
  {
   "cell_type": "code",
   "execution_count": null,
   "outputs": [],
   "source": [
    "# arrrrr = flatten_probas()"
   ],
   "metadata": {
    "collapsed": false
   }
  },
  {
   "cell_type": "code",
   "execution_count": null,
   "outputs": [],
   "source": [
    "# arrrrr.shape"
   ],
   "metadata": {
    "collapsed": false
   }
  },
  {
   "cell_type": "code",
   "execution_count": null,
   "outputs": [],
   "source": [
    "# from dataset_tool.graph_utils import *\n",
    "#\n",
    "# createHistGraph(arrrrr, dataset.categories_map)"
   ],
   "metadata": {
    "collapsed": false
   }
  },
  {
   "cell_type": "code",
   "execution_count": null,
   "outputs": [],
   "source": [
    "i2 = arrrrr[:, :1]"
   ],
   "metadata": {
    "collapsed": false
   }
  },
  {
   "cell_type": "code",
   "execution_count": null,
   "outputs": [],
   "source": [
    "i1.shape"
   ],
   "metadata": {
    "collapsed": false
   }
  },
  {
   "cell_type": "code",
   "execution_count": null,
   "outputs": [],
   "source": [
    "np.hstack((i2,i1))"
   ],
   "metadata": {
    "collapsed": false
   }
  },
  {
   "cell_type": "code",
   "execution_count": null,
   "outputs": [],
   "source": [
    "probas[1]"
   ],
   "metadata": {
    "collapsed": false
   }
  },
  {
   "cell_type": "code",
   "execution_count": null,
   "outputs": [],
   "source": [],
   "metadata": {
    "collapsed": false
   }
  }
 ],
 "metadata": {
  "kernelspec": {
   "display_name": "Python 3",
   "language": "python",
   "name": "python3"
  },
  "language_info": {
   "codemirror_mode": {
    "name": "ipython",
    "version": 2
   },
   "file_extension": ".py",
   "mimetype": "text/x-python",
   "name": "python",
   "nbconvert_exporter": "python",
   "pygments_lexer": "ipython2",
   "version": "2.7.6"
  }
 },
 "nbformat": 4,
 "nbformat_minor": 0
}
