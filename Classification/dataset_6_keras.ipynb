{
 "cells": [
  {
   "cell_type": "code",
   "execution_count": 1,
   "metadata": {
    "collapsed": true,
    "ExecuteTime": {
     "end_time": "2023-09-28T09:13:06.099126200Z",
     "start_time": "2023-09-28T09:13:04.465175Z"
    }
   },
   "outputs": [
    {
     "data": {
      "text/plain": "<module 'dataset_tool.dataset6_generator' from '/mnt/d/aspiranture/Satellite_Imagery_Analysis/Classification/dataset_tool/dataset6_generator.py'>"
     },
     "execution_count": 1,
     "metadata": {},
     "output_type": "execute_result"
    }
   ],
   "source": [
    "import sys\n",
    "import importlib\n",
    "\n",
    "import numpy as np\n",
    "\n",
    "sys.path.append(\"/mnt/d/aspiranture/Satellite_Imagery_Analysis/Classification/\")\n",
    "import dataset_tool.dataset6_generator\n",
    "importlib.reload(dataset_tool.dataset6_generator)"
   ]
  },
  {
   "cell_type": "code",
   "execution_count": 2,
   "outputs": [
    {
     "name": "stdout",
     "output_type": "stream",
     "text": [
      "Error read []\n",
      "len 27\n"
     ]
    }
   ],
   "source": [
    "dataset = dataset_tool.dataset6_generator.get_dataset6()"
   ],
   "metadata": {
    "collapsed": false,
    "ExecuteTime": {
     "end_time": "2023-09-28T09:18:29.541745200Z",
     "start_time": "2023-09-28T09:17:18.443104200Z"
    }
   }
  },
  {
   "cell_type": "code",
   "execution_count": 3,
   "outputs": [
    {
     "data": {
      "text/plain": "<function dict.items>"
     },
     "execution_count": 3,
     "metadata": {},
     "output_type": "execute_result"
    }
   ],
   "source": [
    "dataset.items"
   ],
   "metadata": {
    "collapsed": false,
    "ExecuteTime": {
     "end_time": "2023-09-27T20:51:07.411245400Z",
     "start_time": "2023-09-27T20:51:07.235599800Z"
    }
   }
  },
  {
   "cell_type": "code",
   "execution_count": 3,
   "outputs": [],
   "source": [
    "categories_map = {}\n",
    "for categorie, idx in enumerate(dataset.keys()):\n",
    "    categories_map[idx] = categorie+1"
   ],
   "metadata": {
    "collapsed": false,
    "ExecuteTime": {
     "end_time": "2023-09-28T09:23:54.712751300Z",
     "start_time": "2023-09-28T09:23:54.575709Z"
    }
   }
  },
  {
   "cell_type": "code",
   "execution_count": 4,
   "outputs": [
    {
     "data": {
      "text/plain": "{'water': 1, 'forest': 2, 'fields': 3, 'city': 4, 'sands': 5, 'mountains': 6}"
     },
     "execution_count": 4,
     "metadata": {},
     "output_type": "execute_result"
    }
   ],
   "source": [
    "categories_map"
   ],
   "metadata": {
    "collapsed": false,
    "ExecuteTime": {
     "end_time": "2023-09-28T09:23:55.770207700Z",
     "start_time": "2023-09-28T09:23:55.680843Z"
    }
   }
  },
  {
   "cell_type": "code",
   "execution_count": 5,
   "outputs": [
    {
     "name": "stdout",
     "output_type": "stream",
     "text": [
      "shape for water - (12, 6596993)\n",
      "num of rects: 1610. To make full should add: 1663\n",
      "created new length with shape (12, 13191553)\n",
      "shape for forest - (12, 1532742)\n",
      "num of rects: 374. To make full should add: 3258\n",
      "created new length with shape (12, 3064646)\n",
      "shape for fields - (12, 2099471)\n",
      "num of rects: 512. To make full should add: 1777\n",
      "created new length with shape (12, 4196623)\n",
      "shape for city - (12, 574996)\n",
      "num of rects: 140. To make full should add: 2540\n",
      "created new length with shape (12, 1148436)\n",
      "shape for sands - (12, 742139)\n",
      "num of rects: 181. To make full should add: 3333\n",
      "created new length with shape (12, 1483515)\n",
      "shape for mountains - (12, 35420)\n",
      "num of rects: 8. To make full should add: 1444\n",
      "created new length with shape (12, 68188)\n"
     ]
    }
   ],
   "source": [
    "updated_dataset = {}\n",
    "\n",
    "for key, value in dataset.items():\n",
    "    print(f\"shape for {key} - {value.shape}\")\n",
    "    numOfRects = int(value.shape[1]/64/64)\n",
    "    itemsDiff = value.shape[1]-numOfRects*64*64\n",
    "    numOfFull = numOfRects*64*64\n",
    "    itemsToAdd = 64*64-itemsDiff\n",
    "    print(f\"num of rects: {numOfRects}. To make full should add: {itemsToAdd}\")\n",
    "    if itemsToAdd > 0:\n",
    "        values_sliced = value[:,:numOfFull]\n",
    "        new_value = np.concatenate([value,values_sliced],axis=1)\n",
    "        print(f\"created new length with shape {new_value.shape}\")\n",
    "        updated_dataset[key] = values_sliced\n",
    "    else:\n",
    "        updated_dataset[key] = value\n"
   ],
   "metadata": {
    "collapsed": false,
    "ExecuteTime": {
     "end_time": "2023-09-28T09:23:57.095150500Z",
     "start_time": "2023-09-28T09:23:56.183138300Z"
    }
   }
  },
  {
   "cell_type": "code",
   "execution_count": 6,
   "outputs": [],
   "source": [
    "y_data_list = []\n",
    "x_data_list = []\n",
    "\n",
    "for key, value in updated_dataset.items():\n",
    "    category_id = categories_map[key]\n",
    "    arr = np.full(value.shape[1], category_id)\n",
    "    y_data_list.extend(arr)\n",
    "    x_data_list.append(value)\n",
    "y_data = np.asarray(y_data_list)"
   ],
   "metadata": {
    "collapsed": false,
    "ExecuteTime": {
     "end_time": "2023-09-28T09:23:59.333247100Z",
     "start_time": "2023-09-28T09:23:57.881358100Z"
    }
   }
  },
  {
   "cell_type": "code",
   "execution_count": 7,
   "outputs": [
    {
     "data": {
      "text/plain": "(11571200,)"
     },
     "execution_count": 7,
     "metadata": {},
     "output_type": "execute_result"
    }
   ],
   "source": [
    "y_data.shape"
   ],
   "metadata": {
    "collapsed": false,
    "ExecuteTime": {
     "end_time": "2023-09-28T09:52:17.350348700Z",
     "start_time": "2023-09-28T09:52:17.280819200Z"
    }
   }
  },
  {
   "cell_type": "code",
   "execution_count": 8,
   "outputs": [],
   "source": [
    "x_data_1 = np.hstack(x_data_list)"
   ],
   "metadata": {
    "collapsed": false,
    "ExecuteTime": {
     "end_time": "2023-09-28T09:52:18.114672400Z",
     "start_time": "2023-09-28T09:52:17.761310900Z"
    }
   }
  },
  {
   "cell_type": "code",
   "execution_count": 9,
   "outputs": [
    {
     "data": {
      "text/plain": "(12, 11571200)"
     },
     "execution_count": 9,
     "metadata": {},
     "output_type": "execute_result"
    }
   ],
   "source": [
    "x_data_1.shape"
   ],
   "metadata": {
    "collapsed": false,
    "ExecuteTime": {
     "end_time": "2023-09-28T09:52:18.459902700Z",
     "start_time": "2023-09-28T09:52:18.391863300Z"
    }
   }
  },
  {
   "cell_type": "code",
   "execution_count": 10,
   "outputs": [],
   "source": [
    "x_data = np.moveaxis(x_data_1, 0,1)"
   ],
   "metadata": {
    "collapsed": false,
    "ExecuteTime": {
     "end_time": "2023-09-28T09:52:18.916711400Z",
     "start_time": "2023-09-28T09:52:18.823851400Z"
    }
   }
  },
  {
   "cell_type": "code",
   "execution_count": 11,
   "outputs": [
    {
     "name": "stdout",
     "output_type": "stream",
     "text": [
      "Min 0.0 and max 1.7788000106811523\n"
     ]
    }
   ],
   "source": [
    "print(f\"Min {x_data.min()} and max {x_data.max()}\")"
   ],
   "metadata": {
    "collapsed": false,
    "ExecuteTime": {
     "end_time": "2023-09-28T09:52:21.407377800Z",
     "start_time": "2023-09-28T09:52:21.240057500Z"
    }
   }
  },
  {
   "cell_type": "code",
   "execution_count": 12,
   "outputs": [
    {
     "data": {
      "text/plain": "(11571200, 12)"
     },
     "execution_count": 12,
     "metadata": {},
     "output_type": "execute_result"
    }
   ],
   "source": [
    "x_data.shape"
   ],
   "metadata": {
    "collapsed": false,
    "ExecuteTime": {
     "end_time": "2023-09-28T09:52:21.732116100Z",
     "start_time": "2023-09-28T09:52:21.559861800Z"
    }
   }
  },
  {
   "cell_type": "code",
   "execution_count": 13,
   "outputs": [],
   "source": [
    "def createImageCubes(img_array, blk_width,blk_height):\n",
    "    arrray = []\n",
    "    imageShape = img_array.shape\n",
    "    for w in range(0,imageShape[0],blk_width):\n",
    "        for h in range(0, imageShape[1], blk_height):\n",
    "            arrr = img_array[w:w+blk_width,h:h+blk_height]\n",
    "            arrray.append(np.asarray(arrr))\n",
    "    return np.asarray(arrray)"
   ],
   "metadata": {
    "collapsed": false,
    "ExecuteTime": {
     "end_time": "2023-09-28T09:52:22.044821500Z",
     "start_time": "2023-09-28T09:52:21.859889100Z"
    }
   }
  },
  {
   "cell_type": "code",
   "execution_count": 14,
   "outputs": [
    {
     "ename": "IndexError",
     "evalue": "tuple index out of range",
     "output_type": "error",
     "traceback": [
      "\u001B[0;31m---------------------------------------------------------------------------\u001B[0m",
      "\u001B[0;31mIndexError\u001B[0m                                Traceback (most recent call last)",
      "Cell \u001B[0;32mIn[14], line 1\u001B[0m\n\u001B[0;32m----> 1\u001B[0m y_cubes \u001B[38;5;241m=\u001B[39m \u001B[43mcreateImageCubes\u001B[49m\u001B[43m(\u001B[49m\u001B[43my_data\u001B[49m\u001B[43m,\u001B[49m\u001B[43m \u001B[49m\u001B[38;5;241;43m64\u001B[39;49m\u001B[43m,\u001B[49m\u001B[38;5;241;43m64\u001B[39;49m\u001B[43m)\u001B[49m\n",
      "Cell \u001B[0;32mIn[13], line 5\u001B[0m, in \u001B[0;36mcreateImageCubes\u001B[0;34m(img_array, blk_width, blk_height)\u001B[0m\n\u001B[1;32m      3\u001B[0m imageShape \u001B[38;5;241m=\u001B[39m img_array\u001B[38;5;241m.\u001B[39mshape\n\u001B[1;32m      4\u001B[0m \u001B[38;5;28;01mfor\u001B[39;00m w \u001B[38;5;129;01min\u001B[39;00m \u001B[38;5;28mrange\u001B[39m(\u001B[38;5;241m0\u001B[39m,imageShape[\u001B[38;5;241m0\u001B[39m],blk_width):\n\u001B[0;32m----> 5\u001B[0m     \u001B[38;5;28;01mfor\u001B[39;00m h \u001B[38;5;129;01min\u001B[39;00m \u001B[38;5;28mrange\u001B[39m(\u001B[38;5;241m0\u001B[39m, \u001B[43mimageShape\u001B[49m\u001B[43m[\u001B[49m\u001B[38;5;241;43m1\u001B[39;49m\u001B[43m]\u001B[49m, blk_height):\n\u001B[1;32m      6\u001B[0m         arrr \u001B[38;5;241m=\u001B[39m img_array[w:w\u001B[38;5;241m+\u001B[39mblk_width,h:h\u001B[38;5;241m+\u001B[39mblk_height]\n\u001B[1;32m      7\u001B[0m         arrray\u001B[38;5;241m.\u001B[39mappend(np\u001B[38;5;241m.\u001B[39masarray(arrr))\n",
      "\u001B[0;31mIndexError\u001B[0m: tuple index out of range"
     ]
    }
   ],
   "source": [
    "y_cubes = createImageCubes(y_data, 64,64)"
   ],
   "metadata": {
    "collapsed": false,
    "ExecuteTime": {
     "end_time": "2023-09-28T09:52:22.455601300Z",
     "start_time": "2023-09-28T09:52:22.271825900Z"
    }
   }
  },
  {
   "cell_type": "code",
   "execution_count": 15,
   "outputs": [
    {
     "data": {
      "text/plain": "(11571200,)"
     },
     "execution_count": 15,
     "metadata": {},
     "output_type": "execute_result"
    }
   ],
   "source": [
    "y_data.shape"
   ],
   "metadata": {
    "collapsed": false,
    "ExecuteTime": {
     "end_time": "2023-09-28T09:52:25.578740400Z",
     "start_time": "2023-09-28T09:52:25.478525Z"
    }
   }
  },
  {
   "cell_type": "code",
   "execution_count": 16,
   "outputs": [
    {
     "data": {
      "text/plain": "2825"
     },
     "execution_count": 16,
     "metadata": {},
     "output_type": "execute_result"
    }
   ],
   "source": [
    "length = int(y_data.shape[0]/64/64)\n",
    "length"
   ],
   "metadata": {
    "collapsed": false,
    "ExecuteTime": {
     "end_time": "2023-09-28T09:52:26.032132600Z",
     "start_time": "2023-09-28T09:52:25.966019100Z"
    }
   }
  },
  {
   "cell_type": "code",
   "execution_count": 17,
   "outputs": [],
   "source": [
    "y_data_cubes = y_data.reshape(length,64,64)"
   ],
   "metadata": {
    "collapsed": false,
    "ExecuteTime": {
     "end_time": "2023-09-28T09:52:26.450685200Z",
     "start_time": "2023-09-28T09:52:26.374885Z"
    }
   }
  },
  {
   "cell_type": "code",
   "execution_count": 18,
   "outputs": [],
   "source": [
    "x_data_cubes = x_data.reshape(length,64,64,12)"
   ],
   "metadata": {
    "collapsed": false,
    "ExecuteTime": {
     "end_time": "2023-09-28T09:52:26.929827900Z",
     "start_time": "2023-09-28T09:52:26.862241200Z"
    }
   }
  },
  {
   "cell_type": "code",
   "execution_count": 19,
   "outputs": [
    {
     "name": "stderr",
     "output_type": "stream",
     "text": [
      "2023-09-28 12:52:31.042167: I tensorflow/core/platform/cpu_feature_guard.cc:182] This TensorFlow binary is optimized to use available CPU instructions in performance-critical operations.\n",
      "To enable the following instructions: AVX2 FMA, in other operations, rebuild TensorFlow with the appropriate compiler flags.\n",
      "2023-09-28 12:52:32.796732: W tensorflow/compiler/tf2tensorrt/utils/py_utils.cc:38] TF-TRT Warning: Could not find TensorRT\n"
     ]
    }
   ],
   "source": [
    "import tensorflow as tf"
   ],
   "metadata": {
    "collapsed": false,
    "ExecuteTime": {
     "end_time": "2023-09-28T09:52:35.283733200Z",
     "start_time": "2023-09-28T09:52:29.010908100Z"
    }
   }
  },
  {
   "cell_type": "code",
   "execution_count": 20,
   "outputs": [],
   "source": [
    "from tensorflow.keras.layers import *"
   ],
   "metadata": {
    "collapsed": false,
    "ExecuteTime": {
     "end_time": "2023-09-28T09:52:55.013662900Z",
     "start_time": "2023-09-28T09:52:54.871700600Z"
    }
   }
  },
  {
   "cell_type": "code",
   "execution_count": 21,
   "outputs": [
    {
     "name": "stderr",
     "output_type": "stream",
     "text": [
      "2023-09-27 23:51:38.050504: I tensorflow/compiler/xla/stream_executor/cuda/cuda_gpu_executor.cc:981] could not open file to read NUMA node: /sys/bus/pci/devices/0000:01:00.0/numa_node\n",
      "Your kernel may have been built without NUMA support.\n",
      "2023-09-27 23:51:38.987623: I tensorflow/compiler/xla/stream_executor/cuda/cuda_gpu_executor.cc:981] could not open file to read NUMA node: /sys/bus/pci/devices/0000:01:00.0/numa_node\n",
      "Your kernel may have been built without NUMA support.\n",
      "2023-09-27 23:51:38.987678: I tensorflow/compiler/xla/stream_executor/cuda/cuda_gpu_executor.cc:981] could not open file to read NUMA node: /sys/bus/pci/devices/0000:01:00.0/numa_node\n",
      "Your kernel may have been built without NUMA support.\n",
      "2023-09-27 23:51:38.991629: I tensorflow/compiler/xla/stream_executor/cuda/cuda_gpu_executor.cc:981] could not open file to read NUMA node: /sys/bus/pci/devices/0000:01:00.0/numa_node\n",
      "Your kernel may have been built without NUMA support.\n",
      "2023-09-27 23:51:38.991746: I tensorflow/compiler/xla/stream_executor/cuda/cuda_gpu_executor.cc:981] could not open file to read NUMA node: /sys/bus/pci/devices/0000:01:00.0/numa_node\n",
      "Your kernel may have been built without NUMA support.\n",
      "2023-09-27 23:51:38.991783: I tensorflow/compiler/xla/stream_executor/cuda/cuda_gpu_executor.cc:981] could not open file to read NUMA node: /sys/bus/pci/devices/0000:01:00.0/numa_node\n",
      "Your kernel may have been built without NUMA support.\n",
      "2023-09-27 23:51:39.286922: I tensorflow/compiler/xla/stream_executor/cuda/cuda_gpu_executor.cc:981] could not open file to read NUMA node: /sys/bus/pci/devices/0000:01:00.0/numa_node\n",
      "Your kernel may have been built without NUMA support.\n",
      "2023-09-27 23:51:39.287000: I tensorflow/compiler/xla/stream_executor/cuda/cuda_gpu_executor.cc:981] could not open file to read NUMA node: /sys/bus/pci/devices/0000:01:00.0/numa_node\n",
      "Your kernel may have been built without NUMA support.\n",
      "2023-09-27 23:51:39.287010: I tensorflow/core/common_runtime/gpu/gpu_device.cc:1726] Could not identify NUMA node of platform GPU id 0, defaulting to 0.  Your kernel may not have been built with NUMA support.\n",
      "2023-09-27 23:51:39.287047: I tensorflow/compiler/xla/stream_executor/cuda/cuda_gpu_executor.cc:981] could not open file to read NUMA node: /sys/bus/pci/devices/0000:01:00.0/numa_node\n",
      "Your kernel may have been built without NUMA support.\n",
      "2023-09-27 23:51:39.287092: I tensorflow/core/common_runtime/gpu/gpu_device.cc:1639] Created device /job:localhost/replica:0/task:0/device:GPU:0 with 21784 MB memory:  -> device: 0, name: NVIDIA GeForce RTX 3090, pci bus id: 0000:01:00.0, compute capability: 8.6\n",
      "2023-09-27 23:51:55.832600: I tensorflow/compiler/xla/stream_executor/cuda/cuda_driver.cc:753] failed to allocate 21.27GiB (22842179584 bytes) from device: CUDA_ERROR_OUT_OF_MEMORY: out of memory\n"
     ]
    }
   ],
   "source": [
    "model_new = tf.keras.models.Sequential([\n",
    "    Conv2D(64,(5,5),padding='same',input_shape=(64,64,12)),\n",
    "    Conv2D(64,(5,5),padding='same'),\n",
    "    BatchNormalization(),\n",
    "    Activation('relu'),\n",
    "    MaxPooling2D(pool_size=(2,2)),\n",
    "    Dropout(0.5),\n",
    "\n",
    "    Conv2D(128,(5,5), padding='same'),\n",
    "    Conv2D(128,(5,5), padding='same'),\n",
    "    BatchNormalization(),\n",
    "    Activation('relu'),\n",
    "    MaxPooling2D(pool_size=(2,2),name='feature_layer'),\n",
    "    Dropout(0.5),\n",
    "\n",
    "    #We are naming this layer, as we will extract features from it in future, JUST WAIT !!!\n",
    "    Conv2D(256,(5,5), padding='same'),\n",
    "    Conv2D(256,(5,5), padding='same'),\n",
    "    BatchNormalization(),\n",
    "    Activation('relu'),\n",
    "    MaxPooling2D(pool_size=(2,2)),\n",
    "    #Flatten(),\n",
    "    #Dense(128),\n",
    "    Activation('relu'),\n",
    "    Dropout(0.5),\n",
    "    #Reshape((4,4,128)),\n",
    "    UpSampling2D((2,2)),\n",
    "    Conv2D(256,(5,5), padding='same'),\n",
    "    Conv2D(256,(5,5), padding='same'),\n",
    "    BatchNormalization(),\n",
    "    Activation('relu'),\n",
    "    UpSampling2D((2,2)),\n",
    "    Dropout(0.5),\n",
    "    Conv2D(128,(5,5), padding='same'),\n",
    "    Conv2D(128,(5,5), padding='same'),\n",
    "    BatchNormalization(),\n",
    "    Activation('relu'),\n",
    "    UpSampling2D((2,2)),\n",
    "    Dropout(0.5),\n",
    "    Conv2D(64,(5,5), padding='same'),\n",
    "    Conv2D(64,(5,5), padding='same'),\n",
    "    BatchNormalization(),\n",
    "    Activation('relu'),\n",
    "    Conv2D(7,3,padding='same'),\n",
    "    # model.add(Flatten())\n",
    "    # model.add(Dense(24))\n",
    "    # model.add(Activation('relu'))\n",
    "    # model.add(Dropout(0.5))\n",
    "    # model.add(Dense(6))\n",
    "    Activation('softmax'),\n",
    "])"
   ],
   "metadata": {
    "collapsed": false,
    "ExecuteTime": {
     "end_time": "2023-09-27T20:51:59.188860400Z",
     "start_time": "2023-09-27T20:51:37.611134400Z"
    }
   }
  },
  {
   "cell_type": "code",
   "execution_count": 16,
   "outputs": [
    {
     "ename": "NameError",
     "evalue": "name 'model_new' is not defined",
     "output_type": "error",
     "traceback": [
      "\u001B[0;31m---------------------------------------------------------------------------\u001B[0m",
      "\u001B[0;31mNameError\u001B[0m                                 Traceback (most recent call last)",
      "Cell \u001B[0;32mIn[16], line 1\u001B[0m\n\u001B[0;32m----> 1\u001B[0m \u001B[43mmodel_new\u001B[49m\u001B[38;5;241m.\u001B[39mcompile(loss\u001B[38;5;241m=\u001B[39m\u001B[38;5;124m'\u001B[39m\u001B[38;5;124mcategorical_crossentropy\u001B[39m\u001B[38;5;124m'\u001B[39m, optimizer\u001B[38;5;241m=\u001B[39m\u001B[38;5;124m'\u001B[39m\u001B[38;5;124mrmsprop\u001B[39m\u001B[38;5;124m'\u001B[39m, metrics\u001B[38;5;241m=\u001B[39m[\u001B[38;5;124m'\u001B[39m\u001B[38;5;124maccuracy\u001B[39m\u001B[38;5;124m'\u001B[39m,\u001B[38;5;124m'\u001B[39m\u001B[38;5;124mmse\u001B[39m\u001B[38;5;124m'\u001B[39m])\n\u001B[1;32m      2\u001B[0m model_new\u001B[38;5;241m.\u001B[39msummary()\n",
      "\u001B[0;31mNameError\u001B[0m: name 'model_new' is not defined"
     ]
    }
   ],
   "source": [
    "model_new.compile(loss='categorical_crossentropy', optimizer='rmsprop', metrics=['accuracy','mse'])\n",
    "model_new.summary()"
   ],
   "metadata": {
    "collapsed": false,
    "ExecuteTime": {
     "end_time": "2023-09-26T15:04:05.964251100Z",
     "start_time": "2023-09-26T15:04:05.919411100Z"
    }
   }
  },
  {
   "cell_type": "code",
   "execution_count": 20,
   "outputs": [],
   "source": [
    "from keras.preprocessing.image import ImageDataGenerator\n",
    "\n",
    "datagen = ImageDataGenerator(\n",
    "    rotation_range=70,      # Random rotations between 0 and 40 degrees\n",
    "    width_shift_range=0.2,  # Random horizontal shift up to 20%\n",
    "    height_shift_range=0.2, # Random vertical shift up to 20%\n",
    "    shear_range=0.2,        # Shear transformations\n",
    "    zoom_range=0.2,         # Random zooming up to 20%\n",
    "    horizontal_flip=True,   # Random horizontal flipping\n",
    "    fill_mode='nearest'     # How to fill missing pixels after transformation\n",
    ")"
   ],
   "metadata": {
    "collapsed": false,
    "ExecuteTime": {
     "end_time": "2023-09-24T08:02:39.929840300Z",
     "start_time": "2023-09-24T08:02:39.862167600Z"
    }
   }
  },
  {
   "cell_type": "code",
   "execution_count": 188,
   "outputs": [
    {
     "name": "stderr",
     "output_type": "stream",
     "text": [
      "2023-09-23 22:56:05.292375: W tensorflow/tsl/framework/cpu_allocator_impl.cc:83] Allocation of 556597248 exceeds 10% of free system memory.\n"
     ]
    },
    {
     "ename": "InvalidArgumentError",
     "evalue": "{{function_node __wrapped__Split_num_split_2264_device_/job:localhost/replica:0/task:0/device:GPU:0}} Number of ways to split should evenly divide the split dimension, but got split_dim 0 (size = 2831) and num_split 2264 [Op:Split] name: split",
     "output_type": "error",
     "traceback": [
      "\u001B[0;31m---------------------------------------------------------------------------\u001B[0m",
      "\u001B[0;31mInvalidArgumentError\u001B[0m                      Traceback (most recent call last)",
      "Cell \u001B[0;32mIn[188], line 7\u001B[0m\n\u001B[1;32m      3\u001B[0m num_to_train \u001B[38;5;241m=\u001B[39m \u001B[38;5;28mint\u001B[39m(x_data_cubes\u001B[38;5;241m.\u001B[39mshape[\u001B[38;5;241m0\u001B[39m]\u001B[38;5;241m*\u001B[39m\u001B[38;5;241m0.8\u001B[39m)\n\u001B[1;32m      5\u001B[0m \u001B[38;5;66;03m#x_train = x_data_cubes[:num_to_train,:,:,:]\u001B[39;00m\n\u001B[1;32m      6\u001B[0m \u001B[38;5;66;03m#y_train = y_data_cubes[:num_to_train,:,:]\u001B[39;00m\n\u001B[0;32m----> 7\u001B[0m x_train \u001B[38;5;241m=\u001B[39m \u001B[43mtf\u001B[49m\u001B[38;5;241;43m.\u001B[39;49m\u001B[43msplit\u001B[49m\u001B[43m(\u001B[49m\u001B[43mx_data_cubes\u001B[49m\u001B[43m,\u001B[49m\u001B[43m \u001B[49m\u001B[43mnum_to_train\u001B[49m\u001B[43m)\u001B[49m\n\u001B[1;32m      8\u001B[0m y_train \u001B[38;5;241m=\u001B[39m tf\u001B[38;5;241m.\u001B[39msplit(y_data_cubes, num_to_train)\n",
      "File \u001B[0;32m~/miniconda3/envs/segmentation-new/lib/python3.11/site-packages/tensorflow/python/util/traceback_utils.py:153\u001B[0m, in \u001B[0;36mfilter_traceback.<locals>.error_handler\u001B[0;34m(*args, **kwargs)\u001B[0m\n\u001B[1;32m    151\u001B[0m \u001B[38;5;28;01mexcept\u001B[39;00m \u001B[38;5;167;01mException\u001B[39;00m \u001B[38;5;28;01mas\u001B[39;00m e:\n\u001B[1;32m    152\u001B[0m   filtered_tb \u001B[38;5;241m=\u001B[39m _process_traceback_frames(e\u001B[38;5;241m.\u001B[39m__traceback__)\n\u001B[0;32m--> 153\u001B[0m   \u001B[38;5;28;01mraise\u001B[39;00m e\u001B[38;5;241m.\u001B[39mwith_traceback(filtered_tb) \u001B[38;5;28;01mfrom\u001B[39;00m \u001B[38;5;28;01mNone\u001B[39;00m\n\u001B[1;32m    154\u001B[0m \u001B[38;5;28;01mfinally\u001B[39;00m:\n\u001B[1;32m    155\u001B[0m   \u001B[38;5;28;01mdel\u001B[39;00m filtered_tb\n",
      "File \u001B[0;32m~/miniconda3/envs/segmentation-new/lib/python3.11/site-packages/tensorflow/python/framework/ops.py:6656\u001B[0m, in \u001B[0;36mraise_from_not_ok_status\u001B[0;34m(e, name)\u001B[0m\n\u001B[1;32m   6654\u001B[0m \u001B[38;5;28;01mdef\u001B[39;00m \u001B[38;5;21mraise_from_not_ok_status\u001B[39m(e, name):\n\u001B[1;32m   6655\u001B[0m   e\u001B[38;5;241m.\u001B[39mmessage \u001B[38;5;241m+\u001B[39m\u001B[38;5;241m=\u001B[39m (\u001B[38;5;124m\"\u001B[39m\u001B[38;5;124m name: \u001B[39m\u001B[38;5;124m\"\u001B[39m \u001B[38;5;241m+\u001B[39m \u001B[38;5;28mstr\u001B[39m(name \u001B[38;5;28;01mif\u001B[39;00m name \u001B[38;5;129;01mis\u001B[39;00m \u001B[38;5;129;01mnot\u001B[39;00m \u001B[38;5;28;01mNone\u001B[39;00m \u001B[38;5;28;01melse\u001B[39;00m \u001B[38;5;124m\"\u001B[39m\u001B[38;5;124m\"\u001B[39m))\n\u001B[0;32m-> 6656\u001B[0m   \u001B[38;5;28;01mraise\u001B[39;00m core\u001B[38;5;241m.\u001B[39m_status_to_exception(e) \u001B[38;5;28;01mfrom\u001B[39;00m \u001B[38;5;28;01mNone\u001B[39;00m\n",
      "\u001B[0;31mInvalidArgumentError\u001B[0m: {{function_node __wrapped__Split_num_split_2264_device_/job:localhost/replica:0/task:0/device:GPU:0}} Number of ways to split should evenly divide the split dimension, but got split_dim 0 (size = 2831) and num_split 2264 [Op:Split] name: split"
     ]
    }
   ],
   "source": [],
   "metadata": {
    "collapsed": false,
    "ExecuteTime": {
     "end_time": "2023-09-23T19:56:11.310078100Z",
     "start_time": "2023-09-23T19:56:01.400163500Z"
    }
   }
  },
  {
   "cell_type": "code",
   "execution_count": 21,
   "outputs": [
    {
     "name": "stderr",
     "output_type": "stream",
     "text": [
      "/home/andrew/miniconda3/envs/segmentation-new/lib/python3.11/site-packages/keras/src/preprocessing/image.py:766: UserWarning: NumpyArrayIterator is set to use the data format convention \"channels_last\" (channels on axis 3), i.e. expected either 1, 3, or 4 channels on axis 3. However, it was passed an array with shape (1, 64, 64, 12) (12 channels).\n",
      "  warnings.warn(\n"
     ]
    }
   ],
   "source": [
    "augmented_data = []\n",
    "\n",
    "for img in x_data_cubes:  # Assuming x_data is your numpy array\n",
    "    img = img.reshape((1,) + img.shape)  # Reshape image to (1, 64, 64, 12)\n",
    "    i = 0\n",
    "    for batch in datagen.flow(img, batch_size=1):  # Generate augmented images\n",
    "        augmented_data.append(batch[0])\n",
    "        i += 1\n",
    "        if i >= 2:  # Generate 3 augmented images for each original image\n",
    "            break\n",
    "\n",
    "# Convert the augmented data back to a numpy array\n",
    "augmented_data = np.array(augmented_data)\n"
   ],
   "metadata": {
    "collapsed": false,
    "ExecuteTime": {
     "end_time": "2023-09-24T08:02:58.206105300Z",
     "start_time": "2023-09-24T08:02:42.977949700Z"
    }
   }
  },
  {
   "cell_type": "code",
   "execution_count": 22,
   "outputs": [
    {
     "name": "stdout",
     "output_type": "stream",
     "text": [
      "Min 0.0 and max 1.5371034145355225\n"
     ]
    }
   ],
   "source": [
    "print(f\"Min {augmented_data.min()} and max {augmented_data.max()}\")"
   ],
   "metadata": {
    "collapsed": false,
    "ExecuteTime": {
     "end_time": "2023-09-24T08:03:11.528429600Z",
     "start_time": "2023-09-24T08:03:11.341122100Z"
    }
   }
  },
  {
   "cell_type": "code",
   "execution_count": 21,
   "outputs": [
    {
     "data": {
      "text/plain": "(2831, 64, 64, 12)"
     },
     "execution_count": 21,
     "metadata": {},
     "output_type": "execute_result"
    }
   ],
   "source": [
    "x_data_cubes.shape"
   ],
   "metadata": {
    "collapsed": false,
    "ExecuteTime": {
     "end_time": "2023-09-23T21:47:42.375471200Z",
     "start_time": "2023-09-23T21:47:42.365462500Z"
    }
   }
  },
  {
   "cell_type": "code",
   "execution_count": 21,
   "outputs": [],
   "source": [],
   "metadata": {
    "collapsed": false,
    "ExecuteTime": {
     "end_time": "2023-09-23T21:47:43.151098900Z",
     "start_time": "2023-09-23T21:47:43.142062800Z"
    }
   }
  },
  {
   "cell_type": "code",
   "execution_count": 23,
   "outputs": [],
   "source": [
    "x_data_combined = np.vstack((x_data_cubes, augmented_data))"
   ],
   "metadata": {
    "collapsed": false,
    "ExecuteTime": {
     "end_time": "2023-09-24T08:04:55.251506200Z",
     "start_time": "2023-09-24T08:04:53.216689200Z"
    }
   }
  },
  {
   "cell_type": "code",
   "execution_count": 24,
   "outputs": [],
   "source": [
    "x_data_mean = np.mean(x_data_combined)"
   ],
   "metadata": {
    "collapsed": false,
    "ExecuteTime": {
     "end_time": "2023-09-24T08:04:56.604350200Z",
     "start_time": "2023-09-24T08:04:56.438050600Z"
    }
   }
  },
  {
   "cell_type": "code",
   "execution_count": 25,
   "outputs": [],
   "source": [
    "x_data_std = np.std(x_data_combined)"
   ],
   "metadata": {
    "collapsed": false,
    "ExecuteTime": {
     "end_time": "2023-09-24T08:04:59.678192800Z",
     "start_time": "2023-09-24T08:04:57.203784Z"
    }
   }
  },
  {
   "cell_type": "code",
   "execution_count": 21,
   "outputs": [],
   "source": [
    "x_data_stadartized = x_data_cubes/x_data_cubes.max()"
   ],
   "metadata": {
    "collapsed": false,
    "ExecuteTime": {
     "end_time": "2023-09-28T09:53:03.067987200Z",
     "start_time": "2023-09-28T09:53:02.665461300Z"
    }
   }
  },
  {
   "cell_type": "code",
   "execution_count": 18,
   "outputs": [
    {
     "name": "stdout",
     "output_type": "stream",
     "text": [
      "Min 0.0 and max 1.0\n"
     ]
    }
   ],
   "source": [
    "print(f\"Min {x_data_stadartized.min()} and max {x_data_stadartized.max()}\")"
   ],
   "metadata": {
    "collapsed": false,
    "ExecuteTime": {
     "end_time": "2023-09-26T15:04:16.109673700Z",
     "start_time": "2023-09-26T15:04:15.978967400Z"
    }
   }
  },
  {
   "cell_type": "code",
   "execution_count": 18,
   "outputs": [
    {
     "ename": "NameError",
     "evalue": "name 'x_data_combined' is not defined",
     "output_type": "error",
     "traceback": [
      "\u001B[0;31m---------------------------------------------------------------------------\u001B[0m",
      "\u001B[0;31mNameError\u001B[0m                                 Traceback (most recent call last)",
      "Cell \u001B[0;32mIn[18], line 1\u001B[0m\n\u001B[0;32m----> 1\u001B[0m num_toextend \u001B[38;5;241m=\u001B[39m \u001B[43mx_data_combined\u001B[49m\u001B[38;5;241m.\u001B[39mshape[\u001B[38;5;241m0\u001B[39m]\u001B[38;5;241m/\u001B[39mx_data_cubes\u001B[38;5;241m.\u001B[39mshape[\u001B[38;5;241m0\u001B[39m]\n",
      "\u001B[0;31mNameError\u001B[0m: name 'x_data_combined' is not defined"
     ]
    }
   ],
   "source": [
    "num_toextend = x_data_combined.shape[0]/x_data_cubes.shape[0]"
   ],
   "metadata": {
    "collapsed": false,
    "ExecuteTime": {
     "end_time": "2023-09-24T15:34:29.700871900Z",
     "start_time": "2023-09-24T15:34:29.605662100Z"
    }
   }
  },
  {
   "cell_type": "code",
   "execution_count": 19,
   "outputs": [
    {
     "ename": "NameError",
     "evalue": "name 'num_toextend' is not defined",
     "output_type": "error",
     "traceback": [
      "\u001B[0;31m---------------------------------------------------------------------------\u001B[0m",
      "\u001B[0;31mNameError\u001B[0m                                 Traceback (most recent call last)",
      "Cell \u001B[0;32mIn[19], line 1\u001B[0m\n\u001B[0;32m----> 1\u001B[0m y_data_augmented \u001B[38;5;241m=\u001B[39m np\u001B[38;5;241m.\u001B[39mrepeat(y_data_cubes, \u001B[43mnum_toextend\u001B[49m, axis\u001B[38;5;241m=\u001B[39m\u001B[38;5;241m0\u001B[39m)\n",
      "\u001B[0;31mNameError\u001B[0m: name 'num_toextend' is not defined"
     ]
    }
   ],
   "source": [
    "y_data_augmented = np.repeat(y_data_cubes, num_toextend, axis=0)"
   ],
   "metadata": {
    "collapsed": false,
    "ExecuteTime": {
     "end_time": "2023-09-24T15:34:30.208607100Z",
     "start_time": "2023-09-24T15:34:30.163021Z"
    }
   }
  },
  {
   "cell_type": "code",
   "execution_count": 30,
   "outputs": [
    {
     "data": {
      "text/plain": "(8493, 64, 64)"
     },
     "execution_count": 30,
     "metadata": {},
     "output_type": "execute_result"
    }
   ],
   "source": [
    "y_data_augmented.shape"
   ],
   "metadata": {
    "collapsed": false,
    "ExecuteTime": {
     "end_time": "2023-09-24T08:05:15.925638Z",
     "start_time": "2023-09-24T08:05:15.876872600Z"
    }
   }
  },
  {
   "cell_type": "code",
   "execution_count": 22,
   "outputs": [],
   "source": [
    "y_data_train_cate = tf.keras.utils.to_categorical(y_data_cubes)"
   ],
   "metadata": {
    "collapsed": false,
    "ExecuteTime": {
     "end_time": "2023-09-28T09:53:09.900327800Z",
     "start_time": "2023-09-28T09:53:09.528777300Z"
    }
   }
  },
  {
   "cell_type": "code",
   "execution_count": 24,
   "outputs": [
    {
     "data": {
      "text/plain": "6"
     },
     "execution_count": 24,
     "metadata": {},
     "output_type": "execute_result"
    }
   ],
   "source": [
    "y_data_cubes.max()"
   ],
   "metadata": {
    "collapsed": false,
    "ExecuteTime": {
     "end_time": "2023-09-27T20:53:42.400631200Z",
     "start_time": "2023-09-27T20:53:42.315687Z"
    }
   }
  },
  {
   "cell_type": "code",
   "execution_count": 25,
   "outputs": [
    {
     "data": {
      "text/plain": "(2825, 64, 64, 7)"
     },
     "execution_count": 25,
     "metadata": {},
     "output_type": "execute_result"
    }
   ],
   "source": [
    "y_data_train_cate.shape"
   ],
   "metadata": {
    "collapsed": false,
    "ExecuteTime": {
     "end_time": "2023-09-27T20:53:42.764730700Z",
     "start_time": "2023-09-27T20:53:42.689828900Z"
    }
   }
  },
  {
   "cell_type": "code",
   "execution_count": 23,
   "outputs": [
    {
     "name": "stderr",
     "output_type": "stream",
     "text": [
      "2023-09-28 12:53:15.878845: I tensorflow/compiler/xla/stream_executor/cuda/cuda_gpu_executor.cc:981] could not open file to read NUMA node: /sys/bus/pci/devices/0000:01:00.0/numa_node\n",
      "Your kernel may have been built without NUMA support.\n",
      "2023-09-28 12:53:16.250263: I tensorflow/compiler/xla/stream_executor/cuda/cuda_gpu_executor.cc:981] could not open file to read NUMA node: /sys/bus/pci/devices/0000:01:00.0/numa_node\n",
      "Your kernel may have been built without NUMA support.\n",
      "2023-09-28 12:53:16.250330: I tensorflow/compiler/xla/stream_executor/cuda/cuda_gpu_executor.cc:981] could not open file to read NUMA node: /sys/bus/pci/devices/0000:01:00.0/numa_node\n",
      "Your kernel may have been built without NUMA support.\n",
      "2023-09-28 12:53:16.256027: I tensorflow/compiler/xla/stream_executor/cuda/cuda_gpu_executor.cc:981] could not open file to read NUMA node: /sys/bus/pci/devices/0000:01:00.0/numa_node\n",
      "Your kernel may have been built without NUMA support.\n",
      "2023-09-28 12:53:16.256114: I tensorflow/compiler/xla/stream_executor/cuda/cuda_gpu_executor.cc:981] could not open file to read NUMA node: /sys/bus/pci/devices/0000:01:00.0/numa_node\n",
      "Your kernel may have been built without NUMA support.\n",
      "2023-09-28 12:53:16.256161: I tensorflow/compiler/xla/stream_executor/cuda/cuda_gpu_executor.cc:981] could not open file to read NUMA node: /sys/bus/pci/devices/0000:01:00.0/numa_node\n",
      "Your kernel may have been built without NUMA support.\n",
      "2023-09-28 12:53:16.570894: I tensorflow/compiler/xla/stream_executor/cuda/cuda_gpu_executor.cc:981] could not open file to read NUMA node: /sys/bus/pci/devices/0000:01:00.0/numa_node\n",
      "Your kernel may have been built without NUMA support.\n",
      "2023-09-28 12:53:16.570975: I tensorflow/compiler/xla/stream_executor/cuda/cuda_gpu_executor.cc:981] could not open file to read NUMA node: /sys/bus/pci/devices/0000:01:00.0/numa_node\n",
      "Your kernel may have been built without NUMA support.\n",
      "2023-09-28 12:53:16.570985: I tensorflow/core/common_runtime/gpu/gpu_device.cc:1726] Could not identify NUMA node of platform GPU id 0, defaulting to 0.  Your kernel may not have been built with NUMA support.\n",
      "2023-09-28 12:53:16.571022: I tensorflow/compiler/xla/stream_executor/cuda/cuda_gpu_executor.cc:981] could not open file to read NUMA node: /sys/bus/pci/devices/0000:01:00.0/numa_node\n",
      "Your kernel may have been built without NUMA support.\n",
      "2023-09-28 12:53:16.571068: I tensorflow/core/common_runtime/gpu/gpu_device.cc:1639] Created device /job:localhost/replica:0/task:0/device:GPU:0 with 21784 MB memory:  -> device: 0, name: NVIDIA GeForce RTX 3090, pci bus id: 0000:01:00.0, compute capability: 8.6\n"
     ]
    }
   ],
   "source": [
    "tf_dataset = tf.data.Dataset.from_tensor_slices((x_data_stadartized, y_data_train_cate))"
   ],
   "metadata": {
    "collapsed": false,
    "ExecuteTime": {
     "end_time": "2023-09-28T09:53:25.092252800Z",
     "start_time": "2023-09-28T09:53:14.256117Z"
    }
   }
  },
  {
   "cell_type": "code",
   "execution_count": 24,
   "outputs": [],
   "source": [
    "DATASET_SIZE = x_data_cubes.shape[0]\n",
    "\n",
    "train_size = int(0.8 * DATASET_SIZE)\n",
    "val_size = int(0.1 * DATASET_SIZE)\n",
    "test_size = int(0.1 * DATASET_SIZE)\n",
    "\n",
    "tf_dataset = tf_dataset.shuffle(buffer_size=1000)\n",
    "train_dataset = tf_dataset.take(train_size)\n",
    "test_dataset = tf_dataset.skip(train_size)\n",
    "val_dataset = test_dataset.skip(test_size)\n",
    "test_dataset = test_dataset.take(test_size)"
   ],
   "metadata": {
    "collapsed": false,
    "ExecuteTime": {
     "end_time": "2023-09-28T09:53:27.586823400Z",
     "start_time": "2023-09-28T09:53:27.336703800Z"
    }
   }
  },
  {
   "cell_type": "code",
   "execution_count": 25,
   "outputs": [
    {
     "data": {
      "text/plain": "2260"
     },
     "execution_count": 25,
     "metadata": {},
     "output_type": "execute_result"
    }
   ],
   "source": [
    "train_size"
   ],
   "metadata": {
    "collapsed": false,
    "ExecuteTime": {
     "end_time": "2023-09-25T18:50:41.174153500Z",
     "start_time": "2023-09-25T18:50:41.140721900Z"
    }
   }
  },
  {
   "cell_type": "code",
   "execution_count": 25,
   "outputs": [],
   "source": [],
   "metadata": {
    "collapsed": false,
    "ExecuteTime": {
     "end_time": "2023-09-25T18:50:47.662087700Z",
     "start_time": "2023-09-25T18:50:47.544733100Z"
    }
   }
  },
  {
   "cell_type": "code",
   "execution_count": 25,
   "outputs": [],
   "source": [
    "train_dataset = train_dataset.shuffle(buffer_size=1000).batch(128).prefetch(buffer_size=tf.data.experimental.AUTOTUNE)"
   ],
   "metadata": {
    "collapsed": false,
    "ExecuteTime": {
     "end_time": "2023-09-28T09:53:31.890944600Z",
     "start_time": "2023-09-28T09:53:31.836281600Z"
    }
   }
  },
  {
   "cell_type": "code",
   "execution_count": 26,
   "outputs": [
    {
     "ename": "NameError",
     "evalue": "name 'model_new' is not defined",
     "output_type": "error",
     "traceback": [
      "\u001B[0;31m---------------------------------------------------------------------------\u001B[0m",
      "\u001B[0;31mNameError\u001B[0m                                 Traceback (most recent call last)",
      "Cell \u001B[0;32mIn[26], line 1\u001B[0m\n\u001B[0;32m----> 1\u001B[0m history2 \u001B[38;5;241m=\u001B[39m \u001B[43mmodel_new\u001B[49m\u001B[38;5;241m.\u001B[39mfit(train_dataset, epochs\u001B[38;5;241m=\u001B[39m\u001B[38;5;241m600\u001B[39m)\n",
      "\u001B[0;31mNameError\u001B[0m: name 'model_new' is not defined"
     ]
    }
   ],
   "source": [
    "history2 = model_new.fit(train_dataset, epochs=600)"
   ],
   "metadata": {
    "collapsed": false,
    "ExecuteTime": {
     "end_time": "2023-09-28T09:53:32.951963400Z",
     "start_time": "2023-09-28T09:53:32.889480600Z"
    }
   }
  },
  {
   "cell_type": "code",
   "execution_count": 36,
   "outputs": [
    {
     "name": "stderr",
     "output_type": "stream",
     "text": [
      "2023-09-24 00:51:23.413826: W tensorflow/tsl/framework/cpu_allocator_impl.cc:83] Allocation of 1669791744 exceeds 10% of free system memory.\n"
     ]
    },
    {
     "ename": "ValueError",
     "evalue": "in user code:\n\n    File \"/home/andrew/miniconda3/envs/segmentation-new/lib/python3.11/site-packages/keras/src/engine/training.py\", line 2341, in predict_function  *\n        return step_function(self, iterator)\n    File \"/home/andrew/miniconda3/envs/segmentation-new/lib/python3.11/site-packages/keras/src/engine/training.py\", line 2327, in step_function  **\n        outputs = model.distribute_strategy.run(run_step, args=(data,))\n    File \"/home/andrew/miniconda3/envs/segmentation-new/lib/python3.11/site-packages/keras/src/engine/training.py\", line 2315, in run_step  **\n        outputs = model.predict_step(data)\n    File \"/home/andrew/miniconda3/envs/segmentation-new/lib/python3.11/site-packages/keras/src/engine/training.py\", line 2283, in predict_step\n        return self(x, training=False)\n    File \"/home/andrew/miniconda3/envs/segmentation-new/lib/python3.11/site-packages/keras/src/utils/traceback_utils.py\", line 70, in error_handler\n        raise e.with_traceback(filtered_tb) from None\n    File \"/home/andrew/miniconda3/envs/segmentation-new/lib/python3.11/site-packages/keras/src/engine/input_spec.py\", line 298, in assert_input_compatibility\n        raise ValueError(\n\n    ValueError: Input 0 of layer \"sequential\" is incompatible with the layer: expected shape=(None, 64, 64, 12), found shape=(32, 64, 12)\n",
     "output_type": "error",
     "traceback": [
      "\u001B[0;31m---------------------------------------------------------------------------\u001B[0m",
      "\u001B[0;31mValueError\u001B[0m                                Traceback (most recent call last)",
      "Cell \u001B[0;32mIn[36], line 2\u001B[0m\n\u001B[1;32m      1\u001B[0m testtt, \u001B[38;5;241m=\u001B[39m test_dataset\u001B[38;5;241m.\u001B[39mtake(\u001B[38;5;241m1\u001B[39m)\n\u001B[0;32m----> 2\u001B[0m pred_res \u001B[38;5;241m=\u001B[39m \u001B[43mmodel_new\u001B[49m\u001B[38;5;241;43m.\u001B[39;49m\u001B[43mpredict\u001B[49m\u001B[43m(\u001B[49m\u001B[43mtesttt\u001B[49m\u001B[43m[\u001B[49m\u001B[38;5;241;43m0\u001B[39;49m\u001B[43m]\u001B[49m\u001B[43m)\u001B[49m\n",
      "File \u001B[0;32m~/miniconda3/envs/segmentation-new/lib/python3.11/site-packages/keras/src/utils/traceback_utils.py:70\u001B[0m, in \u001B[0;36mfilter_traceback.<locals>.error_handler\u001B[0;34m(*args, **kwargs)\u001B[0m\n\u001B[1;32m     67\u001B[0m     filtered_tb \u001B[38;5;241m=\u001B[39m _process_traceback_frames(e\u001B[38;5;241m.\u001B[39m__traceback__)\n\u001B[1;32m     68\u001B[0m     \u001B[38;5;66;03m# To get the full stack trace, call:\u001B[39;00m\n\u001B[1;32m     69\u001B[0m     \u001B[38;5;66;03m# `tf.debugging.disable_traceback_filtering()`\u001B[39;00m\n\u001B[0;32m---> 70\u001B[0m     \u001B[38;5;28;01mraise\u001B[39;00m e\u001B[38;5;241m.\u001B[39mwith_traceback(filtered_tb) \u001B[38;5;28;01mfrom\u001B[39;00m \u001B[38;5;28;01mNone\u001B[39;00m\n\u001B[1;32m     71\u001B[0m \u001B[38;5;28;01mfinally\u001B[39;00m:\n\u001B[1;32m     72\u001B[0m     \u001B[38;5;28;01mdel\u001B[39;00m filtered_tb\n",
      "File \u001B[0;32m/tmp/__autograph_generated_filefodt11vv.py:15\u001B[0m, in \u001B[0;36mouter_factory.<locals>.inner_factory.<locals>.tf__predict_function\u001B[0;34m(iterator)\u001B[0m\n\u001B[1;32m     13\u001B[0m \u001B[38;5;28;01mtry\u001B[39;00m:\n\u001B[1;32m     14\u001B[0m     do_return \u001B[38;5;241m=\u001B[39m \u001B[38;5;28;01mTrue\u001B[39;00m\n\u001B[0;32m---> 15\u001B[0m     retval_ \u001B[38;5;241m=\u001B[39m ag__\u001B[38;5;241m.\u001B[39mconverted_call(ag__\u001B[38;5;241m.\u001B[39mld(step_function), (ag__\u001B[38;5;241m.\u001B[39mld(\u001B[38;5;28mself\u001B[39m), ag__\u001B[38;5;241m.\u001B[39mld(iterator)), \u001B[38;5;28;01mNone\u001B[39;00m, fscope)\n\u001B[1;32m     16\u001B[0m \u001B[38;5;28;01mexcept\u001B[39;00m:\n\u001B[1;32m     17\u001B[0m     do_return \u001B[38;5;241m=\u001B[39m \u001B[38;5;28;01mFalse\u001B[39;00m\n",
      "\u001B[0;31mValueError\u001B[0m: in user code:\n\n    File \"/home/andrew/miniconda3/envs/segmentation-new/lib/python3.11/site-packages/keras/src/engine/training.py\", line 2341, in predict_function  *\n        return step_function(self, iterator)\n    File \"/home/andrew/miniconda3/envs/segmentation-new/lib/python3.11/site-packages/keras/src/engine/training.py\", line 2327, in step_function  **\n        outputs = model.distribute_strategy.run(run_step, args=(data,))\n    File \"/home/andrew/miniconda3/envs/segmentation-new/lib/python3.11/site-packages/keras/src/engine/training.py\", line 2315, in run_step  **\n        outputs = model.predict_step(data)\n    File \"/home/andrew/miniconda3/envs/segmentation-new/lib/python3.11/site-packages/keras/src/engine/training.py\", line 2283, in predict_step\n        return self(x, training=False)\n    File \"/home/andrew/miniconda3/envs/segmentation-new/lib/python3.11/site-packages/keras/src/utils/traceback_utils.py\", line 70, in error_handler\n        raise e.with_traceback(filtered_tb) from None\n    File \"/home/andrew/miniconda3/envs/segmentation-new/lib/python3.11/site-packages/keras/src/engine/input_spec.py\", line 298, in assert_input_compatibility\n        raise ValueError(\n\n    ValueError: Input 0 of layer \"sequential\" is incompatible with the layer: expected shape=(None, 64, 64, 12), found shape=(32, 64, 12)\n"
     ]
    }
   ],
   "source": [
    "testtt, = test_dataset.take(1)\n",
    "pred_res = model_new.predict(testtt[0])"
   ],
   "metadata": {
    "collapsed": false,
    "ExecuteTime": {
     "end_time": "2023-09-23T21:51:25.247926200Z",
     "start_time": "2023-09-23T21:51:23.412549700Z"
    }
   }
  },
  {
   "cell_type": "code",
   "execution_count": 80,
   "outputs": [
    {
     "ename": "ValueError",
     "evalue": "too many values to unpack (expected 1)",
     "output_type": "error",
     "traceback": [
      "\u001B[0;31m---------------------------------------------------------------------------\u001B[0m",
      "\u001B[0;31mValueError\u001B[0m                                Traceback (most recent call last)",
      "Cell \u001B[0;32mIn[80], line 1\u001B[0m\n\u001B[0;32m----> 1\u001B[0m test_x, \u001B[38;5;241m=\u001B[39m test_dataset\u001B[38;5;241m.\u001B[39mtake(\u001B[38;5;241m2\u001B[39m)\n",
      "\u001B[0;31mValueError\u001B[0m: too many values to unpack (expected 1)"
     ]
    }
   ],
   "source": [],
   "metadata": {
    "collapsed": false,
    "ExecuteTime": {
     "end_time": "2023-09-23T20:52:53.578344900Z",
     "start_time": "2023-09-23T20:52:52.138705100Z"
    }
   }
  },
  {
   "cell_type": "code",
   "execution_count": 79,
   "outputs": [
    {
     "data": {
      "text/plain": "(<tf.Tensor: shape=(64, 64, 12), dtype=float32, numpy=\n array([[[0.0356, 0.0502, 0.0618, ..., 0.2688, 0.1903, 0.1742],\n         [0.0356, 0.0495, 0.0607, ..., 0.2708, 0.1914, 0.1816],\n         [0.0353, 0.0448, 0.0566, ..., 0.269 , 0.1929, 0.1856],\n         ...,\n         [0.0256, 0.033 , 0.0442, ..., 0.2079, 0.1384, 0.1532],\n         [0.026 , 0.0334, 0.0433, ..., 0.2054, 0.1357, 0.158 ],\n         [0.0264, 0.0311, 0.0441, ..., 0.2047, 0.1328, 0.1665]],\n \n        [[0.0268, 0.0339, 0.0458, ..., 0.2059, 0.1295, 0.1783],\n         [0.0271, 0.0371, 0.0455, ..., 0.2072, 0.13  , 0.1784],\n         [0.0275, 0.0364, 0.0472, ..., 0.2087, 0.1342, 0.1677],\n         ...,\n         [0.034 , 0.0371, 0.0452, ..., 0.2251, 0.1537, 0.1754],\n         [0.0335, 0.0383, 0.0441, ..., 0.2211, 0.1517, 0.162 ],\n         [0.0329, 0.0375, 0.0449, ..., 0.2243, 0.1516, 0.1733]],\n \n        [[0.0323, 0.04  , 0.0526, ..., 0.2329, 0.1564, 0.1829],\n         [0.0315, 0.0413, 0.0532, ..., 0.2431, 0.1629, 0.1913],\n         [0.0307, 0.0482, 0.0596, ..., 0.2342, 0.1555, 0.1933],\n         ...,\n         [0.0336, 0.0462, 0.061 , ..., 0.2606, 0.1783, 0.1966],\n         [0.0339, 0.047 , 0.064 , ..., 0.2638, 0.1786, 0.2015],\n         [0.0343, 0.046 , 0.0578, ..., 0.2662, 0.1835, 0.2006]],\n \n        ...,\n \n        [[0.0345, 0.0491, 0.0571, ..., 0.2676, 0.2012, 0.1704],\n         [0.0343, 0.0482, 0.0596, ..., 0.2684, 0.2016, 0.1709],\n         [0.034 , 0.0438, 0.0592, ..., 0.2644, 0.1959, 0.1704],\n         ...,\n         [0.0213, 0.0247, 0.0403, ..., 0.1691, 0.082 , 0.3227],\n         [0.022 , 0.0293, 0.0526, ..., 0.1741, 0.0857, 0.2694],\n         [0.0228, 0.0283, 0.0476, ..., 0.1868, 0.0991, 0.2477]],\n \n        [[0.0238, 0.0298, 0.0416, ..., 0.2046, 0.1187, 0.2437],\n         [0.0248, 0.0393, 0.0531, ..., 0.2232, 0.1364, 0.2293],\n         [0.0258, 0.035 , 0.0505, ..., 0.2363, 0.1493, 0.2135],\n         ...,\n         [0.0317, 0.0348, 0.0543, ..., 0.2294, 0.1326, 0.2377],\n         [0.0312, 0.0386, 0.0536, ..., 0.2342, 0.1415, 0.2085],\n         [0.0308, 0.0378, 0.0557, ..., 0.2345, 0.1459, 0.1867]],\n \n        [[0.0305, 0.0363, 0.0551, ..., 0.2255, 0.1393, 0.1816],\n         [0.0303, 0.0357, 0.0492, ..., 0.2249, 0.1372, 0.193 ],\n         [0.0303, 0.0376, 0.0565, ..., 0.2329, 0.1393, 0.2212],\n         ...,\n         [0.0341, 0.048 , 0.0584, ..., 0.2757, 0.2104, 0.1705],\n         [0.0341, 0.0486, 0.0568, ..., 0.2746, 0.2103, 0.1729],\n         [0.0341, 0.0464, 0.0563, ..., 0.2721, 0.2098, 0.171 ]]],\n       dtype=float32)>,\n <tf.Tensor: shape=(64, 64, 6), dtype=float32, numpy=\n array([[[1., 0., 0., 0., 0., 0.],\n         [1., 0., 0., 0., 0., 0.],\n         [1., 0., 0., 0., 0., 0.],\n         ...,\n         [1., 0., 0., 0., 0., 0.],\n         [1., 0., 0., 0., 0., 0.],\n         [1., 0., 0., 0., 0., 0.]],\n \n        [[1., 0., 0., 0., 0., 0.],\n         [1., 0., 0., 0., 0., 0.],\n         [1., 0., 0., 0., 0., 0.],\n         ...,\n         [1., 0., 0., 0., 0., 0.],\n         [1., 0., 0., 0., 0., 0.],\n         [1., 0., 0., 0., 0., 0.]],\n \n        [[1., 0., 0., 0., 0., 0.],\n         [1., 0., 0., 0., 0., 0.],\n         [1., 0., 0., 0., 0., 0.],\n         ...,\n         [1., 0., 0., 0., 0., 0.],\n         [1., 0., 0., 0., 0., 0.],\n         [1., 0., 0., 0., 0., 0.]],\n \n        ...,\n \n        [[1., 0., 0., 0., 0., 0.],\n         [1., 0., 0., 0., 0., 0.],\n         [1., 0., 0., 0., 0., 0.],\n         ...,\n         [1., 0., 0., 0., 0., 0.],\n         [1., 0., 0., 0., 0., 0.],\n         [1., 0., 0., 0., 0., 0.]],\n \n        [[1., 0., 0., 0., 0., 0.],\n         [1., 0., 0., 0., 0., 0.],\n         [1., 0., 0., 0., 0., 0.],\n         ...,\n         [1., 0., 0., 0., 0., 0.],\n         [1., 0., 0., 0., 0., 0.],\n         [1., 0., 0., 0., 0., 0.]],\n \n        [[1., 0., 0., 0., 0., 0.],\n         [1., 0., 0., 0., 0., 0.],\n         [1., 0., 0., 0., 0., 0.],\n         ...,\n         [1., 0., 0., 0., 0., 0.],\n         [1., 0., 0., 0., 0., 0.],\n         [1., 0., 0., 0., 0., 0.]]], dtype=float32)>)"
     },
     "execution_count": 79,
     "metadata": {},
     "output_type": "execute_result"
    }
   ],
   "source": [
    "test_x"
   ],
   "metadata": {
    "collapsed": false,
    "ExecuteTime": {
     "end_time": "2023-09-23T20:52:39.671439Z",
     "start_time": "2023-09-23T20:52:39.648887500Z"
    }
   }
  },
  {
   "cell_type": "code",
   "execution_count": 27,
   "outputs": [],
   "source": [
    "x_tt = []\n",
    "y_tt = []\n",
    "\n",
    "for x,y in train_dataset:\n",
    "    x_tt.append(x.numpy())\n",
    "    y_tt.append(y.numpy())"
   ],
   "metadata": {
    "collapsed": false,
    "ExecuteTime": {
     "end_time": "2023-09-25T18:51:10.325722200Z",
     "start_time": "2023-09-25T18:51:08.989114500Z"
    }
   }
  },
  {
   "cell_type": "code",
   "execution_count": 28,
   "outputs": [],
   "source": [
    "x_ttt = np.concatenate(x_tt)"
   ],
   "metadata": {
    "collapsed": false,
    "ExecuteTime": {
     "end_time": "2023-09-25T18:51:11.358425Z",
     "start_time": "2023-09-25T18:51:11.004741100Z"
    }
   }
  },
  {
   "cell_type": "code",
   "execution_count": 29,
   "outputs": [],
   "source": [
    "y_ttt = np.concatenate(y_tt)"
   ],
   "metadata": {
    "collapsed": false,
    "ExecuteTime": {
     "end_time": "2023-09-25T18:51:11.570311Z",
     "start_time": "2023-09-25T18:51:11.332619100Z"
    }
   }
  },
  {
   "cell_type": "code",
   "execution_count": 31,
   "outputs": [
    {
     "data": {
      "text/plain": "(2260, 64, 64, 12)"
     },
     "execution_count": 31,
     "metadata": {},
     "output_type": "execute_result"
    }
   ],
   "source": [
    "x_ttt.shape"
   ],
   "metadata": {
    "collapsed": false,
    "ExecuteTime": {
     "end_time": "2023-09-24T14:48:50.125209900Z",
     "start_time": "2023-09-24T14:48:49.975059700Z"
    }
   }
  },
  {
   "cell_type": "code",
   "execution_count": 105,
   "outputs": [
    {
     "data": {
      "text/plain": "(2260, 64, 64, 7)"
     },
     "execution_count": 105,
     "metadata": {},
     "output_type": "execute_result"
    }
   ],
   "source": [
    "y_ttt.shape"
   ],
   "metadata": {
    "collapsed": false,
    "ExecuteTime": {
     "end_time": "2023-09-24T08:39:33.972138500Z",
     "start_time": "2023-09-24T08:39:33.940855300Z"
    }
   }
  },
  {
   "cell_type": "code",
   "execution_count": 106,
   "outputs": [
    {
     "name": "stdout",
     "output_type": "stream",
     "text": [
      "71/71 [==============================] - 2s 27ms/step\n"
     ]
    }
   ],
   "source": [
    "ffff = model_new.predict(x_ttt)"
   ],
   "metadata": {
    "collapsed": false,
    "ExecuteTime": {
     "end_time": "2023-09-24T08:39:38.805726900Z",
     "start_time": "2023-09-24T08:39:34.732037200Z"
    }
   }
  },
  {
   "cell_type": "code",
   "execution_count": 26,
   "outputs": [],
   "source": [
    "y_tttt = tf.argmax(y_ttt, axis=-1).numpy().flatten()"
   ],
   "metadata": {
    "collapsed": false,
    "ExecuteTime": {
     "end_time": "2023-09-24T19:36:29.804263Z",
     "start_time": "2023-09-24T19:36:29.628813Z"
    }
   }
  },
  {
   "cell_type": "code",
   "execution_count": 108,
   "outputs": [],
   "source": [
    "fff_t = tf.argmax(ffff, axis=-1).numpy().flatten()"
   ],
   "metadata": {
    "collapsed": false,
    "ExecuteTime": {
     "end_time": "2023-09-24T08:39:41.425068100Z",
     "start_time": "2023-09-24T08:39:41.383230Z"
    }
   }
  },
  {
   "cell_type": "code",
   "execution_count": 109,
   "outputs": [
    {
     "data": {
      "text/plain": "0.9917584174502212"
     },
     "execution_count": 109,
     "metadata": {},
     "output_type": "execute_result"
    }
   ],
   "source": [
    "from sklearn.metrics import accuracy_score, classification_report\n",
    "\n",
    "accuracy_score(y_tttt, fff_t)"
   ],
   "metadata": {
    "collapsed": false,
    "ExecuteTime": {
     "end_time": "2023-09-24T08:39:43.254014400Z",
     "start_time": "2023-09-24T08:39:41.861253Z"
    }
   }
  },
  {
   "cell_type": "code",
   "execution_count": 32,
   "outputs": [
    {
     "ename": "NameError",
     "evalue": "name 'model_new' is not defined",
     "output_type": "error",
     "traceback": [
      "\u001B[0;31m---------------------------------------------------------------------------\u001B[0m",
      "\u001B[0;31mNameError\u001B[0m                                 Traceback (most recent call last)",
      "Cell \u001B[0;32mIn[32], line 1\u001B[0m\n\u001B[0;32m----> 1\u001B[0m \u001B[43mmodel_new\u001B[49m\u001B[38;5;241m.\u001B[39msave(\u001B[38;5;124m\"\u001B[39m\u001B[38;5;124mdataset6_new_1.keras\u001B[39m\u001B[38;5;124m\"\u001B[39m)\n",
      "\u001B[0;31mNameError\u001B[0m: name 'model_new' is not defined"
     ]
    }
   ],
   "source": [
    "model_new.save(\"dataset6_new_1.keras\")"
   ],
   "metadata": {
    "collapsed": false,
    "ExecuteTime": {
     "end_time": "2023-09-24T14:48:54.006447700Z",
     "start_time": "2023-09-24T14:48:53.946469600Z"
    }
   }
  },
  {
   "cell_type": "code",
   "execution_count": 33,
   "outputs": [],
   "source": [
    "##TEST"
   ],
   "metadata": {
    "collapsed": false,
    "ExecuteTime": {
     "end_time": "2023-09-24T14:48:54.505818900Z",
     "start_time": "2023-09-24T14:48:54.452712500Z"
    }
   }
  },
  {
   "cell_type": "code",
   "execution_count": 27,
   "outputs": [
    {
     "data": {
      "text/plain": "['/mnt/d/shared_folder/test_images2/2022-08-24-00_00_2022-08-24-23_59_Sentinel-2_L2A_B01_(Raw).tiff',\n '/mnt/d/shared_folder/test_images2/2022-08-24-00_00_2022-08-24-23_59_Sentinel-2_L2A_B02_(Raw).tiff',\n '/mnt/d/shared_folder/test_images2/2022-08-24-00_00_2022-08-24-23_59_Sentinel-2_L2A_B03_(Raw).tiff',\n '/mnt/d/shared_folder/test_images2/2022-08-24-00_00_2022-08-24-23_59_Sentinel-2_L2A_B04_(Raw).tiff',\n '/mnt/d/shared_folder/test_images2/2022-08-24-00_00_2022-08-24-23_59_Sentinel-2_L2A_B05_(Raw).tiff',\n '/mnt/d/shared_folder/test_images2/2022-08-24-00_00_2022-08-24-23_59_Sentinel-2_L2A_B06_(Raw).tiff',\n '/mnt/d/shared_folder/test_images2/2022-08-24-00_00_2022-08-24-23_59_Sentinel-2_L2A_B07_(Raw).tiff',\n '/mnt/d/shared_folder/test_images2/2022-08-24-00_00_2022-08-24-23_59_Sentinel-2_L2A_B08_(Raw).tiff',\n '/mnt/d/shared_folder/test_images2/2022-08-24-00_00_2022-08-24-23_59_Sentinel-2_L2A_B09_(Raw).tiff',\n '/mnt/d/shared_folder/test_images2/2022-08-24-00_00_2022-08-24-23_59_Sentinel-2_L2A_B11_(Raw).tiff',\n '/mnt/d/shared_folder/test_images2/2022-08-24-00_00_2022-08-24-23_59_Sentinel-2_L2A_B12_(Raw).tiff',\n '/mnt/d/shared_folder/test_images2/2022-08-24-00_00_2022-08-24-23_59_Sentinel-2_L2A_B8A_(Raw).tiff']"
     },
     "execution_count": 27,
     "metadata": {},
     "output_type": "execute_result"
    }
   ],
   "source": [
    "from glob import glob\n",
    "image_bands_1 = glob(\"/mnt/d/shared_folder/test_images2/*B?*.tiff\", recursive=True)\n",
    "image_bands_1.sort()\n",
    "image_bands_1"
   ],
   "metadata": {
    "collapsed": false,
    "ExecuteTime": {
     "end_time": "2023-09-28T09:53:44.573758300Z",
     "start_time": "2023-09-28T09:53:44.404937600Z"
    }
   }
  },
  {
   "cell_type": "code",
   "execution_count": 28,
   "outputs": [],
   "source": [
    "import rasterio as rio\n",
    "\n",
    "test_imgs_list = []\n",
    "\n",
    "for tst_img in image_bands_1:\n",
    "    with rio.open(tst_img, 'r') as img_file:\n",
    "        img_array = img_file.read(1)\n",
    "        test_imgs_list.append(img_array)\n",
    "\n",
    "test_imgs_array = np.asarray(test_imgs_list)"
   ],
   "metadata": {
    "collapsed": false,
    "ExecuteTime": {
     "end_time": "2023-09-28T09:53:48.265370300Z",
     "start_time": "2023-09-28T09:53:46.323277500Z"
    }
   }
  },
  {
   "cell_type": "code",
   "execution_count": 31,
   "outputs": [
    {
     "name": "stdout",
     "output_type": "stream",
     "text": [
      "Min 0.0 and max 0.7232000231742859\n"
     ]
    }
   ],
   "source": [
    "print(f\"Min {test_imgs_array.min()} and max {test_imgs_array.max()}\")"
   ],
   "metadata": {
    "collapsed": false,
    "ExecuteTime": {
     "end_time": "2023-09-24T15:03:08.458752Z",
     "start_time": "2023-09-24T15:03:08.383795800Z"
    }
   }
  },
  {
   "cell_type": "code",
   "execution_count": 28,
   "outputs": [
    {
     "name": "stdout",
     "output_type": "stream",
     "text": [
      "x: 9 y: 17\n"
     ]
    }
   ],
   "source": [
    "def createImageCubes(img_array, blk_width, blk_height):\n",
    "    arrray = []\n",
    "    imageShape = img_array.shape\n",
    "    for w in range(0, imageShape[0], blk_width):\n",
    "        for h in range(0, imageShape[1], blk_height):\n",
    "            arrr = img_array[w:w + blk_width, h:h + blk_height]\n",
    "            arrray.append(np.asarray(arrr))\n",
    "    return np.asarray(arrray)\n",
    "\n",
    "\n",
    "test_image_shape = test_imgs_array[0].shape\n",
    "test_image_shape\n",
    "import math\n",
    "\n",
    "test_image_shape_0_parts = math.floor(test_image_shape[0] / 64)\n",
    "test_image_shape_1_parts = math.floor(test_image_shape[1] / 64)\n",
    "print(f\"x: {test_image_shape_0_parts} y: {test_image_shape_1_parts}\")\n",
    "\n",
    "test_imgs_fixed_list = []\n",
    "for img in test_imgs_array:\n",
    "    test_img_fixed_new = img[:64*test_image_shape_0_parts, :64*test_image_shape_1_parts]\n",
    "    test_imgs_fixed_list.append(test_img_fixed_new)\n",
    "test_imgs_fixed_array = np.asarray(test_imgs_fixed_list)\n"
   ],
   "metadata": {
    "collapsed": false,
    "ExecuteTime": {
     "end_time": "2023-09-24T15:35:20.336682400Z",
     "start_time": "2023-09-24T15:35:20.293666400Z"
    }
   }
  },
  {
   "cell_type": "code",
   "execution_count": 29,
   "outputs": [],
   "source": [
    "cubes_list = []\n",
    "for lstt in test_imgs_fixed_array:\n",
    "    cubes = createImageCubes(lstt,64,64)\n",
    "    cubes_list.append(cubes)\n",
    "cubes_array = np.asarray(cubes_list)"
   ],
   "metadata": {
    "collapsed": false,
    "ExecuteTime": {
     "end_time": "2023-09-24T15:35:21.223556500Z",
     "start_time": "2023-09-24T15:35:21.156032800Z"
    }
   }
  },
  {
   "cell_type": "code",
   "execution_count": 30,
   "outputs": [],
   "source": [
    "cubes_array = np.moveaxis(cubes_array, 0, 3)"
   ],
   "metadata": {
    "collapsed": false,
    "ExecuteTime": {
     "end_time": "2023-09-24T15:35:21.754967100Z",
     "start_time": "2023-09-24T15:35:21.702112500Z"
    }
   }
  },
  {
   "cell_type": "code",
   "execution_count": 31,
   "outputs": [],
   "source": [
    "cubes_array = cubes_array/x_data_cubes.max()"
   ],
   "metadata": {
    "collapsed": false,
    "ExecuteTime": {
     "end_time": "2023-09-24T15:35:22.722473400Z",
     "start_time": "2023-09-24T15:35:22.509959500Z"
    }
   }
  },
  {
   "cell_type": "code",
   "execution_count": 41,
   "outputs": [
    {
     "ename": "NameError",
     "evalue": "name 'model_new' is not defined",
     "output_type": "error",
     "traceback": [
      "\u001B[0;31m---------------------------------------------------------------------------\u001B[0m",
      "\u001B[0;31mNameError\u001B[0m                                 Traceback (most recent call last)",
      "Cell \u001B[0;32mIn[41], line 1\u001B[0m\n\u001B[0;32m----> 1\u001B[0m resss \u001B[38;5;241m=\u001B[39m \u001B[43mmodel_new\u001B[49m\u001B[38;5;241m.\u001B[39mpredict(cubes_array)\n",
      "\u001B[0;31mNameError\u001B[0m: name 'model_new' is not defined"
     ]
    }
   ],
   "source": [
    "resss = model_new.predict(cubes_array)"
   ],
   "metadata": {
    "collapsed": false,
    "ExecuteTime": {
     "end_time": "2023-09-24T14:49:13.573775500Z",
     "start_time": "2023-09-24T14:49:13.520650400Z"
    }
   }
  },
  {
   "cell_type": "code",
   "execution_count": 118,
   "outputs": [],
   "source": [
    "resss_pred = tf.argmax(resss, axis=-1).numpy()"
   ],
   "metadata": {
    "collapsed": false,
    "ExecuteTime": {
     "end_time": "2023-09-24T08:40:05.478130200Z",
     "start_time": "2023-09-24T08:40:05.439698500Z"
    }
   }
  },
  {
   "cell_type": "code",
   "execution_count": 119,
   "outputs": [],
   "source": [
    "def imageFromCube(cubes, imageWidth, imageHeight):\n",
    "    arrrr = np.empty((imageWidth, imageHeight,12))\n",
    "    cubesShape = cubes.shape\n",
    "    items_per_row = int(imageWidth/cubesShape[1])\n",
    "    items_per_col = int(imageHeight/cubesShape[2])\n",
    "    for el in range(0,cubesShape[0]):\n",
    "        num_row = int(el/items_per_col)\n",
    "        num_col = int(el%items_per_col)\n",
    "        #print(\"Row: \", num_row, \" column: \", num_col)\n",
    "        for i in range(0,cubesShape[1]):\n",
    "            for j in range(0, cubesShape[2]):\n",
    "                x = int(i+num_row*cubesShape[1])\n",
    "                y = int(j+num_col*cubesShape[2])\n",
    "                #print(\"X: \", x, \" Y: \", y)\n",
    "                arrrr[x,y] = cubes[el,i,j]\n",
    "        #arrrr[num_row, num_col] = cubes[el,:, :, :]\n",
    "        #num_col = int(int(el*cubesShape[1]%imageWidth)/imageHeight)\n",
    "    return arrrr"
   ],
   "metadata": {
    "collapsed": false,
    "ExecuteTime": {
     "end_time": "2023-09-24T08:40:06.287198100Z",
     "start_time": "2023-09-24T08:40:06.280191900Z"
    }
   }
  },
  {
   "cell_type": "code",
   "execution_count": 120,
   "outputs": [],
   "source": [
    "resss_img = imageFromCube(resss_pred,576,1088)"
   ],
   "metadata": {
    "collapsed": false,
    "ExecuteTime": {
     "end_time": "2023-09-24T08:40:08.753646500Z",
     "start_time": "2023-09-24T08:40:08.157281100Z"
    }
   }
  },
  {
   "cell_type": "code",
   "execution_count": 121,
   "outputs": [
    {
     "data": {
      "text/plain": "<Figure size 1200x1200 with 2 Axes>",
      "image/png": "[encoded data removed]"
     },
     "metadata": {},
     "output_type": "display_data"
    },
    {
     "data": {
      "text/plain": "<Axes: >"
     },
     "execution_count": 121,
     "metadata": {},
     "output_type": "execute_result"
    }
   ],
   "source": [
    "from matplotlib.colors import ListedColormap\n",
    "import earthpy.plot as ep\n",
    "\n",
    "ep.plot_bands(resss_img[:,:,0],\n",
    "              cmap=ListedColormap(['green', 'purple', 'orange', 'blue', 'yellow']))"
   ],
   "metadata": {
    "collapsed": false,
    "ExecuteTime": {
     "end_time": "2023-09-24T08:40:09.504606100Z",
     "start_time": "2023-09-24T08:40:09.310486900Z"
    }
   }
  },
  {
   "cell_type": "code",
   "execution_count": 122,
   "outputs": [
    {
     "data": {
      "text/plain": "{'water': 1, 'forest': 2, 'fields': 3, 'city': 4, 'sands': 5, 'mountains': 6}"
     },
     "execution_count": 122,
     "metadata": {},
     "output_type": "execute_result"
    }
   ],
   "source": [
    "categories_map"
   ],
   "metadata": {
    "collapsed": false,
    "ExecuteTime": {
     "end_time": "2023-09-24T08:42:09.711211100Z",
     "start_time": "2023-09-24T08:42:09.614148900Z"
    }
   }
  },
  {
   "cell_type": "markdown",
   "source": [
    "### TRY to use naive bayes"
   ],
   "metadata": {
    "collapsed": false
   }
  },
  {
   "cell_type": "code",
   "execution_count": 40,
   "outputs": [],
   "source": [
    "import layers.naive_bayes\n",
    "importlib.reload(layers.naive_bayes)\n",
    "# from keras.models import Model, save_model\n",
    "# from keras.layers import Input\n",
    "\n",
    "# Create the model\n",
    "# model_new_1 = tf.keras.models.Sequential()\n",
    "# model_new_1.add(tf.keras.models.InputLayer(shape=(12,)))  # Input layer\n",
    "# model_new_1.add(layers.naive_bayes.MultiClassNaiveBayesLayer(num_features=12, num_of_categories=7))  # Naive Bayes layer\n",
    "# model_new_1.add(tf.keras.models.Softmax())  #\n",
    "\n",
    "model_new_gnb = tf.keras.models.Sequential([\n",
    "    layers.naive_bayes.MultiClassNaiveBayesLayer(num_features=12, num_of_categories=6, input_shape=(12,)),\n",
    "    Activation(\"softmax\")\n",
    "    ])\n",
    "\n",
    "# Assuming you've trained or set the weights, you can then save the model:\n",
    "#save_model(model, 'naive_bayes_model.h5')"
   ],
   "metadata": {
    "collapsed": false,
    "ExecuteTime": {
     "end_time": "2023-09-28T09:55:32.100954600Z",
     "start_time": "2023-09-28T09:55:31.699342200Z"
    }
   }
  },
  {
   "cell_type": "code",
   "execution_count": 33,
   "outputs": [
    {
     "name": "stdout",
     "output_type": "stream",
     "text": [
      "Model: \"sequential\"\n",
      "_________________________________________________________________\n",
      " Layer (type)                Output Shape              Param #   \n",
      "=================================================================\n",
      " multi_class_naive_bayes_la  (None, 6)                 144       \n",
      " yer (MultiClassNaiveBayesL                                      \n",
      " ayer)                                                           \n",
      "                                                                 \n",
      " activation (Activation)     (None, 6)                 0         \n",
      "                                                                 \n",
      "=================================================================\n",
      "Total params: 144 (576.00 Byte)\n",
      "Trainable params: 0 (0.00 Byte)\n",
      "Non-trainable params: 144 (576.00 Byte)\n",
      "_________________________________________________________________\n"
     ]
    }
   ],
   "source": [
    "model_new_gnb.compile(loss='categorical_crossentropy', optimizer='adam', metrics=['accuracy','mse'])\n",
    "model_new_gnb.summary()"
   ],
   "metadata": {
    "collapsed": false,
    "ExecuteTime": {
     "end_time": "2023-09-26T15:08:21.026724200Z",
     "start_time": "2023-09-26T15:08:20.885516700Z"
    }
   }
  },
  {
   "cell_type": "code",
   "execution_count": 29,
   "outputs": [],
   "source": [
    "x_tain_1 = []\n",
    "y_train_1 = []\n",
    "\n",
    "for x_d, y_d in train_dataset:\n",
    "    x_tain_1.append(x_d.numpy())\n",
    "    y_train_1.append((y_d.numpy()))\n",
    "\n",
    "x_train_11 = np.concatenate(x_tain_1)\n",
    "y_train_11 = np.concatenate(y_train_1)"
   ],
   "metadata": {
    "collapsed": false,
    "ExecuteTime": {
     "end_time": "2023-09-28T09:54:05.521749Z",
     "start_time": "2023-09-28T09:54:03.613843Z"
    }
   }
  },
  {
   "cell_type": "code",
   "execution_count": 30,
   "outputs": [
    {
     "data": {
      "text/plain": "(2260, 64, 64, 7)"
     },
     "execution_count": 30,
     "metadata": {},
     "output_type": "execute_result"
    }
   ],
   "source": [
    "y_train_11.shape"
   ],
   "metadata": {
    "collapsed": false,
    "ExecuteTime": {
     "end_time": "2023-09-28T09:54:05.629925600Z",
     "start_time": "2023-09-28T09:54:05.521749Z"
    }
   }
  },
  {
   "cell_type": "code",
   "execution_count": 31,
   "outputs": [],
   "source": [
    "x_train_111 = x_train_11.reshape(x_train_11.shape[0]*x_train_11.shape[1]*x_train_11.shape[2],12)\n",
    "y_train_111 = y_train_11.reshape(x_train_11.shape[0]*x_train_11.shape[1]*x_train_11.shape[2],7)"
   ],
   "metadata": {
    "collapsed": false,
    "ExecuteTime": {
     "end_time": "2023-09-28T09:54:05.659998800Z",
     "start_time": "2023-09-28T09:54:05.573258600Z"
    }
   }
  },
  {
   "cell_type": "code",
   "execution_count": 169,
   "outputs": [
    {
     "data": {
      "text/plain": "array([[[[0., 1., 0., ..., 0., 0., 0.],\n         [0., 1., 0., ..., 0., 0., 0.],\n         [0., 1., 0., ..., 0., 0., 0.],\n         ...,\n         [0., 1., 0., ..., 0., 0., 0.],\n         [0., 1., 0., ..., 0., 0., 0.],\n         [0., 1., 0., ..., 0., 0., 0.]],\n\n        [[0., 1., 0., ..., 0., 0., 0.],\n         [0., 1., 0., ..., 0., 0., 0.],\n         [0., 1., 0., ..., 0., 0., 0.],\n         ...,\n         [0., 1., 0., ..., 0., 0., 0.],\n         [0., 1., 0., ..., 0., 0., 0.],\n         [0., 1., 0., ..., 0., 0., 0.]],\n\n        [[0., 1., 0., ..., 0., 0., 0.],\n         [0., 1., 0., ..., 0., 0., 0.],\n         [0., 1., 0., ..., 0., 0., 0.],\n         ...,\n         [0., 1., 0., ..., 0., 0., 0.],\n         [0., 1., 0., ..., 0., 0., 0.],\n         [0., 1., 0., ..., 0., 0., 0.]],\n\n        ...,\n\n        [[0., 1., 0., ..., 0., 0., 0.],\n         [0., 1., 0., ..., 0., 0., 0.],\n         [0., 1., 0., ..., 0., 0., 0.],\n         ...,\n         [0., 1., 0., ..., 0., 0., 0.],\n         [0., 1., 0., ..., 0., 0., 0.],\n         [0., 1., 0., ..., 0., 0., 0.]],\n\n        [[0., 1., 0., ..., 0., 0., 0.],\n         [0., 1., 0., ..., 0., 0., 0.],\n         [0., 1., 0., ..., 0., 0., 0.],\n         ...,\n         [0., 1., 0., ..., 0., 0., 0.],\n         [0., 1., 0., ..., 0., 0., 0.],\n         [0., 1., 0., ..., 0., 0., 0.]],\n\n        [[0., 1., 0., ..., 0., 0., 0.],\n         [0., 1., 0., ..., 0., 0., 0.],\n         [0., 1., 0., ..., 0., 0., 0.],\n         ...,\n         [0., 1., 0., ..., 0., 0., 0.],\n         [0., 1., 0., ..., 0., 0., 0.],\n         [0., 1., 0., ..., 0., 0., 0.]]],\n\n\n       [[[0., 1., 0., ..., 0., 0., 0.],\n         [0., 1., 0., ..., 0., 0., 0.],\n         [0., 1., 0., ..., 0., 0., 0.],\n         ...,\n         [0., 1., 0., ..., 0., 0., 0.],\n         [0., 1., 0., ..., 0., 0., 0.],\n         [0., 1., 0., ..., 0., 0., 0.]],\n\n        [[0., 1., 0., ..., 0., 0., 0.],\n         [0., 1., 0., ..., 0., 0., 0.],\n         [0., 1., 0., ..., 0., 0., 0.],\n         ...,\n         [0., 1., 0., ..., 0., 0., 0.],\n         [0., 1., 0., ..., 0., 0., 0.],\n         [0., 1., 0., ..., 0., 0., 0.]],\n\n        [[0., 1., 0., ..., 0., 0., 0.],\n         [0., 1., 0., ..., 0., 0., 0.],\n         [0., 1., 0., ..., 0., 0., 0.],\n         ...,\n         [0., 1., 0., ..., 0., 0., 0.],\n         [0., 1., 0., ..., 0., 0., 0.],\n         [0., 1., 0., ..., 0., 0., 0.]],\n\n        ...,\n\n        [[0., 1., 0., ..., 0., 0., 0.],\n         [0., 1., 0., ..., 0., 0., 0.],\n         [0., 1., 0., ..., 0., 0., 0.],\n         ...,\n         [0., 1., 0., ..., 0., 0., 0.],\n         [0., 1., 0., ..., 0., 0., 0.],\n         [0., 1., 0., ..., 0., 0., 0.]],\n\n        [[0., 1., 0., ..., 0., 0., 0.],\n         [0., 1., 0., ..., 0., 0., 0.],\n         [0., 1., 0., ..., 0., 0., 0.],\n         ...,\n         [0., 1., 0., ..., 0., 0., 0.],\n         [0., 1., 0., ..., 0., 0., 0.],\n         [0., 1., 0., ..., 0., 0., 0.]],\n\n        [[0., 1., 0., ..., 0., 0., 0.],\n         [0., 1., 0., ..., 0., 0., 0.],\n         [0., 1., 0., ..., 0., 0., 0.],\n         ...,\n         [0., 1., 0., ..., 0., 0., 0.],\n         [0., 1., 0., ..., 0., 0., 0.],\n         [0., 1., 0., ..., 0., 0., 0.]]],\n\n\n       [[[0., 1., 0., ..., 0., 0., 0.],\n         [0., 1., 0., ..., 0., 0., 0.],\n         [0., 1., 0., ..., 0., 0., 0.],\n         ...,\n         [0., 1., 0., ..., 0., 0., 0.],\n         [0., 1., 0., ..., 0., 0., 0.],\n         [0., 1., 0., ..., 0., 0., 0.]],\n\n        [[0., 1., 0., ..., 0., 0., 0.],\n         [0., 1., 0., ..., 0., 0., 0.],\n         [0., 1., 0., ..., 0., 0., 0.],\n         ...,\n         [0., 1., 0., ..., 0., 0., 0.],\n         [0., 1., 0., ..., 0., 0., 0.],\n         [0., 1., 0., ..., 0., 0., 0.]],\n\n        [[0., 1., 0., ..., 0., 0., 0.],\n         [0., 1., 0., ..., 0., 0., 0.],\n         [0., 1., 0., ..., 0., 0., 0.],\n         ...,\n         [0., 1., 0., ..., 0., 0., 0.],\n         [0., 1., 0., ..., 0., 0., 0.],\n         [0., 1., 0., ..., 0., 0., 0.]],\n\n        ...,\n\n        [[0., 1., 0., ..., 0., 0., 0.],\n         [0., 1., 0., ..., 0., 0., 0.],\n         [0., 1., 0., ..., 0., 0., 0.],\n         ...,\n         [0., 1., 0., ..., 0., 0., 0.],\n         [0., 1., 0., ..., 0., 0., 0.],\n         [0., 1., 0., ..., 0., 0., 0.]],\n\n        [[0., 1., 0., ..., 0., 0., 0.],\n         [0., 1., 0., ..., 0., 0., 0.],\n         [0., 1., 0., ..., 0., 0., 0.],\n         ...,\n         [0., 1., 0., ..., 0., 0., 0.],\n         [0., 1., 0., ..., 0., 0., 0.],\n         [0., 1., 0., ..., 0., 0., 0.]],\n\n        [[0., 1., 0., ..., 0., 0., 0.],\n         [0., 1., 0., ..., 0., 0., 0.],\n         [0., 1., 0., ..., 0., 0., 0.],\n         ...,\n         [0., 1., 0., ..., 0., 0., 0.],\n         [0., 1., 0., ..., 0., 0., 0.],\n         [0., 1., 0., ..., 0., 0., 0.]]],\n\n\n       ...,\n\n\n       [[[0., 1., 0., ..., 0., 0., 0.],\n         [0., 1., 0., ..., 0., 0., 0.],\n         [0., 1., 0., ..., 0., 0., 0.],\n         ...,\n         [0., 1., 0., ..., 0., 0., 0.],\n         [0., 1., 0., ..., 0., 0., 0.],\n         [0., 1., 0., ..., 0., 0., 0.]],\n\n        [[0., 1., 0., ..., 0., 0., 0.],\n         [0., 1., 0., ..., 0., 0., 0.],\n         [0., 1., 0., ..., 0., 0., 0.],\n         ...,\n         [0., 1., 0., ..., 0., 0., 0.],\n         [0., 1., 0., ..., 0., 0., 0.],\n         [0., 1., 0., ..., 0., 0., 0.]],\n\n        [[0., 1., 0., ..., 0., 0., 0.],\n         [0., 1., 0., ..., 0., 0., 0.],\n         [0., 1., 0., ..., 0., 0., 0.],\n         ...,\n         [0., 1., 0., ..., 0., 0., 0.],\n         [0., 1., 0., ..., 0., 0., 0.],\n         [0., 1., 0., ..., 0., 0., 0.]],\n\n        ...,\n\n        [[0., 1., 0., ..., 0., 0., 0.],\n         [0., 1., 0., ..., 0., 0., 0.],\n         [0., 1., 0., ..., 0., 0., 0.],\n         ...,\n         [0., 1., 0., ..., 0., 0., 0.],\n         [0., 1., 0., ..., 0., 0., 0.],\n         [0., 1., 0., ..., 0., 0., 0.]],\n\n        [[0., 1., 0., ..., 0., 0., 0.],\n         [0., 1., 0., ..., 0., 0., 0.],\n         [0., 1., 0., ..., 0., 0., 0.],\n         ...,\n         [0., 1., 0., ..., 0., 0., 0.],\n         [0., 1., 0., ..., 0., 0., 0.],\n         [0., 1., 0., ..., 0., 0., 0.]],\n\n        [[0., 1., 0., ..., 0., 0., 0.],\n         [0., 1., 0., ..., 0., 0., 0.],\n         [0., 1., 0., ..., 0., 0., 0.],\n         ...,\n         [0., 1., 0., ..., 0., 0., 0.],\n         [0., 1., 0., ..., 0., 0., 0.],\n         [0., 1., 0., ..., 0., 0., 0.]]],\n\n\n       [[[0., 1., 0., ..., 0., 0., 0.],\n         [0., 1., 0., ..., 0., 0., 0.],\n         [0., 1., 0., ..., 0., 0., 0.],\n         ...,\n         [0., 1., 0., ..., 0., 0., 0.],\n         [0., 1., 0., ..., 0., 0., 0.],\n         [0., 1., 0., ..., 0., 0., 0.]],\n\n        [[0., 1., 0., ..., 0., 0., 0.],\n         [0., 1., 0., ..., 0., 0., 0.],\n         [0., 1., 0., ..., 0., 0., 0.],\n         ...,\n         [0., 1., 0., ..., 0., 0., 0.],\n         [0., 1., 0., ..., 0., 0., 0.],\n         [0., 1., 0., ..., 0., 0., 0.]],\n\n        [[0., 1., 0., ..., 0., 0., 0.],\n         [0., 1., 0., ..., 0., 0., 0.],\n         [0., 1., 0., ..., 0., 0., 0.],\n         ...,\n         [0., 1., 0., ..., 0., 0., 0.],\n         [0., 1., 0., ..., 0., 0., 0.],\n         [0., 1., 0., ..., 0., 0., 0.]],\n\n        ...,\n\n        [[0., 1., 0., ..., 0., 0., 0.],\n         [0., 1., 0., ..., 0., 0., 0.],\n         [0., 1., 0., ..., 0., 0., 0.],\n         ...,\n         [0., 1., 0., ..., 0., 0., 0.],\n         [0., 1., 0., ..., 0., 0., 0.],\n         [0., 1., 0., ..., 0., 0., 0.]],\n\n        [[0., 1., 0., ..., 0., 0., 0.],\n         [0., 1., 0., ..., 0., 0., 0.],\n         [0., 1., 0., ..., 0., 0., 0.],\n         ...,\n         [0., 1., 0., ..., 0., 0., 0.],\n         [0., 1., 0., ..., 0., 0., 0.],\n         [0., 1., 0., ..., 0., 0., 0.]],\n\n        [[0., 1., 0., ..., 0., 0., 0.],\n         [0., 1., 0., ..., 0., 0., 0.],\n         [0., 1., 0., ..., 0., 0., 0.],\n         ...,\n         [0., 1., 0., ..., 0., 0., 0.],\n         [0., 1., 0., ..., 0., 0., 0.],\n         [0., 1., 0., ..., 0., 0., 0.]]],\n\n\n       [[[0., 0., 0., ..., 0., 1., 0.],\n         [0., 0., 0., ..., 0., 1., 0.],\n         [0., 0., 0., ..., 0., 1., 0.],\n         ...,\n         [0., 0., 0., ..., 0., 1., 0.],\n         [0., 0., 0., ..., 0., 1., 0.],\n         [0., 0., 0., ..., 0., 1., 0.]],\n\n        [[0., 0., 0., ..., 0., 1., 0.],\n         [0., 0., 0., ..., 0., 1., 0.],\n         [0., 0., 0., ..., 0., 1., 0.],\n         ...,\n         [0., 0., 0., ..., 0., 1., 0.],\n         [0., 0., 0., ..., 0., 1., 0.],\n         [0., 0., 0., ..., 0., 1., 0.]],\n\n        [[0., 0., 0., ..., 0., 1., 0.],\n         [0., 0., 0., ..., 0., 1., 0.],\n         [0., 0., 0., ..., 0., 1., 0.],\n         ...,\n         [0., 0., 0., ..., 0., 1., 0.],\n         [0., 0., 0., ..., 0., 1., 0.],\n         [0., 0., 0., ..., 0., 1., 0.]],\n\n        ...,\n\n        [[0., 0., 0., ..., 0., 1., 0.],\n         [0., 0., 0., ..., 0., 1., 0.],\n         [0., 0., 0., ..., 0., 1., 0.],\n         ...,\n         [0., 0., 0., ..., 0., 1., 0.],\n         [0., 0., 0., ..., 0., 1., 0.],\n         [0., 0., 0., ..., 0., 1., 0.]],\n\n        [[0., 0., 0., ..., 0., 1., 0.],\n         [0., 0., 0., ..., 0., 1., 0.],\n         [0., 0., 0., ..., 0., 1., 0.],\n         ...,\n         [0., 0., 0., ..., 0., 1., 0.],\n         [0., 0., 0., ..., 0., 1., 0.],\n         [0., 0., 0., ..., 0., 1., 0.]],\n\n        [[0., 0., 0., ..., 0., 1., 0.],\n         [0., 0., 0., ..., 0., 1., 0.],\n         [0., 0., 0., ..., 0., 1., 0.],\n         ...,\n         [0., 0., 0., ..., 0., 1., 0.],\n         [0., 0., 0., ..., 0., 1., 0.],\n         [0., 0., 0., ..., 0., 1., 0.]]]], dtype=float32)"
     },
     "execution_count": 169,
     "metadata": {},
     "output_type": "execute_result"
    }
   ],
   "source": [
    "y_train_11"
   ],
   "metadata": {
    "collapsed": false,
    "ExecuteTime": {
     "end_time": "2023-09-24T10:16:52.036396600Z",
     "start_time": "2023-09-24T10:16:51.998443900Z"
    }
   }
  },
  {
   "cell_type": "code",
   "execution_count": 175,
   "outputs": [
    {
     "data": {
      "text/plain": "(9256960, 7)"
     },
     "execution_count": 175,
     "metadata": {},
     "output_type": "execute_result"
    }
   ],
   "source": [
    "y_train_111.shape"
   ],
   "metadata": {
    "collapsed": false,
    "ExecuteTime": {
     "end_time": "2023-09-24T10:19:45.900876200Z",
     "start_time": "2023-09-24T10:19:45.810669200Z"
    }
   }
  },
  {
   "cell_type": "code",
   "execution_count": 163,
   "outputs": [
    {
     "name": "stdout",
     "output_type": "stream",
     "text": [
      "7232/7232 [==============================] - 56s 8ms/step - loss: 1.9460 - accuracy: 0.0000e+00 - mse: 0.1224 - val_loss: 1.9459 - val_accuracy: 0.0000e+00 - val_mse: 0.1225\n"
     ]
    }
   ],
   "source": [
    "#bayes_h = model_new_gnb.fit(x_train_111, y_train_111, epochs=1,batch_size=1024, validation_split=0.2)"
   ],
   "metadata": {
    "collapsed": false,
    "ExecuteTime": {
     "end_time": "2023-09-24T10:13:53.124756800Z",
     "start_time": "2023-09-24T10:12:55.813252600Z"
    }
   }
  },
  {
   "cell_type": "code",
   "execution_count": 194,
   "outputs": [
    {
     "data": {
      "text/plain": "(9256960, 7)"
     },
     "execution_count": 194,
     "metadata": {},
     "output_type": "execute_result"
    }
   ],
   "source": [
    "y_train_111.shape"
   ],
   "metadata": {
    "collapsed": false,
    "ExecuteTime": {
     "end_time": "2023-09-24T10:37:40.279506400Z",
     "start_time": "2023-09-24T10:37:40.232114500Z"
    }
   }
  },
  {
   "cell_type": "code",
   "execution_count": 32,
   "outputs": [],
   "source": [
    "y_int_labels = np.argmax(y_train_111, axis=-1)\n",
    "y_int_labels = y_int_labels-1\n",
    "means = []\n",
    "variances = []\n",
    "\n",
    "num_classes = 6  # or however many you have\n",
    "\n",
    "for i in range(num_classes):\n",
    "    means.append(np.mean(x_train_111[y_int_labels == i], axis=0))\n",
    "    variances.append(np.var(x_train_111[y_int_labels == i], axis=0))\n",
    "\n",
    "means = np.array(means)\n",
    "variances = np.array(variances)"
   ],
   "metadata": {
    "collapsed": false,
    "ExecuteTime": {
     "end_time": "2023-09-27T20:54:23.041801600Z",
     "start_time": "2023-09-27T20:54:20.321228300Z"
    }
   }
  },
  {
   "cell_type": "code",
   "execution_count": 33,
   "outputs": [
    {
     "ename": "NameError",
     "evalue": "name 'x_ttt' is not defined",
     "output_type": "error",
     "traceback": [
      "\u001B[0;31m---------------------------------------------------------------------------\u001B[0m",
      "\u001B[0;31mNameError\u001B[0m                                 Traceback (most recent call last)",
      "Cell \u001B[0;32mIn[33], line 1\u001B[0m\n\u001B[0;32m----> 1\u001B[0m x_tttt \u001B[38;5;241m=\u001B[39m \u001B[43mx_ttt\u001B[49m\u001B[38;5;241m.\u001B[39mreshape(x_ttt\u001B[38;5;241m.\u001B[39mshape[\u001B[38;5;241m0\u001B[39m]\u001B[38;5;241m*\u001B[39mx_ttt\u001B[38;5;241m.\u001B[39mshape[\u001B[38;5;241m1\u001B[39m]\u001B[38;5;241m*\u001B[39mx_ttt\u001B[38;5;241m.\u001B[39mshape[\u001B[38;5;241m2\u001B[39m],\u001B[38;5;241m12\u001B[39m)\n",
      "\u001B[0;31mNameError\u001B[0m: name 'x_ttt' is not defined"
     ]
    }
   ],
   "source": [
    "x_tttt = x_ttt.reshape(x_ttt.shape[0]*x_ttt.shape[1]*x_ttt.shape[2],12)"
   ],
   "metadata": {
    "collapsed": false,
    "ExecuteTime": {
     "end_time": "2023-09-27T20:54:23.151767Z",
     "start_time": "2023-09-27T20:54:23.035265600Z"
    }
   }
  },
  {
   "cell_type": "code",
   "execution_count": 225,
   "outputs": [],
   "source": [
    "means[0,:] = 0"
   ],
   "metadata": {
    "collapsed": false,
    "ExecuteTime": {
     "end_time": "2023-09-24T10:51:13.523462300Z",
     "start_time": "2023-09-24T10:51:13.480892500Z"
    }
   }
  },
  {
   "cell_type": "code",
   "execution_count": 226,
   "outputs": [],
   "source": [
    "variances[0,:] = 0"
   ],
   "metadata": {
    "collapsed": false,
    "ExecuteTime": {
     "end_time": "2023-09-24T10:51:15.389102300Z",
     "start_time": "2023-09-24T10:51:15.339124800Z"
    }
   }
  },
  {
   "cell_type": "code",
   "execution_count": 246,
   "outputs": [
    {
     "data": {
      "text/plain": "array([[          nan,           nan,           nan,           nan,\n                  nan,           nan,           nan,           nan,\n                  nan,           nan,           nan,           nan],\n       [7.5072714e-04, 7.1359624e-04, 1.3902313e-03, 3.0582945e-03,\n        3.5373361e-03, 1.4280407e-03, 1.3056325e-03, 1.2161554e-03,\n        9.1588026e-04, 3.5124566e-04, 2.8814946e-04, 9.3785825e-04],\n       [1.3390444e-05, 1.6815497e-05, 2.4349943e-05, 2.9035853e-05,\n        5.9771624e-05, 3.3204668e-04, 6.1731291e-04, 7.5976737e-04,\n        5.8099267e-04, 2.6931742e-04, 9.9144927e-05, 7.7060715e-04],\n       [6.6382570e-05, 1.2958462e-04, 2.0797949e-04, 4.5792671e-04,\n        4.7978957e-04, 7.9541467e-04, 1.0104702e-03, 1.1524193e-03,\n        1.0566724e-03, 1.0603979e-03, 1.2097897e-03, 1.1417950e-03],\n       [2.3635397e-04, 5.0459383e-04, 5.1512226e-04, 6.4966630e-04,\n        4.8016667e-04, 7.2053948e-04, 9.7518112e-04, 1.3310516e-03,\n        9.1753475e-04, 1.0548948e-03, 8.7359938e-04, 1.1406080e-03],\n       [4.4157662e-04, 1.1091701e-03, 2.9202562e-03, 6.7251748e-03,\n        7.5777322e-03, 6.4148903e-03, 6.6822055e-03, 6.4525362e-03,\n        5.9128515e-03, 1.0920437e-02, 1.2780761e-02, 6.2963488e-03]],\n      dtype=float32)"
     },
     "execution_count": 246,
     "metadata": {},
     "output_type": "execute_result"
    }
   ],
   "source": [
    "variances"
   ],
   "metadata": {
    "collapsed": false,
    "ExecuteTime": {
     "end_time": "2023-09-24T10:55:55.024695300Z",
     "start_time": "2023-09-24T10:55:54.949663Z"
    }
   }
  },
  {
   "cell_type": "code",
   "execution_count": 239,
   "outputs": [
    {
     "data": {
      "text/plain": "array([[0.02915865, 0.03312196, 0.03894535, 0.03473867, 0.03876298,\n        0.02387872, 0.02318608, 0.0209069 , 0.01605026, 0.01059942,\n        0.00965033, 0.01814351],\n       [0.01150276, 0.01467091, 0.02134492, 0.01352438, 0.03531998,\n        0.10759359, 0.13688509, 0.14326456, 0.15282534, 0.07436027,\n        0.03238188, 0.15238105],\n       [0.0272764 , 0.03468506, 0.04632021, 0.05880858, 0.07405695,\n        0.09216123, 0.10208715, 0.11047029, 0.1162836 , 0.15326554,\n        0.12305496, 0.1156451 ],\n       [0.03545165, 0.04030988, 0.04910934, 0.05284545, 0.06868093,\n        0.09916554, 0.11136083, 0.11593673, 0.12217683, 0.12035356,\n        0.09544441, 0.12089972],\n       [0.09082571, 0.11970866, 0.17434332, 0.23805812, 0.26639113,\n        0.27266017, 0.28622344, 0.29023218, 0.3006949 , 0.3668648 ,\n        0.3540075 , 0.29408118],\n       [0.03951728, 0.04714312, 0.06380208, 0.07952226, 0.09414418,\n        0.10468826, 0.11244895, 0.12240051, 0.1254742 , 0.20080724,\n        0.16093574, 0.12367606]], dtype=float32)"
     },
     "execution_count": 239,
     "metadata": {},
     "output_type": "execute_result"
    }
   ],
   "source": [
    "means"
   ],
   "metadata": {
    "collapsed": false,
    "ExecuteTime": {
     "end_time": "2023-09-24T10:53:22.021224500Z",
     "start_time": "2023-09-24T10:53:21.953632400Z"
    }
   }
  },
  {
   "cell_type": "code",
   "execution_count": 197,
   "outputs": [
    {
     "data": {
      "text/plain": "[<layers.naive_bayes.MultiClassNaiveBayesLayer at 0x7fb7161a3050>,\n <keras.src.layers.core.activation.Activation at 0x7fb6d8f8e550>]"
     },
     "execution_count": 197,
     "metadata": {},
     "output_type": "execute_result"
    }
   ],
   "source": [
    "model_new_gnb.layers"
   ],
   "metadata": {
    "collapsed": false,
    "ExecuteTime": {
     "end_time": "2023-09-24T10:38:52.152184100Z",
     "start_time": "2023-09-24T10:38:52.090895500Z"
    }
   }
  },
  {
   "cell_type": "code",
   "execution_count": 36,
   "outputs": [],
   "source": [
    "model_new_gnb.layers[0].set_weights([means, variances])"
   ],
   "metadata": {
    "collapsed": false,
    "ExecuteTime": {
     "end_time": "2023-09-25T18:58:20.488784Z",
     "start_time": "2023-09-25T18:58:20.449871700Z"
    }
   }
  },
  {
   "cell_type": "code",
   "execution_count": 261,
   "outputs": [],
   "source": [
    "model_new_gnb.save(\"model_gnb.keras\")"
   ],
   "metadata": {
    "collapsed": false,
    "ExecuteTime": {
     "end_time": "2023-09-24T11:04:14.683760400Z",
     "start_time": "2023-09-24T11:04:14.624153600Z"
    }
   }
  },
  {
   "cell_type": "code",
   "execution_count": 32,
   "outputs": [],
   "source": [
    "x_tests = []\n",
    "y_tests = []\n",
    "\n",
    "for xtest, ytest in test_dataset:\n",
    "    x_tests.append(xtest.numpy())\n",
    "    y_tests.append(ytest.numpy())"
   ],
   "metadata": {
    "collapsed": false,
    "ExecuteTime": {
     "end_time": "2023-09-28T09:54:27.360436400Z",
     "start_time": "2023-09-28T09:54:24.923910500Z"
    }
   }
  },
  {
   "cell_type": "code",
   "execution_count": 33,
   "outputs": [],
   "source": [
    "x_tests_1 = np.concatenate(x_tests)\n",
    "y_tests_1 = np.concatenate(y_tests)"
   ],
   "metadata": {
    "collapsed": false,
    "ExecuteTime": {
     "end_time": "2023-09-28T09:54:27.380537600Z",
     "start_time": "2023-09-28T09:54:27.362947800Z"
    }
   }
  },
  {
   "cell_type": "code",
   "execution_count": 44,
   "outputs": [
    {
     "name": "stdout",
     "output_type": "stream",
     "text": [
      "4520/4520 [==============================] - 18s 4ms/step\n"
     ]
    }
   ],
   "source": [
    "nb_pred_res = model_new_gnb.predict(x_tttt, batch_size=2048)"
   ],
   "metadata": {
    "collapsed": false,
    "ExecuteTime": {
     "end_time": "2023-09-25T19:02:45.412994Z",
     "start_time": "2023-09-25T19:02:20.529735400Z"
    }
   }
  },
  {
   "cell_type": "code",
   "execution_count": 46,
   "outputs": [
    {
     "data": {
      "text/plain": "(18048, 64, 7)"
     },
     "execution_count": 46,
     "metadata": {},
     "output_type": "execute_result"
    }
   ],
   "source": [
    "y_tests_1.shape"
   ],
   "metadata": {
    "collapsed": false,
    "ExecuteTime": {
     "end_time": "2023-09-25T19:03:54.059216500Z",
     "start_time": "2023-09-25T19:03:53.976007200Z"
    }
   }
  },
  {
   "cell_type": "code",
   "execution_count": 34,
   "outputs": [],
   "source": [
    "x_tests_1_vector = x_tests_1.reshape(x_tests_1.shape[0]*x_tests_1.shape[1],12)"
   ],
   "metadata": {
    "collapsed": false,
    "ExecuteTime": {
     "end_time": "2023-09-28T09:54:31.280265200Z",
     "start_time": "2023-09-28T09:54:31.071994100Z"
    }
   }
  },
  {
   "cell_type": "code",
   "execution_count": 35,
   "outputs": [],
   "source": [
    "y_tests_1_vector = y_tests_1.reshape(x_tests_1.shape[0]*x_tests_1.shape[1],7)"
   ],
   "metadata": {
    "collapsed": false,
    "ExecuteTime": {
     "end_time": "2023-09-28T09:54:31.364110400Z",
     "start_time": "2023-09-28T09:54:31.219356Z"
    }
   }
  },
  {
   "cell_type": "code",
   "execution_count": 36,
   "outputs": [],
   "source": [
    "from sklearn.metrics import accuracy_score, classification_report, roc_curve, auc, precision_recall_curve, precision_score, average_precision_score"
   ],
   "metadata": {
    "collapsed": false,
    "ExecuteTime": {
     "end_time": "2023-09-28T09:54:33.004216200Z",
     "start_time": "2023-09-28T09:54:32.040845800Z"
    }
   }
  },
  {
   "cell_type": "code",
   "execution_count": 50,
   "outputs": [
    {
     "name": "stdout",
     "output_type": "stream",
     "text": [
      "564/564 [==============================] - 2s 4ms/step\n"
     ]
    }
   ],
   "source": [
    "nb_pred_res_core = model_new_gnb.predict(x_tests_1_vector, batch_size=2048)"
   ],
   "metadata": {
    "collapsed": false,
    "ExecuteTime": {
     "end_time": "2023-09-25T19:05:14.917363700Z",
     "start_time": "2023-09-25T19:05:12.177532700Z"
    }
   }
  },
  {
   "cell_type": "code",
   "execution_count": 51,
   "outputs": [],
   "source": [
    "nb_pred_res_core_categoriesed = tf.argmax(nb_pred_res_core,axis=-1).numpy()"
   ],
   "metadata": {
    "collapsed": false,
    "ExecuteTime": {
     "end_time": "2023-09-25T19:07:29.510636500Z",
     "start_time": "2023-09-25T19:07:29.455265Z"
    }
   }
  },
  {
   "cell_type": "code",
   "execution_count": 37,
   "outputs": [],
   "source": [
    "y_tests_1_vector_categories = np.argmax(y_tests_1_vector, axis=-1)"
   ],
   "metadata": {
    "collapsed": false,
    "ExecuteTime": {
     "end_time": "2023-09-28T09:54:36.746603700Z",
     "start_time": "2023-09-28T09:54:36.611603900Z"
    }
   }
  },
  {
   "cell_type": "code",
   "execution_count": 38,
   "outputs": [],
   "source": [
    "y_tests_1_vector_categories = y_tests_1_vector_categories -1"
   ],
   "metadata": {
    "collapsed": false,
    "ExecuteTime": {
     "end_time": "2023-09-28T09:54:37.180911800Z",
     "start_time": "2023-09-28T09:54:37.119384100Z"
    }
   }
  },
  {
   "cell_type": "code",
   "execution_count": 69,
   "outputs": [
    {
     "name": "stdout",
     "output_type": "stream",
     "text": [
      "Length of category 0 for real test dataset: 356352\n",
      "Length of category 1 for real test dataset: 167936\n",
      "Length of category 2 for real test dataset: 344064\n",
      "Length of category 3 for real test dataset: 114688\n",
      "Length of category 4 for real test dataset: 167936\n",
      "Length of category 5 for real test dataset: 4096\n"
     ]
    }
   ],
   "source": [
    "dataset_values = []\n",
    "\n",
    "for i in range(0,6):\n",
    "    ll = len(y_tests_1_vector_categories[y_tests_1_vector_categories == i])\n",
    "    print(f\"Length of category {i} for real test dataset: {ll}\")\n",
    "    dataset_values.append(ll)"
   ],
   "metadata": {
    "collapsed": false,
    "ExecuteTime": {
     "end_time": "2023-09-25T19:36:49.973233900Z",
     "start_time": "2023-09-25T19:36:49.891283700Z"
    }
   }
  },
  {
   "cell_type": "code",
   "execution_count": 57,
   "outputs": [
    {
     "data": {
      "text/plain": "0.7930735053745568"
     },
     "execution_count": 57,
     "metadata": {},
     "output_type": "execute_result"
    }
   ],
   "source": [
    "accuracy_score(nb_pred_res_core_categoriesed.flatten(), y_tests_1_vector_categories.flatten())"
   ],
   "metadata": {
    "collapsed": false,
    "ExecuteTime": {
     "end_time": "2023-09-25T19:09:14.101332300Z",
     "start_time": "2023-09-25T19:09:13.989197600Z"
    }
   }
  },
  {
   "cell_type": "markdown",
   "source": [],
   "metadata": {
    "collapsed": false
   }
  },
  {
   "cell_type": "code",
   "execution_count": 70,
   "outputs": [
    {
     "name": "stdout",
     "output_type": "stream",
     "text": [
      "Length of category 0 for nb prediction: 315187\n",
      "Length of category 1 for nb prediction: 169280\n",
      "Length of category 2 for nb prediction: 262001\n",
      "Length of category 3 for nb prediction: 171641\n",
      "Length of category 4 for nb prediction: 156886\n",
      "Length of category 5 for nb prediction: 80077\n"
     ]
    }
   ],
   "source": [
    "gnb_values = []\n",
    "\n",
    "for i in range(0,6):\n",
    "    ll = len(nb_pred_res_core_categoriesed[nb_pred_res_core_categoriesed == i])\n",
    "    print(f\"Length of category {i} for nb prediction: {ll}\")\n",
    "    gnb_values.append(len(nb_pred_res_core_categoriesed[nb_pred_res_core_categoriesed == i]))"
   ],
   "metadata": {
    "collapsed": false,
    "ExecuteTime": {
     "end_time": "2023-09-25T19:37:59.315591900Z",
     "start_time": "2023-09-25T19:37:59.225185200Z"
    }
   }
  },
  {
   "cell_type": "code",
   "execution_count": 72,
   "outputs": [],
   "source": [
    "categories_values = []\n",
    "\n",
    "for categorie, num in categories_map.items():\n",
    "    categories_values.append(categorie)"
   ],
   "metadata": {
    "collapsed": false,
    "ExecuteTime": {
     "end_time": "2023-09-25T19:38:11.379474Z",
     "start_time": "2023-09-25T19:38:11.331273100Z"
    }
   }
  },
  {
   "cell_type": "code",
   "execution_count": 73,
   "outputs": [
    {
     "data": {
      "text/plain": "['water', 'forest', 'fields', 'city', 'sands', 'mountains']"
     },
     "execution_count": 73,
     "metadata": {},
     "output_type": "execute_result"
    }
   ],
   "source": [
    "categories_values"
   ],
   "metadata": {
    "collapsed": false,
    "ExecuteTime": {
     "end_time": "2023-09-25T19:38:17.482121Z",
     "start_time": "2023-09-25T19:38:17.285305500Z"
    }
   }
  },
  {
   "cell_type": "code",
   "execution_count": 58,
   "outputs": [
    {
     "data": {
      "text/plain": "'              precision    recall  f1-score   support\\n\\n           0       0.87      0.99      0.93    315187\\n           1       0.94      0.94      0.94    169280\\n           2       0.64      0.84      0.73    262001\\n           3       0.63      0.42      0.50    171641\\n           4       0.89      0.96      0.92    156886\\n           5       0.86      0.04      0.08     80077\\n\\n    accuracy                           0.79   1155072\\n   macro avg       0.81      0.70      0.68   1155072\\nweighted avg       0.80      0.79      0.76   1155072\\n'"
     },
     "execution_count": 58,
     "metadata": {},
     "output_type": "execute_result"
    }
   ],
   "source": [
    "classification_report(nb_pred_res_core_categoriesed.flatten(), y_tests_1_vector_categories.flatten())"
   ],
   "metadata": {
    "collapsed": false,
    "ExecuteTime": {
     "end_time": "2023-09-25T19:09:29.050793700Z",
     "start_time": "2023-09-25T19:09:28.071645600Z"
    }
   }
  },
  {
   "cell_type": "code",
   "execution_count": 64,
   "outputs": [
    {
     "data": {
      "text/plain": "<Figure size 640x480 with 1 Axes>",
      "image/png": "[encoded data removed]"
     },
     "metadata": {},
     "output_type": "display_data"
    }
   ],
   "source": [
    "import matplotlib.pyplot as plt\n",
    "\n",
    "plt.hist(nb_pred_res_core[:, 1], bins=50, edgecolor='k')\n",
    "plt.title('Histogram of predicted probabilities for class 1')\n",
    "plt.xlabel('Probability')\n",
    "plt.ylabel('Frequency')\n",
    "plt.show()"
   ],
   "metadata": {
    "collapsed": false,
    "ExecuteTime": {
     "end_time": "2023-09-25T19:25:48.010970Z",
     "start_time": "2023-09-25T19:25:46.346881400Z"
    }
   }
  },
  {
   "cell_type": "code",
   "execution_count": 65,
   "outputs": [],
   "source": [
    "import dataset_tool.graph_utils"
   ],
   "metadata": {
    "collapsed": false,
    "ExecuteTime": {
     "end_time": "2023-09-25T19:27:26.810166900Z",
     "start_time": "2023-09-25T19:27:26.721430200Z"
    }
   }
  },
  {
   "cell_type": "code",
   "execution_count": 67,
   "outputs": [],
   "source": [
    "nb_hist_data = nb_pred_res_core + 1"
   ],
   "metadata": {
    "collapsed": false,
    "ExecuteTime": {
     "end_time": "2023-09-25T19:30:29.504619300Z",
     "start_time": "2023-09-25T19:30:29.427572500Z"
    }
   }
  },
  {
   "cell_type": "markdown",
   "source": [],
   "metadata": {
    "collapsed": false
   }
  },
  {
   "cell_type": "code",
   "execution_count": 123,
   "outputs": [
    {
     "data": {
      "text/plain": "<Figure size 640x480 with 6 Axes>",
      "image/png": "[encoded data removed]"
     },
     "metadata": {},
     "output_type": "display_data"
    }
   ],
   "source": [
    "dataset_tool.graph_utils.createHistGraph(nb_pred_res_core, categories_map)"
   ],
   "metadata": {
    "collapsed": false,
    "ExecuteTime": {
     "end_time": "2023-09-25T20:23:14.388055300Z",
     "start_time": "2023-09-25T20:23:13.756961400Z"
    }
   }
  },
  {
   "cell_type": "code",
   "execution_count": 75,
   "outputs": [
    {
     "data": {
      "text/plain": "<matplotlib.legend.Legend at 0x7f6b0c27e0d0>"
     },
     "execution_count": 75,
     "metadata": {},
     "output_type": "execute_result"
    },
    {
     "data": {
      "text/plain": "<Figure size 640x480 with 1 Axes>",
      "image/png": "[encoded data removed]"
     },
     "metadata": {},
     "output_type": "display_data"
    }
   ],
   "source": [
    "x = np.arange(len(categories_values))  # the label locations\n",
    "width = 0.35  # the width of the bars\n",
    "\n",
    "fig, ax = plt.subplots()\n",
    "rects1 = ax.bar(x - width/2, dataset_values, width, label='Dataset values')\n",
    "rects2 = ax.bar(x + width/2, gnb_values, width, label='NB values')\n",
    "\n",
    "# Add some text for labels, title and custom x-axis tick labels, etc.\n",
    "ax.set_ylabel('Number of points')\n",
    "ax.set_title('Classification result compare')\n",
    "ax.set_xticks(x)\n",
    "ax.set_xticklabels(categories_values)\n",
    "ax.legend()"
   ],
   "metadata": {
    "collapsed": false,
    "ExecuteTime": {
     "end_time": "2023-09-25T19:41:29.579366400Z",
     "start_time": "2023-09-25T19:41:29.384492800Z"
    }
   }
  },
  {
   "cell_type": "code",
   "execution_count": 59,
   "outputs": [
    {
     "ename": "ValueError",
     "evalue": "Data cardinality is ambiguous:\n  x sizes: 1155072\n  y sizes: 18048\nMake sure all arrays contain the same number of samples.",
     "output_type": "error",
     "traceback": [
      "\u001B[0;31m---------------------------------------------------------------------------\u001B[0m",
      "\u001B[0;31mValueError\u001B[0m                                Traceback (most recent call last)",
      "Cell \u001B[0;32mIn[59], line 1\u001B[0m\n\u001B[0;32m----> 1\u001B[0m gnb_eval \u001B[38;5;241m=\u001B[39m \u001B[43mmodel_new_gnb\u001B[49m\u001B[38;5;241;43m.\u001B[39;49m\u001B[43mevaluate\u001B[49m\u001B[43m(\u001B[49m\u001B[43mnb_pred_res_core\u001B[49m\u001B[43m,\u001B[49m\u001B[43m \u001B[49m\u001B[43my_tests_1\u001B[49m\u001B[43m)\u001B[49m\n",
      "File \u001B[0;32m~/miniconda3/envs/segmentation-new/lib/python3.11/site-packages/keras/src/utils/traceback_utils.py:70\u001B[0m, in \u001B[0;36mfilter_traceback.<locals>.error_handler\u001B[0;34m(*args, **kwargs)\u001B[0m\n\u001B[1;32m     67\u001B[0m     filtered_tb \u001B[38;5;241m=\u001B[39m _process_traceback_frames(e\u001B[38;5;241m.\u001B[39m__traceback__)\n\u001B[1;32m     68\u001B[0m     \u001B[38;5;66;03m# To get the full stack trace, call:\u001B[39;00m\n\u001B[1;32m     69\u001B[0m     \u001B[38;5;66;03m# `tf.debugging.disable_traceback_filtering()`\u001B[39;00m\n\u001B[0;32m---> 70\u001B[0m     \u001B[38;5;28;01mraise\u001B[39;00m e\u001B[38;5;241m.\u001B[39mwith_traceback(filtered_tb) \u001B[38;5;28;01mfrom\u001B[39;00m \u001B[38;5;28;01mNone\u001B[39;00m\n\u001B[1;32m     71\u001B[0m \u001B[38;5;28;01mfinally\u001B[39;00m:\n\u001B[1;32m     72\u001B[0m     \u001B[38;5;28;01mdel\u001B[39;00m filtered_tb\n",
      "File \u001B[0;32m~/miniconda3/envs/segmentation-new/lib/python3.11/site-packages/keras/src/engine/data_adapter.py:1950\u001B[0m, in \u001B[0;36m_check_data_cardinality\u001B[0;34m(data)\u001B[0m\n\u001B[1;32m   1943\u001B[0m     msg \u001B[38;5;241m+\u001B[39m\u001B[38;5;241m=\u001B[39m \u001B[38;5;124m\"\u001B[39m\u001B[38;5;124m  \u001B[39m\u001B[38;5;132;01m{}\u001B[39;00m\u001B[38;5;124m sizes: \u001B[39m\u001B[38;5;132;01m{}\u001B[39;00m\u001B[38;5;130;01m\\n\u001B[39;00m\u001B[38;5;124m\"\u001B[39m\u001B[38;5;241m.\u001B[39mformat(\n\u001B[1;32m   1944\u001B[0m         label,\n\u001B[1;32m   1945\u001B[0m         \u001B[38;5;124m\"\u001B[39m\u001B[38;5;124m, \u001B[39m\u001B[38;5;124m\"\u001B[39m\u001B[38;5;241m.\u001B[39mjoin(\n\u001B[1;32m   1946\u001B[0m             \u001B[38;5;28mstr\u001B[39m(i\u001B[38;5;241m.\u001B[39mshape[\u001B[38;5;241m0\u001B[39m]) \u001B[38;5;28;01mfor\u001B[39;00m i \u001B[38;5;129;01min\u001B[39;00m tf\u001B[38;5;241m.\u001B[39mnest\u001B[38;5;241m.\u001B[39mflatten(single_data)\n\u001B[1;32m   1947\u001B[0m         ),\n\u001B[1;32m   1948\u001B[0m     )\n\u001B[1;32m   1949\u001B[0m msg \u001B[38;5;241m+\u001B[39m\u001B[38;5;241m=\u001B[39m \u001B[38;5;124m\"\u001B[39m\u001B[38;5;124mMake sure all arrays contain the same number of samples.\u001B[39m\u001B[38;5;124m\"\u001B[39m\n\u001B[0;32m-> 1950\u001B[0m \u001B[38;5;28;01mraise\u001B[39;00m \u001B[38;5;167;01mValueError\u001B[39;00m(msg)\n",
      "\u001B[0;31mValueError\u001B[0m: Data cardinality is ambiguous:\n  x sizes: 1155072\n  y sizes: 18048\nMake sure all arrays contain the same number of samples."
     ]
    }
   ],
   "source": [
    "gnb_eval = model_new_gnb.evaluate(nb_pred_res_core, y_tests_1)"
   ],
   "metadata": {
    "collapsed": false,
    "ExecuteTime": {
     "end_time": "2023-09-25T19:10:50.385818100Z",
     "start_time": "2023-09-25T19:10:50.204094800Z"
    }
   }
  },
  {
   "cell_type": "code",
   "execution_count": 125,
   "outputs": [
    {
     "name": "stderr",
     "output_type": "stream",
     "text": [
      "/home/andrew/miniconda3/envs/segmentation-new/lib/python3.11/site-packages/sklearn/metrics/_ranking.py:1132: UndefinedMetricWarning: No positive samples in y_true, true positive value should be meaningless\n",
      "  warnings.warn(\n"
     ]
    },
    {
     "data": {
      "text/plain": "<Figure size 640x480 with 1 Axes>",
      "image/png": "[encoded data removed]"
     },
     "metadata": {},
     "output_type": "display_data"
    }
   ],
   "source": [
    "n_classes = nb_pred_res_core.shape[1]\n",
    "\n",
    "# Для ROC\n",
    "plt.figure()\n",
    "for i in range(n_classes):\n",
    "    fpr, tpr, _ = roc_curve(y_tests_1_vector[:, i], nb_pred_res_core[:, i])\n",
    "    roc_auc = auc(fpr, tpr)\n",
    "    plt.plot(fpr, tpr, label=f'ROC curve of class {i} (area = {roc_auc:.2f})')\n",
    "\n",
    "plt.plot([0, 1], [0, 1], 'k--')\n",
    "plt.xlabel('False Positive Rate')\n",
    "plt.ylabel('True Positive Rate')\n",
    "plt.title('Receiver Operating Characteristic (ROC) Curve')\n",
    "plt.legend(loc=\"lower right\")\n",
    "plt.show()"
   ],
   "metadata": {
    "collapsed": false,
    "ExecuteTime": {
     "end_time": "2023-09-25T20:37:53.238062600Z",
     "start_time": "2023-09-25T20:37:52.367403900Z"
    }
   }
  },
  {
   "cell_type": "code",
   "execution_count": 127,
   "outputs": [
    {
     "name": "stderr",
     "output_type": "stream",
     "text": [
      "/home/andrew/miniconda3/envs/segmentation-new/lib/python3.11/site-packages/sklearn/metrics/_ranking.py:979: UserWarning: No positive class found in y_true, recall is set to one for all thresholds.\n",
      "  warnings.warn(\n",
      "/home/andrew/miniconda3/envs/segmentation-new/lib/python3.11/site-packages/sklearn/metrics/_ranking.py:979: UserWarning: No positive class found in y_true, recall is set to one for all thresholds.\n",
      "  warnings.warn(\n"
     ]
    },
    {
     "data": {
      "text/plain": "<Figure size 640x480 with 1 Axes>",
      "image/png": "[encoded data removed]"
     },
     "metadata": {},
     "output_type": "display_data"
    }
   ],
   "source": [
    "# Для Precision-Recall\n",
    "plt.figure()\n",
    "for i in range(n_classes):\n",
    "    precision, recall, _ = precision_recall_curve(y_tests_1_vector[:, i], nb_pred_res_core[:, i])\n",
    "    average_precision = average_precision_score(y_tests_1_vector[:, i], nb_pred_res_core[:, i])\n",
    "    plt.plot(recall, precision, label=f'Precision-Recall curve of class {i} (area = {average_precision:.2f})')\n",
    "\n",
    "plt.xlabel('Recall')\n",
    "plt.ylabel('Precision')\n",
    "plt.title('Precision-Recall Curve')\n",
    "plt.legend(loc=\"upper right\")\n",
    "plt.show()"
   ],
   "metadata": {
    "collapsed": false,
    "ExecuteTime": {
     "end_time": "2023-09-25T20:40:15.438185600Z",
     "start_time": "2023-09-25T20:40:13.843743Z"
    }
   }
  },
  {
   "cell_type": "code",
   "execution_count": 241,
   "outputs": [],
   "source": [
    "nb_pres_res_1 = tf.argmax(nb_pred_res,axis=-1).numpy()"
   ],
   "metadata": {
    "collapsed": false,
    "ExecuteTime": {
     "end_time": "2023-09-24T10:53:59.354346Z",
     "start_time": "2023-09-24T10:53:59.034797200Z"
    }
   }
  },
  {
   "cell_type": "code",
   "execution_count": 242,
   "outputs": [
    {
     "data": {
      "text/plain": "5"
     },
     "execution_count": 242,
     "metadata": {},
     "output_type": "execute_result"
    }
   ],
   "source": [
    "nb_pres_res_1.max()"
   ],
   "metadata": {
    "collapsed": false,
    "ExecuteTime": {
     "end_time": "2023-09-24T10:53:59.440689200Z",
     "start_time": "2023-09-24T10:53:59.368403Z"
    }
   }
  },
  {
   "cell_type": "code",
   "execution_count": 248,
   "outputs": [],
   "source": [
    "y_testtt = y_tttt - 1"
   ],
   "metadata": {
    "collapsed": false,
    "ExecuteTime": {
     "end_time": "2023-09-24T10:56:21.958946900Z",
     "start_time": "2023-09-24T10:56:21.896853300Z"
    }
   }
  },
  {
   "cell_type": "code",
   "execution_count": 244,
   "outputs": [
    {
     "data": {
      "text/plain": "(9256960,)"
     },
     "execution_count": 244,
     "metadata": {},
     "output_type": "execute_result"
    }
   ],
   "source": [
    "y_tttt.shape"
   ],
   "metadata": {
    "collapsed": false,
    "ExecuteTime": {
     "end_time": "2023-09-24T10:54:02.175903100Z",
     "start_time": "2023-09-24T10:54:02.134712800Z"
    }
   }
  },
  {
   "cell_type": "code",
   "execution_count": 250,
   "outputs": [
    {
     "data": {
      "text/plain": "(12, 638, 1094)"
     },
     "execution_count": 250,
     "metadata": {},
     "output_type": "execute_result"
    }
   ],
   "source": [
    "test_imgs_array.shape"
   ],
   "metadata": {
    "collapsed": false,
    "ExecuteTime": {
     "end_time": "2023-09-24T10:58:02.555617300Z",
     "start_time": "2023-09-24T10:58:02.477177800Z"
    }
   }
  },
  {
   "cell_type": "code",
   "execution_count": 61,
   "outputs": [],
   "source": [
    "test_arr_nb = test_imgs_array/x_data_cubes.max()"
   ],
   "metadata": {
    "collapsed": false,
    "ExecuteTime": {
     "end_time": "2023-09-28T09:56:46.596701700Z",
     "start_time": "2023-09-28T09:56:44.591213Z"
    }
   }
  },
  {
   "cell_type": "code",
   "execution_count": 62,
   "outputs": [],
   "source": [
    "test_arr_nb = np.moveaxis(test_arr_nb, 0, 2)"
   ],
   "metadata": {
    "collapsed": false,
    "ExecuteTime": {
     "end_time": "2023-09-28T09:56:46.603497Z",
     "start_time": "2023-09-28T09:56:46.598988300Z"
    }
   }
  },
  {
   "cell_type": "code",
   "execution_count": 63,
   "outputs": [
    {
     "data": {
      "text/plain": "(733, 1250, 12)"
     },
     "execution_count": 63,
     "metadata": {},
     "output_type": "execute_result"
    }
   ],
   "source": [
    "test_arr_nb.shape"
   ],
   "metadata": {
    "collapsed": false,
    "ExecuteTime": {
     "end_time": "2023-09-28T09:56:47.750500800Z",
     "start_time": "2023-09-28T09:56:47.684766100Z"
    }
   }
  },
  {
   "cell_type": "code",
   "execution_count": 64,
   "outputs": [],
   "source": [
    "test_arr_to_pred = test_arr_nb.reshape(test_arr_nb.shape[0]*test_arr_nb.shape[1],12)"
   ],
   "metadata": {
    "collapsed": false,
    "ExecuteTime": {
     "end_time": "2023-09-28T09:56:48.218318100Z",
     "start_time": "2023-09-28T09:56:48.152676200Z"
    }
   }
  },
  {
   "cell_type": "code",
   "execution_count": 82,
   "outputs": [
    {
     "name": "stdout",
     "output_type": "stream",
     "text": [
      "448/448 [==============================] - 2s 4ms/step\n"
     ]
    }
   ],
   "source": [
    "test_arr_nb_pred_res = model_new_gnb.predict(test_arr_to_pred,batch_size=2048)"
   ],
   "metadata": {
    "collapsed": false,
    "ExecuteTime": {
     "end_time": "2023-09-25T19:43:30.835119600Z",
     "start_time": "2023-09-25T19:43:26.604741800Z"
    }
   }
  },
  {
   "cell_type": "code",
   "execution_count": 83,
   "outputs": [],
   "source": [
    "test_arr_nb_pred = tf.argmax(test_arr_nb_pred_res, axis=-1)"
   ],
   "metadata": {
    "collapsed": false,
    "ExecuteTime": {
     "end_time": "2023-09-25T19:43:43.132568500Z",
     "start_time": "2023-09-25T19:43:43.065662200Z"
    }
   }
  },
  {
   "cell_type": "code",
   "execution_count": 100,
   "outputs": [],
   "source": [
    "test_arr_nb_pred_ss = test_arr_nb_pred.numpy().reshape(733,1250)"
   ],
   "metadata": {
    "collapsed": false,
    "ExecuteTime": {
     "end_time": "2023-09-25T19:59:23.042456700Z",
     "start_time": "2023-09-25T19:59:22.997428100Z"
    }
   }
  },
  {
   "cell_type": "code",
   "execution_count": 102,
   "outputs": [
    {
     "data": {
      "text/plain": "5"
     },
     "execution_count": 102,
     "metadata": {},
     "output_type": "execute_result"
    }
   ],
   "source": [
    "test_arr_nb_pred_ss.max()"
   ],
   "metadata": {
    "collapsed": false,
    "ExecuteTime": {
     "end_time": "2023-09-25T19:59:36.336135600Z",
     "start_time": "2023-09-25T19:59:36.208290800Z"
    }
   }
  },
  {
   "cell_type": "code",
   "execution_count": 103,
   "outputs": [],
   "source": [
    "test_arr_nb_pred_ss = test_arr_nb_pred_ss + 1"
   ],
   "metadata": {
    "collapsed": false,
    "ExecuteTime": {
     "end_time": "2023-09-25T19:59:38.448752Z",
     "start_time": "2023-09-25T19:59:38.326359500Z"
    }
   }
  },
  {
   "cell_type": "code",
   "execution_count": 104,
   "outputs": [],
   "source": [
    "test_arr_nb_pred_ss [test_arr_nb_pred_ss == 6] = 3"
   ],
   "metadata": {
    "collapsed": false,
    "ExecuteTime": {
     "end_time": "2023-09-25T19:59:39.245838700Z",
     "start_time": "2023-09-25T19:59:39.198334400Z"
    }
   }
  },
  {
   "cell_type": "code",
   "execution_count": 89,
   "outputs": [],
   "source": [
    "categoreis_map_inverted = {v: k for k, v in categories_map.items()}"
   ],
   "metadata": {
    "collapsed": false,
    "ExecuteTime": {
     "end_time": "2023-09-25T19:47:21.428145700Z",
     "start_time": "2023-09-25T19:47:21.370917100Z"
    }
   }
  },
  {
   "cell_type": "code",
   "execution_count": 107,
   "outputs": [
    {
     "data": {
      "text/plain": "1"
     },
     "execution_count": 107,
     "metadata": {},
     "output_type": "execute_result"
    }
   ],
   "source": [
    "test_arr_nb_pred_ss.min()"
   ],
   "metadata": {
    "collapsed": false,
    "ExecuteTime": {
     "end_time": "2023-09-25T20:01:30.825488800Z",
     "start_time": "2023-09-25T20:01:30.741144500Z"
    }
   }
  },
  {
   "cell_type": "code",
   "execution_count": 108,
   "outputs": [
    {
     "data": {
      "text/plain": "dict_keys([1, 2, 3, 4, 5, 6])"
     },
     "execution_count": 108,
     "metadata": {},
     "output_type": "execute_result"
    }
   ],
   "source": [
    "categoreis_map_inverted.keys()"
   ],
   "metadata": {
    "collapsed": false,
    "ExecuteTime": {
     "end_time": "2023-09-25T20:02:04.812209Z",
     "start_time": "2023-09-25T20:02:04.719723600Z"
    }
   }
  },
  {
   "cell_type": "code",
   "execution_count": 122,
   "outputs": [
    {
     "data": {
      "text/plain": "<Figure size 640x480 with 1 Axes>",
      "image/png": "[encoded data removed]"
     },
     "metadata": {},
     "output_type": "display_data"
    }
   ],
   "source": [
    "from matplotlib.colors import ListedColormap\n",
    "import earthpy.plot as ep\n",
    "\n",
    "# im = ep.plot_bands(test_arr_nb_pred_ss,\n",
    "#                    vmin=1, vmax=6,\n",
    "#               cmap=ListedColormap(['green', 'purple', 'orange', 'blue', 'yellow','red']))\n",
    "#ep.make_col_list()\n",
    "im = plt.imshow(test_arr_nb_pred_ss,\n",
    "           vmin=1,vmax=6,\n",
    "               cmap=ListedColormap(['blue', 'green', 'orange', 'grey', 'yellow','brown']))\n",
    "ep.draw_legend(im_ax = im, titles = [\"water\",\"forest\",\"fields\",\"city\",\"sands\"])\n",
    "# leg_neg = ep.draw_legend(im_ax = im, titles = categoreis_map_inverted.values())\n",
    "#plt.show()\n",
    "#im.legend(list(categoreis_map_inverted.values()))\n",
    "# cbar = plt.colorbar(fraction=0.046, pad=0.04)\n",
    "# #\n",
    "# cbar.set_ticks(list(categoreis_map_inverted.keys()))\n",
    "# cbar.set_ticklabels(list(categoreis_map_inverted.values()))\n",
    "\n",
    "plt.show()"
   ],
   "metadata": {
    "collapsed": false,
    "ExecuteTime": {
     "end_time": "2023-09-25T20:16:50.228543200Z",
     "start_time": "2023-09-25T20:16:50.050655900Z"
    }
   }
  },
  {
   "cell_type": "code",
   "execution_count": 262,
   "outputs": [
    {
     "data": {
      "text/plain": "{'water': 1, 'forest': 2, 'fields': 3, 'city': 4, 'sands': 5, 'mountains': 6}"
     },
     "execution_count": 262,
     "metadata": {},
     "output_type": "execute_result"
    }
   ],
   "source": [
    "categories_map"
   ],
   "metadata": {
    "collapsed": false,
    "ExecuteTime": {
     "end_time": "2023-09-24T11:05:16.604876500Z",
     "start_time": "2023-09-24T11:05:16.491626700Z"
    }
   }
  },
  {
   "cell_type": "code",
   "execution_count": null,
   "outputs": [],
   "source": [],
   "metadata": {
    "collapsed": false
   }
  },
  {
   "cell_type": "markdown",
   "source": [
    "### Test KNNC"
   ],
   "metadata": {
    "collapsed": false
   }
  },
  {
   "cell_type": "code",
   "execution_count": 293,
   "outputs": [
    {
     "data": {
      "text/plain": "(9256960, 7)"
     },
     "execution_count": 293,
     "metadata": {},
     "output_type": "execute_result"
    }
   ],
   "source": [
    "y_train_111.shape"
   ],
   "metadata": {
    "collapsed": false,
    "ExecuteTime": {
     "end_time": "2023-09-24T14:31:14.327592800Z",
     "start_time": "2023-09-24T14:31:14.274974800Z"
    }
   }
  },
  {
   "cell_type": "code",
   "execution_count": 41,
   "outputs": [
    {
     "ename": "KeyboardInterrupt",
     "evalue": "",
     "output_type": "error",
     "traceback": [
      "\u001B[0;31m---------------------------------------------------------------------------\u001B[0m",
      "\u001B[0;31mKeyboardInterrupt\u001B[0m                         Traceback (most recent call last)",
      "Cell \u001B[0;32mIn[41], line 11\u001B[0m\n\u001B[1;32m      2\u001B[0m importlib\u001B[38;5;241m.\u001B[39mreload(layers\u001B[38;5;241m.\u001B[39mknnc)\n\u001B[1;32m      3\u001B[0m \u001B[38;5;66;03m# model_new_knn = tf.keras.models.Sequential([\u001B[39;00m\n\u001B[1;32m      4\u001B[0m \u001B[38;5;66;03m#     layers.knnc.KNNLayer(k=3, num_classes=6,input_shape=(12,)),\u001B[39;00m\n\u001B[1;32m      5\u001B[0m \u001B[38;5;66;03m#     Activation(\"softmax\")\u001B[39;00m\n\u001B[1;32m      6\u001B[0m \u001B[38;5;66;03m#     ])\u001B[39;00m\n\u001B[1;32m      7\u001B[0m \n\u001B[1;32m      8\u001B[0m \u001B[38;5;66;03m# Sample usage\u001B[39;00m\n\u001B[1;32m     10\u001B[0m model_knnc \u001B[38;5;241m=\u001B[39m tf\u001B[38;5;241m.\u001B[39mkeras\u001B[38;5;241m.\u001B[39mmodels\u001B[38;5;241m.\u001B[39mSequential([\n\u001B[0;32m---> 11\u001B[0m     \u001B[43mlayers\u001B[49m\u001B[38;5;241;43m.\u001B[39;49m\u001B[43mknnc\u001B[49m\u001B[38;5;241;43m.\u001B[39;49m\u001B[43mKNNClassifierLayer2\u001B[49m\u001B[43m(\u001B[49m\u001B[43mk\u001B[49m\u001B[38;5;241;43m=\u001B[39;49m\u001B[38;5;241;43m3\u001B[39;49m\u001B[43m,\u001B[49m\u001B[43mX_train\u001B[49m\u001B[43m \u001B[49m\u001B[38;5;241;43m=\u001B[39;49m\u001B[43m \u001B[49m\u001B[43mx_train_111\u001B[49m\u001B[43m,\u001B[49m\u001B[43m \u001B[49m\u001B[43my_train\u001B[49m\u001B[43m \u001B[49m\u001B[38;5;241;43m=\u001B[39;49m\u001B[43m \u001B[49m\u001B[43my_int_labels\u001B[49m\u001B[43m,\u001B[49m\u001B[43m \u001B[49m\u001B[43minput_shape\u001B[49m\u001B[38;5;241;43m=\u001B[39;49m\u001B[43m(\u001B[49m\u001B[38;5;241;43m12\u001B[39;49m\u001B[43m,\u001B[49m\u001B[43m)\u001B[49m\u001B[43m)\u001B[49m,\n\u001B[1;32m     12\u001B[0m     Activation(\u001B[38;5;124m\"\u001B[39m\u001B[38;5;124msoftmax\u001B[39m\u001B[38;5;124m\"\u001B[39m)\n\u001B[1;32m     13\u001B[0m ])\n\u001B[1;32m     15\u001B[0m \u001B[38;5;66;03m# Assuming you've trained or set the weights, you can then save the model:\u001B[39;00m\n\u001B[1;32m     16\u001B[0m \u001B[38;5;66;03m#save_model(model, 'naive_bayes_model.h5')\u001B[39;00m\n",
      "File \u001B[0;32m/mnt/d/aspiranture/Satellite_Imagery_Analysis/Classification/layers/knnc.py:127\u001B[0m, in \u001B[0;36mKNNClassifierLayer2.__init__\u001B[0;34m(self, X_train, y_train, k, num_classes, **kwargs)\u001B[0m\n\u001B[1;32m    125\u001B[0m \u001B[38;5;28mself\u001B[39m\u001B[38;5;241m.\u001B[39mX_train_np \u001B[38;5;241m=\u001B[39m np\u001B[38;5;241m.\u001B[39marray(X_train)  \u001B[38;5;66;03m# Convert to numpy for KDTree\u001B[39;00m\n\u001B[1;32m    126\u001B[0m \u001B[38;5;28mself\u001B[39m\u001B[38;5;241m.\u001B[39my_train_np \u001B[38;5;241m=\u001B[39m np\u001B[38;5;241m.\u001B[39marray(y_train)\n\u001B[0;32m--> 127\u001B[0m \u001B[38;5;28mself\u001B[39m\u001B[38;5;241m.\u001B[39mkdtree \u001B[38;5;241m=\u001B[39m \u001B[43mKDTree\u001B[49m\u001B[43m(\u001B[49m\u001B[38;5;28;43mself\u001B[39;49m\u001B[38;5;241;43m.\u001B[39;49m\u001B[43mX_train_np\u001B[49m\u001B[43m)\u001B[49m\n\u001B[1;32m    128\u001B[0m \u001B[38;5;28mself\u001B[39m\u001B[38;5;241m.\u001B[39mk \u001B[38;5;241m=\u001B[39m k\n\u001B[1;32m    129\u001B[0m \u001B[38;5;28mself\u001B[39m\u001B[38;5;241m.\u001B[39mnum_classes \u001B[38;5;241m=\u001B[39m num_classes\n",
      "\u001B[0;31mKeyboardInterrupt\u001B[0m: "
     ]
    }
   ],
   "source": [
    "import layers.knnc\n",
    "importlib.reload(layers.knnc)\n",
    "# model_new_knn = tf.keras.models.Sequential([\n",
    "#     layers.knnc.KNNLayer(k=3, num_classes=6,input_shape=(12,)),\n",
    "#     Activation(\"softmax\")\n",
    "#     ])\n",
    "\n",
    "# Sample usage\n",
    "\n",
    "model_knnc = tf.keras.models.Sequential([\n",
    "    layers.knnc.KNNClassifierLayer2(k=3,X_train = x_train_111, y_train = y_int_labels, input_shape=(12,)),\n",
    "    Activation(\"softmax\")\n",
    "])\n",
    "\n",
    "# Assuming you've trained or set the weights, you can then save the model:\n",
    "#save_model(model, 'naive_bayes_model.h5')"
   ],
   "metadata": {
    "collapsed": false,
    "ExecuteTime": {
     "end_time": "2023-09-27T20:55:34.521521200Z",
     "start_time": "2023-09-27T20:54:56.822430600Z"
    }
   }
  },
  {
   "cell_type": "code",
   "execution_count": 62,
   "outputs": [
    {
     "data": {
      "text/plain": "<module 'layers.knnc' from '/mnt/d/aspiranture/Satellite_Imagery_Analysis/Classification/layers/knnc.py'>"
     },
     "execution_count": 62,
     "metadata": {},
     "output_type": "execute_result"
    }
   ],
   "source": [
    "importlib.reload(layers.knnc)"
   ],
   "metadata": {
    "collapsed": false,
    "ExecuteTime": {
     "end_time": "2023-09-24T18:07:31.743477700Z",
     "start_time": "2023-09-24T18:07:31.558839700Z"
    }
   }
  },
  {
   "cell_type": "code",
   "execution_count": 35,
   "outputs": [
    {
     "name": "stdout",
     "output_type": "stream",
     "text": [
      "Model: \"sequential\"\n",
      "_________________________________________________________________\n",
      " Layer (type)                Output Shape              Param #   \n",
      "=================================================================\n",
      " knn_classifier_layer2 (KNN  (None, 6)                 0         \n",
      " ClassifierLayer2)                                               \n",
      "                                                                 \n",
      " activation (Activation)     (None, 6)                 0         \n",
      "                                                                 \n",
      "=================================================================\n",
      "Total params: 0 (0.00 Byte)\n",
      "Trainable params: 0 (0.00 Byte)\n",
      "Non-trainable params: 0 (0.00 Byte)\n",
      "_________________________________________________________________\n"
     ]
    }
   ],
   "source": [
    "model_knnc.compile(loss='categorical_crossentropy', optimizer='adam', metrics=['accuracy','mse'])\n",
    "model_knnc.summary()"
   ],
   "metadata": {
    "collapsed": false,
    "ExecuteTime": {
     "end_time": "2023-09-24T19:38:40.064865700Z",
     "start_time": "2023-09-24T19:38:39.983772Z"
    }
   }
  },
  {
   "cell_type": "code",
   "execution_count": null,
   "outputs": [
    {
     "name": "stderr",
     "output_type": "stream",
     "text": [
      "/home/andrew/miniconda3/envs/segmentation-new/lib/python3.11/site-packages/keras/src/engine/training.py:3000: UserWarning: You are saving your model as an HDF5 file via `model.save()`. This file format is considered legacy. We recommend using instead the native Keras format, e.g. `model.save('my_model.keras')`.\n",
      "  saving_api.save_model(\n"
     ]
    }
   ],
   "source": [
    "model_knnc.save(\"kncc.h5\", save_format='h5')"
   ],
   "metadata": {
    "collapsed": false,
    "ExecuteTime": {
     "start_time": "2023-09-24T19:48:02.752050700Z"
    }
   }
  },
  {
   "cell_type": "code",
   "execution_count": 69,
   "outputs": [
    {
     "name": "stdout",
     "output_type": "stream",
     "text": [
      "   1/1364 [..............................] - ETA: 3:29"
     ]
    },
    {
     "name": "stderr",
     "output_type": "stream",
     "text": [
      "2023-09-24 21:18:12.386453: W tensorflow/core/grappler/costs/op_level_cost_estimator.cc:693] Error in PredictCost() for the op: op: \"Softmax\" attr { key: \"T\" value { type: DT_FLOAT } } attr { key: \"_has_manual_control_dependencies\" value { b: true } } inputs { dtype: DT_FLOAT shape { unknown_rank: true } } device { type: \"GPU\" vendor: \"NVIDIA\" model: \"NVIDIA GeForce RTX 3090\" frequency: 1740 num_cores: 82 environment { key: \"architecture\" value: \"8.6\" } environment { key: \"cuda\" value: \"11080\" } environment { key: \"cudnn\" value: \"8600\" } num_registers: 65536 l1_cache_size: 24576 l2_cache_size: 6291456 shared_memory_size_per_multiprocessor: 102400 memory_size: 22842179584 bandwidth: 936096000 } outputs { dtype: DT_FLOAT shape { unknown_rank: true } }\n"
     ]
    },
    {
     "name": "stdout",
     "output_type": "stream",
     "text": [
      "1364/1364 [==============================] - 166s 122ms/step\n"
     ]
    }
   ],
   "source": [
    "predictions_knnc = model_knnc.predict(test_arr_to_pred, batch_size=512)"
   ],
   "metadata": {
    "collapsed": false,
    "ExecuteTime": {
     "end_time": "2023-09-24T18:20:59.064258100Z",
     "start_time": "2023-09-24T18:18:12.239077100Z"
    }
   }
  },
  {
   "cell_type": "code",
   "execution_count": 70,
   "outputs": [
    {
     "data": {
      "text/plain": "(697972, 6)"
     },
     "execution_count": 70,
     "metadata": {},
     "output_type": "execute_result"
    }
   ],
   "source": [
    "predictions_knnc.shape"
   ],
   "metadata": {
    "collapsed": false,
    "ExecuteTime": {
     "end_time": "2023-09-24T18:21:02.426696300Z",
     "start_time": "2023-09-24T18:21:02.373375500Z"
    }
   }
  },
  {
   "cell_type": "code",
   "execution_count": 1,
   "outputs": [
    {
     "ename": "NameError",
     "evalue": "name 'test_arr_knn_pred_ss' is not defined",
     "output_type": "error",
     "traceback": [
      "\u001B[0;31m---------------------------------------------------------------------------\u001B[0m",
      "\u001B[0;31mNameError\u001B[0m                                 Traceback (most recent call last)",
      "Cell \u001B[0;32mIn[1], line 1\u001B[0m\n\u001B[0;32m----> 1\u001B[0m test_arr_knn_pred_ss \u001B[38;5;241m=\u001B[39m \u001B[43mtest_arr_knn_pred_ss\u001B[49m \u001B[38;5;241m+\u001B[39m \u001B[38;5;241m1\u001B[39m\n",
      "\u001B[0;31mNameError\u001B[0m: name 'test_arr_knn_pred_ss' is not defined"
     ]
    }
   ],
   "source": [],
   "metadata": {
    "collapsed": false,
    "ExecuteTime": {
     "end_time": "2023-09-24T20:16:01.228713500Z",
     "start_time": "2023-09-24T20:16:01.118141300Z"
    }
   }
  },
  {
   "cell_type": "code",
   "execution_count": 2,
   "outputs": [
    {
     "ename": "NameError",
     "evalue": "name 'tf' is not defined",
     "output_type": "error",
     "traceback": [
      "\u001B[0;31m---------------------------------------------------------------------------\u001B[0m",
      "\u001B[0;31mNameError\u001B[0m                                 Traceback (most recent call last)",
      "Cell \u001B[0;32mIn[2], line 1\u001B[0m\n\u001B[0;32m----> 1\u001B[0m test_arr_knn_pred \u001B[38;5;241m=\u001B[39m \u001B[43mtf\u001B[49m\u001B[38;5;241m.\u001B[39margmax(predictions_knnc, axis\u001B[38;5;241m=\u001B[39m\u001B[38;5;241m-\u001B[39m\u001B[38;5;241m1\u001B[39m)\n\u001B[1;32m      2\u001B[0m test_arr_knn_pred_ss \u001B[38;5;241m=\u001B[39m test_arr_knn_pred\u001B[38;5;241m.\u001B[39mnumpy()\u001B[38;5;241m.\u001B[39mreshape(\u001B[38;5;241m638\u001B[39m, \u001B[38;5;241m1094\u001B[39m)\n\u001B[1;32m      3\u001B[0m \u001B[38;5;28;01mfrom\u001B[39;00m \u001B[38;5;21;01mmatplotlib\u001B[39;00m\u001B[38;5;21;01m.\u001B[39;00m\u001B[38;5;21;01mcolors\u001B[39;00m \u001B[38;5;28;01mimport\u001B[39;00m ListedColormap\n",
      "\u001B[0;31mNameError\u001B[0m: name 'tf' is not defined"
     ]
    }
   ],
   "source": [
    "test_arr_knn_pred = tf.argmax(predictions_knnc, axis=-1)\n",
    "test_arr_knn_pred_ss = test_arr_knn_pred.numpy().reshape(638, 1094)\n",
    "from matplotlib.colors import ListedColormap\n",
    "import earthpy.plot as ep\n",
    "\n",
    "test_arr_knn_pred_ss = test_arr_knn_pred_ss + 1\n",
    "\n",
    "ep.plot_bands(test_arr_knn_pred_ss,\n",
    "              cmap=ListedColormap(['green', 'purple', 'orange', 'blue', 'yellow']))"
   ],
   "metadata": {
    "collapsed": false,
    "ExecuteTime": {
     "end_time": "2023-09-24T20:16:07.513336100Z",
     "start_time": "2023-09-24T20:16:07.465153900Z"
    }
   }
  },
  {
   "cell_type": "markdown",
   "source": [
    "# Binary tree method"
   ],
   "metadata": {
    "collapsed": false
   }
  },
  {
   "cell_type": "markdown",
   "source": [
    "## Naive bayes"
   ],
   "metadata": {
    "collapsed": false
   }
  },
  {
   "cell_type": "markdown",
   "source": [
    "### Water - no-water"
   ],
   "metadata": {
    "collapsed": false
   }
  },
  {
   "cell_type": "code",
   "execution_count": 41,
   "outputs": [
    {
     "name": "stdout",
     "output_type": "stream",
     "text": [
      "Model: \"sequential_1\"\n",
      "_________________________________________________________________\n",
      " Layer (type)                Output Shape              Param #   \n",
      "=================================================================\n",
      " multi_class_naive_bayes_la  (None, 2)                 48        \n",
      " yer_1 (MultiClassNaiveBaye                                      \n",
      " sLayer)                                                         \n",
      "                                                                 \n",
      " activation_1 (Activation)   (None, 2)                 0         \n",
      "                                                                 \n",
      "=================================================================\n",
      "Total params: 48 (192.00 Byte)\n",
      "Trainable params: 0 (0.00 Byte)\n",
      "Non-trainable params: 48 (192.00 Byte)\n",
      "_________________________________________________________________\n"
     ]
    }
   ],
   "source": [
    "model_new_gnb_binary_1 = tf.keras.models.Sequential([\n",
    "    layers.naive_bayes.MultiClassNaiveBayesLayer(num_features=12, num_of_categories=2, input_shape=(12,)),\n",
    "    Activation(\"softmax\")\n",
    "])\n",
    "\n",
    "# Assuming you've trained or set the weights, you can then save the model:\n",
    "#save_model(model, 'naive_bayes_model.h5')\n",
    "model_new_gnb_binary_1.compile(loss='categorical_crossentropy', optimizer='adam', metrics=['accuracy', 'mse'])\n",
    "model_new_gnb_binary_1.summary()"
   ],
   "metadata": {
    "collapsed": false,
    "ExecuteTime": {
     "end_time": "2023-09-28T09:55:39.016152800Z",
     "start_time": "2023-09-28T09:55:38.864429600Z"
    }
   }
  },
  {
   "cell_type": "code",
   "execution_count": 42,
   "outputs": [
    {
     "data": {
      "text/plain": "{'water': 1, 'forest': 2, 'fields': 3, 'city': 4, 'sands': 5, 'mountains': 6}"
     },
     "execution_count": 42,
     "metadata": {},
     "output_type": "execute_result"
    }
   ],
   "source": [
    "categories_map"
   ],
   "metadata": {
    "collapsed": false,
    "ExecuteTime": {
     "end_time": "2023-09-28T09:55:40.014900300Z",
     "start_time": "2023-09-28T09:55:39.929384500Z"
    }
   }
  },
  {
   "cell_type": "code",
   "execution_count": 43,
   "outputs": [],
   "source": [
    "y_int_labels_1 = np.argmax(y_train_111, axis=-1)"
   ],
   "metadata": {
    "collapsed": false,
    "ExecuteTime": {
     "end_time": "2023-09-28T09:55:42.498260400Z",
     "start_time": "2023-09-28T09:55:42.234122600Z"
    }
   }
  },
  {
   "cell_type": "code",
   "execution_count": 44,
   "outputs": [
    {
     "data": {
      "text/plain": "6"
     },
     "execution_count": 44,
     "metadata": {},
     "output_type": "execute_result"
    }
   ],
   "source": [
    "y_int_labels_1.max()"
   ],
   "metadata": {
    "collapsed": false,
    "ExecuteTime": {
     "end_time": "2023-09-28T09:55:42.505368200Z",
     "start_time": "2023-09-28T09:55:42.421646400Z"
    }
   }
  },
  {
   "cell_type": "code",
   "execution_count": 45,
   "outputs": [],
   "source": [
    "y_int_labels_1[y_int_labels_1 != 1] = 2"
   ],
   "metadata": {
    "collapsed": false,
    "ExecuteTime": {
     "end_time": "2023-09-28T09:55:42.841130800Z",
     "start_time": "2023-09-28T09:55:42.653125100Z"
    }
   }
  },
  {
   "cell_type": "code",
   "execution_count": 46,
   "outputs": [
    {
     "data": {
      "text/plain": "2"
     },
     "execution_count": 46,
     "metadata": {},
     "output_type": "execute_result"
    }
   ],
   "source": [
    "y_int_labels_1.max()"
   ],
   "metadata": {
    "collapsed": false,
    "ExecuteTime": {
     "end_time": "2023-09-28T09:55:43.295755600Z",
     "start_time": "2023-09-28T09:55:43.220296200Z"
    }
   }
  },
  {
   "cell_type": "code",
   "execution_count": 47,
   "outputs": [],
   "source": [
    "y_int_labels_1 = y_int_labels_1-1"
   ],
   "metadata": {
    "collapsed": false,
    "ExecuteTime": {
     "end_time": "2023-09-28T09:55:43.714225800Z",
     "start_time": "2023-09-28T09:55:43.569824Z"
    }
   }
  },
  {
   "cell_type": "code",
   "execution_count": 48,
   "outputs": [
    {
     "data": {
      "text/plain": "1"
     },
     "execution_count": 48,
     "metadata": {},
     "output_type": "execute_result"
    }
   ],
   "source": [
    "y_int_labels_1.max()"
   ],
   "metadata": {
    "collapsed": false,
    "ExecuteTime": {
     "end_time": "2023-09-28T09:55:43.979792900Z",
     "start_time": "2023-09-28T09:55:43.817190600Z"
    }
   }
  },
  {
   "cell_type": "code",
   "execution_count": null,
   "outputs": [],
   "source": [
    "from imblearn.over_sampling import SMOTE\n",
    "sm = SMOTE(random_state=42)\n",
    "x_resampled_1, y_resampled_1 = sm.fit_resample(x_train_111, y_int_labels_1)"
   ],
   "metadata": {
    "collapsed": false,
    "is_executing": true,
    "ExecuteTime": {
     "start_time": "2023-09-28T15:35:40.406257100Z"
    }
   }
  },
  {
   "cell_type": "code",
   "execution_count": 49,
   "outputs": [],
   "source": [
    "means_1 = []\n",
    "variances_1 = []\n",
    "\n",
    "num_classes = 2  # or however many you have\n",
    "\n",
    "for i in range(num_classes):\n",
    "    means_1.append(np.mean(x_train_111[y_int_labels_1 == i], axis=0))\n",
    "    variances_1.append(np.var(x_train_111[y_int_labels_1 == i], axis=0))\n",
    "\n",
    "means_1 = np.array(means_1)\n",
    "variances_1 = np.array(variances_1)"
   ],
   "metadata": {
    "collapsed": false,
    "ExecuteTime": {
     "end_time": "2023-09-28T09:55:46.941105900Z",
     "start_time": "2023-09-28T09:55:44.191017200Z"
    }
   }
  },
  {
   "cell_type": "code",
   "execution_count": 50,
   "outputs": [
    {
     "data": {
      "text/plain": "array([[0.02933434, 0.03338125, 0.03916715, 0.03483061, 0.03903008,\n        0.02419031, 0.02348292, 0.0212318 , 0.01637849, 0.01084627,\n        0.00987053, 0.01845756],\n       [0.02788477, 0.03564478, 0.04901504, 0.05831729, 0.07696233,\n        0.11539255, 0.133244  , 0.14025955, 0.14743847, 0.14113662,\n        0.10868028, 0.14656533]], dtype=float32)"
     },
     "execution_count": 50,
     "metadata": {},
     "output_type": "execute_result"
    }
   ],
   "source": [
    "means_1"
   ],
   "metadata": {
    "collapsed": false,
    "ExecuteTime": {
     "end_time": "2023-09-28T09:55:46.949125800Z",
     "start_time": "2023-09-28T09:55:46.945386300Z"
    }
   }
  },
  {
   "cell_type": "code",
   "execution_count": 51,
   "outputs": [],
   "source": [
    "model_new_gnb_binary_1.layers[0].set_weights([means_1, variances_1])"
   ],
   "metadata": {
    "collapsed": false,
    "ExecuteTime": {
     "end_time": "2023-09-28T09:55:47.084845700Z",
     "start_time": "2023-09-28T09:55:46.950131700Z"
    }
   }
  },
  {
   "cell_type": "code",
   "execution_count": 52,
   "outputs": [
    {
     "name": "stdout",
     "output_type": "stream",
     "text": [
      "564/564 [==============================] - 2s 3ms/step\n"
     ]
    }
   ],
   "source": [
    "nb_pred_res_core_binary_1 = model_new_gnb_binary_1.predict(x_tests_1_vector, batch_size=2048)"
   ],
   "metadata": {
    "collapsed": false,
    "ExecuteTime": {
     "end_time": "2023-09-28T09:55:52.083654600Z",
     "start_time": "2023-09-28T09:55:48.920877Z"
    }
   }
  },
  {
   "cell_type": "code",
   "execution_count": 53,
   "outputs": [],
   "source": [
    "nb_pred_res_core_binary_1_cateries = tf.argmax(nb_pred_res_core_binary_1, axis=-1).numpy()"
   ],
   "metadata": {
    "collapsed": false,
    "ExecuteTime": {
     "end_time": "2023-09-28T09:55:52.191303700Z",
     "start_time": "2023-09-28T09:55:52.123899100Z"
    }
   }
  },
  {
   "cell_type": "code",
   "execution_count": 54,
   "outputs": [
    {
     "name": "stdout",
     "output_type": "stream",
     "text": [
      "Num of water is 502981\n"
     ]
    }
   ],
   "source": [
    "print(f\"Num of water is {len(nb_pred_res_core_binary_1_cateries[nb_pred_res_core_binary_1_cateries == 0])}\")"
   ],
   "metadata": {
    "collapsed": false,
    "ExecuteTime": {
     "end_time": "2023-09-28T09:55:52.824890300Z",
     "start_time": "2023-09-28T09:55:52.736689600Z"
    }
   }
  },
  {
   "cell_type": "code",
   "execution_count": 55,
   "outputs": [],
   "source": [
    "y_tests_1_vector_categories_1 = y_tests_1_vector_categories.copy()"
   ],
   "metadata": {
    "collapsed": false,
    "ExecuteTime": {
     "end_time": "2023-09-28T09:55:53.849708200Z",
     "start_time": "2023-09-28T09:55:53.747418100Z"
    }
   }
  },
  {
   "cell_type": "code",
   "execution_count": 56,
   "outputs": [],
   "source": [
    "y_tests_1_vector_categories_1[y_tests_1_vector_categories_1 != 0] = 1"
   ],
   "metadata": {
    "collapsed": false,
    "ExecuteTime": {
     "end_time": "2023-09-28T09:55:54.304232700Z",
     "start_time": "2023-09-28T09:55:54.232679200Z"
    }
   }
  },
  {
   "cell_type": "code",
   "execution_count": 57,
   "outputs": [
    {
     "data": {
      "text/plain": "1"
     },
     "execution_count": 57,
     "metadata": {},
     "output_type": "execute_result"
    }
   ],
   "source": [
    "y_tests_1_vector_categories_1.max()"
   ],
   "metadata": {
    "collapsed": false,
    "ExecuteTime": {
     "end_time": "2023-09-28T09:55:54.773897700Z",
     "start_time": "2023-09-28T09:55:54.702729800Z"
    }
   }
  },
  {
   "cell_type": "code",
   "execution_count": 58,
   "outputs": [
    {
     "data": {
      "text/plain": "0.8540549853169326"
     },
     "execution_count": 58,
     "metadata": {},
     "output_type": "execute_result"
    }
   ],
   "source": [
    "accuracy_score(nb_pred_res_core_binary_1_cateries.flatten(), y_tests_1_vector_categories_1.flatten())"
   ],
   "metadata": {
    "collapsed": false,
    "ExecuteTime": {
     "end_time": "2023-09-28T09:55:55.542070600Z",
     "start_time": "2023-09-28T09:55:55.406048800Z"
    }
   }
  },
  {
   "cell_type": "code",
   "execution_count": 65,
   "outputs": [
    {
     "name": "stdout",
     "output_type": "stream",
     "text": [
      "448/448 [==============================] - 3s 6ms/step\n"
     ]
    }
   ],
   "source": [
    "nb_binary_pic_1 = model_new_gnb_binary_1.predict(test_arr_to_pred, batch_size=2048)"
   ],
   "metadata": {
    "collapsed": false,
    "ExecuteTime": {
     "end_time": "2023-09-28T09:56:57.141374900Z",
     "start_time": "2023-09-28T09:56:54.008764400Z"
    }
   }
  },
  {
   "cell_type": "code",
   "execution_count": 66,
   "outputs": [],
   "source": [
    "nb_binary_pic_1_cat = tf.argmax(nb_binary_pic_1, axis=-1).numpy()"
   ],
   "metadata": {
    "collapsed": false,
    "ExecuteTime": {
     "end_time": "2023-09-28T09:56:57.818730100Z",
     "start_time": "2023-09-28T09:56:57.730645200Z"
    }
   }
  },
  {
   "cell_type": "code",
   "execution_count": 67,
   "outputs": [
    {
     "data": {
      "text/plain": "1"
     },
     "execution_count": 67,
     "metadata": {},
     "output_type": "execute_result"
    }
   ],
   "source": [
    "nb_binary_pic_1_cat.max()"
   ],
   "metadata": {
    "collapsed": false,
    "ExecuteTime": {
     "end_time": "2023-09-28T09:56:59.426011600Z",
     "start_time": "2023-09-28T09:56:59.066152Z"
    }
   }
  },
  {
   "cell_type": "code",
   "execution_count": 68,
   "outputs": [],
   "source": [
    "nb_binary_pic_1_pic = nb_binary_pic_1_cat.reshape(733,1250)"
   ],
   "metadata": {
    "collapsed": false,
    "ExecuteTime": {
     "end_time": "2023-09-28T09:56:59.506924600Z",
     "start_time": "2023-09-28T09:56:59.332693100Z"
    }
   }
  },
  {
   "cell_type": "code",
   "execution_count": 69,
   "outputs": [],
   "source": [
    "nb_binary_pic_1_pic = nb_binary_pic_1_pic +1"
   ],
   "metadata": {
    "collapsed": false,
    "ExecuteTime": {
     "end_time": "2023-09-28T09:56:59.815950400Z",
     "start_time": "2023-09-28T09:56:59.688310500Z"
    }
   }
  },
  {
   "cell_type": "code",
   "execution_count": 70,
   "outputs": [
    {
     "data": {
      "text/plain": "2"
     },
     "execution_count": 70,
     "metadata": {},
     "output_type": "execute_result"
    }
   ],
   "source": [
    "nb_binary_pic_1_pic.max()"
   ],
   "metadata": {
    "collapsed": false,
    "ExecuteTime": {
     "end_time": "2023-09-28T09:57:00.270400700Z",
     "start_time": "2023-09-28T09:57:00.204497200Z"
    }
   }
  },
  {
   "cell_type": "code",
   "execution_count": 71,
   "outputs": [
    {
     "data": {
      "text/plain": "<matplotlib.legend.Legend at 0x7fcc46544b10>"
     },
     "execution_count": 71,
     "metadata": {},
     "output_type": "execute_result"
    },
    {
     "data": {
      "text/plain": "<Figure size 640x480 with 1 Axes>",
      "image/png": "[encoded data removed]"
     },
     "metadata": {},
     "output_type": "display_data"
    }
   ],
   "source": [
    "from matplotlib.colors import ListedColormap\n",
    "import earthpy.plot as ep\n",
    "import matplotlib.pyplot as plt\n",
    "\n",
    "# im = ep.plot_bands(nb_binary_pic_1_pic,\n",
    "#                    vmin=1, vmax=6,\n",
    "#               cmap=ListedColormap(['green', 'purple', 'orange', 'blue', 'yellow','red']))\n",
    "#ep.make_col_list()\n",
    "im = plt.imshow(nb_binary_pic_1_pic,\n",
    "           vmin=1,vmax=6,\n",
    "               cmap=ListedColormap(['blue', 'green', 'orange', 'grey', 'yellow','brown']))\n",
    "ep.draw_legend(im_ax = im, titles = [\"water\",\"nowater\"])\n",
    "#leg_neg = ep.draw_legend(im_ax = im, titles = categoreis_map_inverted.values())\n",
    "#plt.show()\n",
    "#im.legend(list(categoreis_map_inverted.values()))\n",
    "# cbar = plt.colorbar(fraction=0.046, pad=0.04)\n",
    "# #\n",
    "# cbar.set_ticks(list(categoreis_map_inverted.keys()))\n",
    "# cbar.set_ticklabels(list(categoreis_map_inverted.values()))\n",
    "\n",
    "# plt.show()"
   ],
   "metadata": {
    "collapsed": false,
    "ExecuteTime": {
     "end_time": "2023-09-28T09:57:02.723968700Z",
     "start_time": "2023-09-28T09:57:00.982797400Z"
    }
   }
  },
  {
   "cell_type": "code",
   "execution_count": 130,
   "outputs": [],
   "source": [
    "model_new_gnb_binary_1.save(\"nb_binary_water_nowater.keras\")"
   ],
   "metadata": {
    "collapsed": false,
    "ExecuteTime": {
     "end_time": "2023-09-26T16:02:28.071675500Z",
     "start_time": "2023-09-26T16:02:27.932920Z"
    }
   }
  },
  {
   "cell_type": "markdown",
   "source": [
    "### Forest non-Forest"
   ],
   "metadata": {
    "collapsed": false
   }
  },
  {
   "cell_type": "code",
   "execution_count": 101,
   "outputs": [
    {
     "name": "stdout",
     "output_type": "stream",
     "text": [
      "Model: \"sequential_3\"\n",
      "_________________________________________________________________\n",
      " Layer (type)                Output Shape              Param #   \n",
      "=================================================================\n",
      " multi_class_naive_bayes_la  (None, 2)                 48        \n",
      " yer_3 (MultiClassNaiveBaye                                      \n",
      " sLayer)                                                         \n",
      "                                                                 \n",
      " activation_3 (Activation)   (None, 2)                 0         \n",
      "                                                                 \n",
      "=================================================================\n",
      "Total params: 48 (192.00 Byte)\n",
      "Trainable params: 0 (0.00 Byte)\n",
      "Non-trainable params: 48 (192.00 Byte)\n",
      "_________________________________________________________________\n"
     ]
    }
   ],
   "source": [
    "model_new_gnb_binary_2 = tf.keras.models.Sequential([\n",
    "    layers.naive_bayes.MultiClassNaiveBayesLayer(num_features=12, num_of_categories=2, input_shape=(12,)),\n",
    "    Activation(\"softmax\")\n",
    "])\n",
    "\n",
    "# Assuming you've trained or set the weights, you can then save the model:\n",
    "#save_model(model, 'naive_bayes_model.h5')\n",
    "model_new_gnb_binary_2.compile(loss='categorical_crossentropy', optimizer='adam', metrics=['accuracy', 'mse'])\n",
    "model_new_gnb_binary_2.summary()"
   ],
   "metadata": {
    "collapsed": false,
    "ExecuteTime": {
     "end_time": "2023-09-28T09:57:46.685194700Z",
     "start_time": "2023-09-28T09:57:46.549285800Z"
    }
   }
  },
  {
   "cell_type": "code",
   "execution_count": 102,
   "outputs": [],
   "source": [
    "y_train_2 = np.argmax(y_train_111, axis=-1)"
   ],
   "metadata": {
    "collapsed": false,
    "ExecuteTime": {
     "end_time": "2023-09-28T09:57:47.162451600Z",
     "start_time": "2023-09-28T09:57:46.929260100Z"
    }
   }
  },
  {
   "cell_type": "code",
   "execution_count": 103,
   "outputs": [],
   "source": [
    "y_water_idx = np.where(y_train_2 == 1)[0]"
   ],
   "metadata": {
    "collapsed": false,
    "ExecuteTime": {
     "end_time": "2023-09-28T09:57:47.262909800Z",
     "start_time": "2023-09-28T09:57:47.131488300Z"
    }
   }
  },
  {
   "cell_type": "code",
   "execution_count": 104,
   "outputs": [
    {
     "data": {
      "text/plain": "array([   4096,    4097,    4098, ..., 9244669, 9244670, 9244671])"
     },
     "execution_count": 104,
     "metadata": {},
     "output_type": "execute_result"
    }
   ],
   "source": [
    "y_water_idx"
   ],
   "metadata": {
    "collapsed": false,
    "ExecuteTime": {
     "end_time": "2023-09-28T09:57:47.683407300Z",
     "start_time": "2023-09-28T09:57:47.616357600Z"
    }
   }
  },
  {
   "cell_type": "code",
   "execution_count": 105,
   "outputs": [],
   "source": [
    "water_mask_x = np.ones(x_train_111.shape, dtype=bool)\n",
    "water_mask_x[y_water_idx,:] = False"
   ],
   "metadata": {
    "collapsed": false,
    "ExecuteTime": {
     "end_time": "2023-09-28T09:57:48.175863100Z",
     "start_time": "2023-09-28T09:57:48.005710Z"
    }
   }
  },
  {
   "cell_type": "code",
   "execution_count": 106,
   "outputs": [],
   "source": [
    "water_mask_y = np.ones(y_train_111.shape, dtype=bool)\n",
    "water_mask_y[y_water_idx,:] = False"
   ],
   "metadata": {
    "collapsed": false,
    "ExecuteTime": {
     "end_time": "2023-09-28T09:57:48.558579Z",
     "start_time": "2023-09-28T09:57:48.421715700Z"
    }
   }
  },
  {
   "cell_type": "code",
   "execution_count": 107,
   "outputs": [],
   "source": [
    "x_train_2 = np.delete(x_train_111, y_water_idx, axis=0)"
   ],
   "metadata": {
    "collapsed": false,
    "ExecuteTime": {
     "end_time": "2023-09-28T09:57:49.216375600Z",
     "start_time": "2023-09-28T09:57:48.952811900Z"
    }
   }
  },
  {
   "cell_type": "code",
   "execution_count": 107,
   "outputs": [],
   "source": [],
   "metadata": {
    "collapsed": false,
    "ExecuteTime": {
     "end_time": "2023-09-28T09:57:49.825103600Z",
     "start_time": "2023-09-28T09:57:49.746065200Z"
    }
   }
  },
  {
   "cell_type": "code",
   "execution_count": 108,
   "outputs": [
    {
     "data": {
      "text/plain": "1"
     },
     "execution_count": 108,
     "metadata": {},
     "output_type": "execute_result"
    }
   ],
   "source": [
    "y_train_2.min()"
   ],
   "metadata": {
    "collapsed": false,
    "ExecuteTime": {
     "end_time": "2023-09-28T09:57:50.146291800Z",
     "start_time": "2023-09-28T09:57:50.077225300Z"
    }
   }
  },
  {
   "cell_type": "code",
   "execution_count": 109,
   "outputs": [],
   "source": [
    "y_train_2_labels = np.delete(y_train_2, y_water_idx)"
   ],
   "metadata": {
    "collapsed": false,
    "ExecuteTime": {
     "end_time": "2023-09-28T09:57:52.146125200Z",
     "start_time": "2023-09-28T09:57:52.069407600Z"
    }
   }
  },
  {
   "cell_type": "code",
   "execution_count": 110,
   "outputs": [],
   "source": [
    "y_train_2_labels[y_train_2_labels == 2] = 0"
   ],
   "metadata": {
    "collapsed": false,
    "ExecuteTime": {
     "end_time": "2023-09-28T09:57:52.471093800Z",
     "start_time": "2023-09-28T09:57:52.378201800Z"
    }
   }
  },
  {
   "cell_type": "code",
   "execution_count": 111,
   "outputs": [],
   "source": [
    "y_train_2_labels[y_train_2_labels != 0] = 1"
   ],
   "metadata": {
    "collapsed": false,
    "ExecuteTime": {
     "end_time": "2023-09-28T09:57:52.817153500Z",
     "start_time": "2023-09-28T09:57:52.693003900Z"
    }
   }
  },
  {
   "cell_type": "code",
   "execution_count": 112,
   "outputs": [],
   "source": [
    "# x_train_2 = np.delete(x_train_111, y_water_idx)\n",
    "# y_train_2 = np.delete(y_train_111, y_water_idx)"
   ],
   "metadata": {
    "collapsed": false,
    "ExecuteTime": {
     "end_time": "2023-09-28T09:57:53.859210500Z",
     "start_time": "2023-09-28T09:57:53.782399500Z"
    }
   }
  },
  {
   "cell_type": "code",
   "execution_count": 113,
   "outputs": [
    {
     "data": {
      "text/plain": "(9256960, 7)"
     },
     "execution_count": 113,
     "metadata": {},
     "output_type": "execute_result"
    }
   ],
   "source": [
    "y_train_111.shape"
   ],
   "metadata": {
    "collapsed": false,
    "ExecuteTime": {
     "end_time": "2023-09-28T09:57:54.482607700Z",
     "start_time": "2023-09-28T09:57:54.379678800Z"
    }
   }
  },
  {
   "cell_type": "code",
   "execution_count": 114,
   "outputs": [],
   "source": [
    "means_2 = []\n",
    "variances_2 = []\n",
    "\n",
    "num_classes = 2  # or however many you have\n",
    "\n",
    "for i in range(num_classes):\n",
    "    means_2.append(np.mean(x_train_2[y_train_2_labels == i], axis=0))\n",
    "    variances_2.append(np.var(x_train_2[y_train_2_labels == i], axis=0))\n",
    "\n",
    "means_2 = np.array(means_2)\n",
    "variances_2 = np.array(variances_2)"
   ],
   "metadata": {
    "collapsed": false,
    "ExecuteTime": {
     "end_time": "2023-09-28T09:57:55.417568100Z",
     "start_time": "2023-09-28T09:57:54.820014500Z"
    }
   }
  },
  {
   "cell_type": "code",
   "execution_count": 119,
   "outputs": [],
   "source": [
    "model_new_gnb_binary_2.layers[0].set_weights([means_2, variances_2])"
   ],
   "metadata": {
    "collapsed": false,
    "ExecuteTime": {
     "end_time": "2023-09-28T09:58:13.610157300Z",
     "start_time": "2023-09-28T09:58:13.497999400Z"
    }
   }
  },
  {
   "cell_type": "code",
   "execution_count": 120,
   "outputs": [],
   "source": [
    "y_water_idx_tests = np.where(y_tests_1_vector_categories_1 == 0)[0]"
   ],
   "metadata": {
    "collapsed": false,
    "ExecuteTime": {
     "end_time": "2023-09-28T09:58:14.091360500Z",
     "start_time": "2023-09-28T09:58:13.892594500Z"
    }
   }
  },
  {
   "cell_type": "code",
   "execution_count": 121,
   "outputs": [],
   "source": [
    "x_tests_2_vector = np.delete(x_tests_1_vector, y_water_idx_tests, axis=0)"
   ],
   "metadata": {
    "collapsed": false,
    "ExecuteTime": {
     "end_time": "2023-09-28T09:58:14.483523200Z",
     "start_time": "2023-09-28T09:58:14.301018300Z"
    }
   }
  },
  {
   "cell_type": "code",
   "execution_count": 122,
   "outputs": [
    {
     "name": "stdout",
     "output_type": "stream",
     "text": [
      "382/382 [==============================] - 1s 3ms/step\n"
     ]
    }
   ],
   "source": [
    "nb_pred_res_core_binary_2 = model_new_gnb_binary_2.predict(x_tests_2_vector, batch_size=2048)"
   ],
   "metadata": {
    "collapsed": false,
    "ExecuteTime": {
     "end_time": "2023-09-28T09:58:16.574908400Z",
     "start_time": "2023-09-28T09:58:14.722267600Z"
    }
   }
  },
  {
   "cell_type": "code",
   "execution_count": 123,
   "outputs": [],
   "source": [
    "y_tests_1_vector_categories_2 = y_tests_1_vector_categories.copy()"
   ],
   "metadata": {
    "collapsed": false,
    "ExecuteTime": {
     "end_time": "2023-09-28T09:58:16.744821900Z",
     "start_time": "2023-09-28T09:58:16.508346200Z"
    }
   }
  },
  {
   "cell_type": "code",
   "execution_count": 124,
   "outputs": [],
   "source": [
    "y_tests_1_vector_categories_2 = np.delete(y_tests_1_vector_categories_2, y_water_idx_tests, axis=0)"
   ],
   "metadata": {
    "collapsed": false,
    "ExecuteTime": {
     "end_time": "2023-09-28T09:58:16.857476800Z",
     "start_time": "2023-09-28T09:58:16.668401300Z"
    }
   }
  },
  {
   "cell_type": "code",
   "execution_count": 125,
   "outputs": [],
   "source": [
    "y_tests_1_vector_categories_2_replaced = y_tests_1_vector_categories_2.copy()"
   ],
   "metadata": {
    "collapsed": false,
    "ExecuteTime": {
     "end_time": "2023-09-28T09:58:17.336006700Z",
     "start_time": "2023-09-28T09:58:17.249108600Z"
    }
   }
  },
  {
   "cell_type": "code",
   "execution_count": 126,
   "outputs": [
    {
     "data": {
      "text/plain": "1"
     },
     "execution_count": 126,
     "metadata": {},
     "output_type": "execute_result"
    }
   ],
   "source": [
    "y_tests_1_vector_categories_2_replaced.min()"
   ],
   "metadata": {
    "collapsed": false,
    "ExecuteTime": {
     "end_time": "2023-09-28T09:58:18.365818800Z",
     "start_time": "2023-09-28T09:58:18.281037600Z"
    }
   }
  },
  {
   "cell_type": "code",
   "execution_count": 130,
   "outputs": [],
   "source": [
    "y_tests_1_vector_categories_2_replaced[y_tests_1_vector_categories_2_replaced == 1] = 0\n",
    "y_tests_1_vector_categories_2_replaced[y_tests_1_vector_categories_2_replaced != 0] = 1\n"
   ],
   "metadata": {
    "collapsed": false,
    "ExecuteTime": {
     "end_time": "2023-09-28T09:59:13.768553400Z",
     "start_time": "2023-09-28T09:59:13.673805100Z"
    }
   }
  },
  {
   "cell_type": "code",
   "execution_count": 131,
   "outputs": [
    {
     "data": {
      "text/plain": "0"
     },
     "execution_count": 131,
     "metadata": {},
     "output_type": "execute_result"
    }
   ],
   "source": [
    "y_tests_1_vector_categories_2_replaced.min()"
   ],
   "metadata": {
    "collapsed": false,
    "ExecuteTime": {
     "end_time": "2023-09-28T09:59:14.320691100Z",
     "start_time": "2023-09-28T09:59:14.245249Z"
    }
   }
  },
  {
   "cell_type": "code",
   "execution_count": 132,
   "outputs": [],
   "source": [
    "nb_pred_res_core_binary_2_vector = tf.argmax(nb_pred_res_core_binary_2, axis=-1).numpy()"
   ],
   "metadata": {
    "collapsed": false,
    "ExecuteTime": {
     "end_time": "2023-09-28T09:59:15.164413100Z",
     "start_time": "2023-09-28T09:59:15.092261800Z"
    }
   }
  },
  {
   "cell_type": "code",
   "execution_count": 133,
   "outputs": [
    {
     "data": {
      "text/plain": "0"
     },
     "execution_count": 133,
     "metadata": {},
     "output_type": "execute_result"
    }
   ],
   "source": [
    "nb_pred_res_core_binary_2_vector.min()"
   ],
   "metadata": {
    "collapsed": false,
    "ExecuteTime": {
     "end_time": "2023-09-28T09:59:15.852248Z",
     "start_time": "2023-09-28T09:59:15.768730900Z"
    }
   }
  },
  {
   "cell_type": "code",
   "execution_count": 134,
   "outputs": [],
   "source": [
    "#y_tests_1_vector_categories_2_replaced = y_tests_1_vector_categories_2_replaced - 1"
   ],
   "metadata": {
    "collapsed": false,
    "ExecuteTime": {
     "end_time": "2023-09-28T09:59:17.567563600Z",
     "start_time": "2023-09-28T09:59:17.332451800Z"
    }
   }
  },
  {
   "cell_type": "code",
   "execution_count": 135,
   "outputs": [
    {
     "data": {
      "text/plain": "0.8106862013252618"
     },
     "execution_count": 135,
     "metadata": {},
     "output_type": "execute_result"
    }
   ],
   "source": [
    "accuracy_score(nb_pred_res_core_binary_2_vector, y_tests_1_vector_categories_2_replaced)"
   ],
   "metadata": {
    "collapsed": false,
    "ExecuteTime": {
     "end_time": "2023-09-28T09:59:18.152129Z",
     "start_time": "2023-09-28T09:59:17.913643900Z"
    }
   }
  },
  {
   "cell_type": "code",
   "execution_count": 136,
   "outputs": [
    {
     "data": {
      "text/plain": "'              precision    recall  f1-score   support\\n\\n           0       0.95      0.48      0.63    269401\\n           1       0.78      0.99      0.87    512935\\n\\n    accuracy                           0.81    782336\\n   macro avg       0.87      0.73      0.75    782336\\nweighted avg       0.84      0.81      0.79    782336\\n'"
     },
     "execution_count": 136,
     "metadata": {},
     "output_type": "execute_result"
    }
   ],
   "source": [
    "classification_report(nb_pred_res_core_binary_2_vector, y_tests_1_vector_categories_2_replaced)"
   ],
   "metadata": {
    "collapsed": false,
    "ExecuteTime": {
     "end_time": "2023-09-28T09:59:26.473548700Z",
     "start_time": "2023-09-28T09:59:25.652528900Z"
    }
   }
  },
  {
   "cell_type": "code",
   "execution_count": 137,
   "outputs": [],
   "source": [
    "pic_water_idxs = np.where(nb_binary_pic_1_cat == 0)[0]"
   ],
   "metadata": {
    "collapsed": false,
    "ExecuteTime": {
     "end_time": "2023-09-28T09:59:26.474553600Z",
     "start_time": "2023-09-28T09:59:26.430117100Z"
    }
   }
  },
  {
   "cell_type": "code",
   "execution_count": 138,
   "outputs": [
    {
     "data": {
      "text/plain": "1"
     },
     "execution_count": 138,
     "metadata": {},
     "output_type": "execute_result"
    }
   ],
   "source": [
    "nb_binary_pic_1_cat.max()"
   ],
   "metadata": {
    "collapsed": false,
    "ExecuteTime": {
     "end_time": "2023-09-28T09:59:27.369171500Z",
     "start_time": "2023-09-28T09:59:27.285513Z"
    }
   }
  },
  {
   "cell_type": "code",
   "execution_count": 139,
   "outputs": [],
   "source": [
    "pic_without_water = np.delete(test_arr_to_pred, pic_water_idxs, axis=0)"
   ],
   "metadata": {
    "collapsed": false,
    "ExecuteTime": {
     "end_time": "2023-09-28T09:59:28.350221300Z",
     "start_time": "2023-09-28T09:59:28.201144Z"
    }
   }
  },
  {
   "cell_type": "code",
   "execution_count": 140,
   "outputs": [
    {
     "name": "stdout",
     "output_type": "stream",
     "text": [
      "236/236 [==============================] - 1s 3ms/step\n"
     ]
    }
   ],
   "source": [
    "pic_forest_nonforest_pred = model_new_gnb_binary_2.predict(pic_without_water, batch_size=2048)"
   ],
   "metadata": {
    "collapsed": false,
    "ExecuteTime": {
     "end_time": "2023-09-28T09:59:29.666744100Z",
     "start_time": "2023-09-28T09:59:28.665483600Z"
    }
   }
  },
  {
   "cell_type": "code",
   "execution_count": 141,
   "outputs": [],
   "source": [
    "pic_forest_nonforest_pred_vector = tf.argmax(pic_forest_nonforest_pred, axis=-1).numpy()"
   ],
   "metadata": {
    "collapsed": false,
    "ExecuteTime": {
     "end_time": "2023-09-28T09:59:30.842411200Z",
     "start_time": "2023-09-28T09:59:30.514104200Z"
    }
   }
  },
  {
   "cell_type": "code",
   "execution_count": 142,
   "outputs": [
    {
     "data": {
      "text/plain": "1"
     },
     "execution_count": 142,
     "metadata": {},
     "output_type": "execute_result"
    }
   ],
   "source": [
    "pic_forest_nonforest_pred_vector.max()"
   ],
   "metadata": {
    "collapsed": false,
    "ExecuteTime": {
     "end_time": "2023-09-28T09:59:31.553317500Z",
     "start_time": "2023-09-28T09:59:31.468370100Z"
    }
   }
  },
  {
   "cell_type": "code",
   "execution_count": 143,
   "outputs": [],
   "source": [
    "pic_forest_nonforest_pred_vector_tocombine = pic_forest_nonforest_pred_vector.copy()"
   ],
   "metadata": {
    "collapsed": false,
    "ExecuteTime": {
     "end_time": "2023-09-28T09:59:34.099189700Z",
     "start_time": "2023-09-28T09:59:33.927211800Z"
    }
   }
  },
  {
   "cell_type": "code",
   "execution_count": 144,
   "outputs": [],
   "source": [
    "pic_forest_nonforest_pred_vector_tocombine = pic_forest_nonforest_pred_vector_tocombine + 1"
   ],
   "metadata": {
    "collapsed": false,
    "ExecuteTime": {
     "end_time": "2023-09-28T09:59:34.469093500Z",
     "start_time": "2023-09-28T09:59:34.286944400Z"
    }
   }
  },
  {
   "cell_type": "code",
   "execution_count": 145,
   "outputs": [
    {
     "data": {
      "text/plain": "916250"
     },
     "execution_count": 145,
     "metadata": {},
     "output_type": "execute_result"
    }
   ],
   "source": [
    "nb_binary_pic_1_cat.shape[0]"
   ],
   "metadata": {
    "collapsed": false,
    "ExecuteTime": {
     "end_time": "2023-09-28T09:59:35.037305600Z",
     "start_time": "2023-09-28T09:59:34.953589700Z"
    }
   }
  },
  {
   "cell_type": "code",
   "execution_count": 146,
   "outputs": [],
   "source": [
    "combined_vec = np.empty(nb_binary_pic_1_cat.shape[0], dtype=int)"
   ],
   "metadata": {
    "collapsed": false,
    "ExecuteTime": {
     "end_time": "2023-09-28T09:59:35.702785100Z",
     "start_time": "2023-09-28T09:59:35.618463700Z"
    }
   }
  },
  {
   "cell_type": "code",
   "execution_count": 147,
   "outputs": [],
   "source": [
    "combined_vec[pic_water_idxs] = 0"
   ],
   "metadata": {
    "collapsed": false,
    "ExecuteTime": {
     "end_time": "2023-09-28T09:59:36.200505900Z",
     "start_time": "2023-09-28T09:59:36.091090400Z"
    }
   }
  },
  {
   "cell_type": "code",
   "execution_count": 148,
   "outputs": [],
   "source": [
    "other_idxs = np.setdiff1d(np.arange(nb_binary_pic_1_cat.shape[0]), pic_water_idxs)"
   ],
   "metadata": {
    "collapsed": false,
    "ExecuteTime": {
     "end_time": "2023-09-28T09:59:36.682526500Z",
     "start_time": "2023-09-28T09:59:36.480021800Z"
    }
   }
  },
  {
   "cell_type": "code",
   "execution_count": 149,
   "outputs": [],
   "source": [
    "combined_vec[other_idxs] = pic_forest_nonforest_pred_vector_tocombine"
   ],
   "metadata": {
    "collapsed": false,
    "ExecuteTime": {
     "end_time": "2023-09-28T09:59:37.072879600Z",
     "start_time": "2023-09-28T09:59:36.882532500Z"
    }
   }
  },
  {
   "cell_type": "code",
   "execution_count": 150,
   "outputs": [],
   "source": [
    "combined_vec = combined_vec + 1"
   ],
   "metadata": {
    "collapsed": false,
    "ExecuteTime": {
     "end_time": "2023-09-28T09:59:37.445199100Z",
     "start_time": "2023-09-28T09:59:37.314691700Z"
    }
   }
  },
  {
   "cell_type": "code",
   "execution_count": 151,
   "outputs": [],
   "source": [
    "combined_pic_1 = combined_vec.reshape(733,1250)"
   ],
   "metadata": {
    "collapsed": false,
    "ExecuteTime": {
     "end_time": "2023-09-28T09:59:38.004939300Z",
     "start_time": "2023-09-28T09:59:37.898283700Z"
    }
   }
  },
  {
   "cell_type": "code",
   "execution_count": 152,
   "outputs": [
    {
     "data": {
      "text/plain": "<matplotlib.legend.Legend at 0x7fcc45ecaf50>"
     },
     "execution_count": 152,
     "metadata": {},
     "output_type": "execute_result"
    },
    {
     "data": {
      "text/plain": "<Figure size 640x480 with 1 Axes>",
      "image/png": "[encoded data removed]"
     },
     "metadata": {},
     "output_type": "display_data"
    }
   ],
   "source": [
    "from matplotlib.colors import ListedColormap\n",
    "import earthpy.plot as ep\n",
    "import matplotlib.pyplot as plt\n",
    "\n",
    "# im = ep.plot_bands(nb_binary_pic_1_pic,\n",
    "#                    vmin=1, vmax=6,\n",
    "#               cmap=ListedColormap(['green', 'purple', 'orange', 'blue', 'yellow','red']))\n",
    "#ep.make_col_list()\n",
    "im = plt.imshow(combined_pic_1,\n",
    "           vmin=1,vmax=6,\n",
    "               cmap=ListedColormap(['blue', 'green', 'orange', 'grey', 'yellow','brown']))\n",
    "ep.draw_legend(im_ax = im, titles = [\"water\",\"forest\", \"other\"])"
   ],
   "metadata": {
    "collapsed": false,
    "ExecuteTime": {
     "end_time": "2023-09-28T09:59:38.868070600Z",
     "start_time": "2023-09-28T09:59:38.582123800Z"
    }
   }
  },
  {
   "cell_type": "code",
   "execution_count": 153,
   "outputs": [],
   "source": [
    "y_tests_1_vector_categories_water_forest = y_tests_1_vector_categories.copy()"
   ],
   "metadata": {
    "collapsed": false,
    "ExecuteTime": {
     "end_time": "2023-09-28T09:59:45.380694900Z",
     "start_time": "2023-09-28T09:59:45.288199Z"
    }
   }
  },
  {
   "cell_type": "code",
   "execution_count": 121,
   "outputs": [],
   "source": [],
   "metadata": {
    "collapsed": false,
    "ExecuteTime": {
     "end_time": "2023-09-27T20:58:37.640099100Z",
     "start_time": "2023-09-27T20:58:37.524516800Z"
    }
   }
  },
  {
   "cell_type": "markdown",
   "source": [
    "### Fields non-fiedls"
   ],
   "metadata": {
    "collapsed": false
   }
  },
  {
   "cell_type": "code",
   "execution_count": 154,
   "outputs": [
    {
     "data": {
      "text/plain": "1"
     },
     "execution_count": 154,
     "metadata": {},
     "output_type": "execute_result"
    }
   ],
   "source": [
    "y_train_2_labels.max()"
   ],
   "metadata": {
    "collapsed": false,
    "ExecuteTime": {
     "end_time": "2023-09-28T09:59:50.403483500Z",
     "start_time": "2023-09-28T09:59:50.307212600Z"
    }
   }
  },
  {
   "cell_type": "code",
   "execution_count": 155,
   "outputs": [],
   "source": [
    "# y_train_forests_idx = np.where(y_train_2_labels == 0)[0]"
   ],
   "metadata": {
    "collapsed": false,
    "ExecuteTime": {
     "end_time": "2023-09-28T09:59:50.898219300Z",
     "start_time": "2023-09-28T09:59:50.799592500Z"
    }
   }
  },
  {
   "cell_type": "code",
   "execution_count": 155,
   "outputs": [],
   "source": [],
   "metadata": {
    "collapsed": false,
    "ExecuteTime": {
     "end_time": "2023-09-28T09:59:51.227753600Z",
     "start_time": "2023-09-28T09:59:51.143215700Z"
    }
   }
  },
  {
   "cell_type": "code",
   "execution_count": 156,
   "outputs": [],
   "source": [
    "y_int_labels_3 = np.argmax(y_train_111, axis=-1)"
   ],
   "metadata": {
    "collapsed": false,
    "ExecuteTime": {
     "end_time": "2023-09-28T09:59:51.795334800Z",
     "start_time": "2023-09-28T09:59:51.484202600Z"
    }
   }
  },
  {
   "cell_type": "code",
   "execution_count": 157,
   "outputs": [],
   "source": [
    "y_traint_forest_idx = np.where(y_int_labels_3 == 2)[0]"
   ],
   "metadata": {
    "collapsed": false,
    "ExecuteTime": {
     "end_time": "2023-09-28T09:59:52.049424900Z",
     "start_time": "2023-09-28T09:59:51.717673300Z"
    }
   }
  },
  {
   "cell_type": "code",
   "execution_count": 158,
   "outputs": [
    {
     "data": {
      "text/plain": "array([      0,       1,       2, ..., 9252861, 9252862, 9252863])"
     },
     "execution_count": 158,
     "metadata": {},
     "output_type": "execute_result"
    }
   ],
   "source": [
    "y_traint_forest_idx"
   ],
   "metadata": {
    "collapsed": false,
    "ExecuteTime": {
     "end_time": "2023-09-28T09:59:52.123651400Z",
     "start_time": "2023-09-28T09:59:51.982321Z"
    }
   }
  },
  {
   "cell_type": "code",
   "execution_count": 159,
   "outputs": [],
   "source": [
    "index_to_exclude_train_3 = np.concatenate([y_water_idx, y_traint_forest_idx])"
   ],
   "metadata": {
    "collapsed": false,
    "ExecuteTime": {
     "end_time": "2023-09-28T09:59:52.465682Z",
     "start_time": "2023-09-28T09:59:52.253138100Z"
    }
   }
  },
  {
   "cell_type": "code",
   "execution_count": 160,
   "outputs": [],
   "source": [
    "x_train_3 = np.delete(x_train_111, index_to_exclude_train_3, axis=0)"
   ],
   "metadata": {
    "collapsed": false,
    "ExecuteTime": {
     "end_time": "2023-09-28T09:59:54.787951700Z",
     "start_time": "2023-09-28T09:59:54.615425800Z"
    }
   }
  },
  {
   "cell_type": "code",
   "execution_count": 161,
   "outputs": [],
   "source": [
    "y_train_3 = np.delete(y_train_111, index_to_exclude_train_3, axis=0)"
   ],
   "metadata": {
    "collapsed": false,
    "ExecuteTime": {
     "end_time": "2023-09-28T09:59:55.193797900Z",
     "start_time": "2023-09-28T09:59:54.998572200Z"
    }
   }
  },
  {
   "cell_type": "code",
   "execution_count": 162,
   "outputs": [],
   "source": [
    "y_train_3_cat = np.argmax(y_train_3, axis=-1)"
   ],
   "metadata": {
    "collapsed": false,
    "ExecuteTime": {
     "end_time": "2023-09-28T09:59:55.609775300Z",
     "start_time": "2023-09-28T09:59:55.293353500Z"
    }
   }
  },
  {
   "cell_type": "code",
   "execution_count": 163,
   "outputs": [
    {
     "data": {
      "text/plain": "6"
     },
     "execution_count": 163,
     "metadata": {},
     "output_type": "execute_result"
    }
   ],
   "source": [
    "y_train_3_cat.max()"
   ],
   "metadata": {
    "collapsed": false,
    "ExecuteTime": {
     "end_time": "2023-09-28T09:59:55.689597500Z",
     "start_time": "2023-09-28T09:59:55.533882200Z"
    }
   }
  },
  {
   "cell_type": "code",
   "execution_count": 164,
   "outputs": [],
   "source": [
    "y_train_3_cat[y_train_3_cat == 3] = 0\n",
    "y_train_3_cat[y_train_3_cat != 0] = 1"
   ],
   "metadata": {
    "collapsed": false,
    "ExecuteTime": {
     "end_time": "2023-09-28T09:59:56.139189900Z",
     "start_time": "2023-09-28T09:59:55.918563100Z"
    }
   }
  },
  {
   "cell_type": "code",
   "execution_count": 165,
   "outputs": [
    {
     "name": "stdout",
     "output_type": "stream",
     "text": [
      "Model: \"sequential_4\"\n",
      "_________________________________________________________________\n",
      " Layer (type)                Output Shape              Param #   \n",
      "=================================================================\n",
      " multi_class_naive_bayes_la  (None, 2)                 48        \n",
      " yer_4 (MultiClassNaiveBaye                                      \n",
      " sLayer)                                                         \n",
      "                                                                 \n",
      " activation_4 (Activation)   (None, 2)                 0         \n",
      "                                                                 \n",
      "=================================================================\n",
      "Total params: 48 (192.00 Byte)\n",
      "Trainable params: 0 (0.00 Byte)\n",
      "Non-trainable params: 48 (192.00 Byte)\n",
      "_________________________________________________________________\n"
     ]
    }
   ],
   "source": [
    "model_new_gnb_binary_3 = tf.keras.models.Sequential([\n",
    "    layers.naive_bayes.MultiClassNaiveBayesLayer(num_features=12, num_of_categories=2, input_shape=(12,)),\n",
    "    Activation(\"softmax\")\n",
    "])\n",
    "\n",
    "# Assuming you've trained or set the weights, you can then save the model:\n",
    "#save_model(model, 'naive_bayes_model.h5')\n",
    "model_new_gnb_binary_3.compile(loss='categorical_crossentropy', optimizer='adam', metrics=['accuracy', 'mse'])\n",
    "model_new_gnb_binary_3.summary()"
   ],
   "metadata": {
    "collapsed": false,
    "ExecuteTime": {
     "end_time": "2023-09-28T09:59:56.522536600Z",
     "start_time": "2023-09-28T09:59:56.323476800Z"
    }
   }
  },
  {
   "cell_type": "code",
   "execution_count": 166,
   "outputs": [],
   "source": [
    "means_3 = []\n",
    "variances_3 = []\n",
    "\n",
    "num_classes = 2  # or however many you have\n",
    "\n",
    "for i in range(num_classes):\n",
    "    means_3.append(np.mean(x_train_3[y_train_3_cat == i], axis=0))\n",
    "    variances_3.append(np.var(x_train_3[y_train_3_cat == i], axis=0))\n",
    "\n",
    "means_3 = np.array(means_3)\n",
    "variances_3 = np.array(variances_3)"
   ],
   "metadata": {
    "collapsed": false,
    "ExecuteTime": {
     "end_time": "2023-09-28T09:59:57.280510300Z",
     "start_time": "2023-09-28T09:59:56.980152900Z"
    }
   }
  },
  {
   "cell_type": "code",
   "execution_count": 167,
   "outputs": [],
   "source": [
    "model_new_gnb_binary_3.layers[0].set_weights([means_3, variances_3])"
   ],
   "metadata": {
    "collapsed": false,
    "ExecuteTime": {
     "end_time": "2023-09-28T09:59:57.557451200Z",
     "start_time": "2023-09-28T09:59:57.455531700Z"
    }
   }
  },
  {
   "cell_type": "code",
   "execution_count": 168,
   "outputs": [],
   "source": [
    "y_test_forest_idx = np.where(y_tests_1_vector_categories == 1)[0]"
   ],
   "metadata": {
    "collapsed": false,
    "ExecuteTime": {
     "end_time": "2023-09-28T09:59:57.952037800Z",
     "start_time": "2023-09-28T09:59:57.801982700Z"
    }
   }
  },
  {
   "cell_type": "code",
   "execution_count": 169,
   "outputs": [],
   "source": [
    "y_test_exclude_idx_3 = np.concatenate([y_water_idx_tests, y_test_forest_idx])"
   ],
   "metadata": {
    "collapsed": false,
    "ExecuteTime": {
     "end_time": "2023-09-28T09:59:58.316954900Z",
     "start_time": "2023-09-28T09:59:58.213498300Z"
    }
   }
  },
  {
   "cell_type": "code",
   "execution_count": 170,
   "outputs": [],
   "source": [
    "x_test_3 = np.delete(x_tests_1_vector, y_test_exclude_idx_3, axis=0)"
   ],
   "metadata": {
    "collapsed": false,
    "ExecuteTime": {
     "end_time": "2023-09-28T09:59:58.965995300Z",
     "start_time": "2023-09-28T09:59:58.889298Z"
    }
   }
  },
  {
   "cell_type": "code",
   "execution_count": 171,
   "outputs": [
    {
     "data": {
      "text/plain": "(647168, 12)"
     },
     "execution_count": 171,
     "metadata": {},
     "output_type": "execute_result"
    }
   ],
   "source": [
    "x_test_3.shape"
   ],
   "metadata": {
    "collapsed": false,
    "ExecuteTime": {
     "end_time": "2023-09-28T09:59:59.525228600Z",
     "start_time": "2023-09-28T09:59:59.422995100Z"
    }
   }
  },
  {
   "cell_type": "code",
   "execution_count": 172,
   "outputs": [],
   "source": [
    "y_test_3 = np.delete(y_tests_1_vector, y_test_exclude_idx_3, axis=0)"
   ],
   "metadata": {
    "collapsed": false,
    "ExecuteTime": {
     "end_time": "2023-09-28T09:59:59.868155100Z",
     "start_time": "2023-09-28T09:59:59.778101400Z"
    }
   }
  },
  {
   "cell_type": "code",
   "execution_count": 173,
   "outputs": [],
   "source": [
    "y_test_3_pred = np.argmax(y_test_3, axis=-1)"
   ],
   "metadata": {
    "collapsed": false,
    "ExecuteTime": {
     "end_time": "2023-09-28T10:00:00.300494100Z",
     "start_time": "2023-09-28T10:00:00.215080800Z"
    }
   }
  },
  {
   "cell_type": "code",
   "execution_count": 174,
   "outputs": [
    {
     "name": "stdout",
     "output_type": "stream",
     "text": [
      "316/316 [==============================] - 1s 3ms/step\n"
     ]
    }
   ],
   "source": [
    "test_3_pred = model_new_gnb_binary_3.predict(x_test_3, batch_size=2048)"
   ],
   "metadata": {
    "collapsed": false,
    "ExecuteTime": {
     "end_time": "2023-09-28T10:00:01.840998700Z",
     "start_time": "2023-09-28T10:00:00.610618700Z"
    }
   }
  },
  {
   "cell_type": "code",
   "execution_count": 175,
   "outputs": [],
   "source": [
    "test_3_pred_cat = tf.argmax(test_3_pred, axis=-1).numpy()"
   ],
   "metadata": {
    "collapsed": false,
    "ExecuteTime": {
     "end_time": "2023-09-28T10:00:02.176327500Z",
     "start_time": "2023-09-28T10:00:02.029776800Z"
    }
   }
  },
  {
   "cell_type": "code",
   "execution_count": 176,
   "outputs": [
    {
     "data": {
      "text/plain": "3"
     },
     "execution_count": 176,
     "metadata": {},
     "output_type": "execute_result"
    }
   ],
   "source": [
    "y_test_3_pred.min()"
   ],
   "metadata": {
    "collapsed": false,
    "ExecuteTime": {
     "end_time": "2023-09-28T10:00:02.737590100Z",
     "start_time": "2023-09-28T10:00:02.648293500Z"
    }
   }
  },
  {
   "cell_type": "code",
   "execution_count": 177,
   "outputs": [],
   "source": [
    "y_test_3_pred[y_test_3_pred == 3] = 0\n",
    "y_test_3_pred[y_test_3_pred != 0] = 1\n"
   ],
   "metadata": {
    "collapsed": false,
    "ExecuteTime": {
     "end_time": "2023-09-28T10:00:03.335700500Z",
     "start_time": "2023-09-28T10:00:03.255723100Z"
    }
   }
  },
  {
   "cell_type": "code",
   "execution_count": 178,
   "outputs": [
    {
     "data": {
      "text/plain": "0.7548457278481012"
     },
     "execution_count": 178,
     "metadata": {},
     "output_type": "execute_result"
    }
   ],
   "source": [
    "accuracy_score(test_3_pred_cat, y_test_3_pred)"
   ],
   "metadata": {
    "collapsed": false,
    "ExecuteTime": {
     "end_time": "2023-09-28T10:00:04.946049800Z",
     "start_time": "2023-09-28T10:00:04.795557800Z"
    }
   }
  },
  {
   "cell_type": "code",
   "execution_count": 179,
   "outputs": [],
   "source": [
    "pic_forest_idxs = np.where(combined_vec == 2)[0]"
   ],
   "metadata": {
    "collapsed": false,
    "ExecuteTime": {
     "end_time": "2023-09-28T10:00:06.236359600Z",
     "start_time": "2023-09-28T10:00:06.119577800Z"
    }
   }
  },
  {
   "cell_type": "code",
   "execution_count": 180,
   "outputs": [],
   "source": [
    "pic_idx_to_exclude_3 = np.concatenate([pic_forest_idxs, pic_water_idxs])"
   ],
   "metadata": {
    "collapsed": false,
    "ExecuteTime": {
     "end_time": "2023-09-28T10:00:07.101910200Z",
     "start_time": "2023-09-28T10:00:07.013076400Z"
    }
   }
  },
  {
   "cell_type": "code",
   "execution_count": 181,
   "outputs": [],
   "source": [
    "pic_excluded_3 = np.delete(test_arr_to_pred, pic_idx_to_exclude_3, axis=0)"
   ],
   "metadata": {
    "collapsed": false,
    "ExecuteTime": {
     "end_time": "2023-09-28T10:00:07.572661600Z",
     "start_time": "2023-09-28T10:00:07.478114400Z"
    }
   }
  },
  {
   "cell_type": "code",
   "execution_count": 182,
   "outputs": [
    {
     "name": "stdout",
     "output_type": "stream",
     "text": [
      "212/212 [==============================] - 1s 3ms/step\n"
     ]
    }
   ],
   "source": [
    "pic_prediction_3 = model_new_gnb_binary_3.predict(pic_excluded_3, batch_size=2048)"
   ],
   "metadata": {
    "collapsed": false,
    "ExecuteTime": {
     "end_time": "2023-09-28T10:00:08.835447100Z",
     "start_time": "2023-09-28T10:00:07.885703300Z"
    }
   }
  },
  {
   "cell_type": "code",
   "execution_count": 183,
   "outputs": [],
   "source": [
    "pic_prediction_3_cat = tf.argmax(pic_prediction_3, axis=-1).numpy()"
   ],
   "metadata": {
    "collapsed": false,
    "ExecuteTime": {
     "end_time": "2023-09-28T10:00:09.755293Z",
     "start_time": "2023-09-28T10:00:09.627779Z"
    }
   }
  },
  {
   "cell_type": "code",
   "execution_count": 184,
   "outputs": [],
   "source": [
    "pic_prediction_3_cat = pic_prediction_3_cat + 2"
   ],
   "metadata": {
    "collapsed": false,
    "ExecuteTime": {
     "end_time": "2023-09-28T10:00:10.128259600Z",
     "start_time": "2023-09-28T10:00:10.037347700Z"
    }
   }
  },
  {
   "cell_type": "code",
   "execution_count": 185,
   "outputs": [],
   "source": [
    "combined_vec_3 = np.empty(nb_binary_pic_1_cat.shape[0], dtype=int)"
   ],
   "metadata": {
    "collapsed": false,
    "ExecuteTime": {
     "end_time": "2023-09-28T10:00:10.514656100Z",
     "start_time": "2023-09-28T10:00:10.422509400Z"
    }
   }
  },
  {
   "cell_type": "code",
   "execution_count": 186,
   "outputs": [],
   "source": [
    "combined_vec_3[pic_water_idxs] = 0"
   ],
   "metadata": {
    "collapsed": false,
    "ExecuteTime": {
     "end_time": "2023-09-28T10:00:11.017225300Z",
     "start_time": "2023-09-28T10:00:10.925373100Z"
    }
   }
  },
  {
   "cell_type": "code",
   "execution_count": 187,
   "outputs": [],
   "source": [
    "combined_vec_3[pic_forest_idxs] = 1"
   ],
   "metadata": {
    "collapsed": false,
    "ExecuteTime": {
     "end_time": "2023-09-28T10:00:11.410717200Z",
     "start_time": "2023-09-28T10:00:11.319423400Z"
    }
   }
  },
  {
   "cell_type": "code",
   "execution_count": 188,
   "outputs": [],
   "source": [
    "other_idxs_3 = np.setdiff1d(np.arange(nb_binary_pic_1_cat.shape[0]), pic_idx_to_exclude_3)"
   ],
   "metadata": {
    "collapsed": false,
    "ExecuteTime": {
     "end_time": "2023-09-28T10:00:12.117934500Z",
     "start_time": "2023-09-28T10:00:11.996471500Z"
    }
   }
  },
  {
   "cell_type": "code",
   "execution_count": 189,
   "outputs": [],
   "source": [
    "combined_vec_3[other_idxs_3] = pic_prediction_3_cat"
   ],
   "metadata": {
    "collapsed": false,
    "ExecuteTime": {
     "end_time": "2023-09-28T10:00:12.496864100Z",
     "start_time": "2023-09-28T10:00:12.412306600Z"
    }
   }
  },
  {
   "cell_type": "code",
   "execution_count": 190,
   "outputs": [],
   "source": [
    "combined_vec_3 = combined_vec_3 + 1"
   ],
   "metadata": {
    "collapsed": false,
    "ExecuteTime": {
     "end_time": "2023-09-28T10:00:12.980293500Z",
     "start_time": "2023-09-28T10:00:12.742875500Z"
    }
   }
  },
  {
   "cell_type": "code",
   "execution_count": 191,
   "outputs": [],
   "source": [
    "combined_vec_3_pic = combined_vec_3.reshape(733,1250)"
   ],
   "metadata": {
    "collapsed": false,
    "ExecuteTime": {
     "end_time": "2023-09-28T10:00:13.281989400Z",
     "start_time": "2023-09-28T10:00:13.117273300Z"
    }
   }
  },
  {
   "cell_type": "code",
   "execution_count": 192,
   "outputs": [
    {
     "data": {
      "text/plain": "<matplotlib.legend.Legend at 0x7fcc45f20f10>"
     },
     "execution_count": 192,
     "metadata": {},
     "output_type": "execute_result"
    },
    {
     "data": {
      "text/plain": "<Figure size 640x480 with 1 Axes>",
      "image/png": "[encoded data removed]"
     },
     "metadata": {},
     "output_type": "display_data"
    }
   ],
   "source": [
    "from matplotlib.colors import ListedColormap\n",
    "import earthpy.plot as ep\n",
    "import matplotlib.pyplot as plt\n",
    "\n",
    "# im = ep.plot_bands(nb_binary_pic_1_pic,\n",
    "#                    vmin=1, vmax=6,\n",
    "#               cmap=ListedColormap(['green', 'purple', 'orange', 'blue', 'yellow','red']))\n",
    "#ep.make_col_list()\n",
    "im = plt.imshow(combined_vec_3_pic,\n",
    "           vmin=1,vmax=6,\n",
    "               cmap=ListedColormap(['blue', 'green', 'orange', 'grey', 'yellow','brown']))\n",
    "ep.draw_legend(im_ax = im, titles = [\"water\",\"forest\", \"fields\", \"other\"])"
   ],
   "metadata": {
    "collapsed": false,
    "ExecuteTime": {
     "end_time": "2023-09-28T10:00:13.947693400Z",
     "start_time": "2023-09-28T10:00:13.597930800Z"
    }
   }
  },
  {
   "cell_type": "markdown",
   "source": [
    "### City non-city"
   ],
   "metadata": {
    "collapsed": false
   }
  },
  {
   "cell_type": "code",
   "execution_count": 193,
   "outputs": [],
   "source": [
    "y_int_labels_4 = np.argmax(y_train_111, axis=-1)\n",
    "y_traint_fields_idx = np.where(y_int_labels_4 == 3)[0]"
   ],
   "metadata": {
    "collapsed": false,
    "ExecuteTime": {
     "end_time": "2023-09-28T10:00:20.627702Z",
     "start_time": "2023-09-28T10:00:20.446684100Z"
    }
   }
  },
  {
   "cell_type": "code",
   "execution_count": 194,
   "outputs": [
    {
     "data": {
      "text/plain": "6"
     },
     "execution_count": 194,
     "metadata": {},
     "output_type": "execute_result"
    }
   ],
   "source": [
    "index_to_exclude_train_4 = np.concatenate([y_traint_fields_idx, index_to_exclude_train_3])\n",
    "x_train_4 = np.delete(x_train_111, index_to_exclude_train_4, axis=0)\n",
    "y_train_4 = np.delete(y_train_111, index_to_exclude_train_4, axis=0)\n",
    "y_train_4_cat = np.argmax(y_train_4, axis=-1)\n",
    "y_train_4_cat.max()"
   ],
   "metadata": {
    "collapsed": false,
    "ExecuteTime": {
     "end_time": "2023-09-28T10:00:21.288053800Z",
     "start_time": "2023-09-28T10:00:20.834641900Z"
    }
   }
  },
  {
   "cell_type": "code",
   "execution_count": 195,
   "outputs": [],
   "source": [
    "y_train_4_cat[y_train_4_cat == 4] = 0\n",
    "y_train_4_cat[y_train_4_cat != 0] = 1"
   ],
   "metadata": {
    "collapsed": false,
    "ExecuteTime": {
     "end_time": "2023-09-28T10:00:21.475160Z",
     "start_time": "2023-09-28T10:00:21.252338300Z"
    }
   }
  },
  {
   "cell_type": "code",
   "execution_count": 196,
   "outputs": [
    {
     "name": "stdout",
     "output_type": "stream",
     "text": [
      "Model: \"sequential_5\"\n",
      "_________________________________________________________________\n",
      " Layer (type)                Output Shape              Param #   \n",
      "=================================================================\n",
      " multi_class_naive_bayes_la  (None, 2)                 48        \n",
      " yer_5 (MultiClassNaiveBaye                                      \n",
      " sLayer)                                                         \n",
      "                                                                 \n",
      " activation_5 (Activation)   (None, 2)                 0         \n",
      "                                                                 \n",
      "=================================================================\n",
      "Total params: 48 (192.00 Byte)\n",
      "Trainable params: 0 (0.00 Byte)\n",
      "Non-trainable params: 48 (192.00 Byte)\n",
      "_________________________________________________________________\n"
     ]
    }
   ],
   "source": [
    "model_new_gnb_binary_4 = tf.keras.models.Sequential([\n",
    "    layers.naive_bayes.MultiClassNaiveBayesLayer(num_features=12, num_of_categories=2, input_shape=(12,)),\n",
    "    Activation(\"softmax\")\n",
    "])\n",
    "\n",
    "# Assuming you've trained or set the weights, you can then save the model:\n",
    "#save_model(model, 'naive_bayes_model.h5')\n",
    "model_new_gnb_binary_4.compile(loss='categorical_crossentropy', optimizer='adam', metrics=['accuracy', 'mse'])\n",
    "model_new_gnb_binary_4.summary()"
   ],
   "metadata": {
    "collapsed": false,
    "ExecuteTime": {
     "end_time": "2023-09-28T10:00:21.928835600Z",
     "start_time": "2023-09-28T10:00:21.742280700Z"
    }
   }
  },
  {
   "cell_type": "code",
   "execution_count": 197,
   "outputs": [],
   "source": [
    "means_4 = []\n",
    "variances_4 = []\n",
    "\n",
    "num_classes = 2  # or however many you have\n",
    "\n",
    "for i in range(num_classes):\n",
    "    means_4.append(np.mean(x_train_4[y_train_4_cat == i], axis=0))\n",
    "    variances_4.append(np.var(x_train_4[y_train_4_cat == i], axis=0))\n",
    "\n",
    "means_4 = np.array(means_4)\n",
    "variances_4 = np.array(variances_4)\n"
   ],
   "metadata": {
    "collapsed": false,
    "ExecuteTime": {
     "end_time": "2023-09-28T10:00:22.433742Z",
     "start_time": "2023-09-28T10:00:22.243928800Z"
    }
   }
  },
  {
   "cell_type": "code",
   "execution_count": 198,
   "outputs": [],
   "source": [
    "model_new_gnb_binary_4.layers[0].set_weights([means_4, variances_4])"
   ],
   "metadata": {
    "collapsed": false,
    "ExecuteTime": {
     "end_time": "2023-09-28T10:00:22.808891800Z",
     "start_time": "2023-09-28T10:00:22.719385400Z"
    }
   }
  },
  {
   "cell_type": "code",
   "execution_count": 199,
   "outputs": [],
   "source": [
    "y_test_fields_idx = np.where(y_tests_1_vector_categories == 2)[0]\n",
    "y_test_exclude_idx_4 = np.concatenate([y_water_idx_tests, y_test_forest_idx, y_test_fields_idx])\n",
    "x_test_4 = np.delete(x_tests_1_vector, y_test_exclude_idx_4, axis=0)\n",
    "x_test_4.shape\n",
    "y_test_4 = np.delete(y_tests_1_vector, y_test_exclude_idx_4, axis=0)\n",
    "y_test_4_pred = np.argmax(y_test_4, axis=-1)"
   ],
   "metadata": {
    "collapsed": false,
    "ExecuteTime": {
     "end_time": "2023-09-28T10:00:23.258756700Z",
     "start_time": "2023-09-28T10:00:23.173874400Z"
    }
   }
  },
  {
   "cell_type": "code",
   "execution_count": 200,
   "outputs": [
    {
     "name": "stdout",
     "output_type": "stream",
     "text": [
      "162/162 [==============================] - 1s 3ms/step\n"
     ]
    }
   ],
   "source": [
    "test_4_pred = model_new_gnb_binary_4.predict(x_test_4, batch_size=2048)"
   ],
   "metadata": {
    "collapsed": false,
    "ExecuteTime": {
     "end_time": "2023-09-28T10:00:24.428144300Z",
     "start_time": "2023-09-28T10:00:23.548335700Z"
    }
   }
  },
  {
   "cell_type": "code",
   "execution_count": 201,
   "outputs": [
    {
     "data": {
      "text/plain": "6"
     },
     "execution_count": 201,
     "metadata": {},
     "output_type": "execute_result"
    }
   ],
   "source": [
    "test_4_pred_cat = tf.argmax(test_4_pred, axis=-1).numpy()\n",
    "y_test_4_pred.max()"
   ],
   "metadata": {
    "collapsed": false,
    "ExecuteTime": {
     "end_time": "2023-09-28T10:00:24.433679300Z",
     "start_time": "2023-09-28T10:00:24.333652900Z"
    }
   }
  },
  {
   "cell_type": "code",
   "execution_count": 202,
   "outputs": [],
   "source": [
    "y_test_4_pred[y_test_4_pred == 4] = 0\n",
    "y_test_4_pred[y_test_4_pred != 0] = 1"
   ],
   "metadata": {
    "collapsed": false,
    "ExecuteTime": {
     "end_time": "2023-09-28T10:00:24.488878300Z",
     "start_time": "2023-09-28T10:00:24.333652900Z"
    }
   }
  },
  {
   "cell_type": "code",
   "execution_count": 203,
   "outputs": [
    {
     "data": {
      "text/plain": "0.8807327835648148"
     },
     "execution_count": 203,
     "metadata": {},
     "output_type": "execute_result"
    }
   ],
   "source": [
    "accuracy_score(test_4_pred_cat, y_test_4_pred)"
   ],
   "metadata": {
    "collapsed": false,
    "ExecuteTime": {
     "end_time": "2023-09-28T10:00:25.087861700Z",
     "start_time": "2023-09-28T10:00:25.003332700Z"
    }
   }
  },
  {
   "cell_type": "code",
   "execution_count": 204,
   "outputs": [],
   "source": [
    "pic_fields_idxs = np.where(combined_vec_3 == 3)[0]\n",
    "pic_idx_to_exclude_4 = np.concatenate([pic_idx_to_exclude_3, pic_fields_idxs])\n",
    "pic_excluded_4 = np.delete(test_arr_to_pred, pic_idx_to_exclude_4, axis=0)"
   ],
   "metadata": {
    "collapsed": false,
    "ExecuteTime": {
     "end_time": "2023-09-28T10:00:25.389451800Z",
     "start_time": "2023-09-28T10:00:25.308699500Z"
    }
   }
  },
  {
   "cell_type": "code",
   "execution_count": 205,
   "outputs": [
    {
     "data": {
      "text/plain": "(17181, 12)"
     },
     "execution_count": 205,
     "metadata": {},
     "output_type": "execute_result"
    }
   ],
   "source": [
    "pic_excluded_4.shape"
   ],
   "metadata": {
    "collapsed": false,
    "ExecuteTime": {
     "end_time": "2023-09-28T10:00:25.777127700Z",
     "start_time": "2023-09-28T10:00:25.667040700Z"
    }
   }
  },
  {
   "cell_type": "code",
   "execution_count": 206,
   "outputs": [
    {
     "name": "stdout",
     "output_type": "stream",
     "text": [
      "9/9 [==============================] - 0s 3ms/step\n"
     ]
    }
   ],
   "source": [
    "pic_prediction_4 = model_new_gnb_binary_4.predict(pic_excluded_4, batch_size=2048)"
   ],
   "metadata": {
    "collapsed": false,
    "ExecuteTime": {
     "end_time": "2023-09-28T10:00:26.319145600Z",
     "start_time": "2023-09-28T10:00:26.149674100Z"
    }
   }
  },
  {
   "cell_type": "code",
   "execution_count": 207,
   "outputs": [],
   "source": [
    "pic_prediction_4_cat = tf.argmax(pic_prediction_4, axis=-1).numpy()\n",
    "pic_prediction_4_cat = pic_prediction_4_cat + 3"
   ],
   "metadata": {
    "collapsed": false,
    "ExecuteTime": {
     "end_time": "2023-09-28T10:00:26.668081700Z",
     "start_time": "2023-09-28T10:00:26.554235800Z"
    }
   }
  },
  {
   "cell_type": "code",
   "execution_count": 208,
   "outputs": [
    {
     "data": {
      "text/plain": "17181"
     },
     "execution_count": 208,
     "metadata": {},
     "output_type": "execute_result"
    }
   ],
   "source": [
    "len(pic_prediction_4_cat == 4)"
   ],
   "metadata": {
    "collapsed": false,
    "ExecuteTime": {
     "end_time": "2023-09-28T10:00:27.047528Z",
     "start_time": "2023-09-28T10:00:26.908521400Z"
    }
   }
  },
  {
   "cell_type": "code",
   "execution_count": 209,
   "outputs": [
    {
     "data": {
      "text/plain": "4"
     },
     "execution_count": 209,
     "metadata": {},
     "output_type": "execute_result"
    }
   ],
   "source": [
    "pic_prediction_4_cat.max()"
   ],
   "metadata": {
    "collapsed": false,
    "ExecuteTime": {
     "end_time": "2023-09-28T10:00:27.521265800Z",
     "start_time": "2023-09-28T10:00:27.162102100Z"
    }
   }
  },
  {
   "cell_type": "code",
   "execution_count": 210,
   "outputs": [],
   "source": [
    "combined_vec_4 = np.empty(nb_binary_pic_1_cat.shape[0], dtype=int)\n",
    "combined_vec_4[pic_water_idxs] = 0\n",
    "combined_vec_4[pic_forest_idxs] = 1\n",
    "combined_vec_4[pic_fields_idxs] = 2"
   ],
   "metadata": {
    "collapsed": false,
    "ExecuteTime": {
     "end_time": "2023-09-28T10:00:27.599386300Z",
     "start_time": "2023-09-28T10:00:27.485552600Z"
    }
   }
  },
  {
   "cell_type": "code",
   "execution_count": 211,
   "outputs": [],
   "source": [
    "other_idxs_4 = np.setdiff1d(np.arange(nb_binary_pic_1_cat.shape[0]), pic_idx_to_exclude_4)"
   ],
   "metadata": {
    "collapsed": false,
    "ExecuteTime": {
     "end_time": "2023-09-28T10:00:27.977084200Z",
     "start_time": "2023-09-28T10:00:27.751984400Z"
    }
   }
  },
  {
   "cell_type": "code",
   "execution_count": 212,
   "outputs": [],
   "source": [
    "combined_vec_4[other_idxs_4] = pic_prediction_4_cat"
   ],
   "metadata": {
    "collapsed": false,
    "ExecuteTime": {
     "end_time": "2023-09-28T10:00:28.334911900Z",
     "start_time": "2023-09-28T10:00:28.173963700Z"
    }
   }
  },
  {
   "cell_type": "code",
   "execution_count": 213,
   "outputs": [],
   "source": [
    "combined_vec_4 = combined_vec_4 + 1"
   ],
   "metadata": {
    "collapsed": false,
    "ExecuteTime": {
     "end_time": "2023-09-28T10:00:28.832019600Z",
     "start_time": "2023-09-28T10:00:28.741549900Z"
    }
   }
  },
  {
   "cell_type": "code",
   "execution_count": 214,
   "outputs": [],
   "source": [
    "combined_vec_4_pic = combined_vec_4.reshape(733,1250)"
   ],
   "metadata": {
    "collapsed": false,
    "ExecuteTime": {
     "end_time": "2023-09-28T10:00:29.236392800Z",
     "start_time": "2023-09-28T10:00:29.052015100Z"
    }
   }
  },
  {
   "cell_type": "code",
   "execution_count": 215,
   "outputs": [
    {
     "data": {
      "text/plain": "5"
     },
     "execution_count": 215,
     "metadata": {},
     "output_type": "execute_result"
    }
   ],
   "source": [
    "combined_vec_4_pic.max()"
   ],
   "metadata": {
    "collapsed": false,
    "ExecuteTime": {
     "end_time": "2023-09-28T10:00:29.488815400Z",
     "start_time": "2023-09-28T10:00:29.282346Z"
    }
   }
  },
  {
   "cell_type": "code",
   "execution_count": 216,
   "outputs": [
    {
     "data": {
      "text/plain": "<matplotlib.legend.Legend at 0x7fcc45243210>"
     },
     "execution_count": 216,
     "metadata": {},
     "output_type": "execute_result"
    },
    {
     "data": {
      "text/plain": "<Figure size 640x480 with 1 Axes>",
      "image/png": "[encoded data removed]"
     },
     "metadata": {},
     "output_type": "display_data"
    }
   ],
   "source": [
    "from matplotlib.colors import ListedColormap\n",
    "import earthpy.plot as ep\n",
    "import matplotlib.pyplot as plt\n",
    "\n",
    "# im = ep.plot_bands(nb_binary_pic_1_pic,\n",
    "#                    vmin=1, vmax=6,\n",
    "#               cmap=ListedColormap(['green', 'purple', 'orange', 'blue', 'yellow','red']))\n",
    "#ep.make_col_list()\n",
    "im = plt.imshow(combined_vec_4_pic,\n",
    "           vmin=1,vmax=6,\n",
    "               cmap=ListedColormap(['blue', 'green', 'orange', 'red', 'yellow','brown']))\n",
    "ep.draw_legend(im_ax = im, titles = [\"water\",\"forest\", \"fields\", \"city\", \"other\"])"
   ],
   "metadata": {
    "collapsed": false,
    "ExecuteTime": {
     "end_time": "2023-09-28T10:00:30.139866400Z",
     "start_time": "2023-09-28T10:00:29.646076700Z"
    }
   }
  },
  {
   "cell_type": "markdown",
   "source": [
    "### Sands non-Sands"
   ],
   "metadata": {
    "collapsed": false
   }
  },
  {
   "cell_type": "code",
   "execution_count": 217,
   "outputs": [],
   "source": [
    "y_int_labels_5 = np.argmax(y_train_111, axis=-1)\n",
    "y_traint_cities_idx = np.where(y_int_labels_5 == 4)[0]"
   ],
   "metadata": {
    "collapsed": false,
    "ExecuteTime": {
     "end_time": "2023-09-28T10:00:35.263543900Z",
     "start_time": "2023-09-28T10:00:35.073275300Z"
    }
   }
  },
  {
   "cell_type": "code",
   "execution_count": 218,
   "outputs": [
    {
     "data": {
      "text/plain": "6"
     },
     "execution_count": 218,
     "metadata": {},
     "output_type": "execute_result"
    }
   ],
   "source": [
    "index_to_exclude_train_5 = np.concatenate([y_traint_cities_idx, index_to_exclude_train_4])\n",
    "x_train_5 = np.delete(x_train_111, index_to_exclude_train_5, axis=0)\n",
    "y_train_5 = np.delete(y_train_111, index_to_exclude_train_5, axis=0)\n",
    "y_train_5_cat = np.argmax(y_train_5, axis=-1)\n",
    "y_train_5_cat.max()"
   ],
   "metadata": {
    "collapsed": false,
    "ExecuteTime": {
     "end_time": "2023-09-28T10:00:35.736312500Z",
     "start_time": "2023-09-28T10:00:35.520924800Z"
    }
   }
  },
  {
   "cell_type": "code",
   "execution_count": 219,
   "outputs": [],
   "source": [
    "y_train_5_cat[y_train_5_cat == 5] = 0\n",
    "y_train_5_cat[y_train_5_cat != 0] = 1"
   ],
   "metadata": {
    "collapsed": false,
    "ExecuteTime": {
     "end_time": "2023-09-28T10:00:36.200075600Z",
     "start_time": "2023-09-28T10:00:36.120501100Z"
    }
   }
  },
  {
   "cell_type": "code",
   "execution_count": 220,
   "outputs": [
    {
     "name": "stdout",
     "output_type": "stream",
     "text": [
      "Model: \"sequential_6\"\n",
      "_________________________________________________________________\n",
      " Layer (type)                Output Shape              Param #   \n",
      "=================================================================\n",
      " multi_class_naive_bayes_la  (None, 2)                 48        \n",
      " yer_6 (MultiClassNaiveBaye                                      \n",
      " sLayer)                                                         \n",
      "                                                                 \n",
      " activation_6 (Activation)   (None, 2)                 0         \n",
      "                                                                 \n",
      "=================================================================\n",
      "Total params: 48 (192.00 Byte)\n",
      "Trainable params: 0 (0.00 Byte)\n",
      "Non-trainable params: 48 (192.00 Byte)\n",
      "_________________________________________________________________\n"
     ]
    }
   ],
   "source": [
    "model_new_gnb_binary_5 = tf.keras.models.Sequential([\n",
    "    layers.naive_bayes.MultiClassNaiveBayesLayer(num_features=12, num_of_categories=2, input_shape=(12,)),\n",
    "    Activation(\"softmax\")\n",
    "])\n",
    "\n",
    "# Assuming you've trained or set the weights, you can then save the model:\n",
    "#save_model(model, 'naive_bayes_model.h5')\n",
    "model_new_gnb_binary_5.compile(loss='categorical_crossentropy', optimizer='adam', metrics=['accuracy', 'mse'])\n",
    "model_new_gnb_binary_5.summary()"
   ],
   "metadata": {
    "collapsed": false,
    "ExecuteTime": {
     "end_time": "2023-09-28T10:00:36.609738800Z",
     "start_time": "2023-09-28T10:00:36.456084600Z"
    }
   }
  },
  {
   "cell_type": "code",
   "execution_count": 221,
   "outputs": [],
   "source": [
    "means_5 = []\n",
    "variances_5 = []\n",
    "\n",
    "num_classes = 2  # or however many you have\n",
    "\n",
    "for i in range(num_classes):\n",
    "    means_5.append(np.mean(x_train_5[y_train_5_cat == i], axis=0))\n",
    "    variances_5.append(np.var(x_train_5[y_train_5_cat == i], axis=0))\n",
    "\n",
    "means_5 = np.array(means_5)\n",
    "variances_5 = np.array(variances_5)"
   ],
   "metadata": {
    "collapsed": false,
    "ExecuteTime": {
     "end_time": "2023-09-28T10:00:37.034105Z",
     "start_time": "2023-09-28T10:00:36.875990600Z"
    }
   }
  },
  {
   "cell_type": "code",
   "execution_count": 222,
   "outputs": [],
   "source": [
    "model_new_gnb_binary_5.layers[0].set_weights([means_5, variances_5])"
   ],
   "metadata": {
    "collapsed": false,
    "ExecuteTime": {
     "end_time": "2023-09-28T10:00:37.426871100Z",
     "start_time": "2023-09-28T10:00:37.303901500Z"
    }
   }
  },
  {
   "cell_type": "code",
   "execution_count": 223,
   "outputs": [],
   "source": [
    "y_test_cities_idx = np.where(y_tests_1_vector_categories == 3)[0]\n",
    "y_test_exclude_idx_5 = np.concatenate([y_water_idx_tests, y_test_forest_idx, y_test_fields_idx, y_test_cities_idx])\n",
    "x_test_5 = np.delete(x_tests_1_vector, y_test_exclude_idx_5, axis=0)\n",
    "x_test_5.shape\n",
    "y_test_5 = np.delete(y_tests_1_vector, y_test_exclude_idx_5, axis=0)\n",
    "y_test_5_pred = np.argmax(y_test_5, axis=-1)"
   ],
   "metadata": {
    "collapsed": false,
    "ExecuteTime": {
     "end_time": "2023-09-28T10:00:37.902079Z",
     "start_time": "2023-09-28T10:00:37.809791Z"
    }
   }
  },
  {
   "cell_type": "code",
   "execution_count": 224,
   "outputs": [
    {
     "name": "stdout",
     "output_type": "stream",
     "text": [
      "98/98 [==============================] - 0s 3ms/step\n"
     ]
    }
   ],
   "source": [
    "test_5_pred = model_new_gnb_binary_5.predict(x_test_5, batch_size=2048)"
   ],
   "metadata": {
    "collapsed": false,
    "ExecuteTime": {
     "end_time": "2023-09-28T10:00:38.704159500Z",
     "start_time": "2023-09-28T10:00:38.167431200Z"
    }
   }
  },
  {
   "cell_type": "code",
   "execution_count": 225,
   "outputs": [
    {
     "data": {
      "text/plain": "6"
     },
     "execution_count": 225,
     "metadata": {},
     "output_type": "execute_result"
    }
   ],
   "source": [
    "test_5_pred_cat = tf.argmax(test_5_pred, axis=-1).numpy()\n",
    "y_test_5_pred.max()"
   ],
   "metadata": {
    "collapsed": false,
    "ExecuteTime": {
     "end_time": "2023-09-28T10:00:38.918080300Z",
     "start_time": "2023-09-28T10:00:38.693009700Z"
    }
   }
  },
  {
   "cell_type": "code",
   "execution_count": 226,
   "outputs": [],
   "source": [
    "y_test_5_pred[y_test_5_pred == 5] = 0\n",
    "y_test_5_pred[y_test_5_pred != 0] = 1"
   ],
   "metadata": {
    "collapsed": false,
    "ExecuteTime": {
     "end_time": "2023-09-28T10:00:39.091855300Z",
     "start_time": "2023-09-28T10:00:38.884751900Z"
    }
   }
  },
  {
   "cell_type": "code",
   "execution_count": 227,
   "outputs": [
    {
     "data": {
      "text/plain": "0.8937191087372449"
     },
     "execution_count": 227,
     "metadata": {},
     "output_type": "execute_result"
    }
   ],
   "source": [
    "accuracy_score(test_5_pred_cat, y_test_5_pred)"
   ],
   "metadata": {
    "collapsed": false,
    "ExecuteTime": {
     "end_time": "2023-09-28T10:00:39.391180600Z",
     "start_time": "2023-09-28T10:00:39.195946600Z"
    }
   }
  },
  {
   "cell_type": "code",
   "execution_count": 260,
   "outputs": [],
   "source": [
    "y_test_full_array = np.empty(y_tests_1_vector_categories.shape[0], dtype=int)"
   ],
   "metadata": {
    "collapsed": false,
    "ExecuteTime": {
     "end_time": "2023-09-27T21:45:44.564679400Z",
     "start_time": "2023-09-27T21:45:44.481785300Z"
    }
   }
  },
  {
   "cell_type": "code",
   "execution_count": 228,
   "outputs": [
    {
     "data": {
      "text/plain": "0"
     },
     "execution_count": 228,
     "metadata": {},
     "output_type": "execute_result"
    }
   ],
   "source": [
    ".min()"
   ],
   "metadata": {
    "collapsed": false,
    "ExecuteTime": {
     "end_time": "2023-09-28T10:02:10.015264400Z",
     "start_time": "2023-09-28T10:02:09.924393600Z"
    }
   }
  },
  {
   "cell_type": "markdown",
   "source": [
    "#### Check data accuray by steps"
   ],
   "metadata": {
    "collapsed": false
   }
  },
  {
   "cell_type": "markdown",
   "source": [
    "##### 1. Water - non-water"
   ],
   "metadata": {
    "collapsed": false
   }
  },
  {
   "cell_type": "code",
   "execution_count": 407,
   "outputs": [
    {
     "data": {
      "text/plain": "0.8540549853169326"
     },
     "execution_count": 407,
     "metadata": {},
     "output_type": "execute_result"
    }
   ],
   "source": [
    "accuracy_score(nb_pred_res_core_binary_1_cateries.flatten(), y_tests_1_vector_categories_1.flatten())"
   ],
   "metadata": {
    "collapsed": false,
    "ExecuteTime": {
     "end_time": "2023-09-28T14:07:01.500494600Z",
     "start_time": "2023-09-28T14:07:01.315125100Z"
    }
   }
  },
  {
   "cell_type": "markdown",
   "source": [
    "##### 2. Forest - non-forest"
   ],
   "metadata": {
    "collapsed": false
   }
  },
  {
   "cell_type": "code",
   "execution_count": 408,
   "outputs": [],
   "source": [
    "y_water_idx_predicted_0 = np.where(y_tests_1_vector_categories == 0)[0]"
   ],
   "metadata": {
    "collapsed": false,
    "ExecuteTime": {
     "end_time": "2023-09-28T14:07:02.042041900Z",
     "start_time": "2023-09-28T14:07:01.888969300Z"
    }
   }
  },
  {
   "cell_type": "code",
   "execution_count": 409,
   "outputs": [],
   "source": [
    "x_tests_2_vector = np.delete(x_tests_1_vector, y_water_idx_predicted_0, axis=0)"
   ],
   "metadata": {
    "collapsed": false,
    "ExecuteTime": {
     "end_time": "2023-09-28T14:07:08.736031900Z",
     "start_time": "2023-09-28T14:07:08.564498900Z"
    }
   }
  },
  {
   "cell_type": "code",
   "execution_count": 410,
   "outputs": [],
   "source": [
    "y_tests_1_vector_categories_2 = y_tests_1_vector_categories.copy()"
   ],
   "metadata": {
    "collapsed": false,
    "ExecuteTime": {
     "end_time": "2023-09-28T14:07:09.196854800Z",
     "start_time": "2023-09-28T14:07:08.969440900Z"
    }
   }
  },
  {
   "cell_type": "code",
   "execution_count": 411,
   "outputs": [],
   "source": [
    "#y_tests_1_vector_categories_2 = np.delete(y_tests_1_vector_categories_2, y_water_idx_predicted_0, axis=0)"
   ],
   "metadata": {
    "collapsed": false,
    "ExecuteTime": {
     "end_time": "2023-09-28T14:07:09.340890500Z",
     "start_time": "2023-09-28T14:07:09.157634Z"
    }
   }
  },
  {
   "cell_type": "code",
   "execution_count": 412,
   "outputs": [
    {
     "name": "stdout",
     "output_type": "stream",
     "text": [
      "382/382 [==============================] - 1s 3ms/step\n"
     ]
    }
   ],
   "source": [
    "nb_tests_predict_2 = model_new_gnb_binary_2.predict(x_tests_2_vector, batch_size=2048)"
   ],
   "metadata": {
    "collapsed": false,
    "ExecuteTime": {
     "end_time": "2023-09-28T14:07:10.952834400Z",
     "start_time": "2023-09-28T14:07:09.427549700Z"
    }
   }
  },
  {
   "cell_type": "code",
   "execution_count": 413,
   "outputs": [],
   "source": [
    "nb_tests_predict_2_cat = tf.argmax(nb_tests_predict_2, axis=-1).numpy()"
   ],
   "metadata": {
    "collapsed": false,
    "ExecuteTime": {
     "end_time": "2023-09-28T14:07:14.130742100Z",
     "start_time": "2023-09-28T14:07:13.990802200Z"
    }
   }
  },
  {
   "cell_type": "code",
   "execution_count": 414,
   "outputs": [
    {
     "data": {
      "text/plain": "5"
     },
     "execution_count": 414,
     "metadata": {},
     "output_type": "execute_result"
    }
   ],
   "source": [
    "y_tests_1_vector_categories_2.max()"
   ],
   "metadata": {
    "collapsed": false,
    "ExecuteTime": {
     "end_time": "2023-09-28T14:07:14.566910100Z",
     "start_time": "2023-09-28T14:07:14.349788800Z"
    }
   }
  },
  {
   "cell_type": "code",
   "execution_count": 415,
   "outputs": [],
   "source": [
    "y_tests_1_vector_categories_2[y_tests_1_vector_categories_2 == 3] = 2\n",
    "y_tests_1_vector_categories_2[y_tests_1_vector_categories_2 == 4] = 2\n",
    "y_tests_1_vector_categories_2[y_tests_1_vector_categories_2 == 5] = 2\n"
   ],
   "metadata": {
    "collapsed": false,
    "ExecuteTime": {
     "end_time": "2023-09-28T14:07:16.363096100Z",
     "start_time": "2023-09-28T14:07:15.995259100Z"
    }
   }
  },
  {
   "cell_type": "code",
   "execution_count": 416,
   "outputs": [],
   "source": [
    "y_pred_2_combined = np.empty(y_tests_1_vector_categories.shape[0], dtype=int)"
   ],
   "metadata": {
    "collapsed": false,
    "ExecuteTime": {
     "end_time": "2023-09-28T14:07:16.483502600Z",
     "start_time": "2023-09-28T14:07:16.247297800Z"
    }
   }
  },
  {
   "cell_type": "code",
   "execution_count": 417,
   "outputs": [],
   "source": [
    "y_pred_2_combined[y_water_idx_predicted_0] = 0"
   ],
   "metadata": {
    "collapsed": false,
    "ExecuteTime": {
     "end_time": "2023-09-28T14:07:25.855600400Z",
     "start_time": "2023-09-28T14:07:25.754364800Z"
    }
   }
  },
  {
   "cell_type": "code",
   "execution_count": 418,
   "outputs": [],
   "source": [
    "y_pred_2_other_idx = np.setdiff1d(np.arange(y_tests_1_vector_categories.shape[0]), y_water_idx_predicted_0)"
   ],
   "metadata": {
    "collapsed": false,
    "ExecuteTime": {
     "end_time": "2023-09-28T14:07:37.053203800Z",
     "start_time": "2023-09-28T14:07:36.934861100Z"
    }
   }
  },
  {
   "cell_type": "code",
   "execution_count": 419,
   "outputs": [],
   "source": [
    "nb_tests_predict_2_cat = nb_tests_predict_2_cat + 1"
   ],
   "metadata": {
    "collapsed": false,
    "ExecuteTime": {
     "end_time": "2023-09-28T14:07:37.514063100Z",
     "start_time": "2023-09-28T14:07:37.292435500Z"
    }
   }
  },
  {
   "cell_type": "code",
   "execution_count": 420,
   "outputs": [],
   "source": [
    "y_pred_2_combined[y_pred_2_other_idx] = nb_tests_predict_2_cat"
   ],
   "metadata": {
    "collapsed": false,
    "ExecuteTime": {
     "end_time": "2023-09-28T14:07:37.850425300Z",
     "start_time": "2023-09-28T14:07:37.613089200Z"
    }
   }
  },
  {
   "cell_type": "code",
   "execution_count": 421,
   "outputs": [
    {
     "data": {
      "text/plain": "0.8717768243018617"
     },
     "execution_count": 421,
     "metadata": {},
     "output_type": "execute_result"
    }
   ],
   "source": [
    "accuracy_score(y_pred_2_combined, y_tests_1_vector_categories_2)"
   ],
   "metadata": {
    "collapsed": false,
    "ExecuteTime": {
     "end_time": "2023-09-28T14:07:38.459314900Z",
     "start_time": "2023-09-28T14:07:38.255549900Z"
    }
   }
  },
  {
   "cell_type": "markdown",
   "source": [
    "##### 3. Field - non-field"
   ],
   "metadata": {
    "collapsed": false
   }
  },
  {
   "cell_type": "code",
   "execution_count": 422,
   "outputs": [],
   "source": [
    "y_forest_idx_predicted_0 = np.where(y_pred_2_combined == 1)[0]"
   ],
   "metadata": {
    "collapsed": false,
    "ExecuteTime": {
     "end_time": "2023-09-28T14:07:45.474919200Z",
     "start_time": "2023-09-28T14:07:45.361869600Z"
    }
   }
  },
  {
   "cell_type": "code",
   "execution_count": 423,
   "outputs": [],
   "source": [
    "x_tests_3_exclude = np.concatenate([y_forest_idx_predicted_0, y_water_idx_predicted_0])"
   ],
   "metadata": {
    "collapsed": false,
    "ExecuteTime": {
     "end_time": "2023-09-28T14:07:46.172958800Z",
     "start_time": "2023-09-28T14:07:46.071565400Z"
    }
   }
  },
  {
   "cell_type": "code",
   "execution_count": 424,
   "outputs": [],
   "source": [
    "x_tests_3_vector = np.delete(x_tests_1_vector, x_tests_3_exclude, axis=0)"
   ],
   "metadata": {
    "collapsed": false,
    "ExecuteTime": {
     "end_time": "2023-09-28T14:07:46.612153900Z",
     "start_time": "2023-09-28T14:07:46.484862300Z"
    }
   }
  },
  {
   "cell_type": "code",
   "execution_count": 425,
   "outputs": [],
   "source": [
    "y_tests_1_vector_categories_3 = y_tests_1_vector_categories.copy()"
   ],
   "metadata": {
    "collapsed": false,
    "ExecuteTime": {
     "end_time": "2023-09-28T14:07:47.182348200Z",
     "start_time": "2023-09-28T14:07:47.085632Z"
    }
   }
  },
  {
   "cell_type": "code",
   "execution_count": 426,
   "outputs": [
    {
     "name": "stdout",
     "output_type": "stream",
     "text": [
      "251/251 [==============================] - 1s 3ms/step\n"
     ]
    }
   ],
   "source": [
    "nb_tests_predict_3 = model_new_gnb_binary_3.predict(x_tests_3_vector, batch_size=2048)"
   ],
   "metadata": {
    "collapsed": false,
    "ExecuteTime": {
     "end_time": "2023-09-28T14:07:48.326657900Z",
     "start_time": "2023-09-28T14:07:47.368825300Z"
    }
   }
  },
  {
   "cell_type": "code",
   "execution_count": 427,
   "outputs": [],
   "source": [
    "nb_tests_predict_3_cat = tf.argmax(nb_tests_predict_3, axis=-1).numpy()"
   ],
   "metadata": {
    "collapsed": false,
    "ExecuteTime": {
     "end_time": "2023-09-28T14:07:48.418699200Z",
     "start_time": "2023-09-28T14:07:48.363942900Z"
    }
   }
  },
  {
   "cell_type": "code",
   "execution_count": 428,
   "outputs": [],
   "source": [
    "y_tests_1_vector_categories_3[y_tests_1_vector_categories_3 == 4] = 3\n",
    "y_tests_1_vector_categories_3[y_tests_1_vector_categories_3 == 5] = 3"
   ],
   "metadata": {
    "collapsed": false,
    "ExecuteTime": {
     "end_time": "2023-09-28T14:07:48.780503200Z",
     "start_time": "2023-09-28T14:07:48.661923500Z"
    }
   }
  },
  {
   "cell_type": "code",
   "execution_count": 429,
   "outputs": [],
   "source": [
    "y_pred_3_combined = np.empty(y_tests_1_vector_categories.shape[0], dtype=int)"
   ],
   "metadata": {
    "collapsed": false,
    "ExecuteTime": {
     "end_time": "2023-09-28T14:07:49.407493300Z",
     "start_time": "2023-09-28T14:07:49.308034500Z"
    }
   }
  },
  {
   "cell_type": "code",
   "execution_count": 430,
   "outputs": [],
   "source": [
    "y_pred_3_combined[y_water_idx_predicted_0] = 0"
   ],
   "metadata": {
    "collapsed": false,
    "ExecuteTime": {
     "end_time": "2023-09-28T14:07:49.968948500Z",
     "start_time": "2023-09-28T14:07:49.870832300Z"
    }
   }
  },
  {
   "cell_type": "code",
   "execution_count": 431,
   "outputs": [],
   "source": [
    "y_pred_3_combined[y_forest_idx_predicted_0] = 1"
   ],
   "metadata": {
    "collapsed": false,
    "ExecuteTime": {
     "end_time": "2023-09-28T14:07:50.368905100Z",
     "start_time": "2023-09-28T14:07:50.264759200Z"
    }
   }
  },
  {
   "cell_type": "code",
   "execution_count": 432,
   "outputs": [],
   "source": [
    "y_pred_3_other_idx = np.setdiff1d(np.arange(y_tests_1_vector_categories.shape[0]), x_tests_3_exclude)"
   ],
   "metadata": {
    "collapsed": false,
    "ExecuteTime": {
     "end_time": "2023-09-28T14:07:50.969063300Z",
     "start_time": "2023-09-28T14:07:50.836375900Z"
    }
   }
  },
  {
   "cell_type": "code",
   "execution_count": 433,
   "outputs": [],
   "source": [
    "nb_tests_predict_3_cat = nb_tests_predict_3_cat + 2"
   ],
   "metadata": {
    "collapsed": false,
    "ExecuteTime": {
     "end_time": "2023-09-28T14:07:51.618494100Z",
     "start_time": "2023-09-28T14:07:51.519232900Z"
    }
   }
  },
  {
   "cell_type": "code",
   "execution_count": 434,
   "outputs": [],
   "source": [
    "y_pred_3_combined[y_pred_3_other_idx] = nb_tests_predict_3_cat"
   ],
   "metadata": {
    "collapsed": false,
    "ExecuteTime": {
     "end_time": "2023-09-28T14:07:51.987846200Z",
     "start_time": "2023-09-28T14:07:51.888654200Z"
    }
   }
  },
  {
   "cell_type": "code",
   "execution_count": 435,
   "outputs": [
    {
     "data": {
      "text/plain": "0.7417598210328015"
     },
     "execution_count": 435,
     "metadata": {},
     "output_type": "execute_result"
    }
   ],
   "source": [
    "accuracy_score(y_pred_3_combined, y_tests_1_vector_categories_3)"
   ],
   "metadata": {
    "collapsed": false,
    "ExecuteTime": {
     "end_time": "2023-09-28T14:07:52.678168600Z",
     "start_time": "2023-09-28T14:07:52.483986600Z"
    }
   }
  },
  {
   "cell_type": "code",
   "execution_count": 436,
   "outputs": [
    {
     "data": {
      "text/plain": "3"
     },
     "execution_count": 436,
     "metadata": {},
     "output_type": "execute_result"
    }
   ],
   "source": [
    "y_pred_3_combined.max()"
   ],
   "metadata": {
    "collapsed": false,
    "ExecuteTime": {
     "end_time": "2023-09-28T14:07:53.840499700Z",
     "start_time": "2023-09-28T14:07:53.674889500Z"
    }
   }
  },
  {
   "cell_type": "markdown",
   "source": [
    "##### 4. City - non-city"
   ],
   "metadata": {
    "collapsed": false
   }
  },
  {
   "cell_type": "code",
   "execution_count": 379,
   "outputs": [],
   "source": [
    "y_fields_idx_predicted_0 = np.where(y_pred_3_combined == 2)[0]"
   ],
   "metadata": {
    "collapsed": false,
    "ExecuteTime": {
     "end_time": "2023-09-28T14:06:30.840887500Z",
     "start_time": "2023-09-28T14:06:30.554559500Z"
    }
   }
  },
  {
   "cell_type": "code",
   "execution_count": 380,
   "outputs": [],
   "source": [
    "x_tests_4_exclude = np.concatenate([y_fields_idx_predicted_0, x_tests_3_exclude])"
   ],
   "metadata": {
    "collapsed": false,
    "ExecuteTime": {
     "end_time": "2023-09-28T14:06:31.055743900Z",
     "start_time": "2023-09-28T14:06:30.616350900Z"
    }
   }
  },
  {
   "cell_type": "code",
   "execution_count": 381,
   "outputs": [],
   "source": [
    "x_tests_4_vector = np.delete(x_tests_1_vector, x_tests_4_exclude, axis=0)"
   ],
   "metadata": {
    "collapsed": false,
    "ExecuteTime": {
     "end_time": "2023-09-28T14:06:31.245454600Z",
     "start_time": "2023-09-28T14:06:30.795704100Z"
    }
   }
  },
  {
   "cell_type": "code",
   "execution_count": 382,
   "outputs": [],
   "source": [
    "y_tests_1_vector_categories_4 = y_tests_1_vector_categories.copy()"
   ],
   "metadata": {
    "collapsed": false,
    "ExecuteTime": {
     "end_time": "2023-09-28T14:06:31.349410500Z",
     "start_time": "2023-09-28T14:06:30.977554600Z"
    }
   }
  },
  {
   "cell_type": "code",
   "execution_count": 383,
   "outputs": [
    {
     "name": "stdout",
     "output_type": "stream",
     "text": [
      "42/42 [==============================] - 0s 4ms/step\n"
     ]
    }
   ],
   "source": [
    "nb_tests_predict_4 = model_new_gnb_binary_4.predict(x_tests_4_vector, batch_size=2048)"
   ],
   "metadata": {
    "collapsed": false,
    "ExecuteTime": {
     "end_time": "2023-09-28T14:06:31.636884500Z",
     "start_time": "2023-09-28T14:06:31.198383300Z"
    }
   }
  },
  {
   "cell_type": "code",
   "execution_count": 384,
   "outputs": [],
   "source": [
    "nb_tests_predict_4_cat = tf.argmax(nb_tests_predict_4, axis=-1).numpy()"
   ],
   "metadata": {
    "collapsed": false,
    "ExecuteTime": {
     "end_time": "2023-09-28T14:06:31.887994300Z",
     "start_time": "2023-09-28T14:06:31.452697700Z"
    }
   }
  },
  {
   "cell_type": "code",
   "execution_count": 385,
   "outputs": [],
   "source": [
    "#y_tests_1_vector_categories_3[y_tests_1_vector_categories_3 == 4] = 3\n",
    "y_tests_1_vector_categories_4[y_tests_1_vector_categories_4 == 5] = 4"
   ],
   "metadata": {
    "collapsed": false,
    "ExecuteTime": {
     "end_time": "2023-09-28T14:06:32.095756800Z",
     "start_time": "2023-09-28T14:06:31.753061700Z"
    }
   }
  },
  {
   "cell_type": "code",
   "execution_count": 386,
   "outputs": [],
   "source": [
    "y_pred_4_combined = np.empty(y_tests_1_vector_categories.shape[0], dtype=int)"
   ],
   "metadata": {
    "collapsed": false,
    "ExecuteTime": {
     "end_time": "2023-09-28T14:06:32.499887400Z",
     "start_time": "2023-09-28T14:06:32.047293500Z"
    }
   }
  },
  {
   "cell_type": "code",
   "execution_count": 387,
   "outputs": [],
   "source": [
    "y_pred_4_combined[y_water_idx_predicted_0] = 0"
   ],
   "metadata": {
    "collapsed": false,
    "ExecuteTime": {
     "end_time": "2023-09-28T14:06:32.702044800Z",
     "start_time": "2023-09-28T14:06:32.404305800Z"
    }
   }
  },
  {
   "cell_type": "code",
   "execution_count": 388,
   "outputs": [],
   "source": [
    "y_pred_4_combined[y_forest_idx_predicted_0] = 1"
   ],
   "metadata": {
    "collapsed": false,
    "ExecuteTime": {
     "end_time": "2023-09-28T14:06:32.810500200Z",
     "start_time": "2023-09-28T14:06:32.658447300Z"
    }
   }
  },
  {
   "cell_type": "code",
   "execution_count": 389,
   "outputs": [],
   "source": [
    "y_pred_4_combined[y_fields_idx_predicted_0] = 2"
   ],
   "metadata": {
    "collapsed": false,
    "ExecuteTime": {
     "end_time": "2023-09-28T14:06:33.227659700Z",
     "start_time": "2023-09-28T14:06:33.062502300Z"
    }
   }
  },
  {
   "cell_type": "code",
   "execution_count": 390,
   "outputs": [],
   "source": [
    "y_pred_4_other_idx = np.setdiff1d(np.arange(y_tests_1_vector_categories.shape[0]), x_tests_4_exclude)"
   ],
   "metadata": {
    "collapsed": false,
    "ExecuteTime": {
     "end_time": "2023-09-28T14:06:36.511893Z",
     "start_time": "2023-09-28T14:06:36.200786300Z"
    }
   }
  },
  {
   "cell_type": "code",
   "execution_count": 391,
   "outputs": [],
   "source": [
    "nb_tests_predict_4_cat = nb_tests_predict_4_cat + 3"
   ],
   "metadata": {
    "collapsed": false,
    "ExecuteTime": {
     "end_time": "2023-09-28T14:06:36.731334500Z",
     "start_time": "2023-09-28T14:06:36.392375800Z"
    }
   }
  },
  {
   "cell_type": "code",
   "execution_count": 392,
   "outputs": [],
   "source": [
    "y_pred_4_combined[y_pred_4_other_idx] = nb_tests_predict_4_cat"
   ],
   "metadata": {
    "collapsed": false,
    "ExecuteTime": {
     "end_time": "2023-09-28T14:06:36.872235900Z",
     "start_time": "2023-09-28T14:06:36.595930600Z"
    }
   }
  },
  {
   "cell_type": "code",
   "execution_count": 393,
   "outputs": [
    {
     "data": {
      "text/plain": "0.7289329150044326"
     },
     "execution_count": 393,
     "metadata": {},
     "output_type": "execute_result"
    }
   ],
   "source": [
    "accuracy_score(y_pred_4_combined, y_tests_1_vector_categories_4)"
   ],
   "metadata": {
    "collapsed": false,
    "ExecuteTime": {
     "end_time": "2023-09-28T14:06:37.310868500Z",
     "start_time": "2023-09-28T14:06:37.078680600Z"
    }
   }
  },
  {
   "cell_type": "markdown",
   "source": [
    "##### 5. All classes"
   ],
   "metadata": {
    "collapsed": false
   }
  },
  {
   "cell_type": "code",
   "execution_count": 395,
   "outputs": [],
   "source": [
    "y_cities_idx_predicted_0 = np.where(y_pred_4_combined == 3)[0]"
   ],
   "metadata": {
    "collapsed": false,
    "ExecuteTime": {
     "end_time": "2023-09-28T14:06:48.018418200Z",
     "start_time": "2023-09-28T14:06:47.746534900Z"
    }
   }
  },
  {
   "cell_type": "code",
   "execution_count": 396,
   "outputs": [],
   "source": [
    "x_tests_5_exclude = np.concatenate([y_cities_idx_predicted_0, x_tests_4_exclude])"
   ],
   "metadata": {
    "collapsed": false,
    "ExecuteTime": {
     "end_time": "2023-09-28T14:06:48.242780200Z",
     "start_time": "2023-09-28T14:06:47.893668900Z"
    }
   }
  },
  {
   "cell_type": "code",
   "execution_count": 397,
   "outputs": [],
   "source": [
    "x_tests_5_vector = np.delete(x_tests_1_vector, x_tests_5_exclude, axis=0)"
   ],
   "metadata": {
    "collapsed": false,
    "ExecuteTime": {
     "end_time": "2023-09-28T14:06:48.289828200Z",
     "start_time": "2023-09-28T14:06:47.973857900Z"
    }
   }
  },
  {
   "cell_type": "code",
   "execution_count": 398,
   "outputs": [],
   "source": [
    "y_tests_1_vector_categories_5 = y_tests_1_vector_categories.copy()"
   ],
   "metadata": {
    "collapsed": false,
    "ExecuteTime": {
     "end_time": "2023-09-28T14:06:48.435594Z",
     "start_time": "2023-09-28T14:06:48.139637100Z"
    }
   }
  },
  {
   "cell_type": "code",
   "execution_count": 399,
   "outputs": [
    {
     "name": "stdout",
     "output_type": "stream",
     "text": [
      "28/28 [==============================] - 0s 3ms/step\n"
     ]
    }
   ],
   "source": [
    "nb_tests_predict_5 = model_new_gnb_binary_5.predict(x_tests_5_vector, batch_size=2048)"
   ],
   "metadata": {
    "collapsed": false,
    "ExecuteTime": {
     "end_time": "2023-09-28T14:06:48.963087400Z",
     "start_time": "2023-09-28T14:06:48.523855800Z"
    }
   }
  },
  {
   "cell_type": "code",
   "execution_count": 400,
   "outputs": [],
   "source": [
    "nb_tests_predict_5_cat = tf.argmax(nb_tests_predict_5, axis=-1).numpy()"
   ],
   "metadata": {
    "collapsed": false,
    "ExecuteTime": {
     "end_time": "2023-09-28T14:06:49.122815500Z",
     "start_time": "2023-09-28T14:06:48.860501300Z"
    }
   }
  },
  {
   "cell_type": "code",
   "execution_count": 401,
   "outputs": [],
   "source": [
    "y_pred_5_combined = np.empty(y_tests_1_vector_categories.shape[0], dtype=int)"
   ],
   "metadata": {
    "collapsed": false,
    "ExecuteTime": {
     "end_time": "2023-09-28T14:06:49.749108700Z",
     "start_time": "2023-09-28T14:06:49.652617800Z"
    }
   }
  },
  {
   "cell_type": "code",
   "execution_count": 402,
   "outputs": [],
   "source": [
    "y_pred_5_combined[y_water_idx_predicted_0] = 0\n",
    "y_pred_5_combined[y_forest_idx_predicted_0] = 1\n",
    "y_pred_5_combined[y_fields_idx_predicted_0] = 2\n",
    "y_pred_5_combined[y_cities_idx_predicted_0] = 3"
   ],
   "metadata": {
    "collapsed": false,
    "ExecuteTime": {
     "end_time": "2023-09-28T14:06:50.045161500Z",
     "start_time": "2023-09-28T14:06:49.899350Z"
    }
   }
  },
  {
   "cell_type": "code",
   "execution_count": 403,
   "outputs": [],
   "source": [
    "y_pred_5_other_idx = np.setdiff1d(np.arange(y_tests_1_vector_categories.shape[0]), x_tests_5_exclude)"
   ],
   "metadata": {
    "collapsed": false,
    "ExecuteTime": {
     "end_time": "2023-09-28T14:06:50.461079100Z",
     "start_time": "2023-09-28T14:06:50.161340800Z"
    }
   }
  },
  {
   "cell_type": "code",
   "execution_count": 404,
   "outputs": [],
   "source": [
    "nb_tests_predict_5_cat = nb_tests_predict_5_cat + 4"
   ],
   "metadata": {
    "collapsed": false,
    "ExecuteTime": {
     "end_time": "2023-09-28T14:06:50.728072900Z",
     "start_time": "2023-09-28T14:06:50.421532300Z"
    }
   }
  },
  {
   "cell_type": "code",
   "execution_count": 405,
   "outputs": [],
   "source": [
    "y_pred_5_combined[y_pred_5_other_idx] = nb_tests_predict_5_cat"
   ],
   "metadata": {
    "collapsed": false,
    "ExecuteTime": {
     "end_time": "2023-09-28T14:06:50.790879300Z",
     "start_time": "2023-09-28T14:06:50.661531100Z"
    }
   }
  },
  {
   "cell_type": "code",
   "execution_count": 406,
   "outputs": [
    {
     "data": {
      "text/plain": "0.7281909699135638"
     },
     "execution_count": 406,
     "metadata": {},
     "output_type": "execute_result"
    }
   ],
   "source": [
    "accuracy_score(y_pred_5_combined, y_tests_1_vector_categories_5)"
   ],
   "metadata": {
    "collapsed": false,
    "ExecuteTime": {
     "end_time": "2023-09-28T14:06:51.216321700Z",
     "start_time": "2023-09-28T14:06:50.984846600Z"
    }
   }
  },
  {
   "cell_type": "code",
   "execution_count": 353,
   "outputs": [
    {
     "data": {
      "text/plain": "'              precision    recall  f1-score   support\\n\\n           0       1.00      1.00      1.00    372736\\n           1       1.00      1.00      1.00    135168\\n           2       1.00      1.00      1.00    315392\\n           3       1.00      1.00      1.00    131072\\n           4       0.89      1.00      0.94    171455\\n           5       0.98      0.28      0.43     29249\\n\\n    accuracy                           0.98   1155072\\n   macro avg       0.98      0.88      0.90   1155072\\nweighted avg       0.98      0.98      0.98   1155072\\n'"
     },
     "execution_count": 353,
     "metadata": {},
     "output_type": "execute_result"
    }
   ],
   "source": [
    "classification_report(y_pred_5_combined, y_tests_1_vector_categories_5)"
   ],
   "metadata": {
    "collapsed": false,
    "ExecuteTime": {
     "end_time": "2023-09-28T14:02:10.043962700Z",
     "start_time": "2023-09-28T14:02:09.156695700Z"
    }
   }
  },
  {
   "cell_type": "code",
   "execution_count": null,
   "outputs": [],
   "source": [],
   "metadata": {
    "collapsed": false
   }
  }
 ],
 "metadata": {
  "kernelspec": {
   "display_name": "Python 3",
   "language": "python",
   "name": "python3"
  },
  "language_info": {
   "codemirror_mode": {
    "name": "ipython",
    "version": 2
   },
   "file_extension": ".py",
   "mimetype": "text/x-python",
   "name": "python",
   "nbconvert_exporter": "python",
   "pygments_lexer": "ipython2",
   "version": "2.7.6"
  }
 },
 "nbformat": 4,
 "nbformat_minor": 0
}
