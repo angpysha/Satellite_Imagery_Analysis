{
 "cells": [
  {
   "cell_type": "code",
   "execution_count": 1,
   "metadata": {
    "collapsed": true,
    "ExecuteTime": {
     "end_time": "2023-09-25T18:47:06.779828200Z",
     "start_time": "2023-09-25T18:47:05.550496500Z"
    }
   },
   "outputs": [
    {
     "data": {
      "text/plain": "<module 'dataset_tool.dataset6_generator' from '/mnt/d/aspiranture/Satellite_Imagery_Analysis/Classification/dataset_tool/dataset6_generator.py'>"
     },
     "execution_count": 1,
     "metadata": {},
     "output_type": "execute_result"
    }
   ],
   "source": [
    "import sys\n",
    "import importlib\n",
    "\n",
    "import numpy as np\n",
    "\n",
    "sys.path.append(\"/mnt/d/aspiranture/Satellite_Imagery_Analysis/Classification/\")\n",
    "import dataset_tool.dataset6_generator\n",
    "importlib.reload(dataset_tool.dataset6_generator)"
   ]
  },
  {
   "cell_type": "code",
   "execution_count": 2,
   "outputs": [
    {
     "name": "stdout",
     "output_type": "stream",
     "text": [
      "Error read []\n",
      "len 27\n"
     ]
    }
   ],
   "source": [
    "dataset = dataset_tool.dataset6_generator.get_dataset6()"
   ],
   "metadata": {
    "collapsed": false,
    "ExecuteTime": {
     "end_time": "2023-09-25T18:48:26.451100600Z",
     "start_time": "2023-09-25T18:47:09.500413700Z"
    }
   }
  },
  {
   "cell_type": "code",
   "execution_count": 3,
   "outputs": [
    {
     "data": {
      "text/plain": "<function dict.items>"
     },
     "execution_count": 3,
     "metadata": {},
     "output_type": "execute_result"
    }
   ],
   "source": [
    "dataset.items"
   ],
   "metadata": {
    "collapsed": false,
    "ExecuteTime": {
     "end_time": "2023-09-25T18:48:28.508499500Z",
     "start_time": "2023-09-25T18:48:28.472336800Z"
    }
   }
  },
  {
   "cell_type": "code",
   "execution_count": 4,
   "outputs": [],
   "source": [
    "categories_map = {}\n",
    "for categorie, idx in enumerate(dataset.keys()):\n",
    "    categories_map[idx] = categorie+1"
   ],
   "metadata": {
    "collapsed": false,
    "ExecuteTime": {
     "end_time": "2023-09-25T18:48:29.319380100Z",
     "start_time": "2023-09-25T18:48:29.284760400Z"
    }
   }
  },
  {
   "cell_type": "code",
   "execution_count": 5,
   "outputs": [
    {
     "data": {
      "text/plain": "{'water': 1, 'forest': 2, 'fields': 3, 'city': 4, 'sands': 5, 'mountains': 6}"
     },
     "execution_count": 5,
     "metadata": {},
     "output_type": "execute_result"
    }
   ],
   "source": [
    "categories_map"
   ],
   "metadata": {
    "collapsed": false,
    "ExecuteTime": {
     "end_time": "2023-09-25T18:48:30.212468Z",
     "start_time": "2023-09-25T18:48:30.166178500Z"
    }
   }
  },
  {
   "cell_type": "code",
   "execution_count": 6,
   "outputs": [
    {
     "name": "stdout",
     "output_type": "stream",
     "text": [
      "shape for water - (12, 6596993)\n",
      "num of rects: 1610. To make full should add: 1663\n",
      "created new length with shape (12, 13191553)\n",
      "shape for forest - (12, 1532742)\n",
      "num of rects: 374. To make full should add: 3258\n",
      "created new length with shape (12, 3064646)\n",
      "shape for fields - (12, 2099471)\n",
      "num of rects: 512. To make full should add: 1777\n",
      "created new length with shape (12, 4196623)\n",
      "shape for city - (12, 574996)\n",
      "num of rects: 140. To make full should add: 2540\n",
      "created new length with shape (12, 1148436)\n",
      "shape for sands - (12, 742139)\n",
      "num of rects: 181. To make full should add: 3333\n",
      "created new length with shape (12, 1483515)\n",
      "shape for mountains - (12, 35420)\n",
      "num of rects: 8. To make full should add: 1444\n",
      "created new length with shape (12, 68188)\n"
     ]
    }
   ],
   "source": [
    "updated_dataset = {}\n",
    "\n",
    "for key, value in dataset.items():\n",
    "    print(f\"shape for {key} - {value.shape}\")\n",
    "    numOfRects = int(value.shape[1]/64/64)\n",
    "    itemsDiff = value.shape[1]-numOfRects*64*64\n",
    "    numOfFull = numOfRects*64*64\n",
    "    itemsToAdd = 64*64-itemsDiff\n",
    "    print(f\"num of rects: {numOfRects}. To make full should add: {itemsToAdd}\")\n",
    "    if itemsToAdd > 0:\n",
    "        values_sliced = value[:,:numOfFull]\n",
    "        new_value = np.concatenate([value,values_sliced],axis=1)\n",
    "        print(f\"created new length with shape {new_value.shape}\")\n",
    "        updated_dataset[key] = values_sliced\n",
    "    else:\n",
    "        updated_dataset[key] = value\n"
   ],
   "metadata": {
    "collapsed": false,
    "ExecuteTime": {
     "end_time": "2023-09-25T18:48:33.474510Z",
     "start_time": "2023-09-25T18:48:30.625179800Z"
    }
   }
  },
  {
   "cell_type": "code",
   "execution_count": 7,
   "outputs": [],
   "source": [
    "y_data_list = []\n",
    "x_data_list = []\n",
    "\n",
    "for key, value in updated_dataset.items():\n",
    "    category_id = categories_map[key]\n",
    "    arr = np.full(value.shape[1], category_id)\n",
    "    y_data_list.extend(arr)\n",
    "    x_data_list.append(value)\n",
    "y_data = np.asarray(y_data_list)"
   ],
   "metadata": {
    "collapsed": false,
    "ExecuteTime": {
     "end_time": "2023-09-25T18:48:37.454817800Z",
     "start_time": "2023-09-25T18:48:35.869283900Z"
    }
   }
  },
  {
   "cell_type": "code",
   "execution_count": 8,
   "outputs": [
    {
     "data": {
      "text/plain": "(11571200,)"
     },
     "execution_count": 8,
     "metadata": {},
     "output_type": "execute_result"
    }
   ],
   "source": [
    "y_data.shape"
   ],
   "metadata": {
    "collapsed": false,
    "ExecuteTime": {
     "end_time": "2023-09-25T18:48:42.718018700Z",
     "start_time": "2023-09-25T18:48:42.635116200Z"
    }
   }
  },
  {
   "cell_type": "code",
   "execution_count": 9,
   "outputs": [],
   "source": [
    "x_data_1 = np.hstack(x_data_list)"
   ],
   "metadata": {
    "collapsed": false,
    "ExecuteTime": {
     "end_time": "2023-09-25T18:48:44.005975Z",
     "start_time": "2023-09-25T18:48:43.586345700Z"
    }
   }
  },
  {
   "cell_type": "code",
   "execution_count": 10,
   "outputs": [
    {
     "data": {
      "text/plain": "(12, 11571200)"
     },
     "execution_count": 10,
     "metadata": {},
     "output_type": "execute_result"
    }
   ],
   "source": [
    "x_data_1.shape"
   ],
   "metadata": {
    "collapsed": false,
    "ExecuteTime": {
     "end_time": "2023-09-25T18:48:44.199878400Z",
     "start_time": "2023-09-25T18:48:44.162212700Z"
    }
   }
  },
  {
   "cell_type": "code",
   "execution_count": 11,
   "outputs": [],
   "source": [
    "x_data = np.moveaxis(x_data_1, 0,1)"
   ],
   "metadata": {
    "collapsed": false,
    "ExecuteTime": {
     "end_time": "2023-09-25T18:48:44.733118300Z",
     "start_time": "2023-09-25T18:48:44.611185900Z"
    }
   }
  },
  {
   "cell_type": "code",
   "execution_count": 12,
   "outputs": [
    {
     "name": "stdout",
     "output_type": "stream",
     "text": [
      "Min 0.0 and max 1.7788000106811523\n"
     ]
    }
   ],
   "source": [
    "print(f\"Min {x_data.min()} and max {x_data.max()}\")"
   ],
   "metadata": {
    "collapsed": false,
    "ExecuteTime": {
     "end_time": "2023-09-25T18:48:47.489442200Z",
     "start_time": "2023-09-25T18:48:47.375410500Z"
    }
   }
  },
  {
   "cell_type": "code",
   "execution_count": 13,
   "outputs": [
    {
     "data": {
      "text/plain": "(11571200, 12)"
     },
     "execution_count": 13,
     "metadata": {},
     "output_type": "execute_result"
    }
   ],
   "source": [
    "x_data.shape"
   ],
   "metadata": {
    "collapsed": false,
    "ExecuteTime": {
     "end_time": "2023-09-25T18:48:48.287637Z",
     "start_time": "2023-09-25T18:48:48.251459700Z"
    }
   }
  },
  {
   "cell_type": "code",
   "execution_count": 14,
   "outputs": [],
   "source": [
    "def createImageCubes(img_array, blk_width,blk_height):\n",
    "    arrray = []\n",
    "    imageShape = img_array.shape\n",
    "    for w in range(0,imageShape[0],blk_width):\n",
    "        for h in range(0, imageShape[1], blk_height):\n",
    "            arrr = img_array[w:w+blk_width,h:h+blk_height]\n",
    "            arrray.append(np.asarray(arrr))\n",
    "    return np.asarray(arrray)"
   ],
   "metadata": {
    "collapsed": false,
    "ExecuteTime": {
     "end_time": "2023-09-25T18:48:48.632729200Z",
     "start_time": "2023-09-25T18:48:48.591506500Z"
    }
   }
  },
  {
   "cell_type": "code",
   "execution_count": 14,
   "outputs": [
    {
     "ename": "IndexError",
     "evalue": "tuple index out of range",
     "output_type": "error",
     "traceback": [
      "\u001B[0;31m---------------------------------------------------------------------------\u001B[0m",
      "\u001B[0;31mIndexError\u001B[0m                                Traceback (most recent call last)",
      "Cell \u001B[0;32mIn[14], line 1\u001B[0m\n\u001B[0;32m----> 1\u001B[0m y_cubes \u001B[38;5;241m=\u001B[39m \u001B[43mcreateImageCubes\u001B[49m\u001B[43m(\u001B[49m\u001B[43my_data\u001B[49m\u001B[43m,\u001B[49m\u001B[43m \u001B[49m\u001B[38;5;241;43m64\u001B[39;49m\u001B[43m,\u001B[49m\u001B[38;5;241;43m64\u001B[39;49m\u001B[43m)\u001B[49m\n",
      "Cell \u001B[0;32mIn[13], line 5\u001B[0m, in \u001B[0;36mcreateImageCubes\u001B[0;34m(img_array, blk_width, blk_height)\u001B[0m\n\u001B[1;32m      3\u001B[0m imageShape \u001B[38;5;241m=\u001B[39m img_array\u001B[38;5;241m.\u001B[39mshape\n\u001B[1;32m      4\u001B[0m \u001B[38;5;28;01mfor\u001B[39;00m w \u001B[38;5;129;01min\u001B[39;00m \u001B[38;5;28mrange\u001B[39m(\u001B[38;5;241m0\u001B[39m,imageShape[\u001B[38;5;241m0\u001B[39m],blk_width):\n\u001B[0;32m----> 5\u001B[0m     \u001B[38;5;28;01mfor\u001B[39;00m h \u001B[38;5;129;01min\u001B[39;00m \u001B[38;5;28mrange\u001B[39m(\u001B[38;5;241m0\u001B[39m, \u001B[43mimageShape\u001B[49m\u001B[43m[\u001B[49m\u001B[38;5;241;43m1\u001B[39;49m\u001B[43m]\u001B[49m, blk_height):\n\u001B[1;32m      6\u001B[0m         arrr \u001B[38;5;241m=\u001B[39m img_array[w:w\u001B[38;5;241m+\u001B[39mblk_width,h:h\u001B[38;5;241m+\u001B[39mblk_height]\n\u001B[1;32m      7\u001B[0m         arrray\u001B[38;5;241m.\u001B[39mappend(np\u001B[38;5;241m.\u001B[39masarray(arrr))\n",
      "\u001B[0;31mIndexError\u001B[0m: tuple index out of range"
     ]
    }
   ],
   "source": [
    "y_cubes = createImageCubes(y_data, 64,64)"
   ],
   "metadata": {
    "collapsed": false,
    "ExecuteTime": {
     "end_time": "2023-09-23T20:19:42.688855600Z",
     "start_time": "2023-09-23T20:19:42.672842900Z"
    }
   }
  },
  {
   "cell_type": "code",
   "execution_count": 162,
   "outputs": [
    {
     "data": {
      "text/plain": "(11595776,)"
     },
     "execution_count": 162,
     "metadata": {},
     "output_type": "execute_result"
    }
   ],
   "source": [
    "y_data.shape"
   ],
   "metadata": {
    "collapsed": false,
    "ExecuteTime": {
     "end_time": "2023-09-23T19:38:50.414699900Z",
     "start_time": "2023-09-23T19:38:50.308716400Z"
    }
   }
  },
  {
   "cell_type": "code",
   "execution_count": 15,
   "outputs": [
    {
     "data": {
      "text/plain": "2825"
     },
     "execution_count": 15,
     "metadata": {},
     "output_type": "execute_result"
    }
   ],
   "source": [
    "length = int(y_data.shape[0]/64/64)\n",
    "length"
   ],
   "metadata": {
    "collapsed": false,
    "ExecuteTime": {
     "end_time": "2023-09-25T18:48:53.096273900Z",
     "start_time": "2023-09-25T18:48:53.042073Z"
    }
   }
  },
  {
   "cell_type": "code",
   "execution_count": 16,
   "outputs": [],
   "source": [
    "y_data_cubes = y_data.reshape(length,64,64)"
   ],
   "metadata": {
    "collapsed": false,
    "ExecuteTime": {
     "end_time": "2023-09-25T18:48:53.833510500Z",
     "start_time": "2023-09-25T18:48:53.784439300Z"
    }
   }
  },
  {
   "cell_type": "code",
   "execution_count": 17,
   "outputs": [],
   "source": [
    "x_data_cubes = x_data.reshape(length,64,64,12)"
   ],
   "metadata": {
    "collapsed": false,
    "ExecuteTime": {
     "end_time": "2023-09-25T18:48:54.282643600Z",
     "start_time": "2023-09-25T18:48:54.223652400Z"
    }
   }
  },
  {
   "cell_type": "code",
   "execution_count": 18,
   "outputs": [
    {
     "name": "stderr",
     "output_type": "stream",
     "text": [
      "2023-09-25 21:49:10.901031: I tensorflow/core/platform/cpu_feature_guard.cc:182] This TensorFlow binary is optimized to use available CPU instructions in performance-critical operations.\n",
      "To enable the following instructions: AVX2 FMA, in other operations, rebuild TensorFlow with the appropriate compiler flags.\n",
      "2023-09-25 21:49:14.457969: W tensorflow/compiler/tf2tensorrt/utils/py_utils.cc:38] TF-TRT Warning: Could not find TensorRT\n"
     ]
    }
   ],
   "source": [
    "import tensorflow as tf"
   ],
   "metadata": {
    "collapsed": false,
    "ExecuteTime": {
     "end_time": "2023-09-25T18:49:17.923186700Z",
     "start_time": "2023-09-25T18:49:08.330095500Z"
    }
   }
  },
  {
   "cell_type": "code",
   "execution_count": 19,
   "outputs": [],
   "source": [
    "from tensorflow.keras.layers import *"
   ],
   "metadata": {
    "collapsed": false,
    "ExecuteTime": {
     "end_time": "2023-09-25T18:49:19.580905400Z",
     "start_time": "2023-09-25T18:49:19.473252600Z"
    }
   }
  },
  {
   "cell_type": "code",
   "execution_count": 94,
   "outputs": [],
   "source": [
    "model_new = tf.keras.models.Sequential([\n",
    "    Conv2D(64,(5,5),padding='same',input_shape=(64,64,12)),\n",
    "    Conv2D(64,(5,5),padding='same'),\n",
    "    BatchNormalization(),\n",
    "    Activation('relu'),\n",
    "    MaxPooling2D(pool_size=(2,2)),\n",
    "    Dropout(0.5),\n",
    "\n",
    "    Conv2D(128,(5,5), padding='same'),\n",
    "    Conv2D(128,(5,5), padding='same'),\n",
    "    BatchNormalization(),\n",
    "    Activation('relu'),\n",
    "    MaxPooling2D(pool_size=(2,2),name='feature_layer'),\n",
    "    Dropout(0.5),\n",
    "\n",
    "    #We are naming this layer, as we will extract features from it in future, JUST WAIT !!!\n",
    "    Conv2D(256,(5,5), padding='same'),\n",
    "    Conv2D(256,(5,5), padding='same'),\n",
    "    BatchNormalization(),\n",
    "    Activation('relu'),\n",
    "    MaxPooling2D(pool_size=(2,2)),\n",
    "    #Flatten(),\n",
    "    #Dense(128),\n",
    "    Activation('relu'),\n",
    "    Dropout(0.5),\n",
    "    #Reshape((4,4,128)),\n",
    "    UpSampling2D((2,2)),\n",
    "    Conv2D(256,(5,5), padding='same'),\n",
    "    Conv2D(256,(5,5), padding='same'),\n",
    "    BatchNormalization(),\n",
    "    Activation('relu'),\n",
    "    UpSampling2D((2,2)),\n",
    "    Dropout(0.5),\n",
    "    Conv2D(128,(5,5), padding='same'),\n",
    "    Conv2D(128,(5,5), padding='same'),\n",
    "    BatchNormalization(),\n",
    "    Activation('relu'),\n",
    "    UpSampling2D((2,2)),\n",
    "    Dropout(0.5),\n",
    "    Conv2D(64,(5,5), padding='same'),\n",
    "    Conv2D(64,(5,5), padding='same'),\n",
    "    BatchNormalization(),\n",
    "    Activation('relu'),\n",
    "    Conv2D(7,3,padding='same'),\n",
    "    # model.add(Flatten())\n",
    "    # model.add(Dense(24))\n",
    "    # model.add(Activation('relu'))\n",
    "    # model.add(Dropout(0.5))\n",
    "    # model.add(Dense(6))\n",
    "    Activation('softmax'),\n",
    "])"
   ],
   "metadata": {
    "collapsed": false,
    "ExecuteTime": {
     "end_time": "2023-09-24T08:19:07.030063200Z",
     "start_time": "2023-09-24T08:19:06.808109900Z"
    }
   }
  },
  {
   "cell_type": "code",
   "execution_count": 95,
   "outputs": [
    {
     "name": "stdout",
     "output_type": "stream",
     "text": [
      "Model: \"sequential_2\"\n",
      "_________________________________________________________________\n",
      " Layer (type)                Output Shape              Param #   \n",
      "=================================================================\n",
      " conv2d_26 (Conv2D)          (None, 64, 64, 64)        19264     \n",
      "                                                                 \n",
      " conv2d_27 (Conv2D)          (None, 64, 64, 64)        102464    \n",
      "                                                                 \n",
      " batch_normalization_12 (Ba  (None, 64, 64, 64)        256       \n",
      " tchNormalization)                                               \n",
      "                                                                 \n",
      " activation_16 (Activation)  (None, 64, 64, 64)        0         \n",
      "                                                                 \n",
      " max_pooling2d_4 (MaxPoolin  (None, 32, 32, 64)        0         \n",
      " g2D)                                                            \n",
      "                                                                 \n",
      " dropout_10 (Dropout)        (None, 32, 32, 64)        0         \n",
      "                                                                 \n",
      " conv2d_28 (Conv2D)          (None, 32, 32, 128)       204928    \n",
      "                                                                 \n",
      " conv2d_29 (Conv2D)          (None, 32, 32, 128)       409728    \n",
      "                                                                 \n",
      " batch_normalization_13 (Ba  (None, 32, 32, 128)       512       \n",
      " tchNormalization)                                               \n",
      "                                                                 \n",
      " activation_17 (Activation)  (None, 32, 32, 128)       0         \n",
      "                                                                 \n",
      " feature_layer (MaxPooling2  (None, 16, 16, 128)       0         \n",
      " D)                                                              \n",
      "                                                                 \n",
      " dropout_11 (Dropout)        (None, 16, 16, 128)       0         \n",
      "                                                                 \n",
      " conv2d_30 (Conv2D)          (None, 16, 16, 256)       819456    \n",
      "                                                                 \n",
      " conv2d_31 (Conv2D)          (None, 16, 16, 256)       1638656   \n",
      "                                                                 \n",
      " batch_normalization_14 (Ba  (None, 16, 16, 256)       1024      \n",
      " tchNormalization)                                               \n",
      "                                                                 \n",
      " activation_18 (Activation)  (None, 16, 16, 256)       0         \n",
      "                                                                 \n",
      " max_pooling2d_5 (MaxPoolin  (None, 8, 8, 256)         0         \n",
      " g2D)                                                            \n",
      "                                                                 \n",
      " activation_19 (Activation)  (None, 8, 8, 256)         0         \n",
      "                                                                 \n",
      " dropout_12 (Dropout)        (None, 8, 8, 256)         0         \n",
      "                                                                 \n",
      " up_sampling2d_6 (UpSamplin  (None, 16, 16, 256)       0         \n",
      " g2D)                                                            \n",
      "                                                                 \n",
      " conv2d_32 (Conv2D)          (None, 16, 16, 256)       1638656   \n",
      "                                                                 \n",
      " conv2d_33 (Conv2D)          (None, 16, 16, 256)       1638656   \n",
      "                                                                 \n",
      " batch_normalization_15 (Ba  (None, 16, 16, 256)       1024      \n",
      " tchNormalization)                                               \n",
      "                                                                 \n",
      " activation_20 (Activation)  (None, 16, 16, 256)       0         \n",
      "                                                                 \n",
      " up_sampling2d_7 (UpSamplin  (None, 32, 32, 256)       0         \n",
      " g2D)                                                            \n",
      "                                                                 \n",
      " dropout_13 (Dropout)        (None, 32, 32, 256)       0         \n",
      "                                                                 \n",
      " conv2d_34 (Conv2D)          (None, 32, 32, 128)       819328    \n",
      "                                                                 \n",
      " conv2d_35 (Conv2D)          (None, 32, 32, 128)       409728    \n",
      "                                                                 \n",
      " batch_normalization_16 (Ba  (None, 32, 32, 128)       512       \n",
      " tchNormalization)                                               \n",
      "                                                                 \n",
      " activation_21 (Activation)  (None, 32, 32, 128)       0         \n",
      "                                                                 \n",
      " up_sampling2d_8 (UpSamplin  (None, 64, 64, 128)       0         \n",
      " g2D)                                                            \n",
      "                                                                 \n",
      " dropout_14 (Dropout)        (None, 64, 64, 128)       0         \n",
      "                                                                 \n",
      " conv2d_36 (Conv2D)          (None, 64, 64, 64)        204864    \n",
      "                                                                 \n",
      " conv2d_37 (Conv2D)          (None, 64, 64, 64)        102464    \n",
      "                                                                 \n",
      " batch_normalization_17 (Ba  (None, 64, 64, 64)        256       \n",
      " tchNormalization)                                               \n",
      "                                                                 \n",
      " activation_22 (Activation)  (None, 64, 64, 64)        0         \n",
      "                                                                 \n",
      " conv2d_38 (Conv2D)          (None, 64, 64, 7)         4039      \n",
      "                                                                 \n",
      " activation_23 (Activation)  (None, 64, 64, 7)         0         \n",
      "                                                                 \n",
      "=================================================================\n",
      "Total params: 8015815 (30.58 MB)\n",
      "Trainable params: 8014023 (30.57 MB)\n",
      "Non-trainable params: 1792 (7.00 KB)\n",
      "_________________________________________________________________\n"
     ]
    }
   ],
   "source": [
    "model_new.compile(loss='categorical_crossentropy', optimizer='rmsprop', metrics=['accuracy','mse'])\n",
    "model_new.summary()"
   ],
   "metadata": {
    "collapsed": false,
    "ExecuteTime": {
     "end_time": "2023-09-24T08:19:07.696867700Z",
     "start_time": "2023-09-24T08:19:07.594667600Z"
    }
   }
  },
  {
   "cell_type": "code",
   "execution_count": 20,
   "outputs": [],
   "source": [
    "from keras.preprocessing.image import ImageDataGenerator\n",
    "\n",
    "datagen = ImageDataGenerator(\n",
    "    rotation_range=70,      # Random rotations between 0 and 40 degrees\n",
    "    width_shift_range=0.2,  # Random horizontal shift up to 20%\n",
    "    height_shift_range=0.2, # Random vertical shift up to 20%\n",
    "    shear_range=0.2,        # Shear transformations\n",
    "    zoom_range=0.2,         # Random zooming up to 20%\n",
    "    horizontal_flip=True,   # Random horizontal flipping\n",
    "    fill_mode='nearest'     # How to fill missing pixels after transformation\n",
    ")"
   ],
   "metadata": {
    "collapsed": false,
    "ExecuteTime": {
     "end_time": "2023-09-24T08:02:39.929840300Z",
     "start_time": "2023-09-24T08:02:39.862167600Z"
    }
   }
  },
  {
   "cell_type": "code",
   "execution_count": 188,
   "outputs": [
    {
     "name": "stderr",
     "output_type": "stream",
     "text": [
      "2023-09-23 22:56:05.292375: W tensorflow/tsl/framework/cpu_allocator_impl.cc:83] Allocation of 556597248 exceeds 10% of free system memory.\n"
     ]
    },
    {
     "ename": "InvalidArgumentError",
     "evalue": "{{function_node __wrapped__Split_num_split_2264_device_/job:localhost/replica:0/task:0/device:GPU:0}} Number of ways to split should evenly divide the split dimension, but got split_dim 0 (size = 2831) and num_split 2264 [Op:Split] name: split",
     "output_type": "error",
     "traceback": [
      "\u001B[0;31m---------------------------------------------------------------------------\u001B[0m",
      "\u001B[0;31mInvalidArgumentError\u001B[0m                      Traceback (most recent call last)",
      "Cell \u001B[0;32mIn[188], line 7\u001B[0m\n\u001B[1;32m      3\u001B[0m num_to_train \u001B[38;5;241m=\u001B[39m \u001B[38;5;28mint\u001B[39m(x_data_cubes\u001B[38;5;241m.\u001B[39mshape[\u001B[38;5;241m0\u001B[39m]\u001B[38;5;241m*\u001B[39m\u001B[38;5;241m0.8\u001B[39m)\n\u001B[1;32m      5\u001B[0m \u001B[38;5;66;03m#x_train = x_data_cubes[:num_to_train,:,:,:]\u001B[39;00m\n\u001B[1;32m      6\u001B[0m \u001B[38;5;66;03m#y_train = y_data_cubes[:num_to_train,:,:]\u001B[39;00m\n\u001B[0;32m----> 7\u001B[0m x_train \u001B[38;5;241m=\u001B[39m \u001B[43mtf\u001B[49m\u001B[38;5;241;43m.\u001B[39;49m\u001B[43msplit\u001B[49m\u001B[43m(\u001B[49m\u001B[43mx_data_cubes\u001B[49m\u001B[43m,\u001B[49m\u001B[43m \u001B[49m\u001B[43mnum_to_train\u001B[49m\u001B[43m)\u001B[49m\n\u001B[1;32m      8\u001B[0m y_train \u001B[38;5;241m=\u001B[39m tf\u001B[38;5;241m.\u001B[39msplit(y_data_cubes, num_to_train)\n",
      "File \u001B[0;32m~/miniconda3/envs/segmentation-new/lib/python3.11/site-packages/tensorflow/python/util/traceback_utils.py:153\u001B[0m, in \u001B[0;36mfilter_traceback.<locals>.error_handler\u001B[0;34m(*args, **kwargs)\u001B[0m\n\u001B[1;32m    151\u001B[0m \u001B[38;5;28;01mexcept\u001B[39;00m \u001B[38;5;167;01mException\u001B[39;00m \u001B[38;5;28;01mas\u001B[39;00m e:\n\u001B[1;32m    152\u001B[0m   filtered_tb \u001B[38;5;241m=\u001B[39m _process_traceback_frames(e\u001B[38;5;241m.\u001B[39m__traceback__)\n\u001B[0;32m--> 153\u001B[0m   \u001B[38;5;28;01mraise\u001B[39;00m e\u001B[38;5;241m.\u001B[39mwith_traceback(filtered_tb) \u001B[38;5;28;01mfrom\u001B[39;00m \u001B[38;5;28;01mNone\u001B[39;00m\n\u001B[1;32m    154\u001B[0m \u001B[38;5;28;01mfinally\u001B[39;00m:\n\u001B[1;32m    155\u001B[0m   \u001B[38;5;28;01mdel\u001B[39;00m filtered_tb\n",
      "File \u001B[0;32m~/miniconda3/envs/segmentation-new/lib/python3.11/site-packages/tensorflow/python/framework/ops.py:6656\u001B[0m, in \u001B[0;36mraise_from_not_ok_status\u001B[0;34m(e, name)\u001B[0m\n\u001B[1;32m   6654\u001B[0m \u001B[38;5;28;01mdef\u001B[39;00m \u001B[38;5;21mraise_from_not_ok_status\u001B[39m(e, name):\n\u001B[1;32m   6655\u001B[0m   e\u001B[38;5;241m.\u001B[39mmessage \u001B[38;5;241m+\u001B[39m\u001B[38;5;241m=\u001B[39m (\u001B[38;5;124m\"\u001B[39m\u001B[38;5;124m name: \u001B[39m\u001B[38;5;124m\"\u001B[39m \u001B[38;5;241m+\u001B[39m \u001B[38;5;28mstr\u001B[39m(name \u001B[38;5;28;01mif\u001B[39;00m name \u001B[38;5;129;01mis\u001B[39;00m \u001B[38;5;129;01mnot\u001B[39;00m \u001B[38;5;28;01mNone\u001B[39;00m \u001B[38;5;28;01melse\u001B[39;00m \u001B[38;5;124m\"\u001B[39m\u001B[38;5;124m\"\u001B[39m))\n\u001B[0;32m-> 6656\u001B[0m   \u001B[38;5;28;01mraise\u001B[39;00m core\u001B[38;5;241m.\u001B[39m_status_to_exception(e) \u001B[38;5;28;01mfrom\u001B[39;00m \u001B[38;5;28;01mNone\u001B[39;00m\n",
      "\u001B[0;31mInvalidArgumentError\u001B[0m: {{function_node __wrapped__Split_num_split_2264_device_/job:localhost/replica:0/task:0/device:GPU:0}} Number of ways to split should evenly divide the split dimension, but got split_dim 0 (size = 2831) and num_split 2264 [Op:Split] name: split"
     ]
    }
   ],
   "source": [],
   "metadata": {
    "collapsed": false,
    "ExecuteTime": {
     "end_time": "2023-09-23T19:56:11.310078100Z",
     "start_time": "2023-09-23T19:56:01.400163500Z"
    }
   }
  },
  {
   "cell_type": "code",
   "execution_count": 21,
   "outputs": [
    {
     "name": "stderr",
     "output_type": "stream",
     "text": [
      "/home/andrew/miniconda3/envs/segmentation-new/lib/python3.11/site-packages/keras/src/preprocessing/image.py:766: UserWarning: NumpyArrayIterator is set to use the data format convention \"channels_last\" (channels on axis 3), i.e. expected either 1, 3, or 4 channels on axis 3. However, it was passed an array with shape (1, 64, 64, 12) (12 channels).\n",
      "  warnings.warn(\n"
     ]
    }
   ],
   "source": [
    "augmented_data = []\n",
    "\n",
    "for img in x_data_cubes:  # Assuming x_data is your numpy array\n",
    "    img = img.reshape((1,) + img.shape)  # Reshape image to (1, 64, 64, 12)\n",
    "    i = 0\n",
    "    for batch in datagen.flow(img, batch_size=1):  # Generate augmented images\n",
    "        augmented_data.append(batch[0])\n",
    "        i += 1\n",
    "        if i >= 2:  # Generate 3 augmented images for each original image\n",
    "            break\n",
    "\n",
    "# Convert the augmented data back to a numpy array\n",
    "augmented_data = np.array(augmented_data)\n"
   ],
   "metadata": {
    "collapsed": false,
    "ExecuteTime": {
     "end_time": "2023-09-24T08:02:58.206105300Z",
     "start_time": "2023-09-24T08:02:42.977949700Z"
    }
   }
  },
  {
   "cell_type": "code",
   "execution_count": 22,
   "outputs": [
    {
     "name": "stdout",
     "output_type": "stream",
     "text": [
      "Min 0.0 and max 1.5371034145355225\n"
     ]
    }
   ],
   "source": [
    "print(f\"Min {augmented_data.min()} and max {augmented_data.max()}\")"
   ],
   "metadata": {
    "collapsed": false,
    "ExecuteTime": {
     "end_time": "2023-09-24T08:03:11.528429600Z",
     "start_time": "2023-09-24T08:03:11.341122100Z"
    }
   }
  },
  {
   "cell_type": "code",
   "execution_count": 21,
   "outputs": [
    {
     "data": {
      "text/plain": "(2831, 64, 64, 12)"
     },
     "execution_count": 21,
     "metadata": {},
     "output_type": "execute_result"
    }
   ],
   "source": [
    "x_data_cubes.shape"
   ],
   "metadata": {
    "collapsed": false,
    "ExecuteTime": {
     "end_time": "2023-09-23T21:47:42.375471200Z",
     "start_time": "2023-09-23T21:47:42.365462500Z"
    }
   }
  },
  {
   "cell_type": "code",
   "execution_count": 21,
   "outputs": [],
   "source": [],
   "metadata": {
    "collapsed": false,
    "ExecuteTime": {
     "end_time": "2023-09-23T21:47:43.151098900Z",
     "start_time": "2023-09-23T21:47:43.142062800Z"
    }
   }
  },
  {
   "cell_type": "code",
   "execution_count": 23,
   "outputs": [],
   "source": [
    "x_data_combined = np.vstack((x_data_cubes, augmented_data))"
   ],
   "metadata": {
    "collapsed": false,
    "ExecuteTime": {
     "end_time": "2023-09-24T08:04:55.251506200Z",
     "start_time": "2023-09-24T08:04:53.216689200Z"
    }
   }
  },
  {
   "cell_type": "code",
   "execution_count": 24,
   "outputs": [],
   "source": [
    "x_data_mean = np.mean(x_data_combined)"
   ],
   "metadata": {
    "collapsed": false,
    "ExecuteTime": {
     "end_time": "2023-09-24T08:04:56.604350200Z",
     "start_time": "2023-09-24T08:04:56.438050600Z"
    }
   }
  },
  {
   "cell_type": "code",
   "execution_count": 25,
   "outputs": [],
   "source": [
    "x_data_std = np.std(x_data_combined)"
   ],
   "metadata": {
    "collapsed": false,
    "ExecuteTime": {
     "end_time": "2023-09-24T08:04:59.678192800Z",
     "start_time": "2023-09-24T08:04:57.203784Z"
    }
   }
  },
  {
   "cell_type": "code",
   "execution_count": 20,
   "outputs": [],
   "source": [
    "x_data_stadartized = x_data_cubes/x_data_cubes.max()"
   ],
   "metadata": {
    "collapsed": false,
    "ExecuteTime": {
     "end_time": "2023-09-25T18:49:29.041387500Z",
     "start_time": "2023-09-25T18:49:28.236173600Z"
    }
   }
  },
  {
   "cell_type": "code",
   "execution_count": 21,
   "outputs": [
    {
     "name": "stdout",
     "output_type": "stream",
     "text": [
      "Min 0.0 and max 1.0\n"
     ]
    }
   ],
   "source": [
    "print(f\"Min {x_data_stadartized.min()} and max {x_data_stadartized.max()}\")"
   ],
   "metadata": {
    "collapsed": false,
    "ExecuteTime": {
     "end_time": "2023-09-24T17:31:22.471455700Z",
     "start_time": "2023-09-24T17:31:22.383562900Z"
    }
   }
  },
  {
   "cell_type": "code",
   "execution_count": 18,
   "outputs": [
    {
     "ename": "NameError",
     "evalue": "name 'x_data_combined' is not defined",
     "output_type": "error",
     "traceback": [
      "\u001B[0;31m---------------------------------------------------------------------------\u001B[0m",
      "\u001B[0;31mNameError\u001B[0m                                 Traceback (most recent call last)",
      "Cell \u001B[0;32mIn[18], line 1\u001B[0m\n\u001B[0;32m----> 1\u001B[0m num_toextend \u001B[38;5;241m=\u001B[39m \u001B[43mx_data_combined\u001B[49m\u001B[38;5;241m.\u001B[39mshape[\u001B[38;5;241m0\u001B[39m]\u001B[38;5;241m/\u001B[39mx_data_cubes\u001B[38;5;241m.\u001B[39mshape[\u001B[38;5;241m0\u001B[39m]\n",
      "\u001B[0;31mNameError\u001B[0m: name 'x_data_combined' is not defined"
     ]
    }
   ],
   "source": [
    "num_toextend = x_data_combined.shape[0]/x_data_cubes.shape[0]"
   ],
   "metadata": {
    "collapsed": false,
    "ExecuteTime": {
     "end_time": "2023-09-24T15:34:29.700871900Z",
     "start_time": "2023-09-24T15:34:29.605662100Z"
    }
   }
  },
  {
   "cell_type": "code",
   "execution_count": 19,
   "outputs": [
    {
     "ename": "NameError",
     "evalue": "name 'num_toextend' is not defined",
     "output_type": "error",
     "traceback": [
      "\u001B[0;31m---------------------------------------------------------------------------\u001B[0m",
      "\u001B[0;31mNameError\u001B[0m                                 Traceback (most recent call last)",
      "Cell \u001B[0;32mIn[19], line 1\u001B[0m\n\u001B[0;32m----> 1\u001B[0m y_data_augmented \u001B[38;5;241m=\u001B[39m np\u001B[38;5;241m.\u001B[39mrepeat(y_data_cubes, \u001B[43mnum_toextend\u001B[49m, axis\u001B[38;5;241m=\u001B[39m\u001B[38;5;241m0\u001B[39m)\n",
      "\u001B[0;31mNameError\u001B[0m: name 'num_toextend' is not defined"
     ]
    }
   ],
   "source": [
    "y_data_augmented = np.repeat(y_data_cubes, num_toextend, axis=0)"
   ],
   "metadata": {
    "collapsed": false,
    "ExecuteTime": {
     "end_time": "2023-09-24T15:34:30.208607100Z",
     "start_time": "2023-09-24T15:34:30.163021Z"
    }
   }
  },
  {
   "cell_type": "code",
   "execution_count": 30,
   "outputs": [
    {
     "data": {
      "text/plain": "(8493, 64, 64)"
     },
     "execution_count": 30,
     "metadata": {},
     "output_type": "execute_result"
    }
   ],
   "source": [
    "y_data_augmented.shape"
   ],
   "metadata": {
    "collapsed": false,
    "ExecuteTime": {
     "end_time": "2023-09-24T08:05:15.925638Z",
     "start_time": "2023-09-24T08:05:15.876872600Z"
    }
   }
  },
  {
   "cell_type": "code",
   "execution_count": 21,
   "outputs": [],
   "source": [
    "y_data_train_cate = tf.keras.utils.to_categorical(y_data_cubes)"
   ],
   "metadata": {
    "collapsed": false,
    "ExecuteTime": {
     "end_time": "2023-09-25T18:49:35.003058400Z",
     "start_time": "2023-09-25T18:49:34.644918500Z"
    }
   }
  },
  {
   "cell_type": "code",
   "execution_count": 22,
   "outputs": [
    {
     "data": {
      "text/plain": "6"
     },
     "execution_count": 22,
     "metadata": {},
     "output_type": "execute_result"
    }
   ],
   "source": [
    "y_data_cubes.max()"
   ],
   "metadata": {
    "collapsed": false,
    "ExecuteTime": {
     "end_time": "2023-09-25T18:49:36.243039100Z",
     "start_time": "2023-09-25T18:49:36.159302200Z"
    }
   }
  },
  {
   "cell_type": "code",
   "execution_count": 22,
   "outputs": [
    {
     "data": {
      "text/plain": "(2825, 64, 64, 7)"
     },
     "execution_count": 22,
     "metadata": {},
     "output_type": "execute_result"
    }
   ],
   "source": [
    "y_data_train_cate.shape"
   ],
   "metadata": {
    "collapsed": false,
    "ExecuteTime": {
     "end_time": "2023-09-24T15:34:35.102558700Z",
     "start_time": "2023-09-24T15:34:35.048882700Z"
    }
   }
  },
  {
   "cell_type": "code",
   "execution_count": 23,
   "outputs": [
    {
     "name": "stderr",
     "output_type": "stream",
     "text": [
      "2023-09-25 21:50:22.269420: I tensorflow/compiler/xla/stream_executor/cuda/cuda_gpu_executor.cc:981] could not open file to read NUMA node: /sys/bus/pci/devices/0000:01:00.0/numa_node\n",
      "Your kernel may have been built without NUMA support.\n",
      "2023-09-25 21:50:22.726461: I tensorflow/compiler/xla/stream_executor/cuda/cuda_gpu_executor.cc:981] could not open file to read NUMA node: /sys/bus/pci/devices/0000:01:00.0/numa_node\n",
      "Your kernel may have been built without NUMA support.\n",
      "2023-09-25 21:50:22.726535: I tensorflow/compiler/xla/stream_executor/cuda/cuda_gpu_executor.cc:981] could not open file to read NUMA node: /sys/bus/pci/devices/0000:01:00.0/numa_node\n",
      "Your kernel may have been built without NUMA support.\n",
      "2023-09-25 21:50:22.731846: I tensorflow/compiler/xla/stream_executor/cuda/cuda_gpu_executor.cc:981] could not open file to read NUMA node: /sys/bus/pci/devices/0000:01:00.0/numa_node\n",
      "Your kernel may have been built without NUMA support.\n",
      "2023-09-25 21:50:22.731982: I tensorflow/compiler/xla/stream_executor/cuda/cuda_gpu_executor.cc:981] could not open file to read NUMA node: /sys/bus/pci/devices/0000:01:00.0/numa_node\n",
      "Your kernel may have been built without NUMA support.\n",
      "2023-09-25 21:50:22.732020: I tensorflow/compiler/xla/stream_executor/cuda/cuda_gpu_executor.cc:981] could not open file to read NUMA node: /sys/bus/pci/devices/0000:01:00.0/numa_node\n",
      "Your kernel may have been built without NUMA support.\n",
      "2023-09-25 21:50:23.174374: I tensorflow/compiler/xla/stream_executor/cuda/cuda_gpu_executor.cc:981] could not open file to read NUMA node: /sys/bus/pci/devices/0000:01:00.0/numa_node\n",
      "Your kernel may have been built without NUMA support.\n",
      "2023-09-25 21:50:23.174541: I tensorflow/compiler/xla/stream_executor/cuda/cuda_gpu_executor.cc:981] could not open file to read NUMA node: /sys/bus/pci/devices/0000:01:00.0/numa_node\n",
      "Your kernel may have been built without NUMA support.\n",
      "2023-09-25 21:50:23.174565: I tensorflow/core/common_runtime/gpu/gpu_device.cc:1726] Could not identify NUMA node of platform GPU id 0, defaulting to 0.  Your kernel may not have been built with NUMA support.\n",
      "2023-09-25 21:50:23.174649: I tensorflow/compiler/xla/stream_executor/cuda/cuda_gpu_executor.cc:981] could not open file to read NUMA node: /sys/bus/pci/devices/0000:01:00.0/numa_node\n",
      "Your kernel may have been built without NUMA support.\n",
      "2023-09-25 21:50:23.174847: I tensorflow/core/common_runtime/gpu/gpu_device.cc:1639] Created device /job:localhost/replica:0/task:0/device:GPU:0 with 21784 MB memory:  -> device: 0, name: NVIDIA GeForce RTX 3090, pci bus id: 0000:01:00.0, compute capability: 8.6\n"
     ]
    }
   ],
   "source": [
    "tf_dataset = tf.data.Dataset.from_tensor_slices((x_data_stadartized, y_data_train_cate))"
   ],
   "metadata": {
    "collapsed": false,
    "ExecuteTime": {
     "end_time": "2023-09-25T18:50:34.388125900Z",
     "start_time": "2023-09-25T18:50:21.037981300Z"
    }
   }
  },
  {
   "cell_type": "code",
   "execution_count": 24,
   "outputs": [],
   "source": [
    "DATASET_SIZE = x_data_cubes.shape[0]\n",
    "\n",
    "train_size = int(0.8 * DATASET_SIZE)\n",
    "val_size = int(0.1 * DATASET_SIZE)\n",
    "test_size = int(0.1 * DATASET_SIZE)\n",
    "\n",
    "tf_dataset = tf_dataset.shuffle(buffer_size=1000)\n",
    "train_dataset = tf_dataset.take(train_size)\n",
    "test_dataset = tf_dataset.skip(train_size)\n",
    "val_dataset = test_dataset.skip(test_size)\n",
    "test_dataset = test_dataset.take(test_size)"
   ],
   "metadata": {
    "collapsed": false,
    "ExecuteTime": {
     "end_time": "2023-09-25T18:50:37.654072Z",
     "start_time": "2023-09-25T18:50:37.589718200Z"
    }
   }
  },
  {
   "cell_type": "code",
   "execution_count": 25,
   "outputs": [
    {
     "data": {
      "text/plain": "2260"
     },
     "execution_count": 25,
     "metadata": {},
     "output_type": "execute_result"
    }
   ],
   "source": [
    "train_size"
   ],
   "metadata": {
    "collapsed": false,
    "ExecuteTime": {
     "end_time": "2023-09-25T18:50:41.174153500Z",
     "start_time": "2023-09-25T18:50:41.140721900Z"
    }
   }
  },
  {
   "cell_type": "code",
   "execution_count": 25,
   "outputs": [],
   "source": [],
   "metadata": {
    "collapsed": false,
    "ExecuteTime": {
     "end_time": "2023-09-25T18:50:47.662087700Z",
     "start_time": "2023-09-25T18:50:47.544733100Z"
    }
   }
  },
  {
   "cell_type": "code",
   "execution_count": 26,
   "outputs": [],
   "source": [
    "train_dataset = train_dataset.shuffle(buffer_size=1000).batch(128).prefetch(buffer_size=tf.data.experimental.AUTOTUNE)"
   ],
   "metadata": {
    "collapsed": false,
    "ExecuteTime": {
     "end_time": "2023-09-25T18:50:48.508087200Z",
     "start_time": "2023-09-25T18:50:48.472964800Z"
    }
   }
  },
  {
   "cell_type": "code",
   "execution_count": 100,
   "outputs": [
    {
     "name": "stdout",
     "output_type": "stream",
     "text": [
      "Epoch 1/600\n"
     ]
    },
    {
     "name": "stderr",
     "output_type": "stream",
     "text": [
      "2023-09-24 11:19:27.650822: E tensorflow/core/grappler/optimizers/meta_optimizer.cc:954] layout failed: INVALID_ARGUMENT: Size of values 0 does not match size of permutation 4 @ fanin shape insequential_2/dropout_10/dropout/SelectV2-2-TransposeNHWCToNCHW-LayoutOptimizer\n"
     ]
    },
    {
     "name": "stdout",
     "output_type": "stream",
     "text": [
      "18/18 [==============================] - 14s 531ms/step - loss: 0.8733 - accuracy: 0.7536 - mse: 0.0560\n",
      "Epoch 2/600\n",
      "18/18 [==============================] - 3s 193ms/step - loss: 0.6983 - accuracy: 0.7999 - mse: 0.0442\n",
      "Epoch 3/600\n",
      "18/18 [==============================] - 4s 203ms/step - loss: 0.4270 - accuracy: 0.8825 - mse: 0.0282\n",
      "Epoch 4/600\n",
      "18/18 [==============================] - 4s 206ms/step - loss: 0.3838 - accuracy: 0.8832 - mse: 0.0251\n",
      "Epoch 5/600\n",
      "18/18 [==============================] - 4s 198ms/step - loss: 0.4919 - accuracy: 0.8386 - mse: 0.0327\n",
      "Epoch 6/600\n",
      "18/18 [==============================] - 4s 202ms/step - loss: 0.3727 - accuracy: 0.8792 - mse: 0.0250\n",
      "Epoch 7/600\n",
      "18/18 [==============================] - 4s 205ms/step - loss: 0.3516 - accuracy: 0.8876 - mse: 0.0242\n",
      "Epoch 8/600\n",
      "18/18 [==============================] - 4s 205ms/step - loss: 0.3732 - accuracy: 0.8713 - mse: 0.0264\n",
      "Epoch 9/600\n",
      "18/18 [==============================] - 4s 205ms/step - loss: 0.3152 - accuracy: 0.8978 - mse: 0.0220\n",
      "Epoch 10/600\n",
      "18/18 [==============================] - 4s 202ms/step - loss: 0.3104 - accuracy: 0.9070 - mse: 0.0206\n",
      "Epoch 11/600\n",
      "18/18 [==============================] - 4s 201ms/step - loss: 0.4139 - accuracy: 0.8718 - mse: 0.0265\n",
      "Epoch 12/600\n",
      "18/18 [==============================] - 4s 198ms/step - loss: 0.2937 - accuracy: 0.9041 - mse: 0.0208\n",
      "Epoch 13/600\n",
      "18/18 [==============================] - 4s 199ms/step - loss: 0.5139 - accuracy: 0.8559 - mse: 0.0310\n",
      "Epoch 14/600\n",
      "18/18 [==============================] - 4s 196ms/step - loss: 0.2851 - accuracy: 0.9005 - mse: 0.0209\n",
      "Epoch 15/600\n",
      "18/18 [==============================] - 4s 196ms/step - loss: 0.3255 - accuracy: 0.8979 - mse: 0.0220\n",
      "Epoch 16/600\n",
      "18/18 [==============================] - 4s 202ms/step - loss: 0.2534 - accuracy: 0.9179 - mse: 0.0181\n",
      "Epoch 17/600\n",
      "18/18 [==============================] - 4s 196ms/step - loss: 0.2501 - accuracy: 0.9181 - mse: 0.0180\n",
      "Epoch 18/600\n",
      "18/18 [==============================] - 3s 193ms/step - loss: 0.1928 - accuracy: 0.9385 - mse: 0.0138\n",
      "Epoch 19/600\n",
      "18/18 [==============================] - 3s 192ms/step - loss: 0.1941 - accuracy: 0.9421 - mse: 0.0133\n",
      "Epoch 20/600\n",
      "18/18 [==============================] - 3s 190ms/step - loss: 0.2299 - accuracy: 0.9349 - mse: 0.0151\n",
      "Epoch 21/600\n",
      "18/18 [==============================] - 3s 191ms/step - loss: 0.2812 - accuracy: 0.9055 - mse: 0.0199\n",
      "Epoch 22/600\n",
      "18/18 [==============================] - 3s 190ms/step - loss: 0.2118 - accuracy: 0.9337 - mse: 0.0147\n",
      "Epoch 23/600\n",
      "18/18 [==============================] - 4s 196ms/step - loss: 0.1995 - accuracy: 0.9382 - mse: 0.0144\n",
      "Epoch 24/600\n",
      "18/18 [==============================] - 4s 194ms/step - loss: 0.2299 - accuracy: 0.9246 - mse: 0.0165\n",
      "Epoch 25/600\n",
      "18/18 [==============================] - 4s 197ms/step - loss: 0.1717 - accuracy: 0.9469 - mse: 0.0121\n",
      "Epoch 26/600\n",
      "18/18 [==============================] - 4s 202ms/step - loss: 0.1912 - accuracy: 0.9380 - mse: 0.0134\n",
      "Epoch 27/600\n",
      "18/18 [==============================] - 4s 196ms/step - loss: 0.2152 - accuracy: 0.9322 - mse: 0.0153\n",
      "Epoch 28/600\n",
      "18/18 [==============================] - 3s 191ms/step - loss: 0.2178 - accuracy: 0.9303 - mse: 0.0154\n",
      "Epoch 29/600\n",
      "18/18 [==============================] - 3s 191ms/step - loss: 0.3115 - accuracy: 0.9057 - mse: 0.0205\n",
      "Epoch 30/600\n",
      "18/18 [==============================] - 3s 190ms/step - loss: 0.2305 - accuracy: 0.9234 - mse: 0.0166\n",
      "Epoch 31/600\n",
      "18/18 [==============================] - 3s 191ms/step - loss: 0.1808 - accuracy: 0.9449 - mse: 0.0125\n",
      "Epoch 32/600\n",
      "18/18 [==============================] - 3s 191ms/step - loss: 0.2011 - accuracy: 0.9341 - mse: 0.0142\n",
      "Epoch 33/600\n",
      "18/18 [==============================] - 3s 190ms/step - loss: 0.1846 - accuracy: 0.9389 - mse: 0.0131\n",
      "Epoch 34/600\n",
      "18/18 [==============================] - 3s 191ms/step - loss: 0.1730 - accuracy: 0.9453 - mse: 0.0121\n",
      "Epoch 35/600\n",
      "18/18 [==============================] - 3s 191ms/step - loss: 0.1576 - accuracy: 0.9549 - mse: 0.0103\n",
      "Epoch 36/600\n",
      "18/18 [==============================] - 3s 191ms/step - loss: 0.1369 - accuracy: 0.9583 - mse: 0.0092\n",
      "Epoch 37/600\n",
      "18/18 [==============================] - 3s 191ms/step - loss: 0.1742 - accuracy: 0.9444 - mse: 0.0123\n",
      "Epoch 38/600\n",
      "18/18 [==============================] - 3s 190ms/step - loss: 0.1536 - accuracy: 0.9529 - mse: 0.0105\n",
      "Epoch 39/600\n",
      "18/18 [==============================] - 3s 191ms/step - loss: 0.1242 - accuracy: 0.9640 - mse: 0.0082\n",
      "Epoch 40/600\n",
      "18/18 [==============================] - 3s 192ms/step - loss: 0.1687 - accuracy: 0.9480 - mse: 0.0113\n",
      "Epoch 41/600\n",
      "18/18 [==============================] - 3s 189ms/step - loss: 0.1283 - accuracy: 0.9603 - mse: 0.0087\n",
      "Epoch 42/600\n",
      "18/18 [==============================] - 3s 190ms/step - loss: 0.1268 - accuracy: 0.9647 - mse: 0.0082\n",
      "Epoch 43/600\n",
      "18/18 [==============================] - 3s 191ms/step - loss: 0.1323 - accuracy: 0.9587 - mse: 0.0091\n",
      "Epoch 44/600\n",
      "18/18 [==============================] - 4s 197ms/step - loss: 0.1399 - accuracy: 0.9615 - mse: 0.0088\n",
      "Epoch 45/600\n",
      "18/18 [==============================] - 4s 198ms/step - loss: 0.1444 - accuracy: 0.9564 - mse: 0.0097\n",
      "Epoch 46/600\n",
      "18/18 [==============================] - 4s 204ms/step - loss: 0.1298 - accuracy: 0.9584 - mse: 0.0089\n",
      "Epoch 47/600\n",
      "18/18 [==============================] - 4s 201ms/step - loss: 0.1455 - accuracy: 0.9579 - mse: 0.0092\n",
      "Epoch 48/600\n",
      "18/18 [==============================] - 4s 202ms/step - loss: 0.1464 - accuracy: 0.9590 - mse: 0.0093\n",
      "Epoch 49/600\n",
      "18/18 [==============================] - 4s 203ms/step - loss: 0.1169 - accuracy: 0.9660 - mse: 0.0077\n",
      "Epoch 50/600\n",
      "18/18 [==============================] - 4s 201ms/step - loss: 0.1183 - accuracy: 0.9637 - mse: 0.0080\n",
      "Epoch 51/600\n",
      "18/18 [==============================] - 4s 200ms/step - loss: 0.1208 - accuracy: 0.9669 - mse: 0.0078\n",
      "Epoch 52/600\n",
      "18/18 [==============================] - 4s 194ms/step - loss: 0.0964 - accuracy: 0.9734 - mse: 0.0063\n",
      "Epoch 53/600\n",
      "18/18 [==============================] - 4s 201ms/step - loss: 0.1451 - accuracy: 0.9570 - mse: 0.0093\n",
      "Epoch 54/600\n",
      "18/18 [==============================] - 4s 197ms/step - loss: 0.1123 - accuracy: 0.9674 - mse: 0.0073\n",
      "Epoch 55/600\n",
      "18/18 [==============================] - 4s 199ms/step - loss: 0.0997 - accuracy: 0.9737 - mse: 0.0062\n",
      "Epoch 56/600\n",
      "18/18 [==============================] - 4s 198ms/step - loss: 0.1452 - accuracy: 0.9577 - mse: 0.0094\n",
      "Epoch 57/600\n",
      "18/18 [==============================] - 4s 196ms/step - loss: 0.0846 - accuracy: 0.9767 - mse: 0.0056\n",
      "Epoch 58/600\n",
      "18/18 [==============================] - 4s 194ms/step - loss: 0.1221 - accuracy: 0.9617 - mse: 0.0083\n",
      "Epoch 59/600\n",
      "18/18 [==============================] - 3s 191ms/step - loss: 0.1097 - accuracy: 0.9701 - mse: 0.0071\n",
      "Epoch 60/600\n",
      "18/18 [==============================] - 3s 193ms/step - loss: 0.1024 - accuracy: 0.9723 - mse: 0.0065\n",
      "Epoch 61/600\n",
      "18/18 [==============================] - 3s 188ms/step - loss: 0.1101 - accuracy: 0.9716 - mse: 0.0068\n",
      "Epoch 62/600\n",
      "18/18 [==============================] - 3s 190ms/step - loss: 0.0988 - accuracy: 0.9717 - mse: 0.0064\n",
      "Epoch 63/600\n",
      "18/18 [==============================] - 4s 198ms/step - loss: 0.0979 - accuracy: 0.9717 - mse: 0.0065\n",
      "Epoch 64/600\n",
      "18/18 [==============================] - 3s 193ms/step - loss: 0.1002 - accuracy: 0.9727 - mse: 0.0065\n",
      "Epoch 65/600\n",
      "18/18 [==============================] - 3s 191ms/step - loss: 0.0926 - accuracy: 0.9742 - mse: 0.0061\n",
      "Epoch 66/600\n",
      "18/18 [==============================] - 3s 193ms/step - loss: 0.1124 - accuracy: 0.9653 - mse: 0.0076\n",
      "Epoch 67/600\n",
      "18/18 [==============================] - 3s 193ms/step - loss: 0.0784 - accuracy: 0.9776 - mse: 0.0051\n",
      "Epoch 68/600\n",
      "18/18 [==============================] - 3s 193ms/step - loss: 0.1705 - accuracy: 0.9535 - mse: 0.0106\n",
      "Epoch 69/600\n",
      "18/18 [==============================] - 4s 194ms/step - loss: 0.2248 - accuracy: 0.9368 - mse: 0.0147\n",
      "Epoch 70/600\n",
      "18/18 [==============================] - 4s 194ms/step - loss: 0.1120 - accuracy: 0.9689 - mse: 0.0072\n",
      "Epoch 71/600\n",
      "18/18 [==============================] - 3s 193ms/step - loss: 0.0931 - accuracy: 0.9744 - mse: 0.0060\n",
      "Epoch 72/600\n",
      "18/18 [==============================] - 3s 193ms/step - loss: 0.0851 - accuracy: 0.9749 - mse: 0.0055\n",
      "Epoch 73/600\n",
      "18/18 [==============================] - 3s 193ms/step - loss: 0.0810 - accuracy: 0.9815 - mse: 0.0046\n",
      "Epoch 74/600\n",
      "18/18 [==============================] - 3s 193ms/step - loss: 0.1074 - accuracy: 0.9715 - mse: 0.0068\n",
      "Epoch 75/600\n",
      "18/18 [==============================] - 3s 192ms/step - loss: 0.0799 - accuracy: 0.9776 - mse: 0.0052\n",
      "Epoch 76/600\n",
      "18/18 [==============================] - 3s 193ms/step - loss: 0.0982 - accuracy: 0.9735 - mse: 0.0063\n",
      "Epoch 77/600\n",
      "18/18 [==============================] - 3s 193ms/step - loss: 0.0978 - accuracy: 0.9747 - mse: 0.0060\n",
      "Epoch 78/600\n",
      "18/18 [==============================] - 4s 193ms/step - loss: 0.0964 - accuracy: 0.9713 - mse: 0.0065\n",
      "Epoch 79/600\n",
      "18/18 [==============================] - 3s 193ms/step - loss: 0.0810 - accuracy: 0.9803 - mse: 0.0050\n",
      "Epoch 80/600\n",
      "18/18 [==============================] - 3s 191ms/step - loss: 0.0899 - accuracy: 0.9766 - mse: 0.0054\n",
      "Epoch 81/600\n",
      "18/18 [==============================] - 4s 194ms/step - loss: 0.0859 - accuracy: 0.9776 - mse: 0.0054\n",
      "Epoch 82/600\n",
      "18/18 [==============================] - 4s 195ms/step - loss: 0.0727 - accuracy: 0.9770 - mse: 0.0050\n",
      "Epoch 83/600\n",
      "18/18 [==============================] - 3s 193ms/step - loss: 0.0791 - accuracy: 0.9787 - mse: 0.0051\n",
      "Epoch 84/600\n",
      "18/18 [==============================] - 4s 195ms/step - loss: 0.0770 - accuracy: 0.9783 - mse: 0.0050\n",
      "Epoch 85/600\n",
      "18/18 [==============================] - 3s 193ms/step - loss: 0.0946 - accuracy: 0.9729 - mse: 0.0061\n",
      "Epoch 86/600\n",
      "18/18 [==============================] - 3s 193ms/step - loss: 0.0675 - accuracy: 0.9811 - mse: 0.0044\n",
      "Epoch 87/600\n",
      "18/18 [==============================] - 3s 193ms/step - loss: 0.0842 - accuracy: 0.9760 - mse: 0.0056\n",
      "Epoch 88/600\n",
      "18/18 [==============================] - 3s 192ms/step - loss: 0.0947 - accuracy: 0.9705 - mse: 0.0065\n",
      "Epoch 89/600\n",
      "18/18 [==============================] - 4s 196ms/step - loss: 0.0776 - accuracy: 0.9781 - mse: 0.0050\n",
      "Epoch 90/600\n",
      "18/18 [==============================] - 4s 195ms/step - loss: 0.0910 - accuracy: 0.9708 - mse: 0.0064\n",
      "Epoch 91/600\n",
      "18/18 [==============================] - 4s 196ms/step - loss: 0.0893 - accuracy: 0.9729 - mse: 0.0060\n",
      "Epoch 92/600\n",
      "18/18 [==============================] - 4s 195ms/step - loss: 0.0656 - accuracy: 0.9806 - mse: 0.0045\n",
      "Epoch 93/600\n",
      "18/18 [==============================] - 4s 195ms/step - loss: 0.0728 - accuracy: 0.9786 - mse: 0.0048\n",
      "Epoch 94/600\n",
      "18/18 [==============================] - 4s 196ms/step - loss: 0.0694 - accuracy: 0.9806 - mse: 0.0045\n",
      "Epoch 95/600\n",
      "18/18 [==============================] - 4s 196ms/step - loss: 0.0751 - accuracy: 0.9798 - mse: 0.0049\n",
      "Epoch 96/600\n",
      "18/18 [==============================] - 4s 194ms/step - loss: 0.0770 - accuracy: 0.9758 - mse: 0.0054\n",
      "Epoch 97/600\n",
      "18/18 [==============================] - 4s 194ms/step - loss: 0.0704 - accuracy: 0.9808 - mse: 0.0046\n",
      "Epoch 98/600\n",
      "18/18 [==============================] - 4s 194ms/step - loss: 0.1801 - accuracy: 0.9640 - mse: 0.0085\n",
      "Epoch 99/600\n",
      "18/18 [==============================] - 4s 194ms/step - loss: 0.1682 - accuracy: 0.9564 - mse: 0.0102\n",
      "Epoch 100/600\n",
      "18/18 [==============================] - 3s 193ms/step - loss: 0.0747 - accuracy: 0.9795 - mse: 0.0049\n",
      "Epoch 101/600\n",
      "18/18 [==============================] - 4s 196ms/step - loss: 0.0599 - accuracy: 0.9844 - mse: 0.0037\n",
      "Epoch 102/600\n",
      "18/18 [==============================] - 4s 195ms/step - loss: 0.0859 - accuracy: 0.9738 - mse: 0.0058\n",
      "Epoch 103/600\n",
      "18/18 [==============================] - 3s 193ms/step - loss: 0.0810 - accuracy: 0.9779 - mse: 0.0050\n",
      "Epoch 104/600\n",
      "18/18 [==============================] - 4s 193ms/step - loss: 0.0990 - accuracy: 0.9670 - mse: 0.0070\n",
      "Epoch 105/600\n",
      "18/18 [==============================] - 3s 193ms/step - loss: 0.0777 - accuracy: 0.9757 - mse: 0.0054\n",
      "Epoch 106/600\n",
      "18/18 [==============================] - 3s 193ms/step - loss: 0.0694 - accuracy: 0.9810 - mse: 0.0044\n",
      "Epoch 107/600\n",
      "18/18 [==============================] - 4s 193ms/step - loss: 0.0735 - accuracy: 0.9778 - mse: 0.0050\n",
      "Epoch 108/600\n",
      "18/18 [==============================] - 4s 194ms/step - loss: 0.0736 - accuracy: 0.9780 - mse: 0.0049\n",
      "Epoch 109/600\n",
      "18/18 [==============================] - 3s 193ms/step - loss: 0.1493 - accuracy: 0.9565 - mse: 0.0101\n",
      "Epoch 110/600\n",
      "18/18 [==============================] - 4s 195ms/step - loss: 0.0871 - accuracy: 0.9773 - mse: 0.0053\n",
      "Epoch 111/600\n",
      "18/18 [==============================] - 3s 192ms/step - loss: 0.0753 - accuracy: 0.9801 - mse: 0.0048\n",
      "Epoch 112/600\n",
      "18/18 [==============================] - 3s 192ms/step - loss: 0.0580 - accuracy: 0.9824 - mse: 0.0039\n",
      "Epoch 113/600\n",
      "18/18 [==============================] - 3s 193ms/step - loss: 0.0497 - accuracy: 0.9860 - mse: 0.0032\n",
      "Epoch 114/600\n",
      "18/18 [==============================] - 3s 194ms/step - loss: 0.0832 - accuracy: 0.9769 - mse: 0.0053\n",
      "Epoch 115/600\n",
      "18/18 [==============================] - 4s 196ms/step - loss: 0.0810 - accuracy: 0.9779 - mse: 0.0050\n",
      "Epoch 116/600\n",
      "18/18 [==============================] - 3s 193ms/step - loss: 0.1525 - accuracy: 0.9575 - mse: 0.0096\n",
      "Epoch 117/600\n",
      "18/18 [==============================] - 4s 194ms/step - loss: 0.1117 - accuracy: 0.9696 - mse: 0.0072\n",
      "Epoch 118/600\n",
      "18/18 [==============================] - 4s 198ms/step - loss: 0.0752 - accuracy: 0.9763 - mse: 0.0051\n",
      "Epoch 119/600\n",
      "18/18 [==============================] - 4s 195ms/step - loss: 0.0724 - accuracy: 0.9795 - mse: 0.0048\n",
      "Epoch 120/600\n",
      "18/18 [==============================] - 3s 192ms/step - loss: 0.0662 - accuracy: 0.9798 - mse: 0.0045\n",
      "Epoch 121/600\n",
      "18/18 [==============================] - 3s 193ms/step - loss: 0.0827 - accuracy: 0.9750 - mse: 0.0055\n",
      "Epoch 122/600\n",
      "18/18 [==============================] - 4s 194ms/step - loss: 0.0710 - accuracy: 0.9771 - mse: 0.0050\n",
      "Epoch 123/600\n",
      "18/18 [==============================] - 4s 195ms/step - loss: 0.1524 - accuracy: 0.9546 - mse: 0.0101\n",
      "Epoch 124/600\n",
      "18/18 [==============================] - 4s 196ms/step - loss: 0.0675 - accuracy: 0.9799 - mse: 0.0046\n",
      "Epoch 125/600\n",
      "18/18 [==============================] - 3s 193ms/step - loss: 0.0552 - accuracy: 0.9837 - mse: 0.0036\n",
      "Epoch 126/600\n",
      "18/18 [==============================] - 4s 194ms/step - loss: 0.0732 - accuracy: 0.9804 - mse: 0.0048\n",
      "Epoch 127/600\n",
      "18/18 [==============================] - 4s 194ms/step - loss: 0.0641 - accuracy: 0.9819 - mse: 0.0042\n",
      "Epoch 128/600\n",
      "18/18 [==============================] - 4s 194ms/step - loss: 0.0970 - accuracy: 0.9696 - mse: 0.0066\n",
      "Epoch 129/600\n",
      "18/18 [==============================] - 4s 194ms/step - loss: 0.0852 - accuracy: 0.9752 - mse: 0.0056\n",
      "Epoch 130/600\n",
      "18/18 [==============================] - 3s 194ms/step - loss: 0.0617 - accuracy: 0.9814 - mse: 0.0040\n",
      "Epoch 131/600\n",
      "18/18 [==============================] - 4s 194ms/step - loss: 0.0496 - accuracy: 0.9856 - mse: 0.0033\n",
      "Epoch 132/600\n",
      "18/18 [==============================] - 3s 193ms/step - loss: 0.0551 - accuracy: 0.9839 - mse: 0.0037\n",
      "Epoch 133/600\n",
      "18/18 [==============================] - 3s 193ms/step - loss: 0.0554 - accuracy: 0.9842 - mse: 0.0036\n",
      "Epoch 134/600\n",
      "18/18 [==============================] - 4s 194ms/step - loss: 0.0697 - accuracy: 0.9782 - mse: 0.0047\n",
      "Epoch 135/600\n",
      "18/18 [==============================] - 4s 194ms/step - loss: 0.0617 - accuracy: 0.9811 - mse: 0.0043\n",
      "Epoch 136/600\n",
      "18/18 [==============================] - 3s 192ms/step - loss: 0.1334 - accuracy: 0.9774 - mse: 0.0053\n",
      "Epoch 137/600\n",
      "18/18 [==============================] - 4s 195ms/step - loss: 0.0902 - accuracy: 0.9631 - mse: 0.0068\n",
      "Epoch 138/600\n",
      "18/18 [==============================] - 3s 193ms/step - loss: 0.0538 - accuracy: 0.9839 - mse: 0.0038\n",
      "Epoch 139/600\n",
      "18/18 [==============================] - 4s 195ms/step - loss: 0.0531 - accuracy: 0.9834 - mse: 0.0037\n",
      "Epoch 140/600\n",
      "18/18 [==============================] - 4s 196ms/step - loss: 0.0579 - accuracy: 0.9848 - mse: 0.0037\n",
      "Epoch 141/600\n",
      "18/18 [==============================] - 3s 193ms/step - loss: 0.0539 - accuracy: 0.9849 - mse: 0.0035\n",
      "Epoch 142/600\n",
      "18/18 [==============================] - 4s 195ms/step - loss: 0.0576 - accuracy: 0.9829 - mse: 0.0038\n",
      "Epoch 143/600\n",
      "18/18 [==============================] - 4s 194ms/step - loss: 0.0531 - accuracy: 0.9840 - mse: 0.0036\n",
      "Epoch 144/600\n",
      "18/18 [==============================] - 4s 195ms/step - loss: 0.0530 - accuracy: 0.9831 - mse: 0.0036\n",
      "Epoch 145/600\n",
      "18/18 [==============================] - 4s 195ms/step - loss: 0.0567 - accuracy: 0.9833 - mse: 0.0039\n",
      "Epoch 146/600\n",
      "18/18 [==============================] - 4s 194ms/step - loss: 0.1117 - accuracy: 0.9673 - mse: 0.0072\n",
      "Epoch 147/600\n",
      "18/18 [==============================] - 4s 196ms/step - loss: 0.0704 - accuracy: 0.9776 - mse: 0.0049\n",
      "Epoch 148/600\n",
      "18/18 [==============================] - 4s 196ms/step - loss: 0.0468 - accuracy: 0.9870 - mse: 0.0031\n",
      "Epoch 149/600\n",
      "18/18 [==============================] - 4s 196ms/step - loss: 0.0790 - accuracy: 0.9768 - mse: 0.0051\n",
      "Epoch 150/600\n",
      "18/18 [==============================] - 4s 197ms/step - loss: 0.1079 - accuracy: 0.9716 - mse: 0.0064\n",
      "Epoch 151/600\n",
      "18/18 [==============================] - 4s 197ms/step - loss: 0.0555 - accuracy: 0.9855 - mse: 0.0035\n",
      "Epoch 152/600\n",
      "18/18 [==============================] - 4s 205ms/step - loss: 0.0541 - accuracy: 0.9838 - mse: 0.0037\n",
      "Epoch 153/600\n",
      "18/18 [==============================] - 4s 196ms/step - loss: 0.1007 - accuracy: 0.9688 - mse: 0.0069\n",
      "Epoch 154/600\n",
      "18/18 [==============================] - 4s 198ms/step - loss: 0.0655 - accuracy: 0.9801 - mse: 0.0045\n",
      "Epoch 155/600\n",
      "18/18 [==============================] - 4s 196ms/step - loss: 0.0636 - accuracy: 0.9801 - mse: 0.0044\n",
      "Epoch 156/600\n",
      "18/18 [==============================] - 4s 197ms/step - loss: 0.0608 - accuracy: 0.9830 - mse: 0.0039\n",
      "Epoch 157/600\n",
      "18/18 [==============================] - 4s 195ms/step - loss: 0.0523 - accuracy: 0.9848 - mse: 0.0035\n",
      "Epoch 158/600\n",
      "18/18 [==============================] - 4s 194ms/step - loss: 0.0600 - accuracy: 0.9803 - mse: 0.0041\n",
      "Epoch 159/600\n",
      "18/18 [==============================] - 4s 198ms/step - loss: 0.0630 - accuracy: 0.9788 - mse: 0.0045\n",
      "Epoch 160/600\n",
      "18/18 [==============================] - 3s 193ms/step - loss: 0.0461 - accuracy: 0.9868 - mse: 0.0030\n",
      "Epoch 161/600\n",
      "18/18 [==============================] - 4s 195ms/step - loss: 0.0825 - accuracy: 0.9748 - mse: 0.0054\n",
      "Epoch 162/600\n",
      "18/18 [==============================] - 4s 195ms/step - loss: 0.0583 - accuracy: 0.9822 - mse: 0.0040\n",
      "Epoch 163/600\n",
      "18/18 [==============================] - 3s 194ms/step - loss: 0.0571 - accuracy: 0.9840 - mse: 0.0038\n",
      "Epoch 164/600\n",
      "18/18 [==============================] - 4s 194ms/step - loss: 0.0519 - accuracy: 0.9833 - mse: 0.0036\n",
      "Epoch 165/600\n",
      "18/18 [==============================] - 4s 196ms/step - loss: 0.0477 - accuracy: 0.9867 - mse: 0.0031\n",
      "Epoch 166/600\n",
      "18/18 [==============================] - 4s 197ms/step - loss: 0.0497 - accuracy: 0.9846 - mse: 0.0035\n",
      "Epoch 167/600\n",
      "18/18 [==============================] - 4s 195ms/step - loss: 0.1232 - accuracy: 0.9759 - mse: 0.0057\n",
      "Epoch 168/600\n",
      "18/18 [==============================] - 4s 195ms/step - loss: 0.1895 - accuracy: 0.9617 - mse: 0.0094\n",
      "Epoch 169/600\n",
      "18/18 [==============================] - 4s 196ms/step - loss: 0.0580 - accuracy: 0.9825 - mse: 0.0039\n",
      "Epoch 170/600\n",
      "18/18 [==============================] - 4s 196ms/step - loss: 0.0527 - accuracy: 0.9847 - mse: 0.0035\n",
      "Epoch 171/600\n",
      "18/18 [==============================] - 4s 198ms/step - loss: 0.0479 - accuracy: 0.9850 - mse: 0.0033\n",
      "Epoch 172/600\n",
      "18/18 [==============================] - 4s 195ms/step - loss: 0.0549 - accuracy: 0.9834 - mse: 0.0038\n",
      "Epoch 173/600\n",
      "18/18 [==============================] - 4s 198ms/step - loss: 0.0505 - accuracy: 0.9830 - mse: 0.0036\n",
      "Epoch 174/600\n",
      "18/18 [==============================] - 4s 194ms/step - loss: 0.0591 - accuracy: 0.9813 - mse: 0.0040\n",
      "Epoch 175/600\n",
      "18/18 [==============================] - 4s 196ms/step - loss: 0.0697 - accuracy: 0.9809 - mse: 0.0042\n",
      "Epoch 176/600\n",
      "18/18 [==============================] - 4s 194ms/step - loss: 0.0443 - accuracy: 0.9865 - mse: 0.0031\n",
      "Epoch 177/600\n",
      "18/18 [==============================] - 4s 197ms/step - loss: 0.0503 - accuracy: 0.9851 - mse: 0.0034\n",
      "Epoch 178/600\n",
      "18/18 [==============================] - 4s 200ms/step - loss: 0.0545 - accuracy: 0.9850 - mse: 0.0035\n",
      "Epoch 179/600\n",
      "18/18 [==============================] - 4s 197ms/step - loss: 0.0488 - accuracy: 0.9853 - mse: 0.0033\n",
      "Epoch 180/600\n",
      "18/18 [==============================] - 4s 195ms/step - loss: 0.0520 - accuracy: 0.9851 - mse: 0.0033\n",
      "Epoch 181/600\n",
      "18/18 [==============================] - 4s 198ms/step - loss: 0.0403 - accuracy: 0.9886 - mse: 0.0026\n",
      "Epoch 182/600\n",
      "18/18 [==============================] - 4s 197ms/step - loss: 0.0533 - accuracy: 0.9840 - mse: 0.0035\n",
      "Epoch 183/600\n",
      "18/18 [==============================] - 4s 196ms/step - loss: 0.0472 - accuracy: 0.9859 - mse: 0.0031\n",
      "Epoch 184/600\n",
      "18/18 [==============================] - 4s 198ms/step - loss: 0.0442 - accuracy: 0.9840 - mse: 0.0033\n",
      "Epoch 185/600\n",
      "18/18 [==============================] - 4s 195ms/step - loss: 0.0467 - accuracy: 0.9855 - mse: 0.0031\n",
      "Epoch 186/600\n",
      "18/18 [==============================] - 4s 196ms/step - loss: 0.0464 - accuracy: 0.9844 - mse: 0.0034\n",
      "Epoch 187/600\n",
      "18/18 [==============================] - 4s 197ms/step - loss: 0.0529 - accuracy: 0.9836 - mse: 0.0037\n",
      "Epoch 188/600\n",
      "18/18 [==============================] - 4s 195ms/step - loss: 0.0439 - accuracy: 0.9872 - mse: 0.0029\n",
      "Epoch 189/600\n",
      "18/18 [==============================] - 4s 194ms/step - loss: 0.0542 - accuracy: 0.9830 - mse: 0.0037\n",
      "Epoch 190/600\n",
      "18/18 [==============================] - 4s 195ms/step - loss: 0.0516 - accuracy: 0.9851 - mse: 0.0034\n",
      "Epoch 191/600\n",
      "18/18 [==============================] - 4s 197ms/step - loss: 0.0347 - accuracy: 0.9897 - mse: 0.0024\n",
      "Epoch 192/600\n",
      "18/18 [==============================] - 4s 194ms/step - loss: 0.0467 - accuracy: 0.9850 - mse: 0.0032\n",
      "Epoch 193/600\n",
      "18/18 [==============================] - 4s 194ms/step - loss: 0.0536 - accuracy: 0.9821 - mse: 0.0038\n",
      "Epoch 194/600\n",
      "18/18 [==============================] - 4s 198ms/step - loss: 0.0486 - accuracy: 0.9849 - mse: 0.0033\n",
      "Epoch 195/600\n",
      "18/18 [==============================] - 4s 198ms/step - loss: 0.0508 - accuracy: 0.9845 - mse: 0.0034\n",
      "Epoch 196/600\n",
      "18/18 [==============================] - 4s 196ms/step - loss: 0.0568 - accuracy: 0.9831 - mse: 0.0038\n",
      "Epoch 197/600\n",
      "18/18 [==============================] - 4s 196ms/step - loss: 0.0488 - accuracy: 0.9847 - mse: 0.0032\n",
      "Epoch 198/600\n",
      "18/18 [==============================] - 4s 195ms/step - loss: 0.0474 - accuracy: 0.9846 - mse: 0.0033\n",
      "Epoch 199/600\n",
      "18/18 [==============================] - 3s 193ms/step - loss: 0.0319 - accuracy: 0.9897 - mse: 0.0023\n",
      "Epoch 200/600\n",
      "18/18 [==============================] - 3s 192ms/step - loss: 0.0358 - accuracy: 0.9885 - mse: 0.0025\n",
      "Epoch 201/600\n",
      "18/18 [==============================] - 3s 192ms/step - loss: 0.0554 - accuracy: 0.9845 - mse: 0.0035\n",
      "Epoch 202/600\n",
      "18/18 [==============================] - 3s 192ms/step - loss: 0.0493 - accuracy: 0.9842 - mse: 0.0034\n",
      "Epoch 203/600\n",
      "18/18 [==============================] - 3s 192ms/step - loss: 0.0468 - accuracy: 0.9850 - mse: 0.0032\n",
      "Epoch 204/600\n",
      "18/18 [==============================] - 3s 193ms/step - loss: 0.0498 - accuracy: 0.9861 - mse: 0.0031\n",
      "Epoch 205/600\n",
      "18/18 [==============================] - 4s 194ms/step - loss: 0.0541 - accuracy: 0.9829 - mse: 0.0037\n",
      "Epoch 206/600\n",
      "18/18 [==============================] - 3s 193ms/step - loss: 0.0570 - accuracy: 0.9823 - mse: 0.0039\n",
      "Epoch 207/600\n",
      "18/18 [==============================] - 4s 194ms/step - loss: 0.0385 - accuracy: 0.9870 - mse: 0.0028\n",
      "Epoch 208/600\n",
      "18/18 [==============================] - 4s 194ms/step - loss: 0.0429 - accuracy: 0.9864 - mse: 0.0030\n",
      "Epoch 209/600\n",
      "18/18 [==============================] - 3s 193ms/step - loss: 0.0503 - accuracy: 0.9829 - mse: 0.0036\n",
      "Epoch 210/600\n",
      "18/18 [==============================] - 4s 194ms/step - loss: 0.0450 - accuracy: 0.9866 - mse: 0.0031\n",
      "Epoch 211/600\n",
      "18/18 [==============================] - 4s 194ms/step - loss: 0.0432 - accuracy: 0.9862 - mse: 0.0030\n",
      "Epoch 212/600\n",
      "18/18 [==============================] - 4s 194ms/step - loss: 0.0450 - accuracy: 0.9855 - mse: 0.0031\n",
      "Epoch 213/600\n",
      "18/18 [==============================] - 3s 193ms/step - loss: 0.0389 - accuracy: 0.9874 - mse: 0.0027\n",
      "Epoch 214/600\n",
      "18/18 [==============================] - 4s 195ms/step - loss: 0.0512 - accuracy: 0.9835 - mse: 0.0035\n",
      "Epoch 215/600\n",
      "18/18 [==============================] - 3s 193ms/step - loss: 0.0495 - accuracy: 0.9851 - mse: 0.0033\n",
      "Epoch 216/600\n",
      "18/18 [==============================] - 3s 192ms/step - loss: 0.0389 - accuracy: 0.9876 - mse: 0.0026\n",
      "Epoch 217/600\n",
      "18/18 [==============================] - 3s 194ms/step - loss: 0.0403 - accuracy: 0.9881 - mse: 0.0026\n",
      "Epoch 218/600\n",
      "18/18 [==============================] - 4s 194ms/step - loss: 0.0362 - accuracy: 0.9870 - mse: 0.0026\n",
      "Epoch 219/600\n",
      "18/18 [==============================] - 3s 193ms/step - loss: 0.0801 - accuracy: 0.9741 - mse: 0.0055\n",
      "Epoch 220/600\n",
      "18/18 [==============================] - 4s 195ms/step - loss: 0.0414 - accuracy: 0.9870 - mse: 0.0028\n",
      "Epoch 221/600\n",
      "18/18 [==============================] - 4s 195ms/step - loss: 0.1695 - accuracy: 0.9623 - mse: 0.0091\n",
      "Epoch 222/600\n",
      "18/18 [==============================] - 4s 194ms/step - loss: 0.0426 - accuracy: 0.9880 - mse: 0.0028\n",
      "Epoch 223/600\n",
      "18/18 [==============================] - 4s 194ms/step - loss: 0.0510 - accuracy: 0.9869 - mse: 0.0028\n",
      "Epoch 224/600\n",
      "18/18 [==============================] - 4s 195ms/step - loss: 0.0473 - accuracy: 0.9857 - mse: 0.0032\n",
      "Epoch 225/600\n",
      "18/18 [==============================] - 3s 193ms/step - loss: 0.0455 - accuracy: 0.9843 - mse: 0.0032\n",
      "Epoch 226/600\n",
      "18/18 [==============================] - 4s 195ms/step - loss: 0.0452 - accuracy: 0.9847 - mse: 0.0032\n",
      "Epoch 227/600\n",
      "18/18 [==============================] - 4s 196ms/step - loss: 0.0630 - accuracy: 0.9799 - mse: 0.0044\n",
      "Epoch 228/600\n",
      "18/18 [==============================] - 4s 195ms/step - loss: 0.0390 - accuracy: 0.9880 - mse: 0.0025\n",
      "Epoch 229/600\n",
      "18/18 [==============================] - 4s 200ms/step - loss: 0.0515 - accuracy: 0.9851 - mse: 0.0034\n",
      "Epoch 230/600\n",
      "18/18 [==============================] - 4s 196ms/step - loss: 0.0501 - accuracy: 0.9856 - mse: 0.0032\n",
      "Epoch 231/600\n",
      "18/18 [==============================] - 4s 196ms/step - loss: 0.0496 - accuracy: 0.9854 - mse: 0.0033\n",
      "Epoch 232/600\n",
      "18/18 [==============================] - 4s 196ms/step - loss: 0.0382 - accuracy: 0.9878 - mse: 0.0027\n",
      "Epoch 233/600\n",
      "18/18 [==============================] - 4s 193ms/step - loss: 0.0368 - accuracy: 0.9893 - mse: 0.0023\n",
      "Epoch 234/600\n",
      "18/18 [==============================] - 4s 195ms/step - loss: 0.0392 - accuracy: 0.9869 - mse: 0.0028\n",
      "Epoch 235/600\n",
      "18/18 [==============================] - 4s 196ms/step - loss: 0.0381 - accuracy: 0.9881 - mse: 0.0026\n",
      "Epoch 236/600\n",
      "18/18 [==============================] - 4s 195ms/step - loss: 0.0482 - accuracy: 0.9841 - mse: 0.0033\n",
      "Epoch 237/600\n",
      "18/18 [==============================] - 4s 194ms/step - loss: 0.0530 - accuracy: 0.9823 - mse: 0.0037\n",
      "Epoch 238/600\n",
      "18/18 [==============================] - 4s 194ms/step - loss: 0.0448 - accuracy: 0.9853 - mse: 0.0032\n",
      "Epoch 239/600\n",
      "18/18 [==============================] - 4s 195ms/step - loss: 0.0445 - accuracy: 0.9844 - mse: 0.0032\n",
      "Epoch 240/600\n",
      "18/18 [==============================] - 4s 194ms/step - loss: 0.0422 - accuracy: 0.9858 - mse: 0.0031\n",
      "Epoch 241/600\n",
      "18/18 [==============================] - 4s 196ms/step - loss: 0.0583 - accuracy: 0.9815 - mse: 0.0041\n",
      "Epoch 242/600\n",
      "18/18 [==============================] - 4s 195ms/step - loss: 0.0498 - accuracy: 0.9849 - mse: 0.0034\n",
      "Epoch 243/600\n",
      "18/18 [==============================] - 4s 196ms/step - loss: 0.0395 - accuracy: 0.9881 - mse: 0.0026\n",
      "Epoch 244/600\n",
      "18/18 [==============================] - 4s 199ms/step - loss: 0.0378 - accuracy: 0.9871 - mse: 0.0027\n",
      "Epoch 245/600\n",
      "18/18 [==============================] - 4s 194ms/step - loss: 0.0355 - accuracy: 0.9884 - mse: 0.0025\n",
      "Epoch 246/600\n",
      "18/18 [==============================] - 4s 195ms/step - loss: 0.0534 - accuracy: 0.9836 - mse: 0.0036\n",
      "Epoch 247/600\n",
      "18/18 [==============================] - 4s 195ms/step - loss: 0.0382 - accuracy: 0.9888 - mse: 0.0025\n",
      "Epoch 248/600\n",
      "18/18 [==============================] - 3s 193ms/step - loss: 0.0506 - accuracy: 0.9832 - mse: 0.0035\n",
      "Epoch 249/600\n",
      "18/18 [==============================] - 4s 197ms/step - loss: 0.0382 - accuracy: 0.9881 - mse: 0.0026\n",
      "Epoch 250/600\n",
      "18/18 [==============================] - 4s 196ms/step - loss: 0.0388 - accuracy: 0.9881 - mse: 0.0027\n",
      "Epoch 251/600\n",
      "18/18 [==============================] - 4s 198ms/step - loss: 0.1043 - accuracy: 0.9786 - mse: 0.0047\n",
      "Epoch 252/600\n",
      "18/18 [==============================] - 3s 193ms/step - loss: 0.0414 - accuracy: 0.9878 - mse: 0.0027\n",
      "Epoch 253/600\n",
      "18/18 [==============================] - 4s 197ms/step - loss: 0.0315 - accuracy: 0.9897 - mse: 0.0022\n",
      "Epoch 254/600\n",
      "18/18 [==============================] - 4s 197ms/step - loss: 0.0354 - accuracy: 0.9876 - mse: 0.0025\n",
      "Epoch 255/600\n",
      "18/18 [==============================] - 4s 197ms/step - loss: 0.0972 - accuracy: 0.9781 - mse: 0.0048\n",
      "Epoch 256/600\n",
      "18/18 [==============================] - 4s 199ms/step - loss: 0.1197 - accuracy: 0.9722 - mse: 0.0066\n",
      "Epoch 257/600\n",
      "18/18 [==============================] - 4s 195ms/step - loss: 0.0411 - accuracy: 0.9871 - mse: 0.0028\n",
      "Epoch 258/600\n",
      "18/18 [==============================] - 4s 198ms/step - loss: 0.1207 - accuracy: 0.9699 - mse: 0.0065\n",
      "Epoch 259/600\n",
      "18/18 [==============================] - 4s 195ms/step - loss: 0.0458 - accuracy: 0.9840 - mse: 0.0033\n",
      "Epoch 260/600\n",
      "18/18 [==============================] - 4s 198ms/step - loss: 0.0452 - accuracy: 0.9858 - mse: 0.0031\n",
      "Epoch 261/600\n",
      "18/18 [==============================] - 4s 198ms/step - loss: 0.0291 - accuracy: 0.9915 - mse: 0.0020\n",
      "Epoch 262/600\n",
      "18/18 [==============================] - 4s 194ms/step - loss: 0.0332 - accuracy: 0.9890 - mse: 0.0023\n",
      "Epoch 263/600\n",
      "18/18 [==============================] - 4s 196ms/step - loss: 0.0451 - accuracy: 0.9843 - mse: 0.0032\n",
      "Epoch 264/600\n",
      "18/18 [==============================] - 4s 194ms/step - loss: 0.0550 - accuracy: 0.9818 - mse: 0.0040\n",
      "Epoch 265/600\n",
      "18/18 [==============================] - 4s 197ms/step - loss: 0.0559 - accuracy: 0.9815 - mse: 0.0039\n",
      "Epoch 266/600\n",
      "18/18 [==============================] - 4s 196ms/step - loss: 0.0383 - accuracy: 0.9887 - mse: 0.0025\n",
      "Epoch 267/600\n",
      "18/18 [==============================] - 4s 195ms/step - loss: 0.0415 - accuracy: 0.9871 - mse: 0.0027\n",
      "Epoch 268/600\n",
      "18/18 [==============================] - 4s 196ms/step - loss: 0.0371 - accuracy: 0.9874 - mse: 0.0027\n",
      "Epoch 269/600\n",
      "18/18 [==============================] - 4s 198ms/step - loss: 0.0448 - accuracy: 0.9854 - mse: 0.0030\n",
      "Epoch 270/600\n",
      "18/18 [==============================] - 4s 198ms/step - loss: 0.0355 - accuracy: 0.9885 - mse: 0.0024\n",
      "Epoch 271/600\n",
      "18/18 [==============================] - 4s 195ms/step - loss: 0.0494 - accuracy: 0.9856 - mse: 0.0032\n",
      "Epoch 272/600\n",
      "18/18 [==============================] - 4s 197ms/step - loss: 0.0411 - accuracy: 0.9888 - mse: 0.0026\n",
      "Epoch 273/600\n",
      "18/18 [==============================] - 4s 198ms/step - loss: 0.0405 - accuracy: 0.9872 - mse: 0.0027\n",
      "Epoch 274/600\n",
      "18/18 [==============================] - 4s 196ms/step - loss: 0.0414 - accuracy: 0.9853 - mse: 0.0030\n",
      "Epoch 275/600\n",
      "18/18 [==============================] - 4s 196ms/step - loss: 0.0338 - accuracy: 0.9885 - mse: 0.0024\n",
      "Epoch 276/600\n",
      "18/18 [==============================] - 4s 198ms/step - loss: 0.0444 - accuracy: 0.9861 - mse: 0.0030\n",
      "Epoch 277/600\n",
      "18/18 [==============================] - 4s 196ms/step - loss: 0.0454 - accuracy: 0.9855 - mse: 0.0031\n",
      "Epoch 278/600\n",
      "18/18 [==============================] - 4s 195ms/step - loss: 0.0436 - accuracy: 0.9861 - mse: 0.0028\n",
      "Epoch 279/600\n",
      "18/18 [==============================] - 4s 199ms/step - loss: 0.0335 - accuracy: 0.9891 - mse: 0.0023\n",
      "Epoch 280/600\n",
      "18/18 [==============================] - 4s 196ms/step - loss: 0.0272 - accuracy: 0.9916 - mse: 0.0019\n",
      "Epoch 281/600\n",
      "18/18 [==============================] - 4s 194ms/step - loss: 0.0377 - accuracy: 0.9868 - mse: 0.0027\n",
      "Epoch 282/600\n",
      "18/18 [==============================] - 4s 197ms/step - loss: 0.0263 - accuracy: 0.9916 - mse: 0.0018\n",
      "Epoch 283/600\n",
      "18/18 [==============================] - 4s 195ms/step - loss: 0.0320 - accuracy: 0.9890 - mse: 0.0023\n",
      "Epoch 284/600\n",
      "18/18 [==============================] - 4s 198ms/step - loss: 0.0505 - accuracy: 0.9839 - mse: 0.0035\n",
      "Epoch 285/600\n",
      "18/18 [==============================] - 3s 194ms/step - loss: 0.0293 - accuracy: 0.9907 - mse: 0.0021\n",
      "Epoch 286/600\n",
      "18/18 [==============================] - 4s 194ms/step - loss: 0.0447 - accuracy: 0.9852 - mse: 0.0030\n",
      "Epoch 287/600\n",
      "18/18 [==============================] - 4s 194ms/step - loss: 0.2789 - accuracy: 0.9453 - mse: 0.0126\n",
      "Epoch 288/600\n",
      "18/18 [==============================] - 3s 192ms/step - loss: 0.0512 - accuracy: 0.9865 - mse: 0.0033\n",
      "Epoch 289/600\n",
      "18/18 [==============================] - 4s 194ms/step - loss: 0.0394 - accuracy: 0.9879 - mse: 0.0026\n",
      "Epoch 290/600\n",
      "18/18 [==============================] - 4s 194ms/step - loss: 0.0285 - accuracy: 0.9909 - mse: 0.0020\n",
      "Epoch 291/600\n",
      "18/18 [==============================] - 3s 193ms/step - loss: 0.0393 - accuracy: 0.9870 - mse: 0.0027\n",
      "Epoch 292/600\n",
      "18/18 [==============================] - 4s 194ms/step - loss: 0.0363 - accuracy: 0.9887 - mse: 0.0024\n",
      "Epoch 293/600\n",
      "18/18 [==============================] - 3s 194ms/step - loss: 0.0307 - accuracy: 0.9892 - mse: 0.0022\n",
      "Epoch 294/600\n",
      "18/18 [==============================] - 3s 193ms/step - loss: 0.0260 - accuracy: 0.9912 - mse: 0.0019\n",
      "Epoch 295/600\n",
      "18/18 [==============================] - 4s 194ms/step - loss: 0.0576 - accuracy: 0.9837 - mse: 0.0035\n",
      "Epoch 296/600\n",
      "18/18 [==============================] - 4s 201ms/step - loss: 0.0387 - accuracy: 0.9861 - mse: 0.0028\n",
      "Epoch 297/600\n",
      "18/18 [==============================] - 4s 194ms/step - loss: 0.0415 - accuracy: 0.9867 - mse: 0.0029\n",
      "Epoch 298/600\n",
      "18/18 [==============================] - 3s 193ms/step - loss: 0.0461 - accuracy: 0.9853 - mse: 0.0031\n",
      "Epoch 299/600\n",
      "18/18 [==============================] - 4s 195ms/step - loss: 0.0371 - accuracy: 0.9867 - mse: 0.0027\n",
      "Epoch 300/600\n",
      "18/18 [==============================] - 3s 193ms/step - loss: 0.0354 - accuracy: 0.9877 - mse: 0.0026\n",
      "Epoch 301/600\n",
      "18/18 [==============================] - 4s 198ms/step - loss: 0.0349 - accuracy: 0.9893 - mse: 0.0024\n",
      "Epoch 302/600\n",
      "18/18 [==============================] - 4s 195ms/step - loss: 0.0344 - accuracy: 0.9891 - mse: 0.0024\n",
      "Epoch 303/600\n",
      "18/18 [==============================] - 4s 198ms/step - loss: 0.0246 - accuracy: 0.9922 - mse: 0.0016\n",
      "Epoch 304/600\n",
      "18/18 [==============================] - 4s 196ms/step - loss: 0.0550 - accuracy: 0.9803 - mse: 0.0040\n",
      "Epoch 305/600\n",
      "18/18 [==============================] - 4s 194ms/step - loss: 0.0279 - accuracy: 0.9907 - mse: 0.0019\n",
      "Epoch 306/600\n",
      "18/18 [==============================] - 4s 195ms/step - loss: 0.0305 - accuracy: 0.9897 - mse: 0.0022\n",
      "Epoch 307/600\n",
      "18/18 [==============================] - 4s 195ms/step - loss: 0.0262 - accuracy: 0.9909 - mse: 0.0019\n",
      "Epoch 308/600\n",
      "18/18 [==============================] - 4s 197ms/step - loss: 0.0348 - accuracy: 0.9889 - mse: 0.0025\n",
      "Epoch 309/600\n",
      "18/18 [==============================] - 4s 194ms/step - loss: 0.0377 - accuracy: 0.9879 - mse: 0.0026\n",
      "Epoch 310/600\n",
      "18/18 [==============================] - 4s 199ms/step - loss: 0.0386 - accuracy: 0.9882 - mse: 0.0026\n",
      "Epoch 311/600\n",
      "18/18 [==============================] - 4s 196ms/step - loss: 0.0365 - accuracy: 0.9870 - mse: 0.0027\n",
      "Epoch 312/600\n",
      "18/18 [==============================] - 4s 196ms/step - loss: 0.0393 - accuracy: 0.9878 - mse: 0.0026\n",
      "Epoch 313/600\n",
      "18/18 [==============================] - 4s 197ms/step - loss: 0.0362 - accuracy: 0.9884 - mse: 0.0024\n",
      "Epoch 314/600\n",
      "18/18 [==============================] - 4s 197ms/step - loss: 0.0355 - accuracy: 0.9894 - mse: 0.0023\n",
      "Epoch 315/600\n",
      "18/18 [==============================] - 4s 197ms/step - loss: 0.0349 - accuracy: 0.9880 - mse: 0.0025\n",
      "Epoch 316/600\n",
      "18/18 [==============================] - 4s 195ms/step - loss: 0.0319 - accuracy: 0.9893 - mse: 0.0022\n",
      "Epoch 317/600\n",
      "18/18 [==============================] - 4s 200ms/step - loss: 0.0565 - accuracy: 0.9827 - mse: 0.0038\n",
      "Epoch 318/600\n",
      "18/18 [==============================] - 4s 199ms/step - loss: 0.0791 - accuracy: 0.9769 - mse: 0.0051\n",
      "Epoch 319/600\n",
      "18/18 [==============================] - 4s 196ms/step - loss: 0.0569 - accuracy: 0.9835 - mse: 0.0037\n",
      "Epoch 320/600\n",
      "18/18 [==============================] - 4s 195ms/step - loss: 0.0418 - accuracy: 0.9868 - mse: 0.0029\n",
      "Epoch 321/600\n",
      "18/18 [==============================] - 4s 196ms/step - loss: 0.0441 - accuracy: 0.9869 - mse: 0.0028\n",
      "Epoch 322/600\n",
      "18/18 [==============================] - 4s 195ms/step - loss: 0.0396 - accuracy: 0.9874 - mse: 0.0027\n",
      "Epoch 323/600\n",
      "18/18 [==============================] - 4s 197ms/step - loss: 0.0461 - accuracy: 0.9859 - mse: 0.0030\n",
      "Epoch 324/600\n",
      "18/18 [==============================] - 4s 196ms/step - loss: 0.0388 - accuracy: 0.9864 - mse: 0.0028\n",
      "Epoch 325/600\n",
      "18/18 [==============================] - 4s 195ms/step - loss: 0.0345 - accuracy: 0.9892 - mse: 0.0024\n",
      "Epoch 326/600\n",
      "18/18 [==============================] - 4s 199ms/step - loss: 0.0349 - accuracy: 0.9876 - mse: 0.0025\n",
      "Epoch 327/600\n",
      "18/18 [==============================] - 4s 196ms/step - loss: 0.0282 - accuracy: 0.9902 - mse: 0.0020\n",
      "Epoch 328/600\n",
      "18/18 [==============================] - 3s 193ms/step - loss: 0.0356 - accuracy: 0.9886 - mse: 0.0025\n",
      "Epoch 329/600\n",
      "18/18 [==============================] - 4s 198ms/step - loss: 0.0686 - accuracy: 0.9761 - mse: 0.0050\n",
      "Epoch 330/600\n",
      "18/18 [==============================] - 4s 195ms/step - loss: 0.0622 - accuracy: 0.9837 - mse: 0.0036\n",
      "Epoch 331/600\n",
      "18/18 [==============================] - 4s 199ms/step - loss: 0.0358 - accuracy: 0.9895 - mse: 0.0023\n",
      "Epoch 332/600\n",
      "18/18 [==============================] - 4s 196ms/step - loss: 0.0353 - accuracy: 0.9894 - mse: 0.0023\n",
      "Epoch 333/600\n",
      "18/18 [==============================] - 4s 197ms/step - loss: 0.2662 - accuracy: 0.9593 - mse: 0.0097\n",
      "Epoch 334/600\n",
      "15/18 [========================>.....] - ETA: 0s - loss: 0.0364 - accuracy: 0.9872 - mse: 0.0027"
     ]
    },
    {
     "ename": "KeyboardInterrupt",
     "evalue": "",
     "output_type": "error",
     "traceback": [
      "\u001B[0;31m---------------------------------------------------------------------------\u001B[0m",
      "\u001B[0;31mKeyboardInterrupt\u001B[0m                         Traceback (most recent call last)",
      "Cell \u001B[0;32mIn[100], line 1\u001B[0m\n\u001B[0;32m----> 1\u001B[0m history2 \u001B[38;5;241m=\u001B[39m \u001B[43mmodel_new\u001B[49m\u001B[38;5;241;43m.\u001B[39;49m\u001B[43mfit\u001B[49m\u001B[43m(\u001B[49m\u001B[43mtrain_dataset\u001B[49m\u001B[43m,\u001B[49m\u001B[43m \u001B[49m\u001B[43mepochs\u001B[49m\u001B[38;5;241;43m=\u001B[39;49m\u001B[38;5;241;43m600\u001B[39;49m\u001B[43m)\u001B[49m\n",
      "File \u001B[0;32m~/miniconda3/envs/segmentation-new/lib/python3.11/site-packages/keras/src/utils/traceback_utils.py:65\u001B[0m, in \u001B[0;36mfilter_traceback.<locals>.error_handler\u001B[0;34m(*args, **kwargs)\u001B[0m\n\u001B[1;32m     63\u001B[0m filtered_tb \u001B[38;5;241m=\u001B[39m \u001B[38;5;28;01mNone\u001B[39;00m\n\u001B[1;32m     64\u001B[0m \u001B[38;5;28;01mtry\u001B[39;00m:\n\u001B[0;32m---> 65\u001B[0m     \u001B[38;5;28;01mreturn\u001B[39;00m \u001B[43mfn\u001B[49m\u001B[43m(\u001B[49m\u001B[38;5;241;43m*\u001B[39;49m\u001B[43margs\u001B[49m\u001B[43m,\u001B[49m\u001B[43m \u001B[49m\u001B[38;5;241;43m*\u001B[39;49m\u001B[38;5;241;43m*\u001B[39;49m\u001B[43mkwargs\u001B[49m\u001B[43m)\u001B[49m\n\u001B[1;32m     66\u001B[0m \u001B[38;5;28;01mexcept\u001B[39;00m \u001B[38;5;167;01mException\u001B[39;00m \u001B[38;5;28;01mas\u001B[39;00m e:\n\u001B[1;32m     67\u001B[0m     filtered_tb \u001B[38;5;241m=\u001B[39m _process_traceback_frames(e\u001B[38;5;241m.\u001B[39m__traceback__)\n",
      "File \u001B[0;32m~/miniconda3/envs/segmentation-new/lib/python3.11/site-packages/keras/src/engine/training.py:1748\u001B[0m, in \u001B[0;36mModel.fit\u001B[0;34m(self, x, y, batch_size, epochs, verbose, callbacks, validation_split, validation_data, shuffle, class_weight, sample_weight, initial_epoch, steps_per_epoch, validation_steps, validation_batch_size, validation_freq, max_queue_size, workers, use_multiprocessing)\u001B[0m\n\u001B[1;32m   1746\u001B[0m logs \u001B[38;5;241m=\u001B[39m tmp_logs\n\u001B[1;32m   1747\u001B[0m end_step \u001B[38;5;241m=\u001B[39m step \u001B[38;5;241m+\u001B[39m data_handler\u001B[38;5;241m.\u001B[39mstep_increment\n\u001B[0;32m-> 1748\u001B[0m \u001B[43mcallbacks\u001B[49m\u001B[38;5;241;43m.\u001B[39;49m\u001B[43mon_train_batch_end\u001B[49m\u001B[43m(\u001B[49m\u001B[43mend_step\u001B[49m\u001B[43m,\u001B[49m\u001B[43m \u001B[49m\u001B[43mlogs\u001B[49m\u001B[43m)\u001B[49m\n\u001B[1;32m   1749\u001B[0m \u001B[38;5;28;01mif\u001B[39;00m \u001B[38;5;28mself\u001B[39m\u001B[38;5;241m.\u001B[39mstop_training:\n\u001B[1;32m   1750\u001B[0m     \u001B[38;5;28;01mbreak\u001B[39;00m\n",
      "File \u001B[0;32m~/miniconda3/envs/segmentation-new/lib/python3.11/site-packages/keras/src/callbacks.py:475\u001B[0m, in \u001B[0;36mCallbackList.on_train_batch_end\u001B[0;34m(self, batch, logs)\u001B[0m\n\u001B[1;32m    468\u001B[0m \u001B[38;5;250m\u001B[39m\u001B[38;5;124;03m\"\"\"Calls the `on_train_batch_end` methods of its callbacks.\u001B[39;00m\n\u001B[1;32m    469\u001B[0m \n\u001B[1;32m    470\u001B[0m \u001B[38;5;124;03mArgs:\u001B[39;00m\n\u001B[1;32m    471\u001B[0m \u001B[38;5;124;03m    batch: Integer, index of batch within the current epoch.\u001B[39;00m\n\u001B[1;32m    472\u001B[0m \u001B[38;5;124;03m    logs: Dict. Aggregated metric results up until this batch.\u001B[39;00m\n\u001B[1;32m    473\u001B[0m \u001B[38;5;124;03m\"\"\"\u001B[39;00m\n\u001B[1;32m    474\u001B[0m \u001B[38;5;28;01mif\u001B[39;00m \u001B[38;5;28mself\u001B[39m\u001B[38;5;241m.\u001B[39m_should_call_train_batch_hooks:\n\u001B[0;32m--> 475\u001B[0m     \u001B[38;5;28;43mself\u001B[39;49m\u001B[38;5;241;43m.\u001B[39;49m\u001B[43m_call_batch_hook\u001B[49m\u001B[43m(\u001B[49m\u001B[43mModeKeys\u001B[49m\u001B[38;5;241;43m.\u001B[39;49m\u001B[43mTRAIN\u001B[49m\u001B[43m,\u001B[49m\u001B[43m \u001B[49m\u001B[38;5;124;43m\"\u001B[39;49m\u001B[38;5;124;43mend\u001B[39;49m\u001B[38;5;124;43m\"\u001B[39;49m\u001B[43m,\u001B[49m\u001B[43m \u001B[49m\u001B[43mbatch\u001B[49m\u001B[43m,\u001B[49m\u001B[43m \u001B[49m\u001B[43mlogs\u001B[49m\u001B[38;5;241;43m=\u001B[39;49m\u001B[43mlogs\u001B[49m\u001B[43m)\u001B[49m\n",
      "File \u001B[0;32m~/miniconda3/envs/segmentation-new/lib/python3.11/site-packages/keras/src/callbacks.py:322\u001B[0m, in \u001B[0;36mCallbackList._call_batch_hook\u001B[0;34m(self, mode, hook, batch, logs)\u001B[0m\n\u001B[1;32m    320\u001B[0m     \u001B[38;5;28mself\u001B[39m\u001B[38;5;241m.\u001B[39m_call_batch_begin_hook(mode, batch, logs)\n\u001B[1;32m    321\u001B[0m \u001B[38;5;28;01melif\u001B[39;00m hook \u001B[38;5;241m==\u001B[39m \u001B[38;5;124m\"\u001B[39m\u001B[38;5;124mend\u001B[39m\u001B[38;5;124m\"\u001B[39m:\n\u001B[0;32m--> 322\u001B[0m     \u001B[38;5;28;43mself\u001B[39;49m\u001B[38;5;241;43m.\u001B[39;49m\u001B[43m_call_batch_end_hook\u001B[49m\u001B[43m(\u001B[49m\u001B[43mmode\u001B[49m\u001B[43m,\u001B[49m\u001B[43m \u001B[49m\u001B[43mbatch\u001B[49m\u001B[43m,\u001B[49m\u001B[43m \u001B[49m\u001B[43mlogs\u001B[49m\u001B[43m)\u001B[49m\n\u001B[1;32m    323\u001B[0m \u001B[38;5;28;01melse\u001B[39;00m:\n\u001B[1;32m    324\u001B[0m     \u001B[38;5;28;01mraise\u001B[39;00m \u001B[38;5;167;01mValueError\u001B[39;00m(\n\u001B[1;32m    325\u001B[0m         \u001B[38;5;124mf\u001B[39m\u001B[38;5;124m\"\u001B[39m\u001B[38;5;124mUnrecognized hook: \u001B[39m\u001B[38;5;132;01m{\u001B[39;00mhook\u001B[38;5;132;01m}\u001B[39;00m\u001B[38;5;124m. \u001B[39m\u001B[38;5;124m\"\u001B[39m\n\u001B[1;32m    326\u001B[0m         \u001B[38;5;124m'\u001B[39m\u001B[38;5;124mExpected values are [\u001B[39m\u001B[38;5;124m\"\u001B[39m\u001B[38;5;124mbegin\u001B[39m\u001B[38;5;124m\"\u001B[39m\u001B[38;5;124m, \u001B[39m\u001B[38;5;124m\"\u001B[39m\u001B[38;5;124mend\u001B[39m\u001B[38;5;124m\"\u001B[39m\u001B[38;5;124m]\u001B[39m\u001B[38;5;124m'\u001B[39m\n\u001B[1;32m    327\u001B[0m     )\n",
      "File \u001B[0;32m~/miniconda3/envs/segmentation-new/lib/python3.11/site-packages/keras/src/callbacks.py:345\u001B[0m, in \u001B[0;36mCallbackList._call_batch_end_hook\u001B[0;34m(self, mode, batch, logs)\u001B[0m\n\u001B[1;32m    342\u001B[0m     batch_time \u001B[38;5;241m=\u001B[39m time\u001B[38;5;241m.\u001B[39mtime() \u001B[38;5;241m-\u001B[39m \u001B[38;5;28mself\u001B[39m\u001B[38;5;241m.\u001B[39m_batch_start_time\n\u001B[1;32m    343\u001B[0m     \u001B[38;5;28mself\u001B[39m\u001B[38;5;241m.\u001B[39m_batch_times\u001B[38;5;241m.\u001B[39mappend(batch_time)\n\u001B[0;32m--> 345\u001B[0m \u001B[38;5;28;43mself\u001B[39;49m\u001B[38;5;241;43m.\u001B[39;49m\u001B[43m_call_batch_hook_helper\u001B[49m\u001B[43m(\u001B[49m\u001B[43mhook_name\u001B[49m\u001B[43m,\u001B[49m\u001B[43m \u001B[49m\u001B[43mbatch\u001B[49m\u001B[43m,\u001B[49m\u001B[43m \u001B[49m\u001B[43mlogs\u001B[49m\u001B[43m)\u001B[49m\n\u001B[1;32m    347\u001B[0m \u001B[38;5;28;01mif\u001B[39;00m \u001B[38;5;28mlen\u001B[39m(\u001B[38;5;28mself\u001B[39m\u001B[38;5;241m.\u001B[39m_batch_times) \u001B[38;5;241m>\u001B[39m\u001B[38;5;241m=\u001B[39m \u001B[38;5;28mself\u001B[39m\u001B[38;5;241m.\u001B[39m_num_batches_for_timing_check:\n\u001B[1;32m    348\u001B[0m     end_hook_name \u001B[38;5;241m=\u001B[39m hook_name\n",
      "File \u001B[0;32m~/miniconda3/envs/segmentation-new/lib/python3.11/site-packages/keras/src/callbacks.py:393\u001B[0m, in \u001B[0;36mCallbackList._call_batch_hook_helper\u001B[0;34m(self, hook_name, batch, logs)\u001B[0m\n\u001B[1;32m    391\u001B[0m \u001B[38;5;28;01mfor\u001B[39;00m callback \u001B[38;5;129;01min\u001B[39;00m \u001B[38;5;28mself\u001B[39m\u001B[38;5;241m.\u001B[39mcallbacks:\n\u001B[1;32m    392\u001B[0m     hook \u001B[38;5;241m=\u001B[39m \u001B[38;5;28mgetattr\u001B[39m(callback, hook_name)\n\u001B[0;32m--> 393\u001B[0m     \u001B[43mhook\u001B[49m\u001B[43m(\u001B[49m\u001B[43mbatch\u001B[49m\u001B[43m,\u001B[49m\u001B[43m \u001B[49m\u001B[43mlogs\u001B[49m\u001B[43m)\u001B[49m\n\u001B[1;32m    395\u001B[0m \u001B[38;5;28;01mif\u001B[39;00m \u001B[38;5;28mself\u001B[39m\u001B[38;5;241m.\u001B[39m_check_timing:\n\u001B[1;32m    396\u001B[0m     \u001B[38;5;28;01mif\u001B[39;00m hook_name \u001B[38;5;129;01mnot\u001B[39;00m \u001B[38;5;129;01min\u001B[39;00m \u001B[38;5;28mself\u001B[39m\u001B[38;5;241m.\u001B[39m_hook_times:\n",
      "File \u001B[0;32m~/miniconda3/envs/segmentation-new/lib/python3.11/site-packages/keras/src/callbacks.py:1093\u001B[0m, in \u001B[0;36mProgbarLogger.on_train_batch_end\u001B[0;34m(self, batch, logs)\u001B[0m\n\u001B[1;32m   1092\u001B[0m \u001B[38;5;28;01mdef\u001B[39;00m \u001B[38;5;21mon_train_batch_end\u001B[39m(\u001B[38;5;28mself\u001B[39m, batch, logs\u001B[38;5;241m=\u001B[39m\u001B[38;5;28;01mNone\u001B[39;00m):\n\u001B[0;32m-> 1093\u001B[0m     \u001B[38;5;28;43mself\u001B[39;49m\u001B[38;5;241;43m.\u001B[39;49m\u001B[43m_batch_update_progbar\u001B[49m\u001B[43m(\u001B[49m\u001B[43mbatch\u001B[49m\u001B[43m,\u001B[49m\u001B[43m \u001B[49m\u001B[43mlogs\u001B[49m\u001B[43m)\u001B[49m\n",
      "File \u001B[0;32m~/miniconda3/envs/segmentation-new/lib/python3.11/site-packages/keras/src/callbacks.py:1169\u001B[0m, in \u001B[0;36mProgbarLogger._batch_update_progbar\u001B[0;34m(self, batch, logs)\u001B[0m\n\u001B[1;32m   1165\u001B[0m     \u001B[38;5;28mself\u001B[39m\u001B[38;5;241m.\u001B[39mseen \u001B[38;5;241m+\u001B[39m\u001B[38;5;241m=\u001B[39m add_seen\n\u001B[1;32m   1167\u001B[0m \u001B[38;5;28;01mif\u001B[39;00m \u001B[38;5;28mself\u001B[39m\u001B[38;5;241m.\u001B[39mverbose \u001B[38;5;241m==\u001B[39m \u001B[38;5;241m1\u001B[39m:\n\u001B[1;32m   1168\u001B[0m     \u001B[38;5;66;03m# Only block async when verbose = 1.\u001B[39;00m\n\u001B[0;32m-> 1169\u001B[0m     logs \u001B[38;5;241m=\u001B[39m \u001B[43mtf_utils\u001B[49m\u001B[38;5;241;43m.\u001B[39;49m\u001B[43msync_to_numpy_or_python_type\u001B[49m\u001B[43m(\u001B[49m\u001B[43mlogs\u001B[49m\u001B[43m)\u001B[49m\n\u001B[1;32m   1170\u001B[0m     \u001B[38;5;28mself\u001B[39m\u001B[38;5;241m.\u001B[39mprogbar\u001B[38;5;241m.\u001B[39mupdate(\u001B[38;5;28mself\u001B[39m\u001B[38;5;241m.\u001B[39mseen, \u001B[38;5;28mlist\u001B[39m(logs\u001B[38;5;241m.\u001B[39mitems()), finalize\u001B[38;5;241m=\u001B[39m\u001B[38;5;28;01mFalse\u001B[39;00m)\n",
      "File \u001B[0;32m~/miniconda3/envs/segmentation-new/lib/python3.11/site-packages/keras/src/utils/tf_utils.py:694\u001B[0m, in \u001B[0;36msync_to_numpy_or_python_type\u001B[0;34m(tensors)\u001B[0m\n\u001B[1;32m    691\u001B[0m         \u001B[38;5;28;01mreturn\u001B[39;00m t\n\u001B[1;32m    692\u001B[0m     \u001B[38;5;28;01mreturn\u001B[39;00m t\u001B[38;5;241m.\u001B[39mitem() \u001B[38;5;28;01mif\u001B[39;00m np\u001B[38;5;241m.\u001B[39mndim(t) \u001B[38;5;241m==\u001B[39m \u001B[38;5;241m0\u001B[39m \u001B[38;5;28;01melse\u001B[39;00m t\n\u001B[0;32m--> 694\u001B[0m \u001B[38;5;28;01mreturn\u001B[39;00m \u001B[43mtf\u001B[49m\u001B[38;5;241;43m.\u001B[39;49m\u001B[43mnest\u001B[49m\u001B[38;5;241;43m.\u001B[39;49m\u001B[43mmap_structure\u001B[49m\u001B[43m(\u001B[49m\u001B[43m_to_single_numpy_or_python_type\u001B[49m\u001B[43m,\u001B[49m\u001B[43m \u001B[49m\u001B[43mtensors\u001B[49m\u001B[43m)\u001B[49m\n",
      "File \u001B[0;32m~/miniconda3/envs/segmentation-new/lib/python3.11/site-packages/tensorflow/python/util/nest.py:624\u001B[0m, in \u001B[0;36mmap_structure\u001B[0;34m(func, *structure, **kwargs)\u001B[0m\n\u001B[1;32m    538\u001B[0m \u001B[38;5;129m@tf_export\u001B[39m(\u001B[38;5;124m\"\u001B[39m\u001B[38;5;124mnest.map_structure\u001B[39m\u001B[38;5;124m\"\u001B[39m)\n\u001B[1;32m    539\u001B[0m \u001B[38;5;28;01mdef\u001B[39;00m \u001B[38;5;21mmap_structure\u001B[39m(func, \u001B[38;5;241m*\u001B[39mstructure, \u001B[38;5;241m*\u001B[39m\u001B[38;5;241m*\u001B[39mkwargs):\n\u001B[1;32m    540\u001B[0m \u001B[38;5;250m  \u001B[39m\u001B[38;5;124;03m\"\"\"Creates a new structure by applying `func` to each atom in `structure`.\u001B[39;00m\n\u001B[1;32m    541\u001B[0m \n\u001B[1;32m    542\u001B[0m \u001B[38;5;124;03m  Refer to [tf.nest](https://www.tensorflow.org/api_docs/python/tf/nest)\u001B[39;00m\n\u001B[0;32m   (...)\u001B[0m\n\u001B[1;32m    622\u001B[0m \u001B[38;5;124;03m    ValueError: If wrong keyword arguments are provided.\u001B[39;00m\n\u001B[1;32m    623\u001B[0m \u001B[38;5;124;03m  \"\"\"\u001B[39;00m\n\u001B[0;32m--> 624\u001B[0m   \u001B[38;5;28;01mreturn\u001B[39;00m \u001B[43mnest_util\u001B[49m\u001B[38;5;241;43m.\u001B[39;49m\u001B[43mmap_structure\u001B[49m\u001B[43m(\u001B[49m\n\u001B[1;32m    625\u001B[0m \u001B[43m      \u001B[49m\u001B[43mnest_util\u001B[49m\u001B[38;5;241;43m.\u001B[39;49m\u001B[43mModality\u001B[49m\u001B[38;5;241;43m.\u001B[39;49m\u001B[43mCORE\u001B[49m\u001B[43m,\u001B[49m\u001B[43m \u001B[49m\u001B[43mfunc\u001B[49m\u001B[43m,\u001B[49m\u001B[43m \u001B[49m\u001B[38;5;241;43m*\u001B[39;49m\u001B[43mstructure\u001B[49m\u001B[43m,\u001B[49m\u001B[43m \u001B[49m\u001B[38;5;241;43m*\u001B[39;49m\u001B[38;5;241;43m*\u001B[39;49m\u001B[43mkwargs\u001B[49m\n\u001B[1;32m    626\u001B[0m \u001B[43m  \u001B[49m\u001B[43m)\u001B[49m\n",
      "File \u001B[0;32m~/miniconda3/envs/segmentation-new/lib/python3.11/site-packages/tensorflow/python/util/nest_util.py:1054\u001B[0m, in \u001B[0;36mmap_structure\u001B[0;34m(modality, func, *structure, **kwargs)\u001B[0m\n\u001B[1;32m    957\u001B[0m \u001B[38;5;250m\u001B[39m\u001B[38;5;124;03m\"\"\"Creates a new structure by applying `func` to each atom in `structure`.\u001B[39;00m\n\u001B[1;32m    958\u001B[0m \n\u001B[1;32m    959\u001B[0m \u001B[38;5;124;03m- For Modality.CORE: Refer to\u001B[39;00m\n\u001B[0;32m   (...)\u001B[0m\n\u001B[1;32m   1051\u001B[0m \u001B[38;5;124;03m  ValueError: If wrong keyword arguments are provided.\u001B[39;00m\n\u001B[1;32m   1052\u001B[0m \u001B[38;5;124;03m\"\"\"\u001B[39;00m\n\u001B[1;32m   1053\u001B[0m \u001B[38;5;28;01mif\u001B[39;00m modality \u001B[38;5;241m==\u001B[39m Modality\u001B[38;5;241m.\u001B[39mCORE:\n\u001B[0;32m-> 1054\u001B[0m   \u001B[38;5;28;01mreturn\u001B[39;00m \u001B[43m_tf_core_map_structure\u001B[49m\u001B[43m(\u001B[49m\u001B[43mfunc\u001B[49m\u001B[43m,\u001B[49m\u001B[43m \u001B[49m\u001B[38;5;241;43m*\u001B[39;49m\u001B[43mstructure\u001B[49m\u001B[43m,\u001B[49m\u001B[43m \u001B[49m\u001B[38;5;241;43m*\u001B[39;49m\u001B[38;5;241;43m*\u001B[39;49m\u001B[43mkwargs\u001B[49m\u001B[43m)\u001B[49m\n\u001B[1;32m   1055\u001B[0m \u001B[38;5;28;01melif\u001B[39;00m modality \u001B[38;5;241m==\u001B[39m Modality\u001B[38;5;241m.\u001B[39mDATA:\n\u001B[1;32m   1056\u001B[0m   \u001B[38;5;28;01mreturn\u001B[39;00m _tf_data_map_structure(func, \u001B[38;5;241m*\u001B[39mstructure, \u001B[38;5;241m*\u001B[39m\u001B[38;5;241m*\u001B[39mkwargs)\n",
      "File \u001B[0;32m~/miniconda3/envs/segmentation-new/lib/python3.11/site-packages/tensorflow/python/util/nest_util.py:1094\u001B[0m, in \u001B[0;36m_tf_core_map_structure\u001B[0;34m(func, *structure, **kwargs)\u001B[0m\n\u001B[1;32m   1089\u001B[0m flat_structure \u001B[38;5;241m=\u001B[39m (_tf_core_flatten(s, expand_composites) \u001B[38;5;28;01mfor\u001B[39;00m s \u001B[38;5;129;01min\u001B[39;00m structure)\n\u001B[1;32m   1090\u001B[0m entries \u001B[38;5;241m=\u001B[39m \u001B[38;5;28mzip\u001B[39m(\u001B[38;5;241m*\u001B[39mflat_structure)\n\u001B[1;32m   1092\u001B[0m \u001B[38;5;28;01mreturn\u001B[39;00m _tf_core_pack_sequence_as(\n\u001B[1;32m   1093\u001B[0m     structure[\u001B[38;5;241m0\u001B[39m],\n\u001B[0;32m-> 1094\u001B[0m     \u001B[43m[\u001B[49m\u001B[43mfunc\u001B[49m\u001B[43m(\u001B[49m\u001B[38;5;241;43m*\u001B[39;49m\u001B[43mx\u001B[49m\u001B[43m)\u001B[49m\u001B[43m \u001B[49m\u001B[38;5;28;43;01mfor\u001B[39;49;00m\u001B[43m \u001B[49m\u001B[43mx\u001B[49m\u001B[43m \u001B[49m\u001B[38;5;129;43;01min\u001B[39;49;00m\u001B[43m \u001B[49m\u001B[43mentries\u001B[49m\u001B[43m]\u001B[49m,\n\u001B[1;32m   1095\u001B[0m     expand_composites\u001B[38;5;241m=\u001B[39mexpand_composites,\n\u001B[1;32m   1096\u001B[0m )\n",
      "File \u001B[0;32m~/miniconda3/envs/segmentation-new/lib/python3.11/site-packages/tensorflow/python/util/nest_util.py:1094\u001B[0m, in \u001B[0;36m<listcomp>\u001B[0;34m(.0)\u001B[0m\n\u001B[1;32m   1089\u001B[0m flat_structure \u001B[38;5;241m=\u001B[39m (_tf_core_flatten(s, expand_composites) \u001B[38;5;28;01mfor\u001B[39;00m s \u001B[38;5;129;01min\u001B[39;00m structure)\n\u001B[1;32m   1090\u001B[0m entries \u001B[38;5;241m=\u001B[39m \u001B[38;5;28mzip\u001B[39m(\u001B[38;5;241m*\u001B[39mflat_structure)\n\u001B[1;32m   1092\u001B[0m \u001B[38;5;28;01mreturn\u001B[39;00m _tf_core_pack_sequence_as(\n\u001B[1;32m   1093\u001B[0m     structure[\u001B[38;5;241m0\u001B[39m],\n\u001B[0;32m-> 1094\u001B[0m     [\u001B[43mfunc\u001B[49m\u001B[43m(\u001B[49m\u001B[38;5;241;43m*\u001B[39;49m\u001B[43mx\u001B[49m\u001B[43m)\u001B[49m \u001B[38;5;28;01mfor\u001B[39;00m x \u001B[38;5;129;01min\u001B[39;00m entries],\n\u001B[1;32m   1095\u001B[0m     expand_composites\u001B[38;5;241m=\u001B[39mexpand_composites,\n\u001B[1;32m   1096\u001B[0m )\n",
      "File \u001B[0;32m~/miniconda3/envs/segmentation-new/lib/python3.11/site-packages/keras/src/utils/tf_utils.py:687\u001B[0m, in \u001B[0;36msync_to_numpy_or_python_type.<locals>._to_single_numpy_or_python_type\u001B[0;34m(t)\u001B[0m\n\u001B[1;32m    684\u001B[0m \u001B[38;5;28;01mdef\u001B[39;00m \u001B[38;5;21m_to_single_numpy_or_python_type\u001B[39m(t):\n\u001B[1;32m    685\u001B[0m     \u001B[38;5;66;03m# Don't turn ragged or sparse tensors to NumPy.\u001B[39;00m\n\u001B[1;32m    686\u001B[0m     \u001B[38;5;28;01mif\u001B[39;00m \u001B[38;5;28misinstance\u001B[39m(t, tf\u001B[38;5;241m.\u001B[39mTensor):\n\u001B[0;32m--> 687\u001B[0m         t \u001B[38;5;241m=\u001B[39m \u001B[43mt\u001B[49m\u001B[38;5;241;43m.\u001B[39;49m\u001B[43mnumpy\u001B[49m\u001B[43m(\u001B[49m\u001B[43m)\u001B[49m\n\u001B[1;32m    688\u001B[0m     \u001B[38;5;66;03m# Strings, ragged and sparse tensors don't have .item(). Return them\u001B[39;00m\n\u001B[1;32m    689\u001B[0m     \u001B[38;5;66;03m# as-is.\u001B[39;00m\n\u001B[1;32m    690\u001B[0m     \u001B[38;5;28;01mif\u001B[39;00m \u001B[38;5;129;01mnot\u001B[39;00m \u001B[38;5;28misinstance\u001B[39m(t, (np\u001B[38;5;241m.\u001B[39mndarray, np\u001B[38;5;241m.\u001B[39mgeneric)):\n",
      "File \u001B[0;32m~/miniconda3/envs/segmentation-new/lib/python3.11/site-packages/tensorflow/python/framework/ops.py:1141\u001B[0m, in \u001B[0;36m_EagerTensorBase.numpy\u001B[0;34m(self)\u001B[0m\n\u001B[1;32m   1118\u001B[0m \u001B[38;5;250m\u001B[39m\u001B[38;5;124;03m\"\"\"Copy of the contents of this Tensor into a NumPy array or scalar.\u001B[39;00m\n\u001B[1;32m   1119\u001B[0m \n\u001B[1;32m   1120\u001B[0m \u001B[38;5;124;03mUnlike NumPy arrays, Tensors are immutable, so this method has to copy\u001B[39;00m\n\u001B[0;32m   (...)\u001B[0m\n\u001B[1;32m   1138\u001B[0m \u001B[38;5;124;03m    NumPy dtype.\u001B[39;00m\n\u001B[1;32m   1139\u001B[0m \u001B[38;5;124;03m\"\"\"\u001B[39;00m\n\u001B[1;32m   1140\u001B[0m \u001B[38;5;66;03m# TODO(slebedev): Consider avoiding a copy for non-CPU or remote tensors.\u001B[39;00m\n\u001B[0;32m-> 1141\u001B[0m maybe_arr \u001B[38;5;241m=\u001B[39m \u001B[38;5;28;43mself\u001B[39;49m\u001B[38;5;241;43m.\u001B[39;49m\u001B[43m_numpy\u001B[49m\u001B[43m(\u001B[49m\u001B[43m)\u001B[49m  \u001B[38;5;66;03m# pylint: disable=protected-access\u001B[39;00m\n\u001B[1;32m   1142\u001B[0m \u001B[38;5;28;01mreturn\u001B[39;00m maybe_arr\u001B[38;5;241m.\u001B[39mcopy() \u001B[38;5;28;01mif\u001B[39;00m \u001B[38;5;28misinstance\u001B[39m(maybe_arr, np\u001B[38;5;241m.\u001B[39mndarray) \u001B[38;5;28;01melse\u001B[39;00m maybe_arr\n",
      "File \u001B[0;32m~/miniconda3/envs/segmentation-new/lib/python3.11/site-packages/tensorflow/python/framework/ops.py:1107\u001B[0m, in \u001B[0;36m_EagerTensorBase._numpy\u001B[0;34m(self)\u001B[0m\n\u001B[1;32m   1105\u001B[0m \u001B[38;5;28;01mdef\u001B[39;00m \u001B[38;5;21m_numpy\u001B[39m(\u001B[38;5;28mself\u001B[39m):\n\u001B[1;32m   1106\u001B[0m   \u001B[38;5;28;01mtry\u001B[39;00m:\n\u001B[0;32m-> 1107\u001B[0m     \u001B[38;5;28;01mreturn\u001B[39;00m \u001B[38;5;28;43mself\u001B[39;49m\u001B[38;5;241;43m.\u001B[39;49m\u001B[43m_numpy_internal\u001B[49m\u001B[43m(\u001B[49m\u001B[43m)\u001B[49m\n\u001B[1;32m   1108\u001B[0m   \u001B[38;5;28;01mexcept\u001B[39;00m core\u001B[38;5;241m.\u001B[39m_NotOkStatusException \u001B[38;5;28;01mas\u001B[39;00m e:  \u001B[38;5;66;03m# pylint: disable=protected-access\u001B[39;00m\n\u001B[1;32m   1109\u001B[0m     \u001B[38;5;28;01mraise\u001B[39;00m core\u001B[38;5;241m.\u001B[39m_status_to_exception(e) \u001B[38;5;28;01mfrom\u001B[39;00m \u001B[38;5;28;01mNone\u001B[39;00m\n",
      "\u001B[0;31mKeyboardInterrupt\u001B[0m: "
     ]
    }
   ],
   "source": [
    "history2 = model_new.fit(train_dataset, epochs=600)"
   ],
   "metadata": {
    "collapsed": false,
    "ExecuteTime": {
     "end_time": "2023-09-24T08:39:17.408621300Z",
     "start_time": "2023-09-24T08:19:25.046592200Z"
    }
   }
  },
  {
   "cell_type": "code",
   "execution_count": 36,
   "outputs": [
    {
     "name": "stderr",
     "output_type": "stream",
     "text": [
      "2023-09-24 00:51:23.413826: W tensorflow/tsl/framework/cpu_allocator_impl.cc:83] Allocation of 1669791744 exceeds 10% of free system memory.\n"
     ]
    },
    {
     "ename": "ValueError",
     "evalue": "in user code:\n\n    File \"/home/andrew/miniconda3/envs/segmentation-new/lib/python3.11/site-packages/keras/src/engine/training.py\", line 2341, in predict_function  *\n        return step_function(self, iterator)\n    File \"/home/andrew/miniconda3/envs/segmentation-new/lib/python3.11/site-packages/keras/src/engine/training.py\", line 2327, in step_function  **\n        outputs = model.distribute_strategy.run(run_step, args=(data,))\n    File \"/home/andrew/miniconda3/envs/segmentation-new/lib/python3.11/site-packages/keras/src/engine/training.py\", line 2315, in run_step  **\n        outputs = model.predict_step(data)\n    File \"/home/andrew/miniconda3/envs/segmentation-new/lib/python3.11/site-packages/keras/src/engine/training.py\", line 2283, in predict_step\n        return self(x, training=False)\n    File \"/home/andrew/miniconda3/envs/segmentation-new/lib/python3.11/site-packages/keras/src/utils/traceback_utils.py\", line 70, in error_handler\n        raise e.with_traceback(filtered_tb) from None\n    File \"/home/andrew/miniconda3/envs/segmentation-new/lib/python3.11/site-packages/keras/src/engine/input_spec.py\", line 298, in assert_input_compatibility\n        raise ValueError(\n\n    ValueError: Input 0 of layer \"sequential\" is incompatible with the layer: expected shape=(None, 64, 64, 12), found shape=(32, 64, 12)\n",
     "output_type": "error",
     "traceback": [
      "\u001B[0;31m---------------------------------------------------------------------------\u001B[0m",
      "\u001B[0;31mValueError\u001B[0m                                Traceback (most recent call last)",
      "Cell \u001B[0;32mIn[36], line 2\u001B[0m\n\u001B[1;32m      1\u001B[0m testtt, \u001B[38;5;241m=\u001B[39m test_dataset\u001B[38;5;241m.\u001B[39mtake(\u001B[38;5;241m1\u001B[39m)\n\u001B[0;32m----> 2\u001B[0m pred_res \u001B[38;5;241m=\u001B[39m \u001B[43mmodel_new\u001B[49m\u001B[38;5;241;43m.\u001B[39;49m\u001B[43mpredict\u001B[49m\u001B[43m(\u001B[49m\u001B[43mtesttt\u001B[49m\u001B[43m[\u001B[49m\u001B[38;5;241;43m0\u001B[39;49m\u001B[43m]\u001B[49m\u001B[43m)\u001B[49m\n",
      "File \u001B[0;32m~/miniconda3/envs/segmentation-new/lib/python3.11/site-packages/keras/src/utils/traceback_utils.py:70\u001B[0m, in \u001B[0;36mfilter_traceback.<locals>.error_handler\u001B[0;34m(*args, **kwargs)\u001B[0m\n\u001B[1;32m     67\u001B[0m     filtered_tb \u001B[38;5;241m=\u001B[39m _process_traceback_frames(e\u001B[38;5;241m.\u001B[39m__traceback__)\n\u001B[1;32m     68\u001B[0m     \u001B[38;5;66;03m# To get the full stack trace, call:\u001B[39;00m\n\u001B[1;32m     69\u001B[0m     \u001B[38;5;66;03m# `tf.debugging.disable_traceback_filtering()`\u001B[39;00m\n\u001B[0;32m---> 70\u001B[0m     \u001B[38;5;28;01mraise\u001B[39;00m e\u001B[38;5;241m.\u001B[39mwith_traceback(filtered_tb) \u001B[38;5;28;01mfrom\u001B[39;00m \u001B[38;5;28;01mNone\u001B[39;00m\n\u001B[1;32m     71\u001B[0m \u001B[38;5;28;01mfinally\u001B[39;00m:\n\u001B[1;32m     72\u001B[0m     \u001B[38;5;28;01mdel\u001B[39;00m filtered_tb\n",
      "File \u001B[0;32m/tmp/__autograph_generated_filefodt11vv.py:15\u001B[0m, in \u001B[0;36mouter_factory.<locals>.inner_factory.<locals>.tf__predict_function\u001B[0;34m(iterator)\u001B[0m\n\u001B[1;32m     13\u001B[0m \u001B[38;5;28;01mtry\u001B[39;00m:\n\u001B[1;32m     14\u001B[0m     do_return \u001B[38;5;241m=\u001B[39m \u001B[38;5;28;01mTrue\u001B[39;00m\n\u001B[0;32m---> 15\u001B[0m     retval_ \u001B[38;5;241m=\u001B[39m ag__\u001B[38;5;241m.\u001B[39mconverted_call(ag__\u001B[38;5;241m.\u001B[39mld(step_function), (ag__\u001B[38;5;241m.\u001B[39mld(\u001B[38;5;28mself\u001B[39m), ag__\u001B[38;5;241m.\u001B[39mld(iterator)), \u001B[38;5;28;01mNone\u001B[39;00m, fscope)\n\u001B[1;32m     16\u001B[0m \u001B[38;5;28;01mexcept\u001B[39;00m:\n\u001B[1;32m     17\u001B[0m     do_return \u001B[38;5;241m=\u001B[39m \u001B[38;5;28;01mFalse\u001B[39;00m\n",
      "\u001B[0;31mValueError\u001B[0m: in user code:\n\n    File \"/home/andrew/miniconda3/envs/segmentation-new/lib/python3.11/site-packages/keras/src/engine/training.py\", line 2341, in predict_function  *\n        return step_function(self, iterator)\n    File \"/home/andrew/miniconda3/envs/segmentation-new/lib/python3.11/site-packages/keras/src/engine/training.py\", line 2327, in step_function  **\n        outputs = model.distribute_strategy.run(run_step, args=(data,))\n    File \"/home/andrew/miniconda3/envs/segmentation-new/lib/python3.11/site-packages/keras/src/engine/training.py\", line 2315, in run_step  **\n        outputs = model.predict_step(data)\n    File \"/home/andrew/miniconda3/envs/segmentation-new/lib/python3.11/site-packages/keras/src/engine/training.py\", line 2283, in predict_step\n        return self(x, training=False)\n    File \"/home/andrew/miniconda3/envs/segmentation-new/lib/python3.11/site-packages/keras/src/utils/traceback_utils.py\", line 70, in error_handler\n        raise e.with_traceback(filtered_tb) from None\n    File \"/home/andrew/miniconda3/envs/segmentation-new/lib/python3.11/site-packages/keras/src/engine/input_spec.py\", line 298, in assert_input_compatibility\n        raise ValueError(\n\n    ValueError: Input 0 of layer \"sequential\" is incompatible with the layer: expected shape=(None, 64, 64, 12), found shape=(32, 64, 12)\n"
     ]
    }
   ],
   "source": [
    "testtt, = test_dataset.take(1)\n",
    "pred_res = model_new.predict(testtt[0])"
   ],
   "metadata": {
    "collapsed": false,
    "ExecuteTime": {
     "end_time": "2023-09-23T21:51:25.247926200Z",
     "start_time": "2023-09-23T21:51:23.412549700Z"
    }
   }
  },
  {
   "cell_type": "code",
   "execution_count": 80,
   "outputs": [
    {
     "ename": "ValueError",
     "evalue": "too many values to unpack (expected 1)",
     "output_type": "error",
     "traceback": [
      "\u001B[0;31m---------------------------------------------------------------------------\u001B[0m",
      "\u001B[0;31mValueError\u001B[0m                                Traceback (most recent call last)",
      "Cell \u001B[0;32mIn[80], line 1\u001B[0m\n\u001B[0;32m----> 1\u001B[0m test_x, \u001B[38;5;241m=\u001B[39m test_dataset\u001B[38;5;241m.\u001B[39mtake(\u001B[38;5;241m2\u001B[39m)\n",
      "\u001B[0;31mValueError\u001B[0m: too many values to unpack (expected 1)"
     ]
    }
   ],
   "source": [],
   "metadata": {
    "collapsed": false,
    "ExecuteTime": {
     "end_time": "2023-09-23T20:52:53.578344900Z",
     "start_time": "2023-09-23T20:52:52.138705100Z"
    }
   }
  },
  {
   "cell_type": "code",
   "execution_count": 79,
   "outputs": [
    {
     "data": {
      "text/plain": "(<tf.Tensor: shape=(64, 64, 12), dtype=float32, numpy=\n array([[[0.0356, 0.0502, 0.0618, ..., 0.2688, 0.1903, 0.1742],\n         [0.0356, 0.0495, 0.0607, ..., 0.2708, 0.1914, 0.1816],\n         [0.0353, 0.0448, 0.0566, ..., 0.269 , 0.1929, 0.1856],\n         ...,\n         [0.0256, 0.033 , 0.0442, ..., 0.2079, 0.1384, 0.1532],\n         [0.026 , 0.0334, 0.0433, ..., 0.2054, 0.1357, 0.158 ],\n         [0.0264, 0.0311, 0.0441, ..., 0.2047, 0.1328, 0.1665]],\n \n        [[0.0268, 0.0339, 0.0458, ..., 0.2059, 0.1295, 0.1783],\n         [0.0271, 0.0371, 0.0455, ..., 0.2072, 0.13  , 0.1784],\n         [0.0275, 0.0364, 0.0472, ..., 0.2087, 0.1342, 0.1677],\n         ...,\n         [0.034 , 0.0371, 0.0452, ..., 0.2251, 0.1537, 0.1754],\n         [0.0335, 0.0383, 0.0441, ..., 0.2211, 0.1517, 0.162 ],\n         [0.0329, 0.0375, 0.0449, ..., 0.2243, 0.1516, 0.1733]],\n \n        [[0.0323, 0.04  , 0.0526, ..., 0.2329, 0.1564, 0.1829],\n         [0.0315, 0.0413, 0.0532, ..., 0.2431, 0.1629, 0.1913],\n         [0.0307, 0.0482, 0.0596, ..., 0.2342, 0.1555, 0.1933],\n         ...,\n         [0.0336, 0.0462, 0.061 , ..., 0.2606, 0.1783, 0.1966],\n         [0.0339, 0.047 , 0.064 , ..., 0.2638, 0.1786, 0.2015],\n         [0.0343, 0.046 , 0.0578, ..., 0.2662, 0.1835, 0.2006]],\n \n        ...,\n \n        [[0.0345, 0.0491, 0.0571, ..., 0.2676, 0.2012, 0.1704],\n         [0.0343, 0.0482, 0.0596, ..., 0.2684, 0.2016, 0.1709],\n         [0.034 , 0.0438, 0.0592, ..., 0.2644, 0.1959, 0.1704],\n         ...,\n         [0.0213, 0.0247, 0.0403, ..., 0.1691, 0.082 , 0.3227],\n         [0.022 , 0.0293, 0.0526, ..., 0.1741, 0.0857, 0.2694],\n         [0.0228, 0.0283, 0.0476, ..., 0.1868, 0.0991, 0.2477]],\n \n        [[0.0238, 0.0298, 0.0416, ..., 0.2046, 0.1187, 0.2437],\n         [0.0248, 0.0393, 0.0531, ..., 0.2232, 0.1364, 0.2293],\n         [0.0258, 0.035 , 0.0505, ..., 0.2363, 0.1493, 0.2135],\n         ...,\n         [0.0317, 0.0348, 0.0543, ..., 0.2294, 0.1326, 0.2377],\n         [0.0312, 0.0386, 0.0536, ..., 0.2342, 0.1415, 0.2085],\n         [0.0308, 0.0378, 0.0557, ..., 0.2345, 0.1459, 0.1867]],\n \n        [[0.0305, 0.0363, 0.0551, ..., 0.2255, 0.1393, 0.1816],\n         [0.0303, 0.0357, 0.0492, ..., 0.2249, 0.1372, 0.193 ],\n         [0.0303, 0.0376, 0.0565, ..., 0.2329, 0.1393, 0.2212],\n         ...,\n         [0.0341, 0.048 , 0.0584, ..., 0.2757, 0.2104, 0.1705],\n         [0.0341, 0.0486, 0.0568, ..., 0.2746, 0.2103, 0.1729],\n         [0.0341, 0.0464, 0.0563, ..., 0.2721, 0.2098, 0.171 ]]],\n       dtype=float32)>,\n <tf.Tensor: shape=(64, 64, 6), dtype=float32, numpy=\n array([[[1., 0., 0., 0., 0., 0.],\n         [1., 0., 0., 0., 0., 0.],\n         [1., 0., 0., 0., 0., 0.],\n         ...,\n         [1., 0., 0., 0., 0., 0.],\n         [1., 0., 0., 0., 0., 0.],\n         [1., 0., 0., 0., 0., 0.]],\n \n        [[1., 0., 0., 0., 0., 0.],\n         [1., 0., 0., 0., 0., 0.],\n         [1., 0., 0., 0., 0., 0.],\n         ...,\n         [1., 0., 0., 0., 0., 0.],\n         [1., 0., 0., 0., 0., 0.],\n         [1., 0., 0., 0., 0., 0.]],\n \n        [[1., 0., 0., 0., 0., 0.],\n         [1., 0., 0., 0., 0., 0.],\n         [1., 0., 0., 0., 0., 0.],\n         ...,\n         [1., 0., 0., 0., 0., 0.],\n         [1., 0., 0., 0., 0., 0.],\n         [1., 0., 0., 0., 0., 0.]],\n \n        ...,\n \n        [[1., 0., 0., 0., 0., 0.],\n         [1., 0., 0., 0., 0., 0.],\n         [1., 0., 0., 0., 0., 0.],\n         ...,\n         [1., 0., 0., 0., 0., 0.],\n         [1., 0., 0., 0., 0., 0.],\n         [1., 0., 0., 0., 0., 0.]],\n \n        [[1., 0., 0., 0., 0., 0.],\n         [1., 0., 0., 0., 0., 0.],\n         [1., 0., 0., 0., 0., 0.],\n         ...,\n         [1., 0., 0., 0., 0., 0.],\n         [1., 0., 0., 0., 0., 0.],\n         [1., 0., 0., 0., 0., 0.]],\n \n        [[1., 0., 0., 0., 0., 0.],\n         [1., 0., 0., 0., 0., 0.],\n         [1., 0., 0., 0., 0., 0.],\n         ...,\n         [1., 0., 0., 0., 0., 0.],\n         [1., 0., 0., 0., 0., 0.],\n         [1., 0., 0., 0., 0., 0.]]], dtype=float32)>)"
     },
     "execution_count": 79,
     "metadata": {},
     "output_type": "execute_result"
    }
   ],
   "source": [
    "test_x"
   ],
   "metadata": {
    "collapsed": false,
    "ExecuteTime": {
     "end_time": "2023-09-23T20:52:39.671439Z",
     "start_time": "2023-09-23T20:52:39.648887500Z"
    }
   }
  },
  {
   "cell_type": "code",
   "execution_count": 27,
   "outputs": [],
   "source": [
    "x_tt = []\n",
    "y_tt = []\n",
    "\n",
    "for x,y in train_dataset:\n",
    "    x_tt.append(x.numpy())\n",
    "    y_tt.append(y.numpy())"
   ],
   "metadata": {
    "collapsed": false,
    "ExecuteTime": {
     "end_time": "2023-09-25T18:51:10.325722200Z",
     "start_time": "2023-09-25T18:51:08.989114500Z"
    }
   }
  },
  {
   "cell_type": "code",
   "execution_count": 28,
   "outputs": [],
   "source": [
    "x_ttt = np.concatenate(x_tt)"
   ],
   "metadata": {
    "collapsed": false,
    "ExecuteTime": {
     "end_time": "2023-09-25T18:51:11.358425Z",
     "start_time": "2023-09-25T18:51:11.004741100Z"
    }
   }
  },
  {
   "cell_type": "code",
   "execution_count": 29,
   "outputs": [],
   "source": [
    "y_ttt = np.concatenate(y_tt)"
   ],
   "metadata": {
    "collapsed": false,
    "ExecuteTime": {
     "end_time": "2023-09-25T18:51:11.570311Z",
     "start_time": "2023-09-25T18:51:11.332619100Z"
    }
   }
  },
  {
   "cell_type": "code",
   "execution_count": 31,
   "outputs": [
    {
     "data": {
      "text/plain": "(2260, 64, 64, 12)"
     },
     "execution_count": 31,
     "metadata": {},
     "output_type": "execute_result"
    }
   ],
   "source": [
    "x_ttt.shape"
   ],
   "metadata": {
    "collapsed": false,
    "ExecuteTime": {
     "end_time": "2023-09-24T14:48:50.125209900Z",
     "start_time": "2023-09-24T14:48:49.975059700Z"
    }
   }
  },
  {
   "cell_type": "code",
   "execution_count": 105,
   "outputs": [
    {
     "data": {
      "text/plain": "(2260, 64, 64, 7)"
     },
     "execution_count": 105,
     "metadata": {},
     "output_type": "execute_result"
    }
   ],
   "source": [
    "y_ttt.shape"
   ],
   "metadata": {
    "collapsed": false,
    "ExecuteTime": {
     "end_time": "2023-09-24T08:39:33.972138500Z",
     "start_time": "2023-09-24T08:39:33.940855300Z"
    }
   }
  },
  {
   "cell_type": "code",
   "execution_count": 106,
   "outputs": [
    {
     "name": "stdout",
     "output_type": "stream",
     "text": [
      "71/71 [==============================] - 2s 27ms/step\n"
     ]
    }
   ],
   "source": [
    "ffff = model_new.predict(x_ttt)"
   ],
   "metadata": {
    "collapsed": false,
    "ExecuteTime": {
     "end_time": "2023-09-24T08:39:38.805726900Z",
     "start_time": "2023-09-24T08:39:34.732037200Z"
    }
   }
  },
  {
   "cell_type": "code",
   "execution_count": 26,
   "outputs": [],
   "source": [
    "y_tttt = tf.argmax(y_ttt, axis=-1).numpy().flatten()"
   ],
   "metadata": {
    "collapsed": false,
    "ExecuteTime": {
     "end_time": "2023-09-24T19:36:29.804263Z",
     "start_time": "2023-09-24T19:36:29.628813Z"
    }
   }
  },
  {
   "cell_type": "code",
   "execution_count": 108,
   "outputs": [],
   "source": [
    "fff_t = tf.argmax(ffff, axis=-1).numpy().flatten()"
   ],
   "metadata": {
    "collapsed": false,
    "ExecuteTime": {
     "end_time": "2023-09-24T08:39:41.425068100Z",
     "start_time": "2023-09-24T08:39:41.383230Z"
    }
   }
  },
  {
   "cell_type": "code",
   "execution_count": 109,
   "outputs": [
    {
     "data": {
      "text/plain": "0.9917584174502212"
     },
     "execution_count": 109,
     "metadata": {},
     "output_type": "execute_result"
    }
   ],
   "source": [
    "from sklearn.metrics import accuracy_score, classification_report\n",
    "\n",
    "accuracy_score(y_tttt, fff_t)"
   ],
   "metadata": {
    "collapsed": false,
    "ExecuteTime": {
     "end_time": "2023-09-24T08:39:43.254014400Z",
     "start_time": "2023-09-24T08:39:41.861253Z"
    }
   }
  },
  {
   "cell_type": "code",
   "execution_count": 32,
   "outputs": [
    {
     "ename": "NameError",
     "evalue": "name 'model_new' is not defined",
     "output_type": "error",
     "traceback": [
      "\u001B[0;31m---------------------------------------------------------------------------\u001B[0m",
      "\u001B[0;31mNameError\u001B[0m                                 Traceback (most recent call last)",
      "Cell \u001B[0;32mIn[32], line 1\u001B[0m\n\u001B[0;32m----> 1\u001B[0m \u001B[43mmodel_new\u001B[49m\u001B[38;5;241m.\u001B[39msave(\u001B[38;5;124m\"\u001B[39m\u001B[38;5;124mdataset6_new_1.keras\u001B[39m\u001B[38;5;124m\"\u001B[39m)\n",
      "\u001B[0;31mNameError\u001B[0m: name 'model_new' is not defined"
     ]
    }
   ],
   "source": [
    "model_new.save(\"dataset6_new_1.keras\")"
   ],
   "metadata": {
    "collapsed": false,
    "ExecuteTime": {
     "end_time": "2023-09-24T14:48:54.006447700Z",
     "start_time": "2023-09-24T14:48:53.946469600Z"
    }
   }
  },
  {
   "cell_type": "code",
   "execution_count": 33,
   "outputs": [],
   "source": [
    "##TEST"
   ],
   "metadata": {
    "collapsed": false,
    "ExecuteTime": {
     "end_time": "2023-09-24T14:48:54.505818900Z",
     "start_time": "2023-09-24T14:48:54.452712500Z"
    }
   }
  },
  {
   "cell_type": "code",
   "execution_count": 76,
   "outputs": [
    {
     "data": {
      "text/plain": "['/mnt/d/shared_folder/test_images2/2022-08-24-00_00_2022-08-24-23_59_Sentinel-2_L2A_B01_(Raw).tiff',\n '/mnt/d/shared_folder/test_images2/2022-08-24-00_00_2022-08-24-23_59_Sentinel-2_L2A_B02_(Raw).tiff',\n '/mnt/d/shared_folder/test_images2/2022-08-24-00_00_2022-08-24-23_59_Sentinel-2_L2A_B03_(Raw).tiff',\n '/mnt/d/shared_folder/test_images2/2022-08-24-00_00_2022-08-24-23_59_Sentinel-2_L2A_B04_(Raw).tiff',\n '/mnt/d/shared_folder/test_images2/2022-08-24-00_00_2022-08-24-23_59_Sentinel-2_L2A_B05_(Raw).tiff',\n '/mnt/d/shared_folder/test_images2/2022-08-24-00_00_2022-08-24-23_59_Sentinel-2_L2A_B06_(Raw).tiff',\n '/mnt/d/shared_folder/test_images2/2022-08-24-00_00_2022-08-24-23_59_Sentinel-2_L2A_B07_(Raw).tiff',\n '/mnt/d/shared_folder/test_images2/2022-08-24-00_00_2022-08-24-23_59_Sentinel-2_L2A_B08_(Raw).tiff',\n '/mnt/d/shared_folder/test_images2/2022-08-24-00_00_2022-08-24-23_59_Sentinel-2_L2A_B09_(Raw).tiff',\n '/mnt/d/shared_folder/test_images2/2022-08-24-00_00_2022-08-24-23_59_Sentinel-2_L2A_B11_(Raw).tiff',\n '/mnt/d/shared_folder/test_images2/2022-08-24-00_00_2022-08-24-23_59_Sentinel-2_L2A_B12_(Raw).tiff',\n '/mnt/d/shared_folder/test_images2/2022-08-24-00_00_2022-08-24-23_59_Sentinel-2_L2A_B8A_(Raw).tiff']"
     },
     "execution_count": 76,
     "metadata": {},
     "output_type": "execute_result"
    }
   ],
   "source": [
    "from glob import glob\n",
    "image_bands_1 = glob(\"/mnt/d/shared_folder/test_images2/*B?*.tiff\", recursive=True)\n",
    "image_bands_1.sort()\n",
    "image_bands_1"
   ],
   "metadata": {
    "collapsed": false,
    "ExecuteTime": {
     "end_time": "2023-09-25T19:42:53.780851600Z",
     "start_time": "2023-09-25T19:42:53.710082200Z"
    }
   }
  },
  {
   "cell_type": "code",
   "execution_count": 77,
   "outputs": [],
   "source": [
    "import rasterio as rio\n",
    "\n",
    "test_imgs_list = []\n",
    "\n",
    "for tst_img in image_bands_1:\n",
    "    with rio.open(tst_img, 'r') as img_file:\n",
    "        img_array = img_file.read(1)\n",
    "        test_imgs_list.append(img_array)\n",
    "\n",
    "test_imgs_array = np.asarray(test_imgs_list)"
   ],
   "metadata": {
    "collapsed": false,
    "ExecuteTime": {
     "end_time": "2023-09-25T19:42:58.816762300Z",
     "start_time": "2023-09-25T19:42:57.295292800Z"
    }
   }
  },
  {
   "cell_type": "code",
   "execution_count": 31,
   "outputs": [
    {
     "name": "stdout",
     "output_type": "stream",
     "text": [
      "Min 0.0 and max 0.7232000231742859\n"
     ]
    }
   ],
   "source": [
    "print(f\"Min {test_imgs_array.min()} and max {test_imgs_array.max()}\")"
   ],
   "metadata": {
    "collapsed": false,
    "ExecuteTime": {
     "end_time": "2023-09-24T15:03:08.458752Z",
     "start_time": "2023-09-24T15:03:08.383795800Z"
    }
   }
  },
  {
   "cell_type": "code",
   "execution_count": 28,
   "outputs": [
    {
     "name": "stdout",
     "output_type": "stream",
     "text": [
      "x: 9 y: 17\n"
     ]
    }
   ],
   "source": [
    "def createImageCubes(img_array, blk_width, blk_height):\n",
    "    arrray = []\n",
    "    imageShape = img_array.shape\n",
    "    for w in range(0, imageShape[0], blk_width):\n",
    "        for h in range(0, imageShape[1], blk_height):\n",
    "            arrr = img_array[w:w + blk_width, h:h + blk_height]\n",
    "            arrray.append(np.asarray(arrr))\n",
    "    return np.asarray(arrray)\n",
    "\n",
    "\n",
    "test_image_shape = test_imgs_array[0].shape\n",
    "test_image_shape\n",
    "import math\n",
    "\n",
    "test_image_shape_0_parts = math.floor(test_image_shape[0] / 64)\n",
    "test_image_shape_1_parts = math.floor(test_image_shape[1] / 64)\n",
    "print(f\"x: {test_image_shape_0_parts} y: {test_image_shape_1_parts}\")\n",
    "\n",
    "test_imgs_fixed_list = []\n",
    "for img in test_imgs_array:\n",
    "    test_img_fixed_new = img[:64*test_image_shape_0_parts, :64*test_image_shape_1_parts]\n",
    "    test_imgs_fixed_list.append(test_img_fixed_new)\n",
    "test_imgs_fixed_array = np.asarray(test_imgs_fixed_list)\n"
   ],
   "metadata": {
    "collapsed": false,
    "ExecuteTime": {
     "end_time": "2023-09-24T15:35:20.336682400Z",
     "start_time": "2023-09-24T15:35:20.293666400Z"
    }
   }
  },
  {
   "cell_type": "code",
   "execution_count": 29,
   "outputs": [],
   "source": [
    "cubes_list = []\n",
    "for lstt in test_imgs_fixed_array:\n",
    "    cubes = createImageCubes(lstt,64,64)\n",
    "    cubes_list.append(cubes)\n",
    "cubes_array = np.asarray(cubes_list)"
   ],
   "metadata": {
    "collapsed": false,
    "ExecuteTime": {
     "end_time": "2023-09-24T15:35:21.223556500Z",
     "start_time": "2023-09-24T15:35:21.156032800Z"
    }
   }
  },
  {
   "cell_type": "code",
   "execution_count": 30,
   "outputs": [],
   "source": [
    "cubes_array = np.moveaxis(cubes_array, 0, 3)"
   ],
   "metadata": {
    "collapsed": false,
    "ExecuteTime": {
     "end_time": "2023-09-24T15:35:21.754967100Z",
     "start_time": "2023-09-24T15:35:21.702112500Z"
    }
   }
  },
  {
   "cell_type": "code",
   "execution_count": 31,
   "outputs": [],
   "source": [
    "cubes_array = cubes_array/x_data_cubes.max()"
   ],
   "metadata": {
    "collapsed": false,
    "ExecuteTime": {
     "end_time": "2023-09-24T15:35:22.722473400Z",
     "start_time": "2023-09-24T15:35:22.509959500Z"
    }
   }
  },
  {
   "cell_type": "code",
   "execution_count": 41,
   "outputs": [
    {
     "ename": "NameError",
     "evalue": "name 'model_new' is not defined",
     "output_type": "error",
     "traceback": [
      "\u001B[0;31m---------------------------------------------------------------------------\u001B[0m",
      "\u001B[0;31mNameError\u001B[0m                                 Traceback (most recent call last)",
      "Cell \u001B[0;32mIn[41], line 1\u001B[0m\n\u001B[0;32m----> 1\u001B[0m resss \u001B[38;5;241m=\u001B[39m \u001B[43mmodel_new\u001B[49m\u001B[38;5;241m.\u001B[39mpredict(cubes_array)\n",
      "\u001B[0;31mNameError\u001B[0m: name 'model_new' is not defined"
     ]
    }
   ],
   "source": [
    "resss = model_new.predict(cubes_array)"
   ],
   "metadata": {
    "collapsed": false,
    "ExecuteTime": {
     "end_time": "2023-09-24T14:49:13.573775500Z",
     "start_time": "2023-09-24T14:49:13.520650400Z"
    }
   }
  },
  {
   "cell_type": "code",
   "execution_count": 118,
   "outputs": [],
   "source": [
    "resss_pred = tf.argmax(resss, axis=-1).numpy()"
   ],
   "metadata": {
    "collapsed": false,
    "ExecuteTime": {
     "end_time": "2023-09-24T08:40:05.478130200Z",
     "start_time": "2023-09-24T08:40:05.439698500Z"
    }
   }
  },
  {
   "cell_type": "code",
   "execution_count": 119,
   "outputs": [],
   "source": [
    "def imageFromCube(cubes, imageWidth, imageHeight):\n",
    "    arrrr = np.empty((imageWidth, imageHeight,12))\n",
    "    cubesShape = cubes.shape\n",
    "    items_per_row = int(imageWidth/cubesShape[1])\n",
    "    items_per_col = int(imageHeight/cubesShape[2])\n",
    "    for el in range(0,cubesShape[0]):\n",
    "        num_row = int(el/items_per_col)\n",
    "        num_col = int(el%items_per_col)\n",
    "        #print(\"Row: \", num_row, \" column: \", num_col)\n",
    "        for i in range(0,cubesShape[1]):\n",
    "            for j in range(0, cubesShape[2]):\n",
    "                x = int(i+num_row*cubesShape[1])\n",
    "                y = int(j+num_col*cubesShape[2])\n",
    "                #print(\"X: \", x, \" Y: \", y)\n",
    "                arrrr[x,y] = cubes[el,i,j]\n",
    "        #arrrr[num_row, num_col] = cubes[el,:, :, :]\n",
    "        #num_col = int(int(el*cubesShape[1]%imageWidth)/imageHeight)\n",
    "    return arrrr"
   ],
   "metadata": {
    "collapsed": false,
    "ExecuteTime": {
     "end_time": "2023-09-24T08:40:06.287198100Z",
     "start_time": "2023-09-24T08:40:06.280191900Z"
    }
   }
  },
  {
   "cell_type": "code",
   "execution_count": 120,
   "outputs": [],
   "source": [
    "resss_img = imageFromCube(resss_pred,576,1088)"
   ],
   "metadata": {
    "collapsed": false,
    "ExecuteTime": {
     "end_time": "2023-09-24T08:40:08.753646500Z",
     "start_time": "2023-09-24T08:40:08.157281100Z"
    }
   }
  },
  {
   "cell_type": "code",
   "execution_count": 121,
   "outputs": [
    {
     "data": {
      "text/plain": "<Figure size 1200x1200 with 2 Axes>",
      "image/png": "[encoded data removed]"
     },
     "metadata": {},
     "output_type": "display_data"
    },
    {
     "data": {
      "text/plain": "<Axes: >"
     },
     "execution_count": 121,
     "metadata": {},
     "output_type": "execute_result"
    }
   ],
   "source": [
    "from matplotlib.colors import ListedColormap\n",
    "import earthpy.plot as ep\n",
    "\n",
    "ep.plot_bands(resss_img[:,:,0],\n",
    "              cmap=ListedColormap(['green', 'purple', 'orange', 'blue', 'yellow']))"
   ],
   "metadata": {
    "collapsed": false,
    "ExecuteTime": {
     "end_time": "2023-09-24T08:40:09.504606100Z",
     "start_time": "2023-09-24T08:40:09.310486900Z"
    }
   }
  },
  {
   "cell_type": "code",
   "execution_count": 122,
   "outputs": [
    {
     "data": {
      "text/plain": "{'water': 1, 'forest': 2, 'fields': 3, 'city': 4, 'sands': 5, 'mountains': 6}"
     },
     "execution_count": 122,
     "metadata": {},
     "output_type": "execute_result"
    }
   ],
   "source": [
    "categories_map"
   ],
   "metadata": {
    "collapsed": false,
    "ExecuteTime": {
     "end_time": "2023-09-24T08:42:09.711211100Z",
     "start_time": "2023-09-24T08:42:09.614148900Z"
    }
   }
  },
  {
   "cell_type": "markdown",
   "source": [
    "### TRY to use naive bayes"
   ],
   "metadata": {
    "collapsed": false
   }
  },
  {
   "cell_type": "code",
   "execution_count": 30,
   "outputs": [],
   "source": [
    "import layers.naive_bayes\n",
    "importlib.reload(layers.naive_bayes)\n",
    "# from keras.models import Model, save_model\n",
    "# from keras.layers import Input\n",
    "\n",
    "# Create the model\n",
    "# model_new_1 = tf.keras.models.Sequential()\n",
    "# model_new_1.add(tf.keras.models.InputLayer(shape=(12,)))  # Input layer\n",
    "# model_new_1.add(layers.naive_bayes.MultiClassNaiveBayesLayer(num_features=12, num_of_categories=7))  # Naive Bayes layer\n",
    "# model_new_1.add(tf.keras.models.Softmax())  #\n",
    "\n",
    "model_new_gnb = tf.keras.models.Sequential([\n",
    "    layers.naive_bayes.MultiClassNaiveBayesLayer(num_features=12, num_of_categories=6, input_shape=(12,)),\n",
    "    Activation(\"softmax\")\n",
    "    ])\n",
    "\n",
    "# Assuming you've trained or set the weights, you can then save the model:\n",
    "#save_model(model, 'naive_bayes_model.h5')"
   ],
   "metadata": {
    "collapsed": false,
    "ExecuteTime": {
     "end_time": "2023-09-25T18:57:14.097707700Z",
     "start_time": "2023-09-25T18:57:13.373190Z"
    }
   }
  },
  {
   "cell_type": "code",
   "execution_count": 31,
   "outputs": [
    {
     "name": "stdout",
     "output_type": "stream",
     "text": [
      "Model: \"sequential\"\n",
      "_________________________________________________________________\n",
      " Layer (type)                Output Shape              Param #   \n",
      "=================================================================\n",
      " multi_class_naive_bayes_la  (None, 6)                 144       \n",
      " yer (MultiClassNaiveBayesL                                      \n",
      " ayer)                                                           \n",
      "                                                                 \n",
      " activation (Activation)     (None, 6)                 0         \n",
      "                                                                 \n",
      "=================================================================\n",
      "Total params: 144 (576.00 Byte)\n",
      "Trainable params: 0 (0.00 Byte)\n",
      "Non-trainable params: 144 (576.00 Byte)\n",
      "_________________________________________________________________\n"
     ]
    }
   ],
   "source": [
    "model_new_gnb.compile(loss='categorical_crossentropy', optimizer='adam', metrics=['accuracy','mse'])\n",
    "model_new_gnb.summary()"
   ],
   "metadata": {
    "collapsed": false,
    "ExecuteTime": {
     "end_time": "2023-09-25T18:57:17.081256400Z",
     "start_time": "2023-09-25T18:57:17.002195900Z"
    }
   }
  },
  {
   "cell_type": "code",
   "execution_count": 32,
   "outputs": [],
   "source": [
    "x_tain_1 = []\n",
    "y_train_1 = []\n",
    "\n",
    "for x_d, y_d in train_dataset:\n",
    "    x_tain_1.append(x_d.numpy())\n",
    "    y_train_1.append((y_d.numpy()))\n",
    "\n",
    "x_train_11 = np.concatenate(x_tain_1)\n",
    "y_train_11 = np.concatenate(y_train_1)"
   ],
   "metadata": {
    "collapsed": false,
    "ExecuteTime": {
     "end_time": "2023-09-25T18:57:24.169665900Z",
     "start_time": "2023-09-25T18:57:21.691129900Z"
    }
   }
  },
  {
   "cell_type": "code",
   "execution_count": 30,
   "outputs": [
    {
     "data": {
      "text/plain": "(2260, 64, 64, 7)"
     },
     "execution_count": 30,
     "metadata": {},
     "output_type": "execute_result"
    }
   ],
   "source": [
    "y_train_11.shape"
   ],
   "metadata": {
    "collapsed": false,
    "ExecuteTime": {
     "end_time": "2023-09-24T19:36:51.578622700Z",
     "start_time": "2023-09-24T19:36:51.522924900Z"
    }
   }
  },
  {
   "cell_type": "code",
   "execution_count": 33,
   "outputs": [],
   "source": [
    "x_train_111 = x_train_11.reshape(x_train_11.shape[0]*x_train_11.shape[1]*x_train_11.shape[2],12)\n",
    "y_train_111 = y_train_11.reshape(x_train_11.shape[0]*x_train_11.shape[1]*x_train_11.shape[2],7)"
   ],
   "metadata": {
    "collapsed": false,
    "ExecuteTime": {
     "end_time": "2023-09-25T18:57:26.935925400Z",
     "start_time": "2023-09-25T18:57:26.856271600Z"
    }
   }
  },
  {
   "cell_type": "code",
   "execution_count": 169,
   "outputs": [
    {
     "data": {
      "text/plain": "array([[[[0., 1., 0., ..., 0., 0., 0.],\n         [0., 1., 0., ..., 0., 0., 0.],\n         [0., 1., 0., ..., 0., 0., 0.],\n         ...,\n         [0., 1., 0., ..., 0., 0., 0.],\n         [0., 1., 0., ..., 0., 0., 0.],\n         [0., 1., 0., ..., 0., 0., 0.]],\n\n        [[0., 1., 0., ..., 0., 0., 0.],\n         [0., 1., 0., ..., 0., 0., 0.],\n         [0., 1., 0., ..., 0., 0., 0.],\n         ...,\n         [0., 1., 0., ..., 0., 0., 0.],\n         [0., 1., 0., ..., 0., 0., 0.],\n         [0., 1., 0., ..., 0., 0., 0.]],\n\n        [[0., 1., 0., ..., 0., 0., 0.],\n         [0., 1., 0., ..., 0., 0., 0.],\n         [0., 1., 0., ..., 0., 0., 0.],\n         ...,\n         [0., 1., 0., ..., 0., 0., 0.],\n         [0., 1., 0., ..., 0., 0., 0.],\n         [0., 1., 0., ..., 0., 0., 0.]],\n\n        ...,\n\n        [[0., 1., 0., ..., 0., 0., 0.],\n         [0., 1., 0., ..., 0., 0., 0.],\n         [0., 1., 0., ..., 0., 0., 0.],\n         ...,\n         [0., 1., 0., ..., 0., 0., 0.],\n         [0., 1., 0., ..., 0., 0., 0.],\n         [0., 1., 0., ..., 0., 0., 0.]],\n\n        [[0., 1., 0., ..., 0., 0., 0.],\n         [0., 1., 0., ..., 0., 0., 0.],\n         [0., 1., 0., ..., 0., 0., 0.],\n         ...,\n         [0., 1., 0., ..., 0., 0., 0.],\n         [0., 1., 0., ..., 0., 0., 0.],\n         [0., 1., 0., ..., 0., 0., 0.]],\n\n        [[0., 1., 0., ..., 0., 0., 0.],\n         [0., 1., 0., ..., 0., 0., 0.],\n         [0., 1., 0., ..., 0., 0., 0.],\n         ...,\n         [0., 1., 0., ..., 0., 0., 0.],\n         [0., 1., 0., ..., 0., 0., 0.],\n         [0., 1., 0., ..., 0., 0., 0.]]],\n\n\n       [[[0., 1., 0., ..., 0., 0., 0.],\n         [0., 1., 0., ..., 0., 0., 0.],\n         [0., 1., 0., ..., 0., 0., 0.],\n         ...,\n         [0., 1., 0., ..., 0., 0., 0.],\n         [0., 1., 0., ..., 0., 0., 0.],\n         [0., 1., 0., ..., 0., 0., 0.]],\n\n        [[0., 1., 0., ..., 0., 0., 0.],\n         [0., 1., 0., ..., 0., 0., 0.],\n         [0., 1., 0., ..., 0., 0., 0.],\n         ...,\n         [0., 1., 0., ..., 0., 0., 0.],\n         [0., 1., 0., ..., 0., 0., 0.],\n         [0., 1., 0., ..., 0., 0., 0.]],\n\n        [[0., 1., 0., ..., 0., 0., 0.],\n         [0., 1., 0., ..., 0., 0., 0.],\n         [0., 1., 0., ..., 0., 0., 0.],\n         ...,\n         [0., 1., 0., ..., 0., 0., 0.],\n         [0., 1., 0., ..., 0., 0., 0.],\n         [0., 1., 0., ..., 0., 0., 0.]],\n\n        ...,\n\n        [[0., 1., 0., ..., 0., 0., 0.],\n         [0., 1., 0., ..., 0., 0., 0.],\n         [0., 1., 0., ..., 0., 0., 0.],\n         ...,\n         [0., 1., 0., ..., 0., 0., 0.],\n         [0., 1., 0., ..., 0., 0., 0.],\n         [0., 1., 0., ..., 0., 0., 0.]],\n\n        [[0., 1., 0., ..., 0., 0., 0.],\n         [0., 1., 0., ..., 0., 0., 0.],\n         [0., 1., 0., ..., 0., 0., 0.],\n         ...,\n         [0., 1., 0., ..., 0., 0., 0.],\n         [0., 1., 0., ..., 0., 0., 0.],\n         [0., 1., 0., ..., 0., 0., 0.]],\n\n        [[0., 1., 0., ..., 0., 0., 0.],\n         [0., 1., 0., ..., 0., 0., 0.],\n         [0., 1., 0., ..., 0., 0., 0.],\n         ...,\n         [0., 1., 0., ..., 0., 0., 0.],\n         [0., 1., 0., ..., 0., 0., 0.],\n         [0., 1., 0., ..., 0., 0., 0.]]],\n\n\n       [[[0., 1., 0., ..., 0., 0., 0.],\n         [0., 1., 0., ..., 0., 0., 0.],\n         [0., 1., 0., ..., 0., 0., 0.],\n         ...,\n         [0., 1., 0., ..., 0., 0., 0.],\n         [0., 1., 0., ..., 0., 0., 0.],\n         [0., 1., 0., ..., 0., 0., 0.]],\n\n        [[0., 1., 0., ..., 0., 0., 0.],\n         [0., 1., 0., ..., 0., 0., 0.],\n         [0., 1., 0., ..., 0., 0., 0.],\n         ...,\n         [0., 1., 0., ..., 0., 0., 0.],\n         [0., 1., 0., ..., 0., 0., 0.],\n         [0., 1., 0., ..., 0., 0., 0.]],\n\n        [[0., 1., 0., ..., 0., 0., 0.],\n         [0., 1., 0., ..., 0., 0., 0.],\n         [0., 1., 0., ..., 0., 0., 0.],\n         ...,\n         [0., 1., 0., ..., 0., 0., 0.],\n         [0., 1., 0., ..., 0., 0., 0.],\n         [0., 1., 0., ..., 0., 0., 0.]],\n\n        ...,\n\n        [[0., 1., 0., ..., 0., 0., 0.],\n         [0., 1., 0., ..., 0., 0., 0.],\n         [0., 1., 0., ..., 0., 0., 0.],\n         ...,\n         [0., 1., 0., ..., 0., 0., 0.],\n         [0., 1., 0., ..., 0., 0., 0.],\n         [0., 1., 0., ..., 0., 0., 0.]],\n\n        [[0., 1., 0., ..., 0., 0., 0.],\n         [0., 1., 0., ..., 0., 0., 0.],\n         [0., 1., 0., ..., 0., 0., 0.],\n         ...,\n         [0., 1., 0., ..., 0., 0., 0.],\n         [0., 1., 0., ..., 0., 0., 0.],\n         [0., 1., 0., ..., 0., 0., 0.]],\n\n        [[0., 1., 0., ..., 0., 0., 0.],\n         [0., 1., 0., ..., 0., 0., 0.],\n         [0., 1., 0., ..., 0., 0., 0.],\n         ...,\n         [0., 1., 0., ..., 0., 0., 0.],\n         [0., 1., 0., ..., 0., 0., 0.],\n         [0., 1., 0., ..., 0., 0., 0.]]],\n\n\n       ...,\n\n\n       [[[0., 1., 0., ..., 0., 0., 0.],\n         [0., 1., 0., ..., 0., 0., 0.],\n         [0., 1., 0., ..., 0., 0., 0.],\n         ...,\n         [0., 1., 0., ..., 0., 0., 0.],\n         [0., 1., 0., ..., 0., 0., 0.],\n         [0., 1., 0., ..., 0., 0., 0.]],\n\n        [[0., 1., 0., ..., 0., 0., 0.],\n         [0., 1., 0., ..., 0., 0., 0.],\n         [0., 1., 0., ..., 0., 0., 0.],\n         ...,\n         [0., 1., 0., ..., 0., 0., 0.],\n         [0., 1., 0., ..., 0., 0., 0.],\n         [0., 1., 0., ..., 0., 0., 0.]],\n\n        [[0., 1., 0., ..., 0., 0., 0.],\n         [0., 1., 0., ..., 0., 0., 0.],\n         [0., 1., 0., ..., 0., 0., 0.],\n         ...,\n         [0., 1., 0., ..., 0., 0., 0.],\n         [0., 1., 0., ..., 0., 0., 0.],\n         [0., 1., 0., ..., 0., 0., 0.]],\n\n        ...,\n\n        [[0., 1., 0., ..., 0., 0., 0.],\n         [0., 1., 0., ..., 0., 0., 0.],\n         [0., 1., 0., ..., 0., 0., 0.],\n         ...,\n         [0., 1., 0., ..., 0., 0., 0.],\n         [0., 1., 0., ..., 0., 0., 0.],\n         [0., 1., 0., ..., 0., 0., 0.]],\n\n        [[0., 1., 0., ..., 0., 0., 0.],\n         [0., 1., 0., ..., 0., 0., 0.],\n         [0., 1., 0., ..., 0., 0., 0.],\n         ...,\n         [0., 1., 0., ..., 0., 0., 0.],\n         [0., 1., 0., ..., 0., 0., 0.],\n         [0., 1., 0., ..., 0., 0., 0.]],\n\n        [[0., 1., 0., ..., 0., 0., 0.],\n         [0., 1., 0., ..., 0., 0., 0.],\n         [0., 1., 0., ..., 0., 0., 0.],\n         ...,\n         [0., 1., 0., ..., 0., 0., 0.],\n         [0., 1., 0., ..., 0., 0., 0.],\n         [0., 1., 0., ..., 0., 0., 0.]]],\n\n\n       [[[0., 1., 0., ..., 0., 0., 0.],\n         [0., 1., 0., ..., 0., 0., 0.],\n         [0., 1., 0., ..., 0., 0., 0.],\n         ...,\n         [0., 1., 0., ..., 0., 0., 0.],\n         [0., 1., 0., ..., 0., 0., 0.],\n         [0., 1., 0., ..., 0., 0., 0.]],\n\n        [[0., 1., 0., ..., 0., 0., 0.],\n         [0., 1., 0., ..., 0., 0., 0.],\n         [0., 1., 0., ..., 0., 0., 0.],\n         ...,\n         [0., 1., 0., ..., 0., 0., 0.],\n         [0., 1., 0., ..., 0., 0., 0.],\n         [0., 1., 0., ..., 0., 0., 0.]],\n\n        [[0., 1., 0., ..., 0., 0., 0.],\n         [0., 1., 0., ..., 0., 0., 0.],\n         [0., 1., 0., ..., 0., 0., 0.],\n         ...,\n         [0., 1., 0., ..., 0., 0., 0.],\n         [0., 1., 0., ..., 0., 0., 0.],\n         [0., 1., 0., ..., 0., 0., 0.]],\n\n        ...,\n\n        [[0., 1., 0., ..., 0., 0., 0.],\n         [0., 1., 0., ..., 0., 0., 0.],\n         [0., 1., 0., ..., 0., 0., 0.],\n         ...,\n         [0., 1., 0., ..., 0., 0., 0.],\n         [0., 1., 0., ..., 0., 0., 0.],\n         [0., 1., 0., ..., 0., 0., 0.]],\n\n        [[0., 1., 0., ..., 0., 0., 0.],\n         [0., 1., 0., ..., 0., 0., 0.],\n         [0., 1., 0., ..., 0., 0., 0.],\n         ...,\n         [0., 1., 0., ..., 0., 0., 0.],\n         [0., 1., 0., ..., 0., 0., 0.],\n         [0., 1., 0., ..., 0., 0., 0.]],\n\n        [[0., 1., 0., ..., 0., 0., 0.],\n         [0., 1., 0., ..., 0., 0., 0.],\n         [0., 1., 0., ..., 0., 0., 0.],\n         ...,\n         [0., 1., 0., ..., 0., 0., 0.],\n         [0., 1., 0., ..., 0., 0., 0.],\n         [0., 1., 0., ..., 0., 0., 0.]]],\n\n\n       [[[0., 0., 0., ..., 0., 1., 0.],\n         [0., 0., 0., ..., 0., 1., 0.],\n         [0., 0., 0., ..., 0., 1., 0.],\n         ...,\n         [0., 0., 0., ..., 0., 1., 0.],\n         [0., 0., 0., ..., 0., 1., 0.],\n         [0., 0., 0., ..., 0., 1., 0.]],\n\n        [[0., 0., 0., ..., 0., 1., 0.],\n         [0., 0., 0., ..., 0., 1., 0.],\n         [0., 0., 0., ..., 0., 1., 0.],\n         ...,\n         [0., 0., 0., ..., 0., 1., 0.],\n         [0., 0., 0., ..., 0., 1., 0.],\n         [0., 0., 0., ..., 0., 1., 0.]],\n\n        [[0., 0., 0., ..., 0., 1., 0.],\n         [0., 0., 0., ..., 0., 1., 0.],\n         [0., 0., 0., ..., 0., 1., 0.],\n         ...,\n         [0., 0., 0., ..., 0., 1., 0.],\n         [0., 0., 0., ..., 0., 1., 0.],\n         [0., 0., 0., ..., 0., 1., 0.]],\n\n        ...,\n\n        [[0., 0., 0., ..., 0., 1., 0.],\n         [0., 0., 0., ..., 0., 1., 0.],\n         [0., 0., 0., ..., 0., 1., 0.],\n         ...,\n         [0., 0., 0., ..., 0., 1., 0.],\n         [0., 0., 0., ..., 0., 1., 0.],\n         [0., 0., 0., ..., 0., 1., 0.]],\n\n        [[0., 0., 0., ..., 0., 1., 0.],\n         [0., 0., 0., ..., 0., 1., 0.],\n         [0., 0., 0., ..., 0., 1., 0.],\n         ...,\n         [0., 0., 0., ..., 0., 1., 0.],\n         [0., 0., 0., ..., 0., 1., 0.],\n         [0., 0., 0., ..., 0., 1., 0.]],\n\n        [[0., 0., 0., ..., 0., 1., 0.],\n         [0., 0., 0., ..., 0., 1., 0.],\n         [0., 0., 0., ..., 0., 1., 0.],\n         ...,\n         [0., 0., 0., ..., 0., 1., 0.],\n         [0., 0., 0., ..., 0., 1., 0.],\n         [0., 0., 0., ..., 0., 1., 0.]]]], dtype=float32)"
     },
     "execution_count": 169,
     "metadata": {},
     "output_type": "execute_result"
    }
   ],
   "source": [
    "y_train_11"
   ],
   "metadata": {
    "collapsed": false,
    "ExecuteTime": {
     "end_time": "2023-09-24T10:16:52.036396600Z",
     "start_time": "2023-09-24T10:16:51.998443900Z"
    }
   }
  },
  {
   "cell_type": "code",
   "execution_count": 175,
   "outputs": [
    {
     "data": {
      "text/plain": "(9256960, 7)"
     },
     "execution_count": 175,
     "metadata": {},
     "output_type": "execute_result"
    }
   ],
   "source": [
    "y_train_111.shape"
   ],
   "metadata": {
    "collapsed": false,
    "ExecuteTime": {
     "end_time": "2023-09-24T10:19:45.900876200Z",
     "start_time": "2023-09-24T10:19:45.810669200Z"
    }
   }
  },
  {
   "cell_type": "code",
   "execution_count": 163,
   "outputs": [
    {
     "name": "stdout",
     "output_type": "stream",
     "text": [
      "7232/7232 [==============================] - 56s 8ms/step - loss: 1.9460 - accuracy: 0.0000e+00 - mse: 0.1224 - val_loss: 1.9459 - val_accuracy: 0.0000e+00 - val_mse: 0.1225\n"
     ]
    }
   ],
   "source": [
    "#bayes_h = model_new_gnb.fit(x_train_111, y_train_111, epochs=1,batch_size=1024, validation_split=0.2)"
   ],
   "metadata": {
    "collapsed": false,
    "ExecuteTime": {
     "end_time": "2023-09-24T10:13:53.124756800Z",
     "start_time": "2023-09-24T10:12:55.813252600Z"
    }
   }
  },
  {
   "cell_type": "code",
   "execution_count": 194,
   "outputs": [
    {
     "data": {
      "text/plain": "(9256960, 7)"
     },
     "execution_count": 194,
     "metadata": {},
     "output_type": "execute_result"
    }
   ],
   "source": [
    "y_train_111.shape"
   ],
   "metadata": {
    "collapsed": false,
    "ExecuteTime": {
     "end_time": "2023-09-24T10:37:40.279506400Z",
     "start_time": "2023-09-24T10:37:40.232114500Z"
    }
   }
  },
  {
   "cell_type": "code",
   "execution_count": 34,
   "outputs": [],
   "source": [
    "y_int_labels = np.argmax(y_train_111, axis=-1)\n",
    "y_int_labels = y_int_labels-1\n",
    "means = []\n",
    "variances = []\n",
    "\n",
    "num_classes = 6  # or however many you have\n",
    "\n",
    "for i in range(num_classes):\n",
    "    means.append(np.mean(x_train_111[y_int_labels == i], axis=0))\n",
    "    variances.append(np.var(x_train_111[y_int_labels == i], axis=0))\n",
    "\n",
    "means = np.array(means)\n",
    "variances = np.array(variances)"
   ],
   "metadata": {
    "collapsed": false,
    "ExecuteTime": {
     "end_time": "2023-09-25T18:57:53.556739400Z",
     "start_time": "2023-09-25T18:57:50.833076500Z"
    }
   }
  },
  {
   "cell_type": "code",
   "execution_count": 35,
   "outputs": [],
   "source": [
    "x_tttt = x_ttt.reshape(x_ttt.shape[0]*x_ttt.shape[1]*x_ttt.shape[2],12)"
   ],
   "metadata": {
    "collapsed": false,
    "ExecuteTime": {
     "end_time": "2023-09-25T18:58:14.492075800Z",
     "start_time": "2023-09-25T18:58:14.459345200Z"
    }
   }
  },
  {
   "cell_type": "code",
   "execution_count": 225,
   "outputs": [],
   "source": [
    "means[0,:] = 0"
   ],
   "metadata": {
    "collapsed": false,
    "ExecuteTime": {
     "end_time": "2023-09-24T10:51:13.523462300Z",
     "start_time": "2023-09-24T10:51:13.480892500Z"
    }
   }
  },
  {
   "cell_type": "code",
   "execution_count": 226,
   "outputs": [],
   "source": [
    "variances[0,:] = 0"
   ],
   "metadata": {
    "collapsed": false,
    "ExecuteTime": {
     "end_time": "2023-09-24T10:51:15.389102300Z",
     "start_time": "2023-09-24T10:51:15.339124800Z"
    }
   }
  },
  {
   "cell_type": "code",
   "execution_count": 246,
   "outputs": [
    {
     "data": {
      "text/plain": "array([[          nan,           nan,           nan,           nan,\n                  nan,           nan,           nan,           nan,\n                  nan,           nan,           nan,           nan],\n       [7.5072714e-04, 7.1359624e-04, 1.3902313e-03, 3.0582945e-03,\n        3.5373361e-03, 1.4280407e-03, 1.3056325e-03, 1.2161554e-03,\n        9.1588026e-04, 3.5124566e-04, 2.8814946e-04, 9.3785825e-04],\n       [1.3390444e-05, 1.6815497e-05, 2.4349943e-05, 2.9035853e-05,\n        5.9771624e-05, 3.3204668e-04, 6.1731291e-04, 7.5976737e-04,\n        5.8099267e-04, 2.6931742e-04, 9.9144927e-05, 7.7060715e-04],\n       [6.6382570e-05, 1.2958462e-04, 2.0797949e-04, 4.5792671e-04,\n        4.7978957e-04, 7.9541467e-04, 1.0104702e-03, 1.1524193e-03,\n        1.0566724e-03, 1.0603979e-03, 1.2097897e-03, 1.1417950e-03],\n       [2.3635397e-04, 5.0459383e-04, 5.1512226e-04, 6.4966630e-04,\n        4.8016667e-04, 7.2053948e-04, 9.7518112e-04, 1.3310516e-03,\n        9.1753475e-04, 1.0548948e-03, 8.7359938e-04, 1.1406080e-03],\n       [4.4157662e-04, 1.1091701e-03, 2.9202562e-03, 6.7251748e-03,\n        7.5777322e-03, 6.4148903e-03, 6.6822055e-03, 6.4525362e-03,\n        5.9128515e-03, 1.0920437e-02, 1.2780761e-02, 6.2963488e-03]],\n      dtype=float32)"
     },
     "execution_count": 246,
     "metadata": {},
     "output_type": "execute_result"
    }
   ],
   "source": [
    "variances"
   ],
   "metadata": {
    "collapsed": false,
    "ExecuteTime": {
     "end_time": "2023-09-24T10:55:55.024695300Z",
     "start_time": "2023-09-24T10:55:54.949663Z"
    }
   }
  },
  {
   "cell_type": "code",
   "execution_count": 239,
   "outputs": [
    {
     "data": {
      "text/plain": "array([[0.02915865, 0.03312196, 0.03894535, 0.03473867, 0.03876298,\n        0.02387872, 0.02318608, 0.0209069 , 0.01605026, 0.01059942,\n        0.00965033, 0.01814351],\n       [0.01150276, 0.01467091, 0.02134492, 0.01352438, 0.03531998,\n        0.10759359, 0.13688509, 0.14326456, 0.15282534, 0.07436027,\n        0.03238188, 0.15238105],\n       [0.0272764 , 0.03468506, 0.04632021, 0.05880858, 0.07405695,\n        0.09216123, 0.10208715, 0.11047029, 0.1162836 , 0.15326554,\n        0.12305496, 0.1156451 ],\n       [0.03545165, 0.04030988, 0.04910934, 0.05284545, 0.06868093,\n        0.09916554, 0.11136083, 0.11593673, 0.12217683, 0.12035356,\n        0.09544441, 0.12089972],\n       [0.09082571, 0.11970866, 0.17434332, 0.23805812, 0.26639113,\n        0.27266017, 0.28622344, 0.29023218, 0.3006949 , 0.3668648 ,\n        0.3540075 , 0.29408118],\n       [0.03951728, 0.04714312, 0.06380208, 0.07952226, 0.09414418,\n        0.10468826, 0.11244895, 0.12240051, 0.1254742 , 0.20080724,\n        0.16093574, 0.12367606]], dtype=float32)"
     },
     "execution_count": 239,
     "metadata": {},
     "output_type": "execute_result"
    }
   ],
   "source": [
    "means"
   ],
   "metadata": {
    "collapsed": false,
    "ExecuteTime": {
     "end_time": "2023-09-24T10:53:22.021224500Z",
     "start_time": "2023-09-24T10:53:21.953632400Z"
    }
   }
  },
  {
   "cell_type": "code",
   "execution_count": 197,
   "outputs": [
    {
     "data": {
      "text/plain": "[<layers.naive_bayes.MultiClassNaiveBayesLayer at 0x7fb7161a3050>,\n <keras.src.layers.core.activation.Activation at 0x7fb6d8f8e550>]"
     },
     "execution_count": 197,
     "metadata": {},
     "output_type": "execute_result"
    }
   ],
   "source": [
    "model_new_gnb.layers"
   ],
   "metadata": {
    "collapsed": false,
    "ExecuteTime": {
     "end_time": "2023-09-24T10:38:52.152184100Z",
     "start_time": "2023-09-24T10:38:52.090895500Z"
    }
   }
  },
  {
   "cell_type": "code",
   "execution_count": 36,
   "outputs": [],
   "source": [
    "model_new_gnb.layers[0].set_weights([means, variances])"
   ],
   "metadata": {
    "collapsed": false,
    "ExecuteTime": {
     "end_time": "2023-09-25T18:58:20.488784Z",
     "start_time": "2023-09-25T18:58:20.449871700Z"
    }
   }
  },
  {
   "cell_type": "code",
   "execution_count": 261,
   "outputs": [],
   "source": [
    "model_new_gnb.save(\"model_gnb.keras\")"
   ],
   "metadata": {
    "collapsed": false,
    "ExecuteTime": {
     "end_time": "2023-09-24T11:04:14.683760400Z",
     "start_time": "2023-09-24T11:04:14.624153600Z"
    }
   }
  },
  {
   "cell_type": "code",
   "execution_count": 42,
   "outputs": [],
   "source": [
    "x_tests = []\n",
    "y_tests = []\n",
    "\n",
    "for xtest, ytest in test_dataset:\n",
    "    x_tests.append(xtest.numpy())\n",
    "    y_tests.append(ytest.numpy())"
   ],
   "metadata": {
    "collapsed": false,
    "ExecuteTime": {
     "end_time": "2023-09-25T19:02:19.169271400Z",
     "start_time": "2023-09-25T19:02:18.852370700Z"
    }
   }
  },
  {
   "cell_type": "code",
   "execution_count": 43,
   "outputs": [],
   "source": [
    "x_tests_1 = np.concatenate(x_tests)\n",
    "y_tests_1 = np.concatenate(y_tests)"
   ],
   "metadata": {
    "collapsed": false,
    "ExecuteTime": {
     "end_time": "2023-09-25T19:02:19.977996Z",
     "start_time": "2023-09-25T19:02:19.892588400Z"
    }
   }
  },
  {
   "cell_type": "code",
   "execution_count": 44,
   "outputs": [
    {
     "name": "stdout",
     "output_type": "stream",
     "text": [
      "4520/4520 [==============================] - 18s 4ms/step\n"
     ]
    }
   ],
   "source": [
    "nb_pred_res = model_new_gnb.predict(x_tttt, batch_size=2048)"
   ],
   "metadata": {
    "collapsed": false,
    "ExecuteTime": {
     "end_time": "2023-09-25T19:02:45.412994Z",
     "start_time": "2023-09-25T19:02:20.529735400Z"
    }
   }
  },
  {
   "cell_type": "code",
   "execution_count": 46,
   "outputs": [
    {
     "data": {
      "text/plain": "(18048, 64, 7)"
     },
     "execution_count": 46,
     "metadata": {},
     "output_type": "execute_result"
    }
   ],
   "source": [
    "y_tests_1.shape"
   ],
   "metadata": {
    "collapsed": false,
    "ExecuteTime": {
     "end_time": "2023-09-25T19:03:54.059216500Z",
     "start_time": "2023-09-25T19:03:53.976007200Z"
    }
   }
  },
  {
   "cell_type": "code",
   "execution_count": 47,
   "outputs": [],
   "source": [
    "x_tests_1_vector = x_tests_1.reshape(x_tests_1.shape[0]*x_tests_1.shape[1],12)"
   ],
   "metadata": {
    "collapsed": false,
    "ExecuteTime": {
     "end_time": "2023-09-25T19:04:11.025014Z",
     "start_time": "2023-09-25T19:04:10.982117900Z"
    }
   }
  },
  {
   "cell_type": "code",
   "execution_count": 48,
   "outputs": [],
   "source": [
    "y_tests_1_vector = y_tests_1.reshape(x_tests_1.shape[0]*x_tests_1.shape[1],7)"
   ],
   "metadata": {
    "collapsed": false,
    "ExecuteTime": {
     "end_time": "2023-09-25T19:04:34.987689200Z",
     "start_time": "2023-09-25T19:04:34.969070700Z"
    }
   }
  },
  {
   "cell_type": "code",
   "execution_count": 126,
   "outputs": [],
   "source": [
    "from sklearn.metrics import accuracy_score, classification_report, roc_curve, auc, precision_recall_curve, precision_score, average_precision_score"
   ],
   "metadata": {
    "collapsed": false,
    "ExecuteTime": {
     "end_time": "2023-09-25T20:39:51.365230Z",
     "start_time": "2023-09-25T20:39:51.266996600Z"
    }
   }
  },
  {
   "cell_type": "code",
   "execution_count": 50,
   "outputs": [
    {
     "name": "stdout",
     "output_type": "stream",
     "text": [
      "564/564 [==============================] - 2s 4ms/step\n"
     ]
    }
   ],
   "source": [
    "nb_pred_res_core = model_new_gnb.predict(x_tests_1_vector, batch_size=2048)"
   ],
   "metadata": {
    "collapsed": false,
    "ExecuteTime": {
     "end_time": "2023-09-25T19:05:14.917363700Z",
     "start_time": "2023-09-25T19:05:12.177532700Z"
    }
   }
  },
  {
   "cell_type": "code",
   "execution_count": 51,
   "outputs": [],
   "source": [
    "nb_pred_res_core_categoriesed = tf.argmax(nb_pred_res_core,axis=-1).numpy()"
   ],
   "metadata": {
    "collapsed": false,
    "ExecuteTime": {
     "end_time": "2023-09-25T19:07:29.510636500Z",
     "start_time": "2023-09-25T19:07:29.455265Z"
    }
   }
  },
  {
   "cell_type": "code",
   "execution_count": 52,
   "outputs": [],
   "source": [
    "y_tests_1_vector_categories = np.argmax(y_tests_1_vector, axis=-1)"
   ],
   "metadata": {
    "collapsed": false,
    "ExecuteTime": {
     "end_time": "2023-09-25T19:07:59.626086600Z",
     "start_time": "2023-09-25T19:07:59.565572500Z"
    }
   }
  },
  {
   "cell_type": "code",
   "execution_count": 56,
   "outputs": [],
   "source": [
    "y_tests_1_vector_categories = y_tests_1_vector_categories -1"
   ],
   "metadata": {
    "collapsed": false,
    "ExecuteTime": {
     "end_time": "2023-09-25T19:09:12.506341Z",
     "start_time": "2023-09-25T19:09:12.465077900Z"
    }
   }
  },
  {
   "cell_type": "code",
   "execution_count": 69,
   "outputs": [
    {
     "name": "stdout",
     "output_type": "stream",
     "text": [
      "Length of category 0 for real test dataset: 356352\n",
      "Length of category 1 for real test dataset: 167936\n",
      "Length of category 2 for real test dataset: 344064\n",
      "Length of category 3 for real test dataset: 114688\n",
      "Length of category 4 for real test dataset: 167936\n",
      "Length of category 5 for real test dataset: 4096\n"
     ]
    }
   ],
   "source": [
    "dataset_values = []\n",
    "\n",
    "for i in range(0,6):\n",
    "    ll = len(y_tests_1_vector_categories[y_tests_1_vector_categories == i])\n",
    "    print(f\"Length of category {i} for real test dataset: {ll}\")\n",
    "    dataset_values.append(ll)"
   ],
   "metadata": {
    "collapsed": false,
    "ExecuteTime": {
     "end_time": "2023-09-25T19:36:49.973233900Z",
     "start_time": "2023-09-25T19:36:49.891283700Z"
    }
   }
  },
  {
   "cell_type": "code",
   "execution_count": 57,
   "outputs": [
    {
     "data": {
      "text/plain": "0.7930735053745568"
     },
     "execution_count": 57,
     "metadata": {},
     "output_type": "execute_result"
    }
   ],
   "source": [
    "accuracy_score(nb_pred_res_core_categoriesed.flatten(), y_tests_1_vector_categories.flatten())"
   ],
   "metadata": {
    "collapsed": false,
    "ExecuteTime": {
     "end_time": "2023-09-25T19:09:14.101332300Z",
     "start_time": "2023-09-25T19:09:13.989197600Z"
    }
   }
  },
  {
   "cell_type": "markdown",
   "source": [],
   "metadata": {
    "collapsed": false
   }
  },
  {
   "cell_type": "code",
   "execution_count": 70,
   "outputs": [
    {
     "name": "stdout",
     "output_type": "stream",
     "text": [
      "Length of category 0 for nb prediction: 315187\n",
      "Length of category 1 for nb prediction: 169280\n",
      "Length of category 2 for nb prediction: 262001\n",
      "Length of category 3 for nb prediction: 171641\n",
      "Length of category 4 for nb prediction: 156886\n",
      "Length of category 5 for nb prediction: 80077\n"
     ]
    }
   ],
   "source": [
    "gnb_values = []\n",
    "\n",
    "for i in range(0,6):\n",
    "    ll = len(nb_pred_res_core_categoriesed[nb_pred_res_core_categoriesed == i])\n",
    "    print(f\"Length of category {i} for nb prediction: {ll}\")\n",
    "    gnb_values.append(len(nb_pred_res_core_categoriesed[nb_pred_res_core_categoriesed == i]))"
   ],
   "metadata": {
    "collapsed": false,
    "ExecuteTime": {
     "end_time": "2023-09-25T19:37:59.315591900Z",
     "start_time": "2023-09-25T19:37:59.225185200Z"
    }
   }
  },
  {
   "cell_type": "code",
   "execution_count": 72,
   "outputs": [],
   "source": [
    "categories_values = []\n",
    "\n",
    "for categorie, num in categories_map.items():\n",
    "    categories_values.append(categorie)"
   ],
   "metadata": {
    "collapsed": false,
    "ExecuteTime": {
     "end_time": "2023-09-25T19:38:11.379474Z",
     "start_time": "2023-09-25T19:38:11.331273100Z"
    }
   }
  },
  {
   "cell_type": "code",
   "execution_count": 73,
   "outputs": [
    {
     "data": {
      "text/plain": "['water', 'forest', 'fields', 'city', 'sands', 'mountains']"
     },
     "execution_count": 73,
     "metadata": {},
     "output_type": "execute_result"
    }
   ],
   "source": [
    "categories_values"
   ],
   "metadata": {
    "collapsed": false,
    "ExecuteTime": {
     "end_time": "2023-09-25T19:38:17.482121Z",
     "start_time": "2023-09-25T19:38:17.285305500Z"
    }
   }
  },
  {
   "cell_type": "code",
   "execution_count": 58,
   "outputs": [
    {
     "data": {
      "text/plain": "'              precision    recall  f1-score   support\\n\\n           0       0.87      0.99      0.93    315187\\n           1       0.94      0.94      0.94    169280\\n           2       0.64      0.84      0.73    262001\\n           3       0.63      0.42      0.50    171641\\n           4       0.89      0.96      0.92    156886\\n           5       0.86      0.04      0.08     80077\\n\\n    accuracy                           0.79   1155072\\n   macro avg       0.81      0.70      0.68   1155072\\nweighted avg       0.80      0.79      0.76   1155072\\n'"
     },
     "execution_count": 58,
     "metadata": {},
     "output_type": "execute_result"
    }
   ],
   "source": [
    "classification_report(nb_pred_res_core_categoriesed.flatten(), y_tests_1_vector_categories.flatten())"
   ],
   "metadata": {
    "collapsed": false,
    "ExecuteTime": {
     "end_time": "2023-09-25T19:09:29.050793700Z",
     "start_time": "2023-09-25T19:09:28.071645600Z"
    }
   }
  },
  {
   "cell_type": "code",
   "execution_count": 64,
   "outputs": [
    {
     "data": {
      "text/plain": "<Figure size 640x480 with 1 Axes>",
      "image/png": "[encoded data removed]"
     },
     "metadata": {},
     "output_type": "display_data"
    }
   ],
   "source": [
    "import matplotlib.pyplot as plt\n",
    "\n",
    "plt.hist(nb_pred_res_core[:, 1], bins=50, edgecolor='k')\n",
    "plt.title('Histogram of predicted probabilities for class 1')\n",
    "plt.xlabel('Probability')\n",
    "plt.ylabel('Frequency')\n",
    "plt.show()"
   ],
   "metadata": {
    "collapsed": false,
    "ExecuteTime": {
     "end_time": "2023-09-25T19:25:48.010970Z",
     "start_time": "2023-09-25T19:25:46.346881400Z"
    }
   }
  },
  {
   "cell_type": "code",
   "execution_count": 65,
   "outputs": [],
   "source": [
    "import dataset_tool.graph_utils"
   ],
   "metadata": {
    "collapsed": false,
    "ExecuteTime": {
     "end_time": "2023-09-25T19:27:26.810166900Z",
     "start_time": "2023-09-25T19:27:26.721430200Z"
    }
   }
  },
  {
   "cell_type": "code",
   "execution_count": 67,
   "outputs": [],
   "source": [
    "nb_hist_data = nb_pred_res_core + 1"
   ],
   "metadata": {
    "collapsed": false,
    "ExecuteTime": {
     "end_time": "2023-09-25T19:30:29.504619300Z",
     "start_time": "2023-09-25T19:30:29.427572500Z"
    }
   }
  },
  {
   "cell_type": "markdown",
   "source": [],
   "metadata": {
    "collapsed": false
   }
  },
  {
   "cell_type": "code",
   "execution_count": 123,
   "outputs": [
    {
     "data": {
      "text/plain": "<Figure size 640x480 with 6 Axes>",
      "image/png": "[encoded data removed]"
     },
     "metadata": {},
     "output_type": "display_data"
    }
   ],
   "source": [
    "dataset_tool.graph_utils.createHistGraph(nb_pred_res_core, categories_map)"
   ],
   "metadata": {
    "collapsed": false,
    "ExecuteTime": {
     "end_time": "2023-09-25T20:23:14.388055300Z",
     "start_time": "2023-09-25T20:23:13.756961400Z"
    }
   }
  },
  {
   "cell_type": "code",
   "execution_count": 75,
   "outputs": [
    {
     "data": {
      "text/plain": "<matplotlib.legend.Legend at 0x7f6b0c27e0d0>"
     },
     "execution_count": 75,
     "metadata": {},
     "output_type": "execute_result"
    },
    {
     "data": {
      "text/plain": "<Figure size 640x480 with 1 Axes>",
      "image/png": "[encoded data removed]"
     },
     "metadata": {},
     "output_type": "display_data"
    }
   ],
   "source": [
    "x = np.arange(len(categories_values))  # the label locations\n",
    "width = 0.35  # the width of the bars\n",
    "\n",
    "fig, ax = plt.subplots()\n",
    "rects1 = ax.bar(x - width/2, dataset_values, width, label='Dataset values')\n",
    "rects2 = ax.bar(x + width/2, gnb_values, width, label='NB values')\n",
    "\n",
    "# Add some text for labels, title and custom x-axis tick labels, etc.\n",
    "ax.set_ylabel('Number of points')\n",
    "ax.set_title('Classification result compare')\n",
    "ax.set_xticks(x)\n",
    "ax.set_xticklabels(categories_values)\n",
    "ax.legend()"
   ],
   "metadata": {
    "collapsed": false,
    "ExecuteTime": {
     "end_time": "2023-09-25T19:41:29.579366400Z",
     "start_time": "2023-09-25T19:41:29.384492800Z"
    }
   }
  },
  {
   "cell_type": "code",
   "execution_count": 59,
   "outputs": [
    {
     "ename": "ValueError",
     "evalue": "Data cardinality is ambiguous:\n  x sizes: 1155072\n  y sizes: 18048\nMake sure all arrays contain the same number of samples.",
     "output_type": "error",
     "traceback": [
      "\u001B[0;31m---------------------------------------------------------------------------\u001B[0m",
      "\u001B[0;31mValueError\u001B[0m                                Traceback (most recent call last)",
      "Cell \u001B[0;32mIn[59], line 1\u001B[0m\n\u001B[0;32m----> 1\u001B[0m gnb_eval \u001B[38;5;241m=\u001B[39m \u001B[43mmodel_new_gnb\u001B[49m\u001B[38;5;241;43m.\u001B[39;49m\u001B[43mevaluate\u001B[49m\u001B[43m(\u001B[49m\u001B[43mnb_pred_res_core\u001B[49m\u001B[43m,\u001B[49m\u001B[43m \u001B[49m\u001B[43my_tests_1\u001B[49m\u001B[43m)\u001B[49m\n",
      "File \u001B[0;32m~/miniconda3/envs/segmentation-new/lib/python3.11/site-packages/keras/src/utils/traceback_utils.py:70\u001B[0m, in \u001B[0;36mfilter_traceback.<locals>.error_handler\u001B[0;34m(*args, **kwargs)\u001B[0m\n\u001B[1;32m     67\u001B[0m     filtered_tb \u001B[38;5;241m=\u001B[39m _process_traceback_frames(e\u001B[38;5;241m.\u001B[39m__traceback__)\n\u001B[1;32m     68\u001B[0m     \u001B[38;5;66;03m# To get the full stack trace, call:\u001B[39;00m\n\u001B[1;32m     69\u001B[0m     \u001B[38;5;66;03m# `tf.debugging.disable_traceback_filtering()`\u001B[39;00m\n\u001B[0;32m---> 70\u001B[0m     \u001B[38;5;28;01mraise\u001B[39;00m e\u001B[38;5;241m.\u001B[39mwith_traceback(filtered_tb) \u001B[38;5;28;01mfrom\u001B[39;00m \u001B[38;5;28;01mNone\u001B[39;00m\n\u001B[1;32m     71\u001B[0m \u001B[38;5;28;01mfinally\u001B[39;00m:\n\u001B[1;32m     72\u001B[0m     \u001B[38;5;28;01mdel\u001B[39;00m filtered_tb\n",
      "File \u001B[0;32m~/miniconda3/envs/segmentation-new/lib/python3.11/site-packages/keras/src/engine/data_adapter.py:1950\u001B[0m, in \u001B[0;36m_check_data_cardinality\u001B[0;34m(data)\u001B[0m\n\u001B[1;32m   1943\u001B[0m     msg \u001B[38;5;241m+\u001B[39m\u001B[38;5;241m=\u001B[39m \u001B[38;5;124m\"\u001B[39m\u001B[38;5;124m  \u001B[39m\u001B[38;5;132;01m{}\u001B[39;00m\u001B[38;5;124m sizes: \u001B[39m\u001B[38;5;132;01m{}\u001B[39;00m\u001B[38;5;130;01m\\n\u001B[39;00m\u001B[38;5;124m\"\u001B[39m\u001B[38;5;241m.\u001B[39mformat(\n\u001B[1;32m   1944\u001B[0m         label,\n\u001B[1;32m   1945\u001B[0m         \u001B[38;5;124m\"\u001B[39m\u001B[38;5;124m, \u001B[39m\u001B[38;5;124m\"\u001B[39m\u001B[38;5;241m.\u001B[39mjoin(\n\u001B[1;32m   1946\u001B[0m             \u001B[38;5;28mstr\u001B[39m(i\u001B[38;5;241m.\u001B[39mshape[\u001B[38;5;241m0\u001B[39m]) \u001B[38;5;28;01mfor\u001B[39;00m i \u001B[38;5;129;01min\u001B[39;00m tf\u001B[38;5;241m.\u001B[39mnest\u001B[38;5;241m.\u001B[39mflatten(single_data)\n\u001B[1;32m   1947\u001B[0m         ),\n\u001B[1;32m   1948\u001B[0m     )\n\u001B[1;32m   1949\u001B[0m msg \u001B[38;5;241m+\u001B[39m\u001B[38;5;241m=\u001B[39m \u001B[38;5;124m\"\u001B[39m\u001B[38;5;124mMake sure all arrays contain the same number of samples.\u001B[39m\u001B[38;5;124m\"\u001B[39m\n\u001B[0;32m-> 1950\u001B[0m \u001B[38;5;28;01mraise\u001B[39;00m \u001B[38;5;167;01mValueError\u001B[39;00m(msg)\n",
      "\u001B[0;31mValueError\u001B[0m: Data cardinality is ambiguous:\n  x sizes: 1155072\n  y sizes: 18048\nMake sure all arrays contain the same number of samples."
     ]
    }
   ],
   "source": [
    "gnb_eval = model_new_gnb.evaluate(nb_pred_res_core, y_tests_1)"
   ],
   "metadata": {
    "collapsed": false,
    "ExecuteTime": {
     "end_time": "2023-09-25T19:10:50.385818100Z",
     "start_time": "2023-09-25T19:10:50.204094800Z"
    }
   }
  },
  {
   "cell_type": "code",
   "execution_count": 125,
   "outputs": [
    {
     "name": "stderr",
     "output_type": "stream",
     "text": [
      "/home/andrew/miniconda3/envs/segmentation-new/lib/python3.11/site-packages/sklearn/metrics/_ranking.py:1132: UndefinedMetricWarning: No positive samples in y_true, true positive value should be meaningless\n",
      "  warnings.warn(\n"
     ]
    },
    {
     "data": {
      "text/plain": "<Figure size 640x480 with 1 Axes>",
      "image/png": "[encoded data removed]"
     },
     "metadata": {},
     "output_type": "display_data"
    }
   ],
   "source": [
    "n_classes = nb_pred_res_core.shape[1]\n",
    "\n",
    "# Для ROC\n",
    "plt.figure()\n",
    "for i in range(n_classes):\n",
    "    fpr, tpr, _ = roc_curve(y_tests_1_vector[:, i], nb_pred_res_core[:, i])\n",
    "    roc_auc = auc(fpr, tpr)\n",
    "    plt.plot(fpr, tpr, label=f'ROC curve of class {i} (area = {roc_auc:.2f})')\n",
    "\n",
    "plt.plot([0, 1], [0, 1], 'k--')\n",
    "plt.xlabel('False Positive Rate')\n",
    "plt.ylabel('True Positive Rate')\n",
    "plt.title('Receiver Operating Characteristic (ROC) Curve')\n",
    "plt.legend(loc=\"lower right\")\n",
    "plt.show()"
   ],
   "metadata": {
    "collapsed": false,
    "ExecuteTime": {
     "end_time": "2023-09-25T20:37:53.238062600Z",
     "start_time": "2023-09-25T20:37:52.367403900Z"
    }
   }
  },
  {
   "cell_type": "code",
   "execution_count": 127,
   "outputs": [
    {
     "name": "stderr",
     "output_type": "stream",
     "text": [
      "/home/andrew/miniconda3/envs/segmentation-new/lib/python3.11/site-packages/sklearn/metrics/_ranking.py:979: UserWarning: No positive class found in y_true, recall is set to one for all thresholds.\n",
      "  warnings.warn(\n",
      "/home/andrew/miniconda3/envs/segmentation-new/lib/python3.11/site-packages/sklearn/metrics/_ranking.py:979: UserWarning: No positive class found in y_true, recall is set to one for all thresholds.\n",
      "  warnings.warn(\n"
     ]
    },
    {
     "data": {
      "text/plain": "<Figure size 640x480 with 1 Axes>",
      "image/png": "[encoded data removed]"
     },
     "metadata": {},
     "output_type": "display_data"
    }
   ],
   "source": [
    "# Для Precision-Recall\n",
    "plt.figure()\n",
    "for i in range(n_classes):\n",
    "    precision, recall, _ = precision_recall_curve(y_tests_1_vector[:, i], nb_pred_res_core[:, i])\n",
    "    average_precision = average_precision_score(y_tests_1_vector[:, i], nb_pred_res_core[:, i])\n",
    "    plt.plot(recall, precision, label=f'Precision-Recall curve of class {i} (area = {average_precision:.2f})')\n",
    "\n",
    "plt.xlabel('Recall')\n",
    "plt.ylabel('Precision')\n",
    "plt.title('Precision-Recall Curve')\n",
    "plt.legend(loc=\"upper right\")\n",
    "plt.show()"
   ],
   "metadata": {
    "collapsed": false,
    "ExecuteTime": {
     "end_time": "2023-09-25T20:40:15.438185600Z",
     "start_time": "2023-09-25T20:40:13.843743Z"
    }
   }
  },
  {
   "cell_type": "code",
   "execution_count": 241,
   "outputs": [],
   "source": [
    "nb_pres_res_1 = tf.argmax(nb_pred_res,axis=-1).numpy()"
   ],
   "metadata": {
    "collapsed": false,
    "ExecuteTime": {
     "end_time": "2023-09-24T10:53:59.354346Z",
     "start_time": "2023-09-24T10:53:59.034797200Z"
    }
   }
  },
  {
   "cell_type": "code",
   "execution_count": 242,
   "outputs": [
    {
     "data": {
      "text/plain": "5"
     },
     "execution_count": 242,
     "metadata": {},
     "output_type": "execute_result"
    }
   ],
   "source": [
    "nb_pres_res_1.max()"
   ],
   "metadata": {
    "collapsed": false,
    "ExecuteTime": {
     "end_time": "2023-09-24T10:53:59.440689200Z",
     "start_time": "2023-09-24T10:53:59.368403Z"
    }
   }
  },
  {
   "cell_type": "code",
   "execution_count": 248,
   "outputs": [],
   "source": [
    "y_testtt = y_tttt - 1"
   ],
   "metadata": {
    "collapsed": false,
    "ExecuteTime": {
     "end_time": "2023-09-24T10:56:21.958946900Z",
     "start_time": "2023-09-24T10:56:21.896853300Z"
    }
   }
  },
  {
   "cell_type": "code",
   "execution_count": 249,
   "outputs": [
    {
     "data": {
      "text/plain": "0.8536017223797013"
     },
     "execution_count": 249,
     "metadata": {},
     "output_type": "execute_result"
    }
   ],
   "source": [
    "accuracy_score(y_testtt, nb_pres_res_1.flatten())"
   ],
   "metadata": {
    "collapsed": false,
    "ExecuteTime": {
     "end_time": "2023-09-24T10:56:27.512350600Z",
     "start_time": "2023-09-24T10:56:27.141782500Z"
    }
   }
  },
  {
   "cell_type": "code",
   "execution_count": 244,
   "outputs": [
    {
     "data": {
      "text/plain": "(9256960,)"
     },
     "execution_count": 244,
     "metadata": {},
     "output_type": "execute_result"
    }
   ],
   "source": [
    "y_tttt.shape"
   ],
   "metadata": {
    "collapsed": false,
    "ExecuteTime": {
     "end_time": "2023-09-24T10:54:02.175903100Z",
     "start_time": "2023-09-24T10:54:02.134712800Z"
    }
   }
  },
  {
   "cell_type": "code",
   "execution_count": 250,
   "outputs": [
    {
     "data": {
      "text/plain": "(12, 638, 1094)"
     },
     "execution_count": 250,
     "metadata": {},
     "output_type": "execute_result"
    }
   ],
   "source": [
    "test_imgs_array.shape"
   ],
   "metadata": {
    "collapsed": false,
    "ExecuteTime": {
     "end_time": "2023-09-24T10:58:02.555617300Z",
     "start_time": "2023-09-24T10:58:02.477177800Z"
    }
   }
  },
  {
   "cell_type": "code",
   "execution_count": 78,
   "outputs": [],
   "source": [
    "test_arr_nb = test_imgs_array/x_data_cubes.max()"
   ],
   "metadata": {
    "collapsed": false,
    "ExecuteTime": {
     "end_time": "2023-09-25T19:43:19.230660900Z",
     "start_time": "2023-09-25T19:43:15.152292400Z"
    }
   }
  },
  {
   "cell_type": "code",
   "execution_count": 79,
   "outputs": [],
   "source": [
    "test_arr_nb = np.moveaxis(test_arr_nb, 0, 2)"
   ],
   "metadata": {
    "collapsed": false,
    "ExecuteTime": {
     "end_time": "2023-09-25T19:43:19.948917500Z",
     "start_time": "2023-09-25T19:43:19.885939900Z"
    }
   }
  },
  {
   "cell_type": "code",
   "execution_count": 80,
   "outputs": [
    {
     "data": {
      "text/plain": "(733, 1250, 12)"
     },
     "execution_count": 80,
     "metadata": {},
     "output_type": "execute_result"
    }
   ],
   "source": [
    "test_arr_nb.shape"
   ],
   "metadata": {
    "collapsed": false,
    "ExecuteTime": {
     "end_time": "2023-09-25T19:43:20.573137700Z",
     "start_time": "2023-09-25T19:43:20.519179600Z"
    }
   }
  },
  {
   "cell_type": "code",
   "execution_count": 81,
   "outputs": [],
   "source": [
    "test_arr_to_pred = test_arr_nb.reshape(test_arr_nb.shape[0]*test_arr_nb.shape[1],12)"
   ],
   "metadata": {
    "collapsed": false,
    "ExecuteTime": {
     "end_time": "2023-09-25T19:43:25.684019900Z",
     "start_time": "2023-09-25T19:43:25.632114800Z"
    }
   }
  },
  {
   "cell_type": "code",
   "execution_count": 82,
   "outputs": [
    {
     "name": "stdout",
     "output_type": "stream",
     "text": [
      "448/448 [==============================] - 2s 4ms/step\n"
     ]
    }
   ],
   "source": [
    "test_arr_nb_pred_res = model_new_gnb.predict(test_arr_to_pred,batch_size=2048)"
   ],
   "metadata": {
    "collapsed": false,
    "ExecuteTime": {
     "end_time": "2023-09-25T19:43:30.835119600Z",
     "start_time": "2023-09-25T19:43:26.604741800Z"
    }
   }
  },
  {
   "cell_type": "code",
   "execution_count": 83,
   "outputs": [],
   "source": [
    "test_arr_nb_pred = tf.argmax(test_arr_nb_pred_res, axis=-1)"
   ],
   "metadata": {
    "collapsed": false,
    "ExecuteTime": {
     "end_time": "2023-09-25T19:43:43.132568500Z",
     "start_time": "2023-09-25T19:43:43.065662200Z"
    }
   }
  },
  {
   "cell_type": "code",
   "execution_count": 100,
   "outputs": [],
   "source": [
    "test_arr_nb_pred_ss = test_arr_nb_pred.numpy().reshape(733,1250)"
   ],
   "metadata": {
    "collapsed": false,
    "ExecuteTime": {
     "end_time": "2023-09-25T19:59:23.042456700Z",
     "start_time": "2023-09-25T19:59:22.997428100Z"
    }
   }
  },
  {
   "cell_type": "code",
   "execution_count": 102,
   "outputs": [
    {
     "data": {
      "text/plain": "5"
     },
     "execution_count": 102,
     "metadata": {},
     "output_type": "execute_result"
    }
   ],
   "source": [
    "test_arr_nb_pred_ss.max()"
   ],
   "metadata": {
    "collapsed": false,
    "ExecuteTime": {
     "end_time": "2023-09-25T19:59:36.336135600Z",
     "start_time": "2023-09-25T19:59:36.208290800Z"
    }
   }
  },
  {
   "cell_type": "code",
   "execution_count": 103,
   "outputs": [],
   "source": [
    "test_arr_nb_pred_ss = test_arr_nb_pred_ss + 1"
   ],
   "metadata": {
    "collapsed": false,
    "ExecuteTime": {
     "end_time": "2023-09-25T19:59:38.448752Z",
     "start_time": "2023-09-25T19:59:38.326359500Z"
    }
   }
  },
  {
   "cell_type": "code",
   "execution_count": 104,
   "outputs": [],
   "source": [
    "test_arr_nb_pred_ss [test_arr_nb_pred_ss == 6] = 3"
   ],
   "metadata": {
    "collapsed": false,
    "ExecuteTime": {
     "end_time": "2023-09-25T19:59:39.245838700Z",
     "start_time": "2023-09-25T19:59:39.198334400Z"
    }
   }
  },
  {
   "cell_type": "code",
   "execution_count": 89,
   "outputs": [],
   "source": [
    "categoreis_map_inverted = {v: k for k, v in categories_map.items()}"
   ],
   "metadata": {
    "collapsed": false,
    "ExecuteTime": {
     "end_time": "2023-09-25T19:47:21.428145700Z",
     "start_time": "2023-09-25T19:47:21.370917100Z"
    }
   }
  },
  {
   "cell_type": "code",
   "execution_count": 107,
   "outputs": [
    {
     "data": {
      "text/plain": "1"
     },
     "execution_count": 107,
     "metadata": {},
     "output_type": "execute_result"
    }
   ],
   "source": [
    "test_arr_nb_pred_ss.min()"
   ],
   "metadata": {
    "collapsed": false,
    "ExecuteTime": {
     "end_time": "2023-09-25T20:01:30.825488800Z",
     "start_time": "2023-09-25T20:01:30.741144500Z"
    }
   }
  },
  {
   "cell_type": "code",
   "execution_count": 108,
   "outputs": [
    {
     "data": {
      "text/plain": "dict_keys([1, 2, 3, 4, 5, 6])"
     },
     "execution_count": 108,
     "metadata": {},
     "output_type": "execute_result"
    }
   ],
   "source": [
    "categoreis_map_inverted.keys()"
   ],
   "metadata": {
    "collapsed": false,
    "ExecuteTime": {
     "end_time": "2023-09-25T20:02:04.812209Z",
     "start_time": "2023-09-25T20:02:04.719723600Z"
    }
   }
  },
  {
   "cell_type": "code",
   "execution_count": 122,
   "outputs": [
    {
     "data": {
      "text/plain": "<Figure size 640x480 with 1 Axes>",
      "image/png": "[encoded data removed]"
     },
     "metadata": {},
     "output_type": "display_data"
    }
   ],
   "source": [
    "from matplotlib.colors import ListedColormap\n",
    "import earthpy.plot as ep\n",
    "\n",
    "# im = ep.plot_bands(test_arr_nb_pred_ss,\n",
    "#                    vmin=1, vmax=6,\n",
    "#               cmap=ListedColormap(['green', 'purple', 'orange', 'blue', 'yellow','red']))\n",
    "#ep.make_col_list()\n",
    "im = plt.imshow(test_arr_nb_pred_ss,\n",
    "           vmin=1,vmax=6,\n",
    "               cmap=ListedColormap(['blue', 'green', 'orange', 'grey', 'yellow','brown']))\n",
    "ep.draw_legend(im_ax = im, titles = [\"water\",\"forest\",\"fields\",\"city\",\"sands\"])\n",
    "# leg_neg = ep.draw_legend(im_ax = im, titles = categoreis_map_inverted.values())\n",
    "#plt.show()\n",
    "#im.legend(list(categoreis_map_inverted.values()))\n",
    "# cbar = plt.colorbar(fraction=0.046, pad=0.04)\n",
    "# #\n",
    "# cbar.set_ticks(list(categoreis_map_inverted.keys()))\n",
    "# cbar.set_ticklabels(list(categoreis_map_inverted.values()))\n",
    "\n",
    "plt.show()"
   ],
   "metadata": {
    "collapsed": false,
    "ExecuteTime": {
     "end_time": "2023-09-25T20:16:50.228543200Z",
     "start_time": "2023-09-25T20:16:50.050655900Z"
    }
   }
  },
  {
   "cell_type": "code",
   "execution_count": 262,
   "outputs": [
    {
     "data": {
      "text/plain": "{'water': 1, 'forest': 2, 'fields': 3, 'city': 4, 'sands': 5, 'mountains': 6}"
     },
     "execution_count": 262,
     "metadata": {},
     "output_type": "execute_result"
    }
   ],
   "source": [
    "categories_map"
   ],
   "metadata": {
    "collapsed": false,
    "ExecuteTime": {
     "end_time": "2023-09-24T11:05:16.604876500Z",
     "start_time": "2023-09-24T11:05:16.491626700Z"
    }
   }
  },
  {
   "cell_type": "code",
   "execution_count": null,
   "outputs": [],
   "source": [],
   "metadata": {
    "collapsed": false
   }
  },
  {
   "cell_type": "markdown",
   "source": [
    "### Test KNNC"
   ],
   "metadata": {
    "collapsed": false
   }
  },
  {
   "cell_type": "code",
   "execution_count": 293,
   "outputs": [
    {
     "data": {
      "text/plain": "(9256960, 7)"
     },
     "execution_count": 293,
     "metadata": {},
     "output_type": "execute_result"
    }
   ],
   "source": [
    "y_train_111.shape"
   ],
   "metadata": {
    "collapsed": false,
    "ExecuteTime": {
     "end_time": "2023-09-24T14:31:14.327592800Z",
     "start_time": "2023-09-24T14:31:14.274974800Z"
    }
   }
  },
  {
   "cell_type": "code",
   "execution_count": 34,
   "outputs": [],
   "source": [
    "import layers.knnc\n",
    "importlib.reload(layers.knnc)\n",
    "# model_new_knn = tf.keras.models.Sequential([\n",
    "#     layers.knnc.KNNLayer(k=3, num_classes=6,input_shape=(12,)),\n",
    "#     Activation(\"softmax\")\n",
    "#     ])\n",
    "\n",
    "# Sample usage\n",
    "\n",
    "model_knnc = tf.keras.models.Sequential([\n",
    "    layers.knnc.KNNClassifierLayer2(k=3,X_train = x_train_111, y_train = y_int_labels, input_shape=(12,)),\n",
    "    Activation(\"softmax\")\n",
    "])\n",
    "\n",
    "# Assuming you've trained or set the weights, you can then save the model:\n",
    "#save_model(model, 'naive_bayes_model.h5')"
   ],
   "metadata": {
    "collapsed": false,
    "ExecuteTime": {
     "end_time": "2023-09-24T19:38:07.572542900Z",
     "start_time": "2023-09-24T19:37:32.017352600Z"
    }
   }
  },
  {
   "cell_type": "code",
   "execution_count": 62,
   "outputs": [
    {
     "data": {
      "text/plain": "<module 'layers.knnc' from '/mnt/d/aspiranture/Satellite_Imagery_Analysis/Classification/layers/knnc.py'>"
     },
     "execution_count": 62,
     "metadata": {},
     "output_type": "execute_result"
    }
   ],
   "source": [
    "importlib.reload(layers.knnc)"
   ],
   "metadata": {
    "collapsed": false,
    "ExecuteTime": {
     "end_time": "2023-09-24T18:07:31.743477700Z",
     "start_time": "2023-09-24T18:07:31.558839700Z"
    }
   }
  },
  {
   "cell_type": "code",
   "execution_count": 35,
   "outputs": [
    {
     "name": "stdout",
     "output_type": "stream",
     "text": [
      "Model: \"sequential\"\n",
      "_________________________________________________________________\n",
      " Layer (type)                Output Shape              Param #   \n",
      "=================================================================\n",
      " knn_classifier_layer2 (KNN  (None, 6)                 0         \n",
      " ClassifierLayer2)                                               \n",
      "                                                                 \n",
      " activation (Activation)     (None, 6)                 0         \n",
      "                                                                 \n",
      "=================================================================\n",
      "Total params: 0 (0.00 Byte)\n",
      "Trainable params: 0 (0.00 Byte)\n",
      "Non-trainable params: 0 (0.00 Byte)\n",
      "_________________________________________________________________\n"
     ]
    }
   ],
   "source": [
    "model_knnc.compile(loss='categorical_crossentropy', optimizer='adam', metrics=['accuracy','mse'])\n",
    "model_knnc.summary()"
   ],
   "metadata": {
    "collapsed": false,
    "ExecuteTime": {
     "end_time": "2023-09-24T19:38:40.064865700Z",
     "start_time": "2023-09-24T19:38:39.983772Z"
    }
   }
  },
  {
   "cell_type": "code",
   "execution_count": null,
   "outputs": [
    {
     "name": "stderr",
     "output_type": "stream",
     "text": [
      "/home/andrew/miniconda3/envs/segmentation-new/lib/python3.11/site-packages/keras/src/engine/training.py:3000: UserWarning: You are saving your model as an HDF5 file via `model.save()`. This file format is considered legacy. We recommend using instead the native Keras format, e.g. `model.save('my_model.keras')`.\n",
      "  saving_api.save_model(\n"
     ]
    }
   ],
   "source": [
    "model_knnc.save(\"kncc.h5\", save_format='h5')"
   ],
   "metadata": {
    "collapsed": false,
    "ExecuteTime": {
     "start_time": "2023-09-24T19:48:02.752050700Z"
    }
   }
  },
  {
   "cell_type": "code",
   "execution_count": 69,
   "outputs": [
    {
     "name": "stdout",
     "output_type": "stream",
     "text": [
      "   1/1364 [..............................] - ETA: 3:29"
     ]
    },
    {
     "name": "stderr",
     "output_type": "stream",
     "text": [
      "2023-09-24 21:18:12.386453: W tensorflow/core/grappler/costs/op_level_cost_estimator.cc:693] Error in PredictCost() for the op: op: \"Softmax\" attr { key: \"T\" value { type: DT_FLOAT } } attr { key: \"_has_manual_control_dependencies\" value { b: true } } inputs { dtype: DT_FLOAT shape { unknown_rank: true } } device { type: \"GPU\" vendor: \"NVIDIA\" model: \"NVIDIA GeForce RTX 3090\" frequency: 1740 num_cores: 82 environment { key: \"architecture\" value: \"8.6\" } environment { key: \"cuda\" value: \"11080\" } environment { key: \"cudnn\" value: \"8600\" } num_registers: 65536 l1_cache_size: 24576 l2_cache_size: 6291456 shared_memory_size_per_multiprocessor: 102400 memory_size: 22842179584 bandwidth: 936096000 } outputs { dtype: DT_FLOAT shape { unknown_rank: true } }\n"
     ]
    },
    {
     "name": "stdout",
     "output_type": "stream",
     "text": [
      "1364/1364 [==============================] - 166s 122ms/step\n"
     ]
    }
   ],
   "source": [
    "predictions_knnc = model_knnc.predict(test_arr_to_pred, batch_size=512)"
   ],
   "metadata": {
    "collapsed": false,
    "ExecuteTime": {
     "end_time": "2023-09-24T18:20:59.064258100Z",
     "start_time": "2023-09-24T18:18:12.239077100Z"
    }
   }
  },
  {
   "cell_type": "code",
   "execution_count": 70,
   "outputs": [
    {
     "data": {
      "text/plain": "(697972, 6)"
     },
     "execution_count": 70,
     "metadata": {},
     "output_type": "execute_result"
    }
   ],
   "source": [
    "predictions_knnc.shape"
   ],
   "metadata": {
    "collapsed": false,
    "ExecuteTime": {
     "end_time": "2023-09-24T18:21:02.426696300Z",
     "start_time": "2023-09-24T18:21:02.373375500Z"
    }
   }
  },
  {
   "cell_type": "code",
   "execution_count": 1,
   "outputs": [
    {
     "ename": "NameError",
     "evalue": "name 'test_arr_knn_pred_ss' is not defined",
     "output_type": "error",
     "traceback": [
      "\u001B[0;31m---------------------------------------------------------------------------\u001B[0m",
      "\u001B[0;31mNameError\u001B[0m                                 Traceback (most recent call last)",
      "Cell \u001B[0;32mIn[1], line 1\u001B[0m\n\u001B[0;32m----> 1\u001B[0m test_arr_knn_pred_ss \u001B[38;5;241m=\u001B[39m \u001B[43mtest_arr_knn_pred_ss\u001B[49m \u001B[38;5;241m+\u001B[39m \u001B[38;5;241m1\u001B[39m\n",
      "\u001B[0;31mNameError\u001B[0m: name 'test_arr_knn_pred_ss' is not defined"
     ]
    }
   ],
   "source": [],
   "metadata": {
    "collapsed": false,
    "ExecuteTime": {
     "end_time": "2023-09-24T20:16:01.228713500Z",
     "start_time": "2023-09-24T20:16:01.118141300Z"
    }
   }
  },
  {
   "cell_type": "code",
   "execution_count": 2,
   "outputs": [
    {
     "ename": "NameError",
     "evalue": "name 'tf' is not defined",
     "output_type": "error",
     "traceback": [
      "\u001B[0;31m---------------------------------------------------------------------------\u001B[0m",
      "\u001B[0;31mNameError\u001B[0m                                 Traceback (most recent call last)",
      "Cell \u001B[0;32mIn[2], line 1\u001B[0m\n\u001B[0;32m----> 1\u001B[0m test_arr_knn_pred \u001B[38;5;241m=\u001B[39m \u001B[43mtf\u001B[49m\u001B[38;5;241m.\u001B[39margmax(predictions_knnc, axis\u001B[38;5;241m=\u001B[39m\u001B[38;5;241m-\u001B[39m\u001B[38;5;241m1\u001B[39m)\n\u001B[1;32m      2\u001B[0m test_arr_knn_pred_ss \u001B[38;5;241m=\u001B[39m test_arr_knn_pred\u001B[38;5;241m.\u001B[39mnumpy()\u001B[38;5;241m.\u001B[39mreshape(\u001B[38;5;241m638\u001B[39m, \u001B[38;5;241m1094\u001B[39m)\n\u001B[1;32m      3\u001B[0m \u001B[38;5;28;01mfrom\u001B[39;00m \u001B[38;5;21;01mmatplotlib\u001B[39;00m\u001B[38;5;21;01m.\u001B[39;00m\u001B[38;5;21;01mcolors\u001B[39;00m \u001B[38;5;28;01mimport\u001B[39;00m ListedColormap\n",
      "\u001B[0;31mNameError\u001B[0m: name 'tf' is not defined"
     ]
    }
   ],
   "source": [
    "test_arr_knn_pred = tf.argmax(predictions_knnc, axis=-1)\n",
    "test_arr_knn_pred_ss = test_arr_knn_pred.numpy().reshape(638, 1094)\n",
    "from matplotlib.colors import ListedColormap\n",
    "import earthpy.plot as ep\n",
    "\n",
    "test_arr_knn_pred_ss = test_arr_knn_pred_ss + 1\n",
    "\n",
    "ep.plot_bands(test_arr_knn_pred_ss,\n",
    "              cmap=ListedColormap(['green', 'purple', 'orange', 'blue', 'yellow']))"
   ],
   "metadata": {
    "collapsed": false,
    "ExecuteTime": {
     "end_time": "2023-09-24T20:16:07.513336100Z",
     "start_time": "2023-09-24T20:16:07.465153900Z"
    }
   }
  },
  {
   "cell_type": "code",
   "execution_count": null,
   "outputs": [],
   "source": [],
   "metadata": {
    "collapsed": false
   }
  }
 ],
 "metadata": {
  "kernelspec": {
   "display_name": "Python 3",
   "language": "python",
   "name": "python3"
  },
  "language_info": {
   "codemirror_mode": {
    "name": "ipython",
    "version": 2
   },
   "file_extension": ".py",
   "mimetype": "text/x-python",
   "name": "python",
   "nbconvert_exporter": "python",
   "pygments_lexer": "ipython2",
   "version": "2.7.6"
  }
 },
 "nbformat": 4,
 "nbformat_minor": 0
}
