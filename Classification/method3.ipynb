{
 "cells": [
  {
   "cell_type": "code",
   "execution_count": 1,
   "metadata": {
    "collapsed": true
   },
   "outputs": [
    {
     "data": {
      "text/plain": "{'divide': 'warn', 'over': 'warn', 'under': 'ignore', 'invalid': 'warn'}"
     },
     "execution_count": 1,
     "metadata": {},
     "output_type": "execute_result"
    }
   ],
   "source": [
    "from glob import glob\n",
    "\n",
    "import earthpy as et\n",
    "import earthpy.spatial as es\n",
    "import earthpy.plot as ep\n",
    "\n",
    "import rasterio as rio\n",
    "from rasterio.plot import plotting_extent\n",
    "from rasterio.plot import show\n",
    "from rasterio.plot import reshape_as_raster, reshape_as_image\n",
    "\n",
    "import matplotlib.pyplot as plt\n",
    "import numpy as np\n",
    "from matplotlib.colors import ListedColormap\n",
    "\n",
    "from scipy.io import loadmat\n",
    "from sklearn.metrics import classification_report, accuracy_score\n",
    "\n",
    "import plotly.graph_objects as go\n",
    "\n",
    "np.seterr(divide='ignore', invalid='ignore')"
   ]
  },
  {
   "cell_type": "code",
   "execution_count": 2,
   "outputs": [],
   "source": [
    "def getFilesNewForY(basePath):\n",
    "    dirs = glob(basePath+\"/*/\")\n",
    "    print(dirs)\n",
    "    #print(dirs)\n",
    "    for _dir in dirs:\n",
    "        files = glob(_dir+\"*Scene_classification*.tiff\")\n",
    "        file = files[0]\n",
    "        #print(files)\n",
    "        yield file"
   ],
   "metadata": {
    "collapsed": false
   }
  },
  {
   "cell_type": "code",
   "execution_count": 3,
   "outputs": [
    {
     "name": "stdout",
     "output_type": "stream",
     "text": [
      "['/tmp/shared/dataset4/5/', '/tmp/shared/dataset4/7/', '/tmp/shared/dataset4/6/', '/tmp/shared/dataset4/4/', '/tmp/shared/dataset4/1/', '/tmp/shared/dataset4/3/', '/tmp/shared/dataset4/8/', '/tmp/shared/dataset4/2/']\n"
     ]
    },
    {
     "data": {
      "text/plain": "['/tmp/shared/dataset4/5/2022-10-11-00_00_2022-10-11-23_59_Sentinel-2_L2A_Scene_classification_map.tiff',\n '/tmp/shared/dataset4/7/2022-10-11-00_00_2022-10-11-23_59_Sentinel-2_L2A_Scene_classification_map.tiff',\n '/tmp/shared/dataset4/6/2022-10-11-00_00_2022-10-11-23_59_Sentinel-2_L2A_Scene_classification_map.tiff',\n '/tmp/shared/dataset4/4/2022-10-11-00_00_2022-10-11-23_59_Sentinel-2_L2A_Scene_classification_map.tiff',\n '/tmp/shared/dataset4/1/2022-11-14-00_00_2022-11-14-23_59_Sentinel-2_L2A_Scene_classification_map.tiff',\n '/tmp/shared/dataset4/3/2022-10-11-00_00_2022-10-11-23_59_Sentinel-2_L2A_Scene_classification_map.tiff',\n '/tmp/shared/dataset4/8/2022-10-11-00_00_2022-10-11-23_59_Sentinel-2_L2A_Scene_classification_map.tiff',\n '/tmp/shared/dataset4/2/2022-10-11-00_00_2022-10-11-23_59_Sentinel-2_L2A_Scene_classification_map.tiff']"
     },
     "execution_count": 3,
     "metadata": {},
     "output_type": "execute_result"
    }
   ],
   "source": [
    "fileNamesY = list(getFilesNewForY(\"/tmp/shared/dataset4\"))\n",
    "fileNamesY"
   ],
   "metadata": {
    "collapsed": false
   }
  },
  {
   "cell_type": "code",
   "execution_count": 4,
   "outputs": [],
   "source": [
    "def getFilesNew(basePath):\n",
    "    dirs = glob(basePath+\"/*/\")\n",
    "    #print(dirs)\n",
    "    for _dir in dirs:\n",
    "        files = glob(_dir+\"*B?*.tiff\")\n",
    "        #print(files)\n",
    "        yield files"
   ],
   "metadata": {
    "collapsed": false
   }
  },
  {
   "cell_type": "code",
   "execution_count": 5,
   "outputs": [
    {
     "data": {
      "text/plain": "[['/tmp/shared/dataset4/5/2022-10-11-00_00_2022-10-11-23_59_Sentinel-2_L2A_B01_(Raw).tiff',\n  '/tmp/shared/dataset4/5/2022-10-11-00_00_2022-10-11-23_59_Sentinel-2_L2A_B11_(Raw).tiff',\n  '/tmp/shared/dataset4/5/2022-10-11-00_00_2022-10-11-23_59_Sentinel-2_L2A_B09_(Raw).tiff',\n  '/tmp/shared/dataset4/5/2022-10-11-00_00_2022-10-11-23_59_Sentinel-2_L2A_B8A_(Raw).tiff',\n  '/tmp/shared/dataset4/5/2022-10-11-00_00_2022-10-11-23_59_Sentinel-2_L2A_B12_(Raw).tiff',\n  '/tmp/shared/dataset4/5/2022-10-11-00_00_2022-10-11-23_59_Sentinel-2_L2A_B03_(Raw).tiff',\n  '/tmp/shared/dataset4/5/2022-10-11-00_00_2022-10-11-23_59_Sentinel-2_L2A_B02_(Raw).tiff',\n  '/tmp/shared/dataset4/5/2022-10-11-00_00_2022-10-11-23_59_Sentinel-2_L2A_B05_(Raw).tiff',\n  '/tmp/shared/dataset4/5/2022-10-11-00_00_2022-10-11-23_59_Sentinel-2_L2A_B07_(Raw).tiff',\n  '/tmp/shared/dataset4/5/2022-10-11-00_00_2022-10-11-23_59_Sentinel-2_L2A_B04_(Raw).tiff',\n  '/tmp/shared/dataset4/5/2022-10-11-00_00_2022-10-11-23_59_Sentinel-2_L2A_B08_(Raw).tiff',\n  '/tmp/shared/dataset4/5/2022-10-11-00_00_2022-10-11-23_59_Sentinel-2_L2A_B06_(Raw).tiff'],\n ['/tmp/shared/dataset4/7/2022-10-11-00_00_2022-10-11-23_59_Sentinel-2_L2A_B01_(Raw).tiff',\n  '/tmp/shared/dataset4/7/2022-10-11-00_00_2022-10-11-23_59_Sentinel-2_L2A_B11_(Raw).tiff',\n  '/tmp/shared/dataset4/7/2022-10-11-00_00_2022-10-11-23_59_Sentinel-2_L2A_B09_(Raw).tiff',\n  '/tmp/shared/dataset4/7/2022-10-11-00_00_2022-10-11-23_59_Sentinel-2_L2A_B8A_(Raw).tiff',\n  '/tmp/shared/dataset4/7/2022-10-11-00_00_2022-10-11-23_59_Sentinel-2_L2A_B12_(Raw).tiff',\n  '/tmp/shared/dataset4/7/2022-10-11-00_00_2022-10-11-23_59_Sentinel-2_L2A_B03_(Raw).tiff',\n  '/tmp/shared/dataset4/7/2022-10-11-00_00_2022-10-11-23_59_Sentinel-2_L2A_B02_(Raw).tiff',\n  '/tmp/shared/dataset4/7/2022-10-11-00_00_2022-10-11-23_59_Sentinel-2_L2A_B05_(Raw).tiff',\n  '/tmp/shared/dataset4/7/2022-10-11-00_00_2022-10-11-23_59_Sentinel-2_L2A_B07_(Raw).tiff',\n  '/tmp/shared/dataset4/7/2022-10-11-00_00_2022-10-11-23_59_Sentinel-2_L2A_B04_(Raw).tiff',\n  '/tmp/shared/dataset4/7/2022-10-11-00_00_2022-10-11-23_59_Sentinel-2_L2A_B08_(Raw).tiff',\n  '/tmp/shared/dataset4/7/2022-10-11-00_00_2022-10-11-23_59_Sentinel-2_L2A_B06_(Raw).tiff'],\n ['/tmp/shared/dataset4/6/2022-10-11-00_00_2022-10-11-23_59_Sentinel-2_L2A_B01_(Raw).tiff',\n  '/tmp/shared/dataset4/6/2022-10-11-00_00_2022-10-11-23_59_Sentinel-2_L2A_B11_(Raw).tiff',\n  '/tmp/shared/dataset4/6/2022-10-11-00_00_2022-10-11-23_59_Sentinel-2_L2A_B09_(Raw).tiff',\n  '/tmp/shared/dataset4/6/2022-10-11-00_00_2022-10-11-23_59_Sentinel-2_L2A_B8A_(Raw).tiff',\n  '/tmp/shared/dataset4/6/2022-10-11-00_00_2022-10-11-23_59_Sentinel-2_L2A_B12_(Raw).tiff',\n  '/tmp/shared/dataset4/6/2022-10-11-00_00_2022-10-11-23_59_Sentinel-2_L2A_B03_(Raw).tiff',\n  '/tmp/shared/dataset4/6/2022-10-11-00_00_2022-10-11-23_59_Sentinel-2_L2A_B02_(Raw).tiff',\n  '/tmp/shared/dataset4/6/2022-10-11-00_00_2022-10-11-23_59_Sentinel-2_L2A_B05_(Raw).tiff',\n  '/tmp/shared/dataset4/6/2022-10-11-00_00_2022-10-11-23_59_Sentinel-2_L2A_B07_(Raw).tiff',\n  '/tmp/shared/dataset4/6/2022-10-11-00_00_2022-10-11-23_59_Sentinel-2_L2A_B04_(Raw).tiff',\n  '/tmp/shared/dataset4/6/2022-10-11-00_00_2022-10-11-23_59_Sentinel-2_L2A_B08_(Raw).tiff',\n  '/tmp/shared/dataset4/6/2022-10-11-00_00_2022-10-11-23_59_Sentinel-2_L2A_B06_(Raw).tiff'],\n ['/tmp/shared/dataset4/4/2022-10-11-00_00_2022-10-11-23_59_Sentinel-2_L2A_B01_(Raw).tiff',\n  '/tmp/shared/dataset4/4/2022-10-11-00_00_2022-10-11-23_59_Sentinel-2_L2A_B11_(Raw).tiff',\n  '/tmp/shared/dataset4/4/2022-10-11-00_00_2022-10-11-23_59_Sentinel-2_L2A_B09_(Raw).tiff',\n  '/tmp/shared/dataset4/4/2022-10-11-00_00_2022-10-11-23_59_Sentinel-2_L2A_B8A_(Raw).tiff',\n  '/tmp/shared/dataset4/4/2022-10-11-00_00_2022-10-11-23_59_Sentinel-2_L2A_B12_(Raw).tiff',\n  '/tmp/shared/dataset4/4/2022-10-11-00_00_2022-10-11-23_59_Sentinel-2_L2A_B03_(Raw).tiff',\n  '/tmp/shared/dataset4/4/2022-10-11-00_00_2022-10-11-23_59_Sentinel-2_L2A_B02_(Raw).tiff',\n  '/tmp/shared/dataset4/4/2022-10-11-00_00_2022-10-11-23_59_Sentinel-2_L2A_B05_(Raw).tiff',\n  '/tmp/shared/dataset4/4/2022-10-11-00_00_2022-10-11-23_59_Sentinel-2_L2A_B07_(Raw).tiff',\n  '/tmp/shared/dataset4/4/2022-10-11-00_00_2022-10-11-23_59_Sentinel-2_L2A_B04_(Raw).tiff',\n  '/tmp/shared/dataset4/4/2022-10-11-00_00_2022-10-11-23_59_Sentinel-2_L2A_B08_(Raw).tiff',\n  '/tmp/shared/dataset4/4/2022-10-11-00_00_2022-10-11-23_59_Sentinel-2_L2A_B06_(Raw).tiff'],\n ['/tmp/shared/dataset4/1/2022-11-14-00_00_2022-11-14-23_59_Sentinel-2_L2A_B03_(Raw).tiff',\n  '/tmp/shared/dataset4/1/2022-11-14-00_00_2022-11-14-23_59_Sentinel-2_L2A_B8A_(Raw).tiff',\n  '/tmp/shared/dataset4/1/2022-11-14-00_00_2022-11-14-23_59_Sentinel-2_L2A_B09_(Raw).tiff',\n  '/tmp/shared/dataset4/1/2022-11-14-00_00_2022-11-14-23_59_Sentinel-2_L2A_B01_(Raw).tiff',\n  '/tmp/shared/dataset4/1/2022-11-14-00_00_2022-11-14-23_59_Sentinel-2_L2A_B04_(Raw).tiff',\n  '/tmp/shared/dataset4/1/2022-11-14-00_00_2022-11-14-23_59_Sentinel-2_L2A_B05_(Raw).tiff',\n  '/tmp/shared/dataset4/1/2022-11-14-00_00_2022-11-14-23_59_Sentinel-2_L2A_B08_(Raw).tiff',\n  '/tmp/shared/dataset4/1/2022-11-14-00_00_2022-11-14-23_59_Sentinel-2_L2A_B06_(Raw).tiff',\n  '/tmp/shared/dataset4/1/2022-11-14-00_00_2022-11-14-23_59_Sentinel-2_L2A_B07_(Raw).tiff',\n  '/tmp/shared/dataset4/1/2022-11-14-00_00_2022-11-14-23_59_Sentinel-2_L2A_B12_(Raw).tiff',\n  '/tmp/shared/dataset4/1/2022-11-14-00_00_2022-11-14-23_59_Sentinel-2_L2A_B02_(Raw).tiff',\n  '/tmp/shared/dataset4/1/2022-11-14-00_00_2022-11-14-23_59_Sentinel-2_L2A_B11_(Raw).tiff'],\n ['/tmp/shared/dataset4/3/2022-10-11-00_00_2022-10-11-23_59_Sentinel-2_L2A_B01_(Raw).tiff',\n  '/tmp/shared/dataset4/3/2022-10-11-00_00_2022-10-11-23_59_Sentinel-2_L2A_B11_(Raw).tiff',\n  '/tmp/shared/dataset4/3/2022-10-11-00_00_2022-10-11-23_59_Sentinel-2_L2A_B09_(Raw).tiff',\n  '/tmp/shared/dataset4/3/2022-10-11-00_00_2022-10-11-23_59_Sentinel-2_L2A_B8A_(Raw).tiff',\n  '/tmp/shared/dataset4/3/2022-10-11-00_00_2022-10-11-23_59_Sentinel-2_L2A_B12_(Raw).tiff',\n  '/tmp/shared/dataset4/3/2022-10-11-00_00_2022-10-11-23_59_Sentinel-2_L2A_B03_(Raw).tiff',\n  '/tmp/shared/dataset4/3/2022-10-11-00_00_2022-10-11-23_59_Sentinel-2_L2A_B02_(Raw).tiff',\n  '/tmp/shared/dataset4/3/2022-10-11-00_00_2022-10-11-23_59_Sentinel-2_L2A_B05_(Raw).tiff',\n  '/tmp/shared/dataset4/3/2022-10-11-00_00_2022-10-11-23_59_Sentinel-2_L2A_B07_(Raw).tiff',\n  '/tmp/shared/dataset4/3/2022-10-11-00_00_2022-10-11-23_59_Sentinel-2_L2A_B04_(Raw).tiff',\n  '/tmp/shared/dataset4/3/2022-10-11-00_00_2022-10-11-23_59_Sentinel-2_L2A_B08_(Raw).tiff',\n  '/tmp/shared/dataset4/3/2022-10-11-00_00_2022-10-11-23_59_Sentinel-2_L2A_B06_(Raw).tiff'],\n ['/tmp/shared/dataset4/8/2022-10-11-00_00_2022-10-11-23_59_Sentinel-2_L2A_B01_(Raw).tiff',\n  '/tmp/shared/dataset4/8/2022-10-11-00_00_2022-10-11-23_59_Sentinel-2_L2A_B11_(Raw).tiff',\n  '/tmp/shared/dataset4/8/2022-10-11-00_00_2022-10-11-23_59_Sentinel-2_L2A_B09_(Raw).tiff',\n  '/tmp/shared/dataset4/8/2022-10-11-00_00_2022-10-11-23_59_Sentinel-2_L2A_B8A_(Raw).tiff',\n  '/tmp/shared/dataset4/8/2022-10-11-00_00_2022-10-11-23_59_Sentinel-2_L2A_B12_(Raw).tiff',\n  '/tmp/shared/dataset4/8/2022-10-11-00_00_2022-10-11-23_59_Sentinel-2_L2A_B03_(Raw).tiff',\n  '/tmp/shared/dataset4/8/2022-10-11-00_00_2022-10-11-23_59_Sentinel-2_L2A_B02_(Raw).tiff',\n  '/tmp/shared/dataset4/8/2022-10-11-00_00_2022-10-11-23_59_Sentinel-2_L2A_B05_(Raw).tiff',\n  '/tmp/shared/dataset4/8/2022-10-11-00_00_2022-10-11-23_59_Sentinel-2_L2A_B07_(Raw).tiff',\n  '/tmp/shared/dataset4/8/2022-10-11-00_00_2022-10-11-23_59_Sentinel-2_L2A_B04_(Raw).tiff',\n  '/tmp/shared/dataset4/8/2022-10-11-00_00_2022-10-11-23_59_Sentinel-2_L2A_B08_(Raw).tiff',\n  '/tmp/shared/dataset4/8/2022-10-11-00_00_2022-10-11-23_59_Sentinel-2_L2A_B06_(Raw).tiff'],\n ['/tmp/shared/dataset4/2/2022-10-11-00_00_2022-10-11-23_59_Sentinel-2_L2A_B01_(Raw).tiff',\n  '/tmp/shared/dataset4/2/2022-10-11-00_00_2022-10-11-23_59_Sentinel-2_L2A_B11_(Raw).tiff',\n  '/tmp/shared/dataset4/2/2022-10-11-00_00_2022-10-11-23_59_Sentinel-2_L2A_B09_(Raw).tiff',\n  '/tmp/shared/dataset4/2/2022-10-11-00_00_2022-10-11-23_59_Sentinel-2_L2A_B8A_(Raw).tiff',\n  '/tmp/shared/dataset4/2/2022-10-11-00_00_2022-10-11-23_59_Sentinel-2_L2A_B12_(Raw).tiff',\n  '/tmp/shared/dataset4/2/2022-10-11-00_00_2022-10-11-23_59_Sentinel-2_L2A_B03_(Raw).tiff',\n  '/tmp/shared/dataset4/2/2022-10-11-00_00_2022-10-11-23_59_Sentinel-2_L2A_B02_(Raw).tiff',\n  '/tmp/shared/dataset4/2/2022-10-11-00_00_2022-10-11-23_59_Sentinel-2_L2A_B05_(Raw).tiff',\n  '/tmp/shared/dataset4/2/2022-10-11-00_00_2022-10-11-23_59_Sentinel-2_L2A_B07_(Raw).tiff',\n  '/tmp/shared/dataset4/2/2022-10-11-00_00_2022-10-11-23_59_Sentinel-2_L2A_B04_(Raw).tiff',\n  '/tmp/shared/dataset4/2/2022-10-11-00_00_2022-10-11-23_59_Sentinel-2_L2A_B08_(Raw).tiff',\n  '/tmp/shared/dataset4/2/2022-10-11-00_00_2022-10-11-23_59_Sentinel-2_L2A_B06_(Raw).tiff']]"
     },
     "execution_count": 5,
     "metadata": {},
     "output_type": "execute_result"
    }
   ],
   "source": [
    "fileNamesX = list(getFilesNew(\"/tmp/shared/dataset4\"))\n",
    "fileNamesX"
   ],
   "metadata": {
    "collapsed": false
   }
  },
  {
   "cell_type": "code",
   "execution_count": 6,
   "outputs": [],
   "source": [
    "def getFilesArrayNew(paths):\n",
    "    l = []\n",
    "    for i in paths:\n",
    "        s = []\n",
    "        for j in i:\n",
    "            with rio.open(j, 'r') as f:\n",
    "                s.append(f.read(1))\n",
    "        l.append(s)\n",
    "    arr_st_new = np.stack(l)\n",
    "    return  arr_st_new"
   ],
   "metadata": {
    "collapsed": false
   }
  },
  {
   "cell_type": "code",
   "execution_count": 7,
   "outputs": [],
   "source": [
    "filesX_array = getFilesArrayNew(fileNamesX)"
   ],
   "metadata": {
    "collapsed": false
   }
  },
  {
   "cell_type": "code",
   "execution_count": 8,
   "outputs": [],
   "source": [
    "def getFilesArrayNewY(paths):\n",
    "    l = []\n",
    "    for i in paths:\n",
    "        with rio.open(i,'r') as f:\n",
    "            r = f.read(1)\n",
    "            g = f.read(2)\n",
    "            b =  f.read(3)\n",
    "            rgb_arr = [r, g ,b]\n",
    "            l.append(rgb_arr)\n",
    "            # l.append(rgb)\n",
    "    return l"
   ],
   "metadata": {
    "collapsed": false
   }
  },
  {
   "cell_type": "code",
   "execution_count": 9,
   "outputs": [
    {
     "data": {
      "text/plain": "(8, 3, 638, 1094)"
     },
     "execution_count": 9,
     "metadata": {},
     "output_type": "execute_result"
    }
   ],
   "source": [
    "_filexY_array = np.asarray(getFilesArrayNewY(fileNamesY))\n",
    "#_filexY_array = np.moveaxis(_filexY_array, 1,0)\n",
    "_filexY_array = np.asarray(_filexY_array * 255).astype(int)\n",
    "_filexY_array.shape"
   ],
   "metadata": {
    "collapsed": false
   }
  },
  {
   "cell_type": "code",
   "execution_count": 10,
   "outputs": [],
   "source": [
    "__filesY_array  = []\n",
    "for i in _filexY_array:\n",
    "    r = i[0]\n",
    "    g = i[1]\n",
    "    b = i[2]\n",
    "    rgb  = r\n",
    "    rgb = np.left_shift(rgb, 8) + g\n",
    "    rgb = np.left_shift(rgb, 8) + b\n",
    "    __filesY_array.append(rgb)"
   ],
   "metadata": {
    "collapsed": false
   }
  },
  {
   "cell_type": "code",
   "execution_count": 11,
   "outputs": [
    {
     "data": {
      "text/plain": "(8, 638, 1094)"
     },
     "execution_count": 11,
     "metadata": {},
     "output_type": "execute_result"
    }
   ],
   "source": [
    "filexY_array = np.asarray(__filesY_array)\n",
    "filexY_array.shape"
   ],
   "metadata": {
    "collapsed": false
   }
  },
  {
   "cell_type": "code",
   "execution_count": 12,
   "outputs": [
    {
     "name": "stdout",
     "output_type": "stream",
     "text": [
      "[       0      255    40960  6566400  6605055  8421504 12632256 16770650\n",
      " 16777215]\n"
     ]
    }
   ],
   "source": [
    "unique_valsY = np.unique(filexY_array)\n",
    "print(unique_valsY)\n",
    "filexY_array[filexY_array == 1] = 100"
   ],
   "metadata": {
    "collapsed": false
   }
  },
  {
   "cell_type": "markdown",
   "source": [
    "<p color=\"#000000\"> Category 1 </p>\n",
    "<p color=\"#0000ff\"> Category 2 </p>\n",
    "<p color=\"#00a000\"> Category 3 </p>\n",
    "<p color=\"#643200\"> Category 4 </p>\n",
    "<p color=\"#64C8FF\"> Category 5 </p>\n",
    "<p color=\"#808080\"> Category 6 </p>\n",
    "<p color=\"#C0C0C0\"> Category 7 </p>\n",
    "<p color=\"#FFE65A\"> Category 8 </p>\n",
    "<p color=\"#FFFFFF\"> Category 9 </p>\n"
   ],
   "metadata": {
    "collapsed": false
   }
  },
  {
   "cell_type": "code",
   "execution_count": 13,
   "outputs": [
    {
     "name": "stdout",
     "output_type": "stream",
     "text": [
      "category 0 count 115\n",
      "category 1 count 402595\n",
      "category 2 count 2514670\n",
      "category 3 count 13190\n",
      "category 4 count 6548\n",
      "category 5 count 335\n",
      "category 6 count 2097\n",
      "category 7 count 2642653\n",
      "category 8 count 1573\n"
     ]
    }
   ],
   "source": [
    "num_of_y = filexY_array.shape[0]*filexY_array.shape[1]*filexY_array.shape[2]\n",
    "cat1_c = np.count_nonzero(filexY_array == 0)\n",
    "cat2_c = np.count_nonzero(filexY_array == 255)\n",
    "cat3_c = np.count_nonzero(filexY_array == 40960)\n",
    "cat4_c = np.count_nonzero(filexY_array == 6566400)\n",
    "cat5_c = np.count_nonzero(filexY_array == 6605055)\n",
    "cat6_c = np.count_nonzero(filexY_array == 8421504)\n",
    "cat7_c = np.count_nonzero(filexY_array == 12632256)\n",
    "cat8_c = np.count_nonzero(filexY_array == 16770650)\n",
    "cat9_c = np.count_nonzero(filexY_array == 16777215)\n",
    "cat_all = []\n",
    "for idx, num in enumerate(unique_valsY):\n",
    "    cnt = np.count_nonzero(filexY_array == num)\n",
    "    print(\"category \" + str(idx) + \" count \" + str(cnt))\n",
    "    cat_all.append(cnt)\n"
   ],
   "metadata": {
    "collapsed": false
   }
  },
  {
   "cell_type": "code",
   "execution_count": 13,
   "outputs": [],
   "source": [],
   "metadata": {
    "collapsed": false
   }
  },
  {
   "cell_type": "code",
   "execution_count": 14,
   "outputs": [
    {
     "data": {
      "text/plain": "(array([6., 1., 0., 0., 0., 0., 0., 0., 0., 2.]),\n array([1.1500000e+02, 2.6436880e+05, 5.2862260e+05, 7.9287640e+05,\n        1.0571302e+06, 1.3213840e+06, 1.5856378e+06, 1.8498916e+06,\n        2.1141454e+06, 2.3783992e+06, 2.6426530e+06]),\n <BarContainer object of 10 artists>)"
     },
     "execution_count": 14,
     "metadata": {},
     "output_type": "execute_result"
    },
    {
     "data": {
      "text/plain": "<Figure size 640x480 with 1 Axes>",
      "image/png": "[encoded data removed]"
     },
     "metadata": {},
     "output_type": "display_data"
    }
   ],
   "source": [
    "plt.hist(np.asarray(cat_all))"
   ],
   "metadata": {
    "collapsed": false
   }
  },
  {
   "cell_type": "code",
   "execution_count": 16,
   "outputs": [],
   "source": [
    "for idx, i in enumerate(unique_valsY):\n",
    "        filexY_array [ filexY_array == i] = idx"
   ],
   "metadata": {
    "collapsed": false
   }
  },
  {
   "cell_type": "code",
   "execution_count": 17,
   "outputs": [
    {
     "name": "stdout",
     "output_type": "stream",
     "text": [
      "[0 1 2 3 4 5 6 7 8]\n"
     ]
    }
   ],
   "source": [
    "print(np.unique(filexY_array))"
   ],
   "metadata": {
    "collapsed": false
   }
  },
  {
   "cell_type": "code",
   "execution_count": 18,
   "outputs": [],
   "source": [
    "filexY_array [ filexY_array == 3] = 0\n",
    "filexY_array [ filexY_array == 4] = 0\n",
    "filexY_array [ filexY_array == 5] = 0\n",
    "filexY_array [ filexY_array == 6] = 0\n",
    "filexY_array [ filexY_array == 8] = 0"
   ],
   "metadata": {
    "collapsed": false
   }
  },
  {
   "cell_type": "code",
   "execution_count": 19,
   "outputs": [
    {
     "name": "stdout",
     "output_type": "stream",
     "text": [
      "[0 1 2 7]\n"
     ]
    }
   ],
   "source": [
    "print(np.unique(filexY_array))"
   ],
   "metadata": {
    "collapsed": false
   }
  },
  {
   "cell_type": "code",
   "execution_count": 20,
   "outputs": [],
   "source": [
    "filexY_array [ filexY_array == 7] = 3"
   ],
   "metadata": {
    "collapsed": false
   }
  },
  {
   "cell_type": "code",
   "execution_count": 21,
   "outputs": [
    {
     "data": {
      "text/plain": "(8, 12, 638, 1094)"
     },
     "execution_count": 21,
     "metadata": {},
     "output_type": "execute_result"
    }
   ],
   "source": [
    "x_np = np.asarray(filesX_array)\n",
    "x_np.shape"
   ],
   "metadata": {
    "collapsed": false
   }
  },
  {
   "cell_type": "code",
   "execution_count": 22,
   "outputs": [
    {
     "data": {
      "text/plain": "(8, 12, 608, 1024)"
     },
     "execution_count": 22,
     "metadata": {},
     "output_type": "execute_result"
    }
   ],
   "source": [
    "x_np2 = x_np[:,:,0:608,0:1024]\n",
    "x_np2.shape"
   ],
   "metadata": {
    "collapsed": false
   }
  },
  {
   "cell_type": "code",
   "execution_count": 23,
   "outputs": [
    {
     "data": {
      "text/plain": "(12, 8, 608, 1024)"
     },
     "execution_count": 23,
     "metadata": {},
     "output_type": "execute_result"
    }
   ],
   "source": [
    "x_np2 = np.moveaxis(x_np2,1,0)\n",
    "x_np2.shape"
   ],
   "metadata": {
    "collapsed": false
   }
  },
  {
   "cell_type": "code",
   "execution_count": 24,
   "outputs": [],
   "source": [
    "x_np_combined = x_np2.reshape(12,-1,1024)"
   ],
   "metadata": {
    "collapsed": false
   }
  },
  {
   "cell_type": "code",
   "execution_count": 25,
   "outputs": [
    {
     "data": {
      "text/plain": "(12, 4864, 1024)"
     },
     "execution_count": 25,
     "metadata": {},
     "output_type": "execute_result"
    }
   ],
   "source": [
    "x_np_combined.shape"
   ],
   "metadata": {
    "collapsed": false
   }
  },
  {
   "cell_type": "code",
   "execution_count": 26,
   "outputs": [
    {
     "data": {
      "text/plain": "(4864, 1024, 12)"
     },
     "execution_count": 26,
     "metadata": {},
     "output_type": "execute_result"
    }
   ],
   "source": [
    "x_np_combined = np.moveaxis(x_np_combined, 0, -1)\n",
    "x_np_combined.shape"
   ],
   "metadata": {
    "collapsed": false
   }
  },
  {
   "cell_type": "code",
   "execution_count": 27,
   "outputs": [],
   "source": [
    "x_data = x_np_combined.reshape(-1,32,32,12)"
   ],
   "metadata": {
    "collapsed": false
   }
  },
  {
   "cell_type": "code",
   "execution_count": 28,
   "outputs": [
    {
     "data": {
      "text/plain": "(4864, 32, 32, 12)"
     },
     "execution_count": 28,
     "metadata": {},
     "output_type": "execute_result"
    }
   ],
   "source": [
    "x_data.shape"
   ],
   "metadata": {
    "collapsed": false
   }
  },
  {
   "cell_type": "code",
   "execution_count": 29,
   "outputs": [
    {
     "data": {
      "text/plain": "(8, 638, 1094)"
     },
     "execution_count": 29,
     "metadata": {},
     "output_type": "execute_result"
    }
   ],
   "source": [
    "filexY_array.shape"
   ],
   "metadata": {
    "collapsed": false
   }
  },
  {
   "cell_type": "code",
   "execution_count": 30,
   "outputs": [
    {
     "data": {
      "text/plain": "(8, 608, 1024)"
     },
     "execution_count": 30,
     "metadata": {},
     "output_type": "execute_result"
    }
   ],
   "source": [
    "y_np =  filexY_array[:,0:608,0:1024]\n",
    "y_np.shape"
   ],
   "metadata": {
    "collapsed": false
   }
  },
  {
   "cell_type": "code",
   "execution_count": 31,
   "outputs": [
    {
     "data": {
      "text/plain": "(4864, 1024)"
     },
     "execution_count": 31,
     "metadata": {},
     "output_type": "execute_result"
    }
   ],
   "source": [
    "y_np2 = y_np.reshape(-1, 1024)\n",
    "y_np2.shape"
   ],
   "metadata": {
    "collapsed": false
   }
  },
  {
   "cell_type": "code",
   "execution_count": 32,
   "outputs": [
    {
     "data": {
      "text/plain": "(4864, 32, 32)"
     },
     "execution_count": 32,
     "metadata": {},
     "output_type": "execute_result"
    }
   ],
   "source": [
    "y_data = y_np2.reshape(-1, 32,32)\n",
    "y_data.shape"
   ],
   "metadata": {
    "collapsed": false
   }
  },
  {
   "cell_type": "code",
   "execution_count": 33,
   "outputs": [],
   "source": [
    "#Let's import some important Libraries\n",
    "import tensorflow as tf\n",
    "from keras.models import Sequential, Model\n",
    "from keras.layers import Dense, Input\n",
    "from keras.utils import np_utils\n",
    "import numpy as np # linear algebra\n",
    "import pandas as pd # data processing, CSV file I/O (e.g. pd.read_csv)\n",
    "import matplotlib.pyplot as plt\n",
    "import pandas as pd\n",
    "from keras.layers import *\n",
    "from keras.layers.convolutional import Conv2D\n",
    "from keras.layers.pooling import MaxPooling2D\n",
    "from keras.callbacks import EarlyStopping, ModelCheckpoint"
   ],
   "metadata": {
    "collapsed": false
   }
  },
  {
   "cell_type": "code",
   "execution_count": 34,
   "outputs": [],
   "source": [
    "y_cat = np_utils.to_categorical(y_data)"
   ],
   "metadata": {
    "collapsed": false
   }
  },
  {
   "cell_type": "code",
   "execution_count": 72,
   "outputs": [],
   "source": [
    "model_new = tf.keras.models.Sequential([\n",
    "    Conv2D(32,3,padding='same',input_shape=(32,32,12)),\n",
    "    Conv2D(32,3,padding='same',input_shape=(32,32,12)),\n",
    "    Activation('relu'),\n",
    "    MaxPooling2D(pool_size=(2,2)),\n",
    "    Dropout(0.7),\n",
    "\n",
    "    Conv2D(64,3, padding='same'),\n",
    "    Conv2D(64,3, padding='same'),\n",
    "    Activation('relu'),\n",
    "    MaxPooling2D(pool_size=(2,2),name='feature_layer'),\n",
    "    Dropout(0.7),\n",
    "\n",
    "    #We are naming this layer, as we will extract features from it in future, JUST WAIT !!!\n",
    "    Conv2D(128,3, padding='same'),\n",
    "    Conv2D(128,3, padding='same'),\n",
    "    Activation('relu'),\n",
    "    MaxPooling2D(pool_size=(2,2)),\n",
    "    Flatten(),\n",
    "    Dense(2048),\n",
    "    Activation('relu'),\n",
    "    Dropout(0.7),\n",
    "    Reshape((4,4,128)),\n",
    "    #Dense(128),\n",
    "    #Dense(256),\n",
    "    #Dense(128),\n",
    "    #Activation('relu'),\n",
    "    #Dropout(0.7),\n",
    "    #Reshape((4,4,128)),\n",
    "    UpSampling2D((2,2)),\n",
    "    Conv2D(128,3, padding='same'),\n",
    "    Conv2D(128,3, padding='same'),\n",
    "    Activation('relu'),\n",
    "    UpSampling2D((2,2)),\n",
    "    Dropout(0.7),\n",
    "    Conv2D(64,3, padding='same'),\n",
    "    Conv2D(64,3, padding='same'),\n",
    "    Activation('relu'),\n",
    "    UpSampling2D((2,2)),\n",
    "    Dropout(0.7),\n",
    "    Conv2D(32,3, padding='same'),\n",
    "    Conv2D(32,3, padding='same'),\n",
    "    Activation('relu'),\n",
    "    Conv2D(4,3,padding='same'),\n",
    "    # model.add(Flatten())\n",
    "    # model.add(Dense(24))\n",
    "    # model.add(Activation('relu'))\n",
    "    # model.add(Dropout(0.5))\n",
    "    # model.add(Dense(6))\n",
    "    Activation('softmax'),\n",
    "])"
   ],
   "metadata": {
    "collapsed": false
   }
  },
  {
   "cell_type": "code",
   "execution_count": 73,
   "outputs": [],
   "source": [
    "model_new.compile(loss='categorical_crossentropy',optimizer='adam',metrics=['accuracy'])"
   ],
   "metadata": {
    "collapsed": false
   }
  },
  {
   "cell_type": "code",
   "execution_count": 74,
   "outputs": [
    {
     "name": "stdout",
     "output_type": "stream",
     "text": [
      "Model: \"sequential_4\"\n",
      "_________________________________________________________________\n",
      " Layer (type)                Output Shape              Param #   \n",
      "=================================================================\n",
      " conv2d_52 (Conv2D)          (None, 32, 32, 32)        3488      \n",
      "                                                                 \n",
      " conv2d_53 (Conv2D)          (None, 32, 32, 32)        9248      \n",
      "                                                                 \n",
      " activation_30 (Activation)  (None, 32, 32, 32)        0         \n",
      "                                                                 \n",
      " max_pooling2d_8 (MaxPooling  (None, 16, 16, 32)       0         \n",
      " 2D)                                                             \n",
      "                                                                 \n",
      " dropout_18 (Dropout)        (None, 16, 16, 32)        0         \n",
      "                                                                 \n",
      " conv2d_54 (Conv2D)          (None, 16, 16, 64)        18496     \n",
      "                                                                 \n",
      " conv2d_55 (Conv2D)          (None, 16, 16, 64)        36928     \n",
      "                                                                 \n",
      " activation_31 (Activation)  (None, 16, 16, 64)        0         \n",
      "                                                                 \n",
      " feature_layer (MaxPooling2D  (None, 8, 8, 64)         0         \n",
      " )                                                               \n",
      "                                                                 \n",
      " dropout_19 (Dropout)        (None, 8, 8, 64)          0         \n",
      "                                                                 \n",
      " conv2d_56 (Conv2D)          (None, 8, 8, 128)         73856     \n",
      "                                                                 \n",
      " conv2d_57 (Conv2D)          (None, 8, 8, 128)         147584    \n",
      "                                                                 \n",
      " activation_32 (Activation)  (None, 8, 8, 128)         0         \n",
      "                                                                 \n",
      " max_pooling2d_9 (MaxPooling  (None, 4, 4, 128)        0         \n",
      " 2D)                                                             \n",
      "                                                                 \n",
      " flatten_2 (Flatten)         (None, 2048)              0         \n",
      "                                                                 \n",
      " dense_4 (Dense)             (None, 2048)              4196352   \n",
      "                                                                 \n",
      " activation_33 (Activation)  (None, 2048)              0         \n",
      "                                                                 \n",
      " dropout_20 (Dropout)        (None, 2048)              0         \n",
      "                                                                 \n",
      " reshape_1 (Reshape)         (None, 4, 4, 128)         0         \n",
      "                                                                 \n",
      " up_sampling2d_12 (UpSamplin  (None, 8, 8, 128)        0         \n",
      " g2D)                                                            \n",
      "                                                                 \n",
      " conv2d_58 (Conv2D)          (None, 8, 8, 128)         147584    \n",
      "                                                                 \n",
      " conv2d_59 (Conv2D)          (None, 8, 8, 128)         147584    \n",
      "                                                                 \n",
      " activation_34 (Activation)  (None, 8, 8, 128)         0         \n",
      "                                                                 \n",
      " up_sampling2d_13 (UpSamplin  (None, 16, 16, 128)      0         \n",
      " g2D)                                                            \n",
      "                                                                 \n",
      " dropout_21 (Dropout)        (None, 16, 16, 128)       0         \n",
      "                                                                 \n",
      " conv2d_60 (Conv2D)          (None, 16, 16, 64)        73792     \n",
      "                                                                 \n",
      " conv2d_61 (Conv2D)          (None, 16, 16, 64)        36928     \n",
      "                                                                 \n",
      " activation_35 (Activation)  (None, 16, 16, 64)        0         \n",
      "                                                                 \n",
      " up_sampling2d_14 (UpSamplin  (None, 32, 32, 64)       0         \n",
      " g2D)                                                            \n",
      "                                                                 \n",
      " dropout_22 (Dropout)        (None, 32, 32, 64)        0         \n",
      "                                                                 \n",
      " conv2d_62 (Conv2D)          (None, 32, 32, 32)        18464     \n",
      "                                                                 \n",
      " conv2d_63 (Conv2D)          (None, 32, 32, 32)        9248      \n",
      "                                                                 \n",
      " activation_36 (Activation)  (None, 32, 32, 32)        0         \n",
      "                                                                 \n",
      " conv2d_64 (Conv2D)          (None, 32, 32, 4)         1156      \n",
      "                                                                 \n",
      " activation_37 (Activation)  (None, 32, 32, 4)         0         \n",
      "                                                                 \n",
      "=================================================================\n",
      "Total params: 4,920,708\n",
      "Trainable params: 4,920,708\n",
      "Non-trainable params: 0\n",
      "_________________________________________________________________\n"
     ]
    }
   ],
   "source": [
    "model_new.summary()"
   ],
   "metadata": {
    "collapsed": false
   }
  },
  {
   "cell_type": "code",
   "execution_count": 75,
   "outputs": [],
   "source": [
    "es = EarlyStopping(monitor='val_loss')\n",
    "mc = ModelCheckpoint('best_model_new.h5', monitor='val_loss')\n",
    "cb = [es,mc]"
   ],
   "metadata": {
    "collapsed": false
   }
  },
  {
   "cell_type": "code",
   "execution_count": 76,
   "outputs": [
    {
     "name": "stdout",
     "output_type": "stream",
     "text": [
      "Epoch 1/100\n",
      "244/244 [==============================] - 5s 16ms/step - loss: 0.7696 - accuracy: 0.6161 - val_loss: 0.7061 - val_accuracy: 0.7288\n",
      "Epoch 2/100\n",
      "244/244 [==============================] - 3s 14ms/step - loss: 0.6069 - accuracy: 0.7283 - val_loss: 0.7068 - val_accuracy: 0.7317\n",
      "Epoch 3/100\n",
      "244/244 [==============================] - 3s 14ms/step - loss: 0.5672 - accuracy: 0.7502 - val_loss: 0.6886 - val_accuracy: 0.7329\n",
      "Epoch 4/100\n",
      "244/244 [==============================] - 3s 14ms/step - loss: 0.5351 - accuracy: 0.7662 - val_loss: 0.7413 - val_accuracy: 0.7102\n",
      "Epoch 5/100\n",
      "244/244 [==============================] - 3s 14ms/step - loss: 0.5190 - accuracy: 0.7752 - val_loss: 0.7761 - val_accuracy: 0.6845\n",
      "Epoch 6/100\n",
      "244/244 [==============================] - 3s 14ms/step - loss: 0.5112 - accuracy: 0.7798 - val_loss: 0.6999 - val_accuracy: 0.7072\n",
      "Epoch 7/100\n",
      "244/244 [==============================] - 3s 14ms/step - loss: 0.4969 - accuracy: 0.7863 - val_loss: 0.7622 - val_accuracy: 0.6724\n",
      "Epoch 8/100\n",
      "244/244 [==============================] - 3s 14ms/step - loss: 0.4995 - accuracy: 0.7864 - val_loss: 0.6891 - val_accuracy: 0.7690\n",
      "Epoch 9/100\n",
      "244/244 [==============================] - 3s 14ms/step - loss: 0.4838 - accuracy: 0.7931 - val_loss: 0.7199 - val_accuracy: 0.6939\n",
      "Epoch 10/100\n",
      "244/244 [==============================] - 4s 14ms/step - loss: 0.4757 - accuracy: 0.7971 - val_loss: 0.7098 - val_accuracy: 0.7253\n",
      "Epoch 11/100\n",
      "244/244 [==============================] - 3s 14ms/step - loss: 0.4791 - accuracy: 0.7960 - val_loss: 0.6638 - val_accuracy: 0.7789\n",
      "Epoch 12/100\n",
      "244/244 [==============================] - 3s 14ms/step - loss: 0.4744 - accuracy: 0.7990 - val_loss: 0.6744 - val_accuracy: 0.7603\n",
      "Epoch 13/100\n",
      "244/244 [==============================] - 3s 14ms/step - loss: 0.4647 - accuracy: 0.8039 - val_loss: 0.6980 - val_accuracy: 0.7332\n",
      "Epoch 14/100\n",
      "244/244 [==============================] - 3s 14ms/step - loss: 0.4714 - accuracy: 0.8015 - val_loss: 0.6741 - val_accuracy: 0.7680\n",
      "Epoch 15/100\n",
      "244/244 [==============================] - 3s 14ms/step - loss: 0.4574 - accuracy: 0.8077 - val_loss: 0.7036 - val_accuracy: 0.7298\n",
      "Epoch 16/100\n",
      "244/244 [==============================] - 3s 14ms/step - loss: 0.4517 - accuracy: 0.8103 - val_loss: 0.7235 - val_accuracy: 0.7692\n",
      "Epoch 17/100\n",
      "244/244 [==============================] - 3s 14ms/step - loss: 0.4721 - accuracy: 0.8017 - val_loss: 0.6524 - val_accuracy: 0.7492\n",
      "Epoch 18/100\n",
      "244/244 [==============================] - 3s 14ms/step - loss: 0.4642 - accuracy: 0.8046 - val_loss: 0.7003 - val_accuracy: 0.7378\n",
      "Epoch 19/100\n",
      "244/244 [==============================] - 3s 14ms/step - loss: 0.4502 - accuracy: 0.8112 - val_loss: 0.7224 - val_accuracy: 0.7635\n",
      "Epoch 20/100\n",
      "244/244 [==============================] - 3s 14ms/step - loss: 0.4500 - accuracy: 0.8125 - val_loss: 0.6539 - val_accuracy: 0.7540\n",
      "Epoch 21/100\n",
      "244/244 [==============================] - 3s 14ms/step - loss: 0.4455 - accuracy: 0.8134 - val_loss: 0.6958 - val_accuracy: 0.7621\n",
      "Epoch 22/100\n",
      "244/244 [==============================] - 3s 14ms/step - loss: 0.4383 - accuracy: 0.8169 - val_loss: 0.6994 - val_accuracy: 0.7710\n",
      "Epoch 23/100\n",
      "244/244 [==============================] - 3s 14ms/step - loss: 0.4346 - accuracy: 0.8188 - val_loss: 0.6972 - val_accuracy: 0.7612\n",
      "Epoch 24/100\n",
      "244/244 [==============================] - 3s 14ms/step - loss: 0.4412 - accuracy: 0.8165 - val_loss: 0.6740 - val_accuracy: 0.7519\n",
      "Epoch 25/100\n",
      "244/244 [==============================] - 3s 14ms/step - loss: 0.4378 - accuracy: 0.8179 - val_loss: 0.7294 - val_accuracy: 0.7461\n",
      "Epoch 26/100\n",
      "244/244 [==============================] - 3s 14ms/step - loss: 0.4353 - accuracy: 0.8193 - val_loss: 0.6820 - val_accuracy: 0.7656\n",
      "Epoch 27/100\n",
      "244/244 [==============================] - 3s 14ms/step - loss: 0.4317 - accuracy: 0.8208 - val_loss: 0.6723 - val_accuracy: 0.7645\n",
      "Epoch 28/100\n",
      "244/244 [==============================] - 3s 14ms/step - loss: 0.4297 - accuracy: 0.8214 - val_loss: 0.6680 - val_accuracy: 0.7387\n",
      "Epoch 29/100\n",
      "244/244 [==============================] - 3s 14ms/step - loss: 0.4245 - accuracy: 0.8240 - val_loss: 0.6792 - val_accuracy: 0.7323\n",
      "Epoch 30/100\n",
      "244/244 [==============================] - 3s 14ms/step - loss: 0.4335 - accuracy: 0.8207 - val_loss: 0.6506 - val_accuracy: 0.7690\n",
      "Epoch 31/100\n",
      "244/244 [==============================] - 3s 14ms/step - loss: 0.4238 - accuracy: 0.8245 - val_loss: 0.6826 - val_accuracy: 0.7724\n",
      "Epoch 32/100\n",
      "244/244 [==============================] - 3s 14ms/step - loss: 0.4192 - accuracy: 0.8262 - val_loss: 0.7411 - val_accuracy: 0.7622\n",
      "Epoch 33/100\n",
      "244/244 [==============================] - 3s 14ms/step - loss: 0.4206 - accuracy: 0.8258 - val_loss: 0.6723 - val_accuracy: 0.7449\n",
      "Epoch 34/100\n",
      "244/244 [==============================] - 3s 14ms/step - loss: 0.4453 - accuracy: 0.8172 - val_loss: 0.6658 - val_accuracy: 0.7311\n",
      "Epoch 35/100\n",
      "244/244 [==============================] - 3s 14ms/step - loss: 0.4251 - accuracy: 0.8249 - val_loss: 0.6871 - val_accuracy: 0.7586\n",
      "Epoch 36/100\n",
      "244/244 [==============================] - 3s 14ms/step - loss: 0.4207 - accuracy: 0.8267 - val_loss: 0.6743 - val_accuracy: 0.7607\n",
      "Epoch 37/100\n",
      "244/244 [==============================] - 3s 14ms/step - loss: 0.4178 - accuracy: 0.8277 - val_loss: 0.6934 - val_accuracy: 0.7698\n",
      "Epoch 38/100\n",
      "244/244 [==============================] - 3s 14ms/step - loss: 0.4114 - accuracy: 0.8309 - val_loss: 0.7216 - val_accuracy: 0.7373\n",
      "Epoch 39/100\n",
      "244/244 [==============================] - 3s 14ms/step - loss: 0.4137 - accuracy: 0.8306 - val_loss: 0.6842 - val_accuracy: 0.7297\n",
      "Epoch 40/100\n",
      "244/244 [==============================] - 3s 14ms/step - loss: 0.4257 - accuracy: 0.8256 - val_loss: 0.6693 - val_accuracy: 0.7604\n",
      "Epoch 41/100\n",
      "244/244 [==============================] - 3s 14ms/step - loss: 0.4127 - accuracy: 0.8305 - val_loss: 0.6941 - val_accuracy: 0.7673\n",
      "Epoch 42/100\n",
      "244/244 [==============================] - 3s 14ms/step - loss: 0.4176 - accuracy: 0.8290 - val_loss: 0.6850 - val_accuracy: 0.7692\n",
      "Epoch 43/100\n",
      "244/244 [==============================] - 3s 14ms/step - loss: 0.4080 - accuracy: 0.8325 - val_loss: 0.7556 - val_accuracy: 0.7458\n",
      "Epoch 44/100\n",
      "244/244 [==============================] - 3s 14ms/step - loss: 0.4073 - accuracy: 0.8334 - val_loss: 0.7041 - val_accuracy: 0.7507\n",
      "Epoch 45/100\n",
      "244/244 [==============================] - 3s 14ms/step - loss: 0.4059 - accuracy: 0.8341 - val_loss: 0.6949 - val_accuracy: 0.7508\n",
      "Epoch 46/100\n",
      "244/244 [==============================] - 3s 14ms/step - loss: 0.4032 - accuracy: 0.8350 - val_loss: 0.6610 - val_accuracy: 0.7577\n",
      "Epoch 47/100\n",
      "244/244 [==============================] - 3s 14ms/step - loss: 0.4059 - accuracy: 0.8345 - val_loss: 0.6710 - val_accuracy: 0.7689\n",
      "Epoch 48/100\n",
      "244/244 [==============================] - 3s 14ms/step - loss: 0.4035 - accuracy: 0.8356 - val_loss: 0.6598 - val_accuracy: 0.7663\n",
      "Epoch 49/100\n",
      "244/244 [==============================] - 3s 14ms/step - loss: 0.4024 - accuracy: 0.8362 - val_loss: 0.6481 - val_accuracy: 0.7590\n",
      "Epoch 50/100\n",
      "244/244 [==============================] - 3s 14ms/step - loss: 0.4027 - accuracy: 0.8352 - val_loss: 0.6554 - val_accuracy: 0.7578\n",
      "Epoch 51/100\n",
      "244/244 [==============================] - 3s 14ms/step - loss: 0.4276 - accuracy: 0.8248 - val_loss: 0.6691 - val_accuracy: 0.7669\n",
      "Epoch 52/100\n",
      "244/244 [==============================] - 3s 14ms/step - loss: 0.4135 - accuracy: 0.8311 - val_loss: 0.6808 - val_accuracy: 0.7519\n",
      "Epoch 53/100\n",
      "244/244 [==============================] - 3s 14ms/step - loss: 0.4015 - accuracy: 0.8360 - val_loss: 0.6854 - val_accuracy: 0.7700\n",
      "Epoch 54/100\n",
      "244/244 [==============================] - 3s 14ms/step - loss: 0.4045 - accuracy: 0.8354 - val_loss: 0.6727 - val_accuracy: 0.7281\n",
      "Epoch 55/100\n",
      "244/244 [==============================] - 3s 14ms/step - loss: 0.3993 - accuracy: 0.8373 - val_loss: 0.6490 - val_accuracy: 0.7552\n",
      "Epoch 56/100\n",
      "244/244 [==============================] - 3s 14ms/step - loss: 0.3982 - accuracy: 0.8381 - val_loss: 0.6838 - val_accuracy: 0.7650\n",
      "Epoch 57/100\n",
      "244/244 [==============================] - 3s 14ms/step - loss: 0.3954 - accuracy: 0.8397 - val_loss: 0.6923 - val_accuracy: 0.7618\n",
      "Epoch 58/100\n",
      "244/244 [==============================] - 3s 14ms/step - loss: 0.3956 - accuracy: 0.8393 - val_loss: 0.6781 - val_accuracy: 0.7062\n",
      "Epoch 59/100\n",
      "244/244 [==============================] - 3s 14ms/step - loss: 0.3978 - accuracy: 0.8380 - val_loss: 0.7069 - val_accuracy: 0.7575\n",
      "Epoch 60/100\n",
      "244/244 [==============================] - 3s 14ms/step - loss: 0.3925 - accuracy: 0.8404 - val_loss: 0.6712 - val_accuracy: 0.7191\n",
      "Epoch 61/100\n",
      "244/244 [==============================] - 3s 14ms/step - loss: 0.3961 - accuracy: 0.8394 - val_loss: 0.6711 - val_accuracy: 0.7702\n",
      "Epoch 62/100\n",
      "244/244 [==============================] - 3s 14ms/step - loss: 0.3919 - accuracy: 0.8411 - val_loss: 0.6748 - val_accuracy: 0.7749\n",
      "Epoch 63/100\n",
      "244/244 [==============================] - 4s 15ms/step - loss: 0.3930 - accuracy: 0.8402 - val_loss: 0.6667 - val_accuracy: 0.7584\n",
      "Epoch 64/100\n",
      "244/244 [==============================] - 3s 14ms/step - loss: 0.3979 - accuracy: 0.8390 - val_loss: 0.6899 - val_accuracy: 0.7643\n",
      "Epoch 65/100\n",
      "244/244 [==============================] - 3s 14ms/step - loss: 0.4053 - accuracy: 0.8356 - val_loss: 0.6705 - val_accuracy: 0.7640\n",
      "Epoch 66/100\n",
      "244/244 [==============================] - 3s 14ms/step - loss: 0.3958 - accuracy: 0.8396 - val_loss: 0.6688 - val_accuracy: 0.7356\n",
      "Epoch 67/100\n",
      "244/244 [==============================] - 3s 14ms/step - loss: 0.3886 - accuracy: 0.8425 - val_loss: 0.6905 - val_accuracy: 0.7611\n",
      "Epoch 68/100\n",
      "244/244 [==============================] - 3s 14ms/step - loss: 0.3881 - accuracy: 0.8426 - val_loss: 0.7091 - val_accuracy: 0.7669\n",
      "Epoch 69/100\n",
      "244/244 [==============================] - 3s 14ms/step - loss: 0.3932 - accuracy: 0.8410 - val_loss: 0.6585 - val_accuracy: 0.7637\n",
      "Epoch 70/100\n",
      "244/244 [==============================] - 4s 14ms/step - loss: 0.3849 - accuracy: 0.8441 - val_loss: 0.6924 - val_accuracy: 0.7165\n",
      "Epoch 71/100\n",
      "244/244 [==============================] - 3s 14ms/step - loss: 0.4221 - accuracy: 0.8285 - val_loss: 0.6745 - val_accuracy: 0.7249\n",
      "Epoch 72/100\n",
      "244/244 [==============================] - 4s 14ms/step - loss: 0.3947 - accuracy: 0.8401 - val_loss: 0.6828 - val_accuracy: 0.7592\n",
      "Epoch 73/100\n",
      "244/244 [==============================] - 4s 15ms/step - loss: 0.3915 - accuracy: 0.8415 - val_loss: 0.6397 - val_accuracy: 0.7603\n",
      "Epoch 74/100\n",
      "244/244 [==============================] - 3s 14ms/step - loss: 0.3858 - accuracy: 0.8439 - val_loss: 0.6390 - val_accuracy: 0.7547\n",
      "Epoch 75/100\n",
      "244/244 [==============================] - 3s 14ms/step - loss: 0.3927 - accuracy: 0.8415 - val_loss: 0.6566 - val_accuracy: 0.7400\n",
      "Epoch 76/100\n",
      "244/244 [==============================] - 3s 14ms/step - loss: 0.3864 - accuracy: 0.8438 - val_loss: 0.6574 - val_accuracy: 0.7512\n",
      "Epoch 77/100\n",
      "244/244 [==============================] - 3s 14ms/step - loss: 0.3859 - accuracy: 0.8443 - val_loss: 0.6551 - val_accuracy: 0.7551\n",
      "Epoch 78/100\n",
      "244/244 [==============================] - 4s 15ms/step - loss: 0.3900 - accuracy: 0.8430 - val_loss: 0.6836 - val_accuracy: 0.7447\n",
      "Epoch 79/100\n",
      "244/244 [==============================] - 4s 15ms/step - loss: 0.3892 - accuracy: 0.8429 - val_loss: 0.6599 - val_accuracy: 0.7425\n",
      "Epoch 80/100\n",
      "244/244 [==============================] - 4s 15ms/step - loss: 0.3852 - accuracy: 0.8446 - val_loss: 0.7164 - val_accuracy: 0.6997\n",
      "Epoch 81/100\n",
      "244/244 [==============================] - 4s 16ms/step - loss: 0.3864 - accuracy: 0.8444 - val_loss: 0.6646 - val_accuracy: 0.7124\n",
      "Epoch 82/100\n",
      "244/244 [==============================] - 4s 17ms/step - loss: 0.3934 - accuracy: 0.8417 - val_loss: 0.6694 - val_accuracy: 0.7460\n",
      "Epoch 83/100\n",
      "244/244 [==============================] - 3s 14ms/step - loss: 0.3846 - accuracy: 0.8453 - val_loss: 0.6312 - val_accuracy: 0.7613\n",
      "Epoch 84/100\n",
      "244/244 [==============================] - 4s 15ms/step - loss: 0.3793 - accuracy: 0.8474 - val_loss: 0.6665 - val_accuracy: 0.7385\n",
      "Epoch 85/100\n",
      "244/244 [==============================] - 4s 18ms/step - loss: 0.3811 - accuracy: 0.8469 - val_loss: 0.7016 - val_accuracy: 0.7151\n",
      "Epoch 86/100\n",
      "244/244 [==============================] - 4s 18ms/step - loss: 0.3816 - accuracy: 0.8463 - val_loss: 0.6877 - val_accuracy: 0.7247\n",
      "Epoch 87/100\n",
      "244/244 [==============================] - 4s 17ms/step - loss: 0.3824 - accuracy: 0.8459 - val_loss: 0.6982 - val_accuracy: 0.7276\n",
      "Epoch 88/100\n",
      "244/244 [==============================] - 4s 16ms/step - loss: 0.3783 - accuracy: 0.8478 - val_loss: 0.8345 - val_accuracy: 0.6492\n",
      "Epoch 89/100\n",
      "244/244 [==============================] - 4s 17ms/step - loss: 0.3813 - accuracy: 0.8469 - val_loss: 0.6701 - val_accuracy: 0.7374\n",
      "Epoch 90/100\n",
      "244/244 [==============================] - 4s 16ms/step - loss: 0.3827 - accuracy: 0.8464 - val_loss: 0.6630 - val_accuracy: 0.7396\n",
      "Epoch 91/100\n",
      "244/244 [==============================] - 4s 17ms/step - loss: 0.3791 - accuracy: 0.8476 - val_loss: 0.6906 - val_accuracy: 0.7266\n",
      "Epoch 92/100\n",
      "244/244 [==============================] - 4s 16ms/step - loss: 0.3865 - accuracy: 0.8452 - val_loss: 0.7284 - val_accuracy: 0.7142\n",
      "Epoch 93/100\n",
      "244/244 [==============================] - 4s 16ms/step - loss: 0.3790 - accuracy: 0.8479 - val_loss: 0.7074 - val_accuracy: 0.7124\n",
      "Epoch 94/100\n",
      "244/244 [==============================] - 4s 15ms/step - loss: 0.3784 - accuracy: 0.8478 - val_loss: 0.7038 - val_accuracy: 0.7098\n",
      "Epoch 95/100\n",
      "244/244 [==============================] - 4s 16ms/step - loss: 0.3781 - accuracy: 0.8481 - val_loss: 0.6811 - val_accuracy: 0.7213\n",
      "Epoch 96/100\n",
      "244/244 [==============================] - 4s 16ms/step - loss: 0.3845 - accuracy: 0.8463 - val_loss: 0.6738 - val_accuracy: 0.7403\n",
      "Epoch 97/100\n",
      "244/244 [==============================] - 4s 16ms/step - loss: 0.3773 - accuracy: 0.8483 - val_loss: 0.6756 - val_accuracy: 0.7311\n",
      "Epoch 98/100\n",
      "244/244 [==============================] - 5s 20ms/step - loss: 0.3778 - accuracy: 0.8483 - val_loss: 0.7088 - val_accuracy: 0.7068\n",
      "Epoch 99/100\n",
      "244/244 [==============================] - 4s 17ms/step - loss: 0.3791 - accuracy: 0.8479 - val_loss: 0.6418 - val_accuracy: 0.7484\n",
      "Epoch 100/100\n",
      "244/244 [==============================] - 4s 15ms/step - loss: 0.3759 - accuracy: 0.8492 - val_loss: 0.7397 - val_accuracy: 0.6899\n"
     ]
    }
   ],
   "source": [
    "history2 = model_new.fit(x_data, y_cat, epochs=100,batch_size=16, validation_split=0.2)"
   ],
   "metadata": {
    "collapsed": false
   }
  },
  {
   "cell_type": "code",
   "execution_count": 77,
   "outputs": [
    {
     "data": {
      "text/plain": "<Figure size 640x480 with 1 Axes>",
      "image/png": "[encoded data removed]"
     },
     "metadata": {},
     "output_type": "display_data"
    }
   ],
   "source": [
    "plt.plot(history2.history['accuracy'])\n",
    "plt.plot(history2.history['val_accuracy'])\n",
    "plt.title('Model Accuracy')\n",
    "plt.ylabel('Accuracy')\n",
    "plt.xlabel('#f Iterations')\n",
    "plt.legend(['Train', 'Test'], loc='upper left')\n",
    "plt.show()"
   ],
   "metadata": {
    "collapsed": false
   }
  },
  {
   "cell_type": "markdown",
   "source": [
    "## Check"
   ],
   "metadata": {
    "collapsed": false
   }
  },
  {
   "cell_type": "code",
   "execution_count": 78,
   "outputs": [
    {
     "data": {
      "text/plain": "['/tmp/shared/dataset4/1/2022-11-14-00_00_2022-11-14-23_59_Sentinel-2_L2A_B01_(Raw).tiff',\n '/tmp/shared/dataset4/1/2022-11-14-00_00_2022-11-14-23_59_Sentinel-2_L2A_B02_(Raw).tiff',\n '/tmp/shared/dataset4/1/2022-11-14-00_00_2022-11-14-23_59_Sentinel-2_L2A_B03_(Raw).tiff',\n '/tmp/shared/dataset4/1/2022-11-14-00_00_2022-11-14-23_59_Sentinel-2_L2A_B04_(Raw).tiff',\n '/tmp/shared/dataset4/1/2022-11-14-00_00_2022-11-14-23_59_Sentinel-2_L2A_B05_(Raw).tiff',\n '/tmp/shared/dataset4/1/2022-11-14-00_00_2022-11-14-23_59_Sentinel-2_L2A_B06_(Raw).tiff',\n '/tmp/shared/dataset4/1/2022-11-14-00_00_2022-11-14-23_59_Sentinel-2_L2A_B07_(Raw).tiff',\n '/tmp/shared/dataset4/1/2022-11-14-00_00_2022-11-14-23_59_Sentinel-2_L2A_B08_(Raw).tiff',\n '/tmp/shared/dataset4/1/2022-11-14-00_00_2022-11-14-23_59_Sentinel-2_L2A_B09_(Raw).tiff',\n '/tmp/shared/dataset4/1/2022-11-14-00_00_2022-11-14-23_59_Sentinel-2_L2A_B11_(Raw).tiff',\n '/tmp/shared/dataset4/1/2022-11-14-00_00_2022-11-14-23_59_Sentinel-2_L2A_B12_(Raw).tiff',\n '/tmp/shared/dataset4/1/2022-11-14-00_00_2022-11-14-23_59_Sentinel-2_L2A_B8A_(Raw).tiff']"
     },
     "execution_count": 78,
     "metadata": {},
     "output_type": "execute_result"
    }
   ],
   "source": [
    "from glob import glob\n",
    "S_sentinel_bands = glob(\"/tmp/shared/dataset4/1/*B?*.tiff\")\n",
    "S_sentinel_bands.sort()\n",
    "S_sentinel_bands"
   ],
   "metadata": {
    "collapsed": false
   }
  },
  {
   "cell_type": "code",
   "execution_count": 79,
   "outputs": [],
   "source": [
    "l = []\n",
    "for i in S_sentinel_bands:\n",
    "  with rio.open(i, 'r') as f:\n",
    "    l.append(f.read(1))"
   ],
   "metadata": {
    "collapsed": false
   }
  },
  {
   "cell_type": "code",
   "execution_count": 80,
   "outputs": [],
   "source": [
    "arr_st = np.stack(l)"
   ],
   "metadata": {
    "collapsed": false
   }
  },
  {
   "cell_type": "code",
   "execution_count": 81,
   "outputs": [
    {
     "data": {
      "text/plain": "(12, 638, 1094)"
     },
     "execution_count": 81,
     "metadata": {},
     "output_type": "execute_result"
    }
   ],
   "source": [
    "arr_st.shape"
   ],
   "metadata": {
    "collapsed": false
   }
  },
  {
   "cell_type": "code",
   "execution_count": 82,
   "outputs": [
    {
     "data": {
      "text/plain": "(638, 1094, 12)"
     },
     "execution_count": 82,
     "metadata": {},
     "output_type": "execute_result"
    }
   ],
   "source": [
    "x = np.moveaxis(arr_st, 0, -1)\n",
    "x.shape"
   ],
   "metadata": {
    "collapsed": false
   }
  },
  {
   "cell_type": "code",
   "execution_count": 83,
   "outputs": [],
   "source": [
    "x1_v = x.shape[0]%32\n",
    "x1_h = x.shape[1]%32\n",
    "res1 = x.shape[0]-x1_v\n",
    "res2 = x.shape[1]-x1_h\n",
    "xx = x[0:(x.shape[0]-x1_v),0:(x.shape[1]-x1_h),:]"
   ],
   "metadata": {
    "collapsed": false
   }
  },
  {
   "cell_type": "code",
   "execution_count": 84,
   "outputs": [],
   "source": [
    "x_rr = xx.reshape(-1, 32,32,12)"
   ],
   "metadata": {
    "collapsed": false
   }
  },
  {
   "cell_type": "code",
   "execution_count": 85,
   "outputs": [
    {
     "name": "stdout",
     "output_type": "stream",
     "text": [
      "41/41 [==============================] - 1s 9ms/step\n"
     ]
    }
   ],
   "source": [
    "prediction = model_new.predict(x_rr,batch_size=16)"
   ],
   "metadata": {
    "collapsed": false
   }
  },
  {
   "cell_type": "code",
   "execution_count": 86,
   "outputs": [
    {
     "data": {
      "text/plain": "(646, 32, 32)"
     },
     "execution_count": 86,
     "metadata": {},
     "output_type": "execute_result"
    }
   ],
   "source": [
    "pred_cat = np.argmax(prediction,axis=3)\n",
    "pred_cat.shape"
   ],
   "metadata": {
    "collapsed": false
   }
  },
  {
   "cell_type": "code",
   "execution_count": 87,
   "outputs": [],
   "source": [
    "pred_pxl = pred_cat.reshape(res1,res2)"
   ],
   "metadata": {
    "collapsed": false
   }
  },
  {
   "cell_type": "code",
   "execution_count": 88,
   "outputs": [
    {
     "data": {
      "text/plain": "<Figure size 1200x1200 with 2 Axes>",
      "image/png": "[encoded data removed]"
     },
     "metadata": {},
     "output_type": "display_data"
    },
    {
     "data": {
      "text/plain": "<AxesSubplot:>"
     },
     "execution_count": 88,
     "metadata": {},
     "output_type": "execute_result"
    }
   ],
   "source": [
    "ep.plot_bands(pred_pxl,\n",
    "              cmap=ListedColormap(['black', 'purple','blue', 'orange']))"
   ],
   "metadata": {
    "collapsed": false
   }
  },
  {
   "cell_type": "code",
   "execution_count": 89,
   "outputs": [
    {
     "data": {
      "text/plain": "['/tmp/shared/dataset4/1/2022-11-14-00_00_2022-11-14-23_59_Sentinel-2_L2A_Scene_classification_map.tiff']"
     },
     "execution_count": 89,
     "metadata": {},
     "output_type": "execute_result"
    }
   ],
   "source": [
    "Check_images = glob(\"/tmp/shared/dataset4/1/*Scen*.tiff\")\n",
    "Check_images"
   ],
   "metadata": {
    "collapsed": false
   }
  },
  {
   "cell_type": "code",
   "execution_count": 90,
   "outputs": [
    {
     "ename": "ValueError",
     "evalue": "Cannot embed the 'tiff' image format",
     "output_type": "error",
     "traceback": [
      "\u001B[0;31m---------------------------------------------------------------------------\u001B[0m",
      "\u001B[0;31mValueError\u001B[0m                                Traceback (most recent call last)",
      "Input \u001B[0;32mIn [90]\u001B[0m, in \u001B[0;36m<cell line: 2>\u001B[0;34m()\u001B[0m\n\u001B[1;32m      1\u001B[0m \u001B[38;5;28;01mfrom\u001B[39;00m \u001B[38;5;21;01mIPython\u001B[39;00m\u001B[38;5;21;01m.\u001B[39;00m\u001B[38;5;21;01mdisplay\u001B[39;00m \u001B[38;5;28;01mimport\u001B[39;00m Image\n\u001B[0;32m----> 2\u001B[0m \u001B[43mImage\u001B[49m\u001B[43m(\u001B[49m\u001B[43mfilename\u001B[49m\u001B[38;5;241;43m=\u001B[39;49m\u001B[43mCheck_images\u001B[49m\u001B[43m[\u001B[49m\u001B[38;5;241;43m0\u001B[39;49m\u001B[43m]\u001B[49m\u001B[43m)\u001B[49m\n",
      "File \u001B[0;32m/usr/local/lib/python3.8/dist-packages/IPython/core/display.py:948\u001B[0m, in \u001B[0;36mImage.__init__\u001B[0;34m(self, data, url, filename, format, embed, width, height, retina, unconfined, metadata, alt)\u001B[0m\n\u001B[1;32m    945\u001B[0m \u001B[38;5;28mself\u001B[39m\u001B[38;5;241m.\u001B[39membed \u001B[38;5;241m=\u001B[39m embed \u001B[38;5;28;01mif\u001B[39;00m embed \u001B[38;5;129;01mis\u001B[39;00m \u001B[38;5;129;01mnot\u001B[39;00m \u001B[38;5;28;01mNone\u001B[39;00m \u001B[38;5;28;01melse\u001B[39;00m (url \u001B[38;5;129;01mis\u001B[39;00m \u001B[38;5;28;01mNone\u001B[39;00m)\n\u001B[1;32m    947\u001B[0m \u001B[38;5;28;01mif\u001B[39;00m \u001B[38;5;28mself\u001B[39m\u001B[38;5;241m.\u001B[39membed \u001B[38;5;129;01mand\u001B[39;00m \u001B[38;5;28mself\u001B[39m\u001B[38;5;241m.\u001B[39mformat \u001B[38;5;129;01mnot\u001B[39;00m \u001B[38;5;129;01min\u001B[39;00m \u001B[38;5;28mself\u001B[39m\u001B[38;5;241m.\u001B[39m_ACCEPTABLE_EMBEDDINGS:\n\u001B[0;32m--> 948\u001B[0m     \u001B[38;5;28;01mraise\u001B[39;00m \u001B[38;5;167;01mValueError\u001B[39;00m(\u001B[38;5;124m\"\u001B[39m\u001B[38;5;124mCannot embed the \u001B[39m\u001B[38;5;124m'\u001B[39m\u001B[38;5;132;01m%s\u001B[39;00m\u001B[38;5;124m'\u001B[39m\u001B[38;5;124m image format\u001B[39m\u001B[38;5;124m\"\u001B[39m \u001B[38;5;241m%\u001B[39m (\u001B[38;5;28mself\u001B[39m\u001B[38;5;241m.\u001B[39mformat))\n\u001B[1;32m    949\u001B[0m \u001B[38;5;28;01mif\u001B[39;00m \u001B[38;5;28mself\u001B[39m\u001B[38;5;241m.\u001B[39membed:\n\u001B[1;32m    950\u001B[0m     \u001B[38;5;28mself\u001B[39m\u001B[38;5;241m.\u001B[39m_mimetype \u001B[38;5;241m=\u001B[39m \u001B[38;5;28mself\u001B[39m\u001B[38;5;241m.\u001B[39m_MIMETYPES\u001B[38;5;241m.\u001B[39mget(\u001B[38;5;28mself\u001B[39m\u001B[38;5;241m.\u001B[39mformat)\n",
      "\u001B[0;31mValueError\u001B[0m: Cannot embed the 'tiff' image format"
     ]
    }
   ],
   "source": [
    "from IPython.display import Image\n",
    "Image(filename=Check_images[0])"
   ],
   "metadata": {
    "collapsed": false
   }
  },
  {
   "cell_type": "code",
   "execution_count": 91,
   "outputs": [],
   "source": [
    "# import cv2\n",
    "#\n",
    "# gray = cv2.imread(\"path/to/tiff/0.tiff\", cv2.IMREAD_UNCHANGED)\n",
    "#\n",
    "# cv2.namedWindow(\"MyImage\", cv2.WINDOW_NORMAL)\n",
    "# cv2.imshow(\"MyImage\", gray)\n",
    "# cv2.waitKey(0)"
   ],
   "metadata": {
    "collapsed": false
   }
  },
  {
   "cell_type": "code",
   "execution_count": 92,
   "outputs": [
    {
     "data": {
      "text/plain": "(638, 1094)"
     },
     "execution_count": 92,
     "metadata": {},
     "output_type": "execute_result"
    }
   ],
   "source": [
    "item = filexY_array[0]\n",
    "item.shape"
   ],
   "metadata": {
    "collapsed": false
   }
  },
  {
   "cell_type": "code",
   "execution_count": 93,
   "outputs": [
    {
     "data": {
      "text/plain": "(608, 1088)"
     },
     "execution_count": 93,
     "metadata": {},
     "output_type": "execute_result"
    }
   ],
   "source": [
    "item2 = item[0:res1,0:res2]\n",
    "item2.shape"
   ],
   "metadata": {
    "collapsed": false
   }
  },
  {
   "cell_type": "code",
   "execution_count": 94,
   "outputs": [
    {
     "data": {
      "text/plain": "<Figure size 1200x1200 with 2 Axes>",
      "image/png": "[encoded data removed]"
     },
     "metadata": {},
     "output_type": "display_data"
    },
    {
     "data": {
      "text/plain": "<AxesSubplot:>"
     },
     "execution_count": 94,
     "metadata": {},
     "output_type": "execute_result"
    }
   ],
   "source": [
    "ep.plot_bands(item2,\n",
    "              cmap=ListedColormap(['black', 'purple','blue', 'orange']))"
   ],
   "metadata": {
    "collapsed": false
   }
  },
  {
   "cell_type": "code",
   "execution_count": 132,
   "outputs": [
    {
     "data": {
      "text/plain": "0.6246598660023219"
     },
     "execution_count": 132,
     "metadata": {},
     "output_type": "execute_result"
    }
   ],
   "source": [
    "accuracy_score(pred_pxl.reshape(-1), item2.reshape(-1))"
   ],
   "metadata": {
    "collapsed": false
   }
  },
  {
   "cell_type": "code",
   "execution_count": null,
   "outputs": [],
   "source": [],
   "metadata": {
    "collapsed": false
   }
  }
 ],
 "metadata": {
  "kernelspec": {
   "display_name": "Python 3",
   "language": "python",
   "name": "python3"
  },
  "language_info": {
   "codemirror_mode": {
    "name": "ipython",
    "version": 2
   },
   "file_extension": ".py",
   "mimetype": "text/x-python",
   "name": "python",
   "nbconvert_exporter": "python",
   "pygments_lexer": "ipython2",
   "version": "2.7.6"
  }
 },
 "nbformat": 4,
 "nbformat_minor": 0
}
