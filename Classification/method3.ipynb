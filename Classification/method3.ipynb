{
 "cells": [
  {
   "cell_type": "code",
   "execution_count": 1,
   "metadata": {
    "collapsed": true
   },
   "outputs": [
    {
     "data": {
      "text/plain": "{'divide': 'warn', 'over': 'warn', 'under': 'ignore', 'invalid': 'warn'}"
     },
     "execution_count": 1,
     "metadata": {},
     "output_type": "execute_result"
    }
   ],
   "source": [
    "from glob import glob\n",
    "\n",
    "import earthpy as et\n",
    "import earthpy.spatial as es\n",
    "import earthpy.plot as ep\n",
    "\n",
    "import rasterio as rio\n",
    "from rasterio.plot import plotting_extent\n",
    "from rasterio.plot import show\n",
    "from rasterio.plot import reshape_as_raster, reshape_as_image\n",
    "\n",
    "import matplotlib.pyplot as plt\n",
    "import numpy as np\n",
    "from matplotlib.colors import ListedColormap\n",
    "\n",
    "from scipy.io import loadmat\n",
    "from sklearn.metrics import classification_report, accuracy_score\n",
    "\n",
    "import plotly.graph_objects as go\n",
    "\n",
    "np.seterr(divide='ignore', invalid='ignore')"
   ]
  },
  {
   "cell_type": "code",
   "execution_count": 2,
   "outputs": [],
   "source": [
    "def getFilesNewForY(basePath):\n",
    "    dirs = glob(basePath+\"/*/\")\n",
    "    print(dirs)\n",
    "    #print(dirs)\n",
    "    for _dir in dirs:\n",
    "        files = glob(_dir+\"*Scene_classification*.tiff\")\n",
    "        file = files[0]\n",
    "        #print(files)\n",
    "        yield file"
   ],
   "metadata": {
    "collapsed": false
   }
  },
  {
   "cell_type": "code",
   "execution_count": 3,
   "outputs": [
    {
     "name": "stdout",
     "output_type": "stream",
     "text": [
      "['/tmp/shared/dataset4/5/', '/tmp/shared/dataset4/7/', '/tmp/shared/dataset4/6/', '/tmp/shared/dataset4/4/', '/tmp/shared/dataset4/1/', '/tmp/shared/dataset4/3/', '/tmp/shared/dataset4/8/', '/tmp/shared/dataset4/2/']\n"
     ]
    },
    {
     "data": {
      "text/plain": "['/tmp/shared/dataset4/5/2022-10-11-00_00_2022-10-11-23_59_Sentinel-2_L2A_Scene_classification_map.tiff',\n '/tmp/shared/dataset4/7/2022-10-11-00_00_2022-10-11-23_59_Sentinel-2_L2A_Scene_classification_map.tiff',\n '/tmp/shared/dataset4/6/2022-10-11-00_00_2022-10-11-23_59_Sentinel-2_L2A_Scene_classification_map.tiff',\n '/tmp/shared/dataset4/4/2022-10-11-00_00_2022-10-11-23_59_Sentinel-2_L2A_Scene_classification_map.tiff',\n '/tmp/shared/dataset4/1/2022-11-14-00_00_2022-11-14-23_59_Sentinel-2_L2A_Scene_classification_map.tiff',\n '/tmp/shared/dataset4/3/2022-10-11-00_00_2022-10-11-23_59_Sentinel-2_L2A_Scene_classification_map.tiff',\n '/tmp/shared/dataset4/8/2022-10-11-00_00_2022-10-11-23_59_Sentinel-2_L2A_Scene_classification_map.tiff',\n '/tmp/shared/dataset4/2/2022-10-11-00_00_2022-10-11-23_59_Sentinel-2_L2A_Scene_classification_map.tiff']"
     },
     "execution_count": 3,
     "metadata": {},
     "output_type": "execute_result"
    }
   ],
   "source": [
    "fileNamesY = list(getFilesNewForY(\"/tmp/shared/dataset4\"))\n",
    "fileNamesY"
   ],
   "metadata": {
    "collapsed": false
   }
  },
  {
   "cell_type": "code",
   "execution_count": 4,
   "outputs": [],
   "source": [
    "def getFilesNew(basePath):\n",
    "    dirs = glob(basePath+\"/*/\")\n",
    "    #print(dirs)\n",
    "    for _dir in dirs:\n",
    "        files = glob(_dir+\"*B?*.tiff\")\n",
    "        #print(files)\n",
    "        yield files"
   ],
   "metadata": {
    "collapsed": false
   }
  },
  {
   "cell_type": "code",
   "execution_count": 5,
   "outputs": [
    {
     "data": {
      "text/plain": "[['/tmp/shared/dataset4/5/2022-10-11-00_00_2022-10-11-23_59_Sentinel-2_L2A_B01_(Raw).tiff',\n  '/tmp/shared/dataset4/5/2022-10-11-00_00_2022-10-11-23_59_Sentinel-2_L2A_B11_(Raw).tiff',\n  '/tmp/shared/dataset4/5/2022-10-11-00_00_2022-10-11-23_59_Sentinel-2_L2A_B09_(Raw).tiff',\n  '/tmp/shared/dataset4/5/2022-10-11-00_00_2022-10-11-23_59_Sentinel-2_L2A_B8A_(Raw).tiff',\n  '/tmp/shared/dataset4/5/2022-10-11-00_00_2022-10-11-23_59_Sentinel-2_L2A_B12_(Raw).tiff',\n  '/tmp/shared/dataset4/5/2022-10-11-00_00_2022-10-11-23_59_Sentinel-2_L2A_B03_(Raw).tiff',\n  '/tmp/shared/dataset4/5/2022-10-11-00_00_2022-10-11-23_59_Sentinel-2_L2A_B02_(Raw).tiff',\n  '/tmp/shared/dataset4/5/2022-10-11-00_00_2022-10-11-23_59_Sentinel-2_L2A_B05_(Raw).tiff',\n  '/tmp/shared/dataset4/5/2022-10-11-00_00_2022-10-11-23_59_Sentinel-2_L2A_B07_(Raw).tiff',\n  '/tmp/shared/dataset4/5/2022-10-11-00_00_2022-10-11-23_59_Sentinel-2_L2A_B04_(Raw).tiff',\n  '/tmp/shared/dataset4/5/2022-10-11-00_00_2022-10-11-23_59_Sentinel-2_L2A_B08_(Raw).tiff',\n  '/tmp/shared/dataset4/5/2022-10-11-00_00_2022-10-11-23_59_Sentinel-2_L2A_B06_(Raw).tiff'],\n ['/tmp/shared/dataset4/7/2022-10-11-00_00_2022-10-11-23_59_Sentinel-2_L2A_B01_(Raw).tiff',\n  '/tmp/shared/dataset4/7/2022-10-11-00_00_2022-10-11-23_59_Sentinel-2_L2A_B11_(Raw).tiff',\n  '/tmp/shared/dataset4/7/2022-10-11-00_00_2022-10-11-23_59_Sentinel-2_L2A_B09_(Raw).tiff',\n  '/tmp/shared/dataset4/7/2022-10-11-00_00_2022-10-11-23_59_Sentinel-2_L2A_B8A_(Raw).tiff',\n  '/tmp/shared/dataset4/7/2022-10-11-00_00_2022-10-11-23_59_Sentinel-2_L2A_B12_(Raw).tiff',\n  '/tmp/shared/dataset4/7/2022-10-11-00_00_2022-10-11-23_59_Sentinel-2_L2A_B03_(Raw).tiff',\n  '/tmp/shared/dataset4/7/2022-10-11-00_00_2022-10-11-23_59_Sentinel-2_L2A_B02_(Raw).tiff',\n  '/tmp/shared/dataset4/7/2022-10-11-00_00_2022-10-11-23_59_Sentinel-2_L2A_B05_(Raw).tiff',\n  '/tmp/shared/dataset4/7/2022-10-11-00_00_2022-10-11-23_59_Sentinel-2_L2A_B07_(Raw).tiff',\n  '/tmp/shared/dataset4/7/2022-10-11-00_00_2022-10-11-23_59_Sentinel-2_L2A_B04_(Raw).tiff',\n  '/tmp/shared/dataset4/7/2022-10-11-00_00_2022-10-11-23_59_Sentinel-2_L2A_B08_(Raw).tiff',\n  '/tmp/shared/dataset4/7/2022-10-11-00_00_2022-10-11-23_59_Sentinel-2_L2A_B06_(Raw).tiff'],\n ['/tmp/shared/dataset4/6/2022-10-11-00_00_2022-10-11-23_59_Sentinel-2_L2A_B01_(Raw).tiff',\n  '/tmp/shared/dataset4/6/2022-10-11-00_00_2022-10-11-23_59_Sentinel-2_L2A_B11_(Raw).tiff',\n  '/tmp/shared/dataset4/6/2022-10-11-00_00_2022-10-11-23_59_Sentinel-2_L2A_B09_(Raw).tiff',\n  '/tmp/shared/dataset4/6/2022-10-11-00_00_2022-10-11-23_59_Sentinel-2_L2A_B8A_(Raw).tiff',\n  '/tmp/shared/dataset4/6/2022-10-11-00_00_2022-10-11-23_59_Sentinel-2_L2A_B12_(Raw).tiff',\n  '/tmp/shared/dataset4/6/2022-10-11-00_00_2022-10-11-23_59_Sentinel-2_L2A_B03_(Raw).tiff',\n  '/tmp/shared/dataset4/6/2022-10-11-00_00_2022-10-11-23_59_Sentinel-2_L2A_B02_(Raw).tiff',\n  '/tmp/shared/dataset4/6/2022-10-11-00_00_2022-10-11-23_59_Sentinel-2_L2A_B05_(Raw).tiff',\n  '/tmp/shared/dataset4/6/2022-10-11-00_00_2022-10-11-23_59_Sentinel-2_L2A_B07_(Raw).tiff',\n  '/tmp/shared/dataset4/6/2022-10-11-00_00_2022-10-11-23_59_Sentinel-2_L2A_B04_(Raw).tiff',\n  '/tmp/shared/dataset4/6/2022-10-11-00_00_2022-10-11-23_59_Sentinel-2_L2A_B08_(Raw).tiff',\n  '/tmp/shared/dataset4/6/2022-10-11-00_00_2022-10-11-23_59_Sentinel-2_L2A_B06_(Raw).tiff'],\n ['/tmp/shared/dataset4/4/2022-10-11-00_00_2022-10-11-23_59_Sentinel-2_L2A_B01_(Raw).tiff',\n  '/tmp/shared/dataset4/4/2022-10-11-00_00_2022-10-11-23_59_Sentinel-2_L2A_B11_(Raw).tiff',\n  '/tmp/shared/dataset4/4/2022-10-11-00_00_2022-10-11-23_59_Sentinel-2_L2A_B09_(Raw).tiff',\n  '/tmp/shared/dataset4/4/2022-10-11-00_00_2022-10-11-23_59_Sentinel-2_L2A_B8A_(Raw).tiff',\n  '/tmp/shared/dataset4/4/2022-10-11-00_00_2022-10-11-23_59_Sentinel-2_L2A_B12_(Raw).tiff',\n  '/tmp/shared/dataset4/4/2022-10-11-00_00_2022-10-11-23_59_Sentinel-2_L2A_B03_(Raw).tiff',\n  '/tmp/shared/dataset4/4/2022-10-11-00_00_2022-10-11-23_59_Sentinel-2_L2A_B02_(Raw).tiff',\n  '/tmp/shared/dataset4/4/2022-10-11-00_00_2022-10-11-23_59_Sentinel-2_L2A_B05_(Raw).tiff',\n  '/tmp/shared/dataset4/4/2022-10-11-00_00_2022-10-11-23_59_Sentinel-2_L2A_B07_(Raw).tiff',\n  '/tmp/shared/dataset4/4/2022-10-11-00_00_2022-10-11-23_59_Sentinel-2_L2A_B04_(Raw).tiff',\n  '/tmp/shared/dataset4/4/2022-10-11-00_00_2022-10-11-23_59_Sentinel-2_L2A_B08_(Raw).tiff',\n  '/tmp/shared/dataset4/4/2022-10-11-00_00_2022-10-11-23_59_Sentinel-2_L2A_B06_(Raw).tiff'],\n ['/tmp/shared/dataset4/1/2022-11-14-00_00_2022-11-14-23_59_Sentinel-2_L2A_B03_(Raw).tiff',\n  '/tmp/shared/dataset4/1/2022-11-14-00_00_2022-11-14-23_59_Sentinel-2_L2A_B8A_(Raw).tiff',\n  '/tmp/shared/dataset4/1/2022-11-14-00_00_2022-11-14-23_59_Sentinel-2_L2A_B09_(Raw).tiff',\n  '/tmp/shared/dataset4/1/2022-11-14-00_00_2022-11-14-23_59_Sentinel-2_L2A_B01_(Raw).tiff',\n  '/tmp/shared/dataset4/1/2022-11-14-00_00_2022-11-14-23_59_Sentinel-2_L2A_B04_(Raw).tiff',\n  '/tmp/shared/dataset4/1/2022-11-14-00_00_2022-11-14-23_59_Sentinel-2_L2A_B05_(Raw).tiff',\n  '/tmp/shared/dataset4/1/2022-11-14-00_00_2022-11-14-23_59_Sentinel-2_L2A_B08_(Raw).tiff',\n  '/tmp/shared/dataset4/1/2022-11-14-00_00_2022-11-14-23_59_Sentinel-2_L2A_B06_(Raw).tiff',\n  '/tmp/shared/dataset4/1/2022-11-14-00_00_2022-11-14-23_59_Sentinel-2_L2A_B07_(Raw).tiff',\n  '/tmp/shared/dataset4/1/2022-11-14-00_00_2022-11-14-23_59_Sentinel-2_L2A_B12_(Raw).tiff',\n  '/tmp/shared/dataset4/1/2022-11-14-00_00_2022-11-14-23_59_Sentinel-2_L2A_B02_(Raw).tiff',\n  '/tmp/shared/dataset4/1/2022-11-14-00_00_2022-11-14-23_59_Sentinel-2_L2A_B11_(Raw).tiff'],\n ['/tmp/shared/dataset4/3/2022-10-11-00_00_2022-10-11-23_59_Sentinel-2_L2A_B01_(Raw).tiff',\n  '/tmp/shared/dataset4/3/2022-10-11-00_00_2022-10-11-23_59_Sentinel-2_L2A_B11_(Raw).tiff',\n  '/tmp/shared/dataset4/3/2022-10-11-00_00_2022-10-11-23_59_Sentinel-2_L2A_B09_(Raw).tiff',\n  '/tmp/shared/dataset4/3/2022-10-11-00_00_2022-10-11-23_59_Sentinel-2_L2A_B8A_(Raw).tiff',\n  '/tmp/shared/dataset4/3/2022-10-11-00_00_2022-10-11-23_59_Sentinel-2_L2A_B12_(Raw).tiff',\n  '/tmp/shared/dataset4/3/2022-10-11-00_00_2022-10-11-23_59_Sentinel-2_L2A_B03_(Raw).tiff',\n  '/tmp/shared/dataset4/3/2022-10-11-00_00_2022-10-11-23_59_Sentinel-2_L2A_B02_(Raw).tiff',\n  '/tmp/shared/dataset4/3/2022-10-11-00_00_2022-10-11-23_59_Sentinel-2_L2A_B05_(Raw).tiff',\n  '/tmp/shared/dataset4/3/2022-10-11-00_00_2022-10-11-23_59_Sentinel-2_L2A_B07_(Raw).tiff',\n  '/tmp/shared/dataset4/3/2022-10-11-00_00_2022-10-11-23_59_Sentinel-2_L2A_B04_(Raw).tiff',\n  '/tmp/shared/dataset4/3/2022-10-11-00_00_2022-10-11-23_59_Sentinel-2_L2A_B08_(Raw).tiff',\n  '/tmp/shared/dataset4/3/2022-10-11-00_00_2022-10-11-23_59_Sentinel-2_L2A_B06_(Raw).tiff'],\n ['/tmp/shared/dataset4/8/2022-10-11-00_00_2022-10-11-23_59_Sentinel-2_L2A_B01_(Raw).tiff',\n  '/tmp/shared/dataset4/8/2022-10-11-00_00_2022-10-11-23_59_Sentinel-2_L2A_B11_(Raw).tiff',\n  '/tmp/shared/dataset4/8/2022-10-11-00_00_2022-10-11-23_59_Sentinel-2_L2A_B09_(Raw).tiff',\n  '/tmp/shared/dataset4/8/2022-10-11-00_00_2022-10-11-23_59_Sentinel-2_L2A_B8A_(Raw).tiff',\n  '/tmp/shared/dataset4/8/2022-10-11-00_00_2022-10-11-23_59_Sentinel-2_L2A_B12_(Raw).tiff',\n  '/tmp/shared/dataset4/8/2022-10-11-00_00_2022-10-11-23_59_Sentinel-2_L2A_B03_(Raw).tiff',\n  '/tmp/shared/dataset4/8/2022-10-11-00_00_2022-10-11-23_59_Sentinel-2_L2A_B02_(Raw).tiff',\n  '/tmp/shared/dataset4/8/2022-10-11-00_00_2022-10-11-23_59_Sentinel-2_L2A_B05_(Raw).tiff',\n  '/tmp/shared/dataset4/8/2022-10-11-00_00_2022-10-11-23_59_Sentinel-2_L2A_B07_(Raw).tiff',\n  '/tmp/shared/dataset4/8/2022-10-11-00_00_2022-10-11-23_59_Sentinel-2_L2A_B04_(Raw).tiff',\n  '/tmp/shared/dataset4/8/2022-10-11-00_00_2022-10-11-23_59_Sentinel-2_L2A_B08_(Raw).tiff',\n  '/tmp/shared/dataset4/8/2022-10-11-00_00_2022-10-11-23_59_Sentinel-2_L2A_B06_(Raw).tiff'],\n ['/tmp/shared/dataset4/2/2022-10-11-00_00_2022-10-11-23_59_Sentinel-2_L2A_B01_(Raw).tiff',\n  '/tmp/shared/dataset4/2/2022-10-11-00_00_2022-10-11-23_59_Sentinel-2_L2A_B11_(Raw).tiff',\n  '/tmp/shared/dataset4/2/2022-10-11-00_00_2022-10-11-23_59_Sentinel-2_L2A_B09_(Raw).tiff',\n  '/tmp/shared/dataset4/2/2022-10-11-00_00_2022-10-11-23_59_Sentinel-2_L2A_B8A_(Raw).tiff',\n  '/tmp/shared/dataset4/2/2022-10-11-00_00_2022-10-11-23_59_Sentinel-2_L2A_B12_(Raw).tiff',\n  '/tmp/shared/dataset4/2/2022-10-11-00_00_2022-10-11-23_59_Sentinel-2_L2A_B03_(Raw).tiff',\n  '/tmp/shared/dataset4/2/2022-10-11-00_00_2022-10-11-23_59_Sentinel-2_L2A_B02_(Raw).tiff',\n  '/tmp/shared/dataset4/2/2022-10-11-00_00_2022-10-11-23_59_Sentinel-2_L2A_B05_(Raw).tiff',\n  '/tmp/shared/dataset4/2/2022-10-11-00_00_2022-10-11-23_59_Sentinel-2_L2A_B07_(Raw).tiff',\n  '/tmp/shared/dataset4/2/2022-10-11-00_00_2022-10-11-23_59_Sentinel-2_L2A_B04_(Raw).tiff',\n  '/tmp/shared/dataset4/2/2022-10-11-00_00_2022-10-11-23_59_Sentinel-2_L2A_B08_(Raw).tiff',\n  '/tmp/shared/dataset4/2/2022-10-11-00_00_2022-10-11-23_59_Sentinel-2_L2A_B06_(Raw).tiff']]"
     },
     "execution_count": 5,
     "metadata": {},
     "output_type": "execute_result"
    }
   ],
   "source": [
    "fileNamesX = list(getFilesNew(\"/tmp/shared/dataset4\"))\n",
    "fileNamesX"
   ],
   "metadata": {
    "collapsed": false
   }
  },
  {
   "cell_type": "code",
   "execution_count": 6,
   "outputs": [],
   "source": [
    "def getFilesArrayNew(paths):\n",
    "    l = []\n",
    "    for i in paths:\n",
    "        s = []\n",
    "        for j in i:\n",
    "            with rio.open(j, 'r') as f:\n",
    "                s.append(f.read(1))\n",
    "        l.append(s)\n",
    "    arr_st_new = np.stack(l)\n",
    "    return  arr_st_new"
   ],
   "metadata": {
    "collapsed": false
   }
  },
  {
   "cell_type": "code",
   "execution_count": 7,
   "outputs": [],
   "source": [
    "filesX_array = getFilesArrayNew(fileNamesX)"
   ],
   "metadata": {
    "collapsed": false
   }
  },
  {
   "cell_type": "code",
   "execution_count": 24,
   "outputs": [],
   "source": [
    "def getFilesArrayNewY(paths):\n",
    "    l = []\n",
    "    for i in paths:\n",
    "        with rio.open(i,'r') as f:\n",
    "            r = f.read(1)\n",
    "            g = f.read(2)\n",
    "            b =  f.read(3)\n",
    "            rgb_arr = [r, g ,b]\n",
    "            l.append(rgb_arr)\n",
    "            # l.append(rgb)\n",
    "    return l"
   ],
   "metadata": {
    "collapsed": false
   }
  },
  {
   "cell_type": "code",
   "execution_count": 37,
   "outputs": [
    {
     "data": {
      "text/plain": "(8, 3, 638, 1094)"
     },
     "execution_count": 37,
     "metadata": {},
     "output_type": "execute_result"
    }
   ],
   "source": [
    "_filexY_array = np.asarray(getFilesArrayNewY(fileNamesY))\n",
    "#_filexY_array = np.moveaxis(_filexY_array, 1,0)\n",
    "_filexY_array = np.asarray(_filexY_array * 255).astype(int)\n",
    "_filexY_array.shape"
   ],
   "metadata": {
    "collapsed": false
   }
  },
  {
   "cell_type": "code",
   "execution_count": 38,
   "outputs": [],
   "source": [
    "__filesY_array  = []\n",
    "for i in _filexY_array:\n",
    "    r = i[0]\n",
    "    g = i[1]\n",
    "    b = i[2]\n",
    "    rgb  = r\n",
    "    rgb = np.left_shift(rgb, 8) + g\n",
    "    rgb = np.left_shift(rgb, 8) + b\n",
    "    __filesY_array.append(rgb)"
   ],
   "metadata": {
    "collapsed": false
   }
  },
  {
   "cell_type": "code",
   "execution_count": 39,
   "outputs": [
    {
     "data": {
      "text/plain": "(8, 638, 1094)"
     },
     "execution_count": 39,
     "metadata": {},
     "output_type": "execute_result"
    }
   ],
   "source": [
    "filexY_array = np.asarray(__filesY_array)\n",
    "filexY_array.shape"
   ],
   "metadata": {
    "collapsed": false
   }
  },
  {
   "cell_type": "code",
   "execution_count": 40,
   "outputs": [
    {
     "name": "stdout",
     "output_type": "stream",
     "text": [
      "[       0      255    40960  6566400  6605055  8421504 12632256 16770650\n",
      " 16777215]\n"
     ]
    }
   ],
   "source": [
    "unique_valsY = np.unique(filexY_array)\n",
    "print(unique_valsY)\n",
    "filexY_array[filexY_array == 1] = 100"
   ],
   "metadata": {
    "collapsed": false
   }
  },
  {
   "cell_type": "code",
   "execution_count": 41,
   "outputs": [],
   "source": [
    "for idx, i in enumerate(unique_valsY):\n",
    "        filexY_array [ filexY_array == i] = idx"
   ],
   "metadata": {
    "collapsed": false
   }
  },
  {
   "cell_type": "code",
   "execution_count": 42,
   "outputs": [
    {
     "name": "stdout",
     "output_type": "stream",
     "text": [
      "[0 1 2 3 4 5 6 7 8]\n"
     ]
    }
   ],
   "source": [
    "print(np.unique(filexY_array))"
   ],
   "metadata": {
    "collapsed": false
   }
  },
  {
   "cell_type": "code",
   "execution_count": 44,
   "outputs": [
    {
     "data": {
      "text/plain": "(8, 12, 638, 1094)"
     },
     "execution_count": 44,
     "metadata": {},
     "output_type": "execute_result"
    }
   ],
   "source": [
    "x_np = np.asarray(filesX_array)\n",
    "x_np.shape"
   ],
   "metadata": {
    "collapsed": false
   }
  },
  {
   "cell_type": "code",
   "execution_count": 45,
   "outputs": [
    {
     "data": {
      "text/plain": "(8, 12, 608, 1024)"
     },
     "execution_count": 45,
     "metadata": {},
     "output_type": "execute_result"
    }
   ],
   "source": [
    "x_np2 = x_np[:,:,0:608,0:1024]\n",
    "x_np2.shape"
   ],
   "metadata": {
    "collapsed": false
   }
  },
  {
   "cell_type": "code",
   "execution_count": 46,
   "outputs": [
    {
     "data": {
      "text/plain": "(12, 8, 608, 1024)"
     },
     "execution_count": 46,
     "metadata": {},
     "output_type": "execute_result"
    }
   ],
   "source": [
    "x_np2 = np.moveaxis(x_np2,1,0)\n",
    "x_np2.shape"
   ],
   "metadata": {
    "collapsed": false
   }
  },
  {
   "cell_type": "code",
   "execution_count": 47,
   "outputs": [],
   "source": [
    "x_np_combined = x_np2.reshape(12,-1,1024)"
   ],
   "metadata": {
    "collapsed": false
   }
  },
  {
   "cell_type": "code",
   "execution_count": 48,
   "outputs": [
    {
     "data": {
      "text/plain": "(12, 4864, 1024)"
     },
     "execution_count": 48,
     "metadata": {},
     "output_type": "execute_result"
    }
   ],
   "source": [
    "x_np_combined.shape"
   ],
   "metadata": {
    "collapsed": false
   }
  },
  {
   "cell_type": "code",
   "execution_count": 49,
   "outputs": [
    {
     "data": {
      "text/plain": "(4864, 1024, 12)"
     },
     "execution_count": 49,
     "metadata": {},
     "output_type": "execute_result"
    }
   ],
   "source": [
    "x_np_combined = np.moveaxis(x_np_combined, 0, -1)\n",
    "x_np_combined.shape"
   ],
   "metadata": {
    "collapsed": false
   }
  },
  {
   "cell_type": "code",
   "execution_count": 50,
   "outputs": [],
   "source": [
    "x_data = x_np_combined.reshape(-1,32,32,12)"
   ],
   "metadata": {
    "collapsed": false
   }
  },
  {
   "cell_type": "code",
   "execution_count": 51,
   "outputs": [
    {
     "data": {
      "text/plain": "(4864, 32, 32, 12)"
     },
     "execution_count": 51,
     "metadata": {},
     "output_type": "execute_result"
    }
   ],
   "source": [
    "x_data.shape"
   ],
   "metadata": {
    "collapsed": false
   }
  },
  {
   "cell_type": "code",
   "execution_count": 52,
   "outputs": [
    {
     "data": {
      "text/plain": "(8, 638, 1094)"
     },
     "execution_count": 52,
     "metadata": {},
     "output_type": "execute_result"
    }
   ],
   "source": [
    "filexY_array.shape"
   ],
   "metadata": {
    "collapsed": false
   }
  },
  {
   "cell_type": "code",
   "execution_count": 53,
   "outputs": [
    {
     "data": {
      "text/plain": "(8, 608, 1024)"
     },
     "execution_count": 53,
     "metadata": {},
     "output_type": "execute_result"
    }
   ],
   "source": [
    "y_np =  filexY_array[:,0:608,0:1024]\n",
    "y_np.shape"
   ],
   "metadata": {
    "collapsed": false
   }
  },
  {
   "cell_type": "code",
   "execution_count": 54,
   "outputs": [
    {
     "data": {
      "text/plain": "(4864, 1024)"
     },
     "execution_count": 54,
     "metadata": {},
     "output_type": "execute_result"
    }
   ],
   "source": [
    "y_np2 = y_np.reshape(-1, 1024)\n",
    "y_np2.shape"
   ],
   "metadata": {
    "collapsed": false
   }
  },
  {
   "cell_type": "code",
   "execution_count": 55,
   "outputs": [
    {
     "data": {
      "text/plain": "(4864, 32, 32)"
     },
     "execution_count": 55,
     "metadata": {},
     "output_type": "execute_result"
    }
   ],
   "source": [
    "y_data = y_np2.reshape(-1, 32,32)\n",
    "y_data.shape"
   ],
   "metadata": {
    "collapsed": false
   }
  },
  {
   "cell_type": "code",
   "execution_count": 56,
   "outputs": [],
   "source": [
    "#Let's import some important Libraries\n",
    "import tensorflow as tf\n",
    "from keras.models import Sequential, Model\n",
    "from keras.layers import Dense, Input\n",
    "from keras.utils import np_utils\n",
    "import numpy as np # linear algebra\n",
    "import pandas as pd # data processing, CSV file I/O (e.g. pd.read_csv)\n",
    "import matplotlib.pyplot as plt\n",
    "import pandas as pd\n",
    "from keras.layers import *\n",
    "from keras.layers.convolutional import Conv2D\n",
    "from keras.layers.pooling import MaxPooling2D\n",
    "from keras.callbacks import EarlyStopping, ModelCheckpoint"
   ],
   "metadata": {
    "collapsed": false
   }
  },
  {
   "cell_type": "code",
   "execution_count": 57,
   "outputs": [],
   "source": [
    "y_cat = np_utils.to_categorical(y_data)"
   ],
   "metadata": {
    "collapsed": false
   }
  },
  {
   "cell_type": "code",
   "execution_count": 162,
   "outputs": [],
   "source": [
    "model_new = tf.keras.models.Sequential([\n",
    "    Conv2D(32,(3,3),padding='same',input_shape=(32,32,12)),\n",
    "    Conv2D(32,(3,3),padding='same',input_shape=(32,32,12)),\n",
    "    Activation('relu'),\n",
    "    MaxPooling2D(pool_size=(2,2)),\n",
    "    Dropout(0.7),\n",
    "\n",
    "    Conv2D(64,(3,3), padding='same'),\n",
    "    Conv2D(64,(3,3), padding='same'),\n",
    "    Activation('relu'),\n",
    "    MaxPooling2D(pool_size=(2,2),name='feature_layer'),\n",
    "    Dropout(0.7),\n",
    "\n",
    "    #We are naming this layer, as we will extract features from it in future, JUST WAIT !!!\n",
    "    Conv2D(128,(3,3), padding='same'),\n",
    "    Conv2D(128,(3,3), padding='same'),\n",
    "    Activation('relu'),\n",
    "    MaxPooling2D(pool_size=(2,2)),\n",
    "    #Flatten(),\n",
    "    Dense(128),\n",
    "    Activation('relu'),\n",
    "    Dropout(0.7),\n",
    "    #Reshape((4,4,128)),\n",
    "    UpSampling2D((2,2)),\n",
    "    Conv2D(128,(3,3), padding='same'),\n",
    "    Conv2D(128,(3,3), padding='same'),\n",
    "    Activation('relu'),\n",
    "    UpSampling2D((2,2)),\n",
    "    Dropout(0.7),\n",
    "    Conv2D(64,(3,3), padding='same'),\n",
    "    Conv2D(64,(3,3), padding='same'),\n",
    "    Activation('relu'),\n",
    "    UpSampling2D((2,2)),\n",
    "    Dropout(0.7),\n",
    "    Conv2D(32,(3,3), padding='same'),\n",
    "    Conv2D(32,(3,3), padding='same'),\n",
    "    Activation('relu'),\n",
    "    Conv2D(9,3,padding='same'),\n",
    "    # model.add(Flatten())\n",
    "    # model.add(Dense(24))\n",
    "    # model.add(Activation('relu'))\n",
    "    # model.add(Dropout(0.5))\n",
    "    # model.add(Dense(6))\n",
    "    Activation('softmax'),\n",
    "])"
   ],
   "metadata": {
    "collapsed": false
   }
  },
  {
   "cell_type": "code",
   "execution_count": 163,
   "outputs": [],
   "source": [
    "model_new.compile(loss='categorical_crossentropy',optimizer='adam',metrics=['accuracy'])"
   ],
   "metadata": {
    "collapsed": false
   }
  },
  {
   "cell_type": "code",
   "execution_count": 164,
   "outputs": [
    {
     "name": "stdout",
     "output_type": "stream",
     "text": [
      "Model: \"sequential_6\"\n",
      "_________________________________________________________________\n",
      " Layer (type)                Output Shape              Param #   \n",
      "=================================================================\n",
      " conv2d_78 (Conv2D)          (None, 32, 32, 32)        3488      \n",
      "                                                                 \n",
      " conv2d_79 (Conv2D)          (None, 32, 32, 32)        9248      \n",
      "                                                                 \n",
      " activation_48 (Activation)  (None, 32, 32, 32)        0         \n",
      "                                                                 \n",
      " max_pooling2d_12 (MaxPoolin  (None, 16, 16, 32)       0         \n",
      " g2D)                                                            \n",
      "                                                                 \n",
      " dropout_30 (Dropout)        (None, 16, 16, 32)        0         \n",
      "                                                                 \n",
      " conv2d_80 (Conv2D)          (None, 16, 16, 64)        18496     \n",
      "                                                                 \n",
      " conv2d_81 (Conv2D)          (None, 16, 16, 64)        36928     \n",
      "                                                                 \n",
      " activation_49 (Activation)  (None, 16, 16, 64)        0         \n",
      "                                                                 \n",
      " feature_layer (MaxPooling2D  (None, 8, 8, 64)         0         \n",
      " )                                                               \n",
      "                                                                 \n",
      " dropout_31 (Dropout)        (None, 8, 8, 64)          0         \n",
      "                                                                 \n",
      " conv2d_82 (Conv2D)          (None, 8, 8, 128)         73856     \n",
      "                                                                 \n",
      " conv2d_83 (Conv2D)          (None, 8, 8, 128)         147584    \n",
      "                                                                 \n",
      " activation_50 (Activation)  (None, 8, 8, 128)         0         \n",
      "                                                                 \n",
      " max_pooling2d_13 (MaxPoolin  (None, 4, 4, 128)        0         \n",
      " g2D)                                                            \n",
      "                                                                 \n",
      " dense_6 (Dense)             (None, 4, 4, 128)         16512     \n",
      "                                                                 \n",
      " activation_51 (Activation)  (None, 4, 4, 128)         0         \n",
      "                                                                 \n",
      " dropout_32 (Dropout)        (None, 4, 4, 128)         0         \n",
      "                                                                 \n",
      " up_sampling2d_18 (UpSamplin  (None, 8, 8, 128)        0         \n",
      " g2D)                                                            \n",
      "                                                                 \n",
      " conv2d_84 (Conv2D)          (None, 8, 8, 128)         147584    \n",
      "                                                                 \n",
      " conv2d_85 (Conv2D)          (None, 8, 8, 128)         147584    \n",
      "                                                                 \n",
      " activation_52 (Activation)  (None, 8, 8, 128)         0         \n",
      "                                                                 \n",
      " up_sampling2d_19 (UpSamplin  (None, 16, 16, 128)      0         \n",
      " g2D)                                                            \n",
      "                                                                 \n",
      " dropout_33 (Dropout)        (None, 16, 16, 128)       0         \n",
      "                                                                 \n",
      " conv2d_86 (Conv2D)          (None, 16, 16, 64)        73792     \n",
      "                                                                 \n",
      " conv2d_87 (Conv2D)          (None, 16, 16, 64)        36928     \n",
      "                                                                 \n",
      " activation_53 (Activation)  (None, 16, 16, 64)        0         \n",
      "                                                                 \n",
      " up_sampling2d_20 (UpSamplin  (None, 32, 32, 64)       0         \n",
      " g2D)                                                            \n",
      "                                                                 \n",
      " dropout_34 (Dropout)        (None, 32, 32, 64)        0         \n",
      "                                                                 \n",
      " conv2d_88 (Conv2D)          (None, 32, 32, 32)        18464     \n",
      "                                                                 \n",
      " conv2d_89 (Conv2D)          (None, 32, 32, 32)        9248      \n",
      "                                                                 \n",
      " activation_54 (Activation)  (None, 32, 32, 32)        0         \n",
      "                                                                 \n",
      " conv2d_90 (Conv2D)          (None, 32, 32, 9)         2601      \n",
      "                                                                 \n",
      " activation_55 (Activation)  (None, 32, 32, 9)         0         \n",
      "                                                                 \n",
      "=================================================================\n",
      "Total params: 742,313\n",
      "Trainable params: 742,313\n",
      "Non-trainable params: 0\n",
      "_________________________________________________________________\n"
     ]
    }
   ],
   "source": [
    "model_new.summary()"
   ],
   "metadata": {
    "collapsed": false
   }
  },
  {
   "cell_type": "code",
   "execution_count": 127,
   "outputs": [],
   "source": [
    "es = EarlyStopping(monitor='val_loss')\n",
    "mc = ModelCheckpoint('best_model_new.h5', monitor='val_loss')\n",
    "cb = [es,mc]"
   ],
   "metadata": {
    "collapsed": false
   }
  },
  {
   "cell_type": "code",
   "execution_count": 165,
   "outputs": [
    {
     "name": "stdout",
     "output_type": "stream",
     "text": [
      "Epoch 1/100\n",
      "244/244 [==============================] - 6s 19ms/step - loss: 0.7581 - accuracy: 0.6433 - val_loss: 0.7558 - val_accuracy: 0.6615\n",
      "Epoch 2/100\n",
      "244/244 [==============================] - 4s 16ms/step - loss: 0.5427 - accuracy: 0.7685 - val_loss: 0.6319 - val_accuracy: 0.7309\n",
      "Epoch 3/100\n",
      "244/244 [==============================] - 4s 16ms/step - loss: 0.5045 - accuracy: 0.7850 - val_loss: 0.5568 - val_accuracy: 0.7940\n",
      "Epoch 4/100\n",
      "244/244 [==============================] - 4s 15ms/step - loss: 0.4811 - accuracy: 0.7955 - val_loss: 0.5252 - val_accuracy: 0.7954\n",
      "Epoch 5/100\n",
      "244/244 [==============================] - 4s 16ms/step - loss: 0.4726 - accuracy: 0.8002 - val_loss: 0.6698 - val_accuracy: 0.7337\n",
      "Epoch 6/100\n",
      "244/244 [==============================] - 4s 15ms/step - loss: 0.4574 - accuracy: 0.8066 - val_loss: 0.5000 - val_accuracy: 0.7918\n",
      "Epoch 7/100\n",
      "244/244 [==============================] - 4s 15ms/step - loss: 0.4531 - accuracy: 0.8091 - val_loss: 0.5116 - val_accuracy: 0.7924\n",
      "Epoch 8/100\n",
      "244/244 [==============================] - 4s 15ms/step - loss: 0.4435 - accuracy: 0.8146 - val_loss: 0.5129 - val_accuracy: 0.8022\n",
      "Epoch 9/100\n",
      "244/244 [==============================] - 4s 15ms/step - loss: 0.4397 - accuracy: 0.8169 - val_loss: 0.5264 - val_accuracy: 0.7916\n",
      "Epoch 10/100\n",
      "244/244 [==============================] - 4s 14ms/step - loss: 0.4326 - accuracy: 0.8197 - val_loss: 0.5009 - val_accuracy: 0.8077\n",
      "Epoch 11/100\n",
      "244/244 [==============================] - 4s 15ms/step - loss: 0.4306 - accuracy: 0.8217 - val_loss: 0.4925 - val_accuracy: 0.7990\n",
      "Epoch 12/100\n",
      "244/244 [==============================] - 4s 15ms/step - loss: 0.4289 - accuracy: 0.8233 - val_loss: 0.4977 - val_accuracy: 0.7918\n",
      "Epoch 13/100\n",
      "244/244 [==============================] - 4s 15ms/step - loss: 0.4191 - accuracy: 0.8275 - val_loss: 0.5076 - val_accuracy: 0.7911\n",
      "Epoch 14/100\n",
      "244/244 [==============================] - 4s 15ms/step - loss: 0.4183 - accuracy: 0.8278 - val_loss: 0.5170 - val_accuracy: 0.7902\n",
      "Epoch 15/100\n",
      "244/244 [==============================] - 4s 15ms/step - loss: 0.4154 - accuracy: 0.8292 - val_loss: 0.5090 - val_accuracy: 0.7922\n",
      "Epoch 16/100\n",
      "244/244 [==============================] - 4s 15ms/step - loss: 0.4087 - accuracy: 0.8324 - val_loss: 0.5148 - val_accuracy: 0.7970\n",
      "Epoch 17/100\n",
      "244/244 [==============================] - 4s 15ms/step - loss: 0.4127 - accuracy: 0.8319 - val_loss: 0.4847 - val_accuracy: 0.7987\n",
      "Epoch 18/100\n",
      "244/244 [==============================] - 4s 15ms/step - loss: 0.4128 - accuracy: 0.8310 - val_loss: 0.5221 - val_accuracy: 0.7881\n",
      "Epoch 19/100\n",
      "244/244 [==============================] - 4s 15ms/step - loss: 0.4040 - accuracy: 0.8348 - val_loss: 0.5234 - val_accuracy: 0.8035\n",
      "Epoch 20/100\n",
      "244/244 [==============================] - 4s 15ms/step - loss: 0.4017 - accuracy: 0.8358 - val_loss: 0.5030 - val_accuracy: 0.7887\n",
      "Epoch 21/100\n",
      "244/244 [==============================] - 4s 15ms/step - loss: 0.4025 - accuracy: 0.8356 - val_loss: 0.4817 - val_accuracy: 0.8087\n",
      "Epoch 22/100\n",
      "244/244 [==============================] - 4s 15ms/step - loss: 0.4006 - accuracy: 0.8363 - val_loss: 0.4974 - val_accuracy: 0.8016\n",
      "Epoch 23/100\n",
      "244/244 [==============================] - 3s 14ms/step - loss: 0.3972 - accuracy: 0.8388 - val_loss: 0.5055 - val_accuracy: 0.7985\n",
      "Epoch 24/100\n",
      "244/244 [==============================] - 4s 15ms/step - loss: 0.4005 - accuracy: 0.8375 - val_loss: 0.4930 - val_accuracy: 0.8040\n",
      "Epoch 25/100\n",
      "244/244 [==============================] - 4s 15ms/step - loss: 0.3920 - accuracy: 0.8405 - val_loss: 0.4914 - val_accuracy: 0.8042\n",
      "Epoch 26/100\n",
      "244/244 [==============================] - 4s 15ms/step - loss: 0.3943 - accuracy: 0.8399 - val_loss: 0.5126 - val_accuracy: 0.7852\n",
      "Epoch 27/100\n",
      "244/244 [==============================] - 4s 15ms/step - loss: 0.3947 - accuracy: 0.8401 - val_loss: 0.4951 - val_accuracy: 0.8007\n",
      "Epoch 28/100\n",
      "244/244 [==============================] - 3s 14ms/step - loss: 0.4575 - accuracy: 0.8153 - val_loss: 0.5005 - val_accuracy: 0.8059\n",
      "Epoch 29/100\n",
      "244/244 [==============================] - 4s 15ms/step - loss: 0.4088 - accuracy: 0.8345 - val_loss: 0.4872 - val_accuracy: 0.8058\n",
      "Epoch 30/100\n",
      "244/244 [==============================] - 4s 15ms/step - loss: 0.3945 - accuracy: 0.8405 - val_loss: 0.4966 - val_accuracy: 0.8035\n",
      "Epoch 31/100\n",
      "244/244 [==============================] - 4s 15ms/step - loss: 0.3907 - accuracy: 0.8418 - val_loss: 0.4906 - val_accuracy: 0.8004\n",
      "Epoch 32/100\n",
      "244/244 [==============================] - 4s 15ms/step - loss: 0.3865 - accuracy: 0.8438 - val_loss: 0.4826 - val_accuracy: 0.8136\n",
      "Epoch 33/100\n",
      "244/244 [==============================] - 4s 15ms/step - loss: 0.3848 - accuracy: 0.8443 - val_loss: 0.4933 - val_accuracy: 0.8060\n",
      "Epoch 34/100\n",
      "244/244 [==============================] - 4s 15ms/step - loss: 0.3840 - accuracy: 0.8447 - val_loss: 0.4692 - val_accuracy: 0.8156\n",
      "Epoch 35/100\n",
      "244/244 [==============================] - 4s 15ms/step - loss: 0.3801 - accuracy: 0.8461 - val_loss: 0.4798 - val_accuracy: 0.8072\n",
      "Epoch 36/100\n",
      "244/244 [==============================] - 4s 15ms/step - loss: 0.3823 - accuracy: 0.8455 - val_loss: 0.5371 - val_accuracy: 0.7930\n",
      "Epoch 37/100\n",
      "244/244 [==============================] - 4s 15ms/step - loss: 0.3824 - accuracy: 0.8458 - val_loss: 0.5063 - val_accuracy: 0.8066\n",
      "Epoch 38/100\n",
      "244/244 [==============================] - 4s 16ms/step - loss: 0.3820 - accuracy: 0.8458 - val_loss: 0.5065 - val_accuracy: 0.8100\n",
      "Epoch 39/100\n",
      "244/244 [==============================] - 4s 15ms/step - loss: 0.3779 - accuracy: 0.8479 - val_loss: 0.5477 - val_accuracy: 0.7855\n",
      "Epoch 40/100\n",
      "244/244 [==============================] - 4s 15ms/step - loss: 0.3786 - accuracy: 0.8474 - val_loss: 0.4872 - val_accuracy: 0.7986\n",
      "Epoch 41/100\n",
      "244/244 [==============================] - 4s 14ms/step - loss: 0.3761 - accuracy: 0.8488 - val_loss: 0.5017 - val_accuracy: 0.7916\n",
      "Epoch 42/100\n",
      "244/244 [==============================] - 4s 15ms/step - loss: 0.3771 - accuracy: 0.8481 - val_loss: 0.4988 - val_accuracy: 0.8055\n",
      "Epoch 43/100\n",
      "244/244 [==============================] - 4s 15ms/step - loss: 0.3803 - accuracy: 0.8475 - val_loss: 0.4860 - val_accuracy: 0.8029\n",
      "Epoch 44/100\n",
      "244/244 [==============================] - 4s 15ms/step - loss: 0.3781 - accuracy: 0.8478 - val_loss: 0.5101 - val_accuracy: 0.7883\n",
      "Epoch 45/100\n",
      "244/244 [==============================] - 4s 15ms/step - loss: 0.3773 - accuracy: 0.8484 - val_loss: 0.4888 - val_accuracy: 0.8074\n",
      "Epoch 46/100\n",
      "244/244 [==============================] - 3s 14ms/step - loss: 0.3776 - accuracy: 0.8485 - val_loss: 0.4988 - val_accuracy: 0.8040\n",
      "Epoch 47/100\n",
      "244/244 [==============================] - 4s 15ms/step - loss: 0.3744 - accuracy: 0.8494 - val_loss: 0.4997 - val_accuracy: 0.8043\n",
      "Epoch 48/100\n",
      "244/244 [==============================] - 4s 15ms/step - loss: 0.4394 - accuracy: 0.8259 - val_loss: 0.5333 - val_accuracy: 0.7991\n",
      "Epoch 49/100\n",
      "244/244 [==============================] - 4s 15ms/step - loss: 0.4382 - accuracy: 0.8262 - val_loss: 0.4903 - val_accuracy: 0.8074\n",
      "Epoch 50/100\n",
      "244/244 [==============================] - 4s 15ms/step - loss: 0.4008 - accuracy: 0.8404 - val_loss: 0.5181 - val_accuracy: 0.7784\n",
      "Epoch 51/100\n",
      "244/244 [==============================] - 4s 15ms/step - loss: 0.3934 - accuracy: 0.8428 - val_loss: 0.5199 - val_accuracy: 0.7921\n",
      "Epoch 52/100\n",
      "244/244 [==============================] - 4s 15ms/step - loss: 0.3821 - accuracy: 0.8468 - val_loss: 0.4972 - val_accuracy: 0.8084\n",
      "Epoch 53/100\n",
      "244/244 [==============================] - 4s 15ms/step - loss: 0.3807 - accuracy: 0.8477 - val_loss: 0.4841 - val_accuracy: 0.8122\n",
      "Epoch 54/100\n",
      "244/244 [==============================] - 4s 15ms/step - loss: 0.3761 - accuracy: 0.8496 - val_loss: 0.5393 - val_accuracy: 0.7893\n",
      "Epoch 55/100\n",
      "244/244 [==============================] - 4s 15ms/step - loss: 0.3728 - accuracy: 0.8510 - val_loss: 0.5034 - val_accuracy: 0.7964\n",
      "Epoch 56/100\n",
      "244/244 [==============================] - 4s 15ms/step - loss: 0.3713 - accuracy: 0.8511 - val_loss: 0.4688 - val_accuracy: 0.8184\n",
      "Epoch 57/100\n",
      "244/244 [==============================] - 4s 15ms/step - loss: 0.3724 - accuracy: 0.8512 - val_loss: 0.4794 - val_accuracy: 0.8107\n",
      "Epoch 58/100\n",
      "244/244 [==============================] - 4s 15ms/step - loss: 0.3710 - accuracy: 0.8516 - val_loss: 0.4923 - val_accuracy: 0.8139\n",
      "Epoch 59/100\n",
      "244/244 [==============================] - 4s 15ms/step - loss: 0.3708 - accuracy: 0.8517 - val_loss: 0.4961 - val_accuracy: 0.8051\n",
      "Epoch 60/100\n",
      "244/244 [==============================] - 4s 15ms/step - loss: 0.3672 - accuracy: 0.8527 - val_loss: 0.4803 - val_accuracy: 0.8112\n",
      "Epoch 61/100\n",
      "244/244 [==============================] - 4s 15ms/step - loss: 0.3693 - accuracy: 0.8522 - val_loss: 0.4978 - val_accuracy: 0.8028\n",
      "Epoch 62/100\n",
      "244/244 [==============================] - 4s 15ms/step - loss: 0.3703 - accuracy: 0.8521 - val_loss: 0.4893 - val_accuracy: 0.8132\n",
      "Epoch 63/100\n",
      "244/244 [==============================] - 4s 15ms/step - loss: 0.3692 - accuracy: 0.8527 - val_loss: 0.5273 - val_accuracy: 0.7916\n",
      "Epoch 64/100\n",
      "244/244 [==============================] - 4s 14ms/step - loss: 0.3685 - accuracy: 0.8525 - val_loss: 0.5193 - val_accuracy: 0.8038\n",
      "Epoch 65/100\n",
      "244/244 [==============================] - 4s 15ms/step - loss: 0.3742 - accuracy: 0.8509 - val_loss: 0.4985 - val_accuracy: 0.8037\n",
      "Epoch 66/100\n",
      "244/244 [==============================] - 4s 15ms/step - loss: 0.3689 - accuracy: 0.8528 - val_loss: 0.5159 - val_accuracy: 0.8102\n",
      "Epoch 67/100\n",
      "244/244 [==============================] - 4s 15ms/step - loss: 0.3708 - accuracy: 0.8521 - val_loss: 0.5208 - val_accuracy: 0.7928\n",
      "Epoch 68/100\n",
      "244/244 [==============================] - 4s 15ms/step - loss: 0.3681 - accuracy: 0.8532 - val_loss: 0.5005 - val_accuracy: 0.8063\n",
      "Epoch 69/100\n",
      "244/244 [==============================] - 4s 15ms/step - loss: 0.3633 - accuracy: 0.8544 - val_loss: 0.5177 - val_accuracy: 0.8045\n",
      "Epoch 70/100\n",
      "244/244 [==============================] - 4s 15ms/step - loss: 0.3631 - accuracy: 0.8552 - val_loss: 0.4948 - val_accuracy: 0.8063\n",
      "Epoch 71/100\n",
      "244/244 [==============================] - 4s 15ms/step - loss: 0.3680 - accuracy: 0.8536 - val_loss: 0.4876 - val_accuracy: 0.8099\n",
      "Epoch 72/100\n",
      "244/244 [==============================] - 4s 15ms/step - loss: 0.3641 - accuracy: 0.8544 - val_loss: 0.5048 - val_accuracy: 0.8081\n",
      "Epoch 73/100\n",
      "244/244 [==============================] - 4s 15ms/step - loss: 0.3650 - accuracy: 0.8543 - val_loss: 0.5017 - val_accuracy: 0.8059\n",
      "Epoch 74/100\n",
      "244/244 [==============================] - 4s 15ms/step - loss: 0.3646 - accuracy: 0.8547 - val_loss: 0.5034 - val_accuracy: 0.8008\n",
      "Epoch 75/100\n",
      "244/244 [==============================] - 4s 15ms/step - loss: 0.3631 - accuracy: 0.8551 - val_loss: 0.4999 - val_accuracy: 0.8108\n",
      "Epoch 76/100\n",
      "244/244 [==============================] - 4s 15ms/step - loss: 0.3668 - accuracy: 0.8540 - val_loss: 0.4995 - val_accuracy: 0.8019\n",
      "Epoch 77/100\n",
      "244/244 [==============================] - 4s 15ms/step - loss: 0.3624 - accuracy: 0.8556 - val_loss: 0.4889 - val_accuracy: 0.8118\n",
      "Epoch 78/100\n",
      "244/244 [==============================] - 4s 15ms/step - loss: 0.3604 - accuracy: 0.8564 - val_loss: 0.5070 - val_accuracy: 0.8060\n",
      "Epoch 79/100\n",
      "244/244 [==============================] - 4s 15ms/step - loss: 0.3587 - accuracy: 0.8573 - val_loss: 0.4973 - val_accuracy: 0.8098\n",
      "Epoch 80/100\n",
      "244/244 [==============================] - 4s 15ms/step - loss: 0.3632 - accuracy: 0.8555 - val_loss: 0.4939 - val_accuracy: 0.8135\n",
      "Epoch 81/100\n",
      "244/244 [==============================] - 4s 15ms/step - loss: 0.3645 - accuracy: 0.8549 - val_loss: 0.4964 - val_accuracy: 0.8069\n",
      "Epoch 82/100\n",
      "244/244 [==============================] - 4s 14ms/step - loss: 0.3628 - accuracy: 0.8558 - val_loss: 0.5002 - val_accuracy: 0.8028\n",
      "Epoch 83/100\n",
      "244/244 [==============================] - 4s 15ms/step - loss: 0.3582 - accuracy: 0.8572 - val_loss: 0.5337 - val_accuracy: 0.7920\n",
      "Epoch 84/100\n",
      "244/244 [==============================] - 4s 15ms/step - loss: 0.3617 - accuracy: 0.8564 - val_loss: 0.5100 - val_accuracy: 0.8080\n",
      "Epoch 85/100\n",
      "244/244 [==============================] - 4s 15ms/step - loss: 0.3571 - accuracy: 0.8574 - val_loss: 0.5144 - val_accuracy: 0.8041\n",
      "Epoch 86/100\n",
      "244/244 [==============================] - 4s 15ms/step - loss: 0.3583 - accuracy: 0.8576 - val_loss: 0.5870 - val_accuracy: 0.7629\n",
      "Epoch 87/100\n",
      "244/244 [==============================] - 4s 15ms/step - loss: 0.3612 - accuracy: 0.8564 - val_loss: 0.5074 - val_accuracy: 0.7923\n",
      "Epoch 88/100\n",
      "244/244 [==============================] - 4s 15ms/step - loss: 0.3589 - accuracy: 0.8572 - val_loss: 0.5406 - val_accuracy: 0.7836\n",
      "Epoch 89/100\n",
      "244/244 [==============================] - 4s 15ms/step - loss: 0.3597 - accuracy: 0.8566 - val_loss: 0.5258 - val_accuracy: 0.7924\n",
      "Epoch 90/100\n",
      "244/244 [==============================] - 4s 15ms/step - loss: 0.3601 - accuracy: 0.8569 - val_loss: 0.4890 - val_accuracy: 0.8145\n",
      "Epoch 91/100\n",
      "244/244 [==============================] - 4s 15ms/step - loss: 0.3628 - accuracy: 0.8561 - val_loss: 0.5239 - val_accuracy: 0.7988\n",
      "Epoch 92/100\n",
      "244/244 [==============================] - 4s 15ms/step - loss: 0.3618 - accuracy: 0.8565 - val_loss: 0.5114 - val_accuracy: 0.7985\n",
      "Epoch 93/100\n",
      "244/244 [==============================] - 4s 15ms/step - loss: 0.3583 - accuracy: 0.8575 - val_loss: 0.4972 - val_accuracy: 0.8141\n",
      "Epoch 94/100\n",
      "244/244 [==============================] - 4s 15ms/step - loss: 0.3581 - accuracy: 0.8574 - val_loss: 0.5365 - val_accuracy: 0.7962\n",
      "Epoch 95/100\n",
      "244/244 [==============================] - 4s 16ms/step - loss: 0.3548 - accuracy: 0.8589 - val_loss: 0.5140 - val_accuracy: 0.8041\n",
      "Epoch 96/100\n",
      "244/244 [==============================] - 4s 15ms/step - loss: 0.3628 - accuracy: 0.8559 - val_loss: 0.5066 - val_accuracy: 0.7993\n",
      "Epoch 97/100\n",
      "244/244 [==============================] - 4s 15ms/step - loss: 0.3553 - accuracy: 0.8589 - val_loss: 0.5329 - val_accuracy: 0.7853\n",
      "Epoch 98/100\n",
      "244/244 [==============================] - 4s 16ms/step - loss: 0.3551 - accuracy: 0.8588 - val_loss: 0.5262 - val_accuracy: 0.7867\n",
      "Epoch 99/100\n",
      "244/244 [==============================] - 4s 17ms/step - loss: 0.3544 - accuracy: 0.8590 - val_loss: 0.5202 - val_accuracy: 0.8004\n",
      "Epoch 100/100\n",
      "244/244 [==============================] - 4s 15ms/step - loss: 0.3531 - accuracy: 0.8596 - val_loss: 0.5276 - val_accuracy: 0.7898\n"
     ]
    }
   ],
   "source": [
    "history2 = model_new.fit(x_data, y_cat, epochs=100,batch_size=16, validation_split=0.2)"
   ],
   "metadata": {
    "collapsed": false
   }
  },
  {
   "cell_type": "code",
   "execution_count": 166,
   "outputs": [
    {
     "data": {
      "text/plain": "<Figure size 640x480 with 1 Axes>",
      "image/png": "[encoded data removed]"
     },
     "metadata": {},
     "output_type": "display_data"
    }
   ],
   "source": [
    "plt.plot(history2.history['accuracy'])\n",
    "plt.plot(history2.history['val_accuracy'])\n",
    "plt.title('Model Accuracy')\n",
    "plt.ylabel('Accuracy')\n",
    "plt.xlabel('#f Iterations')\n",
    "plt.legend(['Train', 'Test'], loc='upper left')\n",
    "plt.show()"
   ],
   "metadata": {
    "collapsed": false
   }
  },
  {
   "cell_type": "markdown",
   "source": [
    "## Check"
   ],
   "metadata": {
    "collapsed": false
   }
  },
  {
   "cell_type": "code",
   "execution_count": 167,
   "outputs": [
    {
     "data": {
      "text/plain": "['/tmp/shared/dataset4/2/2022-10-11-00_00_2022-10-11-23_59_Sentinel-2_L2A_B01_(Raw).tiff',\n '/tmp/shared/dataset4/2/2022-10-11-00_00_2022-10-11-23_59_Sentinel-2_L2A_B02_(Raw).tiff',\n '/tmp/shared/dataset4/2/2022-10-11-00_00_2022-10-11-23_59_Sentinel-2_L2A_B03_(Raw).tiff',\n '/tmp/shared/dataset4/2/2022-10-11-00_00_2022-10-11-23_59_Sentinel-2_L2A_B04_(Raw).tiff',\n '/tmp/shared/dataset4/2/2022-10-11-00_00_2022-10-11-23_59_Sentinel-2_L2A_B05_(Raw).tiff',\n '/tmp/shared/dataset4/2/2022-10-11-00_00_2022-10-11-23_59_Sentinel-2_L2A_B06_(Raw).tiff',\n '/tmp/shared/dataset4/2/2022-10-11-00_00_2022-10-11-23_59_Sentinel-2_L2A_B07_(Raw).tiff',\n '/tmp/shared/dataset4/2/2022-10-11-00_00_2022-10-11-23_59_Sentinel-2_L2A_B08_(Raw).tiff',\n '/tmp/shared/dataset4/2/2022-10-11-00_00_2022-10-11-23_59_Sentinel-2_L2A_B09_(Raw).tiff',\n '/tmp/shared/dataset4/2/2022-10-11-00_00_2022-10-11-23_59_Sentinel-2_L2A_B11_(Raw).tiff',\n '/tmp/shared/dataset4/2/2022-10-11-00_00_2022-10-11-23_59_Sentinel-2_L2A_B12_(Raw).tiff',\n '/tmp/shared/dataset4/2/2022-10-11-00_00_2022-10-11-23_59_Sentinel-2_L2A_B8A_(Raw).tiff']"
     },
     "execution_count": 167,
     "metadata": {},
     "output_type": "execute_result"
    }
   ],
   "source": [
    "from glob import glob\n",
    "S_sentinel_bands = glob(\"/tmp/shared/dataset4/2/*B?*.tiff\")\n",
    "S_sentinel_bands.sort()\n",
    "S_sentinel_bands"
   ],
   "metadata": {
    "collapsed": false
   }
  },
  {
   "cell_type": "code",
   "execution_count": 168,
   "outputs": [],
   "source": [
    "l = []\n",
    "for i in S_sentinel_bands:\n",
    "  with rio.open(i, 'r') as f:\n",
    "    l.append(f.read(1))"
   ],
   "metadata": {
    "collapsed": false
   }
  },
  {
   "cell_type": "code",
   "execution_count": 169,
   "outputs": [],
   "source": [
    "arr_st = np.stack(l)"
   ],
   "metadata": {
    "collapsed": false
   }
  },
  {
   "cell_type": "code",
   "execution_count": 170,
   "outputs": [
    {
     "data": {
      "text/plain": "(12, 638, 1094)"
     },
     "execution_count": 170,
     "metadata": {},
     "output_type": "execute_result"
    }
   ],
   "source": [
    "arr_st.shape"
   ],
   "metadata": {
    "collapsed": false
   }
  },
  {
   "cell_type": "code",
   "execution_count": 171,
   "outputs": [
    {
     "data": {
      "text/plain": "(638, 1094, 12)"
     },
     "execution_count": 171,
     "metadata": {},
     "output_type": "execute_result"
    }
   ],
   "source": [
    "x = np.moveaxis(arr_st, 0, -1)\n",
    "x.shape"
   ],
   "metadata": {
    "collapsed": false
   }
  },
  {
   "cell_type": "code",
   "execution_count": 172,
   "outputs": [],
   "source": [
    "x1_v = x.shape[0]%32\n",
    "x1_h = x.shape[1]%32\n",
    "res1 = x.shape[0]-x1_v\n",
    "res2 = x.shape[1]-x1_h\n",
    "xx = x[0:(x.shape[0]-x1_v),0:(x.shape[1]-x1_h),:]"
   ],
   "metadata": {
    "collapsed": false
   }
  },
  {
   "cell_type": "code",
   "execution_count": 173,
   "outputs": [],
   "source": [
    "x_rr = xx.reshape(-1, 32,32,12)"
   ],
   "metadata": {
    "collapsed": false
   }
  },
  {
   "cell_type": "code",
   "execution_count": 174,
   "outputs": [
    {
     "name": "stdout",
     "output_type": "stream",
     "text": [
      "41/41 [==============================] - 1s 10ms/step\n"
     ]
    }
   ],
   "source": [
    "prediction = model_new.predict(x_rr,batch_size=16)"
   ],
   "metadata": {
    "collapsed": false
   }
  },
  {
   "cell_type": "code",
   "execution_count": 175,
   "outputs": [
    {
     "data": {
      "text/plain": "(646, 32, 32)"
     },
     "execution_count": 175,
     "metadata": {},
     "output_type": "execute_result"
    }
   ],
   "source": [
    "pred_cat = np.argmax(prediction,axis=3)\n",
    "pred_cat.shape"
   ],
   "metadata": {
    "collapsed": false
   }
  },
  {
   "cell_type": "code",
   "execution_count": 176,
   "outputs": [],
   "source": [
    "pred_pxl = pred_cat.reshape(res1,res2)"
   ],
   "metadata": {
    "collapsed": false
   }
  },
  {
   "cell_type": "code",
   "execution_count": 177,
   "outputs": [
    {
     "data": {
      "text/plain": "<Figure size 1200x1200 with 2 Axes>",
      "image/png": "[encoded data removed]"
     },
     "metadata": {},
     "output_type": "display_data"
    },
    {
     "data": {
      "text/plain": "<AxesSubplot:>"
     },
     "execution_count": 177,
     "metadata": {},
     "output_type": "execute_result"
    }
   ],
   "source": [
    "ep.plot_bands(pred_pxl,\n",
    "              cmap=ListedColormap(['green', 'purple', 'orange', 'blue', 'yellow']))"
   ],
   "metadata": {
    "collapsed": false
   }
  },
  {
   "cell_type": "code",
   "execution_count": 178,
   "outputs": [
    {
     "data": {
      "text/plain": "['/tmp/shared/dataset4/1/2022-11-14-00_00_2022-11-14-23_59_Sentinel-2_L2A_Scene_classification_map.tiff']"
     },
     "execution_count": 178,
     "metadata": {},
     "output_type": "execute_result"
    }
   ],
   "source": [
    "Check_images = glob(\"/tmp/shared/dataset4/1/*Scen*.tiff\")\n",
    "Check_images"
   ],
   "metadata": {
    "collapsed": false
   }
  },
  {
   "cell_type": "code",
   "execution_count": 179,
   "outputs": [
    {
     "ename": "ValueError",
     "evalue": "Cannot embed the 'tiff' image format",
     "output_type": "error",
     "traceback": [
      "\u001B[0;31m---------------------------------------------------------------------------\u001B[0m",
      "\u001B[0;31mValueError\u001B[0m                                Traceback (most recent call last)",
      "Input \u001B[0;32mIn [179]\u001B[0m, in \u001B[0;36m<cell line: 2>\u001B[0;34m()\u001B[0m\n\u001B[1;32m      1\u001B[0m \u001B[38;5;28;01mfrom\u001B[39;00m \u001B[38;5;21;01mIPython\u001B[39;00m\u001B[38;5;21;01m.\u001B[39;00m\u001B[38;5;21;01mdisplay\u001B[39;00m \u001B[38;5;28;01mimport\u001B[39;00m Image\n\u001B[0;32m----> 2\u001B[0m \u001B[43mImage\u001B[49m\u001B[43m(\u001B[49m\u001B[43mfilename\u001B[49m\u001B[38;5;241;43m=\u001B[39;49m\u001B[43mCheck_images\u001B[49m\u001B[43m[\u001B[49m\u001B[38;5;241;43m0\u001B[39;49m\u001B[43m]\u001B[49m\u001B[43m)\u001B[49m\n",
      "File \u001B[0;32m/usr/local/lib/python3.8/dist-packages/IPython/core/display.py:948\u001B[0m, in \u001B[0;36mImage.__init__\u001B[0;34m(self, data, url, filename, format, embed, width, height, retina, unconfined, metadata, alt)\u001B[0m\n\u001B[1;32m    945\u001B[0m \u001B[38;5;28mself\u001B[39m\u001B[38;5;241m.\u001B[39membed \u001B[38;5;241m=\u001B[39m embed \u001B[38;5;28;01mif\u001B[39;00m embed \u001B[38;5;129;01mis\u001B[39;00m \u001B[38;5;129;01mnot\u001B[39;00m \u001B[38;5;28;01mNone\u001B[39;00m \u001B[38;5;28;01melse\u001B[39;00m (url \u001B[38;5;129;01mis\u001B[39;00m \u001B[38;5;28;01mNone\u001B[39;00m)\n\u001B[1;32m    947\u001B[0m \u001B[38;5;28;01mif\u001B[39;00m \u001B[38;5;28mself\u001B[39m\u001B[38;5;241m.\u001B[39membed \u001B[38;5;129;01mand\u001B[39;00m \u001B[38;5;28mself\u001B[39m\u001B[38;5;241m.\u001B[39mformat \u001B[38;5;129;01mnot\u001B[39;00m \u001B[38;5;129;01min\u001B[39;00m \u001B[38;5;28mself\u001B[39m\u001B[38;5;241m.\u001B[39m_ACCEPTABLE_EMBEDDINGS:\n\u001B[0;32m--> 948\u001B[0m     \u001B[38;5;28;01mraise\u001B[39;00m \u001B[38;5;167;01mValueError\u001B[39;00m(\u001B[38;5;124m\"\u001B[39m\u001B[38;5;124mCannot embed the \u001B[39m\u001B[38;5;124m'\u001B[39m\u001B[38;5;132;01m%s\u001B[39;00m\u001B[38;5;124m'\u001B[39m\u001B[38;5;124m image format\u001B[39m\u001B[38;5;124m\"\u001B[39m \u001B[38;5;241m%\u001B[39m (\u001B[38;5;28mself\u001B[39m\u001B[38;5;241m.\u001B[39mformat))\n\u001B[1;32m    949\u001B[0m \u001B[38;5;28;01mif\u001B[39;00m \u001B[38;5;28mself\u001B[39m\u001B[38;5;241m.\u001B[39membed:\n\u001B[1;32m    950\u001B[0m     \u001B[38;5;28mself\u001B[39m\u001B[38;5;241m.\u001B[39m_mimetype \u001B[38;5;241m=\u001B[39m \u001B[38;5;28mself\u001B[39m\u001B[38;5;241m.\u001B[39m_MIMETYPES\u001B[38;5;241m.\u001B[39mget(\u001B[38;5;28mself\u001B[39m\u001B[38;5;241m.\u001B[39mformat)\n",
      "\u001B[0;31mValueError\u001B[0m: Cannot embed the 'tiff' image format"
     ]
    }
   ],
   "source": [
    "from IPython.display import Image\n",
    "Image(filename=Check_images[0])"
   ],
   "metadata": {
    "collapsed": false
   }
  },
  {
   "cell_type": "code",
   "execution_count": 96,
   "outputs": [
    {
     "ename": "ModuleNotFoundError",
     "evalue": "No module named 'cv2'",
     "output_type": "error",
     "traceback": [
      "\u001B[0;31m---------------------------------------------------------------------------\u001B[0m",
      "\u001B[0;31mModuleNotFoundError\u001B[0m                       Traceback (most recent call last)",
      "Input \u001B[0;32mIn [96]\u001B[0m, in \u001B[0;36m<cell line: 1>\u001B[0;34m()\u001B[0m\n\u001B[0;32m----> 1\u001B[0m \u001B[38;5;28;01mimport\u001B[39;00m \u001B[38;5;21;01mcv2\u001B[39;00m\n\u001B[1;32m      3\u001B[0m gray \u001B[38;5;241m=\u001B[39m cv2\u001B[38;5;241m.\u001B[39mimread(\u001B[38;5;124m\"\u001B[39m\u001B[38;5;124mpath/to/tiff/0.tiff\u001B[39m\u001B[38;5;124m\"\u001B[39m, cv2\u001B[38;5;241m.\u001B[39mIMREAD_UNCHANGED)\n\u001B[1;32m      5\u001B[0m cv2\u001B[38;5;241m.\u001B[39mnamedWindow(\u001B[38;5;124m\"\u001B[39m\u001B[38;5;124mMyImage\u001B[39m\u001B[38;5;124m\"\u001B[39m, cv2\u001B[38;5;241m.\u001B[39mWINDOW_NORMAL)\n",
      "\u001B[0;31mModuleNotFoundError\u001B[0m: No module named 'cv2'"
     ]
    }
   ],
   "source": [
    "# import cv2\n",
    "#\n",
    "# gray = cv2.imread(\"path/to/tiff/0.tiff\", cv2.IMREAD_UNCHANGED)\n",
    "#\n",
    "# cv2.namedWindow(\"MyImage\", cv2.WINDOW_NORMAL)\n",
    "# cv2.imshow(\"MyImage\", gray)\n",
    "# cv2.waitKey(0)"
   ],
   "metadata": {
    "collapsed": false
   }
  },
  {
   "cell_type": "code",
   "execution_count": null,
   "outputs": [],
   "source": [],
   "metadata": {
    "collapsed": false
   }
  }
 ],
 "metadata": {
  "kernelspec": {
   "display_name": "Python 3",
   "language": "python",
   "name": "python3"
  },
  "language_info": {
   "codemirror_mode": {
    "name": "ipython",
    "version": 2
   },
   "file_extension": ".py",
   "mimetype": "text/x-python",
   "name": "python",
   "nbconvert_exporter": "python",
   "pygments_lexer": "ipython2",
   "version": "2.7.6"
  }
 },
 "nbformat": 4,
 "nbformat_minor": 0
}
