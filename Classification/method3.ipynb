{
 "cells": [
  {
   "cell_type": "code",
   "execution_count": 7,
   "metadata": {
    "collapsed": true
   },
   "outputs": [
    {
     "data": {
      "text/plain": "{'divide': 'ignore', 'over': 'warn', 'under': 'ignore', 'invalid': 'ignore'}"
     },
     "execution_count": 7,
     "metadata": {},
     "output_type": "execute_result"
    }
   ],
   "source": [
    "from glob import glob\n",
    "\n",
    "import earthpy as et\n",
    "import earthpy.spatial as es\n",
    "import earthpy.plot as ep\n",
    "\n",
    "import rasterio as rio\n",
    "from rasterio.plot import plotting_extent\n",
    "from rasterio.plot import show\n",
    "from rasterio.plot import reshape_as_raster, reshape_as_image\n",
    "\n",
    "import matplotlib.pyplot as plt\n",
    "import numpy as np\n",
    "from matplotlib.colors import ListedColormap\n",
    "\n",
    "from scipy.io import loadmat\n",
    "from sklearn.metrics import classification_report, accuracy_score\n",
    "\n",
    "import plotly.graph_objects as go\n",
    "\n",
    "np.seterr(divide='ignore', invalid='ignore')"
   ]
  },
  {
   "cell_type": "code",
   "execution_count": 8,
   "outputs": [],
   "source": [
    "def getFilesNewForY(basePath):\n",
    "    dirs = glob(basePath+\"/*/\")\n",
    "    print(dirs)\n",
    "    #print(dirs)\n",
    "    for _dir in dirs:\n",
    "        files = glob(_dir+\"*Scene_classification*.tiff\")\n",
    "        file = files[0]\n",
    "        #print(files)\n",
    "        yield file"
   ],
   "metadata": {
    "collapsed": false
   }
  },
  {
   "cell_type": "code",
   "execution_count": 9,
   "outputs": [
    {
     "name": "stdout",
     "output_type": "stream",
     "text": [
      "['/tmp/shared/dataset4/5/', '/tmp/shared/dataset4/7/', '/tmp/shared/dataset4/6/', '/tmp/shared/dataset4/4/', '/tmp/shared/dataset4/1/', '/tmp/shared/dataset4/3/', '/tmp/shared/dataset4/8/', '/tmp/shared/dataset4/2/']\n"
     ]
    },
    {
     "data": {
      "text/plain": "['/tmp/shared/dataset4/5/2022-10-11-00_00_2022-10-11-23_59_Sentinel-2_L2A_Scene_classification_map.tiff',\n '/tmp/shared/dataset4/7/2022-10-11-00_00_2022-10-11-23_59_Sentinel-2_L2A_Scene_classification_map.tiff',\n '/tmp/shared/dataset4/6/2022-10-11-00_00_2022-10-11-23_59_Sentinel-2_L2A_Scene_classification_map.tiff',\n '/tmp/shared/dataset4/4/2022-10-11-00_00_2022-10-11-23_59_Sentinel-2_L2A_Scene_classification_map.tiff',\n '/tmp/shared/dataset4/1/2022-11-14-00_00_2022-11-14-23_59_Sentinel-2_L2A_Scene_classification_map.tiff',\n '/tmp/shared/dataset4/3/2022-10-11-00_00_2022-10-11-23_59_Sentinel-2_L2A_Scene_classification_map.tiff',\n '/tmp/shared/dataset4/8/2022-10-11-00_00_2022-10-11-23_59_Sentinel-2_L2A_Scene_classification_map.tiff',\n '/tmp/shared/dataset4/2/2022-10-11-00_00_2022-10-11-23_59_Sentinel-2_L2A_Scene_classification_map.tiff']"
     },
     "execution_count": 9,
     "metadata": {},
     "output_type": "execute_result"
    }
   ],
   "source": [
    "fileNamesY = list(getFilesNewForY(\"/tmp/shared/dataset4\"))\n",
    "fileNamesY"
   ],
   "metadata": {
    "collapsed": false
   }
  },
  {
   "cell_type": "code",
   "execution_count": 10,
   "outputs": [],
   "source": [
    "def getFilesNew(basePath):\n",
    "    dirs = glob(basePath+\"/*/\")\n",
    "    #print(dirs)\n",
    "    for _dir in dirs:\n",
    "        files = glob(_dir+\"*B?*.tiff\")\n",
    "        #print(files)\n",
    "        yield files"
   ],
   "metadata": {
    "collapsed": false
   }
  },
  {
   "cell_type": "code",
   "execution_count": 11,
   "outputs": [
    {
     "data": {
      "text/plain": "[['/tmp/shared/dataset4/5/2022-10-11-00_00_2022-10-11-23_59_Sentinel-2_L2A_B01_(Raw).tiff',\n  '/tmp/shared/dataset4/5/2022-10-11-00_00_2022-10-11-23_59_Sentinel-2_L2A_B11_(Raw).tiff',\n  '/tmp/shared/dataset4/5/2022-10-11-00_00_2022-10-11-23_59_Sentinel-2_L2A_B09_(Raw).tiff',\n  '/tmp/shared/dataset4/5/2022-10-11-00_00_2022-10-11-23_59_Sentinel-2_L2A_B8A_(Raw).tiff',\n  '/tmp/shared/dataset4/5/2022-10-11-00_00_2022-10-11-23_59_Sentinel-2_L2A_B12_(Raw).tiff',\n  '/tmp/shared/dataset4/5/2022-10-11-00_00_2022-10-11-23_59_Sentinel-2_L2A_B03_(Raw).tiff',\n  '/tmp/shared/dataset4/5/2022-10-11-00_00_2022-10-11-23_59_Sentinel-2_L2A_B02_(Raw).tiff',\n  '/tmp/shared/dataset4/5/2022-10-11-00_00_2022-10-11-23_59_Sentinel-2_L2A_B05_(Raw).tiff',\n  '/tmp/shared/dataset4/5/2022-10-11-00_00_2022-10-11-23_59_Sentinel-2_L2A_B07_(Raw).tiff',\n  '/tmp/shared/dataset4/5/2022-10-11-00_00_2022-10-11-23_59_Sentinel-2_L2A_B04_(Raw).tiff',\n  '/tmp/shared/dataset4/5/2022-10-11-00_00_2022-10-11-23_59_Sentinel-2_L2A_B08_(Raw).tiff',\n  '/tmp/shared/dataset4/5/2022-10-11-00_00_2022-10-11-23_59_Sentinel-2_L2A_B06_(Raw).tiff'],\n ['/tmp/shared/dataset4/7/2022-10-11-00_00_2022-10-11-23_59_Sentinel-2_L2A_B01_(Raw).tiff',\n  '/tmp/shared/dataset4/7/2022-10-11-00_00_2022-10-11-23_59_Sentinel-2_L2A_B11_(Raw).tiff',\n  '/tmp/shared/dataset4/7/2022-10-11-00_00_2022-10-11-23_59_Sentinel-2_L2A_B09_(Raw).tiff',\n  '/tmp/shared/dataset4/7/2022-10-11-00_00_2022-10-11-23_59_Sentinel-2_L2A_B8A_(Raw).tiff',\n  '/tmp/shared/dataset4/7/2022-10-11-00_00_2022-10-11-23_59_Sentinel-2_L2A_B12_(Raw).tiff',\n  '/tmp/shared/dataset4/7/2022-10-11-00_00_2022-10-11-23_59_Sentinel-2_L2A_B03_(Raw).tiff',\n  '/tmp/shared/dataset4/7/2022-10-11-00_00_2022-10-11-23_59_Sentinel-2_L2A_B02_(Raw).tiff',\n  '/tmp/shared/dataset4/7/2022-10-11-00_00_2022-10-11-23_59_Sentinel-2_L2A_B05_(Raw).tiff',\n  '/tmp/shared/dataset4/7/2022-10-11-00_00_2022-10-11-23_59_Sentinel-2_L2A_B07_(Raw).tiff',\n  '/tmp/shared/dataset4/7/2022-10-11-00_00_2022-10-11-23_59_Sentinel-2_L2A_B04_(Raw).tiff',\n  '/tmp/shared/dataset4/7/2022-10-11-00_00_2022-10-11-23_59_Sentinel-2_L2A_B08_(Raw).tiff',\n  '/tmp/shared/dataset4/7/2022-10-11-00_00_2022-10-11-23_59_Sentinel-2_L2A_B06_(Raw).tiff'],\n ['/tmp/shared/dataset4/6/2022-10-11-00_00_2022-10-11-23_59_Sentinel-2_L2A_B01_(Raw).tiff',\n  '/tmp/shared/dataset4/6/2022-10-11-00_00_2022-10-11-23_59_Sentinel-2_L2A_B11_(Raw).tiff',\n  '/tmp/shared/dataset4/6/2022-10-11-00_00_2022-10-11-23_59_Sentinel-2_L2A_B09_(Raw).tiff',\n  '/tmp/shared/dataset4/6/2022-10-11-00_00_2022-10-11-23_59_Sentinel-2_L2A_B8A_(Raw).tiff',\n  '/tmp/shared/dataset4/6/2022-10-11-00_00_2022-10-11-23_59_Sentinel-2_L2A_B12_(Raw).tiff',\n  '/tmp/shared/dataset4/6/2022-10-11-00_00_2022-10-11-23_59_Sentinel-2_L2A_B03_(Raw).tiff',\n  '/tmp/shared/dataset4/6/2022-10-11-00_00_2022-10-11-23_59_Sentinel-2_L2A_B02_(Raw).tiff',\n  '/tmp/shared/dataset4/6/2022-10-11-00_00_2022-10-11-23_59_Sentinel-2_L2A_B05_(Raw).tiff',\n  '/tmp/shared/dataset4/6/2022-10-11-00_00_2022-10-11-23_59_Sentinel-2_L2A_B07_(Raw).tiff',\n  '/tmp/shared/dataset4/6/2022-10-11-00_00_2022-10-11-23_59_Sentinel-2_L2A_B04_(Raw).tiff',\n  '/tmp/shared/dataset4/6/2022-10-11-00_00_2022-10-11-23_59_Sentinel-2_L2A_B08_(Raw).tiff',\n  '/tmp/shared/dataset4/6/2022-10-11-00_00_2022-10-11-23_59_Sentinel-2_L2A_B06_(Raw).tiff'],\n ['/tmp/shared/dataset4/4/2022-10-11-00_00_2022-10-11-23_59_Sentinel-2_L2A_B01_(Raw).tiff',\n  '/tmp/shared/dataset4/4/2022-10-11-00_00_2022-10-11-23_59_Sentinel-2_L2A_B11_(Raw).tiff',\n  '/tmp/shared/dataset4/4/2022-10-11-00_00_2022-10-11-23_59_Sentinel-2_L2A_B09_(Raw).tiff',\n  '/tmp/shared/dataset4/4/2022-10-11-00_00_2022-10-11-23_59_Sentinel-2_L2A_B8A_(Raw).tiff',\n  '/tmp/shared/dataset4/4/2022-10-11-00_00_2022-10-11-23_59_Sentinel-2_L2A_B12_(Raw).tiff',\n  '/tmp/shared/dataset4/4/2022-10-11-00_00_2022-10-11-23_59_Sentinel-2_L2A_B03_(Raw).tiff',\n  '/tmp/shared/dataset4/4/2022-10-11-00_00_2022-10-11-23_59_Sentinel-2_L2A_B02_(Raw).tiff',\n  '/tmp/shared/dataset4/4/2022-10-11-00_00_2022-10-11-23_59_Sentinel-2_L2A_B05_(Raw).tiff',\n  '/tmp/shared/dataset4/4/2022-10-11-00_00_2022-10-11-23_59_Sentinel-2_L2A_B07_(Raw).tiff',\n  '/tmp/shared/dataset4/4/2022-10-11-00_00_2022-10-11-23_59_Sentinel-2_L2A_B04_(Raw).tiff',\n  '/tmp/shared/dataset4/4/2022-10-11-00_00_2022-10-11-23_59_Sentinel-2_L2A_B08_(Raw).tiff',\n  '/tmp/shared/dataset4/4/2022-10-11-00_00_2022-10-11-23_59_Sentinel-2_L2A_B06_(Raw).tiff'],\n ['/tmp/shared/dataset4/1/2022-11-14-00_00_2022-11-14-23_59_Sentinel-2_L2A_B03_(Raw).tiff',\n  '/tmp/shared/dataset4/1/2022-11-14-00_00_2022-11-14-23_59_Sentinel-2_L2A_B8A_(Raw).tiff',\n  '/tmp/shared/dataset4/1/2022-11-14-00_00_2022-11-14-23_59_Sentinel-2_L2A_B09_(Raw).tiff',\n  '/tmp/shared/dataset4/1/2022-11-14-00_00_2022-11-14-23_59_Sentinel-2_L2A_B01_(Raw).tiff',\n  '/tmp/shared/dataset4/1/2022-11-14-00_00_2022-11-14-23_59_Sentinel-2_L2A_B04_(Raw).tiff',\n  '/tmp/shared/dataset4/1/2022-11-14-00_00_2022-11-14-23_59_Sentinel-2_L2A_B05_(Raw).tiff',\n  '/tmp/shared/dataset4/1/2022-11-14-00_00_2022-11-14-23_59_Sentinel-2_L2A_B08_(Raw).tiff',\n  '/tmp/shared/dataset4/1/2022-11-14-00_00_2022-11-14-23_59_Sentinel-2_L2A_B06_(Raw).tiff',\n  '/tmp/shared/dataset4/1/2022-11-14-00_00_2022-11-14-23_59_Sentinel-2_L2A_B07_(Raw).tiff',\n  '/tmp/shared/dataset4/1/2022-11-14-00_00_2022-11-14-23_59_Sentinel-2_L2A_B12_(Raw).tiff',\n  '/tmp/shared/dataset4/1/2022-11-14-00_00_2022-11-14-23_59_Sentinel-2_L2A_B02_(Raw).tiff',\n  '/tmp/shared/dataset4/1/2022-11-14-00_00_2022-11-14-23_59_Sentinel-2_L2A_B11_(Raw).tiff'],\n ['/tmp/shared/dataset4/3/2022-10-11-00_00_2022-10-11-23_59_Sentinel-2_L2A_B01_(Raw).tiff',\n  '/tmp/shared/dataset4/3/2022-10-11-00_00_2022-10-11-23_59_Sentinel-2_L2A_B11_(Raw).tiff',\n  '/tmp/shared/dataset4/3/2022-10-11-00_00_2022-10-11-23_59_Sentinel-2_L2A_B09_(Raw).tiff',\n  '/tmp/shared/dataset4/3/2022-10-11-00_00_2022-10-11-23_59_Sentinel-2_L2A_B8A_(Raw).tiff',\n  '/tmp/shared/dataset4/3/2022-10-11-00_00_2022-10-11-23_59_Sentinel-2_L2A_B12_(Raw).tiff',\n  '/tmp/shared/dataset4/3/2022-10-11-00_00_2022-10-11-23_59_Sentinel-2_L2A_B03_(Raw).tiff',\n  '/tmp/shared/dataset4/3/2022-10-11-00_00_2022-10-11-23_59_Sentinel-2_L2A_B02_(Raw).tiff',\n  '/tmp/shared/dataset4/3/2022-10-11-00_00_2022-10-11-23_59_Sentinel-2_L2A_B05_(Raw).tiff',\n  '/tmp/shared/dataset4/3/2022-10-11-00_00_2022-10-11-23_59_Sentinel-2_L2A_B07_(Raw).tiff',\n  '/tmp/shared/dataset4/3/2022-10-11-00_00_2022-10-11-23_59_Sentinel-2_L2A_B04_(Raw).tiff',\n  '/tmp/shared/dataset4/3/2022-10-11-00_00_2022-10-11-23_59_Sentinel-2_L2A_B08_(Raw).tiff',\n  '/tmp/shared/dataset4/3/2022-10-11-00_00_2022-10-11-23_59_Sentinel-2_L2A_B06_(Raw).tiff'],\n ['/tmp/shared/dataset4/8/2022-10-11-00_00_2022-10-11-23_59_Sentinel-2_L2A_B01_(Raw).tiff',\n  '/tmp/shared/dataset4/8/2022-10-11-00_00_2022-10-11-23_59_Sentinel-2_L2A_B11_(Raw).tiff',\n  '/tmp/shared/dataset4/8/2022-10-11-00_00_2022-10-11-23_59_Sentinel-2_L2A_B09_(Raw).tiff',\n  '/tmp/shared/dataset4/8/2022-10-11-00_00_2022-10-11-23_59_Sentinel-2_L2A_B8A_(Raw).tiff',\n  '/tmp/shared/dataset4/8/2022-10-11-00_00_2022-10-11-23_59_Sentinel-2_L2A_B12_(Raw).tiff',\n  '/tmp/shared/dataset4/8/2022-10-11-00_00_2022-10-11-23_59_Sentinel-2_L2A_B03_(Raw).tiff',\n  '/tmp/shared/dataset4/8/2022-10-11-00_00_2022-10-11-23_59_Sentinel-2_L2A_B02_(Raw).tiff',\n  '/tmp/shared/dataset4/8/2022-10-11-00_00_2022-10-11-23_59_Sentinel-2_L2A_B05_(Raw).tiff',\n  '/tmp/shared/dataset4/8/2022-10-11-00_00_2022-10-11-23_59_Sentinel-2_L2A_B07_(Raw).tiff',\n  '/tmp/shared/dataset4/8/2022-10-11-00_00_2022-10-11-23_59_Sentinel-2_L2A_B04_(Raw).tiff',\n  '/tmp/shared/dataset4/8/2022-10-11-00_00_2022-10-11-23_59_Sentinel-2_L2A_B08_(Raw).tiff',\n  '/tmp/shared/dataset4/8/2022-10-11-00_00_2022-10-11-23_59_Sentinel-2_L2A_B06_(Raw).tiff'],\n ['/tmp/shared/dataset4/2/2022-10-11-00_00_2022-10-11-23_59_Sentinel-2_L2A_B01_(Raw).tiff',\n  '/tmp/shared/dataset4/2/2022-10-11-00_00_2022-10-11-23_59_Sentinel-2_L2A_B11_(Raw).tiff',\n  '/tmp/shared/dataset4/2/2022-10-11-00_00_2022-10-11-23_59_Sentinel-2_L2A_B09_(Raw).tiff',\n  '/tmp/shared/dataset4/2/2022-10-11-00_00_2022-10-11-23_59_Sentinel-2_L2A_B8A_(Raw).tiff',\n  '/tmp/shared/dataset4/2/2022-10-11-00_00_2022-10-11-23_59_Sentinel-2_L2A_B12_(Raw).tiff',\n  '/tmp/shared/dataset4/2/2022-10-11-00_00_2022-10-11-23_59_Sentinel-2_L2A_B03_(Raw).tiff',\n  '/tmp/shared/dataset4/2/2022-10-11-00_00_2022-10-11-23_59_Sentinel-2_L2A_B02_(Raw).tiff',\n  '/tmp/shared/dataset4/2/2022-10-11-00_00_2022-10-11-23_59_Sentinel-2_L2A_B05_(Raw).tiff',\n  '/tmp/shared/dataset4/2/2022-10-11-00_00_2022-10-11-23_59_Sentinel-2_L2A_B07_(Raw).tiff',\n  '/tmp/shared/dataset4/2/2022-10-11-00_00_2022-10-11-23_59_Sentinel-2_L2A_B04_(Raw).tiff',\n  '/tmp/shared/dataset4/2/2022-10-11-00_00_2022-10-11-23_59_Sentinel-2_L2A_B08_(Raw).tiff',\n  '/tmp/shared/dataset4/2/2022-10-11-00_00_2022-10-11-23_59_Sentinel-2_L2A_B06_(Raw).tiff']]"
     },
     "execution_count": 11,
     "metadata": {},
     "output_type": "execute_result"
    }
   ],
   "source": [
    "fileNamesX = list(getFilesNew(\"/tmp/shared/dataset4\"))\n",
    "fileNamesX"
   ],
   "metadata": {
    "collapsed": false
   }
  },
  {
   "cell_type": "code",
   "execution_count": 12,
   "outputs": [],
   "source": [
    "def getFilesArrayNew(paths):\n",
    "    l = []\n",
    "    for i in paths:\n",
    "        s = []\n",
    "        for j in i:\n",
    "            with rio.open(j, 'r') as f:\n",
    "                s.append(f.read(1))\n",
    "        l.append(s)\n",
    "    arr_st_new = np.stack(l)\n",
    "    return  arr_st_new"
   ],
   "metadata": {
    "collapsed": false
   }
  },
  {
   "cell_type": "code",
   "execution_count": 13,
   "outputs": [],
   "source": [
    "filesX_array = getFilesArrayNew(fileNamesX)"
   ],
   "metadata": {
    "collapsed": false
   }
  },
  {
   "cell_type": "code",
   "execution_count": 25,
   "outputs": [],
   "source": [
    "def getFilesArrayNewY(paths):\n",
    "    l = []\n",
    "    for i in paths:\n",
    "        with rio.open(i,'r') as f:\n",
    "            r = f.read(1)\n",
    "            g = f.read(2)\n",
    "            b =  f.read(3)\n",
    "            rgb_arr = [r, g ,b]\n",
    "            l.append(rgb_arr)\n",
    "            # l.append(rgb)\n",
    "    return l"
   ],
   "metadata": {
    "collapsed": false
   }
  },
  {
   "cell_type": "code",
   "execution_count": 26,
   "outputs": [
    {
     "data": {
      "text/plain": "(8, 3, 638, 1094)"
     },
     "execution_count": 26,
     "metadata": {},
     "output_type": "execute_result"
    }
   ],
   "source": [
    "_filexY_array = np.asarray(getFilesArrayNewY(fileNamesY))\n",
    "#_filexY_array = np.moveaxis(_filexY_array, 1,0)\n",
    "_filexY_array = np.asarray(_filexY_array * 255).astype(int)\n",
    "_filexY_array.shape"
   ],
   "metadata": {
    "collapsed": false
   }
  },
  {
   "cell_type": "code",
   "execution_count": 27,
   "outputs": [],
   "source": [
    "__filesY_array  = []\n",
    "for i in _filexY_array:\n",
    "    r = i[0]\n",
    "    g = i[1]\n",
    "    b = i[2]\n",
    "    rgb  = r\n",
    "    rgb = np.left_shift(rgb, 8) + g\n",
    "    rgb = np.left_shift(rgb, 8) + b\n",
    "    __filesY_array.append(rgb)"
   ],
   "metadata": {
    "collapsed": false
   }
  },
  {
   "cell_type": "code",
   "execution_count": 28,
   "outputs": [
    {
     "data": {
      "text/plain": "(8, 638, 1094)"
     },
     "execution_count": 28,
     "metadata": {},
     "output_type": "execute_result"
    }
   ],
   "source": [
    "filexY_array = np.asarray(__filesY_array)\n",
    "filexY_array.shape"
   ],
   "metadata": {
    "collapsed": false
   }
  },
  {
   "cell_type": "code",
   "execution_count": 29,
   "outputs": [
    {
     "name": "stdout",
     "output_type": "stream",
     "text": [
      "[       0      255    40960  6566400  6605055  8421504 12632256 16770650\n",
      " 16777215]\n"
     ]
    }
   ],
   "source": [
    "unique_valsY = np.unique(filexY_array)\n",
    "print(unique_valsY)\n",
    "filexY_array[filexY_array == 1] = 100"
   ],
   "metadata": {
    "collapsed": false
   }
  },
  {
   "cell_type": "markdown",
   "source": [
    "<p color=\"#000000\"> Category 1 </p>\n",
    "<p color=\"#0000ff\"> Category 2 </p>\n",
    "<p color=\"#00a000\"> Category 3 </p>\n",
    "<p color=\"#643200\"> Category 4 </p>\n",
    "<p color=\"#64C8FF\"> Category 5 </p>\n",
    "<p color=\"#808080\"> Category 6 </p>\n",
    "<p color=\"#C0C0C0\"> Category 7 </p>\n",
    "<p color=\"#FFE65A\"> Category 8 </p>\n",
    "<p color=\"#FFFFFF\"> Category 9 </p>\n"
   ],
   "metadata": {
    "collapsed": false
   }
  },
  {
   "cell_type": "code",
   "execution_count": 30,
   "outputs": [
    {
     "name": "stdout",
     "output_type": "stream",
     "text": [
      "category 0 count 115\n",
      "category 1 count 402595\n",
      "category 2 count 2514670\n",
      "category 3 count 13190\n",
      "category 4 count 6548\n",
      "category 5 count 335\n",
      "category 6 count 2097\n",
      "category 7 count 2642653\n",
      "category 8 count 1573\n"
     ]
    }
   ],
   "source": [
    "num_of_y = filexY_array.shape[0]*filexY_array.shape[1]*filexY_array.shape[2]\n",
    "cat1_c = np.count_nonzero(filexY_array == 0)\n",
    "cat2_c = np.count_nonzero(filexY_array == 255)\n",
    "cat3_c = np.count_nonzero(filexY_array == 40960)\n",
    "cat4_c = np.count_nonzero(filexY_array == 6566400)\n",
    "cat5_c = np.count_nonzero(filexY_array == 6605055)\n",
    "cat6_c = np.count_nonzero(filexY_array == 8421504)\n",
    "cat7_c = np.count_nonzero(filexY_array == 12632256)\n",
    "cat8_c = np.count_nonzero(filexY_array == 16770650)\n",
    "cat9_c = np.count_nonzero(filexY_array == 16777215)\n",
    "cat_all = []\n",
    "for idx, num in enumerate(unique_valsY):\n",
    "    cnt = np.count_nonzero(filexY_array == num)\n",
    "    print(\"category \" + str(idx) + \" count \" + str(cnt))\n",
    "    cat_all.append(cnt)\n"
   ],
   "metadata": {
    "collapsed": false
   }
  },
  {
   "cell_type": "code",
   "execution_count": 30,
   "outputs": [],
   "source": [],
   "metadata": {
    "collapsed": false
   }
  },
  {
   "cell_type": "code",
   "execution_count": 31,
   "outputs": [
    {
     "data": {
      "text/plain": "(array([6., 1., 0., 0., 0., 0., 0., 0., 0., 2.]),\n array([1.1500000e+02, 2.6436880e+05, 5.2862260e+05, 7.9287640e+05,\n        1.0571302e+06, 1.3213840e+06, 1.5856378e+06, 1.8498916e+06,\n        2.1141454e+06, 2.3783992e+06, 2.6426530e+06]),\n <BarContainer object of 10 artists>)"
     },
     "execution_count": 31,
     "metadata": {},
     "output_type": "execute_result"
    },
    {
     "data": {
      "text/plain": "<Figure size 640x480 with 1 Axes>",
      "image/png": "[encoded data removed]"
     },
     "metadata": {},
     "output_type": "display_data"
    }
   ],
   "source": [
    "plt.hist(np.asarray(cat_all))"
   ],
   "metadata": {
    "collapsed": false
   }
  },
  {
   "cell_type": "code",
   "execution_count": 32,
   "outputs": [],
   "source": [
    "for idx, i in enumerate(unique_valsY):\n",
    "        filexY_array [ filexY_array == i] = idx"
   ],
   "metadata": {
    "collapsed": false
   }
  },
  {
   "cell_type": "code",
   "execution_count": 33,
   "outputs": [
    {
     "name": "stdout",
     "output_type": "stream",
     "text": [
      "[0 1 2 3 4 5 6 7 8]\n"
     ]
    }
   ],
   "source": [
    "print(np.unique(filexY_array))"
   ],
   "metadata": {
    "collapsed": false
   }
  },
  {
   "cell_type": "code",
   "execution_count": 34,
   "outputs": [],
   "source": [
    "filexY_array [ filexY_array == 3] = 0\n",
    "filexY_array [ filexY_array == 4] = 0\n",
    "filexY_array [ filexY_array == 5] = 0\n",
    "filexY_array [ filexY_array == 6] = 0\n",
    "filexY_array [ filexY_array == 8] = 0"
   ],
   "metadata": {
    "collapsed": false
   }
  },
  {
   "cell_type": "code",
   "execution_count": 35,
   "outputs": [
    {
     "name": "stdout",
     "output_type": "stream",
     "text": [
      "[0 1 2 7]\n"
     ]
    }
   ],
   "source": [
    "print(np.unique(filexY_array))"
   ],
   "metadata": {
    "collapsed": false
   }
  },
  {
   "cell_type": "code",
   "execution_count": 36,
   "outputs": [],
   "source": [
    "filexY_array [ filexY_array == 7] = 3"
   ],
   "metadata": {
    "collapsed": false
   }
  },
  {
   "cell_type": "code",
   "execution_count": 37,
   "outputs": [
    {
     "data": {
      "text/plain": "(8, 12, 638, 1094)"
     },
     "execution_count": 37,
     "metadata": {},
     "output_type": "execute_result"
    }
   ],
   "source": [
    "x_np = np.asarray(filesX_array)\n",
    "x_np.shape"
   ],
   "metadata": {
    "collapsed": false
   }
  },
  {
   "cell_type": "code",
   "execution_count": 38,
   "outputs": [
    {
     "data": {
      "text/plain": "(8, 12, 608, 1024)"
     },
     "execution_count": 38,
     "metadata": {},
     "output_type": "execute_result"
    }
   ],
   "source": [
    "x_np2 = x_np[:,:,0:608,0:1024]\n",
    "x_np2.shape"
   ],
   "metadata": {
    "collapsed": false
   }
  },
  {
   "cell_type": "code",
   "execution_count": 39,
   "outputs": [
    {
     "data": {
      "text/plain": "(12, 8, 608, 1024)"
     },
     "execution_count": 39,
     "metadata": {},
     "output_type": "execute_result"
    }
   ],
   "source": [
    "x_np2 = np.moveaxis(x_np2,1,0)\n",
    "x_np2.shape"
   ],
   "metadata": {
    "collapsed": false
   }
  },
  {
   "cell_type": "code",
   "execution_count": 42,
   "outputs": [],
   "source": [
    "x_np_combined = x_np2.reshape(12,-1,1024)"
   ],
   "metadata": {
    "collapsed": false
   }
  },
  {
   "cell_type": "code",
   "execution_count": 43,
   "outputs": [
    {
     "data": {
      "text/plain": "(12, 4864, 1024)"
     },
     "execution_count": 43,
     "metadata": {},
     "output_type": "execute_result"
    }
   ],
   "source": [
    "x_np_combined.shape"
   ],
   "metadata": {
    "collapsed": false
   }
  },
  {
   "cell_type": "code",
   "execution_count": 44,
   "outputs": [
    {
     "data": {
      "text/plain": "(4864, 1024, 12)"
     },
     "execution_count": 44,
     "metadata": {},
     "output_type": "execute_result"
    }
   ],
   "source": [
    "x_np_combined = np.moveaxis(x_np_combined, 0, -1)\n",
    "x_np_combined.shape"
   ],
   "metadata": {
    "collapsed": false
   }
  },
  {
   "cell_type": "code",
   "execution_count": 45,
   "outputs": [],
   "source": [
    "x_data = x_np_combined.reshape(-1,32,32,12)"
   ],
   "metadata": {
    "collapsed": false
   }
  },
  {
   "cell_type": "code",
   "execution_count": 46,
   "outputs": [
    {
     "data": {
      "text/plain": "(4864, 32, 32, 12)"
     },
     "execution_count": 46,
     "metadata": {},
     "output_type": "execute_result"
    }
   ],
   "source": [
    "x_data.shape"
   ],
   "metadata": {
    "collapsed": false
   }
  },
  {
   "cell_type": "code",
   "execution_count": 47,
   "outputs": [
    {
     "data": {
      "text/plain": "(8, 638, 1094)"
     },
     "execution_count": 47,
     "metadata": {},
     "output_type": "execute_result"
    }
   ],
   "source": [
    "filexY_array.shape"
   ],
   "metadata": {
    "collapsed": false
   }
  },
  {
   "cell_type": "code",
   "execution_count": 48,
   "outputs": [
    {
     "data": {
      "text/plain": "(8, 608, 1024)"
     },
     "execution_count": 48,
     "metadata": {},
     "output_type": "execute_result"
    }
   ],
   "source": [
    "y_np =  filexY_array[:,0:608,0:1024]\n",
    "y_np.shape"
   ],
   "metadata": {
    "collapsed": false
   }
  },
  {
   "cell_type": "code",
   "execution_count": 49,
   "outputs": [
    {
     "data": {
      "text/plain": "(4864, 1024)"
     },
     "execution_count": 49,
     "metadata": {},
     "output_type": "execute_result"
    }
   ],
   "source": [
    "y_np2 = y_np.reshape(-1, 1024)\n",
    "y_np2.shape"
   ],
   "metadata": {
    "collapsed": false
   }
  },
  {
   "cell_type": "code",
   "execution_count": 50,
   "outputs": [
    {
     "data": {
      "text/plain": "(4864, 32, 32)"
     },
     "execution_count": 50,
     "metadata": {},
     "output_type": "execute_result"
    }
   ],
   "source": [
    "y_data = y_np2.reshape(-1, 32,32)\n",
    "y_data.shape"
   ],
   "metadata": {
    "collapsed": false
   }
  },
  {
   "cell_type": "code",
   "execution_count": 51,
   "outputs": [],
   "source": [
    "#Let's import some important Libraries\n",
    "import tensorflow as tf\n",
    "from keras.models import Sequential, Model\n",
    "from keras.layers import Dense, Input\n",
    "from keras.utils import np_utils\n",
    "import numpy as np # linear algebra\n",
    "import pandas as pd # data processing, CSV file I/O (e.g. pd.read_csv)\n",
    "import matplotlib.pyplot as plt\n",
    "import pandas as pd\n",
    "from keras.layers import *\n",
    "from keras.layers.convolutional import Conv2D\n",
    "from keras.layers.pooling import MaxPooling2D\n",
    "from keras.callbacks import EarlyStopping, ModelCheckpoint"
   ],
   "metadata": {
    "collapsed": false
   }
  },
  {
   "cell_type": "code",
   "execution_count": 52,
   "outputs": [],
   "source": [
    "y_cat = np_utils.to_categorical(y_data)"
   ],
   "metadata": {
    "collapsed": false
   }
  },
  {
   "cell_type": "code",
   "execution_count": 60,
   "outputs": [],
   "source": [
    "model_new = tf.keras.models.Sequential([\n",
    "    Conv2D(32,3,padding='same',input_shape=(32,32,12)),\n",
    "    Conv2D(32,3,padding='same',input_shape=(32,32,12)),\n",
    "    Activation('relu'),\n",
    "    MaxPooling2D(pool_size=(2,2)),\n",
    "    Dropout(0.7),\n",
    "\n",
    "    Conv2D(64,3, padding='same'),\n",
    "    Conv2D(64,3, padding='same'),\n",
    "    Activation('relu'),\n",
    "    MaxPooling2D(pool_size=(2,2),name='feature_layer'),\n",
    "    Dropout(0.7),\n",
    "\n",
    "    #We are naming this layer, as we will extract features from it in future, JUST WAIT !!!\n",
    "    Conv2D(128,3, padding='same'),\n",
    "    Conv2D(128,3, padding='same'),\n",
    "    Activation('relu'),\n",
    "    MaxPooling2D(pool_size=(2,2)),\n",
    "    # Flatten(),\n",
    "    # Dense(512),\n",
    "    # Dense(1024),\n",
    "    # Dense(2048),\n",
    "    # Activation('relu'),\n",
    "    # Dropout(0.7),\n",
    "    # Reshape((4,4,128)),\n",
    "    Dense(128),\n",
    "    Activation('relu'),\n",
    "    #Dense(256),\n",
    "    #Dense(128),\n",
    "    #Activation('relu'),\n",
    "    #Dropout(0.7),\n",
    "    #Reshape((4,4,128)),\n",
    "    UpSampling2D((2,2)),\n",
    "    Conv2D(128,3, padding='same'),\n",
    "    Conv2D(128,3, padding='same'),\n",
    "    Activation('relu'),\n",
    "    UpSampling2D((2,2)),\n",
    "    Dropout(0.7),\n",
    "    Conv2D(64,3, padding='same'),\n",
    "    Conv2D(64,3, padding='same'),\n",
    "    Activation('relu'),\n",
    "    UpSampling2D((2,2)),\n",
    "    Dropout(0.7),\n",
    "    Conv2D(32,3, padding='same'),\n",
    "    Conv2D(32,3, padding='same'),\n",
    "    Activation('relu'),\n",
    "    Conv2D(4,3,padding='same'),\n",
    "    # model.add(Flatten())\n",
    "    # model.add(Dense(24))\n",
    "    # model.add(Activation('relu'))\n",
    "    # model.add(Dropout(0.5))\n",
    "    # model.add(Dense(6))\n",
    "    Activation('softmax'),\n",
    "])"
   ],
   "metadata": {
    "collapsed": false
   }
  },
  {
   "cell_type": "code",
   "execution_count": 61,
   "outputs": [],
   "source": [
    "model_new.compile(loss='categorical_crossentropy',optimizer='adam',metrics=['accuracy'])"
   ],
   "metadata": {
    "collapsed": false
   }
  },
  {
   "cell_type": "code",
   "execution_count": 62,
   "outputs": [
    {
     "name": "stdout",
     "output_type": "stream",
     "text": [
      "Model: \"sequential_2\"\n",
      "_________________________________________________________________\n",
      " Layer (type)                Output Shape              Param #   \n",
      "=================================================================\n",
      " conv2d_26 (Conv2D)          (None, 32, 32, 32)        3488      \n",
      "                                                                 \n",
      " conv2d_27 (Conv2D)          (None, 32, 32, 32)        9248      \n",
      "                                                                 \n",
      " activation_16 (Activation)  (None, 32, 32, 32)        0         \n",
      "                                                                 \n",
      " max_pooling2d_4 (MaxPooling  (None, 16, 16, 32)       0         \n",
      " 2D)                                                             \n",
      "                                                                 \n",
      " dropout_10 (Dropout)        (None, 16, 16, 32)        0         \n",
      "                                                                 \n",
      " conv2d_28 (Conv2D)          (None, 16, 16, 64)        18496     \n",
      "                                                                 \n",
      " conv2d_29 (Conv2D)          (None, 16, 16, 64)        36928     \n",
      "                                                                 \n",
      " activation_17 (Activation)  (None, 16, 16, 64)        0         \n",
      "                                                                 \n",
      " feature_layer (MaxPooling2D  (None, 8, 8, 64)         0         \n",
      " )                                                               \n",
      "                                                                 \n",
      " dropout_11 (Dropout)        (None, 8, 8, 64)          0         \n",
      "                                                                 \n",
      " conv2d_30 (Conv2D)          (None, 8, 8, 128)         73856     \n",
      "                                                                 \n",
      " conv2d_31 (Conv2D)          (None, 8, 8, 128)         147584    \n",
      "                                                                 \n",
      " activation_18 (Activation)  (None, 8, 8, 128)         0         \n",
      "                                                                 \n",
      " max_pooling2d_5 (MaxPooling  (None, 4, 4, 128)        0         \n",
      " 2D)                                                             \n",
      "                                                                 \n",
      " dense_4 (Dense)             (None, 4, 4, 128)         16512     \n",
      "                                                                 \n",
      " activation_19 (Activation)  (None, 4, 4, 128)         0         \n",
      "                                                                 \n",
      " up_sampling2d_6 (UpSampling  (None, 8, 8, 128)        0         \n",
      " 2D)                                                             \n",
      "                                                                 \n",
      " conv2d_32 (Conv2D)          (None, 8, 8, 128)         147584    \n",
      "                                                                 \n",
      " conv2d_33 (Conv2D)          (None, 8, 8, 128)         147584    \n",
      "                                                                 \n",
      " activation_20 (Activation)  (None, 8, 8, 128)         0         \n",
      "                                                                 \n",
      " up_sampling2d_7 (UpSampling  (None, 16, 16, 128)      0         \n",
      " 2D)                                                             \n",
      "                                                                 \n",
      " dropout_12 (Dropout)        (None, 16, 16, 128)       0         \n",
      "                                                                 \n",
      " conv2d_34 (Conv2D)          (None, 16, 16, 64)        73792     \n",
      "                                                                 \n",
      " conv2d_35 (Conv2D)          (None, 16, 16, 64)        36928     \n",
      "                                                                 \n",
      " activation_21 (Activation)  (None, 16, 16, 64)        0         \n",
      "                                                                 \n",
      " up_sampling2d_8 (UpSampling  (None, 32, 32, 64)       0         \n",
      " 2D)                                                             \n",
      "                                                                 \n",
      " dropout_13 (Dropout)        (None, 32, 32, 64)        0         \n",
      "                                                                 \n",
      " conv2d_36 (Conv2D)          (None, 32, 32, 32)        18464     \n",
      "                                                                 \n",
      " conv2d_37 (Conv2D)          (None, 32, 32, 32)        9248      \n",
      "                                                                 \n",
      " activation_22 (Activation)  (None, 32, 32, 32)        0         \n",
      "                                                                 \n",
      " conv2d_38 (Conv2D)          (None, 32, 32, 4)         1156      \n",
      "                                                                 \n",
      " activation_23 (Activation)  (None, 32, 32, 4)         0         \n",
      "                                                                 \n",
      "=================================================================\n",
      "Total params: 740,868\n",
      "Trainable params: 740,868\n",
      "Non-trainable params: 0\n",
      "_________________________________________________________________\n"
     ]
    }
   ],
   "source": [
    "model_new.summary()"
   ],
   "metadata": {
    "collapsed": false
   }
  },
  {
   "cell_type": "code",
   "execution_count": 57,
   "outputs": [],
   "source": [
    "es = EarlyStopping(monitor='val_loss')\n",
    "mc = ModelCheckpoint('best_model_new.h5', monitor='val_loss')\n",
    "cb = [es,mc]"
   ],
   "metadata": {
    "collapsed": false
   }
  },
  {
   "cell_type": "code",
   "execution_count": 63,
   "outputs": [
    {
     "name": "stdout",
     "output_type": "stream",
     "text": [
      "Epoch 1/100\n",
      "244/244 [==============================] - 4s 15ms/step - loss: 0.6592 - accuracy: 0.6879 - val_loss: 0.5954 - val_accuracy: 0.7594\n",
      "Epoch 2/100\n",
      "244/244 [==============================] - 3s 13ms/step - loss: 0.4960 - accuracy: 0.7906 - val_loss: 0.7286 - val_accuracy: 0.6449\n",
      "Epoch 3/100\n",
      "244/244 [==============================] - 3s 14ms/step - loss: 0.4578 - accuracy: 0.8076 - val_loss: 0.5164 - val_accuracy: 0.7940\n",
      "Epoch 4/100\n",
      "244/244 [==============================] - 3s 14ms/step - loss: 0.4286 - accuracy: 0.8216 - val_loss: 0.5050 - val_accuracy: 0.7831\n",
      "Epoch 5/100\n",
      "244/244 [==============================] - 3s 13ms/step - loss: 0.4136 - accuracy: 0.8293 - val_loss: 0.5071 - val_accuracy: 0.8087\n",
      "Epoch 6/100\n",
      "244/244 [==============================] - 3s 14ms/step - loss: 0.3990 - accuracy: 0.8362 - val_loss: 0.4856 - val_accuracy: 0.8080\n",
      "Epoch 7/100\n",
      "244/244 [==============================] - 3s 13ms/step - loss: 0.3861 - accuracy: 0.8421 - val_loss: 0.4793 - val_accuracy: 0.8089\n",
      "Epoch 8/100\n",
      "244/244 [==============================] - 3s 14ms/step - loss: 0.3779 - accuracy: 0.8457 - val_loss: 0.4697 - val_accuracy: 0.8117\n",
      "Epoch 9/100\n",
      "244/244 [==============================] - 3s 13ms/step - loss: 0.3694 - accuracy: 0.8499 - val_loss: 0.4785 - val_accuracy: 0.8154\n",
      "Epoch 10/100\n",
      "244/244 [==============================] - 3s 14ms/step - loss: 0.3664 - accuracy: 0.8517 - val_loss: 0.4886 - val_accuracy: 0.8084\n",
      "Epoch 11/100\n",
      "244/244 [==============================] - 3s 14ms/step - loss: 0.3591 - accuracy: 0.8546 - val_loss: 0.4659 - val_accuracy: 0.8117\n",
      "Epoch 12/100\n",
      "244/244 [==============================] - 3s 13ms/step - loss: 0.3548 - accuracy: 0.8569 - val_loss: 0.4716 - val_accuracy: 0.8165\n",
      "Epoch 13/100\n",
      "244/244 [==============================] - 3s 14ms/step - loss: 0.3515 - accuracy: 0.8586 - val_loss: 0.4707 - val_accuracy: 0.8135\n",
      "Epoch 14/100\n",
      "244/244 [==============================] - 3s 14ms/step - loss: 0.3480 - accuracy: 0.8600 - val_loss: 0.4277 - val_accuracy: 0.8329\n",
      "Epoch 15/100\n",
      "244/244 [==============================] - 3s 14ms/step - loss: 0.3432 - accuracy: 0.8624 - val_loss: 0.4611 - val_accuracy: 0.8188\n",
      "Epoch 16/100\n",
      "244/244 [==============================] - 3s 14ms/step - loss: 0.3391 - accuracy: 0.8640 - val_loss: 0.4595 - val_accuracy: 0.8189\n",
      "Epoch 17/100\n",
      "244/244 [==============================] - 3s 13ms/step - loss: 0.3342 - accuracy: 0.8663 - val_loss: 0.5204 - val_accuracy: 0.7856\n",
      "Epoch 18/100\n",
      "244/244 [==============================] - 3s 13ms/step - loss: 0.3319 - accuracy: 0.8673 - val_loss: 0.4712 - val_accuracy: 0.8089\n",
      "Epoch 19/100\n",
      "244/244 [==============================] - 3s 14ms/step - loss: 0.3320 - accuracy: 0.8675 - val_loss: 0.4764 - val_accuracy: 0.8113\n",
      "Epoch 20/100\n",
      "244/244 [==============================] - 3s 14ms/step - loss: 0.3266 - accuracy: 0.8700 - val_loss: 0.4554 - val_accuracy: 0.8145\n",
      "Epoch 21/100\n",
      "244/244 [==============================] - 3s 14ms/step - loss: 0.3268 - accuracy: 0.8701 - val_loss: 0.4626 - val_accuracy: 0.8104\n",
      "Epoch 22/100\n",
      "244/244 [==============================] - 3s 13ms/step - loss: 0.3218 - accuracy: 0.8723 - val_loss: 0.4516 - val_accuracy: 0.8180\n",
      "Epoch 23/100\n",
      "244/244 [==============================] - 3s 13ms/step - loss: 0.3165 - accuracy: 0.8740 - val_loss: 0.4622 - val_accuracy: 0.8191\n",
      "Epoch 24/100\n",
      "244/244 [==============================] - 3s 13ms/step - loss: 0.3145 - accuracy: 0.8752 - val_loss: 0.4387 - val_accuracy: 0.8212\n",
      "Epoch 25/100\n",
      "244/244 [==============================] - 3s 13ms/step - loss: 0.3140 - accuracy: 0.8755 - val_loss: 0.4366 - val_accuracy: 0.8278\n",
      "Epoch 26/100\n",
      "244/244 [==============================] - 3s 14ms/step - loss: 0.3125 - accuracy: 0.8763 - val_loss: 0.4584 - val_accuracy: 0.8137\n",
      "Epoch 27/100\n",
      "244/244 [==============================] - 3s 14ms/step - loss: 0.3111 - accuracy: 0.8771 - val_loss: 0.4551 - val_accuracy: 0.8192\n",
      "Epoch 28/100\n",
      "244/244 [==============================] - 3s 13ms/step - loss: 0.3099 - accuracy: 0.8777 - val_loss: 0.4537 - val_accuracy: 0.8167\n",
      "Epoch 29/100\n",
      "244/244 [==============================] - 3s 14ms/step - loss: 0.3066 - accuracy: 0.8789 - val_loss: 0.4672 - val_accuracy: 0.8092\n",
      "Epoch 30/100\n",
      "244/244 [==============================] - 3s 14ms/step - loss: 0.3052 - accuracy: 0.8795 - val_loss: 0.4451 - val_accuracy: 0.8219\n",
      "Epoch 31/100\n",
      "244/244 [==============================] - 3s 14ms/step - loss: 0.3014 - accuracy: 0.8809 - val_loss: 0.4568 - val_accuracy: 0.8192\n",
      "Epoch 32/100\n",
      "244/244 [==============================] - 3s 14ms/step - loss: 0.3002 - accuracy: 0.8816 - val_loss: 0.4634 - val_accuracy: 0.8078\n",
      "Epoch 33/100\n",
      "244/244 [==============================] - 3s 13ms/step - loss: 0.2984 - accuracy: 0.8825 - val_loss: 0.4784 - val_accuracy: 0.8040\n",
      "Epoch 34/100\n",
      "244/244 [==============================] - 3s 13ms/step - loss: 0.3009 - accuracy: 0.8813 - val_loss: 0.4406 - val_accuracy: 0.8281\n",
      "Epoch 35/100\n",
      "244/244 [==============================] - 3s 14ms/step - loss: 0.2963 - accuracy: 0.8834 - val_loss: 0.4476 - val_accuracy: 0.8236\n",
      "Epoch 36/100\n",
      "244/244 [==============================] - 4s 15ms/step - loss: 0.2966 - accuracy: 0.8837 - val_loss: 0.4620 - val_accuracy: 0.8138\n",
      "Epoch 37/100\n",
      "244/244 [==============================] - 4s 15ms/step - loss: 0.2954 - accuracy: 0.8844 - val_loss: 0.4849 - val_accuracy: 0.8072\n",
      "Epoch 38/100\n",
      "244/244 [==============================] - 4s 14ms/step - loss: 0.2922 - accuracy: 0.8849 - val_loss: 0.4773 - val_accuracy: 0.8128\n",
      "Epoch 39/100\n",
      "244/244 [==============================] - 4s 15ms/step - loss: 0.2936 - accuracy: 0.8848 - val_loss: 0.4540 - val_accuracy: 0.8178\n",
      "Epoch 40/100\n",
      "244/244 [==============================] - 3s 14ms/step - loss: 0.2914 - accuracy: 0.8853 - val_loss: 0.4445 - val_accuracy: 0.8150\n",
      "Epoch 41/100\n",
      "244/244 [==============================] - 4s 14ms/step - loss: 0.2896 - accuracy: 0.8862 - val_loss: 0.4375 - val_accuracy: 0.8215\n",
      "Epoch 42/100\n",
      "244/244 [==============================] - 3s 14ms/step - loss: 0.2890 - accuracy: 0.8863 - val_loss: 0.4678 - val_accuracy: 0.8178\n",
      "Epoch 43/100\n",
      "244/244 [==============================] - 4s 14ms/step - loss: 0.2868 - accuracy: 0.8874 - val_loss: 0.4930 - val_accuracy: 0.8058\n",
      "Epoch 44/100\n",
      "244/244 [==============================] - 3s 14ms/step - loss: 0.2855 - accuracy: 0.8878 - val_loss: 0.4525 - val_accuracy: 0.8195\n",
      "Epoch 45/100\n",
      "244/244 [==============================] - 4s 15ms/step - loss: 0.2854 - accuracy: 0.8877 - val_loss: 0.4799 - val_accuracy: 0.8112\n",
      "Epoch 46/100\n",
      "244/244 [==============================] - 4s 15ms/step - loss: 0.2876 - accuracy: 0.8873 - val_loss: 0.4705 - val_accuracy: 0.8124\n",
      "Epoch 47/100\n",
      "244/244 [==============================] - 4s 15ms/step - loss: 0.2832 - accuracy: 0.8886 - val_loss: 0.4457 - val_accuracy: 0.8240\n",
      "Epoch 48/100\n",
      "244/244 [==============================] - 3s 14ms/step - loss: 0.2824 - accuracy: 0.8891 - val_loss: 0.4626 - val_accuracy: 0.8198\n",
      "Epoch 49/100\n",
      "244/244 [==============================] - 3s 14ms/step - loss: 0.2827 - accuracy: 0.8891 - val_loss: 0.4732 - val_accuracy: 0.8087\n",
      "Epoch 50/100\n",
      "244/244 [==============================] - 3s 14ms/step - loss: 0.2817 - accuracy: 0.8896 - val_loss: 0.4409 - val_accuracy: 0.8229\n",
      "Epoch 51/100\n",
      "244/244 [==============================] - 4s 14ms/step - loss: 0.2792 - accuracy: 0.8906 - val_loss: 0.4714 - val_accuracy: 0.8198\n",
      "Epoch 52/100\n",
      "244/244 [==============================] - 3s 14ms/step - loss: 0.2796 - accuracy: 0.8900 - val_loss: 0.5018 - val_accuracy: 0.7982\n",
      "Epoch 53/100\n",
      "244/244 [==============================] - 4s 15ms/step - loss: 0.2789 - accuracy: 0.8906 - val_loss: 0.4768 - val_accuracy: 0.8095\n",
      "Epoch 54/100\n",
      "244/244 [==============================] - 4s 15ms/step - loss: 0.2773 - accuracy: 0.8909 - val_loss: 0.4447 - val_accuracy: 0.8178\n",
      "Epoch 55/100\n",
      "244/244 [==============================] - 4s 15ms/step - loss: 0.2782 - accuracy: 0.8912 - val_loss: 0.4881 - val_accuracy: 0.8035\n",
      "Epoch 56/100\n",
      "244/244 [==============================] - 3s 14ms/step - loss: 0.2767 - accuracy: 0.8914 - val_loss: 0.4774 - val_accuracy: 0.8121\n",
      "Epoch 57/100\n",
      "244/244 [==============================] - 4s 15ms/step - loss: 0.2750 - accuracy: 0.8920 - val_loss: 0.4763 - val_accuracy: 0.8195\n",
      "Epoch 58/100\n",
      "244/244 [==============================] - 3s 14ms/step - loss: 0.2737 - accuracy: 0.8929 - val_loss: 0.4678 - val_accuracy: 0.8164\n",
      "Epoch 59/100\n",
      "244/244 [==============================] - 3s 14ms/step - loss: 0.2738 - accuracy: 0.8927 - val_loss: 0.4542 - val_accuracy: 0.8187\n",
      "Epoch 60/100\n",
      "244/244 [==============================] - 4s 14ms/step - loss: 0.2726 - accuracy: 0.8931 - val_loss: 0.4786 - val_accuracy: 0.8187\n",
      "Epoch 61/100\n",
      "244/244 [==============================] - 4s 15ms/step - loss: 0.2741 - accuracy: 0.8922 - val_loss: 0.4848 - val_accuracy: 0.8082\n",
      "Epoch 62/100\n",
      "244/244 [==============================] - 3s 14ms/step - loss: 0.2739 - accuracy: 0.8925 - val_loss: 0.4738 - val_accuracy: 0.8109\n",
      "Epoch 63/100\n",
      "244/244 [==============================] - 4s 15ms/step - loss: 0.2717 - accuracy: 0.8935 - val_loss: 0.4661 - val_accuracy: 0.8208\n",
      "Epoch 64/100\n",
      "244/244 [==============================] - 4s 15ms/step - loss: 0.2705 - accuracy: 0.8940 - val_loss: 0.4569 - val_accuracy: 0.8209\n",
      "Epoch 65/100\n",
      "244/244 [==============================] - 4s 14ms/step - loss: 0.2701 - accuracy: 0.8940 - val_loss: 0.4478 - val_accuracy: 0.8247\n",
      "Epoch 66/100\n",
      "244/244 [==============================] - 3s 14ms/step - loss: 0.2710 - accuracy: 0.8938 - val_loss: 0.4766 - val_accuracy: 0.8180\n",
      "Epoch 67/100\n",
      "244/244 [==============================] - 4s 15ms/step - loss: 0.2687 - accuracy: 0.8948 - val_loss: 0.4446 - val_accuracy: 0.8282\n",
      "Epoch 68/100\n",
      "244/244 [==============================] - 4s 15ms/step - loss: 0.2704 - accuracy: 0.8944 - val_loss: 0.4629 - val_accuracy: 0.8239\n",
      "Epoch 69/100\n",
      "244/244 [==============================] - 4s 15ms/step - loss: 0.2708 - accuracy: 0.8941 - val_loss: 0.4544 - val_accuracy: 0.8234\n",
      "Epoch 70/100\n",
      "244/244 [==============================] - 3s 14ms/step - loss: 0.2678 - accuracy: 0.8950 - val_loss: 0.4534 - val_accuracy: 0.8203\n",
      "Epoch 71/100\n",
      "244/244 [==============================] - 4s 14ms/step - loss: 0.2686 - accuracy: 0.8948 - val_loss: 0.4649 - val_accuracy: 0.8184\n",
      "Epoch 72/100\n",
      "244/244 [==============================] - 4s 14ms/step - loss: 0.2661 - accuracy: 0.8957 - val_loss: 0.4707 - val_accuracy: 0.8203\n",
      "Epoch 73/100\n",
      "244/244 [==============================] - 4s 15ms/step - loss: 0.2659 - accuracy: 0.8961 - val_loss: 0.4698 - val_accuracy: 0.8153\n",
      "Epoch 74/100\n",
      "244/244 [==============================] - 4s 15ms/step - loss: 0.2670 - accuracy: 0.8953 - val_loss: 0.4589 - val_accuracy: 0.8235\n",
      "Epoch 75/100\n",
      "244/244 [==============================] - 4s 15ms/step - loss: 0.2648 - accuracy: 0.8964 - val_loss: 0.4802 - val_accuracy: 0.8085\n",
      "Epoch 76/100\n",
      "244/244 [==============================] - 3s 14ms/step - loss: 0.2762 - accuracy: 0.8923 - val_loss: 0.4698 - val_accuracy: 0.8157\n",
      "Epoch 77/100\n",
      "244/244 [==============================] - 4s 15ms/step - loss: 0.2649 - accuracy: 0.8962 - val_loss: 0.4709 - val_accuracy: 0.8217\n",
      "Epoch 78/100\n",
      "244/244 [==============================] - 4s 15ms/step - loss: 0.2634 - accuracy: 0.8969 - val_loss: 0.4634 - val_accuracy: 0.8212\n",
      "Epoch 79/100\n",
      "244/244 [==============================] - 4s 15ms/step - loss: 0.2625 - accuracy: 0.8973 - val_loss: 0.4545 - val_accuracy: 0.8229\n",
      "Epoch 80/100\n",
      "244/244 [==============================] - 4s 15ms/step - loss: 0.2634 - accuracy: 0.8970 - val_loss: 0.4792 - val_accuracy: 0.8152\n",
      "Epoch 81/100\n",
      "244/244 [==============================] - 4s 14ms/step - loss: 0.2628 - accuracy: 0.8970 - val_loss: 0.4860 - val_accuracy: 0.8159\n",
      "Epoch 82/100\n",
      "244/244 [==============================] - 3s 14ms/step - loss: 0.2628 - accuracy: 0.8971 - val_loss: 0.4590 - val_accuracy: 0.8252\n",
      "Epoch 83/100\n",
      "244/244 [==============================] - 4s 14ms/step - loss: 0.2603 - accuracy: 0.8980 - val_loss: 0.4609 - val_accuracy: 0.8243\n",
      "Epoch 84/100\n",
      "244/244 [==============================] - 3s 14ms/step - loss: 0.2604 - accuracy: 0.8979 - val_loss: 0.4773 - val_accuracy: 0.8135\n",
      "Epoch 85/100\n",
      "244/244 [==============================] - 4s 15ms/step - loss: 0.2615 - accuracy: 0.8975 - val_loss: 0.4855 - val_accuracy: 0.8163\n",
      "Epoch 86/100\n",
      "244/244 [==============================] - 3s 14ms/step - loss: 0.2606 - accuracy: 0.8977 - val_loss: 0.4775 - val_accuracy: 0.8220\n",
      "Epoch 87/100\n",
      "244/244 [==============================] - 3s 14ms/step - loss: 0.2630 - accuracy: 0.8971 - val_loss: 0.4752 - val_accuracy: 0.8144\n",
      "Epoch 88/100\n",
      "244/244 [==============================] - 3s 14ms/step - loss: 0.2655 - accuracy: 0.8966 - val_loss: 0.4646 - val_accuracy: 0.8187\n",
      "Epoch 89/100\n",
      "244/244 [==============================] - 3s 14ms/step - loss: 0.2576 - accuracy: 0.8994 - val_loss: 0.4593 - val_accuracy: 0.8227\n",
      "Epoch 90/100\n",
      "244/244 [==============================] - 4s 15ms/step - loss: 0.2586 - accuracy: 0.8985 - val_loss: 0.4812 - val_accuracy: 0.8151\n",
      "Epoch 91/100\n",
      "244/244 [==============================] - 4s 15ms/step - loss: 0.2597 - accuracy: 0.8984 - val_loss: 0.4581 - val_accuracy: 0.8237\n",
      "Epoch 92/100\n",
      "244/244 [==============================] - 4s 14ms/step - loss: 0.2586 - accuracy: 0.8991 - val_loss: 0.4640 - val_accuracy: 0.8222\n",
      "Epoch 93/100\n",
      "244/244 [==============================] - 4s 14ms/step - loss: 0.2572 - accuracy: 0.8993 - val_loss: 0.4664 - val_accuracy: 0.8239\n",
      "Epoch 94/100\n",
      "244/244 [==============================] - 3s 14ms/step - loss: 0.2597 - accuracy: 0.8982 - val_loss: 0.4657 - val_accuracy: 0.8227\n",
      "Epoch 95/100\n",
      "244/244 [==============================] - 4s 15ms/step - loss: 0.2575 - accuracy: 0.8990 - val_loss: 0.4577 - val_accuracy: 0.8211\n",
      "Epoch 96/100\n",
      "244/244 [==============================] - 3s 14ms/step - loss: 0.2567 - accuracy: 0.8995 - val_loss: 0.4863 - val_accuracy: 0.8107\n",
      "Epoch 97/100\n",
      "244/244 [==============================] - 4s 15ms/step - loss: 0.2582 - accuracy: 0.8990 - val_loss: 0.4633 - val_accuracy: 0.8172\n",
      "Epoch 98/100\n",
      "244/244 [==============================] - 4s 15ms/step - loss: 0.2557 - accuracy: 0.8998 - val_loss: 0.4585 - val_accuracy: 0.8203\n",
      "Epoch 99/100\n",
      "244/244 [==============================] - 4s 15ms/step - loss: 0.2571 - accuracy: 0.8996 - val_loss: 0.4662 - val_accuracy: 0.8191\n",
      "Epoch 100/100\n",
      "244/244 [==============================] - 3s 14ms/step - loss: 0.2604 - accuracy: 0.8982 - val_loss: 0.4627 - val_accuracy: 0.8239\n"
     ]
    }
   ],
   "source": [
    "history2 = model_new.fit(x_data, y_cat, epochs=100,batch_size=16, validation_split=0.2)"
   ],
   "metadata": {
    "collapsed": false
   }
  },
  {
   "cell_type": "code",
   "execution_count": 64,
   "outputs": [
    {
     "data": {
      "text/plain": "<Figure size 640x480 with 1 Axes>",
      "image/png": "[encoded data removed]"
     },
     "metadata": {},
     "output_type": "display_data"
    }
   ],
   "source": [
    "plt.plot(history2.history['accuracy'])\n",
    "plt.plot(history2.history['val_accuracy'])\n",
    "plt.title('Model Accuracy')\n",
    "plt.ylabel('Accuracy')\n",
    "plt.xlabel('#f Iterations')\n",
    "plt.legend(['Train', 'Test'], loc='upper left')\n",
    "plt.show()"
   ],
   "metadata": {
    "collapsed": false
   }
  },
  {
   "cell_type": "markdown",
   "source": [
    "## Check"
   ],
   "metadata": {
    "collapsed": false
   }
  },
  {
   "cell_type": "code",
   "execution_count": 145,
   "outputs": [
    {
     "data": {
      "text/plain": "['/tmp/shared/dataset4/3/2022-10-11-00_00_2022-10-11-23_59_Sentinel-2_L2A_B01_(Raw).tiff',\n '/tmp/shared/dataset4/3/2022-10-11-00_00_2022-10-11-23_59_Sentinel-2_L2A_B02_(Raw).tiff',\n '/tmp/shared/dataset4/3/2022-10-11-00_00_2022-10-11-23_59_Sentinel-2_L2A_B03_(Raw).tiff',\n '/tmp/shared/dataset4/3/2022-10-11-00_00_2022-10-11-23_59_Sentinel-2_L2A_B04_(Raw).tiff',\n '/tmp/shared/dataset4/3/2022-10-11-00_00_2022-10-11-23_59_Sentinel-2_L2A_B05_(Raw).tiff',\n '/tmp/shared/dataset4/3/2022-10-11-00_00_2022-10-11-23_59_Sentinel-2_L2A_B06_(Raw).tiff',\n '/tmp/shared/dataset4/3/2022-10-11-00_00_2022-10-11-23_59_Sentinel-2_L2A_B07_(Raw).tiff',\n '/tmp/shared/dataset4/3/2022-10-11-00_00_2022-10-11-23_59_Sentinel-2_L2A_B08_(Raw).tiff',\n '/tmp/shared/dataset4/3/2022-10-11-00_00_2022-10-11-23_59_Sentinel-2_L2A_B09_(Raw).tiff',\n '/tmp/shared/dataset4/3/2022-10-11-00_00_2022-10-11-23_59_Sentinel-2_L2A_B11_(Raw).tiff',\n '/tmp/shared/dataset4/3/2022-10-11-00_00_2022-10-11-23_59_Sentinel-2_L2A_B12_(Raw).tiff',\n '/tmp/shared/dataset4/3/2022-10-11-00_00_2022-10-11-23_59_Sentinel-2_L2A_B8A_(Raw).tiff']"
     },
     "execution_count": 145,
     "metadata": {},
     "output_type": "execute_result"
    }
   ],
   "source": [
    "from glob import glob\n",
    "S_sentinel_bands = glob(\"/tmp/shared/dataset4/3/*B?*.tiff\")\n",
    "S_sentinel_bands.sort()\n",
    "S_sentinel_bands"
   ],
   "metadata": {
    "collapsed": false
   }
  },
  {
   "cell_type": "code",
   "execution_count": 146,
   "outputs": [],
   "source": [
    "l = []\n",
    "for i in S_sentinel_bands:\n",
    "  with rio.open(i, 'r') as f:\n",
    "    l.append(f.read(1))"
   ],
   "metadata": {
    "collapsed": false
   }
  },
  {
   "cell_type": "code",
   "execution_count": 147,
   "outputs": [],
   "source": [
    "arr_st = np.stack(l)"
   ],
   "metadata": {
    "collapsed": false
   }
  },
  {
   "cell_type": "code",
   "execution_count": 148,
   "outputs": [
    {
     "data": {
      "text/plain": "(12, 638, 1094)"
     },
     "execution_count": 148,
     "metadata": {},
     "output_type": "execute_result"
    }
   ],
   "source": [
    "arr_st.shape"
   ],
   "metadata": {
    "collapsed": false
   }
  },
  {
   "cell_type": "code",
   "execution_count": 149,
   "outputs": [
    {
     "data": {
      "text/plain": "(638, 1094, 12)"
     },
     "execution_count": 149,
     "metadata": {},
     "output_type": "execute_result"
    }
   ],
   "source": [
    "x = np.moveaxis(arr_st, 0, -1)\n",
    "x.shape"
   ],
   "metadata": {
    "collapsed": false
   }
  },
  {
   "cell_type": "code",
   "execution_count": 150,
   "outputs": [],
   "source": [
    "x1_v = x.shape[0]%32\n",
    "x1_h = x.shape[1]%32\n",
    "res1 = x.shape[0]-x1_v\n",
    "res2 = x.shape[1]-x1_h\n",
    "xx = x[0:608,0:1024,:]"
   ],
   "metadata": {
    "collapsed": false
   }
  },
  {
   "cell_type": "code",
   "execution_count": 151,
   "outputs": [],
   "source": [
    "x_rr = xx.reshape(-1, 32,32,12)"
   ],
   "metadata": {
    "collapsed": false
   }
  },
  {
   "cell_type": "code",
   "execution_count": 152,
   "outputs": [
    {
     "name": "stdout",
     "output_type": "stream",
     "text": [
      "38/38 [==============================] - 0s 11ms/step\n"
     ]
    }
   ],
   "source": [
    "prediction = model_new.predict(x_rr,batch_size=16)"
   ],
   "metadata": {
    "collapsed": false
   }
  },
  {
   "cell_type": "code",
   "execution_count": 153,
   "outputs": [
    {
     "data": {
      "text/plain": "(608, 32, 32)"
     },
     "execution_count": 153,
     "metadata": {},
     "output_type": "execute_result"
    }
   ],
   "source": [
    "pred_cat = np.argmax(prediction,axis=3)\n",
    "pred_cat.shape"
   ],
   "metadata": {
    "collapsed": false
   }
  },
  {
   "cell_type": "code",
   "execution_count": 154,
   "outputs": [],
   "source": [
    "pred_pxl = pred_cat.reshape(608,1024)"
   ],
   "metadata": {
    "collapsed": false
   }
  },
  {
   "cell_type": "code",
   "execution_count": 155,
   "outputs": [
    {
     "data": {
      "text/plain": "(608, 1024)"
     },
     "execution_count": 155,
     "metadata": {},
     "output_type": "execute_result"
    }
   ],
   "source": [
    "pred_pxl.shape"
   ],
   "metadata": {
    "collapsed": false
   }
  },
  {
   "cell_type": "code",
   "execution_count": 156,
   "outputs": [
    {
     "data": {
      "text/plain": "<Figure size 1200x1200 with 2 Axes>",
      "image/png": "[encoded data removed]"
     },
     "metadata": {},
     "output_type": "display_data"
    },
    {
     "data": {
      "text/plain": "<AxesSubplot:>"
     },
     "execution_count": 156,
     "metadata": {},
     "output_type": "execute_result"
    }
   ],
   "source": [
    "ep.plot_bands(pred_pxl,\n",
    "              cmap=ListedColormap(['black', 'purple','blue', 'orange']))"
   ],
   "metadata": {
    "collapsed": false
   }
  },
  {
   "cell_type": "code",
   "execution_count": 135,
   "outputs": [
    {
     "data": {
      "text/plain": "['/tmp/shared/dataset4/2/2022-10-11-00_00_2022-10-11-23_59_Sentinel-2_L2A_Scene_classification_map.tiff']"
     },
     "execution_count": 135,
     "metadata": {},
     "output_type": "execute_result"
    }
   ],
   "source": [
    "Check_images = glob(\"/tmp/shared/dataset4/2/*Scen*.tiff\")\n",
    "Check_images"
   ],
   "metadata": {
    "collapsed": false
   }
  },
  {
   "cell_type": "code",
   "execution_count": 136,
   "outputs": [
    {
     "ename": "ValueError",
     "evalue": "Cannot embed the 'tiff' image format",
     "output_type": "error",
     "traceback": [
      "\u001B[0;31m---------------------------------------------------------------------------\u001B[0m",
      "\u001B[0;31mValueError\u001B[0m                                Traceback (most recent call last)",
      "Input \u001B[0;32mIn [136]\u001B[0m, in \u001B[0;36m<cell line: 2>\u001B[0;34m()\u001B[0m\n\u001B[1;32m      1\u001B[0m \u001B[38;5;28;01mfrom\u001B[39;00m \u001B[38;5;21;01mIPython\u001B[39;00m\u001B[38;5;21;01m.\u001B[39;00m\u001B[38;5;21;01mdisplay\u001B[39;00m \u001B[38;5;28;01mimport\u001B[39;00m Image\n\u001B[0;32m----> 2\u001B[0m \u001B[43mImage\u001B[49m\u001B[43m(\u001B[49m\u001B[43mfilename\u001B[49m\u001B[38;5;241;43m=\u001B[39;49m\u001B[43mCheck_images\u001B[49m\u001B[43m[\u001B[49m\u001B[38;5;241;43m0\u001B[39;49m\u001B[43m]\u001B[49m\u001B[43m)\u001B[49m\n",
      "File \u001B[0;32m/usr/local/lib/python3.8/dist-packages/IPython/core/display.py:948\u001B[0m, in \u001B[0;36mImage.__init__\u001B[0;34m(self, data, url, filename, format, embed, width, height, retina, unconfined, metadata, alt)\u001B[0m\n\u001B[1;32m    945\u001B[0m \u001B[38;5;28mself\u001B[39m\u001B[38;5;241m.\u001B[39membed \u001B[38;5;241m=\u001B[39m embed \u001B[38;5;28;01mif\u001B[39;00m embed \u001B[38;5;129;01mis\u001B[39;00m \u001B[38;5;129;01mnot\u001B[39;00m \u001B[38;5;28;01mNone\u001B[39;00m \u001B[38;5;28;01melse\u001B[39;00m (url \u001B[38;5;129;01mis\u001B[39;00m \u001B[38;5;28;01mNone\u001B[39;00m)\n\u001B[1;32m    947\u001B[0m \u001B[38;5;28;01mif\u001B[39;00m \u001B[38;5;28mself\u001B[39m\u001B[38;5;241m.\u001B[39membed \u001B[38;5;129;01mand\u001B[39;00m \u001B[38;5;28mself\u001B[39m\u001B[38;5;241m.\u001B[39mformat \u001B[38;5;129;01mnot\u001B[39;00m \u001B[38;5;129;01min\u001B[39;00m \u001B[38;5;28mself\u001B[39m\u001B[38;5;241m.\u001B[39m_ACCEPTABLE_EMBEDDINGS:\n\u001B[0;32m--> 948\u001B[0m     \u001B[38;5;28;01mraise\u001B[39;00m \u001B[38;5;167;01mValueError\u001B[39;00m(\u001B[38;5;124m\"\u001B[39m\u001B[38;5;124mCannot embed the \u001B[39m\u001B[38;5;124m'\u001B[39m\u001B[38;5;132;01m%s\u001B[39;00m\u001B[38;5;124m'\u001B[39m\u001B[38;5;124m image format\u001B[39m\u001B[38;5;124m\"\u001B[39m \u001B[38;5;241m%\u001B[39m (\u001B[38;5;28mself\u001B[39m\u001B[38;5;241m.\u001B[39mformat))\n\u001B[1;32m    949\u001B[0m \u001B[38;5;28;01mif\u001B[39;00m \u001B[38;5;28mself\u001B[39m\u001B[38;5;241m.\u001B[39membed:\n\u001B[1;32m    950\u001B[0m     \u001B[38;5;28mself\u001B[39m\u001B[38;5;241m.\u001B[39m_mimetype \u001B[38;5;241m=\u001B[39m \u001B[38;5;28mself\u001B[39m\u001B[38;5;241m.\u001B[39m_MIMETYPES\u001B[38;5;241m.\u001B[39mget(\u001B[38;5;28mself\u001B[39m\u001B[38;5;241m.\u001B[39mformat)\n",
      "\u001B[0;31mValueError\u001B[0m: Cannot embed the 'tiff' image format"
     ]
    }
   ],
   "source": [
    "from IPython.display import Image\n",
    "Image(filename=Check_images[0])"
   ],
   "metadata": {
    "collapsed": false
   }
  },
  {
   "cell_type": "code",
   "execution_count": 137,
   "outputs": [],
   "source": [
    "# import cv2\n",
    "#\n",
    "# gray = cv2.imread(\"path/to/tiff/0.tiff\", cv2.IMREAD_UNCHANGED)\n",
    "#\n",
    "# cv2.namedWindow(\"MyImage\", cv2.WINDOW_NORMAL)\n",
    "# cv2.imshow(\"MyImage\", gray)\n",
    "# cv2.waitKey(0)"
   ],
   "metadata": {
    "collapsed": false
   }
  },
  {
   "cell_type": "code",
   "execution_count": 157,
   "outputs": [
    {
     "data": {
      "text/plain": "(638, 1094)"
     },
     "execution_count": 157,
     "metadata": {},
     "output_type": "execute_result"
    }
   ],
   "source": [
    "item = filexY_array[2]\n",
    "item.shape"
   ],
   "metadata": {
    "collapsed": false
   }
  },
  {
   "cell_type": "code",
   "execution_count": 158,
   "outputs": [
    {
     "data": {
      "text/plain": "(608, 1024)"
     },
     "execution_count": 158,
     "metadata": {},
     "output_type": "execute_result"
    }
   ],
   "source": [
    "item2 = item[0:608,0:1024]\n",
    "item2.shape"
   ],
   "metadata": {
    "collapsed": false
   }
  },
  {
   "cell_type": "code",
   "execution_count": 159,
   "outputs": [
    {
     "data": {
      "text/plain": "<Figure size 1200x1200 with 2 Axes>",
      "image/png": "[encoded data removed]"
     },
     "metadata": {},
     "output_type": "display_data"
    },
    {
     "data": {
      "text/plain": "<AxesSubplot:>"
     },
     "execution_count": 159,
     "metadata": {},
     "output_type": "execute_result"
    }
   ],
   "source": [
    "ep.plot_bands(item2,\n",
    "              cmap=ListedColormap(['black', 'purple','blue', 'orange']))"
   ],
   "metadata": {
    "collapsed": false
   }
  },
  {
   "cell_type": "code",
   "execution_count": 160,
   "outputs": [
    {
     "data": {
      "text/plain": "0.1685277035361842"
     },
     "execution_count": 160,
     "metadata": {},
     "output_type": "execute_result"
    }
   ],
   "source": [
    "accuracy_score(pred_pxl.reshape(-1), item2.reshape(-1))"
   ],
   "metadata": {
    "collapsed": false
   }
  },
  {
   "cell_type": "code",
   "execution_count": null,
   "outputs": [],
   "source": [],
   "metadata": {
    "collapsed": false
   }
  }
 ],
 "metadata": {
  "kernelspec": {
   "display_name": "Python 3",
   "language": "python",
   "name": "python3"
  },
  "language_info": {
   "codemirror_mode": {
    "name": "ipython",
    "version": 2
   },
   "file_extension": ".py",
   "mimetype": "text/x-python",
   "name": "python",
   "nbconvert_exporter": "python",
   "pygments_lexer": "ipython2",
   "version": "2.7.6"
  }
 },
 "nbformat": 4,
 "nbformat_minor": 0
}
