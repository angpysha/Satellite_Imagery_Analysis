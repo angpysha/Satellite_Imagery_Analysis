{
 "cells": [
  {
   "cell_type": "code",
   "execution_count": 1,
   "metadata": {
    "collapsed": true
   },
   "outputs": [
    {
     "data": {
      "text/plain": "{'divide': 'warn', 'over': 'warn', 'under': 'ignore', 'invalid': 'warn'}"
     },
     "execution_count": 1,
     "metadata": {},
     "output_type": "execute_result"
    }
   ],
   "source": [
    "from glob import glob\n",
    "\n",
    "import earthpy as et\n",
    "import earthpy.spatial as es\n",
    "import earthpy.plot as ep\n",
    "\n",
    "import rasterio as rio\n",
    "from rasterio.plot import plotting_extent\n",
    "from rasterio.plot import show\n",
    "from rasterio.plot import reshape_as_raster, reshape_as_image\n",
    "\n",
    "import matplotlib.pyplot as plt\n",
    "import numpy as np\n",
    "from matplotlib.colors import ListedColormap\n",
    "\n",
    "from scipy.io import loadmat\n",
    "from sklearn.metrics import classification_report, accuracy_score\n",
    "\n",
    "import plotly.graph_objects as go\n",
    "import PIL\n",
    "import PIL.Image\n",
    "\n",
    "np.seterr(divide='ignore', invalid='ignore')"
   ]
  },
  {
   "cell_type": "code",
   "execution_count": 2,
   "outputs": [],
   "source": [
    "def getFilesNewForY(basePath):\n",
    "    dirs = glob(basePath+\"/*/\")\n",
    "    print(dirs)\n",
    "    #print(dirs)\n",
    "    for _dir in dirs:\n",
    "        files = glob(_dir+\"*Scene_classification*.tiff\")\n",
    "        file = files[0]\n",
    "        #print(files)\n",
    "        yield file"
   ],
   "metadata": {
    "collapsed": false
   }
  },
  {
   "cell_type": "code",
   "execution_count": 3,
   "outputs": [
    {
     "name": "stdout",
     "output_type": "stream",
     "text": [
      "['/tmp/shared/dataset4/16/', '/tmp/shared/dataset4/21/', '/tmp/shared/dataset4/9/', '/tmp/shared/dataset4/13/', '/tmp/shared/dataset4/5/', '/tmp/shared/dataset4/24/', '/tmp/shared/dataset4/17/', '/tmp/shared/dataset4/14/', '/tmp/shared/dataset4/11/', '/tmp/shared/dataset4/12/', '/tmp/shared/dataset4/15/', '/tmp/shared/dataset4/7/', '/tmp/shared/dataset4/23/', '/tmp/shared/dataset4/10/', '/tmp/shared/dataset4/22/', '/tmp/shared/dataset4/6/', '/tmp/shared/dataset4/4/', '/tmp/shared/dataset4/1/', '/tmp/shared/dataset4/3/', '/tmp/shared/dataset4/26/', '/tmp/shared/dataset4/8/', '/tmp/shared/dataset4/19/', '/tmp/shared/dataset4/2/', '/tmp/shared/dataset4/20/', '/tmp/shared/dataset4/25/', '/tmp/shared/dataset4/18/', '/tmp/shared/dataset4/27/']\n"
     ]
    },
    {
     "data": {
      "text/plain": "['/tmp/shared/dataset4/16/2022-12-01-00_00_2022-12-01-23_59_Sentinel-2_L2A_Scene_classification_map.tiff',\n '/tmp/shared/dataset4/21/2022-11-09-00_00_2022-11-09-23_59_Sentinel-2_L2A_Scene_classification_map.tiff',\n '/tmp/shared/dataset4/9/2022-08-28-00_00_2022-08-28-23_59_Sentinel-2_L2A_Scene_classification_map.tiff',\n '/tmp/shared/dataset4/13/2022-08-10-00_00_2022-08-10-23_59_Sentinel-2_L2A_Scene_classification_map.tiff',\n '/tmp/shared/dataset4/5/2022-10-11-00_00_2022-10-11-23_59_Sentinel-2_L2A_Scene_classification_map.tiff',\n '/tmp/shared/dataset4/24/2022-11-09-00_00_2022-11-09-23_59_Sentinel-2_L2A_Scene_classification_map.tiff',\n '/tmp/shared/dataset4/17/2022-12-01-00_00_2022-12-01-23_59_Sentinel-2_L2A_Scene_classification_map.tiff',\n '/tmp/shared/dataset4/14/2022-08-01-00_00_2022-08-01-23_59_Sentinel-2_L2A_Scene_classification_map.tiff',\n '/tmp/shared/dataset4/11/2022-08-25-00_00_2022-08-25-23_59_Sentinel-2_L2A_Scene_classification_map.tiff',\n '/tmp/shared/dataset4/12/2022-08-25-00_00_2022-08-25-23_59_Sentinel-2_L2A_Scene_classification_map.tiff',\n '/tmp/shared/dataset4/15/2022-07-27-00_00_2022-07-27-23_59_Sentinel-2_L2A_Scene_classification_map.tiff',\n '/tmp/shared/dataset4/7/2022-10-11-00_00_2022-10-11-23_59_Sentinel-2_L2A_Scene_classification_map.tiff',\n '/tmp/shared/dataset4/23/2022-11-09-00_00_2022-11-09-23_59_Sentinel-2_L2A_Scene_classification_map.tiff',\n '/tmp/shared/dataset4/10/2022-08-24-00_00_2022-08-24-23_59_Sentinel-2_L2A_Scene_classification_map.tiff',\n '/tmp/shared/dataset4/22/2022-11-09-00_00_2022-11-09-23_59_Sentinel-2_L2A_Scene_classification_map.tiff',\n '/tmp/shared/dataset4/6/2022-10-11-00_00_2022-10-11-23_59_Sentinel-2_L2A_Scene_classification_map.tiff',\n '/tmp/shared/dataset4/4/2022-10-11-00_00_2022-10-11-23_59_Sentinel-2_L2A_Scene_classification_map.tiff',\n '/tmp/shared/dataset4/1/2022-11-14-00_00_2022-11-14-23_59_Sentinel-2_L2A_Scene_classification_map.tiff',\n '/tmp/shared/dataset4/3/2022-10-11-00_00_2022-10-11-23_59_Sentinel-2_L2A_Scene_classification_map.tiff',\n '/tmp/shared/dataset4/26/2022-11-08-00_00_2022-11-08-23_59_Sentinel-2_L2A_Scene_classification_map.tiff',\n '/tmp/shared/dataset4/8/2022-10-11-00_00_2022-10-11-23_59_Sentinel-2_L2A_Scene_classification_map.tiff',\n '/tmp/shared/dataset4/19/2022-11-09-00_00_2022-11-09-23_59_Sentinel-2_L2A_Scene_classification_map.tiff',\n '/tmp/shared/dataset4/2/2022-10-11-00_00_2022-10-11-23_59_Sentinel-2_L2A_Scene_classification_map.tiff',\n '/tmp/shared/dataset4/20/2022-11-09-00_00_2022-11-09-23_59_Sentinel-2_L2A_Scene_classification_map.tiff',\n '/tmp/shared/dataset4/25/2022-11-09-00_00_2022-11-09-23_59_Sentinel-2_L2A_Scene_classification_map.tiff',\n '/tmp/shared/dataset4/18/2022-11-09-00_00_2022-11-09-23_59_Sentinel-2_L2A_Scene_classification_map.tiff',\n '/tmp/shared/dataset4/27/2022-11-08-00_00_2022-11-08-23_59_Sentinel-2_L2A_Scene_classification_map.tiff']"
     },
     "execution_count": 3,
     "metadata": {},
     "output_type": "execute_result"
    }
   ],
   "source": [
    "fileNamesY = list(getFilesNewForY(\"/tmp/shared/dataset4\"))\n",
    "fileNamesY"
   ],
   "metadata": {
    "collapsed": false
   }
  },
  {
   "cell_type": "code",
   "execution_count": 4,
   "outputs": [],
   "source": [
    "def getFilesNew(basePath):\n",
    "    dirs = glob(basePath+\"/*/\")\n",
    "    print(dirs)\n",
    "    for _dir in dirs:\n",
    "        files = glob(_dir+\"*B?*.tiff\")\n",
    "        #print(files)\n",
    "        yield files"
   ],
   "metadata": {
    "collapsed": false
   }
  },
  {
   "cell_type": "code",
   "execution_count": 5,
   "outputs": [
    {
     "name": "stdout",
     "output_type": "stream",
     "text": [
      "['/tmp/shared/dataset4/16/', '/tmp/shared/dataset4/21/', '/tmp/shared/dataset4/9/', '/tmp/shared/dataset4/13/', '/tmp/shared/dataset4/5/', '/tmp/shared/dataset4/24/', '/tmp/shared/dataset4/17/', '/tmp/shared/dataset4/14/', '/tmp/shared/dataset4/11/', '/tmp/shared/dataset4/12/', '/tmp/shared/dataset4/15/', '/tmp/shared/dataset4/7/', '/tmp/shared/dataset4/23/', '/tmp/shared/dataset4/10/', '/tmp/shared/dataset4/22/', '/tmp/shared/dataset4/6/', '/tmp/shared/dataset4/4/', '/tmp/shared/dataset4/1/', '/tmp/shared/dataset4/3/', '/tmp/shared/dataset4/26/', '/tmp/shared/dataset4/8/', '/tmp/shared/dataset4/19/', '/tmp/shared/dataset4/2/', '/tmp/shared/dataset4/20/', '/tmp/shared/dataset4/25/', '/tmp/shared/dataset4/18/', '/tmp/shared/dataset4/27/']\n"
     ]
    },
    {
     "data": {
      "text/plain": "[['/tmp/shared/dataset4/16/2022-12-01-00_00_2022-12-01-23_59_Sentinel-2_L2A_B12_(Raw).tiff',\n  '/tmp/shared/dataset4/16/2022-12-01-00_00_2022-12-01-23_59_Sentinel-2_L2A_B08_(Raw).tiff',\n  '/tmp/shared/dataset4/16/2022-12-01-00_00_2022-12-01-23_59_Sentinel-2_L2A_B03_(Raw).tiff',\n  '/tmp/shared/dataset4/16/2022-12-01-00_00_2022-12-01-23_59_Sentinel-2_L2A_B02_(Raw).tiff',\n  '/tmp/shared/dataset4/16/2022-12-01-00_00_2022-12-01-23_59_Sentinel-2_L2A_B01_(Raw).tiff',\n  '/tmp/shared/dataset4/16/2022-12-01-00_00_2022-12-01-23_59_Sentinel-2_L2A_B06_(Raw).tiff',\n  '/tmp/shared/dataset4/16/2022-12-01-00_00_2022-12-01-23_59_Sentinel-2_L2A_B8A_(Raw).tiff',\n  '/tmp/shared/dataset4/16/2022-12-01-00_00_2022-12-01-23_59_Sentinel-2_L2A_B05_(Raw).tiff',\n  '/tmp/shared/dataset4/16/2022-12-01-00_00_2022-12-01-23_59_Sentinel-2_L2A_B11_(Raw).tiff',\n  '/tmp/shared/dataset4/16/2022-12-01-00_00_2022-12-01-23_59_Sentinel-2_L2A_B09_(Raw).tiff',\n  '/tmp/shared/dataset4/16/2022-12-01-00_00_2022-12-01-23_59_Sentinel-2_L2A_B04_(Raw).tiff',\n  '/tmp/shared/dataset4/16/2022-12-01-00_00_2022-12-01-23_59_Sentinel-2_L2A_B07_(Raw).tiff'],\n ['/tmp/shared/dataset4/21/2022-11-09-00_00_2022-11-09-23_59_Sentinel-2_L2A_B09_(Raw).tiff',\n  '/tmp/shared/dataset4/21/2022-11-09-00_00_2022-11-09-23_59_Sentinel-2_L2A_B06_(Raw).tiff',\n  '/tmp/shared/dataset4/21/2022-11-09-00_00_2022-11-09-23_59_Sentinel-2_L2A_B08_(Raw).tiff',\n  '/tmp/shared/dataset4/21/2022-11-09-00_00_2022-11-09-23_59_Sentinel-2_L2A_B04_(Raw).tiff',\n  '/tmp/shared/dataset4/21/2022-11-09-00_00_2022-11-09-23_59_Sentinel-2_L2A_B8A_(Raw).tiff',\n  '/tmp/shared/dataset4/21/2022-11-09-00_00_2022-11-09-23_59_Sentinel-2_L2A_B11_(Raw).tiff',\n  '/tmp/shared/dataset4/21/2022-11-09-00_00_2022-11-09-23_59_Sentinel-2_L2A_B05_(Raw).tiff',\n  '/tmp/shared/dataset4/21/2022-11-09-00_00_2022-11-09-23_59_Sentinel-2_L2A_B03_(Raw).tiff',\n  '/tmp/shared/dataset4/21/2022-11-09-00_00_2022-11-09-23_59_Sentinel-2_L2A_B07_(Raw).tiff',\n  '/tmp/shared/dataset4/21/2022-11-09-00_00_2022-11-09-23_59_Sentinel-2_L2A_B01_(Raw).tiff',\n  '/tmp/shared/dataset4/21/2022-11-09-00_00_2022-11-09-23_59_Sentinel-2_L2A_B12_(Raw).tiff',\n  '/tmp/shared/dataset4/21/2022-11-09-00_00_2022-11-09-23_59_Sentinel-2_L2A_B02_(Raw).tiff'],\n ['/tmp/shared/dataset4/9/2022-08-28-00_00_2022-08-28-23_59_Sentinel-2_L2A_B04_(Raw).tiff',\n  '/tmp/shared/dataset4/9/2022-08-28-00_00_2022-08-28-23_59_Sentinel-2_L2A_B08_(Raw).tiff',\n  '/tmp/shared/dataset4/9/2022-08-28-00_00_2022-08-28-23_59_Sentinel-2_L2A_B09_(Raw).tiff',\n  '/tmp/shared/dataset4/9/2022-08-28-00_00_2022-08-28-23_59_Sentinel-2_L2A_B05_(Raw).tiff',\n  '/tmp/shared/dataset4/9/2022-08-28-00_00_2022-08-28-23_59_Sentinel-2_L2A_B01_(Raw).tiff',\n  '/tmp/shared/dataset4/9/2022-08-28-00_00_2022-08-28-23_59_Sentinel-2_L2A_B12_(Raw).tiff',\n  '/tmp/shared/dataset4/9/2022-08-28-00_00_2022-08-28-23_59_Sentinel-2_L2A_B11_(Raw).tiff',\n  '/tmp/shared/dataset4/9/2022-08-28-00_00_2022-08-28-23_59_Sentinel-2_L2A_B8A_(Raw).tiff',\n  '/tmp/shared/dataset4/9/2022-08-28-00_00_2022-08-28-23_59_Sentinel-2_L2A_B06_(Raw).tiff',\n  '/tmp/shared/dataset4/9/2022-08-28-00_00_2022-08-28-23_59_Sentinel-2_L2A_B03_(Raw).tiff',\n  '/tmp/shared/dataset4/9/2022-08-28-00_00_2022-08-28-23_59_Sentinel-2_L2A_B02_(Raw).tiff',\n  '/tmp/shared/dataset4/9/2022-08-28-00_00_2022-08-28-23_59_Sentinel-2_L2A_B07_(Raw).tiff'],\n ['/tmp/shared/dataset4/13/2022-08-10-00_00_2022-08-10-23_59_Sentinel-2_L2A_B02_(Raw).tiff',\n  '/tmp/shared/dataset4/13/2022-08-10-00_00_2022-08-10-23_59_Sentinel-2_L2A_B06_(Raw).tiff',\n  '/tmp/shared/dataset4/13/2022-08-10-00_00_2022-08-10-23_59_Sentinel-2_L2A_B08_(Raw).tiff',\n  '/tmp/shared/dataset4/13/2022-08-10-00_00_2022-08-10-23_59_Sentinel-2_L2A_B11_(Raw).tiff',\n  '/tmp/shared/dataset4/13/2022-08-10-00_00_2022-08-10-23_59_Sentinel-2_L2A_B01_(Raw).tiff',\n  '/tmp/shared/dataset4/13/2022-08-10-00_00_2022-08-10-23_59_Sentinel-2_L2A_B07_(Raw).tiff',\n  '/tmp/shared/dataset4/13/2022-08-10-00_00_2022-08-10-23_59_Sentinel-2_L2A_B04_(Raw).tiff',\n  '/tmp/shared/dataset4/13/2022-08-10-00_00_2022-08-10-23_59_Sentinel-2_L2A_B12_(Raw).tiff',\n  '/tmp/shared/dataset4/13/2022-08-10-00_00_2022-08-10-23_59_Sentinel-2_L2A_B8A_(Raw).tiff',\n  '/tmp/shared/dataset4/13/2022-08-10-00_00_2022-08-10-23_59_Sentinel-2_L2A_B05_(Raw).tiff',\n  '/tmp/shared/dataset4/13/2022-08-10-00_00_2022-08-10-23_59_Sentinel-2_L2A_B03_(Raw).tiff',\n  '/tmp/shared/dataset4/13/2022-08-10-00_00_2022-08-10-23_59_Sentinel-2_L2A_B09_(Raw).tiff'],\n ['/tmp/shared/dataset4/5/2022-10-11-00_00_2022-10-11-23_59_Sentinel-2_L2A_B01_(Raw).tiff',\n  '/tmp/shared/dataset4/5/2022-10-11-00_00_2022-10-11-23_59_Sentinel-2_L2A_B11_(Raw).tiff',\n  '/tmp/shared/dataset4/5/2022-10-11-00_00_2022-10-11-23_59_Sentinel-2_L2A_B09_(Raw).tiff',\n  '/tmp/shared/dataset4/5/2022-10-11-00_00_2022-10-11-23_59_Sentinel-2_L2A_B8A_(Raw).tiff',\n  '/tmp/shared/dataset4/5/2022-10-11-00_00_2022-10-11-23_59_Sentinel-2_L2A_B12_(Raw).tiff',\n  '/tmp/shared/dataset4/5/2022-10-11-00_00_2022-10-11-23_59_Sentinel-2_L2A_B03_(Raw).tiff',\n  '/tmp/shared/dataset4/5/2022-10-11-00_00_2022-10-11-23_59_Sentinel-2_L2A_B02_(Raw).tiff',\n  '/tmp/shared/dataset4/5/2022-10-11-00_00_2022-10-11-23_59_Sentinel-2_L2A_B05_(Raw).tiff',\n  '/tmp/shared/dataset4/5/2022-10-11-00_00_2022-10-11-23_59_Sentinel-2_L2A_B07_(Raw).tiff',\n  '/tmp/shared/dataset4/5/2022-10-11-00_00_2022-10-11-23_59_Sentinel-2_L2A_B04_(Raw).tiff',\n  '/tmp/shared/dataset4/5/2022-10-11-00_00_2022-10-11-23_59_Sentinel-2_L2A_B08_(Raw).tiff',\n  '/tmp/shared/dataset4/5/2022-10-11-00_00_2022-10-11-23_59_Sentinel-2_L2A_B06_(Raw).tiff'],\n ['/tmp/shared/dataset4/24/2022-11-09-00_00_2022-11-09-23_59_Sentinel-2_L2A_B09_(Raw).tiff',\n  '/tmp/shared/dataset4/24/2022-11-09-00_00_2022-11-09-23_59_Sentinel-2_L2A_B06_(Raw).tiff',\n  '/tmp/shared/dataset4/24/2022-11-09-00_00_2022-11-09-23_59_Sentinel-2_L2A_B08_(Raw).tiff',\n  '/tmp/shared/dataset4/24/2022-11-09-00_00_2022-11-09-23_59_Sentinel-2_L2A_B04_(Raw).tiff',\n  '/tmp/shared/dataset4/24/2022-11-09-00_00_2022-11-09-23_59_Sentinel-2_L2A_B8A_(Raw).tiff',\n  '/tmp/shared/dataset4/24/2022-11-09-00_00_2022-11-09-23_59_Sentinel-2_L2A_B11_(Raw).tiff',\n  '/tmp/shared/dataset4/24/2022-11-09-00_00_2022-11-09-23_59_Sentinel-2_L2A_B05_(Raw).tiff',\n  '/tmp/shared/dataset4/24/2022-11-09-00_00_2022-11-09-23_59_Sentinel-2_L2A_B03_(Raw).tiff',\n  '/tmp/shared/dataset4/24/2022-11-09-00_00_2022-11-09-23_59_Sentinel-2_L2A_B07_(Raw).tiff',\n  '/tmp/shared/dataset4/24/2022-11-09-00_00_2022-11-09-23_59_Sentinel-2_L2A_B01_(Raw).tiff',\n  '/tmp/shared/dataset4/24/2022-11-09-00_00_2022-11-09-23_59_Sentinel-2_L2A_B12_(Raw).tiff',\n  '/tmp/shared/dataset4/24/2022-11-09-00_00_2022-11-09-23_59_Sentinel-2_L2A_B02_(Raw).tiff'],\n ['/tmp/shared/dataset4/17/2022-12-01-00_00_2022-12-01-23_59_Sentinel-2_L2A_B12_(Raw).tiff',\n  '/tmp/shared/dataset4/17/2022-12-01-00_00_2022-12-01-23_59_Sentinel-2_L2A_B08_(Raw).tiff',\n  '/tmp/shared/dataset4/17/2022-12-01-00_00_2022-12-01-23_59_Sentinel-2_L2A_B03_(Raw).tiff',\n  '/tmp/shared/dataset4/17/2022-12-01-00_00_2022-12-01-23_59_Sentinel-2_L2A_B02_(Raw).tiff',\n  '/tmp/shared/dataset4/17/2022-12-01-00_00_2022-12-01-23_59_Sentinel-2_L2A_B01_(Raw).tiff',\n  '/tmp/shared/dataset4/17/2022-12-01-00_00_2022-12-01-23_59_Sentinel-2_L2A_B06_(Raw).tiff',\n  '/tmp/shared/dataset4/17/2022-12-01-00_00_2022-12-01-23_59_Sentinel-2_L2A_B8A_(Raw).tiff',\n  '/tmp/shared/dataset4/17/2022-12-01-00_00_2022-12-01-23_59_Sentinel-2_L2A_B05_(Raw).tiff',\n  '/tmp/shared/dataset4/17/2022-12-01-00_00_2022-12-01-23_59_Sentinel-2_L2A_B11_(Raw).tiff',\n  '/tmp/shared/dataset4/17/2022-12-01-00_00_2022-12-01-23_59_Sentinel-2_L2A_B09_(Raw).tiff',\n  '/tmp/shared/dataset4/17/2022-12-01-00_00_2022-12-01-23_59_Sentinel-2_L2A_B04_(Raw).tiff',\n  '/tmp/shared/dataset4/17/2022-12-01-00_00_2022-12-01-23_59_Sentinel-2_L2A_B07_(Raw).tiff'],\n ['/tmp/shared/dataset4/14/2022-08-01-00_00_2022-08-01-23_59_Sentinel-2_L2A_B05_(Raw).tiff',\n  '/tmp/shared/dataset4/14/2022-08-01-00_00_2022-08-01-23_59_Sentinel-2_L2A_B09_(Raw).tiff',\n  '/tmp/shared/dataset4/14/2022-08-01-00_00_2022-08-01-23_59_Sentinel-2_L2A_B01_(Raw).tiff',\n  '/tmp/shared/dataset4/14/2022-08-01-00_00_2022-08-01-23_59_Sentinel-2_L2A_B04_(Raw).tiff',\n  '/tmp/shared/dataset4/14/2022-08-01-00_00_2022-08-01-23_59_Sentinel-2_L2A_B11_(Raw).tiff',\n  '/tmp/shared/dataset4/14/2022-08-01-00_00_2022-08-01-23_59_Sentinel-2_L2A_B12_(Raw).tiff',\n  '/tmp/shared/dataset4/14/2022-08-01-00_00_2022-08-01-23_59_Sentinel-2_L2A_B08_(Raw).tiff',\n  '/tmp/shared/dataset4/14/2022-08-01-00_00_2022-08-01-23_59_Sentinel-2_L2A_B8A_(Raw).tiff',\n  '/tmp/shared/dataset4/14/2022-08-01-00_00_2022-08-01-23_59_Sentinel-2_L2A_B07_(Raw).tiff',\n  '/tmp/shared/dataset4/14/2022-08-01-00_00_2022-08-01-23_59_Sentinel-2_L2A_B02_(Raw).tiff',\n  '/tmp/shared/dataset4/14/2022-08-01-00_00_2022-08-01-23_59_Sentinel-2_L2A_B06_(Raw).tiff',\n  '/tmp/shared/dataset4/14/2022-08-01-00_00_2022-08-01-23_59_Sentinel-2_L2A_B03_(Raw).tiff'],\n ['/tmp/shared/dataset4/11/2022-08-25-00_00_2022-08-25-23_59_Sentinel-2_L2A_B05_(Raw).tiff',\n  '/tmp/shared/dataset4/11/2022-08-25-00_00_2022-08-25-23_59_Sentinel-2_L2A_B08_(Raw).tiff',\n  '/tmp/shared/dataset4/11/2022-08-25-00_00_2022-08-25-23_59_Sentinel-2_L2A_B03_(Raw).tiff',\n  '/tmp/shared/dataset4/11/2022-08-25-00_00_2022-08-25-23_59_Sentinel-2_L2A_B12_(Raw).tiff',\n  '/tmp/shared/dataset4/11/2022-08-25-00_00_2022-08-25-23_59_Sentinel-2_L2A_B06_(Raw).tiff',\n  '/tmp/shared/dataset4/11/2022-08-25-00_00_2022-08-25-23_59_Sentinel-2_L2A_B07_(Raw).tiff',\n  '/tmp/shared/dataset4/11/2022-08-25-00_00_2022-08-25-23_59_Sentinel-2_L2A_B11_(Raw).tiff',\n  '/tmp/shared/dataset4/11/2022-08-25-00_00_2022-08-25-23_59_Sentinel-2_L2A_B09_(Raw).tiff',\n  '/tmp/shared/dataset4/11/2022-08-25-00_00_2022-08-25-23_59_Sentinel-2_L2A_B01_(Raw).tiff',\n  '/tmp/shared/dataset4/11/2022-08-25-00_00_2022-08-25-23_59_Sentinel-2_L2A_B04_(Raw).tiff',\n  '/tmp/shared/dataset4/11/2022-08-25-00_00_2022-08-25-23_59_Sentinel-2_L2A_B02_(Raw).tiff',\n  '/tmp/shared/dataset4/11/2022-08-25-00_00_2022-08-25-23_59_Sentinel-2_L2A_B8A_(Raw).tiff'],\n ['/tmp/shared/dataset4/12/2022-08-25-00_00_2022-08-25-23_59_Sentinel-2_L2A_B05_(Raw).tiff',\n  '/tmp/shared/dataset4/12/2022-08-25-00_00_2022-08-25-23_59_Sentinel-2_L2A_B08_(Raw).tiff',\n  '/tmp/shared/dataset4/12/2022-08-25-00_00_2022-08-25-23_59_Sentinel-2_L2A_B03_(Raw).tiff',\n  '/tmp/shared/dataset4/12/2022-08-25-00_00_2022-08-25-23_59_Sentinel-2_L2A_B12_(Raw).tiff',\n  '/tmp/shared/dataset4/12/2022-08-25-00_00_2022-08-25-23_59_Sentinel-2_L2A_B06_(Raw).tiff',\n  '/tmp/shared/dataset4/12/2022-08-25-00_00_2022-08-25-23_59_Sentinel-2_L2A_B07_(Raw).tiff',\n  '/tmp/shared/dataset4/12/2022-08-25-00_00_2022-08-25-23_59_Sentinel-2_L2A_B11_(Raw).tiff',\n  '/tmp/shared/dataset4/12/2022-08-25-00_00_2022-08-25-23_59_Sentinel-2_L2A_B09_(Raw).tiff',\n  '/tmp/shared/dataset4/12/2022-08-25-00_00_2022-08-25-23_59_Sentinel-2_L2A_B01_(Raw).tiff',\n  '/tmp/shared/dataset4/12/2022-08-25-00_00_2022-08-25-23_59_Sentinel-2_L2A_B04_(Raw).tiff',\n  '/tmp/shared/dataset4/12/2022-08-25-00_00_2022-08-25-23_59_Sentinel-2_L2A_B02_(Raw).tiff',\n  '/tmp/shared/dataset4/12/2022-08-25-00_00_2022-08-25-23_59_Sentinel-2_L2A_B8A_(Raw).tiff'],\n ['/tmp/shared/dataset4/15/2022-07-27-00_00_2022-07-27-23_59_Sentinel-2_L2A_B01_(Raw).tiff',\n  '/tmp/shared/dataset4/15/2022-07-27-00_00_2022-07-27-23_59_Sentinel-2_L2A_B08_(Raw).tiff',\n  '/tmp/shared/dataset4/15/2022-07-27-00_00_2022-07-27-23_59_Sentinel-2_L2A_B8A_(Raw).tiff',\n  '/tmp/shared/dataset4/15/2022-07-27-00_00_2022-07-27-23_59_Sentinel-2_L2A_B09_(Raw).tiff',\n  '/tmp/shared/dataset4/15/2022-07-27-00_00_2022-07-27-23_59_Sentinel-2_L2A_B04_(Raw).tiff',\n  '/tmp/shared/dataset4/15/2022-07-27-00_00_2022-07-27-23_59_Sentinel-2_L2A_B05_(Raw).tiff',\n  '/tmp/shared/dataset4/15/2022-07-27-00_00_2022-07-27-23_59_Sentinel-2_L2A_B06_(Raw).tiff',\n  '/tmp/shared/dataset4/15/2022-07-27-00_00_2022-07-27-23_59_Sentinel-2_L2A_B03_(Raw).tiff',\n  '/tmp/shared/dataset4/15/2022-07-27-00_00_2022-07-27-23_59_Sentinel-2_L2A_B11_(Raw).tiff',\n  '/tmp/shared/dataset4/15/2022-07-27-00_00_2022-07-27-23_59_Sentinel-2_L2A_B02_(Raw).tiff',\n  '/tmp/shared/dataset4/15/2022-07-27-00_00_2022-07-27-23_59_Sentinel-2_L2A_B12_(Raw).tiff',\n  '/tmp/shared/dataset4/15/2022-07-27-00_00_2022-07-27-23_59_Sentinel-2_L2A_B07_(Raw).tiff'],\n ['/tmp/shared/dataset4/7/2022-10-11-00_00_2022-10-11-23_59_Sentinel-2_L2A_B01_(Raw).tiff',\n  '/tmp/shared/dataset4/7/2022-10-11-00_00_2022-10-11-23_59_Sentinel-2_L2A_B11_(Raw).tiff',\n  '/tmp/shared/dataset4/7/2022-10-11-00_00_2022-10-11-23_59_Sentinel-2_L2A_B09_(Raw).tiff',\n  '/tmp/shared/dataset4/7/2022-10-11-00_00_2022-10-11-23_59_Sentinel-2_L2A_B8A_(Raw).tiff',\n  '/tmp/shared/dataset4/7/2022-10-11-00_00_2022-10-11-23_59_Sentinel-2_L2A_B12_(Raw).tiff',\n  '/tmp/shared/dataset4/7/2022-10-11-00_00_2022-10-11-23_59_Sentinel-2_L2A_B03_(Raw).tiff',\n  '/tmp/shared/dataset4/7/2022-10-11-00_00_2022-10-11-23_59_Sentinel-2_L2A_B02_(Raw).tiff',\n  '/tmp/shared/dataset4/7/2022-10-11-00_00_2022-10-11-23_59_Sentinel-2_L2A_B05_(Raw).tiff',\n  '/tmp/shared/dataset4/7/2022-10-11-00_00_2022-10-11-23_59_Sentinel-2_L2A_B07_(Raw).tiff',\n  '/tmp/shared/dataset4/7/2022-10-11-00_00_2022-10-11-23_59_Sentinel-2_L2A_B04_(Raw).tiff',\n  '/tmp/shared/dataset4/7/2022-10-11-00_00_2022-10-11-23_59_Sentinel-2_L2A_B08_(Raw).tiff',\n  '/tmp/shared/dataset4/7/2022-10-11-00_00_2022-10-11-23_59_Sentinel-2_L2A_B06_(Raw).tiff'],\n ['/tmp/shared/dataset4/23/2022-11-09-00_00_2022-11-09-23_59_Sentinel-2_L2A_B09_(Raw).tiff',\n  '/tmp/shared/dataset4/23/2022-11-09-00_00_2022-11-09-23_59_Sentinel-2_L2A_B06_(Raw).tiff',\n  '/tmp/shared/dataset4/23/2022-11-09-00_00_2022-11-09-23_59_Sentinel-2_L2A_B08_(Raw).tiff',\n  '/tmp/shared/dataset4/23/2022-11-09-00_00_2022-11-09-23_59_Sentinel-2_L2A_B04_(Raw).tiff',\n  '/tmp/shared/dataset4/23/2022-11-09-00_00_2022-11-09-23_59_Sentinel-2_L2A_B8A_(Raw).tiff',\n  '/tmp/shared/dataset4/23/2022-11-09-00_00_2022-11-09-23_59_Sentinel-2_L2A_B11_(Raw).tiff',\n  '/tmp/shared/dataset4/23/2022-11-09-00_00_2022-11-09-23_59_Sentinel-2_L2A_B05_(Raw).tiff',\n  '/tmp/shared/dataset4/23/2022-11-09-00_00_2022-11-09-23_59_Sentinel-2_L2A_B03_(Raw).tiff',\n  '/tmp/shared/dataset4/23/2022-11-09-00_00_2022-11-09-23_59_Sentinel-2_L2A_B07_(Raw).tiff',\n  '/tmp/shared/dataset4/23/2022-11-09-00_00_2022-11-09-23_59_Sentinel-2_L2A_B01_(Raw).tiff',\n  '/tmp/shared/dataset4/23/2022-11-09-00_00_2022-11-09-23_59_Sentinel-2_L2A_B12_(Raw).tiff',\n  '/tmp/shared/dataset4/23/2022-11-09-00_00_2022-11-09-23_59_Sentinel-2_L2A_B02_(Raw).tiff'],\n ['/tmp/shared/dataset4/10/2022-08-24-00_00_2022-08-24-23_59_Sentinel-2_L2A_B02_(Raw).tiff',\n  '/tmp/shared/dataset4/10/2022-08-24-00_00_2022-08-24-23_59_Sentinel-2_L2A_B12_(Raw).tiff',\n  '/tmp/shared/dataset4/10/2022-08-24-00_00_2022-08-24-23_59_Sentinel-2_L2A_B8A_(Raw).tiff',\n  '/tmp/shared/dataset4/10/2022-08-24-00_00_2022-08-24-23_59_Sentinel-2_L2A_B07_(Raw).tiff',\n  '/tmp/shared/dataset4/10/2022-08-24-00_00_2022-08-24-23_59_Sentinel-2_L2A_B05_(Raw).tiff',\n  '/tmp/shared/dataset4/10/2022-08-24-00_00_2022-08-24-23_59_Sentinel-2_L2A_B08_(Raw).tiff',\n  '/tmp/shared/dataset4/10/2022-08-24-00_00_2022-08-24-23_59_Sentinel-2_L2A_B09_(Raw).tiff',\n  '/tmp/shared/dataset4/10/2022-08-24-00_00_2022-08-24-23_59_Sentinel-2_L2A_B11_(Raw).tiff',\n  '/tmp/shared/dataset4/10/2022-08-24-00_00_2022-08-24-23_59_Sentinel-2_L2A_B03_(Raw).tiff',\n  '/tmp/shared/dataset4/10/2022-08-24-00_00_2022-08-24-23_59_Sentinel-2_L2A_B01_(Raw).tiff',\n  '/tmp/shared/dataset4/10/2022-08-24-00_00_2022-08-24-23_59_Sentinel-2_L2A_B04_(Raw).tiff',\n  '/tmp/shared/dataset4/10/2022-08-24-00_00_2022-08-24-23_59_Sentinel-2_L2A_B06_(Raw).tiff'],\n ['/tmp/shared/dataset4/22/2022-11-09-00_00_2022-11-09-23_59_Sentinel-2_L2A_B09_(Raw).tiff',\n  '/tmp/shared/dataset4/22/2022-11-09-00_00_2022-11-09-23_59_Sentinel-2_L2A_B06_(Raw).tiff',\n  '/tmp/shared/dataset4/22/2022-11-09-00_00_2022-11-09-23_59_Sentinel-2_L2A_B08_(Raw).tiff',\n  '/tmp/shared/dataset4/22/2022-11-09-00_00_2022-11-09-23_59_Sentinel-2_L2A_B04_(Raw).tiff',\n  '/tmp/shared/dataset4/22/2022-11-09-00_00_2022-11-09-23_59_Sentinel-2_L2A_B8A_(Raw).tiff',\n  '/tmp/shared/dataset4/22/2022-11-09-00_00_2022-11-09-23_59_Sentinel-2_L2A_B11_(Raw).tiff',\n  '/tmp/shared/dataset4/22/2022-11-09-00_00_2022-11-09-23_59_Sentinel-2_L2A_B05_(Raw).tiff',\n  '/tmp/shared/dataset4/22/2022-11-09-00_00_2022-11-09-23_59_Sentinel-2_L2A_B03_(Raw).tiff',\n  '/tmp/shared/dataset4/22/2022-11-09-00_00_2022-11-09-23_59_Sentinel-2_L2A_B07_(Raw).tiff',\n  '/tmp/shared/dataset4/22/2022-11-09-00_00_2022-11-09-23_59_Sentinel-2_L2A_B01_(Raw).tiff',\n  '/tmp/shared/dataset4/22/2022-11-09-00_00_2022-11-09-23_59_Sentinel-2_L2A_B12_(Raw).tiff',\n  '/tmp/shared/dataset4/22/2022-11-09-00_00_2022-11-09-23_59_Sentinel-2_L2A_B02_(Raw).tiff'],\n ['/tmp/shared/dataset4/6/2022-10-11-00_00_2022-10-11-23_59_Sentinel-2_L2A_B01_(Raw).tiff',\n  '/tmp/shared/dataset4/6/2022-10-11-00_00_2022-10-11-23_59_Sentinel-2_L2A_B11_(Raw).tiff',\n  '/tmp/shared/dataset4/6/2022-10-11-00_00_2022-10-11-23_59_Sentinel-2_L2A_B09_(Raw).tiff',\n  '/tmp/shared/dataset4/6/2022-10-11-00_00_2022-10-11-23_59_Sentinel-2_L2A_B8A_(Raw).tiff',\n  '/tmp/shared/dataset4/6/2022-10-11-00_00_2022-10-11-23_59_Sentinel-2_L2A_B12_(Raw).tiff',\n  '/tmp/shared/dataset4/6/2022-10-11-00_00_2022-10-11-23_59_Sentinel-2_L2A_B03_(Raw).tiff',\n  '/tmp/shared/dataset4/6/2022-10-11-00_00_2022-10-11-23_59_Sentinel-2_L2A_B02_(Raw).tiff',\n  '/tmp/shared/dataset4/6/2022-10-11-00_00_2022-10-11-23_59_Sentinel-2_L2A_B05_(Raw).tiff',\n  '/tmp/shared/dataset4/6/2022-10-11-00_00_2022-10-11-23_59_Sentinel-2_L2A_B07_(Raw).tiff',\n  '/tmp/shared/dataset4/6/2022-10-11-00_00_2022-10-11-23_59_Sentinel-2_L2A_B04_(Raw).tiff',\n  '/tmp/shared/dataset4/6/2022-10-11-00_00_2022-10-11-23_59_Sentinel-2_L2A_B08_(Raw).tiff',\n  '/tmp/shared/dataset4/6/2022-10-11-00_00_2022-10-11-23_59_Sentinel-2_L2A_B06_(Raw).tiff'],\n ['/tmp/shared/dataset4/4/2022-10-11-00_00_2022-10-11-23_59_Sentinel-2_L2A_B01_(Raw).tiff',\n  '/tmp/shared/dataset4/4/2022-10-11-00_00_2022-10-11-23_59_Sentinel-2_L2A_B11_(Raw).tiff',\n  '/tmp/shared/dataset4/4/2022-10-11-00_00_2022-10-11-23_59_Sentinel-2_L2A_B09_(Raw).tiff',\n  '/tmp/shared/dataset4/4/2022-10-11-00_00_2022-10-11-23_59_Sentinel-2_L2A_B8A_(Raw).tiff',\n  '/tmp/shared/dataset4/4/2022-10-11-00_00_2022-10-11-23_59_Sentinel-2_L2A_B12_(Raw).tiff',\n  '/tmp/shared/dataset4/4/2022-10-11-00_00_2022-10-11-23_59_Sentinel-2_L2A_B03_(Raw).tiff',\n  '/tmp/shared/dataset4/4/2022-10-11-00_00_2022-10-11-23_59_Sentinel-2_L2A_B02_(Raw).tiff',\n  '/tmp/shared/dataset4/4/2022-10-11-00_00_2022-10-11-23_59_Sentinel-2_L2A_B05_(Raw).tiff',\n  '/tmp/shared/dataset4/4/2022-10-11-00_00_2022-10-11-23_59_Sentinel-2_L2A_B07_(Raw).tiff',\n  '/tmp/shared/dataset4/4/2022-10-11-00_00_2022-10-11-23_59_Sentinel-2_L2A_B04_(Raw).tiff',\n  '/tmp/shared/dataset4/4/2022-10-11-00_00_2022-10-11-23_59_Sentinel-2_L2A_B08_(Raw).tiff',\n  '/tmp/shared/dataset4/4/2022-10-11-00_00_2022-10-11-23_59_Sentinel-2_L2A_B06_(Raw).tiff'],\n ['/tmp/shared/dataset4/1/2022-11-14-00_00_2022-11-14-23_59_Sentinel-2_L2A_B03_(Raw).tiff',\n  '/tmp/shared/dataset4/1/2022-11-14-00_00_2022-11-14-23_59_Sentinel-2_L2A_B8A_(Raw).tiff',\n  '/tmp/shared/dataset4/1/2022-11-14-00_00_2022-11-14-23_59_Sentinel-2_L2A_B09_(Raw).tiff',\n  '/tmp/shared/dataset4/1/2022-11-14-00_00_2022-11-14-23_59_Sentinel-2_L2A_B01_(Raw).tiff',\n  '/tmp/shared/dataset4/1/2022-11-14-00_00_2022-11-14-23_59_Sentinel-2_L2A_B04_(Raw).tiff',\n  '/tmp/shared/dataset4/1/2022-11-14-00_00_2022-11-14-23_59_Sentinel-2_L2A_B05_(Raw).tiff',\n  '/tmp/shared/dataset4/1/2022-11-14-00_00_2022-11-14-23_59_Sentinel-2_L2A_B08_(Raw).tiff',\n  '/tmp/shared/dataset4/1/2022-11-14-00_00_2022-11-14-23_59_Sentinel-2_L2A_B06_(Raw).tiff',\n  '/tmp/shared/dataset4/1/2022-11-14-00_00_2022-11-14-23_59_Sentinel-2_L2A_B07_(Raw).tiff',\n  '/tmp/shared/dataset4/1/2022-11-14-00_00_2022-11-14-23_59_Sentinel-2_L2A_B12_(Raw).tiff',\n  '/tmp/shared/dataset4/1/2022-11-14-00_00_2022-11-14-23_59_Sentinel-2_L2A_B02_(Raw).tiff',\n  '/tmp/shared/dataset4/1/2022-11-14-00_00_2022-11-14-23_59_Sentinel-2_L2A_B11_(Raw).tiff'],\n ['/tmp/shared/dataset4/3/2022-10-11-00_00_2022-10-11-23_59_Sentinel-2_L2A_B01_(Raw).tiff',\n  '/tmp/shared/dataset4/3/2022-10-11-00_00_2022-10-11-23_59_Sentinel-2_L2A_B11_(Raw).tiff',\n  '/tmp/shared/dataset4/3/2022-10-11-00_00_2022-10-11-23_59_Sentinel-2_L2A_B09_(Raw).tiff',\n  '/tmp/shared/dataset4/3/2022-10-11-00_00_2022-10-11-23_59_Sentinel-2_L2A_B8A_(Raw).tiff',\n  '/tmp/shared/dataset4/3/2022-10-11-00_00_2022-10-11-23_59_Sentinel-2_L2A_B12_(Raw).tiff',\n  '/tmp/shared/dataset4/3/2022-10-11-00_00_2022-10-11-23_59_Sentinel-2_L2A_B03_(Raw).tiff',\n  '/tmp/shared/dataset4/3/2022-10-11-00_00_2022-10-11-23_59_Sentinel-2_L2A_B02_(Raw).tiff',\n  '/tmp/shared/dataset4/3/2022-10-11-00_00_2022-10-11-23_59_Sentinel-2_L2A_B05_(Raw).tiff',\n  '/tmp/shared/dataset4/3/2022-10-11-00_00_2022-10-11-23_59_Sentinel-2_L2A_B07_(Raw).tiff',\n  '/tmp/shared/dataset4/3/2022-10-11-00_00_2022-10-11-23_59_Sentinel-2_L2A_B04_(Raw).tiff',\n  '/tmp/shared/dataset4/3/2022-10-11-00_00_2022-10-11-23_59_Sentinel-2_L2A_B08_(Raw).tiff',\n  '/tmp/shared/dataset4/3/2022-10-11-00_00_2022-10-11-23_59_Sentinel-2_L2A_B06_(Raw).tiff'],\n ['/tmp/shared/dataset4/26/2022-11-08-00_00_2022-11-08-23_59_Sentinel-2_L2A_B07_(Raw).tiff',\n  '/tmp/shared/dataset4/26/2022-11-08-00_00_2022-11-08-23_59_Sentinel-2_L2A_B8A_(Raw).tiff',\n  '/tmp/shared/dataset4/26/2022-11-08-00_00_2022-11-08-23_59_Sentinel-2_L2A_B05_(Raw).tiff',\n  '/tmp/shared/dataset4/26/2022-11-08-00_00_2022-11-08-23_59_Sentinel-2_L2A_B09_(Raw).tiff',\n  '/tmp/shared/dataset4/26/2022-11-08-00_00_2022-11-08-23_59_Sentinel-2_L2A_B03_(Raw).tiff',\n  '/tmp/shared/dataset4/26/2022-11-08-00_00_2022-11-08-23_59_Sentinel-2_L2A_B02_(Raw).tiff',\n  '/tmp/shared/dataset4/26/2022-11-08-00_00_2022-11-08-23_59_Sentinel-2_L2A_B11_(Raw).tiff',\n  '/tmp/shared/dataset4/26/2022-11-08-00_00_2022-11-08-23_59_Sentinel-2_L2A_B12_(Raw).tiff',\n  '/tmp/shared/dataset4/26/2022-11-08-00_00_2022-11-08-23_59_Sentinel-2_L2A_B01_(Raw).tiff',\n  '/tmp/shared/dataset4/26/2022-11-08-00_00_2022-11-08-23_59_Sentinel-2_L2A_B06_(Raw).tiff',\n  '/tmp/shared/dataset4/26/2022-11-08-00_00_2022-11-08-23_59_Sentinel-2_L2A_B08_(Raw).tiff',\n  '/tmp/shared/dataset4/26/2022-11-08-00_00_2022-11-08-23_59_Sentinel-2_L2A_B04_(Raw).tiff'],\n ['/tmp/shared/dataset4/8/2022-10-11-00_00_2022-10-11-23_59_Sentinel-2_L2A_B01_(Raw).tiff',\n  '/tmp/shared/dataset4/8/2022-10-11-00_00_2022-10-11-23_59_Sentinel-2_L2A_B11_(Raw).tiff',\n  '/tmp/shared/dataset4/8/2022-10-11-00_00_2022-10-11-23_59_Sentinel-2_L2A_B09_(Raw).tiff',\n  '/tmp/shared/dataset4/8/2022-10-11-00_00_2022-10-11-23_59_Sentinel-2_L2A_B8A_(Raw).tiff',\n  '/tmp/shared/dataset4/8/2022-10-11-00_00_2022-10-11-23_59_Sentinel-2_L2A_B12_(Raw).tiff',\n  '/tmp/shared/dataset4/8/2022-10-11-00_00_2022-10-11-23_59_Sentinel-2_L2A_B03_(Raw).tiff',\n  '/tmp/shared/dataset4/8/2022-10-11-00_00_2022-10-11-23_59_Sentinel-2_L2A_B02_(Raw).tiff',\n  '/tmp/shared/dataset4/8/2022-10-11-00_00_2022-10-11-23_59_Sentinel-2_L2A_B05_(Raw).tiff',\n  '/tmp/shared/dataset4/8/2022-10-11-00_00_2022-10-11-23_59_Sentinel-2_L2A_B07_(Raw).tiff',\n  '/tmp/shared/dataset4/8/2022-10-11-00_00_2022-10-11-23_59_Sentinel-2_L2A_B04_(Raw).tiff',\n  '/tmp/shared/dataset4/8/2022-10-11-00_00_2022-10-11-23_59_Sentinel-2_L2A_B08_(Raw).tiff',\n  '/tmp/shared/dataset4/8/2022-10-11-00_00_2022-10-11-23_59_Sentinel-2_L2A_B06_(Raw).tiff'],\n ['/tmp/shared/dataset4/19/2022-11-09-00_00_2022-11-09-23_59_Sentinel-2_L2A_B09_(Raw).tiff',\n  '/tmp/shared/dataset4/19/2022-11-09-00_00_2022-11-09-23_59_Sentinel-2_L2A_B06_(Raw).tiff',\n  '/tmp/shared/dataset4/19/2022-11-09-00_00_2022-11-09-23_59_Sentinel-2_L2A_B08_(Raw).tiff',\n  '/tmp/shared/dataset4/19/2022-11-09-00_00_2022-11-09-23_59_Sentinel-2_L2A_B04_(Raw).tiff',\n  '/tmp/shared/dataset4/19/2022-11-09-00_00_2022-11-09-23_59_Sentinel-2_L2A_B8A_(Raw).tiff',\n  '/tmp/shared/dataset4/19/2022-11-09-00_00_2022-11-09-23_59_Sentinel-2_L2A_B11_(Raw).tiff',\n  '/tmp/shared/dataset4/19/2022-11-09-00_00_2022-11-09-23_59_Sentinel-2_L2A_B05_(Raw).tiff',\n  '/tmp/shared/dataset4/19/2022-11-09-00_00_2022-11-09-23_59_Sentinel-2_L2A_B03_(Raw).tiff',\n  '/tmp/shared/dataset4/19/2022-11-09-00_00_2022-11-09-23_59_Sentinel-2_L2A_B07_(Raw).tiff',\n  '/tmp/shared/dataset4/19/2022-11-09-00_00_2022-11-09-23_59_Sentinel-2_L2A_B01_(Raw).tiff',\n  '/tmp/shared/dataset4/19/2022-11-09-00_00_2022-11-09-23_59_Sentinel-2_L2A_B12_(Raw).tiff',\n  '/tmp/shared/dataset4/19/2022-11-09-00_00_2022-11-09-23_59_Sentinel-2_L2A_B02_(Raw).tiff'],\n ['/tmp/shared/dataset4/2/2022-10-11-00_00_2022-10-11-23_59_Sentinel-2_L2A_B01_(Raw).tiff',\n  '/tmp/shared/dataset4/2/2022-10-11-00_00_2022-10-11-23_59_Sentinel-2_L2A_B11_(Raw).tiff',\n  '/tmp/shared/dataset4/2/2022-10-11-00_00_2022-10-11-23_59_Sentinel-2_L2A_B09_(Raw).tiff',\n  '/tmp/shared/dataset4/2/2022-10-11-00_00_2022-10-11-23_59_Sentinel-2_L2A_B8A_(Raw).tiff',\n  '/tmp/shared/dataset4/2/2022-10-11-00_00_2022-10-11-23_59_Sentinel-2_L2A_B12_(Raw).tiff',\n  '/tmp/shared/dataset4/2/2022-10-11-00_00_2022-10-11-23_59_Sentinel-2_L2A_B03_(Raw).tiff',\n  '/tmp/shared/dataset4/2/2022-10-11-00_00_2022-10-11-23_59_Sentinel-2_L2A_B02_(Raw).tiff',\n  '/tmp/shared/dataset4/2/2022-10-11-00_00_2022-10-11-23_59_Sentinel-2_L2A_B05_(Raw).tiff',\n  '/tmp/shared/dataset4/2/2022-10-11-00_00_2022-10-11-23_59_Sentinel-2_L2A_B07_(Raw).tiff',\n  '/tmp/shared/dataset4/2/2022-10-11-00_00_2022-10-11-23_59_Sentinel-2_L2A_B04_(Raw).tiff',\n  '/tmp/shared/dataset4/2/2022-10-11-00_00_2022-10-11-23_59_Sentinel-2_L2A_B08_(Raw).tiff',\n  '/tmp/shared/dataset4/2/2022-10-11-00_00_2022-10-11-23_59_Sentinel-2_L2A_B06_(Raw).tiff'],\n ['/tmp/shared/dataset4/20/2022-11-09-00_00_2022-11-09-23_59_Sentinel-2_L2A_B09_(Raw).tiff',\n  '/tmp/shared/dataset4/20/2022-11-09-00_00_2022-11-09-23_59_Sentinel-2_L2A_B06_(Raw).tiff',\n  '/tmp/shared/dataset4/20/2022-11-09-00_00_2022-11-09-23_59_Sentinel-2_L2A_B08_(Raw).tiff',\n  '/tmp/shared/dataset4/20/2022-11-09-00_00_2022-11-09-23_59_Sentinel-2_L2A_B04_(Raw).tiff',\n  '/tmp/shared/dataset4/20/2022-11-09-00_00_2022-11-09-23_59_Sentinel-2_L2A_B8A_(Raw).tiff',\n  '/tmp/shared/dataset4/20/2022-11-09-00_00_2022-11-09-23_59_Sentinel-2_L2A_B11_(Raw).tiff',\n  '/tmp/shared/dataset4/20/2022-11-09-00_00_2022-11-09-23_59_Sentinel-2_L2A_B05_(Raw).tiff',\n  '/tmp/shared/dataset4/20/2022-11-09-00_00_2022-11-09-23_59_Sentinel-2_L2A_B03_(Raw).tiff',\n  '/tmp/shared/dataset4/20/2022-11-09-00_00_2022-11-09-23_59_Sentinel-2_L2A_B07_(Raw).tiff',\n  '/tmp/shared/dataset4/20/2022-11-09-00_00_2022-11-09-23_59_Sentinel-2_L2A_B01_(Raw).tiff',\n  '/tmp/shared/dataset4/20/2022-11-09-00_00_2022-11-09-23_59_Sentinel-2_L2A_B12_(Raw).tiff',\n  '/tmp/shared/dataset4/20/2022-11-09-00_00_2022-11-09-23_59_Sentinel-2_L2A_B02_(Raw).tiff'],\n ['/tmp/shared/dataset4/25/2022-11-09-00_00_2022-11-09-23_59_Sentinel-2_L2A_B09_(Raw).tiff',\n  '/tmp/shared/dataset4/25/2022-11-09-00_00_2022-11-09-23_59_Sentinel-2_L2A_B06_(Raw).tiff',\n  '/tmp/shared/dataset4/25/2022-11-09-00_00_2022-11-09-23_59_Sentinel-2_L2A_B08_(Raw).tiff',\n  '/tmp/shared/dataset4/25/2022-11-09-00_00_2022-11-09-23_59_Sentinel-2_L2A_B04_(Raw).tiff',\n  '/tmp/shared/dataset4/25/2022-11-09-00_00_2022-11-09-23_59_Sentinel-2_L2A_B8A_(Raw).tiff',\n  '/tmp/shared/dataset4/25/2022-11-09-00_00_2022-11-09-23_59_Sentinel-2_L2A_B11_(Raw).tiff',\n  '/tmp/shared/dataset4/25/2022-11-09-00_00_2022-11-09-23_59_Sentinel-2_L2A_B05_(Raw).tiff',\n  '/tmp/shared/dataset4/25/2022-11-09-00_00_2022-11-09-23_59_Sentinel-2_L2A_B03_(Raw).tiff',\n  '/tmp/shared/dataset4/25/2022-11-09-00_00_2022-11-09-23_59_Sentinel-2_L2A_B07_(Raw).tiff',\n  '/tmp/shared/dataset4/25/2022-11-09-00_00_2022-11-09-23_59_Sentinel-2_L2A_B01_(Raw).tiff',\n  '/tmp/shared/dataset4/25/2022-11-09-00_00_2022-11-09-23_59_Sentinel-2_L2A_B12_(Raw).tiff',\n  '/tmp/shared/dataset4/25/2022-11-09-00_00_2022-11-09-23_59_Sentinel-2_L2A_B02_(Raw).tiff'],\n ['/tmp/shared/dataset4/18/2022-11-09-00_00_2022-11-09-23_59_Sentinel-2_L2A_B09_(Raw).tiff',\n  '/tmp/shared/dataset4/18/2022-11-09-00_00_2022-11-09-23_59_Sentinel-2_L2A_B06_(Raw).tiff',\n  '/tmp/shared/dataset4/18/2022-11-09-00_00_2022-11-09-23_59_Sentinel-2_L2A_B08_(Raw).tiff',\n  '/tmp/shared/dataset4/18/2022-11-09-00_00_2022-11-09-23_59_Sentinel-2_L2A_B04_(Raw).tiff',\n  '/tmp/shared/dataset4/18/2022-11-09-00_00_2022-11-09-23_59_Sentinel-2_L2A_B8A_(Raw).tiff',\n  '/tmp/shared/dataset4/18/2022-11-09-00_00_2022-11-09-23_59_Sentinel-2_L2A_B11_(Raw).tiff',\n  '/tmp/shared/dataset4/18/2022-11-09-00_00_2022-11-09-23_59_Sentinel-2_L2A_B05_(Raw).tiff',\n  '/tmp/shared/dataset4/18/2022-11-09-00_00_2022-11-09-23_59_Sentinel-2_L2A_B03_(Raw).tiff',\n  '/tmp/shared/dataset4/18/2022-11-09-00_00_2022-11-09-23_59_Sentinel-2_L2A_B07_(Raw).tiff',\n  '/tmp/shared/dataset4/18/2022-11-09-00_00_2022-11-09-23_59_Sentinel-2_L2A_B01_(Raw).tiff',\n  '/tmp/shared/dataset4/18/2022-11-09-00_00_2022-11-09-23_59_Sentinel-2_L2A_B12_(Raw).tiff',\n  '/tmp/shared/dataset4/18/2022-11-09-00_00_2022-11-09-23_59_Sentinel-2_L2A_B02_(Raw).tiff'],\n ['/tmp/shared/dataset4/27/2022-11-08-00_00_2022-11-08-23_59_Sentinel-2_L2A_B07_(Raw).tiff',\n  '/tmp/shared/dataset4/27/2022-11-08-00_00_2022-11-08-23_59_Sentinel-2_L2A_B8A_(Raw).tiff',\n  '/tmp/shared/dataset4/27/2022-11-08-00_00_2022-11-08-23_59_Sentinel-2_L2A_B05_(Raw).tiff',\n  '/tmp/shared/dataset4/27/2022-11-08-00_00_2022-11-08-23_59_Sentinel-2_L2A_B09_(Raw).tiff',\n  '/tmp/shared/dataset4/27/2022-11-08-00_00_2022-11-08-23_59_Sentinel-2_L2A_B03_(Raw).tiff',\n  '/tmp/shared/dataset4/27/2022-11-08-00_00_2022-11-08-23_59_Sentinel-2_L2A_B02_(Raw).tiff',\n  '/tmp/shared/dataset4/27/2022-11-08-00_00_2022-11-08-23_59_Sentinel-2_L2A_B11_(Raw).tiff',\n  '/tmp/shared/dataset4/27/2022-11-08-00_00_2022-11-08-23_59_Sentinel-2_L2A_B12_(Raw).tiff',\n  '/tmp/shared/dataset4/27/2022-11-08-00_00_2022-11-08-23_59_Sentinel-2_L2A_B01_(Raw).tiff',\n  '/tmp/shared/dataset4/27/2022-11-08-00_00_2022-11-08-23_59_Sentinel-2_L2A_B06_(Raw).tiff',\n  '/tmp/shared/dataset4/27/2022-11-08-00_00_2022-11-08-23_59_Sentinel-2_L2A_B08_(Raw).tiff',\n  '/tmp/shared/dataset4/27/2022-11-08-00_00_2022-11-08-23_59_Sentinel-2_L2A_B04_(Raw).tiff']]"
     },
     "execution_count": 5,
     "metadata": {},
     "output_type": "execute_result"
    }
   ],
   "source": [
    "fileNamesX = list(getFilesNew(\"/tmp/shared/dataset4\"))\n",
    "fileNamesX"
   ],
   "metadata": {
    "collapsed": false
   }
  },
  {
   "cell_type": "code",
   "execution_count": 6,
   "outputs": [
    {
     "name": "stdout",
     "output_type": "stream",
     "text": [
      "Min value  nan  max value  nan\n"
     ]
    },
    {
     "data": {
      "text/plain": "(878787,)"
     },
     "execution_count": 6,
     "metadata": {},
     "output_type": "execute_result"
    }
   ],
   "source": [
    "fileNameTest = fileNamesX[0][0]\n",
    "pic = PIL.Image.open(str(fileNameTest))\n",
    "imageData = np.asarray(pic.getdata())\n",
    "print(\"Min value \", np.min(imageData), \" max value \", np.max(imageData))\n",
    "imageData.shape"
   ],
   "metadata": {
    "collapsed": false
   }
  },
  {
   "cell_type": "code",
   "execution_count": 7,
   "outputs": [],
   "source": [
    "def getFilesArrayNew(paths):\n",
    "    l = []\n",
    "    for i in paths:\n",
    "        s = []\n",
    "        for j in i:\n",
    "            with rio.open(j, 'r') as f:\n",
    "                ff = f.read(1)\n",
    "                ff = ff[0:608, 0: 1024]\n",
    "                s.append(ff)\n",
    "        l.append(s)\n",
    "    arr_st_new = np.stack(l)\n",
    "    return  arr_st_new"
   ],
   "metadata": {
    "collapsed": false
   }
  },
  {
   "cell_type": "code",
   "execution_count": 8,
   "outputs": [],
   "source": [
    "filesX_array = getFilesArrayNew(fileNamesX)\n",
    "#filesX_array = filesX_array / np.max(filesX_array)\n",
    "#std = np.std(filesX_array)\n",
    "#mean= np.mean(filesX_array)\n",
    "#\n",
    "#filesX_array-=mean\n",
    "#filesX_array/=std"
   ],
   "metadata": {
    "collapsed": false
   }
  },
  {
   "cell_type": "code",
   "execution_count": 9,
   "outputs": [
    {
     "name": "stdout",
     "output_type": "stream",
     "text": [
      "Min value:  0.0  max value:  2.1167\n"
     ]
    }
   ],
   "source": [
    "print(\"Min value: \", np.min(filesX_array), \" max value: \", np.max(filesX_array))"
   ],
   "metadata": {
    "collapsed": false
   }
  },
  {
   "cell_type": "code",
   "execution_count": 10,
   "outputs": [],
   "source": [
    "def getFilesArrayNewY(paths):\n",
    "    l = []\n",
    "    for i in paths:\n",
    "        with rio.open(i,'r') as f:\n",
    "            r = f.read(1)\n",
    "            g = f.read(2)\n",
    "            b =  f.read(3)\n",
    "            r = r[0:608, 0:1024]\n",
    "            g = g[0:608, 0:1024]\n",
    "            b = b[0:608, 0:1024]\n",
    "            rgb_arr = [r, g ,b]\n",
    "            l.append(rgb_arr)\n",
    "            # l.append(rgb)\n",
    "    return l"
   ],
   "metadata": {
    "collapsed": false
   }
  },
  {
   "cell_type": "code",
   "execution_count": 11,
   "outputs": [
    {
     "data": {
      "text/plain": "(27, 3, 608, 1024)"
     },
     "execution_count": 11,
     "metadata": {},
     "output_type": "execute_result"
    }
   ],
   "source": [
    "_filexY_array = np.asarray(getFilesArrayNewY(fileNamesY))\n",
    "#_filexY_array = np.moveaxis(_filexY_array, 1,0)\n",
    "_filexY_array = np.asarray(_filexY_array * 255).astype(int)\n",
    "_filexY_array.shape"
   ],
   "metadata": {
    "collapsed": false
   }
  },
  {
   "cell_type": "code",
   "execution_count": 12,
   "outputs": [],
   "source": [
    "__filesY_array  = []\n",
    "for i in _filexY_array:\n",
    "    r = i[0]\n",
    "    g = i[1]\n",
    "    b = i[2]\n",
    "    rgb  = r\n",
    "    rgb = np.left_shift(rgb, 8) + g\n",
    "    rgb = np.left_shift(rgb, 8) + b\n",
    "    __filesY_array.append(rgb)"
   ],
   "metadata": {
    "collapsed": false
   }
  },
  {
   "cell_type": "code",
   "execution_count": 13,
   "outputs": [
    {
     "data": {
      "text/plain": "(27, 608, 1024)"
     },
     "execution_count": 13,
     "metadata": {},
     "output_type": "execute_result"
    }
   ],
   "source": [
    "filexY_array = np.asarray(__filesY_array)\n",
    "filexY_array.shape"
   ],
   "metadata": {
    "collapsed": false
   }
  },
  {
   "cell_type": "code",
   "execution_count": 14,
   "outputs": [
    {
     "name": "stdout",
     "output_type": "stream",
     "text": [
      "[       0      255    40960  3092271  6566400  6605055  8421504 12632256\n",
      " 16750335 16770650 16777215]\n"
     ]
    }
   ],
   "source": [
    "unique_valsY = np.unique(filexY_array)\n",
    "print(unique_valsY)\n",
    "#filexY_array[filexY_array == 1] = 100"
   ],
   "metadata": {
    "collapsed": false
   }
  },
  {
   "cell_type": "markdown",
   "source": [
    "<p color=\"#000000\"> Category 1 </p>\n",
    "<p color=\"#0000ff\"> Category 2 </p>\n",
    "<p color=\"#00a000\"> Category 3 </p>\n",
    "<p color=\"#643200\"> Category 4 </p>\n",
    "<p color=\"#64C8FF\"> Category 5 </p>\n",
    "<p color=\"#808080\"> Category 6 </p>\n",
    "<p color=\"#C0C0C0\"> Category 7 </p>\n",
    "<p color=\"#FFE65A\"> Category 8 </p>\n",
    "<p color=\"#FFFFFF\"> Category 9 </p>\n"
   ],
   "metadata": {
    "collapsed": false
   }
  },
  {
   "cell_type": "code",
   "execution_count": 15,
   "outputs": [
    {
     "name": "stdout",
     "output_type": "stream",
     "text": [
      "category 0 count 120\n",
      "category 1 count 735271\n",
      "category 2 count 7210430\n",
      "category 3 count 46938\n",
      "category 4 count 26247\n",
      "category 5 count 516150\n",
      "category 6 count 5110\n",
      "category 7 count 118567\n",
      "category 8 count 35\n",
      "category 9 count 8143733\n",
      "category 10 count 7383\n"
     ]
    }
   ],
   "source": [
    "num_of_y = filexY_array.shape[0]*filexY_array.shape[1]*filexY_array.shape[2]\n",
    "cat1_c = np.count_nonzero(filexY_array == 0)\n",
    "cat2_c = np.count_nonzero(filexY_array == 255)\n",
    "cat3_c = np.count_nonzero(filexY_array == 40960)\n",
    "cat4_c = np.count_nonzero(filexY_array == 6566400)\n",
    "cat5_c = np.count_nonzero(filexY_array == 6605055)\n",
    "cat6_c = np.count_nonzero(filexY_array == 8421504)\n",
    "cat7_c = np.count_nonzero(filexY_array == 12632256)\n",
    "cat8_c = np.count_nonzero(filexY_array == 16770650)\n",
    "cat9_c = np.count_nonzero(filexY_array == 16777215)\n",
    "cat_all = []\n",
    "for idx, num in enumerate(unique_valsY):\n",
    "    cnt = np.count_nonzero(filexY_array == num)\n",
    "    print(\"category \" + str(idx) + \" count \" + str(cnt))\n",
    "    cat_all.append(cnt)\n"
   ],
   "metadata": {
    "collapsed": false
   }
  },
  {
   "cell_type": "code",
   "execution_count": 16,
   "outputs": [],
   "source": [
    "for idx, i in enumerate(unique_valsY):\n",
    "        filexY_array [ filexY_array == i] = idx"
   ],
   "metadata": {
    "collapsed": false
   }
  },
  {
   "cell_type": "code",
   "execution_count": 17,
   "outputs": [],
   "source": [
    "# print(np.unique(filexY_array))"
   ],
   "metadata": {
    "collapsed": false
   }
  },
  {
   "cell_type": "code",
   "execution_count": 18,
   "outputs": [],
   "source": [
    "filexY_array [ filexY_array == 3] = 0\n",
    "filexY_array [ filexY_array == 4] = 0\n",
    "#filexY_array [ filexY_array == 5] = 0\n",
    "filexY_array [ filexY_array == 6] = 0\n",
    "filexY_array [ filexY_array == 7] = 0\n",
    "filexY_array [ filexY_array == 8] = 0\n",
    "filexY_array [ filexY_array == 10] = 0\n"
   ],
   "metadata": {
    "collapsed": false
   }
  },
  {
   "cell_type": "code",
   "execution_count": 19,
   "outputs": [
    {
     "name": "stdout",
     "output_type": "stream",
     "text": [
      "[0 1 2 5 9]\n"
     ]
    }
   ],
   "source": [
    "print(np.unique(filexY_array))"
   ],
   "metadata": {
    "collapsed": false
   }
  },
  {
   "cell_type": "code",
   "execution_count": 20,
   "outputs": [],
   "source": [
    "filexY_array [ filexY_array == 5] = 3\n",
    "filexY_array [ filexY_array == 9] = 4\n"
   ],
   "metadata": {
    "collapsed": false
   }
  },
  {
   "cell_type": "code",
   "execution_count": 21,
   "outputs": [
    {
     "data": {
      "text/plain": "(array([ 204400.,       0.,  735271.,       0.,       0., 7210430.,\n              0.,  516150.,       0., 8143733.]),\n array([0. , 0.4, 0.8, 1.2, 1.6, 2. , 2.4, 2.8, 3.2, 3.6, 4. ]),\n <BarContainer object of 10 artists>)"
     },
     "execution_count": 21,
     "metadata": {},
     "output_type": "execute_result"
    },
    {
     "data": {
      "text/plain": "<Figure size 640x480 with 1 Axes>",
      "image/png": "[encoded data removed]"
     },
     "metadata": {},
     "output_type": "display_data"
    }
   ],
   "source": [
    "plt.hist(filexY_array.reshape(-1))"
   ],
   "metadata": {
    "collapsed": false
   }
  },
  {
   "cell_type": "code",
   "execution_count": 22,
   "outputs": [
    {
     "data": {
      "text/plain": "(27, 12, 608, 1024)"
     },
     "execution_count": 22,
     "metadata": {},
     "output_type": "execute_result"
    }
   ],
   "source": [
    "x_np = np.asarray(filesX_array)\n",
    "x_np.shape"
   ],
   "metadata": {
    "collapsed": false
   }
  },
  {
   "cell_type": "code",
   "execution_count": 23,
   "outputs": [
    {
     "data": {
      "text/plain": "(27, 12, 608, 1024)"
     },
     "execution_count": 23,
     "metadata": {},
     "output_type": "execute_result"
    }
   ],
   "source": [
    "x_np2 = x_np[:,:,0:608,0:1024]\n",
    "x_np2.shape"
   ],
   "metadata": {
    "collapsed": false
   }
  },
  {
   "cell_type": "code",
   "execution_count": 24,
   "outputs": [
    {
     "data": {
      "text/plain": "(12, 27, 608, 1024)"
     },
     "execution_count": 24,
     "metadata": {},
     "output_type": "execute_result"
    }
   ],
   "source": [
    "x_np2 = np.moveaxis(x_np2,1,0)\n",
    "x_np2.shape"
   ],
   "metadata": {
    "collapsed": false
   }
  },
  {
   "cell_type": "code",
   "execution_count": 25,
   "outputs": [
    {
     "data": {
      "text/plain": "(12, 16416, 1024)"
     },
     "execution_count": 25,
     "metadata": {},
     "output_type": "execute_result"
    }
   ],
   "source": [
    "x_np_combined = x_np2.reshape(12,-1,1024)\n",
    "x_np_combined.shape"
   ],
   "metadata": {
    "collapsed": false
   }
  },
  {
   "cell_type": "code",
   "execution_count": 26,
   "outputs": [
    {
     "data": {
      "text/plain": "(12, 16416, 1024)"
     },
     "execution_count": 26,
     "metadata": {},
     "output_type": "execute_result"
    }
   ],
   "source": [
    "x_np_combined.shape"
   ],
   "metadata": {
    "collapsed": false
   }
  },
  {
   "cell_type": "code",
   "execution_count": 27,
   "outputs": [
    {
     "data": {
      "text/plain": "(16416, 1024, 12)"
     },
     "execution_count": 27,
     "metadata": {},
     "output_type": "execute_result"
    }
   ],
   "source": [
    "x_np_combined = np.moveaxis(x_np_combined, 0, -1)\n",
    "x_np_combined.shape"
   ],
   "metadata": {
    "collapsed": false
   }
  },
  {
   "cell_type": "code",
   "execution_count": 28,
   "outputs": [],
   "source": [
    "x_data = x_np_combined.reshape(-1,32,32,12)"
   ],
   "metadata": {
    "collapsed": false
   }
  },
  {
   "cell_type": "code",
   "execution_count": 29,
   "outputs": [
    {
     "data": {
      "text/plain": "(16416, 32, 32, 12)"
     },
     "execution_count": 29,
     "metadata": {},
     "output_type": "execute_result"
    }
   ],
   "source": [
    "x_data.shape"
   ],
   "metadata": {
    "collapsed": false
   }
  },
  {
   "cell_type": "code",
   "execution_count": 30,
   "outputs": [
    {
     "data": {
      "text/plain": "(16416, 32, 32)"
     },
     "execution_count": 30,
     "metadata": {},
     "output_type": "execute_result"
    }
   ],
   "source": [
    "x_data_summed = np.sum(x_data, axis=3)\n",
    "x_data_summed.shape"
   ],
   "metadata": {
    "collapsed": false
   }
  },
  {
   "cell_type": "code",
   "execution_count": 31,
   "outputs": [
    {
     "data": {
      "text/plain": "(27, 608, 1024)"
     },
     "execution_count": 31,
     "metadata": {},
     "output_type": "execute_result"
    }
   ],
   "source": [
    "filexY_array.shape"
   ],
   "metadata": {
    "collapsed": false
   }
  },
  {
   "cell_type": "code",
   "execution_count": 32,
   "outputs": [
    {
     "data": {
      "text/plain": "(27, 608, 1024)"
     },
     "execution_count": 32,
     "metadata": {},
     "output_type": "execute_result"
    }
   ],
   "source": [
    "y_np =  filexY_array[:,0:608,0:1024]\n",
    "y_np.shape"
   ],
   "metadata": {
    "collapsed": false
   }
  },
  {
   "cell_type": "code",
   "execution_count": 33,
   "outputs": [
    {
     "data": {
      "text/plain": "(16416, 1024)"
     },
     "execution_count": 33,
     "metadata": {},
     "output_type": "execute_result"
    }
   ],
   "source": [
    "y_np2 = y_np.reshape(-1, 1024)\n",
    "y_np2.shape"
   ],
   "metadata": {
    "collapsed": false
   }
  },
  {
   "cell_type": "code",
   "execution_count": 34,
   "outputs": [
    {
     "data": {
      "text/plain": "(16416, 32, 32)"
     },
     "execution_count": 34,
     "metadata": {},
     "output_type": "execute_result"
    }
   ],
   "source": [
    "y_data = y_np2.reshape(-1, 32,32)\n",
    "y_data.shape"
   ],
   "metadata": {
    "collapsed": false
   }
  },
  {
   "cell_type": "code",
   "execution_count": 35,
   "outputs": [],
   "source": [
    "#Let's import some important Libraries\n",
    "import tensorflow as tf\n",
    "from keras.models import Sequential, Model\n",
    "from keras.layers import Dense, Input\n",
    "from keras.utils import np_utils\n",
    "import numpy as np # linear algebra\n",
    "import pandas as pd # data processing, CSV file I/O (e.g. pd.read_csv)\n",
    "import matplotlib.pyplot as plt\n",
    "import pandas as pd\n",
    "from keras.layers import *\n",
    "from keras.layers.convolutional import Conv2D\n",
    "from keras.layers.pooling import MaxPooling2D\n",
    "from keras.callbacks import EarlyStopping, ModelCheckpoint"
   ],
   "metadata": {
    "collapsed": false
   }
  },
  {
   "cell_type": "code",
   "execution_count": 36,
   "outputs": [],
   "source": [
    "y_cat = np_utils.to_categorical(y_data)"
   ],
   "metadata": {
    "collapsed": false
   }
  },
  {
   "cell_type": "code",
   "execution_count": 37,
   "outputs": [
    {
     "name": "stderr",
     "output_type": "stream",
     "text": [
      "2022-12-31 08:53:31.702573: I tensorflow/stream_executor/cuda/cuda_gpu_executor.cc:961] could not open file to read NUMA node: /sys/bus/pci/devices/0000:01:00.0/numa_node\n",
      "Your kernel may have been built without NUMA support.\n",
      "2022-12-31 08:53:31.774126: I tensorflow/stream_executor/cuda/cuda_gpu_executor.cc:961] could not open file to read NUMA node: /sys/bus/pci/devices/0000:01:00.0/numa_node\n",
      "Your kernel may have been built without NUMA support.\n",
      "2022-12-31 08:53:31.774475: I tensorflow/stream_executor/cuda/cuda_gpu_executor.cc:961] could not open file to read NUMA node: /sys/bus/pci/devices/0000:01:00.0/numa_node\n",
      "Your kernel may have been built without NUMA support.\n",
      "2022-12-31 08:53:31.775837: I tensorflow/core/platform/cpu_feature_guard.cc:193] This TensorFlow binary is optimized with oneAPI Deep Neural Network Library (oneDNN) to use the following CPU instructions in performance-critical operations:  AVX2 FMA\n",
      "To enable them in other operations, rebuild TensorFlow with the appropriate compiler flags.\n",
      "2022-12-31 08:53:31.777731: I tensorflow/stream_executor/cuda/cuda_gpu_executor.cc:961] could not open file to read NUMA node: /sys/bus/pci/devices/0000:01:00.0/numa_node\n",
      "Your kernel may have been built without NUMA support.\n",
      "2022-12-31 08:53:31.778131: I tensorflow/stream_executor/cuda/cuda_gpu_executor.cc:961] could not open file to read NUMA node: /sys/bus/pci/devices/0000:01:00.0/numa_node\n",
      "Your kernel may have been built without NUMA support.\n",
      "2022-12-31 08:53:31.778410: I tensorflow/stream_executor/cuda/cuda_gpu_executor.cc:961] could not open file to read NUMA node: /sys/bus/pci/devices/0000:01:00.0/numa_node\n",
      "Your kernel may have been built without NUMA support.\n",
      "2022-12-31 08:53:33.396387: I tensorflow/stream_executor/cuda/cuda_gpu_executor.cc:961] could not open file to read NUMA node: /sys/bus/pci/devices/0000:01:00.0/numa_node\n",
      "Your kernel may have been built without NUMA support.\n",
      "2022-12-31 08:53:33.396921: I tensorflow/stream_executor/cuda/cuda_gpu_executor.cc:961] could not open file to read NUMA node: /sys/bus/pci/devices/0000:01:00.0/numa_node\n",
      "Your kernel may have been built without NUMA support.\n",
      "2022-12-31 08:53:33.396936: I tensorflow/core/common_runtime/gpu/gpu_device.cc:1616] Could not identify NUMA node of platform GPU id 0, defaulting to 0.  Your kernel may not have been built with NUMA support.\n",
      "2022-12-31 08:53:33.397219: I tensorflow/stream_executor/cuda/cuda_gpu_executor.cc:961] could not open file to read NUMA node: /sys/bus/pci/devices/0000:01:00.0/numa_node\n",
      "Your kernel may have been built without NUMA support.\n",
      "2022-12-31 08:53:33.397265: I tensorflow/core/common_runtime/gpu/gpu_device.cc:1532] Created device /job:localhost/replica:0/task:0/device:GPU:0 with 3908 MB memory:  -> device: 0, name: NVIDIA GeForce RTX 2060, pci bus id: 0000:01:00.0, compute capability: 7.5\n"
     ]
    }
   ],
   "source": [
    "model_new = tf.keras.models.Sequential([\n",
    "    #BatchNormalization(input_shape=(32,32,12)),\n",
    "    Conv2D(32,3,padding='same',input_shape=(32,32,12)),\n",
    "    BatchNormalization(),\n",
    "    #Conv2D(32,3,padding='same'),\n",
    "    Activation('relu'),\n",
    "    MaxPooling2D(pool_size=(2,2)),\n",
    "    #Dropout(0.5),\n",
    "\n",
    "\n",
    "    Conv2D(64,3, padding='same'),\n",
    "    BatchNormalization(),\n",
    "    #Conv2D(64,3, padding='same'),\n",
    "    Activation('relu'),\n",
    "    MaxPooling2D(pool_size=(2,2),name='feature_layer'),\n",
    "    #Dropout(0.5),\n",
    "    #BatchNormalization(),\n",
    "\n",
    "    #We are naming this layer, as we will extract features from it in future, JUST WAIT !!!\n",
    "    # Conv2D(128,3, padding='same'),\n",
    "    # Conv2D(128,3, padding='same'),\n",
    "    # Activation('relu'),\n",
    "    # MaxPooling2D(pool_size=(2,2)),\n",
    "    # Dropout(0.5),\n",
    "    #BatchNormalization(),\n",
    "    # Flatten(),\n",
    "    # Dense(512),\n",
    "    # Dense(1024),\n",
    "    # Dense(2048),\n",
    "    # Activation('relu'),\n",
    "    # Dropout(0.7),\n",
    "    # Reshape((4,4,128)),\n",
    "    #Dense(64),\n",
    "    # Dense(128),\n",
    "    #Dense(64),\n",
    "    # Dropout(0.5),\n",
    "    Dense(5),\n",
    "    #Dense(64),\n",
    "    # Dense(128),\n",
    "    # Dropout(0.5),\n",
    "    #BatchNormalization(),\n",
    "    #Activation('relu'),\n",
    "    #Dense(256),\n",
    "    #Dense(128),\n",
    "    #Activation('relu'),\n",
    "    #Dropout(0.7),\n",
    "    #Reshape((4,4,128)),\n",
    "    # UpSampling2D((2,2)),\n",
    "    # Conv2D(128,3, padding='same'),\n",
    "    # Conv2D(128,3, padding='same'),\n",
    "    # Activation('relu'),\n",
    "    UpSampling2D((2,2)),\n",
    "    #Dropout(0.5),\n",
    "    #BatchNormalization(),\n",
    "    Conv2D(64,3, padding='same'),\n",
    "    BatchNormalization(),\n",
    "    #Conv2D(64,3, padding='same'),\n",
    "    Activation('relu'),\n",
    "    UpSampling2D((2,2)),\n",
    "    #Dropout(0.5),\n",
    "    #BatchNormalization(),\n",
    "    Conv2D(32,3, padding='same'),\n",
    "    BatchNormalization(),\n",
    "    #Conv2D(32,3, padding='same'),\n",
    "    Activation('relu'),\n",
    "    Conv2D(5,3,padding='same'),\n",
    "    #Dropout(0.6),\n",
    "    #BatchNormalization(),\n",
    "    # model.add(Flatten())\n",
    "    # model.add(Dense(24))\n",
    "    # model.add(Activation('relu'))\n",
    "    # model.add(Dropout(0.5))\n",
    "    # model.add(Dense(6))\n",
    "    Activation('softmax'),\n",
    "])"
   ],
   "metadata": {
    "collapsed": false
   }
  },
  {
   "cell_type": "code",
   "execution_count": 38,
   "outputs": [],
   "source": [
    "model_new.compile(loss=\"sparse_categorical_crossentropy\",optimizer='rmsprop',metrics=['accuracy'])"
   ],
   "metadata": {
    "collapsed": false
   }
  },
  {
   "cell_type": "code",
   "execution_count": 39,
   "outputs": [
    {
     "name": "stdout",
     "output_type": "stream",
     "text": [
      "Model: \"sequential\"\n",
      "_________________________________________________________________\n",
      " Layer (type)                Output Shape              Param #   \n",
      "=================================================================\n",
      " conv2d (Conv2D)             (None, 32, 32, 32)        3488      \n",
      "                                                                 \n",
      " batch_normalization (BatchN  (None, 32, 32, 32)       128       \n",
      " ormalization)                                                   \n",
      "                                                                 \n",
      " activation (Activation)     (None, 32, 32, 32)        0         \n",
      "                                                                 \n",
      " max_pooling2d (MaxPooling2D  (None, 16, 16, 32)       0         \n",
      " )                                                               \n",
      "                                                                 \n",
      " conv2d_1 (Conv2D)           (None, 16, 16, 64)        18496     \n",
      "                                                                 \n",
      " batch_normalization_1 (Batc  (None, 16, 16, 64)       256       \n",
      " hNormalization)                                                 \n",
      "                                                                 \n",
      " activation_1 (Activation)   (None, 16, 16, 64)        0         \n",
      "                                                                 \n",
      " feature_layer (MaxPooling2D  (None, 8, 8, 64)         0         \n",
      " )                                                               \n",
      "                                                                 \n",
      " dense (Dense)               (None, 8, 8, 5)           325       \n",
      "                                                                 \n",
      " up_sampling2d (UpSampling2D  (None, 16, 16, 5)        0         \n",
      " )                                                               \n",
      "                                                                 \n",
      " conv2d_2 (Conv2D)           (None, 16, 16, 64)        2944      \n",
      "                                                                 \n",
      " batch_normalization_2 (Batc  (None, 16, 16, 64)       256       \n",
      " hNormalization)                                                 \n",
      "                                                                 \n",
      " activation_2 (Activation)   (None, 16, 16, 64)        0         \n",
      "                                                                 \n",
      " up_sampling2d_1 (UpSampling  (None, 32, 32, 64)       0         \n",
      " 2D)                                                             \n",
      "                                                                 \n",
      " conv2d_3 (Conv2D)           (None, 32, 32, 32)        18464     \n",
      "                                                                 \n",
      " batch_normalization_3 (Batc  (None, 32, 32, 32)       128       \n",
      " hNormalization)                                                 \n",
      "                                                                 \n",
      " activation_3 (Activation)   (None, 32, 32, 32)        0         \n",
      "                                                                 \n",
      " conv2d_4 (Conv2D)           (None, 32, 32, 5)         1445      \n",
      "                                                                 \n",
      " activation_4 (Activation)   (None, 32, 32, 5)         0         \n",
      "                                                                 \n",
      "=================================================================\n",
      "Total params: 45,930\n",
      "Trainable params: 45,546\n",
      "Non-trainable params: 384\n",
      "_________________________________________________________________\n"
     ]
    }
   ],
   "source": [
    "model_new.summary()"
   ],
   "metadata": {
    "collapsed": false
   }
  },
  {
   "cell_type": "code",
   "execution_count": 40,
   "outputs": [],
   "source": [
    "es = EarlyStopping(monitor='val_loss')\n",
    "mc = ModelCheckpoint('best_model_new.h5', monitor='val_loss')\n",
    "cb = [es,mc]"
   ],
   "metadata": {
    "collapsed": false
   }
  },
  {
   "cell_type": "code",
   "execution_count": 41,
   "outputs": [
    {
     "name": "stdout",
     "output_type": "stream",
     "text": [
      "Epoch 1/150\n"
     ]
    },
    {
     "name": "stderr",
     "output_type": "stream",
     "text": [
      "2022-12-31 08:53:42.557313: I tensorflow/stream_executor/cuda/cuda_dnn.cc:384] Loaded cuDNN version 8500\n"
     ]
    },
    {
     "name": "stdout",
     "output_type": "stream",
     "text": [
      "411/411 [==============================] - 13s 15ms/step - loss: 0.4390 - accuracy: 0.8216 - val_loss: 0.9721 - val_accuracy: 0.7119\n",
      "Epoch 2/150\n",
      "411/411 [==============================] - 5s 13ms/step - loss: 0.3333 - accuracy: 0.8650 - val_loss: 0.4746 - val_accuracy: 0.8147\n",
      "Epoch 3/150\n",
      "411/411 [==============================] - 5s 13ms/step - loss: 0.3008 - accuracy: 0.8794 - val_loss: 0.5135 - val_accuracy: 0.8082\n",
      "Epoch 4/150\n",
      "411/411 [==============================] - 5s 13ms/step - loss: 0.2799 - accuracy: 0.8885 - val_loss: 0.5440 - val_accuracy: 0.8114\n",
      "Epoch 5/150\n",
      "411/411 [==============================] - 5s 13ms/step - loss: 0.2691 - accuracy: 0.8929 - val_loss: 0.4475 - val_accuracy: 0.8327\n",
      "Epoch 6/150\n",
      "135/411 [========>.....................] - ETA: 3s - loss: 0.2611 - accuracy: 0.8964"
     ]
    },
    {
     "ename": "KeyboardInterrupt",
     "evalue": "",
     "output_type": "error",
     "traceback": [
      "\u001B[0;31m---------------------------------------------------------------------------\u001B[0m",
      "\u001B[0;31mKeyboardInterrupt\u001B[0m                         Traceback (most recent call last)",
      "Input \u001B[0;32mIn [41]\u001B[0m, in \u001B[0;36m<cell line: 1>\u001B[0;34m()\u001B[0m\n\u001B[0;32m----> 1\u001B[0m history2 \u001B[38;5;241m=\u001B[39m \u001B[43mmodel_new\u001B[49m\u001B[38;5;241;43m.\u001B[39;49m\u001B[43mfit\u001B[49m\u001B[43m(\u001B[49m\u001B[43mx_data\u001B[49m\u001B[43m,\u001B[49m\u001B[43m \u001B[49m\u001B[43my_data\u001B[49m\u001B[43m,\u001B[49m\u001B[43m \u001B[49m\u001B[43mepochs\u001B[49m\u001B[38;5;241;43m=\u001B[39;49m\u001B[38;5;241;43m150\u001B[39;49m\u001B[43m,\u001B[49m\u001B[43mbatch_size\u001B[49m\u001B[38;5;241;43m=\u001B[39;49m\u001B[38;5;241;43m32\u001B[39;49m\u001B[43m,\u001B[49m\u001B[43m \u001B[49m\u001B[43mvalidation_split\u001B[49m\u001B[38;5;241;43m=\u001B[39;49m\u001B[38;5;241;43m0.2\u001B[39;49m\u001B[43m)\u001B[49m\n",
      "File \u001B[0;32m/usr/local/lib/python3.8/dist-packages/keras/utils/traceback_utils.py:64\u001B[0m, in \u001B[0;36mfilter_traceback.<locals>.error_handler\u001B[0;34m(*args, **kwargs)\u001B[0m\n\u001B[1;32m     62\u001B[0m filtered_tb \u001B[38;5;241m=\u001B[39m \u001B[38;5;28;01mNone\u001B[39;00m\n\u001B[1;32m     63\u001B[0m \u001B[38;5;28;01mtry\u001B[39;00m:\n\u001B[0;32m---> 64\u001B[0m   \u001B[38;5;28;01mreturn\u001B[39;00m \u001B[43mfn\u001B[49m\u001B[43m(\u001B[49m\u001B[38;5;241;43m*\u001B[39;49m\u001B[43margs\u001B[49m\u001B[43m,\u001B[49m\u001B[43m \u001B[49m\u001B[38;5;241;43m*\u001B[39;49m\u001B[38;5;241;43m*\u001B[39;49m\u001B[43mkwargs\u001B[49m\u001B[43m)\u001B[49m\n\u001B[1;32m     65\u001B[0m \u001B[38;5;28;01mexcept\u001B[39;00m \u001B[38;5;167;01mException\u001B[39;00m \u001B[38;5;28;01mas\u001B[39;00m e:  \u001B[38;5;66;03m# pylint: disable=broad-except\u001B[39;00m\n\u001B[1;32m     66\u001B[0m   filtered_tb \u001B[38;5;241m=\u001B[39m _process_traceback_frames(e\u001B[38;5;241m.\u001B[39m__traceback__)\n",
      "File \u001B[0;32m/usr/local/lib/python3.8/dist-packages/keras/engine/training.py:1409\u001B[0m, in \u001B[0;36mModel.fit\u001B[0;34m(self, x, y, batch_size, epochs, verbose, callbacks, validation_split, validation_data, shuffle, class_weight, sample_weight, initial_epoch, steps_per_epoch, validation_steps, validation_batch_size, validation_freq, max_queue_size, workers, use_multiprocessing)\u001B[0m\n\u001B[1;32m   1402\u001B[0m \u001B[38;5;28;01mwith\u001B[39;00m tf\u001B[38;5;241m.\u001B[39mprofiler\u001B[38;5;241m.\u001B[39mexperimental\u001B[38;5;241m.\u001B[39mTrace(\n\u001B[1;32m   1403\u001B[0m     \u001B[38;5;124m'\u001B[39m\u001B[38;5;124mtrain\u001B[39m\u001B[38;5;124m'\u001B[39m,\n\u001B[1;32m   1404\u001B[0m     epoch_num\u001B[38;5;241m=\u001B[39mepoch,\n\u001B[1;32m   1405\u001B[0m     step_num\u001B[38;5;241m=\u001B[39mstep,\n\u001B[1;32m   1406\u001B[0m     batch_size\u001B[38;5;241m=\u001B[39mbatch_size,\n\u001B[1;32m   1407\u001B[0m     _r\u001B[38;5;241m=\u001B[39m\u001B[38;5;241m1\u001B[39m):\n\u001B[1;32m   1408\u001B[0m   callbacks\u001B[38;5;241m.\u001B[39mon_train_batch_begin(step)\n\u001B[0;32m-> 1409\u001B[0m   tmp_logs \u001B[38;5;241m=\u001B[39m \u001B[38;5;28;43mself\u001B[39;49m\u001B[38;5;241;43m.\u001B[39;49m\u001B[43mtrain_function\u001B[49m\u001B[43m(\u001B[49m\u001B[43miterator\u001B[49m\u001B[43m)\u001B[49m\n\u001B[1;32m   1410\u001B[0m   \u001B[38;5;28;01mif\u001B[39;00m data_handler\u001B[38;5;241m.\u001B[39mshould_sync:\n\u001B[1;32m   1411\u001B[0m     context\u001B[38;5;241m.\u001B[39masync_wait()\n",
      "File \u001B[0;32m/usr/local/lib/python3.8/dist-packages/tensorflow/python/util/traceback_utils.py:150\u001B[0m, in \u001B[0;36mfilter_traceback.<locals>.error_handler\u001B[0;34m(*args, **kwargs)\u001B[0m\n\u001B[1;32m    148\u001B[0m filtered_tb \u001B[38;5;241m=\u001B[39m \u001B[38;5;28;01mNone\u001B[39;00m\n\u001B[1;32m    149\u001B[0m \u001B[38;5;28;01mtry\u001B[39;00m:\n\u001B[0;32m--> 150\u001B[0m   \u001B[38;5;28;01mreturn\u001B[39;00m \u001B[43mfn\u001B[49m\u001B[43m(\u001B[49m\u001B[38;5;241;43m*\u001B[39;49m\u001B[43margs\u001B[49m\u001B[43m,\u001B[49m\u001B[43m \u001B[49m\u001B[38;5;241;43m*\u001B[39;49m\u001B[38;5;241;43m*\u001B[39;49m\u001B[43mkwargs\u001B[49m\u001B[43m)\u001B[49m\n\u001B[1;32m    151\u001B[0m \u001B[38;5;28;01mexcept\u001B[39;00m \u001B[38;5;167;01mException\u001B[39;00m \u001B[38;5;28;01mas\u001B[39;00m e:\n\u001B[1;32m    152\u001B[0m   filtered_tb \u001B[38;5;241m=\u001B[39m _process_traceback_frames(e\u001B[38;5;241m.\u001B[39m__traceback__)\n",
      "File \u001B[0;32m/usr/local/lib/python3.8/dist-packages/tensorflow/python/eager/def_function.py:915\u001B[0m, in \u001B[0;36mFunction.__call__\u001B[0;34m(self, *args, **kwds)\u001B[0m\n\u001B[1;32m    912\u001B[0m compiler \u001B[38;5;241m=\u001B[39m \u001B[38;5;124m\"\u001B[39m\u001B[38;5;124mxla\u001B[39m\u001B[38;5;124m\"\u001B[39m \u001B[38;5;28;01mif\u001B[39;00m \u001B[38;5;28mself\u001B[39m\u001B[38;5;241m.\u001B[39m_jit_compile \u001B[38;5;28;01melse\u001B[39;00m \u001B[38;5;124m\"\u001B[39m\u001B[38;5;124mnonXla\u001B[39m\u001B[38;5;124m\"\u001B[39m\n\u001B[1;32m    914\u001B[0m \u001B[38;5;28;01mwith\u001B[39;00m OptionalXlaContext(\u001B[38;5;28mself\u001B[39m\u001B[38;5;241m.\u001B[39m_jit_compile):\n\u001B[0;32m--> 915\u001B[0m   result \u001B[38;5;241m=\u001B[39m \u001B[38;5;28;43mself\u001B[39;49m\u001B[38;5;241;43m.\u001B[39;49m\u001B[43m_call\u001B[49m\u001B[43m(\u001B[49m\u001B[38;5;241;43m*\u001B[39;49m\u001B[43margs\u001B[49m\u001B[43m,\u001B[49m\u001B[43m \u001B[49m\u001B[38;5;241;43m*\u001B[39;49m\u001B[38;5;241;43m*\u001B[39;49m\u001B[43mkwds\u001B[49m\u001B[43m)\u001B[49m\n\u001B[1;32m    917\u001B[0m new_tracing_count \u001B[38;5;241m=\u001B[39m \u001B[38;5;28mself\u001B[39m\u001B[38;5;241m.\u001B[39mexperimental_get_tracing_count()\n\u001B[1;32m    918\u001B[0m without_tracing \u001B[38;5;241m=\u001B[39m (tracing_count \u001B[38;5;241m==\u001B[39m new_tracing_count)\n",
      "File \u001B[0;32m/usr/local/lib/python3.8/dist-packages/tensorflow/python/eager/def_function.py:947\u001B[0m, in \u001B[0;36mFunction._call\u001B[0;34m(self, *args, **kwds)\u001B[0m\n\u001B[1;32m    944\u001B[0m   \u001B[38;5;28mself\u001B[39m\u001B[38;5;241m.\u001B[39m_lock\u001B[38;5;241m.\u001B[39mrelease()\n\u001B[1;32m    945\u001B[0m   \u001B[38;5;66;03m# In this case we have created variables on the first call, so we run the\u001B[39;00m\n\u001B[1;32m    946\u001B[0m   \u001B[38;5;66;03m# defunned version which is guaranteed to never create variables.\u001B[39;00m\n\u001B[0;32m--> 947\u001B[0m   \u001B[38;5;28;01mreturn\u001B[39;00m \u001B[38;5;28;43mself\u001B[39;49m\u001B[38;5;241;43m.\u001B[39;49m\u001B[43m_stateless_fn\u001B[49m\u001B[43m(\u001B[49m\u001B[38;5;241;43m*\u001B[39;49m\u001B[43margs\u001B[49m\u001B[43m,\u001B[49m\u001B[43m \u001B[49m\u001B[38;5;241;43m*\u001B[39;49m\u001B[38;5;241;43m*\u001B[39;49m\u001B[43mkwds\u001B[49m\u001B[43m)\u001B[49m  \u001B[38;5;66;03m# pylint: disable=not-callable\u001B[39;00m\n\u001B[1;32m    948\u001B[0m \u001B[38;5;28;01melif\u001B[39;00m \u001B[38;5;28mself\u001B[39m\u001B[38;5;241m.\u001B[39m_stateful_fn \u001B[38;5;129;01mis\u001B[39;00m \u001B[38;5;129;01mnot\u001B[39;00m \u001B[38;5;28;01mNone\u001B[39;00m:\n\u001B[1;32m    949\u001B[0m   \u001B[38;5;66;03m# Release the lock early so that multiple threads can perform the call\u001B[39;00m\n\u001B[1;32m    950\u001B[0m   \u001B[38;5;66;03m# in parallel.\u001B[39;00m\n\u001B[1;32m    951\u001B[0m   \u001B[38;5;28mself\u001B[39m\u001B[38;5;241m.\u001B[39m_lock\u001B[38;5;241m.\u001B[39mrelease()\n",
      "File \u001B[0;32m/usr/local/lib/python3.8/dist-packages/tensorflow/python/eager/function.py:2453\u001B[0m, in \u001B[0;36mFunction.__call__\u001B[0;34m(self, *args, **kwargs)\u001B[0m\n\u001B[1;32m   2450\u001B[0m \u001B[38;5;28;01mwith\u001B[39;00m \u001B[38;5;28mself\u001B[39m\u001B[38;5;241m.\u001B[39m_lock:\n\u001B[1;32m   2451\u001B[0m   (graph_function,\n\u001B[1;32m   2452\u001B[0m    filtered_flat_args) \u001B[38;5;241m=\u001B[39m \u001B[38;5;28mself\u001B[39m\u001B[38;5;241m.\u001B[39m_maybe_define_function(args, kwargs)\n\u001B[0;32m-> 2453\u001B[0m \u001B[38;5;28;01mreturn\u001B[39;00m \u001B[43mgraph_function\u001B[49m\u001B[38;5;241;43m.\u001B[39;49m\u001B[43m_call_flat\u001B[49m\u001B[43m(\u001B[49m\n\u001B[1;32m   2454\u001B[0m \u001B[43m    \u001B[49m\u001B[43mfiltered_flat_args\u001B[49m\u001B[43m,\u001B[49m\u001B[43m \u001B[49m\u001B[43mcaptured_inputs\u001B[49m\u001B[38;5;241;43m=\u001B[39;49m\u001B[43mgraph_function\u001B[49m\u001B[38;5;241;43m.\u001B[39;49m\u001B[43mcaptured_inputs\u001B[49m\u001B[43m)\u001B[49m\n",
      "File \u001B[0;32m/usr/local/lib/python3.8/dist-packages/tensorflow/python/eager/function.py:1860\u001B[0m, in \u001B[0;36mConcreteFunction._call_flat\u001B[0;34m(self, args, captured_inputs, cancellation_manager)\u001B[0m\n\u001B[1;32m   1856\u001B[0m possible_gradient_type \u001B[38;5;241m=\u001B[39m gradients_util\u001B[38;5;241m.\u001B[39mPossibleTapeGradientTypes(args)\n\u001B[1;32m   1857\u001B[0m \u001B[38;5;28;01mif\u001B[39;00m (possible_gradient_type \u001B[38;5;241m==\u001B[39m gradients_util\u001B[38;5;241m.\u001B[39mPOSSIBLE_GRADIENT_TYPES_NONE\n\u001B[1;32m   1858\u001B[0m     \u001B[38;5;129;01mand\u001B[39;00m executing_eagerly):\n\u001B[1;32m   1859\u001B[0m   \u001B[38;5;66;03m# No tape is watching; skip to running the function.\u001B[39;00m\n\u001B[0;32m-> 1860\u001B[0m   \u001B[38;5;28;01mreturn\u001B[39;00m \u001B[38;5;28mself\u001B[39m\u001B[38;5;241m.\u001B[39m_build_call_outputs(\u001B[38;5;28;43mself\u001B[39;49m\u001B[38;5;241;43m.\u001B[39;49m\u001B[43m_inference_function\u001B[49m\u001B[38;5;241;43m.\u001B[39;49m\u001B[43mcall\u001B[49m\u001B[43m(\u001B[49m\n\u001B[1;32m   1861\u001B[0m \u001B[43m      \u001B[49m\u001B[43mctx\u001B[49m\u001B[43m,\u001B[49m\u001B[43m \u001B[49m\u001B[43margs\u001B[49m\u001B[43m,\u001B[49m\u001B[43m \u001B[49m\u001B[43mcancellation_manager\u001B[49m\u001B[38;5;241;43m=\u001B[39;49m\u001B[43mcancellation_manager\u001B[49m\u001B[43m)\u001B[49m)\n\u001B[1;32m   1862\u001B[0m forward_backward \u001B[38;5;241m=\u001B[39m \u001B[38;5;28mself\u001B[39m\u001B[38;5;241m.\u001B[39m_select_forward_and_backward_functions(\n\u001B[1;32m   1863\u001B[0m     args,\n\u001B[1;32m   1864\u001B[0m     possible_gradient_type,\n\u001B[1;32m   1865\u001B[0m     executing_eagerly)\n\u001B[1;32m   1866\u001B[0m forward_function, args_with_tangents \u001B[38;5;241m=\u001B[39m forward_backward\u001B[38;5;241m.\u001B[39mforward()\n",
      "File \u001B[0;32m/usr/local/lib/python3.8/dist-packages/tensorflow/python/eager/function.py:497\u001B[0m, in \u001B[0;36m_EagerDefinedFunction.call\u001B[0;34m(self, ctx, args, cancellation_manager)\u001B[0m\n\u001B[1;32m    495\u001B[0m \u001B[38;5;28;01mwith\u001B[39;00m _InterpolateFunctionError(\u001B[38;5;28mself\u001B[39m):\n\u001B[1;32m    496\u001B[0m   \u001B[38;5;28;01mif\u001B[39;00m cancellation_manager \u001B[38;5;129;01mis\u001B[39;00m \u001B[38;5;28;01mNone\u001B[39;00m:\n\u001B[0;32m--> 497\u001B[0m     outputs \u001B[38;5;241m=\u001B[39m \u001B[43mexecute\u001B[49m\u001B[38;5;241;43m.\u001B[39;49m\u001B[43mexecute\u001B[49m\u001B[43m(\u001B[49m\n\u001B[1;32m    498\u001B[0m \u001B[43m        \u001B[49m\u001B[38;5;28;43mstr\u001B[39;49m\u001B[43m(\u001B[49m\u001B[38;5;28;43mself\u001B[39;49m\u001B[38;5;241;43m.\u001B[39;49m\u001B[43msignature\u001B[49m\u001B[38;5;241;43m.\u001B[39;49m\u001B[43mname\u001B[49m\u001B[43m)\u001B[49m\u001B[43m,\u001B[49m\n\u001B[1;32m    499\u001B[0m \u001B[43m        \u001B[49m\u001B[43mnum_outputs\u001B[49m\u001B[38;5;241;43m=\u001B[39;49m\u001B[38;5;28;43mself\u001B[39;49m\u001B[38;5;241;43m.\u001B[39;49m\u001B[43m_num_outputs\u001B[49m\u001B[43m,\u001B[49m\n\u001B[1;32m    500\u001B[0m \u001B[43m        \u001B[49m\u001B[43minputs\u001B[49m\u001B[38;5;241;43m=\u001B[39;49m\u001B[43margs\u001B[49m\u001B[43m,\u001B[49m\n\u001B[1;32m    501\u001B[0m \u001B[43m        \u001B[49m\u001B[43mattrs\u001B[49m\u001B[38;5;241;43m=\u001B[39;49m\u001B[43mattrs\u001B[49m\u001B[43m,\u001B[49m\n\u001B[1;32m    502\u001B[0m \u001B[43m        \u001B[49m\u001B[43mctx\u001B[49m\u001B[38;5;241;43m=\u001B[39;49m\u001B[43mctx\u001B[49m\u001B[43m)\u001B[49m\n\u001B[1;32m    503\u001B[0m   \u001B[38;5;28;01melse\u001B[39;00m:\n\u001B[1;32m    504\u001B[0m     outputs \u001B[38;5;241m=\u001B[39m execute\u001B[38;5;241m.\u001B[39mexecute_with_cancellation(\n\u001B[1;32m    505\u001B[0m         \u001B[38;5;28mstr\u001B[39m(\u001B[38;5;28mself\u001B[39m\u001B[38;5;241m.\u001B[39msignature\u001B[38;5;241m.\u001B[39mname),\n\u001B[1;32m    506\u001B[0m         num_outputs\u001B[38;5;241m=\u001B[39m\u001B[38;5;28mself\u001B[39m\u001B[38;5;241m.\u001B[39m_num_outputs,\n\u001B[0;32m   (...)\u001B[0m\n\u001B[1;32m    509\u001B[0m         ctx\u001B[38;5;241m=\u001B[39mctx,\n\u001B[1;32m    510\u001B[0m         cancellation_manager\u001B[38;5;241m=\u001B[39mcancellation_manager)\n",
      "File \u001B[0;32m/usr/local/lib/python3.8/dist-packages/tensorflow/python/eager/execute.py:54\u001B[0m, in \u001B[0;36mquick_execute\u001B[0;34m(op_name, num_outputs, inputs, attrs, ctx, name)\u001B[0m\n\u001B[1;32m     52\u001B[0m \u001B[38;5;28;01mtry\u001B[39;00m:\n\u001B[1;32m     53\u001B[0m   ctx\u001B[38;5;241m.\u001B[39mensure_initialized()\n\u001B[0;32m---> 54\u001B[0m   tensors \u001B[38;5;241m=\u001B[39m \u001B[43mpywrap_tfe\u001B[49m\u001B[38;5;241;43m.\u001B[39;49m\u001B[43mTFE_Py_Execute\u001B[49m\u001B[43m(\u001B[49m\u001B[43mctx\u001B[49m\u001B[38;5;241;43m.\u001B[39;49m\u001B[43m_handle\u001B[49m\u001B[43m,\u001B[49m\u001B[43m \u001B[49m\u001B[43mdevice_name\u001B[49m\u001B[43m,\u001B[49m\u001B[43m \u001B[49m\u001B[43mop_name\u001B[49m\u001B[43m,\u001B[49m\n\u001B[1;32m     55\u001B[0m \u001B[43m                                      \u001B[49m\u001B[43minputs\u001B[49m\u001B[43m,\u001B[49m\u001B[43m \u001B[49m\u001B[43mattrs\u001B[49m\u001B[43m,\u001B[49m\u001B[43m \u001B[49m\u001B[43mnum_outputs\u001B[49m\u001B[43m)\u001B[49m\n\u001B[1;32m     56\u001B[0m \u001B[38;5;28;01mexcept\u001B[39;00m core\u001B[38;5;241m.\u001B[39m_NotOkStatusException \u001B[38;5;28;01mas\u001B[39;00m e:\n\u001B[1;32m     57\u001B[0m   \u001B[38;5;28;01mif\u001B[39;00m name \u001B[38;5;129;01mis\u001B[39;00m \u001B[38;5;129;01mnot\u001B[39;00m \u001B[38;5;28;01mNone\u001B[39;00m:\n",
      "\u001B[0;31mKeyboardInterrupt\u001B[0m: "
     ]
    }
   ],
   "source": [
    "history2 = model_new.fit(x_data, y_data, epochs=150,batch_size=32, validation_split=0.2)"
   ],
   "metadata": {
    "collapsed": false
   }
  },
  {
   "cell_type": "code",
   "execution_count": null,
   "outputs": [],
   "source": [
    "plt.plot(history2.history['accuracy'])\n",
    "plt.plot(history2.history['val_accuracy'])\n",
    "plt.title('Model Accuracy')\n",
    "plt.ylabel('Accuracy')\n",
    "plt.xlabel('#f Iterations')\n",
    "plt.legend(['Train', 'Test'], loc='upper left')\n",
    "plt.show()"
   ],
   "metadata": {
    "collapsed": false
   }
  },
  {
   "cell_type": "code",
   "execution_count": null,
   "outputs": [],
   "source": [
    "plt.plot(history2.history['loss'])\n",
    "plt.plot(history2.history['val_loss'])\n",
    "plt.title('Model Loss')\n",
    "plt.ylabel('Loss')\n",
    "plt.xlabel('#f Iterations')\n",
    "plt.legend(['Train', 'Test'], loc='upper left')\n",
    "plt.show()"
   ],
   "metadata": {
    "collapsed": false
   }
  },
  {
   "cell_type": "markdown",
   "source": [
    "## Check"
   ],
   "metadata": {
    "collapsed": false
   }
  },
  {
   "cell_type": "code",
   "execution_count": null,
   "outputs": [],
   "source": [
    "from glob import glob\n",
    "S_sentinel_bands = glob(\"/tmp/shared/dataset4/2/*B?*.tiff\")\n",
    "S_sentinel_bands.sort()\n",
    "S_sentinel_bands"
   ],
   "metadata": {
    "collapsed": false
   }
  },
  {
   "cell_type": "code",
   "execution_count": null,
   "outputs": [],
   "source": [
    "l = []\n",
    "for i in S_sentinel_bands:\n",
    "  with rio.open(i, 'r') as f:\n",
    "    l.append(f.read(1))"
   ],
   "metadata": {
    "collapsed": false
   }
  },
  {
   "cell_type": "code",
   "execution_count": null,
   "outputs": [],
   "source": [
    "l.shape"
   ],
   "metadata": {
    "collapsed": false
   }
  },
  {
   "cell_type": "code",
   "execution_count": null,
   "outputs": [],
   "source": [
    "arr_st = np.stack(l)\n",
    "# std2 = np.std(arr_st)\n",
    "# mean2= np.mean(arr_st)\n",
    "#\n",
    "# arr_st-=mean2\n",
    "# arr_st/=std2\n",
    "#arr_st = arr_st / np.max(filesX_array)"
   ],
   "metadata": {
    "collapsed": false
   }
  },
  {
   "cell_type": "code",
   "execution_count": null,
   "outputs": [],
   "source": [
    "arr_st.shape"
   ],
   "metadata": {
    "collapsed": false
   }
  },
  {
   "cell_type": "code",
   "execution_count": null,
   "outputs": [],
   "source": [
    "print(\"Min \" , np.min(arr_st), \" and max \", np.max(arr_st))"
   ],
   "metadata": {
    "collapsed": false
   }
  },
  {
   "cell_type": "code",
   "execution_count": null,
   "outputs": [],
   "source": [
    "x = np.moveaxis(arr_st, 0, -1)\n",
    "x.shape"
   ],
   "metadata": {
    "collapsed": false
   }
  },
  {
   "cell_type": "code",
   "execution_count": null,
   "outputs": [],
   "source": [
    "x1_v = x.shape[0]%32\n",
    "x1_h = x.shape[1]%32\n",
    "res1 = x.shape[0]-x1_v\n",
    "res2 = x.shape[1]-x1_h\n",
    "xx = x[0:608,0:1024,:]"
   ],
   "metadata": {
    "collapsed": false
   }
  },
  {
   "cell_type": "code",
   "execution_count": null,
   "outputs": [],
   "source": [
    "x_rr = xx.reshape(-1, 32,32,12)"
   ],
   "metadata": {
    "collapsed": false
   }
  },
  {
   "cell_type": "code",
   "execution_count": 43,
   "outputs": [],
   "source": [
    "def createImageCubes(img_array, blk_width,blk_height):\n",
    "    arrray = []\n",
    "    imageShape = img_array.shape\n",
    "    for w in range(0,imageShape[0],blk_width):\n",
    "        for h in range(0, imageShape[1], blk_height):\n",
    "            arrr = img_array[w:w+blk_width,h:h+blk_height,:]\n",
    "            arrray.append(np.asarray(arrr))\n",
    "    return np.asarray(arrray)"
   ],
   "metadata": {
    "collapsed": false
   }
  },
  {
   "cell_type": "code",
   "execution_count": 66,
   "outputs": [],
   "source": [
    "def imageFromCube(cubes, imageWidth, imageHeight):\n",
    "    arrrr = np.empty((imageWidth, imageHeight,12))\n",
    "    cubesShape = cubes.shape\n",
    "    items_per_row = int(imageWidth/cubesShape[1])\n",
    "    items_per_col = int(imageHeight/cubesShape[2])\n",
    "    for el in range(0,cubesShape[0]):\n",
    "        num_row = int(el/items_per_col)\n",
    "        num_col = int(el%items_per_col)\n",
    "        #print(\"Row: \", num_row, \" column: \", num_col)\n",
    "        for i in range(0,cubesShape[1]):\n",
    "            for j in range(0, cubesShape[2]):\n",
    "                x = int(i+num_row*cubesShape[1])\n",
    "                y = int(j+num_col*cubesShape[2])\n",
    "                #print(\"X: \", x, \" Y: \", y)\n",
    "                arrrr[x,y] = cubes[el,i,j,:]\n",
    "        #arrrr[num_row, num_col] = cubes[el,:, :, :]\n",
    "        #num_col = int(int(el*cubesShape[1]%imageWidth)/imageHeight)\n",
    "    return arrrr"
   ],
   "metadata": {
    "collapsed": false
   }
  },
  {
   "cell_type": "code",
   "execution_count": 56,
   "outputs": [
    {
     "name": "stdout",
     "output_type": "stream",
     "text": [
      "Shape of array:  (608, 1024, 12)\n",
      "Value:  0.0221  and splitted  0.0195\n"
     ]
    }
   ],
   "source": [
    "x_r_new = x_np[4]\n",
    "x_r_new = x_r_new[:,0:608,0:1024]\n",
    "x_r_new2 = np.moveaxis(x_r_new, 0, -1)\n",
    "print(\"Shape of array: \", x_r_new2.shape)\n",
    "#x_r_new2 = x_r_new.reshape(-1, 32,32,12)\n",
    "x_r_new3 = createImageCubes(x_r_new2,32,32)\n",
    "x_r_new3.shape\n",
    "print(\"Value: \", x_r_new2[63,0,0], \" and splitted \", x_r_new3[0,31,31,0])"
   ],
   "metadata": {
    "collapsed": false
   }
  },
  {
   "cell_type": "code",
   "execution_count": 57,
   "outputs": [
    {
     "data": {
      "text/plain": "(32, 32)"
     },
     "execution_count": 57,
     "metadata": {},
     "output_type": "execute_result"
    }
   ],
   "source": [
    "x_r_testt3 = x_r_new3[607,:,:,1]\n",
    "x_r_testt3.shape\n",
    "# ep.plot_bands(x_r_testt3,\n",
    "#               cmap=ListedColormap(['black', 'purple','blue', 'orange']))\n",
    "# print(\"Transformed value: \",x_r_new2[0,0,0,0],\"and original\", x_r_new[1,0,0] )"
   ],
   "metadata": {
    "collapsed": false
   }
  },
  {
   "cell_type": "code",
   "execution_count": 67,
   "outputs": [
    {
     "data": {
      "text/plain": "(608, 1024, 12)"
     },
     "execution_count": 67,
     "metadata": {},
     "output_type": "execute_result"
    }
   ],
   "source": [
    "x_r_test4 = imageFromCube(x_r_new3, 608, 1024)\n",
    "x_r_test4.shape"
   ],
   "metadata": {
    "collapsed": false
   }
  },
  {
   "cell_type": "code",
   "execution_count": 48,
   "outputs": [
    {
     "data": {
      "text/plain": "(608, 1024)"
     },
     "execution_count": 48,
     "metadata": {},
     "output_type": "execute_result"
    }
   ],
   "source": [
    "x_r_ttest = x_r_new[1]\n",
    "x_r_ttest.shape"
   ],
   "metadata": {
    "collapsed": false
   }
  },
  {
   "cell_type": "code",
   "execution_count": 48,
   "outputs": [],
   "source": [],
   "metadata": {
    "collapsed": false
   }
  },
  {
   "cell_type": "code",
   "execution_count": 68,
   "outputs": [
    {
     "data": {
      "text/plain": "<Figure size 1200x1200 with 2 Axes>",
      "image/png": "[encoded data removed]"
     },
     "metadata": {},
     "output_type": "display_data"
    },
    {
     "data": {
      "text/plain": "<AxesSubplot:>"
     },
     "execution_count": 68,
     "metadata": {},
     "output_type": "execute_result"
    }
   ],
   "source": [
    "ep.plot_bands(x_r_test4[:,:,1],\n",
    "              cmap=ListedColormap(['black', 'purple','blue', 'orange']))"
   ],
   "metadata": {
    "collapsed": false
   }
  },
  {
   "cell_type": "code",
   "execution_count": 50,
   "outputs": [
    {
     "data": {
      "text/plain": "<Figure size 1200x1200 with 2 Axes>",
      "image/png": "[encoded data removed]"
     },
     "metadata": {},
     "output_type": "display_data"
    },
    {
     "data": {
      "text/plain": "<AxesSubplot:>"
     },
     "execution_count": 50,
     "metadata": {},
     "output_type": "execute_result"
    }
   ],
   "source": [
    "ep.plot_bands(x_r_new2[:,:,1],\n",
    "              cmap=ListedColormap(['black', 'purple','blue', 'orange']))"
   ],
   "metadata": {
    "collapsed": false
   }
  },
  {
   "cell_type": "code",
   "execution_count": null,
   "outputs": [],
   "source": [
    "x_r_ttest2 = x_r_new2\n",
    "x_r_ttest2 = x_r_ttest2[:,:,:,1]\n",
    "x_r_ttest2 = x_r_ttest2.reshape(608,1024)"
   ],
   "metadata": {
    "collapsed": false
   }
  },
  {
   "cell_type": "code",
   "execution_count": null,
   "outputs": [],
   "source": [
    "ep.plot_bands(x_r_ttest2,\n",
    "              cmap=ListedColormap(['black', 'purple','blue', 'orange']))"
   ],
   "metadata": {
    "collapsed": false
   }
  },
  {
   "cell_type": "code",
   "execution_count": null,
   "outputs": [],
   "source": [
    "prediction = model_new.predict(x_r_new2,batch_size=32)"
   ],
   "metadata": {
    "collapsed": false
   }
  },
  {
   "cell_type": "code",
   "execution_count": null,
   "outputs": [],
   "source": [
    "print(\"Min percentage: \", np.min(prediction), \" max percentage: \", np.max(prediction), \" shape: \", prediction.shape)"
   ],
   "metadata": {
    "collapsed": false
   }
  },
  {
   "cell_type": "code",
   "execution_count": null,
   "outputs": [],
   "source": [
    "pred_cat = np.argmax(prediction,axis=-1)\n",
    "pred_cat.shape"
   ],
   "metadata": {
    "collapsed": false
   }
  },
  {
   "cell_type": "code",
   "execution_count": null,
   "outputs": [],
   "source": [
    "pp = np.expand_dims(pred_cat, axis=-1)"
   ],
   "metadata": {
    "collapsed": false
   }
  },
  {
   "cell_type": "code",
   "execution_count": null,
   "outputs": [],
   "source": [
    "pred_pxl = pred_cat.reshape(608,1024)"
   ],
   "metadata": {
    "collapsed": false
   }
  },
  {
   "cell_type": "code",
   "execution_count": null,
   "outputs": [],
   "source": [
    "pred_pxl.shape"
   ],
   "metadata": {
    "collapsed": false
   }
  },
  {
   "cell_type": "code",
   "execution_count": null,
   "outputs": [],
   "source": [],
   "metadata": {
    "collapsed": false
   }
  },
  {
   "cell_type": "code",
   "execution_count": null,
   "outputs": [],
   "source": [
    "ep.plot_bands(pred_pxl,\n",
    "              cmap=ListedColormap(['black', 'purple','blue', 'orange']))"
   ],
   "metadata": {
    "collapsed": false
   }
  },
  {
   "cell_type": "code",
   "execution_count": null,
   "outputs": [],
   "source": [
    "Check_images = glob(\"/tmp/shared/dataset4/2/*Scen*.tiff\")\n",
    "Check_images"
   ],
   "metadata": {
    "collapsed": false
   }
  },
  {
   "cell_type": "code",
   "execution_count": null,
   "outputs": [],
   "source": [
    "from IPython.display import Image\n",
    "PIL.Image.open(str(Check_images[0]))"
   ],
   "metadata": {
    "collapsed": false
   }
  },
  {
   "cell_type": "code",
   "execution_count": null,
   "outputs": [],
   "source": [
    "# import cv2\n",
    "#\n",
    "# gray = cv2.imread(\"path/to/tiff/0.tiff\", cv2.IMREAD_UNCHANGED)\n",
    "#\n",
    "# cv2.namedWindow(\"MyImage\", cv2.WINDOW_NORMAL)\n",
    "# cv2.imshow(\"MyImage\", gray)\n",
    "# cv2.waitKey(0)"
   ],
   "metadata": {
    "collapsed": false
   }
  },
  {
   "cell_type": "code",
   "execution_count": null,
   "outputs": [],
   "source": [
    "item = y_np[4]\n",
    "item.shape"
   ],
   "metadata": {
    "collapsed": false
   }
  },
  {
   "cell_type": "code",
   "execution_count": null,
   "outputs": [],
   "source": [
    "ep.plot_bands(item,\n",
    "              cmap=ListedColormap(['black', 'purple','blue', 'orange']))"
   ],
   "metadata": {
    "collapsed": false
   }
  },
  {
   "cell_type": "code",
   "execution_count": null,
   "outputs": [],
   "source": [
    "accuracy_score(pred_cat.reshape(-1), item.reshape(-1))"
   ],
   "metadata": {
    "collapsed": false
   }
  },
  {
   "cell_type": "code",
   "execution_count": 231,
   "outputs": [
    {
     "data": {
      "text/plain": "(array([6.10000e+01, 0.00000e+00, 1.99572e+05, 0.00000e+00, 0.00000e+00,\n        1.65659e+05, 0.00000e+00, 0.00000e+00, 0.00000e+00, 2.57300e+05]),\n array([0. , 0.4, 0.8, 1.2, 1.6, 2. , 2.4, 2.8, 3.2, 3.6, 4. ]),\n <BarContainer object of 10 artists>)"
     },
     "execution_count": 231,
     "metadata": {},
     "output_type": "execute_result"
    },
    {
     "data": {
      "text/plain": "<Figure size 640x480 with 1 Axes>",
      "image/png": "[encoded data removed]"
     },
     "metadata": {},
     "output_type": "display_data"
    }
   ],
   "source": [
    "plt.hist(item.reshape(-1))"
   ],
   "metadata": {
    "collapsed": false
   }
  },
  {
   "cell_type": "code",
   "execution_count": 232,
   "outputs": [
    {
     "data": {
      "text/plain": "(array([ 19610.,      0., 369267.,      0.,      0.,    899.,      0.,\n           861.,      0., 231955.]),\n array([0. , 0.4, 0.8, 1.2, 1.6, 2. , 2.4, 2.8, 3.2, 3.6, 4. ]),\n <BarContainer object of 10 artists>)"
     },
     "execution_count": 232,
     "metadata": {},
     "output_type": "execute_result"
    },
    {
     "data": {
      "text/plain": "<Figure size 640x480 with 1 Axes>",
      "image/png": "[encoded data removed]"
     },
     "metadata": {},
     "output_type": "display_data"
    }
   ],
   "source": [
    "plt.hist(pred_cat.reshape(-1))"
   ],
   "metadata": {
    "collapsed": false
   }
  },
  {
   "cell_type": "code",
   "execution_count": null,
   "outputs": [],
   "source": [],
   "metadata": {
    "collapsed": false
   }
  }
 ],
 "metadata": {
  "kernelspec": {
   "display_name": "Python 3",
   "language": "python",
   "name": "python3"
  },
  "language_info": {
   "codemirror_mode": {
    "name": "ipython",
    "version": 2
   },
   "file_extension": ".py",
   "mimetype": "text/x-python",
   "name": "python",
   "nbconvert_exporter": "python",
   "pygments_lexer": "ipython2",
   "version": "2.7.6"
  }
 },
 "nbformat": 4,
 "nbformat_minor": 0
}
